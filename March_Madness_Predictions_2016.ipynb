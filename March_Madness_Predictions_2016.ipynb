{
 "cells": [
  {
   "cell_type": "markdown",
   "metadata": {},
   "source": [
    "## March Madness Logistic Regression"
   ]
  },
  {
   "cell_type": "code",
   "execution_count": 1,
   "metadata": {
    "collapsed": false
   },
   "outputs": [],
   "source": [
    "%matplotlib inline\n",
    "import matplotlib.pyplot as plt\n",
    "plt.style.use('ggplot')\n",
    "\n",
    "import numpy as np\n",
    "import pandas as pd\n",
    "from sklearn.cross_validation import train_test_split\n",
    "from sklearn.externals import joblib\n",
    "from sklearn.linear_model import LogisticRegression\n",
    "from sklearn.metrics import (auc, classification_report, roc_auc_score, accuracy_score,\n",
    "                             f1_score, log_loss, roc_curve, confusion_matrix, precision_score, recall_score)\n",
    "from sklearn.preprocessing import StandardScaler\n",
    "from math import sin, cos, sqrt, atan2, radians\n",
    "import random\n",
    "import statsmodels.api as sm"
   ]
  },
  {
   "cell_type": "code",
   "execution_count": 2,
   "metadata": {
    "collapsed": false
   },
   "outputs": [],
   "source": [
    "def distance(lat1, lon1, lat2, lon2):\n",
    "\n",
    "    # approximate radius of earth in km\n",
    "    R = 6373.0\n",
    "\n",
    "    lat1 = radians(lat1)\n",
    "    lon1 = radians(lon1)\n",
    "    lat2 = radians(lat2)\n",
    "    lon2 = radians(lon2)\n",
    "\n",
    "    dlon = lon2 - lon1\n",
    "    dlat = lat2 - lat1\n",
    "\n",
    "    a = sin(dlat / 2)**2 + cos(lat1) * cos(lat2) * sin(dlon / 2)**2\n",
    "    c = 2 * atan2(sqrt(a), sqrt(1 - a))\n",
    "\n",
    "    distance = R * c\n",
    "    \n",
    "    return distance"
   ]
  },
  {
   "cell_type": "code",
   "execution_count": 3,
   "metadata": {
    "collapsed": false
   },
   "outputs": [],
   "source": [
    "mm_data = pd.read_csv('NCAA_Tourney_2002-2016.csv')"
   ]
  },
  {
   "cell_type": "code",
   "execution_count": 4,
   "metadata": {
    "collapsed": false
   },
   "outputs": [
    {
     "data": {
      "text/plain": [
       "Index([u'Numot', u'Season', u'game_id', u'host_lat', u'host_long',\n",
       "       u'host_site', u'season', u'team1_id', u'team1_score', u'team2_id',\n",
       "       u'team2_score', u'team1_seed', u'team1_lat', u'team1_long',\n",
       "       u'team1_teamname', u'team1_fg2pct', u'team1_fg3pct', u'team1_ftpct',\n",
       "       u'team1_blockpct', u'team1_oppfg2pct', u'team1_oppfg3pct',\n",
       "       u'team1_oppftpct', u'team1_oppblockpct', u'team1_f3grate',\n",
       "       u'team1_oppf3grate', u'team1_arate', u'team1_opparate',\n",
       "       u'team1_stlrate', u'team1_oppstlrate', u'team1_tempo',\n",
       "       u'team1_adjtempo', u'team1_oe', u'team1_adjoe', u'team1_de',\n",
       "       u'team1_adjde', u'team1_ap_preseason', u'team1_ap_final',\n",
       "       u'team1_coaches_preseason', u'team1_coaches_before_final',\n",
       "       u'team1_rpi_rating', u'team1_coach_id', u'team1_coach_name',\n",
       "       u'team1_pt_school_ncaa', u'team1_pt_overall_ncaa',\n",
       "       u'team1_pt_school_s16', u'team1_pt_overall_s16', u'team1_pt_school_ff',\n",
       "       u'team1_pt_overall_ff', u'team1_pt_career_school_wins',\n",
       "       u'team1_pt_career_school_losses', u'team1_pt_career_overall_losses',\n",
       "       u'team1_pt_team_season_wins', u'team1_pt_team_season_losses',\n",
       "       u'team1_pt_coach_season_wins', u'team1_pt_coach_season_losses',\n",
       "       u'team2_seed', u'team2_lat', u'team2_long', u'team2_teamname',\n",
       "       u'team2_fg2pct', u'team2_fg3pct', u'team2_ftpct', u'team2_blockpct',\n",
       "       u'team2_oppfg2pct', u'team2_oppfg3pct', u'team2_oppftpct',\n",
       "       u'team2_oppblockpct', u'team2_f3grate', u'team2_oppf3grate',\n",
       "       u'team2_arate', u'team2_opparate', u'team2_stlrate',\n",
       "       u'team2_oppstlrate', u'team2_tempo', u'team2_adjtempo', u'team2_oe',\n",
       "       u'team2_adjoe', u'team2_de', u'team2_adjde', u'team2_ap_preseason',\n",
       "       u'team2_ap_final', u'team2_coaches_preseason',\n",
       "       u'team2_coaches_before_final', u'team2_rpi_rating', u'team2_coach_id',\n",
       "       u'team2_coach_name', u'team2_pt_school_ncaa', u'team2_pt_overall_ncaa',\n",
       "       u'team2_pt_school_s16', u'team2_pt_overall_s16', u'team2_pt_school_ff',\n",
       "       u'team2_pt_overall_ff', u'team2_pt_career_school_wins',\n",
       "       u'team2_pt_career_school_losses', u'team2_pt_career_overall_losses',\n",
       "       u'team2_pt_team_season_wins', u'team2_pt_team_season_losses',\n",
       "       u'team2_pt_coach_season_wins', u'team2_pt_coach_season_losses',\n",
       "       u'result'],\n",
       "      dtype='object')"
      ]
     },
     "execution_count": 4,
     "metadata": {},
     "output_type": "execute_result"
    }
   ],
   "source": [
    "mm_data.columns"
   ]
  },
  {
   "cell_type": "code",
   "execution_count": 5,
   "metadata": {
    "collapsed": false
   },
   "outputs": [],
   "source": [
    "mm_data['dist1'] = mm_data.apply(lambda row: distance(row['host_lat'], row['host_long'], row['team1_lat'], row['team1_long']), axis=1)\n",
    "mm_data['dist2'] = mm_data.apply(lambda row: distance(row['host_lat'], row['host_long'], row['team2_lat'], row['team2_long']), axis=1)"
   ]
  },
  {
   "cell_type": "code",
   "execution_count": 7,
   "metadata": {
    "collapsed": true
   },
   "outputs": [],
   "source": [
    "mm_data['diff_dist'] = mm_data['dist1'] - mm_data['dist2']"
   ]
  },
  {
   "cell_type": "markdown",
   "metadata": {},
   "source": [
    "## Pythag College Basketball\n",
    "E(W%) = points scored^11.5 / (points scored^11.5+points allowed^11.5)"
   ]
  },
  {
   "cell_type": "code",
   "execution_count": 8,
   "metadata": {
    "collapsed": true
   },
   "outputs": [],
   "source": [
    "mm_data['exp_win1'] = (mm_data['team1_adjoe']**11.5)/ ((mm_data['team1_adjde']**11.5)+(mm_data['team1_adjoe']**11.5))\n",
    "mm_data['exp_win2'] = (mm_data['team2_adjoe']**11.5)/ ((mm_data['team2_adjde']**11.5)+(mm_data['team2_adjoe']**11.5))"
   ]
  },
  {
   "cell_type": "markdown",
   "metadata": {},
   "source": [
    "## Log 5\n",
    "P(W) = (A - A * B) / (A + B - 2*A*B)"
   ]
  },
  {
   "cell_type": "code",
   "execution_count": 9,
   "metadata": {
    "collapsed": true
   },
   "outputs": [],
   "source": [
    "mm_data['team1_log5'] = (mm_data['exp_win1'] - (mm_data['exp_win1']*mm_data['exp_win2']))/ (mm_data['exp_win1']+mm_data['exp_win2']-(2*mm_data['exp_win1']*mm_data['exp_win2']))"
   ]
  },
  {
   "cell_type": "code",
   "execution_count": 10,
   "metadata": {
    "collapsed": false
   },
   "outputs": [
    {
     "data": {
      "text/html": [
       "<div>\n",
       "<table border=\"1\" class=\"dataframe\">\n",
       "  <thead>\n",
       "    <tr style=\"text-align: right;\">\n",
       "      <th></th>\n",
       "      <th>team1_adjoe</th>\n",
       "      <th>team1_teamname</th>\n",
       "      <th>season</th>\n",
       "      <th>team2_teamname</th>\n",
       "      <th>team1_adjde</th>\n",
       "      <th>exp_win1</th>\n",
       "      <th>exp_win2</th>\n",
       "      <th>team1_log5</th>\n",
       "    </tr>\n",
       "  </thead>\n",
       "  <tbody>\n",
       "    <tr>\n",
       "      <th>0</th>\n",
       "      <td>111.4954</td>\n",
       "      <td>Alabama</td>\n",
       "      <td>2002</td>\n",
       "      <td>Florida Atlantic</td>\n",
       "      <td>93.8770</td>\n",
       "      <td>0.878465</td>\n",
       "      <td>0.411542</td>\n",
       "      <td>0.911780</td>\n",
       "    </tr>\n",
       "    <tr>\n",
       "      <th>1</th>\n",
       "      <td>117.3877</td>\n",
       "      <td>Arizona</td>\n",
       "      <td>2002</td>\n",
       "      <td>UC Santa Barbara</td>\n",
       "      <td>96.9262</td>\n",
       "      <td>0.900485</td>\n",
       "      <td>0.707177</td>\n",
       "      <td>0.789333</td>\n",
       "    </tr>\n",
       "    <tr>\n",
       "      <th>2</th>\n",
       "      <td>109.6136</td>\n",
       "      <td>Indiana</td>\n",
       "      <td>2002</td>\n",
       "      <td>Utah</td>\n",
       "      <td>89.9224</td>\n",
       "      <td>0.906968</td>\n",
       "      <td>0.812015</td>\n",
       "      <td>0.692962</td>\n",
       "    </tr>\n",
       "    <tr>\n",
       "      <th>3</th>\n",
       "      <td>115.0406</td>\n",
       "      <td>Kansas</td>\n",
       "      <td>2002</td>\n",
       "      <td>Holy Cross</td>\n",
       "      <td>90.5399</td>\n",
       "      <td>0.940149</td>\n",
       "      <td>0.501475</td>\n",
       "      <td>0.939816</td>\n",
       "    </tr>\n",
       "    <tr>\n",
       "      <th>4</th>\n",
       "      <td>113.6686</td>\n",
       "      <td>Kent St.</td>\n",
       "      <td>2002</td>\n",
       "      <td>Oklahoma St.</td>\n",
       "      <td>96.2010</td>\n",
       "      <td>0.871998</td>\n",
       "      <td>0.809638</td>\n",
       "      <td>0.615641</td>\n",
       "    </tr>\n",
       "  </tbody>\n",
       "</table>\n",
       "</div>"
      ],
      "text/plain": [
       "   team1_adjoe team1_teamname  season    team2_teamname  team1_adjde  \\\n",
       "0     111.4954        Alabama    2002  Florida Atlantic      93.8770   \n",
       "1     117.3877        Arizona    2002  UC Santa Barbara      96.9262   \n",
       "2     109.6136        Indiana    2002              Utah      89.9224   \n",
       "3     115.0406         Kansas    2002        Holy Cross      90.5399   \n",
       "4     113.6686       Kent St.    2002      Oklahoma St.      96.2010   \n",
       "\n",
       "   exp_win1  exp_win2  team1_log5  \n",
       "0  0.878465  0.411542    0.911780  \n",
       "1  0.900485  0.707177    0.789333  \n",
       "2  0.906968  0.812015    0.692962  \n",
       "3  0.940149  0.501475    0.939816  \n",
       "4  0.871998  0.809638    0.615641  "
      ]
     },
     "execution_count": 10,
     "metadata": {},
     "output_type": "execute_result"
    }
   ],
   "source": [
    "mm_data[['team1_adjoe','team1_teamname','season','team2_teamname','team1_adjde','exp_win1','exp_win2','team1_log5']].head()"
   ]
  },
  {
   "cell_type": "markdown",
   "metadata": {},
   "source": [
    "## Seed Diff"
   ]
  },
  {
   "cell_type": "code",
   "execution_count": 11,
   "metadata": {
    "collapsed": false
   },
   "outputs": [],
   "source": [
    "mm_data['seed_diff'] = mm_data['team1_seed'] - mm_data['team2_seed']"
   ]
  },
  {
   "cell_type": "code",
   "execution_count": 12,
   "metadata": {
    "collapsed": false
   },
   "outputs": [
    {
     "data": {
      "text/html": [
       "<div>\n",
       "<table border=\"1\" class=\"dataframe\">\n",
       "  <thead>\n",
       "    <tr style=\"text-align: right;\">\n",
       "      <th></th>\n",
       "      <th>game_id</th>\n",
       "      <th>exp_win1</th>\n",
       "      <th>exp_win2</th>\n",
       "      <th>team2_score</th>\n",
       "      <th>team1_score</th>\n",
       "      <th>diff_dist</th>\n",
       "      <th>team1_log5</th>\n",
       "      <th>team1_id</th>\n",
       "      <th>team2_id</th>\n",
       "    </tr>\n",
       "  </thead>\n",
       "  <tbody>\n",
       "    <tr>\n",
       "      <th>0</th>\n",
       "      <td>2002-1104-1194</td>\n",
       "      <td>0.878465</td>\n",
       "      <td>0.411542</td>\n",
       "      <td>78</td>\n",
       "      <td>86</td>\n",
       "      <td>-88.820532</td>\n",
       "      <td>0.911780</td>\n",
       "      <td>1104</td>\n",
       "      <td>1194</td>\n",
       "    </tr>\n",
       "    <tr>\n",
       "      <th>1</th>\n",
       "      <td>2002-1112-1364</td>\n",
       "      <td>0.900485</td>\n",
       "      <td>0.707177</td>\n",
       "      <td>81</td>\n",
       "      <td>86</td>\n",
       "      <td>-697.542289</td>\n",
       "      <td>0.789333</td>\n",
       "      <td>1112</td>\n",
       "      <td>1364</td>\n",
       "    </tr>\n",
       "    <tr>\n",
       "      <th>2</th>\n",
       "      <td>2002-1231-1428</td>\n",
       "      <td>0.906968</td>\n",
       "      <td>0.812015</td>\n",
       "      <td>56</td>\n",
       "      <td>75</td>\n",
       "      <td>2148.977013</td>\n",
       "      <td>0.692962</td>\n",
       "      <td>1231</td>\n",
       "      <td>1428</td>\n",
       "    </tr>\n",
       "    <tr>\n",
       "      <th>3</th>\n",
       "      <td>2002-1242-1221</td>\n",
       "      <td>0.940149</td>\n",
       "      <td>0.501475</td>\n",
       "      <td>59</td>\n",
       "      <td>70</td>\n",
       "      <td>-39.535171</td>\n",
       "      <td>0.939816</td>\n",
       "      <td>1242</td>\n",
       "      <td>1221</td>\n",
       "    </tr>\n",
       "    <tr>\n",
       "      <th>4</th>\n",
       "      <td>2002-1245-1329</td>\n",
       "      <td>0.871998</td>\n",
       "      <td>0.809638</td>\n",
       "      <td>61</td>\n",
       "      <td>69</td>\n",
       "      <td>-1066.404958</td>\n",
       "      <td>0.615641</td>\n",
       "      <td>1245</td>\n",
       "      <td>1329</td>\n",
       "    </tr>\n",
       "  </tbody>\n",
       "</table>\n",
       "</div>"
      ],
      "text/plain": [
       "          game_id  exp_win1  exp_win2  team2_score  team1_score    diff_dist  \\\n",
       "0  2002-1104-1194  0.878465  0.411542           78           86   -88.820532   \n",
       "1  2002-1112-1364  0.900485  0.707177           81           86  -697.542289   \n",
       "2  2002-1231-1428  0.906968  0.812015           56           75  2148.977013   \n",
       "3  2002-1242-1221  0.940149  0.501475           59           70   -39.535171   \n",
       "4  2002-1245-1329  0.871998  0.809638           61           69 -1066.404958   \n",
       "\n",
       "   team1_log5  team1_id  team2_id  \n",
       "0    0.911780      1104      1194  \n",
       "1    0.789333      1112      1364  \n",
       "2    0.692962      1231      1428  \n",
       "3    0.939816      1242      1221  \n",
       "4    0.615641      1245      1329  "
      ]
     },
     "execution_count": 12,
     "metadata": {},
     "output_type": "execute_result"
    }
   ],
   "source": [
    "mm_data[['game_id','exp_win1','exp_win2','team2_score','team1_score','diff_dist','team1_log5','team1_id','team2_id']].head()"
   ]
  },
  {
   "cell_type": "markdown",
   "metadata": {},
   "source": [
    "## Split Data"
   ]
  },
  {
   "cell_type": "code",
   "execution_count": 13,
   "metadata": {
    "collapsed": false
   },
   "outputs": [],
   "source": [
    "mm_data.dropna(subset=['team1_log5'], inplace=True)"
   ]
  },
  {
   "cell_type": "code",
   "execution_count": 14,
   "metadata": {
    "collapsed": true
   },
   "outputs": [],
   "source": [
    "mm_data['team1_win'] = mm_data['result']"
   ]
  },
  {
   "cell_type": "code",
   "execution_count": 15,
   "metadata": {
    "collapsed": false
   },
   "outputs": [
    {
     "data": {
      "text/plain": [
       "(34, 108)"
      ]
     },
     "execution_count": 15,
     "metadata": {},
     "output_type": "execute_result"
    }
   ],
   "source": [
    "def shuffle(df):     \n",
    "    df = df.reindex(np.random.permutation(df.index)).copy()\n",
    "    return df.reset_index(drop=True)\n",
    "my_randoms = random.sample(xrange(len(mm_data)), len(mm_data)/2)\n",
    "mm_data[(~mm_data.index.isin(my_randoms))&(mm_data.season==2015)].shape"
   ]
  },
  {
   "cell_type": "code",
   "execution_count": 16,
   "metadata": {
    "collapsed": false
   },
   "outputs": [],
   "source": [
    "mm_data = shuffle(mm_data)"
   ]
  },
  {
   "cell_type": "code",
   "execution_count": 17,
   "metadata": {
    "collapsed": false
   },
   "outputs": [],
   "source": [
    "my_randoms = random.sample(xrange(len(mm_data)), len(mm_data)/2)"
   ]
  },
  {
   "cell_type": "code",
   "execution_count": 18,
   "metadata": {
    "collapsed": false
   },
   "outputs": [
    {
     "data": {
      "text/plain": [
       "(37, 108)"
      ]
     },
     "execution_count": 18,
     "metadata": {},
     "output_type": "execute_result"
    }
   ],
   "source": [
    "mm_data[(~mm_data.index.isin(my_randoms))&(mm_data.season==2015)].shape"
   ]
  },
  {
   "cell_type": "code",
   "execution_count": 19,
   "metadata": {
    "collapsed": false
   },
   "outputs": [],
   "source": [
    "mm_data_1 = mm_data[~mm_data.index.isin(my_randoms)][['game_id','season','team1_win','exp_win1','exp_win2','team2_score',\n",
    "                                                      'team1_score','diff_dist','team1_log5','team1_id','team2_id','seed_diff']].reset_index(drop=True)\n",
    "mm_data_2 = mm_data[mm_data.index.isin(my_randoms)][['game_id','season','team1_win','exp_win1','exp_win2','team2_score',\n",
    "                                    'team1_score','diff_dist','team1_log5','team1_id','team2_id','seed_diff']].reset_index(drop=True)"
   ]
  },
  {
   "cell_type": "code",
   "execution_count": 23,
   "metadata": {
    "collapsed": false
   },
   "outputs": [],
   "source": [
    "mm_data_2['team1_win'] = mm_data_2['team1_win'].apply(lambda x: 1 if x==0 else 0)\n",
    "mm_data_2['diff_dist'] = mm_data_2['diff_dist']*-1\n",
    "mm_data_2['team1_log5'] = 1-mm_data_2['team1_log5']\n",
    "mm_data['seed_diff'] = mm_data['seed_diff']*-1\n",
    "mm_data_2.columns = ['game_id', 'season', 'team1_win', 'exp_win2', 'exp_win1', 'team1_score', 'team2_score', 'diff_dist', 'team1_log5',\n",
    " 'team2_id', 'team1_id','seed_diff']"
   ]
  },
  {
   "cell_type": "code",
   "execution_count": 24,
   "metadata": {
    "collapsed": true
   },
   "outputs": [],
   "source": [
    "mm_train = pd.concat([mm_data_2, mm_data_1])"
   ]
  },
  {
   "cell_type": "code",
   "execution_count": 54,
   "metadata": {
    "collapsed": true
   },
   "outputs": [],
   "source": [
    "mm_data_2016 = mm_train[mm_train['season'] == 2016].reset_index(drop=True)\n",
    "mm_data_else =  mm_train[mm_train['season'] <> 2016].reset_index(drop=True)"
   ]
  },
  {
   "cell_type": "markdown",
   "metadata": {},
   "source": [
    "## Initial Check"
   ]
  },
  {
   "cell_type": "code",
   "execution_count": 55,
   "metadata": {
    "collapsed": false
   },
   "outputs": [
    {
     "data": {
      "text/plain": [
       "team1_win\n",
       "0    0.379062\n",
       "1    0.622609\n",
       "Name: team1_log5, dtype: float64"
      ]
     },
     "execution_count": 55,
     "metadata": {},
     "output_type": "execute_result"
    }
   ],
   "source": [
    "mm_data_else.groupby('team1_win')['team1_log5'].mean()"
   ]
  },
  {
   "cell_type": "code",
   "execution_count": 56,
   "metadata": {
    "collapsed": false
   },
   "outputs": [
    {
     "data": {
      "text/plain": [
       "team1_win\n",
       "0   -0.016949\n",
       "1   -0.104784\n",
       "Name: seed_diff, dtype: float64"
      ]
     },
     "execution_count": 56,
     "metadata": {},
     "output_type": "execute_result"
    }
   ],
   "source": [
    "mm_data_else.groupby('team1_win')['seed_diff'].mean()"
   ]
  },
  {
   "cell_type": "code",
   "execution_count": 57,
   "metadata": {
    "collapsed": false
   },
   "outputs": [
    {
     "data": {
      "text/plain": [
       "team1_win\n",
       "0    187.924021\n",
       "1   -123.308322\n",
       "Name: diff_dist, dtype: float64"
      ]
     },
     "execution_count": 57,
     "metadata": {},
     "output_type": "execute_result"
    }
   ],
   "source": [
    "mm_data_else.groupby('team1_win')['diff_dist'].mean()"
   ]
  },
  {
   "cell_type": "markdown",
   "metadata": {},
   "source": [
    "## Train Logit"
   ]
  },
  {
   "cell_type": "code",
   "execution_count": 58,
   "metadata": {
    "collapsed": false
   },
   "outputs": [
    {
     "data": {
      "text/plain": [
       "LogisticRegression(C=1.0, class_weight=None, dual=False, fit_intercept=True,\n",
       "          intercept_scaling=1, penalty='l2', random_state=None, tol=0.0001)"
      ]
     },
     "execution_count": 58,
     "metadata": {},
     "output_type": "execute_result"
    }
   ],
   "source": [
    "scaler = StandardScaler()\n",
    "mm_train_scaled = scaler.fit_transform(mm_data_else[['team1_log5']])\n",
    "logit = LogisticRegression()\n",
    "logit.fit(mm_train_scaled, mm_data_else['team1_win'])"
   ]
  },
  {
   "cell_type": "code",
   "execution_count": 59,
   "metadata": {
    "collapsed": false
   },
   "outputs": [
    {
     "name": "stdout",
     "output_type": "stream",
     "text": [
      "Optimization terminated successfully.\n",
      "         Current function value: 0.675154\n",
      "         Iterations 4\n"
     ]
    },
    {
     "data": {
      "text/html": [
       "<table class=\"simpletable\">\n",
       "<caption>Logit Regression Results</caption>\n",
       "<tr>\n",
       "  <th>Dep. Variable:</th>     <td>team1_win</td>    <th>  No. Observations:  </th>  <td>   911</td> \n",
       "</tr>\n",
       "<tr>\n",
       "  <th>Model:</th>               <td>Logit</td>      <th>  Df Residuals:      </th>  <td>   910</td> \n",
       "</tr>\n",
       "<tr>\n",
       "  <th>Method:</th>               <td>MLE</td>       <th>  Df Model:          </th>  <td>     0</td> \n",
       "</tr>\n",
       "<tr>\n",
       "  <th>Date:</th>          <td>Tue, 07 Feb 2017</td> <th>  Pseudo R-squ.:     </th>  <td>0.02504</td>\n",
       "</tr>\n",
       "<tr>\n",
       "  <th>Time:</th>              <td>14:31:18</td>     <th>  Log-Likelihood:    </th> <td> -615.07</td>\n",
       "</tr>\n",
       "<tr>\n",
       "  <th>converged:</th>           <td>True</td>       <th>  LL-Null:           </th> <td> -630.86</td>\n",
       "</tr>\n",
       "<tr>\n",
       "  <th> </th>                      <td> </td>        <th>  LLR p-value:       </th>  <td>   nan</td> \n",
       "</tr>\n",
       "</table>\n",
       "<table class=\"simpletable\">\n",
       "<tr>\n",
       "       <td></td>         <th>coef</th>     <th>std err</th>      <th>z</th>      <th>P>|z|</th> <th>[95.0% Conf. Int.]</th> \n",
       "</tr>\n",
       "<tr>\n",
       "  <th>team1_log5</th> <td>    0.7015</td> <td>    0.124</td> <td>    5.641</td> <td> 0.000</td> <td>    0.458     0.945</td>\n",
       "</tr>\n",
       "</table>"
      ],
      "text/plain": [
       "<class 'statsmodels.iolib.summary.Summary'>\n",
       "\"\"\"\n",
       "                           Logit Regression Results                           \n",
       "==============================================================================\n",
       "Dep. Variable:              team1_win   No. Observations:                  911\n",
       "Model:                          Logit   Df Residuals:                      910\n",
       "Method:                           MLE   Df Model:                            0\n",
       "Date:                Tue, 07 Feb 2017   Pseudo R-squ.:                 0.02504\n",
       "Time:                        14:31:18   Log-Likelihood:                -615.07\n",
       "converged:                       True   LL-Null:                       -630.86\n",
       "                                        LLR p-value:                       nan\n",
       "==============================================================================\n",
       "                 coef    std err          z      P>|z|      [95.0% Conf. Int.]\n",
       "------------------------------------------------------------------------------\n",
       "team1_log5     0.7015      0.124      5.641      0.000         0.458     0.945\n",
       "==============================================================================\n",
       "\"\"\""
      ]
     },
     "execution_count": 59,
     "metadata": {},
     "output_type": "execute_result"
    }
   ],
   "source": [
    "smlogit = sm.Logit(mm_data_else['team1_win'], mm_data_else['team1_log5']).fit()\n",
    "smlogit.summary()"
   ]
  },
  {
   "cell_type": "code",
   "execution_count": 60,
   "metadata": {
    "collapsed": false
   },
   "outputs": [],
   "source": [
    "mm_data_2016['preds'] = logit.predict_proba(scaler.fit_transform(mm_data_2016[['team1_log5']]))[:,1]\n",
    "mm_data_2016['prediction'] = logit.predict(scaler.fit_transform(mm_data_2016[['team1_log5']]))"
   ]
  },
  {
   "cell_type": "code",
   "execution_count": 61,
   "metadata": {
    "collapsed": false
   },
   "outputs": [
    {
     "data": {
      "text/html": [
       "<div>\n",
       "<table border=\"1\" class=\"dataframe\">\n",
       "  <thead>\n",
       "    <tr style=\"text-align: right;\">\n",
       "      <th></th>\n",
       "      <th>team1_log5</th>\n",
       "      <th>team1_win</th>\n",
       "      <th>preds</th>\n",
       "      <th>prediction</th>\n",
       "    </tr>\n",
       "  </thead>\n",
       "  <tbody>\n",
       "    <tr>\n",
       "      <th>0</th>\n",
       "      <td>0.556931</td>\n",
       "      <td>1</td>\n",
       "      <td>0.503910</td>\n",
       "      <td>1</td>\n",
       "    </tr>\n",
       "    <tr>\n",
       "      <th>1</th>\n",
       "      <td>0.323553</td>\n",
       "      <td>0</td>\n",
       "      <td>0.203026</td>\n",
       "      <td>0</td>\n",
       "    </tr>\n",
       "    <tr>\n",
       "      <th>2</th>\n",
       "      <td>0.310680</td>\n",
       "      <td>0</td>\n",
       "      <td>0.190960</td>\n",
       "      <td>0</td>\n",
       "    </tr>\n",
       "    <tr>\n",
       "      <th>3</th>\n",
       "      <td>0.947323</td>\n",
       "      <td>1</td>\n",
       "      <td>0.911277</td>\n",
       "      <td>1</td>\n",
       "    </tr>\n",
       "    <tr>\n",
       "      <th>4</th>\n",
       "      <td>0.683007</td>\n",
       "      <td>1</td>\n",
       "      <td>0.681970</td>\n",
       "      <td>1</td>\n",
       "    </tr>\n",
       "  </tbody>\n",
       "</table>\n",
       "</div>"
      ],
      "text/plain": [
       "   team1_log5  team1_win     preds  prediction\n",
       "0    0.556931          1  0.503910           1\n",
       "1    0.323553          0  0.203026           0\n",
       "2    0.310680          0  0.190960           0\n",
       "3    0.947323          1  0.911277           1\n",
       "4    0.683007          1  0.681970           1"
      ]
     },
     "execution_count": 61,
     "metadata": {},
     "output_type": "execute_result"
    }
   ],
   "source": [
    "mm_data_2016[['team1_log5','team1_win','preds','prediction']].head()"
   ]
  },
  {
   "cell_type": "code",
   "execution_count": 62,
   "metadata": {
    "collapsed": false
   },
   "outputs": [
    {
     "data": {
      "text/plain": [
       "team1_win\n",
       "0    0.333227\n",
       "1    0.606736\n",
       "Name: preds, dtype: float64"
      ]
     },
     "execution_count": 62,
     "metadata": {},
     "output_type": "execute_result"
    }
   ],
   "source": [
    "mm_data_2016.groupby('team1_win')['preds'].mean()"
   ]
  },
  {
   "cell_type": "code",
   "execution_count": 63,
   "metadata": {
    "collapsed": false
   },
   "outputs": [
    {
     "data": {
      "text/plain": [
       "<matplotlib.axes._subplots.AxesSubplot at 0xc3c9198>"
      ]
     },
     "execution_count": 63,
     "metadata": {},
     "output_type": "execute_result"
    },
    {
     "data": {
      "image/png": "[encoded data removed]",
      "text/plain": [
       "<matplotlib.figure.Figure at 0xc41e400>"
      ]
     },
     "metadata": {},
     "output_type": "display_data"
    }
   ],
   "source": [
    "mm_data_2016.plot(kind='scatter', x='preds',y='team1_log5')"
   ]
  },
  {
   "cell_type": "code",
   "execution_count": 64,
   "metadata": {
    "collapsed": false
   },
   "outputs": [
    {
     "data": {
      "text/plain": [
       "array([[24,  7],\n",
       "       [12, 24]])"
      ]
     },
     "execution_count": 64,
     "metadata": {},
     "output_type": "execute_result"
    }
   ],
   "source": [
    "confusion_matrix(mm_data_2016['team1_win'], mm_data_2016['prediction'])"
   ]
  },
  {
   "cell_type": "code",
   "execution_count": 65,
   "metadata": {
    "collapsed": false
   },
   "outputs": [
    {
     "data": {
      "text/plain": [
       "0.71641791044776115"
      ]
     },
     "execution_count": 65,
     "metadata": {},
     "output_type": "execute_result"
    }
   ],
   "source": [
    "accuracy_score(mm_data_2016['team1_win'], mm_data_2016['prediction'],)"
   ]
  },
  {
   "cell_type": "code",
   "execution_count": 66,
   "metadata": {
    "collapsed": false
   },
   "outputs": [
    {
     "data": {
      "text/plain": [
       "0.77419354838709675"
      ]
     },
     "execution_count": 66,
     "metadata": {},
     "output_type": "execute_result"
    }
   ],
   "source": [
    "precision_score(mm_data_2016['team1_win'], mm_data_2016['prediction'])"
   ]
  },
  {
   "cell_type": "code",
   "execution_count": 67,
   "metadata": {
    "collapsed": false
   },
   "outputs": [
    {
     "data": {
      "text/plain": [
       "0.66666666666666663"
      ]
     },
     "execution_count": 67,
     "metadata": {},
     "output_type": "execute_result"
    }
   ],
   "source": [
    "recall_score(mm_data_2016['team1_win'], mm_data_2016['prediction'])"
   ]
  },
  {
   "cell_type": "code",
   "execution_count": 68,
   "metadata": {
    "collapsed": false
   },
   "outputs": [
    {
     "data": {
      "text/plain": [
       "0.71641791044776115"
      ]
     },
     "execution_count": 68,
     "metadata": {},
     "output_type": "execute_result"
    }
   ],
   "source": [
    "f1_score(mm_data_2016['team1_win'], mm_data_2016['prediction'])"
   ]
  },
  {
   "cell_type": "code",
   "execution_count": 69,
   "metadata": {
    "collapsed": false
   },
   "outputs": [
    {
     "data": {
      "text/plain": [
       "0.54855188374610131"
      ]
     },
     "execution_count": 69,
     "metadata": {},
     "output_type": "execute_result"
    }
   ],
   "source": [
    "log_loss(mm_data_2016['team1_win'].values, mm_data_2016['preds'].values)"
   ]
  },
  {
   "cell_type": "code",
   "execution_count": 70,
   "metadata": {
    "collapsed": true
   },
   "outputs": [],
   "source": [
    "def plot_roc(fpr, tpr, roc_auc):\n",
    "    \"\"\"Plots the ROC curve for the win probability model along with\n",
    "    the AUC.\n",
    "    \"\"\"\n",
    "    fig, ax = plt.subplots()\n",
    "    ax.set(title='Receiver Operating Characteristic',\n",
    "           xlim=[0, 1], ylim=[0, 1], xlabel='False Positive Rate',\n",
    "           ylabel='True Positive Rate')\n",
    "    ax.plot(fpr, tpr, 'b', label='AUC = %0.2f' % roc_auc)\n",
    "    ax.plot([0, 1], [0, 1], 'k--')\n",
    "    ax.legend(loc='lower right')"
   ]
  },
  {
   "cell_type": "code",
   "execution_count": 71,
   "metadata": {
    "collapsed": false
   },
   "outputs": [
    {
     "data": {
      "image/png": "[encoded data removed]",
      "text/plain": [
       "<matplotlib.figure.Figure at 0xc65c8d0>"
      ]
     },
     "metadata": {},
     "output_type": "display_data"
    }
   ],
   "source": [
    "fpr, tpr, thresholds = roc_curve(mm_data_2016['team1_win'].values, mm_data_2016['preds'].values)\n",
    "roc_auc = auc(fpr, tpr)\n",
    "plot_roc(fpr, tpr, roc_auc)"
   ]
  },
  {
   "cell_type": "code",
   "execution_count": 72,
   "metadata": {
    "collapsed": false
   },
   "outputs": [
    {
     "data": {
      "text/plain": [
       "0.79749103942652333"
      ]
     },
     "execution_count": 72,
     "metadata": {},
     "output_type": "execute_result"
    }
   ],
   "source": [
    "roc_auc_score(mm_data_2016['team1_win'].values, mm_data_2016['preds'].values)"
   ]
  },
  {
   "cell_type": "markdown",
   "metadata": {},
   "source": [
    "## Add Seed Difference & Distance"
   ]
  },
  {
   "cell_type": "code",
   "execution_count": 73,
   "metadata": {
    "collapsed": false
   },
   "outputs": [
    {
     "data": {
      "text/plain": [
       "LogisticRegression(C=1.0, class_weight=None, dual=False, fit_intercept=True,\n",
       "          intercept_scaling=1, penalty='l2', random_state=None, tol=0.0001)"
      ]
     },
     "execution_count": 73,
     "metadata": {},
     "output_type": "execute_result"
    }
   ],
   "source": [
    "scaler = StandardScaler()\n",
    "mm_train_scaled = scaler.fit_transform(mm_data_else[['team1_log5','diff_dist','seed_diff']])\n",
    "logit = LogisticRegression()\n",
    "logit.fit(mm_train_scaled, mm_data_else['team1_win'])"
   ]
  },
  {
   "cell_type": "code",
   "execution_count": 74,
   "metadata": {
    "collapsed": false
   },
   "outputs": [
    {
     "name": "stdout",
     "output_type": "stream",
     "text": [
      "Optimization terminated successfully.\n",
      "         Current function value: 0.666556\n",
      "         Iterations 4\n"
     ]
    },
    {
     "data": {
      "text/html": [
       "<table class=\"simpletable\">\n",
       "<caption>Logit Regression Results</caption>\n",
       "<tr>\n",
       "  <th>Dep. Variable:</th>     <td>team1_win</td>    <th>  No. Observations:  </th>  <td>   911</td>  \n",
       "</tr>\n",
       "<tr>\n",
       "  <th>Model:</th>               <td>Logit</td>      <th>  Df Residuals:      </th>  <td>   908</td>  \n",
       "</tr>\n",
       "<tr>\n",
       "  <th>Method:</th>               <td>MLE</td>       <th>  Df Model:          </th>  <td>     2</td>  \n",
       "</tr>\n",
       "<tr>\n",
       "  <th>Date:</th>          <td>Tue, 07 Feb 2017</td> <th>  Pseudo R-squ.:     </th>  <td>0.03745</td> \n",
       "</tr>\n",
       "<tr>\n",
       "  <th>Time:</th>              <td>14:31:28</td>     <th>  Log-Likelihood:    </th> <td> -607.23</td> \n",
       "</tr>\n",
       "<tr>\n",
       "  <th>converged:</th>           <td>True</td>       <th>  LL-Null:           </th> <td> -630.86</td> \n",
       "</tr>\n",
       "<tr>\n",
       "  <th> </th>                      <td> </td>        <th>  LLR p-value:       </th> <td>5.483e-11</td>\n",
       "</tr>\n",
       "</table>\n",
       "<table class=\"simpletable\">\n",
       "<tr>\n",
       "       <td></td>         <th>coef</th>     <th>std err</th>      <th>z</th>      <th>P>|z|</th> <th>[95.0% Conf. Int.]</th> \n",
       "</tr>\n",
       "<tr>\n",
       "  <th>team1_log5</th> <td>    0.6938</td> <td>    0.126</td> <td>    5.518</td> <td> 0.000</td> <td>    0.447     0.940</td>\n",
       "</tr>\n",
       "<tr>\n",
       "  <th>diff_dist</th>  <td>   -0.0002</td> <td> 6.04e-05</td> <td>   -3.892</td> <td> 0.000</td> <td>   -0.000    -0.000</td>\n",
       "</tr>\n",
       "<tr>\n",
       "  <th>seed_diff</th>  <td>   -0.0013</td> <td>    0.009</td> <td>   -0.139</td> <td> 0.890</td> <td>   -0.019     0.017</td>\n",
       "</tr>\n",
       "</table>"
      ],
      "text/plain": [
       "<class 'statsmodels.iolib.summary.Summary'>\n",
       "\"\"\"\n",
       "                           Logit Regression Results                           \n",
       "==============================================================================\n",
       "Dep. Variable:              team1_win   No. Observations:                  911\n",
       "Model:                          Logit   Df Residuals:                      908\n",
       "Method:                           MLE   Df Model:                            2\n",
       "Date:                Tue, 07 Feb 2017   Pseudo R-squ.:                 0.03745\n",
       "Time:                        14:31:28   Log-Likelihood:                -607.23\n",
       "converged:                       True   LL-Null:                       -630.86\n",
       "                                        LLR p-value:                 5.483e-11\n",
       "==============================================================================\n",
       "                 coef    std err          z      P>|z|      [95.0% Conf. Int.]\n",
       "------------------------------------------------------------------------------\n",
       "team1_log5     0.6938      0.126      5.518      0.000         0.447     0.940\n",
       "diff_dist     -0.0002   6.04e-05     -3.892      0.000        -0.000    -0.000\n",
       "seed_diff     -0.0013      0.009     -0.139      0.890        -0.019     0.017\n",
       "==============================================================================\n",
       "\"\"\""
      ]
     },
     "execution_count": 74,
     "metadata": {},
     "output_type": "execute_result"
    }
   ],
   "source": [
    "smlogit = sm.Logit(mm_data_else['team1_win'], mm_data_else[['team1_log5','diff_dist','seed_diff']]).fit()\n",
    "smlogit.summary()"
   ]
  },
  {
   "cell_type": "code",
   "execution_count": 75,
   "metadata": {
    "collapsed": true
   },
   "outputs": [],
   "source": [
    "mm_data_2016['preds'] = logit.predict_proba(scaler.fit_transform(mm_data_2016[['team1_log5','diff_dist','seed_diff']]))[:,1]\n",
    "mm_data_2016['prediction'] = logit.predict(scaler.fit_transform(mm_data_2016[['team1_log5','diff_dist','seed_diff']]))"
   ]
  },
  {
   "cell_type": "code",
   "execution_count": 76,
   "metadata": {
    "collapsed": false
   },
   "outputs": [
    {
     "data": {
      "text/plain": [
       "0.68656716417910446"
      ]
     },
     "execution_count": 76,
     "metadata": {},
     "output_type": "execute_result"
    }
   ],
   "source": [
    "accuracy_score(mm_data_2016['team1_win'], mm_data_2016['prediction'],)"
   ]
  },
  {
   "cell_type": "code",
   "execution_count": 77,
   "metadata": {
    "collapsed": false
   },
   "outputs": [
    {
     "data": {
      "text/plain": [
       "0.74193548387096775"
      ]
     },
     "execution_count": 77,
     "metadata": {},
     "output_type": "execute_result"
    }
   ],
   "source": [
    "precision_score(mm_data_2016['team1_win'], mm_data_2016['prediction'])"
   ]
  },
  {
   "cell_type": "code",
   "execution_count": 78,
   "metadata": {
    "collapsed": false
   },
   "outputs": [
    {
     "data": {
      "text/plain": [
       "0.63888888888888884"
      ]
     },
     "execution_count": 78,
     "metadata": {},
     "output_type": "execute_result"
    }
   ],
   "source": [
    "recall_score(mm_data_2016['team1_win'], mm_data_2016['prediction'])"
   ]
  },
  {
   "cell_type": "code",
   "execution_count": 79,
   "metadata": {
    "collapsed": false
   },
   "outputs": [
    {
     "data": {
      "text/plain": [
       "0.68656716417910446"
      ]
     },
     "execution_count": 79,
     "metadata": {},
     "output_type": "execute_result"
    }
   ],
   "source": [
    "f1_score(mm_data_2016['team1_win'], mm_data_2016['prediction'])"
   ]
  },
  {
   "cell_type": "code",
   "execution_count": 80,
   "metadata": {
    "collapsed": false
   },
   "outputs": [
    {
     "data": {
      "text/plain": [
       "0.54162423806937987"
      ]
     },
     "execution_count": 80,
     "metadata": {},
     "output_type": "execute_result"
    }
   ],
   "source": [
    "log_loss(mm_data_2016['team1_win'].values, mm_data_2016['preds'].values)"
   ]
  },
  {
   "cell_type": "code",
   "execution_count": 81,
   "metadata": {
    "collapsed": false
   },
   "outputs": [
    {
     "data": {
      "image/png": "[encoded data removed]",
      "text/plain": [
       "<matplotlib.figure.Figure at 0xc87b1d0>"
      ]
     },
     "metadata": {},
     "output_type": "display_data"
    }
   ],
   "source": [
    "fpr, tpr, thresholds = roc_curve(mm_data_2016['team1_win'].values, mm_data_2016['preds'].values)\n",
    "roc_auc = auc(fpr, tpr)\n",
    "plot_roc(fpr, tpr, roc_auc)"
   ]
  },
  {
   "cell_type": "code",
   "execution_count": 82,
   "metadata": {
    "collapsed": false
   },
   "outputs": [
    {
     "data": {
      "text/plain": [
       "0.80913978494623651"
      ]
     },
     "execution_count": 82,
     "metadata": {},
     "output_type": "execute_result"
    }
   ],
   "source": [
    "roc_auc_score(mm_data_2016['team1_win'].values, mm_data_2016['preds'].values)"
   ]
  }
 ],
 "metadata": {
  "kernelspec": {
   "display_name": "Python 2",
   "language": "python",
   "name": "python2"
  },
  "language_info": {
   "codemirror_mode": {
    "name": "ipython",
    "version": 2
   },
   "file_extension": ".py",
   "mimetype": "text/x-python",
   "name": "python",
   "nbconvert_exporter": "python",
   "pygments_lexer": "ipython2",
   "version": "2.7.12"
  }
 },
 "nbformat": 4,
 "nbformat_minor": 0
}
