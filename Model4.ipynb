{
 "cells": [
  {
   "cell_type": "code",
   "execution_count": 1,
   "metadata": {
    "collapsed": true
   },
   "outputs": [
    {
     "name": "stdout",
     "output_type": "stream",
     "text": [
      "Using matplotlib backend: MacOSX\n"
     ]
    },
    {
     "data": {
      "text/plain": [
       "(<matplotlib.text.Text at 0x1183ca160>, <matplotlib.text.Text at 0x1183ee978>)"
      ]
     },
     "execution_count": 1,
     "metadata": {},
     "output_type": "execute_result"
    }
   ],
   "source": [
    "import pandas as pd\n",
    "from sklearn import ensemble\n",
    "import seaborn as sns\n",
    "from matplotlib import pyplot as plt\n",
    "import numpy as np\n",
    "\n",
    "df = pd.read_csv('NCAA_Tourney_2002-2016_1.csv')\n",
    "features = df.iloc[:, :-4]\n",
    "results = df.iloc[:, -4:]\n",
    "\n",
    "X = features\n",
    "y = results.loc[:, 'result']\n",
    "X_train = pd.DataFrame()\n",
    "X_test = pd.DataFrame()\n",
    "y_train = pd.DataFrame()\n",
    "y_test = pd.DataFrame()\n",
    "X_valid = pd.DataFrame()\n",
    "y_valid = pd.DataFrame()\n",
    "\n",
    "\n",
    "for year in range(2002, 2014):\n",
    "    X_train = pd.concat([X_train, X.loc[results.Season == year]])\n",
    "    y_train = pd.concat([y_train, y.loc[results.Season == year]])\n",
    "\n",
    "for year in range(2014, 2017):\n",
    "    X_test = pd.concat([X_test, X.loc[results.Season == year]])\n",
    "    y_test = pd.concat([y_test, y.loc[results.Season == year]])\n",
    "    \n",
    "paramsGB = {'n_estimators': 10, 'max_depth': 5, 'min_samples_split': 2, 'loss': 'deviance'}\n",
    "\n",
    "original_params = {'n_estimators': 1000, 'max_leaf_nodes': 4, 'max_depth': None, 'random_state': 2,\n",
    "                   'min_samples_split': 5}\n",
    "\n",
    "clf = ensemble.GradientBoostingClassifier(**original_params)\n",
    "\n",
    "clf.fit(X_train, y_train.values.ravel())\n",
    "\n",
    "y_pred = clf.predict(X_test)\n",
    "\n",
    "sns.set(font_scale=1, rc={\"lines.linewidth\": 1.2})\n",
    "\n",
    "fig = plt.figure(figsize=(20, 10), dpi=80)\n",
    "fig.suptitle('Predictor Importance', fontsize=20)\n",
    "\n",
    "plt.subplot(1,1,1)\n",
    "\n",
    "f = clf.feature_importances_\n",
    "%matplotlib\n",
    "f = 100.0 * (f / f.max())\n",
    "indices = np.argsort(f)[-10:]\n",
    "plt.barh(np.arange(10), f[indices],color='dodgerblue',alpha=.4)\n",
    "plt.yticks(np.arange(10 + 0.25), np.array(X.columns)[indices])\n",
    "plt.xlabel('Relative importance'), \\\n",
    "plt.title('Top Ten Important Variables')"
   ]
  },
  {
   "cell_type": "code",
   "execution_count": 27,
   "metadata": {},
   "outputs": [
    {
     "name": "stdout",
     "output_type": "stream",
     "text": [
      "0.635488171257 ******* 8\n"
     ]
    },
    {
     "name": "stdout",
     "output_type": "stream",
     "text": [
      "0.635577449265 ******* 9\n"
     ]
    },
    {
     "name": "stdout",
     "output_type": "stream",
     "text": [
      "0.636908910479 ******* 10\n"
     ]
    },
    {
     "name": "stdout",
     "output_type": "stream",
     "text": [
      "0.637357224927 ******* 11\n"
     ]
    },
    {
     "name": "stdout",
     "output_type": "stream",
     "text": [
      "0.596148783876 ******* 12\n"
     ]
    },
    {
     "name": "stdout",
     "output_type": "stream",
     "text": [
      "0.595863454536 ******* 13\n"
     ]
    },
    {
     "name": "stdout",
     "output_type": "stream",
     "text": [
      "0.557163286288 ******* 14\n"
     ]
    }
   ],
   "source": [
    "from sklearn import linear_model, preprocessing\n",
    "from sklearn.calibration import CalibratedClassifierCV\n",
    "from sklearn.metrics import log_loss\n",
    "from sklearn.pipeline import make_pipeline\n",
    "from sklearn.naive_bayes import GaussianNB\n",
    "from sklearn.decomposition import PCA\n",
    "from sklearn.gaussian_process.kernels import RBF\n",
    "from sklearn.gaussian_process import GaussianProcessClassifier\n",
    "\n",
    "for i in range(8,40):\n",
    "    columns = list(X.columns[np.argsort(f)[-i:]])\n",
    "    newFeatures = features.loc[:, columns]\n",
    "    X_new = newFeatures\n",
    "    y_new = results.loc[:, 'result']\n",
    "    X_train = pd.DataFrame()\n",
    "    X_test = pd.DataFrame()\n",
    "    y_train = pd.DataFrame()\n",
    "    y_test = pd.DataFrame()\n",
    "    X_valid = pd.DataFrame()\n",
    "    y_valid = pd.DataFrame()\n",
    "    \n",
    "    \n",
    "    normolizer = preprocessing.Normalizer().fit(X_new)\n",
    "    X_new = pd.DataFrame(normolizer.transform(X_new))\n",
    "    \n",
    "    for year in range(2002, 2014):\n",
    "        X_train = pd.concat([X_train, X_new.loc[results.Season == year]])\n",
    "        y_train = pd.concat([y_train, y_new.loc[results.Season == year]])\n",
    "        \n",
    "    for year in range(2002, 2014):\n",
    "        X_valid = pd.concat([X_valid, X_new.loc[results.Season == year]])\n",
    "        y_valid = pd.concat([y_valid, y_new.loc[results.Season == year]])\n",
    "    \n",
    "    for year in range(2014, 2017):\n",
    "        X_test = pd.concat([X_test, X_new.loc[results.Season == year]])\n",
    "        y_test = pd.concat([y_test, y_new.loc[results.Season == year]])\n",
    "        \n",
    "    \n",
    "    #clf = linear_model.LogisticRegressionCV(scoring='neg_log_loss')\n",
    "    #clf.fit(X_train, y_train.values.ravel())\n",
    "    \n",
    "    \n",
    "    pca = PCA(n_components=i*2//3)\n",
    "    clf = GaussianProcessClassifier(1.0 * RBF(1.0), warm_start=True)\n",
    "    pipeline = make_pipeline(pca, clf)\n",
    "    pipeline.fit(X_train, y_train.values.ravel())\n",
    "    \n",
    "    sig_clf = CalibratedClassifierCV(pipeline, method=\"sigmoid\")\n",
    "    sig_clf.fit(X_valid, y_valid.values.ravel())\n",
    "    \n",
    "    \n",
    "    y_pred = sig_clf.predict_proba(X_test)\n",
    "    logLoss = log_loss(y_true=y_test, y_pred=y_pred)\n",
    "    \n",
    "    print(logLoss, '*******', i)"
   ]
  },
  {
   "cell_type": "code",
   "execution_count": 97,
   "metadata": {},
   "outputs": [],
   "source": [
    ""
   ]
  },
  {
   "cell_type": "code",
   "execution_count": null,
   "metadata": {},
   "outputs": [],
   "source": [
    ""
   ]
  }
 ],
 "metadata": {
  "kernelspec": {
   "display_name": "Python 2",
   "language": "python",
   "name": "python2"
  },
  "language_info": {
   "codemirror_mode": {
    "name": "ipython",
    "version": 2.0
   },
   "file_extension": ".py",
   "mimetype": "text/x-python",
   "name": "python",
   "nbconvert_exporter": "python",
   "pygments_lexer": "ipython2",
   "version": "2.7.6"
  }
 },
 "nbformat": 4,
 "nbformat_minor": 0
}