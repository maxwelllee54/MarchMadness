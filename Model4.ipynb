{
 "cells": [
  {
   "cell_type": "code",
   "execution_count": 4,
   "metadata": {
    "collapsed": true
   },
   "outputs": [
    {
     "name": "stdout",
     "output_type": "stream",
     "text": [
      "Using matplotlib backend: MacOSX\n"
     ]
    },
    {
     "data": {
      "text/plain": [
       "(<matplotlib.text.Text at 0x11def47b8>, <matplotlib.text.Text at 0x11df1b898>)"
      ]
     },
     "execution_count": 4,
     "metadata": {},
     "output_type": "execute_result"
    }
   ],
   "source": [
    "import pandas as pd\n",
    "from sklearn import ensemble\n",
    "import seaborn as sns\n",
    "from matplotlib import pyplot as plt\n",
    "import numpy as np\n",
    "from sklearn import preprocessing\n",
    "\n",
    "columnName = ['seed', 'lat', 'long'\t'fg2pct', 'fg3pct', 'ftpct', 'blockpct', 'oppfg2pct', 'oppfg3pct', 'oppftpct',\n",
    "              'oppblockpct', 'f3grate', 'oppf3grate', 'arate', 'opparate', 'stlrate', 'oppstlrate', 'tempo', 'adjtempo',\n",
    "              'oe', 'adjoe', 'de', 'adjde', 'rpi_rating', 'pt_school_ncaa', 'pt_overall_ncaa', 'pt_school_s16', 'pt_overall_s16',\n",
    "              'pt_school_ff', 'pt_overall_ff', 'pt_career_school_wins',\t'pt_career_school_losses', 'pt_career_overall_losses',\n",
    "              'team_season_wins', 'pt_team_season_losses', 'pt_coach_season_wins', 'pt_coach_season_losses']\n",
    "\n",
    "df = pd.read_csv('NCAA_Tourney_2002-2016_1.csv')\n",
    "features = df.iloc[:, :-4]\n",
    "results = df.iloc[:, -4:]\n",
    "\n",
    "df_team1 = df.iloc[:, 2:38]\n",
    "df_team1.columns = columnName\n",
    "df_team2 = df.iloc[:, 39:75]\n",
    "df_team2.columns = columnName\n",
    "\n",
    "df_team1.loc[:, 'expwin'] = df.loc[:, 'team1_adjoe'] ** 11.5 / (df.loc[:, 'team1_adjde'] ** 11.5\n",
    "                                                            + df.loc[:, 'team1_adjoe'] ** 11.5)\n",
    "\n",
    "\n",
    "df_team2.loc[:, 'expwin'] = df.loc[:, 'team2_adjoe'] ** 11.5 / (df.loc[:, 'team2_adjde'] ** 11.5\n",
    "                                                            + df.loc[:, 'team2_adjoe'] ** 11.5)\n",
    "\n",
    "\n",
    "df_team1.loc[:, 'log5'] = (df_team1.loc[:, 'expwin'] - df_team1.loc[:, 'expwin'] * df_team2.loc[:, 'expwin']) / \\\n",
    "            ((df_team1.loc[:, 'expwin'] + df_team2.loc[:, 'expwin'] - 2* df_team1.loc[:, 'expwin'] * df_team2.loc[:, 'expwin']))\n",
    "\n",
    "df_team2.loc[:, 'log5'] = (df_team2.loc[:, 'expwin'] - df_team1.loc[:, 'expwin'] * df_team2.loc[:, 'expwin']) / \\\n",
    "            ((df_team1.loc[:, 'expwin'] + df_team2.loc[:, 'expwin'] - 2* df_team1.loc[:, 'expwin'] * df_team2.loc[:, 'expwin']))\n",
    "\n",
    "\n",
    "data = df_team1 - df_team2\n",
    "\n",
    "#normolizer = preprocessing.Normalizer().fit(data)\n",
    "#df_norm = pd.DataFrame(normolizer.transform(data))\n",
    "#df_norm.columns = ['seed', 'lat', 'long'\t'fg2pct', 'fg3pct', 'ftpct', 'blockpct', 'oppfg2pct', 'oppfg3pct', 'oppftpct',\n",
    "#              'oppblockpct', 'f3grate', 'oppf3grate', 'arate', 'opparate', 'stlrate', 'oppstlrate', 'tempo', 'adjtempo',\n",
    "#              'oe', 'adjoe', 'de', 'adjde', 'rpi_rating', 'pt_school_ncaa', 'pt_overall_ncaa', 'pt_school_s16', 'pt_overall_s16',\n",
    "#              'pt_school_ff', 'pt_overall_ff', 'pt_career_school_wins',\t'pt_career_school_losses', 'pt_career_overall_losses',\n",
    "#              'team_season_wins', 'pt_team_season_losses', 'pt_coach_season_wins', 'pt_coach_season_losses', 'expwin','log5']\n",
    "\n",
    "X = data\n",
    "y = results.loc[:, 'result']\n",
    "X_train = pd.DataFrame()\n",
    "X_test = pd.DataFrame()\n",
    "y_train = pd.DataFrame()\n",
    "y_test = pd.DataFrame()\n",
    "X_valid = pd.DataFrame()\n",
    "y_valid = pd.DataFrame()\n",
    "\n",
    "\n",
    "for year in range(2002, 2014):\n",
    "    X_train = pd.concat([X_train, X.loc[results.Season == year]])\n",
    "    y_train = pd.concat([y_train, y.loc[results.Season == year]])\n",
    "\n",
    "for year in range(2014, 2017):\n",
    "    X_test = pd.concat([X_test, X.loc[results.Season == year]])\n",
    "    y_test = pd.concat([y_test, y.loc[results.Season == year]])\n",
    "    \n",
    "paramsGB = {'n_estimators': 10, 'max_depth': 5, 'min_samples_split': 2, 'loss': 'deviance'}\n",
    "\n",
    "original_params = {'n_estimators': 1000, 'max_leaf_nodes': 4, 'max_depth': 5, 'random_state': 2,\n",
    "                   'min_samples_split': 5}\n",
    "\n",
    "clf = ensemble.GradientBoostingClassifier(**original_params)\n",
    "\n",
    "clf.fit(X_train, y_train.values.ravel())\n",
    "\n",
    "y_pred = clf.predict(X_test)\n",
    "\n",
    "sns.set(font_scale=1, rc={\"lines.linewidth\": 1.2})\n",
    "\n",
    "fig = plt.figure(figsize=(20, 10), dpi=80)\n",
    "fig.suptitle('Predictor Importance', fontsize=20)\n",
    "\n",
    "plt.subplot(1,1,1)\n",
    "\n",
    "f = clf.feature_importances_\n",
    "%matplotlib\n",
    "f = 100.0 * (f / f.max())\n",
    "indices = np.argsort(f)[-30:]\n",
    "plt.barh(np.arange(30), f[indices],color='dodgerblue',alpha=.4)\n",
    "plt.yticks(np.arange(30 + 0.25), np.array(X.columns)[indices])\n",
    "plt.xlabel('Relative importance'), \\\n",
    "plt.title('Top Ten Important Variables')"
   ]
  },
  {
   "cell_type": "code",
   "execution_count": 3,
   "metadata": {
    "collapsed": true
   },
   "outputs": [
    {
     "name": "stdout",
     "output_type": "stream",
     "text": [
      "0.613260142543 \t\t 4 \t\t 3\n0.621665074773 \t\t 5 \t\t 3\n"
     ]
    },
    {
     "name": "stdout",
     "output_type": "stream",
     "text": [
      "0.614757231277 \t\t 5 \t\t 4\n0.640659709364 \t\t 6 \t\t 3\n"
     ]
    },
    {
     "name": "stdout",
     "output_type": "stream",
     "text": [
      "0.621802627516 \t\t 6 \t\t 4\n0.613744451363 \t\t 6 \t\t 5\n0.63871510586 \t\t 7 \t\t 3\n0.630686804886 \t\t 7 \t\t 4\n0.616263656671 \t\t 7 \t\t 5\n"
     ]
    },
    {
     "name": "stdout",
     "output_type": "stream",
     "text": [
      "0.607508079963 \t\t 7 \t\t 6\n0.637379310484 \t\t 8 \t\t 3\n0.631162539811 \t\t 8 \t\t 4\n0.613192756861 \t\t 8 \t\t 5\n"
     ]
    },
    {
     "name": "stdout",
     "output_type": "stream",
     "text": [
      "0.60460926738 \t\t 8 \t\t 6\n0.618200318563 \t\t 8 \t\t 7\n"
     ]
    },
    {
     "name": "stdout",
     "output_type": "stream",
     "text": [
      "0.645249053985 \t\t 9 \t\t 3\n0.635383101803 \t\t 9 \t\t 4\n0.631263780279 \t\t 9 \t\t 5\n0.610648163575 \t\t 9 \t\t 6\n0.600435105219 \t\t 9 \t\t 7\n0.606845086785 \t\t 9 \t\t 8\n"
     ]
    },
    {
     "name": "stdout",
     "output_type": "stream",
     "text": [
      "0.645249072318 \t\t 10 \t\t 3\n0.635383098164 \t\t 10 \t\t 4\n0.631263620378 \t\t 10 \t\t 5\n0.610648022947 \t\t 10 \t\t 6\n0.600434915233 \t\t 10 \t\t 7\n0.606844655611 \t\t 10 \t\t 8\n0.60659281116 \t\t 10 \t\t 9\n"
     ]
    },
    {
     "name": "stdout",
     "output_type": "stream",
     "text": [
      "0.644854153708 \t\t 11 \t\t 3\n0.635083404857 \t\t 11 \t\t 4\n0.63082436127 \t\t 11 \t\t 5\n0.610083976015 \t\t 11 \t\t 6\n"
     ]
    },
    {
     "name": "stdout",
     "output_type": "stream",
     "text": [
      "0.599774267676 \t\t 11 \t\t 7\n0.606049162942 \t\t 11 \t\t 8\n0.560550097466 \t\t 11 \t\t 9\n"
     ]
    },
    {
     "name": "stderr",
     "output_type": "stream",
     "text": [
      "/Users/maxwelllee54/anaconda/lib/python3.5/site-packages/sklearn/calibration.py:415: RuntimeWarning: overflow encountered in exp\n  E = np.exp(AB[0] * F + AB[1])\n/Users/maxwelllee54/anaconda/lib/python3.5/site-packages/sklearn/calibration.py:425: RuntimeWarning: overflow encountered in exp\n  E = np.exp(AB[0] * F + AB[1])\n/Users/maxwelllee54/anaconda/lib/python3.5/site-packages/sklearn/calibration.py:427: RuntimeWarning: invalid value encountered in multiply\n  TEP_minus_T1P = P * (T * E - T1)\n/Users/maxwelllee54/anaconda/lib/python3.5/site-packages/sklearn/calibration.py:415: RuntimeWarning: overflow encountered in exp\n  E = np.exp(AB[0] * F + AB[1])\n/Users/maxwelllee54/anaconda/lib/python3.5/site-packages/sklearn/calibration.py:415: RuntimeWarning: overflow encountered in exp\n  E = np.exp(AB[0] * F + AB[1])\n/Users/maxwelllee54/anaconda/lib/python3.5/site-packages/sklearn/calibration.py:425: RuntimeWarning: overflow encountered in exp\n  E = np.exp(AB[0] * F + AB[1])\n/Users/maxwelllee54/anaconda/lib/python3.5/site-packages/sklearn/calibration.py:427: RuntimeWarning: invalid value encountered in multiply\n  TEP_minus_T1P = P * (T * E - T1)\n/Users/maxwelllee54/anaconda/lib/python3.5/site-packages/sklearn/calibration.py:415: RuntimeWarning: overflow encountered in exp\n  E = np.exp(AB[0] * F + AB[1])\n"
     ]
    },
    {
     "name": "stdout",
     "output_type": "stream",
     "text": [
      "0.561095814974 \t\t 11 \t\t 10\n"
     ]
    },
    {
     "name": "stdout",
     "output_type": "stream",
     "text": [
      "0.634987553027 \t\t 12 \t\t 3\n0.614931494475 \t\t 12 \t\t 4\n0.553888692546 \t\t 12 \t\t 5\n0.550243729119 \t\t 12 \t\t 6\n"
     ]
    },
    {
     "name": "stderr",
     "output_type": "stream",
     "text": [
      "/Users/maxwelllee54/anaconda/lib/python3.5/site-packages/sklearn/calibration.py:415: RuntimeWarning: overflow encountered in exp\n  E = np.exp(AB[0] * F + AB[1])\n/Users/maxwelllee54/anaconda/lib/python3.5/site-packages/sklearn/calibration.py:425: RuntimeWarning: overflow encountered in exp\n  E = np.exp(AB[0] * F + AB[1])\n/Users/maxwelllee54/anaconda/lib/python3.5/site-packages/sklearn/calibration.py:427: RuntimeWarning: invalid value encountered in multiply\n  TEP_minus_T1P = P * (T * E - T1)\n/Users/maxwelllee54/anaconda/lib/python3.5/site-packages/sklearn/calibration.py:415: RuntimeWarning: overflow encountered in exp\n  E = np.exp(AB[0] * F + AB[1])\n/Users/maxwelllee54/anaconda/lib/python3.5/site-packages/sklearn/calibration.py:415: RuntimeWarning: overflow encountered in exp\n  E = np.exp(AB[0] * F + AB[1])\n/Users/maxwelllee54/anaconda/lib/python3.5/site-packages/sklearn/calibration.py:425: RuntimeWarning: overflow encountered in exp\n  E = np.exp(AB[0] * F + AB[1])\n/Users/maxwelllee54/anaconda/lib/python3.5/site-packages/sklearn/calibration.py:427: RuntimeWarning: invalid value encountered in multiply\n  TEP_minus_T1P = P * (T * E - T1)\n/Users/maxwelllee54/anaconda/lib/python3.5/site-packages/sklearn/calibration.py:415: RuntimeWarning: overflow encountered in exp\n  E = np.exp(AB[0] * F + AB[1])\n/Users/maxwelllee54/anaconda/lib/python3.5/site-packages/sklearn/calibration.py:415: RuntimeWarning: overflow encountered in exp\n  E = np.exp(AB[0] * F + AB[1])\n/Users/maxwelllee54/anaconda/lib/python3.5/site-packages/sklearn/calibration.py:425: RuntimeWarning: overflow encountered in exp\n  E = np.exp(AB[0] * F + AB[1])\n/Users/maxwelllee54/anaconda/lib/python3.5/site-packages/sklearn/calibration.py:427: RuntimeWarning: invalid value encountered in multiply\n  TEP_minus_T1P = P * (T * E - T1)\n/Users/maxwelllee54/anaconda/lib/python3.5/site-packages/sklearn/calibration.py:415: RuntimeWarning: overflow encountered in exp\n  E = np.exp(AB[0] * F + AB[1])\n"
     ]
    },
    {
     "name": "stdout",
     "output_type": "stream",
     "text": [
      "0.54489496046 \t\t 12 \t\t 7\n0.543426955184 \t\t 12 \t\t 8\n0.560683444627 \t\t 12 \t\t 9\n0.556249011584 \t\t 12 \t\t 10\n"
     ]
    },
    {
     "name": "stderr",
     "output_type": "stream",
     "text": [
      "/Users/maxwelllee54/anaconda/lib/python3.5/site-packages/sklearn/calibration.py:415: RuntimeWarning: overflow encountered in exp\n  E = np.exp(AB[0] * F + AB[1])\n/Users/maxwelllee54/anaconda/lib/python3.5/site-packages/sklearn/calibration.py:425: RuntimeWarning: overflow encountered in exp\n  E = np.exp(AB[0] * F + AB[1])\n/Users/maxwelllee54/anaconda/lib/python3.5/site-packages/sklearn/calibration.py:427: RuntimeWarning: invalid value encountered in multiply\n  TEP_minus_T1P = P * (T * E - T1)\n/Users/maxwelllee54/anaconda/lib/python3.5/site-packages/sklearn/calibration.py:415: RuntimeWarning: overflow encountered in exp\n  E = np.exp(AB[0] * F + AB[1])\n/Users/maxwelllee54/anaconda/lib/python3.5/site-packages/sklearn/calibration.py:415: RuntimeWarning: overflow encountered in exp\n  E = np.exp(AB[0] * F + AB[1])\n/Users/maxwelllee54/anaconda/lib/python3.5/site-packages/sklearn/calibration.py:425: RuntimeWarning: overflow encountered in exp\n  E = np.exp(AB[0] * F + AB[1])\n/Users/maxwelllee54/anaconda/lib/python3.5/site-packages/sklearn/calibration.py:427: RuntimeWarning: invalid value encountered in multiply\n  TEP_minus_T1P = P * (T * E - T1)\n/Users/maxwelllee54/anaconda/lib/python3.5/site-packages/sklearn/calibration.py:415: RuntimeWarning: overflow encountered in exp\n  E = np.exp(AB[0] * F + AB[1])\n/Users/maxwelllee54/anaconda/lib/python3.5/site-packages/sklearn/calibration.py:415: RuntimeWarning: overflow encountered in exp\n  E = np.exp(AB[0] * F + AB[1])\n/Users/maxwelllee54/anaconda/lib/python3.5/site-packages/sklearn/calibration.py:425: RuntimeWarning: overflow encountered in exp\n  E = np.exp(AB[0] * F + AB[1])\n/Users/maxwelllee54/anaconda/lib/python3.5/site-packages/sklearn/calibration.py:427: RuntimeWarning: invalid value encountered in multiply\n  TEP_minus_T1P = P * (T * E - T1)\n/Users/maxwelllee54/anaconda/lib/python3.5/site-packages/sklearn/calibration.py:415: RuntimeWarning: overflow encountered in exp\n  E = np.exp(AB[0] * F + AB[1])\n"
     ]
    },
    {
     "name": "stderr",
     "output_type": "stream",
     "text": [
      "/Users/maxwelllee54/anaconda/lib/python3.5/site-packages/sklearn/calibration.py:415: RuntimeWarning: overflow encountered in exp\n  E = np.exp(AB[0] * F + AB[1])\n/Users/maxwelllee54/anaconda/lib/python3.5/site-packages/sklearn/calibration.py:425: RuntimeWarning: overflow encountered in exp\n  E = np.exp(AB[0] * F + AB[1])\n/Users/maxwelllee54/anaconda/lib/python3.5/site-packages/sklearn/calibration.py:427: RuntimeWarning: invalid value encountered in multiply\n  TEP_minus_T1P = P * (T * E - T1)\n/Users/maxwelllee54/anaconda/lib/python3.5/site-packages/sklearn/calibration.py:415: RuntimeWarning: overflow encountered in exp\n  E = np.exp(AB[0] * F + AB[1])\n"
     ]
    },
    {
     "name": "stdout",
     "output_type": "stream",
     "text": [
      "0.556417141302 \t\t 12 \t\t 11\n"
     ]
    },
    {
     "name": "stdout",
     "output_type": "stream",
     "text": [
      "0.681235670343 \t\t 13 \t\t 3\n0.621935039464 \t\t 13 \t\t 4\n0.612854281492 \t\t 13 \t\t 5\n"
     ]
    },
    {
     "name": "stderr",
     "output_type": "stream",
     "text": [
      "/Users/maxwelllee54/anaconda/lib/python3.5/site-packages/sklearn/calibration.py:415: RuntimeWarning: overflow encountered in exp\n  E = np.exp(AB[0] * F + AB[1])\n/Users/maxwelllee54/anaconda/lib/python3.5/site-packages/sklearn/calibration.py:425: RuntimeWarning: overflow encountered in exp\n  E = np.exp(AB[0] * F + AB[1])\n/Users/maxwelllee54/anaconda/lib/python3.5/site-packages/sklearn/calibration.py:427: RuntimeWarning: invalid value encountered in multiply\n  TEP_minus_T1P = P * (T * E - T1)\n/Users/maxwelllee54/anaconda/lib/python3.5/site-packages/sklearn/calibration.py:415: RuntimeWarning: overflow encountered in exp\n  E = np.exp(AB[0] * F + AB[1])\n/Users/maxwelllee54/anaconda/lib/python3.5/site-packages/sklearn/calibration.py:415: RuntimeWarning: overflow encountered in exp\n  E = np.exp(AB[0] * F + AB[1])\n/Users/maxwelllee54/anaconda/lib/python3.5/site-packages/sklearn/calibration.py:425: RuntimeWarning: overflow encountered in exp\n  E = np.exp(AB[0] * F + AB[1])\n/Users/maxwelllee54/anaconda/lib/python3.5/site-packages/sklearn/calibration.py:427: RuntimeWarning: invalid value encountered in multiply\n  TEP_minus_T1P = P * (T * E - T1)\n/Users/maxwelllee54/anaconda/lib/python3.5/site-packages/sklearn/calibration.py:415: RuntimeWarning: overflow encountered in exp\n  E = np.exp(AB[0] * F + AB[1])\n/Users/maxwelllee54/anaconda/lib/python3.5/site-packages/sklearn/calibration.py:415: RuntimeWarning: overflow encountered in exp\n  E = np.exp(AB[0] * F + AB[1])\n/Users/maxwelllee54/anaconda/lib/python3.5/site-packages/sklearn/calibration.py:425: RuntimeWarning: overflow encountered in exp\n  E = np.exp(AB[0] * F + AB[1])\n/Users/maxwelllee54/anaconda/lib/python3.5/site-packages/sklearn/calibration.py:427: RuntimeWarning: invalid value encountered in multiply\n  TEP_minus_T1P = P * (T * E - T1)\n/Users/maxwelllee54/anaconda/lib/python3.5/site-packages/sklearn/calibration.py:415: RuntimeWarning: overflow encountered in exp\n  E = np.exp(AB[0] * F + AB[1])\n"
     ]
    },
    {
     "name": "stdout",
     "output_type": "stream",
     "text": [
      "0.555799820608 \t\t 13 \t\t 6\n0.554359025292 \t\t 13 \t\t 7\n"
     ]
    },
    {
     "name": "stderr",
     "output_type": "stream",
     "text": [
      "/Users/maxwelllee54/anaconda/lib/python3.5/site-packages/sklearn/calibration.py:415: RuntimeWarning: overflow encountered in exp\n  E = np.exp(AB[0] * F + AB[1])\n/Users/maxwelllee54/anaconda/lib/python3.5/site-packages/sklearn/calibration.py:425: RuntimeWarning: overflow encountered in exp\n  E = np.exp(AB[0] * F + AB[1])\n/Users/maxwelllee54/anaconda/lib/python3.5/site-packages/sklearn/calibration.py:427: RuntimeWarning: invalid value encountered in multiply\n  TEP_minus_T1P = P * (T * E - T1)\n/Users/maxwelllee54/anaconda/lib/python3.5/site-packages/sklearn/calibration.py:415: RuntimeWarning: overflow encountered in exp\n  E = np.exp(AB[0] * F + AB[1])\n/Users/maxwelllee54/anaconda/lib/python3.5/site-packages/sklearn/calibration.py:415: RuntimeWarning: overflow encountered in exp\n  E = np.exp(AB[0] * F + AB[1])\n/Users/maxwelllee54/anaconda/lib/python3.5/site-packages/sklearn/calibration.py:425: RuntimeWarning: overflow encountered in exp\n  E = np.exp(AB[0] * F + AB[1])\n/Users/maxwelllee54/anaconda/lib/python3.5/site-packages/sklearn/calibration.py:427: RuntimeWarning: invalid value encountered in multiply\n  TEP_minus_T1P = P * (T * E - T1)\n/Users/maxwelllee54/anaconda/lib/python3.5/site-packages/sklearn/calibration.py:415: RuntimeWarning: overflow encountered in exp\n  E = np.exp(AB[0] * F + AB[1])\n/Users/maxwelllee54/anaconda/lib/python3.5/site-packages/sklearn/calibration.py:415: RuntimeWarning: overflow encountered in exp\n  E = np.exp(AB[0] * F + AB[1])\n"
     ]
    },
    {
     "name": "stdout",
     "output_type": "stream",
     "text": [
      "0.548924389089 \t\t 13 \t\t 8\n0.547580964419 \t\t 13 \t\t 9\n0.570714489648 \t\t 13 \t\t 10\n"
     ]
    },
    {
     "name": "stderr",
     "output_type": "stream",
     "text": [
      "/Users/maxwelllee54/anaconda/lib/python3.5/site-packages/sklearn/calibration.py:425: RuntimeWarning: overflow encountered in exp\n  E = np.exp(AB[0] * F + AB[1])\n/Users/maxwelllee54/anaconda/lib/python3.5/site-packages/sklearn/calibration.py:427: RuntimeWarning: invalid value encountered in multiply\n  TEP_minus_T1P = P * (T * E - T1)\n/Users/maxwelllee54/anaconda/lib/python3.5/site-packages/sklearn/calibration.py:415: RuntimeWarning: overflow encountered in exp\n  E = np.exp(AB[0] * F + AB[1])\n/Users/maxwelllee54/anaconda/lib/python3.5/site-packages/sklearn/calibration.py:415: RuntimeWarning: overflow encountered in exp\n  E = np.exp(AB[0] * F + AB[1])\n/Users/maxwelllee54/anaconda/lib/python3.5/site-packages/sklearn/calibration.py:425: RuntimeWarning: overflow encountered in exp\n  E = np.exp(AB[0] * F + AB[1])\n/Users/maxwelllee54/anaconda/lib/python3.5/site-packages/sklearn/calibration.py:427: RuntimeWarning: invalid value encountered in multiply\n  TEP_minus_T1P = P * (T * E - T1)\n/Users/maxwelllee54/anaconda/lib/python3.5/site-packages/sklearn/calibration.py:415: RuntimeWarning: overflow encountered in exp\n  E = np.exp(AB[0] * F + AB[1])\n"
     ]
    },
    {
     "name": "stdout",
     "output_type": "stream",
     "text": [
      "0.564679367731 \t\t 13 \t\t 11\n0.565005950862 \t\t 13 \t\t 12\n"
     ]
    },
    {
     "name": "stderr",
     "output_type": "stream",
     "text": [
      "/Users/maxwelllee54/anaconda/lib/python3.5/site-packages/sklearn/calibration.py:415: RuntimeWarning: overflow encountered in exp\n  E = np.exp(AB[0] * F + AB[1])\n/Users/maxwelllee54/anaconda/lib/python3.5/site-packages/sklearn/calibration.py:425: RuntimeWarning: overflow encountered in exp\n  E = np.exp(AB[0] * F + AB[1])\n/Users/maxwelllee54/anaconda/lib/python3.5/site-packages/sklearn/calibration.py:427: RuntimeWarning: invalid value encountered in multiply\n  TEP_minus_T1P = P * (T * E - T1)\n/Users/maxwelllee54/anaconda/lib/python3.5/site-packages/sklearn/calibration.py:415: RuntimeWarning: overflow encountered in exp\n  E = np.exp(AB[0] * F + AB[1])\n"
     ]
    },
    {
     "name": "stdout",
     "output_type": "stream",
     "text": [
      "0.680771089076 \t\t 14 \t\t 3\n0.616109663267 \t\t 14 \t\t 4\n0.602748821952 \t\t 14 \t\t 5\n0.572531829329 \t\t 14 \t\t 6\n0.556557861566 \t\t 14 \t\t 7\n"
     ]
    },
    {
     "name": "stderr",
     "output_type": "stream",
     "text": [
      "/Users/maxwelllee54/anaconda/lib/python3.5/site-packages/sklearn/calibration.py:415: RuntimeWarning: overflow encountered in exp\n  E = np.exp(AB[0] * F + AB[1])\n/Users/maxwelllee54/anaconda/lib/python3.5/site-packages/sklearn/calibration.py:425: RuntimeWarning: overflow encountered in exp\n  E = np.exp(AB[0] * F + AB[1])\n/Users/maxwelllee54/anaconda/lib/python3.5/site-packages/sklearn/calibration.py:427: RuntimeWarning: invalid value encountered in multiply\n  TEP_minus_T1P = P * (T * E - T1)\n/Users/maxwelllee54/anaconda/lib/python3.5/site-packages/sklearn/calibration.py:415: RuntimeWarning: overflow encountered in exp\n  E = np.exp(AB[0] * F + AB[1])\n/Users/maxwelllee54/anaconda/lib/python3.5/site-packages/sklearn/calibration.py:415: RuntimeWarning: overflow encountered in exp\n  E = np.exp(AB[0] * F + AB[1])\n/Users/maxwelllee54/anaconda/lib/python3.5/site-packages/sklearn/calibration.py:425: RuntimeWarning: overflow encountered in exp\n  E = np.exp(AB[0] * F + AB[1])\n/Users/maxwelllee54/anaconda/lib/python3.5/site-packages/sklearn/calibration.py:427: RuntimeWarning: invalid value encountered in multiply\n  TEP_minus_T1P = P * (T * E - T1)\n/Users/maxwelllee54/anaconda/lib/python3.5/site-packages/sklearn/calibration.py:415: RuntimeWarning: overflow encountered in exp\n  E = np.exp(AB[0] * F + AB[1])\n/Users/maxwelllee54/anaconda/lib/python3.5/site-packages/sklearn/calibration.py:415: RuntimeWarning: overflow encountered in exp\n  E = np.exp(AB[0] * F + AB[1])\n/Users/maxwelllee54/anaconda/lib/python3.5/site-packages/sklearn/calibration.py:425: RuntimeWarning: overflow encountered in exp\n  E = np.exp(AB[0] * F + AB[1])\n/Users/maxwelllee54/anaconda/lib/python3.5/site-packages/sklearn/calibration.py:427: RuntimeWarning: invalid value encountered in multiply\n  TEP_minus_T1P = P * (T * E - T1)\n/Users/maxwelllee54/anaconda/lib/python3.5/site-packages/sklearn/calibration.py:415: RuntimeWarning: overflow encountered in exp\n  E = np.exp(AB[0] * F + AB[1])\n/Users/maxwelllee54/anaconda/lib/python3.5/site-packages/sklearn/calibration.py:415: RuntimeWarning: overflow encountered in exp\n  E = np.exp(AB[0] * F + AB[1])\n/Users/maxwelllee54/anaconda/lib/python3.5/site-packages/sklearn/calibration.py:425: RuntimeWarning: overflow encountered in exp\n  E = np.exp(AB[0] * F + AB[1])\n/Users/maxwelllee54/anaconda/lib/python3.5/site-packages/sklearn/calibration.py:427: RuntimeWarning: invalid value encountered in multiply\n  TEP_minus_T1P = P * (T * E - T1)\n/Users/maxwelllee54/anaconda/lib/python3.5/site-packages/sklearn/calibration.py:415: RuntimeWarning: overflow encountered in exp\n  E = np.exp(AB[0] * F + AB[1])\n"
     ]
    },
    {
     "name": "stderr",
     "output_type": "stream",
     "text": [
      "/Users/maxwelllee54/anaconda/lib/python3.5/site-packages/sklearn/calibration.py:415: RuntimeWarning: overflow encountered in exp\n  E = np.exp(AB[0] * F + AB[1])\n/Users/maxwelllee54/anaconda/lib/python3.5/site-packages/sklearn/calibration.py:425: RuntimeWarning: overflow encountered in exp\n  E = np.exp(AB[0] * F + AB[1])\n/Users/maxwelllee54/anaconda/lib/python3.5/site-packages/sklearn/calibration.py:427: RuntimeWarning: invalid value encountered in multiply\n  TEP_minus_T1P = P * (T * E - T1)\n/Users/maxwelllee54/anaconda/lib/python3.5/site-packages/sklearn/calibration.py:415: RuntimeWarning: overflow encountered in exp\n  E = np.exp(AB[0] * F + AB[1])\n/Users/maxwelllee54/anaconda/lib/python3.5/site-packages/sklearn/calibration.py:415: RuntimeWarning: overflow encountered in exp\n  E = np.exp(AB[0] * F + AB[1])\n/Users/maxwelllee54/anaconda/lib/python3.5/site-packages/sklearn/calibration.py:425: RuntimeWarning: overflow encountered in exp\n  E = np.exp(AB[0] * F + AB[1])\n/Users/maxwelllee54/anaconda/lib/python3.5/site-packages/sklearn/calibration.py:427: RuntimeWarning: invalid value encountered in multiply\n  TEP_minus_T1P = P * (T * E - T1)\n/Users/maxwelllee54/anaconda/lib/python3.5/site-packages/sklearn/calibration.py:415: RuntimeWarning: overflow encountered in exp\n  E = np.exp(AB[0] * F + AB[1])\n/Users/maxwelllee54/anaconda/lib/python3.5/site-packages/sklearn/calibration.py:415: RuntimeWarning: overflow encountered in exp\n  E = np.exp(AB[0] * F + AB[1])\n/Users/maxwelllee54/anaconda/lib/python3.5/site-packages/sklearn/calibration.py:425: RuntimeWarning: overflow encountered in exp\n  E = np.exp(AB[0] * F + AB[1])\n/Users/maxwelllee54/anaconda/lib/python3.5/site-packages/sklearn/calibration.py:427: RuntimeWarning: invalid value encountered in multiply\n  TEP_minus_T1P = P * (T * E - T1)\n/Users/maxwelllee54/anaconda/lib/python3.5/site-packages/sklearn/calibration.py:415: RuntimeWarning: overflow encountered in exp\n  E = np.exp(AB[0] * F + AB[1])\n/Users/maxwelllee54/anaconda/lib/python3.5/site-packages/sklearn/calibration.py:415: RuntimeWarning: overflow encountered in exp\n  E = np.exp(AB[0] * F + AB[1])\n/Users/maxwelllee54/anaconda/lib/python3.5/site-packages/sklearn/calibration.py:425: RuntimeWarning: overflow encountered in exp\n  E = np.exp(AB[0] * F + AB[1])\n/Users/maxwelllee54/anaconda/lib/python3.5/site-packages/sklearn/calibration.py:427: RuntimeWarning: invalid value encountered in multiply\n  TEP_minus_T1P = P * (T * E - T1)\n/Users/maxwelllee54/anaconda/lib/python3.5/site-packages/sklearn/calibration.py:415: RuntimeWarning: overflow encountered in exp\n  E = np.exp(AB[0] * F + AB[1])\n"
     ]
    },
    {
     "name": "stdout",
     "output_type": "stream",
     "text": [
      "0.55384627687 \t\t 14 \t\t 8\n0.547792243719 \t\t 14 \t\t 9\n0.545772594018 \t\t 14 \t\t 10\n0.569028221578 \t\t 14 \t\t 11\n"
     ]
    },
    {
     "name": "stderr",
     "output_type": "stream",
     "text": [
      "/Users/maxwelllee54/anaconda/lib/python3.5/site-packages/sklearn/calibration.py:415: RuntimeWarning: overflow encountered in exp\n  E = np.exp(AB[0] * F + AB[1])\n/Users/maxwelllee54/anaconda/lib/python3.5/site-packages/sklearn/calibration.py:425: RuntimeWarning: overflow encountered in exp\n  E = np.exp(AB[0] * F + AB[1])\n/Users/maxwelllee54/anaconda/lib/python3.5/site-packages/sklearn/calibration.py:427: RuntimeWarning: invalid value encountered in multiply\n  TEP_minus_T1P = P * (T * E - T1)\n/Users/maxwelllee54/anaconda/lib/python3.5/site-packages/sklearn/calibration.py:415: RuntimeWarning: overflow encountered in exp\n  E = np.exp(AB[0] * F + AB[1])\n/Users/maxwelllee54/anaconda/lib/python3.5/site-packages/sklearn/calibration.py:415: RuntimeWarning: overflow encountered in exp\n  E = np.exp(AB[0] * F + AB[1])\n/Users/maxwelllee54/anaconda/lib/python3.5/site-packages/sklearn/calibration.py:425: RuntimeWarning: overflow encountered in exp\n  E = np.exp(AB[0] * F + AB[1])\n/Users/maxwelllee54/anaconda/lib/python3.5/site-packages/sklearn/calibration.py:427: RuntimeWarning: invalid value encountered in multiply\n  TEP_minus_T1P = P * (T * E - T1)\n/Users/maxwelllee54/anaconda/lib/python3.5/site-packages/sklearn/calibration.py:415: RuntimeWarning: overflow encountered in exp\n  E = np.exp(AB[0] * F + AB[1])\n"
     ]
    },
    {
     "name": "stdout",
     "output_type": "stream",
     "text": [
      "0.563051269368 \t\t 14 \t\t 12\n0.563545301587 \t\t 14 \t\t 13\n"
     ]
    },
    {
     "name": "stdout",
     "output_type": "stream",
     "text": [
      "0.680155453861 \t\t 15 \t\t 3\n0.615112191024 \t\t 15 \t\t 4\n0.606522507789 \t\t 15 \t\t 5\n0.571632840122 \t\t 15 \t\t 6\n0.556746911101 \t\t 15 \t\t 7\n"
     ]
    },
    {
     "name": "stderr",
     "output_type": "stream",
     "text": [
      "/Users/maxwelllee54/anaconda/lib/python3.5/site-packages/sklearn/calibration.py:415: RuntimeWarning: overflow encountered in exp\n  E = np.exp(AB[0] * F + AB[1])\n/Users/maxwelllee54/anaconda/lib/python3.5/site-packages/sklearn/calibration.py:425: RuntimeWarning: overflow encountered in exp\n  E = np.exp(AB[0] * F + AB[1])\n/Users/maxwelllee54/anaconda/lib/python3.5/site-packages/sklearn/calibration.py:427: RuntimeWarning: invalid value encountered in multiply\n  TEP_minus_T1P = P * (T * E - T1)\n/Users/maxwelllee54/anaconda/lib/python3.5/site-packages/sklearn/calibration.py:415: RuntimeWarning: overflow encountered in exp\n  E = np.exp(AB[0] * F + AB[1])\n/Users/maxwelllee54/anaconda/lib/python3.5/site-packages/sklearn/calibration.py:415: RuntimeWarning: overflow encountered in exp\n  E = np.exp(AB[0] * F + AB[1])\n/Users/maxwelllee54/anaconda/lib/python3.5/site-packages/sklearn/calibration.py:425: RuntimeWarning: overflow encountered in exp\n  E = np.exp(AB[0] * F + AB[1])\n/Users/maxwelllee54/anaconda/lib/python3.5/site-packages/sklearn/calibration.py:427: RuntimeWarning: invalid value encountered in multiply\n  TEP_minus_T1P = P * (T * E - T1)\n/Users/maxwelllee54/anaconda/lib/python3.5/site-packages/sklearn/calibration.py:415: RuntimeWarning: overflow encountered in exp\n  E = np.exp(AB[0] * F + AB[1])\n/Users/maxwelllee54/anaconda/lib/python3.5/site-packages/sklearn/calibration.py:415: RuntimeWarning: overflow encountered in exp\n  E = np.exp(AB[0] * F + AB[1])\n/Users/maxwelllee54/anaconda/lib/python3.5/site-packages/sklearn/calibration.py:425: RuntimeWarning: overflow encountered in exp\n  E = np.exp(AB[0] * F + AB[1])\n/Users/maxwelllee54/anaconda/lib/python3.5/site-packages/sklearn/calibration.py:427: RuntimeWarning: invalid value encountered in multiply\n  TEP_minus_T1P = P * (T * E - T1)\n/Users/maxwelllee54/anaconda/lib/python3.5/site-packages/sklearn/calibration.py:415: RuntimeWarning: overflow encountered in exp\n  E = np.exp(AB[0] * F + AB[1])\n/Users/maxwelllee54/anaconda/lib/python3.5/site-packages/sklearn/calibration.py:415: RuntimeWarning: overflow encountered in exp\n  E = np.exp(AB[0] * F + AB[1])\n/Users/maxwelllee54/anaconda/lib/python3.5/site-packages/sklearn/calibration.py:425: RuntimeWarning: overflow encountered in exp\n  E = np.exp(AB[0] * F + AB[1])\n/Users/maxwelllee54/anaconda/lib/python3.5/site-packages/sklearn/calibration.py:427: RuntimeWarning: invalid value encountered in multiply\n  TEP_minus_T1P = P * (T * E - T1)\n/Users/maxwelllee54/anaconda/lib/python3.5/site-packages/sklearn/calibration.py:415: RuntimeWarning: overflow encountered in exp\n  E = np.exp(AB[0] * F + AB[1])\n/Users/maxwelllee54/anaconda/lib/python3.5/site-packages/sklearn/calibration.py:415: RuntimeWarning: overflow encountered in exp\n  E = np.exp(AB[0] * F + AB[1])\n/Users/maxwelllee54/anaconda/lib/python3.5/site-packages/sklearn/calibration.py:425: RuntimeWarning: overflow encountered in exp\n  E = np.exp(AB[0] * F + AB[1])\n/Users/maxwelllee54/anaconda/lib/python3.5/site-packages/sklearn/calibration.py:427: RuntimeWarning: invalid value encountered in multiply\n  TEP_minus_T1P = P * (T * E - T1)\n/Users/maxwelllee54/anaconda/lib/python3.5/site-packages/sklearn/calibration.py:415: RuntimeWarning: overflow encountered in exp\n  E = np.exp(AB[0] * F + AB[1])\n"
     ]
    },
    {
     "name": "stdout",
     "output_type": "stream",
     "text": [
      "0.560914976719 \t\t 15 \t\t 8\n0.556602388342 \t\t 15 \t\t 9\n0.550647770593 \t\t 15 \t\t 10\n0.54862000623 \t\t 15 \t\t 11\n0.570187073006 \t\t 15 \t\t 12\n"
     ]
    },
    {
     "name": "stderr",
     "output_type": "stream",
     "text": [
      "/Users/maxwelllee54/anaconda/lib/python3.5/site-packages/sklearn/calibration.py:415: RuntimeWarning: overflow encountered in exp\n  E = np.exp(AB[0] * F + AB[1])\n/Users/maxwelllee54/anaconda/lib/python3.5/site-packages/sklearn/calibration.py:425: RuntimeWarning: overflow encountered in exp\n  E = np.exp(AB[0] * F + AB[1])\n/Users/maxwelllee54/anaconda/lib/python3.5/site-packages/sklearn/calibration.py:427: RuntimeWarning: invalid value encountered in multiply\n  TEP_minus_T1P = P * (T * E - T1)\n/Users/maxwelllee54/anaconda/lib/python3.5/site-packages/sklearn/calibration.py:415: RuntimeWarning: overflow encountered in exp\n  E = np.exp(AB[0] * F + AB[1])\n/Users/maxwelllee54/anaconda/lib/python3.5/site-packages/sklearn/calibration.py:415: RuntimeWarning: overflow encountered in exp\n  E = np.exp(AB[0] * F + AB[1])\n/Users/maxwelllee54/anaconda/lib/python3.5/site-packages/sklearn/calibration.py:425: RuntimeWarning: overflow encountered in exp\n  E = np.exp(AB[0] * F + AB[1])\n/Users/maxwelllee54/anaconda/lib/python3.5/site-packages/sklearn/calibration.py:427: RuntimeWarning: invalid value encountered in multiply\n  TEP_minus_T1P = P * (T * E - T1)\n/Users/maxwelllee54/anaconda/lib/python3.5/site-packages/sklearn/calibration.py:415: RuntimeWarning: overflow encountered in exp\n  E = np.exp(AB[0] * F + AB[1])\n/Users/maxwelllee54/anaconda/lib/python3.5/site-packages/sklearn/calibration.py:415: RuntimeWarning: overflow encountered in exp\n  E = np.exp(AB[0] * F + AB[1])\n/Users/maxwelllee54/anaconda/lib/python3.5/site-packages/sklearn/calibration.py:425: RuntimeWarning: overflow encountered in exp\n  E = np.exp(AB[0] * F + AB[1])\n/Users/maxwelllee54/anaconda/lib/python3.5/site-packages/sklearn/calibration.py:427: RuntimeWarning: invalid value encountered in multiply\n  TEP_minus_T1P = P * (T * E - T1)\n/Users/maxwelllee54/anaconda/lib/python3.5/site-packages/sklearn/calibration.py:415: RuntimeWarning: overflow encountered in exp\n  E = np.exp(AB[0] * F + AB[1])\n/Users/maxwelllee54/anaconda/lib/python3.5/site-packages/sklearn/calibration.py:415: RuntimeWarning: overflow encountered in exp\n  E = np.exp(AB[0] * F + AB[1])\n/Users/maxwelllee54/anaconda/lib/python3.5/site-packages/sklearn/calibration.py:425: RuntimeWarning: overflow encountered in exp\n  E = np.exp(AB[0] * F + AB[1])\n/Users/maxwelllee54/anaconda/lib/python3.5/site-packages/sklearn/calibration.py:427: RuntimeWarning: invalid value encountered in multiply\n  TEP_minus_T1P = P * (T * E - T1)\n/Users/maxwelllee54/anaconda/lib/python3.5/site-packages/sklearn/calibration.py:415: RuntimeWarning: overflow encountered in exp\n  E = np.exp(AB[0] * F + AB[1])\n/Users/maxwelllee54/anaconda/lib/python3.5/site-packages/sklearn/calibration.py:415: RuntimeWarning: overflow encountered in exp\n  E = np.exp(AB[0] * F + AB[1])\n/Users/maxwelllee54/anaconda/lib/python3.5/site-packages/sklearn/calibration.py:425: RuntimeWarning: overflow encountered in exp\n  E = np.exp(AB[0] * F + AB[1])\n/Users/maxwelllee54/anaconda/lib/python3.5/site-packages/sklearn/calibration.py:427: RuntimeWarning: invalid value encountered in multiply\n  TEP_minus_T1P = P * (T * E - T1)\n/Users/maxwelllee54/anaconda/lib/python3.5/site-packages/sklearn/calibration.py:415: RuntimeWarning: overflow encountered in exp\n  E = np.exp(AB[0] * F + AB[1])\n"
     ]
    },
    {
     "name": "stdout",
     "output_type": "stream",
     "text": [
      "0.563402886901 \t\t 15 \t\t 13\n0.563981671901 \t\t 15 \t\t 14\n"
     ]
    },
    {
     "name": "stderr",
     "output_type": "stream",
     "text": [
      "/Users/maxwelllee54/anaconda/lib/python3.5/site-packages/sklearn/calibration.py:415: RuntimeWarning: overflow encountered in exp\n  E = np.exp(AB[0] * F + AB[1])\n/Users/maxwelllee54/anaconda/lib/python3.5/site-packages/sklearn/calibration.py:425: RuntimeWarning: overflow encountered in exp\n  E = np.exp(AB[0] * F + AB[1])\n/Users/maxwelllee54/anaconda/lib/python3.5/site-packages/sklearn/calibration.py:427: RuntimeWarning: invalid value encountered in multiply\n  TEP_minus_T1P = P * (T * E - T1)\n/Users/maxwelllee54/anaconda/lib/python3.5/site-packages/sklearn/calibration.py:415: RuntimeWarning: overflow encountered in exp\n  E = np.exp(AB[0] * F + AB[1])\n"
     ]
    },
    {
     "name": "stdout",
     "output_type": "stream",
     "text": [
      "0.68024485037 \t\t 16 \t\t 3\n0.615333761385 \t\t 16 \t\t 4\n0.606581565003 \t\t 16 \t\t 5\n0.571828690169 \t\t 16 \t\t 6\n0.557307380585 \t\t 16 \t\t 7\n0.561475895231 \t\t 16 \t\t 8\n"
     ]
    },
    {
     "name": "stderr",
     "output_type": "stream",
     "text": [
      "/Users/maxwelllee54/anaconda/lib/python3.5/site-packages/sklearn/calibration.py:415: RuntimeWarning: overflow encountered in exp\n  E = np.exp(AB[0] * F + AB[1])\n/Users/maxwelllee54/anaconda/lib/python3.5/site-packages/sklearn/calibration.py:425: RuntimeWarning: overflow encountered in exp\n  E = np.exp(AB[0] * F + AB[1])\n/Users/maxwelllee54/anaconda/lib/python3.5/site-packages/sklearn/calibration.py:427: RuntimeWarning: invalid value encountered in multiply\n  TEP_minus_T1P = P * (T * E - T1)\n/Users/maxwelllee54/anaconda/lib/python3.5/site-packages/sklearn/calibration.py:415: RuntimeWarning: overflow encountered in exp\n  E = np.exp(AB[0] * F + AB[1])\n/Users/maxwelllee54/anaconda/lib/python3.5/site-packages/sklearn/calibration.py:415: RuntimeWarning: overflow encountered in exp\n  E = np.exp(AB[0] * F + AB[1])\n/Users/maxwelllee54/anaconda/lib/python3.5/site-packages/sklearn/calibration.py:425: RuntimeWarning: overflow encountered in exp\n  E = np.exp(AB[0] * F + AB[1])\n/Users/maxwelllee54/anaconda/lib/python3.5/site-packages/sklearn/calibration.py:427: RuntimeWarning: invalid value encountered in multiply\n  TEP_minus_T1P = P * (T * E - T1)\n/Users/maxwelllee54/anaconda/lib/python3.5/site-packages/sklearn/calibration.py:415: RuntimeWarning: overflow encountered in exp\n  E = np.exp(AB[0] * F + AB[1])\n/Users/maxwelllee54/anaconda/lib/python3.5/site-packages/sklearn/calibration.py:415: RuntimeWarning: overflow encountered in exp\n  E = np.exp(AB[0] * F + AB[1])\n/Users/maxwelllee54/anaconda/lib/python3.5/site-packages/sklearn/calibration.py:425: RuntimeWarning: overflow encountered in exp\n  E = np.exp(AB[0] * F + AB[1])\n/Users/maxwelllee54/anaconda/lib/python3.5/site-packages/sklearn/calibration.py:427: RuntimeWarning: invalid value encountered in multiply\n  TEP_minus_T1P = P * (T * E - T1)\n/Users/maxwelllee54/anaconda/lib/python3.5/site-packages/sklearn/calibration.py:415: RuntimeWarning: overflow encountered in exp\n  E = np.exp(AB[0] * F + AB[1])\n/Users/maxwelllee54/anaconda/lib/python3.5/site-packages/sklearn/calibration.py:415: RuntimeWarning: overflow encountered in exp\n  E = np.exp(AB[0] * F + AB[1])\n/Users/maxwelllee54/anaconda/lib/python3.5/site-packages/sklearn/calibration.py:425: RuntimeWarning: overflow encountered in exp\n  E = np.exp(AB[0] * F + AB[1])\n/Users/maxwelllee54/anaconda/lib/python3.5/site-packages/sklearn/calibration.py:427: RuntimeWarning: invalid value encountered in multiply\n  TEP_minus_T1P = P * (T * E - T1)\n/Users/maxwelllee54/anaconda/lib/python3.5/site-packages/sklearn/calibration.py:415: RuntimeWarning: overflow encountered in exp\n  E = np.exp(AB[0] * F + AB[1])\n/Users/maxwelllee54/anaconda/lib/python3.5/site-packages/sklearn/calibration.py:415: RuntimeWarning: overflow encountered in exp\n  E = np.exp(AB[0] * F + AB[1])\n/Users/maxwelllee54/anaconda/lib/python3.5/site-packages/sklearn/calibration.py:425: RuntimeWarning: overflow encountered in exp\n  E = np.exp(AB[0] * F + AB[1])\n/Users/maxwelllee54/anaconda/lib/python3.5/site-packages/sklearn/calibration.py:427: RuntimeWarning: invalid value encountered in multiply\n  TEP_minus_T1P = P * (T * E - T1)\n/Users/maxwelllee54/anaconda/lib/python3.5/site-packages/sklearn/calibration.py:415: RuntimeWarning: overflow encountered in exp\n  E = np.exp(AB[0] * F + AB[1])\n/Users/maxwelllee54/anaconda/lib/python3.5/site-packages/sklearn/calibration.py:415: RuntimeWarning: overflow encountered in exp\n  E = np.exp(AB[0] * F + AB[1])\n/Users/maxwelllee54/anaconda/lib/python3.5/site-packages/sklearn/calibration.py:425: RuntimeWarning: overflow encountered in exp\n  E = np.exp(AB[0] * F + AB[1])\n/Users/maxwelllee54/anaconda/lib/python3.5/site-packages/sklearn/calibration.py:427: RuntimeWarning: invalid value encountered in multiply\n  TEP_minus_T1P = P * (T * E - T1)\n/Users/maxwelllee54/anaconda/lib/python3.5/site-packages/sklearn/calibration.py:415: RuntimeWarning: overflow encountered in exp\n  E = np.exp(AB[0] * F + AB[1])\n"
     ]
    },
    {
     "name": "stdout",
     "output_type": "stream",
     "text": [
      "0.558648277001 \t\t 16 \t\t 9\n0.558275505251 \t\t 16 \t\t 10\n0.550862024891 \t\t 16 \t\t 11\n0.548774464586 \t\t 16 \t\t 12\n0.569835402294 \t\t 16 \t\t 13\n"
     ]
    },
    {
     "name": "stderr",
     "output_type": "stream",
     "text": [
      "/Users/maxwelllee54/anaconda/lib/python3.5/site-packages/sklearn/calibration.py:415: RuntimeWarning: overflow encountered in exp\n  E = np.exp(AB[0] * F + AB[1])\n/Users/maxwelllee54/anaconda/lib/python3.5/site-packages/sklearn/calibration.py:425: RuntimeWarning: overflow encountered in exp\n  E = np.exp(AB[0] * F + AB[1])\n/Users/maxwelllee54/anaconda/lib/python3.5/site-packages/sklearn/calibration.py:427: RuntimeWarning: invalid value encountered in multiply\n  TEP_minus_T1P = P * (T * E - T1)\n/Users/maxwelllee54/anaconda/lib/python3.5/site-packages/sklearn/calibration.py:415: RuntimeWarning: overflow encountered in exp\n  E = np.exp(AB[0] * F + AB[1])\n/Users/maxwelllee54/anaconda/lib/python3.5/site-packages/sklearn/calibration.py:415: RuntimeWarning: overflow encountered in exp\n  E = np.exp(AB[0] * F + AB[1])\n/Users/maxwelllee54/anaconda/lib/python3.5/site-packages/sklearn/calibration.py:425: RuntimeWarning: overflow encountered in exp\n  E = np.exp(AB[0] * F + AB[1])\n/Users/maxwelllee54/anaconda/lib/python3.5/site-packages/sklearn/calibration.py:427: RuntimeWarning: invalid value encountered in multiply\n  TEP_minus_T1P = P * (T * E - T1)\n/Users/maxwelllee54/anaconda/lib/python3.5/site-packages/sklearn/calibration.py:415: RuntimeWarning: overflow encountered in exp\n  E = np.exp(AB[0] * F + AB[1])\n/Users/maxwelllee54/anaconda/lib/python3.5/site-packages/sklearn/calibration.py:415: RuntimeWarning: overflow encountered in exp\n  E = np.exp(AB[0] * F + AB[1])\n/Users/maxwelllee54/anaconda/lib/python3.5/site-packages/sklearn/calibration.py:425: RuntimeWarning: overflow encountered in exp\n  E = np.exp(AB[0] * F + AB[1])\n/Users/maxwelllee54/anaconda/lib/python3.5/site-packages/sklearn/calibration.py:427: RuntimeWarning: invalid value encountered in multiply\n  TEP_minus_T1P = P * (T * E - T1)\n/Users/maxwelllee54/anaconda/lib/python3.5/site-packages/sklearn/calibration.py:415: RuntimeWarning: overflow encountered in exp\n  E = np.exp(AB[0] * F + AB[1])\n/Users/maxwelllee54/anaconda/lib/python3.5/site-packages/sklearn/calibration.py:415: RuntimeWarning: overflow encountered in exp\n  E = np.exp(AB[0] * F + AB[1])\n/Users/maxwelllee54/anaconda/lib/python3.5/site-packages/sklearn/calibration.py:425: RuntimeWarning: overflow encountered in exp\n  E = np.exp(AB[0] * F + AB[1])\n/Users/maxwelllee54/anaconda/lib/python3.5/site-packages/sklearn/calibration.py:427: RuntimeWarning: invalid value encountered in multiply\n  TEP_minus_T1P = P * (T * E - T1)\n/Users/maxwelllee54/anaconda/lib/python3.5/site-packages/sklearn/calibration.py:415: RuntimeWarning: overflow encountered in exp\n  E = np.exp(AB[0] * F + AB[1])\n/Users/maxwelllee54/anaconda/lib/python3.5/site-packages/sklearn/calibration.py:415: RuntimeWarning: overflow encountered in exp\n  E = np.exp(AB[0] * F + AB[1])\n/Users/maxwelllee54/anaconda/lib/python3.5/site-packages/sklearn/calibration.py:425: RuntimeWarning: overflow encountered in exp\n  E = np.exp(AB[0] * F + AB[1])\n/Users/maxwelllee54/anaconda/lib/python3.5/site-packages/sklearn/calibration.py:427: RuntimeWarning: invalid value encountered in multiply\n  TEP_minus_T1P = P * (T * E - T1)\n/Users/maxwelllee54/anaconda/lib/python3.5/site-packages/sklearn/calibration.py:415: RuntimeWarning: overflow encountered in exp\n  E = np.exp(AB[0] * F + AB[1])\n"
     ]
    },
    {
     "name": "stdout",
     "output_type": "stream",
     "text": [
      "0.563029756109 \t\t 16 \t\t 14\n0.563522653838 \t\t 16 \t\t 15\n"
     ]
    },
    {
     "name": "stderr",
     "output_type": "stream",
     "text": [
      "/Users/maxwelllee54/anaconda/lib/python3.5/site-packages/sklearn/calibration.py:415: RuntimeWarning: overflow encountered in exp\n  E = np.exp(AB[0] * F + AB[1])\n/Users/maxwelllee54/anaconda/lib/python3.5/site-packages/sklearn/calibration.py:425: RuntimeWarning: overflow encountered in exp\n  E = np.exp(AB[0] * F + AB[1])\n/Users/maxwelllee54/anaconda/lib/python3.5/site-packages/sklearn/calibration.py:427: RuntimeWarning: invalid value encountered in multiply\n  TEP_minus_T1P = P * (T * E - T1)\n/Users/maxwelllee54/anaconda/lib/python3.5/site-packages/sklearn/calibration.py:415: RuntimeWarning: overflow encountered in exp\n  E = np.exp(AB[0] * F + AB[1])\n"
     ]
    },
    {
     "name": "stdout",
     "output_type": "stream",
     "text": [
      "0.679418885358 \t\t 17 \t\t 3\n0.621310622397 \t\t 17 \t\t 4\n0.608794540246 \t\t 17 \t\t 5\n0.608413264128 \t\t 17 \t\t 6\n0.557066025511 \t\t 17 \t\t 7\n0.561538576264 \t\t 17 \t\t 8\n"
     ]
    },
    {
     "name": "stderr",
     "output_type": "stream",
     "text": [
      "/Users/maxwelllee54/anaconda/lib/python3.5/site-packages/sklearn/calibration.py:415: RuntimeWarning: overflow encountered in exp\n  E = np.exp(AB[0] * F + AB[1])\n/Users/maxwelllee54/anaconda/lib/python3.5/site-packages/sklearn/calibration.py:425: RuntimeWarning: overflow encountered in exp\n  E = np.exp(AB[0] * F + AB[1])\n/Users/maxwelllee54/anaconda/lib/python3.5/site-packages/sklearn/calibration.py:427: RuntimeWarning: invalid value encountered in multiply\n  TEP_minus_T1P = P * (T * E - T1)\n/Users/maxwelllee54/anaconda/lib/python3.5/site-packages/sklearn/calibration.py:415: RuntimeWarning: overflow encountered in exp\n  E = np.exp(AB[0] * F + AB[1])\n/Users/maxwelllee54/anaconda/lib/python3.5/site-packages/sklearn/calibration.py:415: RuntimeWarning: overflow encountered in exp\n  E = np.exp(AB[0] * F + AB[1])\n/Users/maxwelllee54/anaconda/lib/python3.5/site-packages/sklearn/calibration.py:425: RuntimeWarning: overflow encountered in exp\n  E = np.exp(AB[0] * F + AB[1])\n/Users/maxwelllee54/anaconda/lib/python3.5/site-packages/sklearn/calibration.py:427: RuntimeWarning: invalid value encountered in multiply\n  TEP_minus_T1P = P * (T * E - T1)\n/Users/maxwelllee54/anaconda/lib/python3.5/site-packages/sklearn/calibration.py:415: RuntimeWarning: overflow encountered in exp\n  E = np.exp(AB[0] * F + AB[1])\n/Users/maxwelllee54/anaconda/lib/python3.5/site-packages/sklearn/calibration.py:415: RuntimeWarning: overflow encountered in exp\n  E = np.exp(AB[0] * F + AB[1])\n/Users/maxwelllee54/anaconda/lib/python3.5/site-packages/sklearn/calibration.py:425: RuntimeWarning: overflow encountered in exp\n  E = np.exp(AB[0] * F + AB[1])\n/Users/maxwelllee54/anaconda/lib/python3.5/site-packages/sklearn/calibration.py:427: RuntimeWarning: invalid value encountered in multiply\n  TEP_minus_T1P = P * (T * E - T1)\n/Users/maxwelllee54/anaconda/lib/python3.5/site-packages/sklearn/calibration.py:415: RuntimeWarning: overflow encountered in exp\n  E = np.exp(AB[0] * F + AB[1])\n/Users/maxwelllee54/anaconda/lib/python3.5/site-packages/sklearn/calibration.py:415: RuntimeWarning: overflow encountered in exp\n  E = np.exp(AB[0] * F + AB[1])\n/Users/maxwelllee54/anaconda/lib/python3.5/site-packages/sklearn/calibration.py:425: RuntimeWarning: overflow encountered in exp\n  E = np.exp(AB[0] * F + AB[1])\n/Users/maxwelllee54/anaconda/lib/python3.5/site-packages/sklearn/calibration.py:427: RuntimeWarning: invalid value encountered in multiply\n  TEP_minus_T1P = P * (T * E - T1)\n/Users/maxwelllee54/anaconda/lib/python3.5/site-packages/sklearn/calibration.py:415: RuntimeWarning: overflow encountered in exp\n  E = np.exp(AB[0] * F + AB[1])\n/Users/maxwelllee54/anaconda/lib/python3.5/site-packages/sklearn/calibration.py:415: RuntimeWarning: overflow encountered in exp\n  E = np.exp(AB[0] * F + AB[1])\n/Users/maxwelllee54/anaconda/lib/python3.5/site-packages/sklearn/calibration.py:425: RuntimeWarning: overflow encountered in exp\n  E = np.exp(AB[0] * F + AB[1])\n/Users/maxwelllee54/anaconda/lib/python3.5/site-packages/sklearn/calibration.py:427: RuntimeWarning: invalid value encountered in multiply\n  TEP_minus_T1P = P * (T * E - T1)\n/Users/maxwelllee54/anaconda/lib/python3.5/site-packages/sklearn/calibration.py:415: RuntimeWarning: overflow encountered in exp\n  E = np.exp(AB[0] * F + AB[1])\n"
     ]
    },
    {
     "name": "stdout",
     "output_type": "stream",
     "text": [
      "0.562018342496 \t\t 17 \t\t 9\n0.558320332004 \t\t 17 \t\t 10\n0.556721720259 \t\t 17 \t\t 11\n0.5505302171 \t\t 17 \t\t 12\n0.54855602336 \t\t 17 \t\t 13\n"
     ]
    },
    {
     "name": "stderr",
     "output_type": "stream",
     "text": [
      "/Users/maxwelllee54/anaconda/lib/python3.5/site-packages/sklearn/calibration.py:415: RuntimeWarning: overflow encountered in exp\n  E = np.exp(AB[0] * F + AB[1])\n/Users/maxwelllee54/anaconda/lib/python3.5/site-packages/sklearn/calibration.py:425: RuntimeWarning: overflow encountered in exp\n  E = np.exp(AB[0] * F + AB[1])\n/Users/maxwelllee54/anaconda/lib/python3.5/site-packages/sklearn/calibration.py:427: RuntimeWarning: invalid value encountered in multiply\n  TEP_minus_T1P = P * (T * E - T1)\n/Users/maxwelllee54/anaconda/lib/python3.5/site-packages/sklearn/calibration.py:415: RuntimeWarning: overflow encountered in exp\n  E = np.exp(AB[0] * F + AB[1])\n/Users/maxwelllee54/anaconda/lib/python3.5/site-packages/sklearn/calibration.py:415: RuntimeWarning: overflow encountered in exp\n  E = np.exp(AB[0] * F + AB[1])\n/Users/maxwelllee54/anaconda/lib/python3.5/site-packages/sklearn/calibration.py:425: RuntimeWarning: overflow encountered in exp\n  E = np.exp(AB[0] * F + AB[1])\n/Users/maxwelllee54/anaconda/lib/python3.5/site-packages/sklearn/calibration.py:427: RuntimeWarning: invalid value encountered in multiply\n  TEP_minus_T1P = P * (T * E - T1)\n/Users/maxwelllee54/anaconda/lib/python3.5/site-packages/sklearn/calibration.py:415: RuntimeWarning: overflow encountered in exp\n  E = np.exp(AB[0] * F + AB[1])\n/Users/maxwelllee54/anaconda/lib/python3.5/site-packages/sklearn/calibration.py:415: RuntimeWarning: overflow encountered in exp\n  E = np.exp(AB[0] * F + AB[1])\n/Users/maxwelllee54/anaconda/lib/python3.5/site-packages/sklearn/calibration.py:425: RuntimeWarning: overflow encountered in exp\n  E = np.exp(AB[0] * F + AB[1])\n/Users/maxwelllee54/anaconda/lib/python3.5/site-packages/sklearn/calibration.py:427: RuntimeWarning: invalid value encountered in multiply\n  TEP_minus_T1P = P * (T * E - T1)\n/Users/maxwelllee54/anaconda/lib/python3.5/site-packages/sklearn/calibration.py:415: RuntimeWarning: overflow encountered in exp\n  E = np.exp(AB[0] * F + AB[1])\n/Users/maxwelllee54/anaconda/lib/python3.5/site-packages/sklearn/calibration.py:415: RuntimeWarning: overflow encountered in exp\n  E = np.exp(AB[0] * F + AB[1])\n/Users/maxwelllee54/anaconda/lib/python3.5/site-packages/sklearn/calibration.py:425: RuntimeWarning: overflow encountered in exp\n  E = np.exp(AB[0] * F + AB[1])\n/Users/maxwelllee54/anaconda/lib/python3.5/site-packages/sklearn/calibration.py:427: RuntimeWarning: invalid value encountered in multiply\n  TEP_minus_T1P = P * (T * E - T1)\n/Users/maxwelllee54/anaconda/lib/python3.5/site-packages/sklearn/calibration.py:415: RuntimeWarning: overflow encountered in exp\n  E = np.exp(AB[0] * F + AB[1])\n/Users/maxwelllee54/anaconda/lib/python3.5/site-packages/sklearn/calibration.py:415: RuntimeWarning: overflow encountered in exp\n  E = np.exp(AB[0] * F + AB[1])\n/Users/maxwelllee54/anaconda/lib/python3.5/site-packages/sklearn/calibration.py:425: RuntimeWarning: overflow encountered in exp\n  E = np.exp(AB[0] * F + AB[1])\n/Users/maxwelllee54/anaconda/lib/python3.5/site-packages/sklearn/calibration.py:427: RuntimeWarning: invalid value encountered in multiply\n  TEP_minus_T1P = P * (T * E - T1)\n/Users/maxwelllee54/anaconda/lib/python3.5/site-packages/sklearn/calibration.py:415: RuntimeWarning: overflow encountered in exp\n  E = np.exp(AB[0] * F + AB[1])\n"
     ]
    },
    {
     "name": "stdout",
     "output_type": "stream",
     "text": [
      "0.570824463751 \t\t 17 \t\t 14\n0.56434577643 \t\t 17 \t\t 15\n0.565315639982 \t\t 17 \t\t 16\n"
     ]
    },
    {
     "name": "stderr",
     "output_type": "stream",
     "text": [
      "/Users/maxwelllee54/anaconda/lib/python3.5/site-packages/sklearn/calibration.py:415: RuntimeWarning: overflow encountered in exp\n  E = np.exp(AB[0] * F + AB[1])\n/Users/maxwelllee54/anaconda/lib/python3.5/site-packages/sklearn/calibration.py:425: RuntimeWarning: overflow encountered in exp\n  E = np.exp(AB[0] * F + AB[1])\n/Users/maxwelllee54/anaconda/lib/python3.5/site-packages/sklearn/calibration.py:427: RuntimeWarning: invalid value encountered in multiply\n  TEP_minus_T1P = P * (T * E - T1)\n/Users/maxwelllee54/anaconda/lib/python3.5/site-packages/sklearn/calibration.py:415: RuntimeWarning: overflow encountered in exp\n  E = np.exp(AB[0] * F + AB[1])\n/Users/maxwelllee54/anaconda/lib/python3.5/site-packages/sklearn/calibration.py:415: RuntimeWarning: overflow encountered in exp\n  E = np.exp(AB[0] * F + AB[1])\n/Users/maxwelllee54/anaconda/lib/python3.5/site-packages/sklearn/calibration.py:425: RuntimeWarning: overflow encountered in exp\n  E = np.exp(AB[0] * F + AB[1])\n/Users/maxwelllee54/anaconda/lib/python3.5/site-packages/sklearn/calibration.py:427: RuntimeWarning: invalid value encountered in multiply\n  TEP_minus_T1P = P * (T * E - T1)\n/Users/maxwelllee54/anaconda/lib/python3.5/site-packages/sklearn/calibration.py:415: RuntimeWarning: overflow encountered in exp\n  E = np.exp(AB[0] * F + AB[1])\n"
     ]
    },
    {
     "name": "stdout",
     "output_type": "stream",
     "text": [
      "0.679404294725 \t\t 18 \t\t 3\n0.627305639722 \t\t 18 \t\t 4\n0.604774182472 \t\t 18 \t\t 5\n0.603157193199 \t\t 18 \t\t 6\n0.610377171919 \t\t 18 \t\t 7\n0.554595700558 \t\t 18 \t\t 8\n"
     ]
    },
    {
     "name": "stderr",
     "output_type": "stream",
     "text": [
      "/Users/maxwelllee54/anaconda/lib/python3.5/site-packages/sklearn/calibration.py:415: RuntimeWarning: overflow encountered in exp\n  E = np.exp(AB[0] * F + AB[1])\n/Users/maxwelllee54/anaconda/lib/python3.5/site-packages/sklearn/calibration.py:425: RuntimeWarning: overflow encountered in exp\n  E = np.exp(AB[0] * F + AB[1])\n/Users/maxwelllee54/anaconda/lib/python3.5/site-packages/sklearn/calibration.py:427: RuntimeWarning: invalid value encountered in multiply\n  TEP_minus_T1P = P * (T * E - T1)\n/Users/maxwelllee54/anaconda/lib/python3.5/site-packages/sklearn/calibration.py:415: RuntimeWarning: overflow encountered in exp\n  E = np.exp(AB[0] * F + AB[1])\n/Users/maxwelllee54/anaconda/lib/python3.5/site-packages/sklearn/calibration.py:415: RuntimeWarning: overflow encountered in exp\n  E = np.exp(AB[0] * F + AB[1])\n/Users/maxwelllee54/anaconda/lib/python3.5/site-packages/sklearn/calibration.py:425: RuntimeWarning: overflow encountered in exp\n  E = np.exp(AB[0] * F + AB[1])\n/Users/maxwelllee54/anaconda/lib/python3.5/site-packages/sklearn/calibration.py:427: RuntimeWarning: invalid value encountered in multiply\n  TEP_minus_T1P = P * (T * E - T1)\n/Users/maxwelllee54/anaconda/lib/python3.5/site-packages/sklearn/calibration.py:415: RuntimeWarning: overflow encountered in exp\n  E = np.exp(AB[0] * F + AB[1])\n/Users/maxwelllee54/anaconda/lib/python3.5/site-packages/sklearn/calibration.py:415: RuntimeWarning: overflow encountered in exp\n  E = np.exp(AB[0] * F + AB[1])\n/Users/maxwelllee54/anaconda/lib/python3.5/site-packages/sklearn/calibration.py:425: RuntimeWarning: overflow encountered in exp\n  E = np.exp(AB[0] * F + AB[1])\n/Users/maxwelllee54/anaconda/lib/python3.5/site-packages/sklearn/calibration.py:427: RuntimeWarning: invalid value encountered in multiply\n  TEP_minus_T1P = P * (T * E - T1)\n/Users/maxwelllee54/anaconda/lib/python3.5/site-packages/sklearn/calibration.py:415: RuntimeWarning: overflow encountered in exp\n  E = np.exp(AB[0] * F + AB[1])\n/Users/maxwelllee54/anaconda/lib/python3.5/site-packages/sklearn/calibration.py:415: RuntimeWarning: overflow encountered in exp\n  E = np.exp(AB[0] * F + AB[1])\n/Users/maxwelllee54/anaconda/lib/python3.5/site-packages/sklearn/calibration.py:425: RuntimeWarning: overflow encountered in exp\n  E = np.exp(AB[0] * F + AB[1])\n/Users/maxwelllee54/anaconda/lib/python3.5/site-packages/sklearn/calibration.py:427: RuntimeWarning: invalid value encountered in multiply\n  TEP_minus_T1P = P * (T * E - T1)\n/Users/maxwelllee54/anaconda/lib/python3.5/site-packages/sklearn/calibration.py:415: RuntimeWarning: overflow encountered in exp\n  E = np.exp(AB[0] * F + AB[1])\n/Users/maxwelllee54/anaconda/lib/python3.5/site-packages/sklearn/calibration.py:415: RuntimeWarning: overflow encountered in exp\n  E = np.exp(AB[0] * F + AB[1])\n/Users/maxwelllee54/anaconda/lib/python3.5/site-packages/sklearn/calibration.py:425: RuntimeWarning: overflow encountered in exp\n  E = np.exp(AB[0] * F + AB[1])\n/Users/maxwelllee54/anaconda/lib/python3.5/site-packages/sklearn/calibration.py:427: RuntimeWarning: invalid value encountered in multiply\n  TEP_minus_T1P = P * (T * E - T1)\n/Users/maxwelllee54/anaconda/lib/python3.5/site-packages/sklearn/calibration.py:415: RuntimeWarning: overflow encountered in exp\n  E = np.exp(AB[0] * F + AB[1])\n/Users/maxwelllee54/anaconda/lib/python3.5/site-packages/sklearn/calibration.py:415: RuntimeWarning: overflow encountered in exp\n  E = np.exp(AB[0] * F + AB[1])\n/Users/maxwelllee54/anaconda/lib/python3.5/site-packages/sklearn/calibration.py:425: RuntimeWarning: overflow encountered in exp\n  E = np.exp(AB[0] * F + AB[1])\n/Users/maxwelllee54/anaconda/lib/python3.5/site-packages/sklearn/calibration.py:427: RuntimeWarning: invalid value encountered in multiply\n  TEP_minus_T1P = P * (T * E - T1)\n"
     ]
    },
    {
     "name": "stdout",
     "output_type": "stream",
     "text": [
      "0.561347901815 \t\t 18 \t\t 9\n0.560453731279 \t\t 18 \t\t 10\n0.557250050433 \t\t 18 \t\t 11\n0.556301670224 \t\t 18 \t\t 12\n0.549956062506 \t\t 18 \t\t 13\n"
     ]
    },
    {
     "name": "stderr",
     "output_type": "stream",
     "text": [
      "/Users/maxwelllee54/anaconda/lib/python3.5/site-packages/sklearn/calibration.py:415: RuntimeWarning: overflow encountered in exp\n  E = np.exp(AB[0] * F + AB[1])\n/Users/maxwelllee54/anaconda/lib/python3.5/site-packages/sklearn/calibration.py:415: RuntimeWarning: overflow encountered in exp\n  E = np.exp(AB[0] * F + AB[1])\n/Users/maxwelllee54/anaconda/lib/python3.5/site-packages/sklearn/calibration.py:425: RuntimeWarning: overflow encountered in exp\n  E = np.exp(AB[0] * F + AB[1])\n/Users/maxwelllee54/anaconda/lib/python3.5/site-packages/sklearn/calibration.py:427: RuntimeWarning: invalid value encountered in multiply\n  TEP_minus_T1P = P * (T * E - T1)\n/Users/maxwelllee54/anaconda/lib/python3.5/site-packages/sklearn/calibration.py:415: RuntimeWarning: overflow encountered in exp\n  E = np.exp(AB[0] * F + AB[1])\n/Users/maxwelllee54/anaconda/lib/python3.5/site-packages/sklearn/calibration.py:415: RuntimeWarning: overflow encountered in exp\n  E = np.exp(AB[0] * F + AB[1])\n/Users/maxwelllee54/anaconda/lib/python3.5/site-packages/sklearn/calibration.py:425: RuntimeWarning: overflow encountered in exp\n  E = np.exp(AB[0] * F + AB[1])\n/Users/maxwelllee54/anaconda/lib/python3.5/site-packages/sklearn/calibration.py:427: RuntimeWarning: invalid value encountered in multiply\n  TEP_minus_T1P = P * (T * E - T1)\n/Users/maxwelllee54/anaconda/lib/python3.5/site-packages/sklearn/calibration.py:415: RuntimeWarning: overflow encountered in exp\n  E = np.exp(AB[0] * F + AB[1])\n/Users/maxwelllee54/anaconda/lib/python3.5/site-packages/sklearn/calibration.py:415: RuntimeWarning: overflow encountered in exp\n  E = np.exp(AB[0] * F + AB[1])\n/Users/maxwelllee54/anaconda/lib/python3.5/site-packages/sklearn/calibration.py:425: RuntimeWarning: overflow encountered in exp\n  E = np.exp(AB[0] * F + AB[1])\n/Users/maxwelllee54/anaconda/lib/python3.5/site-packages/sklearn/calibration.py:427: RuntimeWarning: invalid value encountered in multiply\n  TEP_minus_T1P = P * (T * E - T1)\n/Users/maxwelllee54/anaconda/lib/python3.5/site-packages/sklearn/calibration.py:415: RuntimeWarning: overflow encountered in exp\n  E = np.exp(AB[0] * F + AB[1])\n/Users/maxwelllee54/anaconda/lib/python3.5/site-packages/sklearn/calibration.py:415: RuntimeWarning: overflow encountered in exp\n  E = np.exp(AB[0] * F + AB[1])\n/Users/maxwelllee54/anaconda/lib/python3.5/site-packages/sklearn/calibration.py:425: RuntimeWarning: overflow encountered in exp\n  E = np.exp(AB[0] * F + AB[1])\n/Users/maxwelllee54/anaconda/lib/python3.5/site-packages/sklearn/calibration.py:427: RuntimeWarning: invalid value encountered in multiply\n  TEP_minus_T1P = P * (T * E - T1)\n/Users/maxwelllee54/anaconda/lib/python3.5/site-packages/sklearn/calibration.py:415: RuntimeWarning: overflow encountered in exp\n  E = np.exp(AB[0] * F + AB[1])\n"
     ]
    },
    {
     "name": "stdout",
     "output_type": "stream",
     "text": [
      "0.54793644712 \t\t 18 \t\t 14\n0.569908492272 \t\t 18 \t\t 15\n0.562720400352 \t\t 18 \t\t 16\n"
     ]
    },
    {
     "name": "stderr",
     "output_type": "stream",
     "text": [
      "/Users/maxwelllee54/anaconda/lib/python3.5/site-packages/sklearn/calibration.py:415: RuntimeWarning: overflow encountered in exp\n  E = np.exp(AB[0] * F + AB[1])\n/Users/maxwelllee54/anaconda/lib/python3.5/site-packages/sklearn/calibration.py:425: RuntimeWarning: overflow encountered in exp\n  E = np.exp(AB[0] * F + AB[1])\n/Users/maxwelllee54/anaconda/lib/python3.5/site-packages/sklearn/calibration.py:427: RuntimeWarning: invalid value encountered in multiply\n  TEP_minus_T1P = P * (T * E - T1)\n/Users/maxwelllee54/anaconda/lib/python3.5/site-packages/sklearn/calibration.py:415: RuntimeWarning: overflow encountered in exp\n  E = np.exp(AB[0] * F + AB[1])\n/Users/maxwelllee54/anaconda/lib/python3.5/site-packages/sklearn/calibration.py:415: RuntimeWarning: overflow encountered in exp\n  E = np.exp(AB[0] * F + AB[1])\n/Users/maxwelllee54/anaconda/lib/python3.5/site-packages/sklearn/calibration.py:425: RuntimeWarning: overflow encountered in exp\n  E = np.exp(AB[0] * F + AB[1])\n/Users/maxwelllee54/anaconda/lib/python3.5/site-packages/sklearn/calibration.py:427: RuntimeWarning: invalid value encountered in multiply\n  TEP_minus_T1P = P * (T * E - T1)\n/Users/maxwelllee54/anaconda/lib/python3.5/site-packages/sklearn/calibration.py:415: RuntimeWarning: overflow encountered in exp\n  E = np.exp(AB[0] * F + AB[1])\n/Users/maxwelllee54/anaconda/lib/python3.5/site-packages/sklearn/calibration.py:415: RuntimeWarning: overflow encountered in exp\n  E = np.exp(AB[0] * F + AB[1])\n/Users/maxwelllee54/anaconda/lib/python3.5/site-packages/sklearn/calibration.py:425: RuntimeWarning: overflow encountered in exp\n  E = np.exp(AB[0] * F + AB[1])\n/Users/maxwelllee54/anaconda/lib/python3.5/site-packages/sklearn/calibration.py:427: RuntimeWarning: invalid value encountered in multiply\n  TEP_minus_T1P = P * (T * E - T1)\n/Users/maxwelllee54/anaconda/lib/python3.5/site-packages/sklearn/calibration.py:415: RuntimeWarning: overflow encountered in exp\n  E = np.exp(AB[0] * F + AB[1])\n"
     ]
    },
    {
     "name": "stdout",
     "output_type": "stream",
     "text": [
      "0.563463322348 \t\t 18 \t\t 17\n0.67939888438 \t\t 19 \t\t 3\n0.62717603043 \t\t 19 \t\t 4\n"
     ]
    },
    {
     "name": "stderr",
     "output_type": "stream",
     "text": [
      "/Users/maxwelllee54/anaconda/lib/python3.5/site-packages/sklearn/calibration.py:415: RuntimeWarning: overflow encountered in exp\n  E = np.exp(AB[0] * F + AB[1])\n/Users/maxwelllee54/anaconda/lib/python3.5/site-packages/sklearn/calibration.py:425: RuntimeWarning: overflow encountered in exp\n  E = np.exp(AB[0] * F + AB[1])\n/Users/maxwelllee54/anaconda/lib/python3.5/site-packages/sklearn/calibration.py:427: RuntimeWarning: invalid value encountered in multiply\n  TEP_minus_T1P = P * (T * E - T1)\n/Users/maxwelllee54/anaconda/lib/python3.5/site-packages/sklearn/calibration.py:415: RuntimeWarning: overflow encountered in exp\n  E = np.exp(AB[0] * F + AB[1])\n/Users/maxwelllee54/anaconda/lib/python3.5/site-packages/sklearn/calibration.py:415: RuntimeWarning: overflow encountered in exp\n  E = np.exp(AB[0] * F + AB[1])\n/Users/maxwelllee54/anaconda/lib/python3.5/site-packages/sklearn/calibration.py:425: RuntimeWarning: overflow encountered in exp\n  E = np.exp(AB[0] * F + AB[1])\n/Users/maxwelllee54/anaconda/lib/python3.5/site-packages/sklearn/calibration.py:427: RuntimeWarning: invalid value encountered in multiply\n  TEP_minus_T1P = P * (T * E - T1)\n/Users/maxwelllee54/anaconda/lib/python3.5/site-packages/sklearn/calibration.py:415: RuntimeWarning: overflow encountered in exp\n  E = np.exp(AB[0] * F + AB[1])\n/Users/maxwelllee54/anaconda/lib/python3.5/site-packages/sklearn/calibration.py:415: RuntimeWarning: overflow encountered in exp\n  E = np.exp(AB[0] * F + AB[1])\n/Users/maxwelllee54/anaconda/lib/python3.5/site-packages/sklearn/calibration.py:425: RuntimeWarning: overflow encountered in exp\n  E = np.exp(AB[0] * F + AB[1])\n/Users/maxwelllee54/anaconda/lib/python3.5/site-packages/sklearn/calibration.py:427: RuntimeWarning: invalid value encountered in multiply\n  TEP_minus_T1P = P * (T * E - T1)\n/Users/maxwelllee54/anaconda/lib/python3.5/site-packages/sklearn/calibration.py:415: RuntimeWarning: overflow encountered in exp\n  E = np.exp(AB[0] * F + AB[1])\n/Users/maxwelllee54/anaconda/lib/python3.5/site-packages/sklearn/calibration.py:415: RuntimeWarning: overflow encountered in exp\n  E = np.exp(AB[0] * F + AB[1])\n/Users/maxwelllee54/anaconda/lib/python3.5/site-packages/sklearn/calibration.py:425: RuntimeWarning: overflow encountered in exp\n  E = np.exp(AB[0] * F + AB[1])\n/Users/maxwelllee54/anaconda/lib/python3.5/site-packages/sklearn/calibration.py:427: RuntimeWarning: invalid value encountered in multiply\n  TEP_minus_T1P = P * (T * E - T1)\n/Users/maxwelllee54/anaconda/lib/python3.5/site-packages/sklearn/calibration.py:415: RuntimeWarning: overflow encountered in exp\n  E = np.exp(AB[0] * F + AB[1])\n/Users/maxwelllee54/anaconda/lib/python3.5/site-packages/sklearn/calibration.py:415: RuntimeWarning: overflow encountered in exp\n  E = np.exp(AB[0] * F + AB[1])\n/Users/maxwelllee54/anaconda/lib/python3.5/site-packages/sklearn/calibration.py:425: RuntimeWarning: overflow encountered in exp\n  E = np.exp(AB[0] * F + AB[1])\n/Users/maxwelllee54/anaconda/lib/python3.5/site-packages/sklearn/calibration.py:427: RuntimeWarning: invalid value encountered in multiply\n  TEP_minus_T1P = P * (T * E - T1)\n/Users/maxwelllee54/anaconda/lib/python3.5/site-packages/sklearn/calibration.py:415: RuntimeWarning: overflow encountered in exp\n  E = np.exp(AB[0] * F + AB[1])\n/Users/maxwelllee54/anaconda/lib/python3.5/site-packages/sklearn/calibration.py:415: RuntimeWarning: overflow encountered in exp\n  E = np.exp(AB[0] * F + AB[1])\n/Users/maxwelllee54/anaconda/lib/python3.5/site-packages/sklearn/calibration.py:425: RuntimeWarning: overflow encountered in exp\n  E = np.exp(AB[0] * F + AB[1])\n/Users/maxwelllee54/anaconda/lib/python3.5/site-packages/sklearn/calibration.py:427: RuntimeWarning: invalid value encountered in multiply\n  TEP_minus_T1P = P * (T * E - T1)\n/Users/maxwelllee54/anaconda/lib/python3.5/site-packages/sklearn/calibration.py:415: RuntimeWarning: overflow encountered in exp\n  E = np.exp(AB[0] * F + AB[1])\n"
     ]
    },
    {
     "name": "stdout",
     "output_type": "stream",
     "text": [
      "0.604722498858 \t\t 19 \t\t 5\n0.603104481107 \t\t 19 \t\t 6\n0.610309344037 \t\t 19 \t\t 7\n0.554569481666 \t\t 19 \t\t 8\n0.561317558481 \t\t 19 \t\t 9\n0.56042291473 \t\t 19 \t\t 10\n"
     ]
    },
    {
     "name": "stderr",
     "output_type": "stream",
     "text": [
      "/Users/maxwelllee54/anaconda/lib/python3.5/site-packages/sklearn/calibration.py:415: RuntimeWarning: overflow encountered in exp\n  E = np.exp(AB[0] * F + AB[1])\n/Users/maxwelllee54/anaconda/lib/python3.5/site-packages/sklearn/calibration.py:425: RuntimeWarning: overflow encountered in exp\n  E = np.exp(AB[0] * F + AB[1])\n/Users/maxwelllee54/anaconda/lib/python3.5/site-packages/sklearn/calibration.py:427: RuntimeWarning: invalid value encountered in multiply\n  TEP_minus_T1P = P * (T * E - T1)\n/Users/maxwelllee54/anaconda/lib/python3.5/site-packages/sklearn/calibration.py:415: RuntimeWarning: overflow encountered in exp\n  E = np.exp(AB[0] * F + AB[1])\n/Users/maxwelllee54/anaconda/lib/python3.5/site-packages/sklearn/calibration.py:415: RuntimeWarning: overflow encountered in exp\n  E = np.exp(AB[0] * F + AB[1])\n/Users/maxwelllee54/anaconda/lib/python3.5/site-packages/sklearn/calibration.py:425: RuntimeWarning: overflow encountered in exp\n  E = np.exp(AB[0] * F + AB[1])\n/Users/maxwelllee54/anaconda/lib/python3.5/site-packages/sklearn/calibration.py:427: RuntimeWarning: invalid value encountered in multiply\n  TEP_minus_T1P = P * (T * E - T1)\n/Users/maxwelllee54/anaconda/lib/python3.5/site-packages/sklearn/calibration.py:415: RuntimeWarning: overflow encountered in exp\n  E = np.exp(AB[0] * F + AB[1])\n/Users/maxwelllee54/anaconda/lib/python3.5/site-packages/sklearn/calibration.py:415: RuntimeWarning: overflow encountered in exp\n  E = np.exp(AB[0] * F + AB[1])\n/Users/maxwelllee54/anaconda/lib/python3.5/site-packages/sklearn/calibration.py:425: RuntimeWarning: overflow encountered in exp\n  E = np.exp(AB[0] * F + AB[1])\n/Users/maxwelllee54/anaconda/lib/python3.5/site-packages/sklearn/calibration.py:427: RuntimeWarning: invalid value encountered in multiply\n  TEP_minus_T1P = P * (T * E - T1)\n/Users/maxwelllee54/anaconda/lib/python3.5/site-packages/sklearn/calibration.py:415: RuntimeWarning: overflow encountered in exp\n  E = np.exp(AB[0] * F + AB[1])\n/Users/maxwelllee54/anaconda/lib/python3.5/site-packages/sklearn/calibration.py:415: RuntimeWarning: overflow encountered in exp\n  E = np.exp(AB[0] * F + AB[1])\n/Users/maxwelllee54/anaconda/lib/python3.5/site-packages/sklearn/calibration.py:425: RuntimeWarning: overflow encountered in exp\n  E = np.exp(AB[0] * F + AB[1])\n/Users/maxwelllee54/anaconda/lib/python3.5/site-packages/sklearn/calibration.py:427: RuntimeWarning: invalid value encountered in multiply\n  TEP_minus_T1P = P * (T * E - T1)\n/Users/maxwelllee54/anaconda/lib/python3.5/site-packages/sklearn/calibration.py:415: RuntimeWarning: overflow encountered in exp\n  E = np.exp(AB[0] * F + AB[1])\n"
     ]
    },
    {
     "name": "stdout",
     "output_type": "stream",
     "text": [
      "0.557220298695 \t\t 19 \t\t 11\n0.556271434117 \t\t 19 \t\t 12\n0.549931078938 \t\t 19 \t\t 13\n0.547914508334 \t\t 19 \t\t 14\n"
     ]
    },
    {
     "name": "stderr",
     "output_type": "stream",
     "text": [
      "/Users/maxwelllee54/anaconda/lib/python3.5/site-packages/sklearn/calibration.py:415: RuntimeWarning: overflow encountered in exp\n  E = np.exp(AB[0] * F + AB[1])\n/Users/maxwelllee54/anaconda/lib/python3.5/site-packages/sklearn/calibration.py:425: RuntimeWarning: overflow encountered in exp\n  E = np.exp(AB[0] * F + AB[1])\n/Users/maxwelllee54/anaconda/lib/python3.5/site-packages/sklearn/calibration.py:427: RuntimeWarning: invalid value encountered in multiply\n  TEP_minus_T1P = P * (T * E - T1)\n/Users/maxwelllee54/anaconda/lib/python3.5/site-packages/sklearn/calibration.py:415: RuntimeWarning: overflow encountered in exp\n  E = np.exp(AB[0] * F + AB[1])\n/Users/maxwelllee54/anaconda/lib/python3.5/site-packages/sklearn/calibration.py:415: RuntimeWarning: overflow encountered in exp\n  E = np.exp(AB[0] * F + AB[1])\n/Users/maxwelllee54/anaconda/lib/python3.5/site-packages/sklearn/calibration.py:425: RuntimeWarning: overflow encountered in exp\n  E = np.exp(AB[0] * F + AB[1])\n/Users/maxwelllee54/anaconda/lib/python3.5/site-packages/sklearn/calibration.py:427: RuntimeWarning: invalid value encountered in multiply\n  TEP_minus_T1P = P * (T * E - T1)\n/Users/maxwelllee54/anaconda/lib/python3.5/site-packages/sklearn/calibration.py:415: RuntimeWarning: overflow encountered in exp\n  E = np.exp(AB[0] * F + AB[1])\n"
     ]
    },
    {
     "name": "stdout",
     "output_type": "stream",
     "text": [
      "0.569885787787 \t\t 19 \t\t 15\n0.562189534944 \t\t 19 \t\t 16\n"
     ]
    },
    {
     "name": "stderr",
     "output_type": "stream",
     "text": [
      "/Users/maxwelllee54/anaconda/lib/python3.5/site-packages/sklearn/calibration.py:415: RuntimeWarning: overflow encountered in exp\n  E = np.exp(AB[0] * F + AB[1])\n/Users/maxwelllee54/anaconda/lib/python3.5/site-packages/sklearn/calibration.py:425: RuntimeWarning: overflow encountered in exp\n  E = np.exp(AB[0] * F + AB[1])\n/Users/maxwelllee54/anaconda/lib/python3.5/site-packages/sklearn/calibration.py:427: RuntimeWarning: invalid value encountered in multiply\n  TEP_minus_T1P = P * (T * E - T1)\n/Users/maxwelllee54/anaconda/lib/python3.5/site-packages/sklearn/calibration.py:415: RuntimeWarning: overflow encountered in exp\n  E = np.exp(AB[0] * F + AB[1])\n/Users/maxwelllee54/anaconda/lib/python3.5/site-packages/sklearn/calibration.py:415: RuntimeWarning: overflow encountered in exp\n  E = np.exp(AB[0] * F + AB[1])\n/Users/maxwelllee54/anaconda/lib/python3.5/site-packages/sklearn/calibration.py:425: RuntimeWarning: overflow encountered in exp\n  E = np.exp(AB[0] * F + AB[1])\n/Users/maxwelllee54/anaconda/lib/python3.5/site-packages/sklearn/calibration.py:427: RuntimeWarning: invalid value encountered in multiply\n  TEP_minus_T1P = P * (T * E - T1)\n/Users/maxwelllee54/anaconda/lib/python3.5/site-packages/sklearn/calibration.py:415: RuntimeWarning: overflow encountered in exp\n  E = np.exp(AB[0] * F + AB[1])\n"
     ]
    },
    {
     "name": "stdout",
     "output_type": "stream",
     "text": [
      "0.559899867527 \t\t 19 \t\t 17\n0.560555770112 \t\t 19 \t\t 18\n"
     ]
    },
    {
     "name": "stdout",
     "output_type": "stream",
     "text": [
      "0.668683618399 \t\t 20 \t\t 3\n0.605140576614 \t\t 20 \t\t 4\n0.605900537834 \t\t 20 \t\t 5\n0.596499713235 \t\t 20 \t\t 6\n"
     ]
    },
    {
     "name": "stderr",
     "output_type": "stream",
     "text": [
      "/Users/maxwelllee54/anaconda/lib/python3.5/site-packages/sklearn/calibration.py:415: RuntimeWarning: overflow encountered in exp\n  E = np.exp(AB[0] * F + AB[1])\n/Users/maxwelllee54/anaconda/lib/python3.5/site-packages/sklearn/calibration.py:425: RuntimeWarning: overflow encountered in exp\n  E = np.exp(AB[0] * F + AB[1])\n/Users/maxwelllee54/anaconda/lib/python3.5/site-packages/sklearn/calibration.py:427: RuntimeWarning: invalid value encountered in multiply\n  TEP_minus_T1P = P * (T * E - T1)\n/Users/maxwelllee54/anaconda/lib/python3.5/site-packages/sklearn/calibration.py:415: RuntimeWarning: overflow encountered in exp\n  E = np.exp(AB[0] * F + AB[1])\n/Users/maxwelllee54/anaconda/lib/python3.5/site-packages/sklearn/calibration.py:415: RuntimeWarning: overflow encountered in exp\n  E = np.exp(AB[0] * F + AB[1])\n/Users/maxwelllee54/anaconda/lib/python3.5/site-packages/sklearn/calibration.py:425: RuntimeWarning: overflow encountered in exp\n  E = np.exp(AB[0] * F + AB[1])\n/Users/maxwelllee54/anaconda/lib/python3.5/site-packages/sklearn/calibration.py:427: RuntimeWarning: invalid value encountered in multiply\n  TEP_minus_T1P = P * (T * E - T1)\n/Users/maxwelllee54/anaconda/lib/python3.5/site-packages/sklearn/calibration.py:415: RuntimeWarning: overflow encountered in exp\n  E = np.exp(AB[0] * F + AB[1])\n/Users/maxwelllee54/anaconda/lib/python3.5/site-packages/sklearn/calibration.py:415: RuntimeWarning: overflow encountered in exp\n  E = np.exp(AB[0] * F + AB[1])\n/Users/maxwelllee54/anaconda/lib/python3.5/site-packages/sklearn/calibration.py:425: RuntimeWarning: overflow encountered in exp\n  E = np.exp(AB[0] * F + AB[1])\n/Users/maxwelllee54/anaconda/lib/python3.5/site-packages/sklearn/calibration.py:427: RuntimeWarning: invalid value encountered in multiply\n  TEP_minus_T1P = P * (T * E - T1)\n/Users/maxwelllee54/anaconda/lib/python3.5/site-packages/sklearn/calibration.py:415: RuntimeWarning: overflow encountered in exp\n  E = np.exp(AB[0] * F + AB[1])\n/Users/maxwelllee54/anaconda/lib/python3.5/site-packages/sklearn/calibration.py:415: RuntimeWarning: overflow encountered in exp\n  E = np.exp(AB[0] * F + AB[1])\n/Users/maxwelllee54/anaconda/lib/python3.5/site-packages/sklearn/calibration.py:425: RuntimeWarning: overflow encountered in exp\n  E = np.exp(AB[0] * F + AB[1])\n/Users/maxwelllee54/anaconda/lib/python3.5/site-packages/sklearn/calibration.py:427: RuntimeWarning: invalid value encountered in multiply\n  TEP_minus_T1P = P * (T * E - T1)\n/Users/maxwelllee54/anaconda/lib/python3.5/site-packages/sklearn/calibration.py:415: RuntimeWarning: overflow encountered in exp\n  E = np.exp(AB[0] * F + AB[1])\n"
     ]
    },
    {
     "name": "stdout",
     "output_type": "stream",
     "text": [
      "0.604799351211 \t\t 20 \t\t 7\n0.568413363744 \t\t 20 \t\t 8\n0.570119253218 \t\t 20 \t\t 9\n"
     ]
    },
    {
     "name": "stderr",
     "output_type": "stream",
     "text": [
      "/Users/maxwelllee54/anaconda/lib/python3.5/site-packages/sklearn/calibration.py:415: RuntimeWarning: overflow encountered in exp\n  E = np.exp(AB[0] * F + AB[1])\n/Users/maxwelllee54/anaconda/lib/python3.5/site-packages/sklearn/calibration.py:425: RuntimeWarning: overflow encountered in exp\n  E = np.exp(AB[0] * F + AB[1])\n/Users/maxwelllee54/anaconda/lib/python3.5/site-packages/sklearn/calibration.py:427: RuntimeWarning: invalid value encountered in multiply\n  TEP_minus_T1P = P * (T * E - T1)\n/Users/maxwelllee54/anaconda/lib/python3.5/site-packages/sklearn/calibration.py:415: RuntimeWarning: overflow encountered in exp\n  E = np.exp(AB[0] * F + AB[1])\n/Users/maxwelllee54/anaconda/lib/python3.5/site-packages/sklearn/calibration.py:415: RuntimeWarning: overflow encountered in exp\n  E = np.exp(AB[0] * F + AB[1])\n/Users/maxwelllee54/anaconda/lib/python3.5/site-packages/sklearn/calibration.py:425: RuntimeWarning: overflow encountered in exp\n  E = np.exp(AB[0] * F + AB[1])\n/Users/maxwelllee54/anaconda/lib/python3.5/site-packages/sklearn/calibration.py:427: RuntimeWarning: invalid value encountered in multiply\n  TEP_minus_T1P = P * (T * E - T1)\n/Users/maxwelllee54/anaconda/lib/python3.5/site-packages/sklearn/calibration.py:415: RuntimeWarning: overflow encountered in exp\n  E = np.exp(AB[0] * F + AB[1])\n/Users/maxwelllee54/anaconda/lib/python3.5/site-packages/sklearn/calibration.py:415: RuntimeWarning: overflow encountered in exp\n  E = np.exp(AB[0] * F + AB[1])\n/Users/maxwelllee54/anaconda/lib/python3.5/site-packages/sklearn/calibration.py:425: RuntimeWarning: overflow encountered in exp\n  E = np.exp(AB[0] * F + AB[1])\n/Users/maxwelllee54/anaconda/lib/python3.5/site-packages/sklearn/calibration.py:427: RuntimeWarning: invalid value encountered in multiply\n  TEP_minus_T1P = P * (T * E - T1)\n/Users/maxwelllee54/anaconda/lib/python3.5/site-packages/sklearn/calibration.py:415: RuntimeWarning: overflow encountered in exp\n  E = np.exp(AB[0] * F + AB[1])\n"
     ]
    },
    {
     "name": "stdout",
     "output_type": "stream",
     "text": [
      "0.569352358863 \t\t 20 \t\t 10\n0.569227866548 \t\t 20 \t\t 11\n0.568754053266 \t\t 20 \t\t 12\n"
     ]
    },
    {
     "name": "stderr",
     "output_type": "stream",
     "text": [
      "/Users/maxwelllee54/anaconda/lib/python3.5/site-packages/sklearn/calibration.py:415: RuntimeWarning: overflow encountered in exp\n  E = np.exp(AB[0] * F + AB[1])\n/Users/maxwelllee54/anaconda/lib/python3.5/site-packages/sklearn/calibration.py:425: RuntimeWarning: overflow encountered in exp\n  E = np.exp(AB[0] * F + AB[1])\n/Users/maxwelllee54/anaconda/lib/python3.5/site-packages/sklearn/calibration.py:427: RuntimeWarning: invalid value encountered in multiply\n  TEP_minus_T1P = P * (T * E - T1)\n/Users/maxwelllee54/anaconda/lib/python3.5/site-packages/sklearn/calibration.py:415: RuntimeWarning: overflow encountered in exp\n  E = np.exp(AB[0] * F + AB[1])\n/Users/maxwelllee54/anaconda/lib/python3.5/site-packages/sklearn/calibration.py:415: RuntimeWarning: overflow encountered in exp\n  E = np.exp(AB[0] * F + AB[1])\n/Users/maxwelllee54/anaconda/lib/python3.5/site-packages/sklearn/calibration.py:425: RuntimeWarning: overflow encountered in exp\n  E = np.exp(AB[0] * F + AB[1])\n/Users/maxwelllee54/anaconda/lib/python3.5/site-packages/sklearn/calibration.py:427: RuntimeWarning: invalid value encountered in multiply\n  TEP_minus_T1P = P * (T * E - T1)\n/Users/maxwelllee54/anaconda/lib/python3.5/site-packages/sklearn/calibration.py:415: RuntimeWarning: overflow encountered in exp\n  E = np.exp(AB[0] * F + AB[1])\n/Users/maxwelllee54/anaconda/lib/python3.5/site-packages/sklearn/calibration.py:415: RuntimeWarning: overflow encountered in exp\n  E = np.exp(AB[0] * F + AB[1])\n/Users/maxwelllee54/anaconda/lib/python3.5/site-packages/sklearn/calibration.py:425: RuntimeWarning: overflow encountered in exp\n  E = np.exp(AB[0] * F + AB[1])\n/Users/maxwelllee54/anaconda/lib/python3.5/site-packages/sklearn/calibration.py:427: RuntimeWarning: invalid value encountered in multiply\n  TEP_minus_T1P = P * (T * E - T1)\n/Users/maxwelllee54/anaconda/lib/python3.5/site-packages/sklearn/calibration.py:415: RuntimeWarning: overflow encountered in exp\n  E = np.exp(AB[0] * F + AB[1])\n"
     ]
    },
    {
     "name": "stdout",
     "output_type": "stream",
     "text": [
      "0.553833692587 \t\t 20 \t\t 13\n0.55113685469 \t\t 20 \t\t 14\n0.558775287701 \t\t 20 \t\t 15\n"
     ]
    },
    {
     "name": "stderr",
     "output_type": "stream",
     "text": [
      "/Users/maxwelllee54/anaconda/lib/python3.5/site-packages/sklearn/calibration.py:415: RuntimeWarning: overflow encountered in exp\n  E = np.exp(AB[0] * F + AB[1])\n/Users/maxwelllee54/anaconda/lib/python3.5/site-packages/sklearn/calibration.py:425: RuntimeWarning: overflow encountered in exp\n  E = np.exp(AB[0] * F + AB[1])\n/Users/maxwelllee54/anaconda/lib/python3.5/site-packages/sklearn/calibration.py:427: RuntimeWarning: invalid value encountered in multiply\n  TEP_minus_T1P = P * (T * E - T1)\n/Users/maxwelllee54/anaconda/lib/python3.5/site-packages/sklearn/calibration.py:415: RuntimeWarning: overflow encountered in exp\n  E = np.exp(AB[0] * F + AB[1])\n"
     ]
    },
    {
     "name": "stdout",
     "output_type": "stream",
     "text": [
      "0.564691403339 \t\t 20 \t\t 16\n"
     ]
    },
    {
     "name": "stderr",
     "output_type": "stream",
     "text": [
      "/Users/maxwelllee54/anaconda/lib/python3.5/site-packages/sklearn/calibration.py:415: RuntimeWarning: overflow encountered in exp\n  E = np.exp(AB[0] * F + AB[1])\n/Users/maxwelllee54/anaconda/lib/python3.5/site-packages/sklearn/calibration.py:425: RuntimeWarning: overflow encountered in exp\n  E = np.exp(AB[0] * F + AB[1])\n/Users/maxwelllee54/anaconda/lib/python3.5/site-packages/sklearn/calibration.py:427: RuntimeWarning: invalid value encountered in multiply\n  TEP_minus_T1P = P * (T * E - T1)\n/Users/maxwelllee54/anaconda/lib/python3.5/site-packages/sklearn/calibration.py:415: RuntimeWarning: overflow encountered in exp\n  E = np.exp(AB[0] * F + AB[1])\n/Users/maxwelllee54/anaconda/lib/python3.5/site-packages/sklearn/calibration.py:415: RuntimeWarning: overflow encountered in exp\n  E = np.exp(AB[0] * F + AB[1])\n/Users/maxwelllee54/anaconda/lib/python3.5/site-packages/sklearn/calibration.py:425: RuntimeWarning: overflow encountered in exp\n  E = np.exp(AB[0] * F + AB[1])\n/Users/maxwelllee54/anaconda/lib/python3.5/site-packages/sklearn/calibration.py:427: RuntimeWarning: invalid value encountered in multiply\n  TEP_minus_T1P = P * (T * E - T1)\n/Users/maxwelllee54/anaconda/lib/python3.5/site-packages/sklearn/calibration.py:415: RuntimeWarning: overflow encountered in exp\n  E = np.exp(AB[0] * F + AB[1])\n"
     ]
    },
    {
     "name": "stdout",
     "output_type": "stream",
     "text": [
      "0.561832886446 \t\t 20 \t\t 17\n0.560297270083 \t\t 20 \t\t 18\n"
     ]
    },
    {
     "name": "stderr",
     "output_type": "stream",
     "text": [
      "/Users/maxwelllee54/anaconda/lib/python3.5/site-packages/sklearn/calibration.py:415: RuntimeWarning: overflow encountered in exp\n  E = np.exp(AB[0] * F + AB[1])\n/Users/maxwelllee54/anaconda/lib/python3.5/site-packages/sklearn/calibration.py:425: RuntimeWarning: overflow encountered in exp\n  E = np.exp(AB[0] * F + AB[1])\n/Users/maxwelllee54/anaconda/lib/python3.5/site-packages/sklearn/calibration.py:427: RuntimeWarning: invalid value encountered in multiply\n  TEP_minus_T1P = P * (T * E - T1)\n/Users/maxwelllee54/anaconda/lib/python3.5/site-packages/sklearn/calibration.py:415: RuntimeWarning: overflow encountered in exp\n  E = np.exp(AB[0] * F + AB[1])\n"
     ]
    },
    {
     "name": "stdout",
     "output_type": "stream",
     "text": [
      "0.562264681977 \t\t 20 \t\t 19\n"
     ]
    },
    {
     "name": "stdout",
     "output_type": "stream",
     "text": [
      "0.668683408102 \t\t 21 \t\t 3\n0.605140021116 \t\t 21 \t\t 4\n0.605900068556 \t\t 21 \t\t 5\n0.596499268741 \t\t 21 \t\t 6\n0.604798455269 \t\t 21 \t\t 7\n"
     ]
    },
    {
     "name": "stderr",
     "output_type": "stream",
     "text": [
      "/Users/maxwelllee54/anaconda/lib/python3.5/site-packages/sklearn/calibration.py:415: RuntimeWarning: overflow encountered in exp\n  E = np.exp(AB[0] * F + AB[1])\n/Users/maxwelllee54/anaconda/lib/python3.5/site-packages/sklearn/calibration.py:425: RuntimeWarning: overflow encountered in exp\n  E = np.exp(AB[0] * F + AB[1])\n/Users/maxwelllee54/anaconda/lib/python3.5/site-packages/sklearn/calibration.py:427: RuntimeWarning: invalid value encountered in multiply\n  TEP_minus_T1P = P * (T * E - T1)\n/Users/maxwelllee54/anaconda/lib/python3.5/site-packages/sklearn/calibration.py:415: RuntimeWarning: overflow encountered in exp\n  E = np.exp(AB[0] * F + AB[1])\n/Users/maxwelllee54/anaconda/lib/python3.5/site-packages/sklearn/calibration.py:415: RuntimeWarning: overflow encountered in exp\n  E = np.exp(AB[0] * F + AB[1])\n/Users/maxwelllee54/anaconda/lib/python3.5/site-packages/sklearn/calibration.py:425: RuntimeWarning: overflow encountered in exp\n  E = np.exp(AB[0] * F + AB[1])\n/Users/maxwelllee54/anaconda/lib/python3.5/site-packages/sklearn/calibration.py:427: RuntimeWarning: invalid value encountered in multiply\n  TEP_minus_T1P = P * (T * E - T1)\n/Users/maxwelllee54/anaconda/lib/python3.5/site-packages/sklearn/calibration.py:415: RuntimeWarning: overflow encountered in exp\n  E = np.exp(AB[0] * F + AB[1])\n/Users/maxwelllee54/anaconda/lib/python3.5/site-packages/sklearn/calibration.py:415: RuntimeWarning: overflow encountered in exp\n  E = np.exp(AB[0] * F + AB[1])\n/Users/maxwelllee54/anaconda/lib/python3.5/site-packages/sklearn/calibration.py:425: RuntimeWarning: overflow encountered in exp\n  E = np.exp(AB[0] * F + AB[1])\n/Users/maxwelllee54/anaconda/lib/python3.5/site-packages/sklearn/calibration.py:427: RuntimeWarning: invalid value encountered in multiply\n  TEP_minus_T1P = P * (T * E - T1)\n/Users/maxwelllee54/anaconda/lib/python3.5/site-packages/sklearn/calibration.py:415: RuntimeWarning: overflow encountered in exp\n  E = np.exp(AB[0] * F + AB[1])\n/Users/maxwelllee54/anaconda/lib/python3.5/site-packages/sklearn/calibration.py:415: RuntimeWarning: overflow encountered in exp\n  E = np.exp(AB[0] * F + AB[1])\n/Users/maxwelllee54/anaconda/lib/python3.5/site-packages/sklearn/calibration.py:425: RuntimeWarning: overflow encountered in exp\n  E = np.exp(AB[0] * F + AB[1])\n/Users/maxwelllee54/anaconda/lib/python3.5/site-packages/sklearn/calibration.py:427: RuntimeWarning: invalid value encountered in multiply\n  TEP_minus_T1P = P * (T * E - T1)\n/Users/maxwelllee54/anaconda/lib/python3.5/site-packages/sklearn/calibration.py:415: RuntimeWarning: overflow encountered in exp\n  E = np.exp(AB[0] * F + AB[1])\n"
     ]
    },
    {
     "name": "stdout",
     "output_type": "stream",
     "text": [
      "0.568412711954 \t\t 21 \t\t 8\n0.57011870895 \t\t 21 \t\t 9\n0.569351737521 \t\t 21 \t\t 10\n0.569227149855 \t\t 21 \t\t 11\n"
     ]
    },
    {
     "name": "stderr",
     "output_type": "stream",
     "text": [
      "/Users/maxwelllee54/anaconda/lib/python3.5/site-packages/sklearn/calibration.py:415: RuntimeWarning: overflow encountered in exp\n  E = np.exp(AB[0] * F + AB[1])\n/Users/maxwelllee54/anaconda/lib/python3.5/site-packages/sklearn/calibration.py:425: RuntimeWarning: overflow encountered in exp\n  E = np.exp(AB[0] * F + AB[1])\n/Users/maxwelllee54/anaconda/lib/python3.5/site-packages/sklearn/calibration.py:427: RuntimeWarning: invalid value encountered in multiply\n  TEP_minus_T1P = P * (T * E - T1)\n/Users/maxwelllee54/anaconda/lib/python3.5/site-packages/sklearn/calibration.py:415: RuntimeWarning: overflow encountered in exp\n  E = np.exp(AB[0] * F + AB[1])\n/Users/maxwelllee54/anaconda/lib/python3.5/site-packages/sklearn/calibration.py:415: RuntimeWarning: overflow encountered in exp\n  E = np.exp(AB[0] * F + AB[1])\n/Users/maxwelllee54/anaconda/lib/python3.5/site-packages/sklearn/calibration.py:425: RuntimeWarning: overflow encountered in exp\n  E = np.exp(AB[0] * F + AB[1])\n/Users/maxwelllee54/anaconda/lib/python3.5/site-packages/sklearn/calibration.py:427: RuntimeWarning: invalid value encountered in multiply\n  TEP_minus_T1P = P * (T * E - T1)\n/Users/maxwelllee54/anaconda/lib/python3.5/site-packages/sklearn/calibration.py:415: RuntimeWarning: overflow encountered in exp\n  E = np.exp(AB[0] * F + AB[1])\n/Users/maxwelllee54/anaconda/lib/python3.5/site-packages/sklearn/calibration.py:415: RuntimeWarning: overflow encountered in exp\n  E = np.exp(AB[0] * F + AB[1])\n/Users/maxwelllee54/anaconda/lib/python3.5/site-packages/sklearn/calibration.py:425: RuntimeWarning: overflow encountered in exp\n  E = np.exp(AB[0] * F + AB[1])\n/Users/maxwelllee54/anaconda/lib/python3.5/site-packages/sklearn/calibration.py:427: RuntimeWarning: invalid value encountered in multiply\n  TEP_minus_T1P = P * (T * E - T1)\n/Users/maxwelllee54/anaconda/lib/python3.5/site-packages/sklearn/calibration.py:415: RuntimeWarning: overflow encountered in exp\n  E = np.exp(AB[0] * F + AB[1])\n/Users/maxwelllee54/anaconda/lib/python3.5/site-packages/sklearn/calibration.py:415: RuntimeWarning: overflow encountered in exp\n  E = np.exp(AB[0] * F + AB[1])\n/Users/maxwelllee54/anaconda/lib/python3.5/site-packages/sklearn/calibration.py:425: RuntimeWarning: overflow encountered in exp\n  E = np.exp(AB[0] * F + AB[1])\n/Users/maxwelllee54/anaconda/lib/python3.5/site-packages/sklearn/calibration.py:427: RuntimeWarning: invalid value encountered in multiply\n  TEP_minus_T1P = P * (T * E - T1)\n/Users/maxwelllee54/anaconda/lib/python3.5/site-packages/sklearn/calibration.py:415: RuntimeWarning: overflow encountered in exp\n  E = np.exp(AB[0] * F + AB[1])\n"
     ]
    },
    {
     "name": "stdout",
     "output_type": "stream",
     "text": [
      "0.5687534597 \t\t 21 \t\t 12\n0.553831593961 \t\t 21 \t\t 13\n0.551134829844 \t\t 21 \t\t 14\n0.558773674016 \t\t 21 \t\t 15\n"
     ]
    },
    {
     "name": "stderr",
     "output_type": "stream",
     "text": [
      "/Users/maxwelllee54/anaconda/lib/python3.5/site-packages/sklearn/calibration.py:415: RuntimeWarning: overflow encountered in exp\n  E = np.exp(AB[0] * F + AB[1])\n/Users/maxwelllee54/anaconda/lib/python3.5/site-packages/sklearn/calibration.py:425: RuntimeWarning: overflow encountered in exp\n  E = np.exp(AB[0] * F + AB[1])\n/Users/maxwelllee54/anaconda/lib/python3.5/site-packages/sklearn/calibration.py:427: RuntimeWarning: invalid value encountered in multiply\n  TEP_minus_T1P = P * (T * E - T1)\n/Users/maxwelllee54/anaconda/lib/python3.5/site-packages/sklearn/calibration.py:415: RuntimeWarning: overflow encountered in exp\n  E = np.exp(AB[0] * F + AB[1])\n/Users/maxwelllee54/anaconda/lib/python3.5/site-packages/sklearn/calibration.py:415: RuntimeWarning: overflow encountered in exp\n  E = np.exp(AB[0] * F + AB[1])\n/Users/maxwelllee54/anaconda/lib/python3.5/site-packages/sklearn/calibration.py:425: RuntimeWarning: overflow encountered in exp\n  E = np.exp(AB[0] * F + AB[1])\n/Users/maxwelllee54/anaconda/lib/python3.5/site-packages/sklearn/calibration.py:427: RuntimeWarning: invalid value encountered in multiply\n  TEP_minus_T1P = P * (T * E - T1)\n/Users/maxwelllee54/anaconda/lib/python3.5/site-packages/sklearn/calibration.py:415: RuntimeWarning: overflow encountered in exp\n  E = np.exp(AB[0] * F + AB[1])\n/Users/maxwelllee54/anaconda/lib/python3.5/site-packages/sklearn/calibration.py:415: RuntimeWarning: overflow encountered in exp\n  E = np.exp(AB[0] * F + AB[1])\n/Users/maxwelllee54/anaconda/lib/python3.5/site-packages/sklearn/calibration.py:425: RuntimeWarning: overflow encountered in exp\n  E = np.exp(AB[0] * F + AB[1])\n/Users/maxwelllee54/anaconda/lib/python3.5/site-packages/sklearn/calibration.py:427: RuntimeWarning: invalid value encountered in multiply\n  TEP_minus_T1P = P * (T * E - T1)\n/Users/maxwelllee54/anaconda/lib/python3.5/site-packages/sklearn/calibration.py:415: RuntimeWarning: overflow encountered in exp\n  E = np.exp(AB[0] * F + AB[1])\n/Users/maxwelllee54/anaconda/lib/python3.5/site-packages/sklearn/calibration.py:415: RuntimeWarning: overflow encountered in exp\n  E = np.exp(AB[0] * F + AB[1])\n/Users/maxwelllee54/anaconda/lib/python3.5/site-packages/sklearn/calibration.py:425: RuntimeWarning: overflow encountered in exp\n  E = np.exp(AB[0] * F + AB[1])\n/Users/maxwelllee54/anaconda/lib/python3.5/site-packages/sklearn/calibration.py:427: RuntimeWarning: invalid value encountered in multiply\n  TEP_minus_T1P = P * (T * E - T1)\n/Users/maxwelllee54/anaconda/lib/python3.5/site-packages/sklearn/calibration.py:415: RuntimeWarning: overflow encountered in exp\n  E = np.exp(AB[0] * F + AB[1])\n"
     ]
    },
    {
     "name": "stdout",
     "output_type": "stream",
     "text": [
      "0.564690056712 \t\t 21 \t\t 16\n0.561763219163 \t\t 21 \t\t 17\n0.561359137997 \t\t 21 \t\t 18\n"
     ]
    },
    {
     "name": "stderr",
     "output_type": "stream",
     "text": [
      "/Users/maxwelllee54/anaconda/lib/python3.5/site-packages/sklearn/calibration.py:415: RuntimeWarning: overflow encountered in exp\n  E = np.exp(AB[0] * F + AB[1])\n/Users/maxwelllee54/anaconda/lib/python3.5/site-packages/sklearn/calibration.py:425: RuntimeWarning: overflow encountered in exp\n  E = np.exp(AB[0] * F + AB[1])\n/Users/maxwelllee54/anaconda/lib/python3.5/site-packages/sklearn/calibration.py:427: RuntimeWarning: invalid value encountered in multiply\n  TEP_minus_T1P = P * (T * E - T1)\n/Users/maxwelllee54/anaconda/lib/python3.5/site-packages/sklearn/calibration.py:415: RuntimeWarning: overflow encountered in exp\n  E = np.exp(AB[0] * F + AB[1])\n"
     ]
    },
    {
     "name": "stdout",
     "output_type": "stream",
     "text": [
      "0.559193362394 \t\t 21 \t\t 19\n0.559193337324 \t\t 21 \t\t 20\n"
     ]
    },
    {
     "name": "stdout",
     "output_type": "stream",
     "text": [
      "0.66241904126 \t\t 22 \t\t 3\n0.602123504867 \t\t 22 \t\t 4\n0.602690750705 \t\t 22 \t\t 5\n0.59438716564 \t\t 22 \t\t 6\n0.601526982576 \t\t 22 \t\t 7\n0.569992713291 \t\t 22 \t\t 8\n0.572941949523 \t\t 22 \t\t 9\n"
     ]
    },
    {
     "name": "stderr",
     "output_type": "stream",
     "text": [
      "/Users/maxwelllee54/anaconda/lib/python3.5/site-packages/sklearn/calibration.py:415: RuntimeWarning: overflow encountered in exp\n  E = np.exp(AB[0] * F + AB[1])\n/Users/maxwelllee54/anaconda/lib/python3.5/site-packages/sklearn/calibration.py:425: RuntimeWarning: overflow encountered in exp\n  E = np.exp(AB[0] * F + AB[1])\n/Users/maxwelllee54/anaconda/lib/python3.5/site-packages/sklearn/calibration.py:427: RuntimeWarning: invalid value encountered in multiply\n  TEP_minus_T1P = P * (T * E - T1)\n/Users/maxwelllee54/anaconda/lib/python3.5/site-packages/sklearn/calibration.py:415: RuntimeWarning: overflow encountered in exp\n  E = np.exp(AB[0] * F + AB[1])\n/Users/maxwelllee54/anaconda/lib/python3.5/site-packages/sklearn/calibration.py:415: RuntimeWarning: overflow encountered in exp\n  E = np.exp(AB[0] * F + AB[1])\n/Users/maxwelllee54/anaconda/lib/python3.5/site-packages/sklearn/calibration.py:425: RuntimeWarning: overflow encountered in exp\n  E = np.exp(AB[0] * F + AB[1])\n/Users/maxwelllee54/anaconda/lib/python3.5/site-packages/sklearn/calibration.py:427: RuntimeWarning: invalid value encountered in multiply\n  TEP_minus_T1P = P * (T * E - T1)\n/Users/maxwelllee54/anaconda/lib/python3.5/site-packages/sklearn/calibration.py:415: RuntimeWarning: overflow encountered in exp\n  E = np.exp(AB[0] * F + AB[1])\n/Users/maxwelllee54/anaconda/lib/python3.5/site-packages/sklearn/calibration.py:415: RuntimeWarning: overflow encountered in exp\n  E = np.exp(AB[0] * F + AB[1])\n/Users/maxwelllee54/anaconda/lib/python3.5/site-packages/sklearn/calibration.py:425: RuntimeWarning: overflow encountered in exp\n  E = np.exp(AB[0] * F + AB[1])\n/Users/maxwelllee54/anaconda/lib/python3.5/site-packages/sklearn/calibration.py:427: RuntimeWarning: invalid value encountered in multiply\n  TEP_minus_T1P = P * (T * E - T1)\n/Users/maxwelllee54/anaconda/lib/python3.5/site-packages/sklearn/calibration.py:415: RuntimeWarning: overflow encountered in exp\n  E = np.exp(AB[0] * F + AB[1])\n/Users/maxwelllee54/anaconda/lib/python3.5/site-packages/sklearn/calibration.py:415: RuntimeWarning: overflow encountered in exp\n  E = np.exp(AB[0] * F + AB[1])\n/Users/maxwelllee54/anaconda/lib/python3.5/site-packages/sklearn/calibration.py:425: RuntimeWarning: overflow encountered in exp\n  E = np.exp(AB[0] * F + AB[1])\n/Users/maxwelllee54/anaconda/lib/python3.5/site-packages/sklearn/calibration.py:427: RuntimeWarning: invalid value encountered in multiply\n  TEP_minus_T1P = P * (T * E - T1)\n/Users/maxwelllee54/anaconda/lib/python3.5/site-packages/sklearn/calibration.py:415: RuntimeWarning: overflow encountered in exp\n  E = np.exp(AB[0] * F + AB[1])\n/Users/maxwelllee54/anaconda/lib/python3.5/site-packages/sklearn/calibration.py:415: RuntimeWarning: overflow encountered in exp\n  E = np.exp(AB[0] * F + AB[1])\n/Users/maxwelllee54/anaconda/lib/python3.5/site-packages/sklearn/calibration.py:425: RuntimeWarning: overflow encountered in exp\n  E = np.exp(AB[0] * F + AB[1])\n/Users/maxwelllee54/anaconda/lib/python3.5/site-packages/sklearn/calibration.py:427: RuntimeWarning: invalid value encountered in multiply\n  TEP_minus_T1P = P * (T * E - T1)\n/Users/maxwelllee54/anaconda/lib/python3.5/site-packages/sklearn/calibration.py:415: RuntimeWarning: overflow encountered in exp\n  E = np.exp(AB[0] * F + AB[1])\n/Users/maxwelllee54/anaconda/lib/python3.5/site-packages/sklearn/calibration.py:415: RuntimeWarning: overflow encountered in exp\n  E = np.exp(AB[0] * F + AB[1])\n/Users/maxwelllee54/anaconda/lib/python3.5/site-packages/sklearn/calibration.py:425: RuntimeWarning: overflow encountered in exp\n  E = np.exp(AB[0] * F + AB[1])\n/Users/maxwelllee54/anaconda/lib/python3.5/site-packages/sklearn/calibration.py:427: RuntimeWarning: invalid value encountered in multiply\n  TEP_minus_T1P = P * (T * E - T1)\n/Users/maxwelllee54/anaconda/lib/python3.5/site-packages/sklearn/calibration.py:415: RuntimeWarning: overflow encountered in exp\n  E = np.exp(AB[0] * F + AB[1])\n"
     ]
    },
    {
     "name": "stdout",
     "output_type": "stream",
     "text": [
      "0.568311859281 \t\t 22 \t\t 10\n0.568440570699 \t\t 22 \t\t 11\n0.566081193758 \t\t 22 \t\t 12\n0.553524510688 \t\t 22 \t\t 13\n0.556752785664 \t\t 22 \t\t 14\n"
     ]
    },
    {
     "name": "stderr",
     "output_type": "stream",
     "text": [
      "/Users/maxwelllee54/anaconda/lib/python3.5/site-packages/sklearn/calibration.py:415: RuntimeWarning: overflow encountered in exp\n  E = np.exp(AB[0] * F + AB[1])\n/Users/maxwelllee54/anaconda/lib/python3.5/site-packages/sklearn/calibration.py:425: RuntimeWarning: overflow encountered in exp\n  E = np.exp(AB[0] * F + AB[1])\n/Users/maxwelllee54/anaconda/lib/python3.5/site-packages/sklearn/calibration.py:427: RuntimeWarning: invalid value encountered in multiply\n  TEP_minus_T1P = P * (T * E - T1)\n/Users/maxwelllee54/anaconda/lib/python3.5/site-packages/sklearn/calibration.py:415: RuntimeWarning: overflow encountered in exp\n  E = np.exp(AB[0] * F + AB[1])\n/Users/maxwelllee54/anaconda/lib/python3.5/site-packages/sklearn/calibration.py:415: RuntimeWarning: overflow encountered in exp\n  E = np.exp(AB[0] * F + AB[1])\n/Users/maxwelllee54/anaconda/lib/python3.5/site-packages/sklearn/calibration.py:425: RuntimeWarning: overflow encountered in exp\n  E = np.exp(AB[0] * F + AB[1])\n/Users/maxwelllee54/anaconda/lib/python3.5/site-packages/sklearn/calibration.py:427: RuntimeWarning: invalid value encountered in multiply\n  TEP_minus_T1P = P * (T * E - T1)\n/Users/maxwelllee54/anaconda/lib/python3.5/site-packages/sklearn/calibration.py:415: RuntimeWarning: overflow encountered in exp\n  E = np.exp(AB[0] * F + AB[1])\n/Users/maxwelllee54/anaconda/lib/python3.5/site-packages/sklearn/calibration.py:415: RuntimeWarning: overflow encountered in exp\n  E = np.exp(AB[0] * F + AB[1])\n/Users/maxwelllee54/anaconda/lib/python3.5/site-packages/sklearn/calibration.py:425: RuntimeWarning: overflow encountered in exp\n  E = np.exp(AB[0] * F + AB[1])\n/Users/maxwelllee54/anaconda/lib/python3.5/site-packages/sklearn/calibration.py:427: RuntimeWarning: invalid value encountered in multiply\n  TEP_minus_T1P = P * (T * E - T1)\n/Users/maxwelllee54/anaconda/lib/python3.5/site-packages/sklearn/calibration.py:415: RuntimeWarning: overflow encountered in exp\n  E = np.exp(AB[0] * F + AB[1])\n/Users/maxwelllee54/anaconda/lib/python3.5/site-packages/sklearn/calibration.py:415: RuntimeWarning: overflow encountered in exp\n  E = np.exp(AB[0] * F + AB[1])\n/Users/maxwelllee54/anaconda/lib/python3.5/site-packages/sklearn/calibration.py:425: RuntimeWarning: overflow encountered in exp\n  E = np.exp(AB[0] * F + AB[1])\n/Users/maxwelllee54/anaconda/lib/python3.5/site-packages/sklearn/calibration.py:427: RuntimeWarning: invalid value encountered in multiply\n  TEP_minus_T1P = P * (T * E - T1)\n/Users/maxwelllee54/anaconda/lib/python3.5/site-packages/sklearn/calibration.py:415: RuntimeWarning: overflow encountered in exp\n  E = np.exp(AB[0] * F + AB[1])\n/Users/maxwelllee54/anaconda/lib/python3.5/site-packages/sklearn/calibration.py:415: RuntimeWarning: overflow encountered in exp\n  E = np.exp(AB[0] * F + AB[1])\n/Users/maxwelllee54/anaconda/lib/python3.5/site-packages/sklearn/calibration.py:425: RuntimeWarning: overflow encountered in exp\n  E = np.exp(AB[0] * F + AB[1])\n/Users/maxwelllee54/anaconda/lib/python3.5/site-packages/sklearn/calibration.py:427: RuntimeWarning: invalid value encountered in multiply\n  TEP_minus_T1P = P * (T * E - T1)\n/Users/maxwelllee54/anaconda/lib/python3.5/site-packages/sklearn/calibration.py:415: RuntimeWarning: overflow encountered in exp\n  E = np.exp(AB[0] * F + AB[1])\n"
     ]
    },
    {
     "name": "stdout",
     "output_type": "stream",
     "text": [
      "0.553338891985 \t\t 22 \t\t 15\n0.565644575341 \t\t 22 \t\t 16\n0.566556282878 \t\t 22 \t\t 17\n0.56335622183 \t\t 22 \t\t 18\n"
     ]
    },
    {
     "name": "stderr",
     "output_type": "stream",
     "text": [
      "/Users/maxwelllee54/anaconda/lib/python3.5/site-packages/sklearn/calibration.py:415: RuntimeWarning: overflow encountered in exp\n  E = np.exp(AB[0] * F + AB[1])\n/Users/maxwelllee54/anaconda/lib/python3.5/site-packages/sklearn/calibration.py:425: RuntimeWarning: overflow encountered in exp\n  E = np.exp(AB[0] * F + AB[1])\n/Users/maxwelllee54/anaconda/lib/python3.5/site-packages/sklearn/calibration.py:427: RuntimeWarning: invalid value encountered in multiply\n  TEP_minus_T1P = P * (T * E - T1)\n/Users/maxwelllee54/anaconda/lib/python3.5/site-packages/sklearn/calibration.py:415: RuntimeWarning: overflow encountered in exp\n  E = np.exp(AB[0] * F + AB[1])\n/Users/maxwelllee54/anaconda/lib/python3.5/site-packages/sklearn/calibration.py:415: RuntimeWarning: overflow encountered in exp\n  E = np.exp(AB[0] * F + AB[1])\n/Users/maxwelllee54/anaconda/lib/python3.5/site-packages/sklearn/calibration.py:425: RuntimeWarning: overflow encountered in exp\n  E = np.exp(AB[0] * F + AB[1])\n/Users/maxwelllee54/anaconda/lib/python3.5/site-packages/sklearn/calibration.py:427: RuntimeWarning: invalid value encountered in multiply\n  TEP_minus_T1P = P * (T * E - T1)\n/Users/maxwelllee54/anaconda/lib/python3.5/site-packages/sklearn/calibration.py:415: RuntimeWarning: overflow encountered in exp\n  E = np.exp(AB[0] * F + AB[1])\n/Users/maxwelllee54/anaconda/lib/python3.5/site-packages/sklearn/calibration.py:415: RuntimeWarning: overflow encountered in exp\n  E = np.exp(AB[0] * F + AB[1])\n/Users/maxwelllee54/anaconda/lib/python3.5/site-packages/sklearn/calibration.py:425: RuntimeWarning: overflow encountered in exp\n  E = np.exp(AB[0] * F + AB[1])\n/Users/maxwelllee54/anaconda/lib/python3.5/site-packages/sklearn/calibration.py:427: RuntimeWarning: invalid value encountered in multiply\n  TEP_minus_T1P = P * (T * E - T1)\n/Users/maxwelllee54/anaconda/lib/python3.5/site-packages/sklearn/calibration.py:415: RuntimeWarning: overflow encountered in exp\n  E = np.exp(AB[0] * F + AB[1])\n"
     ]
    },
    {
     "name": "stdout",
     "output_type": "stream",
     "text": [
      "0.562900874041 \t\t 22 \t\t 19\n0.559618705851 \t\t 22 \t\t 20\n0.559618690997 \t\t 22 \t\t 21\n"
     ]
    },
    {
     "name": "stdout",
     "output_type": "stream",
     "text": [
      "0.683272104101 \t\t 23 \t\t 3\n0.666746856127 \t\t 23 \t\t 4\n0.603505090081 \t\t 23 \t\t 5\n0.60448946481 \t\t 23 \t\t 6\n0.596425394749 \t\t 23 \t\t 7\n0.60036518425 \t\t 23 \t\t 8\n0.572703551636 \t\t 23 \t\t 9\n"
     ]
    },
    {
     "name": "stderr",
     "output_type": "stream",
     "text": [
      "/Users/maxwelllee54/anaconda/lib/python3.5/site-packages/sklearn/calibration.py:415: RuntimeWarning: overflow encountered in exp\n  E = np.exp(AB[0] * F + AB[1])\n/Users/maxwelllee54/anaconda/lib/python3.5/site-packages/sklearn/calibration.py:425: RuntimeWarning: overflow encountered in exp\n  E = np.exp(AB[0] * F + AB[1])\n/Users/maxwelllee54/anaconda/lib/python3.5/site-packages/sklearn/calibration.py:427: RuntimeWarning: invalid value encountered in multiply\n  TEP_minus_T1P = P * (T * E - T1)\n/Users/maxwelllee54/anaconda/lib/python3.5/site-packages/sklearn/calibration.py:415: RuntimeWarning: overflow encountered in exp\n  E = np.exp(AB[0] * F + AB[1])\n/Users/maxwelllee54/anaconda/lib/python3.5/site-packages/sklearn/calibration.py:415: RuntimeWarning: overflow encountered in exp\n  E = np.exp(AB[0] * F + AB[1])\n/Users/maxwelllee54/anaconda/lib/python3.5/site-packages/sklearn/calibration.py:425: RuntimeWarning: overflow encountered in exp\n  E = np.exp(AB[0] * F + AB[1])\n/Users/maxwelllee54/anaconda/lib/python3.5/site-packages/sklearn/calibration.py:427: RuntimeWarning: invalid value encountered in multiply\n  TEP_minus_T1P = P * (T * E - T1)\n/Users/maxwelllee54/anaconda/lib/python3.5/site-packages/sklearn/calibration.py:415: RuntimeWarning: overflow encountered in exp\n  E = np.exp(AB[0] * F + AB[1])\n/Users/maxwelllee54/anaconda/lib/python3.5/site-packages/sklearn/calibration.py:415: RuntimeWarning: overflow encountered in exp\n  E = np.exp(AB[0] * F + AB[1])\n/Users/maxwelllee54/anaconda/lib/python3.5/site-packages/sklearn/calibration.py:425: RuntimeWarning: overflow encountered in exp\n  E = np.exp(AB[0] * F + AB[1])\n/Users/maxwelllee54/anaconda/lib/python3.5/site-packages/sklearn/calibration.py:427: RuntimeWarning: invalid value encountered in multiply\n  TEP_minus_T1P = P * (T * E - T1)\n/Users/maxwelllee54/anaconda/lib/python3.5/site-packages/sklearn/calibration.py:415: RuntimeWarning: overflow encountered in exp\n  E = np.exp(AB[0] * F + AB[1])\n/Users/maxwelllee54/anaconda/lib/python3.5/site-packages/sklearn/calibration.py:415: RuntimeWarning: overflow encountered in exp\n  E = np.exp(AB[0] * F + AB[1])\n/Users/maxwelllee54/anaconda/lib/python3.5/site-packages/sklearn/calibration.py:425: RuntimeWarning: overflow encountered in exp\n  E = np.exp(AB[0] * F + AB[1])\n/Users/maxwelllee54/anaconda/lib/python3.5/site-packages/sklearn/calibration.py:427: RuntimeWarning: invalid value encountered in multiply\n  TEP_minus_T1P = P * (T * E - T1)\n/Users/maxwelllee54/anaconda/lib/python3.5/site-packages/sklearn/calibration.py:415: RuntimeWarning: overflow encountered in exp\n  E = np.exp(AB[0] * F + AB[1])\n/Users/maxwelllee54/anaconda/lib/python3.5/site-packages/sklearn/calibration.py:415: RuntimeWarning: overflow encountered in exp\n  E = np.exp(AB[0] * F + AB[1])\n/Users/maxwelllee54/anaconda/lib/python3.5/site-packages/sklearn/calibration.py:425: RuntimeWarning: overflow encountered in exp\n  E = np.exp(AB[0] * F + AB[1])\n/Users/maxwelllee54/anaconda/lib/python3.5/site-packages/sklearn/calibration.py:427: RuntimeWarning: invalid value encountered in multiply\n  TEP_minus_T1P = P * (T * E - T1)\n/Users/maxwelllee54/anaconda/lib/python3.5/site-packages/sklearn/calibration.py:415: RuntimeWarning: overflow encountered in exp\n  E = np.exp(AB[0] * F + AB[1])\n"
     ]
    },
    {
     "name": "stdout",
     "output_type": "stream",
     "text": [
      "0.575279660352 \t\t 23 \t\t 10\n0.569359326111 \t\t 23 \t\t 11\n0.569431409557 \t\t 23 \t\t 12\n0.567644731221 \t\t 23 \t\t 13\n0.555003097109 \t\t 23 \t\t 14\n"
     ]
    },
    {
     "name": "stderr",
     "output_type": "stream",
     "text": [
      "/Users/maxwelllee54/anaconda/lib/python3.5/site-packages/sklearn/calibration.py:415: RuntimeWarning: overflow encountered in exp\n  E = np.exp(AB[0] * F + AB[1])\n/Users/maxwelllee54/anaconda/lib/python3.5/site-packages/sklearn/calibration.py:425: RuntimeWarning: overflow encountered in exp\n  E = np.exp(AB[0] * F + AB[1])\n/Users/maxwelllee54/anaconda/lib/python3.5/site-packages/sklearn/calibration.py:427: RuntimeWarning: invalid value encountered in multiply\n  TEP_minus_T1P = P * (T * E - T1)\n/Users/maxwelllee54/anaconda/lib/python3.5/site-packages/sklearn/calibration.py:415: RuntimeWarning: overflow encountered in exp\n  E = np.exp(AB[0] * F + AB[1])\n/Users/maxwelllee54/anaconda/lib/python3.5/site-packages/sklearn/calibration.py:415: RuntimeWarning: overflow encountered in exp\n  E = np.exp(AB[0] * F + AB[1])\n/Users/maxwelllee54/anaconda/lib/python3.5/site-packages/sklearn/calibration.py:425: RuntimeWarning: overflow encountered in exp\n  E = np.exp(AB[0] * F + AB[1])\n/Users/maxwelllee54/anaconda/lib/python3.5/site-packages/sklearn/calibration.py:427: RuntimeWarning: invalid value encountered in multiply\n  TEP_minus_T1P = P * (T * E - T1)\n/Users/maxwelllee54/anaconda/lib/python3.5/site-packages/sklearn/calibration.py:415: RuntimeWarning: overflow encountered in exp\n  E = np.exp(AB[0] * F + AB[1])\n/Users/maxwelllee54/anaconda/lib/python3.5/site-packages/sklearn/calibration.py:415: RuntimeWarning: overflow encountered in exp\n  E = np.exp(AB[0] * F + AB[1])\n/Users/maxwelllee54/anaconda/lib/python3.5/site-packages/sklearn/calibration.py:425: RuntimeWarning: overflow encountered in exp\n  E = np.exp(AB[0] * F + AB[1])\n/Users/maxwelllee54/anaconda/lib/python3.5/site-packages/sklearn/calibration.py:427: RuntimeWarning: invalid value encountered in multiply\n  TEP_minus_T1P = P * (T * E - T1)\n/Users/maxwelllee54/anaconda/lib/python3.5/site-packages/sklearn/calibration.py:415: RuntimeWarning: overflow encountered in exp\n  E = np.exp(AB[0] * F + AB[1])\n/Users/maxwelllee54/anaconda/lib/python3.5/site-packages/sklearn/calibration.py:415: RuntimeWarning: overflow encountered in exp\n  E = np.exp(AB[0] * F + AB[1])\n/Users/maxwelllee54/anaconda/lib/python3.5/site-packages/sklearn/calibration.py:425: RuntimeWarning: overflow encountered in exp\n  E = np.exp(AB[0] * F + AB[1])\n/Users/maxwelllee54/anaconda/lib/python3.5/site-packages/sklearn/calibration.py:427: RuntimeWarning: invalid value encountered in multiply\n  TEP_minus_T1P = P * (T * E - T1)\n/Users/maxwelllee54/anaconda/lib/python3.5/site-packages/sklearn/calibration.py:415: RuntimeWarning: overflow encountered in exp\n  E = np.exp(AB[0] * F + AB[1])\n/Users/maxwelllee54/anaconda/lib/python3.5/site-packages/sklearn/calibration.py:415: RuntimeWarning: overflow encountered in exp\n  E = np.exp(AB[0] * F + AB[1])\n/Users/maxwelllee54/anaconda/lib/python3.5/site-packages/sklearn/calibration.py:425: RuntimeWarning: overflow encountered in exp\n  E = np.exp(AB[0] * F + AB[1])\n"
     ]
    },
    {
     "name": "stdout",
     "output_type": "stream",
     "text": [
      "0.559305072517 \t\t 23 \t\t 15\n0.557014290099 \t\t 23 \t\t 16\n0.569094407131 \t\t 23 \t\t 17\n0.570061260861 \t\t 23 \t\t 18\n"
     ]
    },
    {
     "name": "stderr",
     "output_type": "stream",
     "text": [
      "/Users/maxwelllee54/anaconda/lib/python3.5/site-packages/sklearn/calibration.py:427: RuntimeWarning: invalid value encountered in multiply\n  TEP_minus_T1P = P * (T * E - T1)\n/Users/maxwelllee54/anaconda/lib/python3.5/site-packages/sklearn/calibration.py:415: RuntimeWarning: overflow encountered in exp\n  E = np.exp(AB[0] * F + AB[1])\n/Users/maxwelllee54/anaconda/lib/python3.5/site-packages/sklearn/calibration.py:415: RuntimeWarning: overflow encountered in exp\n  E = np.exp(AB[0] * F + AB[1])\n/Users/maxwelllee54/anaconda/lib/python3.5/site-packages/sklearn/calibration.py:425: RuntimeWarning: overflow encountered in exp\n  E = np.exp(AB[0] * F + AB[1])\n/Users/maxwelllee54/anaconda/lib/python3.5/site-packages/sklearn/calibration.py:427: RuntimeWarning: invalid value encountered in multiply\n  TEP_minus_T1P = P * (T * E - T1)\n/Users/maxwelllee54/anaconda/lib/python3.5/site-packages/sklearn/calibration.py:415: RuntimeWarning: overflow encountered in exp\n  E = np.exp(AB[0] * F + AB[1])\n/Users/maxwelllee54/anaconda/lib/python3.5/site-packages/sklearn/calibration.py:415: RuntimeWarning: overflow encountered in exp\n  E = np.exp(AB[0] * F + AB[1])\n/Users/maxwelllee54/anaconda/lib/python3.5/site-packages/sklearn/calibration.py:425: RuntimeWarning: overflow encountered in exp\n  E = np.exp(AB[0] * F + AB[1])\n/Users/maxwelllee54/anaconda/lib/python3.5/site-packages/sklearn/calibration.py:427: RuntimeWarning: invalid value encountered in multiply\n  TEP_minus_T1P = P * (T * E - T1)\n/Users/maxwelllee54/anaconda/lib/python3.5/site-packages/sklearn/calibration.py:415: RuntimeWarning: overflow encountered in exp\n  E = np.exp(AB[0] * F + AB[1])\n"
     ]
    },
    {
     "name": "stderr",
     "output_type": "stream",
     "text": [
      "/Users/maxwelllee54/anaconda/lib/python3.5/site-packages/sklearn/calibration.py:415: RuntimeWarning: overflow encountered in exp\n  E = np.exp(AB[0] * F + AB[1])\n/Users/maxwelllee54/anaconda/lib/python3.5/site-packages/sklearn/calibration.py:425: RuntimeWarning: overflow encountered in exp\n  E = np.exp(AB[0] * F + AB[1])\n/Users/maxwelllee54/anaconda/lib/python3.5/site-packages/sklearn/calibration.py:427: RuntimeWarning: invalid value encountered in multiply\n  TEP_minus_T1P = P * (T * E - T1)\n/Users/maxwelllee54/anaconda/lib/python3.5/site-packages/sklearn/calibration.py:415: RuntimeWarning: overflow encountered in exp\n  E = np.exp(AB[0] * F + AB[1])\n/Users/maxwelllee54/anaconda/lib/python3.5/site-packages/sklearn/calibration.py:415: RuntimeWarning: overflow encountered in exp\n  E = np.exp(AB[0] * F + AB[1])\n/Users/maxwelllee54/anaconda/lib/python3.5/site-packages/sklearn/calibration.py:425: RuntimeWarning: overflow encountered in exp\n  E = np.exp(AB[0] * F + AB[1])\n/Users/maxwelllee54/anaconda/lib/python3.5/site-packages/sklearn/calibration.py:427: RuntimeWarning: invalid value encountered in multiply\n  TEP_minus_T1P = P * (T * E - T1)\n/Users/maxwelllee54/anaconda/lib/python3.5/site-packages/sklearn/calibration.py:415: RuntimeWarning: overflow encountered in exp\n  E = np.exp(AB[0] * F + AB[1])\n"
     ]
    },
    {
     "name": "stdout",
     "output_type": "stream",
     "text": [
      "0.566270805095 \t\t 23 \t\t 19\n0.565903462948 \t\t 23 \t\t 20\n0.571605556896 \t\t 23 \t\t 21\n"
     ]
    },
    {
     "name": "stdout",
     "output_type": "stream",
     "text": [
      "0.571605548852 \t\t 23 \t\t 22\n0.66425725047 \t\t 24 \t\t 3\n0.663591850546 \t\t 24 \t\t 4\n"
     ]
    },
    {
     "name": "stdout",
     "output_type": "stream",
     "text": [
      "0.66396727823 \t\t 24 \t\t 5\n0.616560283051 \t\t 24 \t\t 6\n0.614416899879 \t\t 24 \t\t 7\n0.598422727322 \t\t 24 \t\t 8\n0.606476797028 \t\t 24 \t\t 9\n0.566348260515 \t\t 24 \t\t 10\n"
     ]
    },
    {
     "name": "stderr",
     "output_type": "stream",
     "text": [
      "/Users/maxwelllee54/anaconda/lib/python3.5/site-packages/sklearn/calibration.py:415: RuntimeWarning: overflow encountered in exp\n  E = np.exp(AB[0] * F + AB[1])\n/Users/maxwelllee54/anaconda/lib/python3.5/site-packages/sklearn/calibration.py:425: RuntimeWarning: overflow encountered in exp\n  E = np.exp(AB[0] * F + AB[1])\n/Users/maxwelllee54/anaconda/lib/python3.5/site-packages/sklearn/calibration.py:427: RuntimeWarning: invalid value encountered in multiply\n  TEP_minus_T1P = P * (T * E - T1)\n/Users/maxwelllee54/anaconda/lib/python3.5/site-packages/sklearn/calibration.py:415: RuntimeWarning: overflow encountered in exp\n  E = np.exp(AB[0] * F + AB[1])\n/Users/maxwelllee54/anaconda/lib/python3.5/site-packages/sklearn/calibration.py:415: RuntimeWarning: overflow encountered in exp\n  E = np.exp(AB[0] * F + AB[1])\n/Users/maxwelllee54/anaconda/lib/python3.5/site-packages/sklearn/calibration.py:425: RuntimeWarning: overflow encountered in exp\n  E = np.exp(AB[0] * F + AB[1])\n/Users/maxwelllee54/anaconda/lib/python3.5/site-packages/sklearn/calibration.py:427: RuntimeWarning: invalid value encountered in multiply\n  TEP_minus_T1P = P * (T * E - T1)\n/Users/maxwelllee54/anaconda/lib/python3.5/site-packages/sklearn/calibration.py:415: RuntimeWarning: overflow encountered in exp\n  E = np.exp(AB[0] * F + AB[1])\n/Users/maxwelllee54/anaconda/lib/python3.5/site-packages/sklearn/calibration.py:415: RuntimeWarning: overflow encountered in exp\n  E = np.exp(AB[0] * F + AB[1])\n/Users/maxwelllee54/anaconda/lib/python3.5/site-packages/sklearn/calibration.py:425: RuntimeWarning: overflow encountered in exp\n  E = np.exp(AB[0] * F + AB[1])\n/Users/maxwelllee54/anaconda/lib/python3.5/site-packages/sklearn/calibration.py:427: RuntimeWarning: invalid value encountered in multiply\n  TEP_minus_T1P = P * (T * E - T1)\n/Users/maxwelllee54/anaconda/lib/python3.5/site-packages/sklearn/calibration.py:415: RuntimeWarning: overflow encountered in exp\n  E = np.exp(AB[0] * F + AB[1])\n/Users/maxwelllee54/anaconda/lib/python3.5/site-packages/sklearn/calibration.py:415: RuntimeWarning: overflow encountered in exp\n  E = np.exp(AB[0] * F + AB[1])\n/Users/maxwelllee54/anaconda/lib/python3.5/site-packages/sklearn/calibration.py:425: RuntimeWarning: overflow encountered in exp\n  E = np.exp(AB[0] * F + AB[1])\n/Users/maxwelllee54/anaconda/lib/python3.5/site-packages/sklearn/calibration.py:427: RuntimeWarning: invalid value encountered in multiply\n  TEP_minus_T1P = P * (T * E - T1)\n/Users/maxwelllee54/anaconda/lib/python3.5/site-packages/sklearn/calibration.py:415: RuntimeWarning: overflow encountered in exp\n  E = np.exp(AB[0] * F + AB[1])\n/Users/maxwelllee54/anaconda/lib/python3.5/site-packages/sklearn/calibration.py:415: RuntimeWarning: overflow encountered in exp\n  E = np.exp(AB[0] * F + AB[1])\n/Users/maxwelllee54/anaconda/lib/python3.5/site-packages/sklearn/calibration.py:425: RuntimeWarning: overflow encountered in exp\n  E = np.exp(AB[0] * F + AB[1])\n/Users/maxwelllee54/anaconda/lib/python3.5/site-packages/sklearn/calibration.py:427: RuntimeWarning: invalid value encountered in multiply\n  TEP_minus_T1P = P * (T * E - T1)\n/Users/maxwelllee54/anaconda/lib/python3.5/site-packages/sklearn/calibration.py:415: RuntimeWarning: overflow encountered in exp\n  E = np.exp(AB[0] * F + AB[1])\n"
     ]
    },
    {
     "name": "stdout",
     "output_type": "stream",
     "text": [
      "0.5684604086 \t\t 24 \t\t 11\n0.565042420124 \t\t 24 \t\t 12\n0.565346858798 \t\t 24 \t\t 13\n0.563964055687 \t\t 24 \t\t 14\n0.554720859185 \t\t 24 \t\t 15\n"
     ]
    },
    {
     "name": "stderr",
     "output_type": "stream",
     "text": [
      "/Users/maxwelllee54/anaconda/lib/python3.5/site-packages/sklearn/calibration.py:415: RuntimeWarning: overflow encountered in exp\n  E = np.exp(AB[0] * F + AB[1])\n/Users/maxwelllee54/anaconda/lib/python3.5/site-packages/sklearn/calibration.py:425: RuntimeWarning: overflow encountered in exp\n  E = np.exp(AB[0] * F + AB[1])\n/Users/maxwelllee54/anaconda/lib/python3.5/site-packages/sklearn/calibration.py:427: RuntimeWarning: invalid value encountered in multiply\n  TEP_minus_T1P = P * (T * E - T1)\n/Users/maxwelllee54/anaconda/lib/python3.5/site-packages/sklearn/calibration.py:415: RuntimeWarning: overflow encountered in exp\n  E = np.exp(AB[0] * F + AB[1])\n/Users/maxwelllee54/anaconda/lib/python3.5/site-packages/sklearn/calibration.py:415: RuntimeWarning: overflow encountered in exp\n  E = np.exp(AB[0] * F + AB[1])\n/Users/maxwelllee54/anaconda/lib/python3.5/site-packages/sklearn/calibration.py:425: RuntimeWarning: overflow encountered in exp\n  E = np.exp(AB[0] * F + AB[1])\n/Users/maxwelllee54/anaconda/lib/python3.5/site-packages/sklearn/calibration.py:427: RuntimeWarning: invalid value encountered in multiply\n  TEP_minus_T1P = P * (T * E - T1)\n/Users/maxwelllee54/anaconda/lib/python3.5/site-packages/sklearn/calibration.py:415: RuntimeWarning: overflow encountered in exp\n  E = np.exp(AB[0] * F + AB[1])\n/Users/maxwelllee54/anaconda/lib/python3.5/site-packages/sklearn/calibration.py:415: RuntimeWarning: overflow encountered in exp\n  E = np.exp(AB[0] * F + AB[1])\n/Users/maxwelllee54/anaconda/lib/python3.5/site-packages/sklearn/calibration.py:425: RuntimeWarning: overflow encountered in exp\n  E = np.exp(AB[0] * F + AB[1])\n/Users/maxwelllee54/anaconda/lib/python3.5/site-packages/sklearn/calibration.py:427: RuntimeWarning: invalid value encountered in multiply\n  TEP_minus_T1P = P * (T * E - T1)\n/Users/maxwelllee54/anaconda/lib/python3.5/site-packages/sklearn/calibration.py:415: RuntimeWarning: overflow encountered in exp\n  E = np.exp(AB[0] * F + AB[1])\n/Users/maxwelllee54/anaconda/lib/python3.5/site-packages/sklearn/calibration.py:415: RuntimeWarning: overflow encountered in exp\n  E = np.exp(AB[0] * F + AB[1])\n/Users/maxwelllee54/anaconda/lib/python3.5/site-packages/sklearn/calibration.py:425: RuntimeWarning: overflow encountered in exp\n  E = np.exp(AB[0] * F + AB[1])\n/Users/maxwelllee54/anaconda/lib/python3.5/site-packages/sklearn/calibration.py:427: RuntimeWarning: invalid value encountered in multiply\n  TEP_minus_T1P = P * (T * E - T1)\n/Users/maxwelllee54/anaconda/lib/python3.5/site-packages/sklearn/calibration.py:415: RuntimeWarning: overflow encountered in exp\n  E = np.exp(AB[0] * F + AB[1])\n"
     ]
    },
    {
     "name": "stdout",
     "output_type": "stream",
     "text": [
      "0.558220675081 \t\t 24 \t\t 16\n0.550903290487 \t\t 24 \t\t 17\n0.564244578742 \t\t 24 \t\t 18\n0.565150283993 \t\t 24 \t\t 19\n"
     ]
    },
    {
     "name": "stderr",
     "output_type": "stream",
     "text": [
      "/Users/maxwelllee54/anaconda/lib/python3.5/site-packages/sklearn/calibration.py:415: RuntimeWarning: overflow encountered in exp\n  E = np.exp(AB[0] * F + AB[1])\n/Users/maxwelllee54/anaconda/lib/python3.5/site-packages/sklearn/calibration.py:425: RuntimeWarning: overflow encountered in exp\n  E = np.exp(AB[0] * F + AB[1])\n/Users/maxwelllee54/anaconda/lib/python3.5/site-packages/sklearn/calibration.py:427: RuntimeWarning: invalid value encountered in multiply\n  TEP_minus_T1P = P * (T * E - T1)\n/Users/maxwelllee54/anaconda/lib/python3.5/site-packages/sklearn/calibration.py:415: RuntimeWarning: overflow encountered in exp\n  E = np.exp(AB[0] * F + AB[1])\n/Users/maxwelllee54/anaconda/lib/python3.5/site-packages/sklearn/calibration.py:415: RuntimeWarning: overflow encountered in exp\n  E = np.exp(AB[0] * F + AB[1])\n/Users/maxwelllee54/anaconda/lib/python3.5/site-packages/sklearn/calibration.py:425: RuntimeWarning: overflow encountered in exp\n  E = np.exp(AB[0] * F + AB[1])\n/Users/maxwelllee54/anaconda/lib/python3.5/site-packages/sklearn/calibration.py:427: RuntimeWarning: invalid value encountered in multiply\n  TEP_minus_T1P = P * (T * E - T1)\n/Users/maxwelllee54/anaconda/lib/python3.5/site-packages/sklearn/calibration.py:415: RuntimeWarning: overflow encountered in exp\n  E = np.exp(AB[0] * F + AB[1])\n/Users/maxwelllee54/anaconda/lib/python3.5/site-packages/sklearn/calibration.py:415: RuntimeWarning: overflow encountered in exp\n  E = np.exp(AB[0] * F + AB[1])\n/Users/maxwelllee54/anaconda/lib/python3.5/site-packages/sklearn/calibration.py:425: RuntimeWarning: overflow encountered in exp\n  E = np.exp(AB[0] * F + AB[1])\n/Users/maxwelllee54/anaconda/lib/python3.5/site-packages/sklearn/calibration.py:427: RuntimeWarning: invalid value encountered in multiply\n  TEP_minus_T1P = P * (T * E - T1)\n/Users/maxwelllee54/anaconda/lib/python3.5/site-packages/sklearn/calibration.py:415: RuntimeWarning: overflow encountered in exp\n  E = np.exp(AB[0] * F + AB[1])\n"
     ]
    },
    {
     "name": "stderr",
     "output_type": "stream",
     "text": [
      "/Users/maxwelllee54/anaconda/lib/python3.5/site-packages/sklearn/calibration.py:415: RuntimeWarning: overflow encountered in exp\n  E = np.exp(AB[0] * F + AB[1])\n/Users/maxwelllee54/anaconda/lib/python3.5/site-packages/sklearn/calibration.py:425: RuntimeWarning: overflow encountered in exp\n  E = np.exp(AB[0] * F + AB[1])\n/Users/maxwelllee54/anaconda/lib/python3.5/site-packages/sklearn/calibration.py:427: RuntimeWarning: invalid value encountered in multiply\n  TEP_minus_T1P = P * (T * E - T1)\n/Users/maxwelllee54/anaconda/lib/python3.5/site-packages/sklearn/calibration.py:415: RuntimeWarning: overflow encountered in exp\n  E = np.exp(AB[0] * F + AB[1])\n"
     ]
    },
    {
     "name": "stdout",
     "output_type": "stream",
     "text": [
      "0.561794575294 \t\t 24 \t\t 20\n0.605007661573 \t\t 24 \t\t 21\n"
     ]
    },
    {
     "name": "stdout",
     "output_type": "stream",
     "text": [
      "0.605007610293 \t\t 24 \t\t 22\n0.605007613444 \t\t 24 \t\t 23\n"
     ]
    },
    {
     "name": "stdout",
     "output_type": "stream",
     "text": [
      "0.664246771401 \t\t 25 \t\t 3\n0.66366463484 \t\t 25 \t\t 4\n0.664554888592 \t\t 25 \t\t 5\n0.607991020105 \t\t 25 \t\t 6\n0.607589170844 \t\t 25 \t\t 7\n0.596326473855 \t\t 25 \t\t 8\n0.602141423411 \t\t 25 \t\t 9\n"
     ]
    },
    {
     "name": "stderr",
     "output_type": "stream",
     "text": [
      "/Users/maxwelllee54/anaconda/lib/python3.5/site-packages/sklearn/calibration.py:415: RuntimeWarning: overflow encountered in exp\n  E = np.exp(AB[0] * F + AB[1])\n/Users/maxwelllee54/anaconda/lib/python3.5/site-packages/sklearn/calibration.py:425: RuntimeWarning: overflow encountered in exp\n  E = np.exp(AB[0] * F + AB[1])\n/Users/maxwelllee54/anaconda/lib/python3.5/site-packages/sklearn/calibration.py:427: RuntimeWarning: invalid value encountered in multiply\n  TEP_minus_T1P = P * (T * E - T1)\n/Users/maxwelllee54/anaconda/lib/python3.5/site-packages/sklearn/calibration.py:415: RuntimeWarning: overflow encountered in exp\n  E = np.exp(AB[0] * F + AB[1])\n/Users/maxwelllee54/anaconda/lib/python3.5/site-packages/sklearn/calibration.py:415: RuntimeWarning: overflow encountered in exp\n  E = np.exp(AB[0] * F + AB[1])\n/Users/maxwelllee54/anaconda/lib/python3.5/site-packages/sklearn/calibration.py:425: RuntimeWarning: overflow encountered in exp\n  E = np.exp(AB[0] * F + AB[1])\n/Users/maxwelllee54/anaconda/lib/python3.5/site-packages/sklearn/calibration.py:427: RuntimeWarning: invalid value encountered in multiply\n  TEP_minus_T1P = P * (T * E - T1)\n/Users/maxwelllee54/anaconda/lib/python3.5/site-packages/sklearn/calibration.py:415: RuntimeWarning: overflow encountered in exp\n  E = np.exp(AB[0] * F + AB[1])\n/Users/maxwelllee54/anaconda/lib/python3.5/site-packages/sklearn/calibration.py:415: RuntimeWarning: overflow encountered in exp\n  E = np.exp(AB[0] * F + AB[1])\n/Users/maxwelllee54/anaconda/lib/python3.5/site-packages/sklearn/calibration.py:425: RuntimeWarning: overflow encountered in exp\n  E = np.exp(AB[0] * F + AB[1])\n/Users/maxwelllee54/anaconda/lib/python3.5/site-packages/sklearn/calibration.py:427: RuntimeWarning: invalid value encountered in multiply\n  TEP_minus_T1P = P * (T * E - T1)\n/Users/maxwelllee54/anaconda/lib/python3.5/site-packages/sklearn/calibration.py:415: RuntimeWarning: overflow encountered in exp\n  E = np.exp(AB[0] * F + AB[1])\n/Users/maxwelllee54/anaconda/lib/python3.5/site-packages/sklearn/calibration.py:415: RuntimeWarning: overflow encountered in exp\n  E = np.exp(AB[0] * F + AB[1])\n/Users/maxwelllee54/anaconda/lib/python3.5/site-packages/sklearn/calibration.py:425: RuntimeWarning: overflow encountered in exp\n  E = np.exp(AB[0] * F + AB[1])\n/Users/maxwelllee54/anaconda/lib/python3.5/site-packages/sklearn/calibration.py:427: RuntimeWarning: invalid value encountered in multiply\n  TEP_minus_T1P = P * (T * E - T1)\n/Users/maxwelllee54/anaconda/lib/python3.5/site-packages/sklearn/calibration.py:415: RuntimeWarning: overflow encountered in exp\n  E = np.exp(AB[0] * F + AB[1])\n/Users/maxwelllee54/anaconda/lib/python3.5/site-packages/sklearn/calibration.py:415: RuntimeWarning: overflow encountered in exp\n  E = np.exp(AB[0] * F + AB[1])\n/Users/maxwelllee54/anaconda/lib/python3.5/site-packages/sklearn/calibration.py:425: RuntimeWarning: overflow encountered in exp\n  E = np.exp(AB[0] * F + AB[1])\n/Users/maxwelllee54/anaconda/lib/python3.5/site-packages/sklearn/calibration.py:427: RuntimeWarning: invalid value encountered in multiply\n  TEP_minus_T1P = P * (T * E - T1)\n/Users/maxwelllee54/anaconda/lib/python3.5/site-packages/sklearn/calibration.py:415: RuntimeWarning: overflow encountered in exp\n  E = np.exp(AB[0] * F + AB[1])\n"
     ]
    },
    {
     "name": "stdout",
     "output_type": "stream",
     "text": [
      "0.56178520325 \t\t 25 \t\t 10\n0.566164057138 \t\t 25 \t\t 11\n0.563768981363 \t\t 25 \t\t 12\n0.564523374628 \t\t 25 \t\t 13\n0.56247891401 \t\t 25 \t\t 14\n"
     ]
    },
    {
     "name": "stderr",
     "output_type": "stream",
     "text": [
      "/Users/maxwelllee54/anaconda/lib/python3.5/site-packages/sklearn/calibration.py:415: RuntimeWarning: overflow encountered in exp\n  E = np.exp(AB[0] * F + AB[1])\n/Users/maxwelllee54/anaconda/lib/python3.5/site-packages/sklearn/calibration.py:425: RuntimeWarning: overflow encountered in exp\n  E = np.exp(AB[0] * F + AB[1])\n/Users/maxwelllee54/anaconda/lib/python3.5/site-packages/sklearn/calibration.py:427: RuntimeWarning: invalid value encountered in multiply\n  TEP_minus_T1P = P * (T * E - T1)\n/Users/maxwelllee54/anaconda/lib/python3.5/site-packages/sklearn/calibration.py:415: RuntimeWarning: overflow encountered in exp\n  E = np.exp(AB[0] * F + AB[1])\n/Users/maxwelllee54/anaconda/lib/python3.5/site-packages/sklearn/calibration.py:415: RuntimeWarning: overflow encountered in exp\n  E = np.exp(AB[0] * F + AB[1])\n/Users/maxwelllee54/anaconda/lib/python3.5/site-packages/sklearn/calibration.py:425: RuntimeWarning: overflow encountered in exp\n  E = np.exp(AB[0] * F + AB[1])\n/Users/maxwelllee54/anaconda/lib/python3.5/site-packages/sklearn/calibration.py:427: RuntimeWarning: invalid value encountered in multiply\n  TEP_minus_T1P = P * (T * E - T1)\n/Users/maxwelllee54/anaconda/lib/python3.5/site-packages/sklearn/calibration.py:415: RuntimeWarning: overflow encountered in exp\n  E = np.exp(AB[0] * F + AB[1])\n/Users/maxwelllee54/anaconda/lib/python3.5/site-packages/sklearn/calibration.py:415: RuntimeWarning: overflow encountered in exp\n  E = np.exp(AB[0] * F + AB[1])\n/Users/maxwelllee54/anaconda/lib/python3.5/site-packages/sklearn/calibration.py:425: RuntimeWarning: overflow encountered in exp\n  E = np.exp(AB[0] * F + AB[1])\n/Users/maxwelllee54/anaconda/lib/python3.5/site-packages/sklearn/calibration.py:427: RuntimeWarning: invalid value encountered in multiply\n  TEP_minus_T1P = P * (T * E - T1)\n/Users/maxwelllee54/anaconda/lib/python3.5/site-packages/sklearn/calibration.py:415: RuntimeWarning: overflow encountered in exp\n  E = np.exp(AB[0] * F + AB[1])\n/Users/maxwelllee54/anaconda/lib/python3.5/site-packages/sklearn/calibration.py:415: RuntimeWarning: overflow encountered in exp\n  E = np.exp(AB[0] * F + AB[1])\n/Users/maxwelllee54/anaconda/lib/python3.5/site-packages/sklearn/calibration.py:425: RuntimeWarning: overflow encountered in exp\n  E = np.exp(AB[0] * F + AB[1])\n/Users/maxwelllee54/anaconda/lib/python3.5/site-packages/sklearn/calibration.py:427: RuntimeWarning: invalid value encountered in multiply\n  TEP_minus_T1P = P * (T * E - T1)\n/Users/maxwelllee54/anaconda/lib/python3.5/site-packages/sklearn/calibration.py:415: RuntimeWarning: overflow encountered in exp\n  E = np.exp(AB[0] * F + AB[1])\n"
     ]
    },
    {
     "name": "stdout",
     "output_type": "stream",
     "text": [
      "0.562361428247 \t\t 25 \t\t 15\n0.559160558836 \t\t 25 \t\t 16\n0.554438500334 \t\t 25 \t\t 17\n0.554789786158 \t\t 25 \t\t 18\n"
     ]
    },
    {
     "name": "stderr",
     "output_type": "stream",
     "text": [
      "/Users/maxwelllee54/anaconda/lib/python3.5/site-packages/sklearn/calibration.py:415: RuntimeWarning: overflow encountered in exp\n  E = np.exp(AB[0] * F + AB[1])\n/Users/maxwelllee54/anaconda/lib/python3.5/site-packages/sklearn/calibration.py:425: RuntimeWarning: overflow encountered in exp\n  E = np.exp(AB[0] * F + AB[1])\n/Users/maxwelllee54/anaconda/lib/python3.5/site-packages/sklearn/calibration.py:427: RuntimeWarning: invalid value encountered in multiply\n  TEP_minus_T1P = P * (T * E - T1)\n/Users/maxwelllee54/anaconda/lib/python3.5/site-packages/sklearn/calibration.py:415: RuntimeWarning: overflow encountered in exp\n  E = np.exp(AB[0] * F + AB[1])\n/Users/maxwelllee54/anaconda/lib/python3.5/site-packages/sklearn/calibration.py:415: RuntimeWarning: overflow encountered in exp\n  E = np.exp(AB[0] * F + AB[1])\n/Users/maxwelllee54/anaconda/lib/python3.5/site-packages/sklearn/calibration.py:425: RuntimeWarning: overflow encountered in exp\n  E = np.exp(AB[0] * F + AB[1])\n/Users/maxwelllee54/anaconda/lib/python3.5/site-packages/sklearn/calibration.py:427: RuntimeWarning: invalid value encountered in multiply\n  TEP_minus_T1P = P * (T * E - T1)\n/Users/maxwelllee54/anaconda/lib/python3.5/site-packages/sklearn/calibration.py:415: RuntimeWarning: overflow encountered in exp\n  E = np.exp(AB[0] * F + AB[1])\n/Users/maxwelllee54/anaconda/lib/python3.5/site-packages/sklearn/calibration.py:415: RuntimeWarning: overflow encountered in exp\n  E = np.exp(AB[0] * F + AB[1])\n/Users/maxwelllee54/anaconda/lib/python3.5/site-packages/sklearn/calibration.py:425: RuntimeWarning: overflow encountered in exp\n  E = np.exp(AB[0] * F + AB[1])\n/Users/maxwelllee54/anaconda/lib/python3.5/site-packages/sklearn/calibration.py:427: RuntimeWarning: invalid value encountered in multiply\n  TEP_minus_T1P = P * (T * E - T1)\n/Users/maxwelllee54/anaconda/lib/python3.5/site-packages/sklearn/calibration.py:415: RuntimeWarning: overflow encountered in exp\n  E = np.exp(AB[0] * F + AB[1])\n/Users/maxwelllee54/anaconda/lib/python3.5/site-packages/sklearn/calibration.py:415: RuntimeWarning: overflow encountered in exp\n  E = np.exp(AB[0] * F + AB[1])\n/Users/maxwelllee54/anaconda/lib/python3.5/site-packages/sklearn/calibration.py:425: RuntimeWarning: overflow encountered in exp\n  E = np.exp(AB[0] * F + AB[1])\n/Users/maxwelllee54/anaconda/lib/python3.5/site-packages/sklearn/calibration.py:427: RuntimeWarning: invalid value encountered in multiply\n  TEP_minus_T1P = P * (T * E - T1)\n/Users/maxwelllee54/anaconda/lib/python3.5/site-packages/sklearn/calibration.py:415: RuntimeWarning: overflow encountered in exp\n  E = np.exp(AB[0] * F + AB[1])\n"
     ]
    },
    {
     "name": "stdout",
     "output_type": "stream",
     "text": [
      "0.572557794601 \t\t 25 \t\t 19\n0.574096338094 \t\t 25 \t\t 20\n0.57020773674 \t\t 25 \t\t 21\n"
     ]
    },
    {
     "name": "stderr",
     "output_type": "stream",
     "text": [
      "/Users/maxwelllee54/anaconda/lib/python3.5/site-packages/sklearn/calibration.py:415: RuntimeWarning: overflow encountered in exp\n  E = np.exp(AB[0] * F + AB[1])\n/Users/maxwelllee54/anaconda/lib/python3.5/site-packages/sklearn/calibration.py:425: RuntimeWarning: overflow encountered in exp\n  E = np.exp(AB[0] * F + AB[1])\n/Users/maxwelllee54/anaconda/lib/python3.5/site-packages/sklearn/calibration.py:427: RuntimeWarning: invalid value encountered in multiply\n  TEP_minus_T1P = P * (T * E - T1)\n/Users/maxwelllee54/anaconda/lib/python3.5/site-packages/sklearn/calibration.py:415: RuntimeWarning: overflow encountered in exp\n  E = np.exp(AB[0] * F + AB[1])\n"
     ]
    },
    {
     "name": "stdout",
     "output_type": "stream",
     "text": [
      "0.602866227082 \t\t 25 \t\t 22\n0.602866193271 \t\t 25 \t\t 23\n"
     ]
    },
    {
     "name": "stdout",
     "output_type": "stream",
     "text": [
      "0.602866199127 \t\t 25 \t\t 24\n0.664077641107 \t\t 26 \t\t 3\n"
     ]
    },
    {
     "name": "stdout",
     "output_type": "stream",
     "text": [
      "0.66349519536 \t\t 26 \t\t 4\n0.645856881853 \t\t 26 \t\t 5\n0.567631737076 \t\t 26 \t\t 6\n0.568716516937 \t\t 26 \t\t 7\n0.563585624373 \t\t 26 \t\t 8\n0.557203531707 \t\t 26 \t\t 9\n"
     ]
    },
    {
     "name": "stderr",
     "output_type": "stream",
     "text": [
      "/Users/maxwelllee54/anaconda/lib/python3.5/site-packages/sklearn/calibration.py:415: RuntimeWarning: overflow encountered in exp\n  E = np.exp(AB[0] * F + AB[1])\n/Users/maxwelllee54/anaconda/lib/python3.5/site-packages/sklearn/calibration.py:425: RuntimeWarning: overflow encountered in exp\n  E = np.exp(AB[0] * F + AB[1])\n/Users/maxwelllee54/anaconda/lib/python3.5/site-packages/sklearn/calibration.py:427: RuntimeWarning: invalid value encountered in multiply\n  TEP_minus_T1P = P * (T * E - T1)\n/Users/maxwelllee54/anaconda/lib/python3.5/site-packages/sklearn/calibration.py:415: RuntimeWarning: overflow encountered in exp\n  E = np.exp(AB[0] * F + AB[1])\n/Users/maxwelllee54/anaconda/lib/python3.5/site-packages/sklearn/calibration.py:415: RuntimeWarning: overflow encountered in exp\n  E = np.exp(AB[0] * F + AB[1])\n/Users/maxwelllee54/anaconda/lib/python3.5/site-packages/sklearn/calibration.py:425: RuntimeWarning: overflow encountered in exp\n  E = np.exp(AB[0] * F + AB[1])\n/Users/maxwelllee54/anaconda/lib/python3.5/site-packages/sklearn/calibration.py:427: RuntimeWarning: invalid value encountered in multiply\n  TEP_minus_T1P = P * (T * E - T1)\n/Users/maxwelllee54/anaconda/lib/python3.5/site-packages/sklearn/calibration.py:415: RuntimeWarning: overflow encountered in exp\n  E = np.exp(AB[0] * F + AB[1])\n/Users/maxwelllee54/anaconda/lib/python3.5/site-packages/sklearn/calibration.py:415: RuntimeWarning: overflow encountered in exp\n  E = np.exp(AB[0] * F + AB[1])\n/Users/maxwelllee54/anaconda/lib/python3.5/site-packages/sklearn/calibration.py:425: RuntimeWarning: overflow encountered in exp\n  E = np.exp(AB[0] * F + AB[1])\n/Users/maxwelllee54/anaconda/lib/python3.5/site-packages/sklearn/calibration.py:427: RuntimeWarning: invalid value encountered in multiply\n  TEP_minus_T1P = P * (T * E - T1)\n/Users/maxwelllee54/anaconda/lib/python3.5/site-packages/sklearn/calibration.py:415: RuntimeWarning: overflow encountered in exp\n  E = np.exp(AB[0] * F + AB[1])\n/Users/maxwelllee54/anaconda/lib/python3.5/site-packages/sklearn/calibration.py:415: RuntimeWarning: overflow encountered in exp\n  E = np.exp(AB[0] * F + AB[1])\n/Users/maxwelllee54/anaconda/lib/python3.5/site-packages/sklearn/calibration.py:425: RuntimeWarning: overflow encountered in exp\n  E = np.exp(AB[0] * F + AB[1])\n/Users/maxwelllee54/anaconda/lib/python3.5/site-packages/sklearn/calibration.py:427: RuntimeWarning: invalid value encountered in multiply\n  TEP_minus_T1P = P * (T * E - T1)\n/Users/maxwelllee54/anaconda/lib/python3.5/site-packages/sklearn/calibration.py:415: RuntimeWarning: overflow encountered in exp\n  E = np.exp(AB[0] * F + AB[1])\n/Users/maxwelllee54/anaconda/lib/python3.5/site-packages/sklearn/calibration.py:415: RuntimeWarning: overflow encountered in exp\n  E = np.exp(AB[0] * F + AB[1])\n/Users/maxwelllee54/anaconda/lib/python3.5/site-packages/sklearn/calibration.py:425: RuntimeWarning: overflow encountered in exp\n  E = np.exp(AB[0] * F + AB[1])\n/Users/maxwelllee54/anaconda/lib/python3.5/site-packages/sklearn/calibration.py:427: RuntimeWarning: invalid value encountered in multiply\n  TEP_minus_T1P = P * (T * E - T1)\n/Users/maxwelllee54/anaconda/lib/python3.5/site-packages/sklearn/calibration.py:415: RuntimeWarning: overflow encountered in exp\n  E = np.exp(AB[0] * F + AB[1])\n"
     ]
    },
    {
     "name": "stdout",
     "output_type": "stream",
     "text": [
      "0.542977602543 \t\t 26 \t\t 10\n0.546784613024 \t\t 26 \t\t 11\n0.547115058523 \t\t 26 \t\t 12\n0.546634246347 \t\t 26 \t\t 13\n0.546665060295 \t\t 26 \t\t 14\n"
     ]
    },
    {
     "name": "stderr",
     "output_type": "stream",
     "text": [
      "/Users/maxwelllee54/anaconda/lib/python3.5/site-packages/sklearn/calibration.py:415: RuntimeWarning: overflow encountered in exp\n  E = np.exp(AB[0] * F + AB[1])\n/Users/maxwelllee54/anaconda/lib/python3.5/site-packages/sklearn/calibration.py:425: RuntimeWarning: overflow encountered in exp\n  E = np.exp(AB[0] * F + AB[1])\n/Users/maxwelllee54/anaconda/lib/python3.5/site-packages/sklearn/calibration.py:427: RuntimeWarning: invalid value encountered in multiply\n  TEP_minus_T1P = P * (T * E - T1)\n/Users/maxwelllee54/anaconda/lib/python3.5/site-packages/sklearn/calibration.py:415: RuntimeWarning: overflow encountered in exp\n  E = np.exp(AB[0] * F + AB[1])\n/Users/maxwelllee54/anaconda/lib/python3.5/site-packages/sklearn/calibration.py:415: RuntimeWarning: overflow encountered in exp\n  E = np.exp(AB[0] * F + AB[1])\n/Users/maxwelllee54/anaconda/lib/python3.5/site-packages/sklearn/calibration.py:425: RuntimeWarning: overflow encountered in exp\n  E = np.exp(AB[0] * F + AB[1])\n/Users/maxwelllee54/anaconda/lib/python3.5/site-packages/sklearn/calibration.py:427: RuntimeWarning: invalid value encountered in multiply\n  TEP_minus_T1P = P * (T * E - T1)\n/Users/maxwelllee54/anaconda/lib/python3.5/site-packages/sklearn/calibration.py:415: RuntimeWarning: overflow encountered in exp\n  E = np.exp(AB[0] * F + AB[1])\n/Users/maxwelllee54/anaconda/lib/python3.5/site-packages/sklearn/calibration.py:415: RuntimeWarning: overflow encountered in exp\n  E = np.exp(AB[0] * F + AB[1])\n/Users/maxwelllee54/anaconda/lib/python3.5/site-packages/sklearn/calibration.py:425: RuntimeWarning: overflow encountered in exp\n  E = np.exp(AB[0] * F + AB[1])\n/Users/maxwelllee54/anaconda/lib/python3.5/site-packages/sklearn/calibration.py:427: RuntimeWarning: invalid value encountered in multiply\n  TEP_minus_T1P = P * (T * E - T1)\n/Users/maxwelllee54/anaconda/lib/python3.5/site-packages/sklearn/calibration.py:415: RuntimeWarning: overflow encountered in exp\n  E = np.exp(AB[0] * F + AB[1])\n/Users/maxwelllee54/anaconda/lib/python3.5/site-packages/sklearn/calibration.py:415: RuntimeWarning: overflow encountered in exp\n  E = np.exp(AB[0] * F + AB[1])\n/Users/maxwelllee54/anaconda/lib/python3.5/site-packages/sklearn/calibration.py:425: RuntimeWarning: overflow encountered in exp\n  E = np.exp(AB[0] * F + AB[1])\n/Users/maxwelllee54/anaconda/lib/python3.5/site-packages/sklearn/calibration.py:427: RuntimeWarning: invalid value encountered in multiply\n  TEP_minus_T1P = P * (T * E - T1)\n/Users/maxwelllee54/anaconda/lib/python3.5/site-packages/sklearn/calibration.py:415: RuntimeWarning: overflow encountered in exp\n  E = np.exp(AB[0] * F + AB[1])\n/Users/maxwelllee54/anaconda/lib/python3.5/site-packages/sklearn/calibration.py:415: RuntimeWarning: overflow encountered in exp\n  E = np.exp(AB[0] * F + AB[1])\n/Users/maxwelllee54/anaconda/lib/python3.5/site-packages/sklearn/calibration.py:425: RuntimeWarning: overflow encountered in exp\n  E = np.exp(AB[0] * F + AB[1])\n/Users/maxwelllee54/anaconda/lib/python3.5/site-packages/sklearn/calibration.py:427: RuntimeWarning: invalid value encountered in multiply\n  TEP_minus_T1P = P * (T * E - T1)\n"
     ]
    },
    {
     "name": "stderr",
     "output_type": "stream",
     "text": [
      "/Users/maxwelllee54/anaconda/lib/python3.5/site-packages/sklearn/calibration.py:415: RuntimeWarning: overflow encountered in exp\n  E = np.exp(AB[0] * F + AB[1])\n/Users/maxwelllee54/anaconda/lib/python3.5/site-packages/sklearn/calibration.py:415: RuntimeWarning: overflow encountered in exp\n  E = np.exp(AB[0] * F + AB[1])\n/Users/maxwelllee54/anaconda/lib/python3.5/site-packages/sklearn/calibration.py:425: RuntimeWarning: overflow encountered in exp\n  E = np.exp(AB[0] * F + AB[1])\n/Users/maxwelllee54/anaconda/lib/python3.5/site-packages/sklearn/calibration.py:427: RuntimeWarning: invalid value encountered in multiply\n  TEP_minus_T1P = P * (T * E - T1)\n/Users/maxwelllee54/anaconda/lib/python3.5/site-packages/sklearn/calibration.py:415: RuntimeWarning: overflow encountered in exp\n  E = np.exp(AB[0] * F + AB[1])\n/Users/maxwelllee54/anaconda/lib/python3.5/site-packages/sklearn/calibration.py:415: RuntimeWarning: overflow encountered in exp\n  E = np.exp(AB[0] * F + AB[1])\n/Users/maxwelllee54/anaconda/lib/python3.5/site-packages/sklearn/calibration.py:425: RuntimeWarning: overflow encountered in exp\n  E = np.exp(AB[0] * F + AB[1])\n/Users/maxwelllee54/anaconda/lib/python3.5/site-packages/sklearn/calibration.py:427: RuntimeWarning: invalid value encountered in multiply\n  TEP_minus_T1P = P * (T * E - T1)\n/Users/maxwelllee54/anaconda/lib/python3.5/site-packages/sklearn/calibration.py:415: RuntimeWarning: overflow encountered in exp\n  E = np.exp(AB[0] * F + AB[1])\n/Users/maxwelllee54/anaconda/lib/python3.5/site-packages/sklearn/calibration.py:415: RuntimeWarning: overflow encountered in exp\n  E = np.exp(AB[0] * F + AB[1])\n/Users/maxwelllee54/anaconda/lib/python3.5/site-packages/sklearn/calibration.py:425: RuntimeWarning: overflow encountered in exp\n  E = np.exp(AB[0] * F + AB[1])\n/Users/maxwelllee54/anaconda/lib/python3.5/site-packages/sklearn/calibration.py:427: RuntimeWarning: invalid value encountered in multiply\n  TEP_minus_T1P = P * (T * E - T1)\n/Users/maxwelllee54/anaconda/lib/python3.5/site-packages/sklearn/calibration.py:415: RuntimeWarning: overflow encountered in exp\n  E = np.exp(AB[0] * F + AB[1])\n"
     ]
    },
    {
     "name": "stdout",
     "output_type": "stream",
     "text": [
      "0.547412038264 \t\t 26 \t\t 15\n0.547393723786 \t\t 26 \t\t 16\n0.551354740787 \t\t 26 \t\t 17\n0.551165114503 \t\t 26 \t\t 18\n"
     ]
    },
    {
     "name": "stderr",
     "output_type": "stream",
     "text": [
      "/Users/maxwelllee54/anaconda/lib/python3.5/site-packages/sklearn/calibration.py:415: RuntimeWarning: overflow encountered in exp\n  E = np.exp(AB[0] * F + AB[1])\n/Users/maxwelllee54/anaconda/lib/python3.5/site-packages/sklearn/calibration.py:425: RuntimeWarning: overflow encountered in exp\n  E = np.exp(AB[0] * F + AB[1])\n/Users/maxwelllee54/anaconda/lib/python3.5/site-packages/sklearn/calibration.py:427: RuntimeWarning: invalid value encountered in multiply\n  TEP_minus_T1P = P * (T * E - T1)\n/Users/maxwelllee54/anaconda/lib/python3.5/site-packages/sklearn/calibration.py:415: RuntimeWarning: overflow encountered in exp\n  E = np.exp(AB[0] * F + AB[1])\n/Users/maxwelllee54/anaconda/lib/python3.5/site-packages/sklearn/calibration.py:415: RuntimeWarning: overflow encountered in exp\n  E = np.exp(AB[0] * F + AB[1])\n/Users/maxwelllee54/anaconda/lib/python3.5/site-packages/sklearn/calibration.py:425: RuntimeWarning: overflow encountered in exp\n  E = np.exp(AB[0] * F + AB[1])\n/Users/maxwelllee54/anaconda/lib/python3.5/site-packages/sklearn/calibration.py:427: RuntimeWarning: invalid value encountered in multiply\n  TEP_minus_T1P = P * (T * E - T1)\n/Users/maxwelllee54/anaconda/lib/python3.5/site-packages/sklearn/calibration.py:415: RuntimeWarning: overflow encountered in exp\n  E = np.exp(AB[0] * F + AB[1])\n/Users/maxwelllee54/anaconda/lib/python3.5/site-packages/sklearn/calibration.py:415: RuntimeWarning: overflow encountered in exp\n  E = np.exp(AB[0] * F + AB[1])\n/Users/maxwelllee54/anaconda/lib/python3.5/site-packages/sklearn/calibration.py:425: RuntimeWarning: overflow encountered in exp\n  E = np.exp(AB[0] * F + AB[1])\n/Users/maxwelllee54/anaconda/lib/python3.5/site-packages/sklearn/calibration.py:427: RuntimeWarning: invalid value encountered in multiply\n  TEP_minus_T1P = P * (T * E - T1)\n/Users/maxwelllee54/anaconda/lib/python3.5/site-packages/sklearn/calibration.py:415: RuntimeWarning: overflow encountered in exp\n  E = np.exp(AB[0] * F + AB[1])\n"
     ]
    },
    {
     "name": "stdout",
     "output_type": "stream",
     "text": [
      "0.546461643538 \t\t 26 \t\t 19\n0.571504195197 \t\t 26 \t\t 20\n0.570579531021 \t\t 26 \t\t 21\n"
     ]
    },
    {
     "name": "stderr",
     "output_type": "stream",
     "text": [
      "/Users/maxwelllee54/anaconda/lib/python3.5/site-packages/sklearn/calibration.py:415: RuntimeWarning: overflow encountered in exp\n  E = np.exp(AB[0] * F + AB[1])\n/Users/maxwelllee54/anaconda/lib/python3.5/site-packages/sklearn/calibration.py:425: RuntimeWarning: overflow encountered in exp\n  E = np.exp(AB[0] * F + AB[1])\n/Users/maxwelllee54/anaconda/lib/python3.5/site-packages/sklearn/calibration.py:427: RuntimeWarning: invalid value encountered in multiply\n  TEP_minus_T1P = P * (T * E - T1)\n/Users/maxwelllee54/anaconda/lib/python3.5/site-packages/sklearn/calibration.py:415: RuntimeWarning: overflow encountered in exp\n  E = np.exp(AB[0] * F + AB[1])\n"
     ]
    },
    {
     "name": "stdout",
     "output_type": "stream",
     "text": [
      "0.570175942912 \t\t 26 \t\t 22\n0.570500248523 \t\t 26 \t\t 23\n"
     ]
    },
    {
     "name": "stdout",
     "output_type": "stream",
     "text": [
      "0.570500231884 \t\t 26 \t\t 24\n0.570500238708 \t\t 26 \t\t 25\n"
     ]
    },
    {
     "name": "stdout",
     "output_type": "stream",
     "text": [
      "0.663912471743 \t\t 27 \t\t 3\n0.663676114901 \t\t 27 \t\t 4\n0.595750022391 \t\t 27 \t\t 5\n0.554526781616 \t\t 27 \t\t 6\n0.555219890514 \t\t 27 \t\t 7\n0.557627364658 \t\t 27 \t\t 8\n"
     ]
    },
    {
     "name": "stderr",
     "output_type": "stream",
     "text": [
      "/Users/maxwelllee54/anaconda/lib/python3.5/site-packages/sklearn/calibration.py:415: RuntimeWarning: overflow encountered in exp\n  E = np.exp(AB[0] * F + AB[1])\n/Users/maxwelllee54/anaconda/lib/python3.5/site-packages/sklearn/calibration.py:425: RuntimeWarning: overflow encountered in exp\n  E = np.exp(AB[0] * F + AB[1])\n/Users/maxwelllee54/anaconda/lib/python3.5/site-packages/sklearn/calibration.py:427: RuntimeWarning: invalid value encountered in multiply\n  TEP_minus_T1P = P * (T * E - T1)\n/Users/maxwelllee54/anaconda/lib/python3.5/site-packages/sklearn/calibration.py:415: RuntimeWarning: overflow encountered in exp\n  E = np.exp(AB[0] * F + AB[1])\n/Users/maxwelllee54/anaconda/lib/python3.5/site-packages/sklearn/calibration.py:415: RuntimeWarning: overflow encountered in exp\n  E = np.exp(AB[0] * F + AB[1])\n/Users/maxwelllee54/anaconda/lib/python3.5/site-packages/sklearn/calibration.py:425: RuntimeWarning: overflow encountered in exp\n  E = np.exp(AB[0] * F + AB[1])\n/Users/maxwelllee54/anaconda/lib/python3.5/site-packages/sklearn/calibration.py:427: RuntimeWarning: invalid value encountered in multiply\n  TEP_minus_T1P = P * (T * E - T1)\n/Users/maxwelllee54/anaconda/lib/python3.5/site-packages/sklearn/calibration.py:415: RuntimeWarning: overflow encountered in exp\n  E = np.exp(AB[0] * F + AB[1])\n/Users/maxwelllee54/anaconda/lib/python3.5/site-packages/sklearn/calibration.py:415: RuntimeWarning: overflow encountered in exp\n  E = np.exp(AB[0] * F + AB[1])\n/Users/maxwelllee54/anaconda/lib/python3.5/site-packages/sklearn/calibration.py:425: RuntimeWarning: overflow encountered in exp\n  E = np.exp(AB[0] * F + AB[1])\n/Users/maxwelllee54/anaconda/lib/python3.5/site-packages/sklearn/calibration.py:427: RuntimeWarning: invalid value encountered in multiply\n  TEP_minus_T1P = P * (T * E - T1)\n/Users/maxwelllee54/anaconda/lib/python3.5/site-packages/sklearn/calibration.py:415: RuntimeWarning: overflow encountered in exp\n  E = np.exp(AB[0] * F + AB[1])\n/Users/maxwelllee54/anaconda/lib/python3.5/site-packages/sklearn/calibration.py:415: RuntimeWarning: overflow encountered in exp\n  E = np.exp(AB[0] * F + AB[1])\n/Users/maxwelllee54/anaconda/lib/python3.5/site-packages/sklearn/calibration.py:425: RuntimeWarning: overflow encountered in exp\n  E = np.exp(AB[0] * F + AB[1])\n/Users/maxwelllee54/anaconda/lib/python3.5/site-packages/sklearn/calibration.py:427: RuntimeWarning: invalid value encountered in multiply\n  TEP_minus_T1P = P * (T * E - T1)\n/Users/maxwelllee54/anaconda/lib/python3.5/site-packages/sklearn/calibration.py:415: RuntimeWarning: overflow encountered in exp\n  E = np.exp(AB[0] * F + AB[1])\n/Users/maxwelllee54/anaconda/lib/python3.5/site-packages/sklearn/calibration.py:415: RuntimeWarning: overflow encountered in exp\n  E = np.exp(AB[0] * F + AB[1])\n/Users/maxwelllee54/anaconda/lib/python3.5/site-packages/sklearn/calibration.py:425: RuntimeWarning: overflow encountered in exp\n  E = np.exp(AB[0] * F + AB[1])\n/Users/maxwelllee54/anaconda/lib/python3.5/site-packages/sklearn/calibration.py:427: RuntimeWarning: invalid value encountered in multiply\n  TEP_minus_T1P = P * (T * E - T1)\n/Users/maxwelllee54/anaconda/lib/python3.5/site-packages/sklearn/calibration.py:415: RuntimeWarning: overflow encountered in exp\n  E = np.exp(AB[0] * F + AB[1])\n"
     ]
    },
    {
     "name": "stdout",
     "output_type": "stream",
     "text": [
      "0.55508430429 \t\t 27 \t\t 9\n0.540466537107 \t\t 27 \t\t 10\n0.544276635396 \t\t 27 \t\t 11\n0.545726057564 \t\t 27 \t\t 12\n0.544437518334 \t\t 27 \t\t 13\n"
     ]
    },
    {
     "name": "stderr",
     "output_type": "stream",
     "text": [
      "/Users/maxwelllee54/anaconda/lib/python3.5/site-packages/sklearn/calibration.py:415: RuntimeWarning: overflow encountered in exp\n  E = np.exp(AB[0] * F + AB[1])\n/Users/maxwelllee54/anaconda/lib/python3.5/site-packages/sklearn/calibration.py:425: RuntimeWarning: overflow encountered in exp\n  E = np.exp(AB[0] * F + AB[1])\n/Users/maxwelllee54/anaconda/lib/python3.5/site-packages/sklearn/calibration.py:427: RuntimeWarning: invalid value encountered in multiply\n  TEP_minus_T1P = P * (T * E - T1)\n/Users/maxwelllee54/anaconda/lib/python3.5/site-packages/sklearn/calibration.py:415: RuntimeWarning: overflow encountered in exp\n  E = np.exp(AB[0] * F + AB[1])\n/Users/maxwelllee54/anaconda/lib/python3.5/site-packages/sklearn/calibration.py:415: RuntimeWarning: overflow encountered in exp\n  E = np.exp(AB[0] * F + AB[1])\n/Users/maxwelllee54/anaconda/lib/python3.5/site-packages/sklearn/calibration.py:425: RuntimeWarning: overflow encountered in exp\n  E = np.exp(AB[0] * F + AB[1])\n/Users/maxwelllee54/anaconda/lib/python3.5/site-packages/sklearn/calibration.py:427: RuntimeWarning: invalid value encountered in multiply\n  TEP_minus_T1P = P * (T * E - T1)\n/Users/maxwelllee54/anaconda/lib/python3.5/site-packages/sklearn/calibration.py:415: RuntimeWarning: overflow encountered in exp\n  E = np.exp(AB[0] * F + AB[1])\n/Users/maxwelllee54/anaconda/lib/python3.5/site-packages/sklearn/calibration.py:415: RuntimeWarning: overflow encountered in exp\n  E = np.exp(AB[0] * F + AB[1])\n/Users/maxwelllee54/anaconda/lib/python3.5/site-packages/sklearn/calibration.py:425: RuntimeWarning: overflow encountered in exp\n  E = np.exp(AB[0] * F + AB[1])\n/Users/maxwelllee54/anaconda/lib/python3.5/site-packages/sklearn/calibration.py:427: RuntimeWarning: invalid value encountered in multiply\n  TEP_minus_T1P = P * (T * E - T1)\n/Users/maxwelllee54/anaconda/lib/python3.5/site-packages/sklearn/calibration.py:415: RuntimeWarning: overflow encountered in exp\n  E = np.exp(AB[0] * F + AB[1])\n/Users/maxwelllee54/anaconda/lib/python3.5/site-packages/sklearn/calibration.py:415: RuntimeWarning: overflow encountered in exp\n  E = np.exp(AB[0] * F + AB[1])\n/Users/maxwelllee54/anaconda/lib/python3.5/site-packages/sklearn/calibration.py:425: RuntimeWarning: overflow encountered in exp\n  E = np.exp(AB[0] * F + AB[1])\n/Users/maxwelllee54/anaconda/lib/python3.5/site-packages/sklearn/calibration.py:427: RuntimeWarning: invalid value encountered in multiply\n  TEP_minus_T1P = P * (T * E - T1)\n/Users/maxwelllee54/anaconda/lib/python3.5/site-packages/sklearn/calibration.py:415: RuntimeWarning: overflow encountered in exp\n  E = np.exp(AB[0] * F + AB[1])\n/Users/maxwelllee54/anaconda/lib/python3.5/site-packages/sklearn/calibration.py:415: RuntimeWarning: overflow encountered in exp\n  E = np.exp(AB[0] * F + AB[1])\n/Users/maxwelllee54/anaconda/lib/python3.5/site-packages/sklearn/calibration.py:425: RuntimeWarning: overflow encountered in exp\n  E = np.exp(AB[0] * F + AB[1])\n/Users/maxwelllee54/anaconda/lib/python3.5/site-packages/sklearn/calibration.py:427: RuntimeWarning: invalid value encountered in multiply\n  TEP_minus_T1P = P * (T * E - T1)\n/Users/maxwelllee54/anaconda/lib/python3.5/site-packages/sklearn/calibration.py:415: RuntimeWarning: overflow encountered in exp\n  E = np.exp(AB[0] * F + AB[1])\n"
     ]
    },
    {
     "name": "stdout",
     "output_type": "stream",
     "text": [
      "0.544454793769 \t\t 27 \t\t 14\n0.54500933186 \t\t 27 \t\t 15\n0.545053386672 \t\t 27 \t\t 16\n0.54895203729 \t\t 27 \t\t 17\n"
     ]
    },
    {
     "name": "stderr",
     "output_type": "stream",
     "text": [
      "/Users/maxwelllee54/anaconda/lib/python3.5/site-packages/sklearn/calibration.py:415: RuntimeWarning: overflow encountered in exp\n  E = np.exp(AB[0] * F + AB[1])\n/Users/maxwelllee54/anaconda/lib/python3.5/site-packages/sklearn/calibration.py:425: RuntimeWarning: overflow encountered in exp\n  E = np.exp(AB[0] * F + AB[1])\n/Users/maxwelllee54/anaconda/lib/python3.5/site-packages/sklearn/calibration.py:427: RuntimeWarning: invalid value encountered in multiply\n  TEP_minus_T1P = P * (T * E - T1)\n/Users/maxwelllee54/anaconda/lib/python3.5/site-packages/sklearn/calibration.py:415: RuntimeWarning: overflow encountered in exp\n  E = np.exp(AB[0] * F + AB[1])\n/Users/maxwelllee54/anaconda/lib/python3.5/site-packages/sklearn/calibration.py:415: RuntimeWarning: overflow encountered in exp\n  E = np.exp(AB[0] * F + AB[1])\n/Users/maxwelllee54/anaconda/lib/python3.5/site-packages/sklearn/calibration.py:425: RuntimeWarning: overflow encountered in exp\n  E = np.exp(AB[0] * F + AB[1])\n/Users/maxwelllee54/anaconda/lib/python3.5/site-packages/sklearn/calibration.py:427: RuntimeWarning: invalid value encountered in multiply\n  TEP_minus_T1P = P * (T * E - T1)\n/Users/maxwelllee54/anaconda/lib/python3.5/site-packages/sklearn/calibration.py:415: RuntimeWarning: overflow encountered in exp\n  E = np.exp(AB[0] * F + AB[1])\n"
     ]
    },
    {
     "name": "stdout",
     "output_type": "stream",
     "text": [
      "0.558125728885 \t\t 27 \t\t 18\n0.557988037029 \t\t 27 \t\t 19\n0.55908120736 \t\t 27 \t\t 20\n0.562708800916 \t\t 27 \t\t 21\n"
     ]
    },
    {
     "name": "stderr",
     "output_type": "stream",
     "text": [
      "/Users/maxwelllee54/anaconda/lib/python3.5/site-packages/sklearn/calibration.py:415: RuntimeWarning: overflow encountered in exp\n  E = np.exp(AB[0] * F + AB[1])\n/Users/maxwelllee54/anaconda/lib/python3.5/site-packages/sklearn/calibration.py:425: RuntimeWarning: overflow encountered in exp\n  E = np.exp(AB[0] * F + AB[1])\n/Users/maxwelllee54/anaconda/lib/python3.5/site-packages/sklearn/calibration.py:427: RuntimeWarning: invalid value encountered in multiply\n  TEP_minus_T1P = P * (T * E - T1)\n/Users/maxwelllee54/anaconda/lib/python3.5/site-packages/sklearn/calibration.py:415: RuntimeWarning: overflow encountered in exp\n  E = np.exp(AB[0] * F + AB[1])\n/Users/maxwelllee54/anaconda/lib/python3.5/site-packages/sklearn/calibration.py:415: RuntimeWarning: overflow encountered in exp\n  E = np.exp(AB[0] * F + AB[1])\n/Users/maxwelllee54/anaconda/lib/python3.5/site-packages/sklearn/calibration.py:425: RuntimeWarning: overflow encountered in exp\n  E = np.exp(AB[0] * F + AB[1])\n/Users/maxwelllee54/anaconda/lib/python3.5/site-packages/sklearn/calibration.py:427: RuntimeWarning: invalid value encountered in multiply\n  TEP_minus_T1P = P * (T * E - T1)\n/Users/maxwelllee54/anaconda/lib/python3.5/site-packages/sklearn/calibration.py:415: RuntimeWarning: overflow encountered in exp\n  E = np.exp(AB[0] * F + AB[1])\n/Users/maxwelllee54/anaconda/lib/python3.5/site-packages/sklearn/calibration.py:415: RuntimeWarning: overflow encountered in exp\n  E = np.exp(AB[0] * F + AB[1])\n/Users/maxwelllee54/anaconda/lib/python3.5/site-packages/sklearn/calibration.py:425: RuntimeWarning: overflow encountered in exp\n  E = np.exp(AB[0] * F + AB[1])\n/Users/maxwelllee54/anaconda/lib/python3.5/site-packages/sklearn/calibration.py:427: RuntimeWarning: invalid value encountered in multiply\n  TEP_minus_T1P = P * (T * E - T1)\n/Users/maxwelllee54/anaconda/lib/python3.5/site-packages/sklearn/calibration.py:415: RuntimeWarning: overflow encountered in exp\n  E = np.exp(AB[0] * F + AB[1])\n"
     ]
    },
    {
     "name": "stdout",
     "output_type": "stream",
     "text": [
      "0.567745507838 \t\t 27 \t\t 22\n0.558629487056 \t\t 27 \t\t 23\n"
     ]
    },
    {
     "name": "stdout",
     "output_type": "stream",
     "text": [
      "0.558629094769 \t\t 27 \t\t 24\n0.558629090736 \t\t 27 \t\t 25\n"
     ]
    },
    {
     "name": "stdout",
     "output_type": "stream",
     "text": [
      "0.55862909823 \t\t 27 \t\t 26\n0.663948056295 \t\t 28 \t\t 3\n"
     ]
    },
    {
     "name": "stdout",
     "output_type": "stream",
     "text": [
      "0.663751769658 \t\t 28 \t\t 4\n0.595834531809 \t\t 28 \t\t 5\n0.553848629064 \t\t 28 \t\t 6\n0.555191286394 \t\t 28 \t\t 7\n0.559427929244 \t\t 28 \t\t 8\n0.559496354526 \t\t 28 \t\t 9\n"
     ]
    },
    {
     "name": "stderr",
     "output_type": "stream",
     "text": [
      "/Users/maxwelllee54/anaconda/lib/python3.5/site-packages/sklearn/calibration.py:415: RuntimeWarning: overflow encountered in exp\n  E = np.exp(AB[0] * F + AB[1])\n/Users/maxwelllee54/anaconda/lib/python3.5/site-packages/sklearn/calibration.py:425: RuntimeWarning: overflow encountered in exp\n  E = np.exp(AB[0] * F + AB[1])\n/Users/maxwelllee54/anaconda/lib/python3.5/site-packages/sklearn/calibration.py:427: RuntimeWarning: invalid value encountered in multiply\n  TEP_minus_T1P = P * (T * E - T1)\n/Users/maxwelllee54/anaconda/lib/python3.5/site-packages/sklearn/calibration.py:415: RuntimeWarning: overflow encountered in exp\n  E = np.exp(AB[0] * F + AB[1])\n/Users/maxwelllee54/anaconda/lib/python3.5/site-packages/sklearn/calibration.py:415: RuntimeWarning: overflow encountered in exp\n  E = np.exp(AB[0] * F + AB[1])\n/Users/maxwelllee54/anaconda/lib/python3.5/site-packages/sklearn/calibration.py:425: RuntimeWarning: overflow encountered in exp\n  E = np.exp(AB[0] * F + AB[1])\n/Users/maxwelllee54/anaconda/lib/python3.5/site-packages/sklearn/calibration.py:427: RuntimeWarning: invalid value encountered in multiply\n  TEP_minus_T1P = P * (T * E - T1)\n/Users/maxwelllee54/anaconda/lib/python3.5/site-packages/sklearn/calibration.py:415: RuntimeWarning: overflow encountered in exp\n  E = np.exp(AB[0] * F + AB[1])\n/Users/maxwelllee54/anaconda/lib/python3.5/site-packages/sklearn/calibration.py:415: RuntimeWarning: overflow encountered in exp\n  E = np.exp(AB[0] * F + AB[1])\n/Users/maxwelllee54/anaconda/lib/python3.5/site-packages/sklearn/calibration.py:425: RuntimeWarning: overflow encountered in exp\n  E = np.exp(AB[0] * F + AB[1])\n/Users/maxwelllee54/anaconda/lib/python3.5/site-packages/sklearn/calibration.py:427: RuntimeWarning: invalid value encountered in multiply\n  TEP_minus_T1P = P * (T * E - T1)\n/Users/maxwelllee54/anaconda/lib/python3.5/site-packages/sklearn/calibration.py:415: RuntimeWarning: overflow encountered in exp\n  E = np.exp(AB[0] * F + AB[1])\n/Users/maxwelllee54/anaconda/lib/python3.5/site-packages/sklearn/calibration.py:415: RuntimeWarning: overflow encountered in exp\n  E = np.exp(AB[0] * F + AB[1])\n/Users/maxwelllee54/anaconda/lib/python3.5/site-packages/sklearn/calibration.py:425: RuntimeWarning: overflow encountered in exp\n  E = np.exp(AB[0] * F + AB[1])\n/Users/maxwelllee54/anaconda/lib/python3.5/site-packages/sklearn/calibration.py:427: RuntimeWarning: invalid value encountered in multiply\n  TEP_minus_T1P = P * (T * E - T1)\n/Users/maxwelllee54/anaconda/lib/python3.5/site-packages/sklearn/calibration.py:415: RuntimeWarning: overflow encountered in exp\n  E = np.exp(AB[0] * F + AB[1])\n/Users/maxwelllee54/anaconda/lib/python3.5/site-packages/sklearn/calibration.py:415: RuntimeWarning: overflow encountered in exp\n  E = np.exp(AB[0] * F + AB[1])\n/Users/maxwelllee54/anaconda/lib/python3.5/site-packages/sklearn/calibration.py:425: RuntimeWarning: overflow encountered in exp\n  E = np.exp(AB[0] * F + AB[1])\n/Users/maxwelllee54/anaconda/lib/python3.5/site-packages/sklearn/calibration.py:427: RuntimeWarning: invalid value encountered in multiply\n  TEP_minus_T1P = P * (T * E - T1)\n/Users/maxwelllee54/anaconda/lib/python3.5/site-packages/sklearn/calibration.py:415: RuntimeWarning: overflow encountered in exp\n  E = np.exp(AB[0] * F + AB[1])\n"
     ]
    },
    {
     "name": "stdout",
     "output_type": "stream",
     "text": [
      "0.540478592938 \t\t 28 \t\t 10\n0.543749095902 \t\t 28 \t\t 11\n0.542198333018 \t\t 28 \t\t 12\n0.547021569388 \t\t 28 \t\t 13\n0.546374937839 \t\t 28 \t\t 14\n"
     ]
    },
    {
     "name": "stderr",
     "output_type": "stream",
     "text": [
      "/Users/maxwelllee54/anaconda/lib/python3.5/site-packages/sklearn/calibration.py:415: RuntimeWarning: overflow encountered in exp\n  E = np.exp(AB[0] * F + AB[1])\n/Users/maxwelllee54/anaconda/lib/python3.5/site-packages/sklearn/calibration.py:425: RuntimeWarning: overflow encountered in exp\n  E = np.exp(AB[0] * F + AB[1])\n/Users/maxwelllee54/anaconda/lib/python3.5/site-packages/sklearn/calibration.py:427: RuntimeWarning: invalid value encountered in multiply\n  TEP_minus_T1P = P * (T * E - T1)\n/Users/maxwelllee54/anaconda/lib/python3.5/site-packages/sklearn/calibration.py:415: RuntimeWarning: overflow encountered in exp\n  E = np.exp(AB[0] * F + AB[1])\n/Users/maxwelllee54/anaconda/lib/python3.5/site-packages/sklearn/calibration.py:415: RuntimeWarning: overflow encountered in exp\n  E = np.exp(AB[0] * F + AB[1])\n/Users/maxwelllee54/anaconda/lib/python3.5/site-packages/sklearn/calibration.py:425: RuntimeWarning: overflow encountered in exp\n  E = np.exp(AB[0] * F + AB[1])\n/Users/maxwelllee54/anaconda/lib/python3.5/site-packages/sklearn/calibration.py:427: RuntimeWarning: invalid value encountered in multiply\n  TEP_minus_T1P = P * (T * E - T1)\n/Users/maxwelllee54/anaconda/lib/python3.5/site-packages/sklearn/calibration.py:415: RuntimeWarning: overflow encountered in exp\n  E = np.exp(AB[0] * F + AB[1])\n/Users/maxwelllee54/anaconda/lib/python3.5/site-packages/sklearn/calibration.py:415: RuntimeWarning: overflow encountered in exp\n  E = np.exp(AB[0] * F + AB[1])\n/Users/maxwelllee54/anaconda/lib/python3.5/site-packages/sklearn/calibration.py:425: RuntimeWarning: overflow encountered in exp\n  E = np.exp(AB[0] * F + AB[1])\n/Users/maxwelllee54/anaconda/lib/python3.5/site-packages/sklearn/calibration.py:427: RuntimeWarning: invalid value encountered in multiply\n  TEP_minus_T1P = P * (T * E - T1)\n/Users/maxwelllee54/anaconda/lib/python3.5/site-packages/sklearn/calibration.py:415: RuntimeWarning: overflow encountered in exp\n  E = np.exp(AB[0] * F + AB[1])\n/Users/maxwelllee54/anaconda/lib/python3.5/site-packages/sklearn/calibration.py:415: RuntimeWarning: overflow encountered in exp\n  E = np.exp(AB[0] * F + AB[1])\n/Users/maxwelllee54/anaconda/lib/python3.5/site-packages/sklearn/calibration.py:425: RuntimeWarning: overflow encountered in exp\n  E = np.exp(AB[0] * F + AB[1])\n/Users/maxwelllee54/anaconda/lib/python3.5/site-packages/sklearn/calibration.py:427: RuntimeWarning: invalid value encountered in multiply\n  TEP_minus_T1P = P * (T * E - T1)\n/Users/maxwelllee54/anaconda/lib/python3.5/site-packages/sklearn/calibration.py:415: RuntimeWarning: overflow encountered in exp\n  E = np.exp(AB[0] * F + AB[1])\n"
     ]
    },
    {
     "name": "stderr",
     "output_type": "stream",
     "text": [
      "/Users/maxwelllee54/anaconda/lib/python3.5/site-packages/sklearn/calibration.py:415: RuntimeWarning: overflow encountered in exp\n  E = np.exp(AB[0] * F + AB[1])\n/Users/maxwelllee54/anaconda/lib/python3.5/site-packages/sklearn/calibration.py:425: RuntimeWarning: overflow encountered in exp\n  E = np.exp(AB[0] * F + AB[1])\n/Users/maxwelllee54/anaconda/lib/python3.5/site-packages/sklearn/calibration.py:427: RuntimeWarning: invalid value encountered in multiply\n  TEP_minus_T1P = P * (T * E - T1)\n/Users/maxwelllee54/anaconda/lib/python3.5/site-packages/sklearn/calibration.py:415: RuntimeWarning: overflow encountered in exp\n  E = np.exp(AB[0] * F + AB[1])\n/Users/maxwelllee54/anaconda/lib/python3.5/site-packages/sklearn/calibration.py:415: RuntimeWarning: overflow encountered in exp\n  E = np.exp(AB[0] * F + AB[1])\n/Users/maxwelllee54/anaconda/lib/python3.5/site-packages/sklearn/calibration.py:425: RuntimeWarning: overflow encountered in exp\n  E = np.exp(AB[0] * F + AB[1])\n/Users/maxwelllee54/anaconda/lib/python3.5/site-packages/sklearn/calibration.py:427: RuntimeWarning: invalid value encountered in multiply\n  TEP_minus_T1P = P * (T * E - T1)\n/Users/maxwelllee54/anaconda/lib/python3.5/site-packages/sklearn/calibration.py:415: RuntimeWarning: overflow encountered in exp\n  E = np.exp(AB[0] * F + AB[1])\n/Users/maxwelllee54/anaconda/lib/python3.5/site-packages/sklearn/calibration.py:415: RuntimeWarning: overflow encountered in exp\n  E = np.exp(AB[0] * F + AB[1])\n/Users/maxwelllee54/anaconda/lib/python3.5/site-packages/sklearn/calibration.py:425: RuntimeWarning: overflow encountered in exp\n  E = np.exp(AB[0] * F + AB[1])\n/Users/maxwelllee54/anaconda/lib/python3.5/site-packages/sklearn/calibration.py:427: RuntimeWarning: invalid value encountered in multiply\n  TEP_minus_T1P = P * (T * E - T1)\n/Users/maxwelllee54/anaconda/lib/python3.5/site-packages/sklearn/calibration.py:415: RuntimeWarning: overflow encountered in exp\n  E = np.exp(AB[0] * F + AB[1])\n/Users/maxwelllee54/anaconda/lib/python3.5/site-packages/sklearn/calibration.py:415: RuntimeWarning: overflow encountered in exp\n  E = np.exp(AB[0] * F + AB[1])\n/Users/maxwelllee54/anaconda/lib/python3.5/site-packages/sklearn/calibration.py:425: RuntimeWarning: overflow encountered in exp\n  E = np.exp(AB[0] * F + AB[1])\n/Users/maxwelllee54/anaconda/lib/python3.5/site-packages/sklearn/calibration.py:427: RuntimeWarning: invalid value encountered in multiply\n  TEP_minus_T1P = P * (T * E - T1)\n/Users/maxwelllee54/anaconda/lib/python3.5/site-packages/sklearn/calibration.py:415: RuntimeWarning: overflow encountered in exp\n  E = np.exp(AB[0] * F + AB[1])\n"
     ]
    },
    {
     "name": "stdout",
     "output_type": "stream",
     "text": [
      "0.547807069304 \t\t 28 \t\t 15\n0.548612720381 \t\t 28 \t\t 16\n0.548563178195 \t\t 28 \t\t 17\n0.551406566017 \t\t 28 \t\t 18\n"
     ]
    },
    {
     "name": "stdout",
     "output_type": "stream",
     "text": [
      "0.559230092908 \t\t 28 \t\t 19\n0.559068985031 \t\t 28 \t\t 20\n"
     ]
    },
    {
     "name": "stderr",
     "output_type": "stream",
     "text": [
      "/Users/maxwelllee54/anaconda/lib/python3.5/site-packages/sklearn/calibration.py:415: RuntimeWarning: overflow encountered in exp\n  E = np.exp(AB[0] * F + AB[1])\n/Users/maxwelllee54/anaconda/lib/python3.5/site-packages/sklearn/calibration.py:425: RuntimeWarning: overflow encountered in exp\n  E = np.exp(AB[0] * F + AB[1])\n/Users/maxwelllee54/anaconda/lib/python3.5/site-packages/sklearn/calibration.py:427: RuntimeWarning: invalid value encountered in multiply\n  TEP_minus_T1P = P * (T * E - T1)\n/Users/maxwelllee54/anaconda/lib/python3.5/site-packages/sklearn/calibration.py:415: RuntimeWarning: overflow encountered in exp\n  E = np.exp(AB[0] * F + AB[1])\n/Users/maxwelllee54/anaconda/lib/python3.5/site-packages/sklearn/calibration.py:415: RuntimeWarning: overflow encountered in exp\n  E = np.exp(AB[0] * F + AB[1])\n/Users/maxwelllee54/anaconda/lib/python3.5/site-packages/sklearn/calibration.py:425: RuntimeWarning: overflow encountered in exp\n  E = np.exp(AB[0] * F + AB[1])\n/Users/maxwelllee54/anaconda/lib/python3.5/site-packages/sklearn/calibration.py:427: RuntimeWarning: invalid value encountered in multiply\n  TEP_minus_T1P = P * (T * E - T1)\n/Users/maxwelllee54/anaconda/lib/python3.5/site-packages/sklearn/calibration.py:415: RuntimeWarning: overflow encountered in exp\n  E = np.exp(AB[0] * F + AB[1])\n/Users/maxwelllee54/anaconda/lib/python3.5/site-packages/sklearn/calibration.py:415: RuntimeWarning: overflow encountered in exp\n  E = np.exp(AB[0] * F + AB[1])\n/Users/maxwelllee54/anaconda/lib/python3.5/site-packages/sklearn/calibration.py:425: RuntimeWarning: overflow encountered in exp\n  E = np.exp(AB[0] * F + AB[1])\n/Users/maxwelllee54/anaconda/lib/python3.5/site-packages/sklearn/calibration.py:427: RuntimeWarning: invalid value encountered in multiply\n  TEP_minus_T1P = P * (T * E - T1)\n/Users/maxwelllee54/anaconda/lib/python3.5/site-packages/sklearn/calibration.py:415: RuntimeWarning: overflow encountered in exp\n  E = np.exp(AB[0] * F + AB[1])\n"
     ]
    },
    {
     "name": "stdout",
     "output_type": "stream",
     "text": [
      "0.558625218131 \t\t 28 \t\t 21\n0.56328158236 \t\t 28 \t\t 22\n0.567344600468 \t\t 28 \t\t 23\n"
     ]
    },
    {
     "name": "stdout",
     "output_type": "stream",
     "text": [
      "0.559540401166 \t\t 28 \t\t 24\n0.559540006728 \t\t 28 \t\t 25\n"
     ]
    },
    {
     "name": "stdout",
     "output_type": "stream",
     "text": [
      "0.559540003072 \t\t 28 \t\t 26\n"
     ]
    },
    {
     "name": "stdout",
     "output_type": "stream",
     "text": [
      "0.559540006093 \t\t 28 \t\t 27\n"
     ]
    },
    {
     "name": "stdout",
     "output_type": "stream",
     "text": [
      "0.663845266494 \t\t 29 \t\t 3\n0.663635151275 \t\t 29 \t\t 4\n0.595873194516 \t\t 29 \t\t 5\n0.553795535773 \t\t 29 \t\t 6\n0.555192811989 \t\t 29 \t\t 7\n0.559353355457 \t\t 29 \t\t 8\n"
     ]
    },
    {
     "name": "stderr",
     "output_type": "stream",
     "text": [
      "/Users/maxwelllee54/anaconda/lib/python3.5/site-packages/sklearn/calibration.py:415: RuntimeWarning: overflow encountered in exp\n  E = np.exp(AB[0] * F + AB[1])\n/Users/maxwelllee54/anaconda/lib/python3.5/site-packages/sklearn/calibration.py:425: RuntimeWarning: overflow encountered in exp\n  E = np.exp(AB[0] * F + AB[1])\n/Users/maxwelllee54/anaconda/lib/python3.5/site-packages/sklearn/calibration.py:427: RuntimeWarning: invalid value encountered in multiply\n  TEP_minus_T1P = P * (T * E - T1)\n/Users/maxwelllee54/anaconda/lib/python3.5/site-packages/sklearn/calibration.py:415: RuntimeWarning: overflow encountered in exp\n  E = np.exp(AB[0] * F + AB[1])\n/Users/maxwelllee54/anaconda/lib/python3.5/site-packages/sklearn/calibration.py:415: RuntimeWarning: overflow encountered in exp\n  E = np.exp(AB[0] * F + AB[1])\n/Users/maxwelllee54/anaconda/lib/python3.5/site-packages/sklearn/calibration.py:425: RuntimeWarning: overflow encountered in exp\n  E = np.exp(AB[0] * F + AB[1])\n/Users/maxwelllee54/anaconda/lib/python3.5/site-packages/sklearn/calibration.py:427: RuntimeWarning: invalid value encountered in multiply\n  TEP_minus_T1P = P * (T * E - T1)\n/Users/maxwelllee54/anaconda/lib/python3.5/site-packages/sklearn/calibration.py:415: RuntimeWarning: overflow encountered in exp\n  E = np.exp(AB[0] * F + AB[1])\n/Users/maxwelllee54/anaconda/lib/python3.5/site-packages/sklearn/calibration.py:415: RuntimeWarning: overflow encountered in exp\n  E = np.exp(AB[0] * F + AB[1])\n/Users/maxwelllee54/anaconda/lib/python3.5/site-packages/sklearn/calibration.py:425: RuntimeWarning: overflow encountered in exp\n  E = np.exp(AB[0] * F + AB[1])\n/Users/maxwelllee54/anaconda/lib/python3.5/site-packages/sklearn/calibration.py:427: RuntimeWarning: invalid value encountered in multiply\n  TEP_minus_T1P = P * (T * E - T1)\n/Users/maxwelllee54/anaconda/lib/python3.5/site-packages/sklearn/calibration.py:415: RuntimeWarning: overflow encountered in exp\n  E = np.exp(AB[0] * F + AB[1])\n/Users/maxwelllee54/anaconda/lib/python3.5/site-packages/sklearn/calibration.py:415: RuntimeWarning: overflow encountered in exp\n  E = np.exp(AB[0] * F + AB[1])\n/Users/maxwelllee54/anaconda/lib/python3.5/site-packages/sklearn/calibration.py:425: RuntimeWarning: overflow encountered in exp\n  E = np.exp(AB[0] * F + AB[1])\n/Users/maxwelllee54/anaconda/lib/python3.5/site-packages/sklearn/calibration.py:427: RuntimeWarning: invalid value encountered in multiply\n  TEP_minus_T1P = P * (T * E - T1)\n/Users/maxwelllee54/anaconda/lib/python3.5/site-packages/sklearn/calibration.py:415: RuntimeWarning: overflow encountered in exp\n  E = np.exp(AB[0] * F + AB[1])\n/Users/maxwelllee54/anaconda/lib/python3.5/site-packages/sklearn/calibration.py:415: RuntimeWarning: overflow encountered in exp\n  E = np.exp(AB[0] * F + AB[1])\n/Users/maxwelllee54/anaconda/lib/python3.5/site-packages/sklearn/calibration.py:425: RuntimeWarning: overflow encountered in exp\n  E = np.exp(AB[0] * F + AB[1])\n/Users/maxwelllee54/anaconda/lib/python3.5/site-packages/sklearn/calibration.py:427: RuntimeWarning: invalid value encountered in multiply\n  TEP_minus_T1P = P * (T * E - T1)\n/Users/maxwelllee54/anaconda/lib/python3.5/site-packages/sklearn/calibration.py:415: RuntimeWarning: overflow encountered in exp\n  E = np.exp(AB[0] * F + AB[1])\n"
     ]
    },
    {
     "name": "stdout",
     "output_type": "stream",
     "text": [
      "0.559414367571 \t\t 29 \t\t 9\n0.54032104331 \t\t 29 \t\t 10\n0.543705308721 \t\t 29 \t\t 11\n0.54277519153 \t\t 29 \t\t 12\n0.546511885984 \t\t 29 \t\t 13\n"
     ]
    },
    {
     "name": "stderr",
     "output_type": "stream",
     "text": [
      "/Users/maxwelllee54/anaconda/lib/python3.5/site-packages/sklearn/calibration.py:415: RuntimeWarning: overflow encountered in exp\n  E = np.exp(AB[0] * F + AB[1])\n/Users/maxwelllee54/anaconda/lib/python3.5/site-packages/sklearn/calibration.py:425: RuntimeWarning: overflow encountered in exp\n  E = np.exp(AB[0] * F + AB[1])\n/Users/maxwelllee54/anaconda/lib/python3.5/site-packages/sklearn/calibration.py:427: RuntimeWarning: invalid value encountered in multiply\n  TEP_minus_T1P = P * (T * E - T1)\n/Users/maxwelllee54/anaconda/lib/python3.5/site-packages/sklearn/calibration.py:415: RuntimeWarning: overflow encountered in exp\n  E = np.exp(AB[0] * F + AB[1])\n/Users/maxwelllee54/anaconda/lib/python3.5/site-packages/sklearn/calibration.py:415: RuntimeWarning: overflow encountered in exp\n  E = np.exp(AB[0] * F + AB[1])\n/Users/maxwelllee54/anaconda/lib/python3.5/site-packages/sklearn/calibration.py:425: RuntimeWarning: overflow encountered in exp\n  E = np.exp(AB[0] * F + AB[1])\n/Users/maxwelllee54/anaconda/lib/python3.5/site-packages/sklearn/calibration.py:427: RuntimeWarning: invalid value encountered in multiply\n  TEP_minus_T1P = P * (T * E - T1)\n/Users/maxwelllee54/anaconda/lib/python3.5/site-packages/sklearn/calibration.py:415: RuntimeWarning: overflow encountered in exp\n  E = np.exp(AB[0] * F + AB[1])\n/Users/maxwelllee54/anaconda/lib/python3.5/site-packages/sklearn/calibration.py:415: RuntimeWarning: overflow encountered in exp\n  E = np.exp(AB[0] * F + AB[1])\n/Users/maxwelllee54/anaconda/lib/python3.5/site-packages/sklearn/calibration.py:425: RuntimeWarning: overflow encountered in exp\n  E = np.exp(AB[0] * F + AB[1])\n/Users/maxwelllee54/anaconda/lib/python3.5/site-packages/sklearn/calibration.py:427: RuntimeWarning: invalid value encountered in multiply\n  TEP_minus_T1P = P * (T * E - T1)\n/Users/maxwelllee54/anaconda/lib/python3.5/site-packages/sklearn/calibration.py:415: RuntimeWarning: overflow encountered in exp\n  E = np.exp(AB[0] * F + AB[1])\n/Users/maxwelllee54/anaconda/lib/python3.5/site-packages/sklearn/calibration.py:415: RuntimeWarning: overflow encountered in exp\n  E = np.exp(AB[0] * F + AB[1])\n/Users/maxwelllee54/anaconda/lib/python3.5/site-packages/sklearn/calibration.py:425: RuntimeWarning: overflow encountered in exp\n  E = np.exp(AB[0] * F + AB[1])\n/Users/maxwelllee54/anaconda/lib/python3.5/site-packages/sklearn/calibration.py:427: RuntimeWarning: invalid value encountered in multiply\n  TEP_minus_T1P = P * (T * E - T1)\n/Users/maxwelllee54/anaconda/lib/python3.5/site-packages/sklearn/calibration.py:415: RuntimeWarning: overflow encountered in exp\n  E = np.exp(AB[0] * F + AB[1])\n/Users/maxwelllee54/anaconda/lib/python3.5/site-packages/sklearn/calibration.py:415: RuntimeWarning: overflow encountered in exp\n  E = np.exp(AB[0] * F + AB[1])\n/Users/maxwelllee54/anaconda/lib/python3.5/site-packages/sklearn/calibration.py:425: RuntimeWarning: overflow encountered in exp\n  E = np.exp(AB[0] * F + AB[1])\n/Users/maxwelllee54/anaconda/lib/python3.5/site-packages/sklearn/calibration.py:427: RuntimeWarning: invalid value encountered in multiply\n  TEP_minus_T1P = P * (T * E - T1)\n/Users/maxwelllee54/anaconda/lib/python3.5/site-packages/sklearn/calibration.py:415: RuntimeWarning: overflow encountered in exp\n  E = np.exp(AB[0] * F + AB[1])\n"
     ]
    },
    {
     "name": "stdout",
     "output_type": "stream",
     "text": [
      "0.545911517166 \t\t 29 \t\t 14\n0.54729429392 \t\t 29 \t\t 15\n0.548125048865 \t\t 29 \t\t 16\n0.54795239757 \t\t 29 \t\t 17\n"
     ]
    },
    {
     "name": "stderr",
     "output_type": "stream",
     "text": [
      "/Users/maxwelllee54/anaconda/lib/python3.5/site-packages/sklearn/calibration.py:415: RuntimeWarning: overflow encountered in exp\n  E = np.exp(AB[0] * F + AB[1])\n/Users/maxwelllee54/anaconda/lib/python3.5/site-packages/sklearn/calibration.py:425: RuntimeWarning: overflow encountered in exp\n  E = np.exp(AB[0] * F + AB[1])\n/Users/maxwelllee54/anaconda/lib/python3.5/site-packages/sklearn/calibration.py:427: RuntimeWarning: invalid value encountered in multiply\n  TEP_minus_T1P = P * (T * E - T1)\n/Users/maxwelllee54/anaconda/lib/python3.5/site-packages/sklearn/calibration.py:415: RuntimeWarning: overflow encountered in exp\n  E = np.exp(AB[0] * F + AB[1])\n/Users/maxwelllee54/anaconda/lib/python3.5/site-packages/sklearn/calibration.py:415: RuntimeWarning: overflow encountered in exp\n  E = np.exp(AB[0] * F + AB[1])\n/Users/maxwelllee54/anaconda/lib/python3.5/site-packages/sklearn/calibration.py:425: RuntimeWarning: overflow encountered in exp\n  E = np.exp(AB[0] * F + AB[1])\n/Users/maxwelllee54/anaconda/lib/python3.5/site-packages/sklearn/calibration.py:427: RuntimeWarning: invalid value encountered in multiply\n  TEP_minus_T1P = P * (T * E - T1)\n/Users/maxwelllee54/anaconda/lib/python3.5/site-packages/sklearn/calibration.py:415: RuntimeWarning: overflow encountered in exp\n  E = np.exp(AB[0] * F + AB[1])\n/Users/maxwelllee54/anaconda/lib/python3.5/site-packages/sklearn/calibration.py:415: RuntimeWarning: overflow encountered in exp\n  E = np.exp(AB[0] * F + AB[1])\n/Users/maxwelllee54/anaconda/lib/python3.5/site-packages/sklearn/calibration.py:425: RuntimeWarning: overflow encountered in exp\n  E = np.exp(AB[0] * F + AB[1])\n/Users/maxwelllee54/anaconda/lib/python3.5/site-packages/sklearn/calibration.py:427: RuntimeWarning: invalid value encountered in multiply\n  TEP_minus_T1P = P * (T * E - T1)\n/Users/maxwelllee54/anaconda/lib/python3.5/site-packages/sklearn/calibration.py:415: RuntimeWarning: overflow encountered in exp\n  E = np.exp(AB[0] * F + AB[1])\n"
     ]
    },
    {
     "name": "stdout",
     "output_type": "stream",
     "text": [
      "0.550703664474 \t\t 29 \t\t 18\n0.558626831226 \t\t 29 \t\t 19\n0.554888820428 \t\t 29 \t\t 20\n0.55418235769 \t\t 29 \t\t 21\n"
     ]
    },
    {
     "name": "stderr",
     "output_type": "stream",
     "text": [
      "/Users/maxwelllee54/anaconda/lib/python3.5/site-packages/sklearn/calibration.py:415: RuntimeWarning: overflow encountered in exp\n  E = np.exp(AB[0] * F + AB[1])\n/Users/maxwelllee54/anaconda/lib/python3.5/site-packages/sklearn/calibration.py:425: RuntimeWarning: overflow encountered in exp\n  E = np.exp(AB[0] * F + AB[1])\n/Users/maxwelllee54/anaconda/lib/python3.5/site-packages/sklearn/calibration.py:427: RuntimeWarning: invalid value encountered in multiply\n  TEP_minus_T1P = P * (T * E - T1)\n/Users/maxwelllee54/anaconda/lib/python3.5/site-packages/sklearn/calibration.py:415: RuntimeWarning: overflow encountered in exp\n  E = np.exp(AB[0] * F + AB[1])\n/Users/maxwelllee54/anaconda/lib/python3.5/site-packages/sklearn/calibration.py:415: RuntimeWarning: overflow encountered in exp\n  E = np.exp(AB[0] * F + AB[1])\n/Users/maxwelllee54/anaconda/lib/python3.5/site-packages/sklearn/calibration.py:425: RuntimeWarning: overflow encountered in exp\n  E = np.exp(AB[0] * F + AB[1])\n/Users/maxwelllee54/anaconda/lib/python3.5/site-packages/sklearn/calibration.py:427: RuntimeWarning: invalid value encountered in multiply\n  TEP_minus_T1P = P * (T * E - T1)\n/Users/maxwelllee54/anaconda/lib/python3.5/site-packages/sklearn/calibration.py:415: RuntimeWarning: overflow encountered in exp\n  E = np.exp(AB[0] * F + AB[1])\n/Users/maxwelllee54/anaconda/lib/python3.5/site-packages/sklearn/calibration.py:415: RuntimeWarning: overflow encountered in exp\n  E = np.exp(AB[0] * F + AB[1])\n/Users/maxwelllee54/anaconda/lib/python3.5/site-packages/sklearn/calibration.py:425: RuntimeWarning: overflow encountered in exp\n  E = np.exp(AB[0] * F + AB[1])\n/Users/maxwelllee54/anaconda/lib/python3.5/site-packages/sklearn/calibration.py:427: RuntimeWarning: invalid value encountered in multiply\n  TEP_minus_T1P = P * (T * E - T1)\n"
     ]
    },
    {
     "name": "stdout",
     "output_type": "stream",
     "text": [
      "0.559037018828 \t\t 29 \t\t 22\n0.564593166426 \t\t 29 \t\t 23\n0.559022753513 \t\t 29 \t\t 24\n"
     ]
    },
    {
     "name": "stderr",
     "output_type": "stream",
     "text": [
      "/Users/maxwelllee54/anaconda/lib/python3.5/site-packages/sklearn/calibration.py:415: RuntimeWarning: overflow encountered in exp\n  E = np.exp(AB[0] * F + AB[1])\n"
     ]
    },
    {
     "name": "stdout",
     "output_type": "stream",
     "text": [
      "0.559022985339 \t\t 29 \t\t 25\n0.559022597587 \t\t 29 \t\t 26\n"
     ]
    },
    {
     "name": "stdout",
     "output_type": "stream",
     "text": [
      "0.559022597751 \t\t 29 \t\t 27\n"
     ]
    },
    {
     "name": "stdout",
     "output_type": "stream",
     "text": [
      "0.559022606069 \t\t 29 \t\t 28\n"
     ]
    },
    {
     "name": "stdout",
     "output_type": "stream",
     "text": [
      "0.663543235544 \t\t 30 \t\t 3\n0.663371505029 \t\t 30 \t\t 4\n0.595589586355 \t\t 30 \t\t 5\n0.553728906003 \t\t 30 \t\t 6\n0.555182447962 \t\t 30 \t\t 7\n0.55902756308 \t\t 30 \t\t 8\n"
     ]
    },
    {
     "name": "stderr",
     "output_type": "stream",
     "text": [
      "/Users/maxwelllee54/anaconda/lib/python3.5/site-packages/sklearn/calibration.py:415: RuntimeWarning: overflow encountered in exp\n  E = np.exp(AB[0] * F + AB[1])\n/Users/maxwelllee54/anaconda/lib/python3.5/site-packages/sklearn/calibration.py:425: RuntimeWarning: overflow encountered in exp\n  E = np.exp(AB[0] * F + AB[1])\n/Users/maxwelllee54/anaconda/lib/python3.5/site-packages/sklearn/calibration.py:427: RuntimeWarning: invalid value encountered in multiply\n  TEP_minus_T1P = P * (T * E - T1)\n/Users/maxwelllee54/anaconda/lib/python3.5/site-packages/sklearn/calibration.py:415: RuntimeWarning: overflow encountered in exp\n  E = np.exp(AB[0] * F + AB[1])\n/Users/maxwelllee54/anaconda/lib/python3.5/site-packages/sklearn/calibration.py:415: RuntimeWarning: overflow encountered in exp\n  E = np.exp(AB[0] * F + AB[1])\n/Users/maxwelllee54/anaconda/lib/python3.5/site-packages/sklearn/calibration.py:425: RuntimeWarning: overflow encountered in exp\n  E = np.exp(AB[0] * F + AB[1])\n/Users/maxwelllee54/anaconda/lib/python3.5/site-packages/sklearn/calibration.py:427: RuntimeWarning: invalid value encountered in multiply\n  TEP_minus_T1P = P * (T * E - T1)\n/Users/maxwelllee54/anaconda/lib/python3.5/site-packages/sklearn/calibration.py:415: RuntimeWarning: overflow encountered in exp\n  E = np.exp(AB[0] * F + AB[1])\n/Users/maxwelllee54/anaconda/lib/python3.5/site-packages/sklearn/calibration.py:415: RuntimeWarning: overflow encountered in exp\n  E = np.exp(AB[0] * F + AB[1])\n/Users/maxwelllee54/anaconda/lib/python3.5/site-packages/sklearn/calibration.py:425: RuntimeWarning: overflow encountered in exp\n  E = np.exp(AB[0] * F + AB[1])\n/Users/maxwelllee54/anaconda/lib/python3.5/site-packages/sklearn/calibration.py:427: RuntimeWarning: invalid value encountered in multiply\n  TEP_minus_T1P = P * (T * E - T1)\n/Users/maxwelllee54/anaconda/lib/python3.5/site-packages/sklearn/calibration.py:415: RuntimeWarning: overflow encountered in exp\n  E = np.exp(AB[0] * F + AB[1])\n/Users/maxwelllee54/anaconda/lib/python3.5/site-packages/sklearn/calibration.py:415: RuntimeWarning: overflow encountered in exp\n  E = np.exp(AB[0] * F + AB[1])\n/Users/maxwelllee54/anaconda/lib/python3.5/site-packages/sklearn/calibration.py:425: RuntimeWarning: overflow encountered in exp\n  E = np.exp(AB[0] * F + AB[1])\n/Users/maxwelllee54/anaconda/lib/python3.5/site-packages/sklearn/calibration.py:427: RuntimeWarning: invalid value encountered in multiply\n  TEP_minus_T1P = P * (T * E - T1)\n/Users/maxwelllee54/anaconda/lib/python3.5/site-packages/sklearn/calibration.py:415: RuntimeWarning: overflow encountered in exp\n  E = np.exp(AB[0] * F + AB[1])\n/Users/maxwelllee54/anaconda/lib/python3.5/site-packages/sklearn/calibration.py:415: RuntimeWarning: overflow encountered in exp\n  E = np.exp(AB[0] * F + AB[1])\n/Users/maxwelllee54/anaconda/lib/python3.5/site-packages/sklearn/calibration.py:425: RuntimeWarning: overflow encountered in exp\n  E = np.exp(AB[0] * F + AB[1])\n/Users/maxwelllee54/anaconda/lib/python3.5/site-packages/sklearn/calibration.py:427: RuntimeWarning: invalid value encountered in multiply\n  TEP_minus_T1P = P * (T * E - T1)\n/Users/maxwelllee54/anaconda/lib/python3.5/site-packages/sklearn/calibration.py:415: RuntimeWarning: overflow encountered in exp\n  E = np.exp(AB[0] * F + AB[1])\n"
     ]
    },
    {
     "name": "stdout",
     "output_type": "stream",
     "text": [
      "0.559002142369 \t\t 30 \t\t 9\n0.540069955812 \t\t 30 \t\t 10\n0.542854018943 \t\t 30 \t\t 11\n0.541673229717 \t\t 30 \t\t 12\n"
     ]
    },
    {
     "name": "stderr",
     "output_type": "stream",
     "text": [
      "/Users/maxwelllee54/anaconda/lib/python3.5/site-packages/sklearn/calibration.py:415: RuntimeWarning: overflow encountered in exp\n  E = np.exp(AB[0] * F + AB[1])\n/Users/maxwelllee54/anaconda/lib/python3.5/site-packages/sklearn/calibration.py:425: RuntimeWarning: overflow encountered in exp\n  E = np.exp(AB[0] * F + AB[1])\n/Users/maxwelllee54/anaconda/lib/python3.5/site-packages/sklearn/calibration.py:427: RuntimeWarning: invalid value encountered in multiply\n  TEP_minus_T1P = P * (T * E - T1)\n/Users/maxwelllee54/anaconda/lib/python3.5/site-packages/sklearn/calibration.py:415: RuntimeWarning: overflow encountered in exp\n  E = np.exp(AB[0] * F + AB[1])\n/Users/maxwelllee54/anaconda/lib/python3.5/site-packages/sklearn/calibration.py:415: RuntimeWarning: overflow encountered in exp\n  E = np.exp(AB[0] * F + AB[1])\n/Users/maxwelllee54/anaconda/lib/python3.5/site-packages/sklearn/calibration.py:425: RuntimeWarning: overflow encountered in exp\n  E = np.exp(AB[0] * F + AB[1])\n/Users/maxwelllee54/anaconda/lib/python3.5/site-packages/sklearn/calibration.py:427: RuntimeWarning: invalid value encountered in multiply\n  TEP_minus_T1P = P * (T * E - T1)\n/Users/maxwelllee54/anaconda/lib/python3.5/site-packages/sklearn/calibration.py:415: RuntimeWarning: overflow encountered in exp\n  E = np.exp(AB[0] * F + AB[1])\n/Users/maxwelllee54/anaconda/lib/python3.5/site-packages/sklearn/calibration.py:415: RuntimeWarning: overflow encountered in exp\n  E = np.exp(AB[0] * F + AB[1])\n/Users/maxwelllee54/anaconda/lib/python3.5/site-packages/sklearn/calibration.py:425: RuntimeWarning: overflow encountered in exp\n  E = np.exp(AB[0] * F + AB[1])\n/Users/maxwelllee54/anaconda/lib/python3.5/site-packages/sklearn/calibration.py:427: RuntimeWarning: invalid value encountered in multiply\n  TEP_minus_T1P = P * (T * E - T1)\n/Users/maxwelllee54/anaconda/lib/python3.5/site-packages/sklearn/calibration.py:415: RuntimeWarning: overflow encountered in exp\n  E = np.exp(AB[0] * F + AB[1])\n/Users/maxwelllee54/anaconda/lib/python3.5/site-packages/sklearn/calibration.py:415: RuntimeWarning: overflow encountered in exp\n  E = np.exp(AB[0] * F + AB[1])\n/Users/maxwelllee54/anaconda/lib/python3.5/site-packages/sklearn/calibration.py:425: RuntimeWarning: overflow encountered in exp\n  E = np.exp(AB[0] * F + AB[1])\n/Users/maxwelllee54/anaconda/lib/python3.5/site-packages/sklearn/calibration.py:427: RuntimeWarning: invalid value encountered in multiply\n  TEP_minus_T1P = P * (T * E - T1)\n/Users/maxwelllee54/anaconda/lib/python3.5/site-packages/sklearn/calibration.py:415: RuntimeWarning: overflow encountered in exp\n  E = np.exp(AB[0] * F + AB[1])\n"
     ]
    },
    {
     "name": "stdout",
     "output_type": "stream",
     "text": [
      "0.545717312655 \t\t 30 \t\t 13\n0.545138489008 \t\t 30 \t\t 14\n0.546589248133 \t\t 30 \t\t 15\n0.547106515283 \t\t 30 \t\t 16\n"
     ]
    },
    {
     "name": "stderr",
     "output_type": "stream",
     "text": [
      "/Users/maxwelllee54/anaconda/lib/python3.5/site-packages/sklearn/calibration.py:415: RuntimeWarning: overflow encountered in exp\n  E = np.exp(AB[0] * F + AB[1])\n/Users/maxwelllee54/anaconda/lib/python3.5/site-packages/sklearn/calibration.py:425: RuntimeWarning: overflow encountered in exp\n  E = np.exp(AB[0] * F + AB[1])\n/Users/maxwelllee54/anaconda/lib/python3.5/site-packages/sklearn/calibration.py:427: RuntimeWarning: invalid value encountered in multiply\n  TEP_minus_T1P = P * (T * E - T1)\n/Users/maxwelllee54/anaconda/lib/python3.5/site-packages/sklearn/calibration.py:415: RuntimeWarning: overflow encountered in exp\n  E = np.exp(AB[0] * F + AB[1])\n/Users/maxwelllee54/anaconda/lib/python3.5/site-packages/sklearn/calibration.py:415: RuntimeWarning: overflow encountered in exp\n  E = np.exp(AB[0] * F + AB[1])\n/Users/maxwelllee54/anaconda/lib/python3.5/site-packages/sklearn/calibration.py:425: RuntimeWarning: overflow encountered in exp\n  E = np.exp(AB[0] * F + AB[1])\n/Users/maxwelllee54/anaconda/lib/python3.5/site-packages/sklearn/calibration.py:427: RuntimeWarning: invalid value encountered in multiply\n  TEP_minus_T1P = P * (T * E - T1)\n/Users/maxwelllee54/anaconda/lib/python3.5/site-packages/sklearn/calibration.py:415: RuntimeWarning: overflow encountered in exp\n  E = np.exp(AB[0] * F + AB[1])\n/Users/maxwelllee54/anaconda/lib/python3.5/site-packages/sklearn/calibration.py:415: RuntimeWarning: overflow encountered in exp\n  E = np.exp(AB[0] * F + AB[1])\n/Users/maxwelllee54/anaconda/lib/python3.5/site-packages/sklearn/calibration.py:425: RuntimeWarning: overflow encountered in exp\n  E = np.exp(AB[0] * F + AB[1])\n/Users/maxwelllee54/anaconda/lib/python3.5/site-packages/sklearn/calibration.py:427: RuntimeWarning: invalid value encountered in multiply\n  TEP_minus_T1P = P * (T * E - T1)\n/Users/maxwelllee54/anaconda/lib/python3.5/site-packages/sklearn/calibration.py:415: RuntimeWarning: overflow encountered in exp\n  E = np.exp(AB[0] * F + AB[1])\n"
     ]
    },
    {
     "name": "stdout",
     "output_type": "stream",
     "text": [
      "0.546782812784 \t\t 30 \t\t 17\n0.548318527227 \t\t 30 \t\t 18\n0.557361759056 \t\t 30 \t\t 19\n"
     ]
    },
    {
     "name": "stderr",
     "output_type": "stream",
     "text": [
      "/Users/maxwelllee54/anaconda/lib/python3.5/site-packages/sklearn/calibration.py:415: RuntimeWarning: overflow encountered in exp\n  E = np.exp(AB[0] * F + AB[1])\n/Users/maxwelllee54/anaconda/lib/python3.5/site-packages/sklearn/calibration.py:425: RuntimeWarning: overflow encountered in exp\n  E = np.exp(AB[0] * F + AB[1])\n/Users/maxwelllee54/anaconda/lib/python3.5/site-packages/sklearn/calibration.py:427: RuntimeWarning: invalid value encountered in multiply\n  TEP_minus_T1P = P * (T * E - T1)\n/Users/maxwelllee54/anaconda/lib/python3.5/site-packages/sklearn/calibration.py:415: RuntimeWarning: overflow encountered in exp\n  E = np.exp(AB[0] * F + AB[1])\n"
     ]
    },
    {
     "name": "stdout",
     "output_type": "stream",
     "text": [
      "0.558375985691 \t\t 30 \t\t 20\n0.558656381461 \t\t 30 \t\t 21\n0.572997542148 \t\t 30 \t\t 22\n"
     ]
    },
    {
     "name": "stderr",
     "output_type": "stream",
     "text": [
      "/Users/maxwelllee54/anaconda/lib/python3.5/site-packages/sklearn/calibration.py:415: RuntimeWarning: overflow encountered in exp\n  E = np.exp(AB[0] * F + AB[1])\n/Users/maxwelllee54/anaconda/lib/python3.5/site-packages/sklearn/calibration.py:425: RuntimeWarning: overflow encountered in exp\n  E = np.exp(AB[0] * F + AB[1])\n/Users/maxwelllee54/anaconda/lib/python3.5/site-packages/sklearn/calibration.py:427: RuntimeWarning: invalid value encountered in multiply\n  TEP_minus_T1P = P * (T * E - T1)\n/Users/maxwelllee54/anaconda/lib/python3.5/site-packages/sklearn/calibration.py:415: RuntimeWarning: overflow encountered in exp\n  E = np.exp(AB[0] * F + AB[1])\n"
     ]
    },
    {
     "name": "stdout",
     "output_type": "stream",
     "text": [
      "0.559176069435 \t\t 30 \t\t 23\n0.559055952518 \t\t 30 \t\t 24\n0.559110650329 \t\t 30 \t\t 25\n"
     ]
    },
    {
     "name": "stdout",
     "output_type": "stream",
     "text": [
      "0.559110839633 \t\t 30 \t\t 26\n0.559110529647 \t\t 30 \t\t 27\n"
     ]
    },
    {
     "name": "stdout",
     "output_type": "stream",
     "text": [
      "0.559110527506 \t\t 30 \t\t 28\n"
     ]
    },
    {
     "name": "stdout",
     "output_type": "stream",
     "text": [
      "0.559110539204 \t\t 30 \t\t 29\n"
     ]
    },
    {
     "name": "stdout",
     "output_type": "stream",
     "text": [
      "0.663578689481 \t\t 31 \t\t 3\n0.663445019565 \t\t 31 \t\t 4\n0.595391553867 \t\t 31 \t\t 5\n0.552114337993 \t\t 31 \t\t 6\n0.561436380307 \t\t 31 \t\t 7\n0.561494128739 \t\t 31 \t\t 8\n"
     ]
    },
    {
     "name": "stderr",
     "output_type": "stream",
     "text": [
      "/Users/maxwelllee54/anaconda/lib/python3.5/site-packages/sklearn/calibration.py:415: RuntimeWarning: overflow encountered in exp\n  E = np.exp(AB[0] * F + AB[1])\n/Users/maxwelllee54/anaconda/lib/python3.5/site-packages/sklearn/calibration.py:425: RuntimeWarning: overflow encountered in exp\n  E = np.exp(AB[0] * F + AB[1])\n/Users/maxwelllee54/anaconda/lib/python3.5/site-packages/sklearn/calibration.py:427: RuntimeWarning: invalid value encountered in multiply\n  TEP_minus_T1P = P * (T * E - T1)\n/Users/maxwelllee54/anaconda/lib/python3.5/site-packages/sklearn/calibration.py:415: RuntimeWarning: overflow encountered in exp\n  E = np.exp(AB[0] * F + AB[1])\n/Users/maxwelllee54/anaconda/lib/python3.5/site-packages/sklearn/calibration.py:415: RuntimeWarning: overflow encountered in exp\n  E = np.exp(AB[0] * F + AB[1])\n/Users/maxwelllee54/anaconda/lib/python3.5/site-packages/sklearn/calibration.py:425: RuntimeWarning: overflow encountered in exp\n  E = np.exp(AB[0] * F + AB[1])\n/Users/maxwelllee54/anaconda/lib/python3.5/site-packages/sklearn/calibration.py:427: RuntimeWarning: invalid value encountered in multiply\n  TEP_minus_T1P = P * (T * E - T1)\n/Users/maxwelllee54/anaconda/lib/python3.5/site-packages/sklearn/calibration.py:415: RuntimeWarning: overflow encountered in exp\n  E = np.exp(AB[0] * F + AB[1])\n/Users/maxwelllee54/anaconda/lib/python3.5/site-packages/sklearn/calibration.py:415: RuntimeWarning: overflow encountered in exp\n  E = np.exp(AB[0] * F + AB[1])\n/Users/maxwelllee54/anaconda/lib/python3.5/site-packages/sklearn/calibration.py:425: RuntimeWarning: overflow encountered in exp\n  E = np.exp(AB[0] * F + AB[1])\n/Users/maxwelllee54/anaconda/lib/python3.5/site-packages/sklearn/calibration.py:427: RuntimeWarning: invalid value encountered in multiply\n  TEP_minus_T1P = P * (T * E - T1)\n/Users/maxwelllee54/anaconda/lib/python3.5/site-packages/sklearn/calibration.py:415: RuntimeWarning: overflow encountered in exp\n  E = np.exp(AB[0] * F + AB[1])\n/Users/maxwelllee54/anaconda/lib/python3.5/site-packages/sklearn/calibration.py:415: RuntimeWarning: overflow encountered in exp\n  E = np.exp(AB[0] * F + AB[1])\n/Users/maxwelllee54/anaconda/lib/python3.5/site-packages/sklearn/calibration.py:425: RuntimeWarning: overflow encountered in exp\n  E = np.exp(AB[0] * F + AB[1])\n/Users/maxwelllee54/anaconda/lib/python3.5/site-packages/sklearn/calibration.py:427: RuntimeWarning: invalid value encountered in multiply\n  TEP_minus_T1P = P * (T * E - T1)\n/Users/maxwelllee54/anaconda/lib/python3.5/site-packages/sklearn/calibration.py:415: RuntimeWarning: overflow encountered in exp\n  E = np.exp(AB[0] * F + AB[1])\n/Users/maxwelllee54/anaconda/lib/python3.5/site-packages/sklearn/calibration.py:415: RuntimeWarning: overflow encountered in exp\n  E = np.exp(AB[0] * F + AB[1])\n/Users/maxwelllee54/anaconda/lib/python3.5/site-packages/sklearn/calibration.py:425: RuntimeWarning: overflow encountered in exp\n  E = np.exp(AB[0] * F + AB[1])\n/Users/maxwelllee54/anaconda/lib/python3.5/site-packages/sklearn/calibration.py:427: RuntimeWarning: invalid value encountered in multiply\n  TEP_minus_T1P = P * (T * E - T1)\n/Users/maxwelllee54/anaconda/lib/python3.5/site-packages/sklearn/calibration.py:415: RuntimeWarning: overflow encountered in exp\n  E = np.exp(AB[0] * F + AB[1])\n"
     ]
    },
    {
     "name": "stdout",
     "output_type": "stream",
     "text": [
      "0.55920381718 \t\t 31 \t\t 9\n0.539545767205 \t\t 31 \t\t 10\n0.540434905633 \t\t 31 \t\t 11\n0.544523726613 \t\t 31 \t\t 12\n0.545515764899 \t\t 31 \t\t 13\n"
     ]
    },
    {
     "name": "stderr",
     "output_type": "stream",
     "text": [
      "/Users/maxwelllee54/anaconda/lib/python3.5/site-packages/sklearn/calibration.py:415: RuntimeWarning: overflow encountered in exp\n  E = np.exp(AB[0] * F + AB[1])\n/Users/maxwelllee54/anaconda/lib/python3.5/site-packages/sklearn/calibration.py:425: RuntimeWarning: overflow encountered in exp\n  E = np.exp(AB[0] * F + AB[1])\n/Users/maxwelllee54/anaconda/lib/python3.5/site-packages/sklearn/calibration.py:427: RuntimeWarning: invalid value encountered in multiply\n  TEP_minus_T1P = P * (T * E - T1)\n/Users/maxwelllee54/anaconda/lib/python3.5/site-packages/sklearn/calibration.py:415: RuntimeWarning: overflow encountered in exp\n  E = np.exp(AB[0] * F + AB[1])\n/Users/maxwelllee54/anaconda/lib/python3.5/site-packages/sklearn/calibration.py:415: RuntimeWarning: overflow encountered in exp\n  E = np.exp(AB[0] * F + AB[1])\n/Users/maxwelllee54/anaconda/lib/python3.5/site-packages/sklearn/calibration.py:425: RuntimeWarning: overflow encountered in exp\n  E = np.exp(AB[0] * F + AB[1])\n/Users/maxwelllee54/anaconda/lib/python3.5/site-packages/sklearn/calibration.py:427: RuntimeWarning: invalid value encountered in multiply\n  TEP_minus_T1P = P * (T * E - T1)\n/Users/maxwelllee54/anaconda/lib/python3.5/site-packages/sklearn/calibration.py:415: RuntimeWarning: overflow encountered in exp\n  E = np.exp(AB[0] * F + AB[1])\n/Users/maxwelllee54/anaconda/lib/python3.5/site-packages/sklearn/calibration.py:415: RuntimeWarning: overflow encountered in exp\n  E = np.exp(AB[0] * F + AB[1])\n/Users/maxwelllee54/anaconda/lib/python3.5/site-packages/sklearn/calibration.py:425: RuntimeWarning: overflow encountered in exp\n  E = np.exp(AB[0] * F + AB[1])\n/Users/maxwelllee54/anaconda/lib/python3.5/site-packages/sklearn/calibration.py:427: RuntimeWarning: invalid value encountered in multiply\n  TEP_minus_T1P = P * (T * E - T1)\n/Users/maxwelllee54/anaconda/lib/python3.5/site-packages/sklearn/calibration.py:415: RuntimeWarning: overflow encountered in exp\n  E = np.exp(AB[0] * F + AB[1])\n/Users/maxwelllee54/anaconda/lib/python3.5/site-packages/sklearn/calibration.py:415: RuntimeWarning: overflow encountered in exp\n  E = np.exp(AB[0] * F + AB[1])\n/Users/maxwelllee54/anaconda/lib/python3.5/site-packages/sklearn/calibration.py:425: RuntimeWarning: overflow encountered in exp\n  E = np.exp(AB[0] * F + AB[1])\n/Users/maxwelllee54/anaconda/lib/python3.5/site-packages/sklearn/calibration.py:427: RuntimeWarning: invalid value encountered in multiply\n  TEP_minus_T1P = P * (T * E - T1)\n/Users/maxwelllee54/anaconda/lib/python3.5/site-packages/sklearn/calibration.py:415: RuntimeWarning: overflow encountered in exp\n  E = np.exp(AB[0] * F + AB[1])\n/Users/maxwelllee54/anaconda/lib/python3.5/site-packages/sklearn/calibration.py:415: RuntimeWarning: overflow encountered in exp\n  E = np.exp(AB[0] * F + AB[1])\n/Users/maxwelllee54/anaconda/lib/python3.5/site-packages/sklearn/calibration.py:425: RuntimeWarning: overflow encountered in exp\n  E = np.exp(AB[0] * F + AB[1])\n/Users/maxwelllee54/anaconda/lib/python3.5/site-packages/sklearn/calibration.py:427: RuntimeWarning: invalid value encountered in multiply\n  TEP_minus_T1P = P * (T * E - T1)\n/Users/maxwelllee54/anaconda/lib/python3.5/site-packages/sklearn/calibration.py:415: RuntimeWarning: overflow encountered in exp\n  E = np.exp(AB[0] * F + AB[1])\n"
     ]
    },
    {
     "name": "stdout",
     "output_type": "stream",
     "text": [
      "0.544486849305 \t\t 31 \t\t 14\n0.544744432449 \t\t 31 \t\t 15\n0.545121185165 \t\t 31 \t\t 16\n0.544859827883 \t\t 31 \t\t 17\n"
     ]
    },
    {
     "name": "stderr",
     "output_type": "stream",
     "text": [
      "/Users/maxwelllee54/anaconda/lib/python3.5/site-packages/sklearn/calibration.py:415: RuntimeWarning: overflow encountered in exp\n  E = np.exp(AB[0] * F + AB[1])\n/Users/maxwelllee54/anaconda/lib/python3.5/site-packages/sklearn/calibration.py:425: RuntimeWarning: overflow encountered in exp\n  E = np.exp(AB[0] * F + AB[1])\n/Users/maxwelllee54/anaconda/lib/python3.5/site-packages/sklearn/calibration.py:427: RuntimeWarning: invalid value encountered in multiply\n  TEP_minus_T1P = P * (T * E - T1)\n/Users/maxwelllee54/anaconda/lib/python3.5/site-packages/sklearn/calibration.py:415: RuntimeWarning: overflow encountered in exp\n  E = np.exp(AB[0] * F + AB[1])\n/Users/maxwelllee54/anaconda/lib/python3.5/site-packages/sklearn/calibration.py:415: RuntimeWarning: overflow encountered in exp\n  E = np.exp(AB[0] * F + AB[1])\n/Users/maxwelllee54/anaconda/lib/python3.5/site-packages/sklearn/calibration.py:425: RuntimeWarning: overflow encountered in exp\n  E = np.exp(AB[0] * F + AB[1])\n/Users/maxwelllee54/anaconda/lib/python3.5/site-packages/sklearn/calibration.py:427: RuntimeWarning: invalid value encountered in multiply\n  TEP_minus_T1P = P * (T * E - T1)\n/Users/maxwelllee54/anaconda/lib/python3.5/site-packages/sklearn/calibration.py:415: RuntimeWarning: overflow encountered in exp\n  E = np.exp(AB[0] * F + AB[1])\n/Users/maxwelllee54/anaconda/lib/python3.5/site-packages/sklearn/calibration.py:415: RuntimeWarning: overflow encountered in exp\n  E = np.exp(AB[0] * F + AB[1])\n/Users/maxwelllee54/anaconda/lib/python3.5/site-packages/sklearn/calibration.py:425: RuntimeWarning: overflow encountered in exp\n  E = np.exp(AB[0] * F + AB[1])\n/Users/maxwelllee54/anaconda/lib/python3.5/site-packages/sklearn/calibration.py:427: RuntimeWarning: invalid value encountered in multiply\n  TEP_minus_T1P = P * (T * E - T1)\n/Users/maxwelllee54/anaconda/lib/python3.5/site-packages/sklearn/calibration.py:415: RuntimeWarning: overflow encountered in exp\n  E = np.exp(AB[0] * F + AB[1])\n"
     ]
    },
    {
     "name": "stdout",
     "output_type": "stream",
     "text": [
      "0.546576178303 \t\t 31 \t\t 18\n0.557283207305 \t\t 31 \t\t 19\n0.55832794898 \t\t 31 \t\t 20\n"
     ]
    },
    {
     "name": "stdout",
     "output_type": "stream",
     "text": [
      "0.558601920822 \t\t 31 \t\t 21\n0.573401592206 \t\t 31 \t\t 22\n0.559240055738 \t\t 31 \t\t 23\n"
     ]
    },
    {
     "name": "stderr",
     "output_type": "stream",
     "text": [
      "/Users/maxwelllee54/anaconda/lib/python3.5/site-packages/sklearn/calibration.py:415: RuntimeWarning: overflow encountered in exp\n  E = np.exp(AB[0] * F + AB[1])\n/Users/maxwelllee54/anaconda/lib/python3.5/site-packages/sklearn/calibration.py:425: RuntimeWarning: overflow encountered in exp\n  E = np.exp(AB[0] * F + AB[1])\n/Users/maxwelllee54/anaconda/lib/python3.5/site-packages/sklearn/calibration.py:427: RuntimeWarning: invalid value encountered in multiply\n  TEP_minus_T1P = P * (T * E - T1)\n/Users/maxwelllee54/anaconda/lib/python3.5/site-packages/sklearn/calibration.py:415: RuntimeWarning: overflow encountered in exp\n  E = np.exp(AB[0] * F + AB[1])\n"
     ]
    },
    {
     "name": "stdout",
     "output_type": "stream",
     "text": [
      "0.559113319276 \t\t 31 \t\t 24\n0.559159479165 \t\t 31 \t\t 25\n"
     ]
    },
    {
     "name": "stdout",
     "output_type": "stream",
     "text": [
      "0.559198438379 \t\t 31 \t\t 26\n0.559198551511 \t\t 31 \t\t 27\n"
     ]
    },
    {
     "name": "stdout",
     "output_type": "stream",
     "text": [
      "0.559198334015 \t\t 31 \t\t 28\n"
     ]
    },
    {
     "name": "stdout",
     "output_type": "stream",
     "text": [
      "0.559198331872 \t\t 31 \t\t 29\n"
     ]
    },
    {
     "name": "stdout",
     "output_type": "stream",
     "text": [
      "0.559198349627 \t\t 31 \t\t 30\n"
     ]
    },
    {
     "name": "stdout",
     "output_type": "stream",
     "text": [
      "0.66355654009 \t\t 32 \t\t 3\n0.663513886913 \t\t 32 \t\t 4\n0.581147494785 \t\t 32 \t\t 5\n0.556221071174 \t\t 32 \t\t 6\n0.565021045362 \t\t 32 \t\t 7\n0.565022626956 \t\t 32 \t\t 8\n"
     ]
    },
    {
     "name": "stderr",
     "output_type": "stream",
     "text": [
      "/Users/maxwelllee54/anaconda/lib/python3.5/site-packages/sklearn/calibration.py:415: RuntimeWarning: overflow encountered in exp\n  E = np.exp(AB[0] * F + AB[1])\n/Users/maxwelllee54/anaconda/lib/python3.5/site-packages/sklearn/calibration.py:425: RuntimeWarning: overflow encountered in exp\n  E = np.exp(AB[0] * F + AB[1])\n/Users/maxwelllee54/anaconda/lib/python3.5/site-packages/sklearn/calibration.py:427: RuntimeWarning: invalid value encountered in multiply\n  TEP_minus_T1P = P * (T * E - T1)\n/Users/maxwelllee54/anaconda/lib/python3.5/site-packages/sklearn/calibration.py:415: RuntimeWarning: overflow encountered in exp\n  E = np.exp(AB[0] * F + AB[1])\n/Users/maxwelllee54/anaconda/lib/python3.5/site-packages/sklearn/calibration.py:415: RuntimeWarning: overflow encountered in exp\n  E = np.exp(AB[0] * F + AB[1])\n/Users/maxwelllee54/anaconda/lib/python3.5/site-packages/sklearn/calibration.py:425: RuntimeWarning: overflow encountered in exp\n  E = np.exp(AB[0] * F + AB[1])\n/Users/maxwelllee54/anaconda/lib/python3.5/site-packages/sklearn/calibration.py:427: RuntimeWarning: invalid value encountered in multiply\n  TEP_minus_T1P = P * (T * E - T1)\n/Users/maxwelllee54/anaconda/lib/python3.5/site-packages/sklearn/calibration.py:415: RuntimeWarning: overflow encountered in exp\n  E = np.exp(AB[0] * F + AB[1])\n/Users/maxwelllee54/anaconda/lib/python3.5/site-packages/sklearn/calibration.py:415: RuntimeWarning: overflow encountered in exp\n  E = np.exp(AB[0] * F + AB[1])\n/Users/maxwelllee54/anaconda/lib/python3.5/site-packages/sklearn/calibration.py:425: RuntimeWarning: overflow encountered in exp\n  E = np.exp(AB[0] * F + AB[1])\n/Users/maxwelllee54/anaconda/lib/python3.5/site-packages/sklearn/calibration.py:427: RuntimeWarning: invalid value encountered in multiply\n  TEP_minus_T1P = P * (T * E - T1)\n/Users/maxwelllee54/anaconda/lib/python3.5/site-packages/sklearn/calibration.py:415: RuntimeWarning: overflow encountered in exp\n  E = np.exp(AB[0] * F + AB[1])\n/Users/maxwelllee54/anaconda/lib/python3.5/site-packages/sklearn/calibration.py:415: RuntimeWarning: overflow encountered in exp\n  E = np.exp(AB[0] * F + AB[1])\n/Users/maxwelllee54/anaconda/lib/python3.5/site-packages/sklearn/calibration.py:425: RuntimeWarning: overflow encountered in exp\n  E = np.exp(AB[0] * F + AB[1])\n/Users/maxwelllee54/anaconda/lib/python3.5/site-packages/sklearn/calibration.py:427: RuntimeWarning: invalid value encountered in multiply\n  TEP_minus_T1P = P * (T * E - T1)\n/Users/maxwelllee54/anaconda/lib/python3.5/site-packages/sklearn/calibration.py:415: RuntimeWarning: overflow encountered in exp\n  E = np.exp(AB[0] * F + AB[1])\n/Users/maxwelllee54/anaconda/lib/python3.5/site-packages/sklearn/calibration.py:415: RuntimeWarning: overflow encountered in exp\n  E = np.exp(AB[0] * F + AB[1])\n/Users/maxwelllee54/anaconda/lib/python3.5/site-packages/sklearn/calibration.py:425: RuntimeWarning: overflow encountered in exp\n  E = np.exp(AB[0] * F + AB[1])\n/Users/maxwelllee54/anaconda/lib/python3.5/site-packages/sklearn/calibration.py:427: RuntimeWarning: invalid value encountered in multiply\n  TEP_minus_T1P = P * (T * E - T1)\n/Users/maxwelllee54/anaconda/lib/python3.5/site-packages/sklearn/calibration.py:415: RuntimeWarning: overflow encountered in exp\n  E = np.exp(AB[0] * F + AB[1])\n"
     ]
    },
    {
     "name": "stdout",
     "output_type": "stream",
     "text": [
      "0.5617918093 \t\t 32 \t\t 9\n0.541612226165 \t\t 32 \t\t 10\n0.542146034003 \t\t 32 \t\t 11\n0.547017340126 \t\t 32 \t\t 12\n"
     ]
    },
    {
     "name": "stderr",
     "output_type": "stream",
     "text": [
      "/Users/maxwelllee54/anaconda/lib/python3.5/site-packages/sklearn/calibration.py:415: RuntimeWarning: overflow encountered in exp\n  E = np.exp(AB[0] * F + AB[1])\n/Users/maxwelllee54/anaconda/lib/python3.5/site-packages/sklearn/calibration.py:425: RuntimeWarning: overflow encountered in exp\n  E = np.exp(AB[0] * F + AB[1])\n/Users/maxwelllee54/anaconda/lib/python3.5/site-packages/sklearn/calibration.py:427: RuntimeWarning: invalid value encountered in multiply\n  TEP_minus_T1P = P * (T * E - T1)\n/Users/maxwelllee54/anaconda/lib/python3.5/site-packages/sklearn/calibration.py:415: RuntimeWarning: overflow encountered in exp\n  E = np.exp(AB[0] * F + AB[1])\n/Users/maxwelllee54/anaconda/lib/python3.5/site-packages/sklearn/calibration.py:415: RuntimeWarning: overflow encountered in exp\n  E = np.exp(AB[0] * F + AB[1])\n/Users/maxwelllee54/anaconda/lib/python3.5/site-packages/sklearn/calibration.py:425: RuntimeWarning: overflow encountered in exp\n  E = np.exp(AB[0] * F + AB[1])\n/Users/maxwelllee54/anaconda/lib/python3.5/site-packages/sklearn/calibration.py:427: RuntimeWarning: invalid value encountered in multiply\n  TEP_minus_T1P = P * (T * E - T1)\n/Users/maxwelllee54/anaconda/lib/python3.5/site-packages/sklearn/calibration.py:415: RuntimeWarning: overflow encountered in exp\n  E = np.exp(AB[0] * F + AB[1])\n/Users/maxwelllee54/anaconda/lib/python3.5/site-packages/sklearn/calibration.py:415: RuntimeWarning: overflow encountered in exp\n  E = np.exp(AB[0] * F + AB[1])\n/Users/maxwelllee54/anaconda/lib/python3.5/site-packages/sklearn/calibration.py:425: RuntimeWarning: overflow encountered in exp\n  E = np.exp(AB[0] * F + AB[1])\n/Users/maxwelllee54/anaconda/lib/python3.5/site-packages/sklearn/calibration.py:427: RuntimeWarning: invalid value encountered in multiply\n  TEP_minus_T1P = P * (T * E - T1)\n/Users/maxwelllee54/anaconda/lib/python3.5/site-packages/sklearn/calibration.py:415: RuntimeWarning: overflow encountered in exp\n  E = np.exp(AB[0] * F + AB[1])\n/Users/maxwelllee54/anaconda/lib/python3.5/site-packages/sklearn/calibration.py:415: RuntimeWarning: overflow encountered in exp\n  E = np.exp(AB[0] * F + AB[1])\n/Users/maxwelllee54/anaconda/lib/python3.5/site-packages/sklearn/calibration.py:425: RuntimeWarning: overflow encountered in exp\n  E = np.exp(AB[0] * F + AB[1])\n/Users/maxwelllee54/anaconda/lib/python3.5/site-packages/sklearn/calibration.py:427: RuntimeWarning: invalid value encountered in multiply\n  TEP_minus_T1P = P * (T * E - T1)\n/Users/maxwelllee54/anaconda/lib/python3.5/site-packages/sklearn/calibration.py:415: RuntimeWarning: overflow encountered in exp\n  E = np.exp(AB[0] * F + AB[1])\n"
     ]
    },
    {
     "name": "stdout",
     "output_type": "stream",
     "text": [
      "0.546753455264 \t\t 32 \t\t 13\n0.546894599811 \t\t 32 \t\t 14\n0.546688718616 \t\t 32 \t\t 15\n0.546636532618 \t\t 32 \t\t 16\n"
     ]
    },
    {
     "name": "stderr",
     "output_type": "stream",
     "text": [
      "/Users/maxwelllee54/anaconda/lib/python3.5/site-packages/sklearn/calibration.py:415: RuntimeWarning: overflow encountered in exp\n  E = np.exp(AB[0] * F + AB[1])\n/Users/maxwelllee54/anaconda/lib/python3.5/site-packages/sklearn/calibration.py:425: RuntimeWarning: overflow encountered in exp\n  E = np.exp(AB[0] * F + AB[1])\n/Users/maxwelllee54/anaconda/lib/python3.5/site-packages/sklearn/calibration.py:427: RuntimeWarning: invalid value encountered in multiply\n  TEP_minus_T1P = P * (T * E - T1)\n/Users/maxwelllee54/anaconda/lib/python3.5/site-packages/sklearn/calibration.py:415: RuntimeWarning: overflow encountered in exp\n  E = np.exp(AB[0] * F + AB[1])\n/Users/maxwelllee54/anaconda/lib/python3.5/site-packages/sklearn/calibration.py:415: RuntimeWarning: overflow encountered in exp\n  E = np.exp(AB[0] * F + AB[1])\n/Users/maxwelllee54/anaconda/lib/python3.5/site-packages/sklearn/calibration.py:425: RuntimeWarning: overflow encountered in exp\n  E = np.exp(AB[0] * F + AB[1])\n/Users/maxwelllee54/anaconda/lib/python3.5/site-packages/sklearn/calibration.py:427: RuntimeWarning: invalid value encountered in multiply\n  TEP_minus_T1P = P * (T * E - T1)\n/Users/maxwelllee54/anaconda/lib/python3.5/site-packages/sklearn/calibration.py:415: RuntimeWarning: overflow encountered in exp\n  E = np.exp(AB[0] * F + AB[1])\n/Users/maxwelllee54/anaconda/lib/python3.5/site-packages/sklearn/calibration.py:415: RuntimeWarning: overflow encountered in exp\n  E = np.exp(AB[0] * F + AB[1])\n/Users/maxwelllee54/anaconda/lib/python3.5/site-packages/sklearn/calibration.py:425: RuntimeWarning: overflow encountered in exp\n  E = np.exp(AB[0] * F + AB[1])\n/Users/maxwelllee54/anaconda/lib/python3.5/site-packages/sklearn/calibration.py:427: RuntimeWarning: invalid value encountered in multiply\n  TEP_minus_T1P = P * (T * E - T1)\n/Users/maxwelllee54/anaconda/lib/python3.5/site-packages/sklearn/calibration.py:415: RuntimeWarning: overflow encountered in exp\n  E = np.exp(AB[0] * F + AB[1])\n/Users/maxwelllee54/anaconda/lib/python3.5/site-packages/sklearn/calibration.py:415: RuntimeWarning: overflow encountered in exp\n  E = np.exp(AB[0] * F + AB[1])\n/Users/maxwelllee54/anaconda/lib/python3.5/site-packages/sklearn/calibration.py:425: RuntimeWarning: overflow encountered in exp\n  E = np.exp(AB[0] * F + AB[1])\n/Users/maxwelllee54/anaconda/lib/python3.5/site-packages/sklearn/calibration.py:427: RuntimeWarning: invalid value encountered in multiply\n  TEP_minus_T1P = P * (T * E - T1)\n/Users/maxwelllee54/anaconda/lib/python3.5/site-packages/sklearn/calibration.py:415: RuntimeWarning: overflow encountered in exp\n  E = np.exp(AB[0] * F + AB[1])\n"
     ]
    },
    {
     "name": "stdout",
     "output_type": "stream",
     "text": [
      "0.546105235691 \t\t 32 \t\t 17\n0.547796540534 \t\t 32 \t\t 18\n0.549662300287 \t\t 32 \t\t 19\n"
     ]
    },
    {
     "name": "stderr",
     "output_type": "stream",
     "text": [
      "/Users/maxwelllee54/anaconda/lib/python3.5/site-packages/sklearn/calibration.py:415: RuntimeWarning: overflow encountered in exp\n  E = np.exp(AB[0] * F + AB[1])\n/Users/maxwelllee54/anaconda/lib/python3.5/site-packages/sklearn/calibration.py:425: RuntimeWarning: overflow encountered in exp\n  E = np.exp(AB[0] * F + AB[1])\n/Users/maxwelllee54/anaconda/lib/python3.5/site-packages/sklearn/calibration.py:427: RuntimeWarning: invalid value encountered in multiply\n  TEP_minus_T1P = P * (T * E - T1)\n/Users/maxwelllee54/anaconda/lib/python3.5/site-packages/sklearn/calibration.py:415: RuntimeWarning: overflow encountered in exp\n  E = np.exp(AB[0] * F + AB[1])\n/Users/maxwelllee54/anaconda/lib/python3.5/site-packages/sklearn/calibration.py:415: RuntimeWarning: overflow encountered in exp\n  E = np.exp(AB[0] * F + AB[1])\n/Users/maxwelllee54/anaconda/lib/python3.5/site-packages/sklearn/calibration.py:425: RuntimeWarning: overflow encountered in exp\n  E = np.exp(AB[0] * F + AB[1])\n/Users/maxwelllee54/anaconda/lib/python3.5/site-packages/sklearn/calibration.py:427: RuntimeWarning: invalid value encountered in multiply\n  TEP_minus_T1P = P * (T * E - T1)\n/Users/maxwelllee54/anaconda/lib/python3.5/site-packages/sklearn/calibration.py:415: RuntimeWarning: overflow encountered in exp\n  E = np.exp(AB[0] * F + AB[1])\n"
     ]
    },
    {
     "name": "stdout",
     "output_type": "stream",
     "text": [
      "0.556822174887 \t\t 32 \t\t 20\n0.558377427831 \t\t 32 \t\t 21\n0.558434955232 \t\t 32 \t\t 22\n0.572867830827 \t\t 32 \t\t 23\n"
     ]
    },
    {
     "name": "stderr",
     "output_type": "stream",
     "text": [
      "/Users/maxwelllee54/anaconda/lib/python3.5/site-packages/sklearn/calibration.py:415: RuntimeWarning: overflow encountered in exp\n  E = np.exp(AB[0] * F + AB[1])\n/Users/maxwelllee54/anaconda/lib/python3.5/site-packages/sklearn/calibration.py:425: RuntimeWarning: overflow encountered in exp\n  E = np.exp(AB[0] * F + AB[1])\n/Users/maxwelllee54/anaconda/lib/python3.5/site-packages/sklearn/calibration.py:427: RuntimeWarning: invalid value encountered in multiply\n  TEP_minus_T1P = P * (T * E - T1)\n/Users/maxwelllee54/anaconda/lib/python3.5/site-packages/sklearn/calibration.py:415: RuntimeWarning: overflow encountered in exp\n  E = np.exp(AB[0] * F + AB[1])\n"
     ]
    },
    {
     "name": "stdout",
     "output_type": "stream",
     "text": [
      "0.558353392794 \t\t 32 \t\t 24\n0.558359667271 \t\t 32 \t\t 25\n0.55842917373 \t\t 32 \t\t 26\n"
     ]
    },
    {
     "name": "stdout",
     "output_type": "stream",
     "text": [
      "0.558468268458 \t\t 32 \t\t 27\n0.558468286724 \t\t 32 \t\t 28\n"
     ]
    },
    {
     "name": "stdout",
     "output_type": "stream",
     "text": [
      "0.558468040753 \t\t 32 \t\t 29\n"
     ]
    },
    {
     "name": "stdout",
     "output_type": "stream",
     "text": [
      "0.558468040818 \t\t 32 \t\t 30\n"
     ]
    },
    {
     "name": "stdout",
     "output_type": "stream",
     "text": [
      "0.558468056323 \t\t 32 \t\t 31\n"
     ]
    },
    {
     "name": "stdout",
     "output_type": "stream",
     "text": [
      "0.663516005226 \t\t 33 \t\t 3\n0.663522922162 \t\t 33 \t\t 4\n0.579329318882 \t\t 33 \t\t 5\n0.554401150474 \t\t 33 \t\t 6\n0.562925554134 \t\t 33 \t\t 7\n"
     ]
    },
    {
     "name": "stderr",
     "output_type": "stream",
     "text": [
      "/Users/maxwelllee54/anaconda/lib/python3.5/site-packages/sklearn/calibration.py:415: RuntimeWarning: overflow encountered in exp\n  E = np.exp(AB[0] * F + AB[1])\n/Users/maxwelllee54/anaconda/lib/python3.5/site-packages/sklearn/calibration.py:425: RuntimeWarning: overflow encountered in exp\n  E = np.exp(AB[0] * F + AB[1])\n/Users/maxwelllee54/anaconda/lib/python3.5/site-packages/sklearn/calibration.py:427: RuntimeWarning: invalid value encountered in multiply\n  TEP_minus_T1P = P * (T * E - T1)\n/Users/maxwelllee54/anaconda/lib/python3.5/site-packages/sklearn/calibration.py:415: RuntimeWarning: overflow encountered in exp\n  E = np.exp(AB[0] * F + AB[1])\n/Users/maxwelllee54/anaconda/lib/python3.5/site-packages/sklearn/calibration.py:415: RuntimeWarning: overflow encountered in exp\n  E = np.exp(AB[0] * F + AB[1])\n/Users/maxwelllee54/anaconda/lib/python3.5/site-packages/sklearn/calibration.py:425: RuntimeWarning: overflow encountered in exp\n  E = np.exp(AB[0] * F + AB[1])\n/Users/maxwelllee54/anaconda/lib/python3.5/site-packages/sklearn/calibration.py:427: RuntimeWarning: invalid value encountered in multiply\n  TEP_minus_T1P = P * (T * E - T1)\n/Users/maxwelllee54/anaconda/lib/python3.5/site-packages/sklearn/calibration.py:415: RuntimeWarning: overflow encountered in exp\n  E = np.exp(AB[0] * F + AB[1])\n/Users/maxwelllee54/anaconda/lib/python3.5/site-packages/sklearn/calibration.py:415: RuntimeWarning: overflow encountered in exp\n  E = np.exp(AB[0] * F + AB[1])\n/Users/maxwelllee54/anaconda/lib/python3.5/site-packages/sklearn/calibration.py:425: RuntimeWarning: overflow encountered in exp\n  E = np.exp(AB[0] * F + AB[1])\n/Users/maxwelllee54/anaconda/lib/python3.5/site-packages/sklearn/calibration.py:427: RuntimeWarning: invalid value encountered in multiply\n  TEP_minus_T1P = P * (T * E - T1)\n/Users/maxwelllee54/anaconda/lib/python3.5/site-packages/sklearn/calibration.py:415: RuntimeWarning: overflow encountered in exp\n  E = np.exp(AB[0] * F + AB[1])\n/Users/maxwelllee54/anaconda/lib/python3.5/site-packages/sklearn/calibration.py:415: RuntimeWarning: overflow encountered in exp\n  E = np.exp(AB[0] * F + AB[1])\n/Users/maxwelllee54/anaconda/lib/python3.5/site-packages/sklearn/calibration.py:425: RuntimeWarning: overflow encountered in exp\n  E = np.exp(AB[0] * F + AB[1])\n/Users/maxwelllee54/anaconda/lib/python3.5/site-packages/sklearn/calibration.py:427: RuntimeWarning: invalid value encountered in multiply\n  TEP_minus_T1P = P * (T * E - T1)\n/Users/maxwelllee54/anaconda/lib/python3.5/site-packages/sklearn/calibration.py:415: RuntimeWarning: overflow encountered in exp\n  E = np.exp(AB[0] * F + AB[1])\n/Users/maxwelllee54/anaconda/lib/python3.5/site-packages/sklearn/calibration.py:415: RuntimeWarning: overflow encountered in exp\n  E = np.exp(AB[0] * F + AB[1])\n/Users/maxwelllee54/anaconda/lib/python3.5/site-packages/sklearn/calibration.py:425: RuntimeWarning: overflow encountered in exp\n  E = np.exp(AB[0] * F + AB[1])\n/Users/maxwelllee54/anaconda/lib/python3.5/site-packages/sklearn/calibration.py:427: RuntimeWarning: invalid value encountered in multiply\n  TEP_minus_T1P = P * (T * E - T1)\n/Users/maxwelllee54/anaconda/lib/python3.5/site-packages/sklearn/calibration.py:415: RuntimeWarning: overflow encountered in exp\n  E = np.exp(AB[0] * F + AB[1])\n"
     ]
    },
    {
     "name": "stdout",
     "output_type": "stream",
     "text": [
      "0.562953542264 \t\t 33 \t\t 8\n0.559185134673 \t\t 33 \t\t 9\n0.539489851542 \t\t 33 \t\t 10\n0.54034777588 \t\t 33 \t\t 11\n"
     ]
    },
    {
     "name": "stderr",
     "output_type": "stream",
     "text": [
      "/Users/maxwelllee54/anaconda/lib/python3.5/site-packages/sklearn/calibration.py:415: RuntimeWarning: overflow encountered in exp\n  E = np.exp(AB[0] * F + AB[1])\n/Users/maxwelllee54/anaconda/lib/python3.5/site-packages/sklearn/calibration.py:425: RuntimeWarning: overflow encountered in exp\n  E = np.exp(AB[0] * F + AB[1])\n/Users/maxwelllee54/anaconda/lib/python3.5/site-packages/sklearn/calibration.py:427: RuntimeWarning: invalid value encountered in multiply\n  TEP_minus_T1P = P * (T * E - T1)\n/Users/maxwelllee54/anaconda/lib/python3.5/site-packages/sklearn/calibration.py:415: RuntimeWarning: overflow encountered in exp\n  E = np.exp(AB[0] * F + AB[1])\n/Users/maxwelllee54/anaconda/lib/python3.5/site-packages/sklearn/calibration.py:415: RuntimeWarning: overflow encountered in exp\n  E = np.exp(AB[0] * F + AB[1])\n/Users/maxwelllee54/anaconda/lib/python3.5/site-packages/sklearn/calibration.py:425: RuntimeWarning: overflow encountered in exp\n  E = np.exp(AB[0] * F + AB[1])\n/Users/maxwelllee54/anaconda/lib/python3.5/site-packages/sklearn/calibration.py:427: RuntimeWarning: invalid value encountered in multiply\n  TEP_minus_T1P = P * (T * E - T1)\n/Users/maxwelllee54/anaconda/lib/python3.5/site-packages/sklearn/calibration.py:415: RuntimeWarning: overflow encountered in exp\n  E = np.exp(AB[0] * F + AB[1])\n/Users/maxwelllee54/anaconda/lib/python3.5/site-packages/sklearn/calibration.py:415: RuntimeWarning: overflow encountered in exp\n  E = np.exp(AB[0] * F + AB[1])\n/Users/maxwelllee54/anaconda/lib/python3.5/site-packages/sklearn/calibration.py:425: RuntimeWarning: overflow encountered in exp\n  E = np.exp(AB[0] * F + AB[1])\n/Users/maxwelllee54/anaconda/lib/python3.5/site-packages/sklearn/calibration.py:427: RuntimeWarning: invalid value encountered in multiply\n  TEP_minus_T1P = P * (T * E - T1)\n/Users/maxwelllee54/anaconda/lib/python3.5/site-packages/sklearn/calibration.py:415: RuntimeWarning: overflow encountered in exp\n  E = np.exp(AB[0] * F + AB[1])\n/Users/maxwelllee54/anaconda/lib/python3.5/site-packages/sklearn/calibration.py:415: RuntimeWarning: overflow encountered in exp\n  E = np.exp(AB[0] * F + AB[1])\n/Users/maxwelllee54/anaconda/lib/python3.5/site-packages/sklearn/calibration.py:425: RuntimeWarning: overflow encountered in exp\n  E = np.exp(AB[0] * F + AB[1])\n/Users/maxwelllee54/anaconda/lib/python3.5/site-packages/sklearn/calibration.py:427: RuntimeWarning: invalid value encountered in multiply\n  TEP_minus_T1P = P * (T * E - T1)\n/Users/maxwelllee54/anaconda/lib/python3.5/site-packages/sklearn/calibration.py:415: RuntimeWarning: overflow encountered in exp\n  E = np.exp(AB[0] * F + AB[1])\n"
     ]
    },
    {
     "name": "stdout",
     "output_type": "stream",
     "text": [
      "0.543801664572 \t\t 33 \t\t 12\n0.544777005395 \t\t 33 \t\t 13\n0.544997618187 \t\t 33 \t\t 14\n0.545143152207 \t\t 33 \t\t 15\n"
     ]
    },
    {
     "name": "stderr",
     "output_type": "stream",
     "text": [
      "/Users/maxwelllee54/anaconda/lib/python3.5/site-packages/sklearn/calibration.py:415: RuntimeWarning: overflow encountered in exp\n  E = np.exp(AB[0] * F + AB[1])\n/Users/maxwelllee54/anaconda/lib/python3.5/site-packages/sklearn/calibration.py:425: RuntimeWarning: overflow encountered in exp\n  E = np.exp(AB[0] * F + AB[1])\n/Users/maxwelllee54/anaconda/lib/python3.5/site-packages/sklearn/calibration.py:427: RuntimeWarning: invalid value encountered in multiply\n  TEP_minus_T1P = P * (T * E - T1)\n/Users/maxwelllee54/anaconda/lib/python3.5/site-packages/sklearn/calibration.py:415: RuntimeWarning: overflow encountered in exp\n  E = np.exp(AB[0] * F + AB[1])\n/Users/maxwelllee54/anaconda/lib/python3.5/site-packages/sklearn/calibration.py:415: RuntimeWarning: overflow encountered in exp\n  E = np.exp(AB[0] * F + AB[1])\n/Users/maxwelllee54/anaconda/lib/python3.5/site-packages/sklearn/calibration.py:425: RuntimeWarning: overflow encountered in exp\n  E = np.exp(AB[0] * F + AB[1])\n/Users/maxwelllee54/anaconda/lib/python3.5/site-packages/sklearn/calibration.py:427: RuntimeWarning: invalid value encountered in multiply\n  TEP_minus_T1P = P * (T * E - T1)\n/Users/maxwelllee54/anaconda/lib/python3.5/site-packages/sklearn/calibration.py:415: RuntimeWarning: overflow encountered in exp\n  E = np.exp(AB[0] * F + AB[1])\n/Users/maxwelllee54/anaconda/lib/python3.5/site-packages/sklearn/calibration.py:415: RuntimeWarning: overflow encountered in exp\n  E = np.exp(AB[0] * F + AB[1])\n/Users/maxwelllee54/anaconda/lib/python3.5/site-packages/sklearn/calibration.py:425: RuntimeWarning: overflow encountered in exp\n  E = np.exp(AB[0] * F + AB[1])\n/Users/maxwelllee54/anaconda/lib/python3.5/site-packages/sklearn/calibration.py:427: RuntimeWarning: invalid value encountered in multiply\n  TEP_minus_T1P = P * (T * E - T1)\n/Users/maxwelllee54/anaconda/lib/python3.5/site-packages/sklearn/calibration.py:415: RuntimeWarning: overflow encountered in exp\n  E = np.exp(AB[0] * F + AB[1])\n"
     ]
    },
    {
     "name": "stdout",
     "output_type": "stream",
     "text": [
      "0.550989511674 \t\t 33 \t\t 16\n0.551664004329 \t\t 33 \t\t 17\n0.552760871678 \t\t 33 \t\t 18\n0.553042493728 \t\t 33 \t\t 19\n"
     ]
    },
    {
     "name": "stderr",
     "output_type": "stream",
     "text": [
      "/Users/maxwelllee54/anaconda/lib/python3.5/site-packages/sklearn/calibration.py:415: RuntimeWarning: overflow encountered in exp\n  E = np.exp(AB[0] * F + AB[1])\n/Users/maxwelllee54/anaconda/lib/python3.5/site-packages/sklearn/calibration.py:425: RuntimeWarning: overflow encountered in exp\n  E = np.exp(AB[0] * F + AB[1])\n/Users/maxwelllee54/anaconda/lib/python3.5/site-packages/sklearn/calibration.py:427: RuntimeWarning: invalid value encountered in multiply\n  TEP_minus_T1P = P * (T * E - T1)\n/Users/maxwelllee54/anaconda/lib/python3.5/site-packages/sklearn/calibration.py:415: RuntimeWarning: overflow encountered in exp\n  E = np.exp(AB[0] * F + AB[1])\n/Users/maxwelllee54/anaconda/lib/python3.5/site-packages/sklearn/calibration.py:415: RuntimeWarning: overflow encountered in exp\n  E = np.exp(AB[0] * F + AB[1])\n/Users/maxwelllee54/anaconda/lib/python3.5/site-packages/sklearn/calibration.py:425: RuntimeWarning: overflow encountered in exp\n  E = np.exp(AB[0] * F + AB[1])\n/Users/maxwelllee54/anaconda/lib/python3.5/site-packages/sklearn/calibration.py:427: RuntimeWarning: invalid value encountered in multiply\n  TEP_minus_T1P = P * (T * E - T1)\n/Users/maxwelllee54/anaconda/lib/python3.5/site-packages/sklearn/calibration.py:415: RuntimeWarning: overflow encountered in exp\n  E = np.exp(AB[0] * F + AB[1])\n/Users/maxwelllee54/anaconda/lib/python3.5/site-packages/sklearn/calibration.py:415: RuntimeWarning: overflow encountered in exp\n  E = np.exp(AB[0] * F + AB[1])\n/Users/maxwelllee54/anaconda/lib/python3.5/site-packages/sklearn/calibration.py:425: RuntimeWarning: overflow encountered in exp\n  E = np.exp(AB[0] * F + AB[1])\n/Users/maxwelllee54/anaconda/lib/python3.5/site-packages/sklearn/calibration.py:427: RuntimeWarning: invalid value encountered in multiply\n  TEP_minus_T1P = P * (T * E - T1)\n/Users/maxwelllee54/anaconda/lib/python3.5/site-packages/sklearn/calibration.py:415: RuntimeWarning: overflow encountered in exp\n  E = np.exp(AB[0] * F + AB[1])\n/Users/maxwelllee54/anaconda/lib/python3.5/site-packages/sklearn/calibration.py:415: RuntimeWarning: overflow encountered in exp\n  E = np.exp(AB[0] * F + AB[1])\n/Users/maxwelllee54/anaconda/lib/python3.5/site-packages/sklearn/calibration.py:425: RuntimeWarning: overflow encountered in exp\n  E = np.exp(AB[0] * F + AB[1])\n/Users/maxwelllee54/anaconda/lib/python3.5/site-packages/sklearn/calibration.py:427: RuntimeWarning: invalid value encountered in multiply\n  TEP_minus_T1P = P * (T * E - T1)\n"
     ]
    },
    {
     "name": "stderr",
     "output_type": "stream",
     "text": [
      "/Users/maxwelllee54/anaconda/lib/python3.5/site-packages/sklearn/calibration.py:415: RuntimeWarning: overflow encountered in exp\n  E = np.exp(AB[0] * F + AB[1])\n"
     ]
    },
    {
     "name": "stdout",
     "output_type": "stream",
     "text": [
      "0.566303647328 \t\t 33 \t\t 20\n0.557772821869 \t\t 33 \t\t 21\n0.557825288189 \t\t 33 \t\t 22\n"
     ]
    },
    {
     "name": "stderr",
     "output_type": "stream",
     "text": [
      "/Users/maxwelllee54/anaconda/lib/python3.5/site-packages/sklearn/calibration.py:415: RuntimeWarning: overflow encountered in exp\n  E = np.exp(AB[0] * F + AB[1])\n/Users/maxwelllee54/anaconda/lib/python3.5/site-packages/sklearn/calibration.py:425: RuntimeWarning: overflow encountered in exp\n  E = np.exp(AB[0] * F + AB[1])\n/Users/maxwelllee54/anaconda/lib/python3.5/site-packages/sklearn/calibration.py:427: RuntimeWarning: invalid value encountered in multiply\n  TEP_minus_T1P = P * (T * E - T1)\n/Users/maxwelllee54/anaconda/lib/python3.5/site-packages/sklearn/calibration.py:415: RuntimeWarning: overflow encountered in exp\n  E = np.exp(AB[0] * F + AB[1])\n/Users/maxwelllee54/anaconda/lib/python3.5/site-packages/sklearn/calibration.py:415: RuntimeWarning: overflow encountered in exp\n  E = np.exp(AB[0] * F + AB[1])\n/Users/maxwelllee54/anaconda/lib/python3.5/site-packages/sklearn/calibration.py:425: RuntimeWarning: overflow encountered in exp\n  E = np.exp(AB[0] * F + AB[1])\n/Users/maxwelllee54/anaconda/lib/python3.5/site-packages/sklearn/calibration.py:427: RuntimeWarning: invalid value encountered in multiply\n  TEP_minus_T1P = P * (T * E - T1)\n/Users/maxwelllee54/anaconda/lib/python3.5/site-packages/sklearn/calibration.py:415: RuntimeWarning: overflow encountered in exp\n  E = np.exp(AB[0] * F + AB[1])\n"
     ]
    },
    {
     "name": "stdout",
     "output_type": "stream",
     "text": [
      "0.5712763171 \t\t 33 \t\t 23\n0.575195326347 \t\t 33 \t\t 24\n0.557561431924 \t\t 33 \t\t 25\n"
     ]
    },
    {
     "name": "stdout",
     "output_type": "stream",
     "text": [
      "0.557527402273 \t\t 33 \t\t 26\n0.557584688572 \t\t 33 \t\t 27\n0.557624069899 \t\t 33 \t\t 28\n"
     ]
    },
    {
     "name": "stdout",
     "output_type": "stream",
     "text": [
      "0.557624103128 \t\t 33 \t\t 29\n"
     ]
    },
    {
     "name": "stdout",
     "output_type": "stream",
     "text": [
      "0.557623852824 \t\t 33 \t\t 30\n"
     ]
    },
    {
     "name": "stdout",
     "output_type": "stream",
     "text": [
      "0.557623852619 \t\t 33 \t\t 31\n"
     ]
    },
    {
     "name": "stdout",
     "output_type": "stream",
     "text": [
      "0.557623867768 \t\t 33 \t\t 32\n"
     ]
    },
    {
     "name": "stdout",
     "output_type": "stream",
     "text": [
      "0.663493274694 \t\t 34 \t\t 3\n0.663598662802 \t\t 34 \t\t 4\n0.56956415569 \t\t 34 \t\t 5\n0.559323006611 \t\t 34 \t\t 6\n0.567050347133 \t\t 34 \t\t 7\n"
     ]
    },
    {
     "name": "stderr",
     "output_type": "stream",
     "text": [
      "/Users/maxwelllee54/anaconda/lib/python3.5/site-packages/sklearn/calibration.py:415: RuntimeWarning: overflow encountered in exp\n  E = np.exp(AB[0] * F + AB[1])\n/Users/maxwelllee54/anaconda/lib/python3.5/site-packages/sklearn/calibration.py:425: RuntimeWarning: overflow encountered in exp\n  E = np.exp(AB[0] * F + AB[1])\n/Users/maxwelllee54/anaconda/lib/python3.5/site-packages/sklearn/calibration.py:427: RuntimeWarning: invalid value encountered in multiply\n  TEP_minus_T1P = P * (T * E - T1)\n/Users/maxwelllee54/anaconda/lib/python3.5/site-packages/sklearn/calibration.py:415: RuntimeWarning: overflow encountered in exp\n  E = np.exp(AB[0] * F + AB[1])\n/Users/maxwelllee54/anaconda/lib/python3.5/site-packages/sklearn/calibration.py:415: RuntimeWarning: overflow encountered in exp\n  E = np.exp(AB[0] * F + AB[1])\n/Users/maxwelllee54/anaconda/lib/python3.5/site-packages/sklearn/calibration.py:425: RuntimeWarning: overflow encountered in exp\n  E = np.exp(AB[0] * F + AB[1])\n/Users/maxwelllee54/anaconda/lib/python3.5/site-packages/sklearn/calibration.py:427: RuntimeWarning: invalid value encountered in multiply\n  TEP_minus_T1P = P * (T * E - T1)\n/Users/maxwelllee54/anaconda/lib/python3.5/site-packages/sklearn/calibration.py:415: RuntimeWarning: overflow encountered in exp\n  E = np.exp(AB[0] * F + AB[1])\n/Users/maxwelllee54/anaconda/lib/python3.5/site-packages/sklearn/calibration.py:415: RuntimeWarning: overflow encountered in exp\n  E = np.exp(AB[0] * F + AB[1])\n/Users/maxwelllee54/anaconda/lib/python3.5/site-packages/sklearn/calibration.py:425: RuntimeWarning: overflow encountered in exp\n  E = np.exp(AB[0] * F + AB[1])\n/Users/maxwelllee54/anaconda/lib/python3.5/site-packages/sklearn/calibration.py:427: RuntimeWarning: invalid value encountered in multiply\n  TEP_minus_T1P = P * (T * E - T1)\n/Users/maxwelllee54/anaconda/lib/python3.5/site-packages/sklearn/calibration.py:415: RuntimeWarning: overflow encountered in exp\n  E = np.exp(AB[0] * F + AB[1])\n/Users/maxwelllee54/anaconda/lib/python3.5/site-packages/sklearn/calibration.py:415: RuntimeWarning: overflow encountered in exp\n  E = np.exp(AB[0] * F + AB[1])\n/Users/maxwelllee54/anaconda/lib/python3.5/site-packages/sklearn/calibration.py:425: RuntimeWarning: overflow encountered in exp\n  E = np.exp(AB[0] * F + AB[1])\n/Users/maxwelllee54/anaconda/lib/python3.5/site-packages/sklearn/calibration.py:427: RuntimeWarning: invalid value encountered in multiply\n  TEP_minus_T1P = P * (T * E - T1)\n/Users/maxwelllee54/anaconda/lib/python3.5/site-packages/sklearn/calibration.py:415: RuntimeWarning: overflow encountered in exp\n  E = np.exp(AB[0] * F + AB[1])\n"
     ]
    },
    {
     "name": "stdout",
     "output_type": "stream",
     "text": [
      "0.566938409896 \t\t 34 \t\t 8\n0.562447465733 \t\t 34 \t\t 9\n0.541587985736 \t\t 34 \t\t 10\n"
     ]
    },
    {
     "name": "stderr",
     "output_type": "stream",
     "text": [
      "/Users/maxwelllee54/anaconda/lib/python3.5/site-packages/sklearn/calibration.py:415: RuntimeWarning: overflow encountered in exp\n  E = np.exp(AB[0] * F + AB[1])\n/Users/maxwelllee54/anaconda/lib/python3.5/site-packages/sklearn/calibration.py:425: RuntimeWarning: overflow encountered in exp\n  E = np.exp(AB[0] * F + AB[1])\n/Users/maxwelllee54/anaconda/lib/python3.5/site-packages/sklearn/calibration.py:427: RuntimeWarning: invalid value encountered in multiply\n  TEP_minus_T1P = P * (T * E - T1)\n/Users/maxwelllee54/anaconda/lib/python3.5/site-packages/sklearn/calibration.py:415: RuntimeWarning: overflow encountered in exp\n  E = np.exp(AB[0] * F + AB[1])\n/Users/maxwelllee54/anaconda/lib/python3.5/site-packages/sklearn/calibration.py:415: RuntimeWarning: overflow encountered in exp\n  E = np.exp(AB[0] * F + AB[1])\n/Users/maxwelllee54/anaconda/lib/python3.5/site-packages/sklearn/calibration.py:425: RuntimeWarning: overflow encountered in exp\n  E = np.exp(AB[0] * F + AB[1])\n/Users/maxwelllee54/anaconda/lib/python3.5/site-packages/sklearn/calibration.py:427: RuntimeWarning: invalid value encountered in multiply\n  TEP_minus_T1P = P * (T * E - T1)\n/Users/maxwelllee54/anaconda/lib/python3.5/site-packages/sklearn/calibration.py:415: RuntimeWarning: overflow encountered in exp\n  E = np.exp(AB[0] * F + AB[1])\n/Users/maxwelllee54/anaconda/lib/python3.5/site-packages/sklearn/calibration.py:415: RuntimeWarning: overflow encountered in exp\n  E = np.exp(AB[0] * F + AB[1])\n/Users/maxwelllee54/anaconda/lib/python3.5/site-packages/sklearn/calibration.py:425: RuntimeWarning: overflow encountered in exp\n  E = np.exp(AB[0] * F + AB[1])\n/Users/maxwelllee54/anaconda/lib/python3.5/site-packages/sklearn/calibration.py:427: RuntimeWarning: invalid value encountered in multiply\n  TEP_minus_T1P = P * (T * E - T1)\n/Users/maxwelllee54/anaconda/lib/python3.5/site-packages/sklearn/calibration.py:415: RuntimeWarning: overflow encountered in exp\n  E = np.exp(AB[0] * F + AB[1])\n/Users/maxwelllee54/anaconda/lib/python3.5/site-packages/sklearn/calibration.py:415: RuntimeWarning: overflow encountered in exp\n  E = np.exp(AB[0] * F + AB[1])\n/Users/maxwelllee54/anaconda/lib/python3.5/site-packages/sklearn/calibration.py:425: RuntimeWarning: overflow encountered in exp\n  E = np.exp(AB[0] * F + AB[1])\n/Users/maxwelllee54/anaconda/lib/python3.5/site-packages/sklearn/calibration.py:427: RuntimeWarning: invalid value encountered in multiply\n  TEP_minus_T1P = P * (T * E - T1)\n/Users/maxwelllee54/anaconda/lib/python3.5/site-packages/sklearn/calibration.py:415: RuntimeWarning: overflow encountered in exp\n  E = np.exp(AB[0] * F + AB[1])\n"
     ]
    },
    {
     "name": "stdout",
     "output_type": "stream",
     "text": [
      "0.541749577143 \t\t 34 \t\t 11\n0.544421409054 \t\t 34 \t\t 12\n0.546277712124 \t\t 34 \t\t 13\n0.546720950882 \t\t 34 \t\t 14\n"
     ]
    },
    {
     "name": "stderr",
     "output_type": "stream",
     "text": [
      "/Users/maxwelllee54/anaconda/lib/python3.5/site-packages/sklearn/calibration.py:415: RuntimeWarning: overflow encountered in exp\n  E = np.exp(AB[0] * F + AB[1])\n/Users/maxwelllee54/anaconda/lib/python3.5/site-packages/sklearn/calibration.py:425: RuntimeWarning: overflow encountered in exp\n  E = np.exp(AB[0] * F + AB[1])\n/Users/maxwelllee54/anaconda/lib/python3.5/site-packages/sklearn/calibration.py:427: RuntimeWarning: invalid value encountered in multiply\n  TEP_minus_T1P = P * (T * E - T1)\n/Users/maxwelllee54/anaconda/lib/python3.5/site-packages/sklearn/calibration.py:415: RuntimeWarning: overflow encountered in exp\n  E = np.exp(AB[0] * F + AB[1])\n/Users/maxwelllee54/anaconda/lib/python3.5/site-packages/sklearn/calibration.py:415: RuntimeWarning: overflow encountered in exp\n  E = np.exp(AB[0] * F + AB[1])\n/Users/maxwelllee54/anaconda/lib/python3.5/site-packages/sklearn/calibration.py:425: RuntimeWarning: overflow encountered in exp\n  E = np.exp(AB[0] * F + AB[1])\n/Users/maxwelllee54/anaconda/lib/python3.5/site-packages/sklearn/calibration.py:427: RuntimeWarning: invalid value encountered in multiply\n  TEP_minus_T1P = P * (T * E - T1)\n/Users/maxwelllee54/anaconda/lib/python3.5/site-packages/sklearn/calibration.py:415: RuntimeWarning: overflow encountered in exp\n  E = np.exp(AB[0] * F + AB[1])\n/Users/maxwelllee54/anaconda/lib/python3.5/site-packages/sklearn/calibration.py:415: RuntimeWarning: overflow encountered in exp\n  E = np.exp(AB[0] * F + AB[1])\n/Users/maxwelllee54/anaconda/lib/python3.5/site-packages/sklearn/calibration.py:425: RuntimeWarning: overflow encountered in exp\n  E = np.exp(AB[0] * F + AB[1])\n/Users/maxwelllee54/anaconda/lib/python3.5/site-packages/sklearn/calibration.py:427: RuntimeWarning: invalid value encountered in multiply\n  TEP_minus_T1P = P * (T * E - T1)\n/Users/maxwelllee54/anaconda/lib/python3.5/site-packages/sklearn/calibration.py:415: RuntimeWarning: overflow encountered in exp\n  E = np.exp(AB[0] * F + AB[1])\n/Users/maxwelllee54/anaconda/lib/python3.5/site-packages/sklearn/calibration.py:415: RuntimeWarning: overflow encountered in exp\n  E = np.exp(AB[0] * F + AB[1])\n/Users/maxwelllee54/anaconda/lib/python3.5/site-packages/sklearn/calibration.py:425: RuntimeWarning: overflow encountered in exp\n  E = np.exp(AB[0] * F + AB[1])\n/Users/maxwelllee54/anaconda/lib/python3.5/site-packages/sklearn/calibration.py:427: RuntimeWarning: invalid value encountered in multiply\n  TEP_minus_T1P = P * (T * E - T1)\n/Users/maxwelllee54/anaconda/lib/python3.5/site-packages/sklearn/calibration.py:415: RuntimeWarning: overflow encountered in exp\n  E = np.exp(AB[0] * F + AB[1])\n"
     ]
    },
    {
     "name": "stdout",
     "output_type": "stream",
     "text": [
      "0.546458856953 \t\t 34 \t\t 15\n0.550693667072 \t\t 34 \t\t 16\n0.552367816909 \t\t 34 \t\t 17\n"
     ]
    },
    {
     "name": "stderr",
     "output_type": "stream",
     "text": [
      "/Users/maxwelllee54/anaconda/lib/python3.5/site-packages/sklearn/calibration.py:415: RuntimeWarning: overflow encountered in exp\n  E = np.exp(AB[0] * F + AB[1])\n/Users/maxwelllee54/anaconda/lib/python3.5/site-packages/sklearn/calibration.py:425: RuntimeWarning: overflow encountered in exp\n  E = np.exp(AB[0] * F + AB[1])\n/Users/maxwelllee54/anaconda/lib/python3.5/site-packages/sklearn/calibration.py:427: RuntimeWarning: invalid value encountered in multiply\n  TEP_minus_T1P = P * (T * E - T1)\n/Users/maxwelllee54/anaconda/lib/python3.5/site-packages/sklearn/calibration.py:415: RuntimeWarning: overflow encountered in exp\n  E = np.exp(AB[0] * F + AB[1])\n/Users/maxwelllee54/anaconda/lib/python3.5/site-packages/sklearn/calibration.py:415: RuntimeWarning: overflow encountered in exp\n  E = np.exp(AB[0] * F + AB[1])\n/Users/maxwelllee54/anaconda/lib/python3.5/site-packages/sklearn/calibration.py:425: RuntimeWarning: overflow encountered in exp\n  E = np.exp(AB[0] * F + AB[1])\n/Users/maxwelllee54/anaconda/lib/python3.5/site-packages/sklearn/calibration.py:427: RuntimeWarning: invalid value encountered in multiply\n  TEP_minus_T1P = P * (T * E - T1)\n/Users/maxwelllee54/anaconda/lib/python3.5/site-packages/sklearn/calibration.py:415: RuntimeWarning: overflow encountered in exp\n  E = np.exp(AB[0] * F + AB[1])\n/Users/maxwelllee54/anaconda/lib/python3.5/site-packages/sklearn/calibration.py:415: RuntimeWarning: overflow encountered in exp\n  E = np.exp(AB[0] * F + AB[1])\n/Users/maxwelllee54/anaconda/lib/python3.5/site-packages/sklearn/calibration.py:425: RuntimeWarning: overflow encountered in exp\n  E = np.exp(AB[0] * F + AB[1])\n/Users/maxwelllee54/anaconda/lib/python3.5/site-packages/sklearn/calibration.py:427: RuntimeWarning: invalid value encountered in multiply\n  TEP_minus_T1P = P * (T * E - T1)\n/Users/maxwelllee54/anaconda/lib/python3.5/site-packages/sklearn/calibration.py:415: RuntimeWarning: overflow encountered in exp\n  E = np.exp(AB[0] * F + AB[1])\n"
     ]
    },
    {
     "name": "stdout",
     "output_type": "stream",
     "text": [
      "0.550818065739 \t\t 34 \t\t 18\n0.550978612702 \t\t 34 \t\t 19\n0.56606819494 \t\t 34 \t\t 20\n"
     ]
    },
    {
     "name": "stderr",
     "output_type": "stream",
     "text": [
      "/Users/maxwelllee54/anaconda/lib/python3.5/site-packages/sklearn/calibration.py:415: RuntimeWarning: overflow encountered in exp\n  E = np.exp(AB[0] * F + AB[1])\n/Users/maxwelllee54/anaconda/lib/python3.5/site-packages/sklearn/calibration.py:425: RuntimeWarning: overflow encountered in exp\n  E = np.exp(AB[0] * F + AB[1])\n/Users/maxwelllee54/anaconda/lib/python3.5/site-packages/sklearn/calibration.py:427: RuntimeWarning: invalid value encountered in multiply\n  TEP_minus_T1P = P * (T * E - T1)\n/Users/maxwelllee54/anaconda/lib/python3.5/site-packages/sklearn/calibration.py:415: RuntimeWarning: overflow encountered in exp\n  E = np.exp(AB[0] * F + AB[1])\n"
     ]
    },
    {
     "name": "stdout",
     "output_type": "stream",
     "text": [
      "0.558221079345 \t\t 34 \t\t 21\n0.558331332861 \t\t 34 \t\t 22\n0.571319432458 \t\t 34 \t\t 23\n"
     ]
    },
    {
     "name": "stderr",
     "output_type": "stream",
     "text": [
      "/Users/maxwelllee54/anaconda/lib/python3.5/site-packages/sklearn/calibration.py:415: RuntimeWarning: overflow encountered in exp\n  E = np.exp(AB[0] * F + AB[1])\n/Users/maxwelllee54/anaconda/lib/python3.5/site-packages/sklearn/calibration.py:425: RuntimeWarning: overflow encountered in exp\n  E = np.exp(AB[0] * F + AB[1])\n/Users/maxwelllee54/anaconda/lib/python3.5/site-packages/sklearn/calibration.py:427: RuntimeWarning: invalid value encountered in multiply\n  TEP_minus_T1P = P * (T * E - T1)\n/Users/maxwelllee54/anaconda/lib/python3.5/site-packages/sklearn/calibration.py:415: RuntimeWarning: overflow encountered in exp\n  E = np.exp(AB[0] * F + AB[1])\n/Users/maxwelllee54/anaconda/lib/python3.5/site-packages/sklearn/calibration.py:415: RuntimeWarning: overflow encountered in exp\n  E = np.exp(AB[0] * F + AB[1])\n/Users/maxwelllee54/anaconda/lib/python3.5/site-packages/sklearn/calibration.py:425: RuntimeWarning: overflow encountered in exp\n  E = np.exp(AB[0] * F + AB[1])\n/Users/maxwelllee54/anaconda/lib/python3.5/site-packages/sklearn/calibration.py:427: RuntimeWarning: invalid value encountered in multiply\n  TEP_minus_T1P = P * (T * E - T1)\n/Users/maxwelllee54/anaconda/lib/python3.5/site-packages/sklearn/calibration.py:415: RuntimeWarning: overflow encountered in exp\n  E = np.exp(AB[0] * F + AB[1])\n"
     ]
    },
    {
     "name": "stdout",
     "output_type": "stream",
     "text": [
      "0.575437711939 \t\t 34 \t\t 24\n0.557978113345 \t\t 34 \t\t 25\n0.557919284754 \t\t 34 \t\t 26\n"
     ]
    },
    {
     "name": "stdout",
     "output_type": "stream",
     "text": [
      "0.557884683823 \t\t 34 \t\t 27\n0.571371339687 \t\t 34 \t\t 28\n0.575763322485 \t\t 34 \t\t 29\n"
     ]
    },
    {
     "name": "stderr",
     "output_type": "stream",
     "text": [
      "/Users/maxwelllee54/anaconda/lib/python3.5/site-packages/sklearn/calibration.py:415: RuntimeWarning: overflow encountered in exp\n  E = np.exp(AB[0] * F + AB[1])\n/Users/maxwelllee54/anaconda/lib/python3.5/site-packages/sklearn/calibration.py:425: RuntimeWarning: overflow encountered in exp\n  E = np.exp(AB[0] * F + AB[1])\n/Users/maxwelllee54/anaconda/lib/python3.5/site-packages/sklearn/calibration.py:427: RuntimeWarning: invalid value encountered in multiply\n  TEP_minus_T1P = P * (T * E - T1)\n/Users/maxwelllee54/anaconda/lib/python3.5/site-packages/sklearn/calibration.py:415: RuntimeWarning: overflow encountered in exp\n  E = np.exp(AB[0] * F + AB[1])\n/Users/maxwelllee54/anaconda/lib/python3.5/site-packages/sklearn/calibration.py:415: RuntimeWarning: overflow encountered in exp\n  E = np.exp(AB[0] * F + AB[1])\n/Users/maxwelllee54/anaconda/lib/python3.5/site-packages/sklearn/calibration.py:425: RuntimeWarning: overflow encountered in exp\n  E = np.exp(AB[0] * F + AB[1])\n/Users/maxwelllee54/anaconda/lib/python3.5/site-packages/sklearn/calibration.py:427: RuntimeWarning: invalid value encountered in multiply\n  TEP_minus_T1P = P * (T * E - T1)\n/Users/maxwelllee54/anaconda/lib/python3.5/site-packages/sklearn/calibration.py:415: RuntimeWarning: overflow encountered in exp\n  E = np.exp(AB[0] * F + AB[1])\n"
     ]
    },
    {
     "name": "stdout",
     "output_type": "stream",
     "text": [
      "0.557948447564 \t\t 34 \t\t 30\n"
     ]
    },
    {
     "name": "stdout",
     "output_type": "stream",
     "text": [
      "0.557948228918 \t\t 34 \t\t 31\n"
     ]
    },
    {
     "name": "stdout",
     "output_type": "stream",
     "text": [
      "0.557948228442 \t\t 34 \t\t 32\n"
     ]
    },
    {
     "name": "stdout",
     "output_type": "stream",
     "text": [
      "0.557948241999 \t\t 34 \t\t 33\n"
     ]
    }
   ],
   "source": [
    "from sklearn import linear_model, preprocessing\n",
    "from sklearn.calibration import CalibratedClassifierCV\n",
    "from sklearn.metrics import log_loss\n",
    "from sklearn.pipeline import make_pipeline\n",
    "from sklearn.naive_bayes import GaussianNB\n",
    "from sklearn.decomposition import PCA\n",
    "from sklearn.neural_network import BernoulliRBM\n",
    "from sklearn.gaussian_process.kernels import RBF\n",
    "from sklearn.gaussian_process import GaussianProcessClassifier\n",
    "from sklearn.svm import SVC\n",
    "from sklearn.model_selection import train_test_split\n",
    "\n",
    "for i in range(3,35):\n",
    "    columns = list(X.columns[np.argsort(f)[-i:]])\n",
    "    newFeatures = data.loc[:, columns]\n",
    "    X_new = newFeatures\n",
    "    y_new = results.loc[:, 'result']\n",
    "    X_train = pd.DataFrame()\n",
    "    X_test = pd.DataFrame()\n",
    "    y_train = pd.DataFrame()\n",
    "    y_test = pd.DataFrame()\n",
    "    X_valid = pd.DataFrame()\n",
    "    y_valid = pd.DataFrame()\n",
    "    \n",
    "    \n",
    "    #normolizer = preprocessing.Normalizer().fit(X_new)\n",
    "    #X_new = pd.DataFrame(normolizer.transform(X_new))\n",
    " \n",
    "    for year in range(2002, 2015):\n",
    "        X_train = pd.concat([X_train, X_new.loc[results.Season == year]])\n",
    "        y_train = pd.concat([y_train, y_new.loc[results.Season == year]])\n",
    "        \n",
    "    for year in range(2002, 2015):\n",
    "        X_valid = pd.concat([X_valid, X_new.loc[results.Season == year]])\n",
    "        y_valid = pd.concat([y_valid, y_new.loc[results.Season == year]])\n",
    "    \n",
    "    for year in range(2015, 2017):\n",
    "        X_test = pd.concat([X_test, X_new.loc[results.Season == year]])\n",
    "        y_test = pd.concat([y_test, y_new.loc[results.Season == year]])\n",
    "        \n",
    "    \n",
    "    clf = linear_model.LogisticRegressionCV(Cs=2, solver='liblinear', max_iter=500, tol=1e-6, scoring='neg_log_loss')\n",
    "    #clf.fit(X_train, y_train.values.ravel())\n",
    "    #clf = linear_model.LogisticRegression()\n",
    "\n",
    "    for p in range(3,i):\n",
    "        pca = PCA(p)\n",
    "    \n",
    "        pipeline = make_pipeline(pca, clf)\n",
    "        pipeline.fit(X_train, y_train.values.ravel())\n",
    "        \n",
    "        sig_clf = CalibratedClassifierCV(pipeline, method=\"sigmoid\", cv='prefit')\n",
    "        sig_clf.fit(X_valid, y_valid.values.ravel())\n",
    "        \n",
    "        y_pred = sig_clf.predict_proba(X_test)\n",
    "        logLoss = log_loss(y_true=y_test, y_pred=y_pred)\n",
    "        \n",
    "        print(logLoss, '\\t\\t', i, '\\t\\t', p)"
   ]
  },
  {
   "cell_type": "code",
   "execution_count": null,
   "metadata": {},
   "outputs": [],
   "source": [
    "columnName = ['seed', 'lat', 'long'\t'fg2pct', 'fg3pct', 'ftpct', 'blockpct', 'oppfg2pct', 'oppfg3pct', 'oppftpct',\n",
    "              'oppblockpct', 'f3grate', 'oppf3grate', 'arate', 'opparate', 'stlrate', 'oppstlrate', 'tempo', 'adjtempo',\n",
    "              'oe', 'adjoe', 'de', 'adjde', 'rpi_rating', 'pt_school_ncaa', 'pt_overall_ncaa', 'pt_school_s16', 'pt_overall_s16',\n",
    "              'pt_school_ff', 'pt_overall_ff', 'pt_career_school_wins',\t'pt_career_school_losses', 'pt_career_overall_losses',\n",
    "              'team_season_wins', 'pt_team_season_losses', 'pt_coach_season_wins', 'pt_coach_season_losses']\n",
    "\n",
    "df = pd.read_csv('NCAA_Tourney_2002-2016_1.csv')\n",
    "features = df.iloc[:, :-4]\n",
    "results = df.iloc[:, -4:]\n",
    "\n",
    "df_team1 = df.iloc[:, 2:38]\n",
    "df_team1.columns = columnName\n",
    "df_team2 = df.iloc[:, 39:75]\n",
    "df_team2.columns = columnName\n",
    "\n",
    "df_team1.loc[:, 'expwin'] = df.loc[:, 'team1_adjoe'] ** 11.5 / (df.loc[:, 'team1_adjde'] ** 11.5\n",
    "                                                            + df.loc[:, 'team1_adjoe'] ** 11.5)\n",
    "\n",
    "\n",
    "df_team2.loc[:, 'expwin'] = df.loc[:, 'team2_adjoe'] ** 11.5 / (df.loc[:, 'team2_adjde'] ** 11.5\n",
    "                                                            + df.loc[:, 'team2_adjoe'] ** 11.5)\n",
    "\n",
    "\n",
    "df_team1.loc[:, 'log5'] = (df_team1.loc[:, 'expwin'] - df_team1.loc[:, 'expwin'] * df_team2.loc[:, 'expwin']) / \\\n",
    "            ((df_team1.loc[:, 'expwin'] + df_team2.loc[:, 'expwin'] - 2* df_team1.loc[:, 'expwin'] * df_team2.loc[:, 'expwin']))\n",
    "\n",
    "df_team2.loc[:, 'log5'] = (df_team2.loc[:, 'expwin'] - df_team1.loc[:, 'expwin'] * df_team2.loc[:, 'expwin']) / \\\n",
    "            ((df_team1.loc[:, 'expwin'] + df_team2.loc[:, 'expwin'] - 2* df_team1.loc[:, 'expwin'] * df_team2.loc[:, 'expwin']))\n",
    "\n",
    "\n",
    "data = df_team1 - df_team2"
   ]
  },
  {
   "cell_type": "code",
   "execution_count": 24,
   "metadata": {},
   "outputs": [],
   "source": [
    "from sklearn.linear_model import LogisticRegression\n",
    "from sklearn.model_selection import GridSearchCV\n",
    "from sklearn.pipeline import Pipeline\n",
    "\n",
    "estimators = [('reduce_dim', PCA()), ('clf', SVC())]\n",
    "pipe = Pipeline(estimators)\n",
    "\n",
    "\n",
    "params = dict(reduce_dim=[None, PCA(10), PCA(15)],\n",
    "              clf=[SVC(), LogisticRegression(), linear_model.LogisticRegressionCV()])\n",
    "grid_search = GridSearchCV(pipe, param_grid=params)"
   ]
  },
  {
   "cell_type": "code",
   "execution_count": 26,
   "metadata": {},
   "outputs": [],
   "source": [
    "grid_search.fit(X_train, y_train.values.ravel())\n",
    "y_pred = grid_search.predict_proba(X_test)"
   ]
  },
  {
   "cell_type": "code",
   "execution_count": 27,
   "metadata": {},
   "outputs": [
    {
     "data": {
      "text/plain": [
       "0.59712569568627594"
      ]
     },
     "execution_count": 27,
     "metadata": {},
     "output_type": "execute_result"
    }
   ],
   "source": [
    "log_loss(y_test,y_pred)"
   ]
  },
  {
   "cell_type": "code",
   "execution_count": null,
   "metadata": {},
   "outputs": [],
   "source": [
    "n_factor = 30\n",
    "n_pc = 10"
   ]
  }
 ],
 "metadata": {
  "kernelspec": {
   "display_name": "Python 2",
   "language": "python",
   "name": "python2"
  },
  "language_info": {
   "codemirror_mode": {
    "name": "ipython",
    "version": 2.0
   },
   "file_extension": ".py",
   "mimetype": "text/x-python",
   "name": "python",
   "nbconvert_exporter": "python",
   "pygments_lexer": "ipython2",
   "version": "2.7.6"
  }
 },
 "nbformat": 4,
 "nbformat_minor": 0
}