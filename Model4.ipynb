{
 "cells": [
  {
   "cell_type": "code",
   "execution_count": 1,
   "metadata": {
    "collapsed": true
   },
   "outputs": [
    {
     "name": "stdout",
     "output_type": "stream",
     "text": [
      "Using matplotlib backend: MacOSX\n"
     ]
    },
    {
     "data": {
      "text/plain": [
       "(<matplotlib.text.Text at 0x11d78ea20>, <matplotlib.text.Text at 0x11f268f60>)"
      ]
     },
     "execution_count": 1,
     "metadata": {},
     "output_type": "execute_result"
    }
   ],
   "source": [
    "import pandas as pd\n",
    "from sklearn import ensemble\n",
    "import seaborn as sns\n",
    "from matplotlib import pyplot as plt\n",
    "import numpy as np\n",
    "from sklearn import preprocessing\n",
    "\n",
    "columnName = ['seed', 'lat', 'long'\t, 'fg2pct', 'fg3pct', 'ftpct', 'blockpct', 'oppfg2pct', 'oppfg3pct', 'oppftpct',\n",
    "              'oppblockpct', 'f3grate', 'oppf3grate', 'arate', 'opparate', 'stlrate', 'oppstlrate', 'tempo', 'adjtempo',\n",
    "              'oe', 'adjoe', 'de', 'adjde', 'rpi_rating', 'pt_school_ncaa', 'pt_overall_ncaa', 'pt_school_s16', 'pt_overall_s16',\n",
    "              'pt_school_ff', 'pt_overall_ff', 'pt_career_school_wins',\t'pt_career_school_losses', 'pt_career_overall_losses',\n",
    "              'team_season_wins', 'pt_team_season_losses', 'pt_coach_season_wins', 'pt_coach_season_losses']\n",
    "\n",
    "df = pd.read_csv('NCAA_Tourney_2002-2016_1.csv')\n",
    "features = df.iloc[:, :-4]\n",
    "results = df.iloc[:, -4:]\n",
    "\n",
    "df_team1 = df.iloc[:, 2:39]\n",
    "df_team1.columns = columnName\n",
    "df_team2 = df.iloc[:, 39:76]\n",
    "df_team2.columns = columnName\n",
    "\n",
    "df_team1.loc[:, 'expwin'] = df.loc[:, 'team1_adjoe'] ** 11.5 / (df.loc[:, 'team1_adjde'] ** 11.5\n",
    "                                                            + df.loc[:, 'team1_adjoe'] ** 11.5)\n",
    "\n",
    "\n",
    "df_team2.loc[:, 'expwin'] = df.loc[:, 'team2_adjoe'] ** 11.5 / (df.loc[:, 'team2_adjde'] ** 11.5\n",
    "                                                            + df.loc[:, 'team2_adjoe'] ** 11.5)\n",
    "\n",
    "\n",
    "df_team1.loc[:, 'log5'] = (df_team1.loc[:, 'expwin'] - df_team1.loc[:, 'expwin'] * df_team2.loc[:, 'expwin']) / \\\n",
    "            ((df_team1.loc[:, 'expwin'] + df_team2.loc[:, 'expwin'] - 2* df_team1.loc[:, 'expwin'] * df_team2.loc[:, 'expwin']))\n",
    "\n",
    "df_team2.loc[:, 'log5'] = (df_team2.loc[:, 'expwin'] - df_team1.loc[:, 'expwin'] * df_team2.loc[:, 'expwin']) / \\\n",
    "            ((df_team1.loc[:, 'expwin'] + df_team2.loc[:, 'expwin'] - 2* df_team1.loc[:, 'expwin'] * df_team2.loc[:, 'expwin']))\n",
    "\n",
    "\n",
    "data = df_team1 - df_team2\n",
    "\n",
    "#normolizer = preprocessing.Normalizer().fit(data)\n",
    "#df_norm = pd.DataFrame(normolizer.transform(data))\n",
    "#df_norm.columns = ['seed', 'lat', 'long'\t'fg2pct', 'fg3pct', 'ftpct', 'blockpct', 'oppfg2pct', 'oppfg3pct', 'oppftpct',\n",
    "#              'oppblockpct', 'f3grate', 'oppf3grate', 'arate', 'opparate', 'stlrate', 'oppstlrate', 'tempo', 'adjtempo',\n",
    "#              'oe', 'adjoe', 'de', 'adjde', 'rpi_rating', 'pt_school_ncaa', 'pt_overall_ncaa', 'pt_school_s16', 'pt_overall_s16',\n",
    "#              'pt_school_ff', 'pt_overall_ff', 'pt_career_school_wins',\t'pt_career_school_losses', 'pt_career_overall_losses',\n",
    "#              'team_season_wins', 'pt_team_season_losses', 'pt_coach_season_wins', 'pt_coach_season_losses', 'expwin','log5']\n",
    "\n",
    "X = data\n",
    "y = results.loc[:, 'result']\n",
    "X_train = pd.DataFrame()\n",
    "X_test = pd.DataFrame()\n",
    "y_train = pd.DataFrame()\n",
    "y_test = pd.DataFrame()\n",
    "X_valid = pd.DataFrame()\n",
    "y_valid = pd.DataFrame()\n",
    "\n",
    "\n",
    "for year in range(2002, 2014):\n",
    "    X_train = pd.concat([X_train, X.loc[results.Season == year]])\n",
    "    y_train = pd.concat([y_train, y.loc[results.Season == year]])\n",
    "\n",
    "for year in range(2014, 2017):\n",
    "    X_test = pd.concat([X_test, X.loc[results.Season == year]])\n",
    "    y_test = pd.concat([y_test, y.loc[results.Season == year]])\n",
    "    \n",
    "paramsGB = {'n_estimators': 10, 'max_depth': 5, 'min_samples_split': 2, 'loss': 'deviance'}\n",
    "\n",
    "original_params = {'n_estimators': 1000, 'max_leaf_nodes': 4, 'max_depth': 5, 'random_state': 2,\n",
    "                   'min_samples_split': 5}\n",
    "\n",
    "clf = ensemble.GradientBoostingClassifier(**original_params)\n",
    "\n",
    "clf.fit(X_train, y_train.values.ravel())\n",
    "\n",
    "y_pred = clf.predict(X_test)\n",
    "\n",
    "sns.set(font_scale=1, rc={\"lines.linewidth\": 1.2})\n",
    "\n",
    "fig = plt.figure(figsize=(20, 10), dpi=80)\n",
    "fig.suptitle('Predictor Importance', fontsize=20)\n",
    "\n",
    "plt.subplot(1,1,1)\n",
    "\n",
    "f = clf.feature_importances_\n",
    "%matplotlib\n",
    "f = 100.0 * (f / f.max())\n",
    "indices = np.argsort(f)[-30:]\n",
    "plt.barh(np.arange(30), f[indices],color='dodgerblue',alpha=.4)\n",
    "plt.yticks(np.arange(30 + 0.25), np.array(X.columns)[indices])\n",
    "plt.xlabel('Relative importance'), \\\n",
    "plt.title('Top Ten Important Variables')"
   ]
  },
  {
   "cell_type": "code",
   "execution_count": 2,
   "metadata": {
    "collapsed": true
   },
   "outputs": [
    {
     "name": "stdout",
     "output_type": "stream",
     "text": [
      "0.628340361213 \t\t 4 \t\t 3\n0.627175859654 \t\t 5 \t\t 3\n0.631392848057 \t\t 5 \t\t 4\n0.629898939197 \t\t 6 \t\t 3\n0.621171058376 \t\t 6 \t\t 4\n"
     ]
    },
    {
     "name": "stdout",
     "output_type": "stream",
     "text": [
      "0.63296211785 \t\t 6 \t\t 5\n0.614561739841 \t\t 7 \t\t 3\n0.623949858075 \t\t 7 \t\t 4\n0.614073923198 \t\t 7 \t\t 5\n0.625618949649 \t\t 7 \t\t 6\n"
     ]
    },
    {
     "name": "stdout",
     "output_type": "stream",
     "text": [
      "0.633889134302 \t\t 8 \t\t 3\n0.622786592284 \t\t 8 \t\t 4\n0.628275072557 \t\t 8 \t\t 5\n0.617066179778 \t\t 8 \t\t 6\n0.628263468553 \t\t 8 \t\t 7\n"
     ]
    },
    {
     "name": "stdout",
     "output_type": "stream",
     "text": [
      "0.641147866907 \t\t 9 \t\t 3\n0.6312015122 \t\t 9 \t\t 4\n0.622023691618 \t\t 9 \t\t 5\n0.623850467784 \t\t 9 \t\t 6\n0.610752079283 \t\t 9 \t\t 7\n0.613387695238 \t\t 9 \t\t 8\n"
     ]
    },
    {
     "name": "stdout",
     "output_type": "stream",
     "text": [
      "0.682390935606 \t\t 10 \t\t 3\n0.660022335488 \t\t 10 \t\t 4\n0.625108798632 \t\t 10 \t\t 5\n0.627189938655 \t\t 10 \t\t 6\n0.627120143548 \t\t 10 \t\t 7\n0.613929408915 \t\t 10 \t\t 8\n0.619163716498 \t\t 10 \t\t 9\n"
     ]
    },
    {
     "name": "stdout",
     "output_type": "stream",
     "text": [
      "0.682390931965 \t\t 11 \t\t 3\n0.660022350034 \t\t 11 \t\t 4\n0.625108735555 \t\t 11 \t\t 5\n0.627189819725 \t\t 11 \t\t 6\n0.627120039968 \t\t 11 \t\t 7\n0.613929197044 \t\t 11 \t\t 8\n0.619163149075 \t\t 11 \t\t 9\n0.621324328197 \t\t 11 \t\t 10\n"
     ]
    },
    {
     "name": "stdout",
     "output_type": "stream",
     "text": [
      "0.682370514589 \t\t 12 \t\t 3\n0.659737942015 \t\t 12 \t\t 4\n0.624745486831 \t\t 12 \t\t 5\n0.626826831382 \t\t 12 \t\t 6\n0.626601984466 \t\t 12 \t\t 7\n0.613272526093 \t\t 12 \t\t 8\n0.618338234515 \t\t 12 \t\t 9\n0.57226737457 \t\t 12 \t\t 10\n"
     ]
    },
    {
     "name": "stdout",
     "output_type": "stream",
     "text": [
      "0.570260639883 \t\t 12 \t\t 11\n0.669720416067 \t\t 13 \t\t 3\n0.619981098678 \t\t 13 \t\t 4\n0.610373505739 \t\t 13 \t\t 5\n0.560375017273 \t\t 13 \t\t 6\n0.557459095019 \t\t 13 \t\t 7\n"
     ]
    },
    {
     "name": "stdout",
     "output_type": "stream",
     "text": [
      "0.548137973043 \t\t 13 \t\t 8\n0.547157554081 \t\t 13 \t\t 9\n0.569452621492 \t\t 13 \t\t 10\n0.566890913471 \t\t 13 \t\t 11\n0.565865261042 \t\t 13 \t\t 12\n"
     ]
    },
    {
     "name": "stdout",
     "output_type": "stream",
     "text": [
      "0.669897332914 \t\t 14 \t\t 3\n0.619676222234 \t\t 14 \t\t 4\n0.61006146572 \t\t 14 \t\t 5\n0.560463964466 \t\t 14 \t\t 6\n0.557648405217 \t\t 14 \t\t 7\n0.557488924009 \t\t 14 \t\t 8\n0.548002418768 \t\t 14 \t\t 9\n0.547068639734 \t\t 14 \t\t 10\n0.569728495043 \t\t 14 \t\t 11\n"
     ]
    },
    {
     "name": "stdout",
     "output_type": "stream",
     "text": [
      "0.567204602746 \t\t 14 \t\t 12\n0.566078102409 \t\t 14 \t\t 13\n0.669238118212 \t\t 15 \t\t 3\n0.61633523644 \t\t 15 \t\t 4\n"
     ]
    },
    {
     "name": "stdout",
     "output_type": "stream",
     "text": [
      "0.609827470508 \t\t 15 \t\t 5\n0.562820027678 \t\t 15 \t\t 6\n0.567885901255 \t\t 15 \t\t 7\n0.563912256673 \t\t 15 \t\t 8\n0.563359537675 \t\t 15 \t\t 9\n0.554402400449 \t\t 15 \t\t 10\n0.552971204772 \t\t 15 \t\t 11\n0.573585344497 \t\t 15 \t\t 12\n"
     ]
    },
    {
     "name": "stdout",
     "output_type": "stream",
     "text": [
      "0.57007494577 \t\t 15 \t\t 13\n0.568622076917 \t\t 15 \t\t 14\n0.669344882114 \t\t 16 \t\t 3\n0.605840931968 \t\t 16 \t\t 4\n0.601820399471 \t\t 16 \t\t 5\n"
     ]
    },
    {
     "name": "stdout",
     "output_type": "stream",
     "text": [
      "0.604378608151 \t\t 16 \t\t 6\n0.564377035578 \t\t 16 \t\t 7\n0.569911307618 \t\t 16 \t\t 8\n0.562376099007 \t\t 16 \t\t 9\n0.559475126173 \t\t 16 \t\t 10\n0.551790758333 \t\t 16 \t\t 11\n0.550272291901 \t\t 16 \t\t 12\n"
     ]
    },
    {
     "name": "stdout",
     "output_type": "stream",
     "text": [
      "0.570933037081 \t\t 16 \t\t 13\n0.568760186439 \t\t 16 \t\t 14\n0.567895074341 \t\t 16 \t\t 15\n0.6676537263 \t\t 17 \t\t 3\n"
     ]
    },
    {
     "name": "stdout",
     "output_type": "stream",
     "text": [
      "0.621719192193 \t\t 17 \t\t 4\n0.605698365599 \t\t 17 \t\t 5\n0.610833119426 \t\t 17 \t\t 6\n0.563664786184 \t\t 17 \t\t 7\n0.569465375541 \t\t 17 \t\t 8\n0.569080174323 \t\t 17 \t\t 9\n0.561937977765 \t\t 17 \t\t 10\n0.559014194198 \t\t 17 \t\t 11\n"
     ]
    },
    {
     "name": "stdout",
     "output_type": "stream",
     "text": [
      "0.551000962418 \t\t 17 \t\t 12\n0.548932788273 \t\t 17 \t\t 13\n0.571312917946 \t\t 17 \t\t 14\n0.568456639264 \t\t 17 \t\t 15\n0.567452774186 \t\t 17 \t\t 16\n"
     ]
    },
    {
     "name": "stdout",
     "output_type": "stream",
     "text": [
      "0.664638318385 \t\t 18 \t\t 3\n0.595289594946 \t\t 18 \t\t 4\n0.595883365238 \t\t 18 \t\t 5\n0.605513107423 \t\t 18 \t\t 6\n0.575946744243 \t\t 18 \t\t 7\n0.575084880183 \t\t 18 \t\t 8\n0.574730714673 \t\t 18 \t\t 9\n0.574804102083 \t\t 18 \t\t 10\n0.569771753507 \t\t 18 \t\t 11\n"
     ]
    },
    {
     "name": "stdout",
     "output_type": "stream",
     "text": [
      "0.549207194347 \t\t 18 \t\t 12\n0.545398625547 \t\t 18 \t\t 13\n0.567385843152 \t\t 18 \t\t 14\n0.572348409906 \t\t 18 \t\t 15\n0.570422921585 \t\t 18 \t\t 16\n"
     ]
    },
    {
     "name": "stdout",
     "output_type": "stream",
     "text": [
      "0.567395085334 \t\t 18 \t\t 17\n0.664638191256 \t\t 19 \t\t 3\n0.595288904542 \t\t 19 \t\t 4\n0.595882672102 \t\t 19 \t\t 5\n0.605512456357 \t\t 19 \t\t 6\n"
     ]
    },
    {
     "name": "stdout",
     "output_type": "stream",
     "text": [
      "0.575945670351 \t\t 19 \t\t 7\n0.57508386597 \t\t 19 \t\t 8\n0.574729657559 \t\t 19 \t\t 9\n0.574802860207 \t\t 19 \t\t 10\n0.569770508918 \t\t 19 \t\t 11\n0.54920449659 \t\t 19 \t\t 12\n0.545396079524 \t\t 19 \t\t 13\n"
     ]
    },
    {
     "name": "stdout",
     "output_type": "stream",
     "text": [
      "0.567384182952 \t\t 19 \t\t 14\n0.572347098167 \t\t 19 \t\t 15\n0.570408863455 \t\t 19 \t\t 16\n0.570322446236 \t\t 19 \t\t 17\n"
     ]
    },
    {
     "name": "stdout",
     "output_type": "stream",
     "text": [
      "0.567428506296 \t\t 19 \t\t 18\n0.664610132335 \t\t 20 \t\t 3\n0.595251455734 \t\t 20 \t\t 4\n0.595846954365 \t\t 20 \t\t 5\n0.605479914533 \t\t 20 \t\t 6\n"
     ]
    },
    {
     "name": "stdout",
     "output_type": "stream",
     "text": [
      "0.57591661234 \t\t 20 \t\t 7\n0.575055646922 \t\t 20 \t\t 8\n0.574701210878 \t\t 20 \t\t 9\n0.574773658296 \t\t 20 \t\t 10\n0.569711044216 \t\t 20 \t\t 11\n0.549155423108 \t\t 20 \t\t 12\n0.545345846016 \t\t 20 \t\t 13\n"
     ]
    },
    {
     "name": "stdout",
     "output_type": "stream",
     "text": [
      "0.567357552279 \t\t 20 \t\t 14\n0.572343639877 \t\t 20 \t\t 15\n0.570404446843 \t\t 20 \t\t 16\n0.570307780024 \t\t 20 \t\t 17\n"
     ]
    },
    {
     "name": "stdout",
     "output_type": "stream",
     "text": [
      "0.572260543246 \t\t 20 \t\t 18\n0.569388818811 \t\t 20 \t\t 19\n0.668033336659 \t\t 21 \t\t 3\n"
     ]
    },
    {
     "name": "stdout",
     "output_type": "stream",
     "text": [
      "0.594851153387 \t\t 21 \t\t 4\n0.595255152459 \t\t 21 \t\t 5\n0.597133472762 \t\t 21 \t\t 6\n0.602890034237 \t\t 21 \t\t 7\n0.574176087363 \t\t 21 \t\t 8\n0.573420101415 \t\t 21 \t\t 9\n0.57222711374 \t\t 21 \t\t 10\n0.572383446525 \t\t 21 \t\t 11\n"
     ]
    },
    {
     "name": "stdout",
     "output_type": "stream",
     "text": [
      "0.567177439881 \t\t 21 \t\t 12\n0.548413205035 \t\t 21 \t\t 13\n0.544455995776 \t\t 21 \t\t 14\n0.566364481259 \t\t 21 \t\t 15\n0.571254217787 \t\t 21 \t\t 16\n0.56859017033 \t\t 21 \t\t 17\n"
     ]
    },
    {
     "name": "stdout",
     "output_type": "stream",
     "text": [
      "0.568167289573 \t\t 21 \t\t 18\n0.570495561949 \t\t 21 \t\t 19\n0.567175123404 \t\t 21 \t\t 20\n"
     ]
    },
    {
     "name": "stdout",
     "output_type": "stream",
     "text": [
      "0.663340539868 \t\t 22 \t\t 3\n0.594734082585 \t\t 22 \t\t 4\n0.594964345801 \t\t 22 \t\t 5\n0.597691934531 \t\t 22 \t\t 6\n0.602112476065 \t\t 22 \t\t 7\n0.579507025329 \t\t 22 \t\t 8\n0.580169557526 \t\t 22 \t\t 9\n0.570261546559 \t\t 22 \t\t 10\n0.570012254695 \t\t 22 \t\t 11\n"
     ]
    },
    {
     "name": "stdout",
     "output_type": "stream",
     "text": [
      "0.561102018262 \t\t 22 \t\t 12\n0.544761472362 \t\t 22 \t\t 13\n0.548696817102 \t\t 22 \t\t 14\n0.55478691254 \t\t 22 \t\t 15\n0.568596305441 \t\t 22 \t\t 16\n0.568647188669 \t\t 22 \t\t 17\n"
     ]
    },
    {
     "name": "stdout",
     "output_type": "stream",
     "text": [
      "0.56521466927 \t\t 22 \t\t 18\n0.564791605103 \t\t 22 \t\t 19\n0.567168148309 \t\t 22 \t\t 20\n"
     ]
    },
    {
     "name": "stdout",
     "output_type": "stream",
     "text": [
      "0.566289317383 \t\t 22 \t\t 21\n0.668381851445 \t\t 23 \t\t 3\n0.668039953119 \t\t 23 \t\t 4\n0.595227461872 \t\t 23 \t\t 5\n0.595541426349 \t\t 23 \t\t 6\n"
     ]
    },
    {
     "name": "stdout",
     "output_type": "stream",
     "text": [
      "0.598523614464 \t\t 23 \t\t 7\n0.604380227495 \t\t 23 \t\t 8\n0.581744508685 \t\t 23 \t\t 9\n0.581347032724 \t\t 23 \t\t 10\n0.570216510973 \t\t 23 \t\t 11\n0.569778694204 \t\t 23 \t\t 12\n0.563110746565 \t\t 23 \t\t 13\n"
     ]
    },
    {
     "name": "stdout",
     "output_type": "stream",
     "text": [
      "0.545903410213 \t\t 23 \t\t 14\n0.550818479284 \t\t 23 \t\t 15\n0.557583947285 \t\t 23 \t\t 16\n0.571206391288 \t\t 23 \t\t 17\n0.571264330242 \t\t 23 \t\t 18\n0.56760016555 \t\t 23 \t\t 19\n"
     ]
    },
    {
     "name": "stdout",
     "output_type": "stream",
     "text": [
      "0.567287839854 \t\t 23 \t\t 20\n0.568736431424 \t\t 23 \t\t 21\n"
     ]
    },
    {
     "name": "stdout",
     "output_type": "stream",
     "text": [
      "0.567894209378 \t\t 23 \t\t 22\n0.658629755925 \t\t 24 \t\t 3\n0.6564115804 \t\t 24 \t\t 4\n0.659289598185 \t\t 24 \t\t 5\n0.603696964173 \t\t 24 \t\t 6\n0.604567984803 \t\t 24 \t\t 7\n"
     ]
    },
    {
     "name": "stdout",
     "output_type": "stream",
     "text": [
      "0.590363256216 \t\t 24 \t\t 8\n0.589001038921 \t\t 24 \t\t 9\n0.571603789796 \t\t 24 \t\t 10\n0.571041188132 \t\t 24 \t\t 11\n0.561562804062 \t\t 24 \t\t 12\n0.562602208389 \t\t 24 \t\t 13\n"
     ]
    },
    {
     "name": "stdout",
     "output_type": "stream",
     "text": [
      "0.561246019909 \t\t 24 \t\t 14\n0.543886283618 \t\t 24 \t\t 15\n0.547466302364 \t\t 24 \t\t 16\n0.547412186846 \t\t 24 \t\t 17\n0.562820769329 \t\t 24 \t\t 18\n"
     ]
    },
    {
     "name": "stdout",
     "output_type": "stream",
     "text": [
      "0.562878051673 \t\t 24 \t\t 19\n0.560455170533 \t\t 24 \t\t 20\n0.559953157489 \t\t 24 \t\t 21\n"
     ]
    },
    {
     "name": "stdout",
     "output_type": "stream",
     "text": [
      "0.561520902781 \t\t 24 \t\t 22\n0.560862439935 \t\t 24 \t\t 23\n"
     ]
    },
    {
     "name": "stdout",
     "output_type": "stream",
     "text": [
      "0.658610218298 \t\t 25 \t\t 3\n0.656520304825 \t\t 25 \t\t 4\n0.659850772127 \t\t 25 \t\t 5\n0.595305657565 \t\t 25 \t\t 6\n0.596401530661 \t\t 25 \t\t 7\n0.585763134413 \t\t 25 \t\t 8\n0.586028919767 \t\t 25 \t\t 9\n0.561746902896 \t\t 25 \t\t 10\n"
     ]
    },
    {
     "name": "stdout",
     "output_type": "stream",
     "text": [
      "0.565292341284 \t\t 25 \t\t 11\n0.559973718671 \t\t 25 \t\t 12\n0.560249507138 \t\t 25 \t\t 13\n0.555242710838 \t\t 25 \t\t 14\n0.556714087353 \t\t 25 \t\t 15\n0.550132575279 \t\t 25 \t\t 16\n"
     ]
    },
    {
     "name": "stdout",
     "output_type": "stream",
     "text": [
      "0.551141067647 \t\t 25 \t\t 17\n0.553515787373 \t\t 25 \t\t 18\n0.573269041947 \t\t 25 \t\t 19\n0.573270149374 \t\t 25 \t\t 20\n"
     ]
    },
    {
     "name": "stdout",
     "output_type": "stream",
     "text": [
      "0.569750225745 \t\t 25 \t\t 21\n0.56941636892 \t\t 25 \t\t 22\n"
     ]
    },
    {
     "name": "stdout",
     "output_type": "stream",
     "text": [
      "0.569334313661 \t\t 25 \t\t 23\n0.568895345135 \t\t 25 \t\t 24\n"
     ]
    },
    {
     "name": "stdout",
     "output_type": "stream",
     "text": [
      "0.658502023793 \t\t 26 \t\t 3\n0.656838646594 \t\t 26 \t\t 4\n0.629641755803 \t\t 26 \t\t 5\n0.55016017195 \t\t 26 \t\t 6\n0.551252008812 \t\t 26 \t\t 7\n0.564540322101 \t\t 26 \t\t 8\n0.566162861321 \t\t 26 \t\t 9\n"
     ]
    },
    {
     "name": "stdout",
     "output_type": "stream",
     "text": [
      "0.54315169159 \t\t 26 \t\t 10\n0.548566656254 \t\t 26 \t\t 11\n0.540664631069 \t\t 26 \t\t 12\n0.542379066632 \t\t 26 \t\t 13\n0.534882646793 \t\t 26 \t\t 14\n0.535141053242 \t\t 26 \t\t 15\n"
     ]
    },
    {
     "name": "stdout",
     "output_type": "stream",
     "text": [
      "0.544774964597 \t\t 26 \t\t 16\n0.555958126554 \t\t 26 \t\t 17\n0.556363318675 \t\t 26 \t\t 18\n0.555564084614 \t\t 26 \t\t 19\n0.560631577755 \t\t 26 \t\t 20\n"
     ]
    },
    {
     "name": "stdout",
     "output_type": "stream",
     "text": [
      "0.567696636882 \t\t 26 \t\t 21\n0.567989861747 \t\t 26 \t\t 22\n"
     ]
    },
    {
     "name": "stdout",
     "output_type": "stream",
     "text": [
      "0.555368417925 \t\t 26 \t\t 23\n0.555368432604 \t\t 26 \t\t 24\n"
     ]
    },
    {
     "name": "stdout",
     "output_type": "stream",
     "text": [
      "0.555368431339 \t\t 26 \t\t 25\n0.658423601703 \t\t 27 \t\t 3\n0.656831828931 \t\t 27 \t\t 4\n"
     ]
    },
    {
     "name": "stdout",
     "output_type": "stream",
     "text": [
      "0.590538750437 \t\t 27 \t\t 5\n0.539767209326 \t\t 27 \t\t 6\n0.539675476956 \t\t 27 \t\t 7\n0.557383816363 \t\t 27 \t\t 8\n0.555200658378 \t\t 27 \t\t 9\n0.541102592858 \t\t 27 \t\t 10\n0.545166452342 \t\t 27 \t\t 11\n"
     ]
    },
    {
     "name": "stdout",
     "output_type": "stream",
     "text": [
      "0.544529375613 \t\t 27 \t\t 12\n0.543151706898 \t\t 27 \t\t 13\n0.543205736115 \t\t 27 \t\t 14\n0.545076517262 \t\t 27 \t\t 15\n0.546802310924 \t\t 27 \t\t 16\n"
     ]
    },
    {
     "name": "stdout",
     "output_type": "stream",
     "text": [
      "0.550227254532 \t\t 27 \t\t 17\n0.55069606794 \t\t 27 \t\t 18\n0.548824933868 \t\t 27 \t\t 19\n0.560648827709 \t\t 27 \t\t 20\n0.561394422123 \t\t 27 \t\t 21\n"
     ]
    },
    {
     "name": "stdout",
     "output_type": "stream",
     "text": [
      "0.568500788969 \t\t 27 \t\t 22\n0.569011753138 \t\t 27 \t\t 23\n"
     ]
    },
    {
     "name": "stdout",
     "output_type": "stream",
     "text": [
      "0.540127610777 \t\t 27 \t\t 24\n0.540127616158 \t\t 27 \t\t 25\n"
     ]
    },
    {
     "name": "stdout",
     "output_type": "stream",
     "text": [
      "0.54012761514 \t\t 27 \t\t 26\n0.658447726466 \t\t 28 \t\t 3\n0.656884580784 \t\t 28 \t\t 4\n0.590496909824 \t\t 28 \t\t 5\n"
     ]
    },
    {
     "name": "stdout",
     "output_type": "stream",
     "text": [
      "0.538585563545 \t\t 28 \t\t 6\n0.538659673356 \t\t 28 \t\t 7\n0.558154144603 \t\t 28 \t\t 8\n0.558167096728 \t\t 28 \t\t 9\n0.540676637716 \t\t 28 \t\t 10\n0.544727798864 \t\t 28 \t\t 11\n0.543605973389 \t\t 28 \t\t 12\n"
     ]
    },
    {
     "name": "stdout",
     "output_type": "stream",
     "text": [
      "0.543808347438 \t\t 28 \t\t 13\n0.542639667072 \t\t 28 \t\t 14\n0.542764473451 \t\t 28 \t\t 15\n0.544825462701 \t\t 28 \t\t 16\n0.546338755236 \t\t 28 \t\t 17\n0.549188952428 \t\t 28 \t\t 18\n"
     ]
    },
    {
     "name": "stdout",
     "output_type": "stream",
     "text": [
      "0.549717280622 \t\t 28 \t\t 19\n0.546860021642 \t\t 28 \t\t 20\n0.558672474806 \t\t 28 \t\t 21\n0.560292877202 \t\t 28 \t\t 22\n0.566479044615 \t\t 28 \t\t 23\n"
     ]
    },
    {
     "name": "stdout",
     "output_type": "stream",
     "text": [
      "0.567254265878 \t\t 28 \t\t 24\n0.539985815661 \t\t 28 \t\t 25\n"
     ]
    },
    {
     "name": "stdout",
     "output_type": "stream",
     "text": [
      "0.539985821327 \t\t 28 \t\t 26\n0.539985817632 \t\t 28 \t\t 27\n"
     ]
    },
    {
     "name": "stdout",
     "output_type": "stream",
     "text": [
      "0.658295843193 \t\t 29 \t\t 3\n0.656712121769 \t\t 29 \t\t 4\n0.590550486234 \t\t 29 \t\t 5\n0.538516379103 \t\t 29 \t\t 6\n0.538607478281 \t\t 29 \t\t 7\n0.558086791335 \t\t 29 \t\t 8\n0.558100771636 \t\t 29 \t\t 9\n0.540523658363 \t\t 29 \t\t 10\n"
     ]
    },
    {
     "name": "stdout",
     "output_type": "stream",
     "text": [
      "0.544713953217 \t\t 29 \t\t 11\n0.543808253808 \t\t 29 \t\t 12\n0.543601978297 \t\t 29 \t\t 13\n0.54231538058 \t\t 29 \t\t 14\n0.542422557768 \t\t 29 \t\t 15\n0.544527930587 \t\t 29 \t\t 16\n"
     ]
    },
    {
     "name": "stdout",
     "output_type": "stream",
     "text": [
      "0.545757258763 \t\t 29 \t\t 17\n0.548550842285 \t\t 29 \t\t 18\n0.549099834391 \t\t 29 \t\t 19\n0.560686281225 \t\t 29 \t\t 20\n0.555628223285 \t\t 29 \t\t 21\n"
     ]
    },
    {
     "name": "stdout",
     "output_type": "stream",
     "text": [
      "0.561899001089 \t\t 29 \t\t 22\n0.561572996276 \t\t 29 \t\t 23\n0.566631516278 \t\t 29 \t\t 24\n"
     ]
    },
    {
     "name": "stdout",
     "output_type": "stream",
     "text": [
      "0.567259069632 \t\t 29 \t\t 25\n0.539166418348 \t\t 29 \t\t 26\n"
     ]
    },
    {
     "name": "stdout",
     "output_type": "stream",
     "text": [
      "0.539166420138 \t\t 29 \t\t 27\n0.539166420503 \t\t 29 \t\t 28\n"
     ]
    },
    {
     "name": "stdout",
     "output_type": "stream",
     "text": [
      "0.658322225055 \t\t 30 \t\t 3\n0.65676714318 \t\t 30 \t\t 4\n0.590197657779 \t\t 30 \t\t 5\n0.535787002998 \t\t 30 \t\t 6\n0.556050056575 \t\t 30 \t\t 7\n0.556858651387 \t\t 30 \t\t 8\n0.554246298341 \t\t 30 \t\t 9\n"
     ]
    },
    {
     "name": "stdout",
     "output_type": "stream",
     "text": [
      "0.53982585518 \t\t 30 \t\t 10\n0.539857120078 \t\t 30 \t\t 11\n0.544145797961 \t\t 30 \t\t 12\n0.543414071684 \t\t 30 \t\t 13\n0.54195476124 \t\t 30 \t\t 14\n0.542022207038 \t\t 30 \t\t 15\n"
     ]
    },
    {
     "name": "stdout",
     "output_type": "stream",
     "text": [
      "0.543968426141 \t\t 30 \t\t 16\n0.545421891136 \t\t 30 \t\t 17\n0.548393738245 \t\t 30 \t\t 18\n0.548945626836 \t\t 30 \t\t 19\n0.56077189209 \t\t 30 \t\t 20\n"
     ]
    },
    {
     "name": "stdout",
     "output_type": "stream",
     "text": [
      "0.55588988338 \t\t 30 \t\t 21\n0.562086628022 \t\t 30 \t\t 22\n0.561844582763 \t\t 30 \t\t 23\n0.567000387851 \t\t 30 \t\t 24\n0.56649031099 \t\t 30 \t\t 25\n"
     ]
    },
    {
     "name": "stdout",
     "output_type": "stream",
     "text": [
      "0.567261513438 \t\t 30 \t\t 26\n0.538930315217 \t\t 30 \t\t 27\n"
     ]
    },
    {
     "name": "stdout",
     "output_type": "stream",
     "text": [
      "0.53893031702 \t\t 30 \t\t 28\n0.538930318854 \t\t 30 \t\t 29\n"
     ]
    },
    {
     "name": "stdout",
     "output_type": "stream",
     "text": [
      "0.657870059113 \t\t 31 \t\t 3\n0.656377611558 \t\t 31 \t\t 4\n0.589612023622 \t\t 31 \t\t 5\n0.535464041891 \t\t 31 \t\t 6\n0.554142732503 \t\t 31 \t\t 7\n0.556253808139 \t\t 31 \t\t 8\n0.553632024688 \t\t 31 \t\t 9\n0.539085483403 \t\t 31 \t\t 10\n"
     ]
    },
    {
     "name": "stdout",
     "output_type": "stream",
     "text": [
      "0.539271621401 \t\t 31 \t\t 11\n0.543467711719 \t\t 31 \t\t 12\n0.541977844958 \t\t 31 \t\t 13\n0.540159991513 \t\t 31 \t\t 14\n0.540090592383 \t\t 31 \t\t 15\n0.541226798544 \t\t 31 \t\t 16\n"
     ]
    },
    {
     "name": "stdout",
     "output_type": "stream",
     "text": [
      "0.541888876723 \t\t 31 \t\t 17\n0.543870148555 \t\t 31 \t\t 18\n0.545351712806 \t\t 31 \t\t 19\n0.564649374428 \t\t 31 \t\t 20\n0.573686429857 \t\t 31 \t\t 21\n"
     ]
    },
    {
     "name": "stdout",
     "output_type": "stream",
     "text": [
      "0.579048823009 \t\t 31 \t\t 22\n0.573202308292 \t\t 31 \t\t 23\n0.571987790474 \t\t 31 \t\t 24\n0.576359189377 \t\t 31 \t\t 25\n"
     ]
    },
    {
     "name": "stdout",
     "output_type": "stream",
     "text": [
      "0.576129572337 \t\t 31 \t\t 26\n"
     ]
    },
    {
     "name": "stdout",
     "output_type": "stream",
     "text": [
      "0.577720624666 \t\t 31 \t\t 27\n0.539448968323 \t\t 31 \t\t 28\n"
     ]
    },
    {
     "name": "stdout",
     "output_type": "stream",
     "text": [
      "0.539448973652 \t\t 31 \t\t 29\n0.539448980121 \t\t 31 \t\t 30\n"
     ]
    },
    {
     "name": "stdout",
     "output_type": "stream",
     "text": [
      "0.65790971924 \t\t 32 \t\t 3\n0.656509832185 \t\t 32 \t\t 4\n0.573126713872 \t\t 32 \t\t 5\n0.541077691543 \t\t 32 \t\t 6\n0.559777561549 \t\t 32 \t\t 7\n0.560884272349 \t\t 32 \t\t 8\n0.557570266755 \t\t 32 \t\t 9\n"
     ]
    },
    {
     "name": "stdout",
     "output_type": "stream",
     "text": [
      "0.542745067181 \t\t 32 \t\t 10\n0.54287838544 \t\t 32 \t\t 11\n0.54440231348 \t\t 32 \t\t 12\n0.545601590975 \t\t 32 \t\t 13\n0.543945625618 \t\t 32 \t\t 14\n0.543641313412 \t\t 32 \t\t 15\n"
     ]
    },
    {
     "name": "stdout",
     "output_type": "stream",
     "text": [
      "0.544378330035 \t\t 32 \t\t 16\n0.54328665657 \t\t 32 \t\t 17\n0.545351620652 \t\t 32 \t\t 18\n0.547664611977 \t\t 32 \t\t 19\n0.54752940405 \t\t 32 \t\t 20\n"
     ]
    },
    {
     "name": "stdout",
     "output_type": "stream",
     "text": [
      "0.578852505054 \t\t 32 \t\t 21\n0.579551259186 \t\t 32 \t\t 22\n0.581534938108 \t\t 32 \t\t 23\n0.575675774302 \t\t 32 \t\t 24\n0.581388069995 \t\t 32 \t\t 25\n"
     ]
    },
    {
     "name": "stdout",
     "output_type": "stream",
     "text": [
      "0.58139662243 \t\t 32 \t\t 26\n0.581009387639 \t\t 32 \t\t 27\n"
     ]
    },
    {
     "name": "stdout",
     "output_type": "stream",
     "text": [
      "0.582715131055 \t\t 32 \t\t 28\n0.540426482142 \t\t 32 \t\t 29\n"
     ]
    },
    {
     "name": "stdout",
     "output_type": "stream",
     "text": [
      "0.540426496443 \t\t 32 \t\t 30\n"
     ]
    },
    {
     "name": "stdout",
     "output_type": "stream",
     "text": [
      "0.540426501069 \t\t 32 \t\t 31\n0.657830755936 \t\t 33 \t\t 3\n0.656499473283 \t\t 33 \t\t 4\n"
     ]
    },
    {
     "name": "stdout",
     "output_type": "stream",
     "text": [
      "0.570167277474 \t\t 33 \t\t 5\n0.537310459228 \t\t 33 \t\t 6\n0.555683752576 \t\t 33 \t\t 7\n0.557130545389 \t\t 33 \t\t 8\n0.552485109945 \t\t 33 \t\t 9\n0.536795958493 \t\t 33 \t\t 10\n"
     ]
    },
    {
     "name": "stdout",
     "output_type": "stream",
     "text": [
      "0.537177791553 \t\t 33 \t\t 11\n0.535931219596 \t\t 33 \t\t 12\n0.540706309228 \t\t 33 \t\t 13\n0.538513332601 \t\t 33 \t\t 14\n0.538361943874 \t\t 33 \t\t 15\n"
     ]
    },
    {
     "name": "stdout",
     "output_type": "stream",
     "text": [
      "0.556968220116 \t\t 33 \t\t 16\n0.560699196321 \t\t 33 \t\t 17\n0.564531136828 \t\t 33 \t\t 18\n0.564817801385 \t\t 33 \t\t 19\n0.582744782751 \t\t 33 \t\t 20\n"
     ]
    },
    {
     "name": "stdout",
     "output_type": "stream",
     "text": [
      "0.582390114733 \t\t 33 \t\t 21\n0.585520127628 \t\t 33 \t\t 22\n0.586393212537 \t\t 33 \t\t 23\n0.586656579935 \t\t 33 \t\t 24\n"
     ]
    },
    {
     "name": "stdout",
     "output_type": "stream",
     "text": [
      "0.58201004793 \t\t 33 \t\t 25\n0.588531340201 \t\t 33 \t\t 26\n0.588557198871 \t\t 33 \t\t 27\n"
     ]
    },
    {
     "name": "stdout",
     "output_type": "stream",
     "text": [
      "0.588050467565 \t\t 33 \t\t 28\n"
     ]
    },
    {
     "name": "stdout",
     "output_type": "stream",
     "text": [
      "0.590524005832 \t\t 33 \t\t 29\n0.539505844707 \t\t 33 \t\t 30\n"
     ]
    },
    {
     "name": "stdout",
     "output_type": "stream",
     "text": [
      "0.539505860168 \t\t 33 \t\t 31\n"
     ]
    },
    {
     "name": "stdout",
     "output_type": "stream",
     "text": [
      "0.539505864958 \t\t 33 \t\t 32\n0.657800223916 \t\t 34 \t\t 3\n"
     ]
    },
    {
     "name": "stdout",
     "output_type": "stream",
     "text": [
      "0.65643700027 \t\t 34 \t\t 4\n0.569012908353 \t\t 34 \t\t 5\n0.535956784836 \t\t 34 \t\t 6\n0.554149097111 \t\t 34 \t\t 7\n0.555531111802 \t\t 34 \t\t 8\n0.549818230025 \t\t 34 \t\t 9\n"
     ]
    },
    {
     "name": "stdout",
     "output_type": "stream",
     "text": [
      "0.53390808628 \t\t 34 \t\t 10\n0.534355052842 \t\t 34 \t\t 11\n0.535322619711 \t\t 34 \t\t 12\n"
     ]
    },
    {
     "name": "stdout",
     "output_type": "stream",
     "text": [
      "0.541151802473 \t\t 34 \t\t 13\n0.538797233982 \t\t 34 \t\t 14\n0.540529300681 \t\t 34 \t\t 15\n0.558699035065 \t\t 34 \t\t 16\n0.560438083626 \t\t 34 \t\t 17\n"
     ]
    },
    {
     "name": "stdout",
     "output_type": "stream",
     "text": [
      "0.56311651069 \t\t 34 \t\t 18\n0.563955588921 \t\t 34 \t\t 19\n0.578099558788 \t\t 34 \t\t 20\n0.577910988172 \t\t 34 \t\t 21\n"
     ]
    },
    {
     "name": "stdout",
     "output_type": "stream",
     "text": [
      "0.596796500032 \t\t 34 \t\t 22\n0.588645857005 \t\t 34 \t\t 23\n0.584794797367 \t\t 34 \t\t 24\n"
     ]
    },
    {
     "name": "stdout",
     "output_type": "stream",
     "text": [
      "0.582233000487 \t\t 34 \t\t 25\n0.589359610362 \t\t 34 \t\t 26\n0.589319621081 \t\t 34 \t\t 27\n0.58934713061 \t\t 34 \t\t 28\n"
     ]
    },
    {
     "name": "stdout",
     "output_type": "stream",
     "text": [
      "0.596218014265 \t\t 34 \t\t 29\n"
     ]
    },
    {
     "name": "stdout",
     "output_type": "stream",
     "text": [
      "0.59828204718 \t\t 34 \t\t 30\n0.539057717686 \t\t 34 \t\t 31\n"
     ]
    },
    {
     "name": "stdout",
     "output_type": "stream",
     "text": [
      "0.539057727898 \t\t 34 \t\t 32\n"
     ]
    },
    {
     "name": "stdout",
     "output_type": "stream",
     "text": [
      "0.539057731469 \t\t 34 \t\t 33\n"
     ]
    }
   ],
   "source": [
    "from sklearn import linear_model, preprocessing\n",
    "from sklearn.calibration import CalibratedClassifierCV\n",
    "from sklearn.metrics import log_loss\n",
    "from sklearn.pipeline import make_pipeline\n",
    "from sklearn.naive_bayes import GaussianNB\n",
    "from sklearn.decomposition import PCA\n",
    "from sklearn.neural_network import BernoulliRBM\n",
    "from sklearn.gaussian_process.kernels import RBF\n",
    "from sklearn.gaussian_process import GaussianProcessClassifier\n",
    "from sklearn.svm import SVC\n",
    "from sklearn.model_selection import train_test_split\n",
    "\n",
    "for i in range(3,35):\n",
    "    columns = list(X.columns[np.argsort(f)[-i:]])\n",
    "    newFeatures = data.loc[:, columns]\n",
    "    X_new = newFeatures\n",
    "    y_new = results.loc[:, 'result']\n",
    "    X_train = pd.DataFrame()\n",
    "    X_test = pd.DataFrame()\n",
    "    y_train = pd.DataFrame()\n",
    "    y_test = pd.DataFrame()\n",
    "    X_valid = pd.DataFrame()\n",
    "    y_valid = pd.DataFrame()\n",
    "    \n",
    "    \n",
    "    #normolizer = preprocessing.Normalizer().fit(X_new)\n",
    "    #X_new = pd.DataFrame(normolizer.transform(X_new))\n",
    " \n",
    "    for year in range(2002, 2015):\n",
    "        X_train = pd.concat([X_train, X_new.loc[results.Season == year]])\n",
    "        y_train = pd.concat([y_train, y_new.loc[results.Season == year]])\n",
    "        \n",
    "    for year in range(2002, 2015):\n",
    "        X_valid = pd.concat([X_valid, X_new.loc[results.Season == year]])\n",
    "        y_valid = pd.concat([y_valid, y_new.loc[results.Season == year]])\n",
    "    \n",
    "    for year in range(2015, 2017):\n",
    "        X_test = pd.concat([X_test, X_new.loc[results.Season == year]])\n",
    "        y_test = pd.concat([y_test, y_new.loc[results.Season == year]])\n",
    "        \n",
    "    \n",
    "    clf = linear_model.LogisticRegressionCV(Cs=2, solver='liblinear', max_iter=500, tol=1e-6, scoring='neg_log_loss')\n",
    "    #clf.fit(X_train, y_train.values.ravel())\n",
    "    #clf = linear_model.LogisticRegression()\n",
    "\n",
    "    for p in range(3,i):\n",
    "        pca = PCA(p)\n",
    "    \n",
    "        pipeline = make_pipeline(pca, clf)\n",
    "        pipeline.fit(X_train, y_train.values.ravel())\n",
    "        \n",
    "        sig_clf = CalibratedClassifierCV(pipeline, method=\"sigmoid\", cv='prefit')\n",
    "        sig_clf.fit(X_valid, y_valid.values.ravel())\n",
    "        \n",
    "        y_pred = sig_clf.predict_proba(X_test)\n",
    "        logLoss = log_loss(y_true=y_test, y_pred=y_pred)\n",
    "        \n",
    "        print(logLoss, '\\t\\t', i, '\\t\\t', p)"
   ]
  },
  {
   "cell_type": "code",
   "execution_count": null,
   "metadata": {},
   "outputs": [],
   "source": [
    "columnName = ['seed', 'lat', 'long'\t'fg2pct', 'fg3pct', 'ftpct', 'blockpct', 'oppfg2pct', 'oppfg3pct', 'oppftpct',\n",
    "              'oppblockpct', 'f3grate', 'oppf3grate', 'arate', 'opparate', 'stlrate', 'oppstlrate', 'tempo', 'adjtempo',\n",
    "              'oe', 'adjoe', 'de', 'adjde', 'rpi_rating', 'pt_school_ncaa', 'pt_overall_ncaa', 'pt_school_s16', 'pt_overall_s16',\n",
    "              'pt_school_ff', 'pt_overall_ff', 'pt_career_school_wins',\t'pt_career_school_losses', 'pt_career_overall_losses',\n",
    "              'team_season_wins', 'pt_team_season_losses', 'pt_coach_season_wins', 'pt_coach_season_losses']\n",
    "\n",
    "df = pd.read_csv('NCAA_Tourney_2002-2016_1.csv')\n",
    "features = df.iloc[:, :-4]\n",
    "results = df.iloc[:, -4:]\n",
    "\n",
    "df_team1 = df.iloc[:, 2:38]\n",
    "df_team1.columns = columnName\n",
    "df_team2 = df.iloc[:, 39:75]\n",
    "df_team2.columns = columnName\n",
    "\n",
    "df_team1.loc[:, 'expwin'] = df.loc[:, 'team1_adjoe'] ** 11.5 / (df.loc[:, 'team1_adjde'] ** 11.5\n",
    "                                                            + df.loc[:, 'team1_adjoe'] ** 11.5)\n",
    "\n",
    "\n",
    "df_team2.loc[:, 'expwin'] = df.loc[:, 'team2_adjoe'] ** 11.5 / (df.loc[:, 'team2_adjde'] ** 11.5\n",
    "                                                            + df.loc[:, 'team2_adjoe'] ** 11.5)\n",
    "\n",
    "\n",
    "df_team1.loc[:, 'log5'] = (df_team1.loc[:, 'expwin'] - df_team1.loc[:, 'expwin'] * df_team2.loc[:, 'expwin']) / \\\n",
    "            ((df_team1.loc[:, 'expwin'] + df_team2.loc[:, 'expwin'] - 2* df_team1.loc[:, 'expwin'] * df_team2.loc[:, 'expwin']))\n",
    "\n",
    "df_team2.loc[:, 'log5'] = (df_team2.loc[:, 'expwin'] - df_team1.loc[:, 'expwin'] * df_team2.loc[:, 'expwin']) / \\\n",
    "            ((df_team1.loc[:, 'expwin'] + df_team2.loc[:, 'expwin'] - 2* df_team1.loc[:, 'expwin'] * df_team2.loc[:, 'expwin']))\n",
    "\n",
    "\n",
    "data = df_team1 - df_team2"
   ]
  },
  {
   "cell_type": "code",
   "execution_count": 24,
   "metadata": {},
   "outputs": [],
   "source": [
    "from sklearn.linear_model import LogisticRegression\n",
    "from sklearn.model_selection import GridSearchCV\n",
    "from sklearn.pipeline import Pipeline\n",
    "\n",
    "estimators = [('reduce_dim', PCA()), ('clf', SVC())]\n",
    "pipe = Pipeline(estimators)\n",
    "\n",
    "\n",
    "params = dict(reduce_dim=[None, PCA(10), PCA(15)],\n",
    "              clf=[SVC(), LogisticRegression(), linear_model.LogisticRegressionCV()])\n",
    "grid_search = GridSearchCV(pipe, param_grid=params)"
   ]
  },
  {
   "cell_type": "code",
   "execution_count": 26,
   "metadata": {},
   "outputs": [],
   "source": [
    "grid_search.fit(X_train, y_train.values.ravel())\n",
    "y_pred = grid_search.predict_proba(X_test)"
   ]
  },
  {
   "cell_type": "code",
   "execution_count": 27,
   "metadata": {},
   "outputs": [
    {
     "data": {
      "text/plain": [
       "0.59712569568627594"
      ]
     },
     "execution_count": 27,
     "metadata": {},
     "output_type": "execute_result"
    }
   ],
   "source": [
    "log_loss(y_test,y_pred)"
   ]
  },
  {
   "cell_type": "code",
   "execution_count": null,
   "metadata": {},
   "outputs": [],
   "source": [
    "n_factor = 30\n",
    "n_pc = 10"
   ]
  }
 ],
 "metadata": {
  "kernelspec": {
   "display_name": "Python 2",
   "language": "python",
   "name": "python2"
  },
  "language_info": {
   "codemirror_mode": {
    "name": "ipython",
    "version": 2.0
   },
   "file_extension": ".py",
   "mimetype": "text/x-python",
   "name": "python",
   "nbconvert_exporter": "python",
   "pygments_lexer": "ipython2",
   "version": "2.7.6"
  }
 },
 "nbformat": 4,
 "nbformat_minor": 0
}