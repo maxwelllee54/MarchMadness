{
 "cells": [
  {
   "cell_type": "code",
   "execution_count": 2,
   "metadata": {
    "collapsed": true
   },
   "outputs": [],
   "source": [
    "import pandas as pd\n",
    "from sklearn import ensemble\n",
    "import seaborn as sns\n",
    "from matplotlib import pyplot as plt\n",
    "import numpy as np\n",
    "\n",
    "df = pd.read_csv('NCAA_Tourney_2002-2016_1.csv')\n",
    "features = df.iloc[:, :-4]\n",
    "results = df.iloc[:, -4:]\n",
    "\n",
    "X = features\n",
    "y = results.loc[:, 'result']\n",
    "X_train = pd.DataFrame()\n",
    "X_test = pd.DataFrame()\n",
    "y_train = pd.DataFrame()\n",
    "y_test = pd.DataFrame()\n",
    "X_valid = pd.DataFrame()\n",
    "y_valid = pd.DataFrame()\n",
    "\n",
    "\n",
    "for year in range(2002, 2014):\n",
    "    X_train = pd.concat([X_train, X.loc[results.Season == year]])\n",
    "    y_train = pd.concat([y_train, y.loc[results.Season == year]])\n",
    "\n",
    "\n",
    "for year in range(2014, 2017):\n",
    "    X_test = pd.concat([X_test, X.loc[results.Season == year]])\n",
    "    y_test = pd.concat([y_test, y.loc[results.Season == year]])\n",
    "    \n",
    "paramsGB = {'n_estimators': 500, 'max_depth': 4, 'min_samples_split': 2, 'learning_rate': 0.01, 'loss': 'ls'}\n",
    "\n",
    "clf = ensemble.GradientBoostingRegressor(**paramsGB)\n",
    "\n",
    "clf.fit(X_train, y_train.values.ravel())\n",
    "\n",
    "y_pred = clf.predict(X_test)\n",
    "\n",
    "sns.set(font_scale=1, rc={\"lines.linewidth\": 1.2})\n",
    "\n",
    "fig = plt.figure(figsize=(20, 10), dpi=80)\n",
    "fig.suptitle('Predictor Importance', fontsize=20)\n",
    "\n",
    "plt.subplot(1,1,1)\n",
    "\n",
    "f = clf.feature_importances_\n",
    "\n",
    "f = 100.0 * (f / f.max())\n",
    "indices = np.argsort(f)[-10:]\n",
    "plt.barh(np.arange(10), f[indices],color='dodgerblue',alpha=.4)\n",
    "plt.yticks(np.arange(10 + 0.25), np.array(X.columns)[indices])\n",
    "plt.xlabel('Relative importance'), \\\n",
    "plt.title('Top Ten Important Variables')\n",
    "\n",
    "plt.show()"
   ]
  },
  {
   "cell_type": "code",
   "execution_count": null,
   "metadata": {},
   "outputs": [],
   "source": [
    ""
   ]
  }
 ],
 "metadata": {
  "kernelspec": {
   "display_name": "Python 2",
   "language": "python",
   "name": "python2"
  },
  "language_info": {
   "codemirror_mode": {
    "name": "ipython",
    "version": 2.0
   },
   "file_extension": ".py",
   "mimetype": "text/x-python",
   "name": "python",
   "nbconvert_exporter": "python",
   "pygments_lexer": "ipython2",
   "version": "2.7.6"
  }
 },
 "nbformat": 4,
 "nbformat_minor": 0
}