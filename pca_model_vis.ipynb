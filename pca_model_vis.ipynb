{
 "cells": [
  {
   "cell_type": "code",
   "execution_count": 25,
   "metadata": {
    "collapsed": true
   },
   "outputs": [
    {
     "name": "stdout",
     "output_type": "stream",
     "text": [
      "Using matplotlib backend: MacOSX\n"
     ]
    },
    {
     "data": {
      "text/plain": [
       "PCA(copy=True, iterated_power='auto', n_components=10, random_state=None,\n  svd_solver='auto', tol=0.0, whiten=False)"
      ]
     },
     "execution_count": 25,
     "metadata": {},
     "output_type": "execute_result"
    }
   ],
   "source": [
    "import pandas as pd\n",
    "from sklearn import ensemble\n",
    "import seaborn as sns\n",
    "from matplotlib import pyplot as plt\n",
    "import numpy as np\n",
    "\n",
    "columnName = ['seed', 'lat', 'long'\t, 'fg2pct', 'fg3pct', 'ftpct', 'blockpct', 'oppfg2pct', 'oppfg3pct', 'oppftpct',\n",
    "              'oppblockpct', 'f3grate', 'oppf3grate', 'arate', 'opparate', 'stlrate', 'oppstlrate', 'tempo', 'adjtempo',\n",
    "              'oe', 'adjoe', 'de', 'adjde', 'rpi_rating', 'pt_school_ncaa', 'pt_overall_ncaa', 'pt_school_s16', 'pt_overall_s16',\n",
    "              'pt_school_ff', 'pt_overall_ff', 'pt_career_school_wins',\t'pt_career_school_losses', 'pt_career_overall_losses',\n",
    "              'team_season_wins', 'pt_team_season_losses', 'pt_coach_season_wins', 'pt_coach_season_losses']\n",
    "\n",
    "df = pd.read_csv('NCAA_Tourney_2002-2016_1.csv')\n",
    "features = df.iloc[:, :-4]\n",
    "results = df.iloc[:, -4:]\n",
    "\n",
    "df_team1 = df.iloc[:, 2:39]\n",
    "df_team1.columns = columnName\n",
    "df_team2 = df.iloc[:, 39:76]\n",
    "df_team2.columns = columnName\n",
    "\n",
    "df_team1.loc[:, 'expwin'] = df.loc[:, 'team1_adjoe'] ** 11.5 / (df.loc[:, 'team1_adjde'] ** 11.5\n",
    "                                                            + df.loc[:, 'team1_adjoe'] ** 11.5)\n",
    "\n",
    "\n",
    "df_team2.loc[:, 'expwin'] = df.loc[:, 'team2_adjoe'] ** 11.5 / (df.loc[:, 'team2_adjde'] ** 11.5\n",
    "                                                            + df.loc[:, 'team2_adjoe'] ** 11.5)\n",
    "\n",
    "\n",
    "df_team1.loc[:, 'log5'] = (df_team1.loc[:, 'expwin'] - df_team1.loc[:, 'expwin'] * df_team2.loc[:, 'expwin']) / \\\n",
    "            ((df_team1.loc[:, 'expwin'] + df_team2.loc[:, 'expwin'] - 2* df_team1.loc[:, 'expwin'] * df_team2.loc[:, 'expwin']))\n",
    "\n",
    "df_team2.loc[:, 'log5'] = (df_team2.loc[:, 'expwin'] - df_team1.loc[:, 'expwin'] * df_team2.loc[:, 'expwin']) / \\\n",
    "            ((df_team1.loc[:, 'expwin'] + df_team2.loc[:, 'expwin'] - 2* df_team1.loc[:, 'expwin'] * df_team2.loc[:, 'expwin']))\n",
    "\n",
    "\n",
    "data = df_team1 - df_team2\n",
    "\n",
    "\n",
    "df2 = pd.read_csv('NCAA_Tourney_2017.csv').iloc[:, :-1]\n",
    "\n",
    "\n",
    "df2_team1 = df2.iloc[:, 2:39]\n",
    "df2_team1.columns = columnName\n",
    "df2_team2 = df2.iloc[:, 39:76]\n",
    "df2_team2.columns = columnName\n",
    "\n",
    "df2_team1.loc[:, 'expwin'] = df2.loc[:, 'team1_adjoe'] ** 11.5 / (df2.loc[:, 'team1_adjde'] ** 11.5\n",
    "                                                            + df2.loc[:, 'team1_adjoe'] ** 11.5)\n",
    "\n",
    "\n",
    "df2_team2.loc[:, 'expwin'] = df2.loc[:, 'team2_adjoe'] ** 11.5 / (df2.loc[:, 'team2_adjde'] ** 11.5\n",
    "                                                            + df2.loc[:, 'team2_adjoe'] ** 11.5)\n",
    "\n",
    "\n",
    "df2_team1.loc[:, 'log5'] = (df2_team1.loc[:, 'expwin'] - df2_team1.loc[:, 'expwin'] * df2_team2.loc[:, 'expwin']) / \\\n",
    "            ((df2_team1.loc[:, 'expwin'] + df2_team2.loc[:, 'expwin'] - 2* df2_team1.loc[:, 'expwin'] * df2_team2.loc[:, 'expwin']))\n",
    "\n",
    "df2_team2.loc[:, 'log5'] = (df2_team2.loc[:, 'expwin'] - df2_team1.loc[:, 'expwin'] * df2_team2.loc[:, 'expwin']) / \\\n",
    "            ((df2_team1.loc[:, 'expwin'] + df2_team2.loc[:, 'expwin'] - 2* df2_team1.loc[:, 'expwin'] * df2_team2.loc[:, 'expwin']))\n",
    "\n",
    "df2_team1.iloc[:, -1]\n",
    "test_data = df2_team1 - df2_team2\n",
    "X_train = data\n",
    "y_train = results.loc[:, 'result']\n",
    "\n",
    "paramsGB = {'n_estimators': 10, 'max_depth': 5, 'min_samples_split': 2, 'loss': 'deviance'}\n",
    "\n",
    "original_params = {'n_estimators': 1000, 'max_leaf_nodes': 4, 'max_depth': 5, 'random_state': 2,\n",
    "                   'min_samples_split': 5}\n",
    "\n",
    "clf = ensemble.GradientBoostingClassifier(**original_params)\n",
    "\n",
    "clf.fit(X_train, y_train.values.ravel())\n",
    "\n",
    "sns.set(font_scale=1, rc={\"lines.linewidth\": 1.2})\n",
    "\n",
    "fig = plt.figure(figsize=(20, 10), dpi=80)\n",
    "fig.suptitle('Predictor Importance', fontsize=20)\n",
    "\n",
    "plt.subplot(1,1,1)\n",
    "\n",
    "f = clf.feature_importances_\n",
    "%matplotlib\n",
    "f = 100.0 * (f / f.max())\n",
    "\n",
    "from sklearn import linear_model\n",
    "from sklearn.calibration import CalibratedClassifierCV\n",
    "from sklearn.pipeline import make_pipeline\n",
    "\n",
    "from sklearn.decomposition import PCA\n",
    "\n",
    "columns = list(X_train.columns[np.argsort(f)[-30:]])\n",
    "newFeatures = data.loc[:, columns]\n",
    "X_new = newFeatures\n",
    "y_new = results.loc[:, 'result']\n",
    "\n",
    "\n",
    "pca = PCA(10)\n",
    "pca.fit(X_new)"
   ]
  },
  {
   "cell_type": "code",
   "execution_count": 27,
   "metadata": {},
   "outputs": [],
   "source": [
    "import matplotlib.pylab as pylab\n",
    "from mpl_toolkits.mplot3d import Axes3D \n",
    "from matplotlib.patches import Circle\n",
    "\n",
    "\n",
    "newData = pca.transform(X_new)\n",
    "fig = pylab.figure(figsize=(10, 7))\n",
    "ax = Axes3D(fig)\n",
    "\n",
    "    \n",
    "ax.scatter(newData[:, 0], newData[:, 1], newData[:, 2], c=y_new, cmap='bwr')\n",
    "\n",
    "ax.set_xlabel('PC 1')\n",
    "ax.set_ylabel('PC 2')\n",
    "ax.set_zlabel('PC 3')\n",
    "\n",
    "ax.set_title('PCA 3D plot fot Training Data', fontsize=20)\n",
    "\n",
    "pylab.show()"
   ]
  },
  {
   "cell_type": "code",
   "execution_count": 21,
   "metadata": {},
   "outputs": [
    {
     "data": {
      "text/plain": [
       "<matplotlib.axes._subplots.AxesSubplot at 0x12b2ff710>"
      ]
     },
     "execution_count": 21,
     "metadata": {},
     "output_type": "execute_result"
    }
   ],
   "source": [
    "df = pd.read_csv('pilarz.csv')\n",
    "df.plot(kind='hist')"
   ]
  },
  {
   "cell_type": "code",
   "execution_count": null,
   "metadata": {},
   "outputs": [],
   "source": [
    ""
   ]
  }
 ],
 "metadata": {
  "kernelspec": {
   "display_name": "Python 2",
   "language": "python",
   "name": "python2"
  },
  "language_info": {
   "codemirror_mode": {
    "name": "ipython",
    "version": 2.0
   },
   "file_extension": ".py",
   "mimetype": "text/x-python",
   "name": "python",
   "nbconvert_exporter": "python",
   "pygments_lexer": "ipython2",
   "version": "2.7.6"
  }
 },
 "nbformat": 4,
 "nbformat_minor": 0
}