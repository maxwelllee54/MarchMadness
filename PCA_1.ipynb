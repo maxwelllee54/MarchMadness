{
 "cells": [
  {
   "cell_type": "code",
   "execution_count": 111,
   "metadata": {
    "collapsed": true
   },
   "outputs": [],
   "source": [
    "import pandas as pd\n",
    "\n",
    "df_all = pd.read_csv('NCAA_Tourney_2002-2016_2.csv')\n",
    "df = df_all.iloc[:, :-4]\n",
    "df_out = df_all.iloc[:, -4:]"
   ]
  },
  {
   "cell_type": "code",
   "execution_count": 118,
   "metadata": {},
   "outputs": [
    {
     "data": {
      "text/html": [
       "<div>\n",
       "<table border=\"1\" class=\"dataframe\">\n",
       "  <thead>\n",
       "    <tr style=\"text-align: right;\">\n",
       "      <th></th>\n",
       "      <th>seed_distance</th>\n",
       "      <th>rpi_distance</th>\n",
       "      <th>stlrate_distance</th>\n",
       "      <th>expwin1</th>\n",
       "      <th>expwin2</th>\n",
       "      <th>team1log5</th>\n",
       "      <th>team2log5</th>\n",
       "      <th>prob_diff</th>\n",
       "    </tr>\n",
       "  </thead>\n",
       "  <tbody>\n",
       "    <tr>\n",
       "      <th>0</th>\n",
       "      <td>-13</td>\n",
       "      <td>0.115</td>\n",
       "      <td>-0.0229</td>\n",
       "      <td>0.878465</td>\n",
       "      <td>0.411542</td>\n",
       "      <td>0.911780</td>\n",
       "      <td>0.088220</td>\n",
       "      <td>0.823561</td>\n",
       "    </tr>\n",
       "    <tr>\n",
       "      <th>1</th>\n",
       "      <td>-11</td>\n",
       "      <td>0.085</td>\n",
       "      <td>-0.0033</td>\n",
       "      <td>0.900485</td>\n",
       "      <td>0.707177</td>\n",
       "      <td>0.789333</td>\n",
       "      <td>0.210667</td>\n",
       "      <td>0.578666</td>\n",
       "    </tr>\n",
       "    <tr>\n",
       "      <th>2</th>\n",
       "      <td>-7</td>\n",
       "      <td>0.022</td>\n",
       "      <td>0.0123</td>\n",
       "      <td>0.906968</td>\n",
       "      <td>0.812015</td>\n",
       "      <td>0.692962</td>\n",
       "      <td>0.307038</td>\n",
       "      <td>0.385925</td>\n",
       "    </tr>\n",
       "    <tr>\n",
       "      <th>3</th>\n",
       "      <td>-15</td>\n",
       "      <td>0.175</td>\n",
       "      <td>-0.0058</td>\n",
       "      <td>0.940149</td>\n",
       "      <td>0.501475</td>\n",
       "      <td>0.939816</td>\n",
       "      <td>0.060184</td>\n",
       "      <td>0.879633</td>\n",
       "    </tr>\n",
       "    <tr>\n",
       "      <th>4</th>\n",
       "      <td>3</td>\n",
       "      <td>-0.001</td>\n",
       "      <td>-0.0150</td>\n",
       "      <td>0.871998</td>\n",
       "      <td>0.809638</td>\n",
       "      <td>0.615641</td>\n",
       "      <td>0.384359</td>\n",
       "      <td>0.231283</td>\n",
       "    </tr>\n",
       "  </tbody>\n",
       "</table>\n",
       "</div>"
      ],
      "text/plain": [
       "<div>\n",
       "<table border=\"1\" class=\"dataframe\">\n",
       "  <thead>\n",
       "    <tr style=\"text-align: right;\">\n",
       "      <th></th>\n",
       "      <th>seed_distance</th>\n",
       "      <th>rpi_distance</th>\n",
       "      <th>stlrate_distance</th>\n",
       "      <th>expwin1</th>\n",
       "      <th>expwin2</th>\n",
       "      <th>team1log5</th>\n",
       "      <th>team2log5</th>\n",
       "      <th>prob_diff</th>\n",
       "    </tr>\n",
       "  </thead>\n",
       "  <tbody>\n",
       "    <tr>\n",
       "      <th>0</th>\n",
       "      <td>-13</td>\n",
       "      <td>0.115</td>\n",
       "      <td>-0.0229</td>\n",
       "      <td>0.878465</td>\n",
       "      <td>0.411542</td>\n",
       "      <td>0.911780</td>\n",
       "      <td>0.088220</td>\n",
       "      <td>0.823561</td>\n",
       "    </tr>\n",
       "    <tr>\n",
       "      <th>1</th>\n",
       "      <td>-11</td>\n",
       "      <td>0.085</td>\n",
       "      <td>-0.0033</td>\n",
       "      <td>0.900485</td>\n",
       "      <td>0.707177</td>\n",
       "      <td>0.789333</td>\n",
       "      <td>0.210667</td>\n",
       "      <td>0.578666</td>\n",
       "    </tr>\n",
       "    <tr>\n",
       "      <th>2</th>\n",
       "      <td>-7</td>\n",
       "      <td>0.022</td>\n",
       "      <td>0.0123</td>\n",
       "      <td>0.906968</td>\n",
       "      <td>0.812015</td>\n",
       "      <td>0.692962</td>\n",
       "      <td>0.307038</td>\n",
       "      <td>0.385925</td>\n",
       "    </tr>\n",
       "    <tr>\n",
       "      <th>3</th>\n",
       "      <td>-15</td>\n",
       "      <td>0.175</td>\n",
       "      <td>-0.0058</td>\n",
       "      <td>0.940149</td>\n",
       "      <td>0.501475</td>\n",
       "      <td>0.939816</td>\n",
       "      <td>0.060184</td>\n",
       "      <td>0.879633</td>\n",
       "    </tr>\n",
       "    <tr>\n",
       "      <th>4</th>\n",
       "      <td>3</td>\n",
       "      <td>-0.001</td>\n",
       "      <td>-0.0150</td>\n",
       "      <td>0.871998</td>\n",
       "      <td>0.809638</td>\n",
       "      <td>0.615641</td>\n",
       "      <td>0.384359</td>\n",
       "      <td>0.231283</td>\n",
       "    </tr>\n",
       "  </tbody>\n",
       "</table>\n",
       "</div>"
      ]
     },
     "execution_count": 118,
     "metadata": {},
     "output_type": "execute_result"
    }
   ],
   "source": [
    "import numpy as np\n",
    "df2 = pd.DataFrame()\n",
    "\n",
    "df2.loc[:, 'seed_distance'] = df.loc[:, 'team1_seed'] - df.loc[:, 'team2_seed']\n",
    "df2.loc[:, 'rpi_distance'] = df.loc[:, 'team1_rpi_rating'] - df.loc[:, 'team2_rpi_rating']\n",
    "df2.loc[:, 'stlrate_distance'] = df.loc[:, 'team1_stlrate'] - df.loc[:, 'team2_stlrate']\n",
    "\n",
    "df2.loc[:, 'expwin1'] = df.loc[:, 'team1_adjoe'] ** 11.5 / (df.loc[:, 'team1_adjde'] ** 11.5 \n",
    "                                                            + df.loc[:, 'team1_adjoe'] ** 11.5)\n",
    "\n",
    "\n",
    "df2.loc[:, 'expwin2'] = df.loc[:, 'team2_adjoe'] ** 11.5 / (df.loc[:, 'team2_adjde'] ** 11.5 \n",
    "                                                            + df.loc[:, 'team2_adjoe'] ** 11.5)\n",
    "\n",
    "\n",
    "df2.loc[:, 'team1log5'] = (df2.loc[:, 'expwin1'] - df2.loc[:, 'expwin1'] * df2.loc[:, 'expwin2']) / \\\n",
    "            ((df2.loc[:, 'expwin1'] + df2.loc[:, 'expwin2'] - 2* df2.loc[:, 'expwin1'] * df2.loc[:, 'expwin2']))\n",
    "\n",
    "df2.loc[:, 'team2log5'] = (df2.loc[:, 'expwin2'] - df2.loc[:, 'expwin1'] * df2.loc[:, 'expwin2']) / \\\n",
    "            ((df2.loc[:, 'expwin1'] + df2.loc[:, 'expwin2'] - 2* df2.loc[:, 'expwin1'] * df2.loc[:, 'expwin2']))\n",
    "\n",
    "df2.loc[:, 'prob_diff'] = df2.loc[:, 'team1log5'] - df2.loc[:, 'team2log5']\n",
    "\n",
    "df3 = df2.loc[:, ['seed_distance', 'rpi_distance', 'stlrate_distance', 'prob_diff']]"
   ]
  },
  {
   "cell_type": "code",
   "execution_count": 28,
   "metadata": {},
   "outputs": [],
   "source": [
    "from sklearn import preprocessing\n",
    "\n",
    "normolizer = preprocessing.Normalizer().fit(df3)"
   ]
  },
  {
   "cell_type": "code",
   "execution_count": 29,
   "metadata": {},
   "outputs": [],
   "source": [
    "df_norm = normolizer.transform(df)"
   ]
  },
  {
   "cell_type": "code",
   "execution_count": 91,
   "metadata": {},
   "outputs": [
    {
     "data": {
      "text/plain": [
       "PCA(copy=True, iterated_power='auto', n_components=None, random_state=None,\n  svd_solver='full', tol=0.0, whiten=False)"
      ]
     },
     "execution_count": 91,
     "metadata": {},
     "output_type": "execute_result"
    }
   ],
   "source": [
    "from sklearn.decomposition import PCA\n",
    "pca = PCA(svd_solver='full')\n",
    "pca.fit(df_norm)"
   ]
  },
  {
   "cell_type": "code",
   "execution_count": 92,
   "metadata": {
    "collapsed": false
   },
   "outputs": [
    {
     "data": {
      "text/plain": [
       "array([  5.14634421e-01,   3.25309943e-01,   4.66000675e-02,\n         3.75504725e-02,   2.25037609e-02,   1.92437981e-02,\n         1.62603881e-02,   3.71128367e-03,   2.45857498e-03,\n         2.07243318e-03,   1.17351724e-03,   1.12786792e-03,\n         7.99457387e-04,   6.00583245e-04,   5.06739392e-04,\n         4.72814528e-04,   4.23740926e-04,   3.55615873e-04,\n         3.41749700e-04,   3.20237763e-04,   2.90994828e-04,\n         2.71754620e-04,   2.47112636e-04,   2.30066412e-04,\n         2.23883760e-04,   2.04313248e-04,   1.72422573e-04,\n         1.43427381e-04,   1.36698649e-04,   1.30488954e-04,\n         1.23806268e-04,   1.15608260e-04,   1.10762294e-04,\n         9.71652732e-05,   8.37604508e-05,   8.21580025e-05,\n         7.24790330e-05,   7.02408063e-05,   6.53246458e-05,\n         5.92736788e-05,   5.61858789e-05,   4.97689534e-05,\n         4.50013073e-05,   4.11953807e-05,   3.99795693e-05,\n         3.66943284e-05,   3.42391877e-05,   3.24749857e-05,\n         3.16899584e-05,   2.99928628e-05,   2.77246749e-05,\n         2.70941119e-05,   2.44559233e-05,   2.28850852e-05,\n         1.73347733e-05,   1.44842235e-05,   1.33271813e-05,\n         1.30029750e-05,   8.77715031e-06,   7.56291268e-06,\n         5.86304221e-06,   4.13233666e-06,   4.01664217e-06,\n         3.70125287e-06,   3.28548558e-06,   3.05431452e-06,\n         7.22694010e-07,   7.03932112e-07,   7.01497754e-07,\n         6.17998567e-07,   6.72282459e-08,   4.61867814e-08,\n         2.20234039e-09,   1.98233011e-09,   1.30519491e-09,\n         1.12509643e-09])"
      ]
     },
     "execution_count": 92,
     "metadata": {},
     "output_type": "execute_result"
    }
   ],
   "source": [
    "pca.explained_variance_ratio_"
   ]
  },
  {
   "cell_type": "code",
   "execution_count": 93,
   "metadata": {},
   "outputs": [],
   "source": [
    "variance = pca.explained_variance_"
   ]
  },
  {
   "cell_type": "code",
   "execution_count": 94,
   "metadata": {
    "collapsed": false
   },
   "outputs": [
    {
     "data": {
      "text/plain": [
       "array([ 0.51463442,  0.83994436,  0.88654443,  0.9240949 ,  0.94659867,\n        0.96584246,  0.98210285,  0.98581414,  0.98827271,  0.99034514,\n        0.99151866,  0.99264653,  0.99344599,  0.99404657,  0.99455331,\n        0.99502612,  0.99544986,  0.99580548,  0.99614723,  0.99646747,\n        0.99675846,  0.99703022,  0.99727733,  0.9975074 ,  0.99773128,\n        0.99793559,  0.99810802,  0.99825144,  0.99838814,  0.99851863,\n        0.99864244,  0.99875805,  0.99886881,  0.99896597,  0.99904973,\n        0.99913189,  0.99920437,  0.99927461,  0.99933994,  0.99939921,\n        0.9994554 ,  0.99950516,  0.99955017,  0.99959136,  0.99963134,\n        0.99966803,  0.99970227,  0.99973475,  0.99976644,  0.99979643,\n        0.99982416,  0.99985125,  0.99987571,  0.99989859,  0.99991593,\n        0.99993041,  0.99994374,  0.99995674,  0.99996552,  0.99997308,\n        0.99997894,  0.99998308,  0.99998709,  0.99999079,  0.99999408,\n        0.99999713,  0.99999786,  0.99999856,  0.99999926,  0.99999988,\n        0.99999995,  0.99999999,  1.        ,  1.        ,  1.        ,  1.        ])"
      ]
     },
     "execution_count": 94,
     "metadata": {},
     "output_type": "execute_result"
    }
   ],
   "source": [
    "import numpy as np\n",
    "\n",
    "cumulativeExplainedVarianceRatio = np.cumsum(variance)/np.sum(variance)\n",
    "cumulativeExplainedVarianceRatio"
   ]
  },
  {
   "cell_type": "code",
   "execution_count": 95,
   "metadata": {},
   "outputs": [],
   "source": [
    "PCA_matrix = pd.DataFrame(pca.components_, index=df.columns).loc[:, 0:9]\n",
    "PCA_matrix.to_csv('pca_result.csv')"
   ]
  },
  {
   "cell_type": "code",
   "execution_count": 96,
   "metadata": {
    "collapsed": false
   },
   "outputs": [
    {
     "data": {
      "text/html": [
       "<div>\n",
       "<table border=\"1\" class=\"dataframe\">\n",
       "  <thead>\n",
       "    <tr style=\"text-align: right;\">\n",
       "      <th></th>\n",
       "      <th>0</th>\n",
       "      <th>1</th>\n",
       "      <th>2</th>\n",
       "      <th>3</th>\n",
       "      <th>4</th>\n",
       "      <th>5</th>\n",
       "      <th>6</th>\n",
       "      <th>7</th>\n",
       "      <th>8</th>\n",
       "      <th>9</th>\n",
       "    </tr>\n",
       "  </thead>\n",
       "  <tbody>\n",
       "    <tr>\n",
       "      <th>0</th>\n",
       "      <td>-0.181071</td>\n",
       "      <td>0.363890</td>\n",
       "      <td>0.011409</td>\n",
       "      <td>0.079395</td>\n",
       "      <td>-0.044617</td>\n",
       "      <td>0.000398</td>\n",
       "      <td>0.010005</td>\n",
       "      <td>-0.031387</td>\n",
       "      <td>0.015013</td>\n",
       "      <td>0.011062</td>\n",
       "    </tr>\n",
       "    <tr>\n",
       "      <th>1</th>\n",
       "      <td>-0.523882</td>\n",
       "      <td>-0.130248</td>\n",
       "      <td>-0.052718</td>\n",
       "      <td>0.022405</td>\n",
       "      <td>-0.040158</td>\n",
       "      <td>-0.027691</td>\n",
       "      <td>0.056707</td>\n",
       "      <td>0.034832</td>\n",
       "      <td>-0.003996</td>\n",
       "      <td>0.025792</td>\n",
       "    </tr>\n",
       "    <tr>\n",
       "      <th>2</th>\n",
       "      <td>0.420126</td>\n",
       "      <td>0.100805</td>\n",
       "      <td>-0.076453</td>\n",
       "      <td>-0.033265</td>\n",
       "      <td>-0.016433</td>\n",
       "      <td>0.004287</td>\n",
       "      <td>0.002200</td>\n",
       "      <td>0.045151</td>\n",
       "      <td>-0.037258</td>\n",
       "      <td>-0.004747</td>\n",
       "    </tr>\n",
       "    <tr>\n",
       "      <th>3</th>\n",
       "      <td>-0.177263</td>\n",
       "      <td>-0.063548</td>\n",
       "      <td>-0.044612</td>\n",
       "      <td>0.092619</td>\n",
       "      <td>0.048674</td>\n",
       "      <td>-0.107626</td>\n",
       "      <td>-0.060430</td>\n",
       "      <td>-0.001072</td>\n",
       "      <td>0.018815</td>\n",
       "      <td>0.003149</td>\n",
       "    </tr>\n",
       "    <tr>\n",
       "      <th>4</th>\n",
       "      <td>0.596724</td>\n",
       "      <td>-0.136979</td>\n",
       "      <td>-0.081265</td>\n",
       "      <td>-0.011982</td>\n",
       "      <td>-0.006715</td>\n",
       "      <td>-0.028911</td>\n",
       "      <td>0.109225</td>\n",
       "      <td>-0.012147</td>\n",
       "      <td>-0.008842</td>\n",
       "      <td>0.011024</td>\n",
       "    </tr>\n",
       "  </tbody>\n",
       "</table>\n",
       "</div>"
      ],
      "text/plain": [
       "<div>\n",
       "<table border=\"1\" class=\"dataframe\">\n",
       "  <thead>\n",
       "    <tr style=\"text-align: right;\">\n",
       "      <th></th>\n",
       "      <th>0</th>\n",
       "      <th>1</th>\n",
       "      <th>2</th>\n",
       "      <th>3</th>\n",
       "      <th>4</th>\n",
       "      <th>5</th>\n",
       "      <th>6</th>\n",
       "      <th>7</th>\n",
       "      <th>8</th>\n",
       "      <th>9</th>\n",
       "    </tr>\n",
       "  </thead>\n",
       "  <tbody>\n",
       "    <tr>\n",
       "      <th>0</th>\n",
       "      <td>-0.181071</td>\n",
       "      <td>0.363890</td>\n",
       "      <td>0.011409</td>\n",
       "      <td>0.079395</td>\n",
       "      <td>-0.044617</td>\n",
       "      <td>0.000398</td>\n",
       "      <td>0.010005</td>\n",
       "      <td>-0.031387</td>\n",
       "      <td>0.015013</td>\n",
       "      <td>0.011062</td>\n",
       "    </tr>\n",
       "    <tr>\n",
       "      <th>1</th>\n",
       "      <td>-0.523882</td>\n",
       "      <td>-0.130248</td>\n",
       "      <td>-0.052718</td>\n",
       "      <td>0.022405</td>\n",
       "      <td>-0.040158</td>\n",
       "      <td>-0.027691</td>\n",
       "      <td>0.056707</td>\n",
       "      <td>0.034832</td>\n",
       "      <td>-0.003996</td>\n",
       "      <td>0.025792</td>\n",
       "    </tr>\n",
       "    <tr>\n",
       "      <th>2</th>\n",
       "      <td>0.420126</td>\n",
       "      <td>0.100805</td>\n",
       "      <td>-0.076453</td>\n",
       "      <td>-0.033265</td>\n",
       "      <td>-0.016433</td>\n",
       "      <td>0.004287</td>\n",
       "      <td>0.002200</td>\n",
       "      <td>0.045151</td>\n",
       "      <td>-0.037258</td>\n",
       "      <td>-0.004747</td>\n",
       "    </tr>\n",
       "    <tr>\n",
       "      <th>3</th>\n",
       "      <td>-0.177263</td>\n",
       "      <td>-0.063548</td>\n",
       "      <td>-0.044612</td>\n",
       "      <td>0.092619</td>\n",
       "      <td>0.048674</td>\n",
       "      <td>-0.107626</td>\n",
       "      <td>-0.060430</td>\n",
       "      <td>-0.001072</td>\n",
       "      <td>0.018815</td>\n",
       "      <td>0.003149</td>\n",
       "    </tr>\n",
       "    <tr>\n",
       "      <th>4</th>\n",
       "      <td>0.596724</td>\n",
       "      <td>-0.136979</td>\n",
       "      <td>-0.081265</td>\n",
       "      <td>-0.011982</td>\n",
       "      <td>-0.006715</td>\n",
       "      <td>-0.028911</td>\n",
       "      <td>0.109225</td>\n",
       "      <td>-0.012147</td>\n",
       "      <td>-0.008842</td>\n",
       "      <td>0.011024</td>\n",
       "    </tr>\n",
       "  </tbody>\n",
       "</table>\n",
       "</div>"
      ]
     },
     "execution_count": 96,
     "metadata": {},
     "output_type": "execute_result"
    }
   ],
   "source": [
    "newData = pd.DataFrame(pca.transform(df_norm))\n",
    "newData = newData.loc[:, 0:9]\n",
    "newData.head()"
   ]
  },
  {
   "cell_type": "code",
   "execution_count": 97,
   "metadata": {
    "collapsed": true
   },
   "outputs": [],
   "source": [
    "from sklearn.neural_network import MLPClassifier\n",
    "from sklearn.linear_model import LogisticRegression\n",
    "from sklearn import svm\n",
    "from sklearn.model_selection import KFold\n",
    "X = newData\n",
    "y = df_out.loc[:, 'result']\n",
    "kf = KFold(n_splits=4, shuffle=True)\n",
    "\n",
    "for train, test in kf.split(X):\n",
    "    \n",
    "    X_train, X_test, y_train, y_test = X.loc[train], X.loc[test], y.loc[train], y.loc[test]\n",
    "    clf = svm.SVC(probability=True)\n",
    "    clf.fit(X_train, y_train)\n",
    "    \n",
    "    df_out.loc[test, 'prob1'] = clf.predict_proba(X_test)[:, 0]\n",
    "    df_out.loc[test, 'prob2'] = clf.predict_proba(X_test)[:, 1]"
   ]
  },
  {
   "cell_type": "code",
   "execution_count": 98,
   "metadata": {},
   "outputs": [],
   "source": [
    "df_out.loc[:, 'log_loss1'] = df_out.loc[:, 'result'] * np.log(df_out.loc[:, 'prob1']) + (1 - df_out.loc[:, 'result']) * np.log((1 - df_out.loc[:, 'prob1']))\n",
    "\n",
    "df_out.loc[:, 'log_loss2'] = df_out.loc[:, 'result'] * np.log(df_out.loc[:, 'prob2']) + (1 - df_out.loc[:, 'result']) * np.log((1 - df_out.loc[:, 'prob2']))"
   ]
  },
  {
   "cell_type": "code",
   "execution_count": 99,
   "metadata": {},
   "outputs": [],
   "source": [
    "df_out.to_csv('output.csv')"
   ]
  },
  {
   "cell_type": "code",
   "execution_count": 100,
   "metadata": {},
   "outputs": [
    {
     "data": {
      "text/plain": [
       "0.8385793146730277"
      ]
     },
     "execution_count": 100,
     "metadata": {},
     "output_type": "execute_result"
    }
   ],
   "source": [
    "log_loss_1 = - df_out.loc[:, 'log_loss1'].sum()/ len(df_out)\n",
    "log_loss_1"
   ]
  },
  {
   "cell_type": "code",
   "execution_count": 101,
   "metadata": {},
   "outputs": [
    {
     "data": {
      "text/plain": [
       "0.6458089420411844"
      ]
     },
     "execution_count": 101,
     "metadata": {},
     "output_type": "execute_result"
    }
   ],
   "source": [
    "log_loss_2 = - df_out.loc[:, 'log_loss2'].sum()/ len(df_out)\n",
    "log_loss_2"
   ]
  },
  {
   "cell_type": "code",
   "execution_count": 106,
   "metadata": {},
   "outputs": [],
   "source": [
    "from sklearn.model_selection import GridSearchCV\n",
    "from sklearn.svm import LinearSVC\n",
    "grid = GridSearchCV(LinearSVC(), param_grid={'C': [1, 10]}, scoring='neg_log_loss')"
   ]
  },
  {
   "cell_type": "code",
   "execution_count": 109,
   "metadata": {
    "collapsed": false
   },
   "outputs": [
    {
     "ename": "AttributeError",
     "evalue": "'GridSearchCV' object has no attribute 'cv_results_'",
     "traceback": [
      "\u001b[0;31m\u001b[0m",
      "\u001b[0;31mAttributeError\u001b[0mTraceback (most recent call last)",
      "\u001b[0;32m<ipython-input-109-9a5070926eb2>\u001b[0m in \u001b[0;36m<module>\u001b[0;34m()\u001b[0m\n\u001b[0;32m----> 1\u001b[0;31m \u001b[0mgrid\u001b[0m\u001b[0;34m.\u001b[0m\u001b[0mcv_results_\u001b[0m\u001b[0;34m\u001b[0m\u001b[0m\n\u001b[0m",
      "\u001b[0;31mAttributeError\u001b[0m: 'GridSearchCV' object has no attribute 'cv_results_'"
     ],
     "output_type": "error"
    }
   ],
   "source": [
    "grid.cv_results_"
   ]
  },
  {
   "cell_type": "code",
   "execution_count": null,
   "metadata": {},
   "outputs": [],
   "source": [
    ""
   ]
  }
 ],
 "metadata": {
  "kernelspec": {
   "display_name": "Python 2",
   "language": "python",
   "name": "python2"
  },
  "language_info": {
   "codemirror_mode": {
    "name": "ipython",
    "version": 2.0
   },
   "file_extension": ".py",
   "mimetype": "text/x-python",
   "name": "python",
   "nbconvert_exporter": "python",
   "pygments_lexer": "ipython2",
   "version": "2.7.6"
  }
 },
 "nbformat": 4,
 "nbformat_minor": 0
}