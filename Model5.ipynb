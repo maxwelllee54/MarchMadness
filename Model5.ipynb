{
 "cells": [
  {
   "cell_type": "code",
   "execution_count": 1,
   "metadata": {
    "collapsed": true
   },
   "outputs": [
    {
     "name": "stdout",
     "output_type": "stream",
     "text": [
      "Using matplotlib backend: MacOSX\n"
     ]
    },
    {
     "data": {
      "text/plain": [
       "(<matplotlib.text.Text at 0x11ab6deb8>, <matplotlib.text.Text at 0x11ae8c320>)"
      ]
     },
     "execution_count": 1,
     "metadata": {},
     "output_type": "execute_result"
    }
   ],
   "source": [
    "import pandas as pd\n",
    "from sklearn import ensemble\n",
    "import seaborn as sns\n",
    "from matplotlib import pyplot as plt\n",
    "import numpy as np\n",
    "from sklearn import preprocessing\n",
    "\n",
    "columnName = ['seed', 'lat', 'long'\t, 'fg2pct', 'fg3pct', 'ftpct', 'blockpct', 'oppfg2pct', 'oppfg3pct', 'oppftpct',\n",
    "              'oppblockpct', 'f3grate', 'oppf3grate', 'arate', 'opparate', 'stlrate', 'oppstlrate', 'tempo', 'adjtempo',\n",
    "              'oe', 'adjoe', 'de', 'adjde', 'rpi_rating', 'pt_school_ncaa', 'pt_overall_ncaa', 'pt_school_s16', 'pt_overall_s16',\n",
    "              'pt_school_ff', 'pt_overall_ff', 'pt_career_school_wins',\t'pt_career_school_losses', 'pt_career_overall_losses',\n",
    "              'team_season_wins', 'pt_team_season_losses', 'pt_coach_season_wins', 'pt_coach_season_losses']\n",
    "\n",
    "df = pd.read_csv('NCAA_Tourney_2002-2016_1.csv')\n",
    "features = df.iloc[:, :-4]\n",
    "results = df.iloc[:, -4:]\n",
    "\n",
    "df_team1 = df.iloc[:, 2:39]\n",
    "df_team1.columns = columnName\n",
    "df_team2 = df.iloc[:, 39:76]\n",
    "df_team2.columns = columnName\n",
    "\n",
    "df_team1.loc[:, 'expwin'] = df.loc[:, 'team1_adjoe'] ** 11.5 / (df.loc[:, 'team1_adjde'] ** 11.5\n",
    "                                                            + df.loc[:, 'team1_adjoe'] ** 11.5)\n",
    "\n",
    "\n",
    "df_team2.loc[:, 'expwin'] = df.loc[:, 'team2_adjoe'] ** 11.5 / (df.loc[:, 'team2_adjde'] ** 11.5\n",
    "                                                            + df.loc[:, 'team2_adjoe'] ** 11.5)\n",
    "\n",
    "\n",
    "df_team1.loc[:, 'log5'] = (df_team1.loc[:, 'expwin'] - df_team1.loc[:, 'expwin'] * df_team2.loc[:, 'expwin']) / \\\n",
    "            ((df_team1.loc[:, 'expwin'] + df_team2.loc[:, 'expwin'] - 2* df_team1.loc[:, 'expwin'] * df_team2.loc[:, 'expwin']))\n",
    "\n",
    "df_team2.loc[:, 'log5'] = (df_team2.loc[:, 'expwin'] - df_team1.loc[:, 'expwin'] * df_team2.loc[:, 'expwin']) / \\\n",
    "            ((df_team1.loc[:, 'expwin'] + df_team2.loc[:, 'expwin'] - 2* df_team1.loc[:, 'expwin'] * df_team2.loc[:, 'expwin']))\n",
    "\n",
    "\n",
    "data = df_team1 - df_team2\n",
    "\n",
    "#normolizer = preprocessing.Normalizer().fit(data)\n",
    "#df_norm = pd.DataFrame(normolizer.transform(data))\n",
    "#df_norm.columns = ['seed', 'lat', 'long'\t'fg2pct', 'fg3pct', 'ftpct', 'blockpct', 'oppfg2pct', 'oppfg3pct', 'oppftpct',\n",
    "#              'oppblockpct', 'f3grate', 'oppf3grate', 'arate', 'opparate', 'stlrate', 'oppstlrate', 'tempo', 'adjtempo',\n",
    "#              'oe', 'adjoe', 'de', 'adjde', 'rpi_rating', 'pt_school_ncaa', 'pt_overall_ncaa', 'pt_school_s16', 'pt_overall_s16',\n",
    "#              'pt_school_ff', 'pt_overall_ff', 'pt_career_school_wins',\t'pt_career_school_losses', 'pt_career_overall_losses',\n",
    "#              'team_season_wins', 'pt_team_season_losses', 'pt_coach_season_wins', 'pt_coach_season_losses', 'expwin','log5']\n",
    "\n",
    "X = data\n",
    "y = results.loc[:, 'result']\n",
    "X_train = pd.DataFrame()\n",
    "X_test = pd.DataFrame()\n",
    "y_train = pd.DataFrame()\n",
    "y_test = pd.DataFrame()\n",
    "X_valid = pd.DataFrame()\n",
    "y_valid = pd.DataFrame()\n",
    "\n",
    "\n",
    "for year in range(2002, 2016):\n",
    "    X_train = pd.concat([X_train, X.loc[results.Season == year]])\n",
    "    y_train = pd.concat([y_train, y.loc[results.Season == year]])\n",
    "\n",
    "for year in range(2016, 2017):\n",
    "    X_test = pd.concat([X_test, X.loc[results.Season == year]])\n",
    "    y_test = pd.concat([y_test, y.loc[results.Season == year]])\n",
    "    \n",
    "paramsGB = {'n_estimators': 10, 'max_depth': 5, 'min_samples_split': 2, 'loss': 'deviance'}\n",
    "\n",
    "original_params = {'n_estimators': 1000, 'max_leaf_nodes': 4, 'max_depth': 5, 'random_state': 2,\n",
    "                   'min_samples_split': 5}\n",
    "\n",
    "clf = ensemble.GradientBoostingClassifier(**original_params)\n",
    "\n",
    "clf.fit(X_train, y_train.values.ravel())\n",
    "\n",
    "y_pred = clf.predict(X_test)\n",
    "\n",
    "sns.set(font_scale=1, rc={\"lines.linewidth\": 1.2})\n",
    "\n",
    "fig = plt.figure(figsize=(20, 10), dpi=80)\n",
    "fig.suptitle('Predictor Importance', fontsize=20)\n",
    "\n",
    "plt.subplot(1,1,1)\n",
    "\n",
    "f = clf.feature_importances_\n",
    "%matplotlib\n",
    "f = 100.0 * (f / f.max())\n",
    "indices = np.argsort(f)[-30:]\n",
    "plt.barh(np.arange(30), f[indices],color='dodgerblue',alpha=.4)\n",
    "plt.yticks(np.arange(30 + 0.25), np.array(X.columns)[indices])\n",
    "plt.xlabel('Relative importance'), \\\n",
    "plt.title('Final Selection for Important Predictors', fontsize=20)"
   ]
  },
  {
   "cell_type": "code",
   "execution_count": 8,
   "metadata": {
    "collapsed": true
   },
   "outputs": [
    {
     "name": "stdout",
     "output_type": "stream",
     "text": [
      "0.649756514818 \t\t 20 \t\t 1 \t\t 3\n"
     ]
    },
    {
     "name": "stdout",
     "output_type": "stream",
     "text": [
      "0.649114958256 \t\t 20 \t\t 1 \t\t 4\n"
     ]
    },
    {
     "name": "stdout",
     "output_type": "stream",
     "text": [
      "0.663012754713 \t\t 20 \t\t 1 \t\t 5\n"
     ]
    },
    {
     "name": "stdout",
     "output_type": "stream",
     "text": [
      "0.664463920242 \t\t 20 \t\t 1 \t\t 6\n"
     ]
    },
    {
     "name": "stdout",
     "output_type": "stream",
     "text": [
      "0.601158682895 \t\t 20 \t\t 1 \t\t 7\n"
     ]
    },
    {
     "name": "stdout",
     "output_type": "stream",
     "text": [
      "0.604846443075 \t\t 20 \t\t 1 \t\t 8\n"
     ]
    },
    {
     "name": "stdout",
     "output_type": "stream",
     "text": [
      "0.607498321129 \t\t 20 \t\t 1 \t\t 9\n"
     ]
    },
    {
     "name": "stdout",
     "output_type": "stream",
     "text": [
      "0.561940109787 \t\t 20 \t\t 1 \t\t 10\n"
     ]
    },
    {
     "name": "stdout",
     "output_type": "stream",
     "text": [
      "0.560325116237 \t\t 20 \t\t 1 \t\t 11\n"
     ]
    },
    {
     "name": "stdout",
     "output_type": "stream",
     "text": [
      "0.56075041299 \t\t 20 \t\t 1 \t\t 12\n"
     ]
    },
    {
     "name": "stdout",
     "output_type": "stream",
     "text": [
      "0.563609201353 \t\t 20 \t\t 1 \t\t 13\n"
     ]
    },
    {
     "name": "stdout",
     "output_type": "stream",
     "text": [
      "0.565917515505 \t\t 20 \t\t 1 \t\t 14\n"
     ]
    },
    {
     "name": "stdout",
     "output_type": "stream",
     "text": [
      "0.564319013441 \t\t 20 \t\t 1 \t\t 15\n"
     ]
    },
    {
     "name": "stdout",
     "output_type": "stream",
     "text": [
      "0.558695481161 \t\t 20 \t\t 1 \t\t 16\n"
     ]
    },
    {
     "name": "stdout",
     "output_type": "stream",
     "text": [
      "0.557514000587 \t\t 20 \t\t 1 \t\t 17\n"
     ]
    },
    {
     "name": "stdout",
     "output_type": "stream",
     "text": [
      "0.555482311965 \t\t 20 \t\t 1 \t\t 18\n"
     ]
    },
    {
     "name": "stdout",
     "output_type": "stream",
     "text": [
      "0.55542706671 \t\t 20 \t\t 1 \t\t 19\n"
     ]
    },
    {
     "name": "stdout",
     "output_type": "stream",
     "text": [
      "0.64584783098 \t\t 20 \t\t 2 \t\t 3\n"
     ]
    },
    {
     "name": "stdout",
     "output_type": "stream",
     "text": [
      "0.648349713 \t\t 20 \t\t 2 \t\t 4\n"
     ]
    },
    {
     "name": "stdout",
     "output_type": "stream",
     "text": [
      "0.645620070755 \t\t 20 \t\t 2 \t\t 5\n"
     ]
    },
    {
     "name": "stdout",
     "output_type": "stream",
     "text": [
      "0.643109954309 \t\t 20 \t\t 2 \t\t 6\n"
     ]
    },
    {
     "name": "stdout",
     "output_type": "stream",
     "text": [
      "0.615418582979 \t\t 20 \t\t 2 \t\t 7\n"
     ]
    },
    {
     "name": "stdout",
     "output_type": "stream",
     "text": [
      "0.616444900841 \t\t 20 \t\t 2 \t\t 8\n"
     ]
    },
    {
     "name": "stdout",
     "output_type": "stream",
     "text": [
      "0.604701567871 \t\t 20 \t\t 2 \t\t 9\n"
     ]
    },
    {
     "name": "stdout",
     "output_type": "stream",
     "text": [
      "0.569228858024 \t\t 20 \t\t 2 \t\t 10\n"
     ]
    },
    {
     "name": "stdout",
     "output_type": "stream",
     "text": [
      "0.568520096771 \t\t 20 \t\t 2 \t\t 11\n"
     ]
    },
    {
     "name": "stdout",
     "output_type": "stream",
     "text": [
      "0.570539765769 \t\t 20 \t\t 2 \t\t 12\n"
     ]
    },
    {
     "name": "stdout",
     "output_type": "stream",
     "text": [
      "0.570081889908 \t\t 20 \t\t 2 \t\t 13\n"
     ]
    },
    {
     "name": "stdout",
     "output_type": "stream",
     "text": [
      "0.58063560469 \t\t 20 \t\t 2 \t\t 14\n"
     ]
    },
    {
     "name": "stdout",
     "output_type": "stream",
     "text": [
      "0.577687106388 \t\t 20 \t\t 2 \t\t 15\n"
     ]
    },
    {
     "name": "stdout",
     "output_type": "stream",
     "text": [
      "0.568463752653 \t\t 20 \t\t 2 \t\t 16\n"
     ]
    },
    {
     "name": "stdout",
     "output_type": "stream",
     "text": [
      "0.567574283164 \t\t 20 \t\t 2 \t\t 17\n"
     ]
    },
    {
     "name": "stdout",
     "output_type": "stream",
     "text": [
      "0.564400546215 \t\t 20 \t\t 2 \t\t 18\n"
     ]
    },
    {
     "name": "stdout",
     "output_type": "stream",
     "text": [
      "0.564815820244 \t\t 20 \t\t 2 \t\t 19\n"
     ]
    },
    {
     "name": "stdout",
     "output_type": "stream",
     "text": [
      "0.669584593658 \t\t 20 \t\t 3 \t\t 3\n"
     ]
    },
    {
     "name": "stdout",
     "output_type": "stream",
     "text": [
      "0.670106952883 \t\t 20 \t\t 3 \t\t 4\n"
     ]
    },
    {
     "name": "stdout",
     "output_type": "stream",
     "text": [
      "0.66956918321 \t\t 20 \t\t 3 \t\t 5\n"
     ]
    },
    {
     "name": "stdout",
     "output_type": "stream",
     "text": [
      "0.621109208225 \t\t 20 \t\t 3 \t\t 6\n"
     ]
    },
    {
     "name": "stdout",
     "output_type": "stream",
     "text": [
      "0.617417426531 \t\t 20 \t\t 3 \t\t 7\n"
     ]
    },
    {
     "name": "stdout",
     "output_type": "stream",
     "text": [
      "0.621722540184 \t\t 20 \t\t 3 \t\t 8\n"
     ]
    },
    {
     "name": "stdout",
     "output_type": "stream",
     "text": [
      "0.621280375065 \t\t 20 \t\t 3 \t\t 9\n"
     ]
    },
    {
     "name": "stdout",
     "output_type": "stream",
     "text": [
      "0.599319959007 \t\t 20 \t\t 3 \t\t 10\n"
     ]
    },
    {
     "name": "stdout",
     "output_type": "stream",
     "text": [
      "0.596202470123 \t\t 20 \t\t 3 \t\t 11\n"
     ]
    },
    {
     "name": "stdout",
     "output_type": "stream",
     "text": [
      "0.599737117973 \t\t 20 \t\t 3 \t\t 12\n"
     ]
    },
    {
     "name": "stdout",
     "output_type": "stream",
     "text": [
      "0.602452488791 \t\t 20 \t\t 3 \t\t 13\n"
     ]
    },
    {
     "name": "stdout",
     "output_type": "stream",
     "text": [
      "0.600005692738 \t\t 20 \t\t 3 \t\t 14\n"
     ]
    },
    {
     "name": "stdout",
     "output_type": "stream",
     "text": [
      "0.60362603578 \t\t 20 \t\t 3 \t\t 15\n"
     ]
    },
    {
     "name": "stdout",
     "output_type": "stream",
     "text": [
      "0.60336685005 \t\t 20 \t\t 3 \t\t 16\n"
     ]
    },
    {
     "name": "stdout",
     "output_type": "stream",
     "text": [
      "0.60335428529 \t\t 20 \t\t 3 \t\t 17\n"
     ]
    },
    {
     "name": "stdout",
     "output_type": "stream",
     "text": [
      "0.603350998715 \t\t 20 \t\t 3 \t\t 18\n"
     ]
    },
    {
     "name": "stdout",
     "output_type": "stream",
     "text": [
      "0.60335106291 \t\t 20 \t\t 3 \t\t 19\n"
     ]
    },
    {
     "name": "stdout",
     "output_type": "stream",
     "text": [
      "0.646880384136 \t\t 20 \t\t 4 \t\t 3\n"
     ]
    },
    {
     "name": "stdout",
     "output_type": "stream",
     "text": [
      "0.643437888149 \t\t 20 \t\t 4 \t\t 4\n"
     ]
    },
    {
     "name": "stdout",
     "output_type": "stream",
     "text": [
      "0.646428689823 \t\t 20 \t\t 4 \t\t 5\n"
     ]
    },
    {
     "name": "stdout",
     "output_type": "stream",
     "text": [
      "0.651830127888 \t\t 20 \t\t 4 \t\t 6\n"
     ]
    },
    {
     "name": "stdout",
     "output_type": "stream",
     "text": [
      "0.630098776163 \t\t 20 \t\t 4 \t\t 7\n"
     ]
    },
    {
     "name": "stdout",
     "output_type": "stream",
     "text": [
      "0.622829984982 \t\t 20 \t\t 4 \t\t 8\n"
     ]
    },
    {
     "name": "stdout",
     "output_type": "stream",
     "text": [
      "0.612910865294 \t\t 20 \t\t 4 \t\t 9\n"
     ]
    },
    {
     "name": "stdout",
     "output_type": "stream",
     "text": [
      "0.557778416674 \t\t 20 \t\t 4 \t\t 10\n"
     ]
    },
    {
     "name": "stdout",
     "output_type": "stream",
     "text": [
      "0.555077205142 \t\t 20 \t\t 4 \t\t 11\n"
     ]
    },
    {
     "name": "stdout",
     "output_type": "stream",
     "text": [
      "0.56424792511 \t\t 20 \t\t 4 \t\t 12\n"
     ]
    },
    {
     "name": "stdout",
     "output_type": "stream",
     "text": [
      "0.563767978345 \t\t 20 \t\t 4 \t\t 13\n"
     ]
    },
    {
     "name": "stdout",
     "output_type": "stream",
     "text": [
      "0.559173148259 \t\t 20 \t\t 4 \t\t 14\n"
     ]
    },
    {
     "name": "stdout",
     "output_type": "stream",
     "text": [
      "0.558478001271 \t\t 20 \t\t 4 \t\t 15\n"
     ]
    },
    {
     "name": "stdout",
     "output_type": "stream",
     "text": [
      "0.558120936717 \t\t 20 \t\t 4 \t\t 16\n"
     ]
    },
    {
     "name": "stdout",
     "output_type": "stream",
     "text": [
      "0.558097723656 \t\t 20 \t\t 4 \t\t 17\n"
     ]
    },
    {
     "name": "stdout",
     "output_type": "stream",
     "text": [
      "0.558094215533 \t\t 20 \t\t 4 \t\t 18\n"
     ]
    },
    {
     "name": "stdout",
     "output_type": "stream",
     "text": [
      "0.558095212462 \t\t 20 \t\t 4 \t\t 19\n"
     ]
    },
    {
     "name": "stdout",
     "output_type": "stream",
     "text": [
      "0.648274238091 \t\t 20 \t\t 5 \t\t 3\n"
     ]
    },
    {
     "name": "stdout",
     "output_type": "stream",
     "text": [
      "0.648212462419 \t\t 20 \t\t 5 \t\t 4\n"
     ]
    },
    {
     "name": "stdout",
     "output_type": "stream",
     "text": [
      "0.645743779532 \t\t 20 \t\t 5 \t\t 5\n"
     ]
    },
    {
     "name": "stdout",
     "output_type": "stream",
     "text": [
      "0.645929206422 \t\t 20 \t\t 5 \t\t 6\n"
     ]
    },
    {
     "name": "stdout",
     "output_type": "stream",
     "text": [
      "0.612673717967 \t\t 20 \t\t 5 \t\t 7\n"
     ]
    },
    {
     "name": "stdout",
     "output_type": "stream",
     "text": [
      "0.611091762514 \t\t 20 \t\t 5 \t\t 8\n"
     ]
    },
    {
     "name": "stdout",
     "output_type": "stream",
     "text": [
      "0.604517753077 \t\t 20 \t\t 5 \t\t 9\n"
     ]
    },
    {
     "name": "stdout",
     "output_type": "stream",
     "text": [
      "0.568925894747 \t\t 20 \t\t 5 \t\t 10\n"
     ]
    },
    {
     "name": "stdout",
     "output_type": "stream",
     "text": [
      "0.567002697437 \t\t 20 \t\t 5 \t\t 11\n"
     ]
    },
    {
     "name": "stdout",
     "output_type": "stream",
     "text": [
      "0.571687510138 \t\t 20 \t\t 5 \t\t 12\n"
     ]
    },
    {
     "name": "stdout",
     "output_type": "stream",
     "text": [
      "0.574027987592 \t\t 20 \t\t 5 \t\t 13\n"
     ]
    },
    {
     "name": "stdout",
     "output_type": "stream",
     "text": [
      "0.573436084997 \t\t 20 \t\t 5 \t\t 14\n"
     ]
    },
    {
     "name": "stdout",
     "output_type": "stream",
     "text": [
      "0.570746543868 \t\t 20 \t\t 5 \t\t 15\n"
     ]
    },
    {
     "name": "stdout",
     "output_type": "stream",
     "text": [
      "0.570631250471 \t\t 20 \t\t 5 \t\t 16\n"
     ]
    },
    {
     "name": "stdout",
     "output_type": "stream",
     "text": [
      "0.570623038107 \t\t 20 \t\t 5 \t\t 17\n"
     ]
    },
    {
     "name": "stdout",
     "output_type": "stream",
     "text": [
      "0.570616745101 \t\t 20 \t\t 5 \t\t 18\n"
     ]
    },
    {
     "name": "stdout",
     "output_type": "stream",
     "text": [
      "0.570616123042 \t\t 20 \t\t 5 \t\t 19\n"
     ]
    },
    {
     "name": "stdout",
     "output_type": "stream",
     "text": [
      "0.68259915843 \t\t 20 \t\t 6 \t\t 3\n"
     ]
    },
    {
     "name": "stdout",
     "output_type": "stream",
     "text": [
      "0.680599668268 \t\t 20 \t\t 6 \t\t 4\n"
     ]
    },
    {
     "name": "stdout",
     "output_type": "stream",
     "text": [
      "0.678955859283 \t\t 20 \t\t 6 \t\t 5\n"
     ]
    },
    {
     "name": "stdout",
     "output_type": "stream",
     "text": [
      "0.678955734969 \t\t 20 \t\t 6 \t\t 6\n"
     ]
    },
    {
     "name": "stdout",
     "output_type": "stream",
     "text": [
      "0.656713182819 \t\t 20 \t\t 6 \t\t 7\n"
     ]
    },
    {
     "name": "stdout",
     "output_type": "stream",
     "text": [
      "0.642255940878 \t\t 20 \t\t 6 \t\t 8\n"
     ]
    },
    {
     "name": "stdout",
     "output_type": "stream",
     "text": [
      "0.644285510613 \t\t 20 \t\t 6 \t\t 9\n"
     ]
    },
    {
     "name": "stdout",
     "output_type": "stream",
     "text": [
      "0.622304415415 \t\t 20 \t\t 6 \t\t 10\n"
     ]
    },
    {
     "name": "stdout",
     "output_type": "stream",
     "text": [
      "0.614714302126 \t\t 20 \t\t 6 \t\t 11\n"
     ]
    },
    {
     "name": "stdout",
     "output_type": "stream",
     "text": [
      "0.621029706673 \t\t 20 \t\t 6 \t\t 12\n"
     ]
    },
    {
     "name": "stdout",
     "output_type": "stream",
     "text": [
      "0.60377827575 \t\t 20 \t\t 6 \t\t 13\n"
     ]
    },
    {
     "name": "stdout",
     "output_type": "stream",
     "text": [
      "0.609351807761 \t\t 20 \t\t 6 \t\t 14\n"
     ]
    },
    {
     "name": "stdout",
     "output_type": "stream",
     "text": [
      "0.614483506717 \t\t 20 \t\t 6 \t\t 15\n"
     ]
    },
    {
     "name": "stdout",
     "output_type": "stream",
     "text": [
      "0.616485593164 \t\t 20 \t\t 6 \t\t 16\n"
     ]
    },
    {
     "name": "stdout",
     "output_type": "stream",
     "text": [
      "0.61622189021 \t\t 20 \t\t 6 \t\t 17\n"
     ]
    },
    {
     "name": "stdout",
     "output_type": "stream",
     "text": [
      "0.615088078872 \t\t 20 \t\t 6 \t\t 18\n"
     ]
    },
    {
     "name": "stdout",
     "output_type": "stream",
     "text": [
      "0.615096982996 \t\t 20 \t\t 6 \t\t 19\n"
     ]
    },
    {
     "name": "stdout",
     "output_type": "stream",
     "text": [
      "0.669687755219 \t\t 20 \t\t 7 \t\t 3\n"
     ]
    },
    {
     "name": "stdout",
     "output_type": "stream",
     "text": [
      "0.668776591284 \t\t 20 \t\t 7 \t\t 4\n"
     ]
    },
    {
     "name": "stdout",
     "output_type": "stream",
     "text": [
      "0.669075805949 \t\t 20 \t\t 7 \t\t 5\n"
     ]
    },
    {
     "name": "stdout",
     "output_type": "stream",
     "text": [
      "0.651462889887 \t\t 20 \t\t 7 \t\t 6\n"
     ]
    },
    {
     "name": "stdout",
     "output_type": "stream",
     "text": [
      "0.631252450022 \t\t 20 \t\t 7 \t\t 7\n"
     ]
    },
    {
     "name": "stdout",
     "output_type": "stream",
     "text": [
      "0.639714568781 \t\t 20 \t\t 7 \t\t 8\n"
     ]
    },
    {
     "name": "stdout",
     "output_type": "stream",
     "text": [
      "0.642551403069 \t\t 20 \t\t 7 \t\t 9\n"
     ]
    },
    {
     "name": "stdout",
     "output_type": "stream",
     "text": [
      "0.593582914859 \t\t 20 \t\t 7 \t\t 10\n"
     ]
    },
    {
     "name": "stdout",
     "output_type": "stream",
     "text": [
      "0.592147530676 \t\t 20 \t\t 7 \t\t 11\n"
     ]
    },
    {
     "name": "stdout",
     "output_type": "stream",
     "text": [
      "0.59383042805 \t\t 20 \t\t 7 \t\t 12\n"
     ]
    },
    {
     "name": "stdout",
     "output_type": "stream",
     "text": [
      "0.594331432986 \t\t 20 \t\t 7 \t\t 13\n"
     ]
    },
    {
     "name": "stdout",
     "output_type": "stream",
     "text": [
      "0.585975900964 \t\t 20 \t\t 7 \t\t 14\n"
     ]
    },
    {
     "name": "stdout",
     "output_type": "stream",
     "text": [
      "0.592184765389 \t\t 20 \t\t 7 \t\t 15\n"
     ]
    },
    {
     "name": "stdout",
     "output_type": "stream",
     "text": [
      "0.592073564069 \t\t 20 \t\t 7 \t\t 16\n"
     ]
    },
    {
     "name": "stdout",
     "output_type": "stream",
     "text": [
      "0.592091549745 \t\t 20 \t\t 7 \t\t 17\n"
     ]
    },
    {
     "name": "stdout",
     "output_type": "stream",
     "text": [
      "0.59208826569 \t\t 20 \t\t 7 \t\t 18\n"
     ]
    },
    {
     "name": "stdout",
     "output_type": "stream",
     "text": [
      "0.592088213871 \t\t 20 \t\t 7 \t\t 19\n"
     ]
    },
    {
     "name": "stdout",
     "output_type": "stream",
     "text": [
      "0.638234424872 \t\t 20 \t\t 8 \t\t 3\n"
     ]
    },
    {
     "name": "stdout",
     "output_type": "stream",
     "text": [
      "0.645062965465 \t\t 20 \t\t 8 \t\t 4\n"
     ]
    },
    {
     "name": "stdout",
     "output_type": "stream",
     "text": [
      "0.642149616593 \t\t 20 \t\t 8 \t\t 5\n"
     ]
    },
    {
     "name": "stdout",
     "output_type": "stream",
     "text": [
      "0.626223552004 \t\t 20 \t\t 8 \t\t 6\n"
     ]
    },
    {
     "name": "stdout",
     "output_type": "stream",
     "text": [
      "0.624566447781 \t\t 20 \t\t 8 \t\t 7\n"
     ]
    },
    {
     "name": "stdout",
     "output_type": "stream",
     "text": [
      "0.619797210479 \t\t 20 \t\t 8 \t\t 8\n"
     ]
    },
    {
     "name": "stdout",
     "output_type": "stream",
     "text": [
      "0.61982725502 \t\t 20 \t\t 8 \t\t 9\n"
     ]
    },
    {
     "name": "stdout",
     "output_type": "stream",
     "text": [
      "0.584345018711 \t\t 20 \t\t 8 \t\t 10\n"
     ]
    },
    {
     "name": "stdout",
     "output_type": "stream",
     "text": [
      "0.582621200372 \t\t 20 \t\t 8 \t\t 11\n"
     ]
    },
    {
     "name": "stdout",
     "output_type": "stream",
     "text": [
      "0.57874962998 \t\t 20 \t\t 8 \t\t 12\n"
     ]
    },
    {
     "name": "stdout",
     "output_type": "stream",
     "text": [
      "0.580203908209 \t\t 20 \t\t 8 \t\t 13\n"
     ]
    },
    {
     "name": "stdout",
     "output_type": "stream",
     "text": [
      "0.587253305602 \t\t 20 \t\t 8 \t\t 14\n"
     ]
    },
    {
     "name": "stdout",
     "output_type": "stream",
     "text": [
      "0.588052143343 \t\t 20 \t\t 8 \t\t 15\n"
     ]
    },
    {
     "name": "stdout",
     "output_type": "stream",
     "text": [
      "0.588040823986 \t\t 20 \t\t 8 \t\t 16\n"
     ]
    },
    {
     "name": "stdout",
     "output_type": "stream",
     "text": [
      "0.588040812575 \t\t 20 \t\t 8 \t\t 17\n"
     ]
    },
    {
     "name": "stdout",
     "output_type": "stream",
     "text": [
      "0.588041066002 \t\t 20 \t\t 8 \t\t 18\n"
     ]
    },
    {
     "name": "stdout",
     "output_type": "stream",
     "text": [
      "0.588041038448 \t\t 20 \t\t 8 \t\t 19\n"
     ]
    },
    {
     "name": "stdout",
     "output_type": "stream",
     "text": [
      "0.722992718253 \t\t 20 \t\t 9 \t\t 3\n"
     ]
    },
    {
     "name": "stdout",
     "output_type": "stream",
     "text": [
      "0.722018923353 \t\t 20 \t\t 9 \t\t 4\n"
     ]
    },
    {
     "name": "stdout",
     "output_type": "stream",
     "text": [
      "0.7224718381 \t\t 20 \t\t 9 \t\t 5\n"
     ]
    },
    {
     "name": "stdout",
     "output_type": "stream",
     "text": [
      "0.720839337611 \t\t 20 \t\t 9 \t\t 6\n"
     ]
    },
    {
     "name": "stdout",
     "output_type": "stream",
     "text": [
      "0.719621357004 \t\t 20 \t\t 9 \t\t 7\n"
     ]
    },
    {
     "name": "stdout",
     "output_type": "stream",
     "text": [
      "0.719227344034 \t\t 20 \t\t 9 \t\t 8\n"
     ]
    },
    {
     "name": "stdout",
     "output_type": "stream",
     "text": [
      "0.719192463855 \t\t 20 \t\t 9 \t\t 9\n"
     ]
    },
    {
     "name": "stdout",
     "output_type": "stream",
     "text": [
      "0.693633146568 \t\t 20 \t\t 9 \t\t 10\n"
     ]
    },
    {
     "name": "stdout",
     "output_type": "stream",
     "text": [
      "0.695057817432 \t\t 20 \t\t 9 \t\t 11\n"
     ]
    },
    {
     "name": "stdout",
     "output_type": "stream",
     "text": [
      "0.695131327677 \t\t 20 \t\t 9 \t\t 12\n"
     ]
    },
    {
     "name": "stdout",
     "output_type": "stream",
     "text": [
      "0.694248862163 \t\t 20 \t\t 9 \t\t 13\n"
     ]
    },
    {
     "name": "stdout",
     "output_type": "stream",
     "text": [
      "0.693176246671 \t\t 20 \t\t 9 \t\t 14\n"
     ]
    },
    {
     "name": "stdout",
     "output_type": "stream",
     "text": [
      "0.693226986642 \t\t 20 \t\t 9 \t\t 15\n"
     ]
    },
    {
     "name": "stdout",
     "output_type": "stream",
     "text": [
      "0.693225749117 \t\t 20 \t\t 9 \t\t 16\n"
     ]
    },
    {
     "name": "stdout",
     "output_type": "stream",
     "text": [
      "0.693223900138 \t\t 20 \t\t 9 \t\t 17\n"
     ]
    },
    {
     "name": "stdout",
     "output_type": "stream",
     "text": [
      "0.693223989293 \t\t 20 \t\t 9 \t\t 18\n"
     ]
    },
    {
     "name": "stdout",
     "output_type": "stream",
     "text": [
      "0.693224015731 \t\t 20 \t\t 9 \t\t 19\n"
     ]
    },
    {
     "name": "stdout",
     "output_type": "stream",
     "text": [
      "0.623298890359 \t\t 21 \t\t 1 \t\t 3\n"
     ]
    },
    {
     "name": "stdout",
     "output_type": "stream",
     "text": [
      "0.633898033711 \t\t 21 \t\t 1 \t\t 4\n"
     ]
    },
    {
     "name": "stdout",
     "output_type": "stream",
     "text": [
      "0.623663516504 \t\t 21 \t\t 1 \t\t 5\n"
     ]
    },
    {
     "name": "stdout",
     "output_type": "stream",
     "text": [
      "0.617286383268 \t\t 21 \t\t 1 \t\t 6\n"
     ]
    },
    {
     "name": "stdout",
     "output_type": "stream",
     "text": [
      "0.602885887143 \t\t 21 \t\t 1 \t\t 7\n"
     ]
    },
    {
     "name": "stdout",
     "output_type": "stream",
     "text": [
      "0.592621150631 \t\t 21 \t\t 1 \t\t 8\n"
     ]
    },
    {
     "name": "stdout",
     "output_type": "stream",
     "text": [
      "0.583169286365 \t\t 21 \t\t 1 \t\t 9\n"
     ]
    },
    {
     "name": "stdout",
     "output_type": "stream",
     "text": [
      "0.531723590231 \t\t 21 \t\t 1 \t\t 10\n"
     ]
    },
    {
     "name": "stdout",
     "output_type": "stream",
     "text": [
      "0.5307660672 \t\t 21 \t\t 1 \t\t 11\n"
     ]
    },
    {
     "name": "stdout",
     "output_type": "stream",
     "text": [
      "0.540124287063 \t\t 21 \t\t 1 \t\t 12\n"
     ]
    },
    {
     "name": "stdout",
     "output_type": "stream",
     "text": [
      "0.553817607328 \t\t 21 \t\t 1 \t\t 13\n"
     ]
    },
    {
     "name": "stdout",
     "output_type": "stream",
     "text": [
      "0.549860707245 \t\t 21 \t\t 1 \t\t 14\n"
     ]
    },
    {
     "name": "stdout",
     "output_type": "stream",
     "text": [
      "0.549595089814 \t\t 21 \t\t 1 \t\t 15\n"
     ]
    },
    {
     "name": "stdout",
     "output_type": "stream",
     "text": [
      "0.554324627066 \t\t 21 \t\t 1 \t\t 16\n"
     ]
    },
    {
     "name": "stdout",
     "output_type": "stream",
     "text": [
      "0.546597764318 \t\t 21 \t\t 1 \t\t 17\n"
     ]
    },
    {
     "name": "stdout",
     "output_type": "stream",
     "text": [
      "0.547222746213 \t\t 21 \t\t 1 \t\t 18\n"
     ]
    },
    {
     "name": "stdout",
     "output_type": "stream",
     "text": [
      "0.546686636131 \t\t 21 \t\t 1 \t\t 19\n"
     ]
    },
    {
     "name": "stdout",
     "output_type": "stream",
     "text": [
      "0.546701880268 \t\t 21 \t\t 1 \t\t 20\n"
     ]
    },
    {
     "name": "stdout",
     "output_type": "stream",
     "text": [
      "0.634192148754 \t\t 21 \t\t 2 \t\t 3\n"
     ]
    },
    {
     "name": "stdout",
     "output_type": "stream",
     "text": [
      "0.635713071568 \t\t 21 \t\t 2 \t\t 4\n"
     ]
    },
    {
     "name": "stdout",
     "output_type": "stream",
     "text": [
      "0.634296715578 \t\t 21 \t\t 2 \t\t 5\n"
     ]
    },
    {
     "name": "stdout",
     "output_type": "stream",
     "text": [
      "0.633836772947 \t\t 21 \t\t 2 \t\t 6\n"
     ]
    },
    {
     "name": "stdout",
     "output_type": "stream",
     "text": [
      "0.597275700082 \t\t 21 \t\t 2 \t\t 7\n"
     ]
    },
    {
     "name": "stdout",
     "output_type": "stream",
     "text": [
      "0.594117085061 \t\t 21 \t\t 2 \t\t 8\n"
     ]
    },
    {
     "name": "stdout",
     "output_type": "stream",
     "text": [
      "0.593502458707 \t\t 21 \t\t 2 \t\t 9\n"
     ]
    },
    {
     "name": "stdout",
     "output_type": "stream",
     "text": [
      "0.551796283463 \t\t 21 \t\t 2 \t\t 10\n"
     ]
    },
    {
     "name": "stdout",
     "output_type": "stream",
     "text": [
      "0.553940784548 \t\t 21 \t\t 2 \t\t 11\n"
     ]
    },
    {
     "name": "stdout",
     "output_type": "stream",
     "text": [
      "0.550049756856 \t\t 21 \t\t 2 \t\t 12\n"
     ]
    },
    {
     "name": "stdout",
     "output_type": "stream",
     "text": [
      "0.550038916873 \t\t 21 \t\t 2 \t\t 13\n"
     ]
    },
    {
     "name": "stdout",
     "output_type": "stream",
     "text": [
      "0.552776488706 \t\t 21 \t\t 2 \t\t 14\n"
     ]
    },
    {
     "name": "stdout",
     "output_type": "stream",
     "text": [
      "0.54867170007 \t\t 21 \t\t 2 \t\t 15\n"
     ]
    },
    {
     "name": "stdout",
     "output_type": "stream",
     "text": [
      "0.556738605341 \t\t 21 \t\t 2 \t\t 16\n"
     ]
    },
    {
     "name": "stdout",
     "output_type": "stream",
     "text": [
      "0.533610057404 \t\t 21 \t\t 2 \t\t 17\n"
     ]
    },
    {
     "name": "stdout",
     "output_type": "stream",
     "text": [
      "0.538358560923 \t\t 21 \t\t 2 \t\t 18\n"
     ]
    },
    {
     "name": "stdout",
     "output_type": "stream",
     "text": [
      "0.537203812828 \t\t 21 \t\t 2 \t\t 19\n"
     ]
    },
    {
     "name": "stdout",
     "output_type": "stream",
     "text": [
      "0.537201927551 \t\t 21 \t\t 2 \t\t 20\n"
     ]
    },
    {
     "name": "stdout",
     "output_type": "stream",
     "text": [
      "0.635147224698 \t\t 21 \t\t 3 \t\t 3\n"
     ]
    },
    {
     "name": "stdout",
     "output_type": "stream",
     "text": [
      "0.632586416363 \t\t 21 \t\t 3 \t\t 4\n"
     ]
    },
    {
     "name": "stdout",
     "output_type": "stream",
     "text": [
      "0.631658840844 \t\t 21 \t\t 3 \t\t 5\n"
     ]
    },
    {
     "name": "stdout",
     "output_type": "stream",
     "text": [
      "0.630247895266 \t\t 21 \t\t 3 \t\t 6\n"
     ]
    },
    {
     "name": "stdout",
     "output_type": "stream",
     "text": [
      "0.59362986462 \t\t 21 \t\t 3 \t\t 7\n"
     ]
    },
    {
     "name": "stdout",
     "output_type": "stream",
     "text": [
      "0.590502257094 \t\t 21 \t\t 3 \t\t 8\n"
     ]
    },
    {
     "name": "stdout",
     "output_type": "stream",
     "text": [
      "0.589914573947 \t\t 21 \t\t 3 \t\t 9\n"
     ]
    },
    {
     "name": "stdout",
     "output_type": "stream",
     "text": [
      "0.56033767963 \t\t 21 \t\t 3 \t\t 10\n"
     ]
    },
    {
     "name": "stdout",
     "output_type": "stream",
     "text": [
      "0.55980662204 \t\t 21 \t\t 3 \t\t 11\n"
     ]
    },
    {
     "name": "stdout",
     "output_type": "stream",
     "text": [
      "0.556082828811 \t\t 21 \t\t 3 \t\t 12\n"
     ]
    },
    {
     "name": "stdout",
     "output_type": "stream",
     "text": [
      "0.558617841994 \t\t 21 \t\t 3 \t\t 13\n"
     ]
    },
    {
     "name": "stdout",
     "output_type": "stream",
     "text": [
      "0.559961815163 \t\t 21 \t\t 3 \t\t 14\n"
     ]
    },
    {
     "name": "stdout",
     "output_type": "stream",
     "text": [
      "0.56008854895 \t\t 21 \t\t 3 \t\t 15\n"
     ]
    },
    {
     "name": "stdout",
     "output_type": "stream",
     "text": [
      "0.557777625763 \t\t 21 \t\t 3 \t\t 16\n"
     ]
    },
    {
     "name": "stdout",
     "output_type": "stream",
     "text": [
      "0.554012166268 \t\t 21 \t\t 3 \t\t 17\n"
     ]
    },
    {
     "name": "stdout",
     "output_type": "stream",
     "text": [
      "0.553934720757 \t\t 21 \t\t 3 \t\t 18\n"
     ]
    },
    {
     "name": "stdout",
     "output_type": "stream",
     "text": [
      "0.55369604564 \t\t 21 \t\t 3 \t\t 19\n"
     ]
    },
    {
     "name": "stdout",
     "output_type": "stream",
     "text": [
      "0.553719537917 \t\t 21 \t\t 3 \t\t 20\n"
     ]
    },
    {
     "name": "stdout",
     "output_type": "stream",
     "text": [
      "0.642616315775 \t\t 21 \t\t 4 \t\t 3\n"
     ]
    },
    {
     "name": "stdout",
     "output_type": "stream",
     "text": [
      "0.641993265898 \t\t 21 \t\t 4 \t\t 4\n"
     ]
    },
    {
     "name": "stdout",
     "output_type": "stream",
     "text": [
      "0.639530628525 \t\t 21 \t\t 4 \t\t 5\n"
     ]
    },
    {
     "name": "stdout",
     "output_type": "stream",
     "text": [
      "0.631540280159 \t\t 21 \t\t 4 \t\t 6\n"
     ]
    },
    {
     "name": "stdout",
     "output_type": "stream",
     "text": [
      "0.602008232558 \t\t 21 \t\t 4 \t\t 7\n"
     ]
    },
    {
     "name": "stdout",
     "output_type": "stream",
     "text": [
      "0.603704093781 \t\t 21 \t\t 4 \t\t 8\n"
     ]
    },
    {
     "name": "stdout",
     "output_type": "stream",
     "text": [
      "0.602579074939 \t\t 21 \t\t 4 \t\t 9\n"
     ]
    },
    {
     "name": "stdout",
     "output_type": "stream",
     "text": [
      "0.567371359451 \t\t 21 \t\t 4 \t\t 10\n"
     ]
    },
    {
     "name": "stdout",
     "output_type": "stream",
     "text": [
      "0.564865499621 \t\t 21 \t\t 4 \t\t 11\n"
     ]
    },
    {
     "name": "stdout",
     "output_type": "stream",
     "text": [
      "0.56332328445 \t\t 21 \t\t 4 \t\t 12\n"
     ]
    },
    {
     "name": "stdout",
     "output_type": "stream",
     "text": [
      "0.573008504548 \t\t 21 \t\t 4 \t\t 13\n"
     ]
    },
    {
     "name": "stdout",
     "output_type": "stream",
     "text": [
      "0.57285089086 \t\t 21 \t\t 4 \t\t 14\n"
     ]
    },
    {
     "name": "stdout",
     "output_type": "stream",
     "text": [
      "0.572914249164 \t\t 21 \t\t 4 \t\t 15\n"
     ]
    },
    {
     "name": "stdout",
     "output_type": "stream",
     "text": [
      "0.573678640263 \t\t 21 \t\t 4 \t\t 16\n"
     ]
    },
    {
     "name": "stdout",
     "output_type": "stream",
     "text": [
      "0.57364550305 \t\t 21 \t\t 4 \t\t 17\n"
     ]
    },
    {
     "name": "stdout",
     "output_type": "stream",
     "text": [
      "0.573644884703 \t\t 21 \t\t 4 \t\t 18\n"
     ]
    },
    {
     "name": "stdout",
     "output_type": "stream",
     "text": [
      "0.573644923808 \t\t 21 \t\t 4 \t\t 19\n"
     ]
    },
    {
     "name": "stdout",
     "output_type": "stream",
     "text": [
      "0.573644908809 \t\t 21 \t\t 4 \t\t 20\n"
     ]
    },
    {
     "name": "stdout",
     "output_type": "stream",
     "text": [
      "0.645337842593 \t\t 21 \t\t 5 \t\t 3\n"
     ]
    },
    {
     "name": "stdout",
     "output_type": "stream",
     "text": [
      "0.639660273621 \t\t 21 \t\t 5 \t\t 4\n"
     ]
    },
    {
     "name": "stdout",
     "output_type": "stream",
     "text": [
      "0.644025588109 \t\t 21 \t\t 5 \t\t 5\n"
     ]
    },
    {
     "name": "stdout",
     "output_type": "stream",
     "text": [
      "0.637965770757 \t\t 21 \t\t 5 \t\t 6\n"
     ]
    },
    {
     "name": "stdout",
     "output_type": "stream",
     "text": [
      "0.622703441825 \t\t 21 \t\t 5 \t\t 7\n"
     ]
    },
    {
     "name": "stdout",
     "output_type": "stream",
     "text": [
      "0.602461805268 \t\t 21 \t\t 5 \t\t 8\n"
     ]
    },
    {
     "name": "stdout",
     "output_type": "stream",
     "text": [
      "0.598232923625 \t\t 21 \t\t 5 \t\t 9\n"
     ]
    },
    {
     "name": "stdout",
     "output_type": "stream",
     "text": [
      "0.566856815698 \t\t 21 \t\t 5 \t\t 10\n"
     ]
    },
    {
     "name": "stdout",
     "output_type": "stream",
     "text": [
      "0.56609530033 \t\t 21 \t\t 5 \t\t 11\n"
     ]
    },
    {
     "name": "stdout",
     "output_type": "stream",
     "text": [
      "0.560986146536 \t\t 21 \t\t 5 \t\t 12\n"
     ]
    },
    {
     "name": "stdout",
     "output_type": "stream",
     "text": [
      "0.560838649828 \t\t 21 \t\t 5 \t\t 13\n"
     ]
    },
    {
     "name": "stdout",
     "output_type": "stream",
     "text": [
      "0.559763873821 \t\t 21 \t\t 5 \t\t 14\n"
     ]
    },
    {
     "name": "stdout",
     "output_type": "stream",
     "text": [
      "0.557191399838 \t\t 21 \t\t 5 \t\t 15\n"
     ]
    },
    {
     "name": "stdout",
     "output_type": "stream",
     "text": [
      "0.570667692726 \t\t 21 \t\t 5 \t\t 16\n"
     ]
    },
    {
     "name": "stdout",
     "output_type": "stream",
     "text": [
      "0.570637356211 \t\t 21 \t\t 5 \t\t 17\n"
     ]
    },
    {
     "name": "stdout",
     "output_type": "stream",
     "text": [
      "0.570637394816 \t\t 21 \t\t 5 \t\t 18\n"
     ]
    },
    {
     "name": "stdout",
     "output_type": "stream",
     "text": [
      "0.57063738731 \t\t 21 \t\t 5 \t\t 19\n"
     ]
    },
    {
     "name": "stdout",
     "output_type": "stream",
     "text": [
      "0.570637430448 \t\t 21 \t\t 5 \t\t 20\n"
     ]
    },
    {
     "name": "stdout",
     "output_type": "stream",
     "text": [
      "0.627086417575 \t\t 21 \t\t 6 \t\t 3\n"
     ]
    },
    {
     "name": "stdout",
     "output_type": "stream",
     "text": [
      "0.642641029842 \t\t 21 \t\t 6 \t\t 4\n"
     ]
    },
    {
     "name": "stdout",
     "output_type": "stream",
     "text": [
      "0.644942650311 \t\t 21 \t\t 6 \t\t 5\n"
     ]
    },
    {
     "name": "stdout",
     "output_type": "stream",
     "text": [
      "0.643881777135 \t\t 21 \t\t 6 \t\t 6\n"
     ]
    },
    {
     "name": "stdout",
     "output_type": "stream",
     "text": [
      "0.622222830894 \t\t 21 \t\t 6 \t\t 7\n"
     ]
    },
    {
     "name": "stdout",
     "output_type": "stream",
     "text": [
      "0.600507696861 \t\t 21 \t\t 6 \t\t 8\n"
     ]
    },
    {
     "name": "stdout",
     "output_type": "stream",
     "text": [
      "0.60026468688 \t\t 21 \t\t 6 \t\t 9\n"
     ]
    },
    {
     "name": "stdout",
     "output_type": "stream",
     "text": [
      "0.562981970517 \t\t 21 \t\t 6 \t\t 10\n"
     ]
    },
    {
     "name": "stdout",
     "output_type": "stream",
     "text": [
      "0.575233465393 \t\t 21 \t\t 6 \t\t 11\n"
     ]
    },
    {
     "name": "stdout",
     "output_type": "stream",
     "text": [
      "0.574052908293 \t\t 21 \t\t 6 \t\t 12\n"
     ]
    },
    {
     "name": "stdout",
     "output_type": "stream",
     "text": [
      "0.574490231468 \t\t 21 \t\t 6 \t\t 13\n"
     ]
    },
    {
     "name": "stdout",
     "output_type": "stream",
     "text": [
      "0.574043781598 \t\t 21 \t\t 6 \t\t 14\n"
     ]
    },
    {
     "name": "stdout",
     "output_type": "stream",
     "text": [
      "0.573298438288 \t\t 21 \t\t 6 \t\t 15\n"
     ]
    },
    {
     "name": "stdout",
     "output_type": "stream",
     "text": [
      "0.574143002519 \t\t 21 \t\t 6 \t\t 16\n"
     ]
    },
    {
     "name": "stdout",
     "output_type": "stream",
     "text": [
      "0.57412747193 \t\t 21 \t\t 6 \t\t 17\n"
     ]
    },
    {
     "name": "stdout",
     "output_type": "stream",
     "text": [
      "0.574128364892 \t\t 21 \t\t 6 \t\t 18\n"
     ]
    },
    {
     "name": "stdout",
     "output_type": "stream",
     "text": [
      "0.57412844435 \t\t 21 \t\t 6 \t\t 19\n"
     ]
    },
    {
     "name": "stdout",
     "output_type": "stream",
     "text": [
      "0.574128540392 \t\t 21 \t\t 6 \t\t 20\n"
     ]
    },
    {
     "name": "stdout",
     "output_type": "stream",
     "text": [
      "0.64627939131 \t\t 21 \t\t 7 \t\t 3\n"
     ]
    },
    {
     "name": "stdout",
     "output_type": "stream",
     "text": [
      "0.644536640303 \t\t 21 \t\t 7 \t\t 4\n"
     ]
    },
    {
     "name": "stdout",
     "output_type": "stream",
     "text": [
      "0.644054580608 \t\t 21 \t\t 7 \t\t 5\n"
     ]
    },
    {
     "name": "stdout",
     "output_type": "stream",
     "text": [
      "0.62670264356 \t\t 21 \t\t 7 \t\t 6\n"
     ]
    },
    {
     "name": "stdout",
     "output_type": "stream",
     "text": [
      "0.605774144605 \t\t 21 \t\t 7 \t\t 7\n"
     ]
    },
    {
     "name": "stdout",
     "output_type": "stream",
     "text": [
      "0.61025849707 \t\t 21 \t\t 7 \t\t 8\n"
     ]
    },
    {
     "name": "stdout",
     "output_type": "stream",
     "text": [
      "0.610792708434 \t\t 21 \t\t 7 \t\t 9\n"
     ]
    },
    {
     "name": "stdout",
     "output_type": "stream",
     "text": [
      "0.571187618178 \t\t 21 \t\t 7 \t\t 10\n"
     ]
    },
    {
     "name": "stdout",
     "output_type": "stream",
     "text": [
      "0.571279929082 \t\t 21 \t\t 7 \t\t 11\n"
     ]
    },
    {
     "name": "stdout",
     "output_type": "stream",
     "text": [
      "0.56979538786 \t\t 21 \t\t 7 \t\t 12\n"
     ]
    },
    {
     "name": "stdout",
     "output_type": "stream",
     "text": [
      "0.569885366273 \t\t 21 \t\t 7 \t\t 13\n"
     ]
    },
    {
     "name": "stdout",
     "output_type": "stream",
     "text": [
      "0.569448959901 \t\t 21 \t\t 7 \t\t 14\n"
     ]
    },
    {
     "name": "stdout",
     "output_type": "stream",
     "text": [
      "0.569705252103 \t\t 21 \t\t 7 \t\t 15\n"
     ]
    },
    {
     "name": "stdout",
     "output_type": "stream",
     "text": [
      "0.569093984503 \t\t 21 \t\t 7 \t\t 16\n"
     ]
    },
    {
     "name": "stdout",
     "output_type": "stream",
     "text": [
      "0.569078447808 \t\t 21 \t\t 7 \t\t 17\n"
     ]
    },
    {
     "name": "stdout",
     "output_type": "stream",
     "text": [
      "0.569078671721 \t\t 21 \t\t 7 \t\t 18\n"
     ]
    },
    {
     "name": "stdout",
     "output_type": "stream",
     "text": [
      "0.569078953947 \t\t 21 \t\t 7 \t\t 19\n"
     ]
    },
    {
     "name": "stdout",
     "output_type": "stream",
     "text": [
      "0.569078867227 \t\t 21 \t\t 7 \t\t 20\n"
     ]
    },
    {
     "name": "stdout",
     "output_type": "stream",
     "text": [
      "0.684542090418 \t\t 21 \t\t 8 \t\t 3\n"
     ]
    },
    {
     "name": "stdout",
     "output_type": "stream",
     "text": [
      "0.680237987722 \t\t 21 \t\t 8 \t\t 4\n"
     ]
    },
    {
     "name": "stdout",
     "output_type": "stream",
     "text": [
      "0.67079484204 \t\t 21 \t\t 8 \t\t 5\n"
     ]
    },
    {
     "name": "stdout",
     "output_type": "stream",
     "text": [
      "0.671423574279 \t\t 21 \t\t 8 \t\t 6\n"
     ]
    },
    {
     "name": "stdout",
     "output_type": "stream",
     "text": [
      "0.633043947705 \t\t 21 \t\t 8 \t\t 7\n"
     ]
    },
    {
     "name": "stdout",
     "output_type": "stream",
     "text": [
      "0.633226037617 \t\t 21 \t\t 8 \t\t 8\n"
     ]
    },
    {
     "name": "stdout",
     "output_type": "stream",
     "text": [
      "0.633308440436 \t\t 21 \t\t 8 \t\t 9\n"
     ]
    },
    {
     "name": "stdout",
     "output_type": "stream",
     "text": [
      "0.577386373492 \t\t 21 \t\t 8 \t\t 10\n"
     ]
    },
    {
     "name": "stdout",
     "output_type": "stream",
     "text": [
      "0.60804013065 \t\t 21 \t\t 8 \t\t 11\n"
     ]
    },
    {
     "name": "stdout",
     "output_type": "stream",
     "text": [
      "0.606650871541 \t\t 21 \t\t 8 \t\t 12\n"
     ]
    },
    {
     "name": "stdout",
     "output_type": "stream",
     "text": [
      "0.607052899705 \t\t 21 \t\t 8 \t\t 13\n"
     ]
    },
    {
     "name": "stdout",
     "output_type": "stream",
     "text": [
      "0.604910458292 \t\t 21 \t\t 8 \t\t 14\n"
     ]
    },
    {
     "name": "stdout",
     "output_type": "stream",
     "text": [
      "0.604863389509 \t\t 21 \t\t 8 \t\t 15\n"
     ]
    },
    {
     "name": "stdout",
     "output_type": "stream",
     "text": [
      "0.603406498522 \t\t 21 \t\t 8 \t\t 16\n"
     ]
    },
    {
     "name": "stdout",
     "output_type": "stream",
     "text": [
      "0.603410610531 \t\t 21 \t\t 8 \t\t 17\n"
     ]
    },
    {
     "name": "stdout",
     "output_type": "stream",
     "text": [
      "0.60341070582 \t\t 21 \t\t 8 \t\t 18\n"
     ]
    },
    {
     "name": "stdout",
     "output_type": "stream",
     "text": [
      "0.603414545246 \t\t 21 \t\t 8 \t\t 19\n"
     ]
    },
    {
     "name": "stdout",
     "output_type": "stream",
     "text": [
      "0.603414433189 \t\t 21 \t\t 8 \t\t 20\n"
     ]
    },
    {
     "name": "stdout",
     "output_type": "stream",
     "text": [
      "0.654005930698 \t\t 21 \t\t 9 \t\t 3\n"
     ]
    },
    {
     "name": "stdout",
     "output_type": "stream",
     "text": [
      "0.652409166476 \t\t 21 \t\t 9 \t\t 4\n"
     ]
    },
    {
     "name": "stdout",
     "output_type": "stream",
     "text": [
      "0.652641961923 \t\t 21 \t\t 9 \t\t 5\n"
     ]
    },
    {
     "name": "stdout",
     "output_type": "stream",
     "text": [
      "0.652843276889 \t\t 21 \t\t 9 \t\t 6\n"
     ]
    },
    {
     "name": "stdout",
     "output_type": "stream",
     "text": [
      "0.65318527051 \t\t 21 \t\t 9 \t\t 7\n"
     ]
    },
    {
     "name": "stdout",
     "output_type": "stream",
     "text": [
      "0.652767275487 \t\t 21 \t\t 9 \t\t 8\n"
     ]
    },
    {
     "name": "stdout",
     "output_type": "stream",
     "text": [
      "0.652847707359 \t\t 21 \t\t 9 \t\t 9\n"
     ]
    },
    {
     "name": "stdout",
     "output_type": "stream",
     "text": [
      "0.650797411934 \t\t 21 \t\t 9 \t\t 10\n"
     ]
    },
    {
     "name": "stdout",
     "output_type": "stream",
     "text": [
      "0.650706313462 \t\t 21 \t\t 9 \t\t 11\n"
     ]
    },
    {
     "name": "stdout",
     "output_type": "stream",
     "text": [
      "0.650724278411 \t\t 21 \t\t 9 \t\t 12\n"
     ]
    },
    {
     "name": "stdout",
     "output_type": "stream",
     "text": [
      "0.650544210985 \t\t 21 \t\t 9 \t\t 13\n"
     ]
    },
    {
     "name": "stdout",
     "output_type": "stream",
     "text": [
      "0.650533205125 \t\t 21 \t\t 9 \t\t 14\n"
     ]
    },
    {
     "name": "stdout",
     "output_type": "stream",
     "text": [
      "0.650538928097 \t\t 21 \t\t 9 \t\t 15\n"
     ]
    },
    {
     "name": "stdout",
     "output_type": "stream",
     "text": [
      "0.650541392505 \t\t 21 \t\t 9 \t\t 16\n"
     ]
    },
    {
     "name": "stdout",
     "output_type": "stream",
     "text": [
      "0.650541064132 \t\t 21 \t\t 9 \t\t 17\n"
     ]
    },
    {
     "name": "stdout",
     "output_type": "stream",
     "text": [
      "0.650541080822 \t\t 21 \t\t 9 \t\t 18\n"
     ]
    },
    {
     "name": "stdout",
     "output_type": "stream",
     "text": [
      "0.650541094882 \t\t 21 \t\t 9 \t\t 19\n"
     ]
    },
    {
     "name": "stdout",
     "output_type": "stream",
     "text": [
      "0.650541087454 \t\t 21 \t\t 9 \t\t 20\n"
     ]
    },
    {
     "name": "stdout",
     "output_type": "stream",
     "text": [
      "0.633115842004 \t\t 22 \t\t 1 \t\t 3\n"
     ]
    },
    {
     "name": "stdout",
     "output_type": "stream",
     "text": [
      "0.637457862186 \t\t 22 \t\t 1 \t\t 4\n"
     ]
    },
    {
     "name": "stdout",
     "output_type": "stream",
     "text": [
      "0.636845045474 \t\t 22 \t\t 1 \t\t 5\n"
     ]
    },
    {
     "name": "stdout",
     "output_type": "stream",
     "text": [
      "0.636621907344 \t\t 22 \t\t 1 \t\t 6\n"
     ]
    },
    {
     "name": "stdout",
     "output_type": "stream",
     "text": [
      "0.529110452393 \t\t 22 \t\t 1 \t\t 7\n"
     ]
    },
    {
     "name": "stdout",
     "output_type": "stream",
     "text": [
      "0.534835138934 \t\t 22 \t\t 1 \t\t 8\n"
     ]
    },
    {
     "name": "stdout",
     "output_type": "stream",
     "text": [
      "0.514563073818 \t\t 22 \t\t 1 \t\t 9\n"
     ]
    },
    {
     "name": "stdout",
     "output_type": "stream",
     "text": [
      "0.507054653149 \t\t 22 \t\t 1 \t\t 10\n"
     ]
    },
    {
     "name": "stdout",
     "output_type": "stream",
     "text": [
      "0.508143484151 \t\t 22 \t\t 1 \t\t 11\n"
     ]
    },
    {
     "name": "stdout",
     "output_type": "stream",
     "text": [
      "0.481986293293 \t\t 22 \t\t 1 \t\t 12\n"
     ]
    },
    {
     "name": "stdout",
     "output_type": "stream",
     "text": [
      "0.489925736014 \t\t 22 \t\t 1 \t\t 13\n"
     ]
    },
    {
     "name": "stdout",
     "output_type": "stream",
     "text": [
      "0.497022229999 \t\t 22 \t\t 1 \t\t 14\n"
     ]
    },
    {
     "name": "stdout",
     "output_type": "stream",
     "text": [
      "0.502618630928 \t\t 22 \t\t 1 \t\t 15\n"
     ]
    },
    {
     "name": "stdout",
     "output_type": "stream",
     "text": [
      "0.489578031658 \t\t 22 \t\t 1 \t\t 16\n"
     ]
    },
    {
     "name": "stdout",
     "output_type": "stream",
     "text": [
      "0.475637718932 \t\t 22 \t\t 1 \t\t 17\n"
     ]
    },
    {
     "name": "stdout",
     "output_type": "stream",
     "text": [
      "0.473029809928 \t\t 22 \t\t 1 \t\t 18\n"
     ]
    },
    {
     "name": "stdout",
     "output_type": "stream",
     "text": [
      "0.469577034493 \t\t 22 \t\t 1 \t\t 19\n"
     ]
    },
    {
     "name": "stdout",
     "output_type": "stream",
     "text": [
      "0.469669861201 \t\t 22 \t\t 1 \t\t 20\n"
     ]
    },
    {
     "name": "stdout",
     "output_type": "stream",
     "text": [
      "0.469648879004 \t\t 22 \t\t 1 \t\t 21\n"
     ]
    },
    {
     "name": "stdout",
     "output_type": "stream",
     "text": [
      "0.629907474547 \t\t 22 \t\t 2 \t\t 3\n"
     ]
    },
    {
     "name": "stdout",
     "output_type": "stream",
     "text": [
      "0.625864617493 \t\t 22 \t\t 2 \t\t 4\n"
     ]
    },
    {
     "name": "stdout",
     "output_type": "stream",
     "text": [
      "0.620293393191 \t\t 22 \t\t 2 \t\t 5\n"
     ]
    },
    {
     "name": "stdout",
     "output_type": "stream",
     "text": [
      "0.572712064911 \t\t 22 \t\t 2 \t\t 6\n"
     ]
    },
    {
     "name": "stdout",
     "output_type": "stream",
     "text": [
      "0.564009972119 \t\t 22 \t\t 2 \t\t 7\n"
     ]
    },
    {
     "name": "stdout",
     "output_type": "stream",
     "text": [
      "0.563895421438 \t\t 22 \t\t 2 \t\t 8\n"
     ]
    },
    {
     "name": "stdout",
     "output_type": "stream",
     "text": [
      "0.56358750736 \t\t 22 \t\t 2 \t\t 9\n"
     ]
    },
    {
     "name": "stdout",
     "output_type": "stream",
     "text": [
      "0.535882562954 \t\t 22 \t\t 2 \t\t 10\n"
     ]
    },
    {
     "name": "stdout",
     "output_type": "stream",
     "text": [
      "0.536653059523 \t\t 22 \t\t 2 \t\t 11\n"
     ]
    },
    {
     "name": "stdout",
     "output_type": "stream",
     "text": [
      "0.539163413015 \t\t 22 \t\t 2 \t\t 12\n"
     ]
    },
    {
     "name": "stdout",
     "output_type": "stream",
     "text": [
      "0.538908651247 \t\t 22 \t\t 2 \t\t 13\n"
     ]
    },
    {
     "name": "stdout",
     "output_type": "stream",
     "text": [
      "0.538281857843 \t\t 22 \t\t 2 \t\t 14\n"
     ]
    },
    {
     "name": "stdout",
     "output_type": "stream",
     "text": [
      "0.539518743385 \t\t 22 \t\t 2 \t\t 15\n"
     ]
    },
    {
     "name": "stdout",
     "output_type": "stream",
     "text": [
      "0.532645815245 \t\t 22 \t\t 2 \t\t 16\n"
     ]
    },
    {
     "name": "stdout",
     "output_type": "stream",
     "text": [
      "0.537264446435 \t\t 22 \t\t 2 \t\t 17\n"
     ]
    },
    {
     "name": "stdout",
     "output_type": "stream",
     "text": [
      "0.536945122602 \t\t 22 \t\t 2 \t\t 18\n"
     ]
    },
    {
     "name": "stdout",
     "output_type": "stream",
     "text": [
      "0.536974371111 \t\t 22 \t\t 2 \t\t 19\n"
     ]
    },
    {
     "name": "stdout",
     "output_type": "stream",
     "text": [
      "0.536969089901 \t\t 22 \t\t 2 \t\t 20\n"
     ]
    },
    {
     "name": "stdout",
     "output_type": "stream",
     "text": [
      "0.536968527584 \t\t 22 \t\t 2 \t\t 21\n"
     ]
    },
    {
     "name": "stdout",
     "output_type": "stream",
     "text": [
      "0.666304193009 \t\t 22 \t\t 3 \t\t 3\n"
     ]
    },
    {
     "name": "stdout",
     "output_type": "stream",
     "text": [
      "0.665277600715 \t\t 22 \t\t 3 \t\t 4\n"
     ]
    },
    {
     "name": "stdout",
     "output_type": "stream",
     "text": [
      "0.665909321422 \t\t 22 \t\t 3 \t\t 5\n"
     ]
    },
    {
     "name": "stdout",
     "output_type": "stream",
     "text": [
      "0.628748675711 \t\t 22 \t\t 3 \t\t 6\n"
     ]
    },
    {
     "name": "stdout",
     "output_type": "stream",
     "text": [
      "0.628738468757 \t\t 22 \t\t 3 \t\t 7\n"
     ]
    },
    {
     "name": "stdout",
     "output_type": "stream",
     "text": [
      "0.617592348595 \t\t 22 \t\t 3 \t\t 8\n"
     ]
    },
    {
     "name": "stdout",
     "output_type": "stream",
     "text": [
      "0.617471600762 \t\t 22 \t\t 3 \t\t 9\n"
     ]
    },
    {
     "name": "stdout",
     "output_type": "stream",
     "text": [
      "0.586374520918 \t\t 22 \t\t 3 \t\t 10\n"
     ]
    },
    {
     "name": "stdout",
     "output_type": "stream",
     "text": [
      "0.584546239204 \t\t 22 \t\t 3 \t\t 11\n"
     ]
    },
    {
     "name": "stdout",
     "output_type": "stream",
     "text": [
      "0.576935574874 \t\t 22 \t\t 3 \t\t 12\n"
     ]
    },
    {
     "name": "stdout",
     "output_type": "stream",
     "text": [
      "0.579173390923 \t\t 22 \t\t 3 \t\t 13\n"
     ]
    },
    {
     "name": "stdout",
     "output_type": "stream",
     "text": [
      "0.581101141672 \t\t 22 \t\t 3 \t\t 14\n"
     ]
    },
    {
     "name": "stdout",
     "output_type": "stream",
     "text": [
      "0.583535876102 \t\t 22 \t\t 3 \t\t 15\n"
     ]
    },
    {
     "name": "stdout",
     "output_type": "stream",
     "text": [
      "0.579606385168 \t\t 22 \t\t 3 \t\t 16\n"
     ]
    },
    {
     "name": "stdout",
     "output_type": "stream",
     "text": [
      "0.575947830907 \t\t 22 \t\t 3 \t\t 17\n"
     ]
    },
    {
     "name": "stdout",
     "output_type": "stream",
     "text": [
      "0.575731058694 \t\t 22 \t\t 3 \t\t 18\n"
     ]
    },
    {
     "name": "stdout",
     "output_type": "stream",
     "text": [
      "0.569670288873 \t\t 22 \t\t 3 \t\t 19\n"
     ]
    },
    {
     "name": "stdout",
     "output_type": "stream",
     "text": [
      "0.56839939374 \t\t 22 \t\t 3 \t\t 20\n"
     ]
    },
    {
     "name": "stdout",
     "output_type": "stream",
     "text": [
      "0.568326708978 \t\t 22 \t\t 3 \t\t 21\n"
     ]
    },
    {
     "name": "stdout",
     "output_type": "stream",
     "text": [
      "0.646273221059 \t\t 22 \t\t 4 \t\t 3\n"
     ]
    },
    {
     "name": "stdout",
     "output_type": "stream",
     "text": [
      "0.645631565415 \t\t 22 \t\t 4 \t\t 4\n"
     ]
    },
    {
     "name": "stdout",
     "output_type": "stream",
     "text": [
      "0.645434215404 \t\t 22 \t\t 4 \t\t 5\n"
     ]
    },
    {
     "name": "stdout",
     "output_type": "stream",
     "text": [
      "0.613097398151 \t\t 22 \t\t 4 \t\t 6\n"
     ]
    },
    {
     "name": "stdout",
     "output_type": "stream",
     "text": [
      "0.617784299406 \t\t 22 \t\t 4 \t\t 7\n"
     ]
    },
    {
     "name": "stdout",
     "output_type": "stream",
     "text": [
      "0.606883320567 \t\t 22 \t\t 4 \t\t 8\n"
     ]
    },
    {
     "name": "stdout",
     "output_type": "stream",
     "text": [
      "0.598152669368 \t\t 22 \t\t 4 \t\t 9\n"
     ]
    },
    {
     "name": "stdout",
     "output_type": "stream",
     "text": [
      "0.569630945925 \t\t 22 \t\t 4 \t\t 10\n"
     ]
    },
    {
     "name": "stdout",
     "output_type": "stream",
     "text": [
      "0.569847779716 \t\t 22 \t\t 4 \t\t 11\n"
     ]
    },
    {
     "name": "stdout",
     "output_type": "stream",
     "text": [
      "0.563748076111 \t\t 22 \t\t 4 \t\t 12\n"
     ]
    },
    {
     "name": "stdout",
     "output_type": "stream",
     "text": [
      "0.574756528066 \t\t 22 \t\t 4 \t\t 13\n"
     ]
    },
    {
     "name": "stdout",
     "output_type": "stream",
     "text": [
      "0.574756779993 \t\t 22 \t\t 4 \t\t 14\n"
     ]
    },
    {
     "name": "stdout",
     "output_type": "stream",
     "text": [
      "0.575112874345 \t\t 22 \t\t 4 \t\t 15\n"
     ]
    },
    {
     "name": "stdout",
     "output_type": "stream",
     "text": [
      "0.565127122708 \t\t 22 \t\t 4 \t\t 16\n"
     ]
    },
    {
     "name": "stdout",
     "output_type": "stream",
     "text": [
      "0.558990155032 \t\t 22 \t\t 4 \t\t 17\n"
     ]
    },
    {
     "name": "stdout",
     "output_type": "stream",
     "text": [
      "0.558761719896 \t\t 22 \t\t 4 \t\t 18\n"
     ]
    },
    {
     "name": "stdout",
     "output_type": "stream",
     "text": [
      "0.558761305022 \t\t 22 \t\t 4 \t\t 19\n"
     ]
    },
    {
     "name": "stdout",
     "output_type": "stream",
     "text": [
      "0.55875608072 \t\t 22 \t\t 4 \t\t 20\n"
     ]
    },
    {
     "name": "stdout",
     "output_type": "stream",
     "text": [
      "0.55875604846 \t\t 22 \t\t 4 \t\t 21\n"
     ]
    },
    {
     "name": "stdout",
     "output_type": "stream",
     "text": [
      "0.642051281343 \t\t 22 \t\t 5 \t\t 3\n"
     ]
    },
    {
     "name": "stdout",
     "output_type": "stream",
     "text": [
      "0.638070311816 \t\t 22 \t\t 5 \t\t 4\n"
     ]
    },
    {
     "name": "stdout",
     "output_type": "stream",
     "text": [
      "0.641671704843 \t\t 22 \t\t 5 \t\t 5\n"
     ]
    },
    {
     "name": "stdout",
     "output_type": "stream",
     "text": [
      "0.639560675392 \t\t 22 \t\t 5 \t\t 6\n"
     ]
    },
    {
     "name": "stdout",
     "output_type": "stream",
     "text": [
      "0.633655605602 \t\t 22 \t\t 5 \t\t 7\n"
     ]
    },
    {
     "name": "stdout",
     "output_type": "stream",
     "text": [
      "0.597279754763 \t\t 22 \t\t 5 \t\t 8\n"
     ]
    },
    {
     "name": "stdout",
     "output_type": "stream",
     "text": [
      "0.585171624633 \t\t 22 \t\t 5 \t\t 9\n"
     ]
    },
    {
     "name": "stdout",
     "output_type": "stream",
     "text": [
      "0.572719037764 \t\t 22 \t\t 5 \t\t 10\n"
     ]
    },
    {
     "name": "stdout",
     "output_type": "stream",
     "text": [
      "0.57313637791 \t\t 22 \t\t 5 \t\t 11\n"
     ]
    },
    {
     "name": "stdout",
     "output_type": "stream",
     "text": [
      "0.562098391095 \t\t 22 \t\t 5 \t\t 12\n"
     ]
    },
    {
     "name": "stdout",
     "output_type": "stream",
     "text": [
      "0.564084601996 \t\t 22 \t\t 5 \t\t 13\n"
     ]
    },
    {
     "name": "stdout",
     "output_type": "stream",
     "text": [
      "0.564951509781 \t\t 22 \t\t 5 \t\t 14\n"
     ]
    },
    {
     "name": "stdout",
     "output_type": "stream",
     "text": [
      "0.562700869834 \t\t 22 \t\t 5 \t\t 15\n"
     ]
    },
    {
     "name": "stdout",
     "output_type": "stream",
     "text": [
      "0.566990043368 \t\t 22 \t\t 5 \t\t 16\n"
     ]
    },
    {
     "name": "stdout",
     "output_type": "stream",
     "text": [
      "0.566715629162 \t\t 22 \t\t 5 \t\t 17\n"
     ]
    },
    {
     "name": "stdout",
     "output_type": "stream",
     "text": [
      "0.566685035138 \t\t 22 \t\t 5 \t\t 18\n"
     ]
    },
    {
     "name": "stdout",
     "output_type": "stream",
     "text": [
      "0.566684966305 \t\t 22 \t\t 5 \t\t 19\n"
     ]
    },
    {
     "name": "stdout",
     "output_type": "stream",
     "text": [
      "0.56668540631 \t\t 22 \t\t 5 \t\t 20\n"
     ]
    },
    {
     "name": "stdout",
     "output_type": "stream",
     "text": [
      "0.566685524062 \t\t 22 \t\t 5 \t\t 21\n"
     ]
    },
    {
     "name": "stdout",
     "output_type": "stream",
     "text": [
      "0.650207962177 \t\t 22 \t\t 6 \t\t 3\n"
     ]
    },
    {
     "name": "stdout",
     "output_type": "stream",
     "text": [
      "0.648762805608 \t\t 22 \t\t 6 \t\t 4\n"
     ]
    },
    {
     "name": "stdout",
     "output_type": "stream",
     "text": [
      "0.642478358447 \t\t 22 \t\t 6 \t\t 5\n"
     ]
    },
    {
     "name": "stdout",
     "output_type": "stream",
     "text": [
      "0.620024138962 \t\t 22 \t\t 6 \t\t 6\n"
     ]
    },
    {
     "name": "stdout",
     "output_type": "stream",
     "text": [
      "0.605672929316 \t\t 22 \t\t 6 \t\t 7\n"
     ]
    },
    {
     "name": "stdout",
     "output_type": "stream",
     "text": [
      "0.605402421761 \t\t 22 \t\t 6 \t\t 8\n"
     ]
    },
    {
     "name": "stdout",
     "output_type": "stream",
     "text": [
      "0.603111942482 \t\t 22 \t\t 6 \t\t 9\n"
     ]
    },
    {
     "name": "stdout",
     "output_type": "stream",
     "text": [
      "0.579606545853 \t\t 22 \t\t 6 \t\t 10\n"
     ]
    },
    {
     "name": "stdout",
     "output_type": "stream",
     "text": [
      "0.583222898099 \t\t 22 \t\t 6 \t\t 11\n"
     ]
    },
    {
     "name": "stdout",
     "output_type": "stream",
     "text": [
      "0.574139527473 \t\t 22 \t\t 6 \t\t 12\n"
     ]
    },
    {
     "name": "stdout",
     "output_type": "stream",
     "text": [
      "0.572360546147 \t\t 22 \t\t 6 \t\t 13\n"
     ]
    },
    {
     "name": "stdout",
     "output_type": "stream",
     "text": [
      "0.576642130084 \t\t 22 \t\t 6 \t\t 14\n"
     ]
    },
    {
     "name": "stdout",
     "output_type": "stream",
     "text": [
      "0.578494198428 \t\t 22 \t\t 6 \t\t 15\n"
     ]
    },
    {
     "name": "stdout",
     "output_type": "stream",
     "text": [
      "0.575494117893 \t\t 22 \t\t 6 \t\t 16\n"
     ]
    },
    {
     "name": "stdout",
     "output_type": "stream",
     "text": [
      "0.574953013032 \t\t 22 \t\t 6 \t\t 17\n"
     ]
    },
    {
     "name": "stdout",
     "output_type": "stream",
     "text": [
      "0.574868456619 \t\t 22 \t\t 6 \t\t 18\n"
     ]
    },
    {
     "name": "stdout",
     "output_type": "stream",
     "text": [
      "0.574869423102 \t\t 22 \t\t 6 \t\t 19\n"
     ]
    },
    {
     "name": "stdout",
     "output_type": "stream",
     "text": [
      "0.574867913255 \t\t 22 \t\t 6 \t\t 20\n"
     ]
    },
    {
     "name": "stdout",
     "output_type": "stream",
     "text": [
      "0.574867618199 \t\t 22 \t\t 6 \t\t 21\n"
     ]
    },
    {
     "name": "stdout",
     "output_type": "stream",
     "text": [
      "0.653962881128 \t\t 22 \t\t 7 \t\t 3\n"
     ]
    },
    {
     "name": "stdout",
     "output_type": "stream",
     "text": [
      "0.653742847507 \t\t 22 \t\t 7 \t\t 4\n"
     ]
    },
    {
     "name": "stdout",
     "output_type": "stream",
     "text": [
      "0.653451601666 \t\t 22 \t\t 7 \t\t 5\n"
     ]
    },
    {
     "name": "stdout",
     "output_type": "stream",
     "text": [
      "0.609941666333 \t\t 22 \t\t 7 \t\t 6\n"
     ]
    },
    {
     "name": "stdout",
     "output_type": "stream",
     "text": [
      "0.606780657009 \t\t 22 \t\t 7 \t\t 7\n"
     ]
    },
    {
     "name": "stdout",
     "output_type": "stream",
     "text": [
      "0.608010051617 \t\t 22 \t\t 7 \t\t 8\n"
     ]
    },
    {
     "name": "stdout",
     "output_type": "stream",
     "text": [
      "0.600294721108 \t\t 22 \t\t 7 \t\t 9\n"
     ]
    },
    {
     "name": "stdout",
     "output_type": "stream",
     "text": [
      "0.584090527515 \t\t 22 \t\t 7 \t\t 10\n"
     ]
    },
    {
     "name": "stdout",
     "output_type": "stream",
     "text": [
      "0.579160171696 \t\t 22 \t\t 7 \t\t 11\n"
     ]
    },
    {
     "name": "stdout",
     "output_type": "stream",
     "text": [
      "0.573733511419 \t\t 22 \t\t 7 \t\t 12\n"
     ]
    },
    {
     "name": "stdout",
     "output_type": "stream",
     "text": [
      "0.573444183463 \t\t 22 \t\t 7 \t\t 13\n"
     ]
    },
    {
     "name": "stdout",
     "output_type": "stream",
     "text": [
      "0.572477549822 \t\t 22 \t\t 7 \t\t 14\n"
     ]
    },
    {
     "name": "stdout",
     "output_type": "stream",
     "text": [
      "0.580848610935 \t\t 22 \t\t 7 \t\t 15\n"
     ]
    },
    {
     "name": "stdout",
     "output_type": "stream",
     "text": [
      "0.579931765071 \t\t 22 \t\t 7 \t\t 16\n"
     ]
    },
    {
     "name": "stdout",
     "output_type": "stream",
     "text": [
      "0.579472955339 \t\t 22 \t\t 7 \t\t 17\n"
     ]
    },
    {
     "name": "stdout",
     "output_type": "stream",
     "text": [
      "0.579463095395 \t\t 22 \t\t 7 \t\t 18\n"
     ]
    },
    {
     "name": "stdout",
     "output_type": "stream",
     "text": [
      "0.579462805368 \t\t 22 \t\t 7 \t\t 19\n"
     ]
    },
    {
     "name": "stdout",
     "output_type": "stream",
     "text": [
      "0.57946273557 \t\t 22 \t\t 7 \t\t 20\n"
     ]
    },
    {
     "name": "stdout",
     "output_type": "stream",
     "text": [
      "0.579462696967 \t\t 22 \t\t 7 \t\t 21\n"
     ]
    },
    {
     "name": "stdout",
     "output_type": "stream",
     "text": [
      "0.673559938951 \t\t 22 \t\t 8 \t\t 3\n"
     ]
    },
    {
     "name": "stdout",
     "output_type": "stream",
     "text": [
      "0.673663994907 \t\t 22 \t\t 8 \t\t 4\n"
     ]
    },
    {
     "name": "stdout",
     "output_type": "stream",
     "text": [
      "0.673643407589 \t\t 22 \t\t 8 \t\t 5\n"
     ]
    },
    {
     "name": "stdout",
     "output_type": "stream",
     "text": [
      "0.621972832184 \t\t 22 \t\t 8 \t\t 6\n"
     ]
    },
    {
     "name": "stdout",
     "output_type": "stream",
     "text": [
      "0.641550080143 \t\t 22 \t\t 8 \t\t 7\n"
     ]
    },
    {
     "name": "stdout",
     "output_type": "stream",
     "text": [
      "0.652620703754 \t\t 22 \t\t 8 \t\t 8\n"
     ]
    },
    {
     "name": "stdout",
     "output_type": "stream",
     "text": [
      "0.65414796773 \t\t 22 \t\t 8 \t\t 9\n"
     ]
    },
    {
     "name": "stdout",
     "output_type": "stream",
     "text": [
      "0.65249604804 \t\t 22 \t\t 8 \t\t 10\n"
     ]
    },
    {
     "name": "stdout",
     "output_type": "stream",
     "text": [
      "0.652617402644 \t\t 22 \t\t 8 \t\t 11\n"
     ]
    },
    {
     "name": "stdout",
     "output_type": "stream",
     "text": [
      "0.640114771437 \t\t 22 \t\t 8 \t\t 12\n"
     ]
    },
    {
     "name": "stdout",
     "output_type": "stream",
     "text": [
      "0.639057927852 \t\t 22 \t\t 8 \t\t 13\n"
     ]
    },
    {
     "name": "stdout",
     "output_type": "stream",
     "text": [
      "0.638859215075 \t\t 22 \t\t 8 \t\t 14\n"
     ]
    },
    {
     "name": "stdout",
     "output_type": "stream",
     "text": [
      "0.639535872294 \t\t 22 \t\t 8 \t\t 15\n"
     ]
    },
    {
     "name": "stdout",
     "output_type": "stream",
     "text": [
      "0.638938230651 \t\t 22 \t\t 8 \t\t 16\n"
     ]
    },
    {
     "name": "stdout",
     "output_type": "stream",
     "text": [
      "0.640615441131 \t\t 22 \t\t 8 \t\t 17\n"
     ]
    },
    {
     "name": "stdout",
     "output_type": "stream",
     "text": [
      "0.640612850076 \t\t 22 \t\t 8 \t\t 18\n"
     ]
    },
    {
     "name": "stdout",
     "output_type": "stream",
     "text": [
      "0.640614341541 \t\t 22 \t\t 8 \t\t 19\n"
     ]
    },
    {
     "name": "stdout",
     "output_type": "stream",
     "text": [
      "0.640614243488 \t\t 22 \t\t 8 \t\t 20\n"
     ]
    },
    {
     "name": "stdout",
     "output_type": "stream",
     "text": [
      "0.640614123076 \t\t 22 \t\t 8 \t\t 21\n"
     ]
    },
    {
     "name": "stdout",
     "output_type": "stream",
     "text": [
      "0.67963166294 \t\t 22 \t\t 9 \t\t 3\n"
     ]
    },
    {
     "name": "stdout",
     "output_type": "stream",
     "text": [
      "0.679631834917 \t\t 22 \t\t 9 \t\t 4\n"
     ]
    },
    {
     "name": "stdout",
     "output_type": "stream",
     "text": [
      "0.67959137516 \t\t 22 \t\t 9 \t\t 5\n"
     ]
    },
    {
     "name": "stdout",
     "output_type": "stream",
     "text": [
      "0.679591231836 \t\t 22 \t\t 9 \t\t 6\n"
     ]
    },
    {
     "name": "stdout",
     "output_type": "stream",
     "text": [
      "0.679594533597 \t\t 22 \t\t 9 \t\t 7\n"
     ]
    },
    {
     "name": "stdout",
     "output_type": "stream",
     "text": [
      "0.679533972295 \t\t 22 \t\t 9 \t\t 8\n"
     ]
    },
    {
     "name": "stdout",
     "output_type": "stream",
     "text": [
      "0.679508396323 \t\t 22 \t\t 9 \t\t 9\n"
     ]
    },
    {
     "name": "stdout",
     "output_type": "stream",
     "text": [
      "0.62069595992 \t\t 22 \t\t 9 \t\t 10\n"
     ]
    },
    {
     "name": "stdout",
     "output_type": "stream",
     "text": [
      "0.608957662182 \t\t 22 \t\t 9 \t\t 11\n"
     ]
    },
    {
     "name": "stdout",
     "output_type": "stream",
     "text": [
      "0.60073282751 \t\t 22 \t\t 9 \t\t 12\n"
     ]
    },
    {
     "name": "stdout",
     "output_type": "stream",
     "text": [
      "0.597576994137 \t\t 22 \t\t 9 \t\t 13\n"
     ]
    },
    {
     "name": "stdout",
     "output_type": "stream",
     "text": [
      "0.598491313256 \t\t 22 \t\t 9 \t\t 14\n"
     ]
    },
    {
     "name": "stdout",
     "output_type": "stream",
     "text": [
      "0.602003779167 \t\t 22 \t\t 9 \t\t 15\n"
     ]
    },
    {
     "name": "stdout",
     "output_type": "stream",
     "text": [
      "0.601953422079 \t\t 22 \t\t 9 \t\t 16\n"
     ]
    },
    {
     "name": "stdout",
     "output_type": "stream",
     "text": [
      "0.603014526332 \t\t 22 \t\t 9 \t\t 17\n"
     ]
    },
    {
     "name": "stdout",
     "output_type": "stream",
     "text": [
      "0.603006821111 \t\t 22 \t\t 9 \t\t 18\n"
     ]
    },
    {
     "name": "stderr",
     "output_type": "stream",
     "text": [
      "/Users/maxwelllee54/anaconda/lib/python3.5/site-packages/sklearn/linear_model/base.py:352: RuntimeWarning: overflow encountered in exp\n  np.exp(prob, prob)\n"
     ]
    },
    {
     "name": "stdout",
     "output_type": "stream",
     "text": [
      "0.603006933348 \t\t 22 \t\t 9 \t\t 19\n"
     ]
    },
    {
     "name": "stdout",
     "output_type": "stream",
     "text": [
      "0.603006981146 \t\t 22 \t\t 9 \t\t 20\n"
     ]
    },
    {
     "name": "stdout",
     "output_type": "stream",
     "text": [
      "0.603006608622 \t\t 22 \t\t 9 \t\t 21\n"
     ]
    },
    {
     "name": "stdout",
     "output_type": "stream",
     "text": [
      "0.58829266335 \t\t 23 \t\t 1 \t\t 3\n"
     ]
    },
    {
     "name": "stdout",
     "output_type": "stream",
     "text": [
      "0.58229883529 \t\t 23 \t\t 1 \t\t 4\n"
     ]
    },
    {
     "name": "stdout",
     "output_type": "stream",
     "text": [
      "0.581221316751 \t\t 23 \t\t 1 \t\t 5\n"
     ]
    },
    {
     "name": "stdout",
     "output_type": "stream",
     "text": [
      "0.572411597883 \t\t 23 \t\t 1 \t\t 6\n"
     ]
    },
    {
     "name": "stdout",
     "output_type": "stream",
     "text": [
      "0.531270360326 \t\t 23 \t\t 1 \t\t 7\n"
     ]
    },
    {
     "name": "stdout",
     "output_type": "stream",
     "text": [
      "0.517761220452 \t\t 23 \t\t 1 \t\t 8\n"
     ]
    },
    {
     "name": "stdout",
     "output_type": "stream",
     "text": [
      "0.522998219981 \t\t 23 \t\t 1 \t\t 9\n"
     ]
    },
    {
     "name": "stdout",
     "output_type": "stream",
     "text": [
      "0.49696027789 \t\t 23 \t\t 1 \t\t 10\n"
     ]
    },
    {
     "name": "stdout",
     "output_type": "stream",
     "text": [
      "0.494134603801 \t\t 23 \t\t 1 \t\t 11\n"
     ]
    },
    {
     "name": "stdout",
     "output_type": "stream",
     "text": [
      "0.493327348964 \t\t 23 \t\t 1 \t\t 12\n"
     ]
    },
    {
     "name": "stdout",
     "output_type": "stream",
     "text": [
      "0.468239228542 \t\t 23 \t\t 1 \t\t 13\n"
     ]
    },
    {
     "name": "stdout",
     "output_type": "stream",
     "text": [
      "0.475500907425 \t\t 23 \t\t 1 \t\t 14\n"
     ]
    },
    {
     "name": "stdout",
     "output_type": "stream",
     "text": [
      "0.475276648325 \t\t 23 \t\t 1 \t\t 15\n"
     ]
    },
    {
     "name": "stdout",
     "output_type": "stream",
     "text": [
      "0.47450024874 \t\t 23 \t\t 1 \t\t 16\n"
     ]
    },
    {
     "name": "stdout",
     "output_type": "stream",
     "text": [
      "0.469415129976 \t\t 23 \t\t 1 \t\t 17\n"
     ]
    },
    {
     "name": "stdout",
     "output_type": "stream",
     "text": [
      "0.46201798969 \t\t 23 \t\t 1 \t\t 18\n"
     ]
    },
    {
     "name": "stdout",
     "output_type": "stream",
     "text": [
      "0.430578471562 \t\t 23 \t\t 1 \t\t 19\n"
     ]
    },
    {
     "name": "stdout",
     "output_type": "stream",
     "text": [
      "0.432091541559 \t\t 23 \t\t 1 \t\t 20\n"
     ]
    },
    {
     "name": "stdout",
     "output_type": "stream",
     "text": [
      "0.436187995737 \t\t 23 \t\t 1 \t\t 21\n"
     ]
    },
    {
     "name": "stdout",
     "output_type": "stream",
     "text": [
      "0.43189843495 \t\t 23 \t\t 1 \t\t 22\n"
     ]
    },
    {
     "name": "stdout",
     "output_type": "stream",
     "text": [
      "0.648513884569 \t\t 23 \t\t 2 \t\t 3\n"
     ]
    },
    {
     "name": "stdout",
     "output_type": "stream",
     "text": [
      "0.646771777832 \t\t 23 \t\t 2 \t\t 4\n"
     ]
    },
    {
     "name": "stdout",
     "output_type": "stream",
     "text": [
      "0.647695492661 \t\t 23 \t\t 2 \t\t 5\n"
     ]
    },
    {
     "name": "stdout",
     "output_type": "stream",
     "text": [
      "0.64388088301 \t\t 23 \t\t 2 \t\t 6\n"
     ]
    },
    {
     "name": "stdout",
     "output_type": "stream",
     "text": [
      "0.617545470856 \t\t 23 \t\t 2 \t\t 7\n"
     ]
    },
    {
     "name": "stdout",
     "output_type": "stream",
     "text": [
      "0.60177072019 \t\t 23 \t\t 2 \t\t 8\n"
     ]
    },
    {
     "name": "stdout",
     "output_type": "stream",
     "text": [
      "0.601765361791 \t\t 23 \t\t 2 \t\t 9\n"
     ]
    },
    {
     "name": "stdout",
     "output_type": "stream",
     "text": [
      "0.586421690293 \t\t 23 \t\t 2 \t\t 10\n"
     ]
    },
    {
     "name": "stdout",
     "output_type": "stream",
     "text": [
      "0.586895708512 \t\t 23 \t\t 2 \t\t 11\n"
     ]
    },
    {
     "name": "stdout",
     "output_type": "stream",
     "text": [
      "0.585713692796 \t\t 23 \t\t 2 \t\t 12\n"
     ]
    },
    {
     "name": "stdout",
     "output_type": "stream",
     "text": [
      "0.578023827187 \t\t 23 \t\t 2 \t\t 13\n"
     ]
    },
    {
     "name": "stdout",
     "output_type": "stream",
     "text": [
      "0.578097620675 \t\t 23 \t\t 2 \t\t 14\n"
     ]
    },
    {
     "name": "stdout",
     "output_type": "stream",
     "text": [
      "0.577955291699 \t\t 23 \t\t 2 \t\t 15\n"
     ]
    },
    {
     "name": "stdout",
     "output_type": "stream",
     "text": [
      "0.575952459855 \t\t 23 \t\t 2 \t\t 16\n"
     ]
    },
    {
     "name": "stdout",
     "output_type": "stream",
     "text": [
      "0.573390642225 \t\t 23 \t\t 2 \t\t 17\n"
     ]
    },
    {
     "name": "stdout",
     "output_type": "stream",
     "text": [
      "0.570684148795 \t\t 23 \t\t 2 \t\t 18\n"
     ]
    },
    {
     "name": "stdout",
     "output_type": "stream",
     "text": [
      "0.569236524042 \t\t 23 \t\t 2 \t\t 19\n"
     ]
    },
    {
     "name": "stdout",
     "output_type": "stream",
     "text": [
      "0.56867849506 \t\t 23 \t\t 2 \t\t 20\n"
     ]
    },
    {
     "name": "stdout",
     "output_type": "stream",
     "text": [
      "0.568450201797 \t\t 23 \t\t 2 \t\t 21\n"
     ]
    },
    {
     "name": "stdout",
     "output_type": "stream",
     "text": [
      "0.568446772624 \t\t 23 \t\t 2 \t\t 22\n"
     ]
    },
    {
     "name": "stdout",
     "output_type": "stream",
     "text": [
      "0.649580458832 \t\t 23 \t\t 3 \t\t 3\n"
     ]
    },
    {
     "name": "stdout",
     "output_type": "stream",
     "text": [
      "0.648614196008 \t\t 23 \t\t 3 \t\t 4\n"
     ]
    },
    {
     "name": "stdout",
     "output_type": "stream",
     "text": [
      "0.64195387523 \t\t 23 \t\t 3 \t\t 5\n"
     ]
    },
    {
     "name": "stdout",
     "output_type": "stream",
     "text": [
      "0.644467910678 \t\t 23 \t\t 3 \t\t 6\n"
     ]
    },
    {
     "name": "stdout",
     "output_type": "stream",
     "text": [
      "0.628838006109 \t\t 23 \t\t 3 \t\t 7\n"
     ]
    },
    {
     "name": "stdout",
     "output_type": "stream",
     "text": [
      "0.614796971971 \t\t 23 \t\t 3 \t\t 8\n"
     ]
    },
    {
     "name": "stdout",
     "output_type": "stream",
     "text": [
      "0.616011391422 \t\t 23 \t\t 3 \t\t 9\n"
     ]
    },
    {
     "name": "stdout",
     "output_type": "stream",
     "text": [
      "0.587292135259 \t\t 23 \t\t 3 \t\t 10\n"
     ]
    },
    {
     "name": "stdout",
     "output_type": "stream",
     "text": [
      "0.58694438906 \t\t 23 \t\t 3 \t\t 11\n"
     ]
    },
    {
     "name": "stdout",
     "output_type": "stream",
     "text": [
      "0.584721207926 \t\t 23 \t\t 3 \t\t 12\n"
     ]
    },
    {
     "name": "stdout",
     "output_type": "stream",
     "text": [
      "0.579425155807 \t\t 23 \t\t 3 \t\t 13\n"
     ]
    },
    {
     "name": "stdout",
     "output_type": "stream",
     "text": [
      "0.579736747855 \t\t 23 \t\t 3 \t\t 14\n"
     ]
    },
    {
     "name": "stdout",
     "output_type": "stream",
     "text": [
      "0.583655798814 \t\t 23 \t\t 3 \t\t 15\n"
     ]
    },
    {
     "name": "stdout",
     "output_type": "stream",
     "text": [
      "0.582251448061 \t\t 23 \t\t 3 \t\t 16\n"
     ]
    },
    {
     "name": "stdout",
     "output_type": "stream",
     "text": [
      "0.575179636853 \t\t 23 \t\t 3 \t\t 17\n"
     ]
    },
    {
     "name": "stdout",
     "output_type": "stream",
     "text": [
      "0.574251678321 \t\t 23 \t\t 3 \t\t 18\n"
     ]
    },
    {
     "name": "stdout",
     "output_type": "stream",
     "text": [
      "0.57402975026 \t\t 23 \t\t 3 \t\t 19\n"
     ]
    },
    {
     "name": "stdout",
     "output_type": "stream",
     "text": [
      "0.574030156683 \t\t 23 \t\t 3 \t\t 20\n"
     ]
    },
    {
     "name": "stdout",
     "output_type": "stream",
     "text": [
      "0.574025482151 \t\t 23 \t\t 3 \t\t 21\n"
     ]
    },
    {
     "name": "stdout",
     "output_type": "stream",
     "text": [
      "0.574026136612 \t\t 23 \t\t 3 \t\t 22\n"
     ]
    },
    {
     "name": "stdout",
     "output_type": "stream",
     "text": [
      "0.647695633387 \t\t 23 \t\t 4 \t\t 3\n"
     ]
    },
    {
     "name": "stdout",
     "output_type": "stream",
     "text": [
      "0.645734236986 \t\t 23 \t\t 4 \t\t 4\n"
     ]
    },
    {
     "name": "stdout",
     "output_type": "stream",
     "text": [
      "0.643251557928 \t\t 23 \t\t 4 \t\t 5\n"
     ]
    },
    {
     "name": "stdout",
     "output_type": "stream",
     "text": [
      "0.642548371028 \t\t 23 \t\t 4 \t\t 6\n"
     ]
    },
    {
     "name": "stdout",
     "output_type": "stream",
     "text": [
      "0.614604358016 \t\t 23 \t\t 4 \t\t 7\n"
     ]
    },
    {
     "name": "stdout",
     "output_type": "stream",
     "text": [
      "0.60597100551 \t\t 23 \t\t 4 \t\t 8\n"
     ]
    },
    {
     "name": "stdout",
     "output_type": "stream",
     "text": [
      "0.60286966573 \t\t 23 \t\t 4 \t\t 9\n"
     ]
    },
    {
     "name": "stdout",
     "output_type": "stream",
     "text": [
      "0.571941262753 \t\t 23 \t\t 4 \t\t 10\n"
     ]
    },
    {
     "name": "stdout",
     "output_type": "stream",
     "text": [
      "0.573949819972 \t\t 23 \t\t 4 \t\t 11\n"
     ]
    },
    {
     "name": "stdout",
     "output_type": "stream",
     "text": [
      "0.576162577308 \t\t 23 \t\t 4 \t\t 12\n"
     ]
    },
    {
     "name": "stdout",
     "output_type": "stream",
     "text": [
      "0.568668969204 \t\t 23 \t\t 4 \t\t 13\n"
     ]
    },
    {
     "name": "stdout",
     "output_type": "stream",
     "text": [
      "0.570550527767 \t\t 23 \t\t 4 \t\t 14\n"
     ]
    },
    {
     "name": "stdout",
     "output_type": "stream",
     "text": [
      "0.571731060561 \t\t 23 \t\t 4 \t\t 15\n"
     ]
    },
    {
     "name": "stdout",
     "output_type": "stream",
     "text": [
      "0.571730527718 \t\t 23 \t\t 4 \t\t 16\n"
     ]
    },
    {
     "name": "stdout",
     "output_type": "stream",
     "text": [
      "0.57399087736 \t\t 23 \t\t 4 \t\t 17\n"
     ]
    },
    {
     "name": "stdout",
     "output_type": "stream",
     "text": [
      "0.573302573162 \t\t 23 \t\t 4 \t\t 18\n"
     ]
    },
    {
     "name": "stdout",
     "output_type": "stream",
     "text": [
      "0.573153756404 \t\t 23 \t\t 4 \t\t 19\n"
     ]
    },
    {
     "name": "stdout",
     "output_type": "stream",
     "text": [
      "0.573152562732 \t\t 23 \t\t 4 \t\t 20\n"
     ]
    },
    {
     "name": "stdout",
     "output_type": "stream",
     "text": [
      "0.573148175677 \t\t 23 \t\t 4 \t\t 21\n"
     ]
    },
    {
     "name": "stdout",
     "output_type": "stream",
     "text": [
      "0.573148482106 \t\t 23 \t\t 4 \t\t 22\n"
     ]
    },
    {
     "name": "stdout",
     "output_type": "stream",
     "text": [
      "0.653239152083 \t\t 23 \t\t 5 \t\t 3\n"
     ]
    },
    {
     "name": "stdout",
     "output_type": "stream",
     "text": [
      "0.657938544156 \t\t 23 \t\t 5 \t\t 4\n"
     ]
    },
    {
     "name": "stdout",
     "output_type": "stream",
     "text": [
      "0.657973042414 \t\t 23 \t\t 5 \t\t 5\n"
     ]
    },
    {
     "name": "stdout",
     "output_type": "stream",
     "text": [
      "0.657704821295 \t\t 23 \t\t 5 \t\t 6\n"
     ]
    },
    {
     "name": "stdout",
     "output_type": "stream",
     "text": [
      "0.641533900229 \t\t 23 \t\t 5 \t\t 7\n"
     ]
    },
    {
     "name": "stdout",
     "output_type": "stream",
     "text": [
      "0.618065531798 \t\t 23 \t\t 5 \t\t 8\n"
     ]
    },
    {
     "name": "stdout",
     "output_type": "stream",
     "text": [
      "0.610683718785 \t\t 23 \t\t 5 \t\t 9\n"
     ]
    },
    {
     "name": "stdout",
     "output_type": "stream",
     "text": [
      "0.56351633317 \t\t 23 \t\t 5 \t\t 10\n"
     ]
    },
    {
     "name": "stdout",
     "output_type": "stream",
     "text": [
      "0.582918022986 \t\t 23 \t\t 5 \t\t 11\n"
     ]
    },
    {
     "name": "stdout",
     "output_type": "stream",
     "text": [
      "0.585034408598 \t\t 23 \t\t 5 \t\t 12\n"
     ]
    },
    {
     "name": "stdout",
     "output_type": "stream",
     "text": [
      "0.577129023925 \t\t 23 \t\t 5 \t\t 13\n"
     ]
    },
    {
     "name": "stdout",
     "output_type": "stream",
     "text": [
      "0.577212049736 \t\t 23 \t\t 5 \t\t 14\n"
     ]
    },
    {
     "name": "stdout",
     "output_type": "stream",
     "text": [
      "0.577445390434 \t\t 23 \t\t 5 \t\t 15\n"
     ]
    },
    {
     "name": "stdout",
     "output_type": "stream",
     "text": [
      "0.57877050264 \t\t 23 \t\t 5 \t\t 16\n"
     ]
    },
    {
     "name": "stdout",
     "output_type": "stream",
     "text": [
      "0.577567178775 \t\t 23 \t\t 5 \t\t 17\n"
     ]
    },
    {
     "name": "stdout",
     "output_type": "stream",
     "text": [
      "0.57604694219 \t\t 23 \t\t 5 \t\t 18\n"
     ]
    },
    {
     "name": "stdout",
     "output_type": "stream",
     "text": [
      "0.576017037618 \t\t 23 \t\t 5 \t\t 19\n"
     ]
    },
    {
     "name": "stdout",
     "output_type": "stream",
     "text": [
      "0.576017007655 \t\t 23 \t\t 5 \t\t 20\n"
     ]
    },
    {
     "name": "stdout",
     "output_type": "stream",
     "text": [
      "0.57601730058 \t\t 23 \t\t 5 \t\t 21\n"
     ]
    },
    {
     "name": "stdout",
     "output_type": "stream",
     "text": [
      "0.576016499787 \t\t 23 \t\t 5 \t\t 22\n"
     ]
    },
    {
     "name": "stdout",
     "output_type": "stream",
     "text": [
      "0.640744024084 \t\t 23 \t\t 6 \t\t 3\n"
     ]
    },
    {
     "name": "stdout",
     "output_type": "stream",
     "text": [
      "0.640325766026 \t\t 23 \t\t 6 \t\t 4\n"
     ]
    },
    {
     "name": "stdout",
     "output_type": "stream",
     "text": [
      "0.640058374629 \t\t 23 \t\t 6 \t\t 5\n"
     ]
    },
    {
     "name": "stdout",
     "output_type": "stream",
     "text": [
      "0.62330634873 \t\t 23 \t\t 6 \t\t 6\n"
     ]
    },
    {
     "name": "stdout",
     "output_type": "stream",
     "text": [
      "0.624676014218 \t\t 23 \t\t 6 \t\t 7\n"
     ]
    },
    {
     "name": "stdout",
     "output_type": "stream",
     "text": [
      "0.619564084204 \t\t 23 \t\t 6 \t\t 8\n"
     ]
    },
    {
     "name": "stdout",
     "output_type": "stream",
     "text": [
      "0.617414812453 \t\t 23 \t\t 6 \t\t 9\n"
     ]
    },
    {
     "name": "stdout",
     "output_type": "stream",
     "text": [
      "0.58622042499 \t\t 23 \t\t 6 \t\t 10\n"
     ]
    },
    {
     "name": "stdout",
     "output_type": "stream",
     "text": [
      "0.591283600275 \t\t 23 \t\t 6 \t\t 11\n"
     ]
    },
    {
     "name": "stdout",
     "output_type": "stream",
     "text": [
      "0.581084609438 \t\t 23 \t\t 6 \t\t 12\n"
     ]
    },
    {
     "name": "stdout",
     "output_type": "stream",
     "text": [
      "0.577443031027 \t\t 23 \t\t 6 \t\t 13\n"
     ]
    },
    {
     "name": "stdout",
     "output_type": "stream",
     "text": [
      "0.587201098549 \t\t 23 \t\t 6 \t\t 14\n"
     ]
    },
    {
     "name": "stdout",
     "output_type": "stream",
     "text": [
      "0.587201658755 \t\t 23 \t\t 6 \t\t 15\n"
     ]
    },
    {
     "name": "stdout",
     "output_type": "stream",
     "text": [
      "0.586915804887 \t\t 23 \t\t 6 \t\t 16\n"
     ]
    },
    {
     "name": "stdout",
     "output_type": "stream",
     "text": [
      "0.585769430193 \t\t 23 \t\t 6 \t\t 17\n"
     ]
    },
    {
     "name": "stdout",
     "output_type": "stream",
     "text": [
      "0.584284477578 \t\t 23 \t\t 6 \t\t 18\n"
     ]
    },
    {
     "name": "stdout",
     "output_type": "stream",
     "text": [
      "0.584270188526 \t\t 23 \t\t 6 \t\t 19\n"
     ]
    },
    {
     "name": "stdout",
     "output_type": "stream",
     "text": [
      "0.584270684428 \t\t 23 \t\t 6 \t\t 20\n"
     ]
    },
    {
     "name": "stdout",
     "output_type": "stream",
     "text": [
      "0.584271017206 \t\t 23 \t\t 6 \t\t 21\n"
     ]
    },
    {
     "name": "stdout",
     "output_type": "stream",
     "text": [
      "0.584271020021 \t\t 23 \t\t 6 \t\t 22\n"
     ]
    },
    {
     "name": "stdout",
     "output_type": "stream",
     "text": [
      "0.642625261715 \t\t 23 \t\t 7 \t\t 3\n"
     ]
    },
    {
     "name": "stdout",
     "output_type": "stream",
     "text": [
      "0.640878125879 \t\t 23 \t\t 7 \t\t 4\n"
     ]
    },
    {
     "name": "stdout",
     "output_type": "stream",
     "text": [
      "0.640757798657 \t\t 23 \t\t 7 \t\t 5\n"
     ]
    },
    {
     "name": "stdout",
     "output_type": "stream",
     "text": [
      "0.629899871101 \t\t 23 \t\t 7 \t\t 6\n"
     ]
    },
    {
     "name": "stdout",
     "output_type": "stream",
     "text": [
      "0.618019970893 \t\t 23 \t\t 7 \t\t 7\n"
     ]
    },
    {
     "name": "stdout",
     "output_type": "stream",
     "text": [
      "0.606445692957 \t\t 23 \t\t 7 \t\t 8\n"
     ]
    },
    {
     "name": "stdout",
     "output_type": "stream",
     "text": [
      "0.602545262128 \t\t 23 \t\t 7 \t\t 9\n"
     ]
    },
    {
     "name": "stdout",
     "output_type": "stream",
     "text": [
      "0.577400282126 \t\t 23 \t\t 7 \t\t 10\n"
     ]
    },
    {
     "name": "stdout",
     "output_type": "stream",
     "text": [
      "0.578128155611 \t\t 23 \t\t 7 \t\t 11\n"
     ]
    },
    {
     "name": "stdout",
     "output_type": "stream",
     "text": [
      "0.572321602296 \t\t 23 \t\t 7 \t\t 12\n"
     ]
    },
    {
     "name": "stdout",
     "output_type": "stream",
     "text": [
      "0.573544549705 \t\t 23 \t\t 7 \t\t 13\n"
     ]
    },
    {
     "name": "stdout",
     "output_type": "stream",
     "text": [
      "0.573603940306 \t\t 23 \t\t 7 \t\t 14\n"
     ]
    },
    {
     "name": "stdout",
     "output_type": "stream",
     "text": [
      "0.57382641156 \t\t 23 \t\t 7 \t\t 15\n"
     ]
    },
    {
     "name": "stdout",
     "output_type": "stream",
     "text": [
      "0.573937432409 \t\t 23 \t\t 7 \t\t 16\n"
     ]
    },
    {
     "name": "stdout",
     "output_type": "stream",
     "text": [
      "0.573200897922 \t\t 23 \t\t 7 \t\t 17\n"
     ]
    },
    {
     "name": "stdout",
     "output_type": "stream",
     "text": [
      "0.572651902228 \t\t 23 \t\t 7 \t\t 18\n"
     ]
    },
    {
     "name": "stdout",
     "output_type": "stream",
     "text": [
      "0.572638718365 \t\t 23 \t\t 7 \t\t 19\n"
     ]
    },
    {
     "name": "stdout",
     "output_type": "stream",
     "text": [
      "0.572638276828 \t\t 23 \t\t 7 \t\t 20\n"
     ]
    },
    {
     "name": "stdout",
     "output_type": "stream",
     "text": [
      "0.572638103349 \t\t 23 \t\t 7 \t\t 21\n"
     ]
    },
    {
     "name": "stdout",
     "output_type": "stream",
     "text": [
      "0.572638126437 \t\t 23 \t\t 7 \t\t 22\n"
     ]
    },
    {
     "name": "stdout",
     "output_type": "stream",
     "text": [
      "0.639961561825 \t\t 23 \t\t 8 \t\t 3\n"
     ]
    },
    {
     "name": "stdout",
     "output_type": "stream",
     "text": [
      "0.639767778351 \t\t 23 \t\t 8 \t\t 4\n"
     ]
    },
    {
     "name": "stdout",
     "output_type": "stream",
     "text": [
      "0.639242548195 \t\t 23 \t\t 8 \t\t 5\n"
     ]
    },
    {
     "name": "stdout",
     "output_type": "stream",
     "text": [
      "0.617733047701 \t\t 23 \t\t 8 \t\t 6\n"
     ]
    },
    {
     "name": "stdout",
     "output_type": "stream",
     "text": [
      "0.616019247302 \t\t 23 \t\t 8 \t\t 7\n"
     ]
    },
    {
     "name": "stdout",
     "output_type": "stream",
     "text": [
      "0.608081616141 \t\t 23 \t\t 8 \t\t 8\n"
     ]
    },
    {
     "name": "stdout",
     "output_type": "stream",
     "text": [
      "0.599416144097 \t\t 23 \t\t 8 \t\t 9\n"
     ]
    },
    {
     "name": "stdout",
     "output_type": "stream",
     "text": [
      "0.575206407258 \t\t 23 \t\t 8 \t\t 10\n"
     ]
    },
    {
     "name": "stdout",
     "output_type": "stream",
     "text": [
      "0.584250951018 \t\t 23 \t\t 8 \t\t 11\n"
     ]
    },
    {
     "name": "stdout",
     "output_type": "stream",
     "text": [
      "0.58182199115 \t\t 23 \t\t 8 \t\t 12\n"
     ]
    },
    {
     "name": "stdout",
     "output_type": "stream",
     "text": [
      "0.570646292847 \t\t 23 \t\t 8 \t\t 13\n"
     ]
    },
    {
     "name": "stdout",
     "output_type": "stream",
     "text": [
      "0.578514365389 \t\t 23 \t\t 8 \t\t 14\n"
     ]
    },
    {
     "name": "stdout",
     "output_type": "stream",
     "text": [
      "0.57895011386 \t\t 23 \t\t 8 \t\t 15\n"
     ]
    },
    {
     "name": "stdout",
     "output_type": "stream",
     "text": [
      "0.578141348795 \t\t 23 \t\t 8 \t\t 16\n"
     ]
    },
    {
     "name": "stdout",
     "output_type": "stream",
     "text": [
      "0.576993102601 \t\t 23 \t\t 8 \t\t 17\n"
     ]
    },
    {
     "name": "stdout",
     "output_type": "stream",
     "text": [
      "0.577661182883 \t\t 23 \t\t 8 \t\t 18\n"
     ]
    },
    {
     "name": "stdout",
     "output_type": "stream",
     "text": [
      "0.577646971667 \t\t 23 \t\t 8 \t\t 19\n"
     ]
    },
    {
     "name": "stdout",
     "output_type": "stream",
     "text": [
      "0.577645711399 \t\t 23 \t\t 8 \t\t 20\n"
     ]
    },
    {
     "name": "stdout",
     "output_type": "stream",
     "text": [
      "0.577645708056 \t\t 23 \t\t 8 \t\t 21\n"
     ]
    },
    {
     "name": "stdout",
     "output_type": "stream",
     "text": [
      "0.577645742582 \t\t 23 \t\t 8 \t\t 22\n"
     ]
    },
    {
     "name": "stdout",
     "output_type": "stream",
     "text": [
      "0.742936895845 \t\t 23 \t\t 9 \t\t 3\n"
     ]
    },
    {
     "name": "stdout",
     "output_type": "stream",
     "text": [
      "0.73470342655 \t\t 23 \t\t 9 \t\t 4\n"
     ]
    },
    {
     "name": "stdout",
     "output_type": "stream",
     "text": [
      "0.734510604802 \t\t 23 \t\t 9 \t\t 5\n"
     ]
    },
    {
     "name": "stdout",
     "output_type": "stream",
     "text": [
      "0.734300622424 \t\t 23 \t\t 9 \t\t 6\n"
     ]
    },
    {
     "name": "stdout",
     "output_type": "stream",
     "text": [
      "0.734321536876 \t\t 23 \t\t 9 \t\t 7\n"
     ]
    },
    {
     "name": "stdout",
     "output_type": "stream",
     "text": [
      "0.733758950617 \t\t 23 \t\t 9 \t\t 8\n"
     ]
    },
    {
     "name": "stdout",
     "output_type": "stream",
     "text": [
      "0.733756034125 \t\t 23 \t\t 9 \t\t 9\n"
     ]
    },
    {
     "name": "stdout",
     "output_type": "stream",
     "text": [
      "0.673527526121 \t\t 23 \t\t 9 \t\t 10\n"
     ]
    },
    {
     "name": "stdout",
     "output_type": "stream",
     "text": [
      "0.668802763742 \t\t 23 \t\t 9 \t\t 11\n"
     ]
    },
    {
     "name": "stdout",
     "output_type": "stream",
     "text": [
      "0.668777831973 \t\t 23 \t\t 9 \t\t 12\n"
     ]
    },
    {
     "name": "stdout",
     "output_type": "stream",
     "text": [
      "0.733547382921 \t\t 23 \t\t 9 \t\t 13\n"
     ]
    },
    {
     "name": "stdout",
     "output_type": "stream",
     "text": [
      "0.733523421572 \t\t 23 \t\t 9 \t\t 14\n"
     ]
    },
    {
     "name": "stdout",
     "output_type": "stream",
     "text": [
      "0.73351244767 \t\t 23 \t\t 9 \t\t 15\n"
     ]
    },
    {
     "name": "stdout",
     "output_type": "stream",
     "text": [
      "0.733508812257 \t\t 23 \t\t 9 \t\t 16\n"
     ]
    },
    {
     "name": "stdout",
     "output_type": "stream",
     "text": [
      "0.73351690502 \t\t 23 \t\t 9 \t\t 17\n"
     ]
    },
    {
     "name": "stdout",
     "output_type": "stream",
     "text": [
      "0.733516271942 \t\t 23 \t\t 9 \t\t 18\n"
     ]
    },
    {
     "name": "stdout",
     "output_type": "stream",
     "text": [
      "0.733516289305 \t\t 23 \t\t 9 \t\t 19\n"
     ]
    },
    {
     "name": "stdout",
     "output_type": "stream",
     "text": [
      "0.733516282457 \t\t 23 \t\t 9 \t\t 20\n"
     ]
    },
    {
     "name": "stdout",
     "output_type": "stream",
     "text": [
      "0.73351628366 \t\t 23 \t\t 9 \t\t 21\n"
     ]
    },
    {
     "name": "stdout",
     "output_type": "stream",
     "text": [
      "0.733516283835 \t\t 23 \t\t 9 \t\t 22\n"
     ]
    },
    {
     "name": "stdout",
     "output_type": "stream",
     "text": [
      "0.634247735833 \t\t 24 \t\t 1 \t\t 3\n"
     ]
    },
    {
     "name": "stdout",
     "output_type": "stream",
     "text": [
      "0.633487136653 \t\t 24 \t\t 1 \t\t 4\n"
     ]
    },
    {
     "name": "stdout",
     "output_type": "stream",
     "text": [
      "0.632637445635 \t\t 24 \t\t 1 \t\t 5\n"
     ]
    },
    {
     "name": "stdout",
     "output_type": "stream",
     "text": [
      "0.635489736637 \t\t 24 \t\t 1 \t\t 6\n"
     ]
    },
    {
     "name": "stdout",
     "output_type": "stream",
     "text": [
      "0.623972638687 \t\t 24 \t\t 1 \t\t 7\n"
     ]
    },
    {
     "name": "stdout",
     "output_type": "stream",
     "text": [
      "0.622275435414 \t\t 24 \t\t 1 \t\t 8\n"
     ]
    },
    {
     "name": "stdout",
     "output_type": "stream",
     "text": [
      "0.622025655239 \t\t 24 \t\t 1 \t\t 9\n"
     ]
    },
    {
     "name": "stdout",
     "output_type": "stream",
     "text": [
      "0.592196983712 \t\t 24 \t\t 1 \t\t 10\n"
     ]
    },
    {
     "name": "stdout",
     "output_type": "stream",
     "text": [
      "0.591662058718 \t\t 24 \t\t 1 \t\t 11\n"
     ]
    },
    {
     "name": "stdout",
     "output_type": "stream",
     "text": [
      "0.594717716766 \t\t 24 \t\t 1 \t\t 12\n"
     ]
    },
    {
     "name": "stdout",
     "output_type": "stream",
     "text": [
      "0.591250787659 \t\t 24 \t\t 1 \t\t 13\n"
     ]
    },
    {
     "name": "stdout",
     "output_type": "stream",
     "text": [
      "0.620451028338 \t\t 24 \t\t 1 \t\t 14\n"
     ]
    },
    {
     "name": "stdout",
     "output_type": "stream",
     "text": [
      "0.621074312531 \t\t 24 \t\t 1 \t\t 15\n"
     ]
    },
    {
     "name": "stdout",
     "output_type": "stream",
     "text": [
      "0.598834311314 \t\t 24 \t\t 1 \t\t 16\n"
     ]
    },
    {
     "name": "stdout",
     "output_type": "stream",
     "text": [
      "0.598897817303 \t\t 24 \t\t 1 \t\t 17\n"
     ]
    },
    {
     "name": "stdout",
     "output_type": "stream",
     "text": [
      "0.598493523935 \t\t 24 \t\t 1 \t\t 18\n"
     ]
    },
    {
     "name": "stdout",
     "output_type": "stream",
     "text": [
      "0.603088212506 \t\t 24 \t\t 1 \t\t 19\n"
     ]
    },
    {
     "name": "stdout",
     "output_type": "stream",
     "text": [
      "0.608560161286 \t\t 24 \t\t 1 \t\t 20\n"
     ]
    },
    {
     "name": "stdout",
     "output_type": "stream",
     "text": [
      "0.612629992535 \t\t 24 \t\t 1 \t\t 21\n"
     ]
    },
    {
     "name": "stdout",
     "output_type": "stream",
     "text": [
      "0.611358490788 \t\t 24 \t\t 1 \t\t 22\n"
     ]
    },
    {
     "name": "stdout",
     "output_type": "stream",
     "text": [
      "0.611454480014 \t\t 24 \t\t 1 \t\t 23\n"
     ]
    },
    {
     "name": "stdout",
     "output_type": "stream",
     "text": [
      "0.62379226432 \t\t 24 \t\t 2 \t\t 3\n"
     ]
    },
    {
     "name": "stdout",
     "output_type": "stream",
     "text": [
      "0.616159054628 \t\t 24 \t\t 2 \t\t 4\n"
     ]
    },
    {
     "name": "stdout",
     "output_type": "stream",
     "text": [
      "0.609963789034 \t\t 24 \t\t 2 \t\t 5\n"
     ]
    },
    {
     "name": "stdout",
     "output_type": "stream",
     "text": [
      "0.604433436458 \t\t 24 \t\t 2 \t\t 6\n"
     ]
    },
    {
     "name": "stdout",
     "output_type": "stream",
     "text": [
      "0.590609548389 \t\t 24 \t\t 2 \t\t 7\n"
     ]
    },
    {
     "name": "stdout",
     "output_type": "stream",
     "text": [
      "0.578095245132 \t\t 24 \t\t 2 \t\t 8\n"
     ]
    },
    {
     "name": "stdout",
     "output_type": "stream",
     "text": [
      "0.57699837302 \t\t 24 \t\t 2 \t\t 9\n"
     ]
    },
    {
     "name": "stdout",
     "output_type": "stream",
     "text": [
      "0.53670391136 \t\t 24 \t\t 2 \t\t 10\n"
     ]
    },
    {
     "name": "stdout",
     "output_type": "stream",
     "text": [
      "0.535916300022 \t\t 24 \t\t 2 \t\t 11\n"
     ]
    },
    {
     "name": "stdout",
     "output_type": "stream",
     "text": [
      "0.537797384928 \t\t 24 \t\t 2 \t\t 12\n"
     ]
    },
    {
     "name": "stdout",
     "output_type": "stream",
     "text": [
      "0.537939583949 \t\t 24 \t\t 2 \t\t 13\n"
     ]
    },
    {
     "name": "stdout",
     "output_type": "stream",
     "text": [
      "0.536371254248 \t\t 24 \t\t 2 \t\t 14\n"
     ]
    },
    {
     "name": "stdout",
     "output_type": "stream",
     "text": [
      "0.539461951654 \t\t 24 \t\t 2 \t\t 15\n"
     ]
    },
    {
     "name": "stdout",
     "output_type": "stream",
     "text": [
      "0.538840977686 \t\t 24 \t\t 2 \t\t 16\n"
     ]
    },
    {
     "name": "stdout",
     "output_type": "stream",
     "text": [
      "0.538189518081 \t\t 24 \t\t 2 \t\t 17\n"
     ]
    },
    {
     "name": "stdout",
     "output_type": "stream",
     "text": [
      "0.527169102436 \t\t 24 \t\t 2 \t\t 18\n"
     ]
    },
    {
     "name": "stdout",
     "output_type": "stream",
     "text": [
      "0.528366510364 \t\t 24 \t\t 2 \t\t 19\n"
     ]
    },
    {
     "name": "stdout",
     "output_type": "stream",
     "text": [
      "0.528240690298 \t\t 24 \t\t 2 \t\t 20\n"
     ]
    },
    {
     "name": "stdout",
     "output_type": "stream",
     "text": [
      "0.528241878677 \t\t 24 \t\t 2 \t\t 21\n"
     ]
    },
    {
     "name": "stdout",
     "output_type": "stream",
     "text": [
      "0.528247663334 \t\t 24 \t\t 2 \t\t 22\n"
     ]
    },
    {
     "name": "stdout",
     "output_type": "stream",
     "text": [
      "0.528248802771 \t\t 24 \t\t 2 \t\t 23\n"
     ]
    },
    {
     "name": "stdout",
     "output_type": "stream",
     "text": [
      "0.654354920222 \t\t 24 \t\t 3 \t\t 3\n"
     ]
    },
    {
     "name": "stdout",
     "output_type": "stream",
     "text": [
      "0.654751105864 \t\t 24 \t\t 3 \t\t 4\n"
     ]
    },
    {
     "name": "stdout",
     "output_type": "stream",
     "text": [
      "0.665039865504 \t\t 24 \t\t 3 \t\t 5\n"
     ]
    },
    {
     "name": "stdout",
     "output_type": "stream",
     "text": [
      "0.65928262961 \t\t 24 \t\t 3 \t\t 6\n"
     ]
    },
    {
     "name": "stdout",
     "output_type": "stream",
     "text": [
      "0.652848002462 \t\t 24 \t\t 3 \t\t 7\n"
     ]
    },
    {
     "name": "stdout",
     "output_type": "stream",
     "text": [
      "0.628049768039 \t\t 24 \t\t 3 \t\t 8\n"
     ]
    },
    {
     "name": "stdout",
     "output_type": "stream",
     "text": [
      "0.622613696859 \t\t 24 \t\t 3 \t\t 9\n"
     ]
    },
    {
     "name": "stdout",
     "output_type": "stream",
     "text": [
      "0.566502421638 \t\t 24 \t\t 3 \t\t 10\n"
     ]
    },
    {
     "name": "stdout",
     "output_type": "stream",
     "text": [
      "0.575044276178 \t\t 24 \t\t 3 \t\t 11\n"
     ]
    },
    {
     "name": "stdout",
     "output_type": "stream",
     "text": [
      "0.577886770361 \t\t 24 \t\t 3 \t\t 12\n"
     ]
    },
    {
     "name": "stdout",
     "output_type": "stream",
     "text": [
      "0.58372893407 \t\t 24 \t\t 3 \t\t 13\n"
     ]
    },
    {
     "name": "stdout",
     "output_type": "stream",
     "text": [
      "0.575366465241 \t\t 24 \t\t 3 \t\t 14\n"
     ]
    },
    {
     "name": "stdout",
     "output_type": "stream",
     "text": [
      "0.575629965203 \t\t 24 \t\t 3 \t\t 15\n"
     ]
    },
    {
     "name": "stdout",
     "output_type": "stream",
     "text": [
      "0.574267390765 \t\t 24 \t\t 3 \t\t 16\n"
     ]
    },
    {
     "name": "stdout",
     "output_type": "stream",
     "text": [
      "0.573221992648 \t\t 24 \t\t 3 \t\t 17\n"
     ]
    },
    {
     "name": "stdout",
     "output_type": "stream",
     "text": [
      "0.568270798549 \t\t 24 \t\t 3 \t\t 18\n"
     ]
    },
    {
     "name": "stdout",
     "output_type": "stream",
     "text": [
      "0.56211879073 \t\t 24 \t\t 3 \t\t 19\n"
     ]
    },
    {
     "name": "stdout",
     "output_type": "stream",
     "text": [
      "0.562039078083 \t\t 24 \t\t 3 \t\t 20\n"
     ]
    },
    {
     "name": "stdout",
     "output_type": "stream",
     "text": [
      "0.563902679989 \t\t 24 \t\t 3 \t\t 21\n"
     ]
    },
    {
     "name": "stdout",
     "output_type": "stream",
     "text": [
      "0.561945814181 \t\t 24 \t\t 3 \t\t 22\n"
     ]
    },
    {
     "name": "stdout",
     "output_type": "stream",
     "text": [
      "0.562110098156 \t\t 24 \t\t 3 \t\t 23\n"
     ]
    },
    {
     "name": "stdout",
     "output_type": "stream",
     "text": [
      "0.637450784966 \t\t 24 \t\t 4 \t\t 3\n"
     ]
    },
    {
     "name": "stdout",
     "output_type": "stream",
     "text": [
      "0.650536105609 \t\t 24 \t\t 4 \t\t 4\n"
     ]
    },
    {
     "name": "stdout",
     "output_type": "stream",
     "text": [
      "0.649614097798 \t\t 24 \t\t 4 \t\t 5\n"
     ]
    },
    {
     "name": "stdout",
     "output_type": "stream",
     "text": [
      "0.632503388224 \t\t 24 \t\t 4 \t\t 6\n"
     ]
    },
    {
     "name": "stdout",
     "output_type": "stream",
     "text": [
      "0.618797992862 \t\t 24 \t\t 4 \t\t 7\n"
     ]
    },
    {
     "name": "stdout",
     "output_type": "stream",
     "text": [
      "0.620913302074 \t\t 24 \t\t 4 \t\t 8\n"
     ]
    },
    {
     "name": "stdout",
     "output_type": "stream",
     "text": [
      "0.622079611784 \t\t 24 \t\t 4 \t\t 9\n"
     ]
    },
    {
     "name": "stdout",
     "output_type": "stream",
     "text": [
      "0.581064671301 \t\t 24 \t\t 4 \t\t 10\n"
     ]
    },
    {
     "name": "stdout",
     "output_type": "stream",
     "text": [
      "0.58077769201 \t\t 24 \t\t 4 \t\t 11\n"
     ]
    },
    {
     "name": "stdout",
     "output_type": "stream",
     "text": [
      "0.580314576678 \t\t 24 \t\t 4 \t\t 12\n"
     ]
    },
    {
     "name": "stdout",
     "output_type": "stream",
     "text": [
      "0.582455611166 \t\t 24 \t\t 4 \t\t 13\n"
     ]
    },
    {
     "name": "stdout",
     "output_type": "stream",
     "text": [
      "0.56849053984 \t\t 24 \t\t 4 \t\t 14\n"
     ]
    },
    {
     "name": "stdout",
     "output_type": "stream",
     "text": [
      "0.571626904058 \t\t 24 \t\t 4 \t\t 15\n"
     ]
    },
    {
     "name": "stdout",
     "output_type": "stream",
     "text": [
      "0.572291282953 \t\t 24 \t\t 4 \t\t 16\n"
     ]
    },
    {
     "name": "stdout",
     "output_type": "stream",
     "text": [
      "0.572508003604 \t\t 24 \t\t 4 \t\t 17\n"
     ]
    },
    {
     "name": "stdout",
     "output_type": "stream",
     "text": [
      "0.570207387596 \t\t 24 \t\t 4 \t\t 18\n"
     ]
    },
    {
     "name": "stdout",
     "output_type": "stream",
     "text": [
      "0.566348153823 \t\t 24 \t\t 4 \t\t 19\n"
     ]
    },
    {
     "name": "stdout",
     "output_type": "stream",
     "text": [
      "0.566219772716 \t\t 24 \t\t 4 \t\t 20\n"
     ]
    },
    {
     "name": "stdout",
     "output_type": "stream",
     "text": [
      "0.566227590482 \t\t 24 \t\t 4 \t\t 21\n"
     ]
    },
    {
     "name": "stdout",
     "output_type": "stream",
     "text": [
      "0.56621995829 \t\t 24 \t\t 4 \t\t 22\n"
     ]
    },
    {
     "name": "stdout",
     "output_type": "stream",
     "text": [
      "0.566220364412 \t\t 24 \t\t 4 \t\t 23\n"
     ]
    },
    {
     "name": "stdout",
     "output_type": "stream",
     "text": [
      "0.647284911397 \t\t 24 \t\t 5 \t\t 3\n"
     ]
    },
    {
     "name": "stdout",
     "output_type": "stream",
     "text": [
      "0.647135244154 \t\t 24 \t\t 5 \t\t 4\n"
     ]
    },
    {
     "name": "stdout",
     "output_type": "stream",
     "text": [
      "0.649899157508 \t\t 24 \t\t 5 \t\t 5\n"
     ]
    },
    {
     "name": "stdout",
     "output_type": "stream",
     "text": [
      "0.648286346737 \t\t 24 \t\t 5 \t\t 6\n"
     ]
    },
    {
     "name": "stdout",
     "output_type": "stream",
     "text": [
      "0.626526201911 \t\t 24 \t\t 5 \t\t 7\n"
     ]
    },
    {
     "name": "stdout",
     "output_type": "stream",
     "text": [
      "0.621152776211 \t\t 24 \t\t 5 \t\t 8\n"
     ]
    },
    {
     "name": "stdout",
     "output_type": "stream",
     "text": [
      "0.617840637228 \t\t 24 \t\t 5 \t\t 9\n"
     ]
    },
    {
     "name": "stdout",
     "output_type": "stream",
     "text": [
      "0.588592542597 \t\t 24 \t\t 5 \t\t 10\n"
     ]
    },
    {
     "name": "stdout",
     "output_type": "stream",
     "text": [
      "0.588417979042 \t\t 24 \t\t 5 \t\t 11\n"
     ]
    },
    {
     "name": "stdout",
     "output_type": "stream",
     "text": [
      "0.605417367387 \t\t 24 \t\t 5 \t\t 12\n"
     ]
    },
    {
     "name": "stdout",
     "output_type": "stream",
     "text": [
      "0.599565867239 \t\t 24 \t\t 5 \t\t 13\n"
     ]
    },
    {
     "name": "stdout",
     "output_type": "stream",
     "text": [
      "0.598907328903 \t\t 24 \t\t 5 \t\t 14\n"
     ]
    },
    {
     "name": "stdout",
     "output_type": "stream",
     "text": [
      "0.599024325913 \t\t 24 \t\t 5 \t\t 15\n"
     ]
    },
    {
     "name": "stdout",
     "output_type": "stream",
     "text": [
      "0.599854385728 \t\t 24 \t\t 5 \t\t 16\n"
     ]
    },
    {
     "name": "stdout",
     "output_type": "stream",
     "text": [
      "0.598841333981 \t\t 24 \t\t 5 \t\t 17\n"
     ]
    },
    {
     "name": "stdout",
     "output_type": "stream",
     "text": [
      "0.597247227685 \t\t 24 \t\t 5 \t\t 18\n"
     ]
    },
    {
     "name": "stdout",
     "output_type": "stream",
     "text": [
      "0.597441795465 \t\t 24 \t\t 5 \t\t 19\n"
     ]
    },
    {
     "name": "stdout",
     "output_type": "stream",
     "text": [
      "0.599685189942 \t\t 24 \t\t 5 \t\t 20\n"
     ]
    },
    {
     "name": "stdout",
     "output_type": "stream",
     "text": [
      "0.599436927016 \t\t 24 \t\t 5 \t\t 21\n"
     ]
    },
    {
     "name": "stdout",
     "output_type": "stream",
     "text": [
      "0.596282426534 \t\t 24 \t\t 5 \t\t 22\n"
     ]
    },
    {
     "name": "stdout",
     "output_type": "stream",
     "text": [
      "0.596418485077 \t\t 24 \t\t 5 \t\t 23\n"
     ]
    },
    {
     "name": "stdout",
     "output_type": "stream",
     "text": [
      "0.639662322055 \t\t 24 \t\t 6 \t\t 3\n"
     ]
    },
    {
     "name": "stdout",
     "output_type": "stream",
     "text": [
      "0.637336992484 \t\t 24 \t\t 6 \t\t 4\n"
     ]
    },
    {
     "name": "stdout",
     "output_type": "stream",
     "text": [
      "0.636184762086 \t\t 24 \t\t 6 \t\t 5\n"
     ]
    },
    {
     "name": "stdout",
     "output_type": "stream",
     "text": [
      "0.630771457416 \t\t 24 \t\t 6 \t\t 6\n"
     ]
    },
    {
     "name": "stdout",
     "output_type": "stream",
     "text": [
      "0.600395748869 \t\t 24 \t\t 6 \t\t 7\n"
     ]
    },
    {
     "name": "stdout",
     "output_type": "stream",
     "text": [
      "0.600606164519 \t\t 24 \t\t 6 \t\t 8\n"
     ]
    },
    {
     "name": "stdout",
     "output_type": "stream",
     "text": [
      "0.596991806471 \t\t 24 \t\t 6 \t\t 9\n"
     ]
    },
    {
     "name": "stdout",
     "output_type": "stream",
     "text": [
      "0.561458581811 \t\t 24 \t\t 6 \t\t 10\n"
     ]
    },
    {
     "name": "stdout",
     "output_type": "stream",
     "text": [
      "0.561925181863 \t\t 24 \t\t 6 \t\t 11\n"
     ]
    },
    {
     "name": "stdout",
     "output_type": "stream",
     "text": [
      "0.571982713468 \t\t 24 \t\t 6 \t\t 12\n"
     ]
    },
    {
     "name": "stdout",
     "output_type": "stream",
     "text": [
      "0.566940851811 \t\t 24 \t\t 6 \t\t 13\n"
     ]
    },
    {
     "name": "stdout",
     "output_type": "stream",
     "text": [
      "0.566091004564 \t\t 24 \t\t 6 \t\t 14\n"
     ]
    },
    {
     "name": "stdout",
     "output_type": "stream",
     "text": [
      "0.567353809668 \t\t 24 \t\t 6 \t\t 15\n"
     ]
    },
    {
     "name": "stdout",
     "output_type": "stream",
     "text": [
      "0.567907475409 \t\t 24 \t\t 6 \t\t 16\n"
     ]
    },
    {
     "name": "stdout",
     "output_type": "stream",
     "text": [
      "0.567818089114 \t\t 24 \t\t 6 \t\t 17\n"
     ]
    },
    {
     "name": "stdout",
     "output_type": "stream",
     "text": [
      "0.568857166335 \t\t 24 \t\t 6 \t\t 18\n"
     ]
    },
    {
     "name": "stdout",
     "output_type": "stream",
     "text": [
      "0.567626603658 \t\t 24 \t\t 6 \t\t 19\n"
     ]
    },
    {
     "name": "stdout",
     "output_type": "stream",
     "text": [
      "0.567601491284 \t\t 24 \t\t 6 \t\t 20\n"
     ]
    },
    {
     "name": "stdout",
     "output_type": "stream",
     "text": [
      "0.567602248045 \t\t 24 \t\t 6 \t\t 21\n"
     ]
    },
    {
     "name": "stdout",
     "output_type": "stream",
     "text": [
      "0.567602204814 \t\t 24 \t\t 6 \t\t 22\n"
     ]
    },
    {
     "name": "stdout",
     "output_type": "stream",
     "text": [
      "0.567602247407 \t\t 24 \t\t 6 \t\t 23\n"
     ]
    },
    {
     "name": "stdout",
     "output_type": "stream",
     "text": [
      "0.642323273043 \t\t 24 \t\t 7 \t\t 3\n"
     ]
    },
    {
     "name": "stdout",
     "output_type": "stream",
     "text": [
      "0.644472580818 \t\t 24 \t\t 7 \t\t 4\n"
     ]
    },
    {
     "name": "stdout",
     "output_type": "stream",
     "text": [
      "0.644155373368 \t\t 24 \t\t 7 \t\t 5\n"
     ]
    },
    {
     "name": "stdout",
     "output_type": "stream",
     "text": [
      "0.626024393701 \t\t 24 \t\t 7 \t\t 6\n"
     ]
    },
    {
     "name": "stdout",
     "output_type": "stream",
     "text": [
      "0.616222529164 \t\t 24 \t\t 7 \t\t 7\n"
     ]
    },
    {
     "name": "stdout",
     "output_type": "stream",
     "text": [
      "0.590372213038 \t\t 24 \t\t 7 \t\t 8\n"
     ]
    },
    {
     "name": "stdout",
     "output_type": "stream",
     "text": [
      "0.599451635158 \t\t 24 \t\t 7 \t\t 9\n"
     ]
    },
    {
     "name": "stdout",
     "output_type": "stream",
     "text": [
      "0.579119198323 \t\t 24 \t\t 7 \t\t 10\n"
     ]
    },
    {
     "name": "stdout",
     "output_type": "stream",
     "text": [
      "0.582241286675 \t\t 24 \t\t 7 \t\t 11\n"
     ]
    },
    {
     "name": "stdout",
     "output_type": "stream",
     "text": [
      "0.587830940659 \t\t 24 \t\t 7 \t\t 12\n"
     ]
    },
    {
     "name": "stdout",
     "output_type": "stream",
     "text": [
      "0.588842052526 \t\t 24 \t\t 7 \t\t 13\n"
     ]
    },
    {
     "name": "stdout",
     "output_type": "stream",
     "text": [
      "0.593643428791 \t\t 24 \t\t 7 \t\t 14\n"
     ]
    },
    {
     "name": "stdout",
     "output_type": "stream",
     "text": [
      "0.595535976703 \t\t 24 \t\t 7 \t\t 15\n"
     ]
    },
    {
     "name": "stdout",
     "output_type": "stream",
     "text": [
      "0.595960787743 \t\t 24 \t\t 7 \t\t 16\n"
     ]
    },
    {
     "name": "stdout",
     "output_type": "stream",
     "text": [
      "0.595897596337 \t\t 24 \t\t 7 \t\t 17\n"
     ]
    },
    {
     "name": "stdout",
     "output_type": "stream",
     "text": [
      "0.595374997893 \t\t 24 \t\t 7 \t\t 18\n"
     ]
    },
    {
     "name": "stdout",
     "output_type": "stream",
     "text": [
      "0.595151672064 \t\t 24 \t\t 7 \t\t 19\n"
     ]
    },
    {
     "name": "stdout",
     "output_type": "stream",
     "text": [
      "0.595142401585 \t\t 24 \t\t 7 \t\t 20\n"
     ]
    },
    {
     "name": "stdout",
     "output_type": "stream",
     "text": [
      "0.595142908487 \t\t 24 \t\t 7 \t\t 21\n"
     ]
    },
    {
     "name": "stdout",
     "output_type": "stream",
     "text": [
      "0.595142924394 \t\t 24 \t\t 7 \t\t 22\n"
     ]
    },
    {
     "name": "stdout",
     "output_type": "stream",
     "text": [
      "0.595142926411 \t\t 24 \t\t 7 \t\t 23\n"
     ]
    },
    {
     "name": "stdout",
     "output_type": "stream",
     "text": [
      "0.748146808922 \t\t 24 \t\t 8 \t\t 3\n"
     ]
    },
    {
     "name": "stdout",
     "output_type": "stream",
     "text": [
      "0.748042526548 \t\t 24 \t\t 8 \t\t 4\n"
     ]
    },
    {
     "name": "stdout",
     "output_type": "stream",
     "text": [
      "0.74800207111 \t\t 24 \t\t 8 \t\t 5\n"
     ]
    },
    {
     "name": "stdout",
     "output_type": "stream",
     "text": [
      "0.747689995425 \t\t 24 \t\t 8 \t\t 6\n"
     ]
    },
    {
     "name": "stdout",
     "output_type": "stream",
     "text": [
      "0.738266258673 \t\t 24 \t\t 8 \t\t 7\n"
     ]
    },
    {
     "name": "stdout",
     "output_type": "stream",
     "text": [
      "0.714340665944 \t\t 24 \t\t 8 \t\t 8\n"
     ]
    },
    {
     "name": "stdout",
     "output_type": "stream",
     "text": [
      "0.720902694761 \t\t 24 \t\t 8 \t\t 9\n"
     ]
    },
    {
     "name": "stdout",
     "output_type": "stream",
     "text": [
      "0.693245783077 \t\t 24 \t\t 8 \t\t 10\n"
     ]
    },
    {
     "name": "stdout",
     "output_type": "stream",
     "text": [
      "0.684604798417 \t\t 24 \t\t 8 \t\t 11\n"
     ]
    },
    {
     "name": "stdout",
     "output_type": "stream",
     "text": [
      "0.677828885178 \t\t 24 \t\t 8 \t\t 12\n"
     ]
    },
    {
     "name": "stdout",
     "output_type": "stream",
     "text": [
      "0.672386797652 \t\t 24 \t\t 8 \t\t 13\n"
     ]
    },
    {
     "name": "stdout",
     "output_type": "stream",
     "text": [
      "0.670214429172 \t\t 24 \t\t 8 \t\t 14\n"
     ]
    },
    {
     "name": "stdout",
     "output_type": "stream",
     "text": [
      "0.673373927926 \t\t 24 \t\t 8 \t\t 15\n"
     ]
    },
    {
     "name": "stdout",
     "output_type": "stream",
     "text": [
      "0.674491571591 \t\t 24 \t\t 8 \t\t 16\n"
     ]
    },
    {
     "name": "stdout",
     "output_type": "stream",
     "text": [
      "0.68690792666 \t\t 24 \t\t 8 \t\t 17\n"
     ]
    },
    {
     "name": "stdout",
     "output_type": "stream",
     "text": [
      "0.672450839168 \t\t 24 \t\t 8 \t\t 18\n"
     ]
    },
    {
     "name": "stdout",
     "output_type": "stream",
     "text": [
      "0.663667880894 \t\t 24 \t\t 8 \t\t 19\n"
     ]
    },
    {
     "name": "stdout",
     "output_type": "stream",
     "text": [
      "0.663566914834 \t\t 24 \t\t 8 \t\t 20\n"
     ]
    },
    {
     "name": "stdout",
     "output_type": "stream",
     "text": [
      "0.663559858897 \t\t 24 \t\t 8 \t\t 21\n"
     ]
    },
    {
     "name": "stdout",
     "output_type": "stream",
     "text": [
      "0.663559493126 \t\t 24 \t\t 8 \t\t 22\n"
     ]
    },
    {
     "name": "stdout",
     "output_type": "stream",
     "text": [
      "0.663559795315 \t\t 24 \t\t 8 \t\t 23\n"
     ]
    },
    {
     "name": "stdout",
     "output_type": "stream",
     "text": [
      "0.718829452874 \t\t 24 \t\t 9 \t\t 3\n"
     ]
    },
    {
     "name": "stdout",
     "output_type": "stream",
     "text": [
      "0.718617510143 \t\t 24 \t\t 9 \t\t 4\n"
     ]
    },
    {
     "name": "stdout",
     "output_type": "stream",
     "text": [
      "0.718583491954 \t\t 24 \t\t 9 \t\t 5\n"
     ]
    },
    {
     "name": "stdout",
     "output_type": "stream",
     "text": [
      "0.718483642978 \t\t 24 \t\t 9 \t\t 6\n"
     ]
    },
    {
     "name": "stdout",
     "output_type": "stream",
     "text": [
      "0.718397896473 \t\t 24 \t\t 9 \t\t 7\n"
     ]
    },
    {
     "name": "stdout",
     "output_type": "stream",
     "text": [
      "0.718374558633 \t\t 24 \t\t 9 \t\t 8\n"
     ]
    },
    {
     "name": "stdout",
     "output_type": "stream",
     "text": [
      "0.717843874678 \t\t 24 \t\t 9 \t\t 9\n"
     ]
    },
    {
     "name": "stdout",
     "output_type": "stream",
     "text": [
      "0.717810229039 \t\t 24 \t\t 9 \t\t 10\n"
     ]
    },
    {
     "name": "stdout",
     "output_type": "stream",
     "text": [
      "0.717804122252 \t\t 24 \t\t 9 \t\t 11\n"
     ]
    },
    {
     "name": "stdout",
     "output_type": "stream",
     "text": [
      "0.717697633451 \t\t 24 \t\t 9 \t\t 12\n"
     ]
    },
    {
     "name": "stdout",
     "output_type": "stream",
     "text": [
      "0.717759909304 \t\t 24 \t\t 9 \t\t 13\n"
     ]
    },
    {
     "name": "stdout",
     "output_type": "stream",
     "text": [
      "0.717754570457 \t\t 24 \t\t 9 \t\t 14\n"
     ]
    },
    {
     "name": "stdout",
     "output_type": "stream",
     "text": [
      "0.717746477401 \t\t 24 \t\t 9 \t\t 15\n"
     ]
    },
    {
     "name": "stderr",
     "output_type": "stream",
     "text": [
      "/Users/maxwelllee54/anaconda/lib/python3.5/site-packages/sklearn/linear_model/base.py:352: RuntimeWarning: overflow encountered in exp\n  np.exp(prob, prob)\n"
     ]
    },
    {
     "name": "stdout",
     "output_type": "stream",
     "text": [
      "0.717740312496 \t\t 24 \t\t 9 \t\t 16\n"
     ]
    },
    {
     "name": "stderr",
     "output_type": "stream",
     "text": [
      "/Users/maxwelllee54/anaconda/lib/python3.5/site-packages/sklearn/linear_model/base.py:352: RuntimeWarning: overflow encountered in exp\n  np.exp(prob, prob)\n"
     ]
    },
    {
     "name": "stdout",
     "output_type": "stream",
     "text": [
      "0.717734389436 \t\t 24 \t\t 9 \t\t 17\n"
     ]
    },
    {
     "name": "stderr",
     "output_type": "stream",
     "text": [
      "/Users/maxwelllee54/anaconda/lib/python3.5/site-packages/sklearn/linear_model/base.py:352: RuntimeWarning: overflow encountered in exp\n  np.exp(prob, prob)\n"
     ]
    },
    {
     "name": "stdout",
     "output_type": "stream",
     "text": [
      "0.717734426246 \t\t 24 \t\t 9 \t\t 18\n"
     ]
    },
    {
     "name": "stderr",
     "output_type": "stream",
     "text": [
      "/Users/maxwelllee54/anaconda/lib/python3.5/site-packages/sklearn/linear_model/base.py:352: RuntimeWarning: overflow encountered in exp\n  np.exp(prob, prob)\n"
     ]
    },
    {
     "name": "stdout",
     "output_type": "stream",
     "text": [
      "0.717735027915 \t\t 24 \t\t 9 \t\t 19\n"
     ]
    },
    {
     "name": "stderr",
     "output_type": "stream",
     "text": [
      "/Users/maxwelllee54/anaconda/lib/python3.5/site-packages/sklearn/linear_model/base.py:352: RuntimeWarning: overflow encountered in exp\n  np.exp(prob, prob)\n"
     ]
    },
    {
     "name": "stdout",
     "output_type": "stream",
     "text": [
      "0.717735041584 \t\t 24 \t\t 9 \t\t 20\n"
     ]
    },
    {
     "name": "stderr",
     "output_type": "stream",
     "text": [
      "/Users/maxwelllee54/anaconda/lib/python3.5/site-packages/sklearn/linear_model/base.py:352: RuntimeWarning: overflow encountered in exp\n  np.exp(prob, prob)\n"
     ]
    },
    {
     "name": "stdout",
     "output_type": "stream",
     "text": [
      "0.717735039593 \t\t 24 \t\t 9 \t\t 21\n"
     ]
    },
    {
     "name": "stderr",
     "output_type": "stream",
     "text": [
      "/Users/maxwelllee54/anaconda/lib/python3.5/site-packages/sklearn/linear_model/base.py:352: RuntimeWarning: overflow encountered in exp\n  np.exp(prob, prob)\n"
     ]
    },
    {
     "name": "stdout",
     "output_type": "stream",
     "text": [
      "0.717735043896 \t\t 24 \t\t 9 \t\t 22\n"
     ]
    },
    {
     "name": "stderr",
     "output_type": "stream",
     "text": [
      "/Users/maxwelllee54/anaconda/lib/python3.5/site-packages/sklearn/linear_model/base.py:352: RuntimeWarning: overflow encountered in exp\n  np.exp(prob, prob)\n"
     ]
    },
    {
     "name": "stdout",
     "output_type": "stream",
     "text": [
      "0.71773504381 \t\t 24 \t\t 9 \t\t 23\n"
     ]
    },
    {
     "name": "stdout",
     "output_type": "stream",
     "text": [
      "0.661187358202 \t\t 25 \t\t 1 \t\t 3\n"
     ]
    },
    {
     "name": "stdout",
     "output_type": "stream",
     "text": [
      "0.660589170686 \t\t 25 \t\t 1 \t\t 4\n"
     ]
    },
    {
     "name": "stdout",
     "output_type": "stream",
     "text": [
      "0.66038489354 \t\t 25 \t\t 1 \t\t 5\n"
     ]
    },
    {
     "name": "stdout",
     "output_type": "stream",
     "text": [
      "0.631461860901 \t\t 25 \t\t 1 \t\t 6\n"
     ]
    },
    {
     "name": "stdout",
     "output_type": "stream",
     "text": [
      "0.636967533396 \t\t 25 \t\t 1 \t\t 7\n"
     ]
    },
    {
     "name": "stdout",
     "output_type": "stream",
     "text": [
      "0.625356559487 \t\t 25 \t\t 1 \t\t 8\n"
     ]
    },
    {
     "name": "stdout",
     "output_type": "stream",
     "text": [
      "0.624101761705 \t\t 25 \t\t 1 \t\t 9\n"
     ]
    },
    {
     "name": "stdout",
     "output_type": "stream",
     "text": [
      "0.5937567145 \t\t 25 \t\t 1 \t\t 10\n"
     ]
    },
    {
     "name": "stdout",
     "output_type": "stream",
     "text": [
      "0.594281292922 \t\t 25 \t\t 1 \t\t 11\n"
     ]
    },
    {
     "name": "stdout",
     "output_type": "stream",
     "text": [
      "0.598415846371 \t\t 25 \t\t 1 \t\t 12\n"
     ]
    },
    {
     "name": "stdout",
     "output_type": "stream",
     "text": [
      "0.591909382143 \t\t 25 \t\t 1 \t\t 13\n"
     ]
    },
    {
     "name": "stdout",
     "output_type": "stream",
     "text": [
      "0.595464517236 \t\t 25 \t\t 1 \t\t 14\n"
     ]
    },
    {
     "name": "stdout",
     "output_type": "stream",
     "text": [
      "0.584954204061 \t\t 25 \t\t 1 \t\t 15\n"
     ]
    },
    {
     "name": "stdout",
     "output_type": "stream",
     "text": [
      "0.591215470883 \t\t 25 \t\t 1 \t\t 16\n"
     ]
    },
    {
     "name": "stdout",
     "output_type": "stream",
     "text": [
      "0.586617590134 \t\t 25 \t\t 1 \t\t 17\n"
     ]
    },
    {
     "name": "stdout",
     "output_type": "stream",
     "text": [
      "0.573688482922 \t\t 25 \t\t 1 \t\t 18\n"
     ]
    },
    {
     "name": "stdout",
     "output_type": "stream",
     "text": [
      "0.580252339085 \t\t 25 \t\t 1 \t\t 19\n"
     ]
    },
    {
     "name": "stdout",
     "output_type": "stream",
     "text": [
      "0.581489358359 \t\t 25 \t\t 1 \t\t 20\n"
     ]
    },
    {
     "name": "stdout",
     "output_type": "stream",
     "text": [
      "0.581482874961 \t\t 25 \t\t 1 \t\t 21\n"
     ]
    },
    {
     "name": "stdout",
     "output_type": "stream",
     "text": [
      "0.581483593767 \t\t 25 \t\t 1 \t\t 22\n"
     ]
    },
    {
     "name": "stdout",
     "output_type": "stream",
     "text": [
      "0.581498070568 \t\t 25 \t\t 1 \t\t 23\n"
     ]
    },
    {
     "name": "stdout",
     "output_type": "stream",
     "text": [
      "0.581498032054 \t\t 25 \t\t 1 \t\t 24\n"
     ]
    },
    {
     "name": "stdout",
     "output_type": "stream",
     "text": [
      "0.651163394348 \t\t 25 \t\t 2 \t\t 3\n"
     ]
    },
    {
     "name": "stdout",
     "output_type": "stream",
     "text": [
      "0.656614427458 \t\t 25 \t\t 2 \t\t 4\n"
     ]
    },
    {
     "name": "stdout",
     "output_type": "stream",
     "text": [
      "0.65550152164 \t\t 25 \t\t 2 \t\t 5\n"
     ]
    },
    {
     "name": "stdout",
     "output_type": "stream",
     "text": [
      "0.607535292799 \t\t 25 \t\t 2 \t\t 6\n"
     ]
    },
    {
     "name": "stdout",
     "output_type": "stream",
     "text": [
      "0.60592067674 \t\t 25 \t\t 2 \t\t 7\n"
     ]
    },
    {
     "name": "stdout",
     "output_type": "stream",
     "text": [
      "0.59742957187 \t\t 25 \t\t 2 \t\t 8\n"
     ]
    },
    {
     "name": "stdout",
     "output_type": "stream",
     "text": [
      "0.584849086316 \t\t 25 \t\t 2 \t\t 9\n"
     ]
    },
    {
     "name": "stdout",
     "output_type": "stream",
     "text": [
      "0.568047429692 \t\t 25 \t\t 2 \t\t 10\n"
     ]
    },
    {
     "name": "stdout",
     "output_type": "stream",
     "text": [
      "0.569896120495 \t\t 25 \t\t 2 \t\t 11\n"
     ]
    },
    {
     "name": "stdout",
     "output_type": "stream",
     "text": [
      "0.569885079577 \t\t 25 \t\t 2 \t\t 12\n"
     ]
    },
    {
     "name": "stdout",
     "output_type": "stream",
     "text": [
      "0.568026035751 \t\t 25 \t\t 2 \t\t 13\n"
     ]
    },
    {
     "name": "stdout",
     "output_type": "stream",
     "text": [
      "0.572884788349 \t\t 25 \t\t 2 \t\t 14\n"
     ]
    },
    {
     "name": "stdout",
     "output_type": "stream",
     "text": [
      "0.57290019516 \t\t 25 \t\t 2 \t\t 15\n"
     ]
    },
    {
     "name": "stdout",
     "output_type": "stream",
     "text": [
      "0.581420984616 \t\t 25 \t\t 2 \t\t 16\n"
     ]
    },
    {
     "name": "stdout",
     "output_type": "stream",
     "text": [
      "0.602089532119 \t\t 25 \t\t 2 \t\t 17\n"
     ]
    },
    {
     "name": "stdout",
     "output_type": "stream",
     "text": [
      "0.583114408394 \t\t 25 \t\t 2 \t\t 18\n"
     ]
    },
    {
     "name": "stdout",
     "output_type": "stream",
     "text": [
      "0.584382369461 \t\t 25 \t\t 2 \t\t 19\n"
     ]
    },
    {
     "name": "stdout",
     "output_type": "stream",
     "text": [
      "0.587189028851 \t\t 25 \t\t 2 \t\t 20\n"
     ]
    },
    {
     "name": "stdout",
     "output_type": "stream",
     "text": [
      "0.587119329051 \t\t 25 \t\t 2 \t\t 21\n"
     ]
    },
    {
     "name": "stdout",
     "output_type": "stream",
     "text": [
      "0.587118294271 \t\t 25 \t\t 2 \t\t 22\n"
     ]
    },
    {
     "name": "stdout",
     "output_type": "stream",
     "text": [
      "0.587116676245 \t\t 25 \t\t 2 \t\t 23\n"
     ]
    },
    {
     "name": "stdout",
     "output_type": "stream",
     "text": [
      "0.587116260216 \t\t 25 \t\t 2 \t\t 24\n"
     ]
    },
    {
     "name": "stdout",
     "output_type": "stream",
     "text": [
      "0.648601284882 \t\t 25 \t\t 3 \t\t 3\n"
     ]
    },
    {
     "name": "stdout",
     "output_type": "stream",
     "text": [
      "0.649385287872 \t\t 25 \t\t 3 \t\t 4\n"
     ]
    },
    {
     "name": "stdout",
     "output_type": "stream",
     "text": [
      "0.649294726936 \t\t 25 \t\t 3 \t\t 5\n"
     ]
    },
    {
     "name": "stdout",
     "output_type": "stream",
     "text": [
      "0.616397284891 \t\t 25 \t\t 3 \t\t 6\n"
     ]
    },
    {
     "name": "stdout",
     "output_type": "stream",
     "text": [
      "0.608401901255 \t\t 25 \t\t 3 \t\t 7\n"
     ]
    },
    {
     "name": "stdout",
     "output_type": "stream",
     "text": [
      "0.600432944319 \t\t 25 \t\t 3 \t\t 8\n"
     ]
    },
    {
     "name": "stdout",
     "output_type": "stream",
     "text": [
      "0.603063121089 \t\t 25 \t\t 3 \t\t 9\n"
     ]
    },
    {
     "name": "stdout",
     "output_type": "stream",
     "text": [
      "0.564983096748 \t\t 25 \t\t 3 \t\t 10\n"
     ]
    },
    {
     "name": "stdout",
     "output_type": "stream",
     "text": [
      "0.566754632237 \t\t 25 \t\t 3 \t\t 11\n"
     ]
    },
    {
     "name": "stdout",
     "output_type": "stream",
     "text": [
      "0.576788788533 \t\t 25 \t\t 3 \t\t 12\n"
     ]
    },
    {
     "name": "stdout",
     "output_type": "stream",
     "text": [
      "0.580628478309 \t\t 25 \t\t 3 \t\t 13\n"
     ]
    },
    {
     "name": "stdout",
     "output_type": "stream",
     "text": [
      "0.579198290654 \t\t 25 \t\t 3 \t\t 14\n"
     ]
    },
    {
     "name": "stdout",
     "output_type": "stream",
     "text": [
      "0.57890824443 \t\t 25 \t\t 3 \t\t 15\n"
     ]
    },
    {
     "name": "stdout",
     "output_type": "stream",
     "text": [
      "0.588466275069 \t\t 25 \t\t 3 \t\t 16\n"
     ]
    },
    {
     "name": "stdout",
     "output_type": "stream",
     "text": [
      "0.58379821958 \t\t 25 \t\t 3 \t\t 17\n"
     ]
    },
    {
     "name": "stdout",
     "output_type": "stream",
     "text": [
      "0.582014220293 \t\t 25 \t\t 3 \t\t 18\n"
     ]
    },
    {
     "name": "stdout",
     "output_type": "stream",
     "text": [
      "0.563073137882 \t\t 25 \t\t 3 \t\t 19\n"
     ]
    },
    {
     "name": "stdout",
     "output_type": "stream",
     "text": [
      "0.563897926576 \t\t 25 \t\t 3 \t\t 20\n"
     ]
    },
    {
     "name": "stdout",
     "output_type": "stream",
     "text": [
      "0.563829073909 \t\t 25 \t\t 3 \t\t 21\n"
     ]
    },
    {
     "name": "stdout",
     "output_type": "stream",
     "text": [
      "0.563827723463 \t\t 25 \t\t 3 \t\t 22\n"
     ]
    },
    {
     "name": "stdout",
     "output_type": "stream",
     "text": [
      "0.563824186747 \t\t 25 \t\t 3 \t\t 23\n"
     ]
    },
    {
     "name": "stdout",
     "output_type": "stream",
     "text": [
      "0.563825503532 \t\t 25 \t\t 3 \t\t 24\n"
     ]
    },
    {
     "name": "stdout",
     "output_type": "stream",
     "text": [
      "0.676848311363 \t\t 25 \t\t 4 \t\t 3\n"
     ]
    },
    {
     "name": "stdout",
     "output_type": "stream",
     "text": [
      "0.674360525063 \t\t 25 \t\t 4 \t\t 4\n"
     ]
    },
    {
     "name": "stdout",
     "output_type": "stream",
     "text": [
      "0.667869271 \t\t 25 \t\t 4 \t\t 5\n"
     ]
    },
    {
     "name": "stdout",
     "output_type": "stream",
     "text": [
      "0.642109375713 \t\t 25 \t\t 4 \t\t 6\n"
     ]
    },
    {
     "name": "stdout",
     "output_type": "stream",
     "text": [
      "0.63815814503 \t\t 25 \t\t 4 \t\t 7\n"
     ]
    },
    {
     "name": "stdout",
     "output_type": "stream",
     "text": [
      "0.628179165674 \t\t 25 \t\t 4 \t\t 8\n"
     ]
    },
    {
     "name": "stdout",
     "output_type": "stream",
     "text": [
      "0.617993405668 \t\t 25 \t\t 4 \t\t 9\n"
     ]
    },
    {
     "name": "stdout",
     "output_type": "stream",
     "text": [
      "0.606276732177 \t\t 25 \t\t 4 \t\t 10\n"
     ]
    },
    {
     "name": "stdout",
     "output_type": "stream",
     "text": [
      "0.605197865912 \t\t 25 \t\t 4 \t\t 11\n"
     ]
    },
    {
     "name": "stdout",
     "output_type": "stream",
     "text": [
      "0.605336401808 \t\t 25 \t\t 4 \t\t 12\n"
     ]
    },
    {
     "name": "stdout",
     "output_type": "stream",
     "text": [
      "0.603125353801 \t\t 25 \t\t 4 \t\t 13\n"
     ]
    },
    {
     "name": "stdout",
     "output_type": "stream",
     "text": [
      "0.602997187209 \t\t 25 \t\t 4 \t\t 14\n"
     ]
    },
    {
     "name": "stdout",
     "output_type": "stream",
     "text": [
      "0.604566896198 \t\t 25 \t\t 4 \t\t 15\n"
     ]
    },
    {
     "name": "stdout",
     "output_type": "stream",
     "text": [
      "0.60485465259 \t\t 25 \t\t 4 \t\t 16\n"
     ]
    },
    {
     "name": "stdout",
     "output_type": "stream",
     "text": [
      "0.605061158014 \t\t 25 \t\t 4 \t\t 17\n"
     ]
    },
    {
     "name": "stdout",
     "output_type": "stream",
     "text": [
      "0.588425224849 \t\t 25 \t\t 4 \t\t 18\n"
     ]
    },
    {
     "name": "stdout",
     "output_type": "stream",
     "text": [
      "0.588535709465 \t\t 25 \t\t 4 \t\t 19\n"
     ]
    },
    {
     "name": "stdout",
     "output_type": "stream",
     "text": [
      "0.589353106791 \t\t 25 \t\t 4 \t\t 20\n"
     ]
    },
    {
     "name": "stdout",
     "output_type": "stream",
     "text": [
      "0.589283300947 \t\t 25 \t\t 4 \t\t 21\n"
     ]
    },
    {
     "name": "stdout",
     "output_type": "stream",
     "text": [
      "0.589294839318 \t\t 25 \t\t 4 \t\t 22\n"
     ]
    },
    {
     "name": "stdout",
     "output_type": "stream",
     "text": [
      "0.589294689429 \t\t 25 \t\t 4 \t\t 23\n"
     ]
    },
    {
     "name": "stdout",
     "output_type": "stream",
     "text": [
      "0.58929416936 \t\t 25 \t\t 4 \t\t 24\n"
     ]
    },
    {
     "name": "stdout",
     "output_type": "stream",
     "text": [
      "0.643081772144 \t\t 25 \t\t 5 \t\t 3\n"
     ]
    },
    {
     "name": "stdout",
     "output_type": "stream",
     "text": [
      "0.643025236087 \t\t 25 \t\t 5 \t\t 4\n"
     ]
    },
    {
     "name": "stdout",
     "output_type": "stream",
     "text": [
      "0.643779885799 \t\t 25 \t\t 5 \t\t 5\n"
     ]
    },
    {
     "name": "stdout",
     "output_type": "stream",
     "text": [
      "0.614086657935 \t\t 25 \t\t 5 \t\t 6\n"
     ]
    },
    {
     "name": "stdout",
     "output_type": "stream",
     "text": [
      "0.614058621919 \t\t 25 \t\t 5 \t\t 7\n"
     ]
    },
    {
     "name": "stdout",
     "output_type": "stream",
     "text": [
      "0.602461004585 \t\t 25 \t\t 5 \t\t 8\n"
     ]
    },
    {
     "name": "stdout",
     "output_type": "stream",
     "text": [
      "0.603419438913 \t\t 25 \t\t 5 \t\t 9\n"
     ]
    },
    {
     "name": "stdout",
     "output_type": "stream",
     "text": [
      "0.583115970504 \t\t 25 \t\t 5 \t\t 10\n"
     ]
    },
    {
     "name": "stdout",
     "output_type": "stream",
     "text": [
      "0.587878425456 \t\t 25 \t\t 5 \t\t 11\n"
     ]
    },
    {
     "name": "stdout",
     "output_type": "stream",
     "text": [
      "0.588087417559 \t\t 25 \t\t 5 \t\t 12\n"
     ]
    },
    {
     "name": "stdout",
     "output_type": "stream",
     "text": [
      "0.588351573256 \t\t 25 \t\t 5 \t\t 13\n"
     ]
    },
    {
     "name": "stdout",
     "output_type": "stream",
     "text": [
      "0.586353494856 \t\t 25 \t\t 5 \t\t 14\n"
     ]
    },
    {
     "name": "stdout",
     "output_type": "stream",
     "text": [
      "0.586383366848 \t\t 25 \t\t 5 \t\t 15\n"
     ]
    },
    {
     "name": "stdout",
     "output_type": "stream",
     "text": [
      "0.585106680071 \t\t 25 \t\t 5 \t\t 16\n"
     ]
    },
    {
     "name": "stdout",
     "output_type": "stream",
     "text": [
      "0.585698598486 \t\t 25 \t\t 5 \t\t 17\n"
     ]
    },
    {
     "name": "stdout",
     "output_type": "stream",
     "text": [
      "0.569657072525 \t\t 25 \t\t 5 \t\t 18\n"
     ]
    },
    {
     "name": "stdout",
     "output_type": "stream",
     "text": [
      "0.569075322399 \t\t 25 \t\t 5 \t\t 19\n"
     ]
    },
    {
     "name": "stdout",
     "output_type": "stream",
     "text": [
      "0.569417414313 \t\t 25 \t\t 5 \t\t 20\n"
     ]
    },
    {
     "name": "stdout",
     "output_type": "stream",
     "text": [
      "0.569392560241 \t\t 25 \t\t 5 \t\t 21\n"
     ]
    },
    {
     "name": "stdout",
     "output_type": "stream",
     "text": [
      "0.569394599237 \t\t 25 \t\t 5 \t\t 22\n"
     ]
    },
    {
     "name": "stdout",
     "output_type": "stream",
     "text": [
      "0.569393233216 \t\t 25 \t\t 5 \t\t 23\n"
     ]
    },
    {
     "name": "stdout",
     "output_type": "stream",
     "text": [
      "0.569394452873 \t\t 25 \t\t 5 \t\t 24\n"
     ]
    },
    {
     "name": "stdout",
     "output_type": "stream",
     "text": [
      "0.660799293193 \t\t 25 \t\t 6 \t\t 3\n"
     ]
    },
    {
     "name": "stdout",
     "output_type": "stream",
     "text": [
      "0.656950558799 \t\t 25 \t\t 6 \t\t 4\n"
     ]
    },
    {
     "name": "stdout",
     "output_type": "stream",
     "text": [
      "0.654423164229 \t\t 25 \t\t 6 \t\t 5\n"
     ]
    },
    {
     "name": "stdout",
     "output_type": "stream",
     "text": [
      "0.609862803324 \t\t 25 \t\t 6 \t\t 6\n"
     ]
    },
    {
     "name": "stdout",
     "output_type": "stream",
     "text": [
      "0.614803790208 \t\t 25 \t\t 6 \t\t 7\n"
     ]
    },
    {
     "name": "stdout",
     "output_type": "stream",
     "text": [
      "0.611324183763 \t\t 25 \t\t 6 \t\t 8\n"
     ]
    },
    {
     "name": "stdout",
     "output_type": "stream",
     "text": [
      "0.603003835591 \t\t 25 \t\t 6 \t\t 9\n"
     ]
    },
    {
     "name": "stdout",
     "output_type": "stream",
     "text": [
      "0.595025399579 \t\t 25 \t\t 6 \t\t 10\n"
     ]
    },
    {
     "name": "stdout",
     "output_type": "stream",
     "text": [
      "0.595011403102 \t\t 25 \t\t 6 \t\t 11\n"
     ]
    },
    {
     "name": "stdout",
     "output_type": "stream",
     "text": [
      "0.595748896902 \t\t 25 \t\t 6 \t\t 12\n"
     ]
    },
    {
     "name": "stdout",
     "output_type": "stream",
     "text": [
      "0.595911488627 \t\t 25 \t\t 6 \t\t 13\n"
     ]
    },
    {
     "name": "stdout",
     "output_type": "stream",
     "text": [
      "0.593700702836 \t\t 25 \t\t 6 \t\t 14\n"
     ]
    },
    {
     "name": "stdout",
     "output_type": "stream",
     "text": [
      "0.594232029808 \t\t 25 \t\t 6 \t\t 15\n"
     ]
    },
    {
     "name": "stdout",
     "output_type": "stream",
     "text": [
      "0.595914917061 \t\t 25 \t\t 6 \t\t 16\n"
     ]
    },
    {
     "name": "stdout",
     "output_type": "stream",
     "text": [
      "0.581753692004 \t\t 25 \t\t 6 \t\t 17\n"
     ]
    },
    {
     "name": "stdout",
     "output_type": "stream",
     "text": [
      "0.575313058723 \t\t 25 \t\t 6 \t\t 18\n"
     ]
    },
    {
     "name": "stdout",
     "output_type": "stream",
     "text": [
      "0.574218374777 \t\t 25 \t\t 6 \t\t 19\n"
     ]
    },
    {
     "name": "stdout",
     "output_type": "stream",
     "text": [
      "0.587887627514 \t\t 25 \t\t 6 \t\t 20\n"
     ]
    },
    {
     "name": "stdout",
     "output_type": "stream",
     "text": [
      "0.587879548338 \t\t 25 \t\t 6 \t\t 21\n"
     ]
    },
    {
     "name": "stdout",
     "output_type": "stream",
     "text": [
      "0.587880773633 \t\t 25 \t\t 6 \t\t 22\n"
     ]
    },
    {
     "name": "stdout",
     "output_type": "stream",
     "text": [
      "0.587881755698 \t\t 25 \t\t 6 \t\t 23\n"
     ]
    },
    {
     "name": "stdout",
     "output_type": "stream",
     "text": [
      "0.587881697681 \t\t 25 \t\t 6 \t\t 24\n"
     ]
    },
    {
     "name": "stdout",
     "output_type": "stream",
     "text": [
      "0.647069038499 \t\t 25 \t\t 7 \t\t 3\n"
     ]
    },
    {
     "name": "stdout",
     "output_type": "stream",
     "text": [
      "0.645914980581 \t\t 25 \t\t 7 \t\t 4\n"
     ]
    },
    {
     "name": "stdout",
     "output_type": "stream",
     "text": [
      "0.645903435553 \t\t 25 \t\t 7 \t\t 5\n"
     ]
    },
    {
     "name": "stdout",
     "output_type": "stream",
     "text": [
      "0.613714662135 \t\t 25 \t\t 7 \t\t 6\n"
     ]
    },
    {
     "name": "stdout",
     "output_type": "stream",
     "text": [
      "0.613632559259 \t\t 25 \t\t 7 \t\t 7\n"
     ]
    },
    {
     "name": "stdout",
     "output_type": "stream",
     "text": [
      "0.604012828895 \t\t 25 \t\t 7 \t\t 8\n"
     ]
    },
    {
     "name": "stdout",
     "output_type": "stream",
     "text": [
      "0.59697967808 \t\t 25 \t\t 7 \t\t 9\n"
     ]
    },
    {
     "name": "stdout",
     "output_type": "stream",
     "text": [
      "0.587721569674 \t\t 25 \t\t 7 \t\t 10\n"
     ]
    },
    {
     "name": "stdout",
     "output_type": "stream",
     "text": [
      "0.587160632359 \t\t 25 \t\t 7 \t\t 11\n"
     ]
    },
    {
     "name": "stdout",
     "output_type": "stream",
     "text": [
      "0.586774874281 \t\t 25 \t\t 7 \t\t 12\n"
     ]
    },
    {
     "name": "stdout",
     "output_type": "stream",
     "text": [
      "0.586042528097 \t\t 25 \t\t 7 \t\t 13\n"
     ]
    },
    {
     "name": "stdout",
     "output_type": "stream",
     "text": [
      "0.582831880257 \t\t 25 \t\t 7 \t\t 14\n"
     ]
    },
    {
     "name": "stdout",
     "output_type": "stream",
     "text": [
      "0.582588034789 \t\t 25 \t\t 7 \t\t 15\n"
     ]
    },
    {
     "name": "stdout",
     "output_type": "stream",
     "text": [
      "0.582864902972 \t\t 25 \t\t 7 \t\t 16\n"
     ]
    },
    {
     "name": "stdout",
     "output_type": "stream",
     "text": [
      "0.584672277163 \t\t 25 \t\t 7 \t\t 17\n"
     ]
    },
    {
     "name": "stdout",
     "output_type": "stream",
     "text": [
      "0.579385127964 \t\t 25 \t\t 7 \t\t 18\n"
     ]
    },
    {
     "name": "stdout",
     "output_type": "stream",
     "text": [
      "0.579375324259 \t\t 25 \t\t 7 \t\t 19\n"
     ]
    },
    {
     "name": "stdout",
     "output_type": "stream",
     "text": [
      "0.579419439014 \t\t 25 \t\t 7 \t\t 20\n"
     ]
    },
    {
     "name": "stdout",
     "output_type": "stream",
     "text": [
      "0.579411517222 \t\t 25 \t\t 7 \t\t 21\n"
     ]
    },
    {
     "name": "stdout",
     "output_type": "stream",
     "text": [
      "0.579411886019 \t\t 25 \t\t 7 \t\t 22\n"
     ]
    },
    {
     "name": "stdout",
     "output_type": "stream",
     "text": [
      "0.579411861535 \t\t 25 \t\t 7 \t\t 23\n"
     ]
    },
    {
     "name": "stdout",
     "output_type": "stream",
     "text": [
      "0.579411893085 \t\t 25 \t\t 7 \t\t 24\n"
     ]
    },
    {
     "name": "stdout",
     "output_type": "stream",
     "text": [
      "0.652125566262 \t\t 25 \t\t 8 \t\t 3\n"
     ]
    },
    {
     "name": "stdout",
     "output_type": "stream",
     "text": [
      "0.648877000554 \t\t 25 \t\t 8 \t\t 4\n"
     ]
    },
    {
     "name": "stdout",
     "output_type": "stream",
     "text": [
      "0.648982853932 \t\t 25 \t\t 8 \t\t 5\n"
     ]
    },
    {
     "name": "stdout",
     "output_type": "stream",
     "text": [
      "0.64852554977 \t\t 25 \t\t 8 \t\t 6\n"
     ]
    },
    {
     "name": "stdout",
     "output_type": "stream",
     "text": [
      "0.645983144452 \t\t 25 \t\t 8 \t\t 7\n"
     ]
    },
    {
     "name": "stdout",
     "output_type": "stream",
     "text": [
      "0.623879022347 \t\t 25 \t\t 8 \t\t 8\n"
     ]
    },
    {
     "name": "stdout",
     "output_type": "stream",
     "text": [
      "0.592394263477 \t\t 25 \t\t 8 \t\t 9\n"
     ]
    },
    {
     "name": "stdout",
     "output_type": "stream",
     "text": [
      "0.593041018108 \t\t 25 \t\t 8 \t\t 10\n"
     ]
    },
    {
     "name": "stdout",
     "output_type": "stream",
     "text": [
      "0.605993659535 \t\t 25 \t\t 8 \t\t 11\n"
     ]
    },
    {
     "name": "stdout",
     "output_type": "stream",
     "text": [
      "0.601059151376 \t\t 25 \t\t 8 \t\t 12\n"
     ]
    },
    {
     "name": "stdout",
     "output_type": "stream",
     "text": [
      "0.614988721509 \t\t 25 \t\t 8 \t\t 13\n"
     ]
    },
    {
     "name": "stdout",
     "output_type": "stream",
     "text": [
      "0.615155142102 \t\t 25 \t\t 8 \t\t 14\n"
     ]
    },
    {
     "name": "stdout",
     "output_type": "stream",
     "text": [
      "0.615120494729 \t\t 25 \t\t 8 \t\t 15\n"
     ]
    },
    {
     "name": "stdout",
     "output_type": "stream",
     "text": [
      "0.614596377196 \t\t 25 \t\t 8 \t\t 16\n"
     ]
    },
    {
     "name": "stdout",
     "output_type": "stream",
     "text": [
      "0.610637132529 \t\t 25 \t\t 8 \t\t 17\n"
     ]
    },
    {
     "name": "stdout",
     "output_type": "stream",
     "text": [
      "0.600692731766 \t\t 25 \t\t 8 \t\t 18\n"
     ]
    },
    {
     "name": "stdout",
     "output_type": "stream",
     "text": [
      "0.609182587645 \t\t 25 \t\t 8 \t\t 19\n"
     ]
    },
    {
     "name": "stdout",
     "output_type": "stream",
     "text": [
      "0.608799460825 \t\t 25 \t\t 8 \t\t 20\n"
     ]
    },
    {
     "name": "stdout",
     "output_type": "stream",
     "text": [
      "0.608780906201 \t\t 25 \t\t 8 \t\t 21\n"
     ]
    },
    {
     "name": "stdout",
     "output_type": "stream",
     "text": [
      "0.608776393315 \t\t 25 \t\t 8 \t\t 22\n"
     ]
    },
    {
     "name": "stdout",
     "output_type": "stream",
     "text": [
      "0.608776955125 \t\t 25 \t\t 8 \t\t 23\n"
     ]
    },
    {
     "name": "stdout",
     "output_type": "stream",
     "text": [
      "0.608777019137 \t\t 25 \t\t 8 \t\t 24\n"
     ]
    },
    {
     "name": "stdout",
     "output_type": "stream",
     "text": [
      "0.688869228382 \t\t 25 \t\t 9 \t\t 3\n"
     ]
    },
    {
     "name": "stdout",
     "output_type": "stream",
     "text": [
      "0.688842228424 \t\t 25 \t\t 9 \t\t 4\n"
     ]
    },
    {
     "name": "stdout",
     "output_type": "stream",
     "text": [
      "0.688771603014 \t\t 25 \t\t 9 \t\t 5\n"
     ]
    },
    {
     "name": "stdout",
     "output_type": "stream",
     "text": [
      "0.678604593885 \t\t 25 \t\t 9 \t\t 6\n"
     ]
    },
    {
     "name": "stdout",
     "output_type": "stream",
     "text": [
      "0.678054771191 \t\t 25 \t\t 9 \t\t 7\n"
     ]
    },
    {
     "name": "stdout",
     "output_type": "stream",
     "text": [
      "0.705030661661 \t\t 25 \t\t 9 \t\t 8\n"
     ]
    },
    {
     "name": "stdout",
     "output_type": "stream",
     "text": [
      "0.673714525401 \t\t 25 \t\t 9 \t\t 9\n"
     ]
    },
    {
     "name": "stdout",
     "output_type": "stream",
     "text": [
      "0.672916266627 \t\t 25 \t\t 9 \t\t 10\n"
     ]
    },
    {
     "name": "stdout",
     "output_type": "stream",
     "text": [
      "0.674638262112 \t\t 25 \t\t 9 \t\t 11\n"
     ]
    },
    {
     "name": "stdout",
     "output_type": "stream",
     "text": [
      "0.674517655914 \t\t 25 \t\t 9 \t\t 12\n"
     ]
    },
    {
     "name": "stdout",
     "output_type": "stream",
     "text": [
      "0.674711013563 \t\t 25 \t\t 9 \t\t 13\n"
     ]
    },
    {
     "name": "stdout",
     "output_type": "stream",
     "text": [
      "0.675033051056 \t\t 25 \t\t 9 \t\t 14\n"
     ]
    },
    {
     "name": "stdout",
     "output_type": "stream",
     "text": [
      "0.675187264737 \t\t 25 \t\t 9 \t\t 15\n"
     ]
    },
    {
     "name": "stdout",
     "output_type": "stream",
     "text": [
      "0.675003927108 \t\t 25 \t\t 9 \t\t 16\n"
     ]
    },
    {
     "name": "stdout",
     "output_type": "stream",
     "text": [
      "0.675280277756 \t\t 25 \t\t 9 \t\t 17\n"
     ]
    },
    {
     "name": "stdout",
     "output_type": "stream",
     "text": [
      "0.675358144116 \t\t 25 \t\t 9 \t\t 18\n"
     ]
    },
    {
     "name": "stdout",
     "output_type": "stream",
     "text": [
      "0.675248504942 \t\t 25 \t\t 9 \t\t 19\n"
     ]
    },
    {
     "name": "stdout",
     "output_type": "stream",
     "text": [
      "0.674933357478 \t\t 25 \t\t 9 \t\t 20\n"
     ]
    },
    {
     "name": "stderr",
     "output_type": "stream",
     "text": [
      "/Users/maxwelllee54/anaconda/lib/python3.5/site-packages/sklearn/linear_model/base.py:352: RuntimeWarning: overflow encountered in exp\n  np.exp(prob, prob)\n"
     ]
    },
    {
     "name": "stdout",
     "output_type": "stream",
     "text": [
      "0.67493482173 \t\t 25 \t\t 9 \t\t 21\n"
     ]
    },
    {
     "name": "stdout",
     "output_type": "stream",
     "text": [
      "0.674934677748 \t\t 25 \t\t 9 \t\t 22\n"
     ]
    },
    {
     "name": "stdout",
     "output_type": "stream",
     "text": [
      "0.67493480311 \t\t 25 \t\t 9 \t\t 23\n"
     ]
    },
    {
     "name": "stdout",
     "output_type": "stream",
     "text": [
      "0.674934783615 \t\t 25 \t\t 9 \t\t 24\n"
     ]
    },
    {
     "name": "stdout",
     "output_type": "stream",
     "text": [
      "0.617708258414 \t\t 26 \t\t 1 \t\t 3\n"
     ]
    },
    {
     "name": "stdout",
     "output_type": "stream",
     "text": [
      "0.613207553454 \t\t 26 \t\t 1 \t\t 4\n"
     ]
    },
    {
     "name": "stdout",
     "output_type": "stream",
     "text": [
      "0.609113352041 \t\t 26 \t\t 1 \t\t 5\n"
     ]
    },
    {
     "name": "stdout",
     "output_type": "stream",
     "text": [
      "0.574052184887 \t\t 26 \t\t 1 \t\t 6\n"
     ]
    },
    {
     "name": "stdout",
     "output_type": "stream",
     "text": [
      "0.575983727183 \t\t 26 \t\t 1 \t\t 7\n"
     ]
    },
    {
     "name": "stdout",
     "output_type": "stream",
     "text": [
      "0.574134684788 \t\t 26 \t\t 1 \t\t 8\n"
     ]
    },
    {
     "name": "stdout",
     "output_type": "stream",
     "text": [
      "0.584855088982 \t\t 26 \t\t 1 \t\t 9\n"
     ]
    },
    {
     "name": "stdout",
     "output_type": "stream",
     "text": [
      "0.561980390239 \t\t 26 \t\t 1 \t\t 10\n"
     ]
    },
    {
     "name": "stdout",
     "output_type": "stream",
     "text": [
      "0.55871909712 \t\t 26 \t\t 1 \t\t 11\n"
     ]
    },
    {
     "name": "stdout",
     "output_type": "stream",
     "text": [
      "0.560911541242 \t\t 26 \t\t 1 \t\t 12\n"
     ]
    },
    {
     "name": "stdout",
     "output_type": "stream",
     "text": [
      "0.559118987061 \t\t 26 \t\t 1 \t\t 13\n"
     ]
    },
    {
     "name": "stdout",
     "output_type": "stream",
     "text": [
      "0.549338494677 \t\t 26 \t\t 1 \t\t 14\n"
     ]
    },
    {
     "name": "stdout",
     "output_type": "stream",
     "text": [
      "0.547209953797 \t\t 26 \t\t 1 \t\t 15\n"
     ]
    },
    {
     "name": "stdout",
     "output_type": "stream",
     "text": [
      "0.552658594154 \t\t 26 \t\t 1 \t\t 16\n"
     ]
    },
    {
     "name": "stdout",
     "output_type": "stream",
     "text": [
      "0.569273717774 \t\t 26 \t\t 1 \t\t 17\n"
     ]
    },
    {
     "name": "stdout",
     "output_type": "stream",
     "text": [
      "0.564381126318 \t\t 26 \t\t 1 \t\t 18\n"
     ]
    },
    {
     "name": "stdout",
     "output_type": "stream",
     "text": [
      "0.564869987725 \t\t 26 \t\t 1 \t\t 19\n"
     ]
    },
    {
     "name": "stdout",
     "output_type": "stream",
     "text": [
      "0.565511331795 \t\t 26 \t\t 1 \t\t 20\n"
     ]
    },
    {
     "name": "stdout",
     "output_type": "stream",
     "text": [
      "0.565796873207 \t\t 26 \t\t 1 \t\t 21\n"
     ]
    },
    {
     "name": "stdout",
     "output_type": "stream",
     "text": [
      "0.565606247955 \t\t 26 \t\t 1 \t\t 22\n"
     ]
    },
    {
     "name": "stdout",
     "output_type": "stream",
     "text": [
      "0.565630833333 \t\t 26 \t\t 1 \t\t 23\n"
     ]
    },
    {
     "name": "stdout",
     "output_type": "stream",
     "text": [
      "0.565616598478 \t\t 26 \t\t 1 \t\t 24\n"
     ]
    },
    {
     "name": "stdout",
     "output_type": "stream",
     "text": [
      "0.565616292819 \t\t 26 \t\t 1 \t\t 25\n"
     ]
    },
    {
     "name": "stdout",
     "output_type": "stream",
     "text": [
      "0.644860207427 \t\t 26 \t\t 2 \t\t 3\n"
     ]
    },
    {
     "name": "stdout",
     "output_type": "stream",
     "text": [
      "0.641935165354 \t\t 26 \t\t 2 \t\t 4\n"
     ]
    },
    {
     "name": "stdout",
     "output_type": "stream",
     "text": [
      "0.639464673487 \t\t 26 \t\t 2 \t\t 5\n"
     ]
    },
    {
     "name": "stdout",
     "output_type": "stream",
     "text": [
      "0.605128200679 \t\t 26 \t\t 2 \t\t 6\n"
     ]
    },
    {
     "name": "stdout",
     "output_type": "stream",
     "text": [
      "0.597878651214 \t\t 26 \t\t 2 \t\t 7\n"
     ]
    },
    {
     "name": "stdout",
     "output_type": "stream",
     "text": [
      "0.63118920382 \t\t 26 \t\t 2 \t\t 8\n"
     ]
    },
    {
     "name": "stdout",
     "output_type": "stream",
     "text": [
      "0.631413148923 \t\t 26 \t\t 2 \t\t 9\n"
     ]
    },
    {
     "name": "stdout",
     "output_type": "stream",
     "text": [
      "0.614099515003 \t\t 26 \t\t 2 \t\t 10\n"
     ]
    },
    {
     "name": "stdout",
     "output_type": "stream",
     "text": [
      "0.61475061042 \t\t 26 \t\t 2 \t\t 11\n"
     ]
    },
    {
     "name": "stdout",
     "output_type": "stream",
     "text": [
      "0.614020783823 \t\t 26 \t\t 2 \t\t 12\n"
     ]
    },
    {
     "name": "stdout",
     "output_type": "stream",
     "text": [
      "0.615761802287 \t\t 26 \t\t 2 \t\t 13\n"
     ]
    },
    {
     "name": "stdout",
     "output_type": "stream",
     "text": [
      "0.616152257812 \t\t 26 \t\t 2 \t\t 14\n"
     ]
    },
    {
     "name": "stdout",
     "output_type": "stream",
     "text": [
      "0.611432071013 \t\t 26 \t\t 2 \t\t 15\n"
     ]
    },
    {
     "name": "stdout",
     "output_type": "stream",
     "text": [
      "0.610826671228 \t\t 26 \t\t 2 \t\t 16\n"
     ]
    },
    {
     "name": "stdout",
     "output_type": "stream",
     "text": [
      "0.608172816099 \t\t 26 \t\t 2 \t\t 17\n"
     ]
    },
    {
     "name": "stdout",
     "output_type": "stream",
     "text": [
      "0.58406683723 \t\t 26 \t\t 2 \t\t 18\n"
     ]
    },
    {
     "name": "stdout",
     "output_type": "stream",
     "text": [
      "0.583221819266 \t\t 26 \t\t 2 \t\t 19\n"
     ]
    },
    {
     "name": "stdout",
     "output_type": "stream",
     "text": [
      "0.583731053715 \t\t 26 \t\t 2 \t\t 20\n"
     ]
    },
    {
     "name": "stdout",
     "output_type": "stream",
     "text": [
      "0.583576933187 \t\t 26 \t\t 2 \t\t 21\n"
     ]
    },
    {
     "name": "stdout",
     "output_type": "stream",
     "text": [
      "0.583623061162 \t\t 26 \t\t 2 \t\t 22\n"
     ]
    },
    {
     "name": "stdout",
     "output_type": "stream",
     "text": [
      "0.583613061658 \t\t 26 \t\t 2 \t\t 23\n"
     ]
    },
    {
     "name": "stdout",
     "output_type": "stream",
     "text": [
      "0.58361221572 \t\t 26 \t\t 2 \t\t 24\n"
     ]
    },
    {
     "name": "stdout",
     "output_type": "stream",
     "text": [
      "0.583612144555 \t\t 26 \t\t 2 \t\t 25\n"
     ]
    },
    {
     "name": "stdout",
     "output_type": "stream",
     "text": [
      "0.625107291087 \t\t 26 \t\t 3 \t\t 3\n"
     ]
    },
    {
     "name": "stdout",
     "output_type": "stream",
     "text": [
      "0.624010994368 \t\t 26 \t\t 3 \t\t 4\n"
     ]
    },
    {
     "name": "stdout",
     "output_type": "stream",
     "text": [
      "0.623643390939 \t\t 26 \t\t 3 \t\t 5\n"
     ]
    },
    {
     "name": "stdout",
     "output_type": "stream",
     "text": [
      "0.603576303921 \t\t 26 \t\t 3 \t\t 6\n"
     ]
    },
    {
     "name": "stdout",
     "output_type": "stream",
     "text": [
      "0.603012479671 \t\t 26 \t\t 3 \t\t 7\n"
     ]
    },
    {
     "name": "stdout",
     "output_type": "stream",
     "text": [
      "0.584147411182 \t\t 26 \t\t 3 \t\t 8\n"
     ]
    },
    {
     "name": "stdout",
     "output_type": "stream",
     "text": [
      "0.576949766263 \t\t 26 \t\t 3 \t\t 9\n"
     ]
    },
    {
     "name": "stdout",
     "output_type": "stream",
     "text": [
      "0.562154945999 \t\t 26 \t\t 3 \t\t 10\n"
     ]
    },
    {
     "name": "stdout",
     "output_type": "stream",
     "text": [
      "0.557835806561 \t\t 26 \t\t 3 \t\t 11\n"
     ]
    },
    {
     "name": "stdout",
     "output_type": "stream",
     "text": [
      "0.557856861652 \t\t 26 \t\t 3 \t\t 12\n"
     ]
    },
    {
     "name": "stdout",
     "output_type": "stream",
     "text": [
      "0.558463927848 \t\t 26 \t\t 3 \t\t 13\n"
     ]
    },
    {
     "name": "stdout",
     "output_type": "stream",
     "text": [
      "0.555871099383 \t\t 26 \t\t 3 \t\t 14\n"
     ]
    },
    {
     "name": "stdout",
     "output_type": "stream",
     "text": [
      "0.554177749815 \t\t 26 \t\t 3 \t\t 15\n"
     ]
    },
    {
     "name": "stdout",
     "output_type": "stream",
     "text": [
      "0.555174786572 \t\t 26 \t\t 3 \t\t 16\n"
     ]
    },
    {
     "name": "stdout",
     "output_type": "stream",
     "text": [
      "0.556199731864 \t\t 26 \t\t 3 \t\t 17\n"
     ]
    },
    {
     "name": "stdout",
     "output_type": "stream",
     "text": [
      "0.544864345094 \t\t 26 \t\t 3 \t\t 18\n"
     ]
    },
    {
     "name": "stdout",
     "output_type": "stream",
     "text": [
      "0.544313442247 \t\t 26 \t\t 3 \t\t 19\n"
     ]
    },
    {
     "name": "stdout",
     "output_type": "stream",
     "text": [
      "0.545138691553 \t\t 26 \t\t 3 \t\t 20\n"
     ]
    },
    {
     "name": "stdout",
     "output_type": "stream",
     "text": [
      "0.545837327092 \t\t 26 \t\t 3 \t\t 21\n"
     ]
    },
    {
     "name": "stdout",
     "output_type": "stream",
     "text": [
      "0.545769529167 \t\t 26 \t\t 3 \t\t 22\n"
     ]
    },
    {
     "name": "stdout",
     "output_type": "stream",
     "text": [
      "0.545799377127 \t\t 26 \t\t 3 \t\t 23\n"
     ]
    },
    {
     "name": "stdout",
     "output_type": "stream",
     "text": [
      "0.545796546898 \t\t 26 \t\t 3 \t\t 24\n"
     ]
    },
    {
     "name": "stdout",
     "output_type": "stream",
     "text": [
      "0.545796449082 \t\t 26 \t\t 3 \t\t 25\n"
     ]
    },
    {
     "name": "stdout",
     "output_type": "stream",
     "text": [
      "0.668930696987 \t\t 26 \t\t 4 \t\t 3\n"
     ]
    },
    {
     "name": "stdout",
     "output_type": "stream",
     "text": [
      "0.668894450726 \t\t 26 \t\t 4 \t\t 4\n"
     ]
    },
    {
     "name": "stdout",
     "output_type": "stream",
     "text": [
      "0.668821774479 \t\t 26 \t\t 4 \t\t 5\n"
     ]
    },
    {
     "name": "stdout",
     "output_type": "stream",
     "text": [
      "0.62534933245 \t\t 26 \t\t 4 \t\t 6\n"
     ]
    },
    {
     "name": "stdout",
     "output_type": "stream",
     "text": [
      "0.625665983741 \t\t 26 \t\t 4 \t\t 7\n"
     ]
    },
    {
     "name": "stdout",
     "output_type": "stream",
     "text": [
      "0.621241909518 \t\t 26 \t\t 4 \t\t 8\n"
     ]
    },
    {
     "name": "stdout",
     "output_type": "stream",
     "text": [
      "0.617968354377 \t\t 26 \t\t 4 \t\t 9\n"
     ]
    },
    {
     "name": "stdout",
     "output_type": "stream",
     "text": [
      "0.601905108344 \t\t 26 \t\t 4 \t\t 10\n"
     ]
    },
    {
     "name": "stdout",
     "output_type": "stream",
     "text": [
      "0.594782571599 \t\t 26 \t\t 4 \t\t 11\n"
     ]
    },
    {
     "name": "stdout",
     "output_type": "stream",
     "text": [
      "0.596596005606 \t\t 26 \t\t 4 \t\t 12\n"
     ]
    },
    {
     "name": "stdout",
     "output_type": "stream",
     "text": [
      "0.582042638544 \t\t 26 \t\t 4 \t\t 13\n"
     ]
    },
    {
     "name": "stdout",
     "output_type": "stream",
     "text": [
      "0.591312797183 \t\t 26 \t\t 4 \t\t 14\n"
     ]
    },
    {
     "name": "stdout",
     "output_type": "stream",
     "text": [
      "0.591228678304 \t\t 26 \t\t 4 \t\t 15\n"
     ]
    },
    {
     "name": "stdout",
     "output_type": "stream",
     "text": [
      "0.591594909373 \t\t 26 \t\t 4 \t\t 16\n"
     ]
    },
    {
     "name": "stdout",
     "output_type": "stream",
     "text": [
      "0.590732605451 \t\t 26 \t\t 4 \t\t 17\n"
     ]
    },
    {
     "name": "stdout",
     "output_type": "stream",
     "text": [
      "0.557948995064 \t\t 26 \t\t 4 \t\t 18\n"
     ]
    },
    {
     "name": "stdout",
     "output_type": "stream",
     "text": [
      "0.556263424213 \t\t 26 \t\t 4 \t\t 19\n"
     ]
    },
    {
     "name": "stdout",
     "output_type": "stream",
     "text": [
      "0.555724699307 \t\t 26 \t\t 4 \t\t 20\n"
     ]
    },
    {
     "name": "stdout",
     "output_type": "stream",
     "text": [
      "0.556951483032 \t\t 26 \t\t 4 \t\t 21\n"
     ]
    },
    {
     "name": "stdout",
     "output_type": "stream",
     "text": [
      "0.556895291332 \t\t 26 \t\t 4 \t\t 22\n"
     ]
    },
    {
     "name": "stdout",
     "output_type": "stream",
     "text": [
      "0.556883949082 \t\t 26 \t\t 4 \t\t 23\n"
     ]
    },
    {
     "name": "stdout",
     "output_type": "stream",
     "text": [
      "0.556882216075 \t\t 26 \t\t 4 \t\t 24\n"
     ]
    },
    {
     "name": "stdout",
     "output_type": "stream",
     "text": [
      "0.556881986462 \t\t 26 \t\t 4 \t\t 25\n"
     ]
    },
    {
     "name": "stdout",
     "output_type": "stream",
     "text": [
      "0.636289410578 \t\t 26 \t\t 5 \t\t 3\n"
     ]
    },
    {
     "name": "stdout",
     "output_type": "stream",
     "text": [
      "0.635493432723 \t\t 26 \t\t 5 \t\t 4\n"
     ]
    },
    {
     "name": "stdout",
     "output_type": "stream",
     "text": [
      "0.634536324891 \t\t 26 \t\t 5 \t\t 5\n"
     ]
    },
    {
     "name": "stdout",
     "output_type": "stream",
     "text": [
      "0.606718272346 \t\t 26 \t\t 5 \t\t 6\n"
     ]
    },
    {
     "name": "stdout",
     "output_type": "stream",
     "text": [
      "0.606629841645 \t\t 26 \t\t 5 \t\t 7\n"
     ]
    },
    {
     "name": "stdout",
     "output_type": "stream",
     "text": [
      "0.592567971242 \t\t 26 \t\t 5 \t\t 8\n"
     ]
    },
    {
     "name": "stdout",
     "output_type": "stream",
     "text": [
      "0.593535327482 \t\t 26 \t\t 5 \t\t 9\n"
     ]
    },
    {
     "name": "stdout",
     "output_type": "stream",
     "text": [
      "0.568382998191 \t\t 26 \t\t 5 \t\t 10\n"
     ]
    },
    {
     "name": "stdout",
     "output_type": "stream",
     "text": [
      "0.572112996044 \t\t 26 \t\t 5 \t\t 11\n"
     ]
    },
    {
     "name": "stdout",
     "output_type": "stream",
     "text": [
      "0.572392678466 \t\t 26 \t\t 5 \t\t 12\n"
     ]
    },
    {
     "name": "stdout",
     "output_type": "stream",
     "text": [
      "0.571907050553 \t\t 26 \t\t 5 \t\t 13\n"
     ]
    },
    {
     "name": "stdout",
     "output_type": "stream",
     "text": [
      "0.57023339754 \t\t 26 \t\t 5 \t\t 14\n"
     ]
    },
    {
     "name": "stdout",
     "output_type": "stream",
     "text": [
      "0.569380647277 \t\t 26 \t\t 5 \t\t 15\n"
     ]
    },
    {
     "name": "stdout",
     "output_type": "stream",
     "text": [
      "0.569834865939 \t\t 26 \t\t 5 \t\t 16\n"
     ]
    },
    {
     "name": "stdout",
     "output_type": "stream",
     "text": [
      "0.568722535806 \t\t 26 \t\t 5 \t\t 17\n"
     ]
    },
    {
     "name": "stdout",
     "output_type": "stream",
     "text": [
      "0.556740321889 \t\t 26 \t\t 5 \t\t 18\n"
     ]
    },
    {
     "name": "stdout",
     "output_type": "stream",
     "text": [
      "0.551676374434 \t\t 26 \t\t 5 \t\t 19\n"
     ]
    },
    {
     "name": "stdout",
     "output_type": "stream",
     "text": [
      "0.551597985964 \t\t 26 \t\t 5 \t\t 20\n"
     ]
    },
    {
     "name": "stdout",
     "output_type": "stream",
     "text": [
      "0.551513477728 \t\t 26 \t\t 5 \t\t 21\n"
     ]
    },
    {
     "name": "stdout",
     "output_type": "stream",
     "text": [
      "0.551473076526 \t\t 26 \t\t 5 \t\t 22\n"
     ]
    },
    {
     "name": "stdout",
     "output_type": "stream",
     "text": [
      "0.551476540637 \t\t 26 \t\t 5 \t\t 23\n"
     ]
    },
    {
     "name": "stdout",
     "output_type": "stream",
     "text": [
      "0.551470807087 \t\t 26 \t\t 5 \t\t 24\n"
     ]
    },
    {
     "name": "stdout",
     "output_type": "stream",
     "text": [
      "0.551470980018 \t\t 26 \t\t 5 \t\t 25\n"
     ]
    },
    {
     "name": "stdout",
     "output_type": "stream",
     "text": [
      "0.637105588058 \t\t 26 \t\t 6 \t\t 3\n"
     ]
    },
    {
     "name": "stdout",
     "output_type": "stream",
     "text": [
      "0.639608140685 \t\t 26 \t\t 6 \t\t 4\n"
     ]
    },
    {
     "name": "stdout",
     "output_type": "stream",
     "text": [
      "0.63939222022 \t\t 26 \t\t 6 \t\t 5\n"
     ]
    },
    {
     "name": "stdout",
     "output_type": "stream",
     "text": [
      "0.604953505793 \t\t 26 \t\t 6 \t\t 6\n"
     ]
    },
    {
     "name": "stdout",
     "output_type": "stream",
     "text": [
      "0.605473629165 \t\t 26 \t\t 6 \t\t 7\n"
     ]
    },
    {
     "name": "stdout",
     "output_type": "stream",
     "text": [
      "0.593553062564 \t\t 26 \t\t 6 \t\t 8\n"
     ]
    },
    {
     "name": "stdout",
     "output_type": "stream",
     "text": [
      "0.592504137759 \t\t 26 \t\t 6 \t\t 9\n"
     ]
    },
    {
     "name": "stdout",
     "output_type": "stream",
     "text": [
      "0.559992617908 \t\t 26 \t\t 6 \t\t 10\n"
     ]
    },
    {
     "name": "stdout",
     "output_type": "stream",
     "text": [
      "0.568772276559 \t\t 26 \t\t 6 \t\t 11\n"
     ]
    },
    {
     "name": "stdout",
     "output_type": "stream",
     "text": [
      "0.568212906851 \t\t 26 \t\t 6 \t\t 12\n"
     ]
    },
    {
     "name": "stdout",
     "output_type": "stream",
     "text": [
      "0.56826511827 \t\t 26 \t\t 6 \t\t 13\n"
     ]
    },
    {
     "name": "stdout",
     "output_type": "stream",
     "text": [
      "0.567013434232 \t\t 26 \t\t 6 \t\t 14\n"
     ]
    },
    {
     "name": "stdout",
     "output_type": "stream",
     "text": [
      "0.568423309454 \t\t 26 \t\t 6 \t\t 15\n"
     ]
    },
    {
     "name": "stdout",
     "output_type": "stream",
     "text": [
      "0.567907730781 \t\t 26 \t\t 6 \t\t 16\n"
     ]
    },
    {
     "name": "stdout",
     "output_type": "stream",
     "text": [
      "0.559923799811 \t\t 26 \t\t 6 \t\t 17\n"
     ]
    },
    {
     "name": "stdout",
     "output_type": "stream",
     "text": [
      "0.560051552757 \t\t 26 \t\t 6 \t\t 18\n"
     ]
    },
    {
     "name": "stdout",
     "output_type": "stream",
     "text": [
      "0.562547908253 \t\t 26 \t\t 6 \t\t 19\n"
     ]
    },
    {
     "name": "stdout",
     "output_type": "stream",
     "text": [
      "0.563164674401 \t\t 26 \t\t 6 \t\t 20\n"
     ]
    },
    {
     "name": "stdout",
     "output_type": "stream",
     "text": [
      "0.563483185837 \t\t 26 \t\t 6 \t\t 21\n"
     ]
    },
    {
     "name": "stdout",
     "output_type": "stream",
     "text": [
      "0.563425948353 \t\t 26 \t\t 6 \t\t 22\n"
     ]
    },
    {
     "name": "stdout",
     "output_type": "stream",
     "text": [
      "0.563421245676 \t\t 26 \t\t 6 \t\t 23\n"
     ]
    },
    {
     "name": "stdout",
     "output_type": "stream",
     "text": [
      "0.563420387057 \t\t 26 \t\t 6 \t\t 24\n"
     ]
    },
    {
     "name": "stdout",
     "output_type": "stream",
     "text": [
      "0.563420351005 \t\t 26 \t\t 6 \t\t 25\n"
     ]
    },
    {
     "name": "stdout",
     "output_type": "stream",
     "text": [
      "0.652616990796 \t\t 26 \t\t 7 \t\t 3\n"
     ]
    },
    {
     "name": "stdout",
     "output_type": "stream",
     "text": [
      "0.652460471241 \t\t 26 \t\t 7 \t\t 4\n"
     ]
    },
    {
     "name": "stdout",
     "output_type": "stream",
     "text": [
      "0.646021204682 \t\t 26 \t\t 7 \t\t 5\n"
     ]
    },
    {
     "name": "stdout",
     "output_type": "stream",
     "text": [
      "0.625047408244 \t\t 26 \t\t 7 \t\t 6\n"
     ]
    },
    {
     "name": "stdout",
     "output_type": "stream",
     "text": [
      "0.623111430244 \t\t 26 \t\t 7 \t\t 7\n"
     ]
    },
    {
     "name": "stdout",
     "output_type": "stream",
     "text": [
      "0.611347276875 \t\t 26 \t\t 7 \t\t 8\n"
     ]
    },
    {
     "name": "stdout",
     "output_type": "stream",
     "text": [
      "0.622307581249 \t\t 26 \t\t 7 \t\t 9\n"
     ]
    },
    {
     "name": "stdout",
     "output_type": "stream",
     "text": [
      "0.604625789751 \t\t 26 \t\t 7 \t\t 10\n"
     ]
    },
    {
     "name": "stdout",
     "output_type": "stream",
     "text": [
      "0.589340831577 \t\t 26 \t\t 7 \t\t 11\n"
     ]
    },
    {
     "name": "stdout",
     "output_type": "stream",
     "text": [
      "0.588925535517 \t\t 26 \t\t 7 \t\t 12\n"
     ]
    },
    {
     "name": "stdout",
     "output_type": "stream",
     "text": [
      "0.588415640641 \t\t 26 \t\t 7 \t\t 13\n"
     ]
    },
    {
     "name": "stdout",
     "output_type": "stream",
     "text": [
      "0.593349135517 \t\t 26 \t\t 7 \t\t 14\n"
     ]
    },
    {
     "name": "stdout",
     "output_type": "stream",
     "text": [
      "0.593345057913 \t\t 26 \t\t 7 \t\t 15\n"
     ]
    },
    {
     "name": "stdout",
     "output_type": "stream",
     "text": [
      "0.58878442421 \t\t 26 \t\t 7 \t\t 16\n"
     ]
    },
    {
     "name": "stdout",
     "output_type": "stream",
     "text": [
      "0.588950091075 \t\t 26 \t\t 7 \t\t 17\n"
     ]
    },
    {
     "name": "stdout",
     "output_type": "stream",
     "text": [
      "0.579623752561 \t\t 26 \t\t 7 \t\t 18\n"
     ]
    },
    {
     "name": "stdout",
     "output_type": "stream",
     "text": [
      "0.578201133257 \t\t 26 \t\t 7 \t\t 19\n"
     ]
    },
    {
     "name": "stdout",
     "output_type": "stream",
     "text": [
      "0.57836171253 \t\t 26 \t\t 7 \t\t 20\n"
     ]
    },
    {
     "name": "stdout",
     "output_type": "stream",
     "text": [
      "0.578344452786 \t\t 26 \t\t 7 \t\t 21\n"
     ]
    },
    {
     "name": "stdout",
     "output_type": "stream",
     "text": [
      "0.578336504596 \t\t 26 \t\t 7 \t\t 22\n"
     ]
    },
    {
     "name": "stdout",
     "output_type": "stream",
     "text": [
      "0.578338445974 \t\t 26 \t\t 7 \t\t 23\n"
     ]
    },
    {
     "name": "stdout",
     "output_type": "stream",
     "text": [
      "0.57833821645 \t\t 26 \t\t 7 \t\t 24\n"
     ]
    },
    {
     "name": "stdout",
     "output_type": "stream",
     "text": [
      "0.578338140762 \t\t 26 \t\t 7 \t\t 25\n"
     ]
    },
    {
     "name": "stdout",
     "output_type": "stream",
     "text": [
      "0.665553042093 \t\t 26 \t\t 8 \t\t 3\n"
     ]
    },
    {
     "name": "stdout",
     "output_type": "stream",
     "text": [
      "0.677792318171 \t\t 26 \t\t 8 \t\t 4\n"
     ]
    },
    {
     "name": "stdout",
     "output_type": "stream",
     "text": [
      "0.671309663158 \t\t 26 \t\t 8 \t\t 5\n"
     ]
    },
    {
     "name": "stdout",
     "output_type": "stream",
     "text": [
      "0.661866733039 \t\t 26 \t\t 8 \t\t 6\n"
     ]
    },
    {
     "name": "stdout",
     "output_type": "stream",
     "text": [
      "0.665493376364 \t\t 26 \t\t 8 \t\t 7\n"
     ]
    },
    {
     "name": "stdout",
     "output_type": "stream",
     "text": [
      "0.638945133722 \t\t 26 \t\t 8 \t\t 8\n"
     ]
    },
    {
     "name": "stdout",
     "output_type": "stream",
     "text": [
      "0.637261829077 \t\t 26 \t\t 8 \t\t 9\n"
     ]
    },
    {
     "name": "stdout",
     "output_type": "stream",
     "text": [
      "0.612994671042 \t\t 26 \t\t 8 \t\t 10\n"
     ]
    },
    {
     "name": "stdout",
     "output_type": "stream",
     "text": [
      "0.618657633345 \t\t 26 \t\t 8 \t\t 11\n"
     ]
    },
    {
     "name": "stdout",
     "output_type": "stream",
     "text": [
      "0.617238503292 \t\t 26 \t\t 8 \t\t 12\n"
     ]
    },
    {
     "name": "stdout",
     "output_type": "stream",
     "text": [
      "0.616624482026 \t\t 26 \t\t 8 \t\t 13\n"
     ]
    },
    {
     "name": "stdout",
     "output_type": "stream",
     "text": [
      "0.616685978377 \t\t 26 \t\t 8 \t\t 14\n"
     ]
    },
    {
     "name": "stdout",
     "output_type": "stream",
     "text": [
      "0.616588500148 \t\t 26 \t\t 8 \t\t 15\n"
     ]
    },
    {
     "name": "stdout",
     "output_type": "stream",
     "text": [
      "0.615284550875 \t\t 26 \t\t 8 \t\t 16\n"
     ]
    },
    {
     "name": "stdout",
     "output_type": "stream",
     "text": [
      "0.611514390001 \t\t 26 \t\t 8 \t\t 17\n"
     ]
    },
    {
     "name": "stdout",
     "output_type": "stream",
     "text": [
      "0.603969739006 \t\t 26 \t\t 8 \t\t 18\n"
     ]
    },
    {
     "name": "stdout",
     "output_type": "stream",
     "text": [
      "0.602905495198 \t\t 26 \t\t 8 \t\t 19\n"
     ]
    },
    {
     "name": "stdout",
     "output_type": "stream",
     "text": [
      "0.604619440255 \t\t 26 \t\t 8 \t\t 20\n"
     ]
    },
    {
     "name": "stdout",
     "output_type": "stream",
     "text": [
      "0.604343789191 \t\t 26 \t\t 8 \t\t 21\n"
     ]
    },
    {
     "name": "stdout",
     "output_type": "stream",
     "text": [
      "0.604329838274 \t\t 26 \t\t 8 \t\t 22\n"
     ]
    },
    {
     "name": "stdout",
     "output_type": "stream",
     "text": [
      "0.604329922494 \t\t 26 \t\t 8 \t\t 23\n"
     ]
    },
    {
     "name": "stdout",
     "output_type": "stream",
     "text": [
      "0.604331791738 \t\t 26 \t\t 8 \t\t 24\n"
     ]
    },
    {
     "name": "stdout",
     "output_type": "stream",
     "text": [
      "0.604331919881 \t\t 26 \t\t 8 \t\t 25\n"
     ]
    },
    {
     "name": "stdout",
     "output_type": "stream",
     "text": [
      "0.680903909311 \t\t 26 \t\t 9 \t\t 3\n"
     ]
    },
    {
     "name": "stdout",
     "output_type": "stream",
     "text": [
      "0.683409496964 \t\t 26 \t\t 9 \t\t 4\n"
     ]
    },
    {
     "name": "stdout",
     "output_type": "stream",
     "text": [
      "0.68334131192 \t\t 26 \t\t 9 \t\t 5\n"
     ]
    },
    {
     "name": "stdout",
     "output_type": "stream",
     "text": [
      "0.683075864768 \t\t 26 \t\t 9 \t\t 6\n"
     ]
    },
    {
     "name": "stdout",
     "output_type": "stream",
     "text": [
      "0.680939405184 \t\t 26 \t\t 9 \t\t 7\n"
     ]
    },
    {
     "name": "stdout",
     "output_type": "stream",
     "text": [
      "0.68088918267 \t\t 26 \t\t 9 \t\t 8\n"
     ]
    },
    {
     "name": "stdout",
     "output_type": "stream",
     "text": [
      "0.681477916079 \t\t 26 \t\t 9 \t\t 9\n"
     ]
    },
    {
     "name": "stdout",
     "output_type": "stream",
     "text": [
      "0.680528335183 \t\t 26 \t\t 9 \t\t 10\n"
     ]
    },
    {
     "name": "stdout",
     "output_type": "stream",
     "text": [
      "0.680335832925 \t\t 26 \t\t 9 \t\t 11\n"
     ]
    },
    {
     "name": "stdout",
     "output_type": "stream",
     "text": [
      "0.681259139581 \t\t 26 \t\t 9 \t\t 12\n"
     ]
    },
    {
     "name": "stdout",
     "output_type": "stream",
     "text": [
      "0.681260115064 \t\t 26 \t\t 9 \t\t 13\n"
     ]
    },
    {
     "name": "stdout",
     "output_type": "stream",
     "text": [
      "0.681268499863 \t\t 26 \t\t 9 \t\t 14\n"
     ]
    },
    {
     "name": "stdout",
     "output_type": "stream",
     "text": [
      "0.681285937634 \t\t 26 \t\t 9 \t\t 15\n"
     ]
    },
    {
     "name": "stdout",
     "output_type": "stream",
     "text": [
      "0.681300343586 \t\t 26 \t\t 9 \t\t 16\n"
     ]
    },
    {
     "name": "stdout",
     "output_type": "stream",
     "text": [
      "0.681297219162 \t\t 26 \t\t 9 \t\t 17\n"
     ]
    },
    {
     "name": "stdout",
     "output_type": "stream",
     "text": [
      "0.68125834378 \t\t 26 \t\t 9 \t\t 18\n"
     ]
    },
    {
     "name": "stderr",
     "output_type": "stream",
     "text": [
      "/Users/maxwelllee54/anaconda/lib/python3.5/site-packages/sklearn/linear_model/base.py:352: RuntimeWarning: overflow encountered in exp\n  np.exp(prob, prob)\n"
     ]
    },
    {
     "name": "stdout",
     "output_type": "stream",
     "text": [
      "0.681295437478 \t\t 26 \t\t 9 \t\t 19\n"
     ]
    },
    {
     "name": "stderr",
     "output_type": "stream",
     "text": [
      "/Users/maxwelllee54/anaconda/lib/python3.5/site-packages/sklearn/linear_model/base.py:352: RuntimeWarning: overflow encountered in exp\n  np.exp(prob, prob)\n"
     ]
    },
    {
     "name": "stdout",
     "output_type": "stream",
     "text": [
      "0.681291319129 \t\t 26 \t\t 9 \t\t 20\n"
     ]
    },
    {
     "name": "stdout",
     "output_type": "stream",
     "text": [
      "0.681293392274 \t\t 26 \t\t 9 \t\t 21\n"
     ]
    },
    {
     "name": "stdout",
     "output_type": "stream",
     "text": [
      "0.681293068333 \t\t 26 \t\t 9 \t\t 22\n"
     ]
    },
    {
     "name": "stdout",
     "output_type": "stream",
     "text": [
      "0.681292906331 \t\t 26 \t\t 9 \t\t 23\n"
     ]
    },
    {
     "name": "stdout",
     "output_type": "stream",
     "text": [
      "0.681292906866 \t\t 26 \t\t 9 \t\t 24\n"
     ]
    },
    {
     "name": "stderr",
     "output_type": "stream",
     "text": [
      "/Users/maxwelllee54/anaconda/lib/python3.5/site-packages/sklearn/linear_model/base.py:352: RuntimeWarning: overflow encountered in exp\n  np.exp(prob, prob)\n"
     ]
    },
    {
     "name": "stdout",
     "output_type": "stream",
     "text": [
      "0.681292906808 \t\t 26 \t\t 9 \t\t 25\n"
     ]
    },
    {
     "name": "stdout",
     "output_type": "stream",
     "text": [
      "0.61985995541 \t\t 27 \t\t 1 \t\t 3\n"
     ]
    },
    {
     "name": "stdout",
     "output_type": "stream",
     "text": [
      "0.617469839971 \t\t 27 \t\t 1 \t\t 4\n"
     ]
    },
    {
     "name": "stdout",
     "output_type": "stream",
     "text": [
      "0.61280205595 \t\t 27 \t\t 1 \t\t 5\n"
     ]
    },
    {
     "name": "stdout",
     "output_type": "stream",
     "text": [
      "0.568392573777 \t\t 27 \t\t 1 \t\t 6\n"
     ]
    },
    {
     "name": "stdout",
     "output_type": "stream",
     "text": [
      "0.570140821016 \t\t 27 \t\t 1 \t\t 7\n"
     ]
    },
    {
     "name": "stdout",
     "output_type": "stream",
     "text": [
      "0.557892156776 \t\t 27 \t\t 1 \t\t 8\n"
     ]
    },
    {
     "name": "stdout",
     "output_type": "stream",
     "text": [
      "0.554011649202 \t\t 27 \t\t 1 \t\t 9\n"
     ]
    },
    {
     "name": "stdout",
     "output_type": "stream",
     "text": [
      "0.482602598188 \t\t 27 \t\t 1 \t\t 10\n"
     ]
    },
    {
     "name": "stdout",
     "output_type": "stream",
     "text": [
      "0.492255194233 \t\t 27 \t\t 1 \t\t 11\n"
     ]
    },
    {
     "name": "stdout",
     "output_type": "stream",
     "text": [
      "0.501366224919 \t\t 27 \t\t 1 \t\t 12\n"
     ]
    },
    {
     "name": "stdout",
     "output_type": "stream",
     "text": [
      "0.498638622641 \t\t 27 \t\t 1 \t\t 13\n"
     ]
    },
    {
     "name": "stdout",
     "output_type": "stream",
     "text": [
      "0.492515502049 \t\t 27 \t\t 1 \t\t 14\n"
     ]
    },
    {
     "name": "stdout",
     "output_type": "stream",
     "text": [
      "0.490052510376 \t\t 27 \t\t 1 \t\t 15\n"
     ]
    },
    {
     "name": "stdout",
     "output_type": "stream",
     "text": [
      "0.488318907777 \t\t 27 \t\t 1 \t\t 16\n"
     ]
    },
    {
     "name": "stdout",
     "output_type": "stream",
     "text": [
      "0.48408718965 \t\t 27 \t\t 1 \t\t 17\n"
     ]
    },
    {
     "name": "stdout",
     "output_type": "stream",
     "text": [
      "0.465827682788 \t\t 27 \t\t 1 \t\t 18\n"
     ]
    },
    {
     "name": "stdout",
     "output_type": "stream",
     "text": [
      "0.465892591237 \t\t 27 \t\t 1 \t\t 19\n"
     ]
    },
    {
     "name": "stdout",
     "output_type": "stream",
     "text": [
      "0.472189458342 \t\t 27 \t\t 1 \t\t 20\n"
     ]
    },
    {
     "name": "stdout",
     "output_type": "stream",
     "text": [
      "0.474118090474 \t\t 27 \t\t 1 \t\t 21\n"
     ]
    },
    {
     "name": "stdout",
     "output_type": "stream",
     "text": [
      "0.476454467897 \t\t 27 \t\t 1 \t\t 22\n"
     ]
    },
    {
     "name": "stdout",
     "output_type": "stream",
     "text": [
      "0.476299543873 \t\t 27 \t\t 1 \t\t 23\n"
     ]
    },
    {
     "name": "stdout",
     "output_type": "stream",
     "text": [
      "0.476318932598 \t\t 27 \t\t 1 \t\t 24\n"
     ]
    },
    {
     "name": "stdout",
     "output_type": "stream",
     "text": [
      "0.476312012023 \t\t 27 \t\t 1 \t\t 25\n"
     ]
    },
    {
     "name": "stdout",
     "output_type": "stream",
     "text": [
      "0.476311584714 \t\t 27 \t\t 1 \t\t 26\n"
     ]
    },
    {
     "name": "stdout",
     "output_type": "stream",
     "text": [
      "0.646824748952 \t\t 27 \t\t 2 \t\t 3\n"
     ]
    },
    {
     "name": "stdout",
     "output_type": "stream",
     "text": [
      "0.643577246837 \t\t 27 \t\t 2 \t\t 4\n"
     ]
    },
    {
     "name": "stdout",
     "output_type": "stream",
     "text": [
      "0.643280402186 \t\t 27 \t\t 2 \t\t 5\n"
     ]
    },
    {
     "name": "stdout",
     "output_type": "stream",
     "text": [
      "0.600896673342 \t\t 27 \t\t 2 \t\t 6\n"
     ]
    },
    {
     "name": "stdout",
     "output_type": "stream",
     "text": [
      "0.597490044586 \t\t 27 \t\t 2 \t\t 7\n"
     ]
    },
    {
     "name": "stdout",
     "output_type": "stream",
     "text": [
      "0.572719624891 \t\t 27 \t\t 2 \t\t 8\n"
     ]
    },
    {
     "name": "stdout",
     "output_type": "stream",
     "text": [
      "0.567205940041 \t\t 27 \t\t 2 \t\t 9\n"
     ]
    },
    {
     "name": "stdout",
     "output_type": "stream",
     "text": [
      "0.538975140149 \t\t 27 \t\t 2 \t\t 10\n"
     ]
    },
    {
     "name": "stdout",
     "output_type": "stream",
     "text": [
      "0.534045714506 \t\t 27 \t\t 2 \t\t 11\n"
     ]
    },
    {
     "name": "stdout",
     "output_type": "stream",
     "text": [
      "0.533279762066 \t\t 27 \t\t 2 \t\t 12\n"
     ]
    },
    {
     "name": "stdout",
     "output_type": "stream",
     "text": [
      "0.532531754391 \t\t 27 \t\t 2 \t\t 13\n"
     ]
    },
    {
     "name": "stdout",
     "output_type": "stream",
     "text": [
      "0.531186163261 \t\t 27 \t\t 2 \t\t 14\n"
     ]
    },
    {
     "name": "stdout",
     "output_type": "stream",
     "text": [
      "0.529019936466 \t\t 27 \t\t 2 \t\t 15\n"
     ]
    },
    {
     "name": "stdout",
     "output_type": "stream",
     "text": [
      "0.53224220478 \t\t 27 \t\t 2 \t\t 16\n"
     ]
    },
    {
     "name": "stdout",
     "output_type": "stream",
     "text": [
      "0.532352368386 \t\t 27 \t\t 2 \t\t 17\n"
     ]
    },
    {
     "name": "stdout",
     "output_type": "stream",
     "text": [
      "0.508118564741 \t\t 27 \t\t 2 \t\t 18\n"
     ]
    },
    {
     "name": "stdout",
     "output_type": "stream",
     "text": [
      "0.507701579954 \t\t 27 \t\t 2 \t\t 19\n"
     ]
    },
    {
     "name": "stdout",
     "output_type": "stream",
     "text": [
      "0.506141313501 \t\t 27 \t\t 2 \t\t 20\n"
     ]
    },
    {
     "name": "stdout",
     "output_type": "stream",
     "text": [
      "0.506055418611 \t\t 27 \t\t 2 \t\t 21\n"
     ]
    },
    {
     "name": "stdout",
     "output_type": "stream",
     "text": [
      "0.506240130003 \t\t 27 \t\t 2 \t\t 22\n"
     ]
    },
    {
     "name": "stdout",
     "output_type": "stream",
     "text": [
      "0.506112250245 \t\t 27 \t\t 2 \t\t 23\n"
     ]
    },
    {
     "name": "stdout",
     "output_type": "stream",
     "text": [
      "0.506112279667 \t\t 27 \t\t 2 \t\t 24\n"
     ]
    },
    {
     "name": "stdout",
     "output_type": "stream",
     "text": [
      "0.506111607035 \t\t 27 \t\t 2 \t\t 25\n"
     ]
    },
    {
     "name": "stdout",
     "output_type": "stream",
     "text": [
      "0.506112069548 \t\t 27 \t\t 2 \t\t 26\n"
     ]
    },
    {
     "name": "stdout",
     "output_type": "stream",
     "text": [
      "0.629742162707 \t\t 27 \t\t 3 \t\t 3\n"
     ]
    },
    {
     "name": "stdout",
     "output_type": "stream",
     "text": [
      "0.621828802059 \t\t 27 \t\t 3 \t\t 4\n"
     ]
    },
    {
     "name": "stdout",
     "output_type": "stream",
     "text": [
      "0.622878810395 \t\t 27 \t\t 3 \t\t 5\n"
     ]
    },
    {
     "name": "stdout",
     "output_type": "stream",
     "text": [
      "0.595087411912 \t\t 27 \t\t 3 \t\t 6\n"
     ]
    },
    {
     "name": "stdout",
     "output_type": "stream",
     "text": [
      "0.594843496698 \t\t 27 \t\t 3 \t\t 7\n"
     ]
    },
    {
     "name": "stdout",
     "output_type": "stream",
     "text": [
      "0.579539935803 \t\t 27 \t\t 3 \t\t 8\n"
     ]
    },
    {
     "name": "stdout",
     "output_type": "stream",
     "text": [
      "0.56627837144 \t\t 27 \t\t 3 \t\t 9\n"
     ]
    },
    {
     "name": "stdout",
     "output_type": "stream",
     "text": [
      "0.566889275854 \t\t 27 \t\t 3 \t\t 10\n"
     ]
    },
    {
     "name": "stdout",
     "output_type": "stream",
     "text": [
      "0.565125434324 \t\t 27 \t\t 3 \t\t 11\n"
     ]
    },
    {
     "name": "stdout",
     "output_type": "stream",
     "text": [
      "0.565629334537 \t\t 27 \t\t 3 \t\t 12\n"
     ]
    },
    {
     "name": "stdout",
     "output_type": "stream",
     "text": [
      "0.56810985515 \t\t 27 \t\t 3 \t\t 13\n"
     ]
    },
    {
     "name": "stdout",
     "output_type": "stream",
     "text": [
      "0.581450648396 \t\t 27 \t\t 3 \t\t 14\n"
     ]
    },
    {
     "name": "stdout",
     "output_type": "stream",
     "text": [
      "0.583794959215 \t\t 27 \t\t 3 \t\t 15\n"
     ]
    },
    {
     "name": "stdout",
     "output_type": "stream",
     "text": [
      "0.582321097906 \t\t 27 \t\t 3 \t\t 16\n"
     ]
    },
    {
     "name": "stdout",
     "output_type": "stream",
     "text": [
      "0.58323154838 \t\t 27 \t\t 3 \t\t 17\n"
     ]
    },
    {
     "name": "stdout",
     "output_type": "stream",
     "text": [
      "0.562856643585 \t\t 27 \t\t 3 \t\t 18\n"
     ]
    },
    {
     "name": "stdout",
     "output_type": "stream",
     "text": [
      "0.560700472019 \t\t 27 \t\t 3 \t\t 19\n"
     ]
    },
    {
     "name": "stdout",
     "output_type": "stream",
     "text": [
      "0.559811775608 \t\t 27 \t\t 3 \t\t 20\n"
     ]
    },
    {
     "name": "stdout",
     "output_type": "stream",
     "text": [
      "0.55964199584 \t\t 27 \t\t 3 \t\t 21\n"
     ]
    },
    {
     "name": "stdout",
     "output_type": "stream",
     "text": [
      "0.559313963513 \t\t 27 \t\t 3 \t\t 22\n"
     ]
    },
    {
     "name": "stdout",
     "output_type": "stream",
     "text": [
      "0.559193824307 \t\t 27 \t\t 3 \t\t 23\n"
     ]
    },
    {
     "name": "stdout",
     "output_type": "stream",
     "text": [
      "0.559194832858 \t\t 27 \t\t 3 \t\t 24\n"
     ]
    },
    {
     "name": "stdout",
     "output_type": "stream",
     "text": [
      "0.559187781696 \t\t 27 \t\t 3 \t\t 25\n"
     ]
    },
    {
     "name": "stdout",
     "output_type": "stream",
     "text": [
      "0.559188024505 \t\t 27 \t\t 3 \t\t 26\n"
     ]
    },
    {
     "name": "stdout",
     "output_type": "stream",
     "text": [
      "0.659080308359 \t\t 27 \t\t 4 \t\t 3\n"
     ]
    },
    {
     "name": "stdout",
     "output_type": "stream",
     "text": [
      "0.658327709153 \t\t 27 \t\t 4 \t\t 4\n"
     ]
    },
    {
     "name": "stdout",
     "output_type": "stream",
     "text": [
      "0.649947046169 \t\t 27 \t\t 4 \t\t 5\n"
     ]
    },
    {
     "name": "stdout",
     "output_type": "stream",
     "text": [
      "0.635257197566 \t\t 27 \t\t 4 \t\t 6\n"
     ]
    },
    {
     "name": "stdout",
     "output_type": "stream",
     "text": [
      "0.623075958942 \t\t 27 \t\t 4 \t\t 7\n"
     ]
    },
    {
     "name": "stdout",
     "output_type": "stream",
     "text": [
      "0.613376190743 \t\t 27 \t\t 4 \t\t 8\n"
     ]
    },
    {
     "name": "stdout",
     "output_type": "stream",
     "text": [
      "0.606217102182 \t\t 27 \t\t 4 \t\t 9\n"
     ]
    },
    {
     "name": "stdout",
     "output_type": "stream",
     "text": [
      "0.583805858143 \t\t 27 \t\t 4 \t\t 10\n"
     ]
    },
    {
     "name": "stdout",
     "output_type": "stream",
     "text": [
      "0.583170460911 \t\t 27 \t\t 4 \t\t 11\n"
     ]
    },
    {
     "name": "stdout",
     "output_type": "stream",
     "text": [
      "0.586481856488 \t\t 27 \t\t 4 \t\t 12\n"
     ]
    },
    {
     "name": "stdout",
     "output_type": "stream",
     "text": [
      "0.584971003314 \t\t 27 \t\t 4 \t\t 13\n"
     ]
    },
    {
     "name": "stdout",
     "output_type": "stream",
     "text": [
      "0.585272994974 \t\t 27 \t\t 4 \t\t 14\n"
     ]
    },
    {
     "name": "stdout",
     "output_type": "stream",
     "text": [
      "0.586167715194 \t\t 27 \t\t 4 \t\t 15\n"
     ]
    },
    {
     "name": "stdout",
     "output_type": "stream",
     "text": [
      "0.584510760523 \t\t 27 \t\t 4 \t\t 16\n"
     ]
    },
    {
     "name": "stdout",
     "output_type": "stream",
     "text": [
      "0.583203135216 \t\t 27 \t\t 4 \t\t 17\n"
     ]
    },
    {
     "name": "stdout",
     "output_type": "stream",
     "text": [
      "0.570774822579 \t\t 27 \t\t 4 \t\t 18\n"
     ]
    },
    {
     "name": "stdout",
     "output_type": "stream",
     "text": [
      "0.569872188325 \t\t 27 \t\t 4 \t\t 19\n"
     ]
    },
    {
     "name": "stdout",
     "output_type": "stream",
     "text": [
      "0.569881950252 \t\t 27 \t\t 4 \t\t 20\n"
     ]
    },
    {
     "name": "stdout",
     "output_type": "stream",
     "text": [
      "0.570852950672 \t\t 27 \t\t 4 \t\t 21\n"
     ]
    },
    {
     "name": "stdout",
     "output_type": "stream",
     "text": [
      "0.570947423415 \t\t 27 \t\t 4 \t\t 22\n"
     ]
    },
    {
     "name": "stdout",
     "output_type": "stream",
     "text": [
      "0.570862292395 \t\t 27 \t\t 4 \t\t 23\n"
     ]
    },
    {
     "name": "stdout",
     "output_type": "stream",
     "text": [
      "0.570896611912 \t\t 27 \t\t 4 \t\t 24\n"
     ]
    },
    {
     "name": "stdout",
     "output_type": "stream",
     "text": [
      "0.570895607976 \t\t 27 \t\t 4 \t\t 25\n"
     ]
    },
    {
     "name": "stdout",
     "output_type": "stream",
     "text": [
      "0.57089563345 \t\t 27 \t\t 4 \t\t 26\n"
     ]
    },
    {
     "name": "stdout",
     "output_type": "stream",
     "text": [
      "0.634607328959 \t\t 27 \t\t 5 \t\t 3\n"
     ]
    },
    {
     "name": "stdout",
     "output_type": "stream",
     "text": [
      "0.633417353738 \t\t 27 \t\t 5 \t\t 4\n"
     ]
    },
    {
     "name": "stdout",
     "output_type": "stream",
     "text": [
      "0.630471584654 \t\t 27 \t\t 5 \t\t 5\n"
     ]
    },
    {
     "name": "stdout",
     "output_type": "stream",
     "text": [
      "0.610022339794 \t\t 27 \t\t 5 \t\t 6\n"
     ]
    },
    {
     "name": "stdout",
     "output_type": "stream",
     "text": [
      "0.600762450685 \t\t 27 \t\t 5 \t\t 7\n"
     ]
    },
    {
     "name": "stdout",
     "output_type": "stream",
     "text": [
      "0.588245545045 \t\t 27 \t\t 5 \t\t 8\n"
     ]
    },
    {
     "name": "stdout",
     "output_type": "stream",
     "text": [
      "0.585489185184 \t\t 27 \t\t 5 \t\t 9\n"
     ]
    },
    {
     "name": "stdout",
     "output_type": "stream",
     "text": [
      "0.555200046785 \t\t 27 \t\t 5 \t\t 10\n"
     ]
    },
    {
     "name": "stdout",
     "output_type": "stream",
     "text": [
      "0.555087194551 \t\t 27 \t\t 5 \t\t 11\n"
     ]
    },
    {
     "name": "stdout",
     "output_type": "stream",
     "text": [
      "0.555180825311 \t\t 27 \t\t 5 \t\t 12\n"
     ]
    },
    {
     "name": "stdout",
     "output_type": "stream",
     "text": [
      "0.557165469359 \t\t 27 \t\t 5 \t\t 13\n"
     ]
    },
    {
     "name": "stdout",
     "output_type": "stream",
     "text": [
      "0.552330663013 \t\t 27 \t\t 5 \t\t 14\n"
     ]
    },
    {
     "name": "stdout",
     "output_type": "stream",
     "text": [
      "0.553314940626 \t\t 27 \t\t 5 \t\t 15\n"
     ]
    },
    {
     "name": "stdout",
     "output_type": "stream",
     "text": [
      "0.554378245969 \t\t 27 \t\t 5 \t\t 16\n"
     ]
    },
    {
     "name": "stdout",
     "output_type": "stream",
     "text": [
      "0.550855868219 \t\t 27 \t\t 5 \t\t 17\n"
     ]
    },
    {
     "name": "stdout",
     "output_type": "stream",
     "text": [
      "0.531508318768 \t\t 27 \t\t 5 \t\t 18\n"
     ]
    },
    {
     "name": "stdout",
     "output_type": "stream",
     "text": [
      "0.531399031247 \t\t 27 \t\t 5 \t\t 19\n"
     ]
    },
    {
     "name": "stdout",
     "output_type": "stream",
     "text": [
      "0.531285140434 \t\t 27 \t\t 5 \t\t 20\n"
     ]
    },
    {
     "name": "stdout",
     "output_type": "stream",
     "text": [
      "0.531277381491 \t\t 27 \t\t 5 \t\t 21\n"
     ]
    },
    {
     "name": "stdout",
     "output_type": "stream",
     "text": [
      "0.531328625518 \t\t 27 \t\t 5 \t\t 22\n"
     ]
    },
    {
     "name": "stdout",
     "output_type": "stream",
     "text": [
      "0.531283872917 \t\t 27 \t\t 5 \t\t 23\n"
     ]
    },
    {
     "name": "stdout",
     "output_type": "stream",
     "text": [
      "0.531302146311 \t\t 27 \t\t 5 \t\t 24\n"
     ]
    },
    {
     "name": "stdout",
     "output_type": "stream",
     "text": [
      "0.531301389171 \t\t 27 \t\t 5 \t\t 25\n"
     ]
    },
    {
     "name": "stdout",
     "output_type": "stream",
     "text": [
      "0.531301455717 \t\t 27 \t\t 5 \t\t 26\n"
     ]
    },
    {
     "name": "stdout",
     "output_type": "stream",
     "text": [
      "0.634241936823 \t\t 27 \t\t 6 \t\t 3\n"
     ]
    },
    {
     "name": "stdout",
     "output_type": "stream",
     "text": [
      "0.633128331922 \t\t 27 \t\t 6 \t\t 4\n"
     ]
    },
    {
     "name": "stdout",
     "output_type": "stream",
     "text": [
      "0.629038570675 \t\t 27 \t\t 6 \t\t 5\n"
     ]
    },
    {
     "name": "stdout",
     "output_type": "stream",
     "text": [
      "0.608978665358 \t\t 27 \t\t 6 \t\t 6\n"
     ]
    },
    {
     "name": "stdout",
     "output_type": "stream",
     "text": [
      "0.602516065079 \t\t 27 \t\t 6 \t\t 7\n"
     ]
    },
    {
     "name": "stdout",
     "output_type": "stream",
     "text": [
      "0.585087742897 \t\t 27 \t\t 6 \t\t 8\n"
     ]
    },
    {
     "name": "stdout",
     "output_type": "stream",
     "text": [
      "0.585400980549 \t\t 27 \t\t 6 \t\t 9\n"
     ]
    },
    {
     "name": "stdout",
     "output_type": "stream",
     "text": [
      "0.58449896878 \t\t 27 \t\t 6 \t\t 10\n"
     ]
    },
    {
     "name": "stdout",
     "output_type": "stream",
     "text": [
      "0.568430443749 \t\t 27 \t\t 6 \t\t 11\n"
     ]
    },
    {
     "name": "stdout",
     "output_type": "stream",
     "text": [
      "0.567818047325 \t\t 27 \t\t 6 \t\t 12\n"
     ]
    },
    {
     "name": "stdout",
     "output_type": "stream",
     "text": [
      "0.567675967462 \t\t 27 \t\t 6 \t\t 13\n"
     ]
    },
    {
     "name": "stdout",
     "output_type": "stream",
     "text": [
      "0.567648481785 \t\t 27 \t\t 6 \t\t 14\n"
     ]
    },
    {
     "name": "stdout",
     "output_type": "stream",
     "text": [
      "0.567690273931 \t\t 27 \t\t 6 \t\t 15\n"
     ]
    },
    {
     "name": "stdout",
     "output_type": "stream",
     "text": [
      "0.567603084461 \t\t 27 \t\t 6 \t\t 16\n"
     ]
    },
    {
     "name": "stdout",
     "output_type": "stream",
     "text": [
      "0.565814785793 \t\t 27 \t\t 6 \t\t 17\n"
     ]
    },
    {
     "name": "stdout",
     "output_type": "stream",
     "text": [
      "0.54877379799 \t\t 27 \t\t 6 \t\t 18\n"
     ]
    },
    {
     "name": "stdout",
     "output_type": "stream",
     "text": [
      "0.551998045239 \t\t 27 \t\t 6 \t\t 19\n"
     ]
    },
    {
     "name": "stdout",
     "output_type": "stream",
     "text": [
      "0.554078547366 \t\t 27 \t\t 6 \t\t 20\n"
     ]
    },
    {
     "name": "stdout",
     "output_type": "stream",
     "text": [
      "0.554091228078 \t\t 27 \t\t 6 \t\t 21\n"
     ]
    },
    {
     "name": "stdout",
     "output_type": "stream",
     "text": [
      "0.554204900919 \t\t 27 \t\t 6 \t\t 22\n"
     ]
    },
    {
     "name": "stdout",
     "output_type": "stream",
     "text": [
      "0.554186321561 \t\t 27 \t\t 6 \t\t 23\n"
     ]
    },
    {
     "name": "stdout",
     "output_type": "stream",
     "text": [
      "0.554177832716 \t\t 27 \t\t 6 \t\t 24\n"
     ]
    },
    {
     "name": "stdout",
     "output_type": "stream",
     "text": [
      "0.554179800518 \t\t 27 \t\t 6 \t\t 25\n"
     ]
    },
    {
     "name": "stdout",
     "output_type": "stream",
     "text": [
      "0.554179762268 \t\t 27 \t\t 6 \t\t 26\n"
     ]
    },
    {
     "name": "stdout",
     "output_type": "stream",
     "text": [
      "0.633619260538 \t\t 27 \t\t 7 \t\t 3\n"
     ]
    },
    {
     "name": "stdout",
     "output_type": "stream",
     "text": [
      "0.634668046977 \t\t 27 \t\t 7 \t\t 4\n"
     ]
    },
    {
     "name": "stdout",
     "output_type": "stream",
     "text": [
      "0.633668639493 \t\t 27 \t\t 7 \t\t 5\n"
     ]
    },
    {
     "name": "stdout",
     "output_type": "stream",
     "text": [
      "0.61416489741 \t\t 27 \t\t 7 \t\t 6\n"
     ]
    },
    {
     "name": "stdout",
     "output_type": "stream",
     "text": [
      "0.626148245288 \t\t 27 \t\t 7 \t\t 7\n"
     ]
    },
    {
     "name": "stdout",
     "output_type": "stream",
     "text": [
      "0.610183579769 \t\t 27 \t\t 7 \t\t 8\n"
     ]
    },
    {
     "name": "stdout",
     "output_type": "stream",
     "text": [
      "0.610300517018 \t\t 27 \t\t 7 \t\t 9\n"
     ]
    },
    {
     "name": "stdout",
     "output_type": "stream",
     "text": [
      "0.588700944197 \t\t 27 \t\t 7 \t\t 10\n"
     ]
    },
    {
     "name": "stdout",
     "output_type": "stream",
     "text": [
      "0.58884906687 \t\t 27 \t\t 7 \t\t 11\n"
     ]
    },
    {
     "name": "stdout",
     "output_type": "stream",
     "text": [
      "0.586616113734 \t\t 27 \t\t 7 \t\t 12\n"
     ]
    },
    {
     "name": "stdout",
     "output_type": "stream",
     "text": [
      "0.586611943379 \t\t 27 \t\t 7 \t\t 13\n"
     ]
    },
    {
     "name": "stdout",
     "output_type": "stream",
     "text": [
      "0.588636906495 \t\t 27 \t\t 7 \t\t 14\n"
     ]
    },
    {
     "name": "stdout",
     "output_type": "stream",
     "text": [
      "0.588460605952 \t\t 27 \t\t 7 \t\t 15\n"
     ]
    },
    {
     "name": "stdout",
     "output_type": "stream",
     "text": [
      "0.588830215691 \t\t 27 \t\t 7 \t\t 16\n"
     ]
    },
    {
     "name": "stdout",
     "output_type": "stream",
     "text": [
      "0.587301087243 \t\t 27 \t\t 7 \t\t 17\n"
     ]
    },
    {
     "name": "stdout",
     "output_type": "stream",
     "text": [
      "0.58168722959 \t\t 27 \t\t 7 \t\t 18\n"
     ]
    },
    {
     "name": "stdout",
     "output_type": "stream",
     "text": [
      "0.581452275076 \t\t 27 \t\t 7 \t\t 19\n"
     ]
    },
    {
     "name": "stdout",
     "output_type": "stream",
     "text": [
      "0.581045550863 \t\t 27 \t\t 7 \t\t 20\n"
     ]
    },
    {
     "name": "stdout",
     "output_type": "stream",
     "text": [
      "0.58101552441 \t\t 27 \t\t 7 \t\t 21\n"
     ]
    },
    {
     "name": "stdout",
     "output_type": "stream",
     "text": [
      "0.580969153152 \t\t 27 \t\t 7 \t\t 22\n"
     ]
    },
    {
     "name": "stdout",
     "output_type": "stream",
     "text": [
      "0.580953100862 \t\t 27 \t\t 7 \t\t 23\n"
     ]
    },
    {
     "name": "stdout",
     "output_type": "stream",
     "text": [
      "0.580953358161 \t\t 27 \t\t 7 \t\t 24\n"
     ]
    },
    {
     "name": "stdout",
     "output_type": "stream",
     "text": [
      "0.58095490179 \t\t 27 \t\t 7 \t\t 25\n"
     ]
    },
    {
     "name": "stdout",
     "output_type": "stream",
     "text": [
      "0.580954859892 \t\t 27 \t\t 7 \t\t 26\n"
     ]
    },
    {
     "name": "stdout",
     "output_type": "stream",
     "text": [
      "0.639528527816 \t\t 27 \t\t 8 \t\t 3\n"
     ]
    },
    {
     "name": "stdout",
     "output_type": "stream",
     "text": [
      "0.639686141529 \t\t 27 \t\t 8 \t\t 4\n"
     ]
    },
    {
     "name": "stdout",
     "output_type": "stream",
     "text": [
      "0.639400164812 \t\t 27 \t\t 8 \t\t 5\n"
     ]
    },
    {
     "name": "stdout",
     "output_type": "stream",
     "text": [
      "0.60969687803 \t\t 27 \t\t 8 \t\t 6\n"
     ]
    },
    {
     "name": "stdout",
     "output_type": "stream",
     "text": [
      "0.611034465496 \t\t 27 \t\t 8 \t\t 7\n"
     ]
    },
    {
     "name": "stdout",
     "output_type": "stream",
     "text": [
      "0.599058133273 \t\t 27 \t\t 8 \t\t 8\n"
     ]
    },
    {
     "name": "stdout",
     "output_type": "stream",
     "text": [
      "0.592865653056 \t\t 27 \t\t 8 \t\t 9\n"
     ]
    },
    {
     "name": "stdout",
     "output_type": "stream",
     "text": [
      "0.593398681621 \t\t 27 \t\t 8 \t\t 10\n"
     ]
    },
    {
     "name": "stdout",
     "output_type": "stream",
     "text": [
      "0.584989858764 \t\t 27 \t\t 8 \t\t 11\n"
     ]
    },
    {
     "name": "stdout",
     "output_type": "stream",
     "text": [
      "0.587052802836 \t\t 27 \t\t 8 \t\t 12\n"
     ]
    },
    {
     "name": "stdout",
     "output_type": "stream",
     "text": [
      "0.595681704154 \t\t 27 \t\t 8 \t\t 13\n"
     ]
    },
    {
     "name": "stdout",
     "output_type": "stream",
     "text": [
      "0.592838704055 \t\t 27 \t\t 8 \t\t 14\n"
     ]
    },
    {
     "name": "stdout",
     "output_type": "stream",
     "text": [
      "0.59183291055 \t\t 27 \t\t 8 \t\t 15\n"
     ]
    },
    {
     "name": "stdout",
     "output_type": "stream",
     "text": [
      "0.59159466068 \t\t 27 \t\t 8 \t\t 16\n"
     ]
    },
    {
     "name": "stdout",
     "output_type": "stream",
     "text": [
      "0.59262587319 \t\t 27 \t\t 8 \t\t 17\n"
     ]
    },
    {
     "name": "stdout",
     "output_type": "stream",
     "text": [
      "0.584524111356 \t\t 27 \t\t 8 \t\t 18\n"
     ]
    },
    {
     "name": "stdout",
     "output_type": "stream",
     "text": [
      "0.585251151874 \t\t 27 \t\t 8 \t\t 19\n"
     ]
    },
    {
     "name": "stdout",
     "output_type": "stream",
     "text": [
      "0.585802032244 \t\t 27 \t\t 8 \t\t 20\n"
     ]
    },
    {
     "name": "stdout",
     "output_type": "stream",
     "text": [
      "0.585799740214 \t\t 27 \t\t 8 \t\t 21\n"
     ]
    },
    {
     "name": "stdout",
     "output_type": "stream",
     "text": [
      "0.585752661102 \t\t 27 \t\t 8 \t\t 22\n"
     ]
    },
    {
     "name": "stdout",
     "output_type": "stream",
     "text": [
      "0.585757263982 \t\t 27 \t\t 8 \t\t 23\n"
     ]
    },
    {
     "name": "stdout",
     "output_type": "stream",
     "text": [
      "0.58575722423 \t\t 27 \t\t 8 \t\t 24\n"
     ]
    },
    {
     "name": "stdout",
     "output_type": "stream",
     "text": [
      "0.585756080507 \t\t 27 \t\t 8 \t\t 25\n"
     ]
    },
    {
     "name": "stdout",
     "output_type": "stream",
     "text": [
      "0.585755924435 \t\t 27 \t\t 8 \t\t 26\n"
     ]
    },
    {
     "name": "stdout",
     "output_type": "stream",
     "text": [
      "0.663916178759 \t\t 27 \t\t 9 \t\t 3\n"
     ]
    },
    {
     "name": "stdout",
     "output_type": "stream",
     "text": [
      "0.66351202499 \t\t 27 \t\t 9 \t\t 4\n"
     ]
    },
    {
     "name": "stdout",
     "output_type": "stream",
     "text": [
      "0.663529546891 \t\t 27 \t\t 9 \t\t 5\n"
     ]
    },
    {
     "name": "stdout",
     "output_type": "stream",
     "text": [
      "0.701942072254 \t\t 27 \t\t 9 \t\t 6\n"
     ]
    },
    {
     "name": "stdout",
     "output_type": "stream",
     "text": [
      "0.716962507816 \t\t 27 \t\t 9 \t\t 7\n"
     ]
    },
    {
     "name": "stdout",
     "output_type": "stream",
     "text": [
      "0.705558233168 \t\t 27 \t\t 9 \t\t 8\n"
     ]
    },
    {
     "name": "stdout",
     "output_type": "stream",
     "text": [
      "0.715793502491 \t\t 27 \t\t 9 \t\t 9\n"
     ]
    },
    {
     "name": "stdout",
     "output_type": "stream",
     "text": [
      "0.694552556821 \t\t 27 \t\t 9 \t\t 10\n"
     ]
    },
    {
     "name": "stdout",
     "output_type": "stream",
     "text": [
      "0.678633412678 \t\t 27 \t\t 9 \t\t 11\n"
     ]
    },
    {
     "name": "stdout",
     "output_type": "stream",
     "text": [
      "0.675683901395 \t\t 27 \t\t 9 \t\t 12\n"
     ]
    },
    {
     "name": "stdout",
     "output_type": "stream",
     "text": [
      "0.668787162724 \t\t 27 \t\t 9 \t\t 13\n"
     ]
    },
    {
     "name": "stdout",
     "output_type": "stream",
     "text": [
      "0.657341558364 \t\t 27 \t\t 9 \t\t 14\n"
     ]
    },
    {
     "name": "stderr",
     "output_type": "stream",
     "text": [
      "/Users/maxwelllee54/anaconda/lib/python3.5/site-packages/sklearn/linear_model/base.py:352: RuntimeWarning: overflow encountered in exp\n  np.exp(prob, prob)\n"
     ]
    },
    {
     "name": "stdout",
     "output_type": "stream",
     "text": [
      "0.6564023482 \t\t 27 \t\t 9 \t\t 15\n"
     ]
    },
    {
     "name": "stderr",
     "output_type": "stream",
     "text": [
      "/Users/maxwelllee54/anaconda/lib/python3.5/site-packages/sklearn/linear_model/base.py:352: RuntimeWarning: overflow encountered in exp\n  np.exp(prob, prob)\n"
     ]
    },
    {
     "name": "stdout",
     "output_type": "stream",
     "text": [
      "0.657026522907 \t\t 27 \t\t 9 \t\t 16\n"
     ]
    },
    {
     "name": "stdout",
     "output_type": "stream",
     "text": [
      "0.645455971336 \t\t 27 \t\t 9 \t\t 17\n"
     ]
    },
    {
     "name": "stdout",
     "output_type": "stream",
     "text": [
      "0.646089064144 \t\t 27 \t\t 9 \t\t 18\n"
     ]
    },
    {
     "name": "stdout",
     "output_type": "stream",
     "text": [
      "0.645275760278 \t\t 27 \t\t 9 \t\t 19\n"
     ]
    },
    {
     "name": "stderr",
     "output_type": "stream",
     "text": [
      "/Users/maxwelllee54/anaconda/lib/python3.5/site-packages/sklearn/linear_model/base.py:352: RuntimeWarning: overflow encountered in exp\n  np.exp(prob, prob)\n/Users/maxwelllee54/anaconda/lib/python3.5/site-packages/sklearn/linear_model/base.py:352: RuntimeWarning: overflow encountered in exp\n  np.exp(prob, prob)\n"
     ]
    },
    {
     "name": "stdout",
     "output_type": "stream",
     "text": [
      "0.645844408325 \t\t 27 \t\t 9 \t\t 20\n"
     ]
    },
    {
     "name": "stdout",
     "output_type": "stream",
     "text": [
      "0.648383202554 \t\t 27 \t\t 9 \t\t 21\n"
     ]
    },
    {
     "name": "stderr",
     "output_type": "stream",
     "text": [
      "/Users/maxwelllee54/anaconda/lib/python3.5/site-packages/sklearn/linear_model/base.py:352: RuntimeWarning: overflow encountered in exp\n  np.exp(prob, prob)\n"
     ]
    },
    {
     "name": "stdout",
     "output_type": "stream",
     "text": [
      "0.647887473925 \t\t 27 \t\t 9 \t\t 22\n"
     ]
    },
    {
     "name": "stdout",
     "output_type": "stream",
     "text": [
      "0.647865501883 \t\t 27 \t\t 9 \t\t 23\n"
     ]
    },
    {
     "name": "stdout",
     "output_type": "stream",
     "text": [
      "0.647873365619 \t\t 27 \t\t 9 \t\t 24\n"
     ]
    },
    {
     "name": "stdout",
     "output_type": "stream",
     "text": [
      "0.647873539738 \t\t 27 \t\t 9 \t\t 25\n"
     ]
    },
    {
     "name": "stdout",
     "output_type": "stream",
     "text": [
      "0.647873479912 \t\t 27 \t\t 9 \t\t 26\n"
     ]
    },
    {
     "name": "stdout",
     "output_type": "stream",
     "text": [
      "0.673289903207 \t\t 28 \t\t 1 \t\t 3\n"
     ]
    },
    {
     "name": "stdout",
     "output_type": "stream",
     "text": [
      "0.678356633167 \t\t 28 \t\t 1 \t\t 4\n"
     ]
    },
    {
     "name": "stdout",
     "output_type": "stream",
     "text": [
      "0.660774225155 \t\t 28 \t\t 1 \t\t 5\n"
     ]
    },
    {
     "name": "stdout",
     "output_type": "stream",
     "text": [
      "0.616128000886 \t\t 28 \t\t 1 \t\t 6\n"
     ]
    },
    {
     "name": "stdout",
     "output_type": "stream",
     "text": [
      "0.616392834736 \t\t 28 \t\t 1 \t\t 7\n"
     ]
    },
    {
     "name": "stdout",
     "output_type": "stream",
     "text": [
      "0.610110223378 \t\t 28 \t\t 1 \t\t 8\n"
     ]
    },
    {
     "name": "stdout",
     "output_type": "stream",
     "text": [
      "0.620739682798 \t\t 28 \t\t 1 \t\t 9\n"
     ]
    },
    {
     "name": "stdout",
     "output_type": "stream",
     "text": [
      "0.635305674277 \t\t 28 \t\t 1 \t\t 10\n"
     ]
    },
    {
     "name": "stdout",
     "output_type": "stream",
     "text": [
      "0.637495697249 \t\t 28 \t\t 1 \t\t 11\n"
     ]
    },
    {
     "name": "stdout",
     "output_type": "stream",
     "text": [
      "0.632941530712 \t\t 28 \t\t 1 \t\t 12\n"
     ]
    },
    {
     "name": "stdout",
     "output_type": "stream",
     "text": [
      "0.63314665012 \t\t 28 \t\t 1 \t\t 13\n"
     ]
    },
    {
     "name": "stdout",
     "output_type": "stream",
     "text": [
      "0.626806100537 \t\t 28 \t\t 1 \t\t 14\n"
     ]
    },
    {
     "name": "stdout",
     "output_type": "stream",
     "text": [
      "0.620870040478 \t\t 28 \t\t 1 \t\t 15\n"
     ]
    },
    {
     "name": "stdout",
     "output_type": "stream",
     "text": [
      "0.62498523196 \t\t 28 \t\t 1 \t\t 16\n"
     ]
    },
    {
     "name": "stdout",
     "output_type": "stream",
     "text": [
      "0.624009628349 \t\t 28 \t\t 1 \t\t 17\n"
     ]
    },
    {
     "name": "stdout",
     "output_type": "stream",
     "text": [
      "0.623140901953 \t\t 28 \t\t 1 \t\t 18\n"
     ]
    },
    {
     "name": "stdout",
     "output_type": "stream",
     "text": [
      "0.623354430794 \t\t 28 \t\t 1 \t\t 19\n"
     ]
    },
    {
     "name": "stdout",
     "output_type": "stream",
     "text": [
      "0.622220922528 \t\t 28 \t\t 1 \t\t 20\n"
     ]
    },
    {
     "name": "stdout",
     "output_type": "stream",
     "text": [
      "0.620827734925 \t\t 28 \t\t 1 \t\t 21\n"
     ]
    },
    {
     "name": "stdout",
     "output_type": "stream",
     "text": [
      "0.620544347328 \t\t 28 \t\t 1 \t\t 22\n"
     ]
    },
    {
     "name": "stdout",
     "output_type": "stream",
     "text": [
      "0.620646739115 \t\t 28 \t\t 1 \t\t 23\n"
     ]
    },
    {
     "name": "stdout",
     "output_type": "stream",
     "text": [
      "0.620644608265 \t\t 28 \t\t 1 \t\t 24\n"
     ]
    },
    {
     "name": "stdout",
     "output_type": "stream",
     "text": [
      "0.620641780187 \t\t 28 \t\t 1 \t\t 25\n"
     ]
    },
    {
     "name": "stdout",
     "output_type": "stream",
     "text": [
      "0.620642228444 \t\t 28 \t\t 1 \t\t 26\n"
     ]
    },
    {
     "name": "stdout",
     "output_type": "stream",
     "text": [
      "0.620642123611 \t\t 28 \t\t 1 \t\t 27\n"
     ]
    },
    {
     "name": "stdout",
     "output_type": "stream",
     "text": [
      "0.653679239569 \t\t 28 \t\t 2 \t\t 3\n"
     ]
    },
    {
     "name": "stdout",
     "output_type": "stream",
     "text": [
      "0.652503157126 \t\t 28 \t\t 2 \t\t 4\n"
     ]
    },
    {
     "name": "stdout",
     "output_type": "stream",
     "text": [
      "0.641059952427 \t\t 28 \t\t 2 \t\t 5\n"
     ]
    },
    {
     "name": "stdout",
     "output_type": "stream",
     "text": [
      "0.612816620889 \t\t 28 \t\t 2 \t\t 6\n"
     ]
    },
    {
     "name": "stdout",
     "output_type": "stream",
     "text": [
      "0.616910747569 \t\t 28 \t\t 2 \t\t 7\n"
     ]
    },
    {
     "name": "stdout",
     "output_type": "stream",
     "text": [
      "0.616666595788 \t\t 28 \t\t 2 \t\t 8\n"
     ]
    },
    {
     "name": "stdout",
     "output_type": "stream",
     "text": [
      "0.613610552603 \t\t 28 \t\t 2 \t\t 9\n"
     ]
    },
    {
     "name": "stdout",
     "output_type": "stream",
     "text": [
      "0.589672304061 \t\t 28 \t\t 2 \t\t 10\n"
     ]
    },
    {
     "name": "stdout",
     "output_type": "stream",
     "text": [
      "0.589655529521 \t\t 28 \t\t 2 \t\t 11\n"
     ]
    },
    {
     "name": "stdout",
     "output_type": "stream",
     "text": [
      "0.58988377729 \t\t 28 \t\t 2 \t\t 12\n"
     ]
    },
    {
     "name": "stdout",
     "output_type": "stream",
     "text": [
      "0.590576239973 \t\t 28 \t\t 2 \t\t 13\n"
     ]
    },
    {
     "name": "stdout",
     "output_type": "stream",
     "text": [
      "0.599846772943 \t\t 28 \t\t 2 \t\t 14\n"
     ]
    },
    {
     "name": "stdout",
     "output_type": "stream",
     "text": [
      "0.59829521597 \t\t 28 \t\t 2 \t\t 15\n"
     ]
    },
    {
     "name": "stdout",
     "output_type": "stream",
     "text": [
      "0.595869064696 \t\t 28 \t\t 2 \t\t 16\n"
     ]
    },
    {
     "name": "stdout",
     "output_type": "stream",
     "text": [
      "0.592154605986 \t\t 28 \t\t 2 \t\t 17\n"
     ]
    },
    {
     "name": "stdout",
     "output_type": "stream",
     "text": [
      "0.592433522853 \t\t 28 \t\t 2 \t\t 18\n"
     ]
    },
    {
     "name": "stdout",
     "output_type": "stream",
     "text": [
      "0.589126378889 \t\t 28 \t\t 2 \t\t 19\n"
     ]
    },
    {
     "name": "stdout",
     "output_type": "stream",
     "text": [
      "0.588746776965 \t\t 28 \t\t 2 \t\t 20\n"
     ]
    },
    {
     "name": "stdout",
     "output_type": "stream",
     "text": [
      "0.58875993761 \t\t 28 \t\t 2 \t\t 21\n"
     ]
    },
    {
     "name": "stdout",
     "output_type": "stream",
     "text": [
      "0.589068893377 \t\t 28 \t\t 2 \t\t 22\n"
     ]
    },
    {
     "name": "stdout",
     "output_type": "stream",
     "text": [
      "0.589014757472 \t\t 28 \t\t 2 \t\t 23\n"
     ]
    },
    {
     "name": "stdout",
     "output_type": "stream",
     "text": [
      "0.589013657251 \t\t 28 \t\t 2 \t\t 24\n"
     ]
    },
    {
     "name": "stdout",
     "output_type": "stream",
     "text": [
      "0.58901044542 \t\t 28 \t\t 2 \t\t 25\n"
     ]
    },
    {
     "name": "stdout",
     "output_type": "stream",
     "text": [
      "0.589010386405 \t\t 28 \t\t 2 \t\t 26\n"
     ]
    },
    {
     "name": "stdout",
     "output_type": "stream",
     "text": [
      "0.589010445622 \t\t 28 \t\t 2 \t\t 27\n"
     ]
    },
    {
     "name": "stdout",
     "output_type": "stream",
     "text": [
      "0.61577044924 \t\t 28 \t\t 3 \t\t 3\n"
     ]
    },
    {
     "name": "stdout",
     "output_type": "stream",
     "text": [
      "0.620978677119 \t\t 28 \t\t 3 \t\t 4\n"
     ]
    },
    {
     "name": "stdout",
     "output_type": "stream",
     "text": [
      "0.602180412972 \t\t 28 \t\t 3 \t\t 5\n"
     ]
    },
    {
     "name": "stdout",
     "output_type": "stream",
     "text": [
      "0.534687915128 \t\t 28 \t\t 3 \t\t 6\n"
     ]
    },
    {
     "name": "stdout",
     "output_type": "stream",
     "text": [
      "0.536603667402 \t\t 28 \t\t 3 \t\t 7\n"
     ]
    },
    {
     "name": "stdout",
     "output_type": "stream",
     "text": [
      "0.534555076319 \t\t 28 \t\t 3 \t\t 8\n"
     ]
    },
    {
     "name": "stdout",
     "output_type": "stream",
     "text": [
      "0.529487730402 \t\t 28 \t\t 3 \t\t 9\n"
     ]
    },
    {
     "name": "stdout",
     "output_type": "stream",
     "text": [
      "0.518412318655 \t\t 28 \t\t 3 \t\t 10\n"
     ]
    },
    {
     "name": "stdout",
     "output_type": "stream",
     "text": [
      "0.518373524054 \t\t 28 \t\t 3 \t\t 11\n"
     ]
    },
    {
     "name": "stdout",
     "output_type": "stream",
     "text": [
      "0.520302029838 \t\t 28 \t\t 3 \t\t 12\n"
     ]
    },
    {
     "name": "stdout",
     "output_type": "stream",
     "text": [
      "0.521089439491 \t\t 28 \t\t 3 \t\t 13\n"
     ]
    },
    {
     "name": "stdout",
     "output_type": "stream",
     "text": [
      "0.519300162293 \t\t 28 \t\t 3 \t\t 14\n"
     ]
    },
    {
     "name": "stdout",
     "output_type": "stream",
     "text": [
      "0.519310661679 \t\t 28 \t\t 3 \t\t 15\n"
     ]
    },
    {
     "name": "stdout",
     "output_type": "stream",
     "text": [
      "0.516487531174 \t\t 28 \t\t 3 \t\t 16\n"
     ]
    },
    {
     "name": "stdout",
     "output_type": "stream",
     "text": [
      "0.517630597746 \t\t 28 \t\t 3 \t\t 17\n"
     ]
    },
    {
     "name": "stdout",
     "output_type": "stream",
     "text": [
      "0.519564404154 \t\t 28 \t\t 3 \t\t 18\n"
     ]
    },
    {
     "name": "stdout",
     "output_type": "stream",
     "text": [
      "0.521174407825 \t\t 28 \t\t 3 \t\t 19\n"
     ]
    },
    {
     "name": "stdout",
     "output_type": "stream",
     "text": [
      "0.520832050208 \t\t 28 \t\t 3 \t\t 20\n"
     ]
    },
    {
     "name": "stdout",
     "output_type": "stream",
     "text": [
      "0.535096682627 \t\t 28 \t\t 3 \t\t 21\n"
     ]
    },
    {
     "name": "stdout",
     "output_type": "stream",
     "text": [
      "0.535207301262 \t\t 28 \t\t 3 \t\t 22\n"
     ]
    },
    {
     "name": "stdout",
     "output_type": "stream",
     "text": [
      "0.535953444153 \t\t 28 \t\t 3 \t\t 23\n"
     ]
    },
    {
     "name": "stdout",
     "output_type": "stream",
     "text": [
      "0.535953433205 \t\t 28 \t\t 3 \t\t 24\n"
     ]
    },
    {
     "name": "stdout",
     "output_type": "stream",
     "text": [
      "0.5359476485 \t\t 28 \t\t 3 \t\t 25\n"
     ]
    },
    {
     "name": "stdout",
     "output_type": "stream",
     "text": [
      "0.535949694579 \t\t 28 \t\t 3 \t\t 26\n"
     ]
    },
    {
     "name": "stdout",
     "output_type": "stream",
     "text": [
      "0.535949855984 \t\t 28 \t\t 3 \t\t 27\n"
     ]
    },
    {
     "name": "stdout",
     "output_type": "stream",
     "text": [
      "0.640678985762 \t\t 28 \t\t 4 \t\t 3\n"
     ]
    },
    {
     "name": "stdout",
     "output_type": "stream",
     "text": [
      "0.638115553398 \t\t 28 \t\t 4 \t\t 4\n"
     ]
    },
    {
     "name": "stdout",
     "output_type": "stream",
     "text": [
      "0.619731197202 \t\t 28 \t\t 4 \t\t 5\n"
     ]
    },
    {
     "name": "stdout",
     "output_type": "stream",
     "text": [
      "0.584766823774 \t\t 28 \t\t 4 \t\t 6\n"
     ]
    },
    {
     "name": "stdout",
     "output_type": "stream",
     "text": [
      "0.586965969979 \t\t 28 \t\t 4 \t\t 7\n"
     ]
    },
    {
     "name": "stdout",
     "output_type": "stream",
     "text": [
      "0.576181885659 \t\t 28 \t\t 4 \t\t 8\n"
     ]
    },
    {
     "name": "stdout",
     "output_type": "stream",
     "text": [
      "0.57681477505 \t\t 28 \t\t 4 \t\t 9\n"
     ]
    },
    {
     "name": "stdout",
     "output_type": "stream",
     "text": [
      "0.567789752237 \t\t 28 \t\t 4 \t\t 10\n"
     ]
    },
    {
     "name": "stdout",
     "output_type": "stream",
     "text": [
      "0.568100443815 \t\t 28 \t\t 4 \t\t 11\n"
     ]
    },
    {
     "name": "stdout",
     "output_type": "stream",
     "text": [
      "0.565822630482 \t\t 28 \t\t 4 \t\t 12\n"
     ]
    },
    {
     "name": "stdout",
     "output_type": "stream",
     "text": [
      "0.565891935755 \t\t 28 \t\t 4 \t\t 13\n"
     ]
    },
    {
     "name": "stdout",
     "output_type": "stream",
     "text": [
      "0.566239093612 \t\t 28 \t\t 4 \t\t 14\n"
     ]
    },
    {
     "name": "stdout",
     "output_type": "stream",
     "text": [
      "0.560863921159 \t\t 28 \t\t 4 \t\t 15\n"
     ]
    },
    {
     "name": "stdout",
     "output_type": "stream",
     "text": [
      "0.561805591439 \t\t 28 \t\t 4 \t\t 16\n"
     ]
    },
    {
     "name": "stdout",
     "output_type": "stream",
     "text": [
      "0.56325520639 \t\t 28 \t\t 4 \t\t 17\n"
     ]
    },
    {
     "name": "stdout",
     "output_type": "stream",
     "text": [
      "0.563901158939 \t\t 28 \t\t 4 \t\t 18\n"
     ]
    },
    {
     "name": "stdout",
     "output_type": "stream",
     "text": [
      "0.562676363699 \t\t 28 \t\t 4 \t\t 19\n"
     ]
    },
    {
     "name": "stdout",
     "output_type": "stream",
     "text": [
      "0.562673933532 \t\t 28 \t\t 4 \t\t 20\n"
     ]
    },
    {
     "name": "stdout",
     "output_type": "stream",
     "text": [
      "0.563360313056 \t\t 28 \t\t 4 \t\t 21\n"
     ]
    },
    {
     "name": "stdout",
     "output_type": "stream",
     "text": [
      "0.563429296322 \t\t 28 \t\t 4 \t\t 22\n"
     ]
    },
    {
     "name": "stdout",
     "output_type": "stream",
     "text": [
      "0.563475116729 \t\t 28 \t\t 4 \t\t 23\n"
     ]
    },
    {
     "name": "stdout",
     "output_type": "stream",
     "text": [
      "0.563474648196 \t\t 28 \t\t 4 \t\t 24\n"
     ]
    },
    {
     "name": "stdout",
     "output_type": "stream",
     "text": [
      "0.563474799516 \t\t 28 \t\t 4 \t\t 25\n"
     ]
    },
    {
     "name": "stdout",
     "output_type": "stream",
     "text": [
      "0.563474802063 \t\t 28 \t\t 4 \t\t 26\n"
     ]
    },
    {
     "name": "stdout",
     "output_type": "stream",
     "text": [
      "0.56347479382 \t\t 28 \t\t 4 \t\t 27\n"
     ]
    },
    {
     "name": "stdout",
     "output_type": "stream",
     "text": [
      "0.650423860396 \t\t 28 \t\t 5 \t\t 3\n"
     ]
    },
    {
     "name": "stdout",
     "output_type": "stream",
     "text": [
      "0.648570013277 \t\t 28 \t\t 5 \t\t 4\n"
     ]
    },
    {
     "name": "stdout",
     "output_type": "stream",
     "text": [
      "0.62532040342 \t\t 28 \t\t 5 \t\t 5\n"
     ]
    },
    {
     "name": "stdout",
     "output_type": "stream",
     "text": [
      "0.579084655636 \t\t 28 \t\t 5 \t\t 6\n"
     ]
    },
    {
     "name": "stdout",
     "output_type": "stream",
     "text": [
      "0.576312703173 \t\t 28 \t\t 5 \t\t 7\n"
     ]
    },
    {
     "name": "stdout",
     "output_type": "stream",
     "text": [
      "0.571227358589 \t\t 28 \t\t 5 \t\t 8\n"
     ]
    },
    {
     "name": "stdout",
     "output_type": "stream",
     "text": [
      "0.574597476104 \t\t 28 \t\t 5 \t\t 9\n"
     ]
    },
    {
     "name": "stdout",
     "output_type": "stream",
     "text": [
      "0.565255836574 \t\t 28 \t\t 5 \t\t 10\n"
     ]
    },
    {
     "name": "stdout",
     "output_type": "stream",
     "text": [
      "0.564939617359 \t\t 28 \t\t 5 \t\t 11\n"
     ]
    },
    {
     "name": "stdout",
     "output_type": "stream",
     "text": [
      "0.565406973432 \t\t 28 \t\t 5 \t\t 12\n"
     ]
    },
    {
     "name": "stdout",
     "output_type": "stream",
     "text": [
      "0.571331939446 \t\t 28 \t\t 5 \t\t 13\n"
     ]
    },
    {
     "name": "stdout",
     "output_type": "stream",
     "text": [
      "0.571407258079 \t\t 28 \t\t 5 \t\t 14\n"
     ]
    },
    {
     "name": "stdout",
     "output_type": "stream",
     "text": [
      "0.570822723413 \t\t 28 \t\t 5 \t\t 15\n"
     ]
    },
    {
     "name": "stdout",
     "output_type": "stream",
     "text": [
      "0.569621965749 \t\t 28 \t\t 5 \t\t 16\n"
     ]
    },
    {
     "name": "stdout",
     "output_type": "stream",
     "text": [
      "0.567614136646 \t\t 28 \t\t 5 \t\t 17\n"
     ]
    },
    {
     "name": "stdout",
     "output_type": "stream",
     "text": [
      "0.567216177868 \t\t 28 \t\t 5 \t\t 18\n"
     ]
    },
    {
     "name": "stdout",
     "output_type": "stream",
     "text": [
      "0.566964866155 \t\t 28 \t\t 5 \t\t 19\n"
     ]
    },
    {
     "name": "stdout",
     "output_type": "stream",
     "text": [
      "0.566542737543 \t\t 28 \t\t 5 \t\t 20\n"
     ]
    },
    {
     "name": "stdout",
     "output_type": "stream",
     "text": [
      "0.56709289664 \t\t 28 \t\t 5 \t\t 21\n"
     ]
    },
    {
     "name": "stdout",
     "output_type": "stream",
     "text": [
      "0.566887242661 \t\t 28 \t\t 5 \t\t 22\n"
     ]
    },
    {
     "name": "stdout",
     "output_type": "stream",
     "text": [
      "0.566872606944 \t\t 28 \t\t 5 \t\t 23\n"
     ]
    },
    {
     "name": "stdout",
     "output_type": "stream",
     "text": [
      "0.566871391563 \t\t 28 \t\t 5 \t\t 24\n"
     ]
    },
    {
     "name": "stdout",
     "output_type": "stream",
     "text": [
      "0.566870493428 \t\t 28 \t\t 5 \t\t 25\n"
     ]
    },
    {
     "name": "stdout",
     "output_type": "stream",
     "text": [
      "0.566870491085 \t\t 28 \t\t 5 \t\t 26\n"
     ]
    },
    {
     "name": "stdout",
     "output_type": "stream",
     "text": [
      "0.56687052993 \t\t 28 \t\t 5 \t\t 27\n"
     ]
    },
    {
     "name": "stdout",
     "output_type": "stream",
     "text": [
      "0.64123993752 \t\t 28 \t\t 6 \t\t 3\n"
     ]
    },
    {
     "name": "stdout",
     "output_type": "stream",
     "text": [
      "0.640743790652 \t\t 28 \t\t 6 \t\t 4\n"
     ]
    },
    {
     "name": "stdout",
     "output_type": "stream",
     "text": [
      "0.633356414124 \t\t 28 \t\t 6 \t\t 5\n"
     ]
    },
    {
     "name": "stdout",
     "output_type": "stream",
     "text": [
      "0.566437549669 \t\t 28 \t\t 6 \t\t 6\n"
     ]
    },
    {
     "name": "stdout",
     "output_type": "stream",
     "text": [
      "0.565549107222 \t\t 28 \t\t 6 \t\t 7\n"
     ]
    },
    {
     "name": "stdout",
     "output_type": "stream",
     "text": [
      "0.566570601891 \t\t 28 \t\t 6 \t\t 8\n"
     ]
    },
    {
     "name": "stdout",
     "output_type": "stream",
     "text": [
      "0.558221996305 \t\t 28 \t\t 6 \t\t 9\n"
     ]
    },
    {
     "name": "stdout",
     "output_type": "stream",
     "text": [
      "0.558761107809 \t\t 28 \t\t 6 \t\t 10\n"
     ]
    },
    {
     "name": "stdout",
     "output_type": "stream",
     "text": [
      "0.556166586313 \t\t 28 \t\t 6 \t\t 11\n"
     ]
    },
    {
     "name": "stdout",
     "output_type": "stream",
     "text": [
      "0.55547795999 \t\t 28 \t\t 6 \t\t 12\n"
     ]
    },
    {
     "name": "stdout",
     "output_type": "stream",
     "text": [
      "0.55661262033 \t\t 28 \t\t 6 \t\t 13\n"
     ]
    },
    {
     "name": "stdout",
     "output_type": "stream",
     "text": [
      "0.55761626144 \t\t 28 \t\t 6 \t\t 14\n"
     ]
    },
    {
     "name": "stdout",
     "output_type": "stream",
     "text": [
      "0.559008537066 \t\t 28 \t\t 6 \t\t 15\n"
     ]
    },
    {
     "name": "stdout",
     "output_type": "stream",
     "text": [
      "0.55551545765 \t\t 28 \t\t 6 \t\t 16\n"
     ]
    },
    {
     "name": "stdout",
     "output_type": "stream",
     "text": [
      "0.555812603143 \t\t 28 \t\t 6 \t\t 17\n"
     ]
    },
    {
     "name": "stdout",
     "output_type": "stream",
     "text": [
      "0.555626541507 \t\t 28 \t\t 6 \t\t 18\n"
     ]
    },
    {
     "name": "stdout",
     "output_type": "stream",
     "text": [
      "0.555686136641 \t\t 28 \t\t 6 \t\t 19\n"
     ]
    },
    {
     "name": "stdout",
     "output_type": "stream",
     "text": [
      "0.555553259132 \t\t 28 \t\t 6 \t\t 20\n"
     ]
    },
    {
     "name": "stdout",
     "output_type": "stream",
     "text": [
      "0.555267300758 \t\t 28 \t\t 6 \t\t 21\n"
     ]
    },
    {
     "name": "stdout",
     "output_type": "stream",
     "text": [
      "0.555446390872 \t\t 28 \t\t 6 \t\t 22\n"
     ]
    },
    {
     "name": "stdout",
     "output_type": "stream",
     "text": [
      "0.555450424505 \t\t 28 \t\t 6 \t\t 23\n"
     ]
    },
    {
     "name": "stdout",
     "output_type": "stream",
     "text": [
      "0.555449644509 \t\t 28 \t\t 6 \t\t 24\n"
     ]
    },
    {
     "name": "stdout",
     "output_type": "stream",
     "text": [
      "0.555449601678 \t\t 28 \t\t 6 \t\t 25\n"
     ]
    },
    {
     "name": "stdout",
     "output_type": "stream",
     "text": [
      "0.555449767426 \t\t 28 \t\t 6 \t\t 26\n"
     ]
    },
    {
     "name": "stdout",
     "output_type": "stream",
     "text": [
      "0.555449664896 \t\t 28 \t\t 6 \t\t 27\n"
     ]
    },
    {
     "name": "stdout",
     "output_type": "stream",
     "text": [
      "0.644952317262 \t\t 28 \t\t 7 \t\t 3\n"
     ]
    },
    {
     "name": "stdout",
     "output_type": "stream",
     "text": [
      "0.643752633743 \t\t 28 \t\t 7 \t\t 4\n"
     ]
    },
    {
     "name": "stdout",
     "output_type": "stream",
     "text": [
      "0.595344528409 \t\t 28 \t\t 7 \t\t 5\n"
     ]
    },
    {
     "name": "stdout",
     "output_type": "stream",
     "text": [
      "0.582382683891 \t\t 28 \t\t 7 \t\t 6\n"
     ]
    },
    {
     "name": "stdout",
     "output_type": "stream",
     "text": [
      "0.584843717097 \t\t 28 \t\t 7 \t\t 7\n"
     ]
    },
    {
     "name": "stdout",
     "output_type": "stream",
     "text": [
      "0.578365628375 \t\t 28 \t\t 7 \t\t 8\n"
     ]
    },
    {
     "name": "stdout",
     "output_type": "stream",
     "text": [
      "0.572444554715 \t\t 28 \t\t 7 \t\t 9\n"
     ]
    },
    {
     "name": "stdout",
     "output_type": "stream",
     "text": [
      "0.572415799786 \t\t 28 \t\t 7 \t\t 10\n"
     ]
    },
    {
     "name": "stdout",
     "output_type": "stream",
     "text": [
      "0.560065734595 \t\t 28 \t\t 7 \t\t 11\n"
     ]
    },
    {
     "name": "stdout",
     "output_type": "stream",
     "text": [
      "0.565558278067 \t\t 28 \t\t 7 \t\t 12\n"
     ]
    },
    {
     "name": "stdout",
     "output_type": "stream",
     "text": [
      "0.56801104409 \t\t 28 \t\t 7 \t\t 13\n"
     ]
    },
    {
     "name": "stdout",
     "output_type": "stream",
     "text": [
      "0.570279997228 \t\t 28 \t\t 7 \t\t 14\n"
     ]
    },
    {
     "name": "stdout",
     "output_type": "stream",
     "text": [
      "0.570240136311 \t\t 28 \t\t 7 \t\t 15\n"
     ]
    },
    {
     "name": "stdout",
     "output_type": "stream",
     "text": [
      "0.570764641611 \t\t 28 \t\t 7 \t\t 16\n"
     ]
    },
    {
     "name": "stdout",
     "output_type": "stream",
     "text": [
      "0.570378196366 \t\t 28 \t\t 7 \t\t 17\n"
     ]
    },
    {
     "name": "stdout",
     "output_type": "stream",
     "text": [
      "0.571531593101 \t\t 28 \t\t 7 \t\t 18\n"
     ]
    },
    {
     "name": "stdout",
     "output_type": "stream",
     "text": [
      "0.570980105038 \t\t 28 \t\t 7 \t\t 19\n"
     ]
    },
    {
     "name": "stdout",
     "output_type": "stream",
     "text": [
      "0.57125477505 \t\t 28 \t\t 7 \t\t 20\n"
     ]
    },
    {
     "name": "stdout",
     "output_type": "stream",
     "text": [
      "0.57128934786 \t\t 28 \t\t 7 \t\t 21\n"
     ]
    },
    {
     "name": "stdout",
     "output_type": "stream",
     "text": [
      "0.571511937931 \t\t 28 \t\t 7 \t\t 22\n"
     ]
    },
    {
     "name": "stdout",
     "output_type": "stream",
     "text": [
      "0.571580848724 \t\t 28 \t\t 7 \t\t 23\n"
     ]
    },
    {
     "name": "stdout",
     "output_type": "stream",
     "text": [
      "0.571580189418 \t\t 28 \t\t 7 \t\t 24\n"
     ]
    },
    {
     "name": "stdout",
     "output_type": "stream",
     "text": [
      "0.571580457618 \t\t 28 \t\t 7 \t\t 25\n"
     ]
    },
    {
     "name": "stdout",
     "output_type": "stream",
     "text": [
      "0.571580500281 \t\t 28 \t\t 7 \t\t 26\n"
     ]
    },
    {
     "name": "stdout",
     "output_type": "stream",
     "text": [
      "0.571580525984 \t\t 28 \t\t 7 \t\t 27\n"
     ]
    },
    {
     "name": "stdout",
     "output_type": "stream",
     "text": [
      "0.751037295992 \t\t 28 \t\t 8 \t\t 3\n"
     ]
    },
    {
     "name": "stdout",
     "output_type": "stream",
     "text": [
      "0.728582875397 \t\t 28 \t\t 8 \t\t 4\n"
     ]
    },
    {
     "name": "stdout",
     "output_type": "stream",
     "text": [
      "0.745658400829 \t\t 28 \t\t 8 \t\t 5\n"
     ]
    },
    {
     "name": "stdout",
     "output_type": "stream",
     "text": [
      "0.652689485968 \t\t 28 \t\t 8 \t\t 6\n"
     ]
    },
    {
     "name": "stdout",
     "output_type": "stream",
     "text": [
      "0.635768018118 \t\t 28 \t\t 8 \t\t 7\n"
     ]
    },
    {
     "name": "stdout",
     "output_type": "stream",
     "text": [
      "0.62983535731 \t\t 28 \t\t 8 \t\t 8\n"
     ]
    },
    {
     "name": "stdout",
     "output_type": "stream",
     "text": [
      "0.613615191052 \t\t 28 \t\t 8 \t\t 9\n"
     ]
    },
    {
     "name": "stdout",
     "output_type": "stream",
     "text": [
      "0.591531280312 \t\t 28 \t\t 8 \t\t 10\n"
     ]
    },
    {
     "name": "stdout",
     "output_type": "stream",
     "text": [
      "0.589028481495 \t\t 28 \t\t 8 \t\t 11\n"
     ]
    },
    {
     "name": "stdout",
     "output_type": "stream",
     "text": [
      "0.590570324277 \t\t 28 \t\t 8 \t\t 12\n"
     ]
    },
    {
     "name": "stdout",
     "output_type": "stream",
     "text": [
      "0.5943598173 \t\t 28 \t\t 8 \t\t 13\n"
     ]
    },
    {
     "name": "stdout",
     "output_type": "stream",
     "text": [
      "0.596197355771 \t\t 28 \t\t 8 \t\t 14\n"
     ]
    },
    {
     "name": "stdout",
     "output_type": "stream",
     "text": [
      "0.58787826081 \t\t 28 \t\t 8 \t\t 15\n"
     ]
    },
    {
     "name": "stdout",
     "output_type": "stream",
     "text": [
      "0.58722220887 \t\t 28 \t\t 8 \t\t 16\n"
     ]
    },
    {
     "name": "stdout",
     "output_type": "stream",
     "text": [
      "0.587656794199 \t\t 28 \t\t 8 \t\t 17\n"
     ]
    },
    {
     "name": "stdout",
     "output_type": "stream",
     "text": [
      "0.587068761638 \t\t 28 \t\t 8 \t\t 18\n"
     ]
    },
    {
     "name": "stdout",
     "output_type": "stream",
     "text": [
      "0.588170362822 \t\t 28 \t\t 8 \t\t 19\n"
     ]
    },
    {
     "name": "stdout",
     "output_type": "stream",
     "text": [
      "0.587353167359 \t\t 28 \t\t 8 \t\t 20\n"
     ]
    },
    {
     "name": "stdout",
     "output_type": "stream",
     "text": [
      "0.589391136239 \t\t 28 \t\t 8 \t\t 21\n"
     ]
    },
    {
     "name": "stdout",
     "output_type": "stream",
     "text": [
      "0.588077000816 \t\t 28 \t\t 8 \t\t 22\n"
     ]
    },
    {
     "name": "stdout",
     "output_type": "stream",
     "text": [
      "0.58822251424 \t\t 28 \t\t 8 \t\t 23\n"
     ]
    },
    {
     "name": "stdout",
     "output_type": "stream",
     "text": [
      "0.588222058713 \t\t 28 \t\t 8 \t\t 24\n"
     ]
    },
    {
     "name": "stdout",
     "output_type": "stream",
     "text": [
      "0.588222298492 \t\t 28 \t\t 8 \t\t 25\n"
     ]
    },
    {
     "name": "stdout",
     "output_type": "stream",
     "text": [
      "0.588222113877 \t\t 28 \t\t 8 \t\t 26\n"
     ]
    },
    {
     "name": "stdout",
     "output_type": "stream",
     "text": [
      "0.588222153072 \t\t 28 \t\t 8 \t\t 27\n"
     ]
    },
    {
     "name": "stdout",
     "output_type": "stream",
     "text": [
      "0.639074002322 \t\t 28 \t\t 9 \t\t 3\n"
     ]
    },
    {
     "name": "stdout",
     "output_type": "stream",
     "text": [
      "0.638826360842 \t\t 28 \t\t 9 \t\t 4\n"
     ]
    },
    {
     "name": "stdout",
     "output_type": "stream",
     "text": [
      "0.595451534578 \t\t 28 \t\t 9 \t\t 5\n"
     ]
    },
    {
     "name": "stdout",
     "output_type": "stream",
     "text": [
      "0.592707364034 \t\t 28 \t\t 9 \t\t 6\n"
     ]
    },
    {
     "name": "stdout",
     "output_type": "stream",
     "text": [
      "0.581368582591 \t\t 28 \t\t 9 \t\t 7\n"
     ]
    },
    {
     "name": "stdout",
     "output_type": "stream",
     "text": [
      "0.592306510041 \t\t 28 \t\t 9 \t\t 8\n"
     ]
    },
    {
     "name": "stdout",
     "output_type": "stream",
     "text": [
      "0.592209129407 \t\t 28 \t\t 9 \t\t 9\n"
     ]
    },
    {
     "name": "stdout",
     "output_type": "stream",
     "text": [
      "0.590317242291 \t\t 28 \t\t 9 \t\t 10\n"
     ]
    },
    {
     "name": "stdout",
     "output_type": "stream",
     "text": [
      "0.594199627723 \t\t 28 \t\t 9 \t\t 11\n"
     ]
    },
    {
     "name": "stdout",
     "output_type": "stream",
     "text": [
      "0.595477933016 \t\t 28 \t\t 9 \t\t 12\n"
     ]
    },
    {
     "name": "stdout",
     "output_type": "stream",
     "text": [
      "0.595730036606 \t\t 28 \t\t 9 \t\t 13\n"
     ]
    },
    {
     "name": "stdout",
     "output_type": "stream",
     "text": [
      "0.594557162341 \t\t 28 \t\t 9 \t\t 14\n"
     ]
    },
    {
     "name": "stdout",
     "output_type": "stream",
     "text": [
      "0.59416172145 \t\t 28 \t\t 9 \t\t 15\n"
     ]
    },
    {
     "name": "stderr",
     "output_type": "stream",
     "text": [
      "/Users/maxwelllee54/anaconda/lib/python3.5/site-packages/sklearn/linear_model/base.py:352: RuntimeWarning: overflow encountered in exp\n  np.exp(prob, prob)\n"
     ]
    },
    {
     "name": "stdout",
     "output_type": "stream",
     "text": [
      "0.594222897013 \t\t 28 \t\t 9 \t\t 16\n"
     ]
    },
    {
     "name": "stderr",
     "output_type": "stream",
     "text": [
      "/Users/maxwelllee54/anaconda/lib/python3.5/site-packages/sklearn/linear_model/base.py:352: RuntimeWarning: overflow encountered in exp\n  np.exp(prob, prob)\n"
     ]
    },
    {
     "name": "stdout",
     "output_type": "stream",
     "text": [
      "0.594559231175 \t\t 28 \t\t 9 \t\t 17\n"
     ]
    },
    {
     "name": "stdout",
     "output_type": "stream",
     "text": [
      "0.594824315988 \t\t 28 \t\t 9 \t\t 18\n"
     ]
    },
    {
     "name": "stdout",
     "output_type": "stream",
     "text": [
      "0.594802953039 \t\t 28 \t\t 9 \t\t 19\n"
     ]
    },
    {
     "name": "stdout",
     "output_type": "stream",
     "text": [
      "0.596278304842 \t\t 28 \t\t 9 \t\t 20\n"
     ]
    },
    {
     "name": "stdout",
     "output_type": "stream",
     "text": [
      "0.596281290874 \t\t 28 \t\t 9 \t\t 21\n"
     ]
    },
    {
     "name": "stdout",
     "output_type": "stream",
     "text": [
      "0.595954568252 \t\t 28 \t\t 9 \t\t 22\n"
     ]
    },
    {
     "name": "stdout",
     "output_type": "stream",
     "text": [
      "0.596027604575 \t\t 28 \t\t 9 \t\t 23\n"
     ]
    },
    {
     "name": "stdout",
     "output_type": "stream",
     "text": [
      "0.596021759038 \t\t 28 \t\t 9 \t\t 24\n"
     ]
    },
    {
     "name": "stdout",
     "output_type": "stream",
     "text": [
      "0.596021595096 \t\t 28 \t\t 9 \t\t 25\n"
     ]
    },
    {
     "name": "stdout",
     "output_type": "stream",
     "text": [
      "0.596021611727 \t\t 28 \t\t 9 \t\t 26\n"
     ]
    },
    {
     "name": "stdout",
     "output_type": "stream",
     "text": [
      "0.596021744037 \t\t 28 \t\t 9 \t\t 27\n"
     ]
    },
    {
     "name": "stdout",
     "output_type": "stream",
     "text": [
      "0.641554336402 \t\t 29 \t\t 1 \t\t 3\n"
     ]
    },
    {
     "name": "stdout",
     "output_type": "stream",
     "text": [
      "0.642077647158 \t\t 29 \t\t 1 \t\t 4\n"
     ]
    },
    {
     "name": "stdout",
     "output_type": "stream",
     "text": [
      "0.557560648213 \t\t 29 \t\t 1 \t\t 5\n"
     ]
    },
    {
     "name": "stdout",
     "output_type": "stream",
     "text": [
      "0.534863189202 \t\t 29 \t\t 1 \t\t 6\n"
     ]
    },
    {
     "name": "stdout",
     "output_type": "stream",
     "text": [
      "0.538575274311 \t\t 29 \t\t 1 \t\t 7\n"
     ]
    },
    {
     "name": "stdout",
     "output_type": "stream",
     "text": [
      "0.540959270174 \t\t 29 \t\t 1 \t\t 8\n"
     ]
    },
    {
     "name": "stdout",
     "output_type": "stream",
     "text": [
      "0.540795604567 \t\t 29 \t\t 1 \t\t 9\n"
     ]
    },
    {
     "name": "stdout",
     "output_type": "stream",
     "text": [
      "0.533932594278 \t\t 29 \t\t 1 \t\t 10\n"
     ]
    },
    {
     "name": "stdout",
     "output_type": "stream",
     "text": [
      "0.534325453541 \t\t 29 \t\t 1 \t\t 11\n"
     ]
    },
    {
     "name": "stdout",
     "output_type": "stream",
     "text": [
      "0.537883768337 \t\t 29 \t\t 1 \t\t 12\n"
     ]
    },
    {
     "name": "stdout",
     "output_type": "stream",
     "text": [
      "0.539314651769 \t\t 29 \t\t 1 \t\t 13\n"
     ]
    },
    {
     "name": "stdout",
     "output_type": "stream",
     "text": [
      "0.538725596632 \t\t 29 \t\t 1 \t\t 14\n"
     ]
    },
    {
     "name": "stdout",
     "output_type": "stream",
     "text": [
      "0.540363943953 \t\t 29 \t\t 1 \t\t 15\n"
     ]
    },
    {
     "name": "stdout",
     "output_type": "stream",
     "text": [
      "0.539569189351 \t\t 29 \t\t 1 \t\t 16\n"
     ]
    },
    {
     "name": "stdout",
     "output_type": "stream",
     "text": [
      "0.537442138731 \t\t 29 \t\t 1 \t\t 17\n"
     ]
    },
    {
     "name": "stdout",
     "output_type": "stream",
     "text": [
      "0.537368121508 \t\t 29 \t\t 1 \t\t 18\n"
     ]
    },
    {
     "name": "stdout",
     "output_type": "stream",
     "text": [
      "0.536934276369 \t\t 29 \t\t 1 \t\t 19\n"
     ]
    },
    {
     "name": "stdout",
     "output_type": "stream",
     "text": [
      "0.536812595344 \t\t 29 \t\t 1 \t\t 20\n"
     ]
    },
    {
     "name": "stdout",
     "output_type": "stream",
     "text": [
      "0.540839942087 \t\t 29 \t\t 1 \t\t 21\n"
     ]
    },
    {
     "name": "stdout",
     "output_type": "stream",
     "text": [
      "0.540492267438 \t\t 29 \t\t 1 \t\t 22\n"
     ]
    },
    {
     "name": "stdout",
     "output_type": "stream",
     "text": [
      "0.540584579073 \t\t 29 \t\t 1 \t\t 23\n"
     ]
    },
    {
     "name": "stdout",
     "output_type": "stream",
     "text": [
      "0.540719029484 \t\t 29 \t\t 1 \t\t 24\n"
     ]
    },
    {
     "name": "stdout",
     "output_type": "stream",
     "text": [
      "0.540720281398 \t\t 29 \t\t 1 \t\t 25\n"
     ]
    },
    {
     "name": "stdout",
     "output_type": "stream",
     "text": [
      "0.540717605545 \t\t 29 \t\t 1 \t\t 26\n"
     ]
    },
    {
     "name": "stdout",
     "output_type": "stream",
     "text": [
      "0.540717791117 \t\t 29 \t\t 1 \t\t 27\n"
     ]
    },
    {
     "name": "stdout",
     "output_type": "stream",
     "text": [
      "0.540718045932 \t\t 29 \t\t 1 \t\t 28\n"
     ]
    },
    {
     "name": "stdout",
     "output_type": "stream",
     "text": [
      "0.643259710083 \t\t 29 \t\t 2 \t\t 3\n"
     ]
    },
    {
     "name": "stdout",
     "output_type": "stream",
     "text": [
      "0.64230219832 \t\t 29 \t\t 2 \t\t 4\n"
     ]
    },
    {
     "name": "stdout",
     "output_type": "stream",
     "text": [
      "0.590611168224 \t\t 29 \t\t 2 \t\t 5\n"
     ]
    },
    {
     "name": "stdout",
     "output_type": "stream",
     "text": [
      "0.567192955754 \t\t 29 \t\t 2 \t\t 6\n"
     ]
    },
    {
     "name": "stdout",
     "output_type": "stream",
     "text": [
      "0.57005025502 \t\t 29 \t\t 2 \t\t 7\n"
     ]
    },
    {
     "name": "stdout",
     "output_type": "stream",
     "text": [
      "0.56711528241 \t\t 29 \t\t 2 \t\t 8\n"
     ]
    },
    {
     "name": "stdout",
     "output_type": "stream",
     "text": [
      "0.565596992641 \t\t 29 \t\t 2 \t\t 9\n"
     ]
    },
    {
     "name": "stdout",
     "output_type": "stream",
     "text": [
      "0.554160781607 \t\t 29 \t\t 2 \t\t 10\n"
     ]
    },
    {
     "name": "stdout",
     "output_type": "stream",
     "text": [
      "0.560853404736 \t\t 29 \t\t 2 \t\t 11\n"
     ]
    },
    {
     "name": "stdout",
     "output_type": "stream",
     "text": [
      "0.559641442074 \t\t 29 \t\t 2 \t\t 12\n"
     ]
    },
    {
     "name": "stdout",
     "output_type": "stream",
     "text": [
      "0.560049060625 \t\t 29 \t\t 2 \t\t 13\n"
     ]
    },
    {
     "name": "stdout",
     "output_type": "stream",
     "text": [
      "0.562428060165 \t\t 29 \t\t 2 \t\t 14\n"
     ]
    },
    {
     "name": "stdout",
     "output_type": "stream",
     "text": [
      "0.563497283995 \t\t 29 \t\t 2 \t\t 15\n"
     ]
    },
    {
     "name": "stdout",
     "output_type": "stream",
     "text": [
      "0.563829461598 \t\t 29 \t\t 2 \t\t 16\n"
     ]
    },
    {
     "name": "stdout",
     "output_type": "stream",
     "text": [
      "0.563822113521 \t\t 29 \t\t 2 \t\t 17\n"
     ]
    },
    {
     "name": "stdout",
     "output_type": "stream",
     "text": [
      "0.564788578192 \t\t 29 \t\t 2 \t\t 18\n"
     ]
    },
    {
     "name": "stdout",
     "output_type": "stream",
     "text": [
      "0.564376162632 \t\t 29 \t\t 2 \t\t 19\n"
     ]
    },
    {
     "name": "stdout",
     "output_type": "stream",
     "text": [
      "0.564351060774 \t\t 29 \t\t 2 \t\t 20\n"
     ]
    },
    {
     "name": "stdout",
     "output_type": "stream",
     "text": [
      "0.562174263996 \t\t 29 \t\t 2 \t\t 21\n"
     ]
    },
    {
     "name": "stdout",
     "output_type": "stream",
     "text": [
      "0.562214910897 \t\t 29 \t\t 2 \t\t 22\n"
     ]
    },
    {
     "name": "stdout",
     "output_type": "stream",
     "text": [
      "0.562399618395 \t\t 29 \t\t 2 \t\t 23\n"
     ]
    },
    {
     "name": "stdout",
     "output_type": "stream",
     "text": [
      "0.562649540734 \t\t 29 \t\t 2 \t\t 24\n"
     ]
    },
    {
     "name": "stdout",
     "output_type": "stream",
     "text": [
      "0.562650494099 \t\t 29 \t\t 2 \t\t 25\n"
     ]
    },
    {
     "name": "stdout",
     "output_type": "stream",
     "text": [
      "0.562652098483 \t\t 29 \t\t 2 \t\t 26\n"
     ]
    },
    {
     "name": "stdout",
     "output_type": "stream",
     "text": [
      "0.562652081027 \t\t 29 \t\t 2 \t\t 27\n"
     ]
    },
    {
     "name": "stdout",
     "output_type": "stream",
     "text": [
      "0.562652107473 \t\t 29 \t\t 2 \t\t 28\n"
     ]
    },
    {
     "name": "stdout",
     "output_type": "stream",
     "text": [
      "0.637742923238 \t\t 29 \t\t 3 \t\t 3\n"
     ]
    },
    {
     "name": "stdout",
     "output_type": "stream",
     "text": [
      "0.636580192953 \t\t 29 \t\t 3 \t\t 4\n"
     ]
    },
    {
     "name": "stdout",
     "output_type": "stream",
     "text": [
      "0.595736980013 \t\t 29 \t\t 3 \t\t 5\n"
     ]
    },
    {
     "name": "stdout",
     "output_type": "stream",
     "text": [
      "0.560320234573 \t\t 29 \t\t 3 \t\t 6\n"
     ]
    },
    {
     "name": "stdout",
     "output_type": "stream",
     "text": [
      "0.562654915735 \t\t 29 \t\t 3 \t\t 7\n"
     ]
    },
    {
     "name": "stdout",
     "output_type": "stream",
     "text": [
      "0.566565085589 \t\t 29 \t\t 3 \t\t 8\n"
     ]
    },
    {
     "name": "stdout",
     "output_type": "stream",
     "text": [
      "0.5647613728 \t\t 29 \t\t 3 \t\t 9\n"
     ]
    },
    {
     "name": "stdout",
     "output_type": "stream",
     "text": [
      "0.559500885309 \t\t 29 \t\t 3 \t\t 10\n"
     ]
    },
    {
     "name": "stdout",
     "output_type": "stream",
     "text": [
      "0.559628499104 \t\t 29 \t\t 3 \t\t 11\n"
     ]
    },
    {
     "name": "stdout",
     "output_type": "stream",
     "text": [
      "0.560079302479 \t\t 29 \t\t 3 \t\t 12\n"
     ]
    },
    {
     "name": "stdout",
     "output_type": "stream",
     "text": [
      "0.555943212542 \t\t 29 \t\t 3 \t\t 13\n"
     ]
    },
    {
     "name": "stdout",
     "output_type": "stream",
     "text": [
      "0.556757556242 \t\t 29 \t\t 3 \t\t 14\n"
     ]
    },
    {
     "name": "stdout",
     "output_type": "stream",
     "text": [
      "0.556717409883 \t\t 29 \t\t 3 \t\t 15\n"
     ]
    },
    {
     "name": "stdout",
     "output_type": "stream",
     "text": [
      "0.556124274844 \t\t 29 \t\t 3 \t\t 16\n"
     ]
    },
    {
     "name": "stdout",
     "output_type": "stream",
     "text": [
      "0.554844282345 \t\t 29 \t\t 3 \t\t 17\n"
     ]
    },
    {
     "name": "stdout",
     "output_type": "stream",
     "text": [
      "0.554357460071 \t\t 29 \t\t 3 \t\t 18\n"
     ]
    },
    {
     "name": "stdout",
     "output_type": "stream",
     "text": [
      "0.555192078451 \t\t 29 \t\t 3 \t\t 19\n"
     ]
    },
    {
     "name": "stdout",
     "output_type": "stream",
     "text": [
      "0.55407560327 \t\t 29 \t\t 3 \t\t 20\n"
     ]
    },
    {
     "name": "stdout",
     "output_type": "stream",
     "text": [
      "0.55255152184 \t\t 29 \t\t 3 \t\t 21\n"
     ]
    },
    {
     "name": "stdout",
     "output_type": "stream",
     "text": [
      "0.552789486559 \t\t 29 \t\t 3 \t\t 22\n"
     ]
    },
    {
     "name": "stdout",
     "output_type": "stream",
     "text": [
      "0.55246920974 \t\t 29 \t\t 3 \t\t 23\n"
     ]
    },
    {
     "name": "stdout",
     "output_type": "stream",
     "text": [
      "0.552454821204 \t\t 29 \t\t 3 \t\t 24\n"
     ]
    },
    {
     "name": "stdout",
     "output_type": "stream",
     "text": [
      "0.552454679003 \t\t 29 \t\t 3 \t\t 25\n"
     ]
    },
    {
     "name": "stdout",
     "output_type": "stream",
     "text": [
      "0.552454965149 \t\t 29 \t\t 3 \t\t 26\n"
     ]
    },
    {
     "name": "stdout",
     "output_type": "stream",
     "text": [
      "0.552455014426 \t\t 29 \t\t 3 \t\t 27\n"
     ]
    },
    {
     "name": "stdout",
     "output_type": "stream",
     "text": [
      "0.552454998526 \t\t 29 \t\t 3 \t\t 28\n"
     ]
    },
    {
     "name": "stdout",
     "output_type": "stream",
     "text": [
      "0.668674434461 \t\t 29 \t\t 4 \t\t 3\n"
     ]
    },
    {
     "name": "stdout",
     "output_type": "stream",
     "text": [
      "0.668682975079 \t\t 29 \t\t 4 \t\t 4\n"
     ]
    },
    {
     "name": "stdout",
     "output_type": "stream",
     "text": [
      "0.600704319767 \t\t 29 \t\t 4 \t\t 5\n"
     ]
    },
    {
     "name": "stdout",
     "output_type": "stream",
     "text": [
      "0.558276649659 \t\t 29 \t\t 4 \t\t 6\n"
     ]
    },
    {
     "name": "stdout",
     "output_type": "stream",
     "text": [
      "0.561655564498 \t\t 29 \t\t 4 \t\t 7\n"
     ]
    },
    {
     "name": "stdout",
     "output_type": "stream",
     "text": [
      "0.561719791975 \t\t 29 \t\t 4 \t\t 8\n"
     ]
    },
    {
     "name": "stdout",
     "output_type": "stream",
     "text": [
      "0.559530034909 \t\t 29 \t\t 4 \t\t 9\n"
     ]
    },
    {
     "name": "stdout",
     "output_type": "stream",
     "text": [
      "0.555589267971 \t\t 29 \t\t 4 \t\t 10\n"
     ]
    },
    {
     "name": "stdout",
     "output_type": "stream",
     "text": [
      "0.558380575183 \t\t 29 \t\t 4 \t\t 11\n"
     ]
    },
    {
     "name": "stdout",
     "output_type": "stream",
     "text": [
      "0.558666086598 \t\t 29 \t\t 4 \t\t 12\n"
     ]
    },
    {
     "name": "stdout",
     "output_type": "stream",
     "text": [
      "0.558090210533 \t\t 29 \t\t 4 \t\t 13\n"
     ]
    },
    {
     "name": "stdout",
     "output_type": "stream",
     "text": [
      "0.557916522667 \t\t 29 \t\t 4 \t\t 14\n"
     ]
    },
    {
     "name": "stdout",
     "output_type": "stream",
     "text": [
      "0.558447639561 \t\t 29 \t\t 4 \t\t 15\n"
     ]
    },
    {
     "name": "stdout",
     "output_type": "stream",
     "text": [
      "0.558522249895 \t\t 29 \t\t 4 \t\t 16\n"
     ]
    },
    {
     "name": "stdout",
     "output_type": "stream",
     "text": [
      "0.559460684142 \t\t 29 \t\t 4 \t\t 17\n"
     ]
    },
    {
     "name": "stdout",
     "output_type": "stream",
     "text": [
      "0.55945915544 \t\t 29 \t\t 4 \t\t 18\n"
     ]
    },
    {
     "name": "stdout",
     "output_type": "stream",
     "text": [
      "0.559250293859 \t\t 29 \t\t 4 \t\t 19\n"
     ]
    },
    {
     "name": "stdout",
     "output_type": "stream",
     "text": [
      "0.559416688398 \t\t 29 \t\t 4 \t\t 20\n"
     ]
    },
    {
     "name": "stdout",
     "output_type": "stream",
     "text": [
      "0.557928688053 \t\t 29 \t\t 4 \t\t 21\n"
     ]
    },
    {
     "name": "stdout",
     "output_type": "stream",
     "text": [
      "0.557551600991 \t\t 29 \t\t 4 \t\t 22\n"
     ]
    },
    {
     "name": "stdout",
     "output_type": "stream",
     "text": [
      "0.557618957351 \t\t 29 \t\t 4 \t\t 23\n"
     ]
    },
    {
     "name": "stdout",
     "output_type": "stream",
     "text": [
      "0.557665161729 \t\t 29 \t\t 4 \t\t 24\n"
     ]
    },
    {
     "name": "stdout",
     "output_type": "stream",
     "text": [
      "0.55766519488 \t\t 29 \t\t 4 \t\t 25\n"
     ]
    },
    {
     "name": "stdout",
     "output_type": "stream",
     "text": [
      "0.557665107177 \t\t 29 \t\t 4 \t\t 26\n"
     ]
    },
    {
     "name": "stdout",
     "output_type": "stream",
     "text": [
      "0.557665122629 \t\t 29 \t\t 4 \t\t 27\n"
     ]
    },
    {
     "name": "stdout",
     "output_type": "stream",
     "text": [
      "0.55766519878 \t\t 29 \t\t 4 \t\t 28\n"
     ]
    },
    {
     "name": "stdout",
     "output_type": "stream",
     "text": [
      "0.632527534945 \t\t 29 \t\t 5 \t\t 3\n"
     ]
    },
    {
     "name": "stdout",
     "output_type": "stream",
     "text": [
      "0.632867937832 \t\t 29 \t\t 5 \t\t 4\n"
     ]
    },
    {
     "name": "stdout",
     "output_type": "stream",
     "text": [
      "0.544110092975 \t\t 29 \t\t 5 \t\t 5\n"
     ]
    },
    {
     "name": "stdout",
     "output_type": "stream",
     "text": [
      "0.542474596455 \t\t 29 \t\t 5 \t\t 6\n"
     ]
    },
    {
     "name": "stdout",
     "output_type": "stream",
     "text": [
      "0.540927936049 \t\t 29 \t\t 5 \t\t 7\n"
     ]
    },
    {
     "name": "stdout",
     "output_type": "stream",
     "text": [
      "0.541358650149 \t\t 29 \t\t 5 \t\t 8\n"
     ]
    },
    {
     "name": "stdout",
     "output_type": "stream",
     "text": [
      "0.537533483651 \t\t 29 \t\t 5 \t\t 9\n"
     ]
    },
    {
     "name": "stdout",
     "output_type": "stream",
     "text": [
      "0.542619864882 \t\t 29 \t\t 5 \t\t 10\n"
     ]
    },
    {
     "name": "stdout",
     "output_type": "stream",
     "text": [
      "0.545360863428 \t\t 29 \t\t 5 \t\t 11\n"
     ]
    },
    {
     "name": "stdout",
     "output_type": "stream",
     "text": [
      "0.545691157229 \t\t 29 \t\t 5 \t\t 12\n"
     ]
    },
    {
     "name": "stdout",
     "output_type": "stream",
     "text": [
      "0.54711378792 \t\t 29 \t\t 5 \t\t 13\n"
     ]
    },
    {
     "name": "stdout",
     "output_type": "stream",
     "text": [
      "0.546808020876 \t\t 29 \t\t 5 \t\t 14\n"
     ]
    },
    {
     "name": "stdout",
     "output_type": "stream",
     "text": [
      "0.546304540286 \t\t 29 \t\t 5 \t\t 15\n"
     ]
    },
    {
     "name": "stdout",
     "output_type": "stream",
     "text": [
      "0.54630899733 \t\t 29 \t\t 5 \t\t 16\n"
     ]
    },
    {
     "name": "stdout",
     "output_type": "stream",
     "text": [
      "0.546394439993 \t\t 29 \t\t 5 \t\t 17\n"
     ]
    },
    {
     "name": "stdout",
     "output_type": "stream",
     "text": [
      "0.547609529208 \t\t 29 \t\t 5 \t\t 18\n"
     ]
    },
    {
     "name": "stdout",
     "output_type": "stream",
     "text": [
      "0.548342651305 \t\t 29 \t\t 5 \t\t 19\n"
     ]
    },
    {
     "name": "stdout",
     "output_type": "stream",
     "text": [
      "0.546842421656 \t\t 29 \t\t 5 \t\t 20\n"
     ]
    },
    {
     "name": "stdout",
     "output_type": "stream",
     "text": [
      "0.546399223822 \t\t 29 \t\t 5 \t\t 21\n"
     ]
    },
    {
     "name": "stdout",
     "output_type": "stream",
     "text": [
      "0.546348160687 \t\t 29 \t\t 5 \t\t 22\n"
     ]
    },
    {
     "name": "stdout",
     "output_type": "stream",
     "text": [
      "0.546335498874 \t\t 29 \t\t 5 \t\t 23\n"
     ]
    },
    {
     "name": "stdout",
     "output_type": "stream",
     "text": [
      "0.546348413957 \t\t 29 \t\t 5 \t\t 24\n"
     ]
    },
    {
     "name": "stdout",
     "output_type": "stream",
     "text": [
      "0.5463482445 \t\t 29 \t\t 5 \t\t 25\n"
     ]
    },
    {
     "name": "stdout",
     "output_type": "stream",
     "text": [
      "0.546348463556 \t\t 29 \t\t 5 \t\t 26\n"
     ]
    },
    {
     "name": "stdout",
     "output_type": "stream",
     "text": [
      "0.54634847396 \t\t 29 \t\t 5 \t\t 27\n"
     ]
    },
    {
     "name": "stdout",
     "output_type": "stream",
     "text": [
      "0.546348348411 \t\t 29 \t\t 5 \t\t 28\n"
     ]
    },
    {
     "name": "stdout",
     "output_type": "stream",
     "text": [
      "0.636255926217 \t\t 29 \t\t 6 \t\t 3\n"
     ]
    },
    {
     "name": "stdout",
     "output_type": "stream",
     "text": [
      "0.642145968235 \t\t 29 \t\t 6 \t\t 4\n"
     ]
    },
    {
     "name": "stdout",
     "output_type": "stream",
     "text": [
      "0.621478049292 \t\t 29 \t\t 6 \t\t 5\n"
     ]
    },
    {
     "name": "stdout",
     "output_type": "stream",
     "text": [
      "0.553834036596 \t\t 29 \t\t 6 \t\t 6\n"
     ]
    },
    {
     "name": "stdout",
     "output_type": "stream",
     "text": [
      "0.553873523432 \t\t 29 \t\t 6 \t\t 7\n"
     ]
    },
    {
     "name": "stdout",
     "output_type": "stream",
     "text": [
      "0.55554586537 \t\t 29 \t\t 6 \t\t 8\n"
     ]
    },
    {
     "name": "stdout",
     "output_type": "stream",
     "text": [
      "0.550736048427 \t\t 29 \t\t 6 \t\t 9\n"
     ]
    },
    {
     "name": "stdout",
     "output_type": "stream",
     "text": [
      "0.548426881898 \t\t 29 \t\t 6 \t\t 10\n"
     ]
    },
    {
     "name": "stdout",
     "output_type": "stream",
     "text": [
      "0.553161891197 \t\t 29 \t\t 6 \t\t 11\n"
     ]
    },
    {
     "name": "stdout",
     "output_type": "stream",
     "text": [
      "0.554440784199 \t\t 29 \t\t 6 \t\t 12\n"
     ]
    },
    {
     "name": "stdout",
     "output_type": "stream",
     "text": [
      "0.55539006611 \t\t 29 \t\t 6 \t\t 13\n"
     ]
    },
    {
     "name": "stdout",
     "output_type": "stream",
     "text": [
      "0.555253115945 \t\t 29 \t\t 6 \t\t 14\n"
     ]
    },
    {
     "name": "stdout",
     "output_type": "stream",
     "text": [
      "0.555382880624 \t\t 29 \t\t 6 \t\t 15\n"
     ]
    },
    {
     "name": "stdout",
     "output_type": "stream",
     "text": [
      "0.557690568022 \t\t 29 \t\t 6 \t\t 16\n"
     ]
    },
    {
     "name": "stdout",
     "output_type": "stream",
     "text": [
      "0.557995518581 \t\t 29 \t\t 6 \t\t 17\n"
     ]
    },
    {
     "name": "stdout",
     "output_type": "stream",
     "text": [
      "0.557996040411 \t\t 29 \t\t 6 \t\t 18\n"
     ]
    },
    {
     "name": "stdout",
     "output_type": "stream",
     "text": [
      "0.557967464247 \t\t 29 \t\t 6 \t\t 19\n"
     ]
    },
    {
     "name": "stdout",
     "output_type": "stream",
     "text": [
      "0.55796715685 \t\t 29 \t\t 6 \t\t 20\n"
     ]
    },
    {
     "name": "stdout",
     "output_type": "stream",
     "text": [
      "0.556553865891 \t\t 29 \t\t 6 \t\t 21\n"
     ]
    },
    {
     "name": "stdout",
     "output_type": "stream",
     "text": [
      "0.556805815828 \t\t 29 \t\t 6 \t\t 22\n"
     ]
    },
    {
     "name": "stdout",
     "output_type": "stream",
     "text": [
      "0.556675975736 \t\t 29 \t\t 6 \t\t 23\n"
     ]
    },
    {
     "name": "stdout",
     "output_type": "stream",
     "text": [
      "0.556700361022 \t\t 29 \t\t 6 \t\t 24\n"
     ]
    },
    {
     "name": "stdout",
     "output_type": "stream",
     "text": [
      "0.556700796341 \t\t 29 \t\t 6 \t\t 25\n"
     ]
    },
    {
     "name": "stdout",
     "output_type": "stream",
     "text": [
      "0.556700468345 \t\t 29 \t\t 6 \t\t 26\n"
     ]
    },
    {
     "name": "stdout",
     "output_type": "stream",
     "text": [
      "0.556700531303 \t\t 29 \t\t 6 \t\t 27\n"
     ]
    },
    {
     "name": "stdout",
     "output_type": "stream",
     "text": [
      "0.556700615618 \t\t 29 \t\t 6 \t\t 28\n"
     ]
    },
    {
     "name": "stdout",
     "output_type": "stream",
     "text": [
      "0.656370357249 \t\t 29 \t\t 7 \t\t 3\n"
     ]
    },
    {
     "name": "stdout",
     "output_type": "stream",
     "text": [
      "0.659324534085 \t\t 29 \t\t 7 \t\t 4\n"
     ]
    },
    {
     "name": "stdout",
     "output_type": "stream",
     "text": [
      "0.658593403016 \t\t 29 \t\t 7 \t\t 5\n"
     ]
    },
    {
     "name": "stdout",
     "output_type": "stream",
     "text": [
      "0.582948356378 \t\t 29 \t\t 7 \t\t 6\n"
     ]
    },
    {
     "name": "stdout",
     "output_type": "stream",
     "text": [
      "0.594882136084 \t\t 29 \t\t 7 \t\t 7\n"
     ]
    },
    {
     "name": "stdout",
     "output_type": "stream",
     "text": [
      "0.596829828188 \t\t 29 \t\t 7 \t\t 8\n"
     ]
    },
    {
     "name": "stdout",
     "output_type": "stream",
     "text": [
      "0.60156921809 \t\t 29 \t\t 7 \t\t 9\n"
     ]
    },
    {
     "name": "stdout",
     "output_type": "stream",
     "text": [
      "0.595134398636 \t\t 29 \t\t 7 \t\t 10\n"
     ]
    },
    {
     "name": "stdout",
     "output_type": "stream",
     "text": [
      "0.590844525763 \t\t 29 \t\t 7 \t\t 11\n"
     ]
    },
    {
     "name": "stdout",
     "output_type": "stream",
     "text": [
      "0.590921586982 \t\t 29 \t\t 7 \t\t 12\n"
     ]
    },
    {
     "name": "stdout",
     "output_type": "stream",
     "text": [
      "0.590159011074 \t\t 29 \t\t 7 \t\t 13\n"
     ]
    },
    {
     "name": "stdout",
     "output_type": "stream",
     "text": [
      "0.589515556608 \t\t 29 \t\t 7 \t\t 14\n"
     ]
    },
    {
     "name": "stdout",
     "output_type": "stream",
     "text": [
      "0.588742196136 \t\t 29 \t\t 7 \t\t 15\n"
     ]
    },
    {
     "name": "stdout",
     "output_type": "stream",
     "text": [
      "0.589567862979 \t\t 29 \t\t 7 \t\t 16\n"
     ]
    },
    {
     "name": "stdout",
     "output_type": "stream",
     "text": [
      "0.58994585704 \t\t 29 \t\t 7 \t\t 17\n"
     ]
    },
    {
     "name": "stdout",
     "output_type": "stream",
     "text": [
      "0.589922181251 \t\t 29 \t\t 7 \t\t 18\n"
     ]
    },
    {
     "name": "stdout",
     "output_type": "stream",
     "text": [
      "0.589951577405 \t\t 29 \t\t 7 \t\t 19\n"
     ]
    },
    {
     "name": "stdout",
     "output_type": "stream",
     "text": [
      "0.589670101808 \t\t 29 \t\t 7 \t\t 20\n"
     ]
    },
    {
     "name": "stdout",
     "output_type": "stream",
     "text": [
      "0.588952333953 \t\t 29 \t\t 7 \t\t 21\n"
     ]
    },
    {
     "name": "stdout",
     "output_type": "stream",
     "text": [
      "0.588997631667 \t\t 29 \t\t 7 \t\t 22\n"
     ]
    },
    {
     "name": "stdout",
     "output_type": "stream",
     "text": [
      "0.588958777421 \t\t 29 \t\t 7 \t\t 23\n"
     ]
    },
    {
     "name": "stdout",
     "output_type": "stream",
     "text": [
      "0.588971668015 \t\t 29 \t\t 7 \t\t 24\n"
     ]
    },
    {
     "name": "stdout",
     "output_type": "stream",
     "text": [
      "0.588970976494 \t\t 29 \t\t 7 \t\t 25\n"
     ]
    },
    {
     "name": "stdout",
     "output_type": "stream",
     "text": [
      "0.58897126655 \t\t 29 \t\t 7 \t\t 26\n"
     ]
    },
    {
     "name": "stdout",
     "output_type": "stream",
     "text": [
      "0.588971472441 \t\t 29 \t\t 7 \t\t 27\n"
     ]
    },
    {
     "name": "stdout",
     "output_type": "stream",
     "text": [
      "0.588971431381 \t\t 29 \t\t 7 \t\t 28\n"
     ]
    },
    {
     "name": "stdout",
     "output_type": "stream",
     "text": [
      "0.643951540599 \t\t 29 \t\t 8 \t\t 3\n"
     ]
    },
    {
     "name": "stdout",
     "output_type": "stream",
     "text": [
      "0.643369979118 \t\t 29 \t\t 8 \t\t 4\n"
     ]
    },
    {
     "name": "stdout",
     "output_type": "stream",
     "text": [
      "0.59609240261 \t\t 29 \t\t 8 \t\t 5\n"
     ]
    },
    {
     "name": "stdout",
     "output_type": "stream",
     "text": [
      "0.561764554026 \t\t 29 \t\t 8 \t\t 6\n"
     ]
    },
    {
     "name": "stdout",
     "output_type": "stream",
     "text": [
      "0.558716603863 \t\t 29 \t\t 8 \t\t 7\n"
     ]
    },
    {
     "name": "stdout",
     "output_type": "stream",
     "text": [
      "0.558537892019 \t\t 29 \t\t 8 \t\t 8\n"
     ]
    },
    {
     "name": "stdout",
     "output_type": "stream",
     "text": [
      "0.557791805083 \t\t 29 \t\t 8 \t\t 9\n"
     ]
    },
    {
     "name": "stdout",
     "output_type": "stream",
     "text": [
      "0.557831163043 \t\t 29 \t\t 8 \t\t 10\n"
     ]
    },
    {
     "name": "stdout",
     "output_type": "stream",
     "text": [
      "0.55709312757 \t\t 29 \t\t 8 \t\t 11\n"
     ]
    },
    {
     "name": "stdout",
     "output_type": "stream",
     "text": [
      "0.557219014259 \t\t 29 \t\t 8 \t\t 12\n"
     ]
    },
    {
     "name": "stdout",
     "output_type": "stream",
     "text": [
      "0.557711569909 \t\t 29 \t\t 8 \t\t 13\n"
     ]
    },
    {
     "name": "stdout",
     "output_type": "stream",
     "text": [
      "0.557697622454 \t\t 29 \t\t 8 \t\t 14\n"
     ]
    },
    {
     "name": "stdout",
     "output_type": "stream",
     "text": [
      "0.557048112242 \t\t 29 \t\t 8 \t\t 15\n"
     ]
    },
    {
     "name": "stdout",
     "output_type": "stream",
     "text": [
      "0.559432933165 \t\t 29 \t\t 8 \t\t 16\n"
     ]
    },
    {
     "name": "stdout",
     "output_type": "stream",
     "text": [
      "0.5592658755 \t\t 29 \t\t 8 \t\t 17\n"
     ]
    },
    {
     "name": "stdout",
     "output_type": "stream",
     "text": [
      "0.558804134731 \t\t 29 \t\t 8 \t\t 18\n"
     ]
    },
    {
     "name": "stdout",
     "output_type": "stream",
     "text": [
      "0.558803363047 \t\t 29 \t\t 8 \t\t 19\n"
     ]
    },
    {
     "name": "stdout",
     "output_type": "stream",
     "text": [
      "0.558744014288 \t\t 29 \t\t 8 \t\t 20\n"
     ]
    },
    {
     "name": "stdout",
     "output_type": "stream",
     "text": [
      "0.558505412939 \t\t 29 \t\t 8 \t\t 21\n"
     ]
    },
    {
     "name": "stdout",
     "output_type": "stream",
     "text": [
      "0.558612286729 \t\t 29 \t\t 8 \t\t 22\n"
     ]
    },
    {
     "name": "stdout",
     "output_type": "stream",
     "text": [
      "0.558505265984 \t\t 29 \t\t 8 \t\t 23\n"
     ]
    },
    {
     "name": "stdout",
     "output_type": "stream",
     "text": [
      "0.558464750036 \t\t 29 \t\t 8 \t\t 24\n"
     ]
    },
    {
     "name": "stdout",
     "output_type": "stream",
     "text": [
      "0.558465116951 \t\t 29 \t\t 8 \t\t 25\n"
     ]
    },
    {
     "name": "stdout",
     "output_type": "stream",
     "text": [
      "0.558465024007 \t\t 29 \t\t 8 \t\t 26\n"
     ]
    },
    {
     "name": "stdout",
     "output_type": "stream",
     "text": [
      "0.558465029723 \t\t 29 \t\t 8 \t\t 27\n"
     ]
    },
    {
     "name": "stdout",
     "output_type": "stream",
     "text": [
      "0.558465012518 \t\t 29 \t\t 8 \t\t 28\n"
     ]
    },
    {
     "name": "stdout",
     "output_type": "stream",
     "text": [
      "0.678876688088 \t\t 29 \t\t 9 \t\t 3\n"
     ]
    },
    {
     "name": "stdout",
     "output_type": "stream",
     "text": [
      "0.682690836639 \t\t 29 \t\t 9 \t\t 4\n"
     ]
    },
    {
     "name": "stdout",
     "output_type": "stream",
     "text": [
      "0.621736497918 \t\t 29 \t\t 9 \t\t 5\n"
     ]
    },
    {
     "name": "stdout",
     "output_type": "stream",
     "text": [
      "0.62449578723 \t\t 29 \t\t 9 \t\t 6\n"
     ]
    },
    {
     "name": "stdout",
     "output_type": "stream",
     "text": [
      "0.634830899823 \t\t 29 \t\t 9 \t\t 7\n"
     ]
    },
    {
     "name": "stdout",
     "output_type": "stream",
     "text": [
      "0.634711348592 \t\t 29 \t\t 9 \t\t 8\n"
     ]
    },
    {
     "name": "stdout",
     "output_type": "stream",
     "text": [
      "0.638096539155 \t\t 29 \t\t 9 \t\t 9\n"
     ]
    },
    {
     "name": "stdout",
     "output_type": "stream",
     "text": [
      "0.636336463722 \t\t 29 \t\t 9 \t\t 10\n"
     ]
    },
    {
     "name": "stdout",
     "output_type": "stream",
     "text": [
      "0.635225283014 \t\t 29 \t\t 9 \t\t 11\n"
     ]
    },
    {
     "name": "stdout",
     "output_type": "stream",
     "text": [
      "0.635196516542 \t\t 29 \t\t 9 \t\t 12\n"
     ]
    },
    {
     "name": "stdout",
     "output_type": "stream",
     "text": [
      "0.634449382752 \t\t 29 \t\t 9 \t\t 13\n"
     ]
    },
    {
     "name": "stdout",
     "output_type": "stream",
     "text": [
      "0.633348883174 \t\t 29 \t\t 9 \t\t 14\n"
     ]
    },
    {
     "name": "stdout",
     "output_type": "stream",
     "text": [
      "0.633875096375 \t\t 29 \t\t 9 \t\t 15\n"
     ]
    },
    {
     "name": "stdout",
     "output_type": "stream",
     "text": [
      "0.633613225534 \t\t 29 \t\t 9 \t\t 16\n"
     ]
    },
    {
     "name": "stdout",
     "output_type": "stream",
     "text": [
      "0.633385817879 \t\t 29 \t\t 9 \t\t 17\n"
     ]
    },
    {
     "name": "stderr",
     "output_type": "stream",
     "text": [
      "/Users/maxwelllee54/anaconda/lib/python3.5/site-packages/sklearn/linear_model/base.py:352: RuntimeWarning: overflow encountered in exp\n  np.exp(prob, prob)\n"
     ]
    },
    {
     "name": "stdout",
     "output_type": "stream",
     "text": [
      "0.63350962974 \t\t 29 \t\t 9 \t\t 18\n"
     ]
    },
    {
     "name": "stderr",
     "output_type": "stream",
     "text": [
      "/Users/maxwelllee54/anaconda/lib/python3.5/site-packages/sklearn/linear_model/base.py:352: RuntimeWarning: overflow encountered in exp\n  np.exp(prob, prob)\n"
     ]
    },
    {
     "name": "stdout",
     "output_type": "stream",
     "text": [
      "0.63339612156 \t\t 29 \t\t 9 \t\t 19\n"
     ]
    },
    {
     "name": "stdout",
     "output_type": "stream",
     "text": [
      "0.63321909032 \t\t 29 \t\t 9 \t\t 20\n"
     ]
    },
    {
     "name": "stderr",
     "output_type": "stream",
     "text": [
      "/Users/maxwelllee54/anaconda/lib/python3.5/site-packages/sklearn/linear_model/base.py:352: RuntimeWarning: overflow encountered in exp\n  np.exp(prob, prob)\n"
     ]
    },
    {
     "name": "stdout",
     "output_type": "stream",
     "text": [
      "0.633195657625 \t\t 29 \t\t 9 \t\t 21\n"
     ]
    },
    {
     "name": "stdout",
     "output_type": "stream",
     "text": [
      "0.633133350366 \t\t 29 \t\t 9 \t\t 22\n"
     ]
    },
    {
     "name": "stderr",
     "output_type": "stream",
     "text": [
      "/Users/maxwelllee54/anaconda/lib/python3.5/site-packages/sklearn/linear_model/base.py:352: RuntimeWarning: overflow encountered in exp\n  np.exp(prob, prob)\n"
     ]
    },
    {
     "name": "stdout",
     "output_type": "stream",
     "text": [
      "0.633138079288 \t\t 29 \t\t 9 \t\t 23\n"
     ]
    },
    {
     "name": "stderr",
     "output_type": "stream",
     "text": [
      "/Users/maxwelllee54/anaconda/lib/python3.5/site-packages/sklearn/linear_model/base.py:352: RuntimeWarning: overflow encountered in exp\n  np.exp(prob, prob)\n"
     ]
    },
    {
     "name": "stdout",
     "output_type": "stream",
     "text": [
      "0.633148905977 \t\t 29 \t\t 9 \t\t 24\n"
     ]
    },
    {
     "name": "stderr",
     "output_type": "stream",
     "text": [
      "/Users/maxwelllee54/anaconda/lib/python3.5/site-packages/sklearn/linear_model/base.py:352: RuntimeWarning: overflow encountered in exp\n  np.exp(prob, prob)\n"
     ]
    },
    {
     "name": "stdout",
     "output_type": "stream",
     "text": [
      "0.633149014983 \t\t 29 \t\t 9 \t\t 25\n"
     ]
    },
    {
     "name": "stderr",
     "output_type": "stream",
     "text": [
      "/Users/maxwelllee54/anaconda/lib/python3.5/site-packages/sklearn/linear_model/base.py:352: RuntimeWarning: overflow encountered in exp\n  np.exp(prob, prob)\n"
     ]
    },
    {
     "name": "stdout",
     "output_type": "stream",
     "text": [
      "0.633149008061 \t\t 29 \t\t 9 \t\t 26\n"
     ]
    },
    {
     "name": "stderr",
     "output_type": "stream",
     "text": [
      "/Users/maxwelllee54/anaconda/lib/python3.5/site-packages/sklearn/linear_model/base.py:352: RuntimeWarning: overflow encountered in exp\n  np.exp(prob, prob)\n"
     ]
    },
    {
     "name": "stdout",
     "output_type": "stream",
     "text": [
      "0.633148995421 \t\t 29 \t\t 9 \t\t 27\n"
     ]
    },
    {
     "name": "stderr",
     "output_type": "stream",
     "text": [
      "/Users/maxwelllee54/anaconda/lib/python3.5/site-packages/sklearn/linear_model/base.py:352: RuntimeWarning: overflow encountered in exp\n  np.exp(prob, prob)\n"
     ]
    },
    {
     "name": "stdout",
     "output_type": "stream",
     "text": [
      "0.633149002068 \t\t 29 \t\t 9 \t\t 28\n"
     ]
    },
    {
     "name": "stdout",
     "output_type": "stream",
     "text": [
      "0.604331223515 \t\t 30 \t\t 1 \t\t 3\n"
     ]
    },
    {
     "name": "stdout",
     "output_type": "stream",
     "text": [
      "0.603114990819 \t\t 30 \t\t 1 \t\t 4\n"
     ]
    },
    {
     "name": "stdout",
     "output_type": "stream",
     "text": [
      "0.57924604389 \t\t 30 \t\t 1 \t\t 5\n"
     ]
    },
    {
     "name": "stdout",
     "output_type": "stream",
     "text": [
      "0.581263216127 \t\t 30 \t\t 1 \t\t 6\n"
     ]
    },
    {
     "name": "stdout",
     "output_type": "stream",
     "text": [
      "0.586652711585 \t\t 30 \t\t 1 \t\t 7\n"
     ]
    },
    {
     "name": "stdout",
     "output_type": "stream",
     "text": [
      "0.582325713865 \t\t 30 \t\t 1 \t\t 8\n"
     ]
    },
    {
     "name": "stdout",
     "output_type": "stream",
     "text": [
      "0.579428909679 \t\t 30 \t\t 1 \t\t 9\n"
     ]
    },
    {
     "name": "stdout",
     "output_type": "stream",
     "text": [
      "0.563792954695 \t\t 30 \t\t 1 \t\t 10\n"
     ]
    },
    {
     "name": "stdout",
     "output_type": "stream",
     "text": [
      "0.561565411085 \t\t 30 \t\t 1 \t\t 11\n"
     ]
    },
    {
     "name": "stdout",
     "output_type": "stream",
     "text": [
      "0.560572550098 \t\t 30 \t\t 1 \t\t 12\n"
     ]
    },
    {
     "name": "stdout",
     "output_type": "stream",
     "text": [
      "0.562357387098 \t\t 30 \t\t 1 \t\t 13\n"
     ]
    },
    {
     "name": "stdout",
     "output_type": "stream",
     "text": [
      "0.559477526531 \t\t 30 \t\t 1 \t\t 14\n"
     ]
    },
    {
     "name": "stdout",
     "output_type": "stream",
     "text": [
      "0.561937690244 \t\t 30 \t\t 1 \t\t 15\n"
     ]
    },
    {
     "name": "stdout",
     "output_type": "stream",
     "text": [
      "0.562821604811 \t\t 30 \t\t 1 \t\t 16\n"
     ]
    },
    {
     "name": "stdout",
     "output_type": "stream",
     "text": [
      "0.562805434514 \t\t 30 \t\t 1 \t\t 17\n"
     ]
    },
    {
     "name": "stdout",
     "output_type": "stream",
     "text": [
      "0.564221867892 \t\t 30 \t\t 1 \t\t 18\n"
     ]
    },
    {
     "name": "stdout",
     "output_type": "stream",
     "text": [
      "0.563848289162 \t\t 30 \t\t 1 \t\t 19\n"
     ]
    },
    {
     "name": "stdout",
     "output_type": "stream",
     "text": [
      "0.564454663519 \t\t 30 \t\t 1 \t\t 20\n"
     ]
    },
    {
     "name": "stdout",
     "output_type": "stream",
     "text": [
      "0.566759245857 \t\t 30 \t\t 1 \t\t 21\n"
     ]
    },
    {
     "name": "stdout",
     "output_type": "stream",
     "text": [
      "0.566877607458 \t\t 30 \t\t 1 \t\t 22\n"
     ]
    },
    {
     "name": "stdout",
     "output_type": "stream",
     "text": [
      "0.565994132038 \t\t 30 \t\t 1 \t\t 23\n"
     ]
    },
    {
     "name": "stdout",
     "output_type": "stream",
     "text": [
      "0.564534575748 \t\t 30 \t\t 1 \t\t 24\n"
     ]
    },
    {
     "name": "stdout",
     "output_type": "stream",
     "text": [
      "0.56454853678 \t\t 30 \t\t 1 \t\t 25\n"
     ]
    },
    {
     "name": "stdout",
     "output_type": "stream",
     "text": [
      "0.564553745914 \t\t 30 \t\t 1 \t\t 26\n"
     ]
    },
    {
     "name": "stdout",
     "output_type": "stream",
     "text": [
      "0.564552488595 \t\t 30 \t\t 1 \t\t 27\n"
     ]
    },
    {
     "name": "stdout",
     "output_type": "stream",
     "text": [
      "0.564553454419 \t\t 30 \t\t 1 \t\t 28\n"
     ]
    },
    {
     "name": "stdout",
     "output_type": "stream",
     "text": [
      "0.564553454583 \t\t 30 \t\t 1 \t\t 29\n"
     ]
    },
    {
     "name": "stdout",
     "output_type": "stream",
     "text": [
      "0.625075145962 \t\t 30 \t\t 2 \t\t 3\n"
     ]
    },
    {
     "name": "stdout",
     "output_type": "stream",
     "text": [
      "0.624835214024 \t\t 30 \t\t 2 \t\t 4\n"
     ]
    },
    {
     "name": "stdout",
     "output_type": "stream",
     "text": [
      "0.544224595026 \t\t 30 \t\t 2 \t\t 5\n"
     ]
    },
    {
     "name": "stdout",
     "output_type": "stream",
     "text": [
      "0.524519740081 \t\t 30 \t\t 2 \t\t 6\n"
     ]
    },
    {
     "name": "stdout",
     "output_type": "stream",
     "text": [
      "0.523726248375 \t\t 30 \t\t 2 \t\t 7\n"
     ]
    },
    {
     "name": "stdout",
     "output_type": "stream",
     "text": [
      "0.525441616986 \t\t 30 \t\t 2 \t\t 8\n"
     ]
    },
    {
     "name": "stdout",
     "output_type": "stream",
     "text": [
      "0.522829148034 \t\t 30 \t\t 2 \t\t 9\n"
     ]
    },
    {
     "name": "stdout",
     "output_type": "stream",
     "text": [
      "0.522453028439 \t\t 30 \t\t 2 \t\t 10\n"
     ]
    },
    {
     "name": "stdout",
     "output_type": "stream",
     "text": [
      "0.523885530024 \t\t 30 \t\t 2 \t\t 11\n"
     ]
    },
    {
     "name": "stdout",
     "output_type": "stream",
     "text": [
      "0.524285537117 \t\t 30 \t\t 2 \t\t 12\n"
     ]
    },
    {
     "name": "stdout",
     "output_type": "stream",
     "text": [
      "0.523853034896 \t\t 30 \t\t 2 \t\t 13\n"
     ]
    },
    {
     "name": "stdout",
     "output_type": "stream",
     "text": [
      "0.523893079031 \t\t 30 \t\t 2 \t\t 14\n"
     ]
    },
    {
     "name": "stdout",
     "output_type": "stream",
     "text": [
      "0.523758713627 \t\t 30 \t\t 2 \t\t 15\n"
     ]
    },
    {
     "name": "stdout",
     "output_type": "stream",
     "text": [
      "0.526363644029 \t\t 30 \t\t 2 \t\t 16\n"
     ]
    },
    {
     "name": "stdout",
     "output_type": "stream",
     "text": [
      "0.526376573636 \t\t 30 \t\t 2 \t\t 17\n"
     ]
    },
    {
     "name": "stdout",
     "output_type": "stream",
     "text": [
      "0.528274464636 \t\t 30 \t\t 2 \t\t 18\n"
     ]
    },
    {
     "name": "stdout",
     "output_type": "stream",
     "text": [
      "0.528525928597 \t\t 30 \t\t 2 \t\t 19\n"
     ]
    },
    {
     "name": "stdout",
     "output_type": "stream",
     "text": [
      "0.528667591171 \t\t 30 \t\t 2 \t\t 20\n"
     ]
    },
    {
     "name": "stdout",
     "output_type": "stream",
     "text": [
      "0.530808047297 \t\t 30 \t\t 2 \t\t 21\n"
     ]
    },
    {
     "name": "stdout",
     "output_type": "stream",
     "text": [
      "0.528217729982 \t\t 30 \t\t 2 \t\t 22\n"
     ]
    },
    {
     "name": "stdout",
     "output_type": "stream",
     "text": [
      "0.527847113774 \t\t 30 \t\t 2 \t\t 23\n"
     ]
    },
    {
     "name": "stdout",
     "output_type": "stream",
     "text": [
      "0.528568071554 \t\t 30 \t\t 2 \t\t 24\n"
     ]
    },
    {
     "name": "stdout",
     "output_type": "stream",
     "text": [
      "0.528558426877 \t\t 30 \t\t 2 \t\t 25\n"
     ]
    },
    {
     "name": "stdout",
     "output_type": "stream",
     "text": [
      "0.52855787941 \t\t 30 \t\t 2 \t\t 26\n"
     ]
    },
    {
     "name": "stdout",
     "output_type": "stream",
     "text": [
      "0.528559498102 \t\t 30 \t\t 2 \t\t 27\n"
     ]
    },
    {
     "name": "stdout",
     "output_type": "stream",
     "text": [
      "0.528559488622 \t\t 30 \t\t 2 \t\t 28\n"
     ]
    },
    {
     "name": "stdout",
     "output_type": "stream",
     "text": [
      "0.528559462899 \t\t 30 \t\t 2 \t\t 29\n"
     ]
    },
    {
     "name": "stdout",
     "output_type": "stream",
     "text": [
      "0.64916188192 \t\t 30 \t\t 3 \t\t 3\n"
     ]
    },
    {
     "name": "stdout",
     "output_type": "stream",
     "text": [
      "0.668758707434 \t\t 30 \t\t 3 \t\t 4\n"
     ]
    },
    {
     "name": "stdout",
     "output_type": "stream",
     "text": [
      "0.61769720995 \t\t 30 \t\t 3 \t\t 5\n"
     ]
    },
    {
     "name": "stdout",
     "output_type": "stream",
     "text": [
      "0.577588315098 \t\t 30 \t\t 3 \t\t 6\n"
     ]
    },
    {
     "name": "stdout",
     "output_type": "stream",
     "text": [
      "0.583743257973 \t\t 30 \t\t 3 \t\t 7\n"
     ]
    },
    {
     "name": "stdout",
     "output_type": "stream",
     "text": [
      "0.578461118669 \t\t 30 \t\t 3 \t\t 8\n"
     ]
    },
    {
     "name": "stdout",
     "output_type": "stream",
     "text": [
      "0.579708222675 \t\t 30 \t\t 3 \t\t 9\n"
     ]
    },
    {
     "name": "stdout",
     "output_type": "stream",
     "text": [
      "0.571920368764 \t\t 30 \t\t 3 \t\t 10\n"
     ]
    },
    {
     "name": "stdout",
     "output_type": "stream",
     "text": [
      "0.571858025308 \t\t 30 \t\t 3 \t\t 11\n"
     ]
    },
    {
     "name": "stdout",
     "output_type": "stream",
     "text": [
      "0.571859056044 \t\t 30 \t\t 3 \t\t 12\n"
     ]
    },
    {
     "name": "stdout",
     "output_type": "stream",
     "text": [
      "0.574301862869 \t\t 30 \t\t 3 \t\t 13\n"
     ]
    },
    {
     "name": "stdout",
     "output_type": "stream",
     "text": [
      "0.576785213678 \t\t 30 \t\t 3 \t\t 14\n"
     ]
    },
    {
     "name": "stdout",
     "output_type": "stream",
     "text": [
      "0.577704543961 \t\t 30 \t\t 3 \t\t 15\n"
     ]
    },
    {
     "name": "stdout",
     "output_type": "stream",
     "text": [
      "0.577459114005 \t\t 30 \t\t 3 \t\t 16\n"
     ]
    },
    {
     "name": "stdout",
     "output_type": "stream",
     "text": [
      "0.577830817981 \t\t 30 \t\t 3 \t\t 17\n"
     ]
    },
    {
     "name": "stdout",
     "output_type": "stream",
     "text": [
      "0.577865373093 \t\t 30 \t\t 3 \t\t 18\n"
     ]
    },
    {
     "name": "stdout",
     "output_type": "stream",
     "text": [
      "0.577765645768 \t\t 30 \t\t 3 \t\t 19\n"
     ]
    },
    {
     "name": "stdout",
     "output_type": "stream",
     "text": [
      "0.577783191992 \t\t 30 \t\t 3 \t\t 20\n"
     ]
    },
    {
     "name": "stdout",
     "output_type": "stream",
     "text": [
      "0.577829657181 \t\t 30 \t\t 3 \t\t 21\n"
     ]
    },
    {
     "name": "stdout",
     "output_type": "stream",
     "text": [
      "0.577071793917 \t\t 30 \t\t 3 \t\t 22\n"
     ]
    },
    {
     "name": "stdout",
     "output_type": "stream",
     "text": [
      "0.57707577829 \t\t 30 \t\t 3 \t\t 23\n"
     ]
    },
    {
     "name": "stdout",
     "output_type": "stream",
     "text": [
      "0.577203154259 \t\t 30 \t\t 3 \t\t 24\n"
     ]
    },
    {
     "name": "stdout",
     "output_type": "stream",
     "text": [
      "0.577232072599 \t\t 30 \t\t 3 \t\t 25\n"
     ]
    },
    {
     "name": "stdout",
     "output_type": "stream",
     "text": [
      "0.577232126098 \t\t 30 \t\t 3 \t\t 26\n"
     ]
    },
    {
     "name": "stdout",
     "output_type": "stream",
     "text": [
      "0.577231107094 \t\t 30 \t\t 3 \t\t 27\n"
     ]
    },
    {
     "name": "stdout",
     "output_type": "stream",
     "text": [
      "0.57723117165 \t\t 30 \t\t 3 \t\t 28\n"
     ]
    },
    {
     "name": "stdout",
     "output_type": "stream",
     "text": [
      "0.577231089626 \t\t 30 \t\t 3 \t\t 29\n"
     ]
    },
    {
     "name": "stdout",
     "output_type": "stream",
     "text": [
      "0.665358587323 \t\t 30 \t\t 4 \t\t 3\n"
     ]
    },
    {
     "name": "stdout",
     "output_type": "stream",
     "text": [
      "0.664039148952 \t\t 30 \t\t 4 \t\t 4\n"
     ]
    },
    {
     "name": "stdout",
     "output_type": "stream",
     "text": [
      "0.594124437698 \t\t 30 \t\t 4 \t\t 5\n"
     ]
    },
    {
     "name": "stdout",
     "output_type": "stream",
     "text": [
      "0.553958878784 \t\t 30 \t\t 4 \t\t 6\n"
     ]
    },
    {
     "name": "stdout",
     "output_type": "stream",
     "text": [
      "0.571626561723 \t\t 30 \t\t 4 \t\t 7\n"
     ]
    },
    {
     "name": "stdout",
     "output_type": "stream",
     "text": [
      "0.569990738794 \t\t 30 \t\t 4 \t\t 8\n"
     ]
    },
    {
     "name": "stdout",
     "output_type": "stream",
     "text": [
      "0.569662166386 \t\t 30 \t\t 4 \t\t 9\n"
     ]
    },
    {
     "name": "stdout",
     "output_type": "stream",
     "text": [
      "0.566008605416 \t\t 30 \t\t 4 \t\t 10\n"
     ]
    },
    {
     "name": "stdout",
     "output_type": "stream",
     "text": [
      "0.565709372437 \t\t 30 \t\t 4 \t\t 11\n"
     ]
    },
    {
     "name": "stdout",
     "output_type": "stream",
     "text": [
      "0.566258639344 \t\t 30 \t\t 4 \t\t 12\n"
     ]
    },
    {
     "name": "stdout",
     "output_type": "stream",
     "text": [
      "0.565629033492 \t\t 30 \t\t 4 \t\t 13\n"
     ]
    },
    {
     "name": "stdout",
     "output_type": "stream",
     "text": [
      "0.566569370939 \t\t 30 \t\t 4 \t\t 14\n"
     ]
    },
    {
     "name": "stdout",
     "output_type": "stream",
     "text": [
      "0.565734404572 \t\t 30 \t\t 4 \t\t 15\n"
     ]
    },
    {
     "name": "stdout",
     "output_type": "stream",
     "text": [
      "0.565824950336 \t\t 30 \t\t 4 \t\t 16\n"
     ]
    },
    {
     "name": "stdout",
     "output_type": "stream",
     "text": [
      "0.565794005672 \t\t 30 \t\t 4 \t\t 17\n"
     ]
    },
    {
     "name": "stdout",
     "output_type": "stream",
     "text": [
      "0.565840719863 \t\t 30 \t\t 4 \t\t 18\n"
     ]
    },
    {
     "name": "stdout",
     "output_type": "stream",
     "text": [
      "0.568136620442 \t\t 30 \t\t 4 \t\t 19\n"
     ]
    },
    {
     "name": "stdout",
     "output_type": "stream",
     "text": [
      "0.568589009341 \t\t 30 \t\t 4 \t\t 20\n"
     ]
    },
    {
     "name": "stdout",
     "output_type": "stream",
     "text": [
      "0.567746241073 \t\t 30 \t\t 4 \t\t 21\n"
     ]
    },
    {
     "name": "stdout",
     "output_type": "stream",
     "text": [
      "0.566666827246 \t\t 30 \t\t 4 \t\t 22\n"
     ]
    },
    {
     "name": "stdout",
     "output_type": "stream",
     "text": [
      "0.566829299578 \t\t 30 \t\t 4 \t\t 23\n"
     ]
    },
    {
     "name": "stdout",
     "output_type": "stream",
     "text": [
      "0.566453121195 \t\t 30 \t\t 4 \t\t 24\n"
     ]
    },
    {
     "name": "stdout",
     "output_type": "stream",
     "text": [
      "0.566410042354 \t\t 30 \t\t 4 \t\t 25\n"
     ]
    },
    {
     "name": "stdout",
     "output_type": "stream",
     "text": [
      "0.566410183703 \t\t 30 \t\t 4 \t\t 26\n"
     ]
    },
    {
     "name": "stdout",
     "output_type": "stream",
     "text": [
      "0.566409561953 \t\t 30 \t\t 4 \t\t 27\n"
     ]
    },
    {
     "name": "stdout",
     "output_type": "stream",
     "text": [
      "0.566409800843 \t\t 30 \t\t 4 \t\t 28\n"
     ]
    },
    {
     "name": "stdout",
     "output_type": "stream",
     "text": [
      "0.566409800599 \t\t 30 \t\t 4 \t\t 29\n"
     ]
    },
    {
     "name": "stdout",
     "output_type": "stream",
     "text": [
      "0.64196132758 \t\t 30 \t\t 5 \t\t 3\n"
     ]
    },
    {
     "name": "stdout",
     "output_type": "stream",
     "text": [
      "0.635128350471 \t\t 30 \t\t 5 \t\t 4\n"
     ]
    },
    {
     "name": "stdout",
     "output_type": "stream",
     "text": [
      "0.594890725946 \t\t 30 \t\t 5 \t\t 5\n"
     ]
    },
    {
     "name": "stdout",
     "output_type": "stream",
     "text": [
      "0.551095378264 \t\t 30 \t\t 5 \t\t 6\n"
     ]
    },
    {
     "name": "stdout",
     "output_type": "stream",
     "text": [
      "0.553461189976 \t\t 30 \t\t 5 \t\t 7\n"
     ]
    },
    {
     "name": "stdout",
     "output_type": "stream",
     "text": [
      "0.555613208755 \t\t 30 \t\t 5 \t\t 8\n"
     ]
    },
    {
     "name": "stdout",
     "output_type": "stream",
     "text": [
      "0.557235663444 \t\t 30 \t\t 5 \t\t 9\n"
     ]
    },
    {
     "name": "stdout",
     "output_type": "stream",
     "text": [
      "0.552345273906 \t\t 30 \t\t 5 \t\t 10\n"
     ]
    },
    {
     "name": "stdout",
     "output_type": "stream",
     "text": [
      "0.550288584002 \t\t 30 \t\t 5 \t\t 11\n"
     ]
    },
    {
     "name": "stdout",
     "output_type": "stream",
     "text": [
      "0.55427073373 \t\t 30 \t\t 5 \t\t 12\n"
     ]
    },
    {
     "name": "stdout",
     "output_type": "stream",
     "text": [
      "0.554465813579 \t\t 30 \t\t 5 \t\t 13\n"
     ]
    },
    {
     "name": "stdout",
     "output_type": "stream",
     "text": [
      "0.554654483838 \t\t 30 \t\t 5 \t\t 14\n"
     ]
    },
    {
     "name": "stdout",
     "output_type": "stream",
     "text": [
      "0.555278257825 \t\t 30 \t\t 5 \t\t 15\n"
     ]
    },
    {
     "name": "stdout",
     "output_type": "stream",
     "text": [
      "0.555686853986 \t\t 30 \t\t 5 \t\t 16\n"
     ]
    },
    {
     "name": "stdout",
     "output_type": "stream",
     "text": [
      "0.555429086102 \t\t 30 \t\t 5 \t\t 17\n"
     ]
    },
    {
     "name": "stdout",
     "output_type": "stream",
     "text": [
      "0.55564261923 \t\t 30 \t\t 5 \t\t 18\n"
     ]
    },
    {
     "name": "stdout",
     "output_type": "stream",
     "text": [
      "0.555492030224 \t\t 30 \t\t 5 \t\t 19\n"
     ]
    },
    {
     "name": "stdout",
     "output_type": "stream",
     "text": [
      "0.555697335144 \t\t 30 \t\t 5 \t\t 20\n"
     ]
    },
    {
     "name": "stdout",
     "output_type": "stream",
     "text": [
      "0.555756128917 \t\t 30 \t\t 5 \t\t 21\n"
     ]
    },
    {
     "name": "stdout",
     "output_type": "stream",
     "text": [
      "0.554438918678 \t\t 30 \t\t 5 \t\t 22\n"
     ]
    },
    {
     "name": "stdout",
     "output_type": "stream",
     "text": [
      "0.554468281261 \t\t 30 \t\t 5 \t\t 23\n"
     ]
    },
    {
     "name": "stdout",
     "output_type": "stream",
     "text": [
      "0.554251174644 \t\t 30 \t\t 5 \t\t 24\n"
     ]
    },
    {
     "name": "stdout",
     "output_type": "stream",
     "text": [
      "0.554309307317 \t\t 30 \t\t 5 \t\t 25\n"
     ]
    },
    {
     "name": "stdout",
     "output_type": "stream",
     "text": [
      "0.554310047255 \t\t 30 \t\t 5 \t\t 26\n"
     ]
    },
    {
     "name": "stdout",
     "output_type": "stream",
     "text": [
      "0.55431024755 \t\t 30 \t\t 5 \t\t 27\n"
     ]
    },
    {
     "name": "stdout",
     "output_type": "stream",
     "text": [
      "0.554310248862 \t\t 30 \t\t 5 \t\t 28\n"
     ]
    },
    {
     "name": "stdout",
     "output_type": "stream",
     "text": [
      "0.554310261994 \t\t 30 \t\t 5 \t\t 29\n"
     ]
    },
    {
     "name": "stdout",
     "output_type": "stream",
     "text": [
      "0.632731464437 \t\t 30 \t\t 6 \t\t 3\n"
     ]
    },
    {
     "name": "stdout",
     "output_type": "stream",
     "text": [
      "0.632717770529 \t\t 30 \t\t 6 \t\t 4\n"
     ]
    },
    {
     "name": "stdout",
     "output_type": "stream",
     "text": [
      "0.579710277072 \t\t 30 \t\t 6 \t\t 5\n"
     ]
    },
    {
     "name": "stdout",
     "output_type": "stream",
     "text": [
      "0.553881589433 \t\t 30 \t\t 6 \t\t 6\n"
     ]
    },
    {
     "name": "stdout",
     "output_type": "stream",
     "text": [
      "0.554594044799 \t\t 30 \t\t 6 \t\t 7\n"
     ]
    },
    {
     "name": "stdout",
     "output_type": "stream",
     "text": [
      "0.551374821407 \t\t 30 \t\t 6 \t\t 8\n"
     ]
    },
    {
     "name": "stdout",
     "output_type": "stream",
     "text": [
      "0.547754062417 \t\t 30 \t\t 6 \t\t 9\n"
     ]
    },
    {
     "name": "stdout",
     "output_type": "stream",
     "text": [
      "0.54621416117 \t\t 30 \t\t 6 \t\t 10\n"
     ]
    },
    {
     "name": "stdout",
     "output_type": "stream",
     "text": [
      "0.545324758292 \t\t 30 \t\t 6 \t\t 11\n"
     ]
    },
    {
     "name": "stdout",
     "output_type": "stream",
     "text": [
      "0.546530980338 \t\t 30 \t\t 6 \t\t 12\n"
     ]
    },
    {
     "name": "stdout",
     "output_type": "stream",
     "text": [
      "0.546427009557 \t\t 30 \t\t 6 \t\t 13\n"
     ]
    },
    {
     "name": "stdout",
     "output_type": "stream",
     "text": [
      "0.54596580237 \t\t 30 \t\t 6 \t\t 14\n"
     ]
    },
    {
     "name": "stdout",
     "output_type": "stream",
     "text": [
      "0.545692904687 \t\t 30 \t\t 6 \t\t 15\n"
     ]
    },
    {
     "name": "stdout",
     "output_type": "stream",
     "text": [
      "0.545690327807 \t\t 30 \t\t 6 \t\t 16\n"
     ]
    },
    {
     "name": "stdout",
     "output_type": "stream",
     "text": [
      "0.547139943544 \t\t 30 \t\t 6 \t\t 17\n"
     ]
    },
    {
     "name": "stdout",
     "output_type": "stream",
     "text": [
      "0.547364098129 \t\t 30 \t\t 6 \t\t 18\n"
     ]
    },
    {
     "name": "stdout",
     "output_type": "stream",
     "text": [
      "0.547185252938 \t\t 30 \t\t 6 \t\t 19\n"
     ]
    },
    {
     "name": "stdout",
     "output_type": "stream",
     "text": [
      "0.547174094909 \t\t 30 \t\t 6 \t\t 20\n"
     ]
    },
    {
     "name": "stdout",
     "output_type": "stream",
     "text": [
      "0.546898666246 \t\t 30 \t\t 6 \t\t 21\n"
     ]
    },
    {
     "name": "stdout",
     "output_type": "stream",
     "text": [
      "0.546255703753 \t\t 30 \t\t 6 \t\t 22\n"
     ]
    },
    {
     "name": "stdout",
     "output_type": "stream",
     "text": [
      "0.546117350788 \t\t 30 \t\t 6 \t\t 23\n"
     ]
    },
    {
     "name": "stdout",
     "output_type": "stream",
     "text": [
      "0.545942157971 \t\t 30 \t\t 6 \t\t 24\n"
     ]
    },
    {
     "name": "stdout",
     "output_type": "stream",
     "text": [
      "0.545958244458 \t\t 30 \t\t 6 \t\t 25\n"
     ]
    },
    {
     "name": "stdout",
     "output_type": "stream",
     "text": [
      "0.545958825284 \t\t 30 \t\t 6 \t\t 26\n"
     ]
    },
    {
     "name": "stdout",
     "output_type": "stream",
     "text": [
      "0.54595999732 \t\t 30 \t\t 6 \t\t 27\n"
     ]
    },
    {
     "name": "stdout",
     "output_type": "stream",
     "text": [
      "0.545959837421 \t\t 30 \t\t 6 \t\t 28\n"
     ]
    },
    {
     "name": "stdout",
     "output_type": "stream",
     "text": [
      "0.545959847388 \t\t 30 \t\t 6 \t\t 29\n"
     ]
    },
    {
     "name": "stdout",
     "output_type": "stream",
     "text": [
      "0.647545557007 \t\t 30 \t\t 7 \t\t 3\n"
     ]
    },
    {
     "name": "stdout",
     "output_type": "stream",
     "text": [
      "0.646420713827 \t\t 30 \t\t 7 \t\t 4\n"
     ]
    },
    {
     "name": "stdout",
     "output_type": "stream",
     "text": [
      "0.623938232639 \t\t 30 \t\t 7 \t\t 5\n"
     ]
    },
    {
     "name": "stdout",
     "output_type": "stream",
     "text": [
      "0.590330982567 \t\t 30 \t\t 7 \t\t 6\n"
     ]
    },
    {
     "name": "stdout",
     "output_type": "stream",
     "text": [
      "0.589176323667 \t\t 30 \t\t 7 \t\t 7\n"
     ]
    },
    {
     "name": "stdout",
     "output_type": "stream",
     "text": [
      "0.588916761674 \t\t 30 \t\t 7 \t\t 8\n"
     ]
    },
    {
     "name": "stdout",
     "output_type": "stream",
     "text": [
      "0.587999623045 \t\t 30 \t\t 7 \t\t 9\n"
     ]
    },
    {
     "name": "stdout",
     "output_type": "stream",
     "text": [
      "0.586330158656 \t\t 30 \t\t 7 \t\t 10\n"
     ]
    },
    {
     "name": "stdout",
     "output_type": "stream",
     "text": [
      "0.584434640833 \t\t 30 \t\t 7 \t\t 11\n"
     ]
    },
    {
     "name": "stdout",
     "output_type": "stream",
     "text": [
      "0.58526788479 \t\t 30 \t\t 7 \t\t 12\n"
     ]
    },
    {
     "name": "stdout",
     "output_type": "stream",
     "text": [
      "0.587231625944 \t\t 30 \t\t 7 \t\t 13\n"
     ]
    },
    {
     "name": "stdout",
     "output_type": "stream",
     "text": [
      "0.586675090122 \t\t 30 \t\t 7 \t\t 14\n"
     ]
    },
    {
     "name": "stdout",
     "output_type": "stream",
     "text": [
      "0.58658242912 \t\t 30 \t\t 7 \t\t 15\n"
     ]
    },
    {
     "name": "stdout",
     "output_type": "stream",
     "text": [
      "0.586941528855 \t\t 30 \t\t 7 \t\t 16\n"
     ]
    },
    {
     "name": "stdout",
     "output_type": "stream",
     "text": [
      "0.587216003391 \t\t 30 \t\t 7 \t\t 17\n"
     ]
    },
    {
     "name": "stdout",
     "output_type": "stream",
     "text": [
      "0.586799757094 \t\t 30 \t\t 7 \t\t 18\n"
     ]
    },
    {
     "name": "stdout",
     "output_type": "stream",
     "text": [
      "0.587717878347 \t\t 30 \t\t 7 \t\t 19\n"
     ]
    },
    {
     "name": "stdout",
     "output_type": "stream",
     "text": [
      "0.587736048082 \t\t 30 \t\t 7 \t\t 20\n"
     ]
    },
    {
     "name": "stdout",
     "output_type": "stream",
     "text": [
      "0.587747214421 \t\t 30 \t\t 7 \t\t 21\n"
     ]
    },
    {
     "name": "stdout",
     "output_type": "stream",
     "text": [
      "0.586736792844 \t\t 30 \t\t 7 \t\t 22\n"
     ]
    },
    {
     "name": "stdout",
     "output_type": "stream",
     "text": [
      "0.586744855448 \t\t 30 \t\t 7 \t\t 23\n"
     ]
    },
    {
     "name": "stdout",
     "output_type": "stream",
     "text": [
      "0.586732392185 \t\t 30 \t\t 7 \t\t 24\n"
     ]
    },
    {
     "name": "stdout",
     "output_type": "stream",
     "text": [
      "0.586731514821 \t\t 30 \t\t 7 \t\t 25\n"
     ]
    },
    {
     "name": "stdout",
     "output_type": "stream",
     "text": [
      "0.586731561106 \t\t 30 \t\t 7 \t\t 26\n"
     ]
    },
    {
     "name": "stdout",
     "output_type": "stream",
     "text": [
      "0.586730754843 \t\t 30 \t\t 7 \t\t 27\n"
     ]
    },
    {
     "name": "stdout",
     "output_type": "stream",
     "text": [
      "0.586730722393 \t\t 30 \t\t 7 \t\t 28\n"
     ]
    },
    {
     "name": "stdout",
     "output_type": "stream",
     "text": [
      "0.586730760799 \t\t 30 \t\t 7 \t\t 29\n"
     ]
    },
    {
     "name": "stdout",
     "output_type": "stream",
     "text": [
      "0.659549141195 \t\t 30 \t\t 8 \t\t 3\n"
     ]
    },
    {
     "name": "stdout",
     "output_type": "stream",
     "text": [
      "0.657700726724 \t\t 30 \t\t 8 \t\t 4\n"
     ]
    },
    {
     "name": "stdout",
     "output_type": "stream",
     "text": [
      "0.657511761232 \t\t 30 \t\t 8 \t\t 5\n"
     ]
    },
    {
     "name": "stdout",
     "output_type": "stream",
     "text": [
      "0.595686626408 \t\t 30 \t\t 8 \t\t 6\n"
     ]
    },
    {
     "name": "stdout",
     "output_type": "stream",
     "text": [
      "0.596455697586 \t\t 30 \t\t 8 \t\t 7\n"
     ]
    },
    {
     "name": "stdout",
     "output_type": "stream",
     "text": [
      "0.597773180952 \t\t 30 \t\t 8 \t\t 8\n"
     ]
    },
    {
     "name": "stdout",
     "output_type": "stream",
     "text": [
      "0.596409462465 \t\t 30 \t\t 8 \t\t 9\n"
     ]
    },
    {
     "name": "stdout",
     "output_type": "stream",
     "text": [
      "0.596593345959 \t\t 30 \t\t 8 \t\t 10\n"
     ]
    },
    {
     "name": "stdout",
     "output_type": "stream",
     "text": [
      "0.593287739904 \t\t 30 \t\t 8 \t\t 11\n"
     ]
    },
    {
     "name": "stdout",
     "output_type": "stream",
     "text": [
      "0.593170116462 \t\t 30 \t\t 8 \t\t 12\n"
     ]
    },
    {
     "name": "stdout",
     "output_type": "stream",
     "text": [
      "0.597840045557 \t\t 30 \t\t 8 \t\t 13\n"
     ]
    },
    {
     "name": "stdout",
     "output_type": "stream",
     "text": [
      "0.598286727794 \t\t 30 \t\t 8 \t\t 14\n"
     ]
    },
    {
     "name": "stdout",
     "output_type": "stream",
     "text": [
      "0.600355598121 \t\t 30 \t\t 8 \t\t 15\n"
     ]
    },
    {
     "name": "stdout",
     "output_type": "stream",
     "text": [
      "0.601338238211 \t\t 30 \t\t 8 \t\t 16\n"
     ]
    },
    {
     "name": "stdout",
     "output_type": "stream",
     "text": [
      "0.601520144227 \t\t 30 \t\t 8 \t\t 17\n"
     ]
    },
    {
     "name": "stdout",
     "output_type": "stream",
     "text": [
      "0.601938417702 \t\t 30 \t\t 8 \t\t 18\n"
     ]
    },
    {
     "name": "stdout",
     "output_type": "stream",
     "text": [
      "0.601845752453 \t\t 30 \t\t 8 \t\t 19\n"
     ]
    },
    {
     "name": "stdout",
     "output_type": "stream",
     "text": [
      "0.601460302137 \t\t 30 \t\t 8 \t\t 20\n"
     ]
    },
    {
     "name": "stdout",
     "output_type": "stream",
     "text": [
      "0.601606779511 \t\t 30 \t\t 8 \t\t 21\n"
     ]
    },
    {
     "name": "stdout",
     "output_type": "stream",
     "text": [
      "0.601591172669 \t\t 30 \t\t 8 \t\t 22\n"
     ]
    },
    {
     "name": "stdout",
     "output_type": "stream",
     "text": [
      "0.601864648193 \t\t 30 \t\t 8 \t\t 23\n"
     ]
    },
    {
     "name": "stdout",
     "output_type": "stream",
     "text": [
      "0.602330219959 \t\t 30 \t\t 8 \t\t 24\n"
     ]
    },
    {
     "name": "stdout",
     "output_type": "stream",
     "text": [
      "0.602224959171 \t\t 30 \t\t 8 \t\t 25\n"
     ]
    },
    {
     "name": "stdout",
     "output_type": "stream",
     "text": [
      "0.602224987841 \t\t 30 \t\t 8 \t\t 26\n"
     ]
    },
    {
     "name": "stdout",
     "output_type": "stream",
     "text": [
      "0.602225058368 \t\t 30 \t\t 8 \t\t 27\n"
     ]
    },
    {
     "name": "stdout",
     "output_type": "stream",
     "text": [
      "0.60222505244 \t\t 30 \t\t 8 \t\t 28\n"
     ]
    },
    {
     "name": "stdout",
     "output_type": "stream",
     "text": [
      "0.60222494572 \t\t 30 \t\t 8 \t\t 29\n"
     ]
    },
    {
     "name": "stdout",
     "output_type": "stream",
     "text": [
      "0.698712006697 \t\t 30 \t\t 9 \t\t 3\n"
     ]
    },
    {
     "name": "stdout",
     "output_type": "stream",
     "text": [
      "0.698712006698 \t\t 30 \t\t 9 \t\t 4\n"
     ]
    },
    {
     "name": "stdout",
     "output_type": "stream",
     "text": [
      "0.612898366335 \t\t 30 \t\t 9 \t\t 5\n"
     ]
    },
    {
     "name": "stdout",
     "output_type": "stream",
     "text": [
      "0.609914855358 \t\t 30 \t\t 9 \t\t 6\n"
     ]
    },
    {
     "name": "stdout",
     "output_type": "stream",
     "text": [
      "0.604639601931 \t\t 30 \t\t 9 \t\t 7\n"
     ]
    },
    {
     "name": "stdout",
     "output_type": "stream",
     "text": [
      "0.600156226852 \t\t 30 \t\t 9 \t\t 8\n"
     ]
    },
    {
     "name": "stdout",
     "output_type": "stream",
     "text": [
      "0.583187072009 \t\t 30 \t\t 9 \t\t 9\n"
     ]
    },
    {
     "name": "stdout",
     "output_type": "stream",
     "text": [
      "0.584477110837 \t\t 30 \t\t 9 \t\t 10\n"
     ]
    },
    {
     "name": "stdout",
     "output_type": "stream",
     "text": [
      "0.598932690453 \t\t 30 \t\t 9 \t\t 11\n"
     ]
    },
    {
     "name": "stdout",
     "output_type": "stream",
     "text": [
      "0.603469378032 \t\t 30 \t\t 9 \t\t 12\n"
     ]
    },
    {
     "name": "stdout",
     "output_type": "stream",
     "text": [
      "0.610269948502 \t\t 30 \t\t 9 \t\t 13\n"
     ]
    },
    {
     "name": "stdout",
     "output_type": "stream",
     "text": [
      "0.617115245329 \t\t 30 \t\t 9 \t\t 14\n"
     ]
    },
    {
     "name": "stdout",
     "output_type": "stream",
     "text": [
      "0.619301807785 \t\t 30 \t\t 9 \t\t 15\n"
     ]
    },
    {
     "name": "stdout",
     "output_type": "stream",
     "text": [
      "0.61794990898 \t\t 30 \t\t 9 \t\t 16\n"
     ]
    },
    {
     "name": "stdout",
     "output_type": "stream",
     "text": [
      "0.61702521943 \t\t 30 \t\t 9 \t\t 17\n"
     ]
    },
    {
     "name": "stdout",
     "output_type": "stream",
     "text": [
      "0.617319679148 \t\t 30 \t\t 9 \t\t 18\n"
     ]
    },
    {
     "name": "stdout",
     "output_type": "stream",
     "text": [
      "0.616578979415 \t\t 30 \t\t 9 \t\t 19\n"
     ]
    },
    {
     "name": "stdout",
     "output_type": "stream",
     "text": [
      "0.618594732817 \t\t 30 \t\t 9 \t\t 20\n"
     ]
    },
    {
     "name": "stderr",
     "output_type": "stream",
     "text": [
      "/Users/maxwelllee54/anaconda/lib/python3.5/site-packages/sklearn/linear_model/base.py:352: RuntimeWarning: overflow encountered in exp\n  np.exp(prob, prob)\n"
     ]
    },
    {
     "name": "stdout",
     "output_type": "stream",
     "text": [
      "0.619060772871 \t\t 30 \t\t 9 \t\t 21\n"
     ]
    },
    {
     "name": "stderr",
     "output_type": "stream",
     "text": [
      "/Users/maxwelllee54/anaconda/lib/python3.5/site-packages/sklearn/linear_model/base.py:352: RuntimeWarning: overflow encountered in exp\n  np.exp(prob, prob)\n"
     ]
    },
    {
     "name": "stdout",
     "output_type": "stream",
     "text": [
      "0.616581211475 \t\t 30 \t\t 9 \t\t 22\n"
     ]
    },
    {
     "name": "stderr",
     "output_type": "stream",
     "text": [
      "/Users/maxwelllee54/anaconda/lib/python3.5/site-packages/sklearn/linear_model/base.py:352: RuntimeWarning: overflow encountered in exp\n  np.exp(prob, prob)\n"
     ]
    },
    {
     "name": "stdout",
     "output_type": "stream",
     "text": [
      "0.615758041677 \t\t 30 \t\t 9 \t\t 23\n"
     ]
    },
    {
     "name": "stderr",
     "output_type": "stream",
     "text": [
      "/Users/maxwelllee54/anaconda/lib/python3.5/site-packages/sklearn/linear_model/base.py:352: RuntimeWarning: overflow encountered in exp\n  np.exp(prob, prob)\n"
     ]
    },
    {
     "name": "stdout",
     "output_type": "stream",
     "text": [
      "0.617601388764 \t\t 30 \t\t 9 \t\t 24\n"
     ]
    },
    {
     "name": "stderr",
     "output_type": "stream",
     "text": [
      "/Users/maxwelllee54/anaconda/lib/python3.5/site-packages/sklearn/linear_model/base.py:352: RuntimeWarning: overflow encountered in exp\n  np.exp(prob, prob)\n"
     ]
    },
    {
     "name": "stdout",
     "output_type": "stream",
     "text": [
      "0.594409282021 \t\t 30 \t\t 9 \t\t 25\n"
     ]
    },
    {
     "name": "stderr",
     "output_type": "stream",
     "text": [
      "/Users/maxwelllee54/anaconda/lib/python3.5/site-packages/sklearn/linear_model/base.py:352: RuntimeWarning: overflow encountered in exp\n  np.exp(prob, prob)\n"
     ]
    },
    {
     "name": "stdout",
     "output_type": "stream",
     "text": [
      "0.59440921127 \t\t 30 \t\t 9 \t\t 26\n"
     ]
    },
    {
     "name": "stderr",
     "output_type": "stream",
     "text": [
      "/Users/maxwelllee54/anaconda/lib/python3.5/site-packages/sklearn/linear_model/base.py:352: RuntimeWarning: overflow encountered in exp\n  np.exp(prob, prob)\n"
     ]
    },
    {
     "name": "stdout",
     "output_type": "stream",
     "text": [
      "0.594409689716 \t\t 30 \t\t 9 \t\t 27\n"
     ]
    },
    {
     "name": "stderr",
     "output_type": "stream",
     "text": [
      "/Users/maxwelllee54/anaconda/lib/python3.5/site-packages/sklearn/linear_model/base.py:352: RuntimeWarning: overflow encountered in exp\n  np.exp(prob, prob)\n"
     ]
    },
    {
     "name": "stdout",
     "output_type": "stream",
     "text": [
      "0.594409763132 \t\t 30 \t\t 9 \t\t 28\n"
     ]
    },
    {
     "name": "stderr",
     "output_type": "stream",
     "text": [
      "/Users/maxwelllee54/anaconda/lib/python3.5/site-packages/sklearn/linear_model/base.py:352: RuntimeWarning: overflow encountered in exp\n  np.exp(prob, prob)\n"
     ]
    },
    {
     "name": "stdout",
     "output_type": "stream",
     "text": [
      "0.594409767514 \t\t 30 \t\t 9 \t\t 29\n"
     ]
    },
    {
     "name": "stdout",
     "output_type": "stream",
     "text": [
      "0.624952085688 \t\t 31 \t\t 1 \t\t 3\n"
     ]
    },
    {
     "name": "stdout",
     "output_type": "stream",
     "text": [
      "0.642204587827 \t\t 31 \t\t 1 \t\t 4\n"
     ]
    },
    {
     "name": "stdout",
     "output_type": "stream",
     "text": [
      "0.573299541381 \t\t 31 \t\t 1 \t\t 5\n"
     ]
    },
    {
     "name": "stdout",
     "output_type": "stream",
     "text": [
      "0.540098320811 \t\t 31 \t\t 1 \t\t 6\n"
     ]
    },
    {
     "name": "stdout",
     "output_type": "stream",
     "text": [
      "0.535878410205 \t\t 31 \t\t 1 \t\t 7\n"
     ]
    },
    {
     "name": "stdout",
     "output_type": "stream",
     "text": [
      "0.535899294143 \t\t 31 \t\t 1 \t\t 8\n"
     ]
    },
    {
     "name": "stdout",
     "output_type": "stream",
     "text": [
      "0.533022763583 \t\t 31 \t\t 1 \t\t 9\n"
     ]
    },
    {
     "name": "stdout",
     "output_type": "stream",
     "text": [
      "0.516591471429 \t\t 31 \t\t 1 \t\t 10\n"
     ]
    },
    {
     "name": "stdout",
     "output_type": "stream",
     "text": [
      "0.516387862935 \t\t 31 \t\t 1 \t\t 11\n"
     ]
    },
    {
     "name": "stdout",
     "output_type": "stream",
     "text": [
      "0.518201740258 \t\t 31 \t\t 1 \t\t 12\n"
     ]
    },
    {
     "name": "stdout",
     "output_type": "stream",
     "text": [
      "0.519859834371 \t\t 31 \t\t 1 \t\t 13\n"
     ]
    },
    {
     "name": "stdout",
     "output_type": "stream",
     "text": [
      "0.520410379102 \t\t 31 \t\t 1 \t\t 14\n"
     ]
    },
    {
     "name": "stdout",
     "output_type": "stream",
     "text": [
      "0.520122391779 \t\t 31 \t\t 1 \t\t 15\n"
     ]
    },
    {
     "name": "stdout",
     "output_type": "stream",
     "text": [
      "0.520679230687 \t\t 31 \t\t 1 \t\t 16\n"
     ]
    },
    {
     "name": "stdout",
     "output_type": "stream",
     "text": [
      "0.521507707362 \t\t 31 \t\t 1 \t\t 17\n"
     ]
    },
    {
     "name": "stdout",
     "output_type": "stream",
     "text": [
      "0.526284517304 \t\t 31 \t\t 1 \t\t 18\n"
     ]
    },
    {
     "name": "stdout",
     "output_type": "stream",
     "text": [
      "0.525976516093 \t\t 31 \t\t 1 \t\t 19\n"
     ]
    },
    {
     "name": "stdout",
     "output_type": "stream",
     "text": [
      "0.52591314189 \t\t 31 \t\t 1 \t\t 20\n"
     ]
    },
    {
     "name": "stdout",
     "output_type": "stream",
     "text": [
      "0.530823368751 \t\t 31 \t\t 1 \t\t 21\n"
     ]
    },
    {
     "name": "stdout",
     "output_type": "stream",
     "text": [
      "0.530806091306 \t\t 31 \t\t 1 \t\t 22\n"
     ]
    },
    {
     "name": "stdout",
     "output_type": "stream",
     "text": [
      "0.535096111131 \t\t 31 \t\t 1 \t\t 23\n"
     ]
    },
    {
     "name": "stdout",
     "output_type": "stream",
     "text": [
      "0.535093569642 \t\t 31 \t\t 1 \t\t 24\n"
     ]
    },
    {
     "name": "stdout",
     "output_type": "stream",
     "text": [
      "0.534154865536 \t\t 31 \t\t 1 \t\t 25\n"
     ]
    },
    {
     "name": "stdout",
     "output_type": "stream",
     "text": [
      "0.534144982832 \t\t 31 \t\t 1 \t\t 26\n"
     ]
    },
    {
     "name": "stdout",
     "output_type": "stream",
     "text": [
      "0.534147103114 \t\t 31 \t\t 1 \t\t 27\n"
     ]
    },
    {
     "name": "stdout",
     "output_type": "stream",
     "text": [
      "0.534147535164 \t\t 31 \t\t 1 \t\t 28\n"
     ]
    },
    {
     "name": "stdout",
     "output_type": "stream",
     "text": [
      "0.534147538762 \t\t 31 \t\t 1 \t\t 29\n"
     ]
    },
    {
     "name": "stdout",
     "output_type": "stream",
     "text": [
      "0.534147615967 \t\t 31 \t\t 1 \t\t 30\n"
     ]
    },
    {
     "name": "stdout",
     "output_type": "stream",
     "text": [
      "0.659774520762 \t\t 31 \t\t 2 \t\t 3\n"
     ]
    },
    {
     "name": "stdout",
     "output_type": "stream",
     "text": [
      "0.65840229035 \t\t 31 \t\t 2 \t\t 4\n"
     ]
    },
    {
     "name": "stdout",
     "output_type": "stream",
     "text": [
      "0.623075641157 \t\t 31 \t\t 2 \t\t 5\n"
     ]
    },
    {
     "name": "stdout",
     "output_type": "stream",
     "text": [
      "0.56304317807 \t\t 31 \t\t 2 \t\t 6\n"
     ]
    },
    {
     "name": "stdout",
     "output_type": "stream",
     "text": [
      "0.560750993992 \t\t 31 \t\t 2 \t\t 7\n"
     ]
    },
    {
     "name": "stdout",
     "output_type": "stream",
     "text": [
      "0.563638053705 \t\t 31 \t\t 2 \t\t 8\n"
     ]
    },
    {
     "name": "stdout",
     "output_type": "stream",
     "text": [
      "0.562277898851 \t\t 31 \t\t 2 \t\t 9\n"
     ]
    },
    {
     "name": "stdout",
     "output_type": "stream",
     "text": [
      "0.551251208513 \t\t 31 \t\t 2 \t\t 10\n"
     ]
    },
    {
     "name": "stdout",
     "output_type": "stream",
     "text": [
      "0.552060289627 \t\t 31 \t\t 2 \t\t 11\n"
     ]
    },
    {
     "name": "stdout",
     "output_type": "stream",
     "text": [
      "0.551270858799 \t\t 31 \t\t 2 \t\t 12\n"
     ]
    },
    {
     "name": "stdout",
     "output_type": "stream",
     "text": [
      "0.550089134458 \t\t 31 \t\t 2 \t\t 13\n"
     ]
    },
    {
     "name": "stdout",
     "output_type": "stream",
     "text": [
      "0.549625889307 \t\t 31 \t\t 2 \t\t 14\n"
     ]
    },
    {
     "name": "stdout",
     "output_type": "stream",
     "text": [
      "0.550443080985 \t\t 31 \t\t 2 \t\t 15\n"
     ]
    },
    {
     "name": "stdout",
     "output_type": "stream",
     "text": [
      "0.549651703406 \t\t 31 \t\t 2 \t\t 16\n"
     ]
    },
    {
     "name": "stdout",
     "output_type": "stream",
     "text": [
      "0.549178292737 \t\t 31 \t\t 2 \t\t 17\n"
     ]
    },
    {
     "name": "stdout",
     "output_type": "stream",
     "text": [
      "0.549246534608 \t\t 31 \t\t 2 \t\t 18\n"
     ]
    },
    {
     "name": "stdout",
     "output_type": "stream",
     "text": [
      "0.54981832372 \t\t 31 \t\t 2 \t\t 19\n"
     ]
    },
    {
     "name": "stdout",
     "output_type": "stream",
     "text": [
      "0.550362894415 \t\t 31 \t\t 2 \t\t 20\n"
     ]
    },
    {
     "name": "stdout",
     "output_type": "stream",
     "text": [
      "0.551463915517 \t\t 31 \t\t 2 \t\t 21\n"
     ]
    },
    {
     "name": "stdout",
     "output_type": "stream",
     "text": [
      "0.551473218809 \t\t 31 \t\t 2 \t\t 22\n"
     ]
    },
    {
     "name": "stdout",
     "output_type": "stream",
     "text": [
      "0.549911765015 \t\t 31 \t\t 2 \t\t 23\n"
     ]
    },
    {
     "name": "stdout",
     "output_type": "stream",
     "text": [
      "0.550046901512 \t\t 31 \t\t 2 \t\t 24\n"
     ]
    },
    {
     "name": "stdout",
     "output_type": "stream",
     "text": [
      "0.549593337151 \t\t 31 \t\t 2 \t\t 25\n"
     ]
    },
    {
     "name": "stdout",
     "output_type": "stream",
     "text": [
      "0.549595158421 \t\t 31 \t\t 2 \t\t 26\n"
     ]
    },
    {
     "name": "stdout",
     "output_type": "stream",
     "text": [
      "0.549595137962 \t\t 31 \t\t 2 \t\t 27\n"
     ]
    },
    {
     "name": "stdout",
     "output_type": "stream",
     "text": [
      "0.549595115748 \t\t 31 \t\t 2 \t\t 28\n"
     ]
    },
    {
     "name": "stdout",
     "output_type": "stream",
     "text": [
      "0.549595168428 \t\t 31 \t\t 2 \t\t 29\n"
     ]
    },
    {
     "name": "stdout",
     "output_type": "stream",
     "text": [
      "0.549595166297 \t\t 31 \t\t 2 \t\t 30\n"
     ]
    },
    {
     "name": "stdout",
     "output_type": "stream",
     "text": [
      "0.639601272068 \t\t 31 \t\t 3 \t\t 3\n"
     ]
    },
    {
     "name": "stdout",
     "output_type": "stream",
     "text": [
      "0.641962266103 \t\t 31 \t\t 3 \t\t 4\n"
     ]
    },
    {
     "name": "stdout",
     "output_type": "stream",
     "text": [
      "0.577335123225 \t\t 31 \t\t 3 \t\t 5\n"
     ]
    },
    {
     "name": "stdout",
     "output_type": "stream",
     "text": [
      "0.565227797081 \t\t 31 \t\t 3 \t\t 6\n"
     ]
    },
    {
     "name": "stdout",
     "output_type": "stream",
     "text": [
      "0.560013497987 \t\t 31 \t\t 3 \t\t 7\n"
     ]
    },
    {
     "name": "stdout",
     "output_type": "stream",
     "text": [
      "0.558583312461 \t\t 31 \t\t 3 \t\t 8\n"
     ]
    },
    {
     "name": "stdout",
     "output_type": "stream",
     "text": [
      "0.568427656315 \t\t 31 \t\t 3 \t\t 9\n"
     ]
    },
    {
     "name": "stdout",
     "output_type": "stream",
     "text": [
      "0.566423081556 \t\t 31 \t\t 3 \t\t 10\n"
     ]
    },
    {
     "name": "stdout",
     "output_type": "stream",
     "text": [
      "0.565842542178 \t\t 31 \t\t 3 \t\t 11\n"
     ]
    },
    {
     "name": "stdout",
     "output_type": "stream",
     "text": [
      "0.563330650612 \t\t 31 \t\t 3 \t\t 12\n"
     ]
    },
    {
     "name": "stdout",
     "output_type": "stream",
     "text": [
      "0.564722160728 \t\t 31 \t\t 3 \t\t 13\n"
     ]
    },
    {
     "name": "stdout",
     "output_type": "stream",
     "text": [
      "0.564627583212 \t\t 31 \t\t 3 \t\t 14\n"
     ]
    },
    {
     "name": "stdout",
     "output_type": "stream",
     "text": [
      "0.565816389352 \t\t 31 \t\t 3 \t\t 15\n"
     ]
    },
    {
     "name": "stdout",
     "output_type": "stream",
     "text": [
      "0.565180938666 \t\t 31 \t\t 3 \t\t 16\n"
     ]
    },
    {
     "name": "stdout",
     "output_type": "stream",
     "text": [
      "0.566524809451 \t\t 31 \t\t 3 \t\t 17\n"
     ]
    },
    {
     "name": "stdout",
     "output_type": "stream",
     "text": [
      "0.566074841203 \t\t 31 \t\t 3 \t\t 18\n"
     ]
    },
    {
     "name": "stdout",
     "output_type": "stream",
     "text": [
      "0.566672049659 \t\t 31 \t\t 3 \t\t 19\n"
     ]
    },
    {
     "name": "stdout",
     "output_type": "stream",
     "text": [
      "0.566679102597 \t\t 31 \t\t 3 \t\t 20\n"
     ]
    },
    {
     "name": "stdout",
     "output_type": "stream",
     "text": [
      "0.565843442309 \t\t 31 \t\t 3 \t\t 21\n"
     ]
    },
    {
     "name": "stdout",
     "output_type": "stream",
     "text": [
      "0.566023357472 \t\t 31 \t\t 3 \t\t 22\n"
     ]
    },
    {
     "name": "stdout",
     "output_type": "stream",
     "text": [
      "0.565628974093 \t\t 31 \t\t 3 \t\t 23\n"
     ]
    },
    {
     "name": "stdout",
     "output_type": "stream",
     "text": [
      "0.565626963604 \t\t 31 \t\t 3 \t\t 24\n"
     ]
    },
    {
     "name": "stdout",
     "output_type": "stream",
     "text": [
      "0.565709770816 \t\t 31 \t\t 3 \t\t 25\n"
     ]
    },
    {
     "name": "stdout",
     "output_type": "stream",
     "text": [
      "0.565660508401 \t\t 31 \t\t 3 \t\t 26\n"
     ]
    },
    {
     "name": "stdout",
     "output_type": "stream",
     "text": [
      "0.565660554878 \t\t 31 \t\t 3 \t\t 27\n"
     ]
    },
    {
     "name": "stdout",
     "output_type": "stream",
     "text": [
      "0.56566085157 \t\t 31 \t\t 3 \t\t 28\n"
     ]
    },
    {
     "name": "stdout",
     "output_type": "stream",
     "text": [
      "0.56566085957 \t\t 31 \t\t 3 \t\t 29\n"
     ]
    },
    {
     "name": "stdout",
     "output_type": "stream",
     "text": [
      "0.565660824601 \t\t 31 \t\t 3 \t\t 30\n"
     ]
    },
    {
     "name": "stdout",
     "output_type": "stream",
     "text": [
      "0.621670783715 \t\t 31 \t\t 4 \t\t 3\n"
     ]
    },
    {
     "name": "stdout",
     "output_type": "stream",
     "text": [
      "0.621983120374 \t\t 31 \t\t 4 \t\t 4\n"
     ]
    },
    {
     "name": "stdout",
     "output_type": "stream",
     "text": [
      "0.566346817977 \t\t 31 \t\t 4 \t\t 5\n"
     ]
    },
    {
     "name": "stdout",
     "output_type": "stream",
     "text": [
      "0.537560407872 \t\t 31 \t\t 4 \t\t 6\n"
     ]
    },
    {
     "name": "stdout",
     "output_type": "stream",
     "text": [
      "0.53786856991 \t\t 31 \t\t 4 \t\t 7\n"
     ]
    },
    {
     "name": "stdout",
     "output_type": "stream",
     "text": [
      "0.538841445649 \t\t 31 \t\t 4 \t\t 8\n"
     ]
    },
    {
     "name": "stdout",
     "output_type": "stream",
     "text": [
      "0.542716093197 \t\t 31 \t\t 4 \t\t 9\n"
     ]
    },
    {
     "name": "stdout",
     "output_type": "stream",
     "text": [
      "0.542148867349 \t\t 31 \t\t 4 \t\t 10\n"
     ]
    },
    {
     "name": "stdout",
     "output_type": "stream",
     "text": [
      "0.543035740005 \t\t 31 \t\t 4 \t\t 11\n"
     ]
    },
    {
     "name": "stdout",
     "output_type": "stream",
     "text": [
      "0.543530201208 \t\t 31 \t\t 4 \t\t 12\n"
     ]
    },
    {
     "name": "stdout",
     "output_type": "stream",
     "text": [
      "0.544245312448 \t\t 31 \t\t 4 \t\t 13\n"
     ]
    },
    {
     "name": "stdout",
     "output_type": "stream",
     "text": [
      "0.544378422611 \t\t 31 \t\t 4 \t\t 14\n"
     ]
    },
    {
     "name": "stdout",
     "output_type": "stream",
     "text": [
      "0.547268671164 \t\t 31 \t\t 4 \t\t 15\n"
     ]
    },
    {
     "name": "stdout",
     "output_type": "stream",
     "text": [
      "0.537670469839 \t\t 31 \t\t 4 \t\t 16\n"
     ]
    },
    {
     "name": "stdout",
     "output_type": "stream",
     "text": [
      "0.538939429364 \t\t 31 \t\t 4 \t\t 17\n"
     ]
    },
    {
     "name": "stdout",
     "output_type": "stream",
     "text": [
      "0.539257163746 \t\t 31 \t\t 4 \t\t 18\n"
     ]
    },
    {
     "name": "stdout",
     "output_type": "stream",
     "text": [
      "0.539146261818 \t\t 31 \t\t 4 \t\t 19\n"
     ]
    },
    {
     "name": "stdout",
     "output_type": "stream",
     "text": [
      "0.541057331411 \t\t 31 \t\t 4 \t\t 20\n"
     ]
    },
    {
     "name": "stdout",
     "output_type": "stream",
     "text": [
      "0.540477898589 \t\t 31 \t\t 4 \t\t 21\n"
     ]
    },
    {
     "name": "stdout",
     "output_type": "stream",
     "text": [
      "0.54051189263 \t\t 31 \t\t 4 \t\t 22\n"
     ]
    },
    {
     "name": "stdout",
     "output_type": "stream",
     "text": [
      "0.553996563558 \t\t 31 \t\t 4 \t\t 23\n"
     ]
    },
    {
     "name": "stdout",
     "output_type": "stream",
     "text": [
      "0.554017677416 \t\t 31 \t\t 4 \t\t 24\n"
     ]
    },
    {
     "name": "stdout",
     "output_type": "stream",
     "text": [
      "0.553540098423 \t\t 31 \t\t 4 \t\t 25\n"
     ]
    },
    {
     "name": "stdout",
     "output_type": "stream",
     "text": [
      "0.55346592473 \t\t 31 \t\t 4 \t\t 26\n"
     ]
    },
    {
     "name": "stdout",
     "output_type": "stream",
     "text": [
      "0.553463736162 \t\t 31 \t\t 4 \t\t 27\n"
     ]
    },
    {
     "name": "stdout",
     "output_type": "stream",
     "text": [
      "0.553463399835 \t\t 31 \t\t 4 \t\t 28\n"
     ]
    },
    {
     "name": "stdout",
     "output_type": "stream",
     "text": [
      "0.553463329448 \t\t 31 \t\t 4 \t\t 29\n"
     ]
    },
    {
     "name": "stdout",
     "output_type": "stream",
     "text": [
      "0.553463653111 \t\t 31 \t\t 4 \t\t 30\n"
     ]
    },
    {
     "name": "stdout",
     "output_type": "stream",
     "text": [
      "0.626977656303 \t\t 31 \t\t 5 \t\t 3\n"
     ]
    },
    {
     "name": "stdout",
     "output_type": "stream",
     "text": [
      "0.625723704464 \t\t 31 \t\t 5 \t\t 4\n"
     ]
    },
    {
     "name": "stdout",
     "output_type": "stream",
     "text": [
      "0.597527361625 \t\t 31 \t\t 5 \t\t 5\n"
     ]
    },
    {
     "name": "stdout",
     "output_type": "stream",
     "text": [
      "0.537383915379 \t\t 31 \t\t 5 \t\t 6\n"
     ]
    },
    {
     "name": "stdout",
     "output_type": "stream",
     "text": [
      "0.53383632536 \t\t 31 \t\t 5 \t\t 7\n"
     ]
    },
    {
     "name": "stdout",
     "output_type": "stream",
     "text": [
      "0.542916208847 \t\t 31 \t\t 5 \t\t 8\n"
     ]
    },
    {
     "name": "stdout",
     "output_type": "stream",
     "text": [
      "0.545499265123 \t\t 31 \t\t 5 \t\t 9\n"
     ]
    },
    {
     "name": "stdout",
     "output_type": "stream",
     "text": [
      "0.538938295787 \t\t 31 \t\t 5 \t\t 10\n"
     ]
    },
    {
     "name": "stdout",
     "output_type": "stream",
     "text": [
      "0.539227943469 \t\t 31 \t\t 5 \t\t 11\n"
     ]
    },
    {
     "name": "stdout",
     "output_type": "stream",
     "text": [
      "0.540146751024 \t\t 31 \t\t 5 \t\t 12\n"
     ]
    },
    {
     "name": "stdout",
     "output_type": "stream",
     "text": [
      "0.541477445118 \t\t 31 \t\t 5 \t\t 13\n"
     ]
    },
    {
     "name": "stdout",
     "output_type": "stream",
     "text": [
      "0.543184902193 \t\t 31 \t\t 5 \t\t 14\n"
     ]
    },
    {
     "name": "stdout",
     "output_type": "stream",
     "text": [
      "0.544339723496 \t\t 31 \t\t 5 \t\t 15\n"
     ]
    },
    {
     "name": "stdout",
     "output_type": "stream",
     "text": [
      "0.546479690453 \t\t 31 \t\t 5 \t\t 16\n"
     ]
    },
    {
     "name": "stdout",
     "output_type": "stream",
     "text": [
      "0.546491446183 \t\t 31 \t\t 5 \t\t 17\n"
     ]
    },
    {
     "name": "stdout",
     "output_type": "stream",
     "text": [
      "0.547536252625 \t\t 31 \t\t 5 \t\t 18\n"
     ]
    },
    {
     "name": "stdout",
     "output_type": "stream",
     "text": [
      "0.547810538666 \t\t 31 \t\t 5 \t\t 19\n"
     ]
    },
    {
     "name": "stdout",
     "output_type": "stream",
     "text": [
      "0.547305483052 \t\t 31 \t\t 5 \t\t 20\n"
     ]
    },
    {
     "name": "stdout",
     "output_type": "stream",
     "text": [
      "0.546753919614 \t\t 31 \t\t 5 \t\t 21\n"
     ]
    },
    {
     "name": "stdout",
     "output_type": "stream",
     "text": [
      "0.54688948966 \t\t 31 \t\t 5 \t\t 22\n"
     ]
    },
    {
     "name": "stdout",
     "output_type": "stream",
     "text": [
      "0.546387032245 \t\t 31 \t\t 5 \t\t 23\n"
     ]
    },
    {
     "name": "stdout",
     "output_type": "stream",
     "text": [
      "0.546322718409 \t\t 31 \t\t 5 \t\t 24\n"
     ]
    },
    {
     "name": "stdout",
     "output_type": "stream",
     "text": [
      "0.546128012548 \t\t 31 \t\t 5 \t\t 25\n"
     ]
    },
    {
     "name": "stdout",
     "output_type": "stream",
     "text": [
      "0.546133736363 \t\t 31 \t\t 5 \t\t 26\n"
     ]
    },
    {
     "name": "stdout",
     "output_type": "stream",
     "text": [
      "0.546133511179 \t\t 31 \t\t 5 \t\t 27\n"
     ]
    },
    {
     "name": "stdout",
     "output_type": "stream",
     "text": [
      "0.546133767878 \t\t 31 \t\t 5 \t\t 28\n"
     ]
    },
    {
     "name": "stdout",
     "output_type": "stream",
     "text": [
      "0.546133891121 \t\t 31 \t\t 5 \t\t 29\n"
     ]
    },
    {
     "name": "stdout",
     "output_type": "stream",
     "text": [
      "0.546133394895 \t\t 31 \t\t 5 \t\t 30\n"
     ]
    },
    {
     "name": "stdout",
     "output_type": "stream",
     "text": [
      "0.687832955483 \t\t 31 \t\t 6 \t\t 3\n"
     ]
    },
    {
     "name": "stdout",
     "output_type": "stream",
     "text": [
      "0.687903806413 \t\t 31 \t\t 6 \t\t 4\n"
     ]
    },
    {
     "name": "stdout",
     "output_type": "stream",
     "text": [
      "0.605192645769 \t\t 31 \t\t 6 \t\t 5\n"
     ]
    },
    {
     "name": "stdout",
     "output_type": "stream",
     "text": [
      "0.562779965549 \t\t 31 \t\t 6 \t\t 6\n"
     ]
    },
    {
     "name": "stdout",
     "output_type": "stream",
     "text": [
      "0.584286734899 \t\t 31 \t\t 6 \t\t 7\n"
     ]
    },
    {
     "name": "stdout",
     "output_type": "stream",
     "text": [
      "0.589701610456 \t\t 31 \t\t 6 \t\t 8\n"
     ]
    },
    {
     "name": "stdout",
     "output_type": "stream",
     "text": [
      "0.575771231565 \t\t 31 \t\t 6 \t\t 9\n"
     ]
    },
    {
     "name": "stdout",
     "output_type": "stream",
     "text": [
      "0.581076682687 \t\t 31 \t\t 6 \t\t 10\n"
     ]
    },
    {
     "name": "stdout",
     "output_type": "stream",
     "text": [
      "0.579004997291 \t\t 31 \t\t 6 \t\t 11\n"
     ]
    },
    {
     "name": "stdout",
     "output_type": "stream",
     "text": [
      "0.578865162271 \t\t 31 \t\t 6 \t\t 12\n"
     ]
    },
    {
     "name": "stdout",
     "output_type": "stream",
     "text": [
      "0.578532655765 \t\t 31 \t\t 6 \t\t 13\n"
     ]
    },
    {
     "name": "stdout",
     "output_type": "stream",
     "text": [
      "0.578673792184 \t\t 31 \t\t 6 \t\t 14\n"
     ]
    },
    {
     "name": "stdout",
     "output_type": "stream",
     "text": [
      "0.580437603694 \t\t 31 \t\t 6 \t\t 15\n"
     ]
    },
    {
     "name": "stdout",
     "output_type": "stream",
     "text": [
      "0.580259821779 \t\t 31 \t\t 6 \t\t 16\n"
     ]
    },
    {
     "name": "stdout",
     "output_type": "stream",
     "text": [
      "0.580189883861 \t\t 31 \t\t 6 \t\t 17\n"
     ]
    },
    {
     "name": "stdout",
     "output_type": "stream",
     "text": [
      "0.580589176079 \t\t 31 \t\t 6 \t\t 18\n"
     ]
    },
    {
     "name": "stdout",
     "output_type": "stream",
     "text": [
      "0.580717827322 \t\t 31 \t\t 6 \t\t 19\n"
     ]
    },
    {
     "name": "stdout",
     "output_type": "stream",
     "text": [
      "0.580199200449 \t\t 31 \t\t 6 \t\t 20\n"
     ]
    },
    {
     "name": "stdout",
     "output_type": "stream",
     "text": [
      "0.580131218686 \t\t 31 \t\t 6 \t\t 21\n"
     ]
    },
    {
     "name": "stdout",
     "output_type": "stream",
     "text": [
      "0.580457719745 \t\t 31 \t\t 6 \t\t 22\n"
     ]
    },
    {
     "name": "stdout",
     "output_type": "stream",
     "text": [
      "0.579973334275 \t\t 31 \t\t 6 \t\t 23\n"
     ]
    },
    {
     "name": "stdout",
     "output_type": "stream",
     "text": [
      "0.579975078945 \t\t 31 \t\t 6 \t\t 24\n"
     ]
    },
    {
     "name": "stdout",
     "output_type": "stream",
     "text": [
      "0.579939959293 \t\t 31 \t\t 6 \t\t 25\n"
     ]
    },
    {
     "name": "stdout",
     "output_type": "stream",
     "text": [
      "0.579922463295 \t\t 31 \t\t 6 \t\t 26\n"
     ]
    },
    {
     "name": "stdout",
     "output_type": "stream",
     "text": [
      "0.579921953286 \t\t 31 \t\t 6 \t\t 27\n"
     ]
    },
    {
     "name": "stdout",
     "output_type": "stream",
     "text": [
      "0.579921584234 \t\t 31 \t\t 6 \t\t 28\n"
     ]
    },
    {
     "name": "stdout",
     "output_type": "stream",
     "text": [
      "0.579921949356 \t\t 31 \t\t 6 \t\t 29\n"
     ]
    },
    {
     "name": "stdout",
     "output_type": "stream",
     "text": [
      "0.57992192086 \t\t 31 \t\t 6 \t\t 30\n"
     ]
    },
    {
     "name": "stdout",
     "output_type": "stream",
     "text": [
      "0.641267491667 \t\t 31 \t\t 7 \t\t 3\n"
     ]
    },
    {
     "name": "stdout",
     "output_type": "stream",
     "text": [
      "0.640982304496 \t\t 31 \t\t 7 \t\t 4\n"
     ]
    },
    {
     "name": "stdout",
     "output_type": "stream",
     "text": [
      "0.641033196092 \t\t 31 \t\t 7 \t\t 5\n"
     ]
    },
    {
     "name": "stdout",
     "output_type": "stream",
     "text": [
      "0.555895317392 \t\t 31 \t\t 7 \t\t 6\n"
     ]
    },
    {
     "name": "stdout",
     "output_type": "stream",
     "text": [
      "0.561207069808 \t\t 31 \t\t 7 \t\t 7\n"
     ]
    },
    {
     "name": "stdout",
     "output_type": "stream",
     "text": [
      "0.563497879952 \t\t 31 \t\t 7 \t\t 8\n"
     ]
    },
    {
     "name": "stdout",
     "output_type": "stream",
     "text": [
      "0.563961014063 \t\t 31 \t\t 7 \t\t 9\n"
     ]
    },
    {
     "name": "stdout",
     "output_type": "stream",
     "text": [
      "0.561156369084 \t\t 31 \t\t 7 \t\t 10\n"
     ]
    },
    {
     "name": "stdout",
     "output_type": "stream",
     "text": [
      "0.561083311171 \t\t 31 \t\t 7 \t\t 11\n"
     ]
    },
    {
     "name": "stdout",
     "output_type": "stream",
     "text": [
      "0.560691828436 \t\t 31 \t\t 7 \t\t 12\n"
     ]
    },
    {
     "name": "stdout",
     "output_type": "stream",
     "text": [
      "0.560694653841 \t\t 31 \t\t 7 \t\t 13\n"
     ]
    },
    {
     "name": "stdout",
     "output_type": "stream",
     "text": [
      "0.560639607631 \t\t 31 \t\t 7 \t\t 14\n"
     ]
    },
    {
     "name": "stdout",
     "output_type": "stream",
     "text": [
      "0.560646555543 \t\t 31 \t\t 7 \t\t 15\n"
     ]
    },
    {
     "name": "stdout",
     "output_type": "stream",
     "text": [
      "0.560663146303 \t\t 31 \t\t 7 \t\t 16\n"
     ]
    },
    {
     "name": "stdout",
     "output_type": "stream",
     "text": [
      "0.56152539612 \t\t 31 \t\t 7 \t\t 17\n"
     ]
    },
    {
     "name": "stdout",
     "output_type": "stream",
     "text": [
      "0.562011665244 \t\t 31 \t\t 7 \t\t 18\n"
     ]
    },
    {
     "name": "stdout",
     "output_type": "stream",
     "text": [
      "0.562386494647 \t\t 31 \t\t 7 \t\t 19\n"
     ]
    },
    {
     "name": "stdout",
     "output_type": "stream",
     "text": [
      "0.563022151923 \t\t 31 \t\t 7 \t\t 20\n"
     ]
    },
    {
     "name": "stdout",
     "output_type": "stream",
     "text": [
      "0.561525188007 \t\t 31 \t\t 7 \t\t 21\n"
     ]
    },
    {
     "name": "stdout",
     "output_type": "stream",
     "text": [
      "0.561351216453 \t\t 31 \t\t 7 \t\t 22\n"
     ]
    },
    {
     "name": "stdout",
     "output_type": "stream",
     "text": [
      "0.56136030491 \t\t 31 \t\t 7 \t\t 23\n"
     ]
    },
    {
     "name": "stdout",
     "output_type": "stream",
     "text": [
      "0.561317036701 \t\t 31 \t\t 7 \t\t 24\n"
     ]
    },
    {
     "name": "stdout",
     "output_type": "stream",
     "text": [
      "0.5610439658 \t\t 31 \t\t 7 \t\t 25\n"
     ]
    },
    {
     "name": "stdout",
     "output_type": "stream",
     "text": [
      "0.561043373653 \t\t 31 \t\t 7 \t\t 26\n"
     ]
    },
    {
     "name": "stdout",
     "output_type": "stream",
     "text": [
      "0.56104386232 \t\t 31 \t\t 7 \t\t 27\n"
     ]
    },
    {
     "name": "stdout",
     "output_type": "stream",
     "text": [
      "0.561044033949 \t\t 31 \t\t 7 \t\t 28\n"
     ]
    },
    {
     "name": "stdout",
     "output_type": "stream",
     "text": [
      "0.561044046722 \t\t 31 \t\t 7 \t\t 29\n"
     ]
    },
    {
     "name": "stdout",
     "output_type": "stream",
     "text": [
      "0.561044055002 \t\t 31 \t\t 7 \t\t 30\n"
     ]
    },
    {
     "name": "stdout",
     "output_type": "stream",
     "text": [
      "0.65759235707 \t\t 31 \t\t 8 \t\t 3\n"
     ]
    },
    {
     "name": "stdout",
     "output_type": "stream",
     "text": [
      "0.654489343252 \t\t 31 \t\t 8 \t\t 4\n"
     ]
    },
    {
     "name": "stdout",
     "output_type": "stream",
     "text": [
      "0.599967700491 \t\t 31 \t\t 8 \t\t 5\n"
     ]
    },
    {
     "name": "stdout",
     "output_type": "stream",
     "text": [
      "0.587938721053 \t\t 31 \t\t 8 \t\t 6\n"
     ]
    },
    {
     "name": "stdout",
     "output_type": "stream",
     "text": [
      "0.588524649793 \t\t 31 \t\t 8 \t\t 7\n"
     ]
    },
    {
     "name": "stdout",
     "output_type": "stream",
     "text": [
      "0.5909575459 \t\t 31 \t\t 8 \t\t 8\n"
     ]
    },
    {
     "name": "stdout",
     "output_type": "stream",
     "text": [
      "0.591722238528 \t\t 31 \t\t 8 \t\t 9\n"
     ]
    },
    {
     "name": "stdout",
     "output_type": "stream",
     "text": [
      "0.587755375727 \t\t 31 \t\t 8 \t\t 10\n"
     ]
    },
    {
     "name": "stdout",
     "output_type": "stream",
     "text": [
      "0.58882826246 \t\t 31 \t\t 8 \t\t 11\n"
     ]
    },
    {
     "name": "stdout",
     "output_type": "stream",
     "text": [
      "0.589206964721 \t\t 31 \t\t 8 \t\t 12\n"
     ]
    },
    {
     "name": "stdout",
     "output_type": "stream",
     "text": [
      "0.589290319843 \t\t 31 \t\t 8 \t\t 13\n"
     ]
    },
    {
     "name": "stdout",
     "output_type": "stream",
     "text": [
      "0.587417458176 \t\t 31 \t\t 8 \t\t 14\n"
     ]
    },
    {
     "name": "stdout",
     "output_type": "stream",
     "text": [
      "0.588052709503 \t\t 31 \t\t 8 \t\t 15\n"
     ]
    },
    {
     "name": "stdout",
     "output_type": "stream",
     "text": [
      "0.587344045749 \t\t 31 \t\t 8 \t\t 16\n"
     ]
    },
    {
     "name": "stdout",
     "output_type": "stream",
     "text": [
      "0.588070995198 \t\t 31 \t\t 8 \t\t 17\n"
     ]
    },
    {
     "name": "stdout",
     "output_type": "stream",
     "text": [
      "0.587963519356 \t\t 31 \t\t 8 \t\t 18\n"
     ]
    },
    {
     "name": "stdout",
     "output_type": "stream",
     "text": [
      "0.587195558155 \t\t 31 \t\t 8 \t\t 19\n"
     ]
    },
    {
     "name": "stdout",
     "output_type": "stream",
     "text": [
      "0.585890724098 \t\t 31 \t\t 8 \t\t 20\n"
     ]
    },
    {
     "name": "stdout",
     "output_type": "stream",
     "text": [
      "0.585333342607 \t\t 31 \t\t 8 \t\t 21\n"
     ]
    },
    {
     "name": "stdout",
     "output_type": "stream",
     "text": [
      "0.585303108659 \t\t 31 \t\t 8 \t\t 22\n"
     ]
    },
    {
     "name": "stdout",
     "output_type": "stream",
     "text": [
      "0.585307449362 \t\t 31 \t\t 8 \t\t 23\n"
     ]
    },
    {
     "name": "stdout",
     "output_type": "stream",
     "text": [
      "0.585444176759 \t\t 31 \t\t 8 \t\t 24\n"
     ]
    },
    {
     "name": "stdout",
     "output_type": "stream",
     "text": [
      "0.585642739443 \t\t 31 \t\t 8 \t\t 25\n"
     ]
    },
    {
     "name": "stdout",
     "output_type": "stream",
     "text": [
      "0.585838870133 \t\t 31 \t\t 8 \t\t 26\n"
     ]
    },
    {
     "name": "stdout",
     "output_type": "stream",
     "text": [
      "0.585837527892 \t\t 31 \t\t 8 \t\t 27\n"
     ]
    },
    {
     "name": "stdout",
     "output_type": "stream",
     "text": [
      "0.585837524659 \t\t 31 \t\t 8 \t\t 28\n"
     ]
    },
    {
     "name": "stdout",
     "output_type": "stream",
     "text": [
      "0.585837498821 \t\t 31 \t\t 8 \t\t 29\n"
     ]
    },
    {
     "name": "stdout",
     "output_type": "stream",
     "text": [
      "0.585837504951 \t\t 31 \t\t 8 \t\t 30\n"
     ]
    },
    {
     "name": "stdout",
     "output_type": "stream",
     "text": [
      "0.647519371559 \t\t 31 \t\t 9 \t\t 3\n"
     ]
    },
    {
     "name": "stdout",
     "output_type": "stream",
     "text": [
      "0.644317494828 \t\t 31 \t\t 9 \t\t 4\n"
     ]
    },
    {
     "name": "stdout",
     "output_type": "stream",
     "text": [
      "0.631658116836 \t\t 31 \t\t 9 \t\t 5\n"
     ]
    },
    {
     "name": "stdout",
     "output_type": "stream",
     "text": [
      "0.599949361047 \t\t 31 \t\t 9 \t\t 6\n"
     ]
    },
    {
     "name": "stdout",
     "output_type": "stream",
     "text": [
      "0.600098509723 \t\t 31 \t\t 9 \t\t 7\n"
     ]
    },
    {
     "name": "stdout",
     "output_type": "stream",
     "text": [
      "0.597452832651 \t\t 31 \t\t 9 \t\t 8\n"
     ]
    },
    {
     "name": "stdout",
     "output_type": "stream",
     "text": [
      "0.573444937502 \t\t 31 \t\t 9 \t\t 9\n"
     ]
    },
    {
     "name": "stdout",
     "output_type": "stream",
     "text": [
      "0.57634422606 \t\t 31 \t\t 9 \t\t 10\n"
     ]
    },
    {
     "name": "stderr",
     "output_type": "stream",
     "text": [
      "/Users/maxwelllee54/anaconda/lib/python3.5/site-packages/sklearn/linear_model/base.py:352: RuntimeWarning: overflow encountered in exp\n  np.exp(prob, prob)\n"
     ]
    },
    {
     "name": "stdout",
     "output_type": "stream",
     "text": [
      "0.585119901466 \t\t 31 \t\t 9 \t\t 11\n"
     ]
    },
    {
     "name": "stdout",
     "output_type": "stream",
     "text": [
      "0.584066621604 \t\t 31 \t\t 9 \t\t 12\n"
     ]
    },
    {
     "name": "stdout",
     "output_type": "stream",
     "text": [
      "0.58446167846 \t\t 31 \t\t 9 \t\t 13\n"
     ]
    },
    {
     "name": "stdout",
     "output_type": "stream",
     "text": [
      "0.584660416622 \t\t 31 \t\t 9 \t\t 14\n"
     ]
    },
    {
     "name": "stderr",
     "output_type": "stream",
     "text": [
      "/Users/maxwelllee54/anaconda/lib/python3.5/site-packages/sklearn/linear_model/base.py:352: RuntimeWarning: overflow encountered in exp\n  np.exp(prob, prob)\n"
     ]
    },
    {
     "name": "stdout",
     "output_type": "stream",
     "text": [
      "0.584246186343 \t\t 31 \t\t 9 \t\t 15\n"
     ]
    },
    {
     "name": "stderr",
     "output_type": "stream",
     "text": [
      "/Users/maxwelllee54/anaconda/lib/python3.5/site-packages/sklearn/linear_model/base.py:352: RuntimeWarning: overflow encountered in exp\n  np.exp(prob, prob)\n"
     ]
    },
    {
     "name": "stdout",
     "output_type": "stream",
     "text": [
      "0.583877697268 \t\t 31 \t\t 9 \t\t 16\n"
     ]
    },
    {
     "name": "stdout",
     "output_type": "stream",
     "text": [
      "0.585963788915 \t\t 31 \t\t 9 \t\t 17\n"
     ]
    },
    {
     "name": "stdout",
     "output_type": "stream",
     "text": [
      "0.586344056903 \t\t 31 \t\t 9 \t\t 18\n"
     ]
    },
    {
     "name": "stdout",
     "output_type": "stream",
     "text": [
      "0.586412281506 \t\t 31 \t\t 9 \t\t 19\n"
     ]
    },
    {
     "name": "stdout",
     "output_type": "stream",
     "text": [
      "0.589318000982 \t\t 31 \t\t 9 \t\t 20\n"
     ]
    },
    {
     "name": "stdout",
     "output_type": "stream",
     "text": [
      "0.587821744471 \t\t 31 \t\t 9 \t\t 21\n"
     ]
    },
    {
     "name": "stdout",
     "output_type": "stream",
     "text": [
      "0.589856502588 \t\t 31 \t\t 9 \t\t 22\n"
     ]
    },
    {
     "name": "stdout",
     "output_type": "stream",
     "text": [
      "0.589827828786 \t\t 31 \t\t 9 \t\t 23\n"
     ]
    },
    {
     "name": "stdout",
     "output_type": "stream",
     "text": [
      "0.589012632792 \t\t 31 \t\t 9 \t\t 24\n"
     ]
    },
    {
     "name": "stdout",
     "output_type": "stream",
     "text": [
      "0.589195381179 \t\t 31 \t\t 9 \t\t 25\n"
     ]
    },
    {
     "name": "stdout",
     "output_type": "stream",
     "text": [
      "0.589160264552 \t\t 31 \t\t 9 \t\t 26\n"
     ]
    },
    {
     "name": "stdout",
     "output_type": "stream",
     "text": [
      "0.589160357786 \t\t 31 \t\t 9 \t\t 27\n"
     ]
    },
    {
     "name": "stdout",
     "output_type": "stream",
     "text": [
      "0.589160437931 \t\t 31 \t\t 9 \t\t 28\n"
     ]
    },
    {
     "name": "stdout",
     "output_type": "stream",
     "text": [
      "0.589160516837 \t\t 31 \t\t 9 \t\t 29\n"
     ]
    },
    {
     "name": "stdout",
     "output_type": "stream",
     "text": [
      "0.589160474821 \t\t 31 \t\t 9 \t\t 30\n"
     ]
    },
    {
     "name": "stdout",
     "output_type": "stream",
     "text": [
      "0.641027750783 \t\t 32 \t\t 1 \t\t 3\n"
     ]
    },
    {
     "name": "stdout",
     "output_type": "stream",
     "text": [
      "0.635103040949 \t\t 32 \t\t 1 \t\t 4\n"
     ]
    },
    {
     "name": "stdout",
     "output_type": "stream",
     "text": [
      "0.548139072324 \t\t 32 \t\t 1 \t\t 5\n"
     ]
    },
    {
     "name": "stdout",
     "output_type": "stream",
     "text": [
      "0.509279870053 \t\t 32 \t\t 1 \t\t 6\n"
     ]
    },
    {
     "name": "stdout",
     "output_type": "stream",
     "text": [
      "0.511028193132 \t\t 32 \t\t 1 \t\t 7\n"
     ]
    },
    {
     "name": "stdout",
     "output_type": "stream",
     "text": [
      "0.510797351984 \t\t 32 \t\t 1 \t\t 8\n"
     ]
    },
    {
     "name": "stdout",
     "output_type": "stream",
     "text": [
      "0.507560645005 \t\t 32 \t\t 1 \t\t 9\n"
     ]
    },
    {
     "name": "stdout",
     "output_type": "stream",
     "text": [
      "0.483626353886 \t\t 32 \t\t 1 \t\t 10\n"
     ]
    },
    {
     "name": "stdout",
     "output_type": "stream",
     "text": [
      "0.483717141562 \t\t 32 \t\t 1 \t\t 11\n"
     ]
    },
    {
     "name": "stdout",
     "output_type": "stream",
     "text": [
      "0.483951609896 \t\t 32 \t\t 1 \t\t 12\n"
     ]
    },
    {
     "name": "stdout",
     "output_type": "stream",
     "text": [
      "0.487409267764 \t\t 32 \t\t 1 \t\t 13\n"
     ]
    },
    {
     "name": "stdout",
     "output_type": "stream",
     "text": [
      "0.486704648403 \t\t 32 \t\t 1 \t\t 14\n"
     ]
    },
    {
     "name": "stdout",
     "output_type": "stream",
     "text": [
      "0.48299471923 \t\t 32 \t\t 1 \t\t 15\n"
     ]
    },
    {
     "name": "stdout",
     "output_type": "stream",
     "text": [
      "0.482881833736 \t\t 32 \t\t 1 \t\t 16\n"
     ]
    },
    {
     "name": "stdout",
     "output_type": "stream",
     "text": [
      "0.484441346174 \t\t 32 \t\t 1 \t\t 17\n"
     ]
    },
    {
     "name": "stdout",
     "output_type": "stream",
     "text": [
      "0.484576597926 \t\t 32 \t\t 1 \t\t 18\n"
     ]
    },
    {
     "name": "stdout",
     "output_type": "stream",
     "text": [
      "0.484776625777 \t\t 32 \t\t 1 \t\t 19\n"
     ]
    },
    {
     "name": "stdout",
     "output_type": "stream",
     "text": [
      "0.484935693618 \t\t 32 \t\t 1 \t\t 20\n"
     ]
    },
    {
     "name": "stdout",
     "output_type": "stream",
     "text": [
      "0.483440532723 \t\t 32 \t\t 1 \t\t 21\n"
     ]
    },
    {
     "name": "stdout",
     "output_type": "stream",
     "text": [
      "0.481655555181 \t\t 32 \t\t 1 \t\t 22\n"
     ]
    },
    {
     "name": "stdout",
     "output_type": "stream",
     "text": [
      "0.480963899639 \t\t 32 \t\t 1 \t\t 23\n"
     ]
    },
    {
     "name": "stdout",
     "output_type": "stream",
     "text": [
      "0.482169846252 \t\t 32 \t\t 1 \t\t 24\n"
     ]
    },
    {
     "name": "stdout",
     "output_type": "stream",
     "text": [
      "0.482919111885 \t\t 32 \t\t 1 \t\t 25\n"
     ]
    },
    {
     "name": "stdout",
     "output_type": "stream",
     "text": [
      "0.483599344437 \t\t 32 \t\t 1 \t\t 26\n"
     ]
    },
    {
     "name": "stdout",
     "output_type": "stream",
     "text": [
      "0.483471713401 \t\t 32 \t\t 1 \t\t 27\n"
     ]
    },
    {
     "name": "stdout",
     "output_type": "stream",
     "text": [
      "0.483472400717 \t\t 32 \t\t 1 \t\t 28\n"
     ]
    },
    {
     "name": "stdout",
     "output_type": "stream",
     "text": [
      "0.483472338148 \t\t 32 \t\t 1 \t\t 29\n"
     ]
    },
    {
     "name": "stdout",
     "output_type": "stream",
     "text": [
      "0.483472493963 \t\t 32 \t\t 1 \t\t 30\n"
     ]
    },
    {
     "name": "stdout",
     "output_type": "stream",
     "text": [
      "0.483472455898 \t\t 32 \t\t 1 \t\t 31\n"
     ]
    },
    {
     "name": "stdout",
     "output_type": "stream",
     "text": [
      "0.663495856054 \t\t 32 \t\t 2 \t\t 3\n"
     ]
    },
    {
     "name": "stdout",
     "output_type": "stream",
     "text": [
      "0.665588716213 \t\t 32 \t\t 2 \t\t 4\n"
     ]
    },
    {
     "name": "stdout",
     "output_type": "stream",
     "text": [
      "0.628391390951 \t\t 32 \t\t 2 \t\t 5\n"
     ]
    },
    {
     "name": "stdout",
     "output_type": "stream",
     "text": [
      "0.599206121927 \t\t 32 \t\t 2 \t\t 6\n"
     ]
    },
    {
     "name": "stdout",
     "output_type": "stream",
     "text": [
      "0.59993718605 \t\t 32 \t\t 2 \t\t 7\n"
     ]
    },
    {
     "name": "stdout",
     "output_type": "stream",
     "text": [
      "0.600061567772 \t\t 32 \t\t 2 \t\t 8\n"
     ]
    },
    {
     "name": "stdout",
     "output_type": "stream",
     "text": [
      "0.596192883003 \t\t 32 \t\t 2 \t\t 9\n"
     ]
    },
    {
     "name": "stdout",
     "output_type": "stream",
     "text": [
      "0.593384365464 \t\t 32 \t\t 2 \t\t 10\n"
     ]
    },
    {
     "name": "stdout",
     "output_type": "stream",
     "text": [
      "0.593389882863 \t\t 32 \t\t 2 \t\t 11\n"
     ]
    },
    {
     "name": "stdout",
     "output_type": "stream",
     "text": [
      "0.593737235185 \t\t 32 \t\t 2 \t\t 12\n"
     ]
    },
    {
     "name": "stdout",
     "output_type": "stream",
     "text": [
      "0.590126235203 \t\t 32 \t\t 2 \t\t 13\n"
     ]
    },
    {
     "name": "stdout",
     "output_type": "stream",
     "text": [
      "0.591931405504 \t\t 32 \t\t 2 \t\t 14\n"
     ]
    },
    {
     "name": "stdout",
     "output_type": "stream",
     "text": [
      "0.591921436355 \t\t 32 \t\t 2 \t\t 15\n"
     ]
    },
    {
     "name": "stdout",
     "output_type": "stream",
     "text": [
      "0.593465959355 \t\t 32 \t\t 2 \t\t 16\n"
     ]
    },
    {
     "name": "stdout",
     "output_type": "stream",
     "text": [
      "0.592837200269 \t\t 32 \t\t 2 \t\t 17\n"
     ]
    },
    {
     "name": "stdout",
     "output_type": "stream",
     "text": [
      "0.592684517195 \t\t 32 \t\t 2 \t\t 18\n"
     ]
    },
    {
     "name": "stdout",
     "output_type": "stream",
     "text": [
      "0.592714222086 \t\t 32 \t\t 2 \t\t 19\n"
     ]
    },
    {
     "name": "stdout",
     "output_type": "stream",
     "text": [
      "0.591726949095 \t\t 32 \t\t 2 \t\t 20\n"
     ]
    },
    {
     "name": "stdout",
     "output_type": "stream",
     "text": [
      "0.589791872581 \t\t 32 \t\t 2 \t\t 21\n"
     ]
    },
    {
     "name": "stdout",
     "output_type": "stream",
     "text": [
      "0.588574693644 \t\t 32 \t\t 2 \t\t 22\n"
     ]
    },
    {
     "name": "stdout",
     "output_type": "stream",
     "text": [
      "0.585639403072 \t\t 32 \t\t 2 \t\t 23\n"
     ]
    },
    {
     "name": "stdout",
     "output_type": "stream",
     "text": [
      "0.586784057581 \t\t 32 \t\t 2 \t\t 24\n"
     ]
    },
    {
     "name": "stdout",
     "output_type": "stream",
     "text": [
      "0.587958360467 \t\t 32 \t\t 2 \t\t 25\n"
     ]
    },
    {
     "name": "stdout",
     "output_type": "stream",
     "text": [
      "0.587845600651 \t\t 32 \t\t 2 \t\t 26\n"
     ]
    },
    {
     "name": "stdout",
     "output_type": "stream",
     "text": [
      "0.587874411178 \t\t 32 \t\t 2 \t\t 27\n"
     ]
    },
    {
     "name": "stdout",
     "output_type": "stream",
     "text": [
      "0.587873893961 \t\t 32 \t\t 2 \t\t 28\n"
     ]
    },
    {
     "name": "stdout",
     "output_type": "stream",
     "text": [
      "0.587875305009 \t\t 32 \t\t 2 \t\t 29\n"
     ]
    },
    {
     "name": "stdout",
     "output_type": "stream",
     "text": [
      "0.587875330938 \t\t 32 \t\t 2 \t\t 30\n"
     ]
    },
    {
     "name": "stdout",
     "output_type": "stream",
     "text": [
      "0.587875234741 \t\t 32 \t\t 2 \t\t 31\n"
     ]
    },
    {
     "name": "stdout",
     "output_type": "stream",
     "text": [
      "0.652482866066 \t\t 32 \t\t 3 \t\t 3\n"
     ]
    },
    {
     "name": "stdout",
     "output_type": "stream",
     "text": [
      "0.66220692169 \t\t 32 \t\t 3 \t\t 4\n"
     ]
    },
    {
     "name": "stdout",
     "output_type": "stream",
     "text": [
      "0.621203582841 \t\t 32 \t\t 3 \t\t 5\n"
     ]
    },
    {
     "name": "stdout",
     "output_type": "stream",
     "text": [
      "0.572453944511 \t\t 32 \t\t 3 \t\t 6\n"
     ]
    },
    {
     "name": "stdout",
     "output_type": "stream",
     "text": [
      "0.573248716931 \t\t 32 \t\t 3 \t\t 7\n"
     ]
    },
    {
     "name": "stdout",
     "output_type": "stream",
     "text": [
      "0.580629695258 \t\t 32 \t\t 3 \t\t 8\n"
     ]
    },
    {
     "name": "stdout",
     "output_type": "stream",
     "text": [
      "0.579117376376 \t\t 32 \t\t 3 \t\t 9\n"
     ]
    },
    {
     "name": "stdout",
     "output_type": "stream",
     "text": [
      "0.570985799483 \t\t 32 \t\t 3 \t\t 10\n"
     ]
    },
    {
     "name": "stdout",
     "output_type": "stream",
     "text": [
      "0.569930386308 \t\t 32 \t\t 3 \t\t 11\n"
     ]
    },
    {
     "name": "stdout",
     "output_type": "stream",
     "text": [
      "0.569942932945 \t\t 32 \t\t 3 \t\t 12\n"
     ]
    },
    {
     "name": "stdout",
     "output_type": "stream",
     "text": [
      "0.571038220294 \t\t 32 \t\t 3 \t\t 13\n"
     ]
    },
    {
     "name": "stdout",
     "output_type": "stream",
     "text": [
      "0.571237418281 \t\t 32 \t\t 3 \t\t 14\n"
     ]
    },
    {
     "name": "stdout",
     "output_type": "stream",
     "text": [
      "0.572042174122 \t\t 32 \t\t 3 \t\t 15\n"
     ]
    },
    {
     "name": "stdout",
     "output_type": "stream",
     "text": [
      "0.572037760694 \t\t 32 \t\t 3 \t\t 16\n"
     ]
    },
    {
     "name": "stdout",
     "output_type": "stream",
     "text": [
      "0.572343463696 \t\t 32 \t\t 3 \t\t 17\n"
     ]
    },
    {
     "name": "stdout",
     "output_type": "stream",
     "text": [
      "0.572358004012 \t\t 32 \t\t 3 \t\t 18\n"
     ]
    },
    {
     "name": "stdout",
     "output_type": "stream",
     "text": [
      "0.572389701063 \t\t 32 \t\t 3 \t\t 19\n"
     ]
    },
    {
     "name": "stdout",
     "output_type": "stream",
     "text": [
      "0.572266857462 \t\t 32 \t\t 3 \t\t 20\n"
     ]
    },
    {
     "name": "stdout",
     "output_type": "stream",
     "text": [
      "0.574368546016 \t\t 32 \t\t 3 \t\t 21\n"
     ]
    },
    {
     "name": "stdout",
     "output_type": "stream",
     "text": [
      "0.574439241211 \t\t 32 \t\t 3 \t\t 22\n"
     ]
    },
    {
     "name": "stdout",
     "output_type": "stream",
     "text": [
      "0.574486546986 \t\t 32 \t\t 3 \t\t 23\n"
     ]
    },
    {
     "name": "stdout",
     "output_type": "stream",
     "text": [
      "0.574834395045 \t\t 32 \t\t 3 \t\t 24\n"
     ]
    },
    {
     "name": "stdout",
     "output_type": "stream",
     "text": [
      "0.57480170494 \t\t 32 \t\t 3 \t\t 25\n"
     ]
    },
    {
     "name": "stdout",
     "output_type": "stream",
     "text": [
      "0.574997593017 \t\t 32 \t\t 3 \t\t 26\n"
     ]
    },
    {
     "name": "stdout",
     "output_type": "stream",
     "text": [
      "0.574997200843 \t\t 32 \t\t 3 \t\t 27\n"
     ]
    },
    {
     "name": "stdout",
     "output_type": "stream",
     "text": [
      "0.574997883539 \t\t 32 \t\t 3 \t\t 28\n"
     ]
    },
    {
     "name": "stdout",
     "output_type": "stream",
     "text": [
      "0.574997909512 \t\t 32 \t\t 3 \t\t 29\n"
     ]
    },
    {
     "name": "stdout",
     "output_type": "stream",
     "text": [
      "0.574997927696 \t\t 32 \t\t 3 \t\t 30\n"
     ]
    },
    {
     "name": "stdout",
     "output_type": "stream",
     "text": [
      "0.574997939077 \t\t 32 \t\t 3 \t\t 31\n"
     ]
    },
    {
     "name": "stdout",
     "output_type": "stream",
     "text": [
      "0.622470387577 \t\t 32 \t\t 4 \t\t 3\n"
     ]
    },
    {
     "name": "stdout",
     "output_type": "stream",
     "text": [
      "0.621679003921 \t\t 32 \t\t 4 \t\t 4\n"
     ]
    },
    {
     "name": "stdout",
     "output_type": "stream",
     "text": [
      "0.566555913462 \t\t 32 \t\t 4 \t\t 5\n"
     ]
    },
    {
     "name": "stdout",
     "output_type": "stream",
     "text": [
      "0.540694883903 \t\t 32 \t\t 4 \t\t 6\n"
     ]
    },
    {
     "name": "stdout",
     "output_type": "stream",
     "text": [
      "0.5371614933 \t\t 32 \t\t 4 \t\t 7\n"
     ]
    },
    {
     "name": "stdout",
     "output_type": "stream",
     "text": [
      "0.54641355785 \t\t 32 \t\t 4 \t\t 8\n"
     ]
    },
    {
     "name": "stdout",
     "output_type": "stream",
     "text": [
      "0.543487377607 \t\t 32 \t\t 4 \t\t 9\n"
     ]
    },
    {
     "name": "stdout",
     "output_type": "stream",
     "text": [
      "0.538645403854 \t\t 32 \t\t 4 \t\t 10\n"
     ]
    },
    {
     "name": "stdout",
     "output_type": "stream",
     "text": [
      "0.538543505049 \t\t 32 \t\t 4 \t\t 11\n"
     ]
    },
    {
     "name": "stdout",
     "output_type": "stream",
     "text": [
      "0.538747526203 \t\t 32 \t\t 4 \t\t 12\n"
     ]
    },
    {
     "name": "stdout",
     "output_type": "stream",
     "text": [
      "0.541743858555 \t\t 32 \t\t 4 \t\t 13\n"
     ]
    },
    {
     "name": "stdout",
     "output_type": "stream",
     "text": [
      "0.547385439073 \t\t 32 \t\t 4 \t\t 14\n"
     ]
    },
    {
     "name": "stdout",
     "output_type": "stream",
     "text": [
      "0.54656637086 \t\t 32 \t\t 4 \t\t 15\n"
     ]
    },
    {
     "name": "stdout",
     "output_type": "stream",
     "text": [
      "0.546690142691 \t\t 32 \t\t 4 \t\t 16\n"
     ]
    },
    {
     "name": "stdout",
     "output_type": "stream",
     "text": [
      "0.546798818084 \t\t 32 \t\t 4 \t\t 17\n"
     ]
    },
    {
     "name": "stdout",
     "output_type": "stream",
     "text": [
      "0.549267040412 \t\t 32 \t\t 4 \t\t 18\n"
     ]
    },
    {
     "name": "stdout",
     "output_type": "stream",
     "text": [
      "0.549018698682 \t\t 32 \t\t 4 \t\t 19\n"
     ]
    },
    {
     "name": "stdout",
     "output_type": "stream",
     "text": [
      "0.550043829266 \t\t 32 \t\t 4 \t\t 20\n"
     ]
    },
    {
     "name": "stdout",
     "output_type": "stream",
     "text": [
      "0.549106293238 \t\t 32 \t\t 4 \t\t 21\n"
     ]
    },
    {
     "name": "stdout",
     "output_type": "stream",
     "text": [
      "0.549306694885 \t\t 32 \t\t 4 \t\t 22\n"
     ]
    },
    {
     "name": "stdout",
     "output_type": "stream",
     "text": [
      "0.549095283011 \t\t 32 \t\t 4 \t\t 23\n"
     ]
    },
    {
     "name": "stdout",
     "output_type": "stream",
     "text": [
      "0.550170169357 \t\t 32 \t\t 4 \t\t 24\n"
     ]
    },
    {
     "name": "stdout",
     "output_type": "stream",
     "text": [
      "0.55008523296 \t\t 32 \t\t 4 \t\t 25\n"
     ]
    },
    {
     "name": "stdout",
     "output_type": "stream",
     "text": [
      "0.549895872684 \t\t 32 \t\t 4 \t\t 26\n"
     ]
    },
    {
     "name": "stdout",
     "output_type": "stream",
     "text": [
      "0.549874315671 \t\t 32 \t\t 4 \t\t 27\n"
     ]
    },
    {
     "name": "stdout",
     "output_type": "stream",
     "text": [
      "0.549874141807 \t\t 32 \t\t 4 \t\t 28\n"
     ]
    },
    {
     "name": "stdout",
     "output_type": "stream",
     "text": [
      "0.549874759153 \t\t 32 \t\t 4 \t\t 29\n"
     ]
    },
    {
     "name": "stdout",
     "output_type": "stream",
     "text": [
      "0.549874842319 \t\t 32 \t\t 4 \t\t 30\n"
     ]
    },
    {
     "name": "stdout",
     "output_type": "stream",
     "text": [
      "0.549874335493 \t\t 32 \t\t 4 \t\t 31\n"
     ]
    },
    {
     "name": "stdout",
     "output_type": "stream",
     "text": [
      "0.638713728941 \t\t 32 \t\t 5 \t\t 3\n"
     ]
    },
    {
     "name": "stdout",
     "output_type": "stream",
     "text": [
      "0.638961878446 \t\t 32 \t\t 5 \t\t 4\n"
     ]
    },
    {
     "name": "stdout",
     "output_type": "stream",
     "text": [
      "0.617150296943 \t\t 32 \t\t 5 \t\t 5\n"
     ]
    },
    {
     "name": "stdout",
     "output_type": "stream",
     "text": [
      "0.590391929637 \t\t 32 \t\t 5 \t\t 6\n"
     ]
    },
    {
     "name": "stdout",
     "output_type": "stream",
     "text": [
      "0.587428485469 \t\t 32 \t\t 5 \t\t 7\n"
     ]
    },
    {
     "name": "stdout",
     "output_type": "stream",
     "text": [
      "0.587068977026 \t\t 32 \t\t 5 \t\t 8\n"
     ]
    },
    {
     "name": "stdout",
     "output_type": "stream",
     "text": [
      "0.587195781538 \t\t 32 \t\t 5 \t\t 9\n"
     ]
    },
    {
     "name": "stdout",
     "output_type": "stream",
     "text": [
      "0.580609882666 \t\t 32 \t\t 5 \t\t 10\n"
     ]
    },
    {
     "name": "stdout",
     "output_type": "stream",
     "text": [
      "0.577366793727 \t\t 32 \t\t 5 \t\t 11\n"
     ]
    },
    {
     "name": "stdout",
     "output_type": "stream",
     "text": [
      "0.577289372096 \t\t 32 \t\t 5 \t\t 12\n"
     ]
    },
    {
     "name": "stdout",
     "output_type": "stream",
     "text": [
      "0.578148179018 \t\t 32 \t\t 5 \t\t 13\n"
     ]
    },
    {
     "name": "stdout",
     "output_type": "stream",
     "text": [
      "0.579519344487 \t\t 32 \t\t 5 \t\t 14\n"
     ]
    },
    {
     "name": "stdout",
     "output_type": "stream",
     "text": [
      "0.58399532316 \t\t 32 \t\t 5 \t\t 15\n"
     ]
    },
    {
     "name": "stdout",
     "output_type": "stream",
     "text": [
      "0.584761858843 \t\t 32 \t\t 5 \t\t 16\n"
     ]
    },
    {
     "name": "stdout",
     "output_type": "stream",
     "text": [
      "0.587784325014 \t\t 32 \t\t 5 \t\t 17\n"
     ]
    },
    {
     "name": "stdout",
     "output_type": "stream",
     "text": [
      "0.587348765458 \t\t 32 \t\t 5 \t\t 18\n"
     ]
    },
    {
     "name": "stdout",
     "output_type": "stream",
     "text": [
      "0.589890228463 \t\t 32 \t\t 5 \t\t 19\n"
     ]
    },
    {
     "name": "stdout",
     "output_type": "stream",
     "text": [
      "0.589502545197 \t\t 32 \t\t 5 \t\t 20\n"
     ]
    },
    {
     "name": "stdout",
     "output_type": "stream",
     "text": [
      "0.589554304948 \t\t 32 \t\t 5 \t\t 21\n"
     ]
    },
    {
     "name": "stdout",
     "output_type": "stream",
     "text": [
      "0.5895661779 \t\t 32 \t\t 5 \t\t 22\n"
     ]
    },
    {
     "name": "stdout",
     "output_type": "stream",
     "text": [
      "0.589277657861 \t\t 32 \t\t 5 \t\t 23\n"
     ]
    },
    {
     "name": "stdout",
     "output_type": "stream",
     "text": [
      "0.589345802986 \t\t 32 \t\t 5 \t\t 24\n"
     ]
    },
    {
     "name": "stdout",
     "output_type": "stream",
     "text": [
      "0.58865280102 \t\t 32 \t\t 5 \t\t 25\n"
     ]
    },
    {
     "name": "stdout",
     "output_type": "stream",
     "text": [
      "0.58901305434 \t\t 32 \t\t 5 \t\t 26\n"
     ]
    },
    {
     "name": "stdout",
     "output_type": "stream",
     "text": [
      "0.588942360194 \t\t 32 \t\t 5 \t\t 27\n"
     ]
    },
    {
     "name": "stdout",
     "output_type": "stream",
     "text": [
      "0.5889426761 \t\t 32 \t\t 5 \t\t 28\n"
     ]
    },
    {
     "name": "stdout",
     "output_type": "stream",
     "text": [
      "0.588946979905 \t\t 32 \t\t 5 \t\t 29\n"
     ]
    },
    {
     "name": "stdout",
     "output_type": "stream",
     "text": [
      "0.588947092958 \t\t 32 \t\t 5 \t\t 30\n"
     ]
    },
    {
     "name": "stdout",
     "output_type": "stream",
     "text": [
      "0.5889471878 \t\t 32 \t\t 5 \t\t 31\n"
     ]
    },
    {
     "name": "stdout",
     "output_type": "stream",
     "text": [
      "0.656833331313 \t\t 32 \t\t 6 \t\t 3\n"
     ]
    },
    {
     "name": "stdout",
     "output_type": "stream",
     "text": [
      "0.657473875694 \t\t 32 \t\t 6 \t\t 4\n"
     ]
    },
    {
     "name": "stdout",
     "output_type": "stream",
     "text": [
      "0.597048779705 \t\t 32 \t\t 6 \t\t 5\n"
     ]
    },
    {
     "name": "stdout",
     "output_type": "stream",
     "text": [
      "0.577524085597 \t\t 32 \t\t 6 \t\t 6\n"
     ]
    },
    {
     "name": "stdout",
     "output_type": "stream",
     "text": [
      "0.574947878835 \t\t 32 \t\t 6 \t\t 7\n"
     ]
    },
    {
     "name": "stdout",
     "output_type": "stream",
     "text": [
      "0.574803556011 \t\t 32 \t\t 6 \t\t 8\n"
     ]
    },
    {
     "name": "stdout",
     "output_type": "stream",
     "text": [
      "0.566602865271 \t\t 32 \t\t 6 \t\t 9\n"
     ]
    },
    {
     "name": "stdout",
     "output_type": "stream",
     "text": [
      "0.569867933856 \t\t 32 \t\t 6 \t\t 10\n"
     ]
    },
    {
     "name": "stdout",
     "output_type": "stream",
     "text": [
      "0.572420316935 \t\t 32 \t\t 6 \t\t 11\n"
     ]
    },
    {
     "name": "stdout",
     "output_type": "stream",
     "text": [
      "0.570565585958 \t\t 32 \t\t 6 \t\t 12\n"
     ]
    },
    {
     "name": "stdout",
     "output_type": "stream",
     "text": [
      "0.571233058619 \t\t 32 \t\t 6 \t\t 13\n"
     ]
    },
    {
     "name": "stdout",
     "output_type": "stream",
     "text": [
      "0.570635399367 \t\t 32 \t\t 6 \t\t 14\n"
     ]
    },
    {
     "name": "stdout",
     "output_type": "stream",
     "text": [
      "0.571339402618 \t\t 32 \t\t 6 \t\t 15\n"
     ]
    },
    {
     "name": "stdout",
     "output_type": "stream",
     "text": [
      "0.572909017649 \t\t 32 \t\t 6 \t\t 16\n"
     ]
    },
    {
     "name": "stdout",
     "output_type": "stream",
     "text": [
      "0.573015646559 \t\t 32 \t\t 6 \t\t 17\n"
     ]
    },
    {
     "name": "stdout",
     "output_type": "stream",
     "text": [
      "0.572795160406 \t\t 32 \t\t 6 \t\t 18\n"
     ]
    },
    {
     "name": "stdout",
     "output_type": "stream",
     "text": [
      "0.573037655966 \t\t 32 \t\t 6 \t\t 19\n"
     ]
    },
    {
     "name": "stdout",
     "output_type": "stream",
     "text": [
      "0.573761821169 \t\t 32 \t\t 6 \t\t 20\n"
     ]
    },
    {
     "name": "stdout",
     "output_type": "stream",
     "text": [
      "0.573198761625 \t\t 32 \t\t 6 \t\t 21\n"
     ]
    },
    {
     "name": "stdout",
     "output_type": "stream",
     "text": [
      "0.57311994279 \t\t 32 \t\t 6 \t\t 22\n"
     ]
    },
    {
     "name": "stdout",
     "output_type": "stream",
     "text": [
      "0.57232433861 \t\t 32 \t\t 6 \t\t 23\n"
     ]
    },
    {
     "name": "stdout",
     "output_type": "stream",
     "text": [
      "0.572385375885 \t\t 32 \t\t 6 \t\t 24\n"
     ]
    },
    {
     "name": "stdout",
     "output_type": "stream",
     "text": [
      "0.572992154787 \t\t 32 \t\t 6 \t\t 25\n"
     ]
    },
    {
     "name": "stdout",
     "output_type": "stream",
     "text": [
      "0.573336940867 \t\t 32 \t\t 6 \t\t 26\n"
     ]
    },
    {
     "name": "stdout",
     "output_type": "stream",
     "text": [
      "0.57329152974 \t\t 32 \t\t 6 \t\t 27\n"
     ]
    },
    {
     "name": "stdout",
     "output_type": "stream",
     "text": [
      "0.573292020792 \t\t 32 \t\t 6 \t\t 28\n"
     ]
    },
    {
     "name": "stdout",
     "output_type": "stream",
     "text": [
      "0.573292020543 \t\t 32 \t\t 6 \t\t 29\n"
     ]
    },
    {
     "name": "stdout",
     "output_type": "stream",
     "text": [
      "0.573292032659 \t\t 32 \t\t 6 \t\t 30\n"
     ]
    },
    {
     "name": "stdout",
     "output_type": "stream",
     "text": [
      "0.573292167415 \t\t 32 \t\t 6 \t\t 31\n"
     ]
    },
    {
     "name": "stdout",
     "output_type": "stream",
     "text": [
      "0.648238879295 \t\t 32 \t\t 7 \t\t 3\n"
     ]
    },
    {
     "name": "stdout",
     "output_type": "stream",
     "text": [
      "0.647465776129 \t\t 32 \t\t 7 \t\t 4\n"
     ]
    },
    {
     "name": "stdout",
     "output_type": "stream",
     "text": [
      "0.625763935552 \t\t 32 \t\t 7 \t\t 5\n"
     ]
    },
    {
     "name": "stdout",
     "output_type": "stream",
     "text": [
      "0.559916637878 \t\t 32 \t\t 7 \t\t 6\n"
     ]
    },
    {
     "name": "stdout",
     "output_type": "stream",
     "text": [
      "0.562458593896 \t\t 32 \t\t 7 \t\t 7\n"
     ]
    },
    {
     "name": "stdout",
     "output_type": "stream",
     "text": [
      "0.566410488862 \t\t 32 \t\t 7 \t\t 8\n"
     ]
    },
    {
     "name": "stdout",
     "output_type": "stream",
     "text": [
      "0.567093815431 \t\t 32 \t\t 7 \t\t 9\n"
     ]
    },
    {
     "name": "stdout",
     "output_type": "stream",
     "text": [
      "0.565868352139 \t\t 32 \t\t 7 \t\t 10\n"
     ]
    },
    {
     "name": "stdout",
     "output_type": "stream",
     "text": [
      "0.565131985558 \t\t 32 \t\t 7 \t\t 11\n"
     ]
    },
    {
     "name": "stdout",
     "output_type": "stream",
     "text": [
      "0.564878107146 \t\t 32 \t\t 7 \t\t 12\n"
     ]
    },
    {
     "name": "stdout",
     "output_type": "stream",
     "text": [
      "0.56566615756 \t\t 32 \t\t 7 \t\t 13\n"
     ]
    },
    {
     "name": "stdout",
     "output_type": "stream",
     "text": [
      "0.564174829612 \t\t 32 \t\t 7 \t\t 14\n"
     ]
    },
    {
     "name": "stdout",
     "output_type": "stream",
     "text": [
      "0.56429738598 \t\t 32 \t\t 7 \t\t 15\n"
     ]
    },
    {
     "name": "stdout",
     "output_type": "stream",
     "text": [
      "0.5650507593 \t\t 32 \t\t 7 \t\t 16\n"
     ]
    },
    {
     "name": "stdout",
     "output_type": "stream",
     "text": [
      "0.565551074332 \t\t 32 \t\t 7 \t\t 17\n"
     ]
    },
    {
     "name": "stdout",
     "output_type": "stream",
     "text": [
      "0.566944574347 \t\t 32 \t\t 7 \t\t 18\n"
     ]
    },
    {
     "name": "stdout",
     "output_type": "stream",
     "text": [
      "0.567128439302 \t\t 32 \t\t 7 \t\t 19\n"
     ]
    },
    {
     "name": "stdout",
     "output_type": "stream",
     "text": [
      "0.56670395758 \t\t 32 \t\t 7 \t\t 20\n"
     ]
    },
    {
     "name": "stdout",
     "output_type": "stream",
     "text": [
      "0.566698553457 \t\t 32 \t\t 7 \t\t 21\n"
     ]
    },
    {
     "name": "stdout",
     "output_type": "stream",
     "text": [
      "0.565749915194 \t\t 32 \t\t 7 \t\t 22\n"
     ]
    },
    {
     "name": "stdout",
     "output_type": "stream",
     "text": [
      "0.565878079078 \t\t 32 \t\t 7 \t\t 23\n"
     ]
    },
    {
     "name": "stdout",
     "output_type": "stream",
     "text": [
      "0.565658081882 \t\t 32 \t\t 7 \t\t 24\n"
     ]
    },
    {
     "name": "stdout",
     "output_type": "stream",
     "text": [
      "0.565513686845 \t\t 32 \t\t 7 \t\t 25\n"
     ]
    },
    {
     "name": "stdout",
     "output_type": "stream",
     "text": [
      "0.56536932523 \t\t 32 \t\t 7 \t\t 26\n"
     ]
    },
    {
     "name": "stdout",
     "output_type": "stream",
     "text": [
      "0.565436260058 \t\t 32 \t\t 7 \t\t 27\n"
     ]
    },
    {
     "name": "stdout",
     "output_type": "stream",
     "text": [
      "0.565436996139 \t\t 32 \t\t 7 \t\t 28\n"
     ]
    },
    {
     "name": "stdout",
     "output_type": "stream",
     "text": [
      "0.565436454848 \t\t 32 \t\t 7 \t\t 29\n"
     ]
    },
    {
     "name": "stdout",
     "output_type": "stream",
     "text": [
      "0.565436936696 \t\t 32 \t\t 7 \t\t 30\n"
     ]
    },
    {
     "name": "stdout",
     "output_type": "stream",
     "text": [
      "0.565436906767 \t\t 32 \t\t 7 \t\t 31\n"
     ]
    },
    {
     "name": "stdout",
     "output_type": "stream",
     "text": [
      "0.656603639633 \t\t 32 \t\t 8 \t\t 3\n"
     ]
    },
    {
     "name": "stdout",
     "output_type": "stream",
     "text": [
      "0.653658023986 \t\t 32 \t\t 8 \t\t 4\n"
     ]
    },
    {
     "name": "stdout",
     "output_type": "stream",
     "text": [
      "0.601864450561 \t\t 32 \t\t 8 \t\t 5\n"
     ]
    },
    {
     "name": "stdout",
     "output_type": "stream",
     "text": [
      "0.555281282181 \t\t 32 \t\t 8 \t\t 6\n"
     ]
    },
    {
     "name": "stdout",
     "output_type": "stream",
     "text": [
      "0.556331037591 \t\t 32 \t\t 8 \t\t 7\n"
     ]
    },
    {
     "name": "stdout",
     "output_type": "stream",
     "text": [
      "0.559358079429 \t\t 32 \t\t 8 \t\t 8\n"
     ]
    },
    {
     "name": "stdout",
     "output_type": "stream",
     "text": [
      "0.562515666855 \t\t 32 \t\t 8 \t\t 9\n"
     ]
    },
    {
     "name": "stdout",
     "output_type": "stream",
     "text": [
      "0.559771609274 \t\t 32 \t\t 8 \t\t 10\n"
     ]
    },
    {
     "name": "stdout",
     "output_type": "stream",
     "text": [
      "0.559732760492 \t\t 32 \t\t 8 \t\t 11\n"
     ]
    },
    {
     "name": "stdout",
     "output_type": "stream",
     "text": [
      "0.567814085662 \t\t 32 \t\t 8 \t\t 12\n"
     ]
    },
    {
     "name": "stdout",
     "output_type": "stream",
     "text": [
      "0.568393924224 \t\t 32 \t\t 8 \t\t 13\n"
     ]
    },
    {
     "name": "stdout",
     "output_type": "stream",
     "text": [
      "0.568230383889 \t\t 32 \t\t 8 \t\t 14\n"
     ]
    },
    {
     "name": "stdout",
     "output_type": "stream",
     "text": [
      "0.568832331355 \t\t 32 \t\t 8 \t\t 15\n"
     ]
    },
    {
     "name": "stdout",
     "output_type": "stream",
     "text": [
      "0.578951352396 \t\t 32 \t\t 8 \t\t 16\n"
     ]
    },
    {
     "name": "stdout",
     "output_type": "stream",
     "text": [
      "0.570309841258 \t\t 32 \t\t 8 \t\t 17\n"
     ]
    },
    {
     "name": "stdout",
     "output_type": "stream",
     "text": [
      "0.570469316407 \t\t 32 \t\t 8 \t\t 18\n"
     ]
    },
    {
     "name": "stdout",
     "output_type": "stream",
     "text": [
      "0.580612268763 \t\t 32 \t\t 8 \t\t 19\n"
     ]
    },
    {
     "name": "stdout",
     "output_type": "stream",
     "text": [
      "0.57996900896 \t\t 32 \t\t 8 \t\t 20\n"
     ]
    },
    {
     "name": "stdout",
     "output_type": "stream",
     "text": [
      "0.569582589425 \t\t 32 \t\t 8 \t\t 21\n"
     ]
    },
    {
     "name": "stdout",
     "output_type": "stream",
     "text": [
      "0.569558799858 \t\t 32 \t\t 8 \t\t 22\n"
     ]
    },
    {
     "name": "stdout",
     "output_type": "stream",
     "text": [
      "0.56951554676 \t\t 32 \t\t 8 \t\t 23\n"
     ]
    },
    {
     "name": "stdout",
     "output_type": "stream",
     "text": [
      "0.569537174694 \t\t 32 \t\t 8 \t\t 24\n"
     ]
    },
    {
     "name": "stdout",
     "output_type": "stream",
     "text": [
      "0.569699763914 \t\t 32 \t\t 8 \t\t 25\n"
     ]
    },
    {
     "name": "stdout",
     "output_type": "stream",
     "text": [
      "0.56969804733 \t\t 32 \t\t 8 \t\t 26\n"
     ]
    },
    {
     "name": "stdout",
     "output_type": "stream",
     "text": [
      "0.569700045451 \t\t 32 \t\t 8 \t\t 27\n"
     ]
    },
    {
     "name": "stdout",
     "output_type": "stream",
     "text": [
      "0.569700603771 \t\t 32 \t\t 8 \t\t 28\n"
     ]
    },
    {
     "name": "stdout",
     "output_type": "stream",
     "text": [
      "0.569699541611 \t\t 32 \t\t 8 \t\t 29\n"
     ]
    },
    {
     "name": "stdout",
     "output_type": "stream",
     "text": [
      "0.569699584002 \t\t 32 \t\t 8 \t\t 30\n"
     ]
    },
    {
     "name": "stdout",
     "output_type": "stream",
     "text": [
      "0.569699614771 \t\t 32 \t\t 8 \t\t 31\n"
     ]
    },
    {
     "name": "stdout",
     "output_type": "stream",
     "text": [
      "0.699608293347 \t\t 32 \t\t 9 \t\t 3\n"
     ]
    },
    {
     "name": "stdout",
     "output_type": "stream",
     "text": [
      "0.699579594772 \t\t 32 \t\t 9 \t\t 4\n"
     ]
    },
    {
     "name": "stdout",
     "output_type": "stream",
     "text": [
      "0.647572955598 \t\t 32 \t\t 9 \t\t 5\n"
     ]
    },
    {
     "name": "stdout",
     "output_type": "stream",
     "text": [
      "0.668771947103 \t\t 32 \t\t 9 \t\t 6\n"
     ]
    },
    {
     "name": "stdout",
     "output_type": "stream",
     "text": [
      "0.663459982993 \t\t 32 \t\t 9 \t\t 7\n"
     ]
    },
    {
     "name": "stdout",
     "output_type": "stream",
     "text": [
      "0.66417272696 \t\t 32 \t\t 9 \t\t 8\n"
     ]
    },
    {
     "name": "stdout",
     "output_type": "stream",
     "text": [
      "0.665546846292 \t\t 32 \t\t 9 \t\t 9\n"
     ]
    },
    {
     "name": "stdout",
     "output_type": "stream",
     "text": [
      "0.666444750346 \t\t 32 \t\t 9 \t\t 10\n"
     ]
    },
    {
     "name": "stdout",
     "output_type": "stream",
     "text": [
      "0.667313463934 \t\t 32 \t\t 9 \t\t 11\n"
     ]
    },
    {
     "name": "stdout",
     "output_type": "stream",
     "text": [
      "0.663192736827 \t\t 32 \t\t 9 \t\t 12\n"
     ]
    },
    {
     "name": "stdout",
     "output_type": "stream",
     "text": [
      "0.664378187672 \t\t 32 \t\t 9 \t\t 13\n"
     ]
    },
    {
     "name": "stdout",
     "output_type": "stream",
     "text": [
      "0.663287569551 \t\t 32 \t\t 9 \t\t 14\n"
     ]
    },
    {
     "name": "stdout",
     "output_type": "stream",
     "text": [
      "0.662752274869 \t\t 32 \t\t 9 \t\t 15\n"
     ]
    },
    {
     "name": "stdout",
     "output_type": "stream",
     "text": [
      "0.66080112587 \t\t 32 \t\t 9 \t\t 16\n"
     ]
    },
    {
     "name": "stdout",
     "output_type": "stream",
     "text": [
      "0.661668023091 \t\t 32 \t\t 9 \t\t 17\n"
     ]
    },
    {
     "name": "stdout",
     "output_type": "stream",
     "text": [
      "0.663030151882 \t\t 32 \t\t 9 \t\t 18\n"
     ]
    },
    {
     "name": "stdout",
     "output_type": "stream",
     "text": [
      "0.665443394095 \t\t 32 \t\t 9 \t\t 19\n"
     ]
    },
    {
     "name": "stdout",
     "output_type": "stream",
     "text": [
      "0.665373043744 \t\t 32 \t\t 9 \t\t 20\n"
     ]
    },
    {
     "name": "stdout",
     "output_type": "stream",
     "text": [
      "0.664727029948 \t\t 32 \t\t 9 \t\t 21\n"
     ]
    },
    {
     "name": "stdout",
     "output_type": "stream",
     "text": [
      "0.665913946833 \t\t 32 \t\t 9 \t\t 22\n"
     ]
    },
    {
     "name": "stderr",
     "output_type": "stream",
     "text": [
      "/Users/maxwelllee54/anaconda/lib/python3.5/site-packages/sklearn/linear_model/base.py:352: RuntimeWarning: overflow encountered in exp\n  np.exp(prob, prob)\n"
     ]
    },
    {
     "name": "stdout",
     "output_type": "stream",
     "text": [
      "0.666336261667 \t\t 32 \t\t 9 \t\t 23\n"
     ]
    },
    {
     "name": "stderr",
     "output_type": "stream",
     "text": [
      "/Users/maxwelllee54/anaconda/lib/python3.5/site-packages/sklearn/linear_model/base.py:352: RuntimeWarning: overflow encountered in exp\n  np.exp(prob, prob)\n"
     ]
    },
    {
     "name": "stdout",
     "output_type": "stream",
     "text": [
      "0.666394533798 \t\t 32 \t\t 9 \t\t 24\n"
     ]
    },
    {
     "name": "stdout",
     "output_type": "stream",
     "text": [
      "0.665932016597 \t\t 32 \t\t 9 \t\t 25\n"
     ]
    },
    {
     "name": "stdout",
     "output_type": "stream",
     "text": [
      "0.666128182617 \t\t 32 \t\t 9 \t\t 26\n"
     ]
    },
    {
     "name": "stdout",
     "output_type": "stream",
     "text": [
      "0.666162331553 \t\t 32 \t\t 9 \t\t 27\n"
     ]
    },
    {
     "name": "stdout",
     "output_type": "stream",
     "text": [
      "0.666162201831 \t\t 32 \t\t 9 \t\t 28\n"
     ]
    },
    {
     "name": "stdout",
     "output_type": "stream",
     "text": [
      "0.666162169724 \t\t 32 \t\t 9 \t\t 29\n"
     ]
    },
    {
     "name": "stdout",
     "output_type": "stream",
     "text": [
      "0.666162342592 \t\t 32 \t\t 9 \t\t 30\n"
     ]
    },
    {
     "name": "stdout",
     "output_type": "stream",
     "text": [
      "0.666162340426 \t\t 32 \t\t 9 \t\t 31\n"
     ]
    },
    {
     "name": "stdout",
     "output_type": "stream",
     "text": [
      "0.607680961422 \t\t 33 \t\t 1 \t\t 3\n"
     ]
    },
    {
     "name": "stdout",
     "output_type": "stream",
     "text": [
      "0.598622217017 \t\t 33 \t\t 1 \t\t 4\n"
     ]
    },
    {
     "name": "stdout",
     "output_type": "stream",
     "text": [
      "0.538117487362 \t\t 33 \t\t 1 \t\t 5\n"
     ]
    },
    {
     "name": "stdout",
     "output_type": "stream",
     "text": [
      "0.504227963842 \t\t 33 \t\t 1 \t\t 6\n"
     ]
    },
    {
     "name": "stdout",
     "output_type": "stream",
     "text": [
      "0.507102961255 \t\t 33 \t\t 1 \t\t 7\n"
     ]
    },
    {
     "name": "stdout",
     "output_type": "stream",
     "text": [
      "0.50718233203 \t\t 33 \t\t 1 \t\t 8\n"
     ]
    },
    {
     "name": "stdout",
     "output_type": "stream",
     "text": [
      "0.502915782321 \t\t 33 \t\t 1 \t\t 9\n"
     ]
    },
    {
     "name": "stdout",
     "output_type": "stream",
     "text": [
      "0.502626800722 \t\t 33 \t\t 1 \t\t 10\n"
     ]
    },
    {
     "name": "stdout",
     "output_type": "stream",
     "text": [
      "0.498710352978 \t\t 33 \t\t 1 \t\t 11\n"
     ]
    },
    {
     "name": "stdout",
     "output_type": "stream",
     "text": [
      "0.49739449998 \t\t 33 \t\t 1 \t\t 12\n"
     ]
    },
    {
     "name": "stdout",
     "output_type": "stream",
     "text": [
      "0.497903346207 \t\t 33 \t\t 1 \t\t 13\n"
     ]
    },
    {
     "name": "stdout",
     "output_type": "stream",
     "text": [
      "0.498080206095 \t\t 33 \t\t 1 \t\t 14\n"
     ]
    },
    {
     "name": "stdout",
     "output_type": "stream",
     "text": [
      "0.498859563135 \t\t 33 \t\t 1 \t\t 15\n"
     ]
    },
    {
     "name": "stdout",
     "output_type": "stream",
     "text": [
      "0.501659569678 \t\t 33 \t\t 1 \t\t 16\n"
     ]
    },
    {
     "name": "stdout",
     "output_type": "stream",
     "text": [
      "0.501513606829 \t\t 33 \t\t 1 \t\t 17\n"
     ]
    },
    {
     "name": "stdout",
     "output_type": "stream",
     "text": [
      "0.503032658659 \t\t 33 \t\t 1 \t\t 18\n"
     ]
    },
    {
     "name": "stdout",
     "output_type": "stream",
     "text": [
      "0.502508368761 \t\t 33 \t\t 1 \t\t 19\n"
     ]
    },
    {
     "name": "stdout",
     "output_type": "stream",
     "text": [
      "0.502821970145 \t\t 33 \t\t 1 \t\t 20\n"
     ]
    },
    {
     "name": "stdout",
     "output_type": "stream",
     "text": [
      "0.501495567015 \t\t 33 \t\t 1 \t\t 21\n"
     ]
    },
    {
     "name": "stdout",
     "output_type": "stream",
     "text": [
      "0.501512737338 \t\t 33 \t\t 1 \t\t 22\n"
     ]
    },
    {
     "name": "stdout",
     "output_type": "stream",
     "text": [
      "0.499017986995 \t\t 33 \t\t 1 \t\t 23\n"
     ]
    },
    {
     "name": "stdout",
     "output_type": "stream",
     "text": [
      "0.498003675025 \t\t 33 \t\t 1 \t\t 24\n"
     ]
    },
    {
     "name": "stdout",
     "output_type": "stream",
     "text": [
      "0.497087037234 \t\t 33 \t\t 1 \t\t 25\n"
     ]
    },
    {
     "name": "stdout",
     "output_type": "stream",
     "text": [
      "0.497612970603 \t\t 33 \t\t 1 \t\t 26\n"
     ]
    },
    {
     "name": "stdout",
     "output_type": "stream",
     "text": [
      "0.497851093857 \t\t 33 \t\t 1 \t\t 27\n"
     ]
    },
    {
     "name": "stdout",
     "output_type": "stream",
     "text": [
      "0.497806886437 \t\t 33 \t\t 1 \t\t 28\n"
     ]
    },
    {
     "name": "stdout",
     "output_type": "stream",
     "text": [
      "0.497807287548 \t\t 33 \t\t 1 \t\t 29\n"
     ]
    },
    {
     "name": "stdout",
     "output_type": "stream",
     "text": [
      "0.497809989032 \t\t 33 \t\t 1 \t\t 30\n"
     ]
    },
    {
     "name": "stdout",
     "output_type": "stream",
     "text": [
      "0.497810043775 \t\t 33 \t\t 1 \t\t 31\n"
     ]
    },
    {
     "name": "stdout",
     "output_type": "stream",
     "text": [
      "0.497810053427 \t\t 33 \t\t 1 \t\t 32\n"
     ]
    },
    {
     "name": "stdout",
     "output_type": "stream",
     "text": [
      "0.607382860394 \t\t 33 \t\t 2 \t\t 3\n"
     ]
    },
    {
     "name": "stdout",
     "output_type": "stream",
     "text": [
      "0.608098374686 \t\t 33 \t\t 2 \t\t 4\n"
     ]
    },
    {
     "name": "stdout",
     "output_type": "stream",
     "text": [
      "0.50320859484 \t\t 33 \t\t 2 \t\t 5\n"
     ]
    },
    {
     "name": "stdout",
     "output_type": "stream",
     "text": [
      "0.48400755146 \t\t 33 \t\t 2 \t\t 6\n"
     ]
    },
    {
     "name": "stdout",
     "output_type": "stream",
     "text": [
      "0.500918896922 \t\t 33 \t\t 2 \t\t 7\n"
     ]
    },
    {
     "name": "stdout",
     "output_type": "stream",
     "text": [
      "0.493893572735 \t\t 33 \t\t 2 \t\t 8\n"
     ]
    },
    {
     "name": "stdout",
     "output_type": "stream",
     "text": [
      "0.493671866313 \t\t 33 \t\t 2 \t\t 9\n"
     ]
    },
    {
     "name": "stdout",
     "output_type": "stream",
     "text": [
      "0.483392212969 \t\t 33 \t\t 2 \t\t 10\n"
     ]
    },
    {
     "name": "stdout",
     "output_type": "stream",
     "text": [
      "0.489282238343 \t\t 33 \t\t 2 \t\t 11\n"
     ]
    },
    {
     "name": "stdout",
     "output_type": "stream",
     "text": [
      "0.488966532362 \t\t 33 \t\t 2 \t\t 12\n"
     ]
    },
    {
     "name": "stdout",
     "output_type": "stream",
     "text": [
      "0.494002085446 \t\t 33 \t\t 2 \t\t 13\n"
     ]
    },
    {
     "name": "stdout",
     "output_type": "stream",
     "text": [
      "0.494261023868 \t\t 33 \t\t 2 \t\t 14\n"
     ]
    },
    {
     "name": "stdout",
     "output_type": "stream",
     "text": [
      "0.495985011609 \t\t 33 \t\t 2 \t\t 15\n"
     ]
    },
    {
     "name": "stdout",
     "output_type": "stream",
     "text": [
      "0.499260550352 \t\t 33 \t\t 2 \t\t 16\n"
     ]
    },
    {
     "name": "stdout",
     "output_type": "stream",
     "text": [
      "0.499842755062 \t\t 33 \t\t 2 \t\t 17\n"
     ]
    },
    {
     "name": "stdout",
     "output_type": "stream",
     "text": [
      "0.502838012978 \t\t 33 \t\t 2 \t\t 18\n"
     ]
    },
    {
     "name": "stdout",
     "output_type": "stream",
     "text": [
      "0.502843623118 \t\t 33 \t\t 2 \t\t 19\n"
     ]
    },
    {
     "name": "stdout",
     "output_type": "stream",
     "text": [
      "0.502905217833 \t\t 33 \t\t 2 \t\t 20\n"
     ]
    },
    {
     "name": "stdout",
     "output_type": "stream",
     "text": [
      "0.501530987882 \t\t 33 \t\t 2 \t\t 21\n"
     ]
    },
    {
     "name": "stdout",
     "output_type": "stream",
     "text": [
      "0.501059822785 \t\t 33 \t\t 2 \t\t 22\n"
     ]
    },
    {
     "name": "stdout",
     "output_type": "stream",
     "text": [
      "0.500300018117 \t\t 33 \t\t 2 \t\t 23\n"
     ]
    },
    {
     "name": "stdout",
     "output_type": "stream",
     "text": [
      "0.500303634725 \t\t 33 \t\t 2 \t\t 24\n"
     ]
    },
    {
     "name": "stdout",
     "output_type": "stream",
     "text": [
      "0.501780462808 \t\t 33 \t\t 2 \t\t 25\n"
     ]
    },
    {
     "name": "stdout",
     "output_type": "stream",
     "text": [
      "0.501499929613 \t\t 33 \t\t 2 \t\t 26\n"
     ]
    },
    {
     "name": "stdout",
     "output_type": "stream",
     "text": [
      "0.501607623598 \t\t 33 \t\t 2 \t\t 27\n"
     ]
    },
    {
     "name": "stdout",
     "output_type": "stream",
     "text": [
      "0.5016510175 \t\t 33 \t\t 2 \t\t 28\n"
     ]
    },
    {
     "name": "stdout",
     "output_type": "stream",
     "text": [
      "0.501652117733 \t\t 33 \t\t 2 \t\t 29\n"
     ]
    },
    {
     "name": "stdout",
     "output_type": "stream",
     "text": [
      "0.501651070214 \t\t 33 \t\t 2 \t\t 30\n"
     ]
    },
    {
     "name": "stdout",
     "output_type": "stream",
     "text": [
      "0.501651065523 \t\t 33 \t\t 2 \t\t 31\n"
     ]
    },
    {
     "name": "stdout",
     "output_type": "stream",
     "text": [
      "0.501651152797 \t\t 33 \t\t 2 \t\t 32\n"
     ]
    },
    {
     "name": "stdout",
     "output_type": "stream",
     "text": [
      "0.699273294914 \t\t 33 \t\t 3 \t\t 3\n"
     ]
    },
    {
     "name": "stdout",
     "output_type": "stream",
     "text": [
      "0.700250800035 \t\t 33 \t\t 3 \t\t 4\n"
     ]
    },
    {
     "name": "stdout",
     "output_type": "stream",
     "text": [
      "0.628564477037 \t\t 33 \t\t 3 \t\t 5\n"
     ]
    },
    {
     "name": "stdout",
     "output_type": "stream",
     "text": [
      "0.592626467048 \t\t 33 \t\t 3 \t\t 6\n"
     ]
    },
    {
     "name": "stdout",
     "output_type": "stream",
     "text": [
      "0.590783333696 \t\t 33 \t\t 3 \t\t 7\n"
     ]
    },
    {
     "name": "stdout",
     "output_type": "stream",
     "text": [
      "0.591042576049 \t\t 33 \t\t 3 \t\t 8\n"
     ]
    },
    {
     "name": "stdout",
     "output_type": "stream",
     "text": [
      "0.589568766681 \t\t 33 \t\t 3 \t\t 9\n"
     ]
    },
    {
     "name": "stdout",
     "output_type": "stream",
     "text": [
      "0.578228204875 \t\t 33 \t\t 3 \t\t 10\n"
     ]
    },
    {
     "name": "stdout",
     "output_type": "stream",
     "text": [
      "0.581927401183 \t\t 33 \t\t 3 \t\t 11\n"
     ]
    },
    {
     "name": "stdout",
     "output_type": "stream",
     "text": [
      "0.584464159331 \t\t 33 \t\t 3 \t\t 12\n"
     ]
    },
    {
     "name": "stdout",
     "output_type": "stream",
     "text": [
      "0.584596697431 \t\t 33 \t\t 3 \t\t 13\n"
     ]
    },
    {
     "name": "stdout",
     "output_type": "stream",
     "text": [
      "0.584008968973 \t\t 33 \t\t 3 \t\t 14\n"
     ]
    },
    {
     "name": "stdout",
     "output_type": "stream",
     "text": [
      "0.583798747703 \t\t 33 \t\t 3 \t\t 15\n"
     ]
    },
    {
     "name": "stdout",
     "output_type": "stream",
     "text": [
      "0.583506345881 \t\t 33 \t\t 3 \t\t 16\n"
     ]
    },
    {
     "name": "stdout",
     "output_type": "stream",
     "text": [
      "0.584165191601 \t\t 33 \t\t 3 \t\t 17\n"
     ]
    },
    {
     "name": "stdout",
     "output_type": "stream",
     "text": [
      "0.584374302375 \t\t 33 \t\t 3 \t\t 18\n"
     ]
    },
    {
     "name": "stdout",
     "output_type": "stream",
     "text": [
      "0.58425170678 \t\t 33 \t\t 3 \t\t 19\n"
     ]
    },
    {
     "name": "stdout",
     "output_type": "stream",
     "text": [
      "0.584219964305 \t\t 33 \t\t 3 \t\t 20\n"
     ]
    },
    {
     "name": "stdout",
     "output_type": "stream",
     "text": [
      "0.583447291812 \t\t 33 \t\t 3 \t\t 21\n"
     ]
    },
    {
     "name": "stdout",
     "output_type": "stream",
     "text": [
      "0.583563889971 \t\t 33 \t\t 3 \t\t 22\n"
     ]
    },
    {
     "name": "stdout",
     "output_type": "stream",
     "text": [
      "0.583310369783 \t\t 33 \t\t 3 \t\t 23\n"
     ]
    },
    {
     "name": "stdout",
     "output_type": "stream",
     "text": [
      "0.579420087724 \t\t 33 \t\t 3 \t\t 24\n"
     ]
    },
    {
     "name": "stdout",
     "output_type": "stream",
     "text": [
      "0.579726503927 \t\t 33 \t\t 3 \t\t 25\n"
     ]
    },
    {
     "name": "stdout",
     "output_type": "stream",
     "text": [
      "0.579503675046 \t\t 33 \t\t 3 \t\t 26\n"
     ]
    },
    {
     "name": "stdout",
     "output_type": "stream",
     "text": [
      "0.579459929961 \t\t 33 \t\t 3 \t\t 27\n"
     ]
    },
    {
     "name": "stdout",
     "output_type": "stream",
     "text": [
      "0.579495854515 \t\t 33 \t\t 3 \t\t 28\n"
     ]
    },
    {
     "name": "stdout",
     "output_type": "stream",
     "text": [
      "0.57949623242 \t\t 33 \t\t 3 \t\t 29\n"
     ]
    },
    {
     "name": "stdout",
     "output_type": "stream",
     "text": [
      "0.579500893969 \t\t 33 \t\t 3 \t\t 30\n"
     ]
    },
    {
     "name": "stdout",
     "output_type": "stream",
     "text": [
      "0.579501003273 \t\t 33 \t\t 3 \t\t 31\n"
     ]
    },
    {
     "name": "stdout",
     "output_type": "stream",
     "text": [
      "0.579501005672 \t\t 33 \t\t 3 \t\t 32\n"
     ]
    },
    {
     "name": "stdout",
     "output_type": "stream",
     "text": [
      "0.672290723219 \t\t 33 \t\t 4 \t\t 3\n"
     ]
    },
    {
     "name": "stdout",
     "output_type": "stream",
     "text": [
      "0.669534519677 \t\t 33 \t\t 4 \t\t 4\n"
     ]
    },
    {
     "name": "stdout",
     "output_type": "stream",
     "text": [
      "0.643488324381 \t\t 33 \t\t 4 \t\t 5\n"
     ]
    },
    {
     "name": "stdout",
     "output_type": "stream",
     "text": [
      "0.577119591937 \t\t 33 \t\t 4 \t\t 6\n"
     ]
    },
    {
     "name": "stdout",
     "output_type": "stream",
     "text": [
      "0.574692849127 \t\t 33 \t\t 4 \t\t 7\n"
     ]
    },
    {
     "name": "stdout",
     "output_type": "stream",
     "text": [
      "0.574741741319 \t\t 33 \t\t 4 \t\t 8\n"
     ]
    },
    {
     "name": "stdout",
     "output_type": "stream",
     "text": [
      "0.571615177476 \t\t 33 \t\t 4 \t\t 9\n"
     ]
    },
    {
     "name": "stdout",
     "output_type": "stream",
     "text": [
      "0.559840293627 \t\t 33 \t\t 4 \t\t 10\n"
     ]
    },
    {
     "name": "stdout",
     "output_type": "stream",
     "text": [
      "0.559333917289 \t\t 33 \t\t 4 \t\t 11\n"
     ]
    },
    {
     "name": "stdout",
     "output_type": "stream",
     "text": [
      "0.565514383161 \t\t 33 \t\t 4 \t\t 12\n"
     ]
    },
    {
     "name": "stdout",
     "output_type": "stream",
     "text": [
      "0.56843400915 \t\t 33 \t\t 4 \t\t 13\n"
     ]
    },
    {
     "name": "stdout",
     "output_type": "stream",
     "text": [
      "0.566194535708 \t\t 33 \t\t 4 \t\t 14\n"
     ]
    },
    {
     "name": "stdout",
     "output_type": "stream",
     "text": [
      "0.566825700505 \t\t 33 \t\t 4 \t\t 15\n"
     ]
    },
    {
     "name": "stdout",
     "output_type": "stream",
     "text": [
      "0.567151258904 \t\t 33 \t\t 4 \t\t 16\n"
     ]
    },
    {
     "name": "stdout",
     "output_type": "stream",
     "text": [
      "0.567293189229 \t\t 33 \t\t 4 \t\t 17\n"
     ]
    },
    {
     "name": "stdout",
     "output_type": "stream",
     "text": [
      "0.567326276538 \t\t 33 \t\t 4 \t\t 18\n"
     ]
    },
    {
     "name": "stdout",
     "output_type": "stream",
     "text": [
      "0.567254490301 \t\t 33 \t\t 4 \t\t 19\n"
     ]
    },
    {
     "name": "stdout",
     "output_type": "stream",
     "text": [
      "0.567264057837 \t\t 33 \t\t 4 \t\t 20\n"
     ]
    },
    {
     "name": "stdout",
     "output_type": "stream",
     "text": [
      "0.567237765373 \t\t 33 \t\t 4 \t\t 21\n"
     ]
    },
    {
     "name": "stdout",
     "output_type": "stream",
     "text": [
      "0.567207091962 \t\t 33 \t\t 4 \t\t 22\n"
     ]
    },
    {
     "name": "stdout",
     "output_type": "stream",
     "text": [
      "0.567198792307 \t\t 33 \t\t 4 \t\t 23\n"
     ]
    },
    {
     "name": "stdout",
     "output_type": "stream",
     "text": [
      "0.565861323732 \t\t 33 \t\t 4 \t\t 24\n"
     ]
    },
    {
     "name": "stdout",
     "output_type": "stream",
     "text": [
      "0.565670910195 \t\t 33 \t\t 4 \t\t 25\n"
     ]
    },
    {
     "name": "stdout",
     "output_type": "stream",
     "text": [
      "0.565176374657 \t\t 33 \t\t 4 \t\t 26\n"
     ]
    },
    {
     "name": "stdout",
     "output_type": "stream",
     "text": [
      "0.565171910373 \t\t 33 \t\t 4 \t\t 27\n"
     ]
    },
    {
     "name": "stdout",
     "output_type": "stream",
     "text": [
      "0.565179838253 \t\t 33 \t\t 4 \t\t 28\n"
     ]
    },
    {
     "name": "stdout",
     "output_type": "stream",
     "text": [
      "0.565179620537 \t\t 33 \t\t 4 \t\t 29\n"
     ]
    },
    {
     "name": "stdout",
     "output_type": "stream",
     "text": [
      "0.565179414584 \t\t 33 \t\t 4 \t\t 30\n"
     ]
    },
    {
     "name": "stdout",
     "output_type": "stream",
     "text": [
      "0.565179417686 \t\t 33 \t\t 4 \t\t 31\n"
     ]
    },
    {
     "name": "stdout",
     "output_type": "stream",
     "text": [
      "0.565179424856 \t\t 33 \t\t 4 \t\t 32\n"
     ]
    },
    {
     "name": "stdout",
     "output_type": "stream",
     "text": [
      "0.657312124394 \t\t 33 \t\t 5 \t\t 3\n"
     ]
    },
    {
     "name": "stdout",
     "output_type": "stream",
     "text": [
      "0.655313014081 \t\t 33 \t\t 5 \t\t 4\n"
     ]
    },
    {
     "name": "stdout",
     "output_type": "stream",
     "text": [
      "0.625704443281 \t\t 33 \t\t 5 \t\t 5\n"
     ]
    },
    {
     "name": "stdout",
     "output_type": "stream",
     "text": [
      "0.586748855129 \t\t 33 \t\t 5 \t\t 6\n"
     ]
    },
    {
     "name": "stdout",
     "output_type": "stream",
     "text": [
      "0.590581534208 \t\t 33 \t\t 5 \t\t 7\n"
     ]
    },
    {
     "name": "stdout",
     "output_type": "stream",
     "text": [
      "0.590814718381 \t\t 33 \t\t 5 \t\t 8\n"
     ]
    },
    {
     "name": "stdout",
     "output_type": "stream",
     "text": [
      "0.588677660503 \t\t 33 \t\t 5 \t\t 9\n"
     ]
    },
    {
     "name": "stdout",
     "output_type": "stream",
     "text": [
      "0.581335223466 \t\t 33 \t\t 5 \t\t 10\n"
     ]
    },
    {
     "name": "stdout",
     "output_type": "stream",
     "text": [
      "0.580694140113 \t\t 33 \t\t 5 \t\t 11\n"
     ]
    },
    {
     "name": "stdout",
     "output_type": "stream",
     "text": [
      "0.580895778232 \t\t 33 \t\t 5 \t\t 12\n"
     ]
    },
    {
     "name": "stdout",
     "output_type": "stream",
     "text": [
      "0.581514109485 \t\t 33 \t\t 5 \t\t 13\n"
     ]
    },
    {
     "name": "stdout",
     "output_type": "stream",
     "text": [
      "0.584526977366 \t\t 33 \t\t 5 \t\t 14\n"
     ]
    },
    {
     "name": "stdout",
     "output_type": "stream",
     "text": [
      "0.586033659354 \t\t 33 \t\t 5 \t\t 15\n"
     ]
    },
    {
     "name": "stdout",
     "output_type": "stream",
     "text": [
      "0.585835509668 \t\t 33 \t\t 5 \t\t 16\n"
     ]
    },
    {
     "name": "stdout",
     "output_type": "stream",
     "text": [
      "0.58576269152 \t\t 33 \t\t 5 \t\t 17\n"
     ]
    },
    {
     "name": "stdout",
     "output_type": "stream",
     "text": [
      "0.585820469364 \t\t 33 \t\t 5 \t\t 18\n"
     ]
    },
    {
     "name": "stdout",
     "output_type": "stream",
     "text": [
      "0.585820986411 \t\t 33 \t\t 5 \t\t 19\n"
     ]
    },
    {
     "name": "stdout",
     "output_type": "stream",
     "text": [
      "0.58587978279 \t\t 33 \t\t 5 \t\t 20\n"
     ]
    },
    {
     "name": "stdout",
     "output_type": "stream",
     "text": [
      "0.58543631634 \t\t 33 \t\t 5 \t\t 21\n"
     ]
    },
    {
     "name": "stdout",
     "output_type": "stream",
     "text": [
      "0.5854020125 \t\t 33 \t\t 5 \t\t 22\n"
     ]
    },
    {
     "name": "stdout",
     "output_type": "stream",
     "text": [
      "0.585196276274 \t\t 33 \t\t 5 \t\t 23\n"
     ]
    },
    {
     "name": "stdout",
     "output_type": "stream",
     "text": [
      "0.586021470424 \t\t 33 \t\t 5 \t\t 24\n"
     ]
    },
    {
     "name": "stdout",
     "output_type": "stream",
     "text": [
      "0.586120754011 \t\t 33 \t\t 5 \t\t 25\n"
     ]
    },
    {
     "name": "stdout",
     "output_type": "stream",
     "text": [
      "0.586144829098 \t\t 33 \t\t 5 \t\t 26\n"
     ]
    },
    {
     "name": "stdout",
     "output_type": "stream",
     "text": [
      "0.586247501758 \t\t 33 \t\t 5 \t\t 27\n"
     ]
    },
    {
     "name": "stdout",
     "output_type": "stream",
     "text": [
      "0.586294369154 \t\t 33 \t\t 5 \t\t 28\n"
     ]
    },
    {
     "name": "stdout",
     "output_type": "stream",
     "text": [
      "0.586294606199 \t\t 33 \t\t 5 \t\t 29\n"
     ]
    },
    {
     "name": "stdout",
     "output_type": "stream",
     "text": [
      "0.586294611879 \t\t 33 \t\t 5 \t\t 30\n"
     ]
    },
    {
     "name": "stdout",
     "output_type": "stream",
     "text": [
      "0.586294597966 \t\t 33 \t\t 5 \t\t 31\n"
     ]
    },
    {
     "name": "stdout",
     "output_type": "stream",
     "text": [
      "0.586294442024 \t\t 33 \t\t 5 \t\t 32\n"
     ]
    },
    {
     "name": "stdout",
     "output_type": "stream",
     "text": [
      "0.645375977223 \t\t 33 \t\t 6 \t\t 3\n"
     ]
    },
    {
     "name": "stdout",
     "output_type": "stream",
     "text": [
      "0.64857337949 \t\t 33 \t\t 6 \t\t 4\n"
     ]
    },
    {
     "name": "stdout",
     "output_type": "stream",
     "text": [
      "0.566193951974 \t\t 33 \t\t 6 \t\t 5\n"
     ]
    },
    {
     "name": "stdout",
     "output_type": "stream",
     "text": [
      "0.55190493005 \t\t 33 \t\t 6 \t\t 6\n"
     ]
    },
    {
     "name": "stdout",
     "output_type": "stream",
     "text": [
      "0.556293641225 \t\t 33 \t\t 6 \t\t 7\n"
     ]
    },
    {
     "name": "stdout",
     "output_type": "stream",
     "text": [
      "0.555391057741 \t\t 33 \t\t 6 \t\t 8\n"
     ]
    },
    {
     "name": "stdout",
     "output_type": "stream",
     "text": [
      "0.545808661893 \t\t 33 \t\t 6 \t\t 9\n"
     ]
    },
    {
     "name": "stdout",
     "output_type": "stream",
     "text": [
      "0.551552399333 \t\t 33 \t\t 6 \t\t 10\n"
     ]
    },
    {
     "name": "stdout",
     "output_type": "stream",
     "text": [
      "0.551245677252 \t\t 33 \t\t 6 \t\t 11\n"
     ]
    },
    {
     "name": "stdout",
     "output_type": "stream",
     "text": [
      "0.55124923063 \t\t 33 \t\t 6 \t\t 12\n"
     ]
    },
    {
     "name": "stdout",
     "output_type": "stream",
     "text": [
      "0.551829272317 \t\t 33 \t\t 6 \t\t 13\n"
     ]
    },
    {
     "name": "stdout",
     "output_type": "stream",
     "text": [
      "0.552522239193 \t\t 33 \t\t 6 \t\t 14\n"
     ]
    },
    {
     "name": "stdout",
     "output_type": "stream",
     "text": [
      "0.552641964308 \t\t 33 \t\t 6 \t\t 15\n"
     ]
    },
    {
     "name": "stdout",
     "output_type": "stream",
     "text": [
      "0.552391949323 \t\t 33 \t\t 6 \t\t 16\n"
     ]
    },
    {
     "name": "stdout",
     "output_type": "stream",
     "text": [
      "0.553480895601 \t\t 33 \t\t 6 \t\t 17\n"
     ]
    },
    {
     "name": "stdout",
     "output_type": "stream",
     "text": [
      "0.553893492874 \t\t 33 \t\t 6 \t\t 18\n"
     ]
    },
    {
     "name": "stdout",
     "output_type": "stream",
     "text": [
      "0.553904075553 \t\t 33 \t\t 6 \t\t 19\n"
     ]
    },
    {
     "name": "stdout",
     "output_type": "stream",
     "text": [
      "0.553871466986 \t\t 33 \t\t 6 \t\t 20\n"
     ]
    },
    {
     "name": "stdout",
     "output_type": "stream",
     "text": [
      "0.554231288393 \t\t 33 \t\t 6 \t\t 21\n"
     ]
    },
    {
     "name": "stdout",
     "output_type": "stream",
     "text": [
      "0.554312546906 \t\t 33 \t\t 6 \t\t 22\n"
     ]
    },
    {
     "name": "stdout",
     "output_type": "stream",
     "text": [
      "0.554458589459 \t\t 33 \t\t 6 \t\t 23\n"
     ]
    },
    {
     "name": "stdout",
     "output_type": "stream",
     "text": [
      "0.553798068331 \t\t 33 \t\t 6 \t\t 24\n"
     ]
    },
    {
     "name": "stdout",
     "output_type": "stream",
     "text": [
      "0.55419001634 \t\t 33 \t\t 6 \t\t 25\n"
     ]
    },
    {
     "name": "stdout",
     "output_type": "stream",
     "text": [
      "0.554297008435 \t\t 33 \t\t 6 \t\t 26\n"
     ]
    },
    {
     "name": "stdout",
     "output_type": "stream",
     "text": [
      "0.554366444314 \t\t 33 \t\t 6 \t\t 27\n"
     ]
    },
    {
     "name": "stdout",
     "output_type": "stream",
     "text": [
      "0.554367391849 \t\t 33 \t\t 6 \t\t 28\n"
     ]
    },
    {
     "name": "stdout",
     "output_type": "stream",
     "text": [
      "0.554367251352 \t\t 33 \t\t 6 \t\t 29\n"
     ]
    },
    {
     "name": "stdout",
     "output_type": "stream",
     "text": [
      "0.554368446396 \t\t 33 \t\t 6 \t\t 30\n"
     ]
    },
    {
     "name": "stdout",
     "output_type": "stream",
     "text": [
      "0.554368490351 \t\t 33 \t\t 6 \t\t 31\n"
     ]
    },
    {
     "name": "stdout",
     "output_type": "stream",
     "text": [
      "0.55436852238 \t\t 33 \t\t 6 \t\t 32\n"
     ]
    },
    {
     "name": "stdout",
     "output_type": "stream",
     "text": [
      "0.659837738845 \t\t 33 \t\t 7 \t\t 3\n"
     ]
    },
    {
     "name": "stdout",
     "output_type": "stream",
     "text": [
      "0.655347243006 \t\t 33 \t\t 7 \t\t 4\n"
     ]
    },
    {
     "name": "stdout",
     "output_type": "stream",
     "text": [
      "0.602945975077 \t\t 33 \t\t 7 \t\t 5\n"
     ]
    },
    {
     "name": "stdout",
     "output_type": "stream",
     "text": [
      "0.577986041489 \t\t 33 \t\t 7 \t\t 6\n"
     ]
    },
    {
     "name": "stdout",
     "output_type": "stream",
     "text": [
      "0.586959683659 \t\t 33 \t\t 7 \t\t 7\n"
     ]
    },
    {
     "name": "stdout",
     "output_type": "stream",
     "text": [
      "0.583570171964 \t\t 33 \t\t 7 \t\t 8\n"
     ]
    },
    {
     "name": "stdout",
     "output_type": "stream",
     "text": [
      "0.58371054499 \t\t 33 \t\t 7 \t\t 9\n"
     ]
    },
    {
     "name": "stdout",
     "output_type": "stream",
     "text": [
      "0.583911886591 \t\t 33 \t\t 7 \t\t 10\n"
     ]
    },
    {
     "name": "stdout",
     "output_type": "stream",
     "text": [
      "0.587632677655 \t\t 33 \t\t 7 \t\t 11\n"
     ]
    },
    {
     "name": "stdout",
     "output_type": "stream",
     "text": [
      "0.587083901196 \t\t 33 \t\t 7 \t\t 12\n"
     ]
    },
    {
     "name": "stdout",
     "output_type": "stream",
     "text": [
      "0.586572459796 \t\t 33 \t\t 7 \t\t 13\n"
     ]
    },
    {
     "name": "stdout",
     "output_type": "stream",
     "text": [
      "0.587090926606 \t\t 33 \t\t 7 \t\t 14\n"
     ]
    },
    {
     "name": "stdout",
     "output_type": "stream",
     "text": [
      "0.587469437752 \t\t 33 \t\t 7 \t\t 15\n"
     ]
    },
    {
     "name": "stdout",
     "output_type": "stream",
     "text": [
      "0.588161683514 \t\t 33 \t\t 7 \t\t 16\n"
     ]
    },
    {
     "name": "stdout",
     "output_type": "stream",
     "text": [
      "0.59098471276 \t\t 33 \t\t 7 \t\t 17\n"
     ]
    },
    {
     "name": "stdout",
     "output_type": "stream",
     "text": [
      "0.588906202204 \t\t 33 \t\t 7 \t\t 18\n"
     ]
    },
    {
     "name": "stdout",
     "output_type": "stream",
     "text": [
      "0.589427802518 \t\t 33 \t\t 7 \t\t 19\n"
     ]
    },
    {
     "name": "stdout",
     "output_type": "stream",
     "text": [
      "0.59022745302 \t\t 33 \t\t 7 \t\t 20\n"
     ]
    },
    {
     "name": "stdout",
     "output_type": "stream",
     "text": [
      "0.588916088616 \t\t 33 \t\t 7 \t\t 21\n"
     ]
    },
    {
     "name": "stdout",
     "output_type": "stream",
     "text": [
      "0.588501215687 \t\t 33 \t\t 7 \t\t 22\n"
     ]
    },
    {
     "name": "stdout",
     "output_type": "stream",
     "text": [
      "0.58832541628 \t\t 33 \t\t 7 \t\t 23\n"
     ]
    },
    {
     "name": "stdout",
     "output_type": "stream",
     "text": [
      "0.588231602508 \t\t 33 \t\t 7 \t\t 24\n"
     ]
    },
    {
     "name": "stdout",
     "output_type": "stream",
     "text": [
      "0.588604598787 \t\t 33 \t\t 7 \t\t 25\n"
     ]
    },
    {
     "name": "stdout",
     "output_type": "stream",
     "text": [
      "0.588648286257 \t\t 33 \t\t 7 \t\t 26\n"
     ]
    },
    {
     "name": "stdout",
     "output_type": "stream",
     "text": [
      "0.588612494557 \t\t 33 \t\t 7 \t\t 27\n"
     ]
    },
    {
     "name": "stdout",
     "output_type": "stream",
     "text": [
      "0.588648711959 \t\t 33 \t\t 7 \t\t 28\n"
     ]
    },
    {
     "name": "stdout",
     "output_type": "stream",
     "text": [
      "0.588647828165 \t\t 33 \t\t 7 \t\t 29\n"
     ]
    },
    {
     "name": "stdout",
     "output_type": "stream",
     "text": [
      "0.588648101901 \t\t 33 \t\t 7 \t\t 30\n"
     ]
    },
    {
     "name": "stdout",
     "output_type": "stream",
     "text": [
      "0.588648445071 \t\t 33 \t\t 7 \t\t 31\n"
     ]
    },
    {
     "name": "stdout",
     "output_type": "stream",
     "text": [
      "0.588648194214 \t\t 33 \t\t 7 \t\t 32\n"
     ]
    },
    {
     "name": "stdout",
     "output_type": "stream",
     "text": [
      "0.689245565043 \t\t 33 \t\t 8 \t\t 3\n"
     ]
    },
    {
     "name": "stdout",
     "output_type": "stream",
     "text": [
      "0.689230614466 \t\t 33 \t\t 8 \t\t 4\n"
     ]
    },
    {
     "name": "stdout",
     "output_type": "stream",
     "text": [
      "0.656693816772 \t\t 33 \t\t 8 \t\t 5\n"
     ]
    },
    {
     "name": "stdout",
     "output_type": "stream",
     "text": [
      "0.639263332589 \t\t 33 \t\t 8 \t\t 6\n"
     ]
    },
    {
     "name": "stdout",
     "output_type": "stream",
     "text": [
      "0.641039805625 \t\t 33 \t\t 8 \t\t 7\n"
     ]
    },
    {
     "name": "stdout",
     "output_type": "stream",
     "text": [
      "0.643454692632 \t\t 33 \t\t 8 \t\t 8\n"
     ]
    },
    {
     "name": "stdout",
     "output_type": "stream",
     "text": [
      "0.636814242081 \t\t 33 \t\t 8 \t\t 9\n"
     ]
    },
    {
     "name": "stdout",
     "output_type": "stream",
     "text": [
      "0.636370546044 \t\t 33 \t\t 8 \t\t 10\n"
     ]
    },
    {
     "name": "stdout",
     "output_type": "stream",
     "text": [
      "0.634061988205 \t\t 33 \t\t 8 \t\t 11\n"
     ]
    },
    {
     "name": "stdout",
     "output_type": "stream",
     "text": [
      "0.635084434371 \t\t 33 \t\t 8 \t\t 12\n"
     ]
    },
    {
     "name": "stdout",
     "output_type": "stream",
     "text": [
      "0.634836499514 \t\t 33 \t\t 8 \t\t 13\n"
     ]
    },
    {
     "name": "stdout",
     "output_type": "stream",
     "text": [
      "0.634848813026 \t\t 33 \t\t 8 \t\t 14\n"
     ]
    },
    {
     "name": "stdout",
     "output_type": "stream",
     "text": [
      "0.636250702076 \t\t 33 \t\t 8 \t\t 15\n"
     ]
    },
    {
     "name": "stdout",
     "output_type": "stream",
     "text": [
      "0.638331227219 \t\t 33 \t\t 8 \t\t 16\n"
     ]
    },
    {
     "name": "stdout",
     "output_type": "stream",
     "text": [
      "0.637731971672 \t\t 33 \t\t 8 \t\t 17\n"
     ]
    },
    {
     "name": "stdout",
     "output_type": "stream",
     "text": [
      "0.638146755603 \t\t 33 \t\t 8 \t\t 18\n"
     ]
    },
    {
     "name": "stdout",
     "output_type": "stream",
     "text": [
      "0.637307512306 \t\t 33 \t\t 8 \t\t 19\n"
     ]
    },
    {
     "name": "stdout",
     "output_type": "stream",
     "text": [
      "0.636847640263 \t\t 33 \t\t 8 \t\t 20\n"
     ]
    },
    {
     "name": "stdout",
     "output_type": "stream",
     "text": [
      "0.636823045443 \t\t 33 \t\t 8 \t\t 21\n"
     ]
    },
    {
     "name": "stdout",
     "output_type": "stream",
     "text": [
      "0.636857200337 \t\t 33 \t\t 8 \t\t 22\n"
     ]
    },
    {
     "name": "stdout",
     "output_type": "stream",
     "text": [
      "0.63595794614 \t\t 33 \t\t 8 \t\t 23\n"
     ]
    },
    {
     "name": "stdout",
     "output_type": "stream",
     "text": [
      "0.635888014189 \t\t 33 \t\t 8 \t\t 24\n"
     ]
    },
    {
     "name": "stdout",
     "output_type": "stream",
     "text": [
      "0.635438940965 \t\t 33 \t\t 8 \t\t 25\n"
     ]
    },
    {
     "name": "stdout",
     "output_type": "stream",
     "text": [
      "0.63550563155 \t\t 33 \t\t 8 \t\t 26\n"
     ]
    },
    {
     "name": "stdout",
     "output_type": "stream",
     "text": [
      "0.635455426639 \t\t 33 \t\t 8 \t\t 27\n"
     ]
    },
    {
     "name": "stdout",
     "output_type": "stream",
     "text": [
      "0.635454016075 \t\t 33 \t\t 8 \t\t 28\n"
     ]
    },
    {
     "name": "stdout",
     "output_type": "stream",
     "text": [
      "0.635453542048 \t\t 33 \t\t 8 \t\t 29\n"
     ]
    },
    {
     "name": "stdout",
     "output_type": "stream",
     "text": [
      "0.635453422504 \t\t 33 \t\t 8 \t\t 30\n"
     ]
    },
    {
     "name": "stdout",
     "output_type": "stream",
     "text": [
      "0.635453476574 \t\t 33 \t\t 8 \t\t 31\n"
     ]
    },
    {
     "name": "stdout",
     "output_type": "stream",
     "text": [
      "0.635453469296 \t\t 33 \t\t 8 \t\t 32\n"
     ]
    },
    {
     "name": "stdout",
     "output_type": "stream",
     "text": [
      "0.638896884837 \t\t 33 \t\t 9 \t\t 3\n"
     ]
    },
    {
     "name": "stdout",
     "output_type": "stream",
     "text": [
      "0.638860959612 \t\t 33 \t\t 9 \t\t 4\n"
     ]
    },
    {
     "name": "stdout",
     "output_type": "stream",
     "text": [
      "0.596719513877 \t\t 33 \t\t 9 \t\t 5\n"
     ]
    },
    {
     "name": "stdout",
     "output_type": "stream",
     "text": [
      "0.59852906759 \t\t 33 \t\t 9 \t\t 6\n"
     ]
    },
    {
     "name": "stdout",
     "output_type": "stream",
     "text": [
      "0.587548763601 \t\t 33 \t\t 9 \t\t 7\n"
     ]
    },
    {
     "name": "stdout",
     "output_type": "stream",
     "text": [
      "0.586747511454 \t\t 33 \t\t 9 \t\t 8\n"
     ]
    },
    {
     "name": "stdout",
     "output_type": "stream",
     "text": [
      "0.596298494008 \t\t 33 \t\t 9 \t\t 9\n"
     ]
    },
    {
     "name": "stdout",
     "output_type": "stream",
     "text": [
      "0.594673436439 \t\t 33 \t\t 9 \t\t 10\n"
     ]
    },
    {
     "name": "stdout",
     "output_type": "stream",
     "text": [
      "0.594764291787 \t\t 33 \t\t 9 \t\t 11\n"
     ]
    },
    {
     "name": "stdout",
     "output_type": "stream",
     "text": [
      "0.595560602215 \t\t 33 \t\t 9 \t\t 12\n"
     ]
    },
    {
     "name": "stderr",
     "output_type": "stream",
     "text": [
      "/Users/maxwelllee54/anaconda/lib/python3.5/site-packages/sklearn/linear_model/base.py:352: RuntimeWarning: overflow encountered in exp\n  np.exp(prob, prob)\n"
     ]
    },
    {
     "name": "stdout",
     "output_type": "stream",
     "text": [
      "0.597805267403 \t\t 33 \t\t 9 \t\t 13\n"
     ]
    },
    {
     "name": "stdout",
     "output_type": "stream",
     "text": [
      "0.598169279135 \t\t 33 \t\t 9 \t\t 14\n"
     ]
    },
    {
     "name": "stderr",
     "output_type": "stream",
     "text": [
      "/Users/maxwelllee54/anaconda/lib/python3.5/site-packages/sklearn/linear_model/base.py:352: RuntimeWarning: overflow encountered in exp\n  np.exp(prob, prob)\n"
     ]
    },
    {
     "name": "stdout",
     "output_type": "stream",
     "text": [
      "0.59923934753 \t\t 33 \t\t 9 \t\t 15\n"
     ]
    },
    {
     "name": "stderr",
     "output_type": "stream",
     "text": [
      "/Users/maxwelllee54/anaconda/lib/python3.5/site-packages/sklearn/linear_model/base.py:352: RuntimeWarning: overflow encountered in exp\n  np.exp(prob, prob)\n"
     ]
    },
    {
     "name": "stdout",
     "output_type": "stream",
     "text": [
      "0.602328812671 \t\t 33 \t\t 9 \t\t 16\n"
     ]
    },
    {
     "name": "stdout",
     "output_type": "stream",
     "text": [
      "0.602208061784 \t\t 33 \t\t 9 \t\t 17\n"
     ]
    },
    {
     "name": "stdout",
     "output_type": "stream",
     "text": [
      "0.601469867931 \t\t 33 \t\t 9 \t\t 18\n"
     ]
    },
    {
     "name": "stderr",
     "output_type": "stream",
     "text": [
      "/Users/maxwelllee54/anaconda/lib/python3.5/site-packages/sklearn/linear_model/base.py:352: RuntimeWarning: overflow encountered in exp\n  np.exp(prob, prob)\n"
     ]
    },
    {
     "name": "stdout",
     "output_type": "stream",
     "text": [
      "0.601264578018 \t\t 33 \t\t 9 \t\t 19\n"
     ]
    },
    {
     "name": "stdout",
     "output_type": "stream",
     "text": [
      "0.601262648464 \t\t 33 \t\t 9 \t\t 20\n"
     ]
    },
    {
     "name": "stdout",
     "output_type": "stream",
     "text": [
      "0.600997949478 \t\t 33 \t\t 9 \t\t 21\n"
     ]
    },
    {
     "name": "stdout",
     "output_type": "stream",
     "text": [
      "0.631571403799 \t\t 33 \t\t 9 \t\t 22\n"
     ]
    },
    {
     "name": "stdout",
     "output_type": "stream",
     "text": [
      "0.627616741818 \t\t 33 \t\t 9 \t\t 23\n"
     ]
    },
    {
     "name": "stdout",
     "output_type": "stream",
     "text": [
      "0.627064465873 \t\t 33 \t\t 9 \t\t 24\n"
     ]
    },
    {
     "name": "stdout",
     "output_type": "stream",
     "text": [
      "0.626487140392 \t\t 33 \t\t 9 \t\t 25\n"
     ]
    },
    {
     "name": "stdout",
     "output_type": "stream",
     "text": [
      "0.626503516091 \t\t 33 \t\t 9 \t\t 26\n"
     ]
    },
    {
     "name": "stdout",
     "output_type": "stream",
     "text": [
      "0.62652714859 \t\t 33 \t\t 9 \t\t 27\n"
     ]
    },
    {
     "name": "stdout",
     "output_type": "stream",
     "text": [
      "0.626517166918 \t\t 33 \t\t 9 \t\t 28\n"
     ]
    },
    {
     "name": "stdout",
     "output_type": "stream",
     "text": [
      "0.626517217811 \t\t 33 \t\t 9 \t\t 29\n"
     ]
    },
    {
     "name": "stdout",
     "output_type": "stream",
     "text": [
      "0.62651986999 \t\t 33 \t\t 9 \t\t 30\n"
     ]
    },
    {
     "name": "stdout",
     "output_type": "stream",
     "text": [
      "0.626519837001 \t\t 33 \t\t 9 \t\t 31\n"
     ]
    },
    {
     "name": "stdout",
     "output_type": "stream",
     "text": [
      "0.626519855329 \t\t 33 \t\t 9 \t\t 32\n"
     ]
    },
    {
     "name": "stdout",
     "output_type": "stream",
     "text": [
      "0.608449690788 \t\t 34 \t\t 1 \t\t 3\n"
     ]
    },
    {
     "name": "stdout",
     "output_type": "stream",
     "text": [
      "0.603580655355 \t\t 34 \t\t 1 \t\t 4\n"
     ]
    },
    {
     "name": "stdout",
     "output_type": "stream",
     "text": [
      "0.644957573607 \t\t 34 \t\t 1 \t\t 5\n"
     ]
    },
    {
     "name": "stdout",
     "output_type": "stream",
     "text": [
      "0.63537429902 \t\t 34 \t\t 1 \t\t 6\n"
     ]
    },
    {
     "name": "stdout",
     "output_type": "stream",
     "text": [
      "0.633530377356 \t\t 34 \t\t 1 \t\t 7\n"
     ]
    },
    {
     "name": "stdout",
     "output_type": "stream",
     "text": [
      "0.636864871717 \t\t 34 \t\t 1 \t\t 8\n"
     ]
    },
    {
     "name": "stdout",
     "output_type": "stream",
     "text": [
      "0.624145384255 \t\t 34 \t\t 1 \t\t 9\n"
     ]
    },
    {
     "name": "stdout",
     "output_type": "stream",
     "text": [
      "0.608956692549 \t\t 34 \t\t 1 \t\t 10\n"
     ]
    },
    {
     "name": "stdout",
     "output_type": "stream",
     "text": [
      "0.608047898923 \t\t 34 \t\t 1 \t\t 11\n"
     ]
    },
    {
     "name": "stdout",
     "output_type": "stream",
     "text": [
      "0.614998582968 \t\t 34 \t\t 1 \t\t 12\n"
     ]
    },
    {
     "name": "stdout",
     "output_type": "stream",
     "text": [
      "0.615926091773 \t\t 34 \t\t 1 \t\t 13\n"
     ]
    },
    {
     "name": "stdout",
     "output_type": "stream",
     "text": [
      "0.627315963305 \t\t 34 \t\t 1 \t\t 14\n"
     ]
    },
    {
     "name": "stdout",
     "output_type": "stream",
     "text": [
      "0.624437726156 \t\t 34 \t\t 1 \t\t 15\n"
     ]
    },
    {
     "name": "stdout",
     "output_type": "stream",
     "text": [
      "0.618469782633 \t\t 34 \t\t 1 \t\t 16\n"
     ]
    },
    {
     "name": "stdout",
     "output_type": "stream",
     "text": [
      "0.616641749911 \t\t 34 \t\t 1 \t\t 17\n"
     ]
    },
    {
     "name": "stdout",
     "output_type": "stream",
     "text": [
      "0.614858876017 \t\t 34 \t\t 1 \t\t 18\n"
     ]
    },
    {
     "name": "stdout",
     "output_type": "stream",
     "text": [
      "0.615515869368 \t\t 34 \t\t 1 \t\t 19\n"
     ]
    },
    {
     "name": "stdout",
     "output_type": "stream",
     "text": [
      "0.614326402799 \t\t 34 \t\t 1 \t\t 20\n"
     ]
    },
    {
     "name": "stdout",
     "output_type": "stream",
     "text": [
      "0.614273808546 \t\t 34 \t\t 1 \t\t 21\n"
     ]
    },
    {
     "name": "stdout",
     "output_type": "stream",
     "text": [
      "0.618570530609 \t\t 34 \t\t 1 \t\t 22\n"
     ]
    },
    {
     "name": "stdout",
     "output_type": "stream",
     "text": [
      "0.617871913267 \t\t 34 \t\t 1 \t\t 23\n"
     ]
    },
    {
     "name": "stdout",
     "output_type": "stream",
     "text": [
      "0.618214075393 \t\t 34 \t\t 1 \t\t 24\n"
     ]
    },
    {
     "name": "stdout",
     "output_type": "stream",
     "text": [
      "0.621152893267 \t\t 34 \t\t 1 \t\t 25\n"
     ]
    },
    {
     "name": "stdout",
     "output_type": "stream",
     "text": [
      "0.620982041514 \t\t 34 \t\t 1 \t\t 26\n"
     ]
    },
    {
     "name": "stdout",
     "output_type": "stream",
     "text": [
      "0.620717203807 \t\t 34 \t\t 1 \t\t 27\n"
     ]
    },
    {
     "name": "stdout",
     "output_type": "stream",
     "text": [
      "0.621109719277 \t\t 34 \t\t 1 \t\t 28\n"
     ]
    },
    {
     "name": "stdout",
     "output_type": "stream",
     "text": [
      "0.621275736133 \t\t 34 \t\t 1 \t\t 29\n"
     ]
    },
    {
     "name": "stdout",
     "output_type": "stream",
     "text": [
      "0.62127591389 \t\t 34 \t\t 1 \t\t 30\n"
     ]
    },
    {
     "name": "stdout",
     "output_type": "stream",
     "text": [
      "0.621274537296 \t\t 34 \t\t 1 \t\t 31\n"
     ]
    },
    {
     "name": "stdout",
     "output_type": "stream",
     "text": [
      "0.621274611331 \t\t 34 \t\t 1 \t\t 32\n"
     ]
    },
    {
     "name": "stdout",
     "output_type": "stream",
     "text": [
      "0.621274685532 \t\t 34 \t\t 1 \t\t 33\n"
     ]
    },
    {
     "name": "stdout",
     "output_type": "stream",
     "text": [
      "0.671651747706 \t\t 34 \t\t 2 \t\t 3\n"
     ]
    },
    {
     "name": "stdout",
     "output_type": "stream",
     "text": [
      "0.670224785826 \t\t 34 \t\t 2 \t\t 4\n"
     ]
    },
    {
     "name": "stdout",
     "output_type": "stream",
     "text": [
      "0.613340052207 \t\t 34 \t\t 2 \t\t 5\n"
     ]
    },
    {
     "name": "stdout",
     "output_type": "stream",
     "text": [
      "0.584657130008 \t\t 34 \t\t 2 \t\t 6\n"
     ]
    },
    {
     "name": "stdout",
     "output_type": "stream",
     "text": [
      "0.587651475509 \t\t 34 \t\t 2 \t\t 7\n"
     ]
    },
    {
     "name": "stdout",
     "output_type": "stream",
     "text": [
      "0.585682172957 \t\t 34 \t\t 2 \t\t 8\n"
     ]
    },
    {
     "name": "stdout",
     "output_type": "stream",
     "text": [
      "0.58282111762 \t\t 34 \t\t 2 \t\t 9\n"
     ]
    },
    {
     "name": "stdout",
     "output_type": "stream",
     "text": [
      "0.576290471883 \t\t 34 \t\t 2 \t\t 10\n"
     ]
    },
    {
     "name": "stdout",
     "output_type": "stream",
     "text": [
      "0.576469823698 \t\t 34 \t\t 2 \t\t 11\n"
     ]
    },
    {
     "name": "stdout",
     "output_type": "stream",
     "text": [
      "0.579609805399 \t\t 34 \t\t 2 \t\t 12\n"
     ]
    },
    {
     "name": "stdout",
     "output_type": "stream",
     "text": [
      "0.57865635201 \t\t 34 \t\t 2 \t\t 13\n"
     ]
    },
    {
     "name": "stdout",
     "output_type": "stream",
     "text": [
      "0.579270520838 \t\t 34 \t\t 2 \t\t 14\n"
     ]
    },
    {
     "name": "stdout",
     "output_type": "stream",
     "text": [
      "0.579504201579 \t\t 34 \t\t 2 \t\t 15\n"
     ]
    },
    {
     "name": "stdout",
     "output_type": "stream",
     "text": [
      "0.577948633713 \t\t 34 \t\t 2 \t\t 16\n"
     ]
    },
    {
     "name": "stdout",
     "output_type": "stream",
     "text": [
      "0.578171698722 \t\t 34 \t\t 2 \t\t 17\n"
     ]
    },
    {
     "name": "stdout",
     "output_type": "stream",
     "text": [
      "0.581765286739 \t\t 34 \t\t 2 \t\t 18\n"
     ]
    },
    {
     "name": "stdout",
     "output_type": "stream",
     "text": [
      "0.583425769805 \t\t 34 \t\t 2 \t\t 19\n"
     ]
    },
    {
     "name": "stdout",
     "output_type": "stream",
     "text": [
      "0.584740691925 \t\t 34 \t\t 2 \t\t 20\n"
     ]
    },
    {
     "name": "stdout",
     "output_type": "stream",
     "text": [
      "0.584468672041 \t\t 34 \t\t 2 \t\t 21\n"
     ]
    },
    {
     "name": "stdout",
     "output_type": "stream",
     "text": [
      "0.584447268576 \t\t 34 \t\t 2 \t\t 22\n"
     ]
    },
    {
     "name": "stdout",
     "output_type": "stream",
     "text": [
      "0.58443300667 \t\t 34 \t\t 2 \t\t 23\n"
     ]
    },
    {
     "name": "stdout",
     "output_type": "stream",
     "text": [
      "0.584801846878 \t\t 34 \t\t 2 \t\t 24\n"
     ]
    },
    {
     "name": "stdout",
     "output_type": "stream",
     "text": [
      "0.583515908328 \t\t 34 \t\t 2 \t\t 25\n"
     ]
    },
    {
     "name": "stdout",
     "output_type": "stream",
     "text": [
      "0.58369704945 \t\t 34 \t\t 2 \t\t 26\n"
     ]
    },
    {
     "name": "stdout",
     "output_type": "stream",
     "text": [
      "0.583530729065 \t\t 34 \t\t 2 \t\t 27\n"
     ]
    },
    {
     "name": "stdout",
     "output_type": "stream",
     "text": [
      "0.583832625381 \t\t 34 \t\t 2 \t\t 28\n"
     ]
    },
    {
     "name": "stdout",
     "output_type": "stream",
     "text": [
      "0.583872456896 \t\t 34 \t\t 2 \t\t 29\n"
     ]
    },
    {
     "name": "stdout",
     "output_type": "stream",
     "text": [
      "0.583872735877 \t\t 34 \t\t 2 \t\t 30\n"
     ]
    },
    {
     "name": "stdout",
     "output_type": "stream",
     "text": [
      "0.583875452133 \t\t 34 \t\t 2 \t\t 31\n"
     ]
    },
    {
     "name": "stdout",
     "output_type": "stream",
     "text": [
      "0.583875453043 \t\t 34 \t\t 2 \t\t 32\n"
     ]
    },
    {
     "name": "stdout",
     "output_type": "stream",
     "text": [
      "0.583875391352 \t\t 34 \t\t 2 \t\t 33\n"
     ]
    },
    {
     "name": "stdout",
     "output_type": "stream",
     "text": [
      "0.67072058633 \t\t 34 \t\t 3 \t\t 3\n"
     ]
    },
    {
     "name": "stdout",
     "output_type": "stream",
     "text": [
      "0.667426481994 \t\t 34 \t\t 3 \t\t 4\n"
     ]
    },
    {
     "name": "stdout",
     "output_type": "stream",
     "text": [
      "0.576730502217 \t\t 34 \t\t 3 \t\t 5\n"
     ]
    },
    {
     "name": "stdout",
     "output_type": "stream",
     "text": [
      "0.552867126061 \t\t 34 \t\t 3 \t\t 6\n"
     ]
    },
    {
     "name": "stdout",
     "output_type": "stream",
     "text": [
      "0.553217341813 \t\t 34 \t\t 3 \t\t 7\n"
     ]
    },
    {
     "name": "stdout",
     "output_type": "stream",
     "text": [
      "0.553503700604 \t\t 34 \t\t 3 \t\t 8\n"
     ]
    },
    {
     "name": "stdout",
     "output_type": "stream",
     "text": [
      "0.553740231538 \t\t 34 \t\t 3 \t\t 9\n"
     ]
    },
    {
     "name": "stdout",
     "output_type": "stream",
     "text": [
      "0.54482811404 \t\t 34 \t\t 3 \t\t 10\n"
     ]
    },
    {
     "name": "stdout",
     "output_type": "stream",
     "text": [
      "0.544549153837 \t\t 34 \t\t 3 \t\t 11\n"
     ]
    },
    {
     "name": "stdout",
     "output_type": "stream",
     "text": [
      "0.54458398977 \t\t 34 \t\t 3 \t\t 12\n"
     ]
    },
    {
     "name": "stdout",
     "output_type": "stream",
     "text": [
      "0.543572916469 \t\t 34 \t\t 3 \t\t 13\n"
     ]
    },
    {
     "name": "stdout",
     "output_type": "stream",
     "text": [
      "0.544845362865 \t\t 34 \t\t 3 \t\t 14\n"
     ]
    },
    {
     "name": "stdout",
     "output_type": "stream",
     "text": [
      "0.545187001904 \t\t 34 \t\t 3 \t\t 15\n"
     ]
    },
    {
     "name": "stdout",
     "output_type": "stream",
     "text": [
      "0.545252716451 \t\t 34 \t\t 3 \t\t 16\n"
     ]
    },
    {
     "name": "stdout",
     "output_type": "stream",
     "text": [
      "0.545527804571 \t\t 34 \t\t 3 \t\t 17\n"
     ]
    },
    {
     "name": "stdout",
     "output_type": "stream",
     "text": [
      "0.547506141804 \t\t 34 \t\t 3 \t\t 18\n"
     ]
    },
    {
     "name": "stdout",
     "output_type": "stream",
     "text": [
      "0.548150242042 \t\t 34 \t\t 3 \t\t 19\n"
     ]
    },
    {
     "name": "stdout",
     "output_type": "stream",
     "text": [
      "0.549268939301 \t\t 34 \t\t 3 \t\t 20\n"
     ]
    },
    {
     "name": "stdout",
     "output_type": "stream",
     "text": [
      "0.550342866756 \t\t 34 \t\t 3 \t\t 21\n"
     ]
    },
    {
     "name": "stdout",
     "output_type": "stream",
     "text": [
      "0.550186457994 \t\t 34 \t\t 3 \t\t 22\n"
     ]
    },
    {
     "name": "stdout",
     "output_type": "stream",
     "text": [
      "0.55037142554 \t\t 34 \t\t 3 \t\t 23\n"
     ]
    },
    {
     "name": "stdout",
     "output_type": "stream",
     "text": [
      "0.550296220419 \t\t 34 \t\t 3 \t\t 24\n"
     ]
    },
    {
     "name": "stdout",
     "output_type": "stream",
     "text": [
      "0.549596726094 \t\t 34 \t\t 3 \t\t 25\n"
     ]
    },
    {
     "name": "stdout",
     "output_type": "stream",
     "text": [
      "0.54965431148 \t\t 34 \t\t 3 \t\t 26\n"
     ]
    },
    {
     "name": "stdout",
     "output_type": "stream",
     "text": [
      "0.549469311066 \t\t 34 \t\t 3 \t\t 27\n"
     ]
    },
    {
     "name": "stdout",
     "output_type": "stream",
     "text": [
      "0.549570733879 \t\t 34 \t\t 3 \t\t 28\n"
     ]
    },
    {
     "name": "stdout",
     "output_type": "stream",
     "text": [
      "0.549498323684 \t\t 34 \t\t 3 \t\t 29\n"
     ]
    },
    {
     "name": "stdout",
     "output_type": "stream",
     "text": [
      "0.549501609749 \t\t 34 \t\t 3 \t\t 30\n"
     ]
    },
    {
     "name": "stdout",
     "output_type": "stream",
     "text": [
      "0.54950129827 \t\t 34 \t\t 3 \t\t 31\n"
     ]
    },
    {
     "name": "stdout",
     "output_type": "stream",
     "text": [
      "0.549501313751 \t\t 34 \t\t 3 \t\t 32\n"
     ]
    },
    {
     "name": "stdout",
     "output_type": "stream",
     "text": [
      "0.549501364483 \t\t 34 \t\t 3 \t\t 33\n"
     ]
    },
    {
     "name": "stdout",
     "output_type": "stream",
     "text": [
      "0.641203206121 \t\t 34 \t\t 4 \t\t 3\n"
     ]
    },
    {
     "name": "stdout",
     "output_type": "stream",
     "text": [
      "0.639603558246 \t\t 34 \t\t 4 \t\t 4\n"
     ]
    },
    {
     "name": "stdout",
     "output_type": "stream",
     "text": [
      "0.592820721984 \t\t 34 \t\t 4 \t\t 5\n"
     ]
    },
    {
     "name": "stdout",
     "output_type": "stream",
     "text": [
      "0.578039612011 \t\t 34 \t\t 4 \t\t 6\n"
     ]
    },
    {
     "name": "stdout",
     "output_type": "stream",
     "text": [
      "0.578843577476 \t\t 34 \t\t 4 \t\t 7\n"
     ]
    },
    {
     "name": "stdout",
     "output_type": "stream",
     "text": [
      "0.580942267464 \t\t 34 \t\t 4 \t\t 8\n"
     ]
    },
    {
     "name": "stdout",
     "output_type": "stream",
     "text": [
      "0.579486125799 \t\t 34 \t\t 4 \t\t 9\n"
     ]
    },
    {
     "name": "stdout",
     "output_type": "stream",
     "text": [
      "0.571822500883 \t\t 34 \t\t 4 \t\t 10\n"
     ]
    },
    {
     "name": "stdout",
     "output_type": "stream",
     "text": [
      "0.571992576883 \t\t 34 \t\t 4 \t\t 11\n"
     ]
    },
    {
     "name": "stdout",
     "output_type": "stream",
     "text": [
      "0.572607441795 \t\t 34 \t\t 4 \t\t 12\n"
     ]
    },
    {
     "name": "stdout",
     "output_type": "stream",
     "text": [
      "0.571687898493 \t\t 34 \t\t 4 \t\t 13\n"
     ]
    },
    {
     "name": "stdout",
     "output_type": "stream",
     "text": [
      "0.570072309372 \t\t 34 \t\t 4 \t\t 14\n"
     ]
    },
    {
     "name": "stdout",
     "output_type": "stream",
     "text": [
      "0.573251784496 \t\t 34 \t\t 4 \t\t 15\n"
     ]
    },
    {
     "name": "stdout",
     "output_type": "stream",
     "text": [
      "0.573134287444 \t\t 34 \t\t 4 \t\t 16\n"
     ]
    },
    {
     "name": "stdout",
     "output_type": "stream",
     "text": [
      "0.572321208662 \t\t 34 \t\t 4 \t\t 17\n"
     ]
    },
    {
     "name": "stdout",
     "output_type": "stream",
     "text": [
      "0.573059421576 \t\t 34 \t\t 4 \t\t 18\n"
     ]
    },
    {
     "name": "stdout",
     "output_type": "stream",
     "text": [
      "0.572485890627 \t\t 34 \t\t 4 \t\t 19\n"
     ]
    },
    {
     "name": "stdout",
     "output_type": "stream",
     "text": [
      "0.572499964953 \t\t 34 \t\t 4 \t\t 20\n"
     ]
    },
    {
     "name": "stdout",
     "output_type": "stream",
     "text": [
      "0.571542782238 \t\t 34 \t\t 4 \t\t 21\n"
     ]
    },
    {
     "name": "stdout",
     "output_type": "stream",
     "text": [
      "0.572644666645 \t\t 34 \t\t 4 \t\t 22\n"
     ]
    },
    {
     "name": "stdout",
     "output_type": "stream",
     "text": [
      "0.572655420503 \t\t 34 \t\t 4 \t\t 23\n"
     ]
    },
    {
     "name": "stdout",
     "output_type": "stream",
     "text": [
      "0.572394387594 \t\t 34 \t\t 4 \t\t 24\n"
     ]
    },
    {
     "name": "stdout",
     "output_type": "stream",
     "text": [
      "0.572020469223 \t\t 34 \t\t 4 \t\t 25\n"
     ]
    },
    {
     "name": "stdout",
     "output_type": "stream",
     "text": [
      "0.571672654647 \t\t 34 \t\t 4 \t\t 26\n"
     ]
    },
    {
     "name": "stdout",
     "output_type": "stream",
     "text": [
      "0.571700462899 \t\t 34 \t\t 4 \t\t 27\n"
     ]
    },
    {
     "name": "stdout",
     "output_type": "stream",
     "text": [
      "0.571680441305 \t\t 34 \t\t 4 \t\t 28\n"
     ]
    },
    {
     "name": "stdout",
     "output_type": "stream",
     "text": [
      "0.57168009056 \t\t 34 \t\t 4 \t\t 29\n"
     ]
    },
    {
     "name": "stdout",
     "output_type": "stream",
     "text": [
      "0.571680210653 \t\t 34 \t\t 4 \t\t 30\n"
     ]
    },
    {
     "name": "stdout",
     "output_type": "stream",
     "text": [
      "0.571682462284 \t\t 34 \t\t 4 \t\t 31\n"
     ]
    },
    {
     "name": "stdout",
     "output_type": "stream",
     "text": [
      "0.5716822697 \t\t 34 \t\t 4 \t\t 32\n"
     ]
    },
    {
     "name": "stdout",
     "output_type": "stream",
     "text": [
      "0.571682250233 \t\t 34 \t\t 4 \t\t 33\n"
     ]
    },
    {
     "name": "stdout",
     "output_type": "stream",
     "text": [
      "0.673519165663 \t\t 34 \t\t 5 \t\t 3\n"
     ]
    },
    {
     "name": "stdout",
     "output_type": "stream",
     "text": [
      "0.672629743958 \t\t 34 \t\t 5 \t\t 4\n"
     ]
    },
    {
     "name": "stdout",
     "output_type": "stream",
     "text": [
      "0.619210396262 \t\t 34 \t\t 5 \t\t 5\n"
     ]
    },
    {
     "name": "stdout",
     "output_type": "stream",
     "text": [
      "0.594243985616 \t\t 34 \t\t 5 \t\t 6\n"
     ]
    },
    {
     "name": "stdout",
     "output_type": "stream",
     "text": [
      "0.595524336126 \t\t 34 \t\t 5 \t\t 7\n"
     ]
    },
    {
     "name": "stdout",
     "output_type": "stream",
     "text": [
      "0.596106368895 \t\t 34 \t\t 5 \t\t 8\n"
     ]
    },
    {
     "name": "stdout",
     "output_type": "stream",
     "text": [
      "0.59551468792 \t\t 34 \t\t 5 \t\t 9\n"
     ]
    },
    {
     "name": "stdout",
     "output_type": "stream",
     "text": [
      "0.588568695976 \t\t 34 \t\t 5 \t\t 10\n"
     ]
    },
    {
     "name": "stdout",
     "output_type": "stream",
     "text": [
      "0.588649417457 \t\t 34 \t\t 5 \t\t 11\n"
     ]
    },
    {
     "name": "stdout",
     "output_type": "stream",
     "text": [
      "0.588986190303 \t\t 34 \t\t 5 \t\t 12\n"
     ]
    },
    {
     "name": "stdout",
     "output_type": "stream",
     "text": [
      "0.590666121794 \t\t 34 \t\t 5 \t\t 13\n"
     ]
    },
    {
     "name": "stdout",
     "output_type": "stream",
     "text": [
      "0.59070266127 \t\t 34 \t\t 5 \t\t 14\n"
     ]
    },
    {
     "name": "stdout",
     "output_type": "stream",
     "text": [
      "0.590904493436 \t\t 34 \t\t 5 \t\t 15\n"
     ]
    },
    {
     "name": "stdout",
     "output_type": "stream",
     "text": [
      "0.58994256728 \t\t 34 \t\t 5 \t\t 16\n"
     ]
    },
    {
     "name": "stdout",
     "output_type": "stream",
     "text": [
      "0.590867663208 \t\t 34 \t\t 5 \t\t 17\n"
     ]
    },
    {
     "name": "stdout",
     "output_type": "stream",
     "text": [
      "0.591126923549 \t\t 34 \t\t 5 \t\t 18\n"
     ]
    },
    {
     "name": "stdout",
     "output_type": "stream",
     "text": [
      "0.591688399536 \t\t 34 \t\t 5 \t\t 19\n"
     ]
    },
    {
     "name": "stdout",
     "output_type": "stream",
     "text": [
      "0.595359473513 \t\t 34 \t\t 5 \t\t 20\n"
     ]
    },
    {
     "name": "stdout",
     "output_type": "stream",
     "text": [
      "0.595050893871 \t\t 34 \t\t 5 \t\t 21\n"
     ]
    },
    {
     "name": "stdout",
     "output_type": "stream",
     "text": [
      "0.59531558309 \t\t 34 \t\t 5 \t\t 22\n"
     ]
    },
    {
     "name": "stdout",
     "output_type": "stream",
     "text": [
      "0.595355308221 \t\t 34 \t\t 5 \t\t 23\n"
     ]
    },
    {
     "name": "stdout",
     "output_type": "stream",
     "text": [
      "0.594254609006 \t\t 34 \t\t 5 \t\t 24\n"
     ]
    },
    {
     "name": "stdout",
     "output_type": "stream",
     "text": [
      "0.593740289884 \t\t 34 \t\t 5 \t\t 25\n"
     ]
    },
    {
     "name": "stdout",
     "output_type": "stream",
     "text": [
      "0.593605381785 \t\t 34 \t\t 5 \t\t 26\n"
     ]
    },
    {
     "name": "stdout",
     "output_type": "stream",
     "text": [
      "0.593074193745 \t\t 34 \t\t 5 \t\t 27\n"
     ]
    },
    {
     "name": "stdout",
     "output_type": "stream",
     "text": [
      "0.592941387545 \t\t 34 \t\t 5 \t\t 28\n"
     ]
    },
    {
     "name": "stdout",
     "output_type": "stream",
     "text": [
      "0.59294087616 \t\t 34 \t\t 5 \t\t 29\n"
     ]
    },
    {
     "name": "stdout",
     "output_type": "stream",
     "text": [
      "0.592941783384 \t\t 34 \t\t 5 \t\t 30\n"
     ]
    },
    {
     "name": "stdout",
     "output_type": "stream",
     "text": [
      "0.592942202932 \t\t 34 \t\t 5 \t\t 31\n"
     ]
    },
    {
     "name": "stdout",
     "output_type": "stream",
     "text": [
      "0.592942225418 \t\t 34 \t\t 5 \t\t 32\n"
     ]
    },
    {
     "name": "stdout",
     "output_type": "stream",
     "text": [
      "0.592942225921 \t\t 34 \t\t 5 \t\t 33\n"
     ]
    },
    {
     "name": "stdout",
     "output_type": "stream",
     "text": [
      "0.649968906401 \t\t 34 \t\t 6 \t\t 3\n"
     ]
    },
    {
     "name": "stdout",
     "output_type": "stream",
     "text": [
      "0.651947914234 \t\t 34 \t\t 6 \t\t 4\n"
     ]
    },
    {
     "name": "stdout",
     "output_type": "stream",
     "text": [
      "0.571743595234 \t\t 34 \t\t 6 \t\t 5\n"
     ]
    },
    {
     "name": "stdout",
     "output_type": "stream",
     "text": [
      "0.5648921297 \t\t 34 \t\t 6 \t\t 6\n"
     ]
    },
    {
     "name": "stdout",
     "output_type": "stream",
     "text": [
      "0.568287777681 \t\t 34 \t\t 6 \t\t 7\n"
     ]
    },
    {
     "name": "stdout",
     "output_type": "stream",
     "text": [
      "0.569090003189 \t\t 34 \t\t 6 \t\t 8\n"
     ]
    },
    {
     "name": "stdout",
     "output_type": "stream",
     "text": [
      "0.568771080928 \t\t 34 \t\t 6 \t\t 9\n"
     ]
    },
    {
     "name": "stdout",
     "output_type": "stream",
     "text": [
      "0.561250782513 \t\t 34 \t\t 6 \t\t 10\n"
     ]
    },
    {
     "name": "stdout",
     "output_type": "stream",
     "text": [
      "0.562531723033 \t\t 34 \t\t 6 \t\t 11\n"
     ]
    },
    {
     "name": "stdout",
     "output_type": "stream",
     "text": [
      "0.562622164779 \t\t 34 \t\t 6 \t\t 12\n"
     ]
    },
    {
     "name": "stdout",
     "output_type": "stream",
     "text": [
      "0.5626066573 \t\t 34 \t\t 6 \t\t 13\n"
     ]
    },
    {
     "name": "stdout",
     "output_type": "stream",
     "text": [
      "0.562164702488 \t\t 34 \t\t 6 \t\t 14\n"
     ]
    },
    {
     "name": "stdout",
     "output_type": "stream",
     "text": [
      "0.562540697579 \t\t 34 \t\t 6 \t\t 15\n"
     ]
    },
    {
     "name": "stdout",
     "output_type": "stream",
     "text": [
      "0.562088473038 \t\t 34 \t\t 6 \t\t 16\n"
     ]
    },
    {
     "name": "stdout",
     "output_type": "stream",
     "text": [
      "0.562008305516 \t\t 34 \t\t 6 \t\t 17\n"
     ]
    },
    {
     "name": "stdout",
     "output_type": "stream",
     "text": [
      "0.561633190423 \t\t 34 \t\t 6 \t\t 18\n"
     ]
    },
    {
     "name": "stdout",
     "output_type": "stream",
     "text": [
      "0.5616934641 \t\t 34 \t\t 6 \t\t 19\n"
     ]
    },
    {
     "name": "stdout",
     "output_type": "stream",
     "text": [
      "0.560138088915 \t\t 34 \t\t 6 \t\t 20\n"
     ]
    },
    {
     "name": "stdout",
     "output_type": "stream",
     "text": [
      "0.560196538538 \t\t 34 \t\t 6 \t\t 21\n"
     ]
    },
    {
     "name": "stdout",
     "output_type": "stream",
     "text": [
      "0.560068679014 \t\t 34 \t\t 6 \t\t 22\n"
     ]
    },
    {
     "name": "stdout",
     "output_type": "stream",
     "text": [
      "0.561064792448 \t\t 34 \t\t 6 \t\t 23\n"
     ]
    },
    {
     "name": "stdout",
     "output_type": "stream",
     "text": [
      "0.561342785926 \t\t 34 \t\t 6 \t\t 24\n"
     ]
    },
    {
     "name": "stdout",
     "output_type": "stream",
     "text": [
      "0.560869234367 \t\t 34 \t\t 6 \t\t 25\n"
     ]
    },
    {
     "name": "stdout",
     "output_type": "stream",
     "text": [
      "0.560914777431 \t\t 34 \t\t 6 \t\t 26\n"
     ]
    },
    {
     "name": "stdout",
     "output_type": "stream",
     "text": [
      "0.560649323177 \t\t 34 \t\t 6 \t\t 27\n"
     ]
    },
    {
     "name": "stdout",
     "output_type": "stream",
     "text": [
      "0.560589622822 \t\t 34 \t\t 6 \t\t 28\n"
     ]
    },
    {
     "name": "stdout",
     "output_type": "stream",
     "text": [
      "0.560585072128 \t\t 34 \t\t 6 \t\t 29\n"
     ]
    },
    {
     "name": "stdout",
     "output_type": "stream",
     "text": [
      "0.560585069709 \t\t 34 \t\t 6 \t\t 30\n"
     ]
    },
    {
     "name": "stdout",
     "output_type": "stream",
     "text": [
      "0.560584765039 \t\t 34 \t\t 6 \t\t 31\n"
     ]
    },
    {
     "name": "stdout",
     "output_type": "stream",
     "text": [
      "0.560584795958 \t\t 34 \t\t 6 \t\t 32\n"
     ]
    },
    {
     "name": "stdout",
     "output_type": "stream",
     "text": [
      "0.560584831387 \t\t 34 \t\t 6 \t\t 33\n"
     ]
    },
    {
     "name": "stdout",
     "output_type": "stream",
     "text": [
      "0.644107262513 \t\t 34 \t\t 7 \t\t 3\n"
     ]
    },
    {
     "name": "stdout",
     "output_type": "stream",
     "text": [
      "0.642520664106 \t\t 34 \t\t 7 \t\t 4\n"
     ]
    },
    {
     "name": "stdout",
     "output_type": "stream",
     "text": [
      "0.568920431425 \t\t 34 \t\t 7 \t\t 5\n"
     ]
    },
    {
     "name": "stdout",
     "output_type": "stream",
     "text": [
      "0.572338638698 \t\t 34 \t\t 7 \t\t 6\n"
     ]
    },
    {
     "name": "stdout",
     "output_type": "stream",
     "text": [
      "0.576693446589 \t\t 34 \t\t 7 \t\t 7\n"
     ]
    },
    {
     "name": "stdout",
     "output_type": "stream",
     "text": [
      "0.580526441419 \t\t 34 \t\t 7 \t\t 8\n"
     ]
    },
    {
     "name": "stdout",
     "output_type": "stream",
     "text": [
      "0.583611934439 \t\t 34 \t\t 7 \t\t 9\n"
     ]
    },
    {
     "name": "stdout",
     "output_type": "stream",
     "text": [
      "0.581109124049 \t\t 34 \t\t 7 \t\t 10\n"
     ]
    },
    {
     "name": "stdout",
     "output_type": "stream",
     "text": [
      "0.575464657872 \t\t 34 \t\t 7 \t\t 11\n"
     ]
    },
    {
     "name": "stdout",
     "output_type": "stream",
     "text": [
      "0.576112851879 \t\t 34 \t\t 7 \t\t 12\n"
     ]
    },
    {
     "name": "stdout",
     "output_type": "stream",
     "text": [
      "0.575706149182 \t\t 34 \t\t 7 \t\t 13\n"
     ]
    },
    {
     "name": "stdout",
     "output_type": "stream",
     "text": [
      "0.574338440234 \t\t 34 \t\t 7 \t\t 14\n"
     ]
    },
    {
     "name": "stdout",
     "output_type": "stream",
     "text": [
      "0.574986368008 \t\t 34 \t\t 7 \t\t 15\n"
     ]
    },
    {
     "name": "stdout",
     "output_type": "stream",
     "text": [
      "0.574482768905 \t\t 34 \t\t 7 \t\t 16\n"
     ]
    },
    {
     "name": "stdout",
     "output_type": "stream",
     "text": [
      "0.573936282586 \t\t 34 \t\t 7 \t\t 17\n"
     ]
    },
    {
     "name": "stdout",
     "output_type": "stream",
     "text": [
      "0.574078964163 \t\t 34 \t\t 7 \t\t 18\n"
     ]
    },
    {
     "name": "stdout",
     "output_type": "stream",
     "text": [
      "0.574223417466 \t\t 34 \t\t 7 \t\t 19\n"
     ]
    },
    {
     "name": "stdout",
     "output_type": "stream",
     "text": [
      "0.573146229999 \t\t 34 \t\t 7 \t\t 20\n"
     ]
    },
    {
     "name": "stdout",
     "output_type": "stream",
     "text": [
      "0.574005810336 \t\t 34 \t\t 7 \t\t 21\n"
     ]
    },
    {
     "name": "stdout",
     "output_type": "stream",
     "text": [
      "0.573865873962 \t\t 34 \t\t 7 \t\t 22\n"
     ]
    },
    {
     "name": "stdout",
     "output_type": "stream",
     "text": [
      "0.574477970676 \t\t 34 \t\t 7 \t\t 23\n"
     ]
    },
    {
     "name": "stdout",
     "output_type": "stream",
     "text": [
      "0.573896500454 \t\t 34 \t\t 7 \t\t 24\n"
     ]
    },
    {
     "name": "stdout",
     "output_type": "stream",
     "text": [
      "0.572835001202 \t\t 34 \t\t 7 \t\t 25\n"
     ]
    },
    {
     "name": "stdout",
     "output_type": "stream",
     "text": [
      "0.572818478869 \t\t 34 \t\t 7 \t\t 26\n"
     ]
    },
    {
     "name": "stdout",
     "output_type": "stream",
     "text": [
      "0.572818083072 \t\t 34 \t\t 7 \t\t 27\n"
     ]
    },
    {
     "name": "stdout",
     "output_type": "stream",
     "text": [
      "0.57277264648 \t\t 34 \t\t 7 \t\t 28\n"
     ]
    },
    {
     "name": "stdout",
     "output_type": "stream",
     "text": [
      "0.572777100304 \t\t 34 \t\t 7 \t\t 29\n"
     ]
    },
    {
     "name": "stdout",
     "output_type": "stream",
     "text": [
      "0.572777959991 \t\t 34 \t\t 7 \t\t 30\n"
     ]
    },
    {
     "name": "stdout",
     "output_type": "stream",
     "text": [
      "0.572777352031 \t\t 34 \t\t 7 \t\t 31\n"
     ]
    },
    {
     "name": "stdout",
     "output_type": "stream",
     "text": [
      "0.57277734836 \t\t 34 \t\t 7 \t\t 32\n"
     ]
    },
    {
     "name": "stdout",
     "output_type": "stream",
     "text": [
      "0.572777305688 \t\t 34 \t\t 7 \t\t 33\n"
     ]
    },
    {
     "name": "stdout",
     "output_type": "stream",
     "text": [
      "0.726324800392 \t\t 34 \t\t 8 \t\t 3\n"
     ]
    },
    {
     "name": "stdout",
     "output_type": "stream",
     "text": [
      "0.724504056966 \t\t 34 \t\t 8 \t\t 4\n"
     ]
    },
    {
     "name": "stdout",
     "output_type": "stream",
     "text": [
      "0.635909749507 \t\t 34 \t\t 8 \t\t 5\n"
     ]
    },
    {
     "name": "stdout",
     "output_type": "stream",
     "text": [
      "0.65133388813 \t\t 34 \t\t 8 \t\t 6\n"
     ]
    },
    {
     "name": "stdout",
     "output_type": "stream",
     "text": [
      "0.648352590138 \t\t 34 \t\t 8 \t\t 7\n"
     ]
    },
    {
     "name": "stdout",
     "output_type": "stream",
     "text": [
      "0.648473456215 \t\t 34 \t\t 8 \t\t 8\n"
     ]
    },
    {
     "name": "stdout",
     "output_type": "stream",
     "text": [
      "0.642392374968 \t\t 34 \t\t 8 \t\t 9\n"
     ]
    },
    {
     "name": "stdout",
     "output_type": "stream",
     "text": [
      "0.646973196306 \t\t 34 \t\t 8 \t\t 10\n"
     ]
    },
    {
     "name": "stdout",
     "output_type": "stream",
     "text": [
      "0.642320917079 \t\t 34 \t\t 8 \t\t 11\n"
     ]
    },
    {
     "name": "stdout",
     "output_type": "stream",
     "text": [
      "0.63532227158 \t\t 34 \t\t 8 \t\t 12\n"
     ]
    },
    {
     "name": "stdout",
     "output_type": "stream",
     "text": [
      "0.636434364374 \t\t 34 \t\t 8 \t\t 13\n"
     ]
    },
    {
     "name": "stdout",
     "output_type": "stream",
     "text": [
      "0.633470353125 \t\t 34 \t\t 8 \t\t 14\n"
     ]
    },
    {
     "name": "stdout",
     "output_type": "stream",
     "text": [
      "0.628455863143 \t\t 34 \t\t 8 \t\t 15\n"
     ]
    },
    {
     "name": "stdout",
     "output_type": "stream",
     "text": [
      "0.630793465272 \t\t 34 \t\t 8 \t\t 16\n"
     ]
    },
    {
     "name": "stdout",
     "output_type": "stream",
     "text": [
      "0.631975100487 \t\t 34 \t\t 8 \t\t 17\n"
     ]
    },
    {
     "name": "stdout",
     "output_type": "stream",
     "text": [
      "0.632635722275 \t\t 34 \t\t 8 \t\t 18\n"
     ]
    },
    {
     "name": "stdout",
     "output_type": "stream",
     "text": [
      "0.638288366782 \t\t 34 \t\t 8 \t\t 19\n"
     ]
    },
    {
     "name": "stdout",
     "output_type": "stream",
     "text": [
      "0.637160470715 \t\t 34 \t\t 8 \t\t 20\n"
     ]
    },
    {
     "name": "stdout",
     "output_type": "stream",
     "text": [
      "0.637794479912 \t\t 34 \t\t 8 \t\t 21\n"
     ]
    },
    {
     "name": "stdout",
     "output_type": "stream",
     "text": [
      "0.635972944852 \t\t 34 \t\t 8 \t\t 22\n"
     ]
    },
    {
     "name": "stdout",
     "output_type": "stream",
     "text": [
      "0.632364770422 \t\t 34 \t\t 8 \t\t 23\n"
     ]
    },
    {
     "name": "stdout",
     "output_type": "stream",
     "text": [
      "0.632324172442 \t\t 34 \t\t 8 \t\t 24\n"
     ]
    },
    {
     "name": "stdout",
     "output_type": "stream",
     "text": [
      "0.632429236159 \t\t 34 \t\t 8 \t\t 25\n"
     ]
    },
    {
     "name": "stdout",
     "output_type": "stream",
     "text": [
      "0.630982047117 \t\t 34 \t\t 8 \t\t 26\n"
     ]
    },
    {
     "name": "stdout",
     "output_type": "stream",
     "text": [
      "0.630530282336 \t\t 34 \t\t 8 \t\t 27\n"
     ]
    },
    {
     "name": "stdout",
     "output_type": "stream",
     "text": [
      "0.630557427311 \t\t 34 \t\t 8 \t\t 28\n"
     ]
    },
    {
     "name": "stdout",
     "output_type": "stream",
     "text": [
      "0.630597273942 \t\t 34 \t\t 8 \t\t 29\n"
     ]
    },
    {
     "name": "stdout",
     "output_type": "stream",
     "text": [
      "0.630601730882 \t\t 34 \t\t 8 \t\t 30\n"
     ]
    },
    {
     "name": "stdout",
     "output_type": "stream",
     "text": [
      "0.63060259405 \t\t 34 \t\t 8 \t\t 31\n"
     ]
    },
    {
     "name": "stdout",
     "output_type": "stream",
     "text": [
      "0.630602663243 \t\t 34 \t\t 8 \t\t 32\n"
     ]
    },
    {
     "name": "stdout",
     "output_type": "stream",
     "text": [
      "0.630602676961 \t\t 34 \t\t 8 \t\t 33\n"
     ]
    },
    {
     "name": "stdout",
     "output_type": "stream",
     "text": [
      "0.642409563133 \t\t 34 \t\t 9 \t\t 3\n"
     ]
    },
    {
     "name": "stdout",
     "output_type": "stream",
     "text": [
      "0.64097823932 \t\t 34 \t\t 9 \t\t 4\n"
     ]
    },
    {
     "name": "stdout",
     "output_type": "stream",
     "text": [
      "0.588937262521 \t\t 34 \t\t 9 \t\t 5\n"
     ]
    },
    {
     "name": "stdout",
     "output_type": "stream",
     "text": [
      "0.596586621696 \t\t 34 \t\t 9 \t\t 6\n"
     ]
    },
    {
     "name": "stdout",
     "output_type": "stream",
     "text": [
      "0.596684891055 \t\t 34 \t\t 9 \t\t 7\n"
     ]
    },
    {
     "name": "stdout",
     "output_type": "stream",
     "text": [
      "0.596683503332 \t\t 34 \t\t 9 \t\t 8\n"
     ]
    },
    {
     "name": "stdout",
     "output_type": "stream",
     "text": [
      "0.59642602519 \t\t 34 \t\t 9 \t\t 9\n"
     ]
    },
    {
     "name": "stdout",
     "output_type": "stream",
     "text": [
      "0.598796394631 \t\t 34 \t\t 9 \t\t 10\n"
     ]
    },
    {
     "name": "stdout",
     "output_type": "stream",
     "text": [
      "0.597231929537 \t\t 34 \t\t 9 \t\t 11\n"
     ]
    },
    {
     "name": "stdout",
     "output_type": "stream",
     "text": [
      "0.597573935668 \t\t 34 \t\t 9 \t\t 12\n"
     ]
    },
    {
     "name": "stdout",
     "output_type": "stream",
     "text": [
      "0.598981784966 \t\t 34 \t\t 9 \t\t 13\n"
     ]
    },
    {
     "name": "stdout",
     "output_type": "stream",
     "text": [
      "0.599272077047 \t\t 34 \t\t 9 \t\t 14\n"
     ]
    },
    {
     "name": "stdout",
     "output_type": "stream",
     "text": [
      "0.599317550132 \t\t 34 \t\t 9 \t\t 15\n"
     ]
    },
    {
     "name": "stdout",
     "output_type": "stream",
     "text": [
      "0.600085868993 \t\t 34 \t\t 9 \t\t 16\n"
     ]
    },
    {
     "name": "stdout",
     "output_type": "stream",
     "text": [
      "0.600143933295 \t\t 34 \t\t 9 \t\t 17\n"
     ]
    },
    {
     "name": "stderr",
     "output_type": "stream",
     "text": [
      "/Users/maxwelllee54/anaconda/lib/python3.5/site-packages/sklearn/linear_model/base.py:352: RuntimeWarning: overflow encountered in exp\n  np.exp(prob, prob)\n"
     ]
    },
    {
     "name": "stdout",
     "output_type": "stream",
     "text": [
      "0.600142045492 \t\t 34 \t\t 9 \t\t 18\n"
     ]
    },
    {
     "name": "stderr",
     "output_type": "stream",
     "text": [
      "/Users/maxwelllee54/anaconda/lib/python3.5/site-packages/sklearn/linear_model/base.py:352: RuntimeWarning: overflow encountered in exp\n  np.exp(prob, prob)\n"
     ]
    },
    {
     "name": "stdout",
     "output_type": "stream",
     "text": [
      "0.600112324106 \t\t 34 \t\t 9 \t\t 19\n"
     ]
    },
    {
     "name": "stderr",
     "output_type": "stream",
     "text": [
      "/Users/maxwelllee54/anaconda/lib/python3.5/site-packages/sklearn/linear_model/base.py:352: RuntimeWarning: overflow encountered in exp\n  np.exp(prob, prob)\n"
     ]
    },
    {
     "name": "stdout",
     "output_type": "stream",
     "text": [
      "0.600000768207 \t\t 34 \t\t 9 \t\t 20\n"
     ]
    },
    {
     "name": "stdout",
     "output_type": "stream",
     "text": [
      "0.599880500704 \t\t 34 \t\t 9 \t\t 21\n"
     ]
    },
    {
     "name": "stdout",
     "output_type": "stream",
     "text": [
      "0.599815219637 \t\t 34 \t\t 9 \t\t 22\n"
     ]
    },
    {
     "name": "stdout",
     "output_type": "stream",
     "text": [
      "0.599884106604 \t\t 34 \t\t 9 \t\t 23\n"
     ]
    },
    {
     "name": "stdout",
     "output_type": "stream",
     "text": [
      "0.599932671055 \t\t 34 \t\t 9 \t\t 24\n"
     ]
    },
    {
     "name": "stderr",
     "output_type": "stream",
     "text": [
      "/Users/maxwelllee54/anaconda/lib/python3.5/site-packages/sklearn/linear_model/base.py:352: RuntimeWarning: overflow encountered in exp\n  np.exp(prob, prob)\n"
     ]
    },
    {
     "name": "stdout",
     "output_type": "stream",
     "text": [
      "0.599952952198 \t\t 34 \t\t 9 \t\t 25\n"
     ]
    },
    {
     "name": "stderr",
     "output_type": "stream",
     "text": [
      "/Users/maxwelllee54/anaconda/lib/python3.5/site-packages/sklearn/linear_model/base.py:352: RuntimeWarning: overflow encountered in exp\n  np.exp(prob, prob)\n"
     ]
    },
    {
     "name": "stdout",
     "output_type": "stream",
     "text": [
      "0.599920204461 \t\t 34 \t\t 9 \t\t 26\n"
     ]
    },
    {
     "name": "stderr",
     "output_type": "stream",
     "text": [
      "/Users/maxwelllee54/anaconda/lib/python3.5/site-packages/sklearn/linear_model/base.py:352: RuntimeWarning: overflow encountered in exp\n  np.exp(prob, prob)\n"
     ]
    },
    {
     "name": "stdout",
     "output_type": "stream",
     "text": [
      "0.599884880949 \t\t 34 \t\t 9 \t\t 27\n"
     ]
    },
    {
     "name": "stderr",
     "output_type": "stream",
     "text": [
      "/Users/maxwelllee54/anaconda/lib/python3.5/site-packages/sklearn/linear_model/base.py:352: RuntimeWarning: overflow encountered in exp\n  np.exp(prob, prob)\n"
     ]
    },
    {
     "name": "stdout",
     "output_type": "stream",
     "text": [
      "0.599858810865 \t\t 34 \t\t 9 \t\t 28\n"
     ]
    },
    {
     "name": "stderr",
     "output_type": "stream",
     "text": [
      "/Users/maxwelllee54/anaconda/lib/python3.5/site-packages/sklearn/linear_model/base.py:352: RuntimeWarning: overflow encountered in exp\n  np.exp(prob, prob)\n"
     ]
    },
    {
     "name": "stdout",
     "output_type": "stream",
     "text": [
      "0.599859215298 \t\t 34 \t\t 9 \t\t 29\n"
     ]
    },
    {
     "name": "stderr",
     "output_type": "stream",
     "text": [
      "/Users/maxwelllee54/anaconda/lib/python3.5/site-packages/sklearn/linear_model/base.py:352: RuntimeWarning: overflow encountered in exp\n  np.exp(prob, prob)\n"
     ]
    },
    {
     "name": "stdout",
     "output_type": "stream",
     "text": [
      "0.599859735697 \t\t 34 \t\t 9 \t\t 30\n"
     ]
    },
    {
     "name": "stderr",
     "output_type": "stream",
     "text": [
      "/Users/maxwelllee54/anaconda/lib/python3.5/site-packages/sklearn/linear_model/base.py:352: RuntimeWarning: overflow encountered in exp\n  np.exp(prob, prob)\n"
     ]
    },
    {
     "name": "stdout",
     "output_type": "stream",
     "text": [
      "0.599859525667 \t\t 34 \t\t 9 \t\t 31\n"
     ]
    },
    {
     "name": "stderr",
     "output_type": "stream",
     "text": [
      "/Users/maxwelllee54/anaconda/lib/python3.5/site-packages/sklearn/linear_model/base.py:352: RuntimeWarning: overflow encountered in exp\n  np.exp(prob, prob)\n"
     ]
    },
    {
     "name": "stdout",
     "output_type": "stream",
     "text": [
      "0.599859536018 \t\t 34 \t\t 9 \t\t 32\n"
     ]
    },
    {
     "name": "stderr",
     "output_type": "stream",
     "text": [
      "/Users/maxwelllee54/anaconda/lib/python3.5/site-packages/sklearn/linear_model/base.py:352: RuntimeWarning: overflow encountered in exp\n  np.exp(prob, prob)\n"
     ]
    },
    {
     "name": "stdout",
     "output_type": "stream",
     "text": [
      "0.599859539229 \t\t 34 \t\t 9 \t\t 33\n"
     ]
    }
   ],
   "source": [
    "from sklearn import linear_model\n",
    "from sklearn.calibration import CalibratedClassifierCV\n",
    "from sklearn.metrics import log_loss\n",
    "from sklearn.pipeline import make_pipeline\n",
    "from sklearn.decomposition import PCA\n",
    "from sklearn.model_selection import train_test_split\n",
    "\n",
    "testResult = list()\n",
    "\n",
    "for i in range(20,35):\n",
    "    columns = list(X.columns[np.argsort(f)[-i:]])\n",
    "    newFeatures = data.loc[:, columns]\n",
    "    X_new = newFeatures\n",
    "    y_new = results.loc[:, 'result']\n",
    "    \n",
    "    \n",
    "    for testSize in range(1, 10):\n",
    "    \n",
    "        X_train, X_test, y_train, y_test = train_test_split(newFeatures, y_new, test_size=testSize/10)\n",
    "        \n",
    "        X_train, X_valid, y_train, y_valid = train_test_split(X_train.copy(), y_train.copy(), test_size=0.3)\n",
    "        \n",
    "        clf = linear_model.LogisticRegressionCV(\n",
    "            Cs=list(np.power(10.0, np.arange(-10,10))), \n",
    "            penalty='l2',\n",
    "            cv=10,\n",
    "            solver='liblinear', max_iter=500, tol=1e-6, scoring='neg_log_loss')    \n",
    "        \n",
    "        \n",
    "        for p in range(3,i):\n",
    "            pca = PCA(p)\n",
    "        \n",
    "            pipeline = make_pipeline(pca, clf)\n",
    "            pipeline.fit(X_train, y_train)\n",
    "            \n",
    "            sig_clf = CalibratedClassifierCV(pipeline, method=\"sigmoid\", cv='prefit')\n",
    "            sig_clf.fit(X_valid, y_valid.values.ravel())\n",
    "            \n",
    "            y_pred = sig_clf.predict_proba(X_test)\n",
    "            logLoss = log_loss(y_true=y_test, y_pred=y_pred)\n",
    "            \n",
    "            print(logLoss, '\\t\\t', i, '\\t\\t', testSize, '\\t\\t', p)\n",
    "            \n",
    "            testResult.append([logLoss, i, testSize, p])"
   ]
  },
  {
   "cell_type": "code",
   "execution_count": 9,
   "metadata": {
    "collapsed": true
   },
   "outputs": [
    {
     "name": "stderr",
     "output_type": "stream",
     "text": [
      "/Users/maxwelllee54/anaconda/lib/python3.5/site-packages/sklearn/utils/validation.py:526: DataConversionWarning: A column-vector y was passed when a 1d array was expected. Please change the shape of y to (n_samples, ), for example using ravel().\n  y = column_or_1d(y, warn=True)\n/Users/maxwelllee54/anaconda/lib/python3.5/site-packages/sklearn/utils/validation.py:526: DataConversionWarning: A column-vector y was passed when a 1d array was expected. Please change the shape of y to (n_samples, ), for example using ravel().\n  y = column_or_1d(y, warn=True)\n"
     ]
    },
    {
     "name": "stdout",
     "output_type": "stream",
     "text": [
      "0.798536989729 \t\t 10 \t\t 3\n0.792606698355 \t\t 10 \t\t 4\n"
     ]
    },
    {
     "name": "stderr",
     "output_type": "stream",
     "text": [
      "/Users/maxwelllee54/anaconda/lib/python3.5/site-packages/sklearn/utils/validation.py:526: DataConversionWarning: A column-vector y was passed when a 1d array was expected. Please change the shape of y to (n_samples, ), for example using ravel().\n  y = column_or_1d(y, warn=True)\n/Users/maxwelllee54/anaconda/lib/python3.5/site-packages/sklearn/calibration.py:415: RuntimeWarning: overflow encountered in exp\n  E = np.exp(AB[0] * F + AB[1])\n/Users/maxwelllee54/anaconda/lib/python3.5/site-packages/sklearn/calibration.py:425: RuntimeWarning: overflow encountered in exp\n  E = np.exp(AB[0] * F + AB[1])\n/Users/maxwelllee54/anaconda/lib/python3.5/site-packages/sklearn/calibration.py:427: RuntimeWarning: invalid value encountered in multiply\n  TEP_minus_T1P = P * (T * E - T1)\n/Users/maxwelllee54/anaconda/lib/python3.5/site-packages/sklearn/calibration.py:415: RuntimeWarning: overflow encountered in exp\n  E = np.exp(AB[0] * F + AB[1])\n"
     ]
    },
    {
     "name": "stdout",
     "output_type": "stream",
     "text": [
      "0.570522285158 \t\t 10 \t\t 5\n"
     ]
    },
    {
     "name": "stderr",
     "output_type": "stream",
     "text": [
      "/Users/maxwelllee54/anaconda/lib/python3.5/site-packages/sklearn/utils/validation.py:526: DataConversionWarning: A column-vector y was passed when a 1d array was expected. Please change the shape of y to (n_samples, ), for example using ravel().\n  y = column_or_1d(y, warn=True)\n/Users/maxwelllee54/anaconda/lib/python3.5/site-packages/sklearn/calibration.py:415: RuntimeWarning: overflow encountered in exp\n  E = np.exp(AB[0] * F + AB[1])\n/Users/maxwelllee54/anaconda/lib/python3.5/site-packages/sklearn/calibration.py:425: RuntimeWarning: overflow encountered in exp\n  E = np.exp(AB[0] * F + AB[1])\n/Users/maxwelllee54/anaconda/lib/python3.5/site-packages/sklearn/calibration.py:427: RuntimeWarning: invalid value encountered in multiply\n  TEP_minus_T1P = P * (T * E - T1)\n/Users/maxwelllee54/anaconda/lib/python3.5/site-packages/sklearn/calibration.py:415: RuntimeWarning: overflow encountered in exp\n  E = np.exp(AB[0] * F + AB[1])\n/Users/maxwelllee54/anaconda/lib/python3.5/site-packages/sklearn/utils/validation.py:526: DataConversionWarning: A column-vector y was passed when a 1d array was expected. Please change the shape of y to (n_samples, ), for example using ravel().\n  y = column_or_1d(y, warn=True)\n"
     ]
    },
    {
     "name": "stdout",
     "output_type": "stream",
     "text": [
      "0.580707093108 \t\t 10 \t\t 6\n"
     ]
    },
    {
     "name": "stderr",
     "output_type": "stream",
     "text": [
      "/Users/maxwelllee54/anaconda/lib/python3.5/site-packages/sklearn/calibration.py:415: RuntimeWarning: overflow encountered in exp\n  E = np.exp(AB[0] * F + AB[1])\n/Users/maxwelllee54/anaconda/lib/python3.5/site-packages/sklearn/calibration.py:425: RuntimeWarning: overflow encountered in exp\n  E = np.exp(AB[0] * F + AB[1])\n/Users/maxwelllee54/anaconda/lib/python3.5/site-packages/sklearn/calibration.py:427: RuntimeWarning: invalid value encountered in multiply\n  TEP_minus_T1P = P * (T * E - T1)\n/Users/maxwelllee54/anaconda/lib/python3.5/site-packages/sklearn/calibration.py:415: RuntimeWarning: overflow encountered in exp\n  E = np.exp(AB[0] * F + AB[1])\n/Users/maxwelllee54/anaconda/lib/python3.5/site-packages/sklearn/utils/validation.py:526: DataConversionWarning: A column-vector y was passed when a 1d array was expected. Please change the shape of y to (n_samples, ), for example using ravel().\n  y = column_or_1d(y, warn=True)\n/Users/maxwelllee54/anaconda/lib/python3.5/site-packages/sklearn/calibration.py:415: RuntimeWarning: overflow encountered in exp\n  E = np.exp(AB[0] * F + AB[1])\n/Users/maxwelllee54/anaconda/lib/python3.5/site-packages/sklearn/calibration.py:425: RuntimeWarning: overflow encountered in exp\n  E = np.exp(AB[0] * F + AB[1])\n/Users/maxwelllee54/anaconda/lib/python3.5/site-packages/sklearn/calibration.py:427: RuntimeWarning: invalid value encountered in multiply\n  TEP_minus_T1P = P * (T * E - T1)\n/Users/maxwelllee54/anaconda/lib/python3.5/site-packages/sklearn/calibration.py:415: RuntimeWarning: overflow encountered in exp\n  E = np.exp(AB[0] * F + AB[1])\n/Users/maxwelllee54/anaconda/lib/python3.5/site-packages/sklearn/utils/validation.py:526: DataConversionWarning: A column-vector y was passed when a 1d array was expected. Please change the shape of y to (n_samples, ), for example using ravel().\n  y = column_or_1d(y, warn=True)\n"
     ]
    },
    {
     "name": "stdout",
     "output_type": "stream",
     "text": [
      "0.577952631413 \t\t 10 \t\t 7\n0.600191402688 \t\t 10 \t\t 8\n"
     ]
    },
    {
     "name": "stderr",
     "output_type": "stream",
     "text": [
      "/Users/maxwelllee54/anaconda/lib/python3.5/site-packages/sklearn/calibration.py:415: RuntimeWarning: overflow encountered in exp\n  E = np.exp(AB[0] * F + AB[1])\n/Users/maxwelllee54/anaconda/lib/python3.5/site-packages/sklearn/calibration.py:425: RuntimeWarning: overflow encountered in exp\n  E = np.exp(AB[0] * F + AB[1])\n/Users/maxwelllee54/anaconda/lib/python3.5/site-packages/sklearn/calibration.py:427: RuntimeWarning: invalid value encountered in multiply\n  TEP_minus_T1P = P * (T * E - T1)\n/Users/maxwelllee54/anaconda/lib/python3.5/site-packages/sklearn/calibration.py:415: RuntimeWarning: overflow encountered in exp\n  E = np.exp(AB[0] * F + AB[1])\n/Users/maxwelllee54/anaconda/lib/python3.5/site-packages/sklearn/utils/validation.py:526: DataConversionWarning: A column-vector y was passed when a 1d array was expected. Please change the shape of y to (n_samples, ), for example using ravel().\n  y = column_or_1d(y, warn=True)\n"
     ]
    },
    {
     "name": "stdout",
     "output_type": "stream",
     "text": [
      "0.588330981333 \t\t 10 \t\t 9\n"
     ]
    },
    {
     "name": "stdout",
     "output_type": "stream",
     "text": [
      "0.798536989729 \t\t 11 \t\t 3\n0.792606698595 \t\t 11 \t\t 4\n"
     ]
    },
    {
     "name": "stderr",
     "output_type": "stream",
     "text": [
      "/Users/maxwelllee54/anaconda/lib/python3.5/site-packages/sklearn/utils/validation.py:526: DataConversionWarning: A column-vector y was passed when a 1d array was expected. Please change the shape of y to (n_samples, ), for example using ravel().\n  y = column_or_1d(y, warn=True)\n/Users/maxwelllee54/anaconda/lib/python3.5/site-packages/sklearn/utils/validation.py:526: DataConversionWarning: A column-vector y was passed when a 1d array was expected. Please change the shape of y to (n_samples, ), for example using ravel().\n  y = column_or_1d(y, warn=True)\n/Users/maxwelllee54/anaconda/lib/python3.5/site-packages/sklearn/calibration.py:415: RuntimeWarning: overflow encountered in exp\n  E = np.exp(AB[0] * F + AB[1])\n/Users/maxwelllee54/anaconda/lib/python3.5/site-packages/sklearn/calibration.py:425: RuntimeWarning: overflow encountered in exp\n  E = np.exp(AB[0] * F + AB[1])\n/Users/maxwelllee54/anaconda/lib/python3.5/site-packages/sklearn/calibration.py:427: RuntimeWarning: invalid value encountered in multiply\n  TEP_minus_T1P = P * (T * E - T1)\n/Users/maxwelllee54/anaconda/lib/python3.5/site-packages/sklearn/calibration.py:415: RuntimeWarning: overflow encountered in exp\n  E = np.exp(AB[0] * F + AB[1])\n"
     ]
    },
    {
     "name": "stdout",
     "output_type": "stream",
     "text": [
      "0.570522765956 \t\t 11 \t\t 5\n0.580706944982 \t\t 11 \t\t 6\n0.577952592476 \t\t 11 \t\t 7\n"
     ]
    },
    {
     "name": "stderr",
     "output_type": "stream",
     "text": [
      "/Users/maxwelllee54/anaconda/lib/python3.5/site-packages/sklearn/utils/validation.py:526: DataConversionWarning: A column-vector y was passed when a 1d array was expected. Please change the shape of y to (n_samples, ), for example using ravel().\n  y = column_or_1d(y, warn=True)\n/Users/maxwelllee54/anaconda/lib/python3.5/site-packages/sklearn/calibration.py:415: RuntimeWarning: overflow encountered in exp\n  E = np.exp(AB[0] * F + AB[1])\n/Users/maxwelllee54/anaconda/lib/python3.5/site-packages/sklearn/calibration.py:425: RuntimeWarning: overflow encountered in exp\n  E = np.exp(AB[0] * F + AB[1])\n/Users/maxwelllee54/anaconda/lib/python3.5/site-packages/sklearn/calibration.py:427: RuntimeWarning: invalid value encountered in multiply\n  TEP_minus_T1P = P * (T * E - T1)\n/Users/maxwelllee54/anaconda/lib/python3.5/site-packages/sklearn/calibration.py:415: RuntimeWarning: overflow encountered in exp\n  E = np.exp(AB[0] * F + AB[1])\n/Users/maxwelllee54/anaconda/lib/python3.5/site-packages/sklearn/utils/validation.py:526: DataConversionWarning: A column-vector y was passed when a 1d array was expected. Please change the shape of y to (n_samples, ), for example using ravel().\n  y = column_or_1d(y, warn=True)\n/Users/maxwelllee54/anaconda/lib/python3.5/site-packages/sklearn/calibration.py:415: RuntimeWarning: overflow encountered in exp\n  E = np.exp(AB[0] * F + AB[1])\n/Users/maxwelllee54/anaconda/lib/python3.5/site-packages/sklearn/calibration.py:425: RuntimeWarning: overflow encountered in exp\n  E = np.exp(AB[0] * F + AB[1])\n/Users/maxwelllee54/anaconda/lib/python3.5/site-packages/sklearn/calibration.py:427: RuntimeWarning: invalid value encountered in multiply\n  TEP_minus_T1P = P * (T * E - T1)\n/Users/maxwelllee54/anaconda/lib/python3.5/site-packages/sklearn/calibration.py:415: RuntimeWarning: overflow encountered in exp\n  E = np.exp(AB[0] * F + AB[1])\n/Users/maxwelllee54/anaconda/lib/python3.5/site-packages/sklearn/utils/validation.py:526: DataConversionWarning: A column-vector y was passed when a 1d array was expected. Please change the shape of y to (n_samples, ), for example using ravel().\n  y = column_or_1d(y, warn=True)\n"
     ]
    },
    {
     "name": "stderr",
     "output_type": "stream",
     "text": [
      "/Users/maxwelllee54/anaconda/lib/python3.5/site-packages/sklearn/calibration.py:415: RuntimeWarning: overflow encountered in exp\n  E = np.exp(AB[0] * F + AB[1])\n/Users/maxwelllee54/anaconda/lib/python3.5/site-packages/sklearn/calibration.py:425: RuntimeWarning: overflow encountered in exp\n  E = np.exp(AB[0] * F + AB[1])\n/Users/maxwelllee54/anaconda/lib/python3.5/site-packages/sklearn/calibration.py:427: RuntimeWarning: invalid value encountered in multiply\n  TEP_minus_T1P = P * (T * E - T1)\n/Users/maxwelllee54/anaconda/lib/python3.5/site-packages/sklearn/calibration.py:415: RuntimeWarning: overflow encountered in exp\n  E = np.exp(AB[0] * F + AB[1])\n/Users/maxwelllee54/anaconda/lib/python3.5/site-packages/sklearn/utils/validation.py:526: DataConversionWarning: A column-vector y was passed when a 1d array was expected. Please change the shape of y to (n_samples, ), for example using ravel().\n  y = column_or_1d(y, warn=True)\n/Users/maxwelllee54/anaconda/lib/python3.5/site-packages/sklearn/calibration.py:415: RuntimeWarning: overflow encountered in exp\n  E = np.exp(AB[0] * F + AB[1])\n/Users/maxwelllee54/anaconda/lib/python3.5/site-packages/sklearn/calibration.py:425: RuntimeWarning: overflow encountered in exp\n  E = np.exp(AB[0] * F + AB[1])\n/Users/maxwelllee54/anaconda/lib/python3.5/site-packages/sklearn/calibration.py:427: RuntimeWarning: invalid value encountered in multiply\n  TEP_minus_T1P = P * (T * E - T1)\n/Users/maxwelllee54/anaconda/lib/python3.5/site-packages/sklearn/calibration.py:415: RuntimeWarning: overflow encountered in exp\n  E = np.exp(AB[0] * F + AB[1])\n/Users/maxwelllee54/anaconda/lib/python3.5/site-packages/sklearn/utils/validation.py:526: DataConversionWarning: A column-vector y was passed when a 1d array was expected. Please change the shape of y to (n_samples, ), for example using ravel().\n  y = column_or_1d(y, warn=True)\n"
     ]
    },
    {
     "name": "stdout",
     "output_type": "stream",
     "text": [
      "0.600196707648 \t\t 11 \t\t 8\n0.588328967773 \t\t 11 \t\t 9\n"
     ]
    },
    {
     "name": "stderr",
     "output_type": "stream",
     "text": [
      "/Users/maxwelllee54/anaconda/lib/python3.5/site-packages/sklearn/calibration.py:415: RuntimeWarning: overflow encountered in exp\n  E = np.exp(AB[0] * F + AB[1])\n/Users/maxwelllee54/anaconda/lib/python3.5/site-packages/sklearn/calibration.py:425: RuntimeWarning: overflow encountered in exp\n  E = np.exp(AB[0] * F + AB[1])\n/Users/maxwelllee54/anaconda/lib/python3.5/site-packages/sklearn/calibration.py:427: RuntimeWarning: invalid value encountered in multiply\n  TEP_minus_T1P = P * (T * E - T1)\n/Users/maxwelllee54/anaconda/lib/python3.5/site-packages/sklearn/calibration.py:415: RuntimeWarning: overflow encountered in exp\n  E = np.exp(AB[0] * F + AB[1])\n/Users/maxwelllee54/anaconda/lib/python3.5/site-packages/sklearn/utils/validation.py:526: DataConversionWarning: A column-vector y was passed when a 1d array was expected. Please change the shape of y to (n_samples, ), for example using ravel().\n  y = column_or_1d(y, warn=True)\n/Users/maxwelllee54/anaconda/lib/python3.5/site-packages/sklearn/utils/validation.py:526: DataConversionWarning: A column-vector y was passed when a 1d array was expected. Please change the shape of y to (n_samples, ), for example using ravel().\n  y = column_or_1d(y, warn=True)\n"
     ]
    },
    {
     "name": "stdout",
     "output_type": "stream",
     "text": [
      "0.549781950376 \t\t 11 \t\t 10\n0.798536989729 \t\t 12 \t\t 3\n"
     ]
    },
    {
     "name": "stdout",
     "output_type": "stream",
     "text": [
      "0.792606690248 \t\t 12 \t\t 4\n0.570522624266 \t\t 12 \t\t 5\n0.580707273895 \t\t 12 \t\t 6\n"
     ]
    },
    {
     "name": "stderr",
     "output_type": "stream",
     "text": [
      "/Users/maxwelllee54/anaconda/lib/python3.5/site-packages/sklearn/utils/validation.py:526: DataConversionWarning: A column-vector y was passed when a 1d array was expected. Please change the shape of y to (n_samples, ), for example using ravel().\n  y = column_or_1d(y, warn=True)\n/Users/maxwelllee54/anaconda/lib/python3.5/site-packages/sklearn/calibration.py:415: RuntimeWarning: overflow encountered in exp\n  E = np.exp(AB[0] * F + AB[1])\n/Users/maxwelllee54/anaconda/lib/python3.5/site-packages/sklearn/calibration.py:425: RuntimeWarning: overflow encountered in exp\n  E = np.exp(AB[0] * F + AB[1])\n/Users/maxwelllee54/anaconda/lib/python3.5/site-packages/sklearn/calibration.py:427: RuntimeWarning: invalid value encountered in multiply\n  TEP_minus_T1P = P * (T * E - T1)\n/Users/maxwelllee54/anaconda/lib/python3.5/site-packages/sklearn/calibration.py:415: RuntimeWarning: overflow encountered in exp\n  E = np.exp(AB[0] * F + AB[1])\n/Users/maxwelllee54/anaconda/lib/python3.5/site-packages/sklearn/utils/validation.py:526: DataConversionWarning: A column-vector y was passed when a 1d array was expected. Please change the shape of y to (n_samples, ), for example using ravel().\n  y = column_or_1d(y, warn=True)\n/Users/maxwelllee54/anaconda/lib/python3.5/site-packages/sklearn/calibration.py:415: RuntimeWarning: overflow encountered in exp\n  E = np.exp(AB[0] * F + AB[1])\n/Users/maxwelllee54/anaconda/lib/python3.5/site-packages/sklearn/calibration.py:425: RuntimeWarning: overflow encountered in exp\n  E = np.exp(AB[0] * F + AB[1])\n/Users/maxwelllee54/anaconda/lib/python3.5/site-packages/sklearn/calibration.py:427: RuntimeWarning: invalid value encountered in multiply\n  TEP_minus_T1P = P * (T * E - T1)\n/Users/maxwelllee54/anaconda/lib/python3.5/site-packages/sklearn/calibration.py:415: RuntimeWarning: overflow encountered in exp\n  E = np.exp(AB[0] * F + AB[1])\n/Users/maxwelllee54/anaconda/lib/python3.5/site-packages/sklearn/utils/validation.py:526: DataConversionWarning: A column-vector y was passed when a 1d array was expected. Please change the shape of y to (n_samples, ), for example using ravel().\n  y = column_or_1d(y, warn=True)\n"
     ]
    },
    {
     "name": "stderr",
     "output_type": "stream",
     "text": [
      "/Users/maxwelllee54/anaconda/lib/python3.5/site-packages/sklearn/calibration.py:415: RuntimeWarning: overflow encountered in exp\n  E = np.exp(AB[0] * F + AB[1])\n/Users/maxwelllee54/anaconda/lib/python3.5/site-packages/sklearn/calibration.py:425: RuntimeWarning: overflow encountered in exp\n  E = np.exp(AB[0] * F + AB[1])\n/Users/maxwelllee54/anaconda/lib/python3.5/site-packages/sklearn/calibration.py:427: RuntimeWarning: invalid value encountered in multiply\n  TEP_minus_T1P = P * (T * E - T1)\n/Users/maxwelllee54/anaconda/lib/python3.5/site-packages/sklearn/calibration.py:415: RuntimeWarning: overflow encountered in exp\n  E = np.exp(AB[0] * F + AB[1])\n/Users/maxwelllee54/anaconda/lib/python3.5/site-packages/sklearn/utils/validation.py:526: DataConversionWarning: A column-vector y was passed when a 1d array was expected. Please change the shape of y to (n_samples, ), for example using ravel().\n  y = column_or_1d(y, warn=True)\n/Users/maxwelllee54/anaconda/lib/python3.5/site-packages/sklearn/calibration.py:415: RuntimeWarning: overflow encountered in exp\n  E = np.exp(AB[0] * F + AB[1])\n/Users/maxwelllee54/anaconda/lib/python3.5/site-packages/sklearn/calibration.py:425: RuntimeWarning: overflow encountered in exp\n  E = np.exp(AB[0] * F + AB[1])\n/Users/maxwelllee54/anaconda/lib/python3.5/site-packages/sklearn/calibration.py:427: RuntimeWarning: invalid value encountered in multiply\n  TEP_minus_T1P = P * (T * E - T1)\n/Users/maxwelllee54/anaconda/lib/python3.5/site-packages/sklearn/calibration.py:415: RuntimeWarning: overflow encountered in exp\n  E = np.exp(AB[0] * F + AB[1])\n/Users/maxwelllee54/anaconda/lib/python3.5/site-packages/sklearn/utils/validation.py:526: DataConversionWarning: A column-vector y was passed when a 1d array was expected. Please change the shape of y to (n_samples, ), for example using ravel().\n  y = column_or_1d(y, warn=True)\n"
     ]
    },
    {
     "name": "stdout",
     "output_type": "stream",
     "text": [
      "0.577952696761 \t\t 12 \t\t 7\n0.600192702298 \t\t 12 \t\t 8\n"
     ]
    },
    {
     "name": "stderr",
     "output_type": "stream",
     "text": [
      "/Users/maxwelllee54/anaconda/lib/python3.5/site-packages/sklearn/calibration.py:415: RuntimeWarning: overflow encountered in exp\n  E = np.exp(AB[0] * F + AB[1])\n/Users/maxwelllee54/anaconda/lib/python3.5/site-packages/sklearn/calibration.py:425: RuntimeWarning: overflow encountered in exp\n  E = np.exp(AB[0] * F + AB[1])\n/Users/maxwelllee54/anaconda/lib/python3.5/site-packages/sklearn/calibration.py:427: RuntimeWarning: invalid value encountered in multiply\n  TEP_minus_T1P = P * (T * E - T1)\n/Users/maxwelllee54/anaconda/lib/python3.5/site-packages/sklearn/calibration.py:415: RuntimeWarning: overflow encountered in exp\n  E = np.exp(AB[0] * F + AB[1])\n/Users/maxwelllee54/anaconda/lib/python3.5/site-packages/sklearn/utils/validation.py:526: DataConversionWarning: A column-vector y was passed when a 1d array was expected. Please change the shape of y to (n_samples, ), for example using ravel().\n  y = column_or_1d(y, warn=True)\n/Users/maxwelllee54/anaconda/lib/python3.5/site-packages/sklearn/calibration.py:415: RuntimeWarning: overflow encountered in exp\n  E = np.exp(AB[0] * F + AB[1])\n/Users/maxwelllee54/anaconda/lib/python3.5/site-packages/sklearn/calibration.py:425: RuntimeWarning: overflow encountered in exp\n  E = np.exp(AB[0] * F + AB[1])\n/Users/maxwelllee54/anaconda/lib/python3.5/site-packages/sklearn/calibration.py:427: RuntimeWarning: invalid value encountered in multiply\n  TEP_minus_T1P = P * (T * E - T1)\n/Users/maxwelllee54/anaconda/lib/python3.5/site-packages/sklearn/calibration.py:415: RuntimeWarning: overflow encountered in exp\n  E = np.exp(AB[0] * F + AB[1])\n/Users/maxwelllee54/anaconda/lib/python3.5/site-packages/sklearn/utils/validation.py:526: DataConversionWarning: A column-vector y was passed when a 1d array was expected. Please change the shape of y to (n_samples, ), for example using ravel().\n  y = column_or_1d(y, warn=True)\n"
     ]
    },
    {
     "name": "stdout",
     "output_type": "stream",
     "text": [
      "0.588325865421 \t\t 12 \t\t 9\n0.549779185398 \t\t 12 \t\t 10\n"
     ]
    },
    {
     "name": "stderr",
     "output_type": "stream",
     "text": [
      "/Users/maxwelllee54/anaconda/lib/python3.5/site-packages/sklearn/calibration.py:415: RuntimeWarning: overflow encountered in exp\n  E = np.exp(AB[0] * F + AB[1])\n/Users/maxwelllee54/anaconda/lib/python3.5/site-packages/sklearn/calibration.py:425: RuntimeWarning: overflow encountered in exp\n  E = np.exp(AB[0] * F + AB[1])\n/Users/maxwelllee54/anaconda/lib/python3.5/site-packages/sklearn/calibration.py:427: RuntimeWarning: invalid value encountered in multiply\n  TEP_minus_T1P = P * (T * E - T1)\n/Users/maxwelllee54/anaconda/lib/python3.5/site-packages/sklearn/calibration.py:415: RuntimeWarning: overflow encountered in exp\n  E = np.exp(AB[0] * F + AB[1])\n/Users/maxwelllee54/anaconda/lib/python3.5/site-packages/sklearn/utils/validation.py:526: DataConversionWarning: A column-vector y was passed when a 1d array was expected. Please change the shape of y to (n_samples, ), for example using ravel().\n  y = column_or_1d(y, warn=True)\n/Users/maxwelllee54/anaconda/lib/python3.5/site-packages/sklearn/utils/validation.py:526: DataConversionWarning: A column-vector y was passed when a 1d array was expected. Please change the shape of y to (n_samples, ), for example using ravel().\n  y = column_or_1d(y, warn=True)\n"
     ]
    },
    {
     "name": "stdout",
     "output_type": "stream",
     "text": [
      "0.565755960211 \t\t 12 \t\t 11\n0.798536989729 \t\t 13 \t\t 3\n"
     ]
    },
    {
     "name": "stdout",
     "output_type": "stream",
     "text": [
      "0.792606692765 \t\t 13 \t\t 4\n0.570523198007 \t\t 13 \t\t 5\n"
     ]
    },
    {
     "name": "stderr",
     "output_type": "stream",
     "text": [
      "/Users/maxwelllee54/anaconda/lib/python3.5/site-packages/sklearn/utils/validation.py:526: DataConversionWarning: A column-vector y was passed when a 1d array was expected. Please change the shape of y to (n_samples, ), for example using ravel().\n  y = column_or_1d(y, warn=True)\n/Users/maxwelllee54/anaconda/lib/python3.5/site-packages/sklearn/calibration.py:415: RuntimeWarning: overflow encountered in exp\n  E = np.exp(AB[0] * F + AB[1])\n/Users/maxwelllee54/anaconda/lib/python3.5/site-packages/sklearn/calibration.py:425: RuntimeWarning: overflow encountered in exp\n  E = np.exp(AB[0] * F + AB[1])\n/Users/maxwelllee54/anaconda/lib/python3.5/site-packages/sklearn/calibration.py:427: RuntimeWarning: invalid value encountered in multiply\n  TEP_minus_T1P = P * (T * E - T1)\n/Users/maxwelllee54/anaconda/lib/python3.5/site-packages/sklearn/calibration.py:415: RuntimeWarning: overflow encountered in exp\n  E = np.exp(AB[0] * F + AB[1])\n/Users/maxwelllee54/anaconda/lib/python3.5/site-packages/sklearn/utils/validation.py:526: DataConversionWarning: A column-vector y was passed when a 1d array was expected. Please change the shape of y to (n_samples, ), for example using ravel().\n  y = column_or_1d(y, warn=True)\n"
     ]
    },
    {
     "name": "stderr",
     "output_type": "stream",
     "text": [
      "/Users/maxwelllee54/anaconda/lib/python3.5/site-packages/sklearn/calibration.py:415: RuntimeWarning: overflow encountered in exp\n  E = np.exp(AB[0] * F + AB[1])\n/Users/maxwelllee54/anaconda/lib/python3.5/site-packages/sklearn/calibration.py:425: RuntimeWarning: overflow encountered in exp\n  E = np.exp(AB[0] * F + AB[1])\n/Users/maxwelllee54/anaconda/lib/python3.5/site-packages/sklearn/calibration.py:427: RuntimeWarning: invalid value encountered in multiply\n  TEP_minus_T1P = P * (T * E - T1)\n/Users/maxwelllee54/anaconda/lib/python3.5/site-packages/sklearn/calibration.py:415: RuntimeWarning: overflow encountered in exp\n  E = np.exp(AB[0] * F + AB[1])\n/Users/maxwelllee54/anaconda/lib/python3.5/site-packages/sklearn/utils/validation.py:526: DataConversionWarning: A column-vector y was passed when a 1d array was expected. Please change the shape of y to (n_samples, ), for example using ravel().\n  y = column_or_1d(y, warn=True)\n/Users/maxwelllee54/anaconda/lib/python3.5/site-packages/sklearn/calibration.py:415: RuntimeWarning: overflow encountered in exp\n  E = np.exp(AB[0] * F + AB[1])\n/Users/maxwelllee54/anaconda/lib/python3.5/site-packages/sklearn/calibration.py:425: RuntimeWarning: overflow encountered in exp\n  E = np.exp(AB[0] * F + AB[1])\n/Users/maxwelllee54/anaconda/lib/python3.5/site-packages/sklearn/calibration.py:427: RuntimeWarning: invalid value encountered in multiply\n  TEP_minus_T1P = P * (T * E - T1)\n/Users/maxwelllee54/anaconda/lib/python3.5/site-packages/sklearn/calibration.py:415: RuntimeWarning: overflow encountered in exp\n  E = np.exp(AB[0] * F + AB[1])\n/Users/maxwelllee54/anaconda/lib/python3.5/site-packages/sklearn/utils/validation.py:526: DataConversionWarning: A column-vector y was passed when a 1d array was expected. Please change the shape of y to (n_samples, ), for example using ravel().\n  y = column_or_1d(y, warn=True)\n"
     ]
    },
    {
     "name": "stdout",
     "output_type": "stream",
     "text": [
      "0.580707293173 \t\t 13 \t\t 6\n0.577953530615 \t\t 13 \t\t 7\n"
     ]
    },
    {
     "name": "stderr",
     "output_type": "stream",
     "text": [
      "/Users/maxwelllee54/anaconda/lib/python3.5/site-packages/sklearn/calibration.py:415: RuntimeWarning: overflow encountered in exp\n  E = np.exp(AB[0] * F + AB[1])\n/Users/maxwelllee54/anaconda/lib/python3.5/site-packages/sklearn/calibration.py:425: RuntimeWarning: overflow encountered in exp\n  E = np.exp(AB[0] * F + AB[1])\n/Users/maxwelllee54/anaconda/lib/python3.5/site-packages/sklearn/calibration.py:427: RuntimeWarning: invalid value encountered in multiply\n  TEP_minus_T1P = P * (T * E - T1)\n/Users/maxwelllee54/anaconda/lib/python3.5/site-packages/sklearn/calibration.py:415: RuntimeWarning: overflow encountered in exp\n  E = np.exp(AB[0] * F + AB[1])\n/Users/maxwelllee54/anaconda/lib/python3.5/site-packages/sklearn/utils/validation.py:526: DataConversionWarning: A column-vector y was passed when a 1d array was expected. Please change the shape of y to (n_samples, ), for example using ravel().\n  y = column_or_1d(y, warn=True)\n/Users/maxwelllee54/anaconda/lib/python3.5/site-packages/sklearn/calibration.py:415: RuntimeWarning: overflow encountered in exp\n  E = np.exp(AB[0] * F + AB[1])\n/Users/maxwelllee54/anaconda/lib/python3.5/site-packages/sklearn/calibration.py:425: RuntimeWarning: overflow encountered in exp\n  E = np.exp(AB[0] * F + AB[1])\n/Users/maxwelllee54/anaconda/lib/python3.5/site-packages/sklearn/calibration.py:427: RuntimeWarning: invalid value encountered in multiply\n  TEP_minus_T1P = P * (T * E - T1)\n/Users/maxwelllee54/anaconda/lib/python3.5/site-packages/sklearn/calibration.py:415: RuntimeWarning: overflow encountered in exp\n  E = np.exp(AB[0] * F + AB[1])\n/Users/maxwelllee54/anaconda/lib/python3.5/site-packages/sklearn/utils/validation.py:526: DataConversionWarning: A column-vector y was passed when a 1d array was expected. Please change the shape of y to (n_samples, ), for example using ravel().\n  y = column_or_1d(y, warn=True)\n"
     ]
    },
    {
     "name": "stdout",
     "output_type": "stream",
     "text": [
      "0.600206032547 \t\t 13 \t\t 8\n0.588327503523 \t\t 13 \t\t 9\n"
     ]
    },
    {
     "name": "stderr",
     "output_type": "stream",
     "text": [
      "/Users/maxwelllee54/anaconda/lib/python3.5/site-packages/sklearn/calibration.py:415: RuntimeWarning: overflow encountered in exp\n  E = np.exp(AB[0] * F + AB[1])\n/Users/maxwelllee54/anaconda/lib/python3.5/site-packages/sklearn/calibration.py:425: RuntimeWarning: overflow encountered in exp\n  E = np.exp(AB[0] * F + AB[1])\n/Users/maxwelllee54/anaconda/lib/python3.5/site-packages/sklearn/calibration.py:427: RuntimeWarning: invalid value encountered in multiply\n  TEP_minus_T1P = P * (T * E - T1)\n/Users/maxwelllee54/anaconda/lib/python3.5/site-packages/sklearn/calibration.py:415: RuntimeWarning: overflow encountered in exp\n  E = np.exp(AB[0] * F + AB[1])\n/Users/maxwelllee54/anaconda/lib/python3.5/site-packages/sklearn/utils/validation.py:526: DataConversionWarning: A column-vector y was passed when a 1d array was expected. Please change the shape of y to (n_samples, ), for example using ravel().\n  y = column_or_1d(y, warn=True)\n/Users/maxwelllee54/anaconda/lib/python3.5/site-packages/sklearn/calibration.py:415: RuntimeWarning: overflow encountered in exp\n  E = np.exp(AB[0] * F + AB[1])\n/Users/maxwelllee54/anaconda/lib/python3.5/site-packages/sklearn/calibration.py:425: RuntimeWarning: overflow encountered in exp\n  E = np.exp(AB[0] * F + AB[1])\n/Users/maxwelllee54/anaconda/lib/python3.5/site-packages/sklearn/calibration.py:427: RuntimeWarning: invalid value encountered in multiply\n  TEP_minus_T1P = P * (T * E - T1)\n/Users/maxwelllee54/anaconda/lib/python3.5/site-packages/sklearn/calibration.py:415: RuntimeWarning: overflow encountered in exp\n  E = np.exp(AB[0] * F + AB[1])\n/Users/maxwelllee54/anaconda/lib/python3.5/site-packages/sklearn/utils/validation.py:526: DataConversionWarning: A column-vector y was passed when a 1d array was expected. Please change the shape of y to (n_samples, ), for example using ravel().\n  y = column_or_1d(y, warn=True)\n"
     ]
    },
    {
     "name": "stdout",
     "output_type": "stream",
     "text": [
      "0.549779537009 \t\t 13 \t\t 10\n0.56575382287 \t\t 13 \t\t 11\n"
     ]
    },
    {
     "name": "stderr",
     "output_type": "stream",
     "text": [
      "/Users/maxwelllee54/anaconda/lib/python3.5/site-packages/sklearn/calibration.py:415: RuntimeWarning: overflow encountered in exp\n  E = np.exp(AB[0] * F + AB[1])\n/Users/maxwelllee54/anaconda/lib/python3.5/site-packages/sklearn/calibration.py:425: RuntimeWarning: overflow encountered in exp\n  E = np.exp(AB[0] * F + AB[1])\n/Users/maxwelllee54/anaconda/lib/python3.5/site-packages/sklearn/calibration.py:427: RuntimeWarning: invalid value encountered in multiply\n  TEP_minus_T1P = P * (T * E - T1)\n/Users/maxwelllee54/anaconda/lib/python3.5/site-packages/sklearn/calibration.py:415: RuntimeWarning: overflow encountered in exp\n  E = np.exp(AB[0] * F + AB[1])\n/Users/maxwelllee54/anaconda/lib/python3.5/site-packages/sklearn/utils/validation.py:526: DataConversionWarning: A column-vector y was passed when a 1d array was expected. Please change the shape of y to (n_samples, ), for example using ravel().\n  y = column_or_1d(y, warn=True)\n/Users/maxwelllee54/anaconda/lib/python3.5/site-packages/sklearn/utils/validation.py:526: DataConversionWarning: A column-vector y was passed when a 1d array was expected. Please change the shape of y to (n_samples, ), for example using ravel().\n  y = column_or_1d(y, warn=True)\n"
     ]
    },
    {
     "name": "stdout",
     "output_type": "stream",
     "text": [
      "0.565699282978 \t\t 13 \t\t 12\n0.798536989729 \t\t 14 \t\t 3\n"
     ]
    },
    {
     "name": "stdout",
     "output_type": "stream",
     "text": [
      "0.792606683697 \t\t 14 \t\t 4\n0.570522664979 \t\t 14 \t\t 5\n0.580707174257 \t\t 14 \t\t 6\n"
     ]
    },
    {
     "name": "stderr",
     "output_type": "stream",
     "text": [
      "/Users/maxwelllee54/anaconda/lib/python3.5/site-packages/sklearn/utils/validation.py:526: DataConversionWarning: A column-vector y was passed when a 1d array was expected. Please change the shape of y to (n_samples, ), for example using ravel().\n  y = column_or_1d(y, warn=True)\n/Users/maxwelllee54/anaconda/lib/python3.5/site-packages/sklearn/calibration.py:415: RuntimeWarning: overflow encountered in exp\n  E = np.exp(AB[0] * F + AB[1])\n/Users/maxwelllee54/anaconda/lib/python3.5/site-packages/sklearn/calibration.py:425: RuntimeWarning: overflow encountered in exp\n  E = np.exp(AB[0] * F + AB[1])\n/Users/maxwelllee54/anaconda/lib/python3.5/site-packages/sklearn/calibration.py:427: RuntimeWarning: invalid value encountered in multiply\n  TEP_minus_T1P = P * (T * E - T1)\n/Users/maxwelllee54/anaconda/lib/python3.5/site-packages/sklearn/calibration.py:415: RuntimeWarning: overflow encountered in exp\n  E = np.exp(AB[0] * F + AB[1])\n/Users/maxwelllee54/anaconda/lib/python3.5/site-packages/sklearn/utils/validation.py:526: DataConversionWarning: A column-vector y was passed when a 1d array was expected. Please change the shape of y to (n_samples, ), for example using ravel().\n  y = column_or_1d(y, warn=True)\n/Users/maxwelllee54/anaconda/lib/python3.5/site-packages/sklearn/calibration.py:415: RuntimeWarning: overflow encountered in exp\n  E = np.exp(AB[0] * F + AB[1])\n/Users/maxwelllee54/anaconda/lib/python3.5/site-packages/sklearn/calibration.py:425: RuntimeWarning: overflow encountered in exp\n  E = np.exp(AB[0] * F + AB[1])\n/Users/maxwelllee54/anaconda/lib/python3.5/site-packages/sklearn/calibration.py:427: RuntimeWarning: invalid value encountered in multiply\n  TEP_minus_T1P = P * (T * E - T1)\n/Users/maxwelllee54/anaconda/lib/python3.5/site-packages/sklearn/calibration.py:415: RuntimeWarning: overflow encountered in exp\n  E = np.exp(AB[0] * F + AB[1])\n/Users/maxwelllee54/anaconda/lib/python3.5/site-packages/sklearn/utils/validation.py:526: DataConversionWarning: A column-vector y was passed when a 1d array was expected. Please change the shape of y to (n_samples, ), for example using ravel().\n  y = column_or_1d(y, warn=True)\n"
     ]
    },
    {
     "name": "stderr",
     "output_type": "stream",
     "text": [
      "/Users/maxwelllee54/anaconda/lib/python3.5/site-packages/sklearn/calibration.py:415: RuntimeWarning: overflow encountered in exp\n  E = np.exp(AB[0] * F + AB[1])\n/Users/maxwelllee54/anaconda/lib/python3.5/site-packages/sklearn/calibration.py:425: RuntimeWarning: overflow encountered in exp\n  E = np.exp(AB[0] * F + AB[1])\n/Users/maxwelllee54/anaconda/lib/python3.5/site-packages/sklearn/calibration.py:427: RuntimeWarning: invalid value encountered in multiply\n  TEP_minus_T1P = P * (T * E - T1)\n/Users/maxwelllee54/anaconda/lib/python3.5/site-packages/sklearn/calibration.py:415: RuntimeWarning: overflow encountered in exp\n  E = np.exp(AB[0] * F + AB[1])\n/Users/maxwelllee54/anaconda/lib/python3.5/site-packages/sklearn/utils/validation.py:526: DataConversionWarning: A column-vector y was passed when a 1d array was expected. Please change the shape of y to (n_samples, ), for example using ravel().\n  y = column_or_1d(y, warn=True)\n/Users/maxwelllee54/anaconda/lib/python3.5/site-packages/sklearn/calibration.py:415: RuntimeWarning: overflow encountered in exp\n  E = np.exp(AB[0] * F + AB[1])\n/Users/maxwelllee54/anaconda/lib/python3.5/site-packages/sklearn/calibration.py:425: RuntimeWarning: overflow encountered in exp\n  E = np.exp(AB[0] * F + AB[1])\n/Users/maxwelllee54/anaconda/lib/python3.5/site-packages/sklearn/calibration.py:427: RuntimeWarning: invalid value encountered in multiply\n  TEP_minus_T1P = P * (T * E - T1)\n/Users/maxwelllee54/anaconda/lib/python3.5/site-packages/sklearn/calibration.py:415: RuntimeWarning: overflow encountered in exp\n  E = np.exp(AB[0] * F + AB[1])\n/Users/maxwelllee54/anaconda/lib/python3.5/site-packages/sklearn/utils/validation.py:526: DataConversionWarning: A column-vector y was passed when a 1d array was expected. Please change the shape of y to (n_samples, ), for example using ravel().\n  y = column_or_1d(y, warn=True)\n"
     ]
    },
    {
     "name": "stdout",
     "output_type": "stream",
     "text": [
      "0.577952777736 \t\t 14 \t\t 7\n0.600195438475 \t\t 14 \t\t 8\n"
     ]
    },
    {
     "name": "stderr",
     "output_type": "stream",
     "text": [
      "/Users/maxwelllee54/anaconda/lib/python3.5/site-packages/sklearn/calibration.py:415: RuntimeWarning: overflow encountered in exp\n  E = np.exp(AB[0] * F + AB[1])\n/Users/maxwelllee54/anaconda/lib/python3.5/site-packages/sklearn/calibration.py:425: RuntimeWarning: overflow encountered in exp\n  E = np.exp(AB[0] * F + AB[1])\n/Users/maxwelllee54/anaconda/lib/python3.5/site-packages/sklearn/calibration.py:427: RuntimeWarning: invalid value encountered in multiply\n  TEP_minus_T1P = P * (T * E - T1)\n/Users/maxwelllee54/anaconda/lib/python3.5/site-packages/sklearn/calibration.py:415: RuntimeWarning: overflow encountered in exp\n  E = np.exp(AB[0] * F + AB[1])\n/Users/maxwelllee54/anaconda/lib/python3.5/site-packages/sklearn/utils/validation.py:526: DataConversionWarning: A column-vector y was passed when a 1d array was expected. Please change the shape of y to (n_samples, ), for example using ravel().\n  y = column_or_1d(y, warn=True)\n/Users/maxwelllee54/anaconda/lib/python3.5/site-packages/sklearn/calibration.py:415: RuntimeWarning: overflow encountered in exp\n  E = np.exp(AB[0] * F + AB[1])\n/Users/maxwelllee54/anaconda/lib/python3.5/site-packages/sklearn/calibration.py:425: RuntimeWarning: overflow encountered in exp\n  E = np.exp(AB[0] * F + AB[1])\n/Users/maxwelllee54/anaconda/lib/python3.5/site-packages/sklearn/calibration.py:427: RuntimeWarning: invalid value encountered in multiply\n  TEP_minus_T1P = P * (T * E - T1)\n/Users/maxwelllee54/anaconda/lib/python3.5/site-packages/sklearn/calibration.py:415: RuntimeWarning: overflow encountered in exp\n  E = np.exp(AB[0] * F + AB[1])\n/Users/maxwelllee54/anaconda/lib/python3.5/site-packages/sklearn/utils/validation.py:526: DataConversionWarning: A column-vector y was passed when a 1d array was expected. Please change the shape of y to (n_samples, ), for example using ravel().\n  y = column_or_1d(y, warn=True)\n"
     ]
    },
    {
     "name": "stdout",
     "output_type": "stream",
     "text": [
      "0.588328068861 \t\t 14 \t\t 9\n0.549779469875 \t\t 14 \t\t 10\n"
     ]
    },
    {
     "name": "stderr",
     "output_type": "stream",
     "text": [
      "/Users/maxwelllee54/anaconda/lib/python3.5/site-packages/sklearn/calibration.py:415: RuntimeWarning: overflow encountered in exp\n  E = np.exp(AB[0] * F + AB[1])\n/Users/maxwelllee54/anaconda/lib/python3.5/site-packages/sklearn/calibration.py:425: RuntimeWarning: overflow encountered in exp\n  E = np.exp(AB[0] * F + AB[1])\n/Users/maxwelllee54/anaconda/lib/python3.5/site-packages/sklearn/calibration.py:427: RuntimeWarning: invalid value encountered in multiply\n  TEP_minus_T1P = P * (T * E - T1)\n/Users/maxwelllee54/anaconda/lib/python3.5/site-packages/sklearn/calibration.py:415: RuntimeWarning: overflow encountered in exp\n  E = np.exp(AB[0] * F + AB[1])\n/Users/maxwelllee54/anaconda/lib/python3.5/site-packages/sklearn/utils/validation.py:526: DataConversionWarning: A column-vector y was passed when a 1d array was expected. Please change the shape of y to (n_samples, ), for example using ravel().\n  y = column_or_1d(y, warn=True)\n/Users/maxwelllee54/anaconda/lib/python3.5/site-packages/sklearn/calibration.py:415: RuntimeWarning: overflow encountered in exp\n  E = np.exp(AB[0] * F + AB[1])\n/Users/maxwelllee54/anaconda/lib/python3.5/site-packages/sklearn/calibration.py:425: RuntimeWarning: overflow encountered in exp\n  E = np.exp(AB[0] * F + AB[1])\n/Users/maxwelllee54/anaconda/lib/python3.5/site-packages/sklearn/calibration.py:427: RuntimeWarning: invalid value encountered in multiply\n  TEP_minus_T1P = P * (T * E - T1)\n/Users/maxwelllee54/anaconda/lib/python3.5/site-packages/sklearn/calibration.py:415: RuntimeWarning: overflow encountered in exp\n  E = np.exp(AB[0] * F + AB[1])\n/Users/maxwelllee54/anaconda/lib/python3.5/site-packages/sklearn/utils/validation.py:526: DataConversionWarning: A column-vector y was passed when a 1d array was expected. Please change the shape of y to (n_samples, ), for example using ravel().\n  y = column_or_1d(y, warn=True)\n"
     ]
    },
    {
     "name": "stdout",
     "output_type": "stream",
     "text": [
      "0.565752712924 \t\t 14 \t\t 11\n0.565700542265 \t\t 14 \t\t 12\n"
     ]
    },
    {
     "name": "stderr",
     "output_type": "stream",
     "text": [
      "/Users/maxwelllee54/anaconda/lib/python3.5/site-packages/sklearn/calibration.py:415: RuntimeWarning: overflow encountered in exp\n  E = np.exp(AB[0] * F + AB[1])\n/Users/maxwelllee54/anaconda/lib/python3.5/site-packages/sklearn/calibration.py:425: RuntimeWarning: overflow encountered in exp\n  E = np.exp(AB[0] * F + AB[1])\n/Users/maxwelllee54/anaconda/lib/python3.5/site-packages/sklearn/calibration.py:427: RuntimeWarning: invalid value encountered in multiply\n  TEP_minus_T1P = P * (T * E - T1)\n/Users/maxwelllee54/anaconda/lib/python3.5/site-packages/sklearn/calibration.py:415: RuntimeWarning: overflow encountered in exp\n  E = np.exp(AB[0] * F + AB[1])\n/Users/maxwelllee54/anaconda/lib/python3.5/site-packages/sklearn/utils/validation.py:526: DataConversionWarning: A column-vector y was passed when a 1d array was expected. Please change the shape of y to (n_samples, ), for example using ravel().\n  y = column_or_1d(y, warn=True)\n/Users/maxwelllee54/anaconda/lib/python3.5/site-packages/sklearn/utils/validation.py:526: DataConversionWarning: A column-vector y was passed when a 1d array was expected. Please change the shape of y to (n_samples, ), for example using ravel().\n  y = column_or_1d(y, warn=True)\n"
     ]
    },
    {
     "name": "stdout",
     "output_type": "stream",
     "text": [
      "0.564455319142 \t\t 14 \t\t 13\n0.798536989729 \t\t 15 \t\t 3\n"
     ]
    },
    {
     "name": "stdout",
     "output_type": "stream",
     "text": [
      "0.792606700761 \t\t 15 \t\t 4\n0.570522800672 \t\t 15 \t\t 5\n"
     ]
    },
    {
     "name": "stderr",
     "output_type": "stream",
     "text": [
      "/Users/maxwelllee54/anaconda/lib/python3.5/site-packages/sklearn/utils/validation.py:526: DataConversionWarning: A column-vector y was passed when a 1d array was expected. Please change the shape of y to (n_samples, ), for example using ravel().\n  y = column_or_1d(y, warn=True)\n/Users/maxwelllee54/anaconda/lib/python3.5/site-packages/sklearn/calibration.py:415: RuntimeWarning: overflow encountered in exp\n  E = np.exp(AB[0] * F + AB[1])\n/Users/maxwelllee54/anaconda/lib/python3.5/site-packages/sklearn/calibration.py:425: RuntimeWarning: overflow encountered in exp\n  E = np.exp(AB[0] * F + AB[1])\n/Users/maxwelllee54/anaconda/lib/python3.5/site-packages/sklearn/calibration.py:427: RuntimeWarning: invalid value encountered in multiply\n  TEP_minus_T1P = P * (T * E - T1)\n/Users/maxwelllee54/anaconda/lib/python3.5/site-packages/sklearn/calibration.py:415: RuntimeWarning: overflow encountered in exp\n  E = np.exp(AB[0] * F + AB[1])\n/Users/maxwelllee54/anaconda/lib/python3.5/site-packages/sklearn/utils/validation.py:526: DataConversionWarning: A column-vector y was passed when a 1d array was expected. Please change the shape of y to (n_samples, ), for example using ravel().\n  y = column_or_1d(y, warn=True)\n/Users/maxwelllee54/anaconda/lib/python3.5/site-packages/sklearn/calibration.py:415: RuntimeWarning: overflow encountered in exp\n  E = np.exp(AB[0] * F + AB[1])\n/Users/maxwelllee54/anaconda/lib/python3.5/site-packages/sklearn/calibration.py:425: RuntimeWarning: overflow encountered in exp\n  E = np.exp(AB[0] * F + AB[1])\n/Users/maxwelllee54/anaconda/lib/python3.5/site-packages/sklearn/calibration.py:427: RuntimeWarning: invalid value encountered in multiply\n  TEP_minus_T1P = P * (T * E - T1)\n"
     ]
    },
    {
     "name": "stderr",
     "output_type": "stream",
     "text": [
      "/Users/maxwelllee54/anaconda/lib/python3.5/site-packages/sklearn/calibration.py:415: RuntimeWarning: overflow encountered in exp\n  E = np.exp(AB[0] * F + AB[1])\n/Users/maxwelllee54/anaconda/lib/python3.5/site-packages/sklearn/utils/validation.py:526: DataConversionWarning: A column-vector y was passed when a 1d array was expected. Please change the shape of y to (n_samples, ), for example using ravel().\n  y = column_or_1d(y, warn=True)\n/Users/maxwelllee54/anaconda/lib/python3.5/site-packages/sklearn/calibration.py:415: RuntimeWarning: overflow encountered in exp\n  E = np.exp(AB[0] * F + AB[1])\n/Users/maxwelllee54/anaconda/lib/python3.5/site-packages/sklearn/calibration.py:425: RuntimeWarning: overflow encountered in exp\n  E = np.exp(AB[0] * F + AB[1])\n/Users/maxwelllee54/anaconda/lib/python3.5/site-packages/sklearn/calibration.py:427: RuntimeWarning: invalid value encountered in multiply\n  TEP_minus_T1P = P * (T * E - T1)\n/Users/maxwelllee54/anaconda/lib/python3.5/site-packages/sklearn/calibration.py:415: RuntimeWarning: overflow encountered in exp\n  E = np.exp(AB[0] * F + AB[1])\n/Users/maxwelllee54/anaconda/lib/python3.5/site-packages/sklearn/utils/validation.py:526: DataConversionWarning: A column-vector y was passed when a 1d array was expected. Please change the shape of y to (n_samples, ), for example using ravel().\n  y = column_or_1d(y, warn=True)\n"
     ]
    },
    {
     "name": "stdout",
     "output_type": "stream",
     "text": [
      "0.580706702578 \t\t 15 \t\t 6\n0.577953145222 \t\t 15 \t\t 7\n"
     ]
    },
    {
     "name": "stderr",
     "output_type": "stream",
     "text": [
      "/Users/maxwelllee54/anaconda/lib/python3.5/site-packages/sklearn/calibration.py:415: RuntimeWarning: overflow encountered in exp\n  E = np.exp(AB[0] * F + AB[1])\n/Users/maxwelllee54/anaconda/lib/python3.5/site-packages/sklearn/calibration.py:425: RuntimeWarning: overflow encountered in exp\n  E = np.exp(AB[0] * F + AB[1])\n/Users/maxwelllee54/anaconda/lib/python3.5/site-packages/sklearn/calibration.py:427: RuntimeWarning: invalid value encountered in multiply\n  TEP_minus_T1P = P * (T * E - T1)\n/Users/maxwelllee54/anaconda/lib/python3.5/site-packages/sklearn/calibration.py:415: RuntimeWarning: overflow encountered in exp\n  E = np.exp(AB[0] * F + AB[1])\n/Users/maxwelllee54/anaconda/lib/python3.5/site-packages/sklearn/utils/validation.py:526: DataConversionWarning: A column-vector y was passed when a 1d array was expected. Please change the shape of y to (n_samples, ), for example using ravel().\n  y = column_or_1d(y, warn=True)\n/Users/maxwelllee54/anaconda/lib/python3.5/site-packages/sklearn/calibration.py:415: RuntimeWarning: overflow encountered in exp\n  E = np.exp(AB[0] * F + AB[1])\n/Users/maxwelllee54/anaconda/lib/python3.5/site-packages/sklearn/calibration.py:425: RuntimeWarning: overflow encountered in exp\n  E = np.exp(AB[0] * F + AB[1])\n/Users/maxwelllee54/anaconda/lib/python3.5/site-packages/sklearn/calibration.py:427: RuntimeWarning: invalid value encountered in multiply\n  TEP_minus_T1P = P * (T * E - T1)\n/Users/maxwelllee54/anaconda/lib/python3.5/site-packages/sklearn/calibration.py:415: RuntimeWarning: overflow encountered in exp\n  E = np.exp(AB[0] * F + AB[1])\n/Users/maxwelllee54/anaconda/lib/python3.5/site-packages/sklearn/utils/validation.py:526: DataConversionWarning: A column-vector y was passed when a 1d array was expected. Please change the shape of y to (n_samples, ), for example using ravel().\n  y = column_or_1d(y, warn=True)\n"
     ]
    },
    {
     "name": "stdout",
     "output_type": "stream",
     "text": [
      "0.600196349944 \t\t 15 \t\t 8\n0.588327988839 \t\t 15 \t\t 9\n"
     ]
    },
    {
     "name": "stderr",
     "output_type": "stream",
     "text": [
      "/Users/maxwelllee54/anaconda/lib/python3.5/site-packages/sklearn/calibration.py:415: RuntimeWarning: overflow encountered in exp\n  E = np.exp(AB[0] * F + AB[1])\n/Users/maxwelllee54/anaconda/lib/python3.5/site-packages/sklearn/calibration.py:425: RuntimeWarning: overflow encountered in exp\n  E = np.exp(AB[0] * F + AB[1])\n/Users/maxwelllee54/anaconda/lib/python3.5/site-packages/sklearn/calibration.py:427: RuntimeWarning: invalid value encountered in multiply\n  TEP_minus_T1P = P * (T * E - T1)\n/Users/maxwelllee54/anaconda/lib/python3.5/site-packages/sklearn/calibration.py:415: RuntimeWarning: overflow encountered in exp\n  E = np.exp(AB[0] * F + AB[1])\n/Users/maxwelllee54/anaconda/lib/python3.5/site-packages/sklearn/utils/validation.py:526: DataConversionWarning: A column-vector y was passed when a 1d array was expected. Please change the shape of y to (n_samples, ), for example using ravel().\n  y = column_or_1d(y, warn=True)\n/Users/maxwelllee54/anaconda/lib/python3.5/site-packages/sklearn/calibration.py:415: RuntimeWarning: overflow encountered in exp\n  E = np.exp(AB[0] * F + AB[1])\n/Users/maxwelllee54/anaconda/lib/python3.5/site-packages/sklearn/calibration.py:425: RuntimeWarning: overflow encountered in exp\n  E = np.exp(AB[0] * F + AB[1])\n/Users/maxwelllee54/anaconda/lib/python3.5/site-packages/sklearn/calibration.py:427: RuntimeWarning: invalid value encountered in multiply\n  TEP_minus_T1P = P * (T * E - T1)\n/Users/maxwelllee54/anaconda/lib/python3.5/site-packages/sklearn/calibration.py:415: RuntimeWarning: overflow encountered in exp\n  E = np.exp(AB[0] * F + AB[1])\n/Users/maxwelllee54/anaconda/lib/python3.5/site-packages/sklearn/utils/validation.py:526: DataConversionWarning: A column-vector y was passed when a 1d array was expected. Please change the shape of y to (n_samples, ), for example using ravel().\n  y = column_or_1d(y, warn=True)\n"
     ]
    },
    {
     "name": "stdout",
     "output_type": "stream",
     "text": [
      "0.549775507483 \t\t 15 \t\t 10\n0.565762049103 \t\t 15 \t\t 11\n"
     ]
    },
    {
     "name": "stderr",
     "output_type": "stream",
     "text": [
      "/Users/maxwelllee54/anaconda/lib/python3.5/site-packages/sklearn/calibration.py:415: RuntimeWarning: overflow encountered in exp\n  E = np.exp(AB[0] * F + AB[1])\n/Users/maxwelllee54/anaconda/lib/python3.5/site-packages/sklearn/calibration.py:425: RuntimeWarning: overflow encountered in exp\n  E = np.exp(AB[0] * F + AB[1])\n/Users/maxwelllee54/anaconda/lib/python3.5/site-packages/sklearn/calibration.py:427: RuntimeWarning: invalid value encountered in multiply\n  TEP_minus_T1P = P * (T * E - T1)\n/Users/maxwelllee54/anaconda/lib/python3.5/site-packages/sklearn/calibration.py:415: RuntimeWarning: overflow encountered in exp\n  E = np.exp(AB[0] * F + AB[1])\n/Users/maxwelllee54/anaconda/lib/python3.5/site-packages/sklearn/utils/validation.py:526: DataConversionWarning: A column-vector y was passed when a 1d array was expected. Please change the shape of y to (n_samples, ), for example using ravel().\n  y = column_or_1d(y, warn=True)\n/Users/maxwelllee54/anaconda/lib/python3.5/site-packages/sklearn/calibration.py:415: RuntimeWarning: overflow encountered in exp\n  E = np.exp(AB[0] * F + AB[1])\n/Users/maxwelllee54/anaconda/lib/python3.5/site-packages/sklearn/calibration.py:425: RuntimeWarning: overflow encountered in exp\n  E = np.exp(AB[0] * F + AB[1])\n/Users/maxwelllee54/anaconda/lib/python3.5/site-packages/sklearn/calibration.py:427: RuntimeWarning: invalid value encountered in multiply\n  TEP_minus_T1P = P * (T * E - T1)\n/Users/maxwelllee54/anaconda/lib/python3.5/site-packages/sklearn/calibration.py:415: RuntimeWarning: overflow encountered in exp\n  E = np.exp(AB[0] * F + AB[1])\n/Users/maxwelllee54/anaconda/lib/python3.5/site-packages/sklearn/utils/validation.py:526: DataConversionWarning: A column-vector y was passed when a 1d array was expected. Please change the shape of y to (n_samples, ), for example using ravel().\n  y = column_or_1d(y, warn=True)\n"
     ]
    },
    {
     "name": "stdout",
     "output_type": "stream",
     "text": [
      "0.565700218145 \t\t 15 \t\t 12\n0.5644562437 \t\t 15 \t\t 13\n"
     ]
    },
    {
     "name": "stderr",
     "output_type": "stream",
     "text": [
      "/Users/maxwelllee54/anaconda/lib/python3.5/site-packages/sklearn/calibration.py:415: RuntimeWarning: overflow encountered in exp\n  E = np.exp(AB[0] * F + AB[1])\n/Users/maxwelllee54/anaconda/lib/python3.5/site-packages/sklearn/calibration.py:425: RuntimeWarning: overflow encountered in exp\n  E = np.exp(AB[0] * F + AB[1])\n/Users/maxwelllee54/anaconda/lib/python3.5/site-packages/sklearn/calibration.py:427: RuntimeWarning: invalid value encountered in multiply\n  TEP_minus_T1P = P * (T * E - T1)\n/Users/maxwelllee54/anaconda/lib/python3.5/site-packages/sklearn/calibration.py:415: RuntimeWarning: overflow encountered in exp\n  E = np.exp(AB[0] * F + AB[1])\n/Users/maxwelllee54/anaconda/lib/python3.5/site-packages/sklearn/utils/validation.py:526: DataConversionWarning: A column-vector y was passed when a 1d array was expected. Please change the shape of y to (n_samples, ), for example using ravel().\n  y = column_or_1d(y, warn=True)\n/Users/maxwelllee54/anaconda/lib/python3.5/site-packages/sklearn/utils/validation.py:526: DataConversionWarning: A column-vector y was passed when a 1d array was expected. Please change the shape of y to (n_samples, ), for example using ravel().\n  y = column_or_1d(y, warn=True)\n"
     ]
    },
    {
     "name": "stdout",
     "output_type": "stream",
     "text": [
      "0.566083227234 \t\t 15 \t\t 14\n0.798536989729 \t\t 16 \t\t 3\n"
     ]
    },
    {
     "name": "stdout",
     "output_type": "stream",
     "text": [
      "0.792606678111 \t\t 16 \t\t 4\n0.570522890901 \t\t 16 \t\t 5\n0.580706928228 \t\t 16 \t\t 6\n"
     ]
    },
    {
     "name": "stderr",
     "output_type": "stream",
     "text": [
      "/Users/maxwelllee54/anaconda/lib/python3.5/site-packages/sklearn/utils/validation.py:526: DataConversionWarning: A column-vector y was passed when a 1d array was expected. Please change the shape of y to (n_samples, ), for example using ravel().\n  y = column_or_1d(y, warn=True)\n/Users/maxwelllee54/anaconda/lib/python3.5/site-packages/sklearn/calibration.py:415: RuntimeWarning: overflow encountered in exp\n  E = np.exp(AB[0] * F + AB[1])\n/Users/maxwelllee54/anaconda/lib/python3.5/site-packages/sklearn/calibration.py:425: RuntimeWarning: overflow encountered in exp\n  E = np.exp(AB[0] * F + AB[1])\n/Users/maxwelllee54/anaconda/lib/python3.5/site-packages/sklearn/calibration.py:427: RuntimeWarning: invalid value encountered in multiply\n  TEP_minus_T1P = P * (T * E - T1)\n/Users/maxwelllee54/anaconda/lib/python3.5/site-packages/sklearn/calibration.py:415: RuntimeWarning: overflow encountered in exp\n  E = np.exp(AB[0] * F + AB[1])\n/Users/maxwelllee54/anaconda/lib/python3.5/site-packages/sklearn/utils/validation.py:526: DataConversionWarning: A column-vector y was passed when a 1d array was expected. Please change the shape of y to (n_samples, ), for example using ravel().\n  y = column_or_1d(y, warn=True)\n/Users/maxwelllee54/anaconda/lib/python3.5/site-packages/sklearn/calibration.py:415: RuntimeWarning: overflow encountered in exp\n  E = np.exp(AB[0] * F + AB[1])\n/Users/maxwelllee54/anaconda/lib/python3.5/site-packages/sklearn/calibration.py:425: RuntimeWarning: overflow encountered in exp\n  E = np.exp(AB[0] * F + AB[1])\n/Users/maxwelllee54/anaconda/lib/python3.5/site-packages/sklearn/calibration.py:427: RuntimeWarning: invalid value encountered in multiply\n  TEP_minus_T1P = P * (T * E - T1)\n/Users/maxwelllee54/anaconda/lib/python3.5/site-packages/sklearn/calibration.py:415: RuntimeWarning: overflow encountered in exp\n  E = np.exp(AB[0] * F + AB[1])\n/Users/maxwelllee54/anaconda/lib/python3.5/site-packages/sklearn/utils/validation.py:526: DataConversionWarning: A column-vector y was passed when a 1d array was expected. Please change the shape of y to (n_samples, ), for example using ravel().\n  y = column_or_1d(y, warn=True)\n"
     ]
    },
    {
     "name": "stderr",
     "output_type": "stream",
     "text": [
      "/Users/maxwelllee54/anaconda/lib/python3.5/site-packages/sklearn/calibration.py:415: RuntimeWarning: overflow encountered in exp\n  E = np.exp(AB[0] * F + AB[1])\n/Users/maxwelllee54/anaconda/lib/python3.5/site-packages/sklearn/calibration.py:425: RuntimeWarning: overflow encountered in exp\n  E = np.exp(AB[0] * F + AB[1])\n/Users/maxwelllee54/anaconda/lib/python3.5/site-packages/sklearn/calibration.py:427: RuntimeWarning: invalid value encountered in multiply\n  TEP_minus_T1P = P * (T * E - T1)\n/Users/maxwelllee54/anaconda/lib/python3.5/site-packages/sklearn/calibration.py:415: RuntimeWarning: overflow encountered in exp\n  E = np.exp(AB[0] * F + AB[1])\n/Users/maxwelllee54/anaconda/lib/python3.5/site-packages/sklearn/utils/validation.py:526: DataConversionWarning: A column-vector y was passed when a 1d array was expected. Please change the shape of y to (n_samples, ), for example using ravel().\n  y = column_or_1d(y, warn=True)\n/Users/maxwelllee54/anaconda/lib/python3.5/site-packages/sklearn/calibration.py:415: RuntimeWarning: overflow encountered in exp\n  E = np.exp(AB[0] * F + AB[1])\n/Users/maxwelllee54/anaconda/lib/python3.5/site-packages/sklearn/calibration.py:425: RuntimeWarning: overflow encountered in exp\n  E = np.exp(AB[0] * F + AB[1])\n/Users/maxwelllee54/anaconda/lib/python3.5/site-packages/sklearn/calibration.py:427: RuntimeWarning: invalid value encountered in multiply\n  TEP_minus_T1P = P * (T * E - T1)\n/Users/maxwelllee54/anaconda/lib/python3.5/site-packages/sklearn/calibration.py:415: RuntimeWarning: overflow encountered in exp\n  E = np.exp(AB[0] * F + AB[1])\n/Users/maxwelllee54/anaconda/lib/python3.5/site-packages/sklearn/utils/validation.py:526: DataConversionWarning: A column-vector y was passed when a 1d array was expected. Please change the shape of y to (n_samples, ), for example using ravel().\n  y = column_or_1d(y, warn=True)\n"
     ]
    },
    {
     "name": "stdout",
     "output_type": "stream",
     "text": [
      "0.577952140628 \t\t 16 \t\t 7\n0.600192966118 \t\t 16 \t\t 8\n"
     ]
    },
    {
     "name": "stderr",
     "output_type": "stream",
     "text": [
      "/Users/maxwelllee54/anaconda/lib/python3.5/site-packages/sklearn/calibration.py:415: RuntimeWarning: overflow encountered in exp\n  E = np.exp(AB[0] * F + AB[1])\n/Users/maxwelllee54/anaconda/lib/python3.5/site-packages/sklearn/calibration.py:425: RuntimeWarning: overflow encountered in exp\n  E = np.exp(AB[0] * F + AB[1])\n/Users/maxwelllee54/anaconda/lib/python3.5/site-packages/sklearn/calibration.py:427: RuntimeWarning: invalid value encountered in multiply\n  TEP_minus_T1P = P * (T * E - T1)\n/Users/maxwelllee54/anaconda/lib/python3.5/site-packages/sklearn/calibration.py:415: RuntimeWarning: overflow encountered in exp\n  E = np.exp(AB[0] * F + AB[1])\n/Users/maxwelllee54/anaconda/lib/python3.5/site-packages/sklearn/utils/validation.py:526: DataConversionWarning: A column-vector y was passed when a 1d array was expected. Please change the shape of y to (n_samples, ), for example using ravel().\n  y = column_or_1d(y, warn=True)\n/Users/maxwelllee54/anaconda/lib/python3.5/site-packages/sklearn/calibration.py:415: RuntimeWarning: overflow encountered in exp\n  E = np.exp(AB[0] * F + AB[1])\n/Users/maxwelllee54/anaconda/lib/python3.5/site-packages/sklearn/calibration.py:425: RuntimeWarning: overflow encountered in exp\n  E = np.exp(AB[0] * F + AB[1])\n/Users/maxwelllee54/anaconda/lib/python3.5/site-packages/sklearn/calibration.py:427: RuntimeWarning: invalid value encountered in multiply\n  TEP_minus_T1P = P * (T * E - T1)\n/Users/maxwelllee54/anaconda/lib/python3.5/site-packages/sklearn/calibration.py:415: RuntimeWarning: overflow encountered in exp\n  E = np.exp(AB[0] * F + AB[1])\n/Users/maxwelllee54/anaconda/lib/python3.5/site-packages/sklearn/utils/validation.py:526: DataConversionWarning: A column-vector y was passed when a 1d array was expected. Please change the shape of y to (n_samples, ), for example using ravel().\n  y = column_or_1d(y, warn=True)\n"
     ]
    },
    {
     "name": "stdout",
     "output_type": "stream",
     "text": [
      "0.588327207893 \t\t 16 \t\t 9\n0.549775436581 \t\t 16 \t\t 10\n"
     ]
    },
    {
     "name": "stderr",
     "output_type": "stream",
     "text": [
      "/Users/maxwelllee54/anaconda/lib/python3.5/site-packages/sklearn/calibration.py:415: RuntimeWarning: overflow encountered in exp\n  E = np.exp(AB[0] * F + AB[1])\n/Users/maxwelllee54/anaconda/lib/python3.5/site-packages/sklearn/calibration.py:425: RuntimeWarning: overflow encountered in exp\n  E = np.exp(AB[0] * F + AB[1])\n/Users/maxwelllee54/anaconda/lib/python3.5/site-packages/sklearn/calibration.py:427: RuntimeWarning: invalid value encountered in multiply\n  TEP_minus_T1P = P * (T * E - T1)\n/Users/maxwelllee54/anaconda/lib/python3.5/site-packages/sklearn/calibration.py:415: RuntimeWarning: overflow encountered in exp\n  E = np.exp(AB[0] * F + AB[1])\n/Users/maxwelllee54/anaconda/lib/python3.5/site-packages/sklearn/utils/validation.py:526: DataConversionWarning: A column-vector y was passed when a 1d array was expected. Please change the shape of y to (n_samples, ), for example using ravel().\n  y = column_or_1d(y, warn=True)\n/Users/maxwelllee54/anaconda/lib/python3.5/site-packages/sklearn/calibration.py:415: RuntimeWarning: overflow encountered in exp\n  E = np.exp(AB[0] * F + AB[1])\n/Users/maxwelllee54/anaconda/lib/python3.5/site-packages/sklearn/calibration.py:425: RuntimeWarning: overflow encountered in exp\n  E = np.exp(AB[0] * F + AB[1])\n/Users/maxwelllee54/anaconda/lib/python3.5/site-packages/sklearn/calibration.py:427: RuntimeWarning: invalid value encountered in multiply\n  TEP_minus_T1P = P * (T * E - T1)\n/Users/maxwelllee54/anaconda/lib/python3.5/site-packages/sklearn/calibration.py:415: RuntimeWarning: overflow encountered in exp\n  E = np.exp(AB[0] * F + AB[1])\n/Users/maxwelllee54/anaconda/lib/python3.5/site-packages/sklearn/utils/validation.py:526: DataConversionWarning: A column-vector y was passed when a 1d array was expected. Please change the shape of y to (n_samples, ), for example using ravel().\n  y = column_or_1d(y, warn=True)\n"
     ]
    },
    {
     "name": "stdout",
     "output_type": "stream",
     "text": [
      "0.565758412572 \t\t 16 \t\t 11\n0.565697560011 \t\t 16 \t\t 12\n"
     ]
    },
    {
     "name": "stderr",
     "output_type": "stream",
     "text": [
      "/Users/maxwelllee54/anaconda/lib/python3.5/site-packages/sklearn/calibration.py:415: RuntimeWarning: overflow encountered in exp\n  E = np.exp(AB[0] * F + AB[1])\n/Users/maxwelllee54/anaconda/lib/python3.5/site-packages/sklearn/calibration.py:425: RuntimeWarning: overflow encountered in exp\n  E = np.exp(AB[0] * F + AB[1])\n/Users/maxwelllee54/anaconda/lib/python3.5/site-packages/sklearn/calibration.py:427: RuntimeWarning: invalid value encountered in multiply\n  TEP_minus_T1P = P * (T * E - T1)\n/Users/maxwelllee54/anaconda/lib/python3.5/site-packages/sklearn/calibration.py:415: RuntimeWarning: overflow encountered in exp\n  E = np.exp(AB[0] * F + AB[1])\n/Users/maxwelllee54/anaconda/lib/python3.5/site-packages/sklearn/utils/validation.py:526: DataConversionWarning: A column-vector y was passed when a 1d array was expected. Please change the shape of y to (n_samples, ), for example using ravel().\n  y = column_or_1d(y, warn=True)\n/Users/maxwelllee54/anaconda/lib/python3.5/site-packages/sklearn/calibration.py:415: RuntimeWarning: overflow encountered in exp\n  E = np.exp(AB[0] * F + AB[1])\n/Users/maxwelllee54/anaconda/lib/python3.5/site-packages/sklearn/calibration.py:425: RuntimeWarning: overflow encountered in exp\n  E = np.exp(AB[0] * F + AB[1])\n/Users/maxwelllee54/anaconda/lib/python3.5/site-packages/sklearn/calibration.py:427: RuntimeWarning: invalid value encountered in multiply\n  TEP_minus_T1P = P * (T * E - T1)\n/Users/maxwelllee54/anaconda/lib/python3.5/site-packages/sklearn/calibration.py:415: RuntimeWarning: overflow encountered in exp\n  E = np.exp(AB[0] * F + AB[1])\n/Users/maxwelllee54/anaconda/lib/python3.5/site-packages/sklearn/utils/validation.py:526: DataConversionWarning: A column-vector y was passed when a 1d array was expected. Please change the shape of y to (n_samples, ), for example using ravel().\n  y = column_or_1d(y, warn=True)\n"
     ]
    },
    {
     "name": "stdout",
     "output_type": "stream",
     "text": [
      "0.564461185326 \t\t 16 \t\t 13\n0.566078090354 \t\t 16 \t\t 14\n"
     ]
    },
    {
     "name": "stderr",
     "output_type": "stream",
     "text": [
      "/Users/maxwelllee54/anaconda/lib/python3.5/site-packages/sklearn/calibration.py:415: RuntimeWarning: overflow encountered in exp\n  E = np.exp(AB[0] * F + AB[1])\n/Users/maxwelllee54/anaconda/lib/python3.5/site-packages/sklearn/calibration.py:425: RuntimeWarning: overflow encountered in exp\n  E = np.exp(AB[0] * F + AB[1])\n/Users/maxwelllee54/anaconda/lib/python3.5/site-packages/sklearn/calibration.py:427: RuntimeWarning: invalid value encountered in multiply\n  TEP_minus_T1P = P * (T * E - T1)\n/Users/maxwelllee54/anaconda/lib/python3.5/site-packages/sklearn/calibration.py:415: RuntimeWarning: overflow encountered in exp\n  E = np.exp(AB[0] * F + AB[1])\n/Users/maxwelllee54/anaconda/lib/python3.5/site-packages/sklearn/utils/validation.py:526: DataConversionWarning: A column-vector y was passed when a 1d array was expected. Please change the shape of y to (n_samples, ), for example using ravel().\n  y = column_or_1d(y, warn=True)\n/Users/maxwelllee54/anaconda/lib/python3.5/site-packages/sklearn/utils/validation.py:526: DataConversionWarning: A column-vector y was passed when a 1d array was expected. Please change the shape of y to (n_samples, ), for example using ravel().\n  y = column_or_1d(y, warn=True)\n"
     ]
    },
    {
     "name": "stdout",
     "output_type": "stream",
     "text": [
      "0.570548283953 \t\t 16 \t\t 15\n0.798536989729 \t\t 17 \t\t 3\n"
     ]
    },
    {
     "name": "stdout",
     "output_type": "stream",
     "text": [
      "0.792606678856 \t\t 17 \t\t 4\n0.570522637299 \t\t 17 \t\t 5\n0.580706834515 \t\t 17 \t\t 6\n"
     ]
    },
    {
     "name": "stderr",
     "output_type": "stream",
     "text": [
      "/Users/maxwelllee54/anaconda/lib/python3.5/site-packages/sklearn/utils/validation.py:526: DataConversionWarning: A column-vector y was passed when a 1d array was expected. Please change the shape of y to (n_samples, ), for example using ravel().\n  y = column_or_1d(y, warn=True)\n/Users/maxwelllee54/anaconda/lib/python3.5/site-packages/sklearn/calibration.py:415: RuntimeWarning: overflow encountered in exp\n  E = np.exp(AB[0] * F + AB[1])\n/Users/maxwelllee54/anaconda/lib/python3.5/site-packages/sklearn/calibration.py:425: RuntimeWarning: overflow encountered in exp\n  E = np.exp(AB[0] * F + AB[1])\n/Users/maxwelllee54/anaconda/lib/python3.5/site-packages/sklearn/calibration.py:427: RuntimeWarning: invalid value encountered in multiply\n  TEP_minus_T1P = P * (T * E - T1)\n/Users/maxwelllee54/anaconda/lib/python3.5/site-packages/sklearn/calibration.py:415: RuntimeWarning: overflow encountered in exp\n  E = np.exp(AB[0] * F + AB[1])\n/Users/maxwelllee54/anaconda/lib/python3.5/site-packages/sklearn/utils/validation.py:526: DataConversionWarning: A column-vector y was passed when a 1d array was expected. Please change the shape of y to (n_samples, ), for example using ravel().\n  y = column_or_1d(y, warn=True)\n/Users/maxwelllee54/anaconda/lib/python3.5/site-packages/sklearn/calibration.py:415: RuntimeWarning: overflow encountered in exp\n  E = np.exp(AB[0] * F + AB[1])\n/Users/maxwelllee54/anaconda/lib/python3.5/site-packages/sklearn/calibration.py:425: RuntimeWarning: overflow encountered in exp\n  E = np.exp(AB[0] * F + AB[1])\n/Users/maxwelllee54/anaconda/lib/python3.5/site-packages/sklearn/calibration.py:427: RuntimeWarning: invalid value encountered in multiply\n  TEP_minus_T1P = P * (T * E - T1)\n/Users/maxwelllee54/anaconda/lib/python3.5/site-packages/sklearn/calibration.py:415: RuntimeWarning: overflow encountered in exp\n  E = np.exp(AB[0] * F + AB[1])\n/Users/maxwelllee54/anaconda/lib/python3.5/site-packages/sklearn/utils/validation.py:526: DataConversionWarning: A column-vector y was passed when a 1d array was expected. Please change the shape of y to (n_samples, ), for example using ravel().\n  y = column_or_1d(y, warn=True)\n"
     ]
    },
    {
     "name": "stderr",
     "output_type": "stream",
     "text": [
      "/Users/maxwelllee54/anaconda/lib/python3.5/site-packages/sklearn/calibration.py:415: RuntimeWarning: overflow encountered in exp\n  E = np.exp(AB[0] * F + AB[1])\n/Users/maxwelllee54/anaconda/lib/python3.5/site-packages/sklearn/calibration.py:425: RuntimeWarning: overflow encountered in exp\n  E = np.exp(AB[0] * F + AB[1])\n/Users/maxwelllee54/anaconda/lib/python3.5/site-packages/sklearn/calibration.py:427: RuntimeWarning: invalid value encountered in multiply\n  TEP_minus_T1P = P * (T * E - T1)\n/Users/maxwelllee54/anaconda/lib/python3.5/site-packages/sklearn/calibration.py:415: RuntimeWarning: overflow encountered in exp\n  E = np.exp(AB[0] * F + AB[1])\n/Users/maxwelllee54/anaconda/lib/python3.5/site-packages/sklearn/utils/validation.py:526: DataConversionWarning: A column-vector y was passed when a 1d array was expected. Please change the shape of y to (n_samples, ), for example using ravel().\n  y = column_or_1d(y, warn=True)\n/Users/maxwelllee54/anaconda/lib/python3.5/site-packages/sklearn/calibration.py:415: RuntimeWarning: overflow encountered in exp\n  E = np.exp(AB[0] * F + AB[1])\n/Users/maxwelllee54/anaconda/lib/python3.5/site-packages/sklearn/calibration.py:425: RuntimeWarning: overflow encountered in exp\n  E = np.exp(AB[0] * F + AB[1])\n/Users/maxwelllee54/anaconda/lib/python3.5/site-packages/sklearn/calibration.py:427: RuntimeWarning: invalid value encountered in multiply\n  TEP_minus_T1P = P * (T * E - T1)\n/Users/maxwelllee54/anaconda/lib/python3.5/site-packages/sklearn/calibration.py:415: RuntimeWarning: overflow encountered in exp\n  E = np.exp(AB[0] * F + AB[1])\n/Users/maxwelllee54/anaconda/lib/python3.5/site-packages/sklearn/utils/validation.py:526: DataConversionWarning: A column-vector y was passed when a 1d array was expected. Please change the shape of y to (n_samples, ), for example using ravel().\n  y = column_or_1d(y, warn=True)\n"
     ]
    },
    {
     "name": "stdout",
     "output_type": "stream",
     "text": [
      "0.577953693242 \t\t 17 \t\t 7\n0.600195906516 \t\t 17 \t\t 8\n"
     ]
    },
    {
     "name": "stderr",
     "output_type": "stream",
     "text": [
      "/Users/maxwelllee54/anaconda/lib/python3.5/site-packages/sklearn/calibration.py:415: RuntimeWarning: overflow encountered in exp\n  E = np.exp(AB[0] * F + AB[1])\n/Users/maxwelllee54/anaconda/lib/python3.5/site-packages/sklearn/calibration.py:425: RuntimeWarning: overflow encountered in exp\n  E = np.exp(AB[0] * F + AB[1])\n/Users/maxwelllee54/anaconda/lib/python3.5/site-packages/sklearn/calibration.py:427: RuntimeWarning: invalid value encountered in multiply\n  TEP_minus_T1P = P * (T * E - T1)\n/Users/maxwelllee54/anaconda/lib/python3.5/site-packages/sklearn/calibration.py:415: RuntimeWarning: overflow encountered in exp\n  E = np.exp(AB[0] * F + AB[1])\n/Users/maxwelllee54/anaconda/lib/python3.5/site-packages/sklearn/utils/validation.py:526: DataConversionWarning: A column-vector y was passed when a 1d array was expected. Please change the shape of y to (n_samples, ), for example using ravel().\n  y = column_or_1d(y, warn=True)\n/Users/maxwelllee54/anaconda/lib/python3.5/site-packages/sklearn/calibration.py:415: RuntimeWarning: overflow encountered in exp\n  E = np.exp(AB[0] * F + AB[1])\n/Users/maxwelllee54/anaconda/lib/python3.5/site-packages/sklearn/calibration.py:425: RuntimeWarning: overflow encountered in exp\n  E = np.exp(AB[0] * F + AB[1])\n/Users/maxwelllee54/anaconda/lib/python3.5/site-packages/sklearn/calibration.py:427: RuntimeWarning: invalid value encountered in multiply\n  TEP_minus_T1P = P * (T * E - T1)\n/Users/maxwelllee54/anaconda/lib/python3.5/site-packages/sklearn/calibration.py:415: RuntimeWarning: overflow encountered in exp\n  E = np.exp(AB[0] * F + AB[1])\n/Users/maxwelllee54/anaconda/lib/python3.5/site-packages/sklearn/utils/validation.py:526: DataConversionWarning: A column-vector y was passed when a 1d array was expected. Please change the shape of y to (n_samples, ), for example using ravel().\n  y = column_or_1d(y, warn=True)\n"
     ]
    },
    {
     "name": "stdout",
     "output_type": "stream",
     "text": [
      "0.588327704987 \t\t 17 \t\t 9\n0.549782639804 \t\t 17 \t\t 10\n"
     ]
    },
    {
     "name": "stderr",
     "output_type": "stream",
     "text": [
      "/Users/maxwelllee54/anaconda/lib/python3.5/site-packages/sklearn/calibration.py:415: RuntimeWarning: overflow encountered in exp\n  E = np.exp(AB[0] * F + AB[1])\n/Users/maxwelllee54/anaconda/lib/python3.5/site-packages/sklearn/calibration.py:425: RuntimeWarning: overflow encountered in exp\n  E = np.exp(AB[0] * F + AB[1])\n/Users/maxwelllee54/anaconda/lib/python3.5/site-packages/sklearn/calibration.py:427: RuntimeWarning: invalid value encountered in multiply\n  TEP_minus_T1P = P * (T * E - T1)\n/Users/maxwelllee54/anaconda/lib/python3.5/site-packages/sklearn/calibration.py:415: RuntimeWarning: overflow encountered in exp\n  E = np.exp(AB[0] * F + AB[1])\n/Users/maxwelllee54/anaconda/lib/python3.5/site-packages/sklearn/utils/validation.py:526: DataConversionWarning: A column-vector y was passed when a 1d array was expected. Please change the shape of y to (n_samples, ), for example using ravel().\n  y = column_or_1d(y, warn=True)\n/Users/maxwelllee54/anaconda/lib/python3.5/site-packages/sklearn/calibration.py:415: RuntimeWarning: overflow encountered in exp\n  E = np.exp(AB[0] * F + AB[1])\n/Users/maxwelllee54/anaconda/lib/python3.5/site-packages/sklearn/calibration.py:425: RuntimeWarning: overflow encountered in exp\n  E = np.exp(AB[0] * F + AB[1])\n/Users/maxwelllee54/anaconda/lib/python3.5/site-packages/sklearn/calibration.py:427: RuntimeWarning: invalid value encountered in multiply\n  TEP_minus_T1P = P * (T * E - T1)\n/Users/maxwelllee54/anaconda/lib/python3.5/site-packages/sklearn/calibration.py:415: RuntimeWarning: overflow encountered in exp\n  E = np.exp(AB[0] * F + AB[1])\n/Users/maxwelllee54/anaconda/lib/python3.5/site-packages/sklearn/utils/validation.py:526: DataConversionWarning: A column-vector y was passed when a 1d array was expected. Please change the shape of y to (n_samples, ), for example using ravel().\n  y = column_or_1d(y, warn=True)\n"
     ]
    },
    {
     "name": "stdout",
     "output_type": "stream",
     "text": [
      "0.565750645966 \t\t 17 \t\t 11\n0.565694001149 \t\t 17 \t\t 12\n"
     ]
    },
    {
     "name": "stderr",
     "output_type": "stream",
     "text": [
      "/Users/maxwelllee54/anaconda/lib/python3.5/site-packages/sklearn/calibration.py:415: RuntimeWarning: overflow encountered in exp\n  E = np.exp(AB[0] * F + AB[1])\n/Users/maxwelllee54/anaconda/lib/python3.5/site-packages/sklearn/calibration.py:425: RuntimeWarning: overflow encountered in exp\n  E = np.exp(AB[0] * F + AB[1])\n/Users/maxwelllee54/anaconda/lib/python3.5/site-packages/sklearn/calibration.py:427: RuntimeWarning: invalid value encountered in multiply\n  TEP_minus_T1P = P * (T * E - T1)\n/Users/maxwelllee54/anaconda/lib/python3.5/site-packages/sklearn/calibration.py:415: RuntimeWarning: overflow encountered in exp\n  E = np.exp(AB[0] * F + AB[1])\n/Users/maxwelllee54/anaconda/lib/python3.5/site-packages/sklearn/utils/validation.py:526: DataConversionWarning: A column-vector y was passed when a 1d array was expected. Please change the shape of y to (n_samples, ), for example using ravel().\n  y = column_or_1d(y, warn=True)\n/Users/maxwelllee54/anaconda/lib/python3.5/site-packages/sklearn/calibration.py:415: RuntimeWarning: overflow encountered in exp\n  E = np.exp(AB[0] * F + AB[1])\n/Users/maxwelllee54/anaconda/lib/python3.5/site-packages/sklearn/calibration.py:425: RuntimeWarning: overflow encountered in exp\n  E = np.exp(AB[0] * F + AB[1])\n/Users/maxwelllee54/anaconda/lib/python3.5/site-packages/sklearn/calibration.py:427: RuntimeWarning: invalid value encountered in multiply\n  TEP_minus_T1P = P * (T * E - T1)\n/Users/maxwelllee54/anaconda/lib/python3.5/site-packages/sklearn/calibration.py:415: RuntimeWarning: overflow encountered in exp\n  E = np.exp(AB[0] * F + AB[1])\n/Users/maxwelllee54/anaconda/lib/python3.5/site-packages/sklearn/utils/validation.py:526: DataConversionWarning: A column-vector y was passed when a 1d array was expected. Please change the shape of y to (n_samples, ), for example using ravel().\n  y = column_or_1d(y, warn=True)\n"
     ]
    },
    {
     "name": "stdout",
     "output_type": "stream",
     "text": [
      "0.56446092134 \t\t 17 \t\t 13\n0.566087175551 \t\t 17 \t\t 14\n"
     ]
    },
    {
     "name": "stderr",
     "output_type": "stream",
     "text": [
      "/Users/maxwelllee54/anaconda/lib/python3.5/site-packages/sklearn/calibration.py:415: RuntimeWarning: overflow encountered in exp\n  E = np.exp(AB[0] * F + AB[1])\n/Users/maxwelllee54/anaconda/lib/python3.5/site-packages/sklearn/calibration.py:425: RuntimeWarning: overflow encountered in exp\n  E = np.exp(AB[0] * F + AB[1])\n/Users/maxwelllee54/anaconda/lib/python3.5/site-packages/sklearn/calibration.py:427: RuntimeWarning: invalid value encountered in multiply\n  TEP_minus_T1P = P * (T * E - T1)\n/Users/maxwelllee54/anaconda/lib/python3.5/site-packages/sklearn/calibration.py:415: RuntimeWarning: overflow encountered in exp\n  E = np.exp(AB[0] * F + AB[1])\n/Users/maxwelllee54/anaconda/lib/python3.5/site-packages/sklearn/utils/validation.py:526: DataConversionWarning: A column-vector y was passed when a 1d array was expected. Please change the shape of y to (n_samples, ), for example using ravel().\n  y = column_or_1d(y, warn=True)\n/Users/maxwelllee54/anaconda/lib/python3.5/site-packages/sklearn/calibration.py:415: RuntimeWarning: overflow encountered in exp\n  E = np.exp(AB[0] * F + AB[1])\n/Users/maxwelllee54/anaconda/lib/python3.5/site-packages/sklearn/calibration.py:425: RuntimeWarning: overflow encountered in exp\n  E = np.exp(AB[0] * F + AB[1])\n/Users/maxwelllee54/anaconda/lib/python3.5/site-packages/sklearn/calibration.py:427: RuntimeWarning: invalid value encountered in multiply\n  TEP_minus_T1P = P * (T * E - T1)\n/Users/maxwelllee54/anaconda/lib/python3.5/site-packages/sklearn/calibration.py:415: RuntimeWarning: overflow encountered in exp\n  E = np.exp(AB[0] * F + AB[1])\n"
     ]
    },
    {
     "name": "stdout",
     "output_type": "stream",
     "text": [
      "0.570513545563 \t\t 17 \t\t 15\n0.573785874313 \t\t 17 \t\t 16\n"
     ]
    },
    {
     "name": "stderr",
     "output_type": "stream",
     "text": [
      "/Users/maxwelllee54/anaconda/lib/python3.5/site-packages/sklearn/utils/validation.py:526: DataConversionWarning: A column-vector y was passed when a 1d array was expected. Please change the shape of y to (n_samples, ), for example using ravel().\n  y = column_or_1d(y, warn=True)\n/Users/maxwelllee54/anaconda/lib/python3.5/site-packages/sklearn/utils/validation.py:526: DataConversionWarning: A column-vector y was passed when a 1d array was expected. Please change the shape of y to (n_samples, ), for example using ravel().\n  y = column_or_1d(y, warn=True)\n/Users/maxwelllee54/anaconda/lib/python3.5/site-packages/sklearn/utils/validation.py:526: DataConversionWarning: A column-vector y was passed when a 1d array was expected. Please change the shape of y to (n_samples, ), for example using ravel().\n  y = column_or_1d(y, warn=True)\n"
     ]
    },
    {
     "name": "stdout",
     "output_type": "stream",
     "text": [
      "0.798536989729 \t\t 18 \t\t 3\n0.792606698089 \t\t 18 \t\t 4\n0.570522525815 \t\t 18 \t\t 5\n"
     ]
    },
    {
     "name": "stderr",
     "output_type": "stream",
     "text": [
      "/Users/maxwelllee54/anaconda/lib/python3.5/site-packages/sklearn/calibration.py:415: RuntimeWarning: overflow encountered in exp\n  E = np.exp(AB[0] * F + AB[1])\n/Users/maxwelllee54/anaconda/lib/python3.5/site-packages/sklearn/calibration.py:425: RuntimeWarning: overflow encountered in exp\n  E = np.exp(AB[0] * F + AB[1])\n/Users/maxwelllee54/anaconda/lib/python3.5/site-packages/sklearn/calibration.py:427: RuntimeWarning: invalid value encountered in multiply\n  TEP_minus_T1P = P * (T * E - T1)\n/Users/maxwelllee54/anaconda/lib/python3.5/site-packages/sklearn/calibration.py:415: RuntimeWarning: overflow encountered in exp\n  E = np.exp(AB[0] * F + AB[1])\n/Users/maxwelllee54/anaconda/lib/python3.5/site-packages/sklearn/utils/validation.py:526: DataConversionWarning: A column-vector y was passed when a 1d array was expected. Please change the shape of y to (n_samples, ), for example using ravel().\n  y = column_or_1d(y, warn=True)\n/Users/maxwelllee54/anaconda/lib/python3.5/site-packages/sklearn/calibration.py:415: RuntimeWarning: overflow encountered in exp\n  E = np.exp(AB[0] * F + AB[1])\n/Users/maxwelllee54/anaconda/lib/python3.5/site-packages/sklearn/calibration.py:425: RuntimeWarning: overflow encountered in exp\n  E = np.exp(AB[0] * F + AB[1])\n/Users/maxwelllee54/anaconda/lib/python3.5/site-packages/sklearn/calibration.py:427: RuntimeWarning: invalid value encountered in multiply\n  TEP_minus_T1P = P * (T * E - T1)\n/Users/maxwelllee54/anaconda/lib/python3.5/site-packages/sklearn/calibration.py:415: RuntimeWarning: overflow encountered in exp\n  E = np.exp(AB[0] * F + AB[1])\n/Users/maxwelllee54/anaconda/lib/python3.5/site-packages/sklearn/utils/validation.py:526: DataConversionWarning: A column-vector y was passed when a 1d array was expected. Please change the shape of y to (n_samples, ), for example using ravel().\n  y = column_or_1d(y, warn=True)\n/Users/maxwelllee54/anaconda/lib/python3.5/site-packages/sklearn/calibration.py:415: RuntimeWarning: overflow encountered in exp\n  E = np.exp(AB[0] * F + AB[1])\n/Users/maxwelllee54/anaconda/lib/python3.5/site-packages/sklearn/calibration.py:425: RuntimeWarning: overflow encountered in exp\n  E = np.exp(AB[0] * F + AB[1])\n/Users/maxwelllee54/anaconda/lib/python3.5/site-packages/sklearn/calibration.py:427: RuntimeWarning: invalid value encountered in multiply\n  TEP_minus_T1P = P * (T * E - T1)\n/Users/maxwelllee54/anaconda/lib/python3.5/site-packages/sklearn/calibration.py:415: RuntimeWarning: overflow encountered in exp\n  E = np.exp(AB[0] * F + AB[1])\n"
     ]
    },
    {
     "name": "stdout",
     "output_type": "stream",
     "text": [
      "0.580707713725 \t\t 18 \t\t 6\n0.577952198727 \t\t 18 \t\t 7\n"
     ]
    },
    {
     "name": "stderr",
     "output_type": "stream",
     "text": [
      "/Users/maxwelllee54/anaconda/lib/python3.5/site-packages/sklearn/utils/validation.py:526: DataConversionWarning: A column-vector y was passed when a 1d array was expected. Please change the shape of y to (n_samples, ), for example using ravel().\n  y = column_or_1d(y, warn=True)\n/Users/maxwelllee54/anaconda/lib/python3.5/site-packages/sklearn/calibration.py:415: RuntimeWarning: overflow encountered in exp\n  E = np.exp(AB[0] * F + AB[1])\n/Users/maxwelllee54/anaconda/lib/python3.5/site-packages/sklearn/calibration.py:425: RuntimeWarning: overflow encountered in exp\n  E = np.exp(AB[0] * F + AB[1])\n/Users/maxwelllee54/anaconda/lib/python3.5/site-packages/sklearn/calibration.py:427: RuntimeWarning: invalid value encountered in multiply\n  TEP_minus_T1P = P * (T * E - T1)\n/Users/maxwelllee54/anaconda/lib/python3.5/site-packages/sklearn/calibration.py:415: RuntimeWarning: overflow encountered in exp\n  E = np.exp(AB[0] * F + AB[1])\n/Users/maxwelllee54/anaconda/lib/python3.5/site-packages/sklearn/utils/validation.py:526: DataConversionWarning: A column-vector y was passed when a 1d array was expected. Please change the shape of y to (n_samples, ), for example using ravel().\n  y = column_or_1d(y, warn=True)\n"
     ]
    },
    {
     "name": "stdout",
     "output_type": "stream",
     "text": [
      "0.60019466459 \t\t 18 \t\t 8\n0.588321485608 \t\t 18 \t\t 9\n"
     ]
    },
    {
     "name": "stderr",
     "output_type": "stream",
     "text": [
      "/Users/maxwelllee54/anaconda/lib/python3.5/site-packages/sklearn/calibration.py:415: RuntimeWarning: overflow encountered in exp\n  E = np.exp(AB[0] * F + AB[1])\n/Users/maxwelllee54/anaconda/lib/python3.5/site-packages/sklearn/calibration.py:425: RuntimeWarning: overflow encountered in exp\n  E = np.exp(AB[0] * F + AB[1])\n/Users/maxwelllee54/anaconda/lib/python3.5/site-packages/sklearn/calibration.py:427: RuntimeWarning: invalid value encountered in multiply\n  TEP_minus_T1P = P * (T * E - T1)\n/Users/maxwelllee54/anaconda/lib/python3.5/site-packages/sklearn/calibration.py:415: RuntimeWarning: overflow encountered in exp\n  E = np.exp(AB[0] * F + AB[1])\n/Users/maxwelllee54/anaconda/lib/python3.5/site-packages/sklearn/utils/validation.py:526: DataConversionWarning: A column-vector y was passed when a 1d array was expected. Please change the shape of y to (n_samples, ), for example using ravel().\n  y = column_or_1d(y, warn=True)\n/Users/maxwelllee54/anaconda/lib/python3.5/site-packages/sklearn/calibration.py:415: RuntimeWarning: overflow encountered in exp\n  E = np.exp(AB[0] * F + AB[1])\n/Users/maxwelllee54/anaconda/lib/python3.5/site-packages/sklearn/calibration.py:425: RuntimeWarning: overflow encountered in exp\n  E = np.exp(AB[0] * F + AB[1])\n/Users/maxwelllee54/anaconda/lib/python3.5/site-packages/sklearn/calibration.py:427: RuntimeWarning: invalid value encountered in multiply\n  TEP_minus_T1P = P * (T * E - T1)\n/Users/maxwelllee54/anaconda/lib/python3.5/site-packages/sklearn/calibration.py:415: RuntimeWarning: overflow encountered in exp\n  E = np.exp(AB[0] * F + AB[1])\n/Users/maxwelllee54/anaconda/lib/python3.5/site-packages/sklearn/utils/validation.py:526: DataConversionWarning: A column-vector y was passed when a 1d array was expected. Please change the shape of y to (n_samples, ), for example using ravel().\n  y = column_or_1d(y, warn=True)\n"
     ]
    },
    {
     "name": "stdout",
     "output_type": "stream",
     "text": [
      "0.549779138689 \t\t 18 \t\t 10\n0.565759692031 \t\t 18 \t\t 11\n"
     ]
    },
    {
     "name": "stderr",
     "output_type": "stream",
     "text": [
      "/Users/maxwelllee54/anaconda/lib/python3.5/site-packages/sklearn/calibration.py:415: RuntimeWarning: overflow encountered in exp\n  E = np.exp(AB[0] * F + AB[1])\n/Users/maxwelllee54/anaconda/lib/python3.5/site-packages/sklearn/calibration.py:425: RuntimeWarning: overflow encountered in exp\n  E = np.exp(AB[0] * F + AB[1])\n/Users/maxwelllee54/anaconda/lib/python3.5/site-packages/sklearn/calibration.py:427: RuntimeWarning: invalid value encountered in multiply\n  TEP_minus_T1P = P * (T * E - T1)\n/Users/maxwelllee54/anaconda/lib/python3.5/site-packages/sklearn/calibration.py:415: RuntimeWarning: overflow encountered in exp\n  E = np.exp(AB[0] * F + AB[1])\n/Users/maxwelllee54/anaconda/lib/python3.5/site-packages/sklearn/utils/validation.py:526: DataConversionWarning: A column-vector y was passed when a 1d array was expected. Please change the shape of y to (n_samples, ), for example using ravel().\n  y = column_or_1d(y, warn=True)\n/Users/maxwelllee54/anaconda/lib/python3.5/site-packages/sklearn/calibration.py:415: RuntimeWarning: overflow encountered in exp\n  E = np.exp(AB[0] * F + AB[1])\n/Users/maxwelllee54/anaconda/lib/python3.5/site-packages/sklearn/calibration.py:425: RuntimeWarning: overflow encountered in exp\n  E = np.exp(AB[0] * F + AB[1])\n/Users/maxwelllee54/anaconda/lib/python3.5/site-packages/sklearn/calibration.py:427: RuntimeWarning: invalid value encountered in multiply\n  TEP_minus_T1P = P * (T * E - T1)\n/Users/maxwelllee54/anaconda/lib/python3.5/site-packages/sklearn/calibration.py:415: RuntimeWarning: overflow encountered in exp\n  E = np.exp(AB[0] * F + AB[1])\n/Users/maxwelllee54/anaconda/lib/python3.5/site-packages/sklearn/utils/validation.py:526: DataConversionWarning: A column-vector y was passed when a 1d array was expected. Please change the shape of y to (n_samples, ), for example using ravel().\n  y = column_or_1d(y, warn=True)\n"
     ]
    },
    {
     "name": "stdout",
     "output_type": "stream",
     "text": [
      "0.565692171634 \t\t 18 \t\t 12\n0.564448402709 \t\t 18 \t\t 13\n"
     ]
    },
    {
     "name": "stderr",
     "output_type": "stream",
     "text": [
      "/Users/maxwelllee54/anaconda/lib/python3.5/site-packages/sklearn/calibration.py:415: RuntimeWarning: overflow encountered in exp\n  E = np.exp(AB[0] * F + AB[1])\n/Users/maxwelllee54/anaconda/lib/python3.5/site-packages/sklearn/calibration.py:425: RuntimeWarning: overflow encountered in exp\n  E = np.exp(AB[0] * F + AB[1])\n/Users/maxwelllee54/anaconda/lib/python3.5/site-packages/sklearn/calibration.py:427: RuntimeWarning: invalid value encountered in multiply\n  TEP_minus_T1P = P * (T * E - T1)\n/Users/maxwelllee54/anaconda/lib/python3.5/site-packages/sklearn/calibration.py:415: RuntimeWarning: overflow encountered in exp\n  E = np.exp(AB[0] * F + AB[1])\n/Users/maxwelllee54/anaconda/lib/python3.5/site-packages/sklearn/utils/validation.py:526: DataConversionWarning: A column-vector y was passed when a 1d array was expected. Please change the shape of y to (n_samples, ), for example using ravel().\n  y = column_or_1d(y, warn=True)\n/Users/maxwelllee54/anaconda/lib/python3.5/site-packages/sklearn/calibration.py:415: RuntimeWarning: overflow encountered in exp\n  E = np.exp(AB[0] * F + AB[1])\n/Users/maxwelllee54/anaconda/lib/python3.5/site-packages/sklearn/calibration.py:425: RuntimeWarning: overflow encountered in exp\n  E = np.exp(AB[0] * F + AB[1])\n/Users/maxwelllee54/anaconda/lib/python3.5/site-packages/sklearn/calibration.py:427: RuntimeWarning: invalid value encountered in multiply\n  TEP_minus_T1P = P * (T * E - T1)\n/Users/maxwelllee54/anaconda/lib/python3.5/site-packages/sklearn/calibration.py:415: RuntimeWarning: overflow encountered in exp\n  E = np.exp(AB[0] * F + AB[1])\n"
     ]
    },
    {
     "name": "stdout",
     "output_type": "stream",
     "text": [
      "0.566083711467 \t\t 18 \t\t 14\n0.570520411165 \t\t 18 \t\t 15\n"
     ]
    },
    {
     "name": "stderr",
     "output_type": "stream",
     "text": [
      "/Users/maxwelllee54/anaconda/lib/python3.5/site-packages/sklearn/utils/validation.py:526: DataConversionWarning: A column-vector y was passed when a 1d array was expected. Please change the shape of y to (n_samples, ), for example using ravel().\n  y = column_or_1d(y, warn=True)\n/Users/maxwelllee54/anaconda/lib/python3.5/site-packages/sklearn/calibration.py:415: RuntimeWarning: overflow encountered in exp\n  E = np.exp(AB[0] * F + AB[1])\n/Users/maxwelllee54/anaconda/lib/python3.5/site-packages/sklearn/calibration.py:425: RuntimeWarning: overflow encountered in exp\n  E = np.exp(AB[0] * F + AB[1])\n/Users/maxwelllee54/anaconda/lib/python3.5/site-packages/sklearn/calibration.py:427: RuntimeWarning: invalid value encountered in multiply\n  TEP_minus_T1P = P * (T * E - T1)\n/Users/maxwelllee54/anaconda/lib/python3.5/site-packages/sklearn/calibration.py:415: RuntimeWarning: overflow encountered in exp\n  E = np.exp(AB[0] * F + AB[1])\n/Users/maxwelllee54/anaconda/lib/python3.5/site-packages/sklearn/utils/validation.py:526: DataConversionWarning: A column-vector y was passed when a 1d array was expected. Please change the shape of y to (n_samples, ), for example using ravel().\n  y = column_or_1d(y, warn=True)\n"
     ]
    },
    {
     "name": "stderr",
     "output_type": "stream",
     "text": [
      "/Users/maxwelllee54/anaconda/lib/python3.5/site-packages/sklearn/calibration.py:415: RuntimeWarning: overflow encountered in exp\n  E = np.exp(AB[0] * F + AB[1])\n/Users/maxwelllee54/anaconda/lib/python3.5/site-packages/sklearn/calibration.py:425: RuntimeWarning: overflow encountered in exp\n  E = np.exp(AB[0] * F + AB[1])\n/Users/maxwelllee54/anaconda/lib/python3.5/site-packages/sklearn/calibration.py:427: RuntimeWarning: invalid value encountered in multiply\n  TEP_minus_T1P = P * (T * E - T1)\n/Users/maxwelllee54/anaconda/lib/python3.5/site-packages/sklearn/calibration.py:415: RuntimeWarning: overflow encountered in exp\n  E = np.exp(AB[0] * F + AB[1])\n/Users/maxwelllee54/anaconda/lib/python3.5/site-packages/sklearn/utils/validation.py:526: DataConversionWarning: A column-vector y was passed when a 1d array was expected. Please change the shape of y to (n_samples, ), for example using ravel().\n  y = column_or_1d(y, warn=True)\n/Users/maxwelllee54/anaconda/lib/python3.5/site-packages/sklearn/calibration.py:415: RuntimeWarning: overflow encountered in exp\n  E = np.exp(AB[0] * F + AB[1])\n/Users/maxwelllee54/anaconda/lib/python3.5/site-packages/sklearn/calibration.py:425: RuntimeWarning: overflow encountered in exp\n  E = np.exp(AB[0] * F + AB[1])\n/Users/maxwelllee54/anaconda/lib/python3.5/site-packages/sklearn/calibration.py:427: RuntimeWarning: invalid value encountered in multiply\n  TEP_minus_T1P = P * (T * E - T1)\n/Users/maxwelllee54/anaconda/lib/python3.5/site-packages/sklearn/calibration.py:415: RuntimeWarning: overflow encountered in exp\n  E = np.exp(AB[0] * F + AB[1])\n"
     ]
    },
    {
     "name": "stdout",
     "output_type": "stream",
     "text": [
      "0.573783899193 \t\t 18 \t\t 16\n0.574138893657 \t\t 18 \t\t 17\n"
     ]
    },
    {
     "name": "stderr",
     "output_type": "stream",
     "text": [
      "/Users/maxwelllee54/anaconda/lib/python3.5/site-packages/sklearn/utils/validation.py:526: DataConversionWarning: A column-vector y was passed when a 1d array was expected. Please change the shape of y to (n_samples, ), for example using ravel().\n  y = column_or_1d(y, warn=True)\n/Users/maxwelllee54/anaconda/lib/python3.5/site-packages/sklearn/utils/validation.py:526: DataConversionWarning: A column-vector y was passed when a 1d array was expected. Please change the shape of y to (n_samples, ), for example using ravel().\n  y = column_or_1d(y, warn=True)\n/Users/maxwelllee54/anaconda/lib/python3.5/site-packages/sklearn/utils/validation.py:526: DataConversionWarning: A column-vector y was passed when a 1d array was expected. Please change the shape of y to (n_samples, ), for example using ravel().\n  y = column_or_1d(y, warn=True)\n"
     ]
    },
    {
     "name": "stdout",
     "output_type": "stream",
     "text": [
      "0.798536989729 \t\t 19 \t\t 3\n0.792606694524 \t\t 19 \t\t 4\n0.570522187603 \t\t 19 \t\t 5\n"
     ]
    },
    {
     "name": "stderr",
     "output_type": "stream",
     "text": [
      "/Users/maxwelllee54/anaconda/lib/python3.5/site-packages/sklearn/calibration.py:415: RuntimeWarning: overflow encountered in exp\n  E = np.exp(AB[0] * F + AB[1])\n/Users/maxwelllee54/anaconda/lib/python3.5/site-packages/sklearn/calibration.py:425: RuntimeWarning: overflow encountered in exp\n  E = np.exp(AB[0] * F + AB[1])\n/Users/maxwelllee54/anaconda/lib/python3.5/site-packages/sklearn/calibration.py:427: RuntimeWarning: invalid value encountered in multiply\n  TEP_minus_T1P = P * (T * E - T1)\n/Users/maxwelllee54/anaconda/lib/python3.5/site-packages/sklearn/calibration.py:415: RuntimeWarning: overflow encountered in exp\n  E = np.exp(AB[0] * F + AB[1])\n/Users/maxwelllee54/anaconda/lib/python3.5/site-packages/sklearn/utils/validation.py:526: DataConversionWarning: A column-vector y was passed when a 1d array was expected. Please change the shape of y to (n_samples, ), for example using ravel().\n  y = column_or_1d(y, warn=True)\n/Users/maxwelllee54/anaconda/lib/python3.5/site-packages/sklearn/calibration.py:415: RuntimeWarning: overflow encountered in exp\n  E = np.exp(AB[0] * F + AB[1])\n/Users/maxwelllee54/anaconda/lib/python3.5/site-packages/sklearn/calibration.py:425: RuntimeWarning: overflow encountered in exp\n  E = np.exp(AB[0] * F + AB[1])\n/Users/maxwelllee54/anaconda/lib/python3.5/site-packages/sklearn/calibration.py:427: RuntimeWarning: invalid value encountered in multiply\n  TEP_minus_T1P = P * (T * E - T1)\n/Users/maxwelllee54/anaconda/lib/python3.5/site-packages/sklearn/calibration.py:415: RuntimeWarning: overflow encountered in exp\n  E = np.exp(AB[0] * F + AB[1])\n/Users/maxwelllee54/anaconda/lib/python3.5/site-packages/sklearn/utils/validation.py:526: DataConversionWarning: A column-vector y was passed when a 1d array was expected. Please change the shape of y to (n_samples, ), for example using ravel().\n  y = column_or_1d(y, warn=True)\n"
     ]
    },
    {
     "name": "stdout",
     "output_type": "stream",
     "text": [
      "0.580707712407 \t\t 19 \t\t 6\n0.577951909778 \t\t 19 \t\t 7\n"
     ]
    },
    {
     "name": "stderr",
     "output_type": "stream",
     "text": [
      "/Users/maxwelllee54/anaconda/lib/python3.5/site-packages/sklearn/calibration.py:415: RuntimeWarning: overflow encountered in exp\n  E = np.exp(AB[0] * F + AB[1])\n/Users/maxwelllee54/anaconda/lib/python3.5/site-packages/sklearn/calibration.py:425: RuntimeWarning: overflow encountered in exp\n  E = np.exp(AB[0] * F + AB[1])\n/Users/maxwelllee54/anaconda/lib/python3.5/site-packages/sklearn/calibration.py:427: RuntimeWarning: invalid value encountered in multiply\n  TEP_minus_T1P = P * (T * E - T1)\n/Users/maxwelllee54/anaconda/lib/python3.5/site-packages/sklearn/calibration.py:415: RuntimeWarning: overflow encountered in exp\n  E = np.exp(AB[0] * F + AB[1])\n/Users/maxwelllee54/anaconda/lib/python3.5/site-packages/sklearn/utils/validation.py:526: DataConversionWarning: A column-vector y was passed when a 1d array was expected. Please change the shape of y to (n_samples, ), for example using ravel().\n  y = column_or_1d(y, warn=True)\n/Users/maxwelllee54/anaconda/lib/python3.5/site-packages/sklearn/calibration.py:415: RuntimeWarning: overflow encountered in exp\n  E = np.exp(AB[0] * F + AB[1])\n/Users/maxwelllee54/anaconda/lib/python3.5/site-packages/sklearn/calibration.py:425: RuntimeWarning: overflow encountered in exp\n  E = np.exp(AB[0] * F + AB[1])\n/Users/maxwelllee54/anaconda/lib/python3.5/site-packages/sklearn/calibration.py:427: RuntimeWarning: invalid value encountered in multiply\n  TEP_minus_T1P = P * (T * E - T1)\n/Users/maxwelllee54/anaconda/lib/python3.5/site-packages/sklearn/calibration.py:415: RuntimeWarning: overflow encountered in exp\n  E = np.exp(AB[0] * F + AB[1])\n/Users/maxwelllee54/anaconda/lib/python3.5/site-packages/sklearn/utils/validation.py:526: DataConversionWarning: A column-vector y was passed when a 1d array was expected. Please change the shape of y to (n_samples, ), for example using ravel().\n  y = column_or_1d(y, warn=True)\n"
     ]
    },
    {
     "name": "stdout",
     "output_type": "stream",
     "text": [
      "0.600195355929 \t\t 19 \t\t 8\n0.588327543611 \t\t 19 \t\t 9\n"
     ]
    },
    {
     "name": "stderr",
     "output_type": "stream",
     "text": [
      "/Users/maxwelllee54/anaconda/lib/python3.5/site-packages/sklearn/calibration.py:415: RuntimeWarning: overflow encountered in exp\n  E = np.exp(AB[0] * F + AB[1])\n/Users/maxwelllee54/anaconda/lib/python3.5/site-packages/sklearn/calibration.py:425: RuntimeWarning: overflow encountered in exp\n  E = np.exp(AB[0] * F + AB[1])\n/Users/maxwelllee54/anaconda/lib/python3.5/site-packages/sklearn/calibration.py:427: RuntimeWarning: invalid value encountered in multiply\n  TEP_minus_T1P = P * (T * E - T1)\n/Users/maxwelllee54/anaconda/lib/python3.5/site-packages/sklearn/calibration.py:415: RuntimeWarning: overflow encountered in exp\n  E = np.exp(AB[0] * F + AB[1])\n/Users/maxwelllee54/anaconda/lib/python3.5/site-packages/sklearn/utils/validation.py:526: DataConversionWarning: A column-vector y was passed when a 1d array was expected. Please change the shape of y to (n_samples, ), for example using ravel().\n  y = column_or_1d(y, warn=True)\n/Users/maxwelllee54/anaconda/lib/python3.5/site-packages/sklearn/calibration.py:415: RuntimeWarning: overflow encountered in exp\n  E = np.exp(AB[0] * F + AB[1])\n/Users/maxwelllee54/anaconda/lib/python3.5/site-packages/sklearn/calibration.py:425: RuntimeWarning: overflow encountered in exp\n  E = np.exp(AB[0] * F + AB[1])\n/Users/maxwelllee54/anaconda/lib/python3.5/site-packages/sklearn/calibration.py:427: RuntimeWarning: invalid value encountered in multiply\n  TEP_minus_T1P = P * (T * E - T1)\n/Users/maxwelllee54/anaconda/lib/python3.5/site-packages/sklearn/calibration.py:415: RuntimeWarning: overflow encountered in exp\n  E = np.exp(AB[0] * F + AB[1])\n/Users/maxwelllee54/anaconda/lib/python3.5/site-packages/sklearn/utils/validation.py:526: DataConversionWarning: A column-vector y was passed when a 1d array was expected. Please change the shape of y to (n_samples, ), for example using ravel().\n  y = column_or_1d(y, warn=True)\n"
     ]
    },
    {
     "name": "stdout",
     "output_type": "stream",
     "text": [
      "0.549778093761 \t\t 19 \t\t 10\n0.565756617065 \t\t 19 \t\t 11\n"
     ]
    },
    {
     "name": "stderr",
     "output_type": "stream",
     "text": [
      "/Users/maxwelllee54/anaconda/lib/python3.5/site-packages/sklearn/calibration.py:415: RuntimeWarning: overflow encountered in exp\n  E = np.exp(AB[0] * F + AB[1])\n/Users/maxwelllee54/anaconda/lib/python3.5/site-packages/sklearn/calibration.py:425: RuntimeWarning: overflow encountered in exp\n  E = np.exp(AB[0] * F + AB[1])\n/Users/maxwelllee54/anaconda/lib/python3.5/site-packages/sklearn/calibration.py:427: RuntimeWarning: invalid value encountered in multiply\n  TEP_minus_T1P = P * (T * E - T1)\n/Users/maxwelllee54/anaconda/lib/python3.5/site-packages/sklearn/calibration.py:415: RuntimeWarning: overflow encountered in exp\n  E = np.exp(AB[0] * F + AB[1])\n/Users/maxwelllee54/anaconda/lib/python3.5/site-packages/sklearn/utils/validation.py:526: DataConversionWarning: A column-vector y was passed when a 1d array was expected. Please change the shape of y to (n_samples, ), for example using ravel().\n  y = column_or_1d(y, warn=True)\n/Users/maxwelllee54/anaconda/lib/python3.5/site-packages/sklearn/calibration.py:415: RuntimeWarning: overflow encountered in exp\n  E = np.exp(AB[0] * F + AB[1])\n/Users/maxwelllee54/anaconda/lib/python3.5/site-packages/sklearn/calibration.py:425: RuntimeWarning: overflow encountered in exp\n  E = np.exp(AB[0] * F + AB[1])\n/Users/maxwelllee54/anaconda/lib/python3.5/site-packages/sklearn/calibration.py:427: RuntimeWarning: invalid value encountered in multiply\n  TEP_minus_T1P = P * (T * E - T1)\n/Users/maxwelllee54/anaconda/lib/python3.5/site-packages/sklearn/calibration.py:415: RuntimeWarning: overflow encountered in exp\n  E = np.exp(AB[0] * F + AB[1])\n"
     ]
    },
    {
     "name": "stdout",
     "output_type": "stream",
     "text": [
      "0.56569799655 \t\t 19 \t\t 12\n0.564453077589 \t\t 19 \t\t 13\n"
     ]
    },
    {
     "name": "stderr",
     "output_type": "stream",
     "text": [
      "/Users/maxwelllee54/anaconda/lib/python3.5/site-packages/sklearn/utils/validation.py:526: DataConversionWarning: A column-vector y was passed when a 1d array was expected. Please change the shape of y to (n_samples, ), for example using ravel().\n  y = column_or_1d(y, warn=True)\n/Users/maxwelllee54/anaconda/lib/python3.5/site-packages/sklearn/calibration.py:415: RuntimeWarning: overflow encountered in exp\n  E = np.exp(AB[0] * F + AB[1])\n/Users/maxwelllee54/anaconda/lib/python3.5/site-packages/sklearn/calibration.py:425: RuntimeWarning: overflow encountered in exp\n  E = np.exp(AB[0] * F + AB[1])\n/Users/maxwelllee54/anaconda/lib/python3.5/site-packages/sklearn/calibration.py:427: RuntimeWarning: invalid value encountered in multiply\n  TEP_minus_T1P = P * (T * E - T1)\n/Users/maxwelllee54/anaconda/lib/python3.5/site-packages/sklearn/calibration.py:415: RuntimeWarning: overflow encountered in exp\n  E = np.exp(AB[0] * F + AB[1])\n/Users/maxwelllee54/anaconda/lib/python3.5/site-packages/sklearn/utils/validation.py:526: DataConversionWarning: A column-vector y was passed when a 1d array was expected. Please change the shape of y to (n_samples, ), for example using ravel().\n  y = column_or_1d(y, warn=True)\n"
     ]
    },
    {
     "name": "stderr",
     "output_type": "stream",
     "text": [
      "/Users/maxwelllee54/anaconda/lib/python3.5/site-packages/sklearn/calibration.py:415: RuntimeWarning: overflow encountered in exp\n  E = np.exp(AB[0] * F + AB[1])\n/Users/maxwelllee54/anaconda/lib/python3.5/site-packages/sklearn/calibration.py:425: RuntimeWarning: overflow encountered in exp\n  E = np.exp(AB[0] * F + AB[1])\n/Users/maxwelllee54/anaconda/lib/python3.5/site-packages/sklearn/calibration.py:427: RuntimeWarning: invalid value encountered in multiply\n  TEP_minus_T1P = P * (T * E - T1)\n/Users/maxwelllee54/anaconda/lib/python3.5/site-packages/sklearn/calibration.py:415: RuntimeWarning: overflow encountered in exp\n  E = np.exp(AB[0] * F + AB[1])\n/Users/maxwelllee54/anaconda/lib/python3.5/site-packages/sklearn/utils/validation.py:526: DataConversionWarning: A column-vector y was passed when a 1d array was expected. Please change the shape of y to (n_samples, ), for example using ravel().\n  y = column_or_1d(y, warn=True)\n/Users/maxwelllee54/anaconda/lib/python3.5/site-packages/sklearn/calibration.py:415: RuntimeWarning: overflow encountered in exp\n  E = np.exp(AB[0] * F + AB[1])\n/Users/maxwelllee54/anaconda/lib/python3.5/site-packages/sklearn/calibration.py:425: RuntimeWarning: overflow encountered in exp\n  E = np.exp(AB[0] * F + AB[1])\n/Users/maxwelllee54/anaconda/lib/python3.5/site-packages/sklearn/calibration.py:427: RuntimeWarning: invalid value encountered in multiply\n  TEP_minus_T1P = P * (T * E - T1)\n/Users/maxwelllee54/anaconda/lib/python3.5/site-packages/sklearn/calibration.py:415: RuntimeWarning: overflow encountered in exp\n  E = np.exp(AB[0] * F + AB[1])\n/Users/maxwelllee54/anaconda/lib/python3.5/site-packages/sklearn/utils/validation.py:526: DataConversionWarning: A column-vector y was passed when a 1d array was expected. Please change the shape of y to (n_samples, ), for example using ravel().\n  y = column_or_1d(y, warn=True)\n"
     ]
    },
    {
     "name": "stdout",
     "output_type": "stream",
     "text": [
      "0.566105484247 \t\t 19 \t\t 14\n0.570541754089 \t\t 19 \t\t 15\n"
     ]
    },
    {
     "name": "stderr",
     "output_type": "stream",
     "text": [
      "/Users/maxwelllee54/anaconda/lib/python3.5/site-packages/sklearn/calibration.py:415: RuntimeWarning: overflow encountered in exp\n  E = np.exp(AB[0] * F + AB[1])\n/Users/maxwelllee54/anaconda/lib/python3.5/site-packages/sklearn/calibration.py:425: RuntimeWarning: overflow encountered in exp\n  E = np.exp(AB[0] * F + AB[1])\n/Users/maxwelllee54/anaconda/lib/python3.5/site-packages/sklearn/calibration.py:427: RuntimeWarning: invalid value encountered in multiply\n  TEP_minus_T1P = P * (T * E - T1)\n/Users/maxwelllee54/anaconda/lib/python3.5/site-packages/sklearn/calibration.py:415: RuntimeWarning: overflow encountered in exp\n  E = np.exp(AB[0] * F + AB[1])\n/Users/maxwelllee54/anaconda/lib/python3.5/site-packages/sklearn/utils/validation.py:526: DataConversionWarning: A column-vector y was passed when a 1d array was expected. Please change the shape of y to (n_samples, ), for example using ravel().\n  y = column_or_1d(y, warn=True)\n/Users/maxwelllee54/anaconda/lib/python3.5/site-packages/sklearn/calibration.py:415: RuntimeWarning: overflow encountered in exp\n  E = np.exp(AB[0] * F + AB[1])\n/Users/maxwelllee54/anaconda/lib/python3.5/site-packages/sklearn/calibration.py:425: RuntimeWarning: overflow encountered in exp\n  E = np.exp(AB[0] * F + AB[1])\n/Users/maxwelllee54/anaconda/lib/python3.5/site-packages/sklearn/calibration.py:427: RuntimeWarning: invalid value encountered in multiply\n  TEP_minus_T1P = P * (T * E - T1)\n/Users/maxwelllee54/anaconda/lib/python3.5/site-packages/sklearn/calibration.py:415: RuntimeWarning: overflow encountered in exp\n  E = np.exp(AB[0] * F + AB[1])\n/Users/maxwelllee54/anaconda/lib/python3.5/site-packages/sklearn/utils/validation.py:526: DataConversionWarning: A column-vector y was passed when a 1d array was expected. Please change the shape of y to (n_samples, ), for example using ravel().\n  y = column_or_1d(y, warn=True)\n"
     ]
    },
    {
     "name": "stdout",
     "output_type": "stream",
     "text": [
      "0.573784439377 \t\t 19 \t\t 16\n0.574141239442 \t\t 19 \t\t 17\n"
     ]
    },
    {
     "name": "stderr",
     "output_type": "stream",
     "text": [
      "/Users/maxwelllee54/anaconda/lib/python3.5/site-packages/sklearn/calibration.py:415: RuntimeWarning: overflow encountered in exp\n  E = np.exp(AB[0] * F + AB[1])\n/Users/maxwelllee54/anaconda/lib/python3.5/site-packages/sklearn/calibration.py:425: RuntimeWarning: overflow encountered in exp\n  E = np.exp(AB[0] * F + AB[1])\n/Users/maxwelllee54/anaconda/lib/python3.5/site-packages/sklearn/calibration.py:427: RuntimeWarning: invalid value encountered in multiply\n  TEP_minus_T1P = P * (T * E - T1)\n/Users/maxwelllee54/anaconda/lib/python3.5/site-packages/sklearn/calibration.py:415: RuntimeWarning: overflow encountered in exp\n  E = np.exp(AB[0] * F + AB[1])\n/Users/maxwelllee54/anaconda/lib/python3.5/site-packages/sklearn/utils/validation.py:526: DataConversionWarning: A column-vector y was passed when a 1d array was expected. Please change the shape of y to (n_samples, ), for example using ravel().\n  y = column_or_1d(y, warn=True)\n/Users/maxwelllee54/anaconda/lib/python3.5/site-packages/sklearn/utils/validation.py:526: DataConversionWarning: A column-vector y was passed when a 1d array was expected. Please change the shape of y to (n_samples, ), for example using ravel().\n  y = column_or_1d(y, warn=True)\n"
     ]
    },
    {
     "name": "stdout",
     "output_type": "stream",
     "text": [
      "0.577020288327 \t\t 19 \t\t 18\n0.798536989729 \t\t 20 \t\t 3\n"
     ]
    },
    {
     "name": "stdout",
     "output_type": "stream",
     "text": [
      "0.792606700196 \t\t 20 \t\t 4\n0.570524046526 \t\t 20 \t\t 5\n0.580707754039 \t\t 20 \t\t 6\n"
     ]
    },
    {
     "name": "stderr",
     "output_type": "stream",
     "text": [
      "/Users/maxwelllee54/anaconda/lib/python3.5/site-packages/sklearn/utils/validation.py:526: DataConversionWarning: A column-vector y was passed when a 1d array was expected. Please change the shape of y to (n_samples, ), for example using ravel().\n  y = column_or_1d(y, warn=True)\n/Users/maxwelllee54/anaconda/lib/python3.5/site-packages/sklearn/calibration.py:415: RuntimeWarning: overflow encountered in exp\n  E = np.exp(AB[0] * F + AB[1])\n/Users/maxwelllee54/anaconda/lib/python3.5/site-packages/sklearn/calibration.py:425: RuntimeWarning: overflow encountered in exp\n  E = np.exp(AB[0] * F + AB[1])\n/Users/maxwelllee54/anaconda/lib/python3.5/site-packages/sklearn/calibration.py:427: RuntimeWarning: invalid value encountered in multiply\n  TEP_minus_T1P = P * (T * E - T1)\n/Users/maxwelllee54/anaconda/lib/python3.5/site-packages/sklearn/calibration.py:415: RuntimeWarning: overflow encountered in exp\n  E = np.exp(AB[0] * F + AB[1])\n/Users/maxwelllee54/anaconda/lib/python3.5/site-packages/sklearn/utils/validation.py:526: DataConversionWarning: A column-vector y was passed when a 1d array was expected. Please change the shape of y to (n_samples, ), for example using ravel().\n  y = column_or_1d(y, warn=True)\n/Users/maxwelllee54/anaconda/lib/python3.5/site-packages/sklearn/calibration.py:415: RuntimeWarning: overflow encountered in exp\n  E = np.exp(AB[0] * F + AB[1])\n/Users/maxwelllee54/anaconda/lib/python3.5/site-packages/sklearn/calibration.py:425: RuntimeWarning: overflow encountered in exp\n  E = np.exp(AB[0] * F + AB[1])\n/Users/maxwelllee54/anaconda/lib/python3.5/site-packages/sklearn/calibration.py:427: RuntimeWarning: invalid value encountered in multiply\n  TEP_minus_T1P = P * (T * E - T1)\n/Users/maxwelllee54/anaconda/lib/python3.5/site-packages/sklearn/calibration.py:415: RuntimeWarning: overflow encountered in exp\n  E = np.exp(AB[0] * F + AB[1])\n/Users/maxwelllee54/anaconda/lib/python3.5/site-packages/sklearn/utils/validation.py:526: DataConversionWarning: A column-vector y was passed when a 1d array was expected. Please change the shape of y to (n_samples, ), for example using ravel().\n  y = column_or_1d(y, warn=True)\n"
     ]
    },
    {
     "name": "stderr",
     "output_type": "stream",
     "text": [
      "/Users/maxwelllee54/anaconda/lib/python3.5/site-packages/sklearn/calibration.py:415: RuntimeWarning: overflow encountered in exp\n  E = np.exp(AB[0] * F + AB[1])\n/Users/maxwelllee54/anaconda/lib/python3.5/site-packages/sklearn/calibration.py:425: RuntimeWarning: overflow encountered in exp\n  E = np.exp(AB[0] * F + AB[1])\n/Users/maxwelllee54/anaconda/lib/python3.5/site-packages/sklearn/calibration.py:427: RuntimeWarning: invalid value encountered in multiply\n  TEP_minus_T1P = P * (T * E - T1)\n/Users/maxwelllee54/anaconda/lib/python3.5/site-packages/sklearn/calibration.py:415: RuntimeWarning: overflow encountered in exp\n  E = np.exp(AB[0] * F + AB[1])\n/Users/maxwelllee54/anaconda/lib/python3.5/site-packages/sklearn/utils/validation.py:526: DataConversionWarning: A column-vector y was passed when a 1d array was expected. Please change the shape of y to (n_samples, ), for example using ravel().\n  y = column_or_1d(y, warn=True)\n/Users/maxwelllee54/anaconda/lib/python3.5/site-packages/sklearn/calibration.py:415: RuntimeWarning: overflow encountered in exp\n  E = np.exp(AB[0] * F + AB[1])\n/Users/maxwelllee54/anaconda/lib/python3.5/site-packages/sklearn/calibration.py:425: RuntimeWarning: overflow encountered in exp\n  E = np.exp(AB[0] * F + AB[1])\n/Users/maxwelllee54/anaconda/lib/python3.5/site-packages/sklearn/calibration.py:427: RuntimeWarning: invalid value encountered in multiply\n  TEP_minus_T1P = P * (T * E - T1)\n/Users/maxwelllee54/anaconda/lib/python3.5/site-packages/sklearn/calibration.py:415: RuntimeWarning: overflow encountered in exp\n  E = np.exp(AB[0] * F + AB[1])\n/Users/maxwelllee54/anaconda/lib/python3.5/site-packages/sklearn/utils/validation.py:526: DataConversionWarning: A column-vector y was passed when a 1d array was expected. Please change the shape of y to (n_samples, ), for example using ravel().\n  y = column_or_1d(y, warn=True)\n/Users/maxwelllee54/anaconda/lib/python3.5/site-packages/sklearn/calibration.py:415: RuntimeWarning: overflow encountered in exp\n  E = np.exp(AB[0] * F + AB[1])\n/Users/maxwelllee54/anaconda/lib/python3.5/site-packages/sklearn/calibration.py:425: RuntimeWarning: overflow encountered in exp\n  E = np.exp(AB[0] * F + AB[1])\n/Users/maxwelllee54/anaconda/lib/python3.5/site-packages/sklearn/calibration.py:427: RuntimeWarning: invalid value encountered in multiply\n  TEP_minus_T1P = P * (T * E - T1)\n"
     ]
    },
    {
     "name": "stdout",
     "output_type": "stream",
     "text": [
      "0.577949072935 \t\t 20 \t\t 7\n0.600198146166 \t\t 20 \t\t 8\n"
     ]
    },
    {
     "name": "stderr",
     "output_type": "stream",
     "text": [
      "/Users/maxwelllee54/anaconda/lib/python3.5/site-packages/sklearn/calibration.py:415: RuntimeWarning: overflow encountered in exp\n  E = np.exp(AB[0] * F + AB[1])\n/Users/maxwelllee54/anaconda/lib/python3.5/site-packages/sklearn/utils/validation.py:526: DataConversionWarning: A column-vector y was passed when a 1d array was expected. Please change the shape of y to (n_samples, ), for example using ravel().\n  y = column_or_1d(y, warn=True)\n/Users/maxwelllee54/anaconda/lib/python3.5/site-packages/sklearn/calibration.py:415: RuntimeWarning: overflow encountered in exp\n  E = np.exp(AB[0] * F + AB[1])\n/Users/maxwelllee54/anaconda/lib/python3.5/site-packages/sklearn/calibration.py:425: RuntimeWarning: overflow encountered in exp\n  E = np.exp(AB[0] * F + AB[1])\n/Users/maxwelllee54/anaconda/lib/python3.5/site-packages/sklearn/calibration.py:427: RuntimeWarning: invalid value encountered in multiply\n  TEP_minus_T1P = P * (T * E - T1)\n/Users/maxwelllee54/anaconda/lib/python3.5/site-packages/sklearn/calibration.py:415: RuntimeWarning: overflow encountered in exp\n  E = np.exp(AB[0] * F + AB[1])\n/Users/maxwelllee54/anaconda/lib/python3.5/site-packages/sklearn/utils/validation.py:526: DataConversionWarning: A column-vector y was passed when a 1d array was expected. Please change the shape of y to (n_samples, ), for example using ravel().\n  y = column_or_1d(y, warn=True)\n"
     ]
    },
    {
     "name": "stdout",
     "output_type": "stream",
     "text": [
      "0.588327025942 \t\t 20 \t\t 9\n0.549773927673 \t\t 20 \t\t 10\n"
     ]
    },
    {
     "name": "stderr",
     "output_type": "stream",
     "text": [
      "/Users/maxwelllee54/anaconda/lib/python3.5/site-packages/sklearn/calibration.py:415: RuntimeWarning: overflow encountered in exp\n  E = np.exp(AB[0] * F + AB[1])\n/Users/maxwelllee54/anaconda/lib/python3.5/site-packages/sklearn/calibration.py:425: RuntimeWarning: overflow encountered in exp\n  E = np.exp(AB[0] * F + AB[1])\n/Users/maxwelllee54/anaconda/lib/python3.5/site-packages/sklearn/calibration.py:427: RuntimeWarning: invalid value encountered in multiply\n  TEP_minus_T1P = P * (T * E - T1)\n/Users/maxwelllee54/anaconda/lib/python3.5/site-packages/sklearn/calibration.py:415: RuntimeWarning: overflow encountered in exp\n  E = np.exp(AB[0] * F + AB[1])\n/Users/maxwelllee54/anaconda/lib/python3.5/site-packages/sklearn/utils/validation.py:526: DataConversionWarning: A column-vector y was passed when a 1d array was expected. Please change the shape of y to (n_samples, ), for example using ravel().\n  y = column_or_1d(y, warn=True)\n/Users/maxwelllee54/anaconda/lib/python3.5/site-packages/sklearn/calibration.py:415: RuntimeWarning: overflow encountered in exp\n  E = np.exp(AB[0] * F + AB[1])\n/Users/maxwelllee54/anaconda/lib/python3.5/site-packages/sklearn/calibration.py:425: RuntimeWarning: overflow encountered in exp\n  E = np.exp(AB[0] * F + AB[1])\n/Users/maxwelllee54/anaconda/lib/python3.5/site-packages/sklearn/calibration.py:427: RuntimeWarning: invalid value encountered in multiply\n  TEP_minus_T1P = P * (T * E - T1)\n/Users/maxwelllee54/anaconda/lib/python3.5/site-packages/sklearn/calibration.py:415: RuntimeWarning: overflow encountered in exp\n  E = np.exp(AB[0] * F + AB[1])\n/Users/maxwelllee54/anaconda/lib/python3.5/site-packages/sklearn/utils/validation.py:526: DataConversionWarning: A column-vector y was passed when a 1d array was expected. Please change the shape of y to (n_samples, ), for example using ravel().\n  y = column_or_1d(y, warn=True)\n"
     ]
    },
    {
     "name": "stdout",
     "output_type": "stream",
     "text": [
      "0.565754159748 \t\t 20 \t\t 11\n0.56569861016 \t\t 20 \t\t 12\n"
     ]
    },
    {
     "name": "stderr",
     "output_type": "stream",
     "text": [
      "/Users/maxwelllee54/anaconda/lib/python3.5/site-packages/sklearn/calibration.py:415: RuntimeWarning: overflow encountered in exp\n  E = np.exp(AB[0] * F + AB[1])\n/Users/maxwelllee54/anaconda/lib/python3.5/site-packages/sklearn/calibration.py:425: RuntimeWarning: overflow encountered in exp\n  E = np.exp(AB[0] * F + AB[1])\n/Users/maxwelllee54/anaconda/lib/python3.5/site-packages/sklearn/calibration.py:427: RuntimeWarning: invalid value encountered in multiply\n  TEP_minus_T1P = P * (T * E - T1)\n/Users/maxwelllee54/anaconda/lib/python3.5/site-packages/sklearn/calibration.py:415: RuntimeWarning: overflow encountered in exp\n  E = np.exp(AB[0] * F + AB[1])\n/Users/maxwelllee54/anaconda/lib/python3.5/site-packages/sklearn/utils/validation.py:526: DataConversionWarning: A column-vector y was passed when a 1d array was expected. Please change the shape of y to (n_samples, ), for example using ravel().\n  y = column_or_1d(y, warn=True)\n/Users/maxwelllee54/anaconda/lib/python3.5/site-packages/sklearn/calibration.py:415: RuntimeWarning: overflow encountered in exp\n  E = np.exp(AB[0] * F + AB[1])\n/Users/maxwelllee54/anaconda/lib/python3.5/site-packages/sklearn/calibration.py:425: RuntimeWarning: overflow encountered in exp\n  E = np.exp(AB[0] * F + AB[1])\n/Users/maxwelllee54/anaconda/lib/python3.5/site-packages/sklearn/calibration.py:427: RuntimeWarning: invalid value encountered in multiply\n  TEP_minus_T1P = P * (T * E - T1)\n/Users/maxwelllee54/anaconda/lib/python3.5/site-packages/sklearn/calibration.py:415: RuntimeWarning: overflow encountered in exp\n  E = np.exp(AB[0] * F + AB[1])\n/Users/maxwelllee54/anaconda/lib/python3.5/site-packages/sklearn/utils/validation.py:526: DataConversionWarning: A column-vector y was passed when a 1d array was expected. Please change the shape of y to (n_samples, ), for example using ravel().\n  y = column_or_1d(y, warn=True)\n"
     ]
    },
    {
     "name": "stdout",
     "output_type": "stream",
     "text": [
      "0.564461095155 \t\t 20 \t\t 13\n0.566084576697 \t\t 20 \t\t 14\n"
     ]
    },
    {
     "name": "stderr",
     "output_type": "stream",
     "text": [
      "/Users/maxwelllee54/anaconda/lib/python3.5/site-packages/sklearn/calibration.py:415: RuntimeWarning: overflow encountered in exp\n  E = np.exp(AB[0] * F + AB[1])\n/Users/maxwelllee54/anaconda/lib/python3.5/site-packages/sklearn/calibration.py:425: RuntimeWarning: overflow encountered in exp\n  E = np.exp(AB[0] * F + AB[1])\n/Users/maxwelllee54/anaconda/lib/python3.5/site-packages/sklearn/calibration.py:427: RuntimeWarning: invalid value encountered in multiply\n  TEP_minus_T1P = P * (T * E - T1)\n/Users/maxwelllee54/anaconda/lib/python3.5/site-packages/sklearn/calibration.py:415: RuntimeWarning: overflow encountered in exp\n  E = np.exp(AB[0] * F + AB[1])\n/Users/maxwelllee54/anaconda/lib/python3.5/site-packages/sklearn/utils/validation.py:526: DataConversionWarning: A column-vector y was passed when a 1d array was expected. Please change the shape of y to (n_samples, ), for example using ravel().\n  y = column_or_1d(y, warn=True)\n/Users/maxwelllee54/anaconda/lib/python3.5/site-packages/sklearn/calibration.py:415: RuntimeWarning: overflow encountered in exp\n  E = np.exp(AB[0] * F + AB[1])\n/Users/maxwelllee54/anaconda/lib/python3.5/site-packages/sklearn/calibration.py:425: RuntimeWarning: overflow encountered in exp\n  E = np.exp(AB[0] * F + AB[1])\n/Users/maxwelllee54/anaconda/lib/python3.5/site-packages/sklearn/calibration.py:427: RuntimeWarning: invalid value encountered in multiply\n  TEP_minus_T1P = P * (T * E - T1)\n/Users/maxwelllee54/anaconda/lib/python3.5/site-packages/sklearn/calibration.py:415: RuntimeWarning: overflow encountered in exp\n  E = np.exp(AB[0] * F + AB[1])\n/Users/maxwelllee54/anaconda/lib/python3.5/site-packages/sklearn/utils/validation.py:526: DataConversionWarning: A column-vector y was passed when a 1d array was expected. Please change the shape of y to (n_samples, ), for example using ravel().\n  y = column_or_1d(y, warn=True)\n"
     ]
    },
    {
     "name": "stdout",
     "output_type": "stream",
     "text": [
      "0.570541173479 \t\t 20 \t\t 15\n0.57378221417 \t\t 20 \t\t 16\n"
     ]
    },
    {
     "name": "stderr",
     "output_type": "stream",
     "text": [
      "/Users/maxwelllee54/anaconda/lib/python3.5/site-packages/sklearn/calibration.py:415: RuntimeWarning: overflow encountered in exp\n  E = np.exp(AB[0] * F + AB[1])\n/Users/maxwelllee54/anaconda/lib/python3.5/site-packages/sklearn/calibration.py:425: RuntimeWarning: overflow encountered in exp\n  E = np.exp(AB[0] * F + AB[1])\n/Users/maxwelllee54/anaconda/lib/python3.5/site-packages/sklearn/calibration.py:427: RuntimeWarning: invalid value encountered in multiply\n  TEP_minus_T1P = P * (T * E - T1)\n/Users/maxwelllee54/anaconda/lib/python3.5/site-packages/sklearn/calibration.py:415: RuntimeWarning: overflow encountered in exp\n  E = np.exp(AB[0] * F + AB[1])\n/Users/maxwelllee54/anaconda/lib/python3.5/site-packages/sklearn/utils/validation.py:526: DataConversionWarning: A column-vector y was passed when a 1d array was expected. Please change the shape of y to (n_samples, ), for example using ravel().\n  y = column_or_1d(y, warn=True)\n/Users/maxwelllee54/anaconda/lib/python3.5/site-packages/sklearn/calibration.py:415: RuntimeWarning: overflow encountered in exp\n  E = np.exp(AB[0] * F + AB[1])\n/Users/maxwelllee54/anaconda/lib/python3.5/site-packages/sklearn/calibration.py:425: RuntimeWarning: overflow encountered in exp\n  E = np.exp(AB[0] * F + AB[1])\n/Users/maxwelllee54/anaconda/lib/python3.5/site-packages/sklearn/calibration.py:427: RuntimeWarning: invalid value encountered in multiply\n  TEP_minus_T1P = P * (T * E - T1)\n/Users/maxwelllee54/anaconda/lib/python3.5/site-packages/sklearn/calibration.py:415: RuntimeWarning: overflow encountered in exp\n  E = np.exp(AB[0] * F + AB[1])\n/Users/maxwelllee54/anaconda/lib/python3.5/site-packages/sklearn/utils/validation.py:526: DataConversionWarning: A column-vector y was passed when a 1d array was expected. Please change the shape of y to (n_samples, ), for example using ravel().\n  y = column_or_1d(y, warn=True)\n"
     ]
    },
    {
     "name": "stdout",
     "output_type": "stream",
     "text": [
      "0.574140078443 \t\t 20 \t\t 17\n0.577019461012 \t\t 20 \t\t 18\n"
     ]
    },
    {
     "name": "stderr",
     "output_type": "stream",
     "text": [
      "/Users/maxwelllee54/anaconda/lib/python3.5/site-packages/sklearn/calibration.py:415: RuntimeWarning: overflow encountered in exp\n  E = np.exp(AB[0] * F + AB[1])\n/Users/maxwelllee54/anaconda/lib/python3.5/site-packages/sklearn/calibration.py:425: RuntimeWarning: overflow encountered in exp\n  E = np.exp(AB[0] * F + AB[1])\n/Users/maxwelllee54/anaconda/lib/python3.5/site-packages/sklearn/calibration.py:427: RuntimeWarning: invalid value encountered in multiply\n  TEP_minus_T1P = P * (T * E - T1)\n/Users/maxwelllee54/anaconda/lib/python3.5/site-packages/sklearn/calibration.py:415: RuntimeWarning: overflow encountered in exp\n  E = np.exp(AB[0] * F + AB[1])\n/Users/maxwelllee54/anaconda/lib/python3.5/site-packages/sklearn/utils/validation.py:526: DataConversionWarning: A column-vector y was passed when a 1d array was expected. Please change the shape of y to (n_samples, ), for example using ravel().\n  y = column_or_1d(y, warn=True)\n/Users/maxwelllee54/anaconda/lib/python3.5/site-packages/sklearn/utils/validation.py:526: DataConversionWarning: A column-vector y was passed when a 1d array was expected. Please change the shape of y to (n_samples, ), for example using ravel().\n  y = column_or_1d(y, warn=True)\n"
     ]
    },
    {
     "name": "stdout",
     "output_type": "stream",
     "text": [
      "0.586995783863 \t\t 20 \t\t 19\n0.798536989729 \t\t 21 \t\t 3\n"
     ]
    },
    {
     "name": "stdout",
     "output_type": "stream",
     "text": [
      "0.792606694639 \t\t 21 \t\t 4\n0.570522574556 \t\t 21 \t\t 5\n0.580707038972 \t\t 21 \t\t 6\n"
     ]
    },
    {
     "name": "stderr",
     "output_type": "stream",
     "text": [
      "/Users/maxwelllee54/anaconda/lib/python3.5/site-packages/sklearn/utils/validation.py:526: DataConversionWarning: A column-vector y was passed when a 1d array was expected. Please change the shape of y to (n_samples, ), for example using ravel().\n  y = column_or_1d(y, warn=True)\n/Users/maxwelllee54/anaconda/lib/python3.5/site-packages/sklearn/calibration.py:415: RuntimeWarning: overflow encountered in exp\n  E = np.exp(AB[0] * F + AB[1])\n/Users/maxwelllee54/anaconda/lib/python3.5/site-packages/sklearn/calibration.py:425: RuntimeWarning: overflow encountered in exp\n  E = np.exp(AB[0] * F + AB[1])\n/Users/maxwelllee54/anaconda/lib/python3.5/site-packages/sklearn/calibration.py:427: RuntimeWarning: invalid value encountered in multiply\n  TEP_minus_T1P = P * (T * E - T1)\n/Users/maxwelllee54/anaconda/lib/python3.5/site-packages/sklearn/calibration.py:415: RuntimeWarning: overflow encountered in exp\n  E = np.exp(AB[0] * F + AB[1])\n/Users/maxwelllee54/anaconda/lib/python3.5/site-packages/sklearn/utils/validation.py:526: DataConversionWarning: A column-vector y was passed when a 1d array was expected. Please change the shape of y to (n_samples, ), for example using ravel().\n  y = column_or_1d(y, warn=True)\n/Users/maxwelllee54/anaconda/lib/python3.5/site-packages/sklearn/calibration.py:415: RuntimeWarning: overflow encountered in exp\n  E = np.exp(AB[0] * F + AB[1])\n/Users/maxwelllee54/anaconda/lib/python3.5/site-packages/sklearn/calibration.py:425: RuntimeWarning: overflow encountered in exp\n  E = np.exp(AB[0] * F + AB[1])\n/Users/maxwelllee54/anaconda/lib/python3.5/site-packages/sklearn/calibration.py:427: RuntimeWarning: invalid value encountered in multiply\n  TEP_minus_T1P = P * (T * E - T1)\n/Users/maxwelllee54/anaconda/lib/python3.5/site-packages/sklearn/calibration.py:415: RuntimeWarning: overflow encountered in exp\n  E = np.exp(AB[0] * F + AB[1])\n/Users/maxwelllee54/anaconda/lib/python3.5/site-packages/sklearn/utils/validation.py:526: DataConversionWarning: A column-vector y was passed when a 1d array was expected. Please change the shape of y to (n_samples, ), for example using ravel().\n  y = column_or_1d(y, warn=True)\n"
     ]
    },
    {
     "name": "stderr",
     "output_type": "stream",
     "text": [
      "/Users/maxwelllee54/anaconda/lib/python3.5/site-packages/sklearn/calibration.py:415: RuntimeWarning: overflow encountered in exp\n  E = np.exp(AB[0] * F + AB[1])\n/Users/maxwelllee54/anaconda/lib/python3.5/site-packages/sklearn/calibration.py:425: RuntimeWarning: overflow encountered in exp\n  E = np.exp(AB[0] * F + AB[1])\n/Users/maxwelllee54/anaconda/lib/python3.5/site-packages/sklearn/calibration.py:427: RuntimeWarning: invalid value encountered in multiply\n  TEP_minus_T1P = P * (T * E - T1)\n/Users/maxwelllee54/anaconda/lib/python3.5/site-packages/sklearn/calibration.py:415: RuntimeWarning: overflow encountered in exp\n  E = np.exp(AB[0] * F + AB[1])\n/Users/maxwelllee54/anaconda/lib/python3.5/site-packages/sklearn/utils/validation.py:526: DataConversionWarning: A column-vector y was passed when a 1d array was expected. Please change the shape of y to (n_samples, ), for example using ravel().\n  y = column_or_1d(y, warn=True)\n/Users/maxwelllee54/anaconda/lib/python3.5/site-packages/sklearn/calibration.py:415: RuntimeWarning: overflow encountered in exp\n  E = np.exp(AB[0] * F + AB[1])\n/Users/maxwelllee54/anaconda/lib/python3.5/site-packages/sklearn/calibration.py:425: RuntimeWarning: overflow encountered in exp\n  E = np.exp(AB[0] * F + AB[1])\n/Users/maxwelllee54/anaconda/lib/python3.5/site-packages/sklearn/calibration.py:427: RuntimeWarning: invalid value encountered in multiply\n  TEP_minus_T1P = P * (T * E - T1)\n/Users/maxwelllee54/anaconda/lib/python3.5/site-packages/sklearn/calibration.py:415: RuntimeWarning: overflow encountered in exp\n  E = np.exp(AB[0] * F + AB[1])\n/Users/maxwelllee54/anaconda/lib/python3.5/site-packages/sklearn/utils/validation.py:526: DataConversionWarning: A column-vector y was passed when a 1d array was expected. Please change the shape of y to (n_samples, ), for example using ravel().\n  y = column_or_1d(y, warn=True)\n"
     ]
    },
    {
     "name": "stdout",
     "output_type": "stream",
     "text": [
      "0.577952468834 \t\t 21 \t\t 7\n0.600195587314 \t\t 21 \t\t 8\n"
     ]
    },
    {
     "name": "stderr",
     "output_type": "stream",
     "text": [
      "/Users/maxwelllee54/anaconda/lib/python3.5/site-packages/sklearn/calibration.py:415: RuntimeWarning: overflow encountered in exp\n  E = np.exp(AB[0] * F + AB[1])\n/Users/maxwelllee54/anaconda/lib/python3.5/site-packages/sklearn/calibration.py:425: RuntimeWarning: overflow encountered in exp\n  E = np.exp(AB[0] * F + AB[1])\n/Users/maxwelllee54/anaconda/lib/python3.5/site-packages/sklearn/calibration.py:427: RuntimeWarning: invalid value encountered in multiply\n  TEP_minus_T1P = P * (T * E - T1)\n/Users/maxwelllee54/anaconda/lib/python3.5/site-packages/sklearn/calibration.py:415: RuntimeWarning: overflow encountered in exp\n  E = np.exp(AB[0] * F + AB[1])\n/Users/maxwelllee54/anaconda/lib/python3.5/site-packages/sklearn/utils/validation.py:526: DataConversionWarning: A column-vector y was passed when a 1d array was expected. Please change the shape of y to (n_samples, ), for example using ravel().\n  y = column_or_1d(y, warn=True)\n/Users/maxwelllee54/anaconda/lib/python3.5/site-packages/sklearn/calibration.py:415: RuntimeWarning: overflow encountered in exp\n  E = np.exp(AB[0] * F + AB[1])\n/Users/maxwelllee54/anaconda/lib/python3.5/site-packages/sklearn/calibration.py:425: RuntimeWarning: overflow encountered in exp\n  E = np.exp(AB[0] * F + AB[1])\n/Users/maxwelllee54/anaconda/lib/python3.5/site-packages/sklearn/calibration.py:427: RuntimeWarning: invalid value encountered in multiply\n  TEP_minus_T1P = P * (T * E - T1)\n/Users/maxwelllee54/anaconda/lib/python3.5/site-packages/sklearn/calibration.py:415: RuntimeWarning: overflow encountered in exp\n  E = np.exp(AB[0] * F + AB[1])\n"
     ]
    },
    {
     "name": "stdout",
     "output_type": "stream",
     "text": [
      "0.588329597357 \t\t 21 \t\t 9\n0.549748840968 \t\t 21 \t\t 10\n"
     ]
    },
    {
     "name": "stderr",
     "output_type": "stream",
     "text": [
      "/Users/maxwelllee54/anaconda/lib/python3.5/site-packages/sklearn/utils/validation.py:526: DataConversionWarning: A column-vector y was passed when a 1d array was expected. Please change the shape of y to (n_samples, ), for example using ravel().\n  y = column_or_1d(y, warn=True)\n/Users/maxwelllee54/anaconda/lib/python3.5/site-packages/sklearn/calibration.py:415: RuntimeWarning: overflow encountered in exp\n  E = np.exp(AB[0] * F + AB[1])\n/Users/maxwelllee54/anaconda/lib/python3.5/site-packages/sklearn/calibration.py:425: RuntimeWarning: overflow encountered in exp\n  E = np.exp(AB[0] * F + AB[1])\n/Users/maxwelllee54/anaconda/lib/python3.5/site-packages/sklearn/calibration.py:427: RuntimeWarning: invalid value encountered in multiply\n  TEP_minus_T1P = P * (T * E - T1)\n/Users/maxwelllee54/anaconda/lib/python3.5/site-packages/sklearn/calibration.py:415: RuntimeWarning: overflow encountered in exp\n  E = np.exp(AB[0] * F + AB[1])\n/Users/maxwelllee54/anaconda/lib/python3.5/site-packages/sklearn/utils/validation.py:526: DataConversionWarning: A column-vector y was passed when a 1d array was expected. Please change the shape of y to (n_samples, ), for example using ravel().\n  y = column_or_1d(y, warn=True)\n"
     ]
    },
    {
     "name": "stdout",
     "output_type": "stream",
     "text": [
      "0.565751679893 \t\t 21 \t\t 11\n0.565697170842 \t\t 21 \t\t 12\n"
     ]
    },
    {
     "name": "stderr",
     "output_type": "stream",
     "text": [
      "/Users/maxwelllee54/anaconda/lib/python3.5/site-packages/sklearn/calibration.py:415: RuntimeWarning: overflow encountered in exp\n  E = np.exp(AB[0] * F + AB[1])\n/Users/maxwelllee54/anaconda/lib/python3.5/site-packages/sklearn/calibration.py:425: RuntimeWarning: overflow encountered in exp\n  E = np.exp(AB[0] * F + AB[1])\n/Users/maxwelllee54/anaconda/lib/python3.5/site-packages/sklearn/calibration.py:427: RuntimeWarning: invalid value encountered in multiply\n  TEP_minus_T1P = P * (T * E - T1)\n/Users/maxwelllee54/anaconda/lib/python3.5/site-packages/sklearn/calibration.py:415: RuntimeWarning: overflow encountered in exp\n  E = np.exp(AB[0] * F + AB[1])\n/Users/maxwelllee54/anaconda/lib/python3.5/site-packages/sklearn/utils/validation.py:526: DataConversionWarning: A column-vector y was passed when a 1d array was expected. Please change the shape of y to (n_samples, ), for example using ravel().\n  y = column_or_1d(y, warn=True)\n/Users/maxwelllee54/anaconda/lib/python3.5/site-packages/sklearn/calibration.py:415: RuntimeWarning: overflow encountered in exp\n  E = np.exp(AB[0] * F + AB[1])\n/Users/maxwelllee54/anaconda/lib/python3.5/site-packages/sklearn/calibration.py:425: RuntimeWarning: overflow encountered in exp\n  E = np.exp(AB[0] * F + AB[1])\n/Users/maxwelllee54/anaconda/lib/python3.5/site-packages/sklearn/calibration.py:427: RuntimeWarning: invalid value encountered in multiply\n  TEP_minus_T1P = P * (T * E - T1)\n"
     ]
    },
    {
     "name": "stderr",
     "output_type": "stream",
     "text": [
      "/Users/maxwelllee54/anaconda/lib/python3.5/site-packages/sklearn/calibration.py:415: RuntimeWarning: overflow encountered in exp\n  E = np.exp(AB[0] * F + AB[1])\n/Users/maxwelllee54/anaconda/lib/python3.5/site-packages/sklearn/utils/validation.py:526: DataConversionWarning: A column-vector y was passed when a 1d array was expected. Please change the shape of y to (n_samples, ), for example using ravel().\n  y = column_or_1d(y, warn=True)\n/Users/maxwelllee54/anaconda/lib/python3.5/site-packages/sklearn/calibration.py:415: RuntimeWarning: overflow encountered in exp\n  E = np.exp(AB[0] * F + AB[1])\n/Users/maxwelllee54/anaconda/lib/python3.5/site-packages/sklearn/calibration.py:425: RuntimeWarning: overflow encountered in exp\n  E = np.exp(AB[0] * F + AB[1])\n/Users/maxwelllee54/anaconda/lib/python3.5/site-packages/sklearn/calibration.py:427: RuntimeWarning: invalid value encountered in multiply\n  TEP_minus_T1P = P * (T * E - T1)\n/Users/maxwelllee54/anaconda/lib/python3.5/site-packages/sklearn/calibration.py:415: RuntimeWarning: overflow encountered in exp\n  E = np.exp(AB[0] * F + AB[1])\n/Users/maxwelllee54/anaconda/lib/python3.5/site-packages/sklearn/utils/validation.py:526: DataConversionWarning: A column-vector y was passed when a 1d array was expected. Please change the shape of y to (n_samples, ), for example using ravel().\n  y = column_or_1d(y, warn=True)\n"
     ]
    },
    {
     "name": "stdout",
     "output_type": "stream",
     "text": [
      "0.56446059591 \t\t 21 \t\t 13\n0.566087529793 \t\t 21 \t\t 14\n"
     ]
    },
    {
     "name": "stderr",
     "output_type": "stream",
     "text": [
      "/Users/maxwelllee54/anaconda/lib/python3.5/site-packages/sklearn/calibration.py:415: RuntimeWarning: overflow encountered in exp\n  E = np.exp(AB[0] * F + AB[1])\n/Users/maxwelllee54/anaconda/lib/python3.5/site-packages/sklearn/calibration.py:425: RuntimeWarning: overflow encountered in exp\n  E = np.exp(AB[0] * F + AB[1])\n/Users/maxwelllee54/anaconda/lib/python3.5/site-packages/sklearn/calibration.py:427: RuntimeWarning: invalid value encountered in multiply\n  TEP_minus_T1P = P * (T * E - T1)\n/Users/maxwelllee54/anaconda/lib/python3.5/site-packages/sklearn/calibration.py:415: RuntimeWarning: overflow encountered in exp\n  E = np.exp(AB[0] * F + AB[1])\n/Users/maxwelllee54/anaconda/lib/python3.5/site-packages/sklearn/utils/validation.py:526: DataConversionWarning: A column-vector y was passed when a 1d array was expected. Please change the shape of y to (n_samples, ), for example using ravel().\n  y = column_or_1d(y, warn=True)\n/Users/maxwelllee54/anaconda/lib/python3.5/site-packages/sklearn/calibration.py:415: RuntimeWarning: overflow encountered in exp\n  E = np.exp(AB[0] * F + AB[1])\n/Users/maxwelllee54/anaconda/lib/python3.5/site-packages/sklearn/calibration.py:425: RuntimeWarning: overflow encountered in exp\n  E = np.exp(AB[0] * F + AB[1])\n/Users/maxwelllee54/anaconda/lib/python3.5/site-packages/sklearn/calibration.py:427: RuntimeWarning: invalid value encountered in multiply\n  TEP_minus_T1P = P * (T * E - T1)\n/Users/maxwelllee54/anaconda/lib/python3.5/site-packages/sklearn/calibration.py:415: RuntimeWarning: overflow encountered in exp\n  E = np.exp(AB[0] * F + AB[1])\n/Users/maxwelllee54/anaconda/lib/python3.5/site-packages/sklearn/utils/validation.py:526: DataConversionWarning: A column-vector y was passed when a 1d array was expected. Please change the shape of y to (n_samples, ), for example using ravel().\n  y = column_or_1d(y, warn=True)\n"
     ]
    },
    {
     "name": "stdout",
     "output_type": "stream",
     "text": [
      "0.570544063627 \t\t 21 \t\t 15\n0.57378510487 \t\t 21 \t\t 16\n"
     ]
    },
    {
     "name": "stderr",
     "output_type": "stream",
     "text": [
      "/Users/maxwelllee54/anaconda/lib/python3.5/site-packages/sklearn/calibration.py:415: RuntimeWarning: overflow encountered in exp\n  E = np.exp(AB[0] * F + AB[1])\n/Users/maxwelllee54/anaconda/lib/python3.5/site-packages/sklearn/calibration.py:425: RuntimeWarning: overflow encountered in exp\n  E = np.exp(AB[0] * F + AB[1])\n/Users/maxwelllee54/anaconda/lib/python3.5/site-packages/sklearn/calibration.py:427: RuntimeWarning: invalid value encountered in multiply\n  TEP_minus_T1P = P * (T * E - T1)\n/Users/maxwelllee54/anaconda/lib/python3.5/site-packages/sklearn/calibration.py:415: RuntimeWarning: overflow encountered in exp\n  E = np.exp(AB[0] * F + AB[1])\n/Users/maxwelllee54/anaconda/lib/python3.5/site-packages/sklearn/utils/validation.py:526: DataConversionWarning: A column-vector y was passed when a 1d array was expected. Please change the shape of y to (n_samples, ), for example using ravel().\n  y = column_or_1d(y, warn=True)\n/Users/maxwelllee54/anaconda/lib/python3.5/site-packages/sklearn/calibration.py:415: RuntimeWarning: overflow encountered in exp\n  E = np.exp(AB[0] * F + AB[1])\n/Users/maxwelllee54/anaconda/lib/python3.5/site-packages/sklearn/calibration.py:425: RuntimeWarning: overflow encountered in exp\n  E = np.exp(AB[0] * F + AB[1])\n/Users/maxwelllee54/anaconda/lib/python3.5/site-packages/sklearn/calibration.py:427: RuntimeWarning: invalid value encountered in multiply\n  TEP_minus_T1P = P * (T * E - T1)\n/Users/maxwelllee54/anaconda/lib/python3.5/site-packages/sklearn/calibration.py:415: RuntimeWarning: overflow encountered in exp\n  E = np.exp(AB[0] * F + AB[1])\n/Users/maxwelllee54/anaconda/lib/python3.5/site-packages/sklearn/utils/validation.py:526: DataConversionWarning: A column-vector y was passed when a 1d array was expected. Please change the shape of y to (n_samples, ), for example using ravel().\n  y = column_or_1d(y, warn=True)\n"
     ]
    },
    {
     "name": "stdout",
     "output_type": "stream",
     "text": [
      "0.574140074107 \t\t 21 \t\t 17\n0.577019141452 \t\t 21 \t\t 18\n"
     ]
    },
    {
     "name": "stderr",
     "output_type": "stream",
     "text": [
      "/Users/maxwelllee54/anaconda/lib/python3.5/site-packages/sklearn/calibration.py:415: RuntimeWarning: overflow encountered in exp\n  E = np.exp(AB[0] * F + AB[1])\n/Users/maxwelllee54/anaconda/lib/python3.5/site-packages/sklearn/calibration.py:425: RuntimeWarning: overflow encountered in exp\n  E = np.exp(AB[0] * F + AB[1])\n/Users/maxwelllee54/anaconda/lib/python3.5/site-packages/sklearn/calibration.py:427: RuntimeWarning: invalid value encountered in multiply\n  TEP_minus_T1P = P * (T * E - T1)\n/Users/maxwelllee54/anaconda/lib/python3.5/site-packages/sklearn/calibration.py:415: RuntimeWarning: overflow encountered in exp\n  E = np.exp(AB[0] * F + AB[1])\n/Users/maxwelllee54/anaconda/lib/python3.5/site-packages/sklearn/utils/validation.py:526: DataConversionWarning: A column-vector y was passed when a 1d array was expected. Please change the shape of y to (n_samples, ), for example using ravel().\n  y = column_or_1d(y, warn=True)\n/Users/maxwelllee54/anaconda/lib/python3.5/site-packages/sklearn/calibration.py:415: RuntimeWarning: overflow encountered in exp\n  E = np.exp(AB[0] * F + AB[1])\n/Users/maxwelllee54/anaconda/lib/python3.5/site-packages/sklearn/calibration.py:425: RuntimeWarning: overflow encountered in exp\n  E = np.exp(AB[0] * F + AB[1])\n/Users/maxwelllee54/anaconda/lib/python3.5/site-packages/sklearn/calibration.py:427: RuntimeWarning: invalid value encountered in multiply\n  TEP_minus_T1P = P * (T * E - T1)\n"
     ]
    },
    {
     "name": "stdout",
     "output_type": "stream",
     "text": [
      "0.586995691118 \t\t 21 \t\t 19\n"
     ]
    },
    {
     "name": "stderr",
     "output_type": "stream",
     "text": [
      "/Users/maxwelllee54/anaconda/lib/python3.5/site-packages/sklearn/calibration.py:415: RuntimeWarning: overflow encountered in exp\n  E = np.exp(AB[0] * F + AB[1])\n/Users/maxwelllee54/anaconda/lib/python3.5/site-packages/sklearn/utils/validation.py:526: DataConversionWarning: A column-vector y was passed when a 1d array was expected. Please change the shape of y to (n_samples, ), for example using ravel().\n  y = column_or_1d(y, warn=True)\n/Users/maxwelllee54/anaconda/lib/python3.5/site-packages/sklearn/utils/validation.py:526: DataConversionWarning: A column-vector y was passed when a 1d array was expected. Please change the shape of y to (n_samples, ), for example using ravel().\n  y = column_or_1d(y, warn=True)\n"
     ]
    },
    {
     "name": "stdout",
     "output_type": "stream",
     "text": [
      "0.595892524672 \t\t 21 \t\t 20\n0.798536989729 \t\t 22 \t\t 3\n"
     ]
    },
    {
     "name": "stdout",
     "output_type": "stream",
     "text": [
      "0.792606695916 \t\t 22 \t\t 4\n0.570523497902 \t\t 22 \t\t 5\n0.580707168194 \t\t 22 \t\t 6\n"
     ]
    },
    {
     "name": "stderr",
     "output_type": "stream",
     "text": [
      "/Users/maxwelllee54/anaconda/lib/python3.5/site-packages/sklearn/utils/validation.py:526: DataConversionWarning: A column-vector y was passed when a 1d array was expected. Please change the shape of y to (n_samples, ), for example using ravel().\n  y = column_or_1d(y, warn=True)\n/Users/maxwelllee54/anaconda/lib/python3.5/site-packages/sklearn/calibration.py:415: RuntimeWarning: overflow encountered in exp\n  E = np.exp(AB[0] * F + AB[1])\n/Users/maxwelllee54/anaconda/lib/python3.5/site-packages/sklearn/calibration.py:425: RuntimeWarning: overflow encountered in exp\n  E = np.exp(AB[0] * F + AB[1])\n/Users/maxwelllee54/anaconda/lib/python3.5/site-packages/sklearn/calibration.py:427: RuntimeWarning: invalid value encountered in multiply\n  TEP_minus_T1P = P * (T * E - T1)\n/Users/maxwelllee54/anaconda/lib/python3.5/site-packages/sklearn/calibration.py:415: RuntimeWarning: overflow encountered in exp\n  E = np.exp(AB[0] * F + AB[1])\n/Users/maxwelllee54/anaconda/lib/python3.5/site-packages/sklearn/utils/validation.py:526: DataConversionWarning: A column-vector y was passed when a 1d array was expected. Please change the shape of y to (n_samples, ), for example using ravel().\n  y = column_or_1d(y, warn=True)\n/Users/maxwelllee54/anaconda/lib/python3.5/site-packages/sklearn/calibration.py:415: RuntimeWarning: overflow encountered in exp\n  E = np.exp(AB[0] * F + AB[1])\n/Users/maxwelllee54/anaconda/lib/python3.5/site-packages/sklearn/calibration.py:425: RuntimeWarning: overflow encountered in exp\n  E = np.exp(AB[0] * F + AB[1])\n/Users/maxwelllee54/anaconda/lib/python3.5/site-packages/sklearn/calibration.py:427: RuntimeWarning: invalid value encountered in multiply\n  TEP_minus_T1P = P * (T * E - T1)\n/Users/maxwelllee54/anaconda/lib/python3.5/site-packages/sklearn/calibration.py:415: RuntimeWarning: overflow encountered in exp\n  E = np.exp(AB[0] * F + AB[1])\n/Users/maxwelllee54/anaconda/lib/python3.5/site-packages/sklearn/utils/validation.py:526: DataConversionWarning: A column-vector y was passed when a 1d array was expected. Please change the shape of y to (n_samples, ), for example using ravel().\n  y = column_or_1d(y, warn=True)\n"
     ]
    },
    {
     "name": "stderr",
     "output_type": "stream",
     "text": [
      "/Users/maxwelllee54/anaconda/lib/python3.5/site-packages/sklearn/calibration.py:415: RuntimeWarning: overflow encountered in exp\n  E = np.exp(AB[0] * F + AB[1])\n/Users/maxwelllee54/anaconda/lib/python3.5/site-packages/sklearn/calibration.py:425: RuntimeWarning: overflow encountered in exp\n  E = np.exp(AB[0] * F + AB[1])\n/Users/maxwelllee54/anaconda/lib/python3.5/site-packages/sklearn/calibration.py:427: RuntimeWarning: invalid value encountered in multiply\n  TEP_minus_T1P = P * (T * E - T1)\n/Users/maxwelllee54/anaconda/lib/python3.5/site-packages/sklearn/calibration.py:415: RuntimeWarning: overflow encountered in exp\n  E = np.exp(AB[0] * F + AB[1])\n/Users/maxwelllee54/anaconda/lib/python3.5/site-packages/sklearn/utils/validation.py:526: DataConversionWarning: A column-vector y was passed when a 1d array was expected. Please change the shape of y to (n_samples, ), for example using ravel().\n  y = column_or_1d(y, warn=True)\n/Users/maxwelllee54/anaconda/lib/python3.5/site-packages/sklearn/calibration.py:415: RuntimeWarning: overflow encountered in exp\n  E = np.exp(AB[0] * F + AB[1])\n/Users/maxwelllee54/anaconda/lib/python3.5/site-packages/sklearn/calibration.py:425: RuntimeWarning: overflow encountered in exp\n  E = np.exp(AB[0] * F + AB[1])\n/Users/maxwelllee54/anaconda/lib/python3.5/site-packages/sklearn/calibration.py:427: RuntimeWarning: invalid value encountered in multiply\n  TEP_minus_T1P = P * (T * E - T1)\n/Users/maxwelllee54/anaconda/lib/python3.5/site-packages/sklearn/calibration.py:415: RuntimeWarning: overflow encountered in exp\n  E = np.exp(AB[0] * F + AB[1])\n/Users/maxwelllee54/anaconda/lib/python3.5/site-packages/sklearn/utils/validation.py:526: DataConversionWarning: A column-vector y was passed when a 1d array was expected. Please change the shape of y to (n_samples, ), for example using ravel().\n  y = column_or_1d(y, warn=True)\n"
     ]
    },
    {
     "name": "stdout",
     "output_type": "stream",
     "text": [
      "0.577954031523 \t\t 22 \t\t 7\n0.600198147737 \t\t 22 \t\t 8\n"
     ]
    },
    {
     "name": "stderr",
     "output_type": "stream",
     "text": [
      "/Users/maxwelllee54/anaconda/lib/python3.5/site-packages/sklearn/calibration.py:415: RuntimeWarning: overflow encountered in exp\n  E = np.exp(AB[0] * F + AB[1])\n/Users/maxwelllee54/anaconda/lib/python3.5/site-packages/sklearn/calibration.py:425: RuntimeWarning: overflow encountered in exp\n  E = np.exp(AB[0] * F + AB[1])\n/Users/maxwelllee54/anaconda/lib/python3.5/site-packages/sklearn/calibration.py:427: RuntimeWarning: invalid value encountered in multiply\n  TEP_minus_T1P = P * (T * E - T1)\n/Users/maxwelllee54/anaconda/lib/python3.5/site-packages/sklearn/calibration.py:415: RuntimeWarning: overflow encountered in exp\n  E = np.exp(AB[0] * F + AB[1])\n/Users/maxwelllee54/anaconda/lib/python3.5/site-packages/sklearn/utils/validation.py:526: DataConversionWarning: A column-vector y was passed when a 1d array was expected. Please change the shape of y to (n_samples, ), for example using ravel().\n  y = column_or_1d(y, warn=True)\n"
     ]
    },
    {
     "name": "stdout",
     "output_type": "stream",
     "text": [
      "0.588329058379 \t\t 22 \t\t 9\n"
     ]
    },
    {
     "name": "stderr",
     "output_type": "stream",
     "text": [
      "/Users/maxwelllee54/anaconda/lib/python3.5/site-packages/sklearn/calibration.py:415: RuntimeWarning: overflow encountered in exp\n  E = np.exp(AB[0] * F + AB[1])\n/Users/maxwelllee54/anaconda/lib/python3.5/site-packages/sklearn/calibration.py:425: RuntimeWarning: overflow encountered in exp\n  E = np.exp(AB[0] * F + AB[1])\n/Users/maxwelllee54/anaconda/lib/python3.5/site-packages/sklearn/calibration.py:427: RuntimeWarning: invalid value encountered in multiply\n  TEP_minus_T1P = P * (T * E - T1)\n/Users/maxwelllee54/anaconda/lib/python3.5/site-packages/sklearn/calibration.py:415: RuntimeWarning: overflow encountered in exp\n  E = np.exp(AB[0] * F + AB[1])\n/Users/maxwelllee54/anaconda/lib/python3.5/site-packages/sklearn/utils/validation.py:526: DataConversionWarning: A column-vector y was passed when a 1d array was expected. Please change the shape of y to (n_samples, ), for example using ravel().\n  y = column_or_1d(y, warn=True)\n/Users/maxwelllee54/anaconda/lib/python3.5/site-packages/sklearn/calibration.py:415: RuntimeWarning: overflow encountered in exp\n  E = np.exp(AB[0] * F + AB[1])\n/Users/maxwelllee54/anaconda/lib/python3.5/site-packages/sklearn/calibration.py:425: RuntimeWarning: overflow encountered in exp\n  E = np.exp(AB[0] * F + AB[1])\n/Users/maxwelllee54/anaconda/lib/python3.5/site-packages/sklearn/calibration.py:427: RuntimeWarning: invalid value encountered in multiply\n  TEP_minus_T1P = P * (T * E - T1)\n/Users/maxwelllee54/anaconda/lib/python3.5/site-packages/sklearn/calibration.py:415: RuntimeWarning: overflow encountered in exp\n  E = np.exp(AB[0] * F + AB[1])\n/Users/maxwelllee54/anaconda/lib/python3.5/site-packages/sklearn/utils/validation.py:526: DataConversionWarning: A column-vector y was passed when a 1d array was expected. Please change the shape of y to (n_samples, ), for example using ravel().\n  y = column_or_1d(y, warn=True)\n"
     ]
    },
    {
     "name": "stdout",
     "output_type": "stream",
     "text": [
      "0.549774919649 \t\t 22 \t\t 10\n0.565753051509 \t\t 22 \t\t 11\n"
     ]
    },
    {
     "name": "stderr",
     "output_type": "stream",
     "text": [
      "/Users/maxwelllee54/anaconda/lib/python3.5/site-packages/sklearn/calibration.py:415: RuntimeWarning: overflow encountered in exp\n  E = np.exp(AB[0] * F + AB[1])\n/Users/maxwelllee54/anaconda/lib/python3.5/site-packages/sklearn/calibration.py:425: RuntimeWarning: overflow encountered in exp\n  E = np.exp(AB[0] * F + AB[1])\n/Users/maxwelllee54/anaconda/lib/python3.5/site-packages/sklearn/calibration.py:427: RuntimeWarning: invalid value encountered in multiply\n  TEP_minus_T1P = P * (T * E - T1)\n/Users/maxwelllee54/anaconda/lib/python3.5/site-packages/sklearn/calibration.py:415: RuntimeWarning: overflow encountered in exp\n  E = np.exp(AB[0] * F + AB[1])\n/Users/maxwelllee54/anaconda/lib/python3.5/site-packages/sklearn/utils/validation.py:526: DataConversionWarning: A column-vector y was passed when a 1d array was expected. Please change the shape of y to (n_samples, ), for example using ravel().\n  y = column_or_1d(y, warn=True)\n/Users/maxwelllee54/anaconda/lib/python3.5/site-packages/sklearn/calibration.py:415: RuntimeWarning: overflow encountered in exp\n  E = np.exp(AB[0] * F + AB[1])\n/Users/maxwelllee54/anaconda/lib/python3.5/site-packages/sklearn/calibration.py:425: RuntimeWarning: overflow encountered in exp\n  E = np.exp(AB[0] * F + AB[1])\n/Users/maxwelllee54/anaconda/lib/python3.5/site-packages/sklearn/calibration.py:427: RuntimeWarning: invalid value encountered in multiply\n  TEP_minus_T1P = P * (T * E - T1)\n/Users/maxwelllee54/anaconda/lib/python3.5/site-packages/sklearn/calibration.py:415: RuntimeWarning: overflow encountered in exp\n  E = np.exp(AB[0] * F + AB[1])\n/Users/maxwelllee54/anaconda/lib/python3.5/site-packages/sklearn/utils/validation.py:526: DataConversionWarning: A column-vector y was passed when a 1d array was expected. Please change the shape of y to (n_samples, ), for example using ravel().\n  y = column_or_1d(y, warn=True)\n"
     ]
    },
    {
     "name": "stdout",
     "output_type": "stream",
     "text": [
      "0.565696945654 \t\t 22 \t\t 12\n0.564456605638 \t\t 22 \t\t 13\n"
     ]
    },
    {
     "name": "stderr",
     "output_type": "stream",
     "text": [
      "/Users/maxwelllee54/anaconda/lib/python3.5/site-packages/sklearn/calibration.py:415: RuntimeWarning: overflow encountered in exp\n  E = np.exp(AB[0] * F + AB[1])\n/Users/maxwelllee54/anaconda/lib/python3.5/site-packages/sklearn/calibration.py:425: RuntimeWarning: overflow encountered in exp\n  E = np.exp(AB[0] * F + AB[1])\n/Users/maxwelllee54/anaconda/lib/python3.5/site-packages/sklearn/calibration.py:427: RuntimeWarning: invalid value encountered in multiply\n  TEP_minus_T1P = P * (T * E - T1)\n/Users/maxwelllee54/anaconda/lib/python3.5/site-packages/sklearn/calibration.py:415: RuntimeWarning: overflow encountered in exp\n  E = np.exp(AB[0] * F + AB[1])\n/Users/maxwelllee54/anaconda/lib/python3.5/site-packages/sklearn/utils/validation.py:526: DataConversionWarning: A column-vector y was passed when a 1d array was expected. Please change the shape of y to (n_samples, ), for example using ravel().\n  y = column_or_1d(y, warn=True)\n/Users/maxwelllee54/anaconda/lib/python3.5/site-packages/sklearn/calibration.py:415: RuntimeWarning: overflow encountered in exp\n  E = np.exp(AB[0] * F + AB[1])\n/Users/maxwelllee54/anaconda/lib/python3.5/site-packages/sklearn/calibration.py:425: RuntimeWarning: overflow encountered in exp\n  E = np.exp(AB[0] * F + AB[1])\n/Users/maxwelllee54/anaconda/lib/python3.5/site-packages/sklearn/calibration.py:427: RuntimeWarning: invalid value encountered in multiply\n  TEP_minus_T1P = P * (T * E - T1)\n/Users/maxwelllee54/anaconda/lib/python3.5/site-packages/sklearn/calibration.py:415: RuntimeWarning: overflow encountered in exp\n  E = np.exp(AB[0] * F + AB[1])\n/Users/maxwelllee54/anaconda/lib/python3.5/site-packages/sklearn/utils/validation.py:526: DataConversionWarning: A column-vector y was passed when a 1d array was expected. Please change the shape of y to (n_samples, ), for example using ravel().\n  y = column_or_1d(y, warn=True)\n"
     ]
    },
    {
     "name": "stdout",
     "output_type": "stream",
     "text": [
      "0.566084584756 \t\t 22 \t\t 14\n0.570545380736 \t\t 22 \t\t 15\n"
     ]
    },
    {
     "name": "stderr",
     "output_type": "stream",
     "text": [
      "/Users/maxwelllee54/anaconda/lib/python3.5/site-packages/sklearn/calibration.py:415: RuntimeWarning: overflow encountered in exp\n  E = np.exp(AB[0] * F + AB[1])\n/Users/maxwelllee54/anaconda/lib/python3.5/site-packages/sklearn/calibration.py:425: RuntimeWarning: overflow encountered in exp\n  E = np.exp(AB[0] * F + AB[1])\n/Users/maxwelllee54/anaconda/lib/python3.5/site-packages/sklearn/calibration.py:427: RuntimeWarning: invalid value encountered in multiply\n  TEP_minus_T1P = P * (T * E - T1)\n/Users/maxwelllee54/anaconda/lib/python3.5/site-packages/sklearn/calibration.py:415: RuntimeWarning: overflow encountered in exp\n  E = np.exp(AB[0] * F + AB[1])\n/Users/maxwelllee54/anaconda/lib/python3.5/site-packages/sklearn/utils/validation.py:526: DataConversionWarning: A column-vector y was passed when a 1d array was expected. Please change the shape of y to (n_samples, ), for example using ravel().\n  y = column_or_1d(y, warn=True)\n/Users/maxwelllee54/anaconda/lib/python3.5/site-packages/sklearn/calibration.py:415: RuntimeWarning: overflow encountered in exp\n  E = np.exp(AB[0] * F + AB[1])\n/Users/maxwelllee54/anaconda/lib/python3.5/site-packages/sklearn/calibration.py:425: RuntimeWarning: overflow encountered in exp\n  E = np.exp(AB[0] * F + AB[1])\n/Users/maxwelllee54/anaconda/lib/python3.5/site-packages/sklearn/calibration.py:427: RuntimeWarning: invalid value encountered in multiply\n  TEP_minus_T1P = P * (T * E - T1)\n/Users/maxwelllee54/anaconda/lib/python3.5/site-packages/sklearn/calibration.py:415: RuntimeWarning: overflow encountered in exp\n  E = np.exp(AB[0] * F + AB[1])\n/Users/maxwelllee54/anaconda/lib/python3.5/site-packages/sklearn/utils/validation.py:526: DataConversionWarning: A column-vector y was passed when a 1d array was expected. Please change the shape of y to (n_samples, ), for example using ravel().\n  y = column_or_1d(y, warn=True)\n"
     ]
    },
    {
     "name": "stdout",
     "output_type": "stream",
     "text": [
      "0.573784250847 \t\t 22 \t\t 16\n0.574139121586 \t\t 22 \t\t 17\n"
     ]
    },
    {
     "name": "stderr",
     "output_type": "stream",
     "text": [
      "/Users/maxwelllee54/anaconda/lib/python3.5/site-packages/sklearn/calibration.py:415: RuntimeWarning: overflow encountered in exp\n  E = np.exp(AB[0] * F + AB[1])\n/Users/maxwelllee54/anaconda/lib/python3.5/site-packages/sklearn/calibration.py:425: RuntimeWarning: overflow encountered in exp\n  E = np.exp(AB[0] * F + AB[1])\n/Users/maxwelllee54/anaconda/lib/python3.5/site-packages/sklearn/calibration.py:427: RuntimeWarning: invalid value encountered in multiply\n  TEP_minus_T1P = P * (T * E - T1)\n/Users/maxwelllee54/anaconda/lib/python3.5/site-packages/sklearn/calibration.py:415: RuntimeWarning: overflow encountered in exp\n  E = np.exp(AB[0] * F + AB[1])\n/Users/maxwelllee54/anaconda/lib/python3.5/site-packages/sklearn/utils/validation.py:526: DataConversionWarning: A column-vector y was passed when a 1d array was expected. Please change the shape of y to (n_samples, ), for example using ravel().\n  y = column_or_1d(y, warn=True)\n/Users/maxwelllee54/anaconda/lib/python3.5/site-packages/sklearn/calibration.py:415: RuntimeWarning: overflow encountered in exp\n  E = np.exp(AB[0] * F + AB[1])\n/Users/maxwelllee54/anaconda/lib/python3.5/site-packages/sklearn/calibration.py:425: RuntimeWarning: overflow encountered in exp\n  E = np.exp(AB[0] * F + AB[1])\n/Users/maxwelllee54/anaconda/lib/python3.5/site-packages/sklearn/calibration.py:427: RuntimeWarning: invalid value encountered in multiply\n  TEP_minus_T1P = P * (T * E - T1)\n/Users/maxwelllee54/anaconda/lib/python3.5/site-packages/sklearn/calibration.py:415: RuntimeWarning: overflow encountered in exp\n  E = np.exp(AB[0] * F + AB[1])\n/Users/maxwelllee54/anaconda/lib/python3.5/site-packages/sklearn/utils/validation.py:526: DataConversionWarning: A column-vector y was passed when a 1d array was expected. Please change the shape of y to (n_samples, ), for example using ravel().\n  y = column_or_1d(y, warn=True)\n"
     ]
    },
    {
     "name": "stdout",
     "output_type": "stream",
     "text": [
      "0.577019576656 \t\t 22 \t\t 18\n0.586995838368 \t\t 22 \t\t 19\n"
     ]
    },
    {
     "name": "stderr",
     "output_type": "stream",
     "text": [
      "/Users/maxwelllee54/anaconda/lib/python3.5/site-packages/sklearn/calibration.py:415: RuntimeWarning: overflow encountered in exp\n  E = np.exp(AB[0] * F + AB[1])\n/Users/maxwelllee54/anaconda/lib/python3.5/site-packages/sklearn/calibration.py:425: RuntimeWarning: overflow encountered in exp\n  E = np.exp(AB[0] * F + AB[1])\n/Users/maxwelllee54/anaconda/lib/python3.5/site-packages/sklearn/calibration.py:427: RuntimeWarning: invalid value encountered in multiply\n  TEP_minus_T1P = P * (T * E - T1)\n/Users/maxwelllee54/anaconda/lib/python3.5/site-packages/sklearn/calibration.py:415: RuntimeWarning: overflow encountered in exp\n  E = np.exp(AB[0] * F + AB[1])\n/Users/maxwelllee54/anaconda/lib/python3.5/site-packages/sklearn/utils/validation.py:526: DataConversionWarning: A column-vector y was passed when a 1d array was expected. Please change the shape of y to (n_samples, ), for example using ravel().\n  y = column_or_1d(y, warn=True)\n/Users/maxwelllee54/anaconda/lib/python3.5/site-packages/sklearn/calibration.py:415: RuntimeWarning: overflow encountered in exp\n  E = np.exp(AB[0] * F + AB[1])\n/Users/maxwelllee54/anaconda/lib/python3.5/site-packages/sklearn/calibration.py:425: RuntimeWarning: overflow encountered in exp\n  E = np.exp(AB[0] * F + AB[1])\n/Users/maxwelllee54/anaconda/lib/python3.5/site-packages/sklearn/calibration.py:427: RuntimeWarning: invalid value encountered in multiply\n  TEP_minus_T1P = P * (T * E - T1)\n/Users/maxwelllee54/anaconda/lib/python3.5/site-packages/sklearn/calibration.py:415: RuntimeWarning: overflow encountered in exp\n  E = np.exp(AB[0] * F + AB[1])\n"
     ]
    },
    {
     "name": "stdout",
     "output_type": "stream",
     "text": [
      "0.59589253162 \t\t 22 \t\t 20\n0.607593241229 \t\t 22 \t\t 21\n"
     ]
    },
    {
     "name": "stderr",
     "output_type": "stream",
     "text": [
      "/Users/maxwelllee54/anaconda/lib/python3.5/site-packages/sklearn/utils/validation.py:526: DataConversionWarning: A column-vector y was passed when a 1d array was expected. Please change the shape of y to (n_samples, ), for example using ravel().\n  y = column_or_1d(y, warn=True)\n"
     ]
    },
    {
     "name": "stdout",
     "output_type": "stream",
     "text": [
      "0.798536989729 \t\t 23 \t\t 3\n0.792606704146 \t\t 23 \t\t 4\n"
     ]
    },
    {
     "name": "stderr",
     "output_type": "stream",
     "text": [
      "/Users/maxwelllee54/anaconda/lib/python3.5/site-packages/sklearn/utils/validation.py:526: DataConversionWarning: A column-vector y was passed when a 1d array was expected. Please change the shape of y to (n_samples, ), for example using ravel().\n  y = column_or_1d(y, warn=True)\n/Users/maxwelllee54/anaconda/lib/python3.5/site-packages/sklearn/utils/validation.py:526: DataConversionWarning: A column-vector y was passed when a 1d array was expected. Please change the shape of y to (n_samples, ), for example using ravel().\n  y = column_or_1d(y, warn=True)\n"
     ]
    },
    {
     "name": "stderr",
     "output_type": "stream",
     "text": [
      "/Users/maxwelllee54/anaconda/lib/python3.5/site-packages/sklearn/calibration.py:415: RuntimeWarning: overflow encountered in exp\n  E = np.exp(AB[0] * F + AB[1])\n/Users/maxwelllee54/anaconda/lib/python3.5/site-packages/sklearn/calibration.py:425: RuntimeWarning: overflow encountered in exp\n  E = np.exp(AB[0] * F + AB[1])\n/Users/maxwelllee54/anaconda/lib/python3.5/site-packages/sklearn/calibration.py:427: RuntimeWarning: invalid value encountered in multiply\n  TEP_minus_T1P = P * (T * E - T1)\n/Users/maxwelllee54/anaconda/lib/python3.5/site-packages/sklearn/calibration.py:415: RuntimeWarning: overflow encountered in exp\n  E = np.exp(AB[0] * F + AB[1])\n/Users/maxwelllee54/anaconda/lib/python3.5/site-packages/sklearn/utils/validation.py:526: DataConversionWarning: A column-vector y was passed when a 1d array was expected. Please change the shape of y to (n_samples, ), for example using ravel().\n  y = column_or_1d(y, warn=True)\n/Users/maxwelllee54/anaconda/lib/python3.5/site-packages/sklearn/calibration.py:415: RuntimeWarning: overflow encountered in exp\n  E = np.exp(AB[0] * F + AB[1])\n/Users/maxwelllee54/anaconda/lib/python3.5/site-packages/sklearn/calibration.py:425: RuntimeWarning: overflow encountered in exp\n  E = np.exp(AB[0] * F + AB[1])\n/Users/maxwelllee54/anaconda/lib/python3.5/site-packages/sklearn/calibration.py:427: RuntimeWarning: invalid value encountered in multiply\n  TEP_minus_T1P = P * (T * E - T1)\n/Users/maxwelllee54/anaconda/lib/python3.5/site-packages/sklearn/calibration.py:415: RuntimeWarning: overflow encountered in exp\n  E = np.exp(AB[0] * F + AB[1])\n/Users/maxwelllee54/anaconda/lib/python3.5/site-packages/sklearn/utils/validation.py:526: DataConversionWarning: A column-vector y was passed when a 1d array was expected. Please change the shape of y to (n_samples, ), for example using ravel().\n  y = column_or_1d(y, warn=True)\n"
     ]
    },
    {
     "name": "stdout",
     "output_type": "stream",
     "text": [
      "0.570522836135 \t\t 23 \t\t 5\n0.580706906457 \t\t 23 \t\t 6\n"
     ]
    },
    {
     "name": "stderr",
     "output_type": "stream",
     "text": [
      "/Users/maxwelllee54/anaconda/lib/python3.5/site-packages/sklearn/calibration.py:415: RuntimeWarning: overflow encountered in exp\n  E = np.exp(AB[0] * F + AB[1])\n/Users/maxwelllee54/anaconda/lib/python3.5/site-packages/sklearn/calibration.py:425: RuntimeWarning: overflow encountered in exp\n  E = np.exp(AB[0] * F + AB[1])\n/Users/maxwelllee54/anaconda/lib/python3.5/site-packages/sklearn/calibration.py:427: RuntimeWarning: invalid value encountered in multiply\n  TEP_minus_T1P = P * (T * E - T1)\n/Users/maxwelllee54/anaconda/lib/python3.5/site-packages/sklearn/calibration.py:415: RuntimeWarning: overflow encountered in exp\n  E = np.exp(AB[0] * F + AB[1])\n/Users/maxwelllee54/anaconda/lib/python3.5/site-packages/sklearn/utils/validation.py:526: DataConversionWarning: A column-vector y was passed when a 1d array was expected. Please change the shape of y to (n_samples, ), for example using ravel().\n  y = column_or_1d(y, warn=True)\n/Users/maxwelllee54/anaconda/lib/python3.5/site-packages/sklearn/calibration.py:415: RuntimeWarning: overflow encountered in exp\n  E = np.exp(AB[0] * F + AB[1])\n/Users/maxwelllee54/anaconda/lib/python3.5/site-packages/sklearn/calibration.py:425: RuntimeWarning: overflow encountered in exp\n  E = np.exp(AB[0] * F + AB[1])\n/Users/maxwelllee54/anaconda/lib/python3.5/site-packages/sklearn/calibration.py:427: RuntimeWarning: invalid value encountered in multiply\n  TEP_minus_T1P = P * (T * E - T1)\n/Users/maxwelllee54/anaconda/lib/python3.5/site-packages/sklearn/calibration.py:415: RuntimeWarning: overflow encountered in exp\n  E = np.exp(AB[0] * F + AB[1])\n/Users/maxwelllee54/anaconda/lib/python3.5/site-packages/sklearn/utils/validation.py:526: DataConversionWarning: A column-vector y was passed when a 1d array was expected. Please change the shape of y to (n_samples, ), for example using ravel().\n  y = column_or_1d(y, warn=True)\n"
     ]
    },
    {
     "name": "stdout",
     "output_type": "stream",
     "text": [
      "0.577952199332 \t\t 23 \t\t 7\n0.600195481635 \t\t 23 \t\t 8\n"
     ]
    },
    {
     "name": "stderr",
     "output_type": "stream",
     "text": [
      "/Users/maxwelllee54/anaconda/lib/python3.5/site-packages/sklearn/calibration.py:415: RuntimeWarning: overflow encountered in exp\n  E = np.exp(AB[0] * F + AB[1])\n/Users/maxwelllee54/anaconda/lib/python3.5/site-packages/sklearn/calibration.py:425: RuntimeWarning: overflow encountered in exp\n  E = np.exp(AB[0] * F + AB[1])\n/Users/maxwelllee54/anaconda/lib/python3.5/site-packages/sklearn/calibration.py:427: RuntimeWarning: invalid value encountered in multiply\n  TEP_minus_T1P = P * (T * E - T1)\n/Users/maxwelllee54/anaconda/lib/python3.5/site-packages/sklearn/calibration.py:415: RuntimeWarning: overflow encountered in exp\n  E = np.exp(AB[0] * F + AB[1])\n/Users/maxwelllee54/anaconda/lib/python3.5/site-packages/sklearn/utils/validation.py:526: DataConversionWarning: A column-vector y was passed when a 1d array was expected. Please change the shape of y to (n_samples, ), for example using ravel().\n  y = column_or_1d(y, warn=True)\n/Users/maxwelllee54/anaconda/lib/python3.5/site-packages/sklearn/calibration.py:415: RuntimeWarning: overflow encountered in exp\n  E = np.exp(AB[0] * F + AB[1])\n/Users/maxwelllee54/anaconda/lib/python3.5/site-packages/sklearn/calibration.py:425: RuntimeWarning: overflow encountered in exp\n  E = np.exp(AB[0] * F + AB[1])\n/Users/maxwelllee54/anaconda/lib/python3.5/site-packages/sklearn/calibration.py:427: RuntimeWarning: invalid value encountered in multiply\n  TEP_minus_T1P = P * (T * E - T1)\n/Users/maxwelllee54/anaconda/lib/python3.5/site-packages/sklearn/calibration.py:415: RuntimeWarning: overflow encountered in exp\n  E = np.exp(AB[0] * F + AB[1])\n/Users/maxwelllee54/anaconda/lib/python3.5/site-packages/sklearn/utils/validation.py:526: DataConversionWarning: A column-vector y was passed when a 1d array was expected. Please change the shape of y to (n_samples, ), for example using ravel().\n  y = column_or_1d(y, warn=True)\n"
     ]
    },
    {
     "name": "stdout",
     "output_type": "stream",
     "text": [
      "0.588327802495 \t\t 23 \t\t 9\n0.549779186933 \t\t 23 \t\t 10\n"
     ]
    },
    {
     "name": "stderr",
     "output_type": "stream",
     "text": [
      "/Users/maxwelllee54/anaconda/lib/python3.5/site-packages/sklearn/calibration.py:415: RuntimeWarning: overflow encountered in exp\n  E = np.exp(AB[0] * F + AB[1])\n/Users/maxwelllee54/anaconda/lib/python3.5/site-packages/sklearn/calibration.py:425: RuntimeWarning: overflow encountered in exp\n  E = np.exp(AB[0] * F + AB[1])\n/Users/maxwelllee54/anaconda/lib/python3.5/site-packages/sklearn/calibration.py:427: RuntimeWarning: invalid value encountered in multiply\n  TEP_minus_T1P = P * (T * E - T1)\n/Users/maxwelllee54/anaconda/lib/python3.5/site-packages/sklearn/calibration.py:415: RuntimeWarning: overflow encountered in exp\n  E = np.exp(AB[0] * F + AB[1])\n/Users/maxwelllee54/anaconda/lib/python3.5/site-packages/sklearn/utils/validation.py:526: DataConversionWarning: A column-vector y was passed when a 1d array was expected. Please change the shape of y to (n_samples, ), for example using ravel().\n  y = column_or_1d(y, warn=True)\n/Users/maxwelllee54/anaconda/lib/python3.5/site-packages/sklearn/calibration.py:415: RuntimeWarning: overflow encountered in exp\n  E = np.exp(AB[0] * F + AB[1])\n/Users/maxwelllee54/anaconda/lib/python3.5/site-packages/sklearn/calibration.py:425: RuntimeWarning: overflow encountered in exp\n  E = np.exp(AB[0] * F + AB[1])\n/Users/maxwelllee54/anaconda/lib/python3.5/site-packages/sklearn/calibration.py:427: RuntimeWarning: invalid value encountered in multiply\n  TEP_minus_T1P = P * (T * E - T1)\n/Users/maxwelllee54/anaconda/lib/python3.5/site-packages/sklearn/calibration.py:415: RuntimeWarning: overflow encountered in exp\n  E = np.exp(AB[0] * F + AB[1])\n/Users/maxwelllee54/anaconda/lib/python3.5/site-packages/sklearn/utils/validation.py:526: DataConversionWarning: A column-vector y was passed when a 1d array was expected. Please change the shape of y to (n_samples, ), for example using ravel().\n  y = column_or_1d(y, warn=True)\n"
     ]
    },
    {
     "name": "stdout",
     "output_type": "stream",
     "text": [
      "0.56575466925 \t\t 23 \t\t 11\n0.565700126284 \t\t 23 \t\t 12\n"
     ]
    },
    {
     "name": "stderr",
     "output_type": "stream",
     "text": [
      "/Users/maxwelllee54/anaconda/lib/python3.5/site-packages/sklearn/calibration.py:415: RuntimeWarning: overflow encountered in exp\n  E = np.exp(AB[0] * F + AB[1])\n/Users/maxwelllee54/anaconda/lib/python3.5/site-packages/sklearn/calibration.py:425: RuntimeWarning: overflow encountered in exp\n  E = np.exp(AB[0] * F + AB[1])\n/Users/maxwelllee54/anaconda/lib/python3.5/site-packages/sklearn/calibration.py:427: RuntimeWarning: invalid value encountered in multiply\n  TEP_minus_T1P = P * (T * E - T1)\n/Users/maxwelllee54/anaconda/lib/python3.5/site-packages/sklearn/calibration.py:415: RuntimeWarning: overflow encountered in exp\n  E = np.exp(AB[0] * F + AB[1])\n/Users/maxwelllee54/anaconda/lib/python3.5/site-packages/sklearn/utils/validation.py:526: DataConversionWarning: A column-vector y was passed when a 1d array was expected. Please change the shape of y to (n_samples, ), for example using ravel().\n  y = column_or_1d(y, warn=True)\n/Users/maxwelllee54/anaconda/lib/python3.5/site-packages/sklearn/calibration.py:415: RuntimeWarning: overflow encountered in exp\n  E = np.exp(AB[0] * F + AB[1])\n/Users/maxwelllee54/anaconda/lib/python3.5/site-packages/sklearn/calibration.py:425: RuntimeWarning: overflow encountered in exp\n  E = np.exp(AB[0] * F + AB[1])\n/Users/maxwelllee54/anaconda/lib/python3.5/site-packages/sklearn/calibration.py:427: RuntimeWarning: invalid value encountered in multiply\n  TEP_minus_T1P = P * (T * E - T1)\n/Users/maxwelllee54/anaconda/lib/python3.5/site-packages/sklearn/calibration.py:415: RuntimeWarning: overflow encountered in exp\n  E = np.exp(AB[0] * F + AB[1])\n/Users/maxwelllee54/anaconda/lib/python3.5/site-packages/sklearn/utils/validation.py:526: DataConversionWarning: A column-vector y was passed when a 1d array was expected. Please change the shape of y to (n_samples, ), for example using ravel().\n  y = column_or_1d(y, warn=True)\n"
     ]
    },
    {
     "name": "stdout",
     "output_type": "stream",
     "text": [
      "0.564460930984 \t\t 23 \t\t 13\n0.566078224768 \t\t 23 \t\t 14\n"
     ]
    },
    {
     "name": "stderr",
     "output_type": "stream",
     "text": [
      "/Users/maxwelllee54/anaconda/lib/python3.5/site-packages/sklearn/calibration.py:415: RuntimeWarning: overflow encountered in exp\n  E = np.exp(AB[0] * F + AB[1])\n/Users/maxwelllee54/anaconda/lib/python3.5/site-packages/sklearn/calibration.py:425: RuntimeWarning: overflow encountered in exp\n  E = np.exp(AB[0] * F + AB[1])\n/Users/maxwelllee54/anaconda/lib/python3.5/site-packages/sklearn/calibration.py:427: RuntimeWarning: invalid value encountered in multiply\n  TEP_minus_T1P = P * (T * E - T1)\n/Users/maxwelllee54/anaconda/lib/python3.5/site-packages/sklearn/calibration.py:415: RuntimeWarning: overflow encountered in exp\n  E = np.exp(AB[0] * F + AB[1])\n/Users/maxwelllee54/anaconda/lib/python3.5/site-packages/sklearn/utils/validation.py:526: DataConversionWarning: A column-vector y was passed when a 1d array was expected. Please change the shape of y to (n_samples, ), for example using ravel().\n  y = column_or_1d(y, warn=True)\n/Users/maxwelllee54/anaconda/lib/python3.5/site-packages/sklearn/calibration.py:415: RuntimeWarning: overflow encountered in exp\n  E = np.exp(AB[0] * F + AB[1])\n/Users/maxwelllee54/anaconda/lib/python3.5/site-packages/sklearn/calibration.py:425: RuntimeWarning: overflow encountered in exp\n  E = np.exp(AB[0] * F + AB[1])\n/Users/maxwelllee54/anaconda/lib/python3.5/site-packages/sklearn/calibration.py:427: RuntimeWarning: invalid value encountered in multiply\n  TEP_minus_T1P = P * (T * E - T1)\n/Users/maxwelllee54/anaconda/lib/python3.5/site-packages/sklearn/calibration.py:415: RuntimeWarning: overflow encountered in exp\n  E = np.exp(AB[0] * F + AB[1])\n/Users/maxwelllee54/anaconda/lib/python3.5/site-packages/sklearn/utils/validation.py:526: DataConversionWarning: A column-vector y was passed when a 1d array was expected. Please change the shape of y to (n_samples, ), for example using ravel().\n  y = column_or_1d(y, warn=True)\n"
     ]
    },
    {
     "name": "stdout",
     "output_type": "stream",
     "text": [
      "0.570546031644 \t\t 23 \t\t 15\n0.573783745669 \t\t 23 \t\t 16\n"
     ]
    },
    {
     "name": "stderr",
     "output_type": "stream",
     "text": [
      "/Users/maxwelllee54/anaconda/lib/python3.5/site-packages/sklearn/calibration.py:415: RuntimeWarning: overflow encountered in exp\n  E = np.exp(AB[0] * F + AB[1])\n/Users/maxwelllee54/anaconda/lib/python3.5/site-packages/sklearn/calibration.py:425: RuntimeWarning: overflow encountered in exp\n  E = np.exp(AB[0] * F + AB[1])\n/Users/maxwelllee54/anaconda/lib/python3.5/site-packages/sklearn/calibration.py:427: RuntimeWarning: invalid value encountered in multiply\n  TEP_minus_T1P = P * (T * E - T1)\n/Users/maxwelllee54/anaconda/lib/python3.5/site-packages/sklearn/calibration.py:415: RuntimeWarning: overflow encountered in exp\n  E = np.exp(AB[0] * F + AB[1])\n/Users/maxwelllee54/anaconda/lib/python3.5/site-packages/sklearn/utils/validation.py:526: DataConversionWarning: A column-vector y was passed when a 1d array was expected. Please change the shape of y to (n_samples, ), for example using ravel().\n  y = column_or_1d(y, warn=True)\n"
     ]
    },
    {
     "name": "stdout",
     "output_type": "stream",
     "text": [
      "0.574137816591 \t\t 23 \t\t 17\n"
     ]
    },
    {
     "name": "stderr",
     "output_type": "stream",
     "text": [
      "/Users/maxwelllee54/anaconda/lib/python3.5/site-packages/sklearn/calibration.py:415: RuntimeWarning: overflow encountered in exp\n  E = np.exp(AB[0] * F + AB[1])\n/Users/maxwelllee54/anaconda/lib/python3.5/site-packages/sklearn/calibration.py:425: RuntimeWarning: overflow encountered in exp\n  E = np.exp(AB[0] * F + AB[1])\n/Users/maxwelllee54/anaconda/lib/python3.5/site-packages/sklearn/calibration.py:427: RuntimeWarning: invalid value encountered in multiply\n  TEP_minus_T1P = P * (T * E - T1)\n"
     ]
    },
    {
     "name": "stderr",
     "output_type": "stream",
     "text": [
      "/Users/maxwelllee54/anaconda/lib/python3.5/site-packages/sklearn/calibration.py:415: RuntimeWarning: overflow encountered in exp\n  E = np.exp(AB[0] * F + AB[1])\n/Users/maxwelllee54/anaconda/lib/python3.5/site-packages/sklearn/utils/validation.py:526: DataConversionWarning: A column-vector y was passed when a 1d array was expected. Please change the shape of y to (n_samples, ), for example using ravel().\n  y = column_or_1d(y, warn=True)\n"
     ]
    },
    {
     "name": "stdout",
     "output_type": "stream",
     "text": [
      "0.577019787241 \t\t 23 \t\t 18\n"
     ]
    },
    {
     "name": "stderr",
     "output_type": "stream",
     "text": [
      "/Users/maxwelllee54/anaconda/lib/python3.5/site-packages/sklearn/calibration.py:415: RuntimeWarning: overflow encountered in exp\n  E = np.exp(AB[0] * F + AB[1])\n/Users/maxwelllee54/anaconda/lib/python3.5/site-packages/sklearn/calibration.py:425: RuntimeWarning: overflow encountered in exp\n  E = np.exp(AB[0] * F + AB[1])\n/Users/maxwelllee54/anaconda/lib/python3.5/site-packages/sklearn/calibration.py:427: RuntimeWarning: invalid value encountered in multiply\n  TEP_minus_T1P = P * (T * E - T1)\n/Users/maxwelllee54/anaconda/lib/python3.5/site-packages/sklearn/calibration.py:415: RuntimeWarning: overflow encountered in exp\n  E = np.exp(AB[0] * F + AB[1])\n/Users/maxwelllee54/anaconda/lib/python3.5/site-packages/sklearn/utils/validation.py:526: DataConversionWarning: A column-vector y was passed when a 1d array was expected. Please change the shape of y to (n_samples, ), for example using ravel().\n  y = column_or_1d(y, warn=True)\n/Users/maxwelllee54/anaconda/lib/python3.5/site-packages/sklearn/calibration.py:415: RuntimeWarning: overflow encountered in exp\n  E = np.exp(AB[0] * F + AB[1])\n/Users/maxwelllee54/anaconda/lib/python3.5/site-packages/sklearn/calibration.py:425: RuntimeWarning: overflow encountered in exp\n  E = np.exp(AB[0] * F + AB[1])\n/Users/maxwelllee54/anaconda/lib/python3.5/site-packages/sklearn/calibration.py:427: RuntimeWarning: invalid value encountered in multiply\n  TEP_minus_T1P = P * (T * E - T1)\n/Users/maxwelllee54/anaconda/lib/python3.5/site-packages/sklearn/calibration.py:415: RuntimeWarning: overflow encountered in exp\n  E = np.exp(AB[0] * F + AB[1])\n/Users/maxwelllee54/anaconda/lib/python3.5/site-packages/sklearn/utils/validation.py:526: DataConversionWarning: A column-vector y was passed when a 1d array was expected. Please change the shape of y to (n_samples, ), for example using ravel().\n  y = column_or_1d(y, warn=True)\n"
     ]
    },
    {
     "name": "stdout",
     "output_type": "stream",
     "text": [
      "0.58699613871 \t\t 23 \t\t 19\n0.595892482411 \t\t 23 \t\t 20\n"
     ]
    },
    {
     "name": "stderr",
     "output_type": "stream",
     "text": [
      "/Users/maxwelllee54/anaconda/lib/python3.5/site-packages/sklearn/calibration.py:415: RuntimeWarning: overflow encountered in exp\n  E = np.exp(AB[0] * F + AB[1])\n/Users/maxwelllee54/anaconda/lib/python3.5/site-packages/sklearn/calibration.py:425: RuntimeWarning: overflow encountered in exp\n  E = np.exp(AB[0] * F + AB[1])\n/Users/maxwelllee54/anaconda/lib/python3.5/site-packages/sklearn/calibration.py:427: RuntimeWarning: invalid value encountered in multiply\n  TEP_minus_T1P = P * (T * E - T1)\n/Users/maxwelllee54/anaconda/lib/python3.5/site-packages/sklearn/calibration.py:415: RuntimeWarning: overflow encountered in exp\n  E = np.exp(AB[0] * F + AB[1])\n/Users/maxwelllee54/anaconda/lib/python3.5/site-packages/sklearn/utils/validation.py:526: DataConversionWarning: A column-vector y was passed when a 1d array was expected. Please change the shape of y to (n_samples, ), for example using ravel().\n  y = column_or_1d(y, warn=True)\n/Users/maxwelllee54/anaconda/lib/python3.5/site-packages/sklearn/calibration.py:415: RuntimeWarning: overflow encountered in exp\n  E = np.exp(AB[0] * F + AB[1])\n/Users/maxwelllee54/anaconda/lib/python3.5/site-packages/sklearn/calibration.py:425: RuntimeWarning: overflow encountered in exp\n  E = np.exp(AB[0] * F + AB[1])\n/Users/maxwelllee54/anaconda/lib/python3.5/site-packages/sklearn/calibration.py:427: RuntimeWarning: invalid value encountered in multiply\n  TEP_minus_T1P = P * (T * E - T1)\n/Users/maxwelllee54/anaconda/lib/python3.5/site-packages/sklearn/calibration.py:415: RuntimeWarning: overflow encountered in exp\n  E = np.exp(AB[0] * F + AB[1])\n"
     ]
    },
    {
     "name": "stdout",
     "output_type": "stream",
     "text": [
      "0.607591879696 \t\t 23 \t\t 21\n0.607477466961 \t\t 23 \t\t 22\n"
     ]
    },
    {
     "name": "stderr",
     "output_type": "stream",
     "text": [
      "/Users/maxwelllee54/anaconda/lib/python3.5/site-packages/sklearn/utils/validation.py:526: DataConversionWarning: A column-vector y was passed when a 1d array was expected. Please change the shape of y to (n_samples, ), for example using ravel().\n  y = column_or_1d(y, warn=True)\n/Users/maxwelllee54/anaconda/lib/python3.5/site-packages/sklearn/utils/validation.py:526: DataConversionWarning: A column-vector y was passed when a 1d array was expected. Please change the shape of y to (n_samples, ), for example using ravel().\n  y = column_or_1d(y, warn=True)\n/Users/maxwelllee54/anaconda/lib/python3.5/site-packages/sklearn/utils/validation.py:526: DataConversionWarning: A column-vector y was passed when a 1d array was expected. Please change the shape of y to (n_samples, ), for example using ravel().\n  y = column_or_1d(y, warn=True)\n"
     ]
    },
    {
     "name": "stdout",
     "output_type": "stream",
     "text": [
      "0.798536989729 \t\t 24 \t\t 3\n0.792606700339 \t\t 24 \t\t 4\n0.570522531666 \t\t 24 \t\t 5\n"
     ]
    },
    {
     "name": "stderr",
     "output_type": "stream",
     "text": [
      "/Users/maxwelllee54/anaconda/lib/python3.5/site-packages/sklearn/calibration.py:415: RuntimeWarning: overflow encountered in exp\n  E = np.exp(AB[0] * F + AB[1])\n/Users/maxwelllee54/anaconda/lib/python3.5/site-packages/sklearn/calibration.py:425: RuntimeWarning: overflow encountered in exp\n  E = np.exp(AB[0] * F + AB[1])\n/Users/maxwelllee54/anaconda/lib/python3.5/site-packages/sklearn/calibration.py:427: RuntimeWarning: invalid value encountered in multiply\n  TEP_minus_T1P = P * (T * E - T1)\n/Users/maxwelllee54/anaconda/lib/python3.5/site-packages/sklearn/calibration.py:415: RuntimeWarning: overflow encountered in exp\n  E = np.exp(AB[0] * F + AB[1])\n/Users/maxwelllee54/anaconda/lib/python3.5/site-packages/sklearn/utils/validation.py:526: DataConversionWarning: A column-vector y was passed when a 1d array was expected. Please change the shape of y to (n_samples, ), for example using ravel().\n  y = column_or_1d(y, warn=True)\n/Users/maxwelllee54/anaconda/lib/python3.5/site-packages/sklearn/calibration.py:415: RuntimeWarning: overflow encountered in exp\n  E = np.exp(AB[0] * F + AB[1])\n/Users/maxwelllee54/anaconda/lib/python3.5/site-packages/sklearn/calibration.py:425: RuntimeWarning: overflow encountered in exp\n  E = np.exp(AB[0] * F + AB[1])\n/Users/maxwelllee54/anaconda/lib/python3.5/site-packages/sklearn/calibration.py:427: RuntimeWarning: invalid value encountered in multiply\n  TEP_minus_T1P = P * (T * E - T1)\n/Users/maxwelllee54/anaconda/lib/python3.5/site-packages/sklearn/calibration.py:415: RuntimeWarning: overflow encountered in exp\n  E = np.exp(AB[0] * F + AB[1])\n/Users/maxwelllee54/anaconda/lib/python3.5/site-packages/sklearn/utils/validation.py:526: DataConversionWarning: A column-vector y was passed when a 1d array was expected. Please change the shape of y to (n_samples, ), for example using ravel().\n  y = column_or_1d(y, warn=True)\n/Users/maxwelllee54/anaconda/lib/python3.5/site-packages/sklearn/calibration.py:415: RuntimeWarning: overflow encountered in exp\n  E = np.exp(AB[0] * F + AB[1])\n/Users/maxwelllee54/anaconda/lib/python3.5/site-packages/sklearn/calibration.py:425: RuntimeWarning: overflow encountered in exp\n  E = np.exp(AB[0] * F + AB[1])\n/Users/maxwelllee54/anaconda/lib/python3.5/site-packages/sklearn/calibration.py:427: RuntimeWarning: invalid value encountered in multiply\n  TEP_minus_T1P = P * (T * E - T1)\n/Users/maxwelllee54/anaconda/lib/python3.5/site-packages/sklearn/calibration.py:415: RuntimeWarning: overflow encountered in exp\n  E = np.exp(AB[0] * F + AB[1])\n"
     ]
    },
    {
     "name": "stdout",
     "output_type": "stream",
     "text": [
      "0.580707233095 \t\t 24 \t\t 6\n0.577952388921 \t\t 24 \t\t 7\n"
     ]
    },
    {
     "name": "stderr",
     "output_type": "stream",
     "text": [
      "/Users/maxwelllee54/anaconda/lib/python3.5/site-packages/sklearn/utils/validation.py:526: DataConversionWarning: A column-vector y was passed when a 1d array was expected. Please change the shape of y to (n_samples, ), for example using ravel().\n  y = column_or_1d(y, warn=True)\n/Users/maxwelllee54/anaconda/lib/python3.5/site-packages/sklearn/calibration.py:415: RuntimeWarning: overflow encountered in exp\n  E = np.exp(AB[0] * F + AB[1])\n/Users/maxwelllee54/anaconda/lib/python3.5/site-packages/sklearn/calibration.py:425: RuntimeWarning: overflow encountered in exp\n  E = np.exp(AB[0] * F + AB[1])\n/Users/maxwelllee54/anaconda/lib/python3.5/site-packages/sklearn/calibration.py:427: RuntimeWarning: invalid value encountered in multiply\n  TEP_minus_T1P = P * (T * E - T1)\n/Users/maxwelllee54/anaconda/lib/python3.5/site-packages/sklearn/calibration.py:415: RuntimeWarning: overflow encountered in exp\n  E = np.exp(AB[0] * F + AB[1])\n/Users/maxwelllee54/anaconda/lib/python3.5/site-packages/sklearn/utils/validation.py:526: DataConversionWarning: A column-vector y was passed when a 1d array was expected. Please change the shape of y to (n_samples, ), for example using ravel().\n  y = column_or_1d(y, warn=True)\n"
     ]
    },
    {
     "name": "stdout",
     "output_type": "stream",
     "text": [
      "0.600197736092 \t\t 24 \t\t 8\n0.588326866687 \t\t 24 \t\t 9\n"
     ]
    },
    {
     "name": "stderr",
     "output_type": "stream",
     "text": [
      "/Users/maxwelllee54/anaconda/lib/python3.5/site-packages/sklearn/calibration.py:415: RuntimeWarning: overflow encountered in exp\n  E = np.exp(AB[0] * F + AB[1])\n/Users/maxwelllee54/anaconda/lib/python3.5/site-packages/sklearn/calibration.py:425: RuntimeWarning: overflow encountered in exp\n  E = np.exp(AB[0] * F + AB[1])\n/Users/maxwelllee54/anaconda/lib/python3.5/site-packages/sklearn/calibration.py:427: RuntimeWarning: invalid value encountered in multiply\n  TEP_minus_T1P = P * (T * E - T1)\n/Users/maxwelllee54/anaconda/lib/python3.5/site-packages/sklearn/calibration.py:415: RuntimeWarning: overflow encountered in exp\n  E = np.exp(AB[0] * F + AB[1])\n/Users/maxwelllee54/anaconda/lib/python3.5/site-packages/sklearn/utils/validation.py:526: DataConversionWarning: A column-vector y was passed when a 1d array was expected. Please change the shape of y to (n_samples, ), for example using ravel().\n  y = column_or_1d(y, warn=True)\n/Users/maxwelllee54/anaconda/lib/python3.5/site-packages/sklearn/calibration.py:415: RuntimeWarning: overflow encountered in exp\n  E = np.exp(AB[0] * F + AB[1])\n/Users/maxwelllee54/anaconda/lib/python3.5/site-packages/sklearn/calibration.py:425: RuntimeWarning: overflow encountered in exp\n  E = np.exp(AB[0] * F + AB[1])\n/Users/maxwelllee54/anaconda/lib/python3.5/site-packages/sklearn/calibration.py:427: RuntimeWarning: invalid value encountered in multiply\n  TEP_minus_T1P = P * (T * E - T1)\n/Users/maxwelllee54/anaconda/lib/python3.5/site-packages/sklearn/calibration.py:415: RuntimeWarning: overflow encountered in exp\n  E = np.exp(AB[0] * F + AB[1])\n/Users/maxwelllee54/anaconda/lib/python3.5/site-packages/sklearn/utils/validation.py:526: DataConversionWarning: A column-vector y was passed when a 1d array was expected. Please change the shape of y to (n_samples, ), for example using ravel().\n  y = column_or_1d(y, warn=True)\n"
     ]
    },
    {
     "name": "stdout",
     "output_type": "stream",
     "text": [
      "0.549781478145 \t\t 24 \t\t 10\n0.565753802092 \t\t 24 \t\t 11\n"
     ]
    },
    {
     "name": "stderr",
     "output_type": "stream",
     "text": [
      "/Users/maxwelllee54/anaconda/lib/python3.5/site-packages/sklearn/calibration.py:415: RuntimeWarning: overflow encountered in exp\n  E = np.exp(AB[0] * F + AB[1])\n/Users/maxwelllee54/anaconda/lib/python3.5/site-packages/sklearn/calibration.py:425: RuntimeWarning: overflow encountered in exp\n  E = np.exp(AB[0] * F + AB[1])\n/Users/maxwelllee54/anaconda/lib/python3.5/site-packages/sklearn/calibration.py:427: RuntimeWarning: invalid value encountered in multiply\n  TEP_minus_T1P = P * (T * E - T1)\n/Users/maxwelllee54/anaconda/lib/python3.5/site-packages/sklearn/calibration.py:415: RuntimeWarning: overflow encountered in exp\n  E = np.exp(AB[0] * F + AB[1])\n/Users/maxwelllee54/anaconda/lib/python3.5/site-packages/sklearn/utils/validation.py:526: DataConversionWarning: A column-vector y was passed when a 1d array was expected. Please change the shape of y to (n_samples, ), for example using ravel().\n  y = column_or_1d(y, warn=True)\n/Users/maxwelllee54/anaconda/lib/python3.5/site-packages/sklearn/calibration.py:415: RuntimeWarning: overflow encountered in exp\n  E = np.exp(AB[0] * F + AB[1])\n/Users/maxwelllee54/anaconda/lib/python3.5/site-packages/sklearn/calibration.py:425: RuntimeWarning: overflow encountered in exp\n  E = np.exp(AB[0] * F + AB[1])\n/Users/maxwelllee54/anaconda/lib/python3.5/site-packages/sklearn/calibration.py:427: RuntimeWarning: invalid value encountered in multiply\n  TEP_minus_T1P = P * (T * E - T1)\n/Users/maxwelllee54/anaconda/lib/python3.5/site-packages/sklearn/calibration.py:415: RuntimeWarning: overflow encountered in exp\n  E = np.exp(AB[0] * F + AB[1])\n/Users/maxwelllee54/anaconda/lib/python3.5/site-packages/sklearn/utils/validation.py:526: DataConversionWarning: A column-vector y was passed when a 1d array was expected. Please change the shape of y to (n_samples, ), for example using ravel().\n  y = column_or_1d(y, warn=True)\n"
     ]
    },
    {
     "name": "stdout",
     "output_type": "stream",
     "text": [
      "0.565702459778 \t\t 24 \t\t 12\n0.564459456213 \t\t 24 \t\t 13\n"
     ]
    },
    {
     "name": "stderr",
     "output_type": "stream",
     "text": [
      "/Users/maxwelllee54/anaconda/lib/python3.5/site-packages/sklearn/calibration.py:415: RuntimeWarning: overflow encountered in exp\n  E = np.exp(AB[0] * F + AB[1])\n/Users/maxwelllee54/anaconda/lib/python3.5/site-packages/sklearn/calibration.py:425: RuntimeWarning: overflow encountered in exp\n  E = np.exp(AB[0] * F + AB[1])\n/Users/maxwelllee54/anaconda/lib/python3.5/site-packages/sklearn/calibration.py:427: RuntimeWarning: invalid value encountered in multiply\n  TEP_minus_T1P = P * (T * E - T1)\n/Users/maxwelllee54/anaconda/lib/python3.5/site-packages/sklearn/calibration.py:415: RuntimeWarning: overflow encountered in exp\n  E = np.exp(AB[0] * F + AB[1])\n/Users/maxwelllee54/anaconda/lib/python3.5/site-packages/sklearn/utils/validation.py:526: DataConversionWarning: A column-vector y was passed when a 1d array was expected. Please change the shape of y to (n_samples, ), for example using ravel().\n  y = column_or_1d(y, warn=True)\n/Users/maxwelllee54/anaconda/lib/python3.5/site-packages/sklearn/calibration.py:415: RuntimeWarning: overflow encountered in exp\n  E = np.exp(AB[0] * F + AB[1])\n/Users/maxwelllee54/anaconda/lib/python3.5/site-packages/sklearn/calibration.py:425: RuntimeWarning: overflow encountered in exp\n  E = np.exp(AB[0] * F + AB[1])\n/Users/maxwelllee54/anaconda/lib/python3.5/site-packages/sklearn/calibration.py:427: RuntimeWarning: invalid value encountered in multiply\n  TEP_minus_T1P = P * (T * E - T1)\n/Users/maxwelllee54/anaconda/lib/python3.5/site-packages/sklearn/calibration.py:415: RuntimeWarning: overflow encountered in exp\n  E = np.exp(AB[0] * F + AB[1])\n/Users/maxwelllee54/anaconda/lib/python3.5/site-packages/sklearn/utils/validation.py:526: DataConversionWarning: A column-vector y was passed when a 1d array was expected. Please change the shape of y to (n_samples, ), for example using ravel().\n  y = column_or_1d(y, warn=True)\n"
     ]
    },
    {
     "name": "stdout",
     "output_type": "stream",
     "text": [
      "0.566085400681 \t\t 24 \t\t 14\n0.570545343511 \t\t 24 \t\t 15\n"
     ]
    },
    {
     "name": "stderr",
     "output_type": "stream",
     "text": [
      "/Users/maxwelllee54/anaconda/lib/python3.5/site-packages/sklearn/calibration.py:415: RuntimeWarning: overflow encountered in exp\n  E = np.exp(AB[0] * F + AB[1])\n/Users/maxwelllee54/anaconda/lib/python3.5/site-packages/sklearn/calibration.py:425: RuntimeWarning: overflow encountered in exp\n  E = np.exp(AB[0] * F + AB[1])\n/Users/maxwelllee54/anaconda/lib/python3.5/site-packages/sklearn/calibration.py:427: RuntimeWarning: invalid value encountered in multiply\n  TEP_minus_T1P = P * (T * E - T1)\n/Users/maxwelllee54/anaconda/lib/python3.5/site-packages/sklearn/calibration.py:415: RuntimeWarning: overflow encountered in exp\n  E = np.exp(AB[0] * F + AB[1])\n/Users/maxwelllee54/anaconda/lib/python3.5/site-packages/sklearn/utils/validation.py:526: DataConversionWarning: A column-vector y was passed when a 1d array was expected. Please change the shape of y to (n_samples, ), for example using ravel().\n  y = column_or_1d(y, warn=True)\n/Users/maxwelllee54/anaconda/lib/python3.5/site-packages/sklearn/calibration.py:415: RuntimeWarning: overflow encountered in exp\n  E = np.exp(AB[0] * F + AB[1])\n/Users/maxwelllee54/anaconda/lib/python3.5/site-packages/sklearn/calibration.py:425: RuntimeWarning: overflow encountered in exp\n  E = np.exp(AB[0] * F + AB[1])\n/Users/maxwelllee54/anaconda/lib/python3.5/site-packages/sklearn/calibration.py:427: RuntimeWarning: invalid value encountered in multiply\n  TEP_minus_T1P = P * (T * E - T1)\n/Users/maxwelllee54/anaconda/lib/python3.5/site-packages/sklearn/calibration.py:415: RuntimeWarning: overflow encountered in exp\n  E = np.exp(AB[0] * F + AB[1])\n/Users/maxwelllee54/anaconda/lib/python3.5/site-packages/sklearn/utils/validation.py:526: DataConversionWarning: A column-vector y was passed when a 1d array was expected. Please change the shape of y to (n_samples, ), for example using ravel().\n  y = column_or_1d(y, warn=True)\n"
     ]
    },
    {
     "name": "stdout",
     "output_type": "stream",
     "text": [
      "0.573783376502 \t\t 24 \t\t 16\n0.574141837736 \t\t 24 \t\t 17\n"
     ]
    },
    {
     "name": "stderr",
     "output_type": "stream",
     "text": [
      "/Users/maxwelllee54/anaconda/lib/python3.5/site-packages/sklearn/calibration.py:415: RuntimeWarning: overflow encountered in exp\n  E = np.exp(AB[0] * F + AB[1])\n/Users/maxwelllee54/anaconda/lib/python3.5/site-packages/sklearn/calibration.py:425: RuntimeWarning: overflow encountered in exp\n  E = np.exp(AB[0] * F + AB[1])\n/Users/maxwelllee54/anaconda/lib/python3.5/site-packages/sklearn/calibration.py:427: RuntimeWarning: invalid value encountered in multiply\n  TEP_minus_T1P = P * (T * E - T1)\n/Users/maxwelllee54/anaconda/lib/python3.5/site-packages/sklearn/calibration.py:415: RuntimeWarning: overflow encountered in exp\n  E = np.exp(AB[0] * F + AB[1])\n/Users/maxwelllee54/anaconda/lib/python3.5/site-packages/sklearn/utils/validation.py:526: DataConversionWarning: A column-vector y was passed when a 1d array was expected. Please change the shape of y to (n_samples, ), for example using ravel().\n  y = column_or_1d(y, warn=True)\n/Users/maxwelllee54/anaconda/lib/python3.5/site-packages/sklearn/calibration.py:415: RuntimeWarning: overflow encountered in exp\n  E = np.exp(AB[0] * F + AB[1])\n/Users/maxwelllee54/anaconda/lib/python3.5/site-packages/sklearn/calibration.py:425: RuntimeWarning: overflow encountered in exp\n  E = np.exp(AB[0] * F + AB[1])\n/Users/maxwelllee54/anaconda/lib/python3.5/site-packages/sklearn/calibration.py:427: RuntimeWarning: invalid value encountered in multiply\n  TEP_minus_T1P = P * (T * E - T1)\n/Users/maxwelllee54/anaconda/lib/python3.5/site-packages/sklearn/calibration.py:415: RuntimeWarning: overflow encountered in exp\n  E = np.exp(AB[0] * F + AB[1])\n/Users/maxwelllee54/anaconda/lib/python3.5/site-packages/sklearn/utils/validation.py:526: DataConversionWarning: A column-vector y was passed when a 1d array was expected. Please change the shape of y to (n_samples, ), for example using ravel().\n  y = column_or_1d(y, warn=True)\n"
     ]
    },
    {
     "name": "stdout",
     "output_type": "stream",
     "text": [
      "0.577019168785 \t\t 24 \t\t 18\n0.586995700455 \t\t 24 \t\t 19\n"
     ]
    },
    {
     "name": "stderr",
     "output_type": "stream",
     "text": [
      "/Users/maxwelllee54/anaconda/lib/python3.5/site-packages/sklearn/calibration.py:415: RuntimeWarning: overflow encountered in exp\n  E = np.exp(AB[0] * F + AB[1])\n/Users/maxwelllee54/anaconda/lib/python3.5/site-packages/sklearn/calibration.py:425: RuntimeWarning: overflow encountered in exp\n  E = np.exp(AB[0] * F + AB[1])\n/Users/maxwelllee54/anaconda/lib/python3.5/site-packages/sklearn/calibration.py:427: RuntimeWarning: invalid value encountered in multiply\n  TEP_minus_T1P = P * (T * E - T1)\n/Users/maxwelllee54/anaconda/lib/python3.5/site-packages/sklearn/calibration.py:415: RuntimeWarning: overflow encountered in exp\n  E = np.exp(AB[0] * F + AB[1])\n/Users/maxwelllee54/anaconda/lib/python3.5/site-packages/sklearn/utils/validation.py:526: DataConversionWarning: A column-vector y was passed when a 1d array was expected. Please change the shape of y to (n_samples, ), for example using ravel().\n  y = column_or_1d(y, warn=True)\n/Users/maxwelllee54/anaconda/lib/python3.5/site-packages/sklearn/calibration.py:415: RuntimeWarning: overflow encountered in exp\n  E = np.exp(AB[0] * F + AB[1])\n/Users/maxwelllee54/anaconda/lib/python3.5/site-packages/sklearn/calibration.py:425: RuntimeWarning: overflow encountered in exp\n  E = np.exp(AB[0] * F + AB[1])\n/Users/maxwelllee54/anaconda/lib/python3.5/site-packages/sklearn/calibration.py:427: RuntimeWarning: invalid value encountered in multiply\n  TEP_minus_T1P = P * (T * E - T1)\n/Users/maxwelllee54/anaconda/lib/python3.5/site-packages/sklearn/calibration.py:415: RuntimeWarning: overflow encountered in exp\n  E = np.exp(AB[0] * F + AB[1])\n/Users/maxwelllee54/anaconda/lib/python3.5/site-packages/sklearn/utils/validation.py:526: DataConversionWarning: A column-vector y was passed when a 1d array was expected. Please change the shape of y to (n_samples, ), for example using ravel().\n  y = column_or_1d(y, warn=True)\n"
     ]
    },
    {
     "name": "stdout",
     "output_type": "stream",
     "text": [
      "0.595892546557 \t\t 24 \t\t 20\n"
     ]
    },
    {
     "name": "stderr",
     "output_type": "stream",
     "text": [
      "/Users/maxwelllee54/anaconda/lib/python3.5/site-packages/sklearn/calibration.py:415: RuntimeWarning: overflow encountered in exp\n  E = np.exp(AB[0] * F + AB[1])\n/Users/maxwelllee54/anaconda/lib/python3.5/site-packages/sklearn/calibration.py:425: RuntimeWarning: overflow encountered in exp\n  E = np.exp(AB[0] * F + AB[1])\n/Users/maxwelllee54/anaconda/lib/python3.5/site-packages/sklearn/calibration.py:427: RuntimeWarning: invalid value encountered in multiply\n  TEP_minus_T1P = P * (T * E - T1)\n/Users/maxwelllee54/anaconda/lib/python3.5/site-packages/sklearn/calibration.py:415: RuntimeWarning: overflow encountered in exp\n  E = np.exp(AB[0] * F + AB[1])\n/Users/maxwelllee54/anaconda/lib/python3.5/site-packages/sklearn/utils/validation.py:526: DataConversionWarning: A column-vector y was passed when a 1d array was expected. Please change the shape of y to (n_samples, ), for example using ravel().\n  y = column_or_1d(y, warn=True)\n"
     ]
    },
    {
     "name": "stdout",
     "output_type": "stream",
     "text": [
      "0.607593211038 \t\t 24 \t\t 21\n"
     ]
    },
    {
     "name": "stderr",
     "output_type": "stream",
     "text": [
      "/Users/maxwelllee54/anaconda/lib/python3.5/site-packages/sklearn/calibration.py:415: RuntimeWarning: overflow encountered in exp\n  E = np.exp(AB[0] * F + AB[1])\n/Users/maxwelllee54/anaconda/lib/python3.5/site-packages/sklearn/calibration.py:425: RuntimeWarning: overflow encountered in exp\n  E = np.exp(AB[0] * F + AB[1])\n/Users/maxwelllee54/anaconda/lib/python3.5/site-packages/sklearn/calibration.py:427: RuntimeWarning: invalid value encountered in multiply\n  TEP_minus_T1P = P * (T * E - T1)\n/Users/maxwelllee54/anaconda/lib/python3.5/site-packages/sklearn/calibration.py:415: RuntimeWarning: overflow encountered in exp\n  E = np.exp(AB[0] * F + AB[1])\n/Users/maxwelllee54/anaconda/lib/python3.5/site-packages/sklearn/utils/validation.py:526: DataConversionWarning: A column-vector y was passed when a 1d array was expected. Please change the shape of y to (n_samples, ), for example using ravel().\n  y = column_or_1d(y, warn=True)\n"
     ]
    },
    {
     "name": "stdout",
     "output_type": "stream",
     "text": [
      "0.607477928671 \t\t 24 \t\t 22\n"
     ]
    },
    {
     "name": "stderr",
     "output_type": "stream",
     "text": [
      "/Users/maxwelllee54/anaconda/lib/python3.5/site-packages/sklearn/calibration.py:415: RuntimeWarning: overflow encountered in exp\n  E = np.exp(AB[0] * F + AB[1])\n/Users/maxwelllee54/anaconda/lib/python3.5/site-packages/sklearn/calibration.py:425: RuntimeWarning: overflow encountered in exp\n  E = np.exp(AB[0] * F + AB[1])\n/Users/maxwelllee54/anaconda/lib/python3.5/site-packages/sklearn/calibration.py:427: RuntimeWarning: invalid value encountered in multiply\n  TEP_minus_T1P = P * (T * E - T1)\n/Users/maxwelllee54/anaconda/lib/python3.5/site-packages/sklearn/calibration.py:415: RuntimeWarning: overflow encountered in exp\n  E = np.exp(AB[0] * F + AB[1])\n/Users/maxwelllee54/anaconda/lib/python3.5/site-packages/sklearn/utils/validation.py:526: DataConversionWarning: A column-vector y was passed when a 1d array was expected. Please change the shape of y to (n_samples, ), for example using ravel().\n  y = column_or_1d(y, warn=True)\n/Users/maxwelllee54/anaconda/lib/python3.5/site-packages/sklearn/utils/validation.py:526: DataConversionWarning: A column-vector y was passed when a 1d array was expected. Please change the shape of y to (n_samples, ), for example using ravel().\n  y = column_or_1d(y, warn=True)\n"
     ]
    },
    {
     "name": "stdout",
     "output_type": "stream",
     "text": [
      "0.596820027848 \t\t 24 \t\t 23\n0.798536989729 \t\t 25 \t\t 3\n"
     ]
    },
    {
     "name": "stdout",
     "output_type": "stream",
     "text": [
      "0.792606692188 \t\t 25 \t\t 4\n0.570522498261 \t\t 25 \t\t 5\n0.580707083999 \t\t 25 \t\t 6\n"
     ]
    },
    {
     "name": "stderr",
     "output_type": "stream",
     "text": [
      "/Users/maxwelllee54/anaconda/lib/python3.5/site-packages/sklearn/utils/validation.py:526: DataConversionWarning: A column-vector y was passed when a 1d array was expected. Please change the shape of y to (n_samples, ), for example using ravel().\n  y = column_or_1d(y, warn=True)\n/Users/maxwelllee54/anaconda/lib/python3.5/site-packages/sklearn/calibration.py:415: RuntimeWarning: overflow encountered in exp\n  E = np.exp(AB[0] * F + AB[1])\n/Users/maxwelllee54/anaconda/lib/python3.5/site-packages/sklearn/calibration.py:425: RuntimeWarning: overflow encountered in exp\n  E = np.exp(AB[0] * F + AB[1])\n/Users/maxwelllee54/anaconda/lib/python3.5/site-packages/sklearn/calibration.py:427: RuntimeWarning: invalid value encountered in multiply\n  TEP_minus_T1P = P * (T * E - T1)\n/Users/maxwelllee54/anaconda/lib/python3.5/site-packages/sklearn/calibration.py:415: RuntimeWarning: overflow encountered in exp\n  E = np.exp(AB[0] * F + AB[1])\n/Users/maxwelllee54/anaconda/lib/python3.5/site-packages/sklearn/utils/validation.py:526: DataConversionWarning: A column-vector y was passed when a 1d array was expected. Please change the shape of y to (n_samples, ), for example using ravel().\n  y = column_or_1d(y, warn=True)\n/Users/maxwelllee54/anaconda/lib/python3.5/site-packages/sklearn/calibration.py:415: RuntimeWarning: overflow encountered in exp\n  E = np.exp(AB[0] * F + AB[1])\n/Users/maxwelllee54/anaconda/lib/python3.5/site-packages/sklearn/calibration.py:425: RuntimeWarning: overflow encountered in exp\n  E = np.exp(AB[0] * F + AB[1])\n/Users/maxwelllee54/anaconda/lib/python3.5/site-packages/sklearn/calibration.py:427: RuntimeWarning: invalid value encountered in multiply\n  TEP_minus_T1P = P * (T * E - T1)\n/Users/maxwelllee54/anaconda/lib/python3.5/site-packages/sklearn/calibration.py:415: RuntimeWarning: overflow encountered in exp\n  E = np.exp(AB[0] * F + AB[1])\n"
     ]
    },
    {
     "name": "stderr",
     "output_type": "stream",
     "text": [
      "/Users/maxwelllee54/anaconda/lib/python3.5/site-packages/sklearn/utils/validation.py:526: DataConversionWarning: A column-vector y was passed when a 1d array was expected. Please change the shape of y to (n_samples, ), for example using ravel().\n  y = column_or_1d(y, warn=True)\n/Users/maxwelllee54/anaconda/lib/python3.5/site-packages/sklearn/calibration.py:415: RuntimeWarning: overflow encountered in exp\n  E = np.exp(AB[0] * F + AB[1])\n/Users/maxwelllee54/anaconda/lib/python3.5/site-packages/sklearn/calibration.py:425: RuntimeWarning: overflow encountered in exp\n  E = np.exp(AB[0] * F + AB[1])\n/Users/maxwelllee54/anaconda/lib/python3.5/site-packages/sklearn/calibration.py:427: RuntimeWarning: invalid value encountered in multiply\n  TEP_minus_T1P = P * (T * E - T1)\n/Users/maxwelllee54/anaconda/lib/python3.5/site-packages/sklearn/calibration.py:415: RuntimeWarning: overflow encountered in exp\n  E = np.exp(AB[0] * F + AB[1])\n/Users/maxwelllee54/anaconda/lib/python3.5/site-packages/sklearn/utils/validation.py:526: DataConversionWarning: A column-vector y was passed when a 1d array was expected. Please change the shape of y to (n_samples, ), for example using ravel().\n  y = column_or_1d(y, warn=True)\n"
     ]
    },
    {
     "name": "stdout",
     "output_type": "stream",
     "text": [
      "0.577953150243 \t\t 25 \t\t 7\n0.600195025152 \t\t 25 \t\t 8\n"
     ]
    },
    {
     "name": "stderr",
     "output_type": "stream",
     "text": [
      "/Users/maxwelllee54/anaconda/lib/python3.5/site-packages/sklearn/calibration.py:415: RuntimeWarning: overflow encountered in exp\n  E = np.exp(AB[0] * F + AB[1])\n/Users/maxwelllee54/anaconda/lib/python3.5/site-packages/sklearn/calibration.py:425: RuntimeWarning: overflow encountered in exp\n  E = np.exp(AB[0] * F + AB[1])\n/Users/maxwelllee54/anaconda/lib/python3.5/site-packages/sklearn/calibration.py:427: RuntimeWarning: invalid value encountered in multiply\n  TEP_minus_T1P = P * (T * E - T1)\n/Users/maxwelllee54/anaconda/lib/python3.5/site-packages/sklearn/calibration.py:415: RuntimeWarning: overflow encountered in exp\n  E = np.exp(AB[0] * F + AB[1])\n/Users/maxwelllee54/anaconda/lib/python3.5/site-packages/sklearn/utils/validation.py:526: DataConversionWarning: A column-vector y was passed when a 1d array was expected. Please change the shape of y to (n_samples, ), for example using ravel().\n  y = column_or_1d(y, warn=True)\n/Users/maxwelllee54/anaconda/lib/python3.5/site-packages/sklearn/calibration.py:415: RuntimeWarning: overflow encountered in exp\n  E = np.exp(AB[0] * F + AB[1])\n/Users/maxwelllee54/anaconda/lib/python3.5/site-packages/sklearn/calibration.py:425: RuntimeWarning: overflow encountered in exp\n  E = np.exp(AB[0] * F + AB[1])\n/Users/maxwelllee54/anaconda/lib/python3.5/site-packages/sklearn/calibration.py:427: RuntimeWarning: invalid value encountered in multiply\n  TEP_minus_T1P = P * (T * E - T1)\n/Users/maxwelllee54/anaconda/lib/python3.5/site-packages/sklearn/calibration.py:415: RuntimeWarning: overflow encountered in exp\n  E = np.exp(AB[0] * F + AB[1])\n/Users/maxwelllee54/anaconda/lib/python3.5/site-packages/sklearn/utils/validation.py:526: DataConversionWarning: A column-vector y was passed when a 1d array was expected. Please change the shape of y to (n_samples, ), for example using ravel().\n  y = column_or_1d(y, warn=True)\n"
     ]
    },
    {
     "name": "stdout",
     "output_type": "stream",
     "text": [
      "0.588327260138 \t\t 25 \t\t 9\n0.549776978892 \t\t 25 \t\t 10\n"
     ]
    },
    {
     "name": "stderr",
     "output_type": "stream",
     "text": [
      "/Users/maxwelllee54/anaconda/lib/python3.5/site-packages/sklearn/calibration.py:415: RuntimeWarning: overflow encountered in exp\n  E = np.exp(AB[0] * F + AB[1])\n/Users/maxwelllee54/anaconda/lib/python3.5/site-packages/sklearn/calibration.py:425: RuntimeWarning: overflow encountered in exp\n  E = np.exp(AB[0] * F + AB[1])\n/Users/maxwelllee54/anaconda/lib/python3.5/site-packages/sklearn/calibration.py:427: RuntimeWarning: invalid value encountered in multiply\n  TEP_minus_T1P = P * (T * E - T1)\n/Users/maxwelllee54/anaconda/lib/python3.5/site-packages/sklearn/calibration.py:415: RuntimeWarning: overflow encountered in exp\n  E = np.exp(AB[0] * F + AB[1])\n/Users/maxwelllee54/anaconda/lib/python3.5/site-packages/sklearn/utils/validation.py:526: DataConversionWarning: A column-vector y was passed when a 1d array was expected. Please change the shape of y to (n_samples, ), for example using ravel().\n  y = column_or_1d(y, warn=True)\n/Users/maxwelllee54/anaconda/lib/python3.5/site-packages/sklearn/calibration.py:415: RuntimeWarning: overflow encountered in exp\n  E = np.exp(AB[0] * F + AB[1])\n/Users/maxwelllee54/anaconda/lib/python3.5/site-packages/sklearn/calibration.py:425: RuntimeWarning: overflow encountered in exp\n  E = np.exp(AB[0] * F + AB[1])\n/Users/maxwelllee54/anaconda/lib/python3.5/site-packages/sklearn/calibration.py:427: RuntimeWarning: invalid value encountered in multiply\n  TEP_minus_T1P = P * (T * E - T1)\n/Users/maxwelllee54/anaconda/lib/python3.5/site-packages/sklearn/calibration.py:415: RuntimeWarning: overflow encountered in exp\n  E = np.exp(AB[0] * F + AB[1])\n/Users/maxwelllee54/anaconda/lib/python3.5/site-packages/sklearn/utils/validation.py:526: DataConversionWarning: A column-vector y was passed when a 1d array was expected. Please change the shape of y to (n_samples, ), for example using ravel().\n  y = column_or_1d(y, warn=True)\n"
     ]
    },
    {
     "name": "stdout",
     "output_type": "stream",
     "text": [
      "0.565750929084 \t\t 25 \t\t 11\n0.56569731869 \t\t 25 \t\t 12\n"
     ]
    },
    {
     "name": "stderr",
     "output_type": "stream",
     "text": [
      "/Users/maxwelllee54/anaconda/lib/python3.5/site-packages/sklearn/calibration.py:415: RuntimeWarning: overflow encountered in exp\n  E = np.exp(AB[0] * F + AB[1])\n/Users/maxwelllee54/anaconda/lib/python3.5/site-packages/sklearn/calibration.py:425: RuntimeWarning: overflow encountered in exp\n  E = np.exp(AB[0] * F + AB[1])\n/Users/maxwelllee54/anaconda/lib/python3.5/site-packages/sklearn/calibration.py:427: RuntimeWarning: invalid value encountered in multiply\n  TEP_minus_T1P = P * (T * E - T1)\n/Users/maxwelllee54/anaconda/lib/python3.5/site-packages/sklearn/calibration.py:415: RuntimeWarning: overflow encountered in exp\n  E = np.exp(AB[0] * F + AB[1])\n/Users/maxwelllee54/anaconda/lib/python3.5/site-packages/sklearn/utils/validation.py:526: DataConversionWarning: A column-vector y was passed when a 1d array was expected. Please change the shape of y to (n_samples, ), for example using ravel().\n  y = column_or_1d(y, warn=True)\n/Users/maxwelllee54/anaconda/lib/python3.5/site-packages/sklearn/calibration.py:415: RuntimeWarning: overflow encountered in exp\n  E = np.exp(AB[0] * F + AB[1])\n/Users/maxwelllee54/anaconda/lib/python3.5/site-packages/sklearn/calibration.py:425: RuntimeWarning: overflow encountered in exp\n  E = np.exp(AB[0] * F + AB[1])\n/Users/maxwelllee54/anaconda/lib/python3.5/site-packages/sklearn/calibration.py:427: RuntimeWarning: invalid value encountered in multiply\n  TEP_minus_T1P = P * (T * E - T1)\n/Users/maxwelllee54/anaconda/lib/python3.5/site-packages/sklearn/calibration.py:415: RuntimeWarning: overflow encountered in exp\n  E = np.exp(AB[0] * F + AB[1])\n/Users/maxwelllee54/anaconda/lib/python3.5/site-packages/sklearn/utils/validation.py:526: DataConversionWarning: A column-vector y was passed when a 1d array was expected. Please change the shape of y to (n_samples, ), for example using ravel().\n  y = column_or_1d(y, warn=True)\n"
     ]
    },
    {
     "name": "stdout",
     "output_type": "stream",
     "text": [
      "0.564458935993 \t\t 25 \t\t 13\n0.566072609577 \t\t 25 \t\t 14\n"
     ]
    },
    {
     "name": "stderr",
     "output_type": "stream",
     "text": [
      "/Users/maxwelllee54/anaconda/lib/python3.5/site-packages/sklearn/calibration.py:415: RuntimeWarning: overflow encountered in exp\n  E = np.exp(AB[0] * F + AB[1])\n/Users/maxwelllee54/anaconda/lib/python3.5/site-packages/sklearn/calibration.py:425: RuntimeWarning: overflow encountered in exp\n  E = np.exp(AB[0] * F + AB[1])\n/Users/maxwelllee54/anaconda/lib/python3.5/site-packages/sklearn/calibration.py:427: RuntimeWarning: invalid value encountered in multiply\n  TEP_minus_T1P = P * (T * E - T1)\n/Users/maxwelllee54/anaconda/lib/python3.5/site-packages/sklearn/calibration.py:415: RuntimeWarning: overflow encountered in exp\n  E = np.exp(AB[0] * F + AB[1])\n/Users/maxwelllee54/anaconda/lib/python3.5/site-packages/sklearn/utils/validation.py:526: DataConversionWarning: A column-vector y was passed when a 1d array was expected. Please change the shape of y to (n_samples, ), for example using ravel().\n  y = column_or_1d(y, warn=True)\n/Users/maxwelllee54/anaconda/lib/python3.5/site-packages/sklearn/calibration.py:415: RuntimeWarning: overflow encountered in exp\n  E = np.exp(AB[0] * F + AB[1])\n/Users/maxwelllee54/anaconda/lib/python3.5/site-packages/sklearn/calibration.py:425: RuntimeWarning: overflow encountered in exp\n  E = np.exp(AB[0] * F + AB[1])\n/Users/maxwelllee54/anaconda/lib/python3.5/site-packages/sklearn/calibration.py:427: RuntimeWarning: invalid value encountered in multiply\n  TEP_minus_T1P = P * (T * E - T1)\n/Users/maxwelllee54/anaconda/lib/python3.5/site-packages/sklearn/calibration.py:415: RuntimeWarning: overflow encountered in exp\n  E = np.exp(AB[0] * F + AB[1])\n/Users/maxwelllee54/anaconda/lib/python3.5/site-packages/sklearn/utils/validation.py:526: DataConversionWarning: A column-vector y was passed when a 1d array was expected. Please change the shape of y to (n_samples, ), for example using ravel().\n  y = column_or_1d(y, warn=True)\n"
     ]
    },
    {
     "name": "stdout",
     "output_type": "stream",
     "text": [
      "0.570545489884 \t\t 25 \t\t 15\n"
     ]
    },
    {
     "name": "stderr",
     "output_type": "stream",
     "text": [
      "/Users/maxwelllee54/anaconda/lib/python3.5/site-packages/sklearn/calibration.py:415: RuntimeWarning: overflow encountered in exp\n  E = np.exp(AB[0] * F + AB[1])\n/Users/maxwelllee54/anaconda/lib/python3.5/site-packages/sklearn/calibration.py:425: RuntimeWarning: overflow encountered in exp\n  E = np.exp(AB[0] * F + AB[1])\n/Users/maxwelllee54/anaconda/lib/python3.5/site-packages/sklearn/calibration.py:427: RuntimeWarning: invalid value encountered in multiply\n  TEP_minus_T1P = P * (T * E - T1)\n/Users/maxwelllee54/anaconda/lib/python3.5/site-packages/sklearn/calibration.py:415: RuntimeWarning: overflow encountered in exp\n  E = np.exp(AB[0] * F + AB[1])\n/Users/maxwelllee54/anaconda/lib/python3.5/site-packages/sklearn/utils/validation.py:526: DataConversionWarning: A column-vector y was passed when a 1d array was expected. Please change the shape of y to (n_samples, ), for example using ravel().\n  y = column_or_1d(y, warn=True)\n"
     ]
    },
    {
     "name": "stdout",
     "output_type": "stream",
     "text": [
      "0.573786618726 \t\t 25 \t\t 16\n"
     ]
    },
    {
     "name": "stderr",
     "output_type": "stream",
     "text": [
      "/Users/maxwelllee54/anaconda/lib/python3.5/site-packages/sklearn/calibration.py:415: RuntimeWarning: overflow encountered in exp\n  E = np.exp(AB[0] * F + AB[1])\n/Users/maxwelllee54/anaconda/lib/python3.5/site-packages/sklearn/calibration.py:425: RuntimeWarning: overflow encountered in exp\n  E = np.exp(AB[0] * F + AB[1])\n/Users/maxwelllee54/anaconda/lib/python3.5/site-packages/sklearn/calibration.py:427: RuntimeWarning: invalid value encountered in multiply\n  TEP_minus_T1P = P * (T * E - T1)\n/Users/maxwelllee54/anaconda/lib/python3.5/site-packages/sklearn/calibration.py:415: RuntimeWarning: overflow encountered in exp\n  E = np.exp(AB[0] * F + AB[1])\n/Users/maxwelllee54/anaconda/lib/python3.5/site-packages/sklearn/utils/validation.py:526: DataConversionWarning: A column-vector y was passed when a 1d array was expected. Please change the shape of y to (n_samples, ), for example using ravel().\n  y = column_or_1d(y, warn=True)\n/Users/maxwelllee54/anaconda/lib/python3.5/site-packages/sklearn/calibration.py:415: RuntimeWarning: overflow encountered in exp\n  E = np.exp(AB[0] * F + AB[1])\n/Users/maxwelllee54/anaconda/lib/python3.5/site-packages/sklearn/calibration.py:425: RuntimeWarning: overflow encountered in exp\n  E = np.exp(AB[0] * F + AB[1])\n/Users/maxwelllee54/anaconda/lib/python3.5/site-packages/sklearn/calibration.py:427: RuntimeWarning: invalid value encountered in multiply\n  TEP_minus_T1P = P * (T * E - T1)\n/Users/maxwelllee54/anaconda/lib/python3.5/site-packages/sklearn/calibration.py:415: RuntimeWarning: overflow encountered in exp\n  E = np.exp(AB[0] * F + AB[1])\n"
     ]
    },
    {
     "name": "stdout",
     "output_type": "stream",
     "text": [
      "0.574140864751 \t\t 25 \t\t 17\n0.577019602066 \t\t 25 \t\t 18\n"
     ]
    },
    {
     "name": "stderr",
     "output_type": "stream",
     "text": [
      "/Users/maxwelllee54/anaconda/lib/python3.5/site-packages/sklearn/utils/validation.py:526: DataConversionWarning: A column-vector y was passed when a 1d array was expected. Please change the shape of y to (n_samples, ), for example using ravel().\n  y = column_or_1d(y, warn=True)\n/Users/maxwelllee54/anaconda/lib/python3.5/site-packages/sklearn/calibration.py:415: RuntimeWarning: overflow encountered in exp\n  E = np.exp(AB[0] * F + AB[1])\n/Users/maxwelllee54/anaconda/lib/python3.5/site-packages/sklearn/calibration.py:425: RuntimeWarning: overflow encountered in exp\n  E = np.exp(AB[0] * F + AB[1])\n/Users/maxwelllee54/anaconda/lib/python3.5/site-packages/sklearn/calibration.py:427: RuntimeWarning: invalid value encountered in multiply\n  TEP_minus_T1P = P * (T * E - T1)\n/Users/maxwelllee54/anaconda/lib/python3.5/site-packages/sklearn/calibration.py:415: RuntimeWarning: overflow encountered in exp\n  E = np.exp(AB[0] * F + AB[1])\n/Users/maxwelllee54/anaconda/lib/python3.5/site-packages/sklearn/utils/validation.py:526: DataConversionWarning: A column-vector y was passed when a 1d array was expected. Please change the shape of y to (n_samples, ), for example using ravel().\n  y = column_or_1d(y, warn=True)\n"
     ]
    },
    {
     "name": "stdout",
     "output_type": "stream",
     "text": [
      "0.586995756158 \t\t 25 \t\t 19\n"
     ]
    },
    {
     "name": "stderr",
     "output_type": "stream",
     "text": [
      "/Users/maxwelllee54/anaconda/lib/python3.5/site-packages/sklearn/calibration.py:415: RuntimeWarning: overflow encountered in exp\n  E = np.exp(AB[0] * F + AB[1])\n/Users/maxwelllee54/anaconda/lib/python3.5/site-packages/sklearn/calibration.py:425: RuntimeWarning: overflow encountered in exp\n  E = np.exp(AB[0] * F + AB[1])\n/Users/maxwelllee54/anaconda/lib/python3.5/site-packages/sklearn/calibration.py:427: RuntimeWarning: invalid value encountered in multiply\n  TEP_minus_T1P = P * (T * E - T1)\n/Users/maxwelllee54/anaconda/lib/python3.5/site-packages/sklearn/calibration.py:415: RuntimeWarning: overflow encountered in exp\n  E = np.exp(AB[0] * F + AB[1])\n/Users/maxwelllee54/anaconda/lib/python3.5/site-packages/sklearn/utils/validation.py:526: DataConversionWarning: A column-vector y was passed when a 1d array was expected. Please change the shape of y to (n_samples, ), for example using ravel().\n  y = column_or_1d(y, warn=True)\n"
     ]
    },
    {
     "name": "stdout",
     "output_type": "stream",
     "text": [
      "0.595892643958 \t\t 25 \t\t 20\n"
     ]
    },
    {
     "name": "stderr",
     "output_type": "stream",
     "text": [
      "/Users/maxwelllee54/anaconda/lib/python3.5/site-packages/sklearn/calibration.py:415: RuntimeWarning: overflow encountered in exp\n  E = np.exp(AB[0] * F + AB[1])\n/Users/maxwelllee54/anaconda/lib/python3.5/site-packages/sklearn/calibration.py:425: RuntimeWarning: overflow encountered in exp\n  E = np.exp(AB[0] * F + AB[1])\n/Users/maxwelllee54/anaconda/lib/python3.5/site-packages/sklearn/calibration.py:427: RuntimeWarning: invalid value encountered in multiply\n  TEP_minus_T1P = P * (T * E - T1)\n/Users/maxwelllee54/anaconda/lib/python3.5/site-packages/sklearn/calibration.py:415: RuntimeWarning: overflow encountered in exp\n  E = np.exp(AB[0] * F + AB[1])\n/Users/maxwelllee54/anaconda/lib/python3.5/site-packages/sklearn/utils/validation.py:526: DataConversionWarning: A column-vector y was passed when a 1d array was expected. Please change the shape of y to (n_samples, ), for example using ravel().\n  y = column_or_1d(y, warn=True)\n"
     ]
    },
    {
     "name": "stdout",
     "output_type": "stream",
     "text": [
      "0.607593207057 \t\t 25 \t\t 21\n"
     ]
    },
    {
     "name": "stderr",
     "output_type": "stream",
     "text": [
      "/Users/maxwelllee54/anaconda/lib/python3.5/site-packages/sklearn/calibration.py:415: RuntimeWarning: overflow encountered in exp\n  E = np.exp(AB[0] * F + AB[1])\n/Users/maxwelllee54/anaconda/lib/python3.5/site-packages/sklearn/calibration.py:425: RuntimeWarning: overflow encountered in exp\n  E = np.exp(AB[0] * F + AB[1])\n/Users/maxwelllee54/anaconda/lib/python3.5/site-packages/sklearn/calibration.py:427: RuntimeWarning: invalid value encountered in multiply\n  TEP_minus_T1P = P * (T * E - T1)\n/Users/maxwelllee54/anaconda/lib/python3.5/site-packages/sklearn/calibration.py:415: RuntimeWarning: overflow encountered in exp\n  E = np.exp(AB[0] * F + AB[1])\n/Users/maxwelllee54/anaconda/lib/python3.5/site-packages/sklearn/utils/validation.py:526: DataConversionWarning: A column-vector y was passed when a 1d array was expected. Please change the shape of y to (n_samples, ), for example using ravel().\n  y = column_or_1d(y, warn=True)\n"
     ]
    },
    {
     "name": "stdout",
     "output_type": "stream",
     "text": [
      "0.607477252555 \t\t 25 \t\t 22\n"
     ]
    },
    {
     "name": "stderr",
     "output_type": "stream",
     "text": [
      "/Users/maxwelllee54/anaconda/lib/python3.5/site-packages/sklearn/calibration.py:415: RuntimeWarning: overflow encountered in exp\n  E = np.exp(AB[0] * F + AB[1])\n/Users/maxwelllee54/anaconda/lib/python3.5/site-packages/sklearn/calibration.py:425: RuntimeWarning: overflow encountered in exp\n  E = np.exp(AB[0] * F + AB[1])\n/Users/maxwelllee54/anaconda/lib/python3.5/site-packages/sklearn/calibration.py:427: RuntimeWarning: invalid value encountered in multiply\n  TEP_minus_T1P = P * (T * E - T1)\n/Users/maxwelllee54/anaconda/lib/python3.5/site-packages/sklearn/calibration.py:415: RuntimeWarning: overflow encountered in exp\n  E = np.exp(AB[0] * F + AB[1])\n/Users/maxwelllee54/anaconda/lib/python3.5/site-packages/sklearn/utils/validation.py:526: DataConversionWarning: A column-vector y was passed when a 1d array was expected. Please change the shape of y to (n_samples, ), for example using ravel().\n  y = column_or_1d(y, warn=True)\n"
     ]
    },
    {
     "name": "stdout",
     "output_type": "stream",
     "text": [
      "0.596822296241 \t\t 25 \t\t 23\n"
     ]
    },
    {
     "name": "stderr",
     "output_type": "stream",
     "text": [
      "/Users/maxwelllee54/anaconda/lib/python3.5/site-packages/sklearn/calibration.py:415: RuntimeWarning: overflow encountered in exp\n  E = np.exp(AB[0] * F + AB[1])\n/Users/maxwelllee54/anaconda/lib/python3.5/site-packages/sklearn/calibration.py:425: RuntimeWarning: overflow encountered in exp\n  E = np.exp(AB[0] * F + AB[1])\n/Users/maxwelllee54/anaconda/lib/python3.5/site-packages/sklearn/calibration.py:427: RuntimeWarning: invalid value encountered in multiply\n  TEP_minus_T1P = P * (T * E - T1)\n/Users/maxwelllee54/anaconda/lib/python3.5/site-packages/sklearn/calibration.py:415: RuntimeWarning: overflow encountered in exp\n  E = np.exp(AB[0] * F + AB[1])\n/Users/maxwelllee54/anaconda/lib/python3.5/site-packages/sklearn/utils/validation.py:526: DataConversionWarning: A column-vector y was passed when a 1d array was expected. Please change the shape of y to (n_samples, ), for example using ravel().\n  y = column_or_1d(y, warn=True)\n/Users/maxwelllee54/anaconda/lib/python3.5/site-packages/sklearn/utils/validation.py:526: DataConversionWarning: A column-vector y was passed when a 1d array was expected. Please change the shape of y to (n_samples, ), for example using ravel().\n  y = column_or_1d(y, warn=True)\n"
     ]
    },
    {
     "name": "stdout",
     "output_type": "stream",
     "text": [
      "0.609283586474 \t\t 25 \t\t 24\n0.798536989729 \t\t 26 \t\t 3\n"
     ]
    },
    {
     "name": "stdout",
     "output_type": "stream",
     "text": [
      "0.792606660605 \t\t 26 \t\t 4\n0.570522692001 \t\t 26 \t\t 5\n"
     ]
    },
    {
     "name": "stderr",
     "output_type": "stream",
     "text": [
      "/Users/maxwelllee54/anaconda/lib/python3.5/site-packages/sklearn/utils/validation.py:526: DataConversionWarning: A column-vector y was passed when a 1d array was expected. Please change the shape of y to (n_samples, ), for example using ravel().\n  y = column_or_1d(y, warn=True)\n/Users/maxwelllee54/anaconda/lib/python3.5/site-packages/sklearn/calibration.py:415: RuntimeWarning: overflow encountered in exp\n  E = np.exp(AB[0] * F + AB[1])\n/Users/maxwelllee54/anaconda/lib/python3.5/site-packages/sklearn/calibration.py:425: RuntimeWarning: overflow encountered in exp\n  E = np.exp(AB[0] * F + AB[1])\n/Users/maxwelllee54/anaconda/lib/python3.5/site-packages/sklearn/calibration.py:427: RuntimeWarning: invalid value encountered in multiply\n  TEP_minus_T1P = P * (T * E - T1)\n/Users/maxwelllee54/anaconda/lib/python3.5/site-packages/sklearn/calibration.py:415: RuntimeWarning: overflow encountered in exp\n  E = np.exp(AB[0] * F + AB[1])\n/Users/maxwelllee54/anaconda/lib/python3.5/site-packages/sklearn/utils/validation.py:526: DataConversionWarning: A column-vector y was passed when a 1d array was expected. Please change the shape of y to (n_samples, ), for example using ravel().\n  y = column_or_1d(y, warn=True)\n"
     ]
    },
    {
     "name": "stderr",
     "output_type": "stream",
     "text": [
      "/Users/maxwelllee54/anaconda/lib/python3.5/site-packages/sklearn/calibration.py:415: RuntimeWarning: overflow encountered in exp\n  E = np.exp(AB[0] * F + AB[1])\n/Users/maxwelllee54/anaconda/lib/python3.5/site-packages/sklearn/calibration.py:425: RuntimeWarning: overflow encountered in exp\n  E = np.exp(AB[0] * F + AB[1])\n/Users/maxwelllee54/anaconda/lib/python3.5/site-packages/sklearn/calibration.py:427: RuntimeWarning: invalid value encountered in multiply\n  TEP_minus_T1P = P * (T * E - T1)\n/Users/maxwelllee54/anaconda/lib/python3.5/site-packages/sklearn/calibration.py:415: RuntimeWarning: overflow encountered in exp\n  E = np.exp(AB[0] * F + AB[1])\n/Users/maxwelllee54/anaconda/lib/python3.5/site-packages/sklearn/utils/validation.py:526: DataConversionWarning: A column-vector y was passed when a 1d array was expected. Please change the shape of y to (n_samples, ), for example using ravel().\n  y = column_or_1d(y, warn=True)\n/Users/maxwelllee54/anaconda/lib/python3.5/site-packages/sklearn/calibration.py:415: RuntimeWarning: overflow encountered in exp\n  E = np.exp(AB[0] * F + AB[1])\n/Users/maxwelllee54/anaconda/lib/python3.5/site-packages/sklearn/calibration.py:425: RuntimeWarning: overflow encountered in exp\n  E = np.exp(AB[0] * F + AB[1])\n/Users/maxwelllee54/anaconda/lib/python3.5/site-packages/sklearn/calibration.py:427: RuntimeWarning: invalid value encountered in multiply\n  TEP_minus_T1P = P * (T * E - T1)\n/Users/maxwelllee54/anaconda/lib/python3.5/site-packages/sklearn/calibration.py:415: RuntimeWarning: overflow encountered in exp\n  E = np.exp(AB[0] * F + AB[1])\n"
     ]
    },
    {
     "name": "stdout",
     "output_type": "stream",
     "text": [
      "0.580707361013 \t\t 26 \t\t 6\n0.577952305873 \t\t 26 \t\t 7\n"
     ]
    },
    {
     "name": "stderr",
     "output_type": "stream",
     "text": [
      "/Users/maxwelllee54/anaconda/lib/python3.5/site-packages/sklearn/utils/validation.py:526: DataConversionWarning: A column-vector y was passed when a 1d array was expected. Please change the shape of y to (n_samples, ), for example using ravel().\n  y = column_or_1d(y, warn=True)\n/Users/maxwelllee54/anaconda/lib/python3.5/site-packages/sklearn/calibration.py:415: RuntimeWarning: overflow encountered in exp\n  E = np.exp(AB[0] * F + AB[1])\n/Users/maxwelllee54/anaconda/lib/python3.5/site-packages/sklearn/calibration.py:425: RuntimeWarning: overflow encountered in exp\n  E = np.exp(AB[0] * F + AB[1])\n/Users/maxwelllee54/anaconda/lib/python3.5/site-packages/sklearn/calibration.py:427: RuntimeWarning: invalid value encountered in multiply\n  TEP_minus_T1P = P * (T * E - T1)\n/Users/maxwelllee54/anaconda/lib/python3.5/site-packages/sklearn/calibration.py:415: RuntimeWarning: overflow encountered in exp\n  E = np.exp(AB[0] * F + AB[1])\n/Users/maxwelllee54/anaconda/lib/python3.5/site-packages/sklearn/utils/validation.py:526: DataConversionWarning: A column-vector y was passed when a 1d array was expected. Please change the shape of y to (n_samples, ), for example using ravel().\n  y = column_or_1d(y, warn=True)\n"
     ]
    },
    {
     "name": "stdout",
     "output_type": "stream",
     "text": [
      "0.600195852311 \t\t 26 \t\t 8\n0.588328626119 \t\t 26 \t\t 9\n"
     ]
    },
    {
     "name": "stderr",
     "output_type": "stream",
     "text": [
      "/Users/maxwelllee54/anaconda/lib/python3.5/site-packages/sklearn/calibration.py:415: RuntimeWarning: overflow encountered in exp\n  E = np.exp(AB[0] * F + AB[1])\n/Users/maxwelllee54/anaconda/lib/python3.5/site-packages/sklearn/calibration.py:425: RuntimeWarning: overflow encountered in exp\n  E = np.exp(AB[0] * F + AB[1])\n/Users/maxwelllee54/anaconda/lib/python3.5/site-packages/sklearn/calibration.py:427: RuntimeWarning: invalid value encountered in multiply\n  TEP_minus_T1P = P * (T * E - T1)\n/Users/maxwelllee54/anaconda/lib/python3.5/site-packages/sklearn/calibration.py:415: RuntimeWarning: overflow encountered in exp\n  E = np.exp(AB[0] * F + AB[1])\n/Users/maxwelllee54/anaconda/lib/python3.5/site-packages/sklearn/utils/validation.py:526: DataConversionWarning: A column-vector y was passed when a 1d array was expected. Please change the shape of y to (n_samples, ), for example using ravel().\n  y = column_or_1d(y, warn=True)\n/Users/maxwelllee54/anaconda/lib/python3.5/site-packages/sklearn/calibration.py:415: RuntimeWarning: overflow encountered in exp\n  E = np.exp(AB[0] * F + AB[1])\n/Users/maxwelllee54/anaconda/lib/python3.5/site-packages/sklearn/calibration.py:425: RuntimeWarning: overflow encountered in exp\n  E = np.exp(AB[0] * F + AB[1])\n/Users/maxwelllee54/anaconda/lib/python3.5/site-packages/sklearn/calibration.py:427: RuntimeWarning: invalid value encountered in multiply\n  TEP_minus_T1P = P * (T * E - T1)\n/Users/maxwelllee54/anaconda/lib/python3.5/site-packages/sklearn/calibration.py:415: RuntimeWarning: overflow encountered in exp\n  E = np.exp(AB[0] * F + AB[1])\n/Users/maxwelllee54/anaconda/lib/python3.5/site-packages/sklearn/utils/validation.py:526: DataConversionWarning: A column-vector y was passed when a 1d array was expected. Please change the shape of y to (n_samples, ), for example using ravel().\n  y = column_or_1d(y, warn=True)\n"
     ]
    },
    {
     "name": "stdout",
     "output_type": "stream",
     "text": [
      "0.549778083202 \t\t 26 \t\t 10\n0.565748944751 \t\t 26 \t\t 11\n"
     ]
    },
    {
     "name": "stderr",
     "output_type": "stream",
     "text": [
      "/Users/maxwelllee54/anaconda/lib/python3.5/site-packages/sklearn/calibration.py:415: RuntimeWarning: overflow encountered in exp\n  E = np.exp(AB[0] * F + AB[1])\n/Users/maxwelllee54/anaconda/lib/python3.5/site-packages/sklearn/calibration.py:425: RuntimeWarning: overflow encountered in exp\n  E = np.exp(AB[0] * F + AB[1])\n/Users/maxwelllee54/anaconda/lib/python3.5/site-packages/sklearn/calibration.py:427: RuntimeWarning: invalid value encountered in multiply\n  TEP_minus_T1P = P * (T * E - T1)\n/Users/maxwelllee54/anaconda/lib/python3.5/site-packages/sklearn/calibration.py:415: RuntimeWarning: overflow encountered in exp\n  E = np.exp(AB[0] * F + AB[1])\n/Users/maxwelllee54/anaconda/lib/python3.5/site-packages/sklearn/utils/validation.py:526: DataConversionWarning: A column-vector y was passed when a 1d array was expected. Please change the shape of y to (n_samples, ), for example using ravel().\n  y = column_or_1d(y, warn=True)\n/Users/maxwelllee54/anaconda/lib/python3.5/site-packages/sklearn/calibration.py:415: RuntimeWarning: overflow encountered in exp\n  E = np.exp(AB[0] * F + AB[1])\n/Users/maxwelllee54/anaconda/lib/python3.5/site-packages/sklearn/calibration.py:425: RuntimeWarning: overflow encountered in exp\n  E = np.exp(AB[0] * F + AB[1])\n/Users/maxwelllee54/anaconda/lib/python3.5/site-packages/sklearn/calibration.py:427: RuntimeWarning: invalid value encountered in multiply\n  TEP_minus_T1P = P * (T * E - T1)\n/Users/maxwelllee54/anaconda/lib/python3.5/site-packages/sklearn/calibration.py:415: RuntimeWarning: overflow encountered in exp\n  E = np.exp(AB[0] * F + AB[1])\n/Users/maxwelllee54/anaconda/lib/python3.5/site-packages/sklearn/utils/validation.py:526: DataConversionWarning: A column-vector y was passed when a 1d array was expected. Please change the shape of y to (n_samples, ), for example using ravel().\n  y = column_or_1d(y, warn=True)\n"
     ]
    },
    {
     "name": "stdout",
     "output_type": "stream",
     "text": [
      "0.565690681127 \t\t 26 \t\t 12\n0.564456310841 \t\t 26 \t\t 13\n"
     ]
    },
    {
     "name": "stderr",
     "output_type": "stream",
     "text": [
      "/Users/maxwelllee54/anaconda/lib/python3.5/site-packages/sklearn/calibration.py:415: RuntimeWarning: overflow encountered in exp\n  E = np.exp(AB[0] * F + AB[1])\n/Users/maxwelllee54/anaconda/lib/python3.5/site-packages/sklearn/calibration.py:425: RuntimeWarning: overflow encountered in exp\n  E = np.exp(AB[0] * F + AB[1])\n/Users/maxwelllee54/anaconda/lib/python3.5/site-packages/sklearn/calibration.py:427: RuntimeWarning: invalid value encountered in multiply\n  TEP_minus_T1P = P * (T * E - T1)\n/Users/maxwelllee54/anaconda/lib/python3.5/site-packages/sklearn/calibration.py:415: RuntimeWarning: overflow encountered in exp\n  E = np.exp(AB[0] * F + AB[1])\n/Users/maxwelllee54/anaconda/lib/python3.5/site-packages/sklearn/utils/validation.py:526: DataConversionWarning: A column-vector y was passed when a 1d array was expected. Please change the shape of y to (n_samples, ), for example using ravel().\n  y = column_or_1d(y, warn=True)\n/Users/maxwelllee54/anaconda/lib/python3.5/site-packages/sklearn/calibration.py:415: RuntimeWarning: overflow encountered in exp\n  E = np.exp(AB[0] * F + AB[1])\n/Users/maxwelllee54/anaconda/lib/python3.5/site-packages/sklearn/calibration.py:425: RuntimeWarning: overflow encountered in exp\n  E = np.exp(AB[0] * F + AB[1])\n/Users/maxwelllee54/anaconda/lib/python3.5/site-packages/sklearn/calibration.py:427: RuntimeWarning: invalid value encountered in multiply\n  TEP_minus_T1P = P * (T * E - T1)\n/Users/maxwelllee54/anaconda/lib/python3.5/site-packages/sklearn/calibration.py:415: RuntimeWarning: overflow encountered in exp\n  E = np.exp(AB[0] * F + AB[1])\n/Users/maxwelllee54/anaconda/lib/python3.5/site-packages/sklearn/utils/validation.py:526: DataConversionWarning: A column-vector y was passed when a 1d array was expected. Please change the shape of y to (n_samples, ), for example using ravel().\n  y = column_or_1d(y, warn=True)\n"
     ]
    },
    {
     "name": "stdout",
     "output_type": "stream",
     "text": [
      "0.566083090339 \t\t 26 \t\t 14\n0.570540624695 \t\t 26 \t\t 15\n"
     ]
    },
    {
     "name": "stderr",
     "output_type": "stream",
     "text": [
      "/Users/maxwelllee54/anaconda/lib/python3.5/site-packages/sklearn/calibration.py:415: RuntimeWarning: overflow encountered in exp\n  E = np.exp(AB[0] * F + AB[1])\n/Users/maxwelllee54/anaconda/lib/python3.5/site-packages/sklearn/calibration.py:425: RuntimeWarning: overflow encountered in exp\n  E = np.exp(AB[0] * F + AB[1])\n/Users/maxwelllee54/anaconda/lib/python3.5/site-packages/sklearn/calibration.py:427: RuntimeWarning: invalid value encountered in multiply\n  TEP_minus_T1P = P * (T * E - T1)\n/Users/maxwelllee54/anaconda/lib/python3.5/site-packages/sklearn/calibration.py:415: RuntimeWarning: overflow encountered in exp\n  E = np.exp(AB[0] * F + AB[1])\n/Users/maxwelllee54/anaconda/lib/python3.5/site-packages/sklearn/utils/validation.py:526: DataConversionWarning: A column-vector y was passed when a 1d array was expected. Please change the shape of y to (n_samples, ), for example using ravel().\n  y = column_or_1d(y, warn=True)\n/Users/maxwelllee54/anaconda/lib/python3.5/site-packages/sklearn/calibration.py:415: RuntimeWarning: overflow encountered in exp\n  E = np.exp(AB[0] * F + AB[1])\n/Users/maxwelllee54/anaconda/lib/python3.5/site-packages/sklearn/calibration.py:425: RuntimeWarning: overflow encountered in exp\n  E = np.exp(AB[0] * F + AB[1])\n/Users/maxwelllee54/anaconda/lib/python3.5/site-packages/sklearn/calibration.py:427: RuntimeWarning: invalid value encountered in multiply\n  TEP_minus_T1P = P * (T * E - T1)\n/Users/maxwelllee54/anaconda/lib/python3.5/site-packages/sklearn/calibration.py:415: RuntimeWarning: overflow encountered in exp\n  E = np.exp(AB[0] * F + AB[1])\n/Users/maxwelllee54/anaconda/lib/python3.5/site-packages/sklearn/utils/validation.py:526: DataConversionWarning: A column-vector y was passed when a 1d array was expected. Please change the shape of y to (n_samples, ), for example using ravel().\n  y = column_or_1d(y, warn=True)\n"
     ]
    },
    {
     "name": "stdout",
     "output_type": "stream",
     "text": [
      "0.573782288652 \t\t 26 \t\t 16\n0.574139978881 \t\t 26 \t\t 17\n"
     ]
    },
    {
     "name": "stderr",
     "output_type": "stream",
     "text": [
      "/Users/maxwelllee54/anaconda/lib/python3.5/site-packages/sklearn/calibration.py:415: RuntimeWarning: overflow encountered in exp\n  E = np.exp(AB[0] * F + AB[1])\n/Users/maxwelllee54/anaconda/lib/python3.5/site-packages/sklearn/calibration.py:425: RuntimeWarning: overflow encountered in exp\n  E = np.exp(AB[0] * F + AB[1])\n/Users/maxwelllee54/anaconda/lib/python3.5/site-packages/sklearn/calibration.py:427: RuntimeWarning: invalid value encountered in multiply\n  TEP_minus_T1P = P * (T * E - T1)\n/Users/maxwelllee54/anaconda/lib/python3.5/site-packages/sklearn/calibration.py:415: RuntimeWarning: overflow encountered in exp\n  E = np.exp(AB[0] * F + AB[1])\n/Users/maxwelllee54/anaconda/lib/python3.5/site-packages/sklearn/utils/validation.py:526: DataConversionWarning: A column-vector y was passed when a 1d array was expected. Please change the shape of y to (n_samples, ), for example using ravel().\n  y = column_or_1d(y, warn=True)\n/Users/maxwelllee54/anaconda/lib/python3.5/site-packages/sklearn/calibration.py:415: RuntimeWarning: overflow encountered in exp\n  E = np.exp(AB[0] * F + AB[1])\n/Users/maxwelllee54/anaconda/lib/python3.5/site-packages/sklearn/calibration.py:425: RuntimeWarning: overflow encountered in exp\n  E = np.exp(AB[0] * F + AB[1])\n/Users/maxwelllee54/anaconda/lib/python3.5/site-packages/sklearn/calibration.py:427: RuntimeWarning: invalid value encountered in multiply\n  TEP_minus_T1P = P * (T * E - T1)\n/Users/maxwelllee54/anaconda/lib/python3.5/site-packages/sklearn/calibration.py:415: RuntimeWarning: overflow encountered in exp\n  E = np.exp(AB[0] * F + AB[1])\n"
     ]
    },
    {
     "name": "stdout",
     "output_type": "stream",
     "text": [
      "0.577019550778 \t\t 26 \t\t 18\n"
     ]
    },
    {
     "name": "stderr",
     "output_type": "stream",
     "text": [
      "/Users/maxwelllee54/anaconda/lib/python3.5/site-packages/sklearn/utils/validation.py:526: DataConversionWarning: A column-vector y was passed when a 1d array was expected. Please change the shape of y to (n_samples, ), for example using ravel().\n  y = column_or_1d(y, warn=True)\n"
     ]
    },
    {
     "name": "stderr",
     "output_type": "stream",
     "text": [
      "/Users/maxwelllee54/anaconda/lib/python3.5/site-packages/sklearn/calibration.py:415: RuntimeWarning: overflow encountered in exp\n  E = np.exp(AB[0] * F + AB[1])\n/Users/maxwelllee54/anaconda/lib/python3.5/site-packages/sklearn/calibration.py:425: RuntimeWarning: overflow encountered in exp\n  E = np.exp(AB[0] * F + AB[1])\n/Users/maxwelllee54/anaconda/lib/python3.5/site-packages/sklearn/calibration.py:427: RuntimeWarning: invalid value encountered in multiply\n  TEP_minus_T1P = P * (T * E - T1)\n/Users/maxwelllee54/anaconda/lib/python3.5/site-packages/sklearn/calibration.py:415: RuntimeWarning: overflow encountered in exp\n  E = np.exp(AB[0] * F + AB[1])\n/Users/maxwelllee54/anaconda/lib/python3.5/site-packages/sklearn/utils/validation.py:526: DataConversionWarning: A column-vector y was passed when a 1d array was expected. Please change the shape of y to (n_samples, ), for example using ravel().\n  y = column_or_1d(y, warn=True)\n"
     ]
    },
    {
     "name": "stdout",
     "output_type": "stream",
     "text": [
      "0.586995772637 \t\t 26 \t\t 19\n"
     ]
    },
    {
     "name": "stderr",
     "output_type": "stream",
     "text": [
      "/Users/maxwelllee54/anaconda/lib/python3.5/site-packages/sklearn/calibration.py:415: RuntimeWarning: overflow encountered in exp\n  E = np.exp(AB[0] * F + AB[1])\n/Users/maxwelllee54/anaconda/lib/python3.5/site-packages/sklearn/calibration.py:425: RuntimeWarning: overflow encountered in exp\n  E = np.exp(AB[0] * F + AB[1])\n/Users/maxwelllee54/anaconda/lib/python3.5/site-packages/sklearn/calibration.py:427: RuntimeWarning: invalid value encountered in multiply\n  TEP_minus_T1P = P * (T * E - T1)\n/Users/maxwelllee54/anaconda/lib/python3.5/site-packages/sklearn/calibration.py:415: RuntimeWarning: overflow encountered in exp\n  E = np.exp(AB[0] * F + AB[1])\n/Users/maxwelllee54/anaconda/lib/python3.5/site-packages/sklearn/utils/validation.py:526: DataConversionWarning: A column-vector y was passed when a 1d array was expected. Please change the shape of y to (n_samples, ), for example using ravel().\n  y = column_or_1d(y, warn=True)\n"
     ]
    },
    {
     "name": "stdout",
     "output_type": "stream",
     "text": [
      "0.595892521761 \t\t 26 \t\t 20\n"
     ]
    },
    {
     "name": "stderr",
     "output_type": "stream",
     "text": [
      "/Users/maxwelllee54/anaconda/lib/python3.5/site-packages/sklearn/calibration.py:415: RuntimeWarning: overflow encountered in exp\n  E = np.exp(AB[0] * F + AB[1])\n/Users/maxwelllee54/anaconda/lib/python3.5/site-packages/sklearn/calibration.py:425: RuntimeWarning: overflow encountered in exp\n  E = np.exp(AB[0] * F + AB[1])\n/Users/maxwelllee54/anaconda/lib/python3.5/site-packages/sklearn/calibration.py:427: RuntimeWarning: invalid value encountered in multiply\n  TEP_minus_T1P = P * (T * E - T1)\n/Users/maxwelllee54/anaconda/lib/python3.5/site-packages/sklearn/calibration.py:415: RuntimeWarning: overflow encountered in exp\n  E = np.exp(AB[0] * F + AB[1])\n/Users/maxwelllee54/anaconda/lib/python3.5/site-packages/sklearn/utils/validation.py:526: DataConversionWarning: A column-vector y was passed when a 1d array was expected. Please change the shape of y to (n_samples, ), for example using ravel().\n  y = column_or_1d(y, warn=True)\n"
     ]
    },
    {
     "name": "stdout",
     "output_type": "stream",
     "text": [
      "0.607593208567 \t\t 26 \t\t 21\n"
     ]
    },
    {
     "name": "stderr",
     "output_type": "stream",
     "text": [
      "/Users/maxwelllee54/anaconda/lib/python3.5/site-packages/sklearn/calibration.py:415: RuntimeWarning: overflow encountered in exp\n  E = np.exp(AB[0] * F + AB[1])\n/Users/maxwelllee54/anaconda/lib/python3.5/site-packages/sklearn/calibration.py:425: RuntimeWarning: overflow encountered in exp\n  E = np.exp(AB[0] * F + AB[1])\n/Users/maxwelllee54/anaconda/lib/python3.5/site-packages/sklearn/calibration.py:427: RuntimeWarning: invalid value encountered in multiply\n  TEP_minus_T1P = P * (T * E - T1)\n/Users/maxwelllee54/anaconda/lib/python3.5/site-packages/sklearn/calibration.py:415: RuntimeWarning: overflow encountered in exp\n  E = np.exp(AB[0] * F + AB[1])\n/Users/maxwelllee54/anaconda/lib/python3.5/site-packages/sklearn/utils/validation.py:526: DataConversionWarning: A column-vector y was passed when a 1d array was expected. Please change the shape of y to (n_samples, ), for example using ravel().\n  y = column_or_1d(y, warn=True)\n"
     ]
    },
    {
     "name": "stdout",
     "output_type": "stream",
     "text": [
      "0.607477245528 \t\t 26 \t\t 22\n"
     ]
    },
    {
     "name": "stderr",
     "output_type": "stream",
     "text": [
      "/Users/maxwelllee54/anaconda/lib/python3.5/site-packages/sklearn/calibration.py:415: RuntimeWarning: overflow encountered in exp\n  E = np.exp(AB[0] * F + AB[1])\n/Users/maxwelllee54/anaconda/lib/python3.5/site-packages/sklearn/calibration.py:425: RuntimeWarning: overflow encountered in exp\n  E = np.exp(AB[0] * F + AB[1])\n/Users/maxwelllee54/anaconda/lib/python3.5/site-packages/sklearn/calibration.py:427: RuntimeWarning: invalid value encountered in multiply\n  TEP_minus_T1P = P * (T * E - T1)\n/Users/maxwelllee54/anaconda/lib/python3.5/site-packages/sklearn/calibration.py:415: RuntimeWarning: overflow encountered in exp\n  E = np.exp(AB[0] * F + AB[1])\n/Users/maxwelllee54/anaconda/lib/python3.5/site-packages/sklearn/utils/validation.py:526: DataConversionWarning: A column-vector y was passed when a 1d array was expected. Please change the shape of y to (n_samples, ), for example using ravel().\n  y = column_or_1d(y, warn=True)\n"
     ]
    },
    {
     "name": "stdout",
     "output_type": "stream",
     "text": [
      "0.596819592869 \t\t 26 \t\t 23\n"
     ]
    },
    {
     "name": "stderr",
     "output_type": "stream",
     "text": [
      "/Users/maxwelllee54/anaconda/lib/python3.5/site-packages/sklearn/calibration.py:415: RuntimeWarning: overflow encountered in exp\n  E = np.exp(AB[0] * F + AB[1])\n/Users/maxwelllee54/anaconda/lib/python3.5/site-packages/sklearn/calibration.py:425: RuntimeWarning: overflow encountered in exp\n  E = np.exp(AB[0] * F + AB[1])\n/Users/maxwelllee54/anaconda/lib/python3.5/site-packages/sklearn/calibration.py:427: RuntimeWarning: invalid value encountered in multiply\n  TEP_minus_T1P = P * (T * E - T1)\n/Users/maxwelllee54/anaconda/lib/python3.5/site-packages/sklearn/calibration.py:415: RuntimeWarning: overflow encountered in exp\n  E = np.exp(AB[0] * F + AB[1])\n/Users/maxwelllee54/anaconda/lib/python3.5/site-packages/sklearn/utils/validation.py:526: DataConversionWarning: A column-vector y was passed when a 1d array was expected. Please change the shape of y to (n_samples, ), for example using ravel().\n  y = column_or_1d(y, warn=True)\n"
     ]
    },
    {
     "name": "stdout",
     "output_type": "stream",
     "text": [
      "0.609286012759 \t\t 26 \t\t 24\n"
     ]
    },
    {
     "name": "stderr",
     "output_type": "stream",
     "text": [
      "/Users/maxwelllee54/anaconda/lib/python3.5/site-packages/sklearn/calibration.py:415: RuntimeWarning: overflow encountered in exp\n  E = np.exp(AB[0] * F + AB[1])\n/Users/maxwelllee54/anaconda/lib/python3.5/site-packages/sklearn/calibration.py:425: RuntimeWarning: overflow encountered in exp\n  E = np.exp(AB[0] * F + AB[1])\n/Users/maxwelllee54/anaconda/lib/python3.5/site-packages/sklearn/calibration.py:427: RuntimeWarning: invalid value encountered in multiply\n  TEP_minus_T1P = P * (T * E - T1)\n/Users/maxwelllee54/anaconda/lib/python3.5/site-packages/sklearn/calibration.py:415: RuntimeWarning: overflow encountered in exp\n  E = np.exp(AB[0] * F + AB[1])\n/Users/maxwelllee54/anaconda/lib/python3.5/site-packages/sklearn/utils/validation.py:526: DataConversionWarning: A column-vector y was passed when a 1d array was expected. Please change the shape of y to (n_samples, ), for example using ravel().\n  y = column_or_1d(y, warn=True)\n/Users/maxwelllee54/anaconda/lib/python3.5/site-packages/sklearn/utils/validation.py:526: DataConversionWarning: A column-vector y was passed when a 1d array was expected. Please change the shape of y to (n_samples, ), for example using ravel().\n  y = column_or_1d(y, warn=True)\n"
     ]
    },
    {
     "name": "stdout",
     "output_type": "stream",
     "text": [
      "0.610244090928 \t\t 26 \t\t 25\n0.798536989729 \t\t 27 \t\t 3\n"
     ]
    },
    {
     "name": "stdout",
     "output_type": "stream",
     "text": [
      "0.792606698817 \t\t 27 \t\t 4\n0.570522686186 \t\t 27 \t\t 5\n0.580707128544 \t\t 27 \t\t 6\n"
     ]
    },
    {
     "name": "stderr",
     "output_type": "stream",
     "text": [
      "/Users/maxwelllee54/anaconda/lib/python3.5/site-packages/sklearn/utils/validation.py:526: DataConversionWarning: A column-vector y was passed when a 1d array was expected. Please change the shape of y to (n_samples, ), for example using ravel().\n  y = column_or_1d(y, warn=True)\n/Users/maxwelllee54/anaconda/lib/python3.5/site-packages/sklearn/calibration.py:415: RuntimeWarning: overflow encountered in exp\n  E = np.exp(AB[0] * F + AB[1])\n/Users/maxwelllee54/anaconda/lib/python3.5/site-packages/sklearn/calibration.py:425: RuntimeWarning: overflow encountered in exp\n  E = np.exp(AB[0] * F + AB[1])\n/Users/maxwelllee54/anaconda/lib/python3.5/site-packages/sklearn/calibration.py:427: RuntimeWarning: invalid value encountered in multiply\n  TEP_minus_T1P = P * (T * E - T1)\n/Users/maxwelllee54/anaconda/lib/python3.5/site-packages/sklearn/calibration.py:415: RuntimeWarning: overflow encountered in exp\n  E = np.exp(AB[0] * F + AB[1])\n/Users/maxwelllee54/anaconda/lib/python3.5/site-packages/sklearn/utils/validation.py:526: DataConversionWarning: A column-vector y was passed when a 1d array was expected. Please change the shape of y to (n_samples, ), for example using ravel().\n  y = column_or_1d(y, warn=True)\n/Users/maxwelllee54/anaconda/lib/python3.5/site-packages/sklearn/calibration.py:415: RuntimeWarning: overflow encountered in exp\n  E = np.exp(AB[0] * F + AB[1])\n/Users/maxwelllee54/anaconda/lib/python3.5/site-packages/sklearn/calibration.py:425: RuntimeWarning: overflow encountered in exp\n  E = np.exp(AB[0] * F + AB[1])\n/Users/maxwelllee54/anaconda/lib/python3.5/site-packages/sklearn/calibration.py:427: RuntimeWarning: invalid value encountered in multiply\n  TEP_minus_T1P = P * (T * E - T1)\n/Users/maxwelllee54/anaconda/lib/python3.5/site-packages/sklearn/calibration.py:415: RuntimeWarning: overflow encountered in exp\n  E = np.exp(AB[0] * F + AB[1])\n/Users/maxwelllee54/anaconda/lib/python3.5/site-packages/sklearn/utils/validation.py:526: DataConversionWarning: A column-vector y was passed when a 1d array was expected. Please change the shape of y to (n_samples, ), for example using ravel().\n  y = column_or_1d(y, warn=True)\n"
     ]
    },
    {
     "name": "stderr",
     "output_type": "stream",
     "text": [
      "/Users/maxwelllee54/anaconda/lib/python3.5/site-packages/sklearn/calibration.py:415: RuntimeWarning: overflow encountered in exp\n  E = np.exp(AB[0] * F + AB[1])\n/Users/maxwelllee54/anaconda/lib/python3.5/site-packages/sklearn/calibration.py:425: RuntimeWarning: overflow encountered in exp\n  E = np.exp(AB[0] * F + AB[1])\n/Users/maxwelllee54/anaconda/lib/python3.5/site-packages/sklearn/calibration.py:427: RuntimeWarning: invalid value encountered in multiply\n  TEP_minus_T1P = P * (T * E - T1)\n/Users/maxwelllee54/anaconda/lib/python3.5/site-packages/sklearn/calibration.py:415: RuntimeWarning: overflow encountered in exp\n  E = np.exp(AB[0] * F + AB[1])\n/Users/maxwelllee54/anaconda/lib/python3.5/site-packages/sklearn/utils/validation.py:526: DataConversionWarning: A column-vector y was passed when a 1d array was expected. Please change the shape of y to (n_samples, ), for example using ravel().\n  y = column_or_1d(y, warn=True)\n/Users/maxwelllee54/anaconda/lib/python3.5/site-packages/sklearn/calibration.py:415: RuntimeWarning: overflow encountered in exp\n  E = np.exp(AB[0] * F + AB[1])\n/Users/maxwelllee54/anaconda/lib/python3.5/site-packages/sklearn/calibration.py:425: RuntimeWarning: overflow encountered in exp\n  E = np.exp(AB[0] * F + AB[1])\n/Users/maxwelllee54/anaconda/lib/python3.5/site-packages/sklearn/calibration.py:427: RuntimeWarning: invalid value encountered in multiply\n  TEP_minus_T1P = P * (T * E - T1)\n/Users/maxwelllee54/anaconda/lib/python3.5/site-packages/sklearn/calibration.py:415: RuntimeWarning: overflow encountered in exp\n  E = np.exp(AB[0] * F + AB[1])\n/Users/maxwelllee54/anaconda/lib/python3.5/site-packages/sklearn/utils/validation.py:526: DataConversionWarning: A column-vector y was passed when a 1d array was expected. Please change the shape of y to (n_samples, ), for example using ravel().\n  y = column_or_1d(y, warn=True)\n"
     ]
    },
    {
     "name": "stdout",
     "output_type": "stream",
     "text": [
      "0.577951847862 \t\t 27 \t\t 7\n0.600202796898 \t\t 27 \t\t 8\n"
     ]
    },
    {
     "name": "stderr",
     "output_type": "stream",
     "text": [
      "/Users/maxwelllee54/anaconda/lib/python3.5/site-packages/sklearn/calibration.py:415: RuntimeWarning: overflow encountered in exp\n  E = np.exp(AB[0] * F + AB[1])\n/Users/maxwelllee54/anaconda/lib/python3.5/site-packages/sklearn/calibration.py:425: RuntimeWarning: overflow encountered in exp\n  E = np.exp(AB[0] * F + AB[1])\n/Users/maxwelllee54/anaconda/lib/python3.5/site-packages/sklearn/calibration.py:427: RuntimeWarning: invalid value encountered in multiply\n  TEP_minus_T1P = P * (T * E - T1)\n/Users/maxwelllee54/anaconda/lib/python3.5/site-packages/sklearn/calibration.py:415: RuntimeWarning: overflow encountered in exp\n  E = np.exp(AB[0] * F + AB[1])\n/Users/maxwelllee54/anaconda/lib/python3.5/site-packages/sklearn/utils/validation.py:526: DataConversionWarning: A column-vector y was passed when a 1d array was expected. Please change the shape of y to (n_samples, ), for example using ravel().\n  y = column_or_1d(y, warn=True)\n/Users/maxwelllee54/anaconda/lib/python3.5/site-packages/sklearn/calibration.py:415: RuntimeWarning: overflow encountered in exp\n  E = np.exp(AB[0] * F + AB[1])\n/Users/maxwelllee54/anaconda/lib/python3.5/site-packages/sklearn/calibration.py:425: RuntimeWarning: overflow encountered in exp\n  E = np.exp(AB[0] * F + AB[1])\n/Users/maxwelllee54/anaconda/lib/python3.5/site-packages/sklearn/calibration.py:427: RuntimeWarning: invalid value encountered in multiply\n  TEP_minus_T1P = P * (T * E - T1)\n/Users/maxwelllee54/anaconda/lib/python3.5/site-packages/sklearn/calibration.py:415: RuntimeWarning: overflow encountered in exp\n  E = np.exp(AB[0] * F + AB[1])\n/Users/maxwelllee54/anaconda/lib/python3.5/site-packages/sklearn/utils/validation.py:526: DataConversionWarning: A column-vector y was passed when a 1d array was expected. Please change the shape of y to (n_samples, ), for example using ravel().\n  y = column_or_1d(y, warn=True)\n"
     ]
    },
    {
     "name": "stdout",
     "output_type": "stream",
     "text": [
      "0.588328390999 \t\t 27 \t\t 9\n0.549779758552 \t\t 27 \t\t 10\n"
     ]
    },
    {
     "name": "stderr",
     "output_type": "stream",
     "text": [
      "/Users/maxwelllee54/anaconda/lib/python3.5/site-packages/sklearn/calibration.py:415: RuntimeWarning: overflow encountered in exp\n  E = np.exp(AB[0] * F + AB[1])\n/Users/maxwelllee54/anaconda/lib/python3.5/site-packages/sklearn/calibration.py:425: RuntimeWarning: overflow encountered in exp\n  E = np.exp(AB[0] * F + AB[1])\n/Users/maxwelllee54/anaconda/lib/python3.5/site-packages/sklearn/calibration.py:427: RuntimeWarning: invalid value encountered in multiply\n  TEP_minus_T1P = P * (T * E - T1)\n/Users/maxwelllee54/anaconda/lib/python3.5/site-packages/sklearn/calibration.py:415: RuntimeWarning: overflow encountered in exp\n  E = np.exp(AB[0] * F + AB[1])\n/Users/maxwelllee54/anaconda/lib/python3.5/site-packages/sklearn/utils/validation.py:526: DataConversionWarning: A column-vector y was passed when a 1d array was expected. Please change the shape of y to (n_samples, ), for example using ravel().\n  y = column_or_1d(y, warn=True)\n/Users/maxwelllee54/anaconda/lib/python3.5/site-packages/sklearn/calibration.py:415: RuntimeWarning: overflow encountered in exp\n  E = np.exp(AB[0] * F + AB[1])\n/Users/maxwelllee54/anaconda/lib/python3.5/site-packages/sklearn/calibration.py:425: RuntimeWarning: overflow encountered in exp\n  E = np.exp(AB[0] * F + AB[1])\n/Users/maxwelllee54/anaconda/lib/python3.5/site-packages/sklearn/calibration.py:427: RuntimeWarning: invalid value encountered in multiply\n  TEP_minus_T1P = P * (T * E - T1)\n/Users/maxwelllee54/anaconda/lib/python3.5/site-packages/sklearn/calibration.py:415: RuntimeWarning: overflow encountered in exp\n  E = np.exp(AB[0] * F + AB[1])\n/Users/maxwelllee54/anaconda/lib/python3.5/site-packages/sklearn/utils/validation.py:526: DataConversionWarning: A column-vector y was passed when a 1d array was expected. Please change the shape of y to (n_samples, ), for example using ravel().\n  y = column_or_1d(y, warn=True)\n"
     ]
    },
    {
     "name": "stdout",
     "output_type": "stream",
     "text": [
      "0.565752131647 \t\t 27 \t\t 11\n0.565698772735 \t\t 27 \t\t 12\n"
     ]
    },
    {
     "name": "stderr",
     "output_type": "stream",
     "text": [
      "/Users/maxwelllee54/anaconda/lib/python3.5/site-packages/sklearn/calibration.py:415: RuntimeWarning: overflow encountered in exp\n  E = np.exp(AB[0] * F + AB[1])\n/Users/maxwelllee54/anaconda/lib/python3.5/site-packages/sklearn/calibration.py:425: RuntimeWarning: overflow encountered in exp\n  E = np.exp(AB[0] * F + AB[1])\n/Users/maxwelllee54/anaconda/lib/python3.5/site-packages/sklearn/calibration.py:427: RuntimeWarning: invalid value encountered in multiply\n  TEP_minus_T1P = P * (T * E - T1)\n/Users/maxwelllee54/anaconda/lib/python3.5/site-packages/sklearn/calibration.py:415: RuntimeWarning: overflow encountered in exp\n  E = np.exp(AB[0] * F + AB[1])\n/Users/maxwelllee54/anaconda/lib/python3.5/site-packages/sklearn/utils/validation.py:526: DataConversionWarning: A column-vector y was passed when a 1d array was expected. Please change the shape of y to (n_samples, ), for example using ravel().\n  y = column_or_1d(y, warn=True)\n/Users/maxwelllee54/anaconda/lib/python3.5/site-packages/sklearn/calibration.py:415: RuntimeWarning: overflow encountered in exp\n  E = np.exp(AB[0] * F + AB[1])\n/Users/maxwelllee54/anaconda/lib/python3.5/site-packages/sklearn/calibration.py:425: RuntimeWarning: overflow encountered in exp\n  E = np.exp(AB[0] * F + AB[1])\n/Users/maxwelllee54/anaconda/lib/python3.5/site-packages/sklearn/calibration.py:427: RuntimeWarning: invalid value encountered in multiply\n  TEP_minus_T1P = P * (T * E - T1)\n/Users/maxwelllee54/anaconda/lib/python3.5/site-packages/sklearn/calibration.py:415: RuntimeWarning: overflow encountered in exp\n  E = np.exp(AB[0] * F + AB[1])\n/Users/maxwelllee54/anaconda/lib/python3.5/site-packages/sklearn/utils/validation.py:526: DataConversionWarning: A column-vector y was passed when a 1d array was expected. Please change the shape of y to (n_samples, ), for example using ravel().\n  y = column_or_1d(y, warn=True)\n"
     ]
    },
    {
     "name": "stdout",
     "output_type": "stream",
     "text": [
      "0.564459679262 \t\t 27 \t\t 13\n0.566090191246 \t\t 27 \t\t 14\n"
     ]
    },
    {
     "name": "stderr",
     "output_type": "stream",
     "text": [
      "/Users/maxwelllee54/anaconda/lib/python3.5/site-packages/sklearn/calibration.py:415: RuntimeWarning: overflow encountered in exp\n  E = np.exp(AB[0] * F + AB[1])\n/Users/maxwelllee54/anaconda/lib/python3.5/site-packages/sklearn/calibration.py:425: RuntimeWarning: overflow encountered in exp\n  E = np.exp(AB[0] * F + AB[1])\n/Users/maxwelllee54/anaconda/lib/python3.5/site-packages/sklearn/calibration.py:427: RuntimeWarning: invalid value encountered in multiply\n  TEP_minus_T1P = P * (T * E - T1)\n/Users/maxwelllee54/anaconda/lib/python3.5/site-packages/sklearn/calibration.py:415: RuntimeWarning: overflow encountered in exp\n  E = np.exp(AB[0] * F + AB[1])\n/Users/maxwelllee54/anaconda/lib/python3.5/site-packages/sklearn/utils/validation.py:526: DataConversionWarning: A column-vector y was passed when a 1d array was expected. Please change the shape of y to (n_samples, ), for example using ravel().\n  y = column_or_1d(y, warn=True)\n/Users/maxwelllee54/anaconda/lib/python3.5/site-packages/sklearn/calibration.py:415: RuntimeWarning: overflow encountered in exp\n  E = np.exp(AB[0] * F + AB[1])\n/Users/maxwelllee54/anaconda/lib/python3.5/site-packages/sklearn/calibration.py:425: RuntimeWarning: overflow encountered in exp\n  E = np.exp(AB[0] * F + AB[1])\n/Users/maxwelllee54/anaconda/lib/python3.5/site-packages/sklearn/calibration.py:427: RuntimeWarning: invalid value encountered in multiply\n  TEP_minus_T1P = P * (T * E - T1)\n/Users/maxwelllee54/anaconda/lib/python3.5/site-packages/sklearn/calibration.py:415: RuntimeWarning: overflow encountered in exp\n  E = np.exp(AB[0] * F + AB[1])\n/Users/maxwelllee54/anaconda/lib/python3.5/site-packages/sklearn/utils/validation.py:526: DataConversionWarning: A column-vector y was passed when a 1d array was expected. Please change the shape of y to (n_samples, ), for example using ravel().\n  y = column_or_1d(y, warn=True)\n"
     ]
    },
    {
     "name": "stdout",
     "output_type": "stream",
     "text": [
      "0.570547094183 \t\t 27 \t\t 15\n0.573783136397 \t\t 27 \t\t 16\n"
     ]
    },
    {
     "name": "stderr",
     "output_type": "stream",
     "text": [
      "/Users/maxwelllee54/anaconda/lib/python3.5/site-packages/sklearn/calibration.py:415: RuntimeWarning: overflow encountered in exp\n  E = np.exp(AB[0] * F + AB[1])\n/Users/maxwelllee54/anaconda/lib/python3.5/site-packages/sklearn/calibration.py:425: RuntimeWarning: overflow encountered in exp\n  E = np.exp(AB[0] * F + AB[1])\n/Users/maxwelllee54/anaconda/lib/python3.5/site-packages/sklearn/calibration.py:427: RuntimeWarning: invalid value encountered in multiply\n  TEP_minus_T1P = P * (T * E - T1)\n/Users/maxwelllee54/anaconda/lib/python3.5/site-packages/sklearn/calibration.py:415: RuntimeWarning: overflow encountered in exp\n  E = np.exp(AB[0] * F + AB[1])\n/Users/maxwelllee54/anaconda/lib/python3.5/site-packages/sklearn/utils/validation.py:526: DataConversionWarning: A column-vector y was passed when a 1d array was expected. Please change the shape of y to (n_samples, ), for example using ravel().\n  y = column_or_1d(y, warn=True)\n/Users/maxwelllee54/anaconda/lib/python3.5/site-packages/sklearn/calibration.py:415: RuntimeWarning: overflow encountered in exp\n  E = np.exp(AB[0] * F + AB[1])\n/Users/maxwelllee54/anaconda/lib/python3.5/site-packages/sklearn/calibration.py:425: RuntimeWarning: overflow encountered in exp\n  E = np.exp(AB[0] * F + AB[1])\n/Users/maxwelllee54/anaconda/lib/python3.5/site-packages/sklearn/calibration.py:427: RuntimeWarning: invalid value encountered in multiply\n  TEP_minus_T1P = P * (T * E - T1)\n/Users/maxwelllee54/anaconda/lib/python3.5/site-packages/sklearn/calibration.py:415: RuntimeWarning: overflow encountered in exp\n  E = np.exp(AB[0] * F + AB[1])\n"
     ]
    },
    {
     "name": "stdout",
     "output_type": "stream",
     "text": [
      "0.574134002837 \t\t 27 \t\t 17\n0.577019653262 \t\t 27 \t\t 18\n"
     ]
    },
    {
     "name": "stderr",
     "output_type": "stream",
     "text": [
      "/Users/maxwelllee54/anaconda/lib/python3.5/site-packages/sklearn/utils/validation.py:526: DataConversionWarning: A column-vector y was passed when a 1d array was expected. Please change the shape of y to (n_samples, ), for example using ravel().\n  y = column_or_1d(y, warn=True)\n"
     ]
    },
    {
     "name": "stderr",
     "output_type": "stream",
     "text": [
      "/Users/maxwelllee54/anaconda/lib/python3.5/site-packages/sklearn/calibration.py:415: RuntimeWarning: overflow encountered in exp\n  E = np.exp(AB[0] * F + AB[1])\n/Users/maxwelllee54/anaconda/lib/python3.5/site-packages/sklearn/calibration.py:425: RuntimeWarning: overflow encountered in exp\n  E = np.exp(AB[0] * F + AB[1])\n/Users/maxwelllee54/anaconda/lib/python3.5/site-packages/sklearn/calibration.py:427: RuntimeWarning: invalid value encountered in multiply\n  TEP_minus_T1P = P * (T * E - T1)\n/Users/maxwelllee54/anaconda/lib/python3.5/site-packages/sklearn/calibration.py:415: RuntimeWarning: overflow encountered in exp\n  E = np.exp(AB[0] * F + AB[1])\n/Users/maxwelllee54/anaconda/lib/python3.5/site-packages/sklearn/utils/validation.py:526: DataConversionWarning: A column-vector y was passed when a 1d array was expected. Please change the shape of y to (n_samples, ), for example using ravel().\n  y = column_or_1d(y, warn=True)\n"
     ]
    },
    {
     "name": "stdout",
     "output_type": "stream",
     "text": [
      "0.586995842473 \t\t 27 \t\t 19\n"
     ]
    },
    {
     "name": "stderr",
     "output_type": "stream",
     "text": [
      "/Users/maxwelllee54/anaconda/lib/python3.5/site-packages/sklearn/calibration.py:415: RuntimeWarning: overflow encountered in exp\n  E = np.exp(AB[0] * F + AB[1])\n/Users/maxwelllee54/anaconda/lib/python3.5/site-packages/sklearn/calibration.py:425: RuntimeWarning: overflow encountered in exp\n  E = np.exp(AB[0] * F + AB[1])\n/Users/maxwelllee54/anaconda/lib/python3.5/site-packages/sklearn/calibration.py:427: RuntimeWarning: invalid value encountered in multiply\n  TEP_minus_T1P = P * (T * E - T1)\n/Users/maxwelllee54/anaconda/lib/python3.5/site-packages/sklearn/calibration.py:415: RuntimeWarning: overflow encountered in exp\n  E = np.exp(AB[0] * F + AB[1])\n/Users/maxwelllee54/anaconda/lib/python3.5/site-packages/sklearn/utils/validation.py:526: DataConversionWarning: A column-vector y was passed when a 1d array was expected. Please change the shape of y to (n_samples, ), for example using ravel().\n  y = column_or_1d(y, warn=True)\n"
     ]
    },
    {
     "name": "stdout",
     "output_type": "stream",
     "text": [
      "0.595892084678 \t\t 27 \t\t 20\n"
     ]
    },
    {
     "name": "stderr",
     "output_type": "stream",
     "text": [
      "/Users/maxwelllee54/anaconda/lib/python3.5/site-packages/sklearn/calibration.py:415: RuntimeWarning: overflow encountered in exp\n  E = np.exp(AB[0] * F + AB[1])\n/Users/maxwelllee54/anaconda/lib/python3.5/site-packages/sklearn/calibration.py:425: RuntimeWarning: overflow encountered in exp\n  E = np.exp(AB[0] * F + AB[1])\n/Users/maxwelllee54/anaconda/lib/python3.5/site-packages/sklearn/calibration.py:427: RuntimeWarning: invalid value encountered in multiply\n  TEP_minus_T1P = P * (T * E - T1)\n/Users/maxwelllee54/anaconda/lib/python3.5/site-packages/sklearn/calibration.py:415: RuntimeWarning: overflow encountered in exp\n  E = np.exp(AB[0] * F + AB[1])\n/Users/maxwelllee54/anaconda/lib/python3.5/site-packages/sklearn/utils/validation.py:526: DataConversionWarning: A column-vector y was passed when a 1d array was expected. Please change the shape of y to (n_samples, ), for example using ravel().\n  y = column_or_1d(y, warn=True)\n"
     ]
    },
    {
     "name": "stdout",
     "output_type": "stream",
     "text": [
      "0.607593233398 \t\t 27 \t\t 21\n"
     ]
    },
    {
     "name": "stderr",
     "output_type": "stream",
     "text": [
      "/Users/maxwelllee54/anaconda/lib/python3.5/site-packages/sklearn/calibration.py:415: RuntimeWarning: overflow encountered in exp\n  E = np.exp(AB[0] * F + AB[1])\n/Users/maxwelllee54/anaconda/lib/python3.5/site-packages/sklearn/calibration.py:425: RuntimeWarning: overflow encountered in exp\n  E = np.exp(AB[0] * F + AB[1])\n/Users/maxwelllee54/anaconda/lib/python3.5/site-packages/sklearn/calibration.py:427: RuntimeWarning: invalid value encountered in multiply\n  TEP_minus_T1P = P * (T * E - T1)\n/Users/maxwelllee54/anaconda/lib/python3.5/site-packages/sklearn/calibration.py:415: RuntimeWarning: overflow encountered in exp\n  E = np.exp(AB[0] * F + AB[1])\n/Users/maxwelllee54/anaconda/lib/python3.5/site-packages/sklearn/utils/validation.py:526: DataConversionWarning: A column-vector y was passed when a 1d array was expected. Please change the shape of y to (n_samples, ), for example using ravel().\n  y = column_or_1d(y, warn=True)\n"
     ]
    },
    {
     "name": "stdout",
     "output_type": "stream",
     "text": [
      "0.607476660359 \t\t 27 \t\t 22\n"
     ]
    },
    {
     "name": "stderr",
     "output_type": "stream",
     "text": [
      "/Users/maxwelllee54/anaconda/lib/python3.5/site-packages/sklearn/calibration.py:415: RuntimeWarning: overflow encountered in exp\n  E = np.exp(AB[0] * F + AB[1])\n/Users/maxwelllee54/anaconda/lib/python3.5/site-packages/sklearn/calibration.py:425: RuntimeWarning: overflow encountered in exp\n  E = np.exp(AB[0] * F + AB[1])\n/Users/maxwelllee54/anaconda/lib/python3.5/site-packages/sklearn/calibration.py:427: RuntimeWarning: invalid value encountered in multiply\n  TEP_minus_T1P = P * (T * E - T1)\n/Users/maxwelllee54/anaconda/lib/python3.5/site-packages/sklearn/calibration.py:415: RuntimeWarning: overflow encountered in exp\n  E = np.exp(AB[0] * F + AB[1])\n/Users/maxwelllee54/anaconda/lib/python3.5/site-packages/sklearn/utils/validation.py:526: DataConversionWarning: A column-vector y was passed when a 1d array was expected. Please change the shape of y to (n_samples, ), for example using ravel().\n  y = column_or_1d(y, warn=True)\n"
     ]
    },
    {
     "name": "stdout",
     "output_type": "stream",
     "text": [
      "0.59682229365 \t\t 27 \t\t 23\n"
     ]
    },
    {
     "name": "stderr",
     "output_type": "stream",
     "text": [
      "/Users/maxwelllee54/anaconda/lib/python3.5/site-packages/sklearn/calibration.py:415: RuntimeWarning: overflow encountered in exp\n  E = np.exp(AB[0] * F + AB[1])\n/Users/maxwelllee54/anaconda/lib/python3.5/site-packages/sklearn/calibration.py:425: RuntimeWarning: overflow encountered in exp\n  E = np.exp(AB[0] * F + AB[1])\n/Users/maxwelllee54/anaconda/lib/python3.5/site-packages/sklearn/calibration.py:427: RuntimeWarning: invalid value encountered in multiply\n  TEP_minus_T1P = P * (T * E - T1)\n/Users/maxwelllee54/anaconda/lib/python3.5/site-packages/sklearn/calibration.py:415: RuntimeWarning: overflow encountered in exp\n  E = np.exp(AB[0] * F + AB[1])\n/Users/maxwelllee54/anaconda/lib/python3.5/site-packages/sklearn/utils/validation.py:526: DataConversionWarning: A column-vector y was passed when a 1d array was expected. Please change the shape of y to (n_samples, ), for example using ravel().\n  y = column_or_1d(y, warn=True)\n"
     ]
    },
    {
     "name": "stdout",
     "output_type": "stream",
     "text": [
      "0.609283585122 \t\t 27 \t\t 24\n"
     ]
    },
    {
     "name": "stderr",
     "output_type": "stream",
     "text": [
      "/Users/maxwelllee54/anaconda/lib/python3.5/site-packages/sklearn/calibration.py:415: RuntimeWarning: overflow encountered in exp\n  E = np.exp(AB[0] * F + AB[1])\n/Users/maxwelllee54/anaconda/lib/python3.5/site-packages/sklearn/calibration.py:425: RuntimeWarning: overflow encountered in exp\n  E = np.exp(AB[0] * F + AB[1])\n/Users/maxwelllee54/anaconda/lib/python3.5/site-packages/sklearn/calibration.py:427: RuntimeWarning: invalid value encountered in multiply\n  TEP_minus_T1P = P * (T * E - T1)\n/Users/maxwelllee54/anaconda/lib/python3.5/site-packages/sklearn/calibration.py:415: RuntimeWarning: overflow encountered in exp\n  E = np.exp(AB[0] * F + AB[1])\n/Users/maxwelllee54/anaconda/lib/python3.5/site-packages/sklearn/utils/validation.py:526: DataConversionWarning: A column-vector y was passed when a 1d array was expected. Please change the shape of y to (n_samples, ), for example using ravel().\n  y = column_or_1d(y, warn=True)\n"
     ]
    },
    {
     "name": "stdout",
     "output_type": "stream",
     "text": [
      "0.610245558739 \t\t 27 \t\t 25\n"
     ]
    },
    {
     "name": "stderr",
     "output_type": "stream",
     "text": [
      "/Users/maxwelllee54/anaconda/lib/python3.5/site-packages/sklearn/calibration.py:415: RuntimeWarning: overflow encountered in exp\n  E = np.exp(AB[0] * F + AB[1])\n/Users/maxwelllee54/anaconda/lib/python3.5/site-packages/sklearn/calibration.py:425: RuntimeWarning: overflow encountered in exp\n  E = np.exp(AB[0] * F + AB[1])\n/Users/maxwelllee54/anaconda/lib/python3.5/site-packages/sklearn/calibration.py:427: RuntimeWarning: invalid value encountered in multiply\n  TEP_minus_T1P = P * (T * E - T1)\n/Users/maxwelllee54/anaconda/lib/python3.5/site-packages/sklearn/calibration.py:415: RuntimeWarning: overflow encountered in exp\n  E = np.exp(AB[0] * F + AB[1])\n/Users/maxwelllee54/anaconda/lib/python3.5/site-packages/sklearn/utils/validation.py:526: DataConversionWarning: A column-vector y was passed when a 1d array was expected. Please change the shape of y to (n_samples, ), for example using ravel().\n  y = column_or_1d(y, warn=True)\n"
     ]
    },
    {
     "name": "stdout",
     "output_type": "stream",
     "text": [
      "0.593645780874 \t\t 27 \t\t 26\n0.798536989729 \t\t 28 \t\t 3\n"
     ]
    },
    {
     "name": "stderr",
     "output_type": "stream",
     "text": [
      "/Users/maxwelllee54/anaconda/lib/python3.5/site-packages/sklearn/utils/validation.py:526: DataConversionWarning: A column-vector y was passed when a 1d array was expected. Please change the shape of y to (n_samples, ), for example using ravel().\n  y = column_or_1d(y, warn=True)\n/Users/maxwelllee54/anaconda/lib/python3.5/site-packages/sklearn/utils/validation.py:526: DataConversionWarning: A column-vector y was passed when a 1d array was expected. Please change the shape of y to (n_samples, ), for example using ravel().\n  y = column_or_1d(y, warn=True)\n/Users/maxwelllee54/anaconda/lib/python3.5/site-packages/sklearn/calibration.py:415: RuntimeWarning: overflow encountered in exp\n  E = np.exp(AB[0] * F + AB[1])\n/Users/maxwelllee54/anaconda/lib/python3.5/site-packages/sklearn/calibration.py:425: RuntimeWarning: overflow encountered in exp\n  E = np.exp(AB[0] * F + AB[1])\n/Users/maxwelllee54/anaconda/lib/python3.5/site-packages/sklearn/calibration.py:427: RuntimeWarning: invalid value encountered in multiply\n  TEP_minus_T1P = P * (T * E - T1)\n"
     ]
    },
    {
     "name": "stdout",
     "output_type": "stream",
     "text": [
      "0.792606696821 \t\t 28 \t\t 4\n0.570522771223 \t\t 28 \t\t 5\n"
     ]
    },
    {
     "name": "stderr",
     "output_type": "stream",
     "text": [
      "/Users/maxwelllee54/anaconda/lib/python3.5/site-packages/sklearn/calibration.py:415: RuntimeWarning: overflow encountered in exp\n  E = np.exp(AB[0] * F + AB[1])\n/Users/maxwelllee54/anaconda/lib/python3.5/site-packages/sklearn/utils/validation.py:526: DataConversionWarning: A column-vector y was passed when a 1d array was expected. Please change the shape of y to (n_samples, ), for example using ravel().\n  y = column_or_1d(y, warn=True)\n/Users/maxwelllee54/anaconda/lib/python3.5/site-packages/sklearn/calibration.py:415: RuntimeWarning: overflow encountered in exp\n  E = np.exp(AB[0] * F + AB[1])\n/Users/maxwelllee54/anaconda/lib/python3.5/site-packages/sklearn/calibration.py:425: RuntimeWarning: overflow encountered in exp\n  E = np.exp(AB[0] * F + AB[1])\n/Users/maxwelllee54/anaconda/lib/python3.5/site-packages/sklearn/calibration.py:427: RuntimeWarning: invalid value encountered in multiply\n  TEP_minus_T1P = P * (T * E - T1)\n/Users/maxwelllee54/anaconda/lib/python3.5/site-packages/sklearn/calibration.py:415: RuntimeWarning: overflow encountered in exp\n  E = np.exp(AB[0] * F + AB[1])\n/Users/maxwelllee54/anaconda/lib/python3.5/site-packages/sklearn/utils/validation.py:526: DataConversionWarning: A column-vector y was passed when a 1d array was expected. Please change the shape of y to (n_samples, ), for example using ravel().\n  y = column_or_1d(y, warn=True)\n"
     ]
    },
    {
     "name": "stdout",
     "output_type": "stream",
     "text": [
      "0.580706960099 \t\t 28 \t\t 6\n0.57795292536 \t\t 28 \t\t 7\n"
     ]
    },
    {
     "name": "stderr",
     "output_type": "stream",
     "text": [
      "/Users/maxwelllee54/anaconda/lib/python3.5/site-packages/sklearn/calibration.py:415: RuntimeWarning: overflow encountered in exp\n  E = np.exp(AB[0] * F + AB[1])\n/Users/maxwelllee54/anaconda/lib/python3.5/site-packages/sklearn/calibration.py:425: RuntimeWarning: overflow encountered in exp\n  E = np.exp(AB[0] * F + AB[1])\n/Users/maxwelllee54/anaconda/lib/python3.5/site-packages/sklearn/calibration.py:427: RuntimeWarning: invalid value encountered in multiply\n  TEP_minus_T1P = P * (T * E - T1)\n/Users/maxwelllee54/anaconda/lib/python3.5/site-packages/sklearn/calibration.py:415: RuntimeWarning: overflow encountered in exp\n  E = np.exp(AB[0] * F + AB[1])\n/Users/maxwelllee54/anaconda/lib/python3.5/site-packages/sklearn/utils/validation.py:526: DataConversionWarning: A column-vector y was passed when a 1d array was expected. Please change the shape of y to (n_samples, ), for example using ravel().\n  y = column_or_1d(y, warn=True)\n/Users/maxwelllee54/anaconda/lib/python3.5/site-packages/sklearn/calibration.py:415: RuntimeWarning: overflow encountered in exp\n  E = np.exp(AB[0] * F + AB[1])\n/Users/maxwelllee54/anaconda/lib/python3.5/site-packages/sklearn/calibration.py:425: RuntimeWarning: overflow encountered in exp\n  E = np.exp(AB[0] * F + AB[1])\n/Users/maxwelllee54/anaconda/lib/python3.5/site-packages/sklearn/calibration.py:427: RuntimeWarning: invalid value encountered in multiply\n  TEP_minus_T1P = P * (T * E - T1)\n/Users/maxwelllee54/anaconda/lib/python3.5/site-packages/sklearn/calibration.py:415: RuntimeWarning: overflow encountered in exp\n  E = np.exp(AB[0] * F + AB[1])\n/Users/maxwelllee54/anaconda/lib/python3.5/site-packages/sklearn/utils/validation.py:526: DataConversionWarning: A column-vector y was passed when a 1d array was expected. Please change the shape of y to (n_samples, ), for example using ravel().\n  y = column_or_1d(y, warn=True)\n"
     ]
    },
    {
     "name": "stdout",
     "output_type": "stream",
     "text": [
      "0.600195670268 \t\t 28 \t\t 8\n0.588328565033 \t\t 28 \t\t 9\n"
     ]
    },
    {
     "name": "stderr",
     "output_type": "stream",
     "text": [
      "/Users/maxwelllee54/anaconda/lib/python3.5/site-packages/sklearn/calibration.py:415: RuntimeWarning: overflow encountered in exp\n  E = np.exp(AB[0] * F + AB[1])\n/Users/maxwelllee54/anaconda/lib/python3.5/site-packages/sklearn/calibration.py:425: RuntimeWarning: overflow encountered in exp\n  E = np.exp(AB[0] * F + AB[1])\n/Users/maxwelllee54/anaconda/lib/python3.5/site-packages/sklearn/calibration.py:427: RuntimeWarning: invalid value encountered in multiply\n  TEP_minus_T1P = P * (T * E - T1)\n/Users/maxwelllee54/anaconda/lib/python3.5/site-packages/sklearn/calibration.py:415: RuntimeWarning: overflow encountered in exp\n  E = np.exp(AB[0] * F + AB[1])\n/Users/maxwelllee54/anaconda/lib/python3.5/site-packages/sklearn/utils/validation.py:526: DataConversionWarning: A column-vector y was passed when a 1d array was expected. Please change the shape of y to (n_samples, ), for example using ravel().\n  y = column_or_1d(y, warn=True)\n"
     ]
    },
    {
     "name": "stderr",
     "output_type": "stream",
     "text": [
      "/Users/maxwelllee54/anaconda/lib/python3.5/site-packages/sklearn/calibration.py:415: RuntimeWarning: overflow encountered in exp\n  E = np.exp(AB[0] * F + AB[1])\n/Users/maxwelllee54/anaconda/lib/python3.5/site-packages/sklearn/calibration.py:425: RuntimeWarning: overflow encountered in exp\n  E = np.exp(AB[0] * F + AB[1])\n/Users/maxwelllee54/anaconda/lib/python3.5/site-packages/sklearn/calibration.py:427: RuntimeWarning: invalid value encountered in multiply\n  TEP_minus_T1P = P * (T * E - T1)\n/Users/maxwelllee54/anaconda/lib/python3.5/site-packages/sklearn/calibration.py:415: RuntimeWarning: overflow encountered in exp\n  E = np.exp(AB[0] * F + AB[1])\n/Users/maxwelllee54/anaconda/lib/python3.5/site-packages/sklearn/utils/validation.py:526: DataConversionWarning: A column-vector y was passed when a 1d array was expected. Please change the shape of y to (n_samples, ), for example using ravel().\n  y = column_or_1d(y, warn=True)\n"
     ]
    },
    {
     "name": "stdout",
     "output_type": "stream",
     "text": [
      "0.549780588976 \t\t 28 \t\t 10\n"
     ]
    },
    {
     "name": "stderr",
     "output_type": "stream",
     "text": [
      "/Users/maxwelllee54/anaconda/lib/python3.5/site-packages/sklearn/calibration.py:415: RuntimeWarning: overflow encountered in exp\n  E = np.exp(AB[0] * F + AB[1])\n/Users/maxwelllee54/anaconda/lib/python3.5/site-packages/sklearn/calibration.py:425: RuntimeWarning: overflow encountered in exp\n  E = np.exp(AB[0] * F + AB[1])\n/Users/maxwelllee54/anaconda/lib/python3.5/site-packages/sklearn/calibration.py:427: RuntimeWarning: invalid value encountered in multiply\n  TEP_minus_T1P = P * (T * E - T1)\n/Users/maxwelllee54/anaconda/lib/python3.5/site-packages/sklearn/calibration.py:415: RuntimeWarning: overflow encountered in exp\n  E = np.exp(AB[0] * F + AB[1])\n/Users/maxwelllee54/anaconda/lib/python3.5/site-packages/sklearn/utils/validation.py:526: DataConversionWarning: A column-vector y was passed when a 1d array was expected. Please change the shape of y to (n_samples, ), for example using ravel().\n  y = column_or_1d(y, warn=True)\n"
     ]
    },
    {
     "name": "stdout",
     "output_type": "stream",
     "text": [
      "0.565766233232 \t\t 28 \t\t 11\n"
     ]
    },
    {
     "name": "stderr",
     "output_type": "stream",
     "text": [
      "/Users/maxwelllee54/anaconda/lib/python3.5/site-packages/sklearn/calibration.py:415: RuntimeWarning: overflow encountered in exp\n  E = np.exp(AB[0] * F + AB[1])\n/Users/maxwelllee54/anaconda/lib/python3.5/site-packages/sklearn/calibration.py:425: RuntimeWarning: overflow encountered in exp\n  E = np.exp(AB[0] * F + AB[1])\n/Users/maxwelllee54/anaconda/lib/python3.5/site-packages/sklearn/calibration.py:427: RuntimeWarning: invalid value encountered in multiply\n  TEP_minus_T1P = P * (T * E - T1)\n/Users/maxwelllee54/anaconda/lib/python3.5/site-packages/sklearn/calibration.py:415: RuntimeWarning: overflow encountered in exp\n  E = np.exp(AB[0] * F + AB[1])\n/Users/maxwelllee54/anaconda/lib/python3.5/site-packages/sklearn/utils/validation.py:526: DataConversionWarning: A column-vector y was passed when a 1d array was expected. Please change the shape of y to (n_samples, ), for example using ravel().\n  y = column_or_1d(y, warn=True)\n"
     ]
    },
    {
     "name": "stdout",
     "output_type": "stream",
     "text": [
      "0.565697384434 \t\t 28 \t\t 12\n"
     ]
    },
    {
     "name": "stderr",
     "output_type": "stream",
     "text": [
      "/Users/maxwelllee54/anaconda/lib/python3.5/site-packages/sklearn/calibration.py:415: RuntimeWarning: overflow encountered in exp\n  E = np.exp(AB[0] * F + AB[1])\n/Users/maxwelllee54/anaconda/lib/python3.5/site-packages/sklearn/calibration.py:425: RuntimeWarning: overflow encountered in exp\n  E = np.exp(AB[0] * F + AB[1])\n/Users/maxwelllee54/anaconda/lib/python3.5/site-packages/sklearn/calibration.py:427: RuntimeWarning: invalid value encountered in multiply\n  TEP_minus_T1P = P * (T * E - T1)\n/Users/maxwelllee54/anaconda/lib/python3.5/site-packages/sklearn/calibration.py:415: RuntimeWarning: overflow encountered in exp\n  E = np.exp(AB[0] * F + AB[1])\n/Users/maxwelllee54/anaconda/lib/python3.5/site-packages/sklearn/utils/validation.py:526: DataConversionWarning: A column-vector y was passed when a 1d array was expected. Please change the shape of y to (n_samples, ), for example using ravel().\n  y = column_or_1d(y, warn=True)\n/Users/maxwelllee54/anaconda/lib/python3.5/site-packages/sklearn/calibration.py:415: RuntimeWarning: overflow encountered in exp\n  E = np.exp(AB[0] * F + AB[1])\n/Users/maxwelllee54/anaconda/lib/python3.5/site-packages/sklearn/calibration.py:425: RuntimeWarning: overflow encountered in exp\n  E = np.exp(AB[0] * F + AB[1])\n/Users/maxwelllee54/anaconda/lib/python3.5/site-packages/sklearn/calibration.py:427: RuntimeWarning: invalid value encountered in multiply\n  TEP_minus_T1P = P * (T * E - T1)\n/Users/maxwelllee54/anaconda/lib/python3.5/site-packages/sklearn/calibration.py:415: RuntimeWarning: overflow encountered in exp\n  E = np.exp(AB[0] * F + AB[1])\n"
     ]
    },
    {
     "name": "stdout",
     "output_type": "stream",
     "text": [
      "0.564457513626 \t\t 28 \t\t 13\n0.566088271348 \t\t 28 \t\t 14\n"
     ]
    },
    {
     "name": "stderr",
     "output_type": "stream",
     "text": [
      "/Users/maxwelllee54/anaconda/lib/python3.5/site-packages/sklearn/utils/validation.py:526: DataConversionWarning: A column-vector y was passed when a 1d array was expected. Please change the shape of y to (n_samples, ), for example using ravel().\n  y = column_or_1d(y, warn=True)\n/Users/maxwelllee54/anaconda/lib/python3.5/site-packages/sklearn/calibration.py:415: RuntimeWarning: overflow encountered in exp\n  E = np.exp(AB[0] * F + AB[1])\n/Users/maxwelllee54/anaconda/lib/python3.5/site-packages/sklearn/calibration.py:425: RuntimeWarning: overflow encountered in exp\n  E = np.exp(AB[0] * F + AB[1])\n/Users/maxwelllee54/anaconda/lib/python3.5/site-packages/sklearn/calibration.py:427: RuntimeWarning: invalid value encountered in multiply\n  TEP_minus_T1P = P * (T * E - T1)\n/Users/maxwelllee54/anaconda/lib/python3.5/site-packages/sklearn/calibration.py:415: RuntimeWarning: overflow encountered in exp\n  E = np.exp(AB[0] * F + AB[1])\n/Users/maxwelllee54/anaconda/lib/python3.5/site-packages/sklearn/utils/validation.py:526: DataConversionWarning: A column-vector y was passed when a 1d array was expected. Please change the shape of y to (n_samples, ), for example using ravel().\n  y = column_or_1d(y, warn=True)\n"
     ]
    },
    {
     "name": "stdout",
     "output_type": "stream",
     "text": [
      "0.570541810273 \t\t 28 \t\t 15\n0.573791862723 \t\t 28 \t\t 16\n"
     ]
    },
    {
     "name": "stderr",
     "output_type": "stream",
     "text": [
      "/Users/maxwelllee54/anaconda/lib/python3.5/site-packages/sklearn/calibration.py:415: RuntimeWarning: overflow encountered in exp\n  E = np.exp(AB[0] * F + AB[1])\n/Users/maxwelllee54/anaconda/lib/python3.5/site-packages/sklearn/calibration.py:425: RuntimeWarning: overflow encountered in exp\n  E = np.exp(AB[0] * F + AB[1])\n/Users/maxwelllee54/anaconda/lib/python3.5/site-packages/sklearn/calibration.py:427: RuntimeWarning: invalid value encountered in multiply\n  TEP_minus_T1P = P * (T * E - T1)\n/Users/maxwelllee54/anaconda/lib/python3.5/site-packages/sklearn/calibration.py:415: RuntimeWarning: overflow encountered in exp\n  E = np.exp(AB[0] * F + AB[1])\n/Users/maxwelllee54/anaconda/lib/python3.5/site-packages/sklearn/utils/validation.py:526: DataConversionWarning: A column-vector y was passed when a 1d array was expected. Please change the shape of y to (n_samples, ), for example using ravel().\n  y = column_or_1d(y, warn=True)\n"
     ]
    },
    {
     "name": "stderr",
     "output_type": "stream",
     "text": [
      "/Users/maxwelllee54/anaconda/lib/python3.5/site-packages/sklearn/calibration.py:415: RuntimeWarning: overflow encountered in exp\n  E = np.exp(AB[0] * F + AB[1])\n/Users/maxwelllee54/anaconda/lib/python3.5/site-packages/sklearn/calibration.py:425: RuntimeWarning: overflow encountered in exp\n  E = np.exp(AB[0] * F + AB[1])\n/Users/maxwelllee54/anaconda/lib/python3.5/site-packages/sklearn/calibration.py:427: RuntimeWarning: invalid value encountered in multiply\n  TEP_minus_T1P = P * (T * E - T1)\n/Users/maxwelllee54/anaconda/lib/python3.5/site-packages/sklearn/calibration.py:415: RuntimeWarning: overflow encountered in exp\n  E = np.exp(AB[0] * F + AB[1])\n/Users/maxwelllee54/anaconda/lib/python3.5/site-packages/sklearn/utils/validation.py:526: DataConversionWarning: A column-vector y was passed when a 1d array was expected. Please change the shape of y to (n_samples, ), for example using ravel().\n  y = column_or_1d(y, warn=True)\n"
     ]
    },
    {
     "name": "stdout",
     "output_type": "stream",
     "text": [
      "0.574139410133 \t\t 28 \t\t 17\n"
     ]
    },
    {
     "name": "stderr",
     "output_type": "stream",
     "text": [
      "/Users/maxwelllee54/anaconda/lib/python3.5/site-packages/sklearn/calibration.py:415: RuntimeWarning: overflow encountered in exp\n  E = np.exp(AB[0] * F + AB[1])\n/Users/maxwelllee54/anaconda/lib/python3.5/site-packages/sklearn/calibration.py:425: RuntimeWarning: overflow encountered in exp\n  E = np.exp(AB[0] * F + AB[1])\n/Users/maxwelllee54/anaconda/lib/python3.5/site-packages/sklearn/calibration.py:427: RuntimeWarning: invalid value encountered in multiply\n  TEP_minus_T1P = P * (T * E - T1)\n/Users/maxwelllee54/anaconda/lib/python3.5/site-packages/sklearn/calibration.py:415: RuntimeWarning: overflow encountered in exp\n  E = np.exp(AB[0] * F + AB[1])\n/Users/maxwelllee54/anaconda/lib/python3.5/site-packages/sklearn/utils/validation.py:526: DataConversionWarning: A column-vector y was passed when a 1d array was expected. Please change the shape of y to (n_samples, ), for example using ravel().\n  y = column_or_1d(y, warn=True)\n"
     ]
    },
    {
     "name": "stdout",
     "output_type": "stream",
     "text": [
      "0.577019473838 \t\t 28 \t\t 18\n"
     ]
    },
    {
     "name": "stderr",
     "output_type": "stream",
     "text": [
      "/Users/maxwelllee54/anaconda/lib/python3.5/site-packages/sklearn/calibration.py:415: RuntimeWarning: overflow encountered in exp\n  E = np.exp(AB[0] * F + AB[1])\n/Users/maxwelllee54/anaconda/lib/python3.5/site-packages/sklearn/calibration.py:425: RuntimeWarning: overflow encountered in exp\n  E = np.exp(AB[0] * F + AB[1])\n/Users/maxwelllee54/anaconda/lib/python3.5/site-packages/sklearn/calibration.py:427: RuntimeWarning: invalid value encountered in multiply\n  TEP_minus_T1P = P * (T * E - T1)\n/Users/maxwelllee54/anaconda/lib/python3.5/site-packages/sklearn/calibration.py:415: RuntimeWarning: overflow encountered in exp\n  E = np.exp(AB[0] * F + AB[1])\n/Users/maxwelllee54/anaconda/lib/python3.5/site-packages/sklearn/utils/validation.py:526: DataConversionWarning: A column-vector y was passed when a 1d array was expected. Please change the shape of y to (n_samples, ), for example using ravel().\n  y = column_or_1d(y, warn=True)\n"
     ]
    },
    {
     "name": "stdout",
     "output_type": "stream",
     "text": [
      "0.586995806315 \t\t 28 \t\t 19\n"
     ]
    },
    {
     "name": "stderr",
     "output_type": "stream",
     "text": [
      "/Users/maxwelllee54/anaconda/lib/python3.5/site-packages/sklearn/calibration.py:415: RuntimeWarning: overflow encountered in exp\n  E = np.exp(AB[0] * F + AB[1])\n/Users/maxwelllee54/anaconda/lib/python3.5/site-packages/sklearn/calibration.py:425: RuntimeWarning: overflow encountered in exp\n  E = np.exp(AB[0] * F + AB[1])\n/Users/maxwelllee54/anaconda/lib/python3.5/site-packages/sklearn/calibration.py:427: RuntimeWarning: invalid value encountered in multiply\n  TEP_minus_T1P = P * (T * E - T1)\n/Users/maxwelllee54/anaconda/lib/python3.5/site-packages/sklearn/calibration.py:415: RuntimeWarning: overflow encountered in exp\n  E = np.exp(AB[0] * F + AB[1])\n/Users/maxwelllee54/anaconda/lib/python3.5/site-packages/sklearn/utils/validation.py:526: DataConversionWarning: A column-vector y was passed when a 1d array was expected. Please change the shape of y to (n_samples, ), for example using ravel().\n  y = column_or_1d(y, warn=True)\n"
     ]
    },
    {
     "name": "stdout",
     "output_type": "stream",
     "text": [
      "0.595892412604 \t\t 28 \t\t 20\n"
     ]
    },
    {
     "name": "stderr",
     "output_type": "stream",
     "text": [
      "/Users/maxwelllee54/anaconda/lib/python3.5/site-packages/sklearn/calibration.py:415: RuntimeWarning: overflow encountered in exp\n  E = np.exp(AB[0] * F + AB[1])\n/Users/maxwelllee54/anaconda/lib/python3.5/site-packages/sklearn/calibration.py:425: RuntimeWarning: overflow encountered in exp\n  E = np.exp(AB[0] * F + AB[1])\n/Users/maxwelllee54/anaconda/lib/python3.5/site-packages/sklearn/calibration.py:427: RuntimeWarning: invalid value encountered in multiply\n  TEP_minus_T1P = P * (T * E - T1)\n/Users/maxwelllee54/anaconda/lib/python3.5/site-packages/sklearn/calibration.py:415: RuntimeWarning: overflow encountered in exp\n  E = np.exp(AB[0] * F + AB[1])\n/Users/maxwelllee54/anaconda/lib/python3.5/site-packages/sklearn/utils/validation.py:526: DataConversionWarning: A column-vector y was passed when a 1d array was expected. Please change the shape of y to (n_samples, ), for example using ravel().\n  y = column_or_1d(y, warn=True)\n"
     ]
    },
    {
     "name": "stdout",
     "output_type": "stream",
     "text": [
      "0.607593232051 \t\t 28 \t\t 21\n"
     ]
    },
    {
     "name": "stderr",
     "output_type": "stream",
     "text": [
      "/Users/maxwelllee54/anaconda/lib/python3.5/site-packages/sklearn/calibration.py:415: RuntimeWarning: overflow encountered in exp\n  E = np.exp(AB[0] * F + AB[1])\n/Users/maxwelllee54/anaconda/lib/python3.5/site-packages/sklearn/calibration.py:425: RuntimeWarning: overflow encountered in exp\n  E = np.exp(AB[0] * F + AB[1])\n/Users/maxwelllee54/anaconda/lib/python3.5/site-packages/sklearn/calibration.py:427: RuntimeWarning: invalid value encountered in multiply\n  TEP_minus_T1P = P * (T * E - T1)\n/Users/maxwelllee54/anaconda/lib/python3.5/site-packages/sklearn/calibration.py:415: RuntimeWarning: overflow encountered in exp\n  E = np.exp(AB[0] * F + AB[1])\n/Users/maxwelllee54/anaconda/lib/python3.5/site-packages/sklearn/utils/validation.py:526: DataConversionWarning: A column-vector y was passed when a 1d array was expected. Please change the shape of y to (n_samples, ), for example using ravel().\n  y = column_or_1d(y, warn=True)\n"
     ]
    },
    {
     "name": "stdout",
     "output_type": "stream",
     "text": [
      "0.607477459372 \t\t 28 \t\t 22\n"
     ]
    },
    {
     "name": "stderr",
     "output_type": "stream",
     "text": [
      "/Users/maxwelllee54/anaconda/lib/python3.5/site-packages/sklearn/calibration.py:415: RuntimeWarning: overflow encountered in exp\n  E = np.exp(AB[0] * F + AB[1])\n/Users/maxwelllee54/anaconda/lib/python3.5/site-packages/sklearn/calibration.py:425: RuntimeWarning: overflow encountered in exp\n  E = np.exp(AB[0] * F + AB[1])\n/Users/maxwelllee54/anaconda/lib/python3.5/site-packages/sklearn/calibration.py:427: RuntimeWarning: invalid value encountered in multiply\n  TEP_minus_T1P = P * (T * E - T1)\n/Users/maxwelllee54/anaconda/lib/python3.5/site-packages/sklearn/calibration.py:415: RuntimeWarning: overflow encountered in exp\n  E = np.exp(AB[0] * F + AB[1])\n/Users/maxwelllee54/anaconda/lib/python3.5/site-packages/sklearn/utils/validation.py:526: DataConversionWarning: A column-vector y was passed when a 1d array was expected. Please change the shape of y to (n_samples, ), for example using ravel().\n  y = column_or_1d(y, warn=True)\n"
     ]
    },
    {
     "name": "stdout",
     "output_type": "stream",
     "text": [
      "0.596822297237 \t\t 28 \t\t 23\n"
     ]
    },
    {
     "name": "stderr",
     "output_type": "stream",
     "text": [
      "/Users/maxwelllee54/anaconda/lib/python3.5/site-packages/sklearn/calibration.py:415: RuntimeWarning: overflow encountered in exp\n  E = np.exp(AB[0] * F + AB[1])\n/Users/maxwelllee54/anaconda/lib/python3.5/site-packages/sklearn/calibration.py:425: RuntimeWarning: overflow encountered in exp\n  E = np.exp(AB[0] * F + AB[1])\n/Users/maxwelllee54/anaconda/lib/python3.5/site-packages/sklearn/calibration.py:427: RuntimeWarning: invalid value encountered in multiply\n  TEP_minus_T1P = P * (T * E - T1)\n/Users/maxwelllee54/anaconda/lib/python3.5/site-packages/sklearn/calibration.py:415: RuntimeWarning: overflow encountered in exp\n  E = np.exp(AB[0] * F + AB[1])\n/Users/maxwelllee54/anaconda/lib/python3.5/site-packages/sklearn/utils/validation.py:526: DataConversionWarning: A column-vector y was passed when a 1d array was expected. Please change the shape of y to (n_samples, ), for example using ravel().\n  y = column_or_1d(y, warn=True)\n"
     ]
    },
    {
     "name": "stdout",
     "output_type": "stream",
     "text": [
      "0.609286501483 \t\t 28 \t\t 24\n"
     ]
    },
    {
     "name": "stderr",
     "output_type": "stream",
     "text": [
      "/Users/maxwelllee54/anaconda/lib/python3.5/site-packages/sklearn/calibration.py:415: RuntimeWarning: overflow encountered in exp\n  E = np.exp(AB[0] * F + AB[1])\n/Users/maxwelllee54/anaconda/lib/python3.5/site-packages/sklearn/calibration.py:425: RuntimeWarning: overflow encountered in exp\n  E = np.exp(AB[0] * F + AB[1])\n/Users/maxwelllee54/anaconda/lib/python3.5/site-packages/sklearn/calibration.py:427: RuntimeWarning: invalid value encountered in multiply\n  TEP_minus_T1P = P * (T * E - T1)\n/Users/maxwelllee54/anaconda/lib/python3.5/site-packages/sklearn/calibration.py:415: RuntimeWarning: overflow encountered in exp\n  E = np.exp(AB[0] * F + AB[1])\n/Users/maxwelllee54/anaconda/lib/python3.5/site-packages/sklearn/utils/validation.py:526: DataConversionWarning: A column-vector y was passed when a 1d array was expected. Please change the shape of y to (n_samples, ), for example using ravel().\n  y = column_or_1d(y, warn=True)\n"
     ]
    },
    {
     "name": "stdout",
     "output_type": "stream",
     "text": [
      "0.610244091031 \t\t 28 \t\t 25\n"
     ]
    },
    {
     "name": "stderr",
     "output_type": "stream",
     "text": [
      "/Users/maxwelllee54/anaconda/lib/python3.5/site-packages/sklearn/calibration.py:415: RuntimeWarning: overflow encountered in exp\n  E = np.exp(AB[0] * F + AB[1])\n/Users/maxwelllee54/anaconda/lib/python3.5/site-packages/sklearn/calibration.py:425: RuntimeWarning: overflow encountered in exp\n  E = np.exp(AB[0] * F + AB[1])\n/Users/maxwelllee54/anaconda/lib/python3.5/site-packages/sklearn/calibration.py:427: RuntimeWarning: invalid value encountered in multiply\n  TEP_minus_T1P = P * (T * E - T1)\n/Users/maxwelllee54/anaconda/lib/python3.5/site-packages/sklearn/calibration.py:415: RuntimeWarning: overflow encountered in exp\n  E = np.exp(AB[0] * F + AB[1])\n/Users/maxwelllee54/anaconda/lib/python3.5/site-packages/sklearn/utils/validation.py:526: DataConversionWarning: A column-vector y was passed when a 1d array was expected. Please change the shape of y to (n_samples, ), for example using ravel().\n  y = column_or_1d(y, warn=True)\n"
     ]
    },
    {
     "name": "stdout",
     "output_type": "stream",
     "text": [
      "0.593645781005 \t\t 28 \t\t 26\n"
     ]
    },
    {
     "name": "stderr",
     "output_type": "stream",
     "text": [
      "/Users/maxwelllee54/anaconda/lib/python3.5/site-packages/sklearn/calibration.py:415: RuntimeWarning: overflow encountered in exp\n  E = np.exp(AB[0] * F + AB[1])\n/Users/maxwelllee54/anaconda/lib/python3.5/site-packages/sklearn/calibration.py:425: RuntimeWarning: overflow encountered in exp\n  E = np.exp(AB[0] * F + AB[1])\n/Users/maxwelllee54/anaconda/lib/python3.5/site-packages/sklearn/calibration.py:427: RuntimeWarning: invalid value encountered in multiply\n  TEP_minus_T1P = P * (T * E - T1)\n/Users/maxwelllee54/anaconda/lib/python3.5/site-packages/sklearn/calibration.py:415: RuntimeWarning: overflow encountered in exp\n  E = np.exp(AB[0] * F + AB[1])\n/Users/maxwelllee54/anaconda/lib/python3.5/site-packages/sklearn/utils/validation.py:526: DataConversionWarning: A column-vector y was passed when a 1d array was expected. Please change the shape of y to (n_samples, ), for example using ravel().\n  y = column_or_1d(y, warn=True)\n"
     ]
    },
    {
     "name": "stdout",
     "output_type": "stream",
     "text": [
      "0.591137275648 \t\t 28 \t\t 27\n"
     ]
    },
    {
     "name": "stdout",
     "output_type": "stream",
     "text": [
      "0.798536989729 \t\t 29 \t\t 3\n0.792606696511 \t\t 29 \t\t 4\n"
     ]
    },
    {
     "name": "stderr",
     "output_type": "stream",
     "text": [
      "/Users/maxwelllee54/anaconda/lib/python3.5/site-packages/sklearn/utils/validation.py:526: DataConversionWarning: A column-vector y was passed when a 1d array was expected. Please change the shape of y to (n_samples, ), for example using ravel().\n  y = column_or_1d(y, warn=True)\n/Users/maxwelllee54/anaconda/lib/python3.5/site-packages/sklearn/utils/validation.py:526: DataConversionWarning: A column-vector y was passed when a 1d array was expected. Please change the shape of y to (n_samples, ), for example using ravel().\n  y = column_or_1d(y, warn=True)\n/Users/maxwelllee54/anaconda/lib/python3.5/site-packages/sklearn/calibration.py:415: RuntimeWarning: overflow encountered in exp\n  E = np.exp(AB[0] * F + AB[1])\n/Users/maxwelllee54/anaconda/lib/python3.5/site-packages/sklearn/calibration.py:425: RuntimeWarning: overflow encountered in exp\n  E = np.exp(AB[0] * F + AB[1])\n/Users/maxwelllee54/anaconda/lib/python3.5/site-packages/sklearn/calibration.py:427: RuntimeWarning: invalid value encountered in multiply\n  TEP_minus_T1P = P * (T * E - T1)\n"
     ]
    },
    {
     "name": "stderr",
     "output_type": "stream",
     "text": [
      "/Users/maxwelllee54/anaconda/lib/python3.5/site-packages/sklearn/calibration.py:415: RuntimeWarning: overflow encountered in exp\n  E = np.exp(AB[0] * F + AB[1])\n/Users/maxwelllee54/anaconda/lib/python3.5/site-packages/sklearn/utils/validation.py:526: DataConversionWarning: A column-vector y was passed when a 1d array was expected. Please change the shape of y to (n_samples, ), for example using ravel().\n  y = column_or_1d(y, warn=True)\n/Users/maxwelllee54/anaconda/lib/python3.5/site-packages/sklearn/calibration.py:415: RuntimeWarning: overflow encountered in exp\n  E = np.exp(AB[0] * F + AB[1])\n/Users/maxwelllee54/anaconda/lib/python3.5/site-packages/sklearn/calibration.py:425: RuntimeWarning: overflow encountered in exp\n  E = np.exp(AB[0] * F + AB[1])\n/Users/maxwelllee54/anaconda/lib/python3.5/site-packages/sklearn/calibration.py:427: RuntimeWarning: invalid value encountered in multiply\n  TEP_minus_T1P = P * (T * E - T1)\n/Users/maxwelllee54/anaconda/lib/python3.5/site-packages/sklearn/calibration.py:415: RuntimeWarning: overflow encountered in exp\n  E = np.exp(AB[0] * F + AB[1])\n/Users/maxwelllee54/anaconda/lib/python3.5/site-packages/sklearn/utils/validation.py:526: DataConversionWarning: A column-vector y was passed when a 1d array was expected. Please change the shape of y to (n_samples, ), for example using ravel().\n  y = column_or_1d(y, warn=True)\n"
     ]
    },
    {
     "name": "stdout",
     "output_type": "stream",
     "text": [
      "0.57052259748 \t\t 29 \t\t 5\n0.580706781897 \t\t 29 \t\t 6\n"
     ]
    },
    {
     "name": "stderr",
     "output_type": "stream",
     "text": [
      "/Users/maxwelllee54/anaconda/lib/python3.5/site-packages/sklearn/calibration.py:415: RuntimeWarning: overflow encountered in exp\n  E = np.exp(AB[0] * F + AB[1])\n/Users/maxwelllee54/anaconda/lib/python3.5/site-packages/sklearn/calibration.py:425: RuntimeWarning: overflow encountered in exp\n  E = np.exp(AB[0] * F + AB[1])\n/Users/maxwelllee54/anaconda/lib/python3.5/site-packages/sklearn/calibration.py:427: RuntimeWarning: invalid value encountered in multiply\n  TEP_minus_T1P = P * (T * E - T1)\n/Users/maxwelllee54/anaconda/lib/python3.5/site-packages/sklearn/calibration.py:415: RuntimeWarning: overflow encountered in exp\n  E = np.exp(AB[0] * F + AB[1])\n/Users/maxwelllee54/anaconda/lib/python3.5/site-packages/sklearn/utils/validation.py:526: DataConversionWarning: A column-vector y was passed when a 1d array was expected. Please change the shape of y to (n_samples, ), for example using ravel().\n  y = column_or_1d(y, warn=True)\n/Users/maxwelllee54/anaconda/lib/python3.5/site-packages/sklearn/calibration.py:415: RuntimeWarning: overflow encountered in exp\n  E = np.exp(AB[0] * F + AB[1])\n/Users/maxwelllee54/anaconda/lib/python3.5/site-packages/sklearn/calibration.py:425: RuntimeWarning: overflow encountered in exp\n  E = np.exp(AB[0] * F + AB[1])\n/Users/maxwelllee54/anaconda/lib/python3.5/site-packages/sklearn/calibration.py:427: RuntimeWarning: invalid value encountered in multiply\n  TEP_minus_T1P = P * (T * E - T1)\n/Users/maxwelllee54/anaconda/lib/python3.5/site-packages/sklearn/calibration.py:415: RuntimeWarning: overflow encountered in exp\n  E = np.exp(AB[0] * F + AB[1])\n/Users/maxwelllee54/anaconda/lib/python3.5/site-packages/sklearn/utils/validation.py:526: DataConversionWarning: A column-vector y was passed when a 1d array was expected. Please change the shape of y to (n_samples, ), for example using ravel().\n  y = column_or_1d(y, warn=True)\n"
     ]
    },
    {
     "name": "stdout",
     "output_type": "stream",
     "text": [
      "0.577954527572 \t\t 29 \t\t 7\n0.600198805307 \t\t 29 \t\t 8\n"
     ]
    },
    {
     "name": "stderr",
     "output_type": "stream",
     "text": [
      "/Users/maxwelllee54/anaconda/lib/python3.5/site-packages/sklearn/calibration.py:415: RuntimeWarning: overflow encountered in exp\n  E = np.exp(AB[0] * F + AB[1])\n/Users/maxwelllee54/anaconda/lib/python3.5/site-packages/sklearn/calibration.py:425: RuntimeWarning: overflow encountered in exp\n  E = np.exp(AB[0] * F + AB[1])\n/Users/maxwelllee54/anaconda/lib/python3.5/site-packages/sklearn/calibration.py:427: RuntimeWarning: invalid value encountered in multiply\n  TEP_minus_T1P = P * (T * E - T1)\n/Users/maxwelllee54/anaconda/lib/python3.5/site-packages/sklearn/calibration.py:415: RuntimeWarning: overflow encountered in exp\n  E = np.exp(AB[0] * F + AB[1])\n/Users/maxwelllee54/anaconda/lib/python3.5/site-packages/sklearn/utils/validation.py:526: DataConversionWarning: A column-vector y was passed when a 1d array was expected. Please change the shape of y to (n_samples, ), for example using ravel().\n  y = column_or_1d(y, warn=True)\n"
     ]
    },
    {
     "name": "stdout",
     "output_type": "stream",
     "text": [
      "0.588326675716 \t\t 29 \t\t 9\n"
     ]
    },
    {
     "name": "stderr",
     "output_type": "stream",
     "text": [
      "/Users/maxwelllee54/anaconda/lib/python3.5/site-packages/sklearn/calibration.py:415: RuntimeWarning: overflow encountered in exp\n  E = np.exp(AB[0] * F + AB[1])\n/Users/maxwelllee54/anaconda/lib/python3.5/site-packages/sklearn/calibration.py:425: RuntimeWarning: overflow encountered in exp\n  E = np.exp(AB[0] * F + AB[1])\n/Users/maxwelllee54/anaconda/lib/python3.5/site-packages/sklearn/calibration.py:427: RuntimeWarning: invalid value encountered in multiply\n  TEP_minus_T1P = P * (T * E - T1)\n/Users/maxwelllee54/anaconda/lib/python3.5/site-packages/sklearn/calibration.py:415: RuntimeWarning: overflow encountered in exp\n  E = np.exp(AB[0] * F + AB[1])\n/Users/maxwelllee54/anaconda/lib/python3.5/site-packages/sklearn/utils/validation.py:526: DataConversionWarning: A column-vector y was passed when a 1d array was expected. Please change the shape of y to (n_samples, ), for example using ravel().\n  y = column_or_1d(y, warn=True)\n/Users/maxwelllee54/anaconda/lib/python3.5/site-packages/sklearn/calibration.py:415: RuntimeWarning: overflow encountered in exp\n  E = np.exp(AB[0] * F + AB[1])\n/Users/maxwelllee54/anaconda/lib/python3.5/site-packages/sklearn/calibration.py:425: RuntimeWarning: overflow encountered in exp\n  E = np.exp(AB[0] * F + AB[1])\n/Users/maxwelllee54/anaconda/lib/python3.5/site-packages/sklearn/calibration.py:427: RuntimeWarning: invalid value encountered in multiply\n  TEP_minus_T1P = P * (T * E - T1)\n/Users/maxwelllee54/anaconda/lib/python3.5/site-packages/sklearn/calibration.py:415: RuntimeWarning: overflow encountered in exp\n  E = np.exp(AB[0] * F + AB[1])\n"
     ]
    },
    {
     "name": "stdout",
     "output_type": "stream",
     "text": [
      "0.549779796082 \t\t 29 \t\t 10\n0.565754450585 \t\t 29 \t\t 11\n"
     ]
    },
    {
     "name": "stderr",
     "output_type": "stream",
     "text": [
      "/Users/maxwelllee54/anaconda/lib/python3.5/site-packages/sklearn/utils/validation.py:526: DataConversionWarning: A column-vector y was passed when a 1d array was expected. Please change the shape of y to (n_samples, ), for example using ravel().\n  y = column_or_1d(y, warn=True)\n/Users/maxwelllee54/anaconda/lib/python3.5/site-packages/sklearn/calibration.py:415: RuntimeWarning: overflow encountered in exp\n  E = np.exp(AB[0] * F + AB[1])\n/Users/maxwelllee54/anaconda/lib/python3.5/site-packages/sklearn/calibration.py:425: RuntimeWarning: overflow encountered in exp\n  E = np.exp(AB[0] * F + AB[1])\n/Users/maxwelllee54/anaconda/lib/python3.5/site-packages/sklearn/calibration.py:427: RuntimeWarning: invalid value encountered in multiply\n  TEP_minus_T1P = P * (T * E - T1)\n/Users/maxwelllee54/anaconda/lib/python3.5/site-packages/sklearn/calibration.py:415: RuntimeWarning: overflow encountered in exp\n  E = np.exp(AB[0] * F + AB[1])\n/Users/maxwelllee54/anaconda/lib/python3.5/site-packages/sklearn/utils/validation.py:526: DataConversionWarning: A column-vector y was passed when a 1d array was expected. Please change the shape of y to (n_samples, ), for example using ravel().\n  y = column_or_1d(y, warn=True)\n"
     ]
    },
    {
     "name": "stdout",
     "output_type": "stream",
     "text": [
      "0.565699712632 \t\t 29 \t\t 12\n"
     ]
    },
    {
     "name": "stderr",
     "output_type": "stream",
     "text": [
      "/Users/maxwelllee54/anaconda/lib/python3.5/site-packages/sklearn/calibration.py:415: RuntimeWarning: overflow encountered in exp\n  E = np.exp(AB[0] * F + AB[1])\n/Users/maxwelllee54/anaconda/lib/python3.5/site-packages/sklearn/calibration.py:425: RuntimeWarning: overflow encountered in exp\n  E = np.exp(AB[0] * F + AB[1])\n/Users/maxwelllee54/anaconda/lib/python3.5/site-packages/sklearn/calibration.py:427: RuntimeWarning: invalid value encountered in multiply\n  TEP_minus_T1P = P * (T * E - T1)\n/Users/maxwelllee54/anaconda/lib/python3.5/site-packages/sklearn/calibration.py:415: RuntimeWarning: overflow encountered in exp\n  E = np.exp(AB[0] * F + AB[1])\n/Users/maxwelllee54/anaconda/lib/python3.5/site-packages/sklearn/utils/validation.py:526: DataConversionWarning: A column-vector y was passed when a 1d array was expected. Please change the shape of y to (n_samples, ), for example using ravel().\n  y = column_or_1d(y, warn=True)\n"
     ]
    },
    {
     "name": "stdout",
     "output_type": "stream",
     "text": [
      "0.564461487429 \t\t 29 \t\t 13\n"
     ]
    },
    {
     "name": "stderr",
     "output_type": "stream",
     "text": [
      "/Users/maxwelllee54/anaconda/lib/python3.5/site-packages/sklearn/calibration.py:415: RuntimeWarning: overflow encountered in exp\n  E = np.exp(AB[0] * F + AB[1])\n/Users/maxwelllee54/anaconda/lib/python3.5/site-packages/sklearn/calibration.py:425: RuntimeWarning: overflow encountered in exp\n  E = np.exp(AB[0] * F + AB[1])\n/Users/maxwelllee54/anaconda/lib/python3.5/site-packages/sklearn/calibration.py:427: RuntimeWarning: invalid value encountered in multiply\n  TEP_minus_T1P = P * (T * E - T1)\n/Users/maxwelllee54/anaconda/lib/python3.5/site-packages/sklearn/calibration.py:415: RuntimeWarning: overflow encountered in exp\n  E = np.exp(AB[0] * F + AB[1])\n/Users/maxwelllee54/anaconda/lib/python3.5/site-packages/sklearn/utils/validation.py:526: DataConversionWarning: A column-vector y was passed when a 1d array was expected. Please change the shape of y to (n_samples, ), for example using ravel().\n  y = column_or_1d(y, warn=True)\n/Users/maxwelllee54/anaconda/lib/python3.5/site-packages/sklearn/calibration.py:415: RuntimeWarning: overflow encountered in exp\n  E = np.exp(AB[0] * F + AB[1])\n/Users/maxwelllee54/anaconda/lib/python3.5/site-packages/sklearn/calibration.py:425: RuntimeWarning: overflow encountered in exp\n  E = np.exp(AB[0] * F + AB[1])\n/Users/maxwelllee54/anaconda/lib/python3.5/site-packages/sklearn/calibration.py:427: RuntimeWarning: invalid value encountered in multiply\n  TEP_minus_T1P = P * (T * E - T1)\n/Users/maxwelllee54/anaconda/lib/python3.5/site-packages/sklearn/calibration.py:415: RuntimeWarning: overflow encountered in exp\n  E = np.exp(AB[0] * F + AB[1])\n/Users/maxwelllee54/anaconda/lib/python3.5/site-packages/sklearn/utils/validation.py:526: DataConversionWarning: A column-vector y was passed when a 1d array was expected. Please change the shape of y to (n_samples, ), for example using ravel().\n  y = column_or_1d(y, warn=True)\n"
     ]
    },
    {
     "name": "stdout",
     "output_type": "stream",
     "text": [
      "0.566086087191 \t\t 29 \t\t 14\n0.570541246044 \t\t 29 \t\t 15\n"
     ]
    },
    {
     "name": "stderr",
     "output_type": "stream",
     "text": [
      "/Users/maxwelllee54/anaconda/lib/python3.5/site-packages/sklearn/calibration.py:415: RuntimeWarning: overflow encountered in exp\n  E = np.exp(AB[0] * F + AB[1])\n/Users/maxwelllee54/anaconda/lib/python3.5/site-packages/sklearn/calibration.py:425: RuntimeWarning: overflow encountered in exp\n  E = np.exp(AB[0] * F + AB[1])\n/Users/maxwelllee54/anaconda/lib/python3.5/site-packages/sklearn/calibration.py:427: RuntimeWarning: invalid value encountered in multiply\n  TEP_minus_T1P = P * (T * E - T1)\n/Users/maxwelllee54/anaconda/lib/python3.5/site-packages/sklearn/calibration.py:415: RuntimeWarning: overflow encountered in exp\n  E = np.exp(AB[0] * F + AB[1])\n/Users/maxwelllee54/anaconda/lib/python3.5/site-packages/sklearn/utils/validation.py:526: DataConversionWarning: A column-vector y was passed when a 1d array was expected. Please change the shape of y to (n_samples, ), for example using ravel().\n  y = column_or_1d(y, warn=True)\n/Users/maxwelllee54/anaconda/lib/python3.5/site-packages/sklearn/calibration.py:415: RuntimeWarning: overflow encountered in exp\n  E = np.exp(AB[0] * F + AB[1])\n/Users/maxwelllee54/anaconda/lib/python3.5/site-packages/sklearn/calibration.py:425: RuntimeWarning: overflow encountered in exp\n  E = np.exp(AB[0] * F + AB[1])\n/Users/maxwelllee54/anaconda/lib/python3.5/site-packages/sklearn/calibration.py:427: RuntimeWarning: invalid value encountered in multiply\n  TEP_minus_T1P = P * (T * E - T1)\n/Users/maxwelllee54/anaconda/lib/python3.5/site-packages/sklearn/calibration.py:415: RuntimeWarning: overflow encountered in exp\n  E = np.exp(AB[0] * F + AB[1])\n/Users/maxwelllee54/anaconda/lib/python3.5/site-packages/sklearn/utils/validation.py:526: DataConversionWarning: A column-vector y was passed when a 1d array was expected. Please change the shape of y to (n_samples, ), for example using ravel().\n  y = column_or_1d(y, warn=True)\n"
     ]
    },
    {
     "name": "stdout",
     "output_type": "stream",
     "text": [
      "0.573783282461 \t\t 29 \t\t 16\n0.574142598079 \t\t 29 \t\t 17\n"
     ]
    },
    {
     "name": "stderr",
     "output_type": "stream",
     "text": [
      "/Users/maxwelllee54/anaconda/lib/python3.5/site-packages/sklearn/calibration.py:415: RuntimeWarning: overflow encountered in exp\n  E = np.exp(AB[0] * F + AB[1])\n/Users/maxwelllee54/anaconda/lib/python3.5/site-packages/sklearn/calibration.py:425: RuntimeWarning: overflow encountered in exp\n  E = np.exp(AB[0] * F + AB[1])\n/Users/maxwelllee54/anaconda/lib/python3.5/site-packages/sklearn/calibration.py:427: RuntimeWarning: invalid value encountered in multiply\n  TEP_minus_T1P = P * (T * E - T1)\n/Users/maxwelllee54/anaconda/lib/python3.5/site-packages/sklearn/calibration.py:415: RuntimeWarning: overflow encountered in exp\n  E = np.exp(AB[0] * F + AB[1])\n/Users/maxwelllee54/anaconda/lib/python3.5/site-packages/sklearn/utils/validation.py:526: DataConversionWarning: A column-vector y was passed when a 1d array was expected. Please change the shape of y to (n_samples, ), for example using ravel().\n  y = column_or_1d(y, warn=True)\n"
     ]
    },
    {
     "name": "stdout",
     "output_type": "stream",
     "text": [
      "0.57701940685 \t\t 29 \t\t 18\n"
     ]
    },
    {
     "name": "stderr",
     "output_type": "stream",
     "text": [
      "/Users/maxwelllee54/anaconda/lib/python3.5/site-packages/sklearn/calibration.py:415: RuntimeWarning: overflow encountered in exp\n  E = np.exp(AB[0] * F + AB[1])\n/Users/maxwelllee54/anaconda/lib/python3.5/site-packages/sklearn/calibration.py:425: RuntimeWarning: overflow encountered in exp\n  E = np.exp(AB[0] * F + AB[1])\n/Users/maxwelllee54/anaconda/lib/python3.5/site-packages/sklearn/calibration.py:427: RuntimeWarning: invalid value encountered in multiply\n  TEP_minus_T1P = P * (T * E - T1)\n/Users/maxwelllee54/anaconda/lib/python3.5/site-packages/sklearn/calibration.py:415: RuntimeWarning: overflow encountered in exp\n  E = np.exp(AB[0] * F + AB[1])\n/Users/maxwelllee54/anaconda/lib/python3.5/site-packages/sklearn/utils/validation.py:526: DataConversionWarning: A column-vector y was passed when a 1d array was expected. Please change the shape of y to (n_samples, ), for example using ravel().\n  y = column_or_1d(y, warn=True)\n"
     ]
    },
    {
     "name": "stdout",
     "output_type": "stream",
     "text": [
      "0.586995791226 \t\t 29 \t\t 19\n"
     ]
    },
    {
     "name": "stderr",
     "output_type": "stream",
     "text": [
      "/Users/maxwelllee54/anaconda/lib/python3.5/site-packages/sklearn/calibration.py:415: RuntimeWarning: overflow encountered in exp\n  E = np.exp(AB[0] * F + AB[1])\n/Users/maxwelllee54/anaconda/lib/python3.5/site-packages/sklearn/calibration.py:425: RuntimeWarning: overflow encountered in exp\n  E = np.exp(AB[0] * F + AB[1])\n/Users/maxwelllee54/anaconda/lib/python3.5/site-packages/sklearn/calibration.py:427: RuntimeWarning: invalid value encountered in multiply\n  TEP_minus_T1P = P * (T * E - T1)\n/Users/maxwelllee54/anaconda/lib/python3.5/site-packages/sklearn/calibration.py:415: RuntimeWarning: overflow encountered in exp\n  E = np.exp(AB[0] * F + AB[1])\n/Users/maxwelllee54/anaconda/lib/python3.5/site-packages/sklearn/utils/validation.py:526: DataConversionWarning: A column-vector y was passed when a 1d array was expected. Please change the shape of y to (n_samples, ), for example using ravel().\n  y = column_or_1d(y, warn=True)\n"
     ]
    },
    {
     "name": "stdout",
     "output_type": "stream",
     "text": [
      "0.595892566575 \t\t 29 \t\t 20\n"
     ]
    },
    {
     "name": "stderr",
     "output_type": "stream",
     "text": [
      "/Users/maxwelllee54/anaconda/lib/python3.5/site-packages/sklearn/calibration.py:415: RuntimeWarning: overflow encountered in exp\n  E = np.exp(AB[0] * F + AB[1])\n/Users/maxwelllee54/anaconda/lib/python3.5/site-packages/sklearn/calibration.py:425: RuntimeWarning: overflow encountered in exp\n  E = np.exp(AB[0] * F + AB[1])\n/Users/maxwelllee54/anaconda/lib/python3.5/site-packages/sklearn/calibration.py:427: RuntimeWarning: invalid value encountered in multiply\n  TEP_minus_T1P = P * (T * E - T1)\n/Users/maxwelllee54/anaconda/lib/python3.5/site-packages/sklearn/calibration.py:415: RuntimeWarning: overflow encountered in exp\n  E = np.exp(AB[0] * F + AB[1])\n/Users/maxwelllee54/anaconda/lib/python3.5/site-packages/sklearn/utils/validation.py:526: DataConversionWarning: A column-vector y was passed when a 1d array was expected. Please change the shape of y to (n_samples, ), for example using ravel().\n  y = column_or_1d(y, warn=True)\n"
     ]
    },
    {
     "name": "stdout",
     "output_type": "stream",
     "text": [
      "0.607591550971 \t\t 29 \t\t 21\n"
     ]
    },
    {
     "name": "stderr",
     "output_type": "stream",
     "text": [
      "/Users/maxwelllee54/anaconda/lib/python3.5/site-packages/sklearn/calibration.py:415: RuntimeWarning: overflow encountered in exp\n  E = np.exp(AB[0] * F + AB[1])\n/Users/maxwelllee54/anaconda/lib/python3.5/site-packages/sklearn/calibration.py:425: RuntimeWarning: overflow encountered in exp\n  E = np.exp(AB[0] * F + AB[1])\n/Users/maxwelllee54/anaconda/lib/python3.5/site-packages/sklearn/calibration.py:427: RuntimeWarning: invalid value encountered in multiply\n  TEP_minus_T1P = P * (T * E - T1)\n/Users/maxwelllee54/anaconda/lib/python3.5/site-packages/sklearn/calibration.py:415: RuntimeWarning: overflow encountered in exp\n  E = np.exp(AB[0] * F + AB[1])\n/Users/maxwelllee54/anaconda/lib/python3.5/site-packages/sklearn/utils/validation.py:526: DataConversionWarning: A column-vector y was passed when a 1d array was expected. Please change the shape of y to (n_samples, ), for example using ravel().\n  y = column_or_1d(y, warn=True)\n"
     ]
    },
    {
     "name": "stdout",
     "output_type": "stream",
     "text": [
      "0.6074766584 \t\t 29 \t\t 22\n"
     ]
    },
    {
     "name": "stderr",
     "output_type": "stream",
     "text": [
      "/Users/maxwelllee54/anaconda/lib/python3.5/site-packages/sklearn/calibration.py:415: RuntimeWarning: overflow encountered in exp\n  E = np.exp(AB[0] * F + AB[1])\n/Users/maxwelllee54/anaconda/lib/python3.5/site-packages/sklearn/calibration.py:425: RuntimeWarning: overflow encountered in exp\n  E = np.exp(AB[0] * F + AB[1])\n/Users/maxwelllee54/anaconda/lib/python3.5/site-packages/sklearn/calibration.py:427: RuntimeWarning: invalid value encountered in multiply\n  TEP_minus_T1P = P * (T * E - T1)\n/Users/maxwelllee54/anaconda/lib/python3.5/site-packages/sklearn/calibration.py:415: RuntimeWarning: overflow encountered in exp\n  E = np.exp(AB[0] * F + AB[1])\n/Users/maxwelllee54/anaconda/lib/python3.5/site-packages/sklearn/utils/validation.py:526: DataConversionWarning: A column-vector y was passed when a 1d array was expected. Please change the shape of y to (n_samples, ), for example using ravel().\n  y = column_or_1d(y, warn=True)\n"
     ]
    },
    {
     "name": "stdout",
     "output_type": "stream",
     "text": [
      "0.596819993338 \t\t 29 \t\t 23\n"
     ]
    },
    {
     "name": "stderr",
     "output_type": "stream",
     "text": [
      "/Users/maxwelllee54/anaconda/lib/python3.5/site-packages/sklearn/calibration.py:415: RuntimeWarning: overflow encountered in exp\n  E = np.exp(AB[0] * F + AB[1])\n/Users/maxwelllee54/anaconda/lib/python3.5/site-packages/sklearn/calibration.py:425: RuntimeWarning: overflow encountered in exp\n  E = np.exp(AB[0] * F + AB[1])\n/Users/maxwelllee54/anaconda/lib/python3.5/site-packages/sklearn/calibration.py:427: RuntimeWarning: invalid value encountered in multiply\n  TEP_minus_T1P = P * (T * E - T1)\n/Users/maxwelllee54/anaconda/lib/python3.5/site-packages/sklearn/calibration.py:415: RuntimeWarning: overflow encountered in exp\n  E = np.exp(AB[0] * F + AB[1])\n/Users/maxwelllee54/anaconda/lib/python3.5/site-packages/sklearn/utils/validation.py:526: DataConversionWarning: A column-vector y was passed when a 1d array was expected. Please change the shape of y to (n_samples, ), for example using ravel().\n  y = column_or_1d(y, warn=True)\n"
     ]
    },
    {
     "name": "stdout",
     "output_type": "stream",
     "text": [
      "0.60928830889 \t\t 29 \t\t 24\n"
     ]
    },
    {
     "name": "stderr",
     "output_type": "stream",
     "text": [
      "/Users/maxwelllee54/anaconda/lib/python3.5/site-packages/sklearn/calibration.py:415: RuntimeWarning: overflow encountered in exp\n  E = np.exp(AB[0] * F + AB[1])\n/Users/maxwelllee54/anaconda/lib/python3.5/site-packages/sklearn/calibration.py:425: RuntimeWarning: overflow encountered in exp\n  E = np.exp(AB[0] * F + AB[1])\n/Users/maxwelllee54/anaconda/lib/python3.5/site-packages/sklearn/calibration.py:427: RuntimeWarning: invalid value encountered in multiply\n  TEP_minus_T1P = P * (T * E - T1)\n/Users/maxwelllee54/anaconda/lib/python3.5/site-packages/sklearn/calibration.py:415: RuntimeWarning: overflow encountered in exp\n  E = np.exp(AB[0] * F + AB[1])\n/Users/maxwelllee54/anaconda/lib/python3.5/site-packages/sklearn/utils/validation.py:526: DataConversionWarning: A column-vector y was passed when a 1d array was expected. Please change the shape of y to (n_samples, ), for example using ravel().\n  y = column_or_1d(y, warn=True)\n"
     ]
    },
    {
     "name": "stdout",
     "output_type": "stream",
     "text": [
      "0.610244091292 \t\t 29 \t\t 25\n"
     ]
    },
    {
     "name": "stderr",
     "output_type": "stream",
     "text": [
      "/Users/maxwelllee54/anaconda/lib/python3.5/site-packages/sklearn/calibration.py:415: RuntimeWarning: overflow encountered in exp\n  E = np.exp(AB[0] * F + AB[1])\n/Users/maxwelllee54/anaconda/lib/python3.5/site-packages/sklearn/calibration.py:425: RuntimeWarning: overflow encountered in exp\n  E = np.exp(AB[0] * F + AB[1])\n/Users/maxwelllee54/anaconda/lib/python3.5/site-packages/sklearn/calibration.py:427: RuntimeWarning: invalid value encountered in multiply\n  TEP_minus_T1P = P * (T * E - T1)\n/Users/maxwelllee54/anaconda/lib/python3.5/site-packages/sklearn/calibration.py:415: RuntimeWarning: overflow encountered in exp\n  E = np.exp(AB[0] * F + AB[1])\n/Users/maxwelllee54/anaconda/lib/python3.5/site-packages/sklearn/utils/validation.py:526: DataConversionWarning: A column-vector y was passed when a 1d array was expected. Please change the shape of y to (n_samples, ), for example using ravel().\n  y = column_or_1d(y, warn=True)\n"
     ]
    },
    {
     "name": "stdout",
     "output_type": "stream",
     "text": [
      "0.593645781011 \t\t 29 \t\t 26\n"
     ]
    },
    {
     "name": "stderr",
     "output_type": "stream",
     "text": [
      "/Users/maxwelllee54/anaconda/lib/python3.5/site-packages/sklearn/calibration.py:415: RuntimeWarning: overflow encountered in exp\n  E = np.exp(AB[0] * F + AB[1])\n/Users/maxwelllee54/anaconda/lib/python3.5/site-packages/sklearn/calibration.py:425: RuntimeWarning: overflow encountered in exp\n  E = np.exp(AB[0] * F + AB[1])\n/Users/maxwelllee54/anaconda/lib/python3.5/site-packages/sklearn/calibration.py:427: RuntimeWarning: invalid value encountered in multiply\n  TEP_minus_T1P = P * (T * E - T1)\n/Users/maxwelllee54/anaconda/lib/python3.5/site-packages/sklearn/calibration.py:415: RuntimeWarning: overflow encountered in exp\n  E = np.exp(AB[0] * F + AB[1])\n/Users/maxwelllee54/anaconda/lib/python3.5/site-packages/sklearn/utils/validation.py:526: DataConversionWarning: A column-vector y was passed when a 1d array was expected. Please change the shape of y to (n_samples, ), for example using ravel().\n  y = column_or_1d(y, warn=True)\n"
     ]
    },
    {
     "name": "stdout",
     "output_type": "stream",
     "text": [
      "0.591137289417 \t\t 29 \t\t 27\n"
     ]
    },
    {
     "name": "stderr",
     "output_type": "stream",
     "text": [
      "/Users/maxwelllee54/anaconda/lib/python3.5/site-packages/sklearn/calibration.py:415: RuntimeWarning: overflow encountered in exp\n  E = np.exp(AB[0] * F + AB[1])\n/Users/maxwelllee54/anaconda/lib/python3.5/site-packages/sklearn/calibration.py:425: RuntimeWarning: overflow encountered in exp\n  E = np.exp(AB[0] * F + AB[1])\n/Users/maxwelllee54/anaconda/lib/python3.5/site-packages/sklearn/calibration.py:427: RuntimeWarning: invalid value encountered in multiply\n  TEP_minus_T1P = P * (T * E - T1)\n/Users/maxwelllee54/anaconda/lib/python3.5/site-packages/sklearn/calibration.py:415: RuntimeWarning: overflow encountered in exp\n  E = np.exp(AB[0] * F + AB[1])\n/Users/maxwelllee54/anaconda/lib/python3.5/site-packages/sklearn/utils/validation.py:526: DataConversionWarning: A column-vector y was passed when a 1d array was expected. Please change the shape of y to (n_samples, ), for example using ravel().\n  y = column_or_1d(y, warn=True)\n"
     ]
    },
    {
     "name": "stdout",
     "output_type": "stream",
     "text": [
      "0.59922913571 \t\t 29 \t\t 28\n0.798536989729 \t\t 30 \t\t 3\n"
     ]
    },
    {
     "name": "stderr",
     "output_type": "stream",
     "text": [
      "/Users/maxwelllee54/anaconda/lib/python3.5/site-packages/sklearn/utils/validation.py:526: DataConversionWarning: A column-vector y was passed when a 1d array was expected. Please change the shape of y to (n_samples, ), for example using ravel().\n  y = column_or_1d(y, warn=True)\n/Users/maxwelllee54/anaconda/lib/python3.5/site-packages/sklearn/utils/validation.py:526: DataConversionWarning: A column-vector y was passed when a 1d array was expected. Please change the shape of y to (n_samples, ), for example using ravel().\n  y = column_or_1d(y, warn=True)\n/Users/maxwelllee54/anaconda/lib/python3.5/site-packages/sklearn/calibration.py:415: RuntimeWarning: overflow encountered in exp\n  E = np.exp(AB[0] * F + AB[1])\n/Users/maxwelllee54/anaconda/lib/python3.5/site-packages/sklearn/calibration.py:425: RuntimeWarning: overflow encountered in exp\n  E = np.exp(AB[0] * F + AB[1])\n/Users/maxwelllee54/anaconda/lib/python3.5/site-packages/sklearn/calibration.py:427: RuntimeWarning: invalid value encountered in multiply\n  TEP_minus_T1P = P * (T * E - T1)\n"
     ]
    },
    {
     "name": "stdout",
     "output_type": "stream",
     "text": [
      "0.792606688812 \t\t 30 \t\t 4\n0.570522442892 \t\t 30 \t\t 5\n"
     ]
    },
    {
     "name": "stderr",
     "output_type": "stream",
     "text": [
      "/Users/maxwelllee54/anaconda/lib/python3.5/site-packages/sklearn/calibration.py:415: RuntimeWarning: overflow encountered in exp\n  E = np.exp(AB[0] * F + AB[1])\n/Users/maxwelllee54/anaconda/lib/python3.5/site-packages/sklearn/utils/validation.py:526: DataConversionWarning: A column-vector y was passed when a 1d array was expected. Please change the shape of y to (n_samples, ), for example using ravel().\n  y = column_or_1d(y, warn=True)\n/Users/maxwelllee54/anaconda/lib/python3.5/site-packages/sklearn/calibration.py:415: RuntimeWarning: overflow encountered in exp\n  E = np.exp(AB[0] * F + AB[1])\n/Users/maxwelllee54/anaconda/lib/python3.5/site-packages/sklearn/calibration.py:425: RuntimeWarning: overflow encountered in exp\n  E = np.exp(AB[0] * F + AB[1])\n/Users/maxwelllee54/anaconda/lib/python3.5/site-packages/sklearn/calibration.py:427: RuntimeWarning: invalid value encountered in multiply\n  TEP_minus_T1P = P * (T * E - T1)\n/Users/maxwelllee54/anaconda/lib/python3.5/site-packages/sklearn/calibration.py:415: RuntimeWarning: overflow encountered in exp\n  E = np.exp(AB[0] * F + AB[1])\n/Users/maxwelllee54/anaconda/lib/python3.5/site-packages/sklearn/utils/validation.py:526: DataConversionWarning: A column-vector y was passed when a 1d array was expected. Please change the shape of y to (n_samples, ), for example using ravel().\n  y = column_or_1d(y, warn=True)\n"
     ]
    },
    {
     "name": "stdout",
     "output_type": "stream",
     "text": [
      "0.58070679748 \t\t 30 \t\t 6\n"
     ]
    },
    {
     "name": "stderr",
     "output_type": "stream",
     "text": [
      "/Users/maxwelllee54/anaconda/lib/python3.5/site-packages/sklearn/calibration.py:415: RuntimeWarning: overflow encountered in exp\n  E = np.exp(AB[0] * F + AB[1])\n/Users/maxwelllee54/anaconda/lib/python3.5/site-packages/sklearn/calibration.py:425: RuntimeWarning: overflow encountered in exp\n  E = np.exp(AB[0] * F + AB[1])\n/Users/maxwelllee54/anaconda/lib/python3.5/site-packages/sklearn/calibration.py:427: RuntimeWarning: invalid value encountered in multiply\n  TEP_minus_T1P = P * (T * E - T1)\n/Users/maxwelllee54/anaconda/lib/python3.5/site-packages/sklearn/calibration.py:415: RuntimeWarning: overflow encountered in exp\n  E = np.exp(AB[0] * F + AB[1])\n/Users/maxwelllee54/anaconda/lib/python3.5/site-packages/sklearn/utils/validation.py:526: DataConversionWarning: A column-vector y was passed when a 1d array was expected. Please change the shape of y to (n_samples, ), for example using ravel().\n  y = column_or_1d(y, warn=True)\n/Users/maxwelllee54/anaconda/lib/python3.5/site-packages/sklearn/calibration.py:415: RuntimeWarning: overflow encountered in exp\n  E = np.exp(AB[0] * F + AB[1])\n/Users/maxwelllee54/anaconda/lib/python3.5/site-packages/sklearn/calibration.py:425: RuntimeWarning: overflow encountered in exp\n  E = np.exp(AB[0] * F + AB[1])\n/Users/maxwelllee54/anaconda/lib/python3.5/site-packages/sklearn/calibration.py:427: RuntimeWarning: invalid value encountered in multiply\n  TEP_minus_T1P = P * (T * E - T1)\n/Users/maxwelllee54/anaconda/lib/python3.5/site-packages/sklearn/calibration.py:415: RuntimeWarning: overflow encountered in exp\n  E = np.exp(AB[0] * F + AB[1])\n"
     ]
    },
    {
     "name": "stdout",
     "output_type": "stream",
     "text": [
      "0.577952617314 \t\t 30 \t\t 7\n0.600199026519 \t\t 30 \t\t 8\n"
     ]
    },
    {
     "name": "stderr",
     "output_type": "stream",
     "text": [
      "/Users/maxwelllee54/anaconda/lib/python3.5/site-packages/sklearn/utils/validation.py:526: DataConversionWarning: A column-vector y was passed when a 1d array was expected. Please change the shape of y to (n_samples, ), for example using ravel().\n  y = column_or_1d(y, warn=True)\n/Users/maxwelllee54/anaconda/lib/python3.5/site-packages/sklearn/calibration.py:415: RuntimeWarning: overflow encountered in exp\n  E = np.exp(AB[0] * F + AB[1])\n/Users/maxwelllee54/anaconda/lib/python3.5/site-packages/sklearn/calibration.py:425: RuntimeWarning: overflow encountered in exp\n  E = np.exp(AB[0] * F + AB[1])\n/Users/maxwelllee54/anaconda/lib/python3.5/site-packages/sklearn/calibration.py:427: RuntimeWarning: invalid value encountered in multiply\n  TEP_minus_T1P = P * (T * E - T1)\n/Users/maxwelllee54/anaconda/lib/python3.5/site-packages/sklearn/calibration.py:415: RuntimeWarning: overflow encountered in exp\n  E = np.exp(AB[0] * F + AB[1])\n/Users/maxwelllee54/anaconda/lib/python3.5/site-packages/sklearn/utils/validation.py:526: DataConversionWarning: A column-vector y was passed when a 1d array was expected. Please change the shape of y to (n_samples, ), for example using ravel().\n  y = column_or_1d(y, warn=True)\n"
     ]
    },
    {
     "name": "stdout",
     "output_type": "stream",
     "text": [
      "0.588327360781 \t\t 30 \t\t 9\n0.549784691417 \t\t 30 \t\t 10\n"
     ]
    },
    {
     "name": "stderr",
     "output_type": "stream",
     "text": [
      "/Users/maxwelllee54/anaconda/lib/python3.5/site-packages/sklearn/calibration.py:415: RuntimeWarning: overflow encountered in exp\n  E = np.exp(AB[0] * F + AB[1])\n/Users/maxwelllee54/anaconda/lib/python3.5/site-packages/sklearn/calibration.py:425: RuntimeWarning: overflow encountered in exp\n  E = np.exp(AB[0] * F + AB[1])\n/Users/maxwelllee54/anaconda/lib/python3.5/site-packages/sklearn/calibration.py:427: RuntimeWarning: invalid value encountered in multiply\n  TEP_minus_T1P = P * (T * E - T1)\n/Users/maxwelllee54/anaconda/lib/python3.5/site-packages/sklearn/calibration.py:415: RuntimeWarning: overflow encountered in exp\n  E = np.exp(AB[0] * F + AB[1])\n/Users/maxwelllee54/anaconda/lib/python3.5/site-packages/sklearn/utils/validation.py:526: DataConversionWarning: A column-vector y was passed when a 1d array was expected. Please change the shape of y to (n_samples, ), for example using ravel().\n  y = column_or_1d(y, warn=True)\n/Users/maxwelllee54/anaconda/lib/python3.5/site-packages/sklearn/calibration.py:415: RuntimeWarning: overflow encountered in exp\n  E = np.exp(AB[0] * F + AB[1])\n/Users/maxwelllee54/anaconda/lib/python3.5/site-packages/sklearn/calibration.py:425: RuntimeWarning: overflow encountered in exp\n  E = np.exp(AB[0] * F + AB[1])\n/Users/maxwelllee54/anaconda/lib/python3.5/site-packages/sklearn/calibration.py:427: RuntimeWarning: invalid value encountered in multiply\n  TEP_minus_T1P = P * (T * E - T1)\n/Users/maxwelllee54/anaconda/lib/python3.5/site-packages/sklearn/calibration.py:415: RuntimeWarning: overflow encountered in exp\n  E = np.exp(AB[0] * F + AB[1])\n/Users/maxwelllee54/anaconda/lib/python3.5/site-packages/sklearn/utils/validation.py:526: DataConversionWarning: A column-vector y was passed when a 1d array was expected. Please change the shape of y to (n_samples, ), for example using ravel().\n  y = column_or_1d(y, warn=True)\n"
     ]
    },
    {
     "name": "stdout",
     "output_type": "stream",
     "text": [
      "0.565752063848 \t\t 30 \t\t 11\n0.565700191569 \t\t 30 \t\t 12\n"
     ]
    },
    {
     "name": "stderr",
     "output_type": "stream",
     "text": [
      "/Users/maxwelllee54/anaconda/lib/python3.5/site-packages/sklearn/calibration.py:415: RuntimeWarning: overflow encountered in exp\n  E = np.exp(AB[0] * F + AB[1])\n/Users/maxwelllee54/anaconda/lib/python3.5/site-packages/sklearn/calibration.py:425: RuntimeWarning: overflow encountered in exp\n  E = np.exp(AB[0] * F + AB[1])\n/Users/maxwelllee54/anaconda/lib/python3.5/site-packages/sklearn/calibration.py:427: RuntimeWarning: invalid value encountered in multiply\n  TEP_minus_T1P = P * (T * E - T1)\n/Users/maxwelllee54/anaconda/lib/python3.5/site-packages/sklearn/calibration.py:415: RuntimeWarning: overflow encountered in exp\n  E = np.exp(AB[0] * F + AB[1])\n/Users/maxwelllee54/anaconda/lib/python3.5/site-packages/sklearn/utils/validation.py:526: DataConversionWarning: A column-vector y was passed when a 1d array was expected. Please change the shape of y to (n_samples, ), for example using ravel().\n  y = column_or_1d(y, warn=True)\n"
     ]
    },
    {
     "name": "stderr",
     "output_type": "stream",
     "text": [
      "/Users/maxwelllee54/anaconda/lib/python3.5/site-packages/sklearn/calibration.py:415: RuntimeWarning: overflow encountered in exp\n  E = np.exp(AB[0] * F + AB[1])\n/Users/maxwelllee54/anaconda/lib/python3.5/site-packages/sklearn/calibration.py:425: RuntimeWarning: overflow encountered in exp\n  E = np.exp(AB[0] * F + AB[1])\n/Users/maxwelllee54/anaconda/lib/python3.5/site-packages/sklearn/calibration.py:427: RuntimeWarning: invalid value encountered in multiply\n  TEP_minus_T1P = P * (T * E - T1)\n/Users/maxwelllee54/anaconda/lib/python3.5/site-packages/sklearn/calibration.py:415: RuntimeWarning: overflow encountered in exp\n  E = np.exp(AB[0] * F + AB[1])\n/Users/maxwelllee54/anaconda/lib/python3.5/site-packages/sklearn/utils/validation.py:526: DataConversionWarning: A column-vector y was passed when a 1d array was expected. Please change the shape of y to (n_samples, ), for example using ravel().\n  y = column_or_1d(y, warn=True)\n"
     ]
    },
    {
     "name": "stdout",
     "output_type": "stream",
     "text": [
      "0.564459312063 \t\t 30 \t\t 13\n"
     ]
    },
    {
     "name": "stderr",
     "output_type": "stream",
     "text": [
      "/Users/maxwelllee54/anaconda/lib/python3.5/site-packages/sklearn/calibration.py:415: RuntimeWarning: overflow encountered in exp\n  E = np.exp(AB[0] * F + AB[1])\n/Users/maxwelllee54/anaconda/lib/python3.5/site-packages/sklearn/calibration.py:425: RuntimeWarning: overflow encountered in exp\n  E = np.exp(AB[0] * F + AB[1])\n/Users/maxwelllee54/anaconda/lib/python3.5/site-packages/sklearn/calibration.py:427: RuntimeWarning: invalid value encountered in multiply\n  TEP_minus_T1P = P * (T * E - T1)\n/Users/maxwelllee54/anaconda/lib/python3.5/site-packages/sklearn/calibration.py:415: RuntimeWarning: overflow encountered in exp\n  E = np.exp(AB[0] * F + AB[1])\n/Users/maxwelllee54/anaconda/lib/python3.5/site-packages/sklearn/utils/validation.py:526: DataConversionWarning: A column-vector y was passed when a 1d array was expected. Please change the shape of y to (n_samples, ), for example using ravel().\n  y = column_or_1d(y, warn=True)\n"
     ]
    },
    {
     "name": "stdout",
     "output_type": "stream",
     "text": [
      "0.566087430888 \t\t 30 \t\t 14\n"
     ]
    },
    {
     "name": "stderr",
     "output_type": "stream",
     "text": [
      "/Users/maxwelllee54/anaconda/lib/python3.5/site-packages/sklearn/calibration.py:415: RuntimeWarning: overflow encountered in exp\n  E = np.exp(AB[0] * F + AB[1])\n/Users/maxwelllee54/anaconda/lib/python3.5/site-packages/sklearn/calibration.py:425: RuntimeWarning: overflow encountered in exp\n  E = np.exp(AB[0] * F + AB[1])\n/Users/maxwelllee54/anaconda/lib/python3.5/site-packages/sklearn/calibration.py:427: RuntimeWarning: invalid value encountered in multiply\n  TEP_minus_T1P = P * (T * E - T1)\n/Users/maxwelllee54/anaconda/lib/python3.5/site-packages/sklearn/calibration.py:415: RuntimeWarning: overflow encountered in exp\n  E = np.exp(AB[0] * F + AB[1])\n/Users/maxwelllee54/anaconda/lib/python3.5/site-packages/sklearn/utils/validation.py:526: DataConversionWarning: A column-vector y was passed when a 1d array was expected. Please change the shape of y to (n_samples, ), for example using ravel().\n  y = column_or_1d(y, warn=True)\n/Users/maxwelllee54/anaconda/lib/python3.5/site-packages/sklearn/calibration.py:415: RuntimeWarning: overflow encountered in exp\n  E = np.exp(AB[0] * F + AB[1])\n/Users/maxwelllee54/anaconda/lib/python3.5/site-packages/sklearn/calibration.py:425: RuntimeWarning: overflow encountered in exp\n  E = np.exp(AB[0] * F + AB[1])\n/Users/maxwelllee54/anaconda/lib/python3.5/site-packages/sklearn/calibration.py:427: RuntimeWarning: invalid value encountered in multiply\n  TEP_minus_T1P = P * (T * E - T1)\n/Users/maxwelllee54/anaconda/lib/python3.5/site-packages/sklearn/calibration.py:415: RuntimeWarning: overflow encountered in exp\n  E = np.exp(AB[0] * F + AB[1])\n"
     ]
    },
    {
     "name": "stdout",
     "output_type": "stream",
     "text": [
      "0.570549054054 \t\t 30 \t\t 15\n0.573782069308 \t\t 30 \t\t 16\n"
     ]
    },
    {
     "name": "stderr",
     "output_type": "stream",
     "text": [
      "/Users/maxwelllee54/anaconda/lib/python3.5/site-packages/sklearn/utils/validation.py:526: DataConversionWarning: A column-vector y was passed when a 1d array was expected. Please change the shape of y to (n_samples, ), for example using ravel().\n  y = column_or_1d(y, warn=True)\n/Users/maxwelllee54/anaconda/lib/python3.5/site-packages/sklearn/calibration.py:415: RuntimeWarning: overflow encountered in exp\n  E = np.exp(AB[0] * F + AB[1])\n/Users/maxwelllee54/anaconda/lib/python3.5/site-packages/sklearn/calibration.py:425: RuntimeWarning: overflow encountered in exp\n  E = np.exp(AB[0] * F + AB[1])\n/Users/maxwelllee54/anaconda/lib/python3.5/site-packages/sklearn/calibration.py:427: RuntimeWarning: invalid value encountered in multiply\n  TEP_minus_T1P = P * (T * E - T1)\n/Users/maxwelllee54/anaconda/lib/python3.5/site-packages/sklearn/calibration.py:415: RuntimeWarning: overflow encountered in exp\n  E = np.exp(AB[0] * F + AB[1])\n"
     ]
    },
    {
     "name": "stdout",
     "output_type": "stream",
     "text": [
      "0.574139354328 \t\t 30 \t\t 17\n"
     ]
    },
    {
     "name": "stderr",
     "output_type": "stream",
     "text": [
      "/Users/maxwelllee54/anaconda/lib/python3.5/site-packages/sklearn/utils/validation.py:526: DataConversionWarning: A column-vector y was passed when a 1d array was expected. Please change the shape of y to (n_samples, ), for example using ravel().\n  y = column_or_1d(y, warn=True)\n"
     ]
    },
    {
     "name": "stderr",
     "output_type": "stream",
     "text": [
      "/Users/maxwelllee54/anaconda/lib/python3.5/site-packages/sklearn/calibration.py:415: RuntimeWarning: overflow encountered in exp\n  E = np.exp(AB[0] * F + AB[1])\n/Users/maxwelllee54/anaconda/lib/python3.5/site-packages/sklearn/calibration.py:425: RuntimeWarning: overflow encountered in exp\n  E = np.exp(AB[0] * F + AB[1])\n/Users/maxwelllee54/anaconda/lib/python3.5/site-packages/sklearn/calibration.py:427: RuntimeWarning: invalid value encountered in multiply\n  TEP_minus_T1P = P * (T * E - T1)\n/Users/maxwelllee54/anaconda/lib/python3.5/site-packages/sklearn/calibration.py:415: RuntimeWarning: overflow encountered in exp\n  E = np.exp(AB[0] * F + AB[1])\n/Users/maxwelllee54/anaconda/lib/python3.5/site-packages/sklearn/utils/validation.py:526: DataConversionWarning: A column-vector y was passed when a 1d array was expected. Please change the shape of y to (n_samples, ), for example using ravel().\n  y = column_or_1d(y, warn=True)\n"
     ]
    },
    {
     "name": "stdout",
     "output_type": "stream",
     "text": [
      "0.577019546154 \t\t 30 \t\t 18\n"
     ]
    },
    {
     "name": "stderr",
     "output_type": "stream",
     "text": [
      "/Users/maxwelllee54/anaconda/lib/python3.5/site-packages/sklearn/calibration.py:415: RuntimeWarning: overflow encountered in exp\n  E = np.exp(AB[0] * F + AB[1])\n/Users/maxwelllee54/anaconda/lib/python3.5/site-packages/sklearn/calibration.py:425: RuntimeWarning: overflow encountered in exp\n  E = np.exp(AB[0] * F + AB[1])\n/Users/maxwelllee54/anaconda/lib/python3.5/site-packages/sklearn/calibration.py:427: RuntimeWarning: invalid value encountered in multiply\n  TEP_minus_T1P = P * (T * E - T1)\n/Users/maxwelllee54/anaconda/lib/python3.5/site-packages/sklearn/calibration.py:415: RuntimeWarning: overflow encountered in exp\n  E = np.exp(AB[0] * F + AB[1])\n/Users/maxwelllee54/anaconda/lib/python3.5/site-packages/sklearn/utils/validation.py:526: DataConversionWarning: A column-vector y was passed when a 1d array was expected. Please change the shape of y to (n_samples, ), for example using ravel().\n  y = column_or_1d(y, warn=True)\n"
     ]
    },
    {
     "name": "stdout",
     "output_type": "stream",
     "text": [
      "0.586995820816 \t\t 30 \t\t 19\n"
     ]
    },
    {
     "name": "stderr",
     "output_type": "stream",
     "text": [
      "/Users/maxwelllee54/anaconda/lib/python3.5/site-packages/sklearn/calibration.py:415: RuntimeWarning: overflow encountered in exp\n  E = np.exp(AB[0] * F + AB[1])\n/Users/maxwelllee54/anaconda/lib/python3.5/site-packages/sklearn/calibration.py:425: RuntimeWarning: overflow encountered in exp\n  E = np.exp(AB[0] * F + AB[1])\n/Users/maxwelllee54/anaconda/lib/python3.5/site-packages/sklearn/calibration.py:427: RuntimeWarning: invalid value encountered in multiply\n  TEP_minus_T1P = P * (T * E - T1)\n/Users/maxwelllee54/anaconda/lib/python3.5/site-packages/sklearn/calibration.py:415: RuntimeWarning: overflow encountered in exp\n  E = np.exp(AB[0] * F + AB[1])\n/Users/maxwelllee54/anaconda/lib/python3.5/site-packages/sklearn/utils/validation.py:526: DataConversionWarning: A column-vector y was passed when a 1d array was expected. Please change the shape of y to (n_samples, ), for example using ravel().\n  y = column_or_1d(y, warn=True)\n"
     ]
    },
    {
     "name": "stdout",
     "output_type": "stream",
     "text": [
      "0.595892514433 \t\t 30 \t\t 20\n"
     ]
    },
    {
     "name": "stderr",
     "output_type": "stream",
     "text": [
      "/Users/maxwelllee54/anaconda/lib/python3.5/site-packages/sklearn/calibration.py:415: RuntimeWarning: overflow encountered in exp\n  E = np.exp(AB[0] * F + AB[1])\n/Users/maxwelllee54/anaconda/lib/python3.5/site-packages/sklearn/calibration.py:425: RuntimeWarning: overflow encountered in exp\n  E = np.exp(AB[0] * F + AB[1])\n/Users/maxwelllee54/anaconda/lib/python3.5/site-packages/sklearn/calibration.py:427: RuntimeWarning: invalid value encountered in multiply\n  TEP_minus_T1P = P * (T * E - T1)\n/Users/maxwelllee54/anaconda/lib/python3.5/site-packages/sklearn/calibration.py:415: RuntimeWarning: overflow encountered in exp\n  E = np.exp(AB[0] * F + AB[1])\n/Users/maxwelllee54/anaconda/lib/python3.5/site-packages/sklearn/utils/validation.py:526: DataConversionWarning: A column-vector y was passed when a 1d array was expected. Please change the shape of y to (n_samples, ), for example using ravel().\n  y = column_or_1d(y, warn=True)\n"
     ]
    },
    {
     "name": "stdout",
     "output_type": "stream",
     "text": [
      "0.607593190646 \t\t 30 \t\t 21\n"
     ]
    },
    {
     "name": "stderr",
     "output_type": "stream",
     "text": [
      "/Users/maxwelllee54/anaconda/lib/python3.5/site-packages/sklearn/calibration.py:415: RuntimeWarning: overflow encountered in exp\n  E = np.exp(AB[0] * F + AB[1])\n/Users/maxwelllee54/anaconda/lib/python3.5/site-packages/sklearn/calibration.py:425: RuntimeWarning: overflow encountered in exp\n  E = np.exp(AB[0] * F + AB[1])\n/Users/maxwelllee54/anaconda/lib/python3.5/site-packages/sklearn/calibration.py:427: RuntimeWarning: invalid value encountered in multiply\n  TEP_minus_T1P = P * (T * E - T1)\n/Users/maxwelllee54/anaconda/lib/python3.5/site-packages/sklearn/calibration.py:415: RuntimeWarning: overflow encountered in exp\n  E = np.exp(AB[0] * F + AB[1])\n/Users/maxwelllee54/anaconda/lib/python3.5/site-packages/sklearn/utils/validation.py:526: DataConversionWarning: A column-vector y was passed when a 1d array was expected. Please change the shape of y to (n_samples, ), for example using ravel().\n  y = column_or_1d(y, warn=True)\n"
     ]
    },
    {
     "name": "stdout",
     "output_type": "stream",
     "text": [
      "0.607477605476 \t\t 30 \t\t 22\n"
     ]
    },
    {
     "name": "stderr",
     "output_type": "stream",
     "text": [
      "/Users/maxwelllee54/anaconda/lib/python3.5/site-packages/sklearn/calibration.py:415: RuntimeWarning: overflow encountered in exp\n  E = np.exp(AB[0] * F + AB[1])\n/Users/maxwelllee54/anaconda/lib/python3.5/site-packages/sklearn/calibration.py:425: RuntimeWarning: overflow encountered in exp\n  E = np.exp(AB[0] * F + AB[1])\n/Users/maxwelllee54/anaconda/lib/python3.5/site-packages/sklearn/calibration.py:427: RuntimeWarning: invalid value encountered in multiply\n  TEP_minus_T1P = P * (T * E - T1)\n/Users/maxwelllee54/anaconda/lib/python3.5/site-packages/sklearn/calibration.py:415: RuntimeWarning: overflow encountered in exp\n  E = np.exp(AB[0] * F + AB[1])\n/Users/maxwelllee54/anaconda/lib/python3.5/site-packages/sklearn/utils/validation.py:526: DataConversionWarning: A column-vector y was passed when a 1d array was expected. Please change the shape of y to (n_samples, ), for example using ravel().\n  y = column_or_1d(y, warn=True)\n"
     ]
    },
    {
     "name": "stdout",
     "output_type": "stream",
     "text": [
      "0.596822295222 \t\t 30 \t\t 23\n"
     ]
    },
    {
     "name": "stderr",
     "output_type": "stream",
     "text": [
      "/Users/maxwelllee54/anaconda/lib/python3.5/site-packages/sklearn/calibration.py:415: RuntimeWarning: overflow encountered in exp\n  E = np.exp(AB[0] * F + AB[1])\n/Users/maxwelllee54/anaconda/lib/python3.5/site-packages/sklearn/calibration.py:425: RuntimeWarning: overflow encountered in exp\n  E = np.exp(AB[0] * F + AB[1])\n/Users/maxwelllee54/anaconda/lib/python3.5/site-packages/sklearn/calibration.py:427: RuntimeWarning: invalid value encountered in multiply\n  TEP_minus_T1P = P * (T * E - T1)\n/Users/maxwelllee54/anaconda/lib/python3.5/site-packages/sklearn/calibration.py:415: RuntimeWarning: overflow encountered in exp\n  E = np.exp(AB[0] * F + AB[1])\n/Users/maxwelllee54/anaconda/lib/python3.5/site-packages/sklearn/utils/validation.py:526: DataConversionWarning: A column-vector y was passed when a 1d array was expected. Please change the shape of y to (n_samples, ), for example using ravel().\n  y = column_or_1d(y, warn=True)\n"
     ]
    },
    {
     "name": "stdout",
     "output_type": "stream",
     "text": [
      "0.609283578377 \t\t 30 \t\t 24\n"
     ]
    },
    {
     "name": "stderr",
     "output_type": "stream",
     "text": [
      "/Users/maxwelllee54/anaconda/lib/python3.5/site-packages/sklearn/calibration.py:415: RuntimeWarning: overflow encountered in exp\n  E = np.exp(AB[0] * F + AB[1])\n/Users/maxwelllee54/anaconda/lib/python3.5/site-packages/sklearn/calibration.py:425: RuntimeWarning: overflow encountered in exp\n  E = np.exp(AB[0] * F + AB[1])\n/Users/maxwelllee54/anaconda/lib/python3.5/site-packages/sklearn/calibration.py:427: RuntimeWarning: invalid value encountered in multiply\n  TEP_minus_T1P = P * (T * E - T1)\n/Users/maxwelllee54/anaconda/lib/python3.5/site-packages/sklearn/calibration.py:415: RuntimeWarning: overflow encountered in exp\n  E = np.exp(AB[0] * F + AB[1])\n/Users/maxwelllee54/anaconda/lib/python3.5/site-packages/sklearn/utils/validation.py:526: DataConversionWarning: A column-vector y was passed when a 1d array was expected. Please change the shape of y to (n_samples, ), for example using ravel().\n  y = column_or_1d(y, warn=True)\n"
     ]
    },
    {
     "name": "stdout",
     "output_type": "stream",
     "text": [
      "0.610245562093 \t\t 30 \t\t 25\n"
     ]
    },
    {
     "name": "stderr",
     "output_type": "stream",
     "text": [
      "/Users/maxwelllee54/anaconda/lib/python3.5/site-packages/sklearn/calibration.py:415: RuntimeWarning: overflow encountered in exp\n  E = np.exp(AB[0] * F + AB[1])\n/Users/maxwelllee54/anaconda/lib/python3.5/site-packages/sklearn/calibration.py:425: RuntimeWarning: overflow encountered in exp\n  E = np.exp(AB[0] * F + AB[1])\n/Users/maxwelllee54/anaconda/lib/python3.5/site-packages/sklearn/calibration.py:427: RuntimeWarning: invalid value encountered in multiply\n  TEP_minus_T1P = P * (T * E - T1)\n/Users/maxwelllee54/anaconda/lib/python3.5/site-packages/sklearn/calibration.py:415: RuntimeWarning: overflow encountered in exp\n  E = np.exp(AB[0] * F + AB[1])\n/Users/maxwelllee54/anaconda/lib/python3.5/site-packages/sklearn/utils/validation.py:526: DataConversionWarning: A column-vector y was passed when a 1d array was expected. Please change the shape of y to (n_samples, ), for example using ravel().\n  y = column_or_1d(y, warn=True)\n"
     ]
    },
    {
     "name": "stdout",
     "output_type": "stream",
     "text": [
      "0.593646271297 \t\t 30 \t\t 26\n"
     ]
    },
    {
     "name": "stderr",
     "output_type": "stream",
     "text": [
      "/Users/maxwelllee54/anaconda/lib/python3.5/site-packages/sklearn/calibration.py:415: RuntimeWarning: overflow encountered in exp\n  E = np.exp(AB[0] * F + AB[1])\n/Users/maxwelllee54/anaconda/lib/python3.5/site-packages/sklearn/calibration.py:425: RuntimeWarning: overflow encountered in exp\n  E = np.exp(AB[0] * F + AB[1])\n/Users/maxwelllee54/anaconda/lib/python3.5/site-packages/sklearn/calibration.py:427: RuntimeWarning: invalid value encountered in multiply\n  TEP_minus_T1P = P * (T * E - T1)\n/Users/maxwelllee54/anaconda/lib/python3.5/site-packages/sklearn/calibration.py:415: RuntimeWarning: overflow encountered in exp\n  E = np.exp(AB[0] * F + AB[1])\n/Users/maxwelllee54/anaconda/lib/python3.5/site-packages/sklearn/utils/validation.py:526: DataConversionWarning: A column-vector y was passed when a 1d array was expected. Please change the shape of y to (n_samples, ), for example using ravel().\n  y = column_or_1d(y, warn=True)\n"
     ]
    },
    {
     "name": "stdout",
     "output_type": "stream",
     "text": [
      "0.591137278719 \t\t 30 \t\t 27\n"
     ]
    },
    {
     "name": "stderr",
     "output_type": "stream",
     "text": [
      "/Users/maxwelllee54/anaconda/lib/python3.5/site-packages/sklearn/calibration.py:415: RuntimeWarning: overflow encountered in exp\n  E = np.exp(AB[0] * F + AB[1])\n/Users/maxwelllee54/anaconda/lib/python3.5/site-packages/sklearn/calibration.py:425: RuntimeWarning: overflow encountered in exp\n  E = np.exp(AB[0] * F + AB[1])\n/Users/maxwelllee54/anaconda/lib/python3.5/site-packages/sklearn/calibration.py:427: RuntimeWarning: invalid value encountered in multiply\n  TEP_minus_T1P = P * (T * E - T1)\n/Users/maxwelllee54/anaconda/lib/python3.5/site-packages/sklearn/calibration.py:415: RuntimeWarning: overflow encountered in exp\n  E = np.exp(AB[0] * F + AB[1])\n/Users/maxwelllee54/anaconda/lib/python3.5/site-packages/sklearn/utils/validation.py:526: DataConversionWarning: A column-vector y was passed when a 1d array was expected. Please change the shape of y to (n_samples, ), for example using ravel().\n  y = column_or_1d(y, warn=True)\n"
     ]
    },
    {
     "name": "stdout",
     "output_type": "stream",
     "text": [
      "0.599228002551 \t\t 30 \t\t 28\n"
     ]
    },
    {
     "name": "stderr",
     "output_type": "stream",
     "text": [
      "/Users/maxwelllee54/anaconda/lib/python3.5/site-packages/sklearn/calibration.py:415: RuntimeWarning: overflow encountered in exp\n  E = np.exp(AB[0] * F + AB[1])\n/Users/maxwelllee54/anaconda/lib/python3.5/site-packages/sklearn/calibration.py:425: RuntimeWarning: overflow encountered in exp\n  E = np.exp(AB[0] * F + AB[1])\n/Users/maxwelllee54/anaconda/lib/python3.5/site-packages/sklearn/calibration.py:427: RuntimeWarning: invalid value encountered in multiply\n  TEP_minus_T1P = P * (T * E - T1)\n/Users/maxwelllee54/anaconda/lib/python3.5/site-packages/sklearn/calibration.py:415: RuntimeWarning: overflow encountered in exp\n  E = np.exp(AB[0] * F + AB[1])\n/Users/maxwelllee54/anaconda/lib/python3.5/site-packages/sklearn/utils/validation.py:526: DataConversionWarning: A column-vector y was passed when a 1d array was expected. Please change the shape of y to (n_samples, ), for example using ravel().\n  y = column_or_1d(y, warn=True)\n/Users/maxwelllee54/anaconda/lib/python3.5/site-packages/sklearn/utils/validation.py:526: DataConversionWarning: A column-vector y was passed when a 1d array was expected. Please change the shape of y to (n_samples, ), for example using ravel().\n  y = column_or_1d(y, warn=True)\n"
     ]
    },
    {
     "name": "stdout",
     "output_type": "stream",
     "text": [
      "0.599176164287 \t\t 30 \t\t 29\n0.798536989729 \t\t 31 \t\t 3\n"
     ]
    },
    {
     "name": "stdout",
     "output_type": "stream",
     "text": [
      "0.792606703461 \t\t 31 \t\t 4\n0.57052265152 \t\t 31 \t\t 5\n"
     ]
    },
    {
     "name": "stderr",
     "output_type": "stream",
     "text": [
      "/Users/maxwelllee54/anaconda/lib/python3.5/site-packages/sklearn/utils/validation.py:526: DataConversionWarning: A column-vector y was passed when a 1d array was expected. Please change the shape of y to (n_samples, ), for example using ravel().\n  y = column_or_1d(y, warn=True)\n/Users/maxwelllee54/anaconda/lib/python3.5/site-packages/sklearn/calibration.py:415: RuntimeWarning: overflow encountered in exp\n  E = np.exp(AB[0] * F + AB[1])\n/Users/maxwelllee54/anaconda/lib/python3.5/site-packages/sklearn/calibration.py:425: RuntimeWarning: overflow encountered in exp\n  E = np.exp(AB[0] * F + AB[1])\n/Users/maxwelllee54/anaconda/lib/python3.5/site-packages/sklearn/calibration.py:427: RuntimeWarning: invalid value encountered in multiply\n  TEP_minus_T1P = P * (T * E - T1)\n/Users/maxwelllee54/anaconda/lib/python3.5/site-packages/sklearn/calibration.py:415: RuntimeWarning: overflow encountered in exp\n  E = np.exp(AB[0] * F + AB[1])\n/Users/maxwelllee54/anaconda/lib/python3.5/site-packages/sklearn/utils/validation.py:526: DataConversionWarning: A column-vector y was passed when a 1d array was expected. Please change the shape of y to (n_samples, ), for example using ravel().\n  y = column_or_1d(y, warn=True)\n"
     ]
    },
    {
     "name": "stderr",
     "output_type": "stream",
     "text": [
      "/Users/maxwelllee54/anaconda/lib/python3.5/site-packages/sklearn/calibration.py:415: RuntimeWarning: overflow encountered in exp\n  E = np.exp(AB[0] * F + AB[1])\n/Users/maxwelllee54/anaconda/lib/python3.5/site-packages/sklearn/calibration.py:425: RuntimeWarning: overflow encountered in exp\n  E = np.exp(AB[0] * F + AB[1])\n/Users/maxwelllee54/anaconda/lib/python3.5/site-packages/sklearn/calibration.py:427: RuntimeWarning: invalid value encountered in multiply\n  TEP_minus_T1P = P * (T * E - T1)\n/Users/maxwelllee54/anaconda/lib/python3.5/site-packages/sklearn/calibration.py:415: RuntimeWarning: overflow encountered in exp\n  E = np.exp(AB[0] * F + AB[1])\n/Users/maxwelllee54/anaconda/lib/python3.5/site-packages/sklearn/utils/validation.py:526: DataConversionWarning: A column-vector y was passed when a 1d array was expected. Please change the shape of y to (n_samples, ), for example using ravel().\n  y = column_or_1d(y, warn=True)\n"
     ]
    },
    {
     "name": "stdout",
     "output_type": "stream",
     "text": [
      "0.580707136317 \t\t 31 \t\t 6\n"
     ]
    },
    {
     "name": "stderr",
     "output_type": "stream",
     "text": [
      "/Users/maxwelllee54/anaconda/lib/python3.5/site-packages/sklearn/calibration.py:415: RuntimeWarning: overflow encountered in exp\n  E = np.exp(AB[0] * F + AB[1])\n/Users/maxwelllee54/anaconda/lib/python3.5/site-packages/sklearn/calibration.py:425: RuntimeWarning: overflow encountered in exp\n  E = np.exp(AB[0] * F + AB[1])\n/Users/maxwelllee54/anaconda/lib/python3.5/site-packages/sklearn/calibration.py:427: RuntimeWarning: invalid value encountered in multiply\n  TEP_minus_T1P = P * (T * E - T1)\n/Users/maxwelllee54/anaconda/lib/python3.5/site-packages/sklearn/calibration.py:415: RuntimeWarning: overflow encountered in exp\n  E = np.exp(AB[0] * F + AB[1])\n/Users/maxwelllee54/anaconda/lib/python3.5/site-packages/sklearn/utils/validation.py:526: DataConversionWarning: A column-vector y was passed when a 1d array was expected. Please change the shape of y to (n_samples, ), for example using ravel().\n  y = column_or_1d(y, warn=True)\n"
     ]
    },
    {
     "name": "stdout",
     "output_type": "stream",
     "text": [
      "0.577952146438 \t\t 31 \t\t 7\n"
     ]
    },
    {
     "name": "stderr",
     "output_type": "stream",
     "text": [
      "/Users/maxwelllee54/anaconda/lib/python3.5/site-packages/sklearn/calibration.py:415: RuntimeWarning: overflow encountered in exp\n  E = np.exp(AB[0] * F + AB[1])\n/Users/maxwelllee54/anaconda/lib/python3.5/site-packages/sklearn/calibration.py:425: RuntimeWarning: overflow encountered in exp\n  E = np.exp(AB[0] * F + AB[1])\n/Users/maxwelllee54/anaconda/lib/python3.5/site-packages/sklearn/calibration.py:427: RuntimeWarning: invalid value encountered in multiply\n  TEP_minus_T1P = P * (T * E - T1)\n/Users/maxwelllee54/anaconda/lib/python3.5/site-packages/sklearn/calibration.py:415: RuntimeWarning: overflow encountered in exp\n  E = np.exp(AB[0] * F + AB[1])\n/Users/maxwelllee54/anaconda/lib/python3.5/site-packages/sklearn/utils/validation.py:526: DataConversionWarning: A column-vector y was passed when a 1d array was expected. Please change the shape of y to (n_samples, ), for example using ravel().\n  y = column_or_1d(y, warn=True)\n/Users/maxwelllee54/anaconda/lib/python3.5/site-packages/sklearn/calibration.py:415: RuntimeWarning: overflow encountered in exp\n  E = np.exp(AB[0] * F + AB[1])\n/Users/maxwelllee54/anaconda/lib/python3.5/site-packages/sklearn/calibration.py:425: RuntimeWarning: overflow encountered in exp\n  E = np.exp(AB[0] * F + AB[1])\n/Users/maxwelllee54/anaconda/lib/python3.5/site-packages/sklearn/calibration.py:427: RuntimeWarning: invalid value encountered in multiply\n  TEP_minus_T1P = P * (T * E - T1)\n/Users/maxwelllee54/anaconda/lib/python3.5/site-packages/sklearn/calibration.py:415: RuntimeWarning: overflow encountered in exp\n  E = np.exp(AB[0] * F + AB[1])\n/Users/maxwelllee54/anaconda/lib/python3.5/site-packages/sklearn/utils/validation.py:526: DataConversionWarning: A column-vector y was passed when a 1d array was expected. Please change the shape of y to (n_samples, ), for example using ravel().\n  y = column_or_1d(y, warn=True)\n"
     ]
    },
    {
     "name": "stdout",
     "output_type": "stream",
     "text": [
      "0.600194856597 \t\t 31 \t\t 8\n0.588327420767 \t\t 31 \t\t 9\n"
     ]
    },
    {
     "name": "stderr",
     "output_type": "stream",
     "text": [
      "/Users/maxwelllee54/anaconda/lib/python3.5/site-packages/sklearn/calibration.py:415: RuntimeWarning: overflow encountered in exp\n  E = np.exp(AB[0] * F + AB[1])\n/Users/maxwelllee54/anaconda/lib/python3.5/site-packages/sklearn/calibration.py:425: RuntimeWarning: overflow encountered in exp\n  E = np.exp(AB[0] * F + AB[1])\n/Users/maxwelllee54/anaconda/lib/python3.5/site-packages/sklearn/calibration.py:427: RuntimeWarning: invalid value encountered in multiply\n  TEP_minus_T1P = P * (T * E - T1)\n/Users/maxwelllee54/anaconda/lib/python3.5/site-packages/sklearn/calibration.py:415: RuntimeWarning: overflow encountered in exp\n  E = np.exp(AB[0] * F + AB[1])\n/Users/maxwelllee54/anaconda/lib/python3.5/site-packages/sklearn/utils/validation.py:526: DataConversionWarning: A column-vector y was passed when a 1d array was expected. Please change the shape of y to (n_samples, ), for example using ravel().\n  y = column_or_1d(y, warn=True)\n/Users/maxwelllee54/anaconda/lib/python3.5/site-packages/sklearn/calibration.py:415: RuntimeWarning: overflow encountered in exp\n  E = np.exp(AB[0] * F + AB[1])\n/Users/maxwelllee54/anaconda/lib/python3.5/site-packages/sklearn/calibration.py:425: RuntimeWarning: overflow encountered in exp\n  E = np.exp(AB[0] * F + AB[1])\n/Users/maxwelllee54/anaconda/lib/python3.5/site-packages/sklearn/calibration.py:427: RuntimeWarning: invalid value encountered in multiply\n  TEP_minus_T1P = P * (T * E - T1)\n/Users/maxwelllee54/anaconda/lib/python3.5/site-packages/sklearn/calibration.py:415: RuntimeWarning: overflow encountered in exp\n  E = np.exp(AB[0] * F + AB[1])\n/Users/maxwelllee54/anaconda/lib/python3.5/site-packages/sklearn/utils/validation.py:526: DataConversionWarning: A column-vector y was passed when a 1d array was expected. Please change the shape of y to (n_samples, ), for example using ravel().\n  y = column_or_1d(y, warn=True)\n"
     ]
    },
    {
     "name": "stdout",
     "output_type": "stream",
     "text": [
      "0.549775452758 \t\t 31 \t\t 10\n0.565754870486 \t\t 31 \t\t 11\n"
     ]
    },
    {
     "name": "stderr",
     "output_type": "stream",
     "text": [
      "/Users/maxwelllee54/anaconda/lib/python3.5/site-packages/sklearn/calibration.py:415: RuntimeWarning: overflow encountered in exp\n  E = np.exp(AB[0] * F + AB[1])\n/Users/maxwelllee54/anaconda/lib/python3.5/site-packages/sklearn/calibration.py:425: RuntimeWarning: overflow encountered in exp\n  E = np.exp(AB[0] * F + AB[1])\n/Users/maxwelllee54/anaconda/lib/python3.5/site-packages/sklearn/calibration.py:427: RuntimeWarning: invalid value encountered in multiply\n  TEP_minus_T1P = P * (T * E - T1)\n/Users/maxwelllee54/anaconda/lib/python3.5/site-packages/sklearn/calibration.py:415: RuntimeWarning: overflow encountered in exp\n  E = np.exp(AB[0] * F + AB[1])\n/Users/maxwelllee54/anaconda/lib/python3.5/site-packages/sklearn/utils/validation.py:526: DataConversionWarning: A column-vector y was passed when a 1d array was expected. Please change the shape of y to (n_samples, ), for example using ravel().\n  y = column_or_1d(y, warn=True)\n"
     ]
    },
    {
     "name": "stdout",
     "output_type": "stream",
     "text": [
      "0.565695156821 \t\t 31 \t\t 12\n"
     ]
    },
    {
     "name": "stderr",
     "output_type": "stream",
     "text": [
      "/Users/maxwelllee54/anaconda/lib/python3.5/site-packages/sklearn/calibration.py:415: RuntimeWarning: overflow encountered in exp\n  E = np.exp(AB[0] * F + AB[1])\n/Users/maxwelllee54/anaconda/lib/python3.5/site-packages/sklearn/calibration.py:425: RuntimeWarning: overflow encountered in exp\n  E = np.exp(AB[0] * F + AB[1])\n/Users/maxwelllee54/anaconda/lib/python3.5/site-packages/sklearn/calibration.py:427: RuntimeWarning: invalid value encountered in multiply\n  TEP_minus_T1P = P * (T * E - T1)\n/Users/maxwelllee54/anaconda/lib/python3.5/site-packages/sklearn/calibration.py:415: RuntimeWarning: overflow encountered in exp\n  E = np.exp(AB[0] * F + AB[1])\n/Users/maxwelllee54/anaconda/lib/python3.5/site-packages/sklearn/utils/validation.py:526: DataConversionWarning: A column-vector y was passed when a 1d array was expected. Please change the shape of y to (n_samples, ), for example using ravel().\n  y = column_or_1d(y, warn=True)\n"
     ]
    },
    {
     "name": "stdout",
     "output_type": "stream",
     "text": [
      "0.564459225531 \t\t 31 \t\t 13\n"
     ]
    },
    {
     "name": "stderr",
     "output_type": "stream",
     "text": [
      "/Users/maxwelllee54/anaconda/lib/python3.5/site-packages/sklearn/calibration.py:415: RuntimeWarning: overflow encountered in exp\n  E = np.exp(AB[0] * F + AB[1])\n/Users/maxwelllee54/anaconda/lib/python3.5/site-packages/sklearn/calibration.py:425: RuntimeWarning: overflow encountered in exp\n  E = np.exp(AB[0] * F + AB[1])\n/Users/maxwelllee54/anaconda/lib/python3.5/site-packages/sklearn/calibration.py:427: RuntimeWarning: invalid value encountered in multiply\n  TEP_minus_T1P = P * (T * E - T1)\n/Users/maxwelllee54/anaconda/lib/python3.5/site-packages/sklearn/calibration.py:415: RuntimeWarning: overflow encountered in exp\n  E = np.exp(AB[0] * F + AB[1])\n/Users/maxwelllee54/anaconda/lib/python3.5/site-packages/sklearn/utils/validation.py:526: DataConversionWarning: A column-vector y was passed when a 1d array was expected. Please change the shape of y to (n_samples, ), for example using ravel().\n  y = column_or_1d(y, warn=True)\n"
     ]
    },
    {
     "name": "stdout",
     "output_type": "stream",
     "text": [
      "0.566090124125 \t\t 31 \t\t 14\n0.570532882279 \t\t 31 \t\t 15\n"
     ]
    },
    {
     "name": "stderr",
     "output_type": "stream",
     "text": [
      "/Users/maxwelllee54/anaconda/lib/python3.5/site-packages/sklearn/calibration.py:415: RuntimeWarning: overflow encountered in exp\n  E = np.exp(AB[0] * F + AB[1])\n/Users/maxwelllee54/anaconda/lib/python3.5/site-packages/sklearn/calibration.py:425: RuntimeWarning: overflow encountered in exp\n  E = np.exp(AB[0] * F + AB[1])\n/Users/maxwelllee54/anaconda/lib/python3.5/site-packages/sklearn/calibration.py:427: RuntimeWarning: invalid value encountered in multiply\n  TEP_minus_T1P = P * (T * E - T1)\n/Users/maxwelllee54/anaconda/lib/python3.5/site-packages/sklearn/calibration.py:415: RuntimeWarning: overflow encountered in exp\n  E = np.exp(AB[0] * F + AB[1])\n/Users/maxwelllee54/anaconda/lib/python3.5/site-packages/sklearn/utils/validation.py:526: DataConversionWarning: A column-vector y was passed when a 1d array was expected. Please change the shape of y to (n_samples, ), for example using ravel().\n  y = column_or_1d(y, warn=True)\n"
     ]
    },
    {
     "name": "stderr",
     "output_type": "stream",
     "text": [
      "/Users/maxwelllee54/anaconda/lib/python3.5/site-packages/sklearn/calibration.py:415: RuntimeWarning: overflow encountered in exp\n  E = np.exp(AB[0] * F + AB[1])\n/Users/maxwelllee54/anaconda/lib/python3.5/site-packages/sklearn/calibration.py:425: RuntimeWarning: overflow encountered in exp\n  E = np.exp(AB[0] * F + AB[1])\n/Users/maxwelllee54/anaconda/lib/python3.5/site-packages/sklearn/calibration.py:427: RuntimeWarning: invalid value encountered in multiply\n  TEP_minus_T1P = P * (T * E - T1)\n/Users/maxwelllee54/anaconda/lib/python3.5/site-packages/sklearn/calibration.py:415: RuntimeWarning: overflow encountered in exp\n  E = np.exp(AB[0] * F + AB[1])\n/Users/maxwelllee54/anaconda/lib/python3.5/site-packages/sklearn/utils/validation.py:526: DataConversionWarning: A column-vector y was passed when a 1d array was expected. Please change the shape of y to (n_samples, ), for example using ravel().\n  y = column_or_1d(y, warn=True)\n"
     ]
    },
    {
     "name": "stdout",
     "output_type": "stream",
     "text": [
      "0.573785697327 \t\t 31 \t\t 16\n"
     ]
    },
    {
     "name": "stderr",
     "output_type": "stream",
     "text": [
      "/Users/maxwelllee54/anaconda/lib/python3.5/site-packages/sklearn/calibration.py:415: RuntimeWarning: overflow encountered in exp\n  E = np.exp(AB[0] * F + AB[1])\n/Users/maxwelllee54/anaconda/lib/python3.5/site-packages/sklearn/calibration.py:425: RuntimeWarning: overflow encountered in exp\n  E = np.exp(AB[0] * F + AB[1])\n/Users/maxwelllee54/anaconda/lib/python3.5/site-packages/sklearn/calibration.py:427: RuntimeWarning: invalid value encountered in multiply\n  TEP_minus_T1P = P * (T * E - T1)\n/Users/maxwelllee54/anaconda/lib/python3.5/site-packages/sklearn/calibration.py:415: RuntimeWarning: overflow encountered in exp\n  E = np.exp(AB[0] * F + AB[1])\n/Users/maxwelllee54/anaconda/lib/python3.5/site-packages/sklearn/utils/validation.py:526: DataConversionWarning: A column-vector y was passed when a 1d array was expected. Please change the shape of y to (n_samples, ), for example using ravel().\n  y = column_or_1d(y, warn=True)\n"
     ]
    },
    {
     "name": "stdout",
     "output_type": "stream",
     "text": [
      "0.574139981292 \t\t 31 \t\t 17\n"
     ]
    },
    {
     "name": "stderr",
     "output_type": "stream",
     "text": [
      "/Users/maxwelllee54/anaconda/lib/python3.5/site-packages/sklearn/calibration.py:415: RuntimeWarning: overflow encountered in exp\n  E = np.exp(AB[0] * F + AB[1])\n/Users/maxwelllee54/anaconda/lib/python3.5/site-packages/sklearn/calibration.py:425: RuntimeWarning: overflow encountered in exp\n  E = np.exp(AB[0] * F + AB[1])\n/Users/maxwelllee54/anaconda/lib/python3.5/site-packages/sklearn/calibration.py:427: RuntimeWarning: invalid value encountered in multiply\n  TEP_minus_T1P = P * (T * E - T1)\n/Users/maxwelllee54/anaconda/lib/python3.5/site-packages/sklearn/calibration.py:415: RuntimeWarning: overflow encountered in exp\n  E = np.exp(AB[0] * F + AB[1])\n/Users/maxwelllee54/anaconda/lib/python3.5/site-packages/sklearn/utils/validation.py:526: DataConversionWarning: A column-vector y was passed when a 1d array was expected. Please change the shape of y to (n_samples, ), for example using ravel().\n  y = column_or_1d(y, warn=True)\n"
     ]
    },
    {
     "name": "stdout",
     "output_type": "stream",
     "text": [
      "0.577020047358 \t\t 31 \t\t 18\n"
     ]
    },
    {
     "name": "stderr",
     "output_type": "stream",
     "text": [
      "/Users/maxwelllee54/anaconda/lib/python3.5/site-packages/sklearn/calibration.py:415: RuntimeWarning: overflow encountered in exp\n  E = np.exp(AB[0] * F + AB[1])\n/Users/maxwelllee54/anaconda/lib/python3.5/site-packages/sklearn/calibration.py:425: RuntimeWarning: overflow encountered in exp\n  E = np.exp(AB[0] * F + AB[1])\n/Users/maxwelllee54/anaconda/lib/python3.5/site-packages/sklearn/calibration.py:427: RuntimeWarning: invalid value encountered in multiply\n  TEP_minus_T1P = P * (T * E - T1)\n/Users/maxwelllee54/anaconda/lib/python3.5/site-packages/sklearn/calibration.py:415: RuntimeWarning: overflow encountered in exp\n  E = np.exp(AB[0] * F + AB[1])\n/Users/maxwelllee54/anaconda/lib/python3.5/site-packages/sklearn/utils/validation.py:526: DataConversionWarning: A column-vector y was passed when a 1d array was expected. Please change the shape of y to (n_samples, ), for example using ravel().\n  y = column_or_1d(y, warn=True)\n"
     ]
    },
    {
     "name": "stdout",
     "output_type": "stream",
     "text": [
      "0.586995803909 \t\t 31 \t\t 19\n"
     ]
    },
    {
     "name": "stderr",
     "output_type": "stream",
     "text": [
      "/Users/maxwelllee54/anaconda/lib/python3.5/site-packages/sklearn/calibration.py:415: RuntimeWarning: overflow encountered in exp\n  E = np.exp(AB[0] * F + AB[1])\n/Users/maxwelllee54/anaconda/lib/python3.5/site-packages/sklearn/calibration.py:425: RuntimeWarning: overflow encountered in exp\n  E = np.exp(AB[0] * F + AB[1])\n/Users/maxwelllee54/anaconda/lib/python3.5/site-packages/sklearn/calibration.py:427: RuntimeWarning: invalid value encountered in multiply\n  TEP_minus_T1P = P * (T * E - T1)\n/Users/maxwelllee54/anaconda/lib/python3.5/site-packages/sklearn/calibration.py:415: RuntimeWarning: overflow encountered in exp\n  E = np.exp(AB[0] * F + AB[1])\n/Users/maxwelllee54/anaconda/lib/python3.5/site-packages/sklearn/utils/validation.py:526: DataConversionWarning: A column-vector y was passed when a 1d array was expected. Please change the shape of y to (n_samples, ), for example using ravel().\n  y = column_or_1d(y, warn=True)\n"
     ]
    },
    {
     "name": "stdout",
     "output_type": "stream",
     "text": [
      "0.595892487855 \t\t 31 \t\t 20\n"
     ]
    },
    {
     "name": "stderr",
     "output_type": "stream",
     "text": [
      "/Users/maxwelllee54/anaconda/lib/python3.5/site-packages/sklearn/calibration.py:415: RuntimeWarning: overflow encountered in exp\n  E = np.exp(AB[0] * F + AB[1])\n/Users/maxwelllee54/anaconda/lib/python3.5/site-packages/sklearn/calibration.py:425: RuntimeWarning: overflow encountered in exp\n  E = np.exp(AB[0] * F + AB[1])\n/Users/maxwelllee54/anaconda/lib/python3.5/site-packages/sklearn/calibration.py:427: RuntimeWarning: invalid value encountered in multiply\n  TEP_minus_T1P = P * (T * E - T1)\n/Users/maxwelllee54/anaconda/lib/python3.5/site-packages/sklearn/calibration.py:415: RuntimeWarning: overflow encountered in exp\n  E = np.exp(AB[0] * F + AB[1])\n/Users/maxwelllee54/anaconda/lib/python3.5/site-packages/sklearn/utils/validation.py:526: DataConversionWarning: A column-vector y was passed when a 1d array was expected. Please change the shape of y to (n_samples, ), for example using ravel().\n  y = column_or_1d(y, warn=True)\n"
     ]
    },
    {
     "name": "stdout",
     "output_type": "stream",
     "text": [
      "0.607593303924 \t\t 31 \t\t 21\n"
     ]
    },
    {
     "name": "stderr",
     "output_type": "stream",
     "text": [
      "/Users/maxwelllee54/anaconda/lib/python3.5/site-packages/sklearn/calibration.py:415: RuntimeWarning: overflow encountered in exp\n  E = np.exp(AB[0] * F + AB[1])\n/Users/maxwelllee54/anaconda/lib/python3.5/site-packages/sklearn/calibration.py:425: RuntimeWarning: overflow encountered in exp\n  E = np.exp(AB[0] * F + AB[1])\n/Users/maxwelllee54/anaconda/lib/python3.5/site-packages/sklearn/calibration.py:427: RuntimeWarning: invalid value encountered in multiply\n  TEP_minus_T1P = P * (T * E - T1)\n/Users/maxwelllee54/anaconda/lib/python3.5/site-packages/sklearn/calibration.py:415: RuntimeWarning: overflow encountered in exp\n  E = np.exp(AB[0] * F + AB[1])\n/Users/maxwelllee54/anaconda/lib/python3.5/site-packages/sklearn/utils/validation.py:526: DataConversionWarning: A column-vector y was passed when a 1d array was expected. Please change the shape of y to (n_samples, ), for example using ravel().\n  y = column_or_1d(y, warn=True)\n"
     ]
    },
    {
     "name": "stdout",
     "output_type": "stream",
     "text": [
      "0.60747666219 \t\t 31 \t\t 22\n"
     ]
    },
    {
     "name": "stderr",
     "output_type": "stream",
     "text": [
      "/Users/maxwelllee54/anaconda/lib/python3.5/site-packages/sklearn/calibration.py:415: RuntimeWarning: overflow encountered in exp\n  E = np.exp(AB[0] * F + AB[1])\n/Users/maxwelllee54/anaconda/lib/python3.5/site-packages/sklearn/calibration.py:425: RuntimeWarning: overflow encountered in exp\n  E = np.exp(AB[0] * F + AB[1])\n/Users/maxwelllee54/anaconda/lib/python3.5/site-packages/sklearn/calibration.py:427: RuntimeWarning: invalid value encountered in multiply\n  TEP_minus_T1P = P * (T * E - T1)\n/Users/maxwelllee54/anaconda/lib/python3.5/site-packages/sklearn/calibration.py:415: RuntimeWarning: overflow encountered in exp\n  E = np.exp(AB[0] * F + AB[1])\n/Users/maxwelllee54/anaconda/lib/python3.5/site-packages/sklearn/utils/validation.py:526: DataConversionWarning: A column-vector y was passed when a 1d array was expected. Please change the shape of y to (n_samples, ), for example using ravel().\n  y = column_or_1d(y, warn=True)\n"
     ]
    },
    {
     "name": "stdout",
     "output_type": "stream",
     "text": [
      "0.59682229621 \t\t 31 \t\t 23\n"
     ]
    },
    {
     "name": "stderr",
     "output_type": "stream",
     "text": [
      "/Users/maxwelllee54/anaconda/lib/python3.5/site-packages/sklearn/calibration.py:415: RuntimeWarning: overflow encountered in exp\n  E = np.exp(AB[0] * F + AB[1])\n/Users/maxwelllee54/anaconda/lib/python3.5/site-packages/sklearn/calibration.py:425: RuntimeWarning: overflow encountered in exp\n  E = np.exp(AB[0] * F + AB[1])\n/Users/maxwelllee54/anaconda/lib/python3.5/site-packages/sklearn/calibration.py:427: RuntimeWarning: invalid value encountered in multiply\n  TEP_minus_T1P = P * (T * E - T1)\n/Users/maxwelllee54/anaconda/lib/python3.5/site-packages/sklearn/calibration.py:415: RuntimeWarning: overflow encountered in exp\n  E = np.exp(AB[0] * F + AB[1])\n/Users/maxwelllee54/anaconda/lib/python3.5/site-packages/sklearn/utils/validation.py:526: DataConversionWarning: A column-vector y was passed when a 1d array was expected. Please change the shape of y to (n_samples, ), for example using ravel().\n  y = column_or_1d(y, warn=True)\n"
     ]
    },
    {
     "name": "stdout",
     "output_type": "stream",
     "text": [
      "0.609283585946 \t\t 31 \t\t 24\n"
     ]
    },
    {
     "name": "stderr",
     "output_type": "stream",
     "text": [
      "/Users/maxwelllee54/anaconda/lib/python3.5/site-packages/sklearn/calibration.py:415: RuntimeWarning: overflow encountered in exp\n  E = np.exp(AB[0] * F + AB[1])\n/Users/maxwelllee54/anaconda/lib/python3.5/site-packages/sklearn/calibration.py:425: RuntimeWarning: overflow encountered in exp\n  E = np.exp(AB[0] * F + AB[1])\n/Users/maxwelllee54/anaconda/lib/python3.5/site-packages/sklearn/calibration.py:427: RuntimeWarning: invalid value encountered in multiply\n  TEP_minus_T1P = P * (T * E - T1)\n/Users/maxwelllee54/anaconda/lib/python3.5/site-packages/sklearn/calibration.py:415: RuntimeWarning: overflow encountered in exp\n  E = np.exp(AB[0] * F + AB[1])\n/Users/maxwelllee54/anaconda/lib/python3.5/site-packages/sklearn/utils/validation.py:526: DataConversionWarning: A column-vector y was passed when a 1d array was expected. Please change the shape of y to (n_samples, ), for example using ravel().\n  y = column_or_1d(y, warn=True)\n"
     ]
    },
    {
     "name": "stdout",
     "output_type": "stream",
     "text": [
      "0.610244088986 \t\t 31 \t\t 25\n"
     ]
    },
    {
     "name": "stderr",
     "output_type": "stream",
     "text": [
      "/Users/maxwelllee54/anaconda/lib/python3.5/site-packages/sklearn/calibration.py:415: RuntimeWarning: overflow encountered in exp\n  E = np.exp(AB[0] * F + AB[1])\n/Users/maxwelllee54/anaconda/lib/python3.5/site-packages/sklearn/calibration.py:425: RuntimeWarning: overflow encountered in exp\n  E = np.exp(AB[0] * F + AB[1])\n/Users/maxwelllee54/anaconda/lib/python3.5/site-packages/sklearn/calibration.py:427: RuntimeWarning: invalid value encountered in multiply\n  TEP_minus_T1P = P * (T * E - T1)\n/Users/maxwelllee54/anaconda/lib/python3.5/site-packages/sklearn/calibration.py:415: RuntimeWarning: overflow encountered in exp\n  E = np.exp(AB[0] * F + AB[1])\n/Users/maxwelllee54/anaconda/lib/python3.5/site-packages/sklearn/utils/validation.py:526: DataConversionWarning: A column-vector y was passed when a 1d array was expected. Please change the shape of y to (n_samples, ), for example using ravel().\n  y = column_or_1d(y, warn=True)\n"
     ]
    },
    {
     "name": "stdout",
     "output_type": "stream",
     "text": [
      "0.593646052133 \t\t 31 \t\t 26\n"
     ]
    },
    {
     "name": "stderr",
     "output_type": "stream",
     "text": [
      "/Users/maxwelllee54/anaconda/lib/python3.5/site-packages/sklearn/calibration.py:415: RuntimeWarning: overflow encountered in exp\n  E = np.exp(AB[0] * F + AB[1])\n/Users/maxwelllee54/anaconda/lib/python3.5/site-packages/sklearn/calibration.py:425: RuntimeWarning: overflow encountered in exp\n  E = np.exp(AB[0] * F + AB[1])\n/Users/maxwelllee54/anaconda/lib/python3.5/site-packages/sklearn/calibration.py:427: RuntimeWarning: invalid value encountered in multiply\n  TEP_minus_T1P = P * (T * E - T1)\n/Users/maxwelllee54/anaconda/lib/python3.5/site-packages/sklearn/calibration.py:415: RuntimeWarning: overflow encountered in exp\n  E = np.exp(AB[0] * F + AB[1])\n/Users/maxwelllee54/anaconda/lib/python3.5/site-packages/sklearn/utils/validation.py:526: DataConversionWarning: A column-vector y was passed when a 1d array was expected. Please change the shape of y to (n_samples, ), for example using ravel().\n  y = column_or_1d(y, warn=True)\n"
     ]
    },
    {
     "name": "stdout",
     "output_type": "stream",
     "text": [
      "0.591137158646 \t\t 31 \t\t 27\n"
     ]
    },
    {
     "name": "stderr",
     "output_type": "stream",
     "text": [
      "/Users/maxwelllee54/anaconda/lib/python3.5/site-packages/sklearn/calibration.py:415: RuntimeWarning: overflow encountered in exp\n  E = np.exp(AB[0] * F + AB[1])\n/Users/maxwelllee54/anaconda/lib/python3.5/site-packages/sklearn/calibration.py:425: RuntimeWarning: overflow encountered in exp\n  E = np.exp(AB[0] * F + AB[1])\n/Users/maxwelllee54/anaconda/lib/python3.5/site-packages/sklearn/calibration.py:427: RuntimeWarning: invalid value encountered in multiply\n  TEP_minus_T1P = P * (T * E - T1)\n/Users/maxwelllee54/anaconda/lib/python3.5/site-packages/sklearn/calibration.py:415: RuntimeWarning: overflow encountered in exp\n  E = np.exp(AB[0] * F + AB[1])\n/Users/maxwelllee54/anaconda/lib/python3.5/site-packages/sklearn/utils/validation.py:526: DataConversionWarning: A column-vector y was passed when a 1d array was expected. Please change the shape of y to (n_samples, ), for example using ravel().\n  y = column_or_1d(y, warn=True)\n"
     ]
    },
    {
     "name": "stdout",
     "output_type": "stream",
     "text": [
      "0.599229128168 \t\t 31 \t\t 28\n"
     ]
    },
    {
     "name": "stderr",
     "output_type": "stream",
     "text": [
      "/Users/maxwelllee54/anaconda/lib/python3.5/site-packages/sklearn/calibration.py:415: RuntimeWarning: overflow encountered in exp\n  E = np.exp(AB[0] * F + AB[1])\n/Users/maxwelllee54/anaconda/lib/python3.5/site-packages/sklearn/calibration.py:425: RuntimeWarning: overflow encountered in exp\n  E = np.exp(AB[0] * F + AB[1])\n/Users/maxwelllee54/anaconda/lib/python3.5/site-packages/sklearn/calibration.py:427: RuntimeWarning: invalid value encountered in multiply\n  TEP_minus_T1P = P * (T * E - T1)\n/Users/maxwelllee54/anaconda/lib/python3.5/site-packages/sklearn/calibration.py:415: RuntimeWarning: overflow encountered in exp\n  E = np.exp(AB[0] * F + AB[1])\n/Users/maxwelllee54/anaconda/lib/python3.5/site-packages/sklearn/utils/validation.py:526: DataConversionWarning: A column-vector y was passed when a 1d array was expected. Please change the shape of y to (n_samples, ), for example using ravel().\n  y = column_or_1d(y, warn=True)\n"
     ]
    },
    {
     "name": "stdout",
     "output_type": "stream",
     "text": [
      "0.599176164036 \t\t 31 \t\t 29\n"
     ]
    },
    {
     "name": "stderr",
     "output_type": "stream",
     "text": [
      "/Users/maxwelllee54/anaconda/lib/python3.5/site-packages/sklearn/calibration.py:415: RuntimeWarning: overflow encountered in exp\n  E = np.exp(AB[0] * F + AB[1])\n/Users/maxwelllee54/anaconda/lib/python3.5/site-packages/sklearn/calibration.py:425: RuntimeWarning: overflow encountered in exp\n  E = np.exp(AB[0] * F + AB[1])\n/Users/maxwelllee54/anaconda/lib/python3.5/site-packages/sklearn/calibration.py:427: RuntimeWarning: invalid value encountered in multiply\n  TEP_minus_T1P = P * (T * E - T1)\n/Users/maxwelllee54/anaconda/lib/python3.5/site-packages/sklearn/calibration.py:415: RuntimeWarning: overflow encountered in exp\n  E = np.exp(AB[0] * F + AB[1])\n/Users/maxwelllee54/anaconda/lib/python3.5/site-packages/sklearn/utils/validation.py:526: DataConversionWarning: A column-vector y was passed when a 1d array was expected. Please change the shape of y to (n_samples, ), for example using ravel().\n  y = column_or_1d(y, warn=True)\n/Users/maxwelllee54/anaconda/lib/python3.5/site-packages/sklearn/utils/validation.py:526: DataConversionWarning: A column-vector y was passed when a 1d array was expected. Please change the shape of y to (n_samples, ), for example using ravel().\n  y = column_or_1d(y, warn=True)\n"
     ]
    },
    {
     "name": "stdout",
     "output_type": "stream",
     "text": [
      "0.599326203038 \t\t 31 \t\t 30\n0.798536989729 \t\t 32 \t\t 3\n"
     ]
    },
    {
     "name": "stdout",
     "output_type": "stream",
     "text": [
      "0.792606694086 \t\t 32 \t\t 4\n0.570522576556 \t\t 32 \t\t 5\n"
     ]
    },
    {
     "name": "stderr",
     "output_type": "stream",
     "text": [
      "/Users/maxwelllee54/anaconda/lib/python3.5/site-packages/sklearn/utils/validation.py:526: DataConversionWarning: A column-vector y was passed when a 1d array was expected. Please change the shape of y to (n_samples, ), for example using ravel().\n  y = column_or_1d(y, warn=True)\n/Users/maxwelllee54/anaconda/lib/python3.5/site-packages/sklearn/calibration.py:415: RuntimeWarning: overflow encountered in exp\n  E = np.exp(AB[0] * F + AB[1])\n/Users/maxwelllee54/anaconda/lib/python3.5/site-packages/sklearn/calibration.py:425: RuntimeWarning: overflow encountered in exp\n  E = np.exp(AB[0] * F + AB[1])\n/Users/maxwelllee54/anaconda/lib/python3.5/site-packages/sklearn/calibration.py:427: RuntimeWarning: invalid value encountered in multiply\n  TEP_minus_T1P = P * (T * E - T1)\n/Users/maxwelllee54/anaconda/lib/python3.5/site-packages/sklearn/calibration.py:415: RuntimeWarning: overflow encountered in exp\n  E = np.exp(AB[0] * F + AB[1])\n/Users/maxwelllee54/anaconda/lib/python3.5/site-packages/sklearn/utils/validation.py:526: DataConversionWarning: A column-vector y was passed when a 1d array was expected. Please change the shape of y to (n_samples, ), for example using ravel().\n  y = column_or_1d(y, warn=True)\n"
     ]
    },
    {
     "name": "stderr",
     "output_type": "stream",
     "text": [
      "/Users/maxwelllee54/anaconda/lib/python3.5/site-packages/sklearn/calibration.py:415: RuntimeWarning: overflow encountered in exp\n  E = np.exp(AB[0] * F + AB[1])\n/Users/maxwelllee54/anaconda/lib/python3.5/site-packages/sklearn/calibration.py:425: RuntimeWarning: overflow encountered in exp\n  E = np.exp(AB[0] * F + AB[1])\n/Users/maxwelllee54/anaconda/lib/python3.5/site-packages/sklearn/calibration.py:427: RuntimeWarning: invalid value encountered in multiply\n  TEP_minus_T1P = P * (T * E - T1)\n/Users/maxwelllee54/anaconda/lib/python3.5/site-packages/sklearn/calibration.py:415: RuntimeWarning: overflow encountered in exp\n  E = np.exp(AB[0] * F + AB[1])\n/Users/maxwelllee54/anaconda/lib/python3.5/site-packages/sklearn/utils/validation.py:526: DataConversionWarning: A column-vector y was passed when a 1d array was expected. Please change the shape of y to (n_samples, ), for example using ravel().\n  y = column_or_1d(y, warn=True)\n/Users/maxwelllee54/anaconda/lib/python3.5/site-packages/sklearn/calibration.py:415: RuntimeWarning: overflow encountered in exp\n  E = np.exp(AB[0] * F + AB[1])\n/Users/maxwelllee54/anaconda/lib/python3.5/site-packages/sklearn/calibration.py:425: RuntimeWarning: overflow encountered in exp\n  E = np.exp(AB[0] * F + AB[1])\n/Users/maxwelllee54/anaconda/lib/python3.5/site-packages/sklearn/calibration.py:427: RuntimeWarning: invalid value encountered in multiply\n  TEP_minus_T1P = P * (T * E - T1)\n/Users/maxwelllee54/anaconda/lib/python3.5/site-packages/sklearn/calibration.py:415: RuntimeWarning: overflow encountered in exp\n  E = np.exp(AB[0] * F + AB[1])\n/Users/maxwelllee54/anaconda/lib/python3.5/site-packages/sklearn/utils/validation.py:526: DataConversionWarning: A column-vector y was passed when a 1d array was expected. Please change the shape of y to (n_samples, ), for example using ravel().\n  y = column_or_1d(y, warn=True)\n"
     ]
    },
    {
     "name": "stdout",
     "output_type": "stream",
     "text": [
      "0.580706713918 \t\t 32 \t\t 6\n0.577952584803 \t\t 32 \t\t 7\n"
     ]
    },
    {
     "name": "stderr",
     "output_type": "stream",
     "text": [
      "/Users/maxwelllee54/anaconda/lib/python3.5/site-packages/sklearn/calibration.py:415: RuntimeWarning: overflow encountered in exp\n  E = np.exp(AB[0] * F + AB[1])\n/Users/maxwelllee54/anaconda/lib/python3.5/site-packages/sklearn/calibration.py:425: RuntimeWarning: overflow encountered in exp\n  E = np.exp(AB[0] * F + AB[1])\n/Users/maxwelllee54/anaconda/lib/python3.5/site-packages/sklearn/calibration.py:427: RuntimeWarning: invalid value encountered in multiply\n  TEP_minus_T1P = P * (T * E - T1)\n/Users/maxwelllee54/anaconda/lib/python3.5/site-packages/sklearn/calibration.py:415: RuntimeWarning: overflow encountered in exp\n  E = np.exp(AB[0] * F + AB[1])\n/Users/maxwelllee54/anaconda/lib/python3.5/site-packages/sklearn/utils/validation.py:526: DataConversionWarning: A column-vector y was passed when a 1d array was expected. Please change the shape of y to (n_samples, ), for example using ravel().\n  y = column_or_1d(y, warn=True)\n/Users/maxwelllee54/anaconda/lib/python3.5/site-packages/sklearn/calibration.py:415: RuntimeWarning: overflow encountered in exp\n  E = np.exp(AB[0] * F + AB[1])\n/Users/maxwelllee54/anaconda/lib/python3.5/site-packages/sklearn/calibration.py:425: RuntimeWarning: overflow encountered in exp\n  E = np.exp(AB[0] * F + AB[1])\n/Users/maxwelllee54/anaconda/lib/python3.5/site-packages/sklearn/calibration.py:427: RuntimeWarning: invalid value encountered in multiply\n  TEP_minus_T1P = P * (T * E - T1)\n/Users/maxwelllee54/anaconda/lib/python3.5/site-packages/sklearn/calibration.py:415: RuntimeWarning: overflow encountered in exp\n  E = np.exp(AB[0] * F + AB[1])\n/Users/maxwelllee54/anaconda/lib/python3.5/site-packages/sklearn/utils/validation.py:526: DataConversionWarning: A column-vector y was passed when a 1d array was expected. Please change the shape of y to (n_samples, ), for example using ravel().\n  y = column_or_1d(y, warn=True)\n"
     ]
    },
    {
     "name": "stdout",
     "output_type": "stream",
     "text": [
      "0.600197282403 \t\t 32 \t\t 8\n0.588326822612 \t\t 32 \t\t 9\n"
     ]
    },
    {
     "name": "stderr",
     "output_type": "stream",
     "text": [
      "/Users/maxwelllee54/anaconda/lib/python3.5/site-packages/sklearn/calibration.py:415: RuntimeWarning: overflow encountered in exp\n  E = np.exp(AB[0] * F + AB[1])\n/Users/maxwelllee54/anaconda/lib/python3.5/site-packages/sklearn/calibration.py:425: RuntimeWarning: overflow encountered in exp\n  E = np.exp(AB[0] * F + AB[1])\n/Users/maxwelllee54/anaconda/lib/python3.5/site-packages/sklearn/calibration.py:427: RuntimeWarning: invalid value encountered in multiply\n  TEP_minus_T1P = P * (T * E - T1)\n/Users/maxwelllee54/anaconda/lib/python3.5/site-packages/sklearn/calibration.py:415: RuntimeWarning: overflow encountered in exp\n  E = np.exp(AB[0] * F + AB[1])\n/Users/maxwelllee54/anaconda/lib/python3.5/site-packages/sklearn/utils/validation.py:526: DataConversionWarning: A column-vector y was passed when a 1d array was expected. Please change the shape of y to (n_samples, ), for example using ravel().\n  y = column_or_1d(y, warn=True)\n/Users/maxwelllee54/anaconda/lib/python3.5/site-packages/sklearn/calibration.py:415: RuntimeWarning: overflow encountered in exp\n  E = np.exp(AB[0] * F + AB[1])\n/Users/maxwelllee54/anaconda/lib/python3.5/site-packages/sklearn/calibration.py:425: RuntimeWarning: overflow encountered in exp\n  E = np.exp(AB[0] * F + AB[1])\n/Users/maxwelllee54/anaconda/lib/python3.5/site-packages/sklearn/calibration.py:427: RuntimeWarning: invalid value encountered in multiply\n  TEP_minus_T1P = P * (T * E - T1)\n/Users/maxwelllee54/anaconda/lib/python3.5/site-packages/sklearn/calibration.py:415: RuntimeWarning: overflow encountered in exp\n  E = np.exp(AB[0] * F + AB[1])\n/Users/maxwelllee54/anaconda/lib/python3.5/site-packages/sklearn/utils/validation.py:526: DataConversionWarning: A column-vector y was passed when a 1d array was expected. Please change the shape of y to (n_samples, ), for example using ravel().\n  y = column_or_1d(y, warn=True)\n"
     ]
    },
    {
     "name": "stdout",
     "output_type": "stream",
     "text": [
      "0.549776561116 \t\t 32 \t\t 10\n0.565756347905 \t\t 32 \t\t 11\n"
     ]
    },
    {
     "name": "stderr",
     "output_type": "stream",
     "text": [
      "/Users/maxwelllee54/anaconda/lib/python3.5/site-packages/sklearn/calibration.py:415: RuntimeWarning: overflow encountered in exp\n  E = np.exp(AB[0] * F + AB[1])\n/Users/maxwelllee54/anaconda/lib/python3.5/site-packages/sklearn/calibration.py:425: RuntimeWarning: overflow encountered in exp\n  E = np.exp(AB[0] * F + AB[1])\n/Users/maxwelllee54/anaconda/lib/python3.5/site-packages/sklearn/calibration.py:427: RuntimeWarning: invalid value encountered in multiply\n  TEP_minus_T1P = P * (T * E - T1)\n/Users/maxwelllee54/anaconda/lib/python3.5/site-packages/sklearn/calibration.py:415: RuntimeWarning: overflow encountered in exp\n  E = np.exp(AB[0] * F + AB[1])\n/Users/maxwelllee54/anaconda/lib/python3.5/site-packages/sklearn/utils/validation.py:526: DataConversionWarning: A column-vector y was passed when a 1d array was expected. Please change the shape of y to (n_samples, ), for example using ravel().\n  y = column_or_1d(y, warn=True)\n/Users/maxwelllee54/anaconda/lib/python3.5/site-packages/sklearn/calibration.py:415: RuntimeWarning: overflow encountered in exp\n  E = np.exp(AB[0] * F + AB[1])\n/Users/maxwelllee54/anaconda/lib/python3.5/site-packages/sklearn/calibration.py:425: RuntimeWarning: overflow encountered in exp\n  E = np.exp(AB[0] * F + AB[1])\n/Users/maxwelllee54/anaconda/lib/python3.5/site-packages/sklearn/calibration.py:427: RuntimeWarning: invalid value encountered in multiply\n  TEP_minus_T1P = P * (T * E - T1)\n/Users/maxwelllee54/anaconda/lib/python3.5/site-packages/sklearn/calibration.py:415: RuntimeWarning: overflow encountered in exp\n  E = np.exp(AB[0] * F + AB[1])\n/Users/maxwelllee54/anaconda/lib/python3.5/site-packages/sklearn/utils/validation.py:526: DataConversionWarning: A column-vector y was passed when a 1d array was expected. Please change the shape of y to (n_samples, ), for example using ravel().\n  y = column_or_1d(y, warn=True)\n"
     ]
    },
    {
     "name": "stdout",
     "output_type": "stream",
     "text": [
      "0.565697756165 \t\t 32 \t\t 12\n0.564462486179 \t\t 32 \t\t 13\n"
     ]
    },
    {
     "name": "stderr",
     "output_type": "stream",
     "text": [
      "/Users/maxwelllee54/anaconda/lib/python3.5/site-packages/sklearn/calibration.py:415: RuntimeWarning: overflow encountered in exp\n  E = np.exp(AB[0] * F + AB[1])\n/Users/maxwelllee54/anaconda/lib/python3.5/site-packages/sklearn/calibration.py:425: RuntimeWarning: overflow encountered in exp\n  E = np.exp(AB[0] * F + AB[1])\n/Users/maxwelllee54/anaconda/lib/python3.5/site-packages/sklearn/calibration.py:427: RuntimeWarning: invalid value encountered in multiply\n  TEP_minus_T1P = P * (T * E - T1)\n/Users/maxwelllee54/anaconda/lib/python3.5/site-packages/sklearn/calibration.py:415: RuntimeWarning: overflow encountered in exp\n  E = np.exp(AB[0] * F + AB[1])\n/Users/maxwelllee54/anaconda/lib/python3.5/site-packages/sklearn/utils/validation.py:526: DataConversionWarning: A column-vector y was passed when a 1d array was expected. Please change the shape of y to (n_samples, ), for example using ravel().\n  y = column_or_1d(y, warn=True)\n/Users/maxwelllee54/anaconda/lib/python3.5/site-packages/sklearn/calibration.py:415: RuntimeWarning: overflow encountered in exp\n  E = np.exp(AB[0] * F + AB[1])\n/Users/maxwelllee54/anaconda/lib/python3.5/site-packages/sklearn/calibration.py:425: RuntimeWarning: overflow encountered in exp\n  E = np.exp(AB[0] * F + AB[1])\n/Users/maxwelllee54/anaconda/lib/python3.5/site-packages/sklearn/calibration.py:427: RuntimeWarning: invalid value encountered in multiply\n  TEP_minus_T1P = P * (T * E - T1)\n/Users/maxwelllee54/anaconda/lib/python3.5/site-packages/sklearn/calibration.py:415: RuntimeWarning: overflow encountered in exp\n  E = np.exp(AB[0] * F + AB[1])\n/Users/maxwelllee54/anaconda/lib/python3.5/site-packages/sklearn/utils/validation.py:526: DataConversionWarning: A column-vector y was passed when a 1d array was expected. Please change the shape of y to (n_samples, ), for example using ravel().\n  y = column_or_1d(y, warn=True)\n"
     ]
    },
    {
     "name": "stdout",
     "output_type": "stream",
     "text": [
      "0.566089389164 \t\t 32 \t\t 14\n0.570549857097 \t\t 32 \t\t 15\n"
     ]
    },
    {
     "name": "stderr",
     "output_type": "stream",
     "text": [
      "/Users/maxwelllee54/anaconda/lib/python3.5/site-packages/sklearn/calibration.py:415: RuntimeWarning: overflow encountered in exp\n  E = np.exp(AB[0] * F + AB[1])\n/Users/maxwelllee54/anaconda/lib/python3.5/site-packages/sklearn/calibration.py:425: RuntimeWarning: overflow encountered in exp\n  E = np.exp(AB[0] * F + AB[1])\n/Users/maxwelllee54/anaconda/lib/python3.5/site-packages/sklearn/calibration.py:427: RuntimeWarning: invalid value encountered in multiply\n  TEP_minus_T1P = P * (T * E - T1)\n/Users/maxwelllee54/anaconda/lib/python3.5/site-packages/sklearn/calibration.py:415: RuntimeWarning: overflow encountered in exp\n  E = np.exp(AB[0] * F + AB[1])\n/Users/maxwelllee54/anaconda/lib/python3.5/site-packages/sklearn/utils/validation.py:526: DataConversionWarning: A column-vector y was passed when a 1d array was expected. Please change the shape of y to (n_samples, ), for example using ravel().\n  y = column_or_1d(y, warn=True)\n/Users/maxwelllee54/anaconda/lib/python3.5/site-packages/sklearn/calibration.py:415: RuntimeWarning: overflow encountered in exp\n  E = np.exp(AB[0] * F + AB[1])\n/Users/maxwelllee54/anaconda/lib/python3.5/site-packages/sklearn/calibration.py:425: RuntimeWarning: overflow encountered in exp\n  E = np.exp(AB[0] * F + AB[1])\n/Users/maxwelllee54/anaconda/lib/python3.5/site-packages/sklearn/calibration.py:427: RuntimeWarning: invalid value encountered in multiply\n  TEP_minus_T1P = P * (T * E - T1)\n/Users/maxwelllee54/anaconda/lib/python3.5/site-packages/sklearn/calibration.py:415: RuntimeWarning: overflow encountered in exp\n  E = np.exp(AB[0] * F + AB[1])\n/Users/maxwelllee54/anaconda/lib/python3.5/site-packages/sklearn/utils/validation.py:526: DataConversionWarning: A column-vector y was passed when a 1d array was expected. Please change the shape of y to (n_samples, ), for example using ravel().\n  y = column_or_1d(y, warn=True)\n"
     ]
    },
    {
     "name": "stdout",
     "output_type": "stream",
     "text": [
      "0.573783846582 \t\t 32 \t\t 16\n0.574141844823 \t\t 32 \t\t 17\n"
     ]
    },
    {
     "name": "stderr",
     "output_type": "stream",
     "text": [
      "/Users/maxwelllee54/anaconda/lib/python3.5/site-packages/sklearn/calibration.py:415: RuntimeWarning: overflow encountered in exp\n  E = np.exp(AB[0] * F + AB[1])\n/Users/maxwelllee54/anaconda/lib/python3.5/site-packages/sklearn/calibration.py:425: RuntimeWarning: overflow encountered in exp\n  E = np.exp(AB[0] * F + AB[1])\n/Users/maxwelllee54/anaconda/lib/python3.5/site-packages/sklearn/calibration.py:427: RuntimeWarning: invalid value encountered in multiply\n  TEP_minus_T1P = P * (T * E - T1)\n/Users/maxwelllee54/anaconda/lib/python3.5/site-packages/sklearn/calibration.py:415: RuntimeWarning: overflow encountered in exp\n  E = np.exp(AB[0] * F + AB[1])\n/Users/maxwelllee54/anaconda/lib/python3.5/site-packages/sklearn/utils/validation.py:526: DataConversionWarning: A column-vector y was passed when a 1d array was expected. Please change the shape of y to (n_samples, ), for example using ravel().\n  y = column_or_1d(y, warn=True)\n/Users/maxwelllee54/anaconda/lib/python3.5/site-packages/sklearn/calibration.py:415: RuntimeWarning: overflow encountered in exp\n  E = np.exp(AB[0] * F + AB[1])\n"
     ]
    },
    {
     "name": "stdout",
     "output_type": "stream",
     "text": [
      "0.577019550566 \t\t 32 \t\t 18\n"
     ]
    },
    {
     "name": "stderr",
     "output_type": "stream",
     "text": [
      "/Users/maxwelllee54/anaconda/lib/python3.5/site-packages/sklearn/calibration.py:425: RuntimeWarning: overflow encountered in exp\n  E = np.exp(AB[0] * F + AB[1])\n/Users/maxwelllee54/anaconda/lib/python3.5/site-packages/sklearn/calibration.py:427: RuntimeWarning: invalid value encountered in multiply\n  TEP_minus_T1P = P * (T * E - T1)\n/Users/maxwelllee54/anaconda/lib/python3.5/site-packages/sklearn/calibration.py:415: RuntimeWarning: overflow encountered in exp\n  E = np.exp(AB[0] * F + AB[1])\n/Users/maxwelllee54/anaconda/lib/python3.5/site-packages/sklearn/utils/validation.py:526: DataConversionWarning: A column-vector y was passed when a 1d array was expected. Please change the shape of y to (n_samples, ), for example using ravel().\n  y = column_or_1d(y, warn=True)\n"
     ]
    },
    {
     "name": "stdout",
     "output_type": "stream",
     "text": [
      "0.586995786477 \t\t 32 \t\t 19\n"
     ]
    },
    {
     "name": "stderr",
     "output_type": "stream",
     "text": [
      "/Users/maxwelllee54/anaconda/lib/python3.5/site-packages/sklearn/calibration.py:415: RuntimeWarning: overflow encountered in exp\n  E = np.exp(AB[0] * F + AB[1])\n/Users/maxwelllee54/anaconda/lib/python3.5/site-packages/sklearn/calibration.py:425: RuntimeWarning: overflow encountered in exp\n  E = np.exp(AB[0] * F + AB[1])\n/Users/maxwelllee54/anaconda/lib/python3.5/site-packages/sklearn/calibration.py:427: RuntimeWarning: invalid value encountered in multiply\n  TEP_minus_T1P = P * (T * E - T1)\n/Users/maxwelllee54/anaconda/lib/python3.5/site-packages/sklearn/calibration.py:415: RuntimeWarning: overflow encountered in exp\n  E = np.exp(AB[0] * F + AB[1])\n/Users/maxwelllee54/anaconda/lib/python3.5/site-packages/sklearn/utils/validation.py:526: DataConversionWarning: A column-vector y was passed when a 1d array was expected. Please change the shape of y to (n_samples, ), for example using ravel().\n  y = column_or_1d(y, warn=True)\n"
     ]
    },
    {
     "name": "stdout",
     "output_type": "stream",
     "text": [
      "0.59589468273 \t\t 32 \t\t 20\n"
     ]
    },
    {
     "name": "stderr",
     "output_type": "stream",
     "text": [
      "/Users/maxwelllee54/anaconda/lib/python3.5/site-packages/sklearn/calibration.py:415: RuntimeWarning: overflow encountered in exp\n  E = np.exp(AB[0] * F + AB[1])\n/Users/maxwelllee54/anaconda/lib/python3.5/site-packages/sklearn/calibration.py:425: RuntimeWarning: overflow encountered in exp\n  E = np.exp(AB[0] * F + AB[1])\n/Users/maxwelllee54/anaconda/lib/python3.5/site-packages/sklearn/calibration.py:427: RuntimeWarning: invalid value encountered in multiply\n  TEP_minus_T1P = P * (T * E - T1)\n/Users/maxwelllee54/anaconda/lib/python3.5/site-packages/sklearn/calibration.py:415: RuntimeWarning: overflow encountered in exp\n  E = np.exp(AB[0] * F + AB[1])\n/Users/maxwelllee54/anaconda/lib/python3.5/site-packages/sklearn/utils/validation.py:526: DataConversionWarning: A column-vector y was passed when a 1d array was expected. Please change the shape of y to (n_samples, ), for example using ravel().\n  y = column_or_1d(y, warn=True)\n"
     ]
    },
    {
     "name": "stdout",
     "output_type": "stream",
     "text": [
      "0.607593212351 \t\t 32 \t\t 21\n"
     ]
    },
    {
     "name": "stderr",
     "output_type": "stream",
     "text": [
      "/Users/maxwelllee54/anaconda/lib/python3.5/site-packages/sklearn/calibration.py:415: RuntimeWarning: overflow encountered in exp\n  E = np.exp(AB[0] * F + AB[1])\n/Users/maxwelllee54/anaconda/lib/python3.5/site-packages/sklearn/calibration.py:425: RuntimeWarning: overflow encountered in exp\n  E = np.exp(AB[0] * F + AB[1])\n/Users/maxwelllee54/anaconda/lib/python3.5/site-packages/sklearn/calibration.py:427: RuntimeWarning: invalid value encountered in multiply\n  TEP_minus_T1P = P * (T * E - T1)\n/Users/maxwelllee54/anaconda/lib/python3.5/site-packages/sklearn/calibration.py:415: RuntimeWarning: overflow encountered in exp\n  E = np.exp(AB[0] * F + AB[1])\n/Users/maxwelllee54/anaconda/lib/python3.5/site-packages/sklearn/utils/validation.py:526: DataConversionWarning: A column-vector y was passed when a 1d array was expected. Please change the shape of y to (n_samples, ), for example using ravel().\n  y = column_or_1d(y, warn=True)\n"
     ]
    },
    {
     "name": "stdout",
     "output_type": "stream",
     "text": [
      "0.607476640331 \t\t 32 \t\t 22\n"
     ]
    },
    {
     "name": "stderr",
     "output_type": "stream",
     "text": [
      "/Users/maxwelllee54/anaconda/lib/python3.5/site-packages/sklearn/calibration.py:415: RuntimeWarning: overflow encountered in exp\n  E = np.exp(AB[0] * F + AB[1])\n/Users/maxwelllee54/anaconda/lib/python3.5/site-packages/sklearn/calibration.py:425: RuntimeWarning: overflow encountered in exp\n  E = np.exp(AB[0] * F + AB[1])\n/Users/maxwelllee54/anaconda/lib/python3.5/site-packages/sklearn/calibration.py:427: RuntimeWarning: invalid value encountered in multiply\n  TEP_minus_T1P = P * (T * E - T1)\n/Users/maxwelllee54/anaconda/lib/python3.5/site-packages/sklearn/calibration.py:415: RuntimeWarning: overflow encountered in exp\n  E = np.exp(AB[0] * F + AB[1])\n/Users/maxwelllee54/anaconda/lib/python3.5/site-packages/sklearn/utils/validation.py:526: DataConversionWarning: A column-vector y was passed when a 1d array was expected. Please change the shape of y to (n_samples, ), for example using ravel().\n  y = column_or_1d(y, warn=True)\n"
     ]
    },
    {
     "name": "stdout",
     "output_type": "stream",
     "text": [
      "0.596822296447 \t\t 32 \t\t 23\n"
     ]
    },
    {
     "name": "stderr",
     "output_type": "stream",
     "text": [
      "/Users/maxwelllee54/anaconda/lib/python3.5/site-packages/sklearn/calibration.py:415: RuntimeWarning: overflow encountered in exp\n  E = np.exp(AB[0] * F + AB[1])\n/Users/maxwelllee54/anaconda/lib/python3.5/site-packages/sklearn/calibration.py:425: RuntimeWarning: overflow encountered in exp\n  E = np.exp(AB[0] * F + AB[1])\n/Users/maxwelllee54/anaconda/lib/python3.5/site-packages/sklearn/calibration.py:427: RuntimeWarning: invalid value encountered in multiply\n  TEP_minus_T1P = P * (T * E - T1)\n/Users/maxwelllee54/anaconda/lib/python3.5/site-packages/sklearn/calibration.py:415: RuntimeWarning: overflow encountered in exp\n  E = np.exp(AB[0] * F + AB[1])\n/Users/maxwelllee54/anaconda/lib/python3.5/site-packages/sklearn/utils/validation.py:526: DataConversionWarning: A column-vector y was passed when a 1d array was expected. Please change the shape of y to (n_samples, ), for example using ravel().\n  y = column_or_1d(y, warn=True)\n"
     ]
    },
    {
     "name": "stdout",
     "output_type": "stream",
     "text": [
      "0.609283592703 \t\t 32 \t\t 24\n"
     ]
    },
    {
     "name": "stderr",
     "output_type": "stream",
     "text": [
      "/Users/maxwelllee54/anaconda/lib/python3.5/site-packages/sklearn/calibration.py:415: RuntimeWarning: overflow encountered in exp\n  E = np.exp(AB[0] * F + AB[1])\n/Users/maxwelllee54/anaconda/lib/python3.5/site-packages/sklearn/calibration.py:425: RuntimeWarning: overflow encountered in exp\n  E = np.exp(AB[0] * F + AB[1])\n/Users/maxwelllee54/anaconda/lib/python3.5/site-packages/sklearn/calibration.py:427: RuntimeWarning: invalid value encountered in multiply\n  TEP_minus_T1P = P * (T * E - T1)\n/Users/maxwelllee54/anaconda/lib/python3.5/site-packages/sklearn/calibration.py:415: RuntimeWarning: overflow encountered in exp\n  E = np.exp(AB[0] * F + AB[1])\n/Users/maxwelllee54/anaconda/lib/python3.5/site-packages/sklearn/utils/validation.py:526: DataConversionWarning: A column-vector y was passed when a 1d array was expected. Please change the shape of y to (n_samples, ), for example using ravel().\n  y = column_or_1d(y, warn=True)\n"
     ]
    },
    {
     "name": "stdout",
     "output_type": "stream",
     "text": [
      "0.61024556212 \t\t 32 \t\t 25\n"
     ]
    },
    {
     "name": "stderr",
     "output_type": "stream",
     "text": [
      "/Users/maxwelllee54/anaconda/lib/python3.5/site-packages/sklearn/calibration.py:415: RuntimeWarning: overflow encountered in exp\n  E = np.exp(AB[0] * F + AB[1])\n/Users/maxwelllee54/anaconda/lib/python3.5/site-packages/sklearn/calibration.py:425: RuntimeWarning: overflow encountered in exp\n  E = np.exp(AB[0] * F + AB[1])\n/Users/maxwelllee54/anaconda/lib/python3.5/site-packages/sklearn/calibration.py:427: RuntimeWarning: invalid value encountered in multiply\n  TEP_minus_T1P = P * (T * E - T1)\n/Users/maxwelllee54/anaconda/lib/python3.5/site-packages/sklearn/calibration.py:415: RuntimeWarning: overflow encountered in exp\n  E = np.exp(AB[0] * F + AB[1])\n/Users/maxwelllee54/anaconda/lib/python3.5/site-packages/sklearn/utils/validation.py:526: DataConversionWarning: A column-vector y was passed when a 1d array was expected. Please change the shape of y to (n_samples, ), for example using ravel().\n  y = column_or_1d(y, warn=True)\n"
     ]
    },
    {
     "name": "stdout",
     "output_type": "stream",
     "text": [
      "0.593645779656 \t\t 32 \t\t 26\n"
     ]
    },
    {
     "name": "stderr",
     "output_type": "stream",
     "text": [
      "/Users/maxwelllee54/anaconda/lib/python3.5/site-packages/sklearn/calibration.py:415: RuntimeWarning: overflow encountered in exp\n  E = np.exp(AB[0] * F + AB[1])\n/Users/maxwelllee54/anaconda/lib/python3.5/site-packages/sklearn/calibration.py:425: RuntimeWarning: overflow encountered in exp\n  E = np.exp(AB[0] * F + AB[1])\n/Users/maxwelllee54/anaconda/lib/python3.5/site-packages/sklearn/calibration.py:427: RuntimeWarning: invalid value encountered in multiply\n  TEP_minus_T1P = P * (T * E - T1)\n/Users/maxwelllee54/anaconda/lib/python3.5/site-packages/sklearn/calibration.py:415: RuntimeWarning: overflow encountered in exp\n  E = np.exp(AB[0] * F + AB[1])\n/Users/maxwelllee54/anaconda/lib/python3.5/site-packages/sklearn/utils/validation.py:526: DataConversionWarning: A column-vector y was passed when a 1d array was expected. Please change the shape of y to (n_samples, ), for example using ravel().\n  y = column_or_1d(y, warn=True)\n"
     ]
    },
    {
     "name": "stdout",
     "output_type": "stream",
     "text": [
      "0.591137272516 \t\t 32 \t\t 27\n"
     ]
    },
    {
     "name": "stderr",
     "output_type": "stream",
     "text": [
      "/Users/maxwelllee54/anaconda/lib/python3.5/site-packages/sklearn/calibration.py:415: RuntimeWarning: overflow encountered in exp\n  E = np.exp(AB[0] * F + AB[1])\n/Users/maxwelllee54/anaconda/lib/python3.5/site-packages/sklearn/calibration.py:425: RuntimeWarning: overflow encountered in exp\n  E = np.exp(AB[0] * F + AB[1])\n/Users/maxwelllee54/anaconda/lib/python3.5/site-packages/sklearn/calibration.py:427: RuntimeWarning: invalid value encountered in multiply\n  TEP_minus_T1P = P * (T * E - T1)\n/Users/maxwelllee54/anaconda/lib/python3.5/site-packages/sklearn/calibration.py:415: RuntimeWarning: overflow encountered in exp\n  E = np.exp(AB[0] * F + AB[1])\n/Users/maxwelllee54/anaconda/lib/python3.5/site-packages/sklearn/utils/validation.py:526: DataConversionWarning: A column-vector y was passed when a 1d array was expected. Please change the shape of y to (n_samples, ), for example using ravel().\n  y = column_or_1d(y, warn=True)\n"
     ]
    },
    {
     "name": "stdout",
     "output_type": "stream",
     "text": [
      "0.599229128056 \t\t 32 \t\t 28\n"
     ]
    },
    {
     "name": "stderr",
     "output_type": "stream",
     "text": [
      "/Users/maxwelllee54/anaconda/lib/python3.5/site-packages/sklearn/calibration.py:415: RuntimeWarning: overflow encountered in exp\n  E = np.exp(AB[0] * F + AB[1])\n/Users/maxwelllee54/anaconda/lib/python3.5/site-packages/sklearn/calibration.py:425: RuntimeWarning: overflow encountered in exp\n  E = np.exp(AB[0] * F + AB[1])\n/Users/maxwelllee54/anaconda/lib/python3.5/site-packages/sklearn/calibration.py:427: RuntimeWarning: invalid value encountered in multiply\n  TEP_minus_T1P = P * (T * E - T1)\n/Users/maxwelllee54/anaconda/lib/python3.5/site-packages/sklearn/calibration.py:415: RuntimeWarning: overflow encountered in exp\n  E = np.exp(AB[0] * F + AB[1])\n/Users/maxwelllee54/anaconda/lib/python3.5/site-packages/sklearn/utils/validation.py:526: DataConversionWarning: A column-vector y was passed when a 1d array was expected. Please change the shape of y to (n_samples, ), for example using ravel().\n  y = column_or_1d(y, warn=True)\n"
     ]
    },
    {
     "name": "stdout",
     "output_type": "stream",
     "text": [
      "0.599176164029 \t\t 32 \t\t 29\n"
     ]
    },
    {
     "name": "stderr",
     "output_type": "stream",
     "text": [
      "/Users/maxwelllee54/anaconda/lib/python3.5/site-packages/sklearn/calibration.py:415: RuntimeWarning: overflow encountered in exp\n  E = np.exp(AB[0] * F + AB[1])\n/Users/maxwelllee54/anaconda/lib/python3.5/site-packages/sklearn/calibration.py:425: RuntimeWarning: overflow encountered in exp\n  E = np.exp(AB[0] * F + AB[1])\n/Users/maxwelllee54/anaconda/lib/python3.5/site-packages/sklearn/calibration.py:427: RuntimeWarning: invalid value encountered in multiply\n  TEP_minus_T1P = P * (T * E - T1)\n/Users/maxwelllee54/anaconda/lib/python3.5/site-packages/sklearn/calibration.py:415: RuntimeWarning: overflow encountered in exp\n  E = np.exp(AB[0] * F + AB[1])\n/Users/maxwelllee54/anaconda/lib/python3.5/site-packages/sklearn/utils/validation.py:526: DataConversionWarning: A column-vector y was passed when a 1d array was expected. Please change the shape of y to (n_samples, ), for example using ravel().\n  y = column_or_1d(y, warn=True)\n"
     ]
    },
    {
     "name": "stdout",
     "output_type": "stream",
     "text": [
      "0.599326234753 \t\t 32 \t\t 30\n"
     ]
    },
    {
     "name": "stderr",
     "output_type": "stream",
     "text": [
      "/Users/maxwelllee54/anaconda/lib/python3.5/site-packages/sklearn/calibration.py:415: RuntimeWarning: overflow encountered in exp\n  E = np.exp(AB[0] * F + AB[1])\n/Users/maxwelllee54/anaconda/lib/python3.5/site-packages/sklearn/calibration.py:425: RuntimeWarning: overflow encountered in exp\n  E = np.exp(AB[0] * F + AB[1])\n/Users/maxwelllee54/anaconda/lib/python3.5/site-packages/sklearn/calibration.py:427: RuntimeWarning: invalid value encountered in multiply\n  TEP_minus_T1P = P * (T * E - T1)\n/Users/maxwelllee54/anaconda/lib/python3.5/site-packages/sklearn/calibration.py:415: RuntimeWarning: overflow encountered in exp\n  E = np.exp(AB[0] * F + AB[1])\n/Users/maxwelllee54/anaconda/lib/python3.5/site-packages/sklearn/utils/validation.py:526: DataConversionWarning: A column-vector y was passed when a 1d array was expected. Please change the shape of y to (n_samples, ), for example using ravel().\n  y = column_or_1d(y, warn=True)\n/Users/maxwelllee54/anaconda/lib/python3.5/site-packages/sklearn/utils/validation.py:526: DataConversionWarning: A column-vector y was passed when a 1d array was expected. Please change the shape of y to (n_samples, ), for example using ravel().\n  y = column_or_1d(y, warn=True)\n"
     ]
    },
    {
     "name": "stdout",
     "output_type": "stream",
     "text": [
      "0.599258260636 \t\t 32 \t\t 31\n0.798536989729 \t\t 33 \t\t 3\n"
     ]
    },
    {
     "name": "stdout",
     "output_type": "stream",
     "text": [
      "0.792606698596 \t\t 33 \t\t 4\n0.570522230166 \t\t 33 \t\t 5\n"
     ]
    },
    {
     "name": "stderr",
     "output_type": "stream",
     "text": [
      "/Users/maxwelllee54/anaconda/lib/python3.5/site-packages/sklearn/utils/validation.py:526: DataConversionWarning: A column-vector y was passed when a 1d array was expected. Please change the shape of y to (n_samples, ), for example using ravel().\n  y = column_or_1d(y, warn=True)\n/Users/maxwelllee54/anaconda/lib/python3.5/site-packages/sklearn/calibration.py:415: RuntimeWarning: overflow encountered in exp\n  E = np.exp(AB[0] * F + AB[1])\n/Users/maxwelllee54/anaconda/lib/python3.5/site-packages/sklearn/calibration.py:425: RuntimeWarning: overflow encountered in exp\n  E = np.exp(AB[0] * F + AB[1])\n/Users/maxwelllee54/anaconda/lib/python3.5/site-packages/sklearn/calibration.py:427: RuntimeWarning: invalid value encountered in multiply\n  TEP_minus_T1P = P * (T * E - T1)\n/Users/maxwelllee54/anaconda/lib/python3.5/site-packages/sklearn/calibration.py:415: RuntimeWarning: overflow encountered in exp\n  E = np.exp(AB[0] * F + AB[1])\n/Users/maxwelllee54/anaconda/lib/python3.5/site-packages/sklearn/utils/validation.py:526: DataConversionWarning: A column-vector y was passed when a 1d array was expected. Please change the shape of y to (n_samples, ), for example using ravel().\n  y = column_or_1d(y, warn=True)\n/Users/maxwelllee54/anaconda/lib/python3.5/site-packages/sklearn/calibration.py:415: RuntimeWarning: overflow encountered in exp\n  E = np.exp(AB[0] * F + AB[1])\n/Users/maxwelllee54/anaconda/lib/python3.5/site-packages/sklearn/calibration.py:425: RuntimeWarning: overflow encountered in exp\n  E = np.exp(AB[0] * F + AB[1])\n/Users/maxwelllee54/anaconda/lib/python3.5/site-packages/sklearn/calibration.py:427: RuntimeWarning: invalid value encountered in multiply\n  TEP_minus_T1P = P * (T * E - T1)\n"
     ]
    },
    {
     "name": "stderr",
     "output_type": "stream",
     "text": [
      "/Users/maxwelllee54/anaconda/lib/python3.5/site-packages/sklearn/calibration.py:415: RuntimeWarning: overflow encountered in exp\n  E = np.exp(AB[0] * F + AB[1])\n/Users/maxwelllee54/anaconda/lib/python3.5/site-packages/sklearn/utils/validation.py:526: DataConversionWarning: A column-vector y was passed when a 1d array was expected. Please change the shape of y to (n_samples, ), for example using ravel().\n  y = column_or_1d(y, warn=True)\n/Users/maxwelllee54/anaconda/lib/python3.5/site-packages/sklearn/calibration.py:415: RuntimeWarning: overflow encountered in exp\n  E = np.exp(AB[0] * F + AB[1])\n/Users/maxwelllee54/anaconda/lib/python3.5/site-packages/sklearn/calibration.py:425: RuntimeWarning: overflow encountered in exp\n  E = np.exp(AB[0] * F + AB[1])\n/Users/maxwelllee54/anaconda/lib/python3.5/site-packages/sklearn/calibration.py:427: RuntimeWarning: invalid value encountered in multiply\n  TEP_minus_T1P = P * (T * E - T1)\n/Users/maxwelllee54/anaconda/lib/python3.5/site-packages/sklearn/calibration.py:415: RuntimeWarning: overflow encountered in exp\n  E = np.exp(AB[0] * F + AB[1])\n/Users/maxwelllee54/anaconda/lib/python3.5/site-packages/sklearn/utils/validation.py:526: DataConversionWarning: A column-vector y was passed when a 1d array was expected. Please change the shape of y to (n_samples, ), for example using ravel().\n  y = column_or_1d(y, warn=True)\n"
     ]
    },
    {
     "name": "stdout",
     "output_type": "stream",
     "text": [
      "0.580707724788 \t\t 33 \t\t 6\n0.577953395464 \t\t 33 \t\t 7\n"
     ]
    },
    {
     "name": "stderr",
     "output_type": "stream",
     "text": [
      "/Users/maxwelllee54/anaconda/lib/python3.5/site-packages/sklearn/calibration.py:415: RuntimeWarning: overflow encountered in exp\n  E = np.exp(AB[0] * F + AB[1])\n/Users/maxwelllee54/anaconda/lib/python3.5/site-packages/sklearn/calibration.py:425: RuntimeWarning: overflow encountered in exp\n  E = np.exp(AB[0] * F + AB[1])\n/Users/maxwelllee54/anaconda/lib/python3.5/site-packages/sklearn/calibration.py:427: RuntimeWarning: invalid value encountered in multiply\n  TEP_minus_T1P = P * (T * E - T1)\n/Users/maxwelllee54/anaconda/lib/python3.5/site-packages/sklearn/calibration.py:415: RuntimeWarning: overflow encountered in exp\n  E = np.exp(AB[0] * F + AB[1])\n/Users/maxwelllee54/anaconda/lib/python3.5/site-packages/sklearn/utils/validation.py:526: DataConversionWarning: A column-vector y was passed when a 1d array was expected. Please change the shape of y to (n_samples, ), for example using ravel().\n  y = column_or_1d(y, warn=True)\n/Users/maxwelllee54/anaconda/lib/python3.5/site-packages/sklearn/calibration.py:415: RuntimeWarning: overflow encountered in exp\n  E = np.exp(AB[0] * F + AB[1])\n/Users/maxwelllee54/anaconda/lib/python3.5/site-packages/sklearn/calibration.py:425: RuntimeWarning: overflow encountered in exp\n  E = np.exp(AB[0] * F + AB[1])\n/Users/maxwelllee54/anaconda/lib/python3.5/site-packages/sklearn/calibration.py:427: RuntimeWarning: invalid value encountered in multiply\n  TEP_minus_T1P = P * (T * E - T1)\n/Users/maxwelllee54/anaconda/lib/python3.5/site-packages/sklearn/calibration.py:415: RuntimeWarning: overflow encountered in exp\n  E = np.exp(AB[0] * F + AB[1])\n/Users/maxwelllee54/anaconda/lib/python3.5/site-packages/sklearn/utils/validation.py:526: DataConversionWarning: A column-vector y was passed when a 1d array was expected. Please change the shape of y to (n_samples, ), for example using ravel().\n  y = column_or_1d(y, warn=True)\n"
     ]
    },
    {
     "name": "stdout",
     "output_type": "stream",
     "text": [
      "0.600197575867 \t\t 33 \t\t 8\n0.588328203303 \t\t 33 \t\t 9\n"
     ]
    },
    {
     "name": "stderr",
     "output_type": "stream",
     "text": [
      "/Users/maxwelllee54/anaconda/lib/python3.5/site-packages/sklearn/calibration.py:415: RuntimeWarning: overflow encountered in exp\n  E = np.exp(AB[0] * F + AB[1])\n/Users/maxwelllee54/anaconda/lib/python3.5/site-packages/sklearn/calibration.py:425: RuntimeWarning: overflow encountered in exp\n  E = np.exp(AB[0] * F + AB[1])\n/Users/maxwelllee54/anaconda/lib/python3.5/site-packages/sklearn/calibration.py:427: RuntimeWarning: invalid value encountered in multiply\n  TEP_minus_T1P = P * (T * E - T1)\n/Users/maxwelllee54/anaconda/lib/python3.5/site-packages/sklearn/calibration.py:415: RuntimeWarning: overflow encountered in exp\n  E = np.exp(AB[0] * F + AB[1])\n/Users/maxwelllee54/anaconda/lib/python3.5/site-packages/sklearn/utils/validation.py:526: DataConversionWarning: A column-vector y was passed when a 1d array was expected. Please change the shape of y to (n_samples, ), for example using ravel().\n  y = column_or_1d(y, warn=True)\n/Users/maxwelllee54/anaconda/lib/python3.5/site-packages/sklearn/calibration.py:415: RuntimeWarning: overflow encountered in exp\n  E = np.exp(AB[0] * F + AB[1])\n/Users/maxwelllee54/anaconda/lib/python3.5/site-packages/sklearn/calibration.py:425: RuntimeWarning: overflow encountered in exp\n  E = np.exp(AB[0] * F + AB[1])\n/Users/maxwelllee54/anaconda/lib/python3.5/site-packages/sklearn/calibration.py:427: RuntimeWarning: invalid value encountered in multiply\n  TEP_minus_T1P = P * (T * E - T1)\n/Users/maxwelllee54/anaconda/lib/python3.5/site-packages/sklearn/calibration.py:415: RuntimeWarning: overflow encountered in exp\n  E = np.exp(AB[0] * F + AB[1])\n/Users/maxwelllee54/anaconda/lib/python3.5/site-packages/sklearn/utils/validation.py:526: DataConversionWarning: A column-vector y was passed when a 1d array was expected. Please change the shape of y to (n_samples, ), for example using ravel().\n  y = column_or_1d(y, warn=True)\n"
     ]
    },
    {
     "name": "stdout",
     "output_type": "stream",
     "text": [
      "0.549772888485 \t\t 33 \t\t 10\n0.565754354156 \t\t 33 \t\t 11\n"
     ]
    },
    {
     "name": "stderr",
     "output_type": "stream",
     "text": [
      "/Users/maxwelllee54/anaconda/lib/python3.5/site-packages/sklearn/calibration.py:415: RuntimeWarning: overflow encountered in exp\n  E = np.exp(AB[0] * F + AB[1])\n/Users/maxwelllee54/anaconda/lib/python3.5/site-packages/sklearn/calibration.py:425: RuntimeWarning: overflow encountered in exp\n  E = np.exp(AB[0] * F + AB[1])\n/Users/maxwelllee54/anaconda/lib/python3.5/site-packages/sklearn/calibration.py:427: RuntimeWarning: invalid value encountered in multiply\n  TEP_minus_T1P = P * (T * E - T1)\n/Users/maxwelllee54/anaconda/lib/python3.5/site-packages/sklearn/calibration.py:415: RuntimeWarning: overflow encountered in exp\n  E = np.exp(AB[0] * F + AB[1])\n/Users/maxwelllee54/anaconda/lib/python3.5/site-packages/sklearn/utils/validation.py:526: DataConversionWarning: A column-vector y was passed when a 1d array was expected. Please change the shape of y to (n_samples, ), for example using ravel().\n  y = column_or_1d(y, warn=True)\n/Users/maxwelllee54/anaconda/lib/python3.5/site-packages/sklearn/calibration.py:415: RuntimeWarning: overflow encountered in exp\n  E = np.exp(AB[0] * F + AB[1])\n/Users/maxwelllee54/anaconda/lib/python3.5/site-packages/sklearn/calibration.py:425: RuntimeWarning: overflow encountered in exp\n  E = np.exp(AB[0] * F + AB[1])\n/Users/maxwelllee54/anaconda/lib/python3.5/site-packages/sklearn/calibration.py:427: RuntimeWarning: invalid value encountered in multiply\n  TEP_minus_T1P = P * (T * E - T1)\n/Users/maxwelllee54/anaconda/lib/python3.5/site-packages/sklearn/calibration.py:415: RuntimeWarning: overflow encountered in exp\n  E = np.exp(AB[0] * F + AB[1])\n/Users/maxwelllee54/anaconda/lib/python3.5/site-packages/sklearn/utils/validation.py:526: DataConversionWarning: A column-vector y was passed when a 1d array was expected. Please change the shape of y to (n_samples, ), for example using ravel().\n  y = column_or_1d(y, warn=True)\n"
     ]
    },
    {
     "name": "stdout",
     "output_type": "stream",
     "text": [
      "0.565697762234 \t\t 33 \t\t 12\n0.564458282177 \t\t 33 \t\t 13\n"
     ]
    },
    {
     "name": "stderr",
     "output_type": "stream",
     "text": [
      "/Users/maxwelllee54/anaconda/lib/python3.5/site-packages/sklearn/calibration.py:415: RuntimeWarning: overflow encountered in exp\n  E = np.exp(AB[0] * F + AB[1])\n/Users/maxwelllee54/anaconda/lib/python3.5/site-packages/sklearn/calibration.py:425: RuntimeWarning: overflow encountered in exp\n  E = np.exp(AB[0] * F + AB[1])\n/Users/maxwelllee54/anaconda/lib/python3.5/site-packages/sklearn/calibration.py:427: RuntimeWarning: invalid value encountered in multiply\n  TEP_minus_T1P = P * (T * E - T1)\n/Users/maxwelllee54/anaconda/lib/python3.5/site-packages/sklearn/calibration.py:415: RuntimeWarning: overflow encountered in exp\n  E = np.exp(AB[0] * F + AB[1])\n/Users/maxwelllee54/anaconda/lib/python3.5/site-packages/sklearn/utils/validation.py:526: DataConversionWarning: A column-vector y was passed when a 1d array was expected. Please change the shape of y to (n_samples, ), for example using ravel().\n  y = column_or_1d(y, warn=True)\n/Users/maxwelllee54/anaconda/lib/python3.5/site-packages/sklearn/calibration.py:415: RuntimeWarning: overflow encountered in exp\n  E = np.exp(AB[0] * F + AB[1])\n/Users/maxwelllee54/anaconda/lib/python3.5/site-packages/sklearn/calibration.py:425: RuntimeWarning: overflow encountered in exp\n  E = np.exp(AB[0] * F + AB[1])\n/Users/maxwelllee54/anaconda/lib/python3.5/site-packages/sklearn/calibration.py:427: RuntimeWarning: invalid value encountered in multiply\n  TEP_minus_T1P = P * (T * E - T1)\n/Users/maxwelllee54/anaconda/lib/python3.5/site-packages/sklearn/calibration.py:415: RuntimeWarning: overflow encountered in exp\n  E = np.exp(AB[0] * F + AB[1])\n/Users/maxwelllee54/anaconda/lib/python3.5/site-packages/sklearn/utils/validation.py:526: DataConversionWarning: A column-vector y was passed when a 1d array was expected. Please change the shape of y to (n_samples, ), for example using ravel().\n  y = column_or_1d(y, warn=True)\n"
     ]
    },
    {
     "name": "stdout",
     "output_type": "stream",
     "text": [
      "0.566082555236 \t\t 33 \t\t 14\n0.570543614551 \t\t 33 \t\t 15\n"
     ]
    },
    {
     "name": "stderr",
     "output_type": "stream",
     "text": [
      "/Users/maxwelllee54/anaconda/lib/python3.5/site-packages/sklearn/calibration.py:415: RuntimeWarning: overflow encountered in exp\n  E = np.exp(AB[0] * F + AB[1])\n/Users/maxwelllee54/anaconda/lib/python3.5/site-packages/sklearn/calibration.py:425: RuntimeWarning: overflow encountered in exp\n  E = np.exp(AB[0] * F + AB[1])\n/Users/maxwelllee54/anaconda/lib/python3.5/site-packages/sklearn/calibration.py:427: RuntimeWarning: invalid value encountered in multiply\n  TEP_minus_T1P = P * (T * E - T1)\n/Users/maxwelllee54/anaconda/lib/python3.5/site-packages/sklearn/calibration.py:415: RuntimeWarning: overflow encountered in exp\n  E = np.exp(AB[0] * F + AB[1])\n/Users/maxwelllee54/anaconda/lib/python3.5/site-packages/sklearn/utils/validation.py:526: DataConversionWarning: A column-vector y was passed when a 1d array was expected. Please change the shape of y to (n_samples, ), for example using ravel().\n  y = column_or_1d(y, warn=True)\n/Users/maxwelllee54/anaconda/lib/python3.5/site-packages/sklearn/calibration.py:415: RuntimeWarning: overflow encountered in exp\n  E = np.exp(AB[0] * F + AB[1])\n/Users/maxwelllee54/anaconda/lib/python3.5/site-packages/sklearn/calibration.py:425: RuntimeWarning: overflow encountered in exp\n  E = np.exp(AB[0] * F + AB[1])\n/Users/maxwelllee54/anaconda/lib/python3.5/site-packages/sklearn/calibration.py:427: RuntimeWarning: invalid value encountered in multiply\n  TEP_minus_T1P = P * (T * E - T1)\n/Users/maxwelllee54/anaconda/lib/python3.5/site-packages/sklearn/calibration.py:415: RuntimeWarning: overflow encountered in exp\n  E = np.exp(AB[0] * F + AB[1])\n"
     ]
    },
    {
     "name": "stdout",
     "output_type": "stream",
     "text": [
      "0.573782167819 \t\t 33 \t\t 16\n0.574129360023 \t\t 33 \t\t 17\n"
     ]
    },
    {
     "name": "stderr",
     "output_type": "stream",
     "text": [
      "/Users/maxwelllee54/anaconda/lib/python3.5/site-packages/sklearn/utils/validation.py:526: DataConversionWarning: A column-vector y was passed when a 1d array was expected. Please change the shape of y to (n_samples, ), for example using ravel().\n  y = column_or_1d(y, warn=True)\n/Users/maxwelllee54/anaconda/lib/python3.5/site-packages/sklearn/calibration.py:415: RuntimeWarning: overflow encountered in exp\n  E = np.exp(AB[0] * F + AB[1])\n/Users/maxwelllee54/anaconda/lib/python3.5/site-packages/sklearn/calibration.py:425: RuntimeWarning: overflow encountered in exp\n  E = np.exp(AB[0] * F + AB[1])\n/Users/maxwelllee54/anaconda/lib/python3.5/site-packages/sklearn/calibration.py:427: RuntimeWarning: invalid value encountered in multiply\n  TEP_minus_T1P = P * (T * E - T1)\n/Users/maxwelllee54/anaconda/lib/python3.5/site-packages/sklearn/calibration.py:415: RuntimeWarning: overflow encountered in exp\n  E = np.exp(AB[0] * F + AB[1])\n/Users/maxwelllee54/anaconda/lib/python3.5/site-packages/sklearn/utils/validation.py:526: DataConversionWarning: A column-vector y was passed when a 1d array was expected. Please change the shape of y to (n_samples, ), for example using ravel().\n  y = column_or_1d(y, warn=True)\n"
     ]
    },
    {
     "name": "stdout",
     "output_type": "stream",
     "text": [
      "0.577019490032 \t\t 33 \t\t 18\n"
     ]
    },
    {
     "name": "stderr",
     "output_type": "stream",
     "text": [
      "/Users/maxwelllee54/anaconda/lib/python3.5/site-packages/sklearn/calibration.py:415: RuntimeWarning: overflow encountered in exp\n  E = np.exp(AB[0] * F + AB[1])\n/Users/maxwelllee54/anaconda/lib/python3.5/site-packages/sklearn/calibration.py:425: RuntimeWarning: overflow encountered in exp\n  E = np.exp(AB[0] * F + AB[1])\n/Users/maxwelllee54/anaconda/lib/python3.5/site-packages/sklearn/calibration.py:427: RuntimeWarning: invalid value encountered in multiply\n  TEP_minus_T1P = P * (T * E - T1)\n/Users/maxwelllee54/anaconda/lib/python3.5/site-packages/sklearn/calibration.py:415: RuntimeWarning: overflow encountered in exp\n  E = np.exp(AB[0] * F + AB[1])\n/Users/maxwelllee54/anaconda/lib/python3.5/site-packages/sklearn/utils/validation.py:526: DataConversionWarning: A column-vector y was passed when a 1d array was expected. Please change the shape of y to (n_samples, ), for example using ravel().\n  y = column_or_1d(y, warn=True)\n"
     ]
    },
    {
     "name": "stdout",
     "output_type": "stream",
     "text": [
      "0.586995773341 \t\t 33 \t\t 19\n"
     ]
    },
    {
     "name": "stderr",
     "output_type": "stream",
     "text": [
      "/Users/maxwelllee54/anaconda/lib/python3.5/site-packages/sklearn/calibration.py:415: RuntimeWarning: overflow encountered in exp\n  E = np.exp(AB[0] * F + AB[1])\n/Users/maxwelllee54/anaconda/lib/python3.5/site-packages/sklearn/calibration.py:425: RuntimeWarning: overflow encountered in exp\n  E = np.exp(AB[0] * F + AB[1])\n/Users/maxwelllee54/anaconda/lib/python3.5/site-packages/sklearn/calibration.py:427: RuntimeWarning: invalid value encountered in multiply\n  TEP_minus_T1P = P * (T * E - T1)\n/Users/maxwelllee54/anaconda/lib/python3.5/site-packages/sklearn/calibration.py:415: RuntimeWarning: overflow encountered in exp\n  E = np.exp(AB[0] * F + AB[1])\n/Users/maxwelllee54/anaconda/lib/python3.5/site-packages/sklearn/utils/validation.py:526: DataConversionWarning: A column-vector y was passed when a 1d array was expected. Please change the shape of y to (n_samples, ), for example using ravel().\n  y = column_or_1d(y, warn=True)\n"
     ]
    },
    {
     "name": "stdout",
     "output_type": "stream",
     "text": [
      "0.595892608124 \t\t 33 \t\t 20\n"
     ]
    },
    {
     "name": "stderr",
     "output_type": "stream",
     "text": [
      "/Users/maxwelllee54/anaconda/lib/python3.5/site-packages/sklearn/calibration.py:415: RuntimeWarning: overflow encountered in exp\n  E = np.exp(AB[0] * F + AB[1])\n/Users/maxwelllee54/anaconda/lib/python3.5/site-packages/sklearn/calibration.py:425: RuntimeWarning: overflow encountered in exp\n  E = np.exp(AB[0] * F + AB[1])\n/Users/maxwelllee54/anaconda/lib/python3.5/site-packages/sklearn/calibration.py:427: RuntimeWarning: invalid value encountered in multiply\n  TEP_minus_T1P = P * (T * E - T1)\n/Users/maxwelllee54/anaconda/lib/python3.5/site-packages/sklearn/calibration.py:415: RuntimeWarning: overflow encountered in exp\n  E = np.exp(AB[0] * F + AB[1])\n/Users/maxwelllee54/anaconda/lib/python3.5/site-packages/sklearn/utils/validation.py:526: DataConversionWarning: A column-vector y was passed when a 1d array was expected. Please change the shape of y to (n_samples, ), for example using ravel().\n  y = column_or_1d(y, warn=True)\n"
     ]
    },
    {
     "name": "stdout",
     "output_type": "stream",
     "text": [
      "0.607593205527 \t\t 33 \t\t 21\n"
     ]
    },
    {
     "name": "stderr",
     "output_type": "stream",
     "text": [
      "/Users/maxwelllee54/anaconda/lib/python3.5/site-packages/sklearn/calibration.py:415: RuntimeWarning: overflow encountered in exp\n  E = np.exp(AB[0] * F + AB[1])\n/Users/maxwelllee54/anaconda/lib/python3.5/site-packages/sklearn/calibration.py:425: RuntimeWarning: overflow encountered in exp\n  E = np.exp(AB[0] * F + AB[1])\n/Users/maxwelllee54/anaconda/lib/python3.5/site-packages/sklearn/calibration.py:427: RuntimeWarning: invalid value encountered in multiply\n  TEP_minus_T1P = P * (T * E - T1)\n/Users/maxwelllee54/anaconda/lib/python3.5/site-packages/sklearn/calibration.py:415: RuntimeWarning: overflow encountered in exp\n  E = np.exp(AB[0] * F + AB[1])\n/Users/maxwelllee54/anaconda/lib/python3.5/site-packages/sklearn/utils/validation.py:526: DataConversionWarning: A column-vector y was passed when a 1d array was expected. Please change the shape of y to (n_samples, ), for example using ravel().\n  y = column_or_1d(y, warn=True)\n"
     ]
    },
    {
     "name": "stdout",
     "output_type": "stream",
     "text": [
      "0.60748041285 \t\t 33 \t\t 22\n"
     ]
    },
    {
     "name": "stderr",
     "output_type": "stream",
     "text": [
      "/Users/maxwelllee54/anaconda/lib/python3.5/site-packages/sklearn/calibration.py:415: RuntimeWarning: overflow encountered in exp\n  E = np.exp(AB[0] * F + AB[1])\n/Users/maxwelllee54/anaconda/lib/python3.5/site-packages/sklearn/calibration.py:425: RuntimeWarning: overflow encountered in exp\n  E = np.exp(AB[0] * F + AB[1])\n/Users/maxwelllee54/anaconda/lib/python3.5/site-packages/sklearn/calibration.py:427: RuntimeWarning: invalid value encountered in multiply\n  TEP_minus_T1P = P * (T * E - T1)\n/Users/maxwelllee54/anaconda/lib/python3.5/site-packages/sklearn/calibration.py:415: RuntimeWarning: overflow encountered in exp\n  E = np.exp(AB[0] * F + AB[1])\n/Users/maxwelllee54/anaconda/lib/python3.5/site-packages/sklearn/utils/validation.py:526: DataConversionWarning: A column-vector y was passed when a 1d array was expected. Please change the shape of y to (n_samples, ), for example using ravel().\n  y = column_or_1d(y, warn=True)\n"
     ]
    },
    {
     "name": "stdout",
     "output_type": "stream",
     "text": [
      "0.596822294405 \t\t 33 \t\t 23\n"
     ]
    },
    {
     "name": "stderr",
     "output_type": "stream",
     "text": [
      "/Users/maxwelllee54/anaconda/lib/python3.5/site-packages/sklearn/calibration.py:415: RuntimeWarning: overflow encountered in exp\n  E = np.exp(AB[0] * F + AB[1])\n/Users/maxwelllee54/anaconda/lib/python3.5/site-packages/sklearn/calibration.py:425: RuntimeWarning: overflow encountered in exp\n  E = np.exp(AB[0] * F + AB[1])\n/Users/maxwelllee54/anaconda/lib/python3.5/site-packages/sklearn/calibration.py:427: RuntimeWarning: invalid value encountered in multiply\n  TEP_minus_T1P = P * (T * E - T1)\n/Users/maxwelllee54/anaconda/lib/python3.5/site-packages/sklearn/calibration.py:415: RuntimeWarning: overflow encountered in exp\n  E = np.exp(AB[0] * F + AB[1])\n/Users/maxwelllee54/anaconda/lib/python3.5/site-packages/sklearn/utils/validation.py:526: DataConversionWarning: A column-vector y was passed when a 1d array was expected. Please change the shape of y to (n_samples, ), for example using ravel().\n  y = column_or_1d(y, warn=True)\n"
     ]
    },
    {
     "name": "stdout",
     "output_type": "stream",
     "text": [
      "0.609288315963 \t\t 33 \t\t 24\n"
     ]
    },
    {
     "name": "stderr",
     "output_type": "stream",
     "text": [
      "/Users/maxwelllee54/anaconda/lib/python3.5/site-packages/sklearn/calibration.py:415: RuntimeWarning: overflow encountered in exp\n  E = np.exp(AB[0] * F + AB[1])\n/Users/maxwelllee54/anaconda/lib/python3.5/site-packages/sklearn/calibration.py:425: RuntimeWarning: overflow encountered in exp\n  E = np.exp(AB[0] * F + AB[1])\n/Users/maxwelllee54/anaconda/lib/python3.5/site-packages/sklearn/calibration.py:427: RuntimeWarning: invalid value encountered in multiply\n  TEP_minus_T1P = P * (T * E - T1)\n/Users/maxwelllee54/anaconda/lib/python3.5/site-packages/sklearn/calibration.py:415: RuntimeWarning: overflow encountered in exp\n  E = np.exp(AB[0] * F + AB[1])\n/Users/maxwelllee54/anaconda/lib/python3.5/site-packages/sklearn/utils/validation.py:526: DataConversionWarning: A column-vector y was passed when a 1d array was expected. Please change the shape of y to (n_samples, ), for example using ravel().\n  y = column_or_1d(y, warn=True)\n"
     ]
    },
    {
     "name": "stdout",
     "output_type": "stream",
     "text": [
      "0.610244091154 \t\t 33 \t\t 25\n"
     ]
    },
    {
     "name": "stderr",
     "output_type": "stream",
     "text": [
      "/Users/maxwelllee54/anaconda/lib/python3.5/site-packages/sklearn/calibration.py:415: RuntimeWarning: overflow encountered in exp\n  E = np.exp(AB[0] * F + AB[1])\n/Users/maxwelllee54/anaconda/lib/python3.5/site-packages/sklearn/calibration.py:425: RuntimeWarning: overflow encountered in exp\n  E = np.exp(AB[0] * F + AB[1])\n/Users/maxwelllee54/anaconda/lib/python3.5/site-packages/sklearn/calibration.py:427: RuntimeWarning: invalid value encountered in multiply\n  TEP_minus_T1P = P * (T * E - T1)\n/Users/maxwelllee54/anaconda/lib/python3.5/site-packages/sklearn/calibration.py:415: RuntimeWarning: overflow encountered in exp\n  E = np.exp(AB[0] * F + AB[1])\n/Users/maxwelllee54/anaconda/lib/python3.5/site-packages/sklearn/utils/validation.py:526: DataConversionWarning: A column-vector y was passed when a 1d array was expected. Please change the shape of y to (n_samples, ), for example using ravel().\n  y = column_or_1d(y, warn=True)\n"
     ]
    },
    {
     "name": "stdout",
     "output_type": "stream",
     "text": [
      "0.593646258182 \t\t 33 \t\t 26\n"
     ]
    },
    {
     "name": "stderr",
     "output_type": "stream",
     "text": [
      "/Users/maxwelllee54/anaconda/lib/python3.5/site-packages/sklearn/calibration.py:415: RuntimeWarning: overflow encountered in exp\n  E = np.exp(AB[0] * F + AB[1])\n/Users/maxwelllee54/anaconda/lib/python3.5/site-packages/sklearn/calibration.py:425: RuntimeWarning: overflow encountered in exp\n  E = np.exp(AB[0] * F + AB[1])\n/Users/maxwelllee54/anaconda/lib/python3.5/site-packages/sklearn/calibration.py:427: RuntimeWarning: invalid value encountered in multiply\n  TEP_minus_T1P = P * (T * E - T1)\n/Users/maxwelllee54/anaconda/lib/python3.5/site-packages/sklearn/calibration.py:415: RuntimeWarning: overflow encountered in exp\n  E = np.exp(AB[0] * F + AB[1])\n/Users/maxwelllee54/anaconda/lib/python3.5/site-packages/sklearn/utils/validation.py:526: DataConversionWarning: A column-vector y was passed when a 1d array was expected. Please change the shape of y to (n_samples, ), for example using ravel().\n  y = column_or_1d(y, warn=True)\n"
     ]
    },
    {
     "name": "stdout",
     "output_type": "stream",
     "text": [
      "0.591137302112 \t\t 33 \t\t 27\n"
     ]
    },
    {
     "name": "stderr",
     "output_type": "stream",
     "text": [
      "/Users/maxwelllee54/anaconda/lib/python3.5/site-packages/sklearn/calibration.py:415: RuntimeWarning: overflow encountered in exp\n  E = np.exp(AB[0] * F + AB[1])\n/Users/maxwelllee54/anaconda/lib/python3.5/site-packages/sklearn/calibration.py:425: RuntimeWarning: overflow encountered in exp\n  E = np.exp(AB[0] * F + AB[1])\n/Users/maxwelllee54/anaconda/lib/python3.5/site-packages/sklearn/calibration.py:427: RuntimeWarning: invalid value encountered in multiply\n  TEP_minus_T1P = P * (T * E - T1)\n/Users/maxwelllee54/anaconda/lib/python3.5/site-packages/sklearn/calibration.py:415: RuntimeWarning: overflow encountered in exp\n  E = np.exp(AB[0] * F + AB[1])\n/Users/maxwelllee54/anaconda/lib/python3.5/site-packages/sklearn/utils/validation.py:526: DataConversionWarning: A column-vector y was passed when a 1d array was expected. Please change the shape of y to (n_samples, ), for example using ravel().\n  y = column_or_1d(y, warn=True)\n"
     ]
    },
    {
     "name": "stdout",
     "output_type": "stream",
     "text": [
      "0.599228002522 \t\t 33 \t\t 28\n"
     ]
    },
    {
     "name": "stderr",
     "output_type": "stream",
     "text": [
      "/Users/maxwelllee54/anaconda/lib/python3.5/site-packages/sklearn/calibration.py:415: RuntimeWarning: overflow encountered in exp\n  E = np.exp(AB[0] * F + AB[1])\n/Users/maxwelllee54/anaconda/lib/python3.5/site-packages/sklearn/calibration.py:425: RuntimeWarning: overflow encountered in exp\n  E = np.exp(AB[0] * F + AB[1])\n/Users/maxwelllee54/anaconda/lib/python3.5/site-packages/sklearn/calibration.py:427: RuntimeWarning: invalid value encountered in multiply\n  TEP_minus_T1P = P * (T * E - T1)\n/Users/maxwelllee54/anaconda/lib/python3.5/site-packages/sklearn/calibration.py:415: RuntimeWarning: overflow encountered in exp\n  E = np.exp(AB[0] * F + AB[1])\n/Users/maxwelllee54/anaconda/lib/python3.5/site-packages/sklearn/utils/validation.py:526: DataConversionWarning: A column-vector y was passed when a 1d array was expected. Please change the shape of y to (n_samples, ), for example using ravel().\n  y = column_or_1d(y, warn=True)\n"
     ]
    },
    {
     "name": "stdout",
     "output_type": "stream",
     "text": [
      "0.599176164023 \t\t 33 \t\t 29\n"
     ]
    },
    {
     "name": "stderr",
     "output_type": "stream",
     "text": [
      "/Users/maxwelllee54/anaconda/lib/python3.5/site-packages/sklearn/calibration.py:415: RuntimeWarning: overflow encountered in exp\n  E = np.exp(AB[0] * F + AB[1])\n/Users/maxwelllee54/anaconda/lib/python3.5/site-packages/sklearn/calibration.py:425: RuntimeWarning: overflow encountered in exp\n  E = np.exp(AB[0] * F + AB[1])\n/Users/maxwelllee54/anaconda/lib/python3.5/site-packages/sklearn/calibration.py:427: RuntimeWarning: invalid value encountered in multiply\n  TEP_minus_T1P = P * (T * E - T1)\n/Users/maxwelllee54/anaconda/lib/python3.5/site-packages/sklearn/calibration.py:415: RuntimeWarning: overflow encountered in exp\n  E = np.exp(AB[0] * F + AB[1])\n/Users/maxwelllee54/anaconda/lib/python3.5/site-packages/sklearn/utils/validation.py:526: DataConversionWarning: A column-vector y was passed when a 1d array was expected. Please change the shape of y to (n_samples, ), for example using ravel().\n  y = column_or_1d(y, warn=True)\n"
     ]
    },
    {
     "name": "stdout",
     "output_type": "stream",
     "text": [
      "0.599327101681 \t\t 33 \t\t 30\n"
     ]
    },
    {
     "name": "stderr",
     "output_type": "stream",
     "text": [
      "/Users/maxwelllee54/anaconda/lib/python3.5/site-packages/sklearn/calibration.py:415: RuntimeWarning: overflow encountered in exp\n  E = np.exp(AB[0] * F + AB[1])\n/Users/maxwelllee54/anaconda/lib/python3.5/site-packages/sklearn/calibration.py:425: RuntimeWarning: overflow encountered in exp\n  E = np.exp(AB[0] * F + AB[1])\n/Users/maxwelllee54/anaconda/lib/python3.5/site-packages/sklearn/calibration.py:427: RuntimeWarning: invalid value encountered in multiply\n  TEP_minus_T1P = P * (T * E - T1)\n/Users/maxwelllee54/anaconda/lib/python3.5/site-packages/sklearn/calibration.py:415: RuntimeWarning: overflow encountered in exp\n  E = np.exp(AB[0] * F + AB[1])\n/Users/maxwelllee54/anaconda/lib/python3.5/site-packages/sklearn/utils/validation.py:526: DataConversionWarning: A column-vector y was passed when a 1d array was expected. Please change the shape of y to (n_samples, ), for example using ravel().\n  y = column_or_1d(y, warn=True)\n"
     ]
    },
    {
     "name": "stdout",
     "output_type": "stream",
     "text": [
      "0.599258554276 \t\t 33 \t\t 31\n"
     ]
    },
    {
     "name": "stderr",
     "output_type": "stream",
     "text": [
      "/Users/maxwelllee54/anaconda/lib/python3.5/site-packages/sklearn/calibration.py:415: RuntimeWarning: overflow encountered in exp\n  E = np.exp(AB[0] * F + AB[1])\n/Users/maxwelllee54/anaconda/lib/python3.5/site-packages/sklearn/calibration.py:425: RuntimeWarning: overflow encountered in exp\n  E = np.exp(AB[0] * F + AB[1])\n/Users/maxwelllee54/anaconda/lib/python3.5/site-packages/sklearn/calibration.py:427: RuntimeWarning: invalid value encountered in multiply\n  TEP_minus_T1P = P * (T * E - T1)\n/Users/maxwelllee54/anaconda/lib/python3.5/site-packages/sklearn/calibration.py:415: RuntimeWarning: overflow encountered in exp\n  E = np.exp(AB[0] * F + AB[1])\n/Users/maxwelllee54/anaconda/lib/python3.5/site-packages/sklearn/utils/validation.py:526: DataConversionWarning: A column-vector y was passed when a 1d array was expected. Please change the shape of y to (n_samples, ), for example using ravel().\n  y = column_or_1d(y, warn=True)\n/Users/maxwelllee54/anaconda/lib/python3.5/site-packages/sklearn/utils/validation.py:526: DataConversionWarning: A column-vector y was passed when a 1d array was expected. Please change the shape of y to (n_samples, ), for example using ravel().\n  y = column_or_1d(y, warn=True)\n"
     ]
    },
    {
     "name": "stdout",
     "output_type": "stream",
     "text": [
      "0.597057540489 \t\t 33 \t\t 32\n0.798536989729 \t\t 34 \t\t 3\n"
     ]
    },
    {
     "name": "stdout",
     "output_type": "stream",
     "text": [
      "0.792606706752 \t\t 34 \t\t 4\n0.570522715796 \t\t 34 \t\t 5\n"
     ]
    },
    {
     "name": "stderr",
     "output_type": "stream",
     "text": [
      "/Users/maxwelllee54/anaconda/lib/python3.5/site-packages/sklearn/utils/validation.py:526: DataConversionWarning: A column-vector y was passed when a 1d array was expected. Please change the shape of y to (n_samples, ), for example using ravel().\n  y = column_or_1d(y, warn=True)\n/Users/maxwelllee54/anaconda/lib/python3.5/site-packages/sklearn/calibration.py:415: RuntimeWarning: overflow encountered in exp\n  E = np.exp(AB[0] * F + AB[1])\n/Users/maxwelllee54/anaconda/lib/python3.5/site-packages/sklearn/calibration.py:425: RuntimeWarning: overflow encountered in exp\n  E = np.exp(AB[0] * F + AB[1])\n/Users/maxwelllee54/anaconda/lib/python3.5/site-packages/sklearn/calibration.py:427: RuntimeWarning: invalid value encountered in multiply\n  TEP_minus_T1P = P * (T * E - T1)\n/Users/maxwelllee54/anaconda/lib/python3.5/site-packages/sklearn/calibration.py:415: RuntimeWarning: overflow encountered in exp\n  E = np.exp(AB[0] * F + AB[1])\n/Users/maxwelllee54/anaconda/lib/python3.5/site-packages/sklearn/utils/validation.py:526: DataConversionWarning: A column-vector y was passed when a 1d array was expected. Please change the shape of y to (n_samples, ), for example using ravel().\n  y = column_or_1d(y, warn=True)\n"
     ]
    },
    {
     "name": "stderr",
     "output_type": "stream",
     "text": [
      "/Users/maxwelllee54/anaconda/lib/python3.5/site-packages/sklearn/calibration.py:415: RuntimeWarning: overflow encountered in exp\n  E = np.exp(AB[0] * F + AB[1])\n/Users/maxwelllee54/anaconda/lib/python3.5/site-packages/sklearn/calibration.py:425: RuntimeWarning: overflow encountered in exp\n  E = np.exp(AB[0] * F + AB[1])\n/Users/maxwelllee54/anaconda/lib/python3.5/site-packages/sklearn/calibration.py:427: RuntimeWarning: invalid value encountered in multiply\n  TEP_minus_T1P = P * (T * E - T1)\n/Users/maxwelllee54/anaconda/lib/python3.5/site-packages/sklearn/calibration.py:415: RuntimeWarning: overflow encountered in exp\n  E = np.exp(AB[0] * F + AB[1])\n/Users/maxwelllee54/anaconda/lib/python3.5/site-packages/sklearn/utils/validation.py:526: DataConversionWarning: A column-vector y was passed when a 1d array was expected. Please change the shape of y to (n_samples, ), for example using ravel().\n  y = column_or_1d(y, warn=True)\n/Users/maxwelllee54/anaconda/lib/python3.5/site-packages/sklearn/calibration.py:415: RuntimeWarning: overflow encountered in exp\n  E = np.exp(AB[0] * F + AB[1])\n/Users/maxwelllee54/anaconda/lib/python3.5/site-packages/sklearn/calibration.py:425: RuntimeWarning: overflow encountered in exp\n  E = np.exp(AB[0] * F + AB[1])\n/Users/maxwelllee54/anaconda/lib/python3.5/site-packages/sklearn/calibration.py:427: RuntimeWarning: invalid value encountered in multiply\n  TEP_minus_T1P = P * (T * E - T1)\n/Users/maxwelllee54/anaconda/lib/python3.5/site-packages/sklearn/calibration.py:415: RuntimeWarning: overflow encountered in exp\n  E = np.exp(AB[0] * F + AB[1])\n/Users/maxwelllee54/anaconda/lib/python3.5/site-packages/sklearn/utils/validation.py:526: DataConversionWarning: A column-vector y was passed when a 1d array was expected. Please change the shape of y to (n_samples, ), for example using ravel().\n  y = column_or_1d(y, warn=True)\n"
     ]
    },
    {
     "name": "stdout",
     "output_type": "stream",
     "text": [
      "0.580706712469 \t\t 34 \t\t 6\n0.577952605063 \t\t 34 \t\t 7\n"
     ]
    },
    {
     "name": "stderr",
     "output_type": "stream",
     "text": [
      "/Users/maxwelllee54/anaconda/lib/python3.5/site-packages/sklearn/calibration.py:415: RuntimeWarning: overflow encountered in exp\n  E = np.exp(AB[0] * F + AB[1])\n/Users/maxwelllee54/anaconda/lib/python3.5/site-packages/sklearn/calibration.py:425: RuntimeWarning: overflow encountered in exp\n  E = np.exp(AB[0] * F + AB[1])\n/Users/maxwelllee54/anaconda/lib/python3.5/site-packages/sklearn/calibration.py:427: RuntimeWarning: invalid value encountered in multiply\n  TEP_minus_T1P = P * (T * E - T1)\n/Users/maxwelllee54/anaconda/lib/python3.5/site-packages/sklearn/calibration.py:415: RuntimeWarning: overflow encountered in exp\n  E = np.exp(AB[0] * F + AB[1])\n/Users/maxwelllee54/anaconda/lib/python3.5/site-packages/sklearn/utils/validation.py:526: DataConversionWarning: A column-vector y was passed when a 1d array was expected. Please change the shape of y to (n_samples, ), for example using ravel().\n  y = column_or_1d(y, warn=True)\n/Users/maxwelllee54/anaconda/lib/python3.5/site-packages/sklearn/calibration.py:415: RuntimeWarning: overflow encountered in exp\n  E = np.exp(AB[0] * F + AB[1])\n/Users/maxwelllee54/anaconda/lib/python3.5/site-packages/sklearn/calibration.py:425: RuntimeWarning: overflow encountered in exp\n  E = np.exp(AB[0] * F + AB[1])\n/Users/maxwelllee54/anaconda/lib/python3.5/site-packages/sklearn/calibration.py:427: RuntimeWarning: invalid value encountered in multiply\n  TEP_minus_T1P = P * (T * E - T1)\n/Users/maxwelllee54/anaconda/lib/python3.5/site-packages/sklearn/calibration.py:415: RuntimeWarning: overflow encountered in exp\n  E = np.exp(AB[0] * F + AB[1])\n/Users/maxwelllee54/anaconda/lib/python3.5/site-packages/sklearn/utils/validation.py:526: DataConversionWarning: A column-vector y was passed when a 1d array was expected. Please change the shape of y to (n_samples, ), for example using ravel().\n  y = column_or_1d(y, warn=True)\n"
     ]
    },
    {
     "name": "stdout",
     "output_type": "stream",
     "text": [
      "0.600199565628 \t\t 34 \t\t 8\n0.588326960566 \t\t 34 \t\t 9\n"
     ]
    },
    {
     "name": "stderr",
     "output_type": "stream",
     "text": [
      "/Users/maxwelllee54/anaconda/lib/python3.5/site-packages/sklearn/calibration.py:415: RuntimeWarning: overflow encountered in exp\n  E = np.exp(AB[0] * F + AB[1])\n/Users/maxwelllee54/anaconda/lib/python3.5/site-packages/sklearn/calibration.py:425: RuntimeWarning: overflow encountered in exp\n  E = np.exp(AB[0] * F + AB[1])\n/Users/maxwelllee54/anaconda/lib/python3.5/site-packages/sklearn/calibration.py:427: RuntimeWarning: invalid value encountered in multiply\n  TEP_minus_T1P = P * (T * E - T1)\n/Users/maxwelllee54/anaconda/lib/python3.5/site-packages/sklearn/calibration.py:415: RuntimeWarning: overflow encountered in exp\n  E = np.exp(AB[0] * F + AB[1])\n/Users/maxwelllee54/anaconda/lib/python3.5/site-packages/sklearn/utils/validation.py:526: DataConversionWarning: A column-vector y was passed when a 1d array was expected. Please change the shape of y to (n_samples, ), for example using ravel().\n  y = column_or_1d(y, warn=True)\n/Users/maxwelllee54/anaconda/lib/python3.5/site-packages/sklearn/calibration.py:415: RuntimeWarning: overflow encountered in exp\n  E = np.exp(AB[0] * F + AB[1])\n/Users/maxwelllee54/anaconda/lib/python3.5/site-packages/sklearn/calibration.py:425: RuntimeWarning: overflow encountered in exp\n  E = np.exp(AB[0] * F + AB[1])\n/Users/maxwelllee54/anaconda/lib/python3.5/site-packages/sklearn/calibration.py:427: RuntimeWarning: invalid value encountered in multiply\n  TEP_minus_T1P = P * (T * E - T1)\n/Users/maxwelllee54/anaconda/lib/python3.5/site-packages/sklearn/calibration.py:415: RuntimeWarning: overflow encountered in exp\n  E = np.exp(AB[0] * F + AB[1])\n/Users/maxwelllee54/anaconda/lib/python3.5/site-packages/sklearn/utils/validation.py:526: DataConversionWarning: A column-vector y was passed when a 1d array was expected. Please change the shape of y to (n_samples, ), for example using ravel().\n  y = column_or_1d(y, warn=True)\n"
     ]
    },
    {
     "name": "stdout",
     "output_type": "stream",
     "text": [
      "0.549777223233 \t\t 34 \t\t 10\n0.5657537421 \t\t 34 \t\t 11\n"
     ]
    },
    {
     "name": "stderr",
     "output_type": "stream",
     "text": [
      "/Users/maxwelllee54/anaconda/lib/python3.5/site-packages/sklearn/calibration.py:415: RuntimeWarning: overflow encountered in exp\n  E = np.exp(AB[0] * F + AB[1])\n/Users/maxwelllee54/anaconda/lib/python3.5/site-packages/sklearn/calibration.py:425: RuntimeWarning: overflow encountered in exp\n  E = np.exp(AB[0] * F + AB[1])\n/Users/maxwelllee54/anaconda/lib/python3.5/site-packages/sklearn/calibration.py:427: RuntimeWarning: invalid value encountered in multiply\n  TEP_minus_T1P = P * (T * E - T1)\n/Users/maxwelllee54/anaconda/lib/python3.5/site-packages/sklearn/calibration.py:415: RuntimeWarning: overflow encountered in exp\n  E = np.exp(AB[0] * F + AB[1])\n/Users/maxwelllee54/anaconda/lib/python3.5/site-packages/sklearn/utils/validation.py:526: DataConversionWarning: A column-vector y was passed when a 1d array was expected. Please change the shape of y to (n_samples, ), for example using ravel().\n  y = column_or_1d(y, warn=True)\n/Users/maxwelllee54/anaconda/lib/python3.5/site-packages/sklearn/calibration.py:415: RuntimeWarning: overflow encountered in exp\n  E = np.exp(AB[0] * F + AB[1])\n/Users/maxwelllee54/anaconda/lib/python3.5/site-packages/sklearn/calibration.py:425: RuntimeWarning: overflow encountered in exp\n  E = np.exp(AB[0] * F + AB[1])\n/Users/maxwelllee54/anaconda/lib/python3.5/site-packages/sklearn/calibration.py:427: RuntimeWarning: invalid value encountered in multiply\n  TEP_minus_T1P = P * (T * E - T1)\n/Users/maxwelllee54/anaconda/lib/python3.5/site-packages/sklearn/calibration.py:415: RuntimeWarning: overflow encountered in exp\n  E = np.exp(AB[0] * F + AB[1])\n/Users/maxwelllee54/anaconda/lib/python3.5/site-packages/sklearn/utils/validation.py:526: DataConversionWarning: A column-vector y was passed when a 1d array was expected. Please change the shape of y to (n_samples, ), for example using ravel().\n  y = column_or_1d(y, warn=True)\n"
     ]
    },
    {
     "name": "stdout",
     "output_type": "stream",
     "text": [
      "0.565696252361 \t\t 34 \t\t 12\n0.564461963098 \t\t 34 \t\t 13\n"
     ]
    },
    {
     "name": "stderr",
     "output_type": "stream",
     "text": [
      "/Users/maxwelllee54/anaconda/lib/python3.5/site-packages/sklearn/calibration.py:415: RuntimeWarning: overflow encountered in exp\n  E = np.exp(AB[0] * F + AB[1])\n/Users/maxwelllee54/anaconda/lib/python3.5/site-packages/sklearn/calibration.py:425: RuntimeWarning: overflow encountered in exp\n  E = np.exp(AB[0] * F + AB[1])\n/Users/maxwelllee54/anaconda/lib/python3.5/site-packages/sklearn/calibration.py:427: RuntimeWarning: invalid value encountered in multiply\n  TEP_minus_T1P = P * (T * E - T1)\n/Users/maxwelllee54/anaconda/lib/python3.5/site-packages/sklearn/calibration.py:415: RuntimeWarning: overflow encountered in exp\n  E = np.exp(AB[0] * F + AB[1])\n/Users/maxwelllee54/anaconda/lib/python3.5/site-packages/sklearn/utils/validation.py:526: DataConversionWarning: A column-vector y was passed when a 1d array was expected. Please change the shape of y to (n_samples, ), for example using ravel().\n  y = column_or_1d(y, warn=True)\n/Users/maxwelllee54/anaconda/lib/python3.5/site-packages/sklearn/calibration.py:415: RuntimeWarning: overflow encountered in exp\n  E = np.exp(AB[0] * F + AB[1])\n/Users/maxwelllee54/anaconda/lib/python3.5/site-packages/sklearn/calibration.py:425: RuntimeWarning: overflow encountered in exp\n  E = np.exp(AB[0] * F + AB[1])\n/Users/maxwelllee54/anaconda/lib/python3.5/site-packages/sklearn/calibration.py:427: RuntimeWarning: invalid value encountered in multiply\n  TEP_minus_T1P = P * (T * E - T1)\n/Users/maxwelllee54/anaconda/lib/python3.5/site-packages/sklearn/calibration.py:415: RuntimeWarning: overflow encountered in exp\n  E = np.exp(AB[0] * F + AB[1])\n/Users/maxwelllee54/anaconda/lib/python3.5/site-packages/sklearn/utils/validation.py:526: DataConversionWarning: A column-vector y was passed when a 1d array was expected. Please change the shape of y to (n_samples, ), for example using ravel().\n  y = column_or_1d(y, warn=True)\n"
     ]
    },
    {
     "name": "stdout",
     "output_type": "stream",
     "text": [
      "0.566077655762 \t\t 34 \t\t 14\n0.570541440114 \t\t 34 \t\t 15\n"
     ]
    },
    {
     "name": "stderr",
     "output_type": "stream",
     "text": [
      "/Users/maxwelllee54/anaconda/lib/python3.5/site-packages/sklearn/calibration.py:415: RuntimeWarning: overflow encountered in exp\n  E = np.exp(AB[0] * F + AB[1])\n/Users/maxwelllee54/anaconda/lib/python3.5/site-packages/sklearn/calibration.py:425: RuntimeWarning: overflow encountered in exp\n  E = np.exp(AB[0] * F + AB[1])\n/Users/maxwelllee54/anaconda/lib/python3.5/site-packages/sklearn/calibration.py:427: RuntimeWarning: invalid value encountered in multiply\n  TEP_minus_T1P = P * (T * E - T1)\n/Users/maxwelllee54/anaconda/lib/python3.5/site-packages/sklearn/calibration.py:415: RuntimeWarning: overflow encountered in exp\n  E = np.exp(AB[0] * F + AB[1])\n/Users/maxwelllee54/anaconda/lib/python3.5/site-packages/sklearn/utils/validation.py:526: DataConversionWarning: A column-vector y was passed when a 1d array was expected. Please change the shape of y to (n_samples, ), for example using ravel().\n  y = column_or_1d(y, warn=True)\n/Users/maxwelllee54/anaconda/lib/python3.5/site-packages/sklearn/calibration.py:415: RuntimeWarning: overflow encountered in exp\n  E = np.exp(AB[0] * F + AB[1])\n/Users/maxwelllee54/anaconda/lib/python3.5/site-packages/sklearn/calibration.py:425: RuntimeWarning: overflow encountered in exp\n  E = np.exp(AB[0] * F + AB[1])\n/Users/maxwelllee54/anaconda/lib/python3.5/site-packages/sklearn/calibration.py:427: RuntimeWarning: invalid value encountered in multiply\n  TEP_minus_T1P = P * (T * E - T1)\n/Users/maxwelllee54/anaconda/lib/python3.5/site-packages/sklearn/calibration.py:415: RuntimeWarning: overflow encountered in exp\n  E = np.exp(AB[0] * F + AB[1])\n/Users/maxwelllee54/anaconda/lib/python3.5/site-packages/sklearn/utils/validation.py:526: DataConversionWarning: A column-vector y was passed when a 1d array was expected. Please change the shape of y to (n_samples, ), for example using ravel().\n  y = column_or_1d(y, warn=True)\n"
     ]
    },
    {
     "name": "stdout",
     "output_type": "stream",
     "text": [
      "0.573783474063 \t\t 34 \t\t 16\n0.574141582449 \t\t 34 \t\t 17\n"
     ]
    },
    {
     "name": "stderr",
     "output_type": "stream",
     "text": [
      "/Users/maxwelllee54/anaconda/lib/python3.5/site-packages/sklearn/calibration.py:415: RuntimeWarning: overflow encountered in exp\n  E = np.exp(AB[0] * F + AB[1])\n/Users/maxwelllee54/anaconda/lib/python3.5/site-packages/sklearn/calibration.py:425: RuntimeWarning: overflow encountered in exp\n  E = np.exp(AB[0] * F + AB[1])\n/Users/maxwelllee54/anaconda/lib/python3.5/site-packages/sklearn/calibration.py:427: RuntimeWarning: invalid value encountered in multiply\n  TEP_minus_T1P = P * (T * E - T1)\n/Users/maxwelllee54/anaconda/lib/python3.5/site-packages/sklearn/calibration.py:415: RuntimeWarning: overflow encountered in exp\n  E = np.exp(AB[0] * F + AB[1])\n/Users/maxwelllee54/anaconda/lib/python3.5/site-packages/sklearn/utils/validation.py:526: DataConversionWarning: A column-vector y was passed when a 1d array was expected. Please change the shape of y to (n_samples, ), for example using ravel().\n  y = column_or_1d(y, warn=True)\n/Users/maxwelllee54/anaconda/lib/python3.5/site-packages/sklearn/calibration.py:415: RuntimeWarning: overflow encountered in exp\n  E = np.exp(AB[0] * F + AB[1])\n/Users/maxwelllee54/anaconda/lib/python3.5/site-packages/sklearn/calibration.py:425: RuntimeWarning: overflow encountered in exp\n  E = np.exp(AB[0] * F + AB[1])\n/Users/maxwelllee54/anaconda/lib/python3.5/site-packages/sklearn/calibration.py:427: RuntimeWarning: invalid value encountered in multiply\n  TEP_minus_T1P = P * (T * E - T1)\n/Users/maxwelllee54/anaconda/lib/python3.5/site-packages/sklearn/calibration.py:415: RuntimeWarning: overflow encountered in exp\n  E = np.exp(AB[0] * F + AB[1])\n"
     ]
    },
    {
     "name": "stdout",
     "output_type": "stream",
     "text": [
      "0.577019664296 \t\t 34 \t\t 18\n0.58699580434 \t\t 34 \t\t 19\n"
     ]
    },
    {
     "name": "stderr",
     "output_type": "stream",
     "text": [
      "/Users/maxwelllee54/anaconda/lib/python3.5/site-packages/sklearn/utils/validation.py:526: DataConversionWarning: A column-vector y was passed when a 1d array was expected. Please change the shape of y to (n_samples, ), for example using ravel().\n  y = column_or_1d(y, warn=True)\n"
     ]
    },
    {
     "name": "stderr",
     "output_type": "stream",
     "text": [
      "/Users/maxwelllee54/anaconda/lib/python3.5/site-packages/sklearn/calibration.py:415: RuntimeWarning: overflow encountered in exp\n  E = np.exp(AB[0] * F + AB[1])\n/Users/maxwelllee54/anaconda/lib/python3.5/site-packages/sklearn/calibration.py:425: RuntimeWarning: overflow encountered in exp\n  E = np.exp(AB[0] * F + AB[1])\n/Users/maxwelllee54/anaconda/lib/python3.5/site-packages/sklearn/calibration.py:427: RuntimeWarning: invalid value encountered in multiply\n  TEP_minus_T1P = P * (T * E - T1)\n/Users/maxwelllee54/anaconda/lib/python3.5/site-packages/sklearn/calibration.py:415: RuntimeWarning: overflow encountered in exp\n  E = np.exp(AB[0] * F + AB[1])\n/Users/maxwelllee54/anaconda/lib/python3.5/site-packages/sklearn/utils/validation.py:526: DataConversionWarning: A column-vector y was passed when a 1d array was expected. Please change the shape of y to (n_samples, ), for example using ravel().\n  y = column_or_1d(y, warn=True)\n"
     ]
    },
    {
     "name": "stdout",
     "output_type": "stream",
     "text": [
      "0.595892555824 \t\t 34 \t\t 20\n"
     ]
    },
    {
     "name": "stderr",
     "output_type": "stream",
     "text": [
      "/Users/maxwelllee54/anaconda/lib/python3.5/site-packages/sklearn/calibration.py:415: RuntimeWarning: overflow encountered in exp\n  E = np.exp(AB[0] * F + AB[1])\n/Users/maxwelllee54/anaconda/lib/python3.5/site-packages/sklearn/calibration.py:425: RuntimeWarning: overflow encountered in exp\n  E = np.exp(AB[0] * F + AB[1])\n/Users/maxwelllee54/anaconda/lib/python3.5/site-packages/sklearn/calibration.py:427: RuntimeWarning: invalid value encountered in multiply\n  TEP_minus_T1P = P * (T * E - T1)\n/Users/maxwelllee54/anaconda/lib/python3.5/site-packages/sklearn/calibration.py:415: RuntimeWarning: overflow encountered in exp\n  E = np.exp(AB[0] * F + AB[1])\n/Users/maxwelllee54/anaconda/lib/python3.5/site-packages/sklearn/utils/validation.py:526: DataConversionWarning: A column-vector y was passed when a 1d array was expected. Please change the shape of y to (n_samples, ), for example using ravel().\n  y = column_or_1d(y, warn=True)\n"
     ]
    },
    {
     "name": "stdout",
     "output_type": "stream",
     "text": [
      "0.60759320761 \t\t 34 \t\t 21\n"
     ]
    },
    {
     "name": "stderr",
     "output_type": "stream",
     "text": [
      "/Users/maxwelllee54/anaconda/lib/python3.5/site-packages/sklearn/calibration.py:415: RuntimeWarning: overflow encountered in exp\n  E = np.exp(AB[0] * F + AB[1])\n/Users/maxwelllee54/anaconda/lib/python3.5/site-packages/sklearn/calibration.py:425: RuntimeWarning: overflow encountered in exp\n  E = np.exp(AB[0] * F + AB[1])\n/Users/maxwelllee54/anaconda/lib/python3.5/site-packages/sklearn/calibration.py:427: RuntimeWarning: invalid value encountered in multiply\n  TEP_minus_T1P = P * (T * E - T1)\n/Users/maxwelllee54/anaconda/lib/python3.5/site-packages/sklearn/calibration.py:415: RuntimeWarning: overflow encountered in exp\n  E = np.exp(AB[0] * F + AB[1])\n/Users/maxwelllee54/anaconda/lib/python3.5/site-packages/sklearn/utils/validation.py:526: DataConversionWarning: A column-vector y was passed when a 1d array was expected. Please change the shape of y to (n_samples, ), for example using ravel().\n  y = column_or_1d(y, warn=True)\n"
     ]
    },
    {
     "name": "stdout",
     "output_type": "stream",
     "text": [
      "0.607477251639 \t\t 34 \t\t 22\n"
     ]
    },
    {
     "name": "stderr",
     "output_type": "stream",
     "text": [
      "/Users/maxwelllee54/anaconda/lib/python3.5/site-packages/sklearn/calibration.py:415: RuntimeWarning: overflow encountered in exp\n  E = np.exp(AB[0] * F + AB[1])\n/Users/maxwelllee54/anaconda/lib/python3.5/site-packages/sklearn/calibration.py:425: RuntimeWarning: overflow encountered in exp\n  E = np.exp(AB[0] * F + AB[1])\n/Users/maxwelllee54/anaconda/lib/python3.5/site-packages/sklearn/calibration.py:427: RuntimeWarning: invalid value encountered in multiply\n  TEP_minus_T1P = P * (T * E - T1)\n/Users/maxwelllee54/anaconda/lib/python3.5/site-packages/sklearn/calibration.py:415: RuntimeWarning: overflow encountered in exp\n  E = np.exp(AB[0] * F + AB[1])\n/Users/maxwelllee54/anaconda/lib/python3.5/site-packages/sklearn/utils/validation.py:526: DataConversionWarning: A column-vector y was passed when a 1d array was expected. Please change the shape of y to (n_samples, ), for example using ravel().\n  y = column_or_1d(y, warn=True)\n"
     ]
    },
    {
     "name": "stdout",
     "output_type": "stream",
     "text": [
      "0.5968222934 \t\t 34 \t\t 23\n"
     ]
    },
    {
     "name": "stderr",
     "output_type": "stream",
     "text": [
      "/Users/maxwelllee54/anaconda/lib/python3.5/site-packages/sklearn/calibration.py:415: RuntimeWarning: overflow encountered in exp\n  E = np.exp(AB[0] * F + AB[1])\n/Users/maxwelllee54/anaconda/lib/python3.5/site-packages/sklearn/calibration.py:425: RuntimeWarning: overflow encountered in exp\n  E = np.exp(AB[0] * F + AB[1])\n/Users/maxwelllee54/anaconda/lib/python3.5/site-packages/sklearn/calibration.py:427: RuntimeWarning: invalid value encountered in multiply\n  TEP_minus_T1P = P * (T * E - T1)\n/Users/maxwelllee54/anaconda/lib/python3.5/site-packages/sklearn/calibration.py:415: RuntimeWarning: overflow encountered in exp\n  E = np.exp(AB[0] * F + AB[1])\n/Users/maxwelllee54/anaconda/lib/python3.5/site-packages/sklearn/utils/validation.py:526: DataConversionWarning: A column-vector y was passed when a 1d array was expected. Please change the shape of y to (n_samples, ), for example using ravel().\n  y = column_or_1d(y, warn=True)\n"
     ]
    },
    {
     "name": "stdout",
     "output_type": "stream",
     "text": [
      "0.60928358751 \t\t 34 \t\t 24\n"
     ]
    },
    {
     "name": "stderr",
     "output_type": "stream",
     "text": [
      "/Users/maxwelllee54/anaconda/lib/python3.5/site-packages/sklearn/calibration.py:415: RuntimeWarning: overflow encountered in exp\n  E = np.exp(AB[0] * F + AB[1])\n/Users/maxwelllee54/anaconda/lib/python3.5/site-packages/sklearn/calibration.py:425: RuntimeWarning: overflow encountered in exp\n  E = np.exp(AB[0] * F + AB[1])\n/Users/maxwelllee54/anaconda/lib/python3.5/site-packages/sklearn/calibration.py:427: RuntimeWarning: invalid value encountered in multiply\n  TEP_minus_T1P = P * (T * E - T1)\n/Users/maxwelllee54/anaconda/lib/python3.5/site-packages/sklearn/calibration.py:415: RuntimeWarning: overflow encountered in exp\n  E = np.exp(AB[0] * F + AB[1])\n/Users/maxwelllee54/anaconda/lib/python3.5/site-packages/sklearn/utils/validation.py:526: DataConversionWarning: A column-vector y was passed when a 1d array was expected. Please change the shape of y to (n_samples, ), for example using ravel().\n  y = column_or_1d(y, warn=True)\n"
     ]
    },
    {
     "name": "stdout",
     "output_type": "stream",
     "text": [
      "0.610244091159 \t\t 34 \t\t 25\n"
     ]
    },
    {
     "name": "stderr",
     "output_type": "stream",
     "text": [
      "/Users/maxwelllee54/anaconda/lib/python3.5/site-packages/sklearn/calibration.py:415: RuntimeWarning: overflow encountered in exp\n  E = np.exp(AB[0] * F + AB[1])\n/Users/maxwelllee54/anaconda/lib/python3.5/site-packages/sklearn/calibration.py:425: RuntimeWarning: overflow encountered in exp\n  E = np.exp(AB[0] * F + AB[1])\n/Users/maxwelllee54/anaconda/lib/python3.5/site-packages/sklearn/calibration.py:427: RuntimeWarning: invalid value encountered in multiply\n  TEP_minus_T1P = P * (T * E - T1)\n/Users/maxwelllee54/anaconda/lib/python3.5/site-packages/sklearn/calibration.py:415: RuntimeWarning: overflow encountered in exp\n  E = np.exp(AB[0] * F + AB[1])\n/Users/maxwelllee54/anaconda/lib/python3.5/site-packages/sklearn/utils/validation.py:526: DataConversionWarning: A column-vector y was passed when a 1d array was expected. Please change the shape of y to (n_samples, ), for example using ravel().\n  y = column_or_1d(y, warn=True)\n"
     ]
    },
    {
     "name": "stdout",
     "output_type": "stream",
     "text": [
      "0.593646269695 \t\t 34 \t\t 26\n"
     ]
    },
    {
     "name": "stderr",
     "output_type": "stream",
     "text": [
      "/Users/maxwelllee54/anaconda/lib/python3.5/site-packages/sklearn/calibration.py:415: RuntimeWarning: overflow encountered in exp\n  E = np.exp(AB[0] * F + AB[1])\n/Users/maxwelllee54/anaconda/lib/python3.5/site-packages/sklearn/calibration.py:425: RuntimeWarning: overflow encountered in exp\n  E = np.exp(AB[0] * F + AB[1])\n/Users/maxwelllee54/anaconda/lib/python3.5/site-packages/sklearn/calibration.py:427: RuntimeWarning: invalid value encountered in multiply\n  TEP_minus_T1P = P * (T * E - T1)\n/Users/maxwelllee54/anaconda/lib/python3.5/site-packages/sklearn/calibration.py:415: RuntimeWarning: overflow encountered in exp\n  E = np.exp(AB[0] * F + AB[1])\n/Users/maxwelllee54/anaconda/lib/python3.5/site-packages/sklearn/utils/validation.py:526: DataConversionWarning: A column-vector y was passed when a 1d array was expected. Please change the shape of y to (n_samples, ), for example using ravel().\n  y = column_or_1d(y, warn=True)\n"
     ]
    },
    {
     "name": "stdout",
     "output_type": "stream",
     "text": [
      "0.591137548616 \t\t 34 \t\t 27\n"
     ]
    },
    {
     "name": "stderr",
     "output_type": "stream",
     "text": [
      "/Users/maxwelllee54/anaconda/lib/python3.5/site-packages/sklearn/calibration.py:415: RuntimeWarning: overflow encountered in exp\n  E = np.exp(AB[0] * F + AB[1])\n/Users/maxwelllee54/anaconda/lib/python3.5/site-packages/sklearn/calibration.py:425: RuntimeWarning: overflow encountered in exp\n  E = np.exp(AB[0] * F + AB[1])\n/Users/maxwelllee54/anaconda/lib/python3.5/site-packages/sklearn/calibration.py:427: RuntimeWarning: invalid value encountered in multiply\n  TEP_minus_T1P = P * (T * E - T1)\n/Users/maxwelllee54/anaconda/lib/python3.5/site-packages/sklearn/calibration.py:415: RuntimeWarning: overflow encountered in exp\n  E = np.exp(AB[0] * F + AB[1])\n/Users/maxwelllee54/anaconda/lib/python3.5/site-packages/sklearn/utils/validation.py:526: DataConversionWarning: A column-vector y was passed when a 1d array was expected. Please change the shape of y to (n_samples, ), for example using ravel().\n  y = column_or_1d(y, warn=True)\n"
     ]
    },
    {
     "name": "stdout",
     "output_type": "stream",
     "text": [
      "0.599229136557 \t\t 34 \t\t 28\n"
     ]
    },
    {
     "name": "stderr",
     "output_type": "stream",
     "text": [
      "/Users/maxwelllee54/anaconda/lib/python3.5/site-packages/sklearn/calibration.py:415: RuntimeWarning: overflow encountered in exp\n  E = np.exp(AB[0] * F + AB[1])\n/Users/maxwelllee54/anaconda/lib/python3.5/site-packages/sklearn/calibration.py:425: RuntimeWarning: overflow encountered in exp\n  E = np.exp(AB[0] * F + AB[1])\n/Users/maxwelllee54/anaconda/lib/python3.5/site-packages/sklearn/calibration.py:427: RuntimeWarning: invalid value encountered in multiply\n  TEP_minus_T1P = P * (T * E - T1)\n/Users/maxwelllee54/anaconda/lib/python3.5/site-packages/sklearn/calibration.py:415: RuntimeWarning: overflow encountered in exp\n  E = np.exp(AB[0] * F + AB[1])\n/Users/maxwelllee54/anaconda/lib/python3.5/site-packages/sklearn/utils/validation.py:526: DataConversionWarning: A column-vector y was passed when a 1d array was expected. Please change the shape of y to (n_samples, ), for example using ravel().\n  y = column_or_1d(y, warn=True)\n"
     ]
    },
    {
     "name": "stdout",
     "output_type": "stream",
     "text": [
      "0.599176164249 \t\t 34 \t\t 29\n"
     ]
    },
    {
     "name": "stderr",
     "output_type": "stream",
     "text": [
      "/Users/maxwelllee54/anaconda/lib/python3.5/site-packages/sklearn/calibration.py:415: RuntimeWarning: overflow encountered in exp\n  E = np.exp(AB[0] * F + AB[1])\n/Users/maxwelllee54/anaconda/lib/python3.5/site-packages/sklearn/calibration.py:425: RuntimeWarning: overflow encountered in exp\n  E = np.exp(AB[0] * F + AB[1])\n/Users/maxwelllee54/anaconda/lib/python3.5/site-packages/sklearn/calibration.py:427: RuntimeWarning: invalid value encountered in multiply\n  TEP_minus_T1P = P * (T * E - T1)\n/Users/maxwelllee54/anaconda/lib/python3.5/site-packages/sklearn/calibration.py:415: RuntimeWarning: overflow encountered in exp\n  E = np.exp(AB[0] * F + AB[1])\n/Users/maxwelllee54/anaconda/lib/python3.5/site-packages/sklearn/utils/validation.py:526: DataConversionWarning: A column-vector y was passed when a 1d array was expected. Please change the shape of y to (n_samples, ), for example using ravel().\n  y = column_or_1d(y, warn=True)\n"
     ]
    },
    {
     "name": "stdout",
     "output_type": "stream",
     "text": [
      "0.599327114562 \t\t 34 \t\t 30\n"
     ]
    },
    {
     "name": "stderr",
     "output_type": "stream",
     "text": [
      "/Users/maxwelllee54/anaconda/lib/python3.5/site-packages/sklearn/calibration.py:415: RuntimeWarning: overflow encountered in exp\n  E = np.exp(AB[0] * F + AB[1])\n/Users/maxwelllee54/anaconda/lib/python3.5/site-packages/sklearn/calibration.py:425: RuntimeWarning: overflow encountered in exp\n  E = np.exp(AB[0] * F + AB[1])\n/Users/maxwelllee54/anaconda/lib/python3.5/site-packages/sklearn/calibration.py:427: RuntimeWarning: invalid value encountered in multiply\n  TEP_minus_T1P = P * (T * E - T1)\n/Users/maxwelllee54/anaconda/lib/python3.5/site-packages/sklearn/calibration.py:415: RuntimeWarning: overflow encountered in exp\n  E = np.exp(AB[0] * F + AB[1])\n/Users/maxwelllee54/anaconda/lib/python3.5/site-packages/sklearn/utils/validation.py:526: DataConversionWarning: A column-vector y was passed when a 1d array was expected. Please change the shape of y to (n_samples, ), for example using ravel().\n  y = column_or_1d(y, warn=True)\n"
     ]
    },
    {
     "name": "stdout",
     "output_type": "stream",
     "text": [
      "0.599257609916 \t\t 34 \t\t 31\n"
     ]
    },
    {
     "name": "stderr",
     "output_type": "stream",
     "text": [
      "/Users/maxwelllee54/anaconda/lib/python3.5/site-packages/sklearn/calibration.py:415: RuntimeWarning: overflow encountered in exp\n  E = np.exp(AB[0] * F + AB[1])\n/Users/maxwelllee54/anaconda/lib/python3.5/site-packages/sklearn/calibration.py:425: RuntimeWarning: overflow encountered in exp\n  E = np.exp(AB[0] * F + AB[1])\n/Users/maxwelllee54/anaconda/lib/python3.5/site-packages/sklearn/calibration.py:427: RuntimeWarning: invalid value encountered in multiply\n  TEP_minus_T1P = P * (T * E - T1)\n/Users/maxwelllee54/anaconda/lib/python3.5/site-packages/sklearn/calibration.py:415: RuntimeWarning: overflow encountered in exp\n  E = np.exp(AB[0] * F + AB[1])\n/Users/maxwelllee54/anaconda/lib/python3.5/site-packages/sklearn/utils/validation.py:526: DataConversionWarning: A column-vector y was passed when a 1d array was expected. Please change the shape of y to (n_samples, ), for example using ravel().\n  y = column_or_1d(y, warn=True)\n"
     ]
    },
    {
     "name": "stdout",
     "output_type": "stream",
     "text": [
      "0.597057540489 \t\t 34 \t\t 32\n"
     ]
    },
    {
     "name": "stdout",
     "output_type": "stream",
     "text": [
      "0.59704703603 \t\t 34 \t\t 33\n"
     ]
    },
    {
     "name": "stderr",
     "output_type": "stream",
     "text": [
      "/Users/maxwelllee54/anaconda/lib/python3.5/site-packages/sklearn/calibration.py:415: RuntimeWarning: overflow encountered in exp\n  E = np.exp(AB[0] * F + AB[1])\n/Users/maxwelllee54/anaconda/lib/python3.5/site-packages/sklearn/calibration.py:425: RuntimeWarning: overflow encountered in exp\n  E = np.exp(AB[0] * F + AB[1])\n/Users/maxwelllee54/anaconda/lib/python3.5/site-packages/sklearn/calibration.py:427: RuntimeWarning: invalid value encountered in multiply\n  TEP_minus_T1P = P * (T * E - T1)\n/Users/maxwelllee54/anaconda/lib/python3.5/site-packages/sklearn/calibration.py:415: RuntimeWarning: overflow encountered in exp\n  E = np.exp(AB[0] * F + AB[1])\n"
     ]
    }
   ],
   "source": [
    "from sklearn import linear_model\n",
    "from sklearn.calibration import CalibratedClassifierCV\n",
    "from sklearn.metrics import log_loss\n",
    "from sklearn.pipeline import make_pipeline\n",
    "from sklearn.decomposition import PCA\n",
    "from sklearn.model_selection import train_test_split\n",
    "\n",
    "testResult = list()\n",
    "\n",
    "for i in range(10,35):\n",
    "    columns = list(X.columns[np.argsort(f)[-i:]])\n",
    "    newFeatures = data.loc[:, columns]\n",
    "    X_new = newFeatures\n",
    "    y_new = results.loc[:, 'result']\n",
    "    \n",
    "    X_train = pd.DataFrame()\n",
    "    X_test = pd.DataFrame()\n",
    "    y_train = pd.DataFrame()\n",
    "    y_test = pd.DataFrame()\n",
    "    \n",
    "    for year in range(2002, 2016):\n",
    "        X_train = pd.concat([X_train, X.loc[results.Season == year]])\n",
    "        y_train = pd.concat([y_train, y.loc[results.Season == year]])\n",
    "    \n",
    "    for year in range(2016, 2017):\n",
    "        X_test = pd.concat([X_test, X.loc[results.Season == year]])\n",
    "        y_test = pd.concat([y_test, y.loc[results.Season == year]])\n",
    "    \n",
    "    \n",
    "    \n",
    "    #X_train, X_test, y_train, y_test = train_test_split(newFeatures, y_new, test_size=0.1)\n",
    "        \n",
    "    X_valid = X_train.copy()\n",
    "    y_valid = y_train.copy()\n",
    "    \n",
    "    clf = linear_model.LogisticRegressionCV(\n",
    "            Cs=2,#list(np.power(10.0, np.arange(-10,10))), \n",
    "            penalty='l2',\n",
    "            cv=10,\n",
    "            solver='liblinear', max_iter=500, tol=1e-6, scoring='neg_log_loss')    \n",
    "        \n",
    "    for p in range(3,i):\n",
    "        pca = PCA(p)\n",
    "        \n",
    "        pipeline = make_pipeline(pca, clf)\n",
    "        pipeline.fit(X_train, y_train)\n",
    "        \n",
    "        sig_clf = CalibratedClassifierCV(pipeline, method=\"sigmoid\", cv='prefit')            \n",
    "        sig_clf.fit(X_valid, y_valid.values.ravel())\n",
    "            \n",
    "        y_pred = sig_clf.predict_proba(X_test)\n",
    "        logLoss = log_loss(y_true=y_test, y_pred=y_pred)\n",
    "            \n",
    "        print(logLoss, '\\t\\t', i, '\\t\\t', p)\n",
    "            \n",
    "        testResult.append([logLoss, i, p])"
   ]
  },
  {
   "cell_type": "code",
   "execution_count": 4,
   "metadata": {},
   "outputs": [],
   "source": [
    "m = pd.DataFrame(testResult, columns=['log_loss', 'no_predictor', 'no_pca'])\n",
    "m.to_csv('log_loss_matrix3.csv')"
   ]
  },
  {
   "cell_type": "code",
   "execution_count": 10,
   "metadata": {},
   "outputs": [],
   "source": [
    "m = pd.read_csv('log_loss_matrix.csv').iloc[:,1:]"
   ]
  },
  {
   "cell_type": "code",
   "execution_count": 12,
   "metadata": {},
   "outputs": [],
   "source": [
    "import matplotlib.projections as proj\n",
    "from matplotlib.colors import colorConverter\n",
    "from mpl_toolkits.mplot3d.axis3d import Axis\n",
    "import matplotlib.pyplot as plt\n",
    "from mpl_toolkits.mplot3d import Axes3D\n",
    "\n",
    "\n",
    "class axis3d_custom(Axis):\n",
    "    def __init__(self, adir, v_intervalx, d_intervalx, axes, *args, **kwargs):\n",
    "        Axis.__init__(self, adir, v_intervalx, d_intervalx, axes, *args, **kwargs)\n",
    "        self.gridline_colors = []\n",
    "    def set_gridline_color(self, *gridline_info):\n",
    "        '''Gridline_info is a tuple containing the value of the gridline to change\n",
    "        and the color to change it to. A list of tuples may be used with the * operator.'''\n",
    "        self.gridline_colors.extend(gridline_info)\n",
    "    def draw(self, renderer):\n",
    "        # filter locations here so that no extra grid lines are drawn\n",
    "        Axis.draw(self, renderer)\n",
    "        which_gridlines = []\n",
    "        if self.gridline_colors:\n",
    "            locmin, locmax = self.get_view_interval()\n",
    "            if locmin > locmax:\n",
    "                locmin, locmax = locmax, locmin\n",
    "\n",
    "            # Rudimentary clipping\n",
    "            majorLocs = [loc for loc in self.major.locator() if\n",
    "                         locmin <= loc <= locmax]\n",
    "            for i, val in enumerate(majorLocs):\n",
    "                for colored_val, color in self.gridline_colors:\n",
    "                    if val == colored_val:\n",
    "                        which_gridlines.append((i, color))\n",
    "            colors = self.gridlines.get_colors()\n",
    "            for val, color in which_gridlines:\n",
    "                colors[val] = colorConverter.to_rgba(color)\n",
    "            self.gridlines.set_color(colors)\n",
    "            self.gridlines.draw(renderer, project=True)\n",
    "\n",
    "class XAxis(axis3d_custom):\n",
    "    def get_data_interval(self):\n",
    "        'return the Interval instance for this axis data limits'\n",
    "        return self.axes.xy_dataLim.intervalx\n",
    "\n",
    "class YAxis(axis3d_custom):\n",
    "    def get_data_interval(self):\n",
    "        'return the Interval instance for this axis data limits'\n",
    "        return self.axes.xy_dataLim.intervaly\n",
    "\n",
    "class ZAxis(axis3d_custom):\n",
    "    def get_data_interval(self):\n",
    "        'return the Interval instance for this axis data limits'\n",
    "        return self.axes.zz_dataLim.intervalx\n",
    "\n",
    "class Axes3D_custom(Axes3D):\n",
    "    \"\"\"\n",
    "    3D axes object.\n",
    "    \"\"\"\n",
    "    name = '3d_custom'\n",
    "\n",
    "    def _init_axis(self):\n",
    "        '''Init 3D axes; overrides creation of regular X/Y axes'''\n",
    "        self.w_xaxis = XAxis('x', self.xy_viewLim.intervalx,\n",
    "                            self.xy_dataLim.intervalx, self)\n",
    "        self.xaxis = self.w_xaxis\n",
    "        self.w_yaxis = YAxis('y', self.xy_viewLim.intervaly,\n",
    "                            self.xy_dataLim.intervaly, self)\n",
    "        self.yaxis = self.w_yaxis\n",
    "        self.w_zaxis = ZAxis('z', self.zz_viewLim.intervalx,\n",
    "                            self.zz_dataLim.intervalx, self)\n",
    "        self.zaxis = self.w_zaxis\n",
    "\n",
    "        for ax in self.xaxis, self.yaxis, self.zaxis:\n",
    "            ax.init3d()\n",
    "proj.projection_registry.register(Axes3D_custom)"
   ]
  },
  {
   "cell_type": "code",
   "execution_count": 15,
   "metadata": {},
   "outputs": [],
   "source": [
    "import matplotlib.pyplot as plt\n",
    "from matplotlib.ticker import LinearLocator, FormatStrFormatter\n",
    "from mpl_toolkits.mplot3d import Axes3D\n",
    "from scipy.interpolate import griddata\n",
    "import scipy.ndimage\n",
    "from matplotlib.patches import FancyArrowPatch\n",
    "from mpl_toolkits.mplot3d import proj3d\n",
    "\n",
    "class Arrow3D(FancyArrowPatch):\n",
    "\n",
    "    def __init__(self, xs, ys, zs, *args, **kwargs):\n",
    "        FancyArrowPatch.__init__(self, (0, 0), (0, 0), *args, **kwargs)\n",
    "        self._verts3d = xs, ys, zs\n",
    "\n",
    "    def draw(self, renderer):\n",
    "        xs3d, ys3d, zs3d = self._verts3d\n",
    "        xs, ys, zs = proj3d.proj_transform(xs3d, ys3d, zs3d, renderer.M)\n",
    "        self.set_positions((xs[0], ys[0]), (xs[1], ys[1]))\n",
    "        FancyArrowPatch.draw(self, renderer)\n",
    "\n",
    "x1 = np.linspace(m['no_predictor'].min(), m['no_predictor'].max(), len(m['no_predictor'].unique()))\n",
    "y1 = np.linspace(m['no_pca'].min(), m['no_pca'].max(), len(m['no_pca'].unique()))\n",
    "\n",
    "x2, y2 = np.meshgrid(x1, y1)\n",
    "\n",
    "z2 = griddata((m['no_predictor'], m['no_pca']), m['log_loss'], (x2, y2), method='cubic')\n",
    "\n",
    "mask = np.isnan(z2)\n",
    "z2[mask] = np.interp(np.flatnonzero(mask), np.flatnonzero(~mask), z2[~mask])\n",
    "\n",
    "\n",
    "fig = plt.figure(figsize=(24,10))\n",
    "#ax = fig.gca(projection='3d')\n",
    "\n",
    "ax = fig.add_subplot(111, projection='3d_custom')\n",
    "\n",
    "surf = ax.plot_surface(x2, y2, z2, rstride=1, cstride=1, cmap='RdYlBu',\n",
    "                       linewidth=0, antialiased=True)\n",
    "ax.set_zlim(0.30, 0.80)\n",
    "\n",
    "ax.zaxis.set_major_locator(LinearLocator(10))\n",
    "ax.zaxis.set_major_formatter(FormatStrFormatter('%.02f'))\n",
    "\n",
    "a = Arrow3D([29, 30], [7, 10], [0.43, 0.465], mutation_scale=20,\n",
    "            lw=1, arrowstyle=\"simple\", color=\"r\")\n",
    "ax.add_artist(a)\n",
    "ax.text(28, 5, 0.42, \"Best LogLoss Result: 0.46\", color='red')\n",
    "ax.xaxis.set_gridline_color((30, 'blue'))\n",
    "ax.text(25, -5, 0.39, \"Predictor Number: 30\", color='blue')\n",
    "ax.yaxis.set_gridline_color((10, 'green'))\n",
    "ax.text(5, 9, 0.37, \"PCA Number: 10\", color='green')\n",
    "\n",
    "fig.colorbar(surf, shrink=0.5, aspect=5)\n",
    "plt.title('Predictor and PCA Grid Search on Best Log Loss Result', fontsize=20)\n",
    "\n",
    "plt.show()"
   ]
  },
  {
   "cell_type": "code",
   "execution_count": 31,
   "metadata": {},
   "outputs": [],
   "source": [
    ""
   ]
  },
  {
   "cell_type": "code",
   "execution_count": null,
   "metadata": {},
   "outputs": [],
   "source": [
    ""
   ]
  }
 ],
 "metadata": {
  "kernelspec": {
   "display_name": "Python 2",
   "language": "python",
   "name": "python2"
  },
  "language_info": {
   "codemirror_mode": {
    "name": "ipython",
    "version": 2.0
   },
   "file_extension": ".py",
   "mimetype": "text/x-python",
   "name": "python",
   "nbconvert_exporter": "python",
   "pygments_lexer": "ipython2",
   "version": "2.7.6"
  }
 },
 "nbformat": 4,
 "nbformat_minor": 0
}